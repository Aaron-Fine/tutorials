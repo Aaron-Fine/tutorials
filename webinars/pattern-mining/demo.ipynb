{
 "cells": [
  {
   "cell_type": "markdown",
   "metadata": {},
   "source": [
    "## Import raw data"
   ]
  },
  {
   "cell_type": "code",
   "execution_count": 1,
   "metadata": {
    "collapsed": true
   },
   "outputs": [],
   "source": [
    "import graphlab as gl\n",
    "gl.canvas.set_target('ipynb')"
   ]
  },
  {
   "cell_type": "code",
   "execution_count": 6,
   "metadata": {
    "collapsed": false
   },
   "outputs": [
    {
     "name": "stdout",
     "output_type": "stream",
     "text": [
      "PROGRESS: Downloading https://static.turi.com/datasets/extended-bakery/bakery_train.sf/dir_archive.ini to /var/tmp/graphlab-srikris/58364/b6c4ccbb-55d5-403e-b02b-ce9bd9dfa500.ini\n",
      "PROGRESS: Downloading https://static.turi.com/datasets/extended-bakery/bakery_train.sf/objects.bin to /var/tmp/graphlab-srikris/58364/0faea7c9-a42a-4eea-8a47-c076f95c84dc.bin\n",
      "PROGRESS: Downloading https://static.turi.com/datasets/extended-bakery/bakery_train.sf/m_a39fbefdaa582db5.frame_idx to /var/tmp/graphlab-srikris/58364/681f37b3-4c2c-4dde-b19b-85906a1837e2.frame_idx\n",
      "PROGRESS: Downloading https://static.turi.com/datasets/extended-bakery/bakery_train.sf/m_a39fbefdaa582db5.sidx to /var/tmp/graphlab-srikris/58364/65c0cb92-9bae-46b1-8658-c561488314fe.sidx\n"
     ]
    }
   ],
   "source": [
    "sf = gl.SFrame('https://static.turi.com/datasets/extended-bakery/bakery_train.sf')"
   ]
  },
  {
   "cell_type": "code",
   "execution_count": 7,
   "metadata": {
    "collapsed": false
   },
   "outputs": [
    {
     "name": "stdout",
     "output_type": "stream",
     "text": [
      "PROGRESS: Downloading https://static.turi.com/datasets/extended-bakery/bakery_train.sf/m_a39fbefdaa582db5.0000 to /var/tmp/graphlab-srikris/58364/e700f270-0e0c-4f9c-9089-9bb567176a03.0000\n"
     ]
    },
    {
     "data": {
      "text/html": [
       "<div style=\"max-height:1000px;max-width:1500px;overflow:auto;\"><table frame=\"box\" rules=\"cols\">\n",
       "    <tr>\n",
       "        <th style=\"padding-left: 1em; padding-right: 1em; text-align: center\">Receipt</th>\n",
       "        <th style=\"padding-left: 1em; padding-right: 1em; text-align: center\">SaleDate</th>\n",
       "        <th style=\"padding-left: 1em; padding-right: 1em; text-align: center\">EmpId</th>\n",
       "        <th style=\"padding-left: 1em; padding-right: 1em; text-align: center\">StoreNum</th>\n",
       "        <th style=\"padding-left: 1em; padding-right: 1em; text-align: center\">Quantity</th>\n",
       "        <th style=\"padding-left: 1em; padding-right: 1em; text-align: center\">Item</th>\n",
       "    </tr>\n",
       "    <tr>\n",
       "        <td style=\"padding-left: 1em; padding-right: 1em; text-align: center; vertical-align: top\">1</td>\n",
       "        <td style=\"padding-left: 1em; padding-right: 1em; text-align: center; vertical-align: top\">12-JAN-2000</td>\n",
       "        <td style=\"padding-left: 1em; padding-right: 1em; text-align: center; vertical-align: top\">20</td>\n",
       "        <td style=\"padding-left: 1em; padding-right: 1em; text-align: center; vertical-align: top\">20</td>\n",
       "        <td style=\"padding-left: 1em; padding-right: 1em; text-align: center; vertical-align: top\">1</td>\n",
       "        <td style=\"padding-left: 1em; padding-right: 1em; text-align: center; vertical-align: top\">GanacheCookie</td>\n",
       "    </tr>\n",
       "    <tr>\n",
       "        <td style=\"padding-left: 1em; padding-right: 1em; text-align: center; vertical-align: top\">1</td>\n",
       "        <td style=\"padding-left: 1em; padding-right: 1em; text-align: center; vertical-align: top\">12-JAN-2000</td>\n",
       "        <td style=\"padding-left: 1em; padding-right: 1em; text-align: center; vertical-align: top\">20</td>\n",
       "        <td style=\"padding-left: 1em; padding-right: 1em; text-align: center; vertical-align: top\">20</td>\n",
       "        <td style=\"padding-left: 1em; padding-right: 1em; text-align: center; vertical-align: top\">5</td>\n",
       "        <td style=\"padding-left: 1em; padding-right: 1em; text-align: center; vertical-align: top\">ApplePie</td>\n",
       "    </tr>\n",
       "    <tr>\n",
       "        <td style=\"padding-left: 1em; padding-right: 1em; text-align: center; vertical-align: top\">2</td>\n",
       "        <td style=\"padding-left: 1em; padding-right: 1em; text-align: center; vertical-align: top\">15-JAN-2000</td>\n",
       "        <td style=\"padding-left: 1em; padding-right: 1em; text-align: center; vertical-align: top\">35</td>\n",
       "        <td style=\"padding-left: 1em; padding-right: 1em; text-align: center; vertical-align: top\">10</td>\n",
       "        <td style=\"padding-left: 1em; padding-right: 1em; text-align: center; vertical-align: top\">1</td>\n",
       "        <td style=\"padding-left: 1em; padding-right: 1em; text-align: center; vertical-align: top\">CoffeeEclair</td>\n",
       "    </tr>\n",
       "    <tr>\n",
       "        <td style=\"padding-left: 1em; padding-right: 1em; text-align: center; vertical-align: top\">2</td>\n",
       "        <td style=\"padding-left: 1em; padding-right: 1em; text-align: center; vertical-align: top\">15-JAN-2000</td>\n",
       "        <td style=\"padding-left: 1em; padding-right: 1em; text-align: center; vertical-align: top\">35</td>\n",
       "        <td style=\"padding-left: 1em; padding-right: 1em; text-align: center; vertical-align: top\">10</td>\n",
       "        <td style=\"padding-left: 1em; padding-right: 1em; text-align: center; vertical-align: top\">3</td>\n",
       "        <td style=\"padding-left: 1em; padding-right: 1em; text-align: center; vertical-align: top\">ApplePie</td>\n",
       "    </tr>\n",
       "    <tr>\n",
       "        <td style=\"padding-left: 1em; padding-right: 1em; text-align: center; vertical-align: top\">2</td>\n",
       "        <td style=\"padding-left: 1em; padding-right: 1em; text-align: center; vertical-align: top\">15-JAN-2000</td>\n",
       "        <td style=\"padding-left: 1em; padding-right: 1em; text-align: center; vertical-align: top\">35</td>\n",
       "        <td style=\"padding-left: 1em; padding-right: 1em; text-align: center; vertical-align: top\">10</td>\n",
       "        <td style=\"padding-left: 1em; padding-right: 1em; text-align: center; vertical-align: top\">4</td>\n",
       "        <td style=\"padding-left: 1em; padding-right: 1em; text-align: center; vertical-align: top\">AlmondTwist</td>\n",
       "    </tr>\n",
       "    <tr>\n",
       "        <td style=\"padding-left: 1em; padding-right: 1em; text-align: center; vertical-align: top\">2</td>\n",
       "        <td style=\"padding-left: 1em; padding-right: 1em; text-align: center; vertical-align: top\">15-JAN-2000</td>\n",
       "        <td style=\"padding-left: 1em; padding-right: 1em; text-align: center; vertical-align: top\">35</td>\n",
       "        <td style=\"padding-left: 1em; padding-right: 1em; text-align: center; vertical-align: top\">10</td>\n",
       "        <td style=\"padding-left: 1em; padding-right: 1em; text-align: center; vertical-align: top\">3</td>\n",
       "        <td style=\"padding-left: 1em; padding-right: 1em; text-align: center; vertical-align: top\">HotCoffee</td>\n",
       "    </tr>\n",
       "    <tr>\n",
       "        <td style=\"padding-left: 1em; padding-right: 1em; text-align: center; vertical-align: top\">3</td>\n",
       "        <td style=\"padding-left: 1em; padding-right: 1em; text-align: center; vertical-align: top\">8-JAN-2000</td>\n",
       "        <td style=\"padding-left: 1em; padding-right: 1em; text-align: center; vertical-align: top\">13</td>\n",
       "        <td style=\"padding-left: 1em; padding-right: 1em; text-align: center; vertical-align: top\">13</td>\n",
       "        <td style=\"padding-left: 1em; padding-right: 1em; text-align: center; vertical-align: top\">5</td>\n",
       "        <td style=\"padding-left: 1em; padding-right: 1em; text-align: center; vertical-align: top\">OperaCake</td>\n",
       "    </tr>\n",
       "    <tr>\n",
       "        <td style=\"padding-left: 1em; padding-right: 1em; text-align: center; vertical-align: top\">3</td>\n",
       "        <td style=\"padding-left: 1em; padding-right: 1em; text-align: center; vertical-align: top\">8-JAN-2000</td>\n",
       "        <td style=\"padding-left: 1em; padding-right: 1em; text-align: center; vertical-align: top\">13</td>\n",
       "        <td style=\"padding-left: 1em; padding-right: 1em; text-align: center; vertical-align: top\">13</td>\n",
       "        <td style=\"padding-left: 1em; padding-right: 1em; text-align: center; vertical-align: top\">3</td>\n",
       "        <td style=\"padding-left: 1em; padding-right: 1em; text-align: center; vertical-align: top\">OrangeJuice</td>\n",
       "    </tr>\n",
       "    <tr>\n",
       "        <td style=\"padding-left: 1em; padding-right: 1em; text-align: center; vertical-align: top\">3</td>\n",
       "        <td style=\"padding-left: 1em; padding-right: 1em; text-align: center; vertical-align: top\">8-JAN-2000</td>\n",
       "        <td style=\"padding-left: 1em; padding-right: 1em; text-align: center; vertical-align: top\">13</td>\n",
       "        <td style=\"padding-left: 1em; padding-right: 1em; text-align: center; vertical-align: top\">13</td>\n",
       "        <td style=\"padding-left: 1em; padding-right: 1em; text-align: center; vertical-align: top\">3</td>\n",
       "        <td style=\"padding-left: 1em; padding-right: 1em; text-align: center; vertical-align: top\">CheeseCroissant</td>\n",
       "    </tr>\n",
       "    <tr>\n",
       "        <td style=\"padding-left: 1em; padding-right: 1em; text-align: center; vertical-align: top\">4</td>\n",
       "        <td style=\"padding-left: 1em; padding-right: 1em; text-align: center; vertical-align: top\">24-JAN-2000</td>\n",
       "        <td style=\"padding-left: 1em; padding-right: 1em; text-align: center; vertical-align: top\">16</td>\n",
       "        <td style=\"padding-left: 1em; padding-right: 1em; text-align: center; vertical-align: top\">16</td>\n",
       "        <td style=\"padding-left: 1em; padding-right: 1em; text-align: center; vertical-align: top\">1</td>\n",
       "        <td style=\"padding-left: 1em; padding-right: 1em; text-align: center; vertical-align: top\">TruffleCake</td>\n",
       "    </tr>\n",
       "</table>\n",
       "[212933 rows x 6 columns]<br/>Note: Only the head of the SFrame is printed.<br/>You can use print_rows(num_rows=m, num_columns=n) to print more rows and columns.\n",
       "</div>"
      ],
      "text/plain": [
       "Columns:\n",
       "\tReceipt\tint\n",
       "\tSaleDate\tstr\n",
       "\tEmpId\tint\n",
       "\tStoreNum\tint\n",
       "\tQuantity\tint\n",
       "\tItem\tstr\n",
       "\n",
       "Rows: 212933\n",
       "\n",
       "Data:\n",
       "+---------+-------------+-------+----------+----------+-----------------+\n",
       "| Receipt |   SaleDate  | EmpId | StoreNum | Quantity |       Item      |\n",
       "+---------+-------------+-------+----------+----------+-----------------+\n",
       "|    1    | 12-JAN-2000 |   20  |    20    |    1     |  GanacheCookie  |\n",
       "|    1    | 12-JAN-2000 |   20  |    20    |    5     |     ApplePie    |\n",
       "|    2    | 15-JAN-2000 |   35  |    10    |    1     |   CoffeeEclair  |\n",
       "|    2    | 15-JAN-2000 |   35  |    10    |    3     |     ApplePie    |\n",
       "|    2    | 15-JAN-2000 |   35  |    10    |    4     |   AlmondTwist   |\n",
       "|    2    | 15-JAN-2000 |   35  |    10    |    3     |    HotCoffee    |\n",
       "|    3    |  8-JAN-2000 |   13  |    13    |    5     |    OperaCake    |\n",
       "|    3    |  8-JAN-2000 |   13  |    13    |    3     |   OrangeJuice   |\n",
       "|    3    |  8-JAN-2000 |   13  |    13    |    3     | CheeseCroissant |\n",
       "|    4    | 24-JAN-2000 |   16  |    16    |    1     |   TruffleCake   |\n",
       "+---------+-------------+-------+----------+----------+-----------------+\n",
       "[212933 rows x 6 columns]\n",
       "Note: Only the head of the SFrame is printed.\n",
       "You can use print_rows(num_rows=m, num_columns=n) to print more rows and columns."
      ]
     },
     "execution_count": 7,
     "metadata": {},
     "output_type": "execute_result"
    }
   ],
   "source": [
    "sf"
   ]
  },
  {
   "cell_type": "code",
   "execution_count": 8,
   "metadata": {
    "collapsed": false
   },
   "outputs": [
    {
     "data": {
      "application/javascript": [
       "$(\"head\").append($(\"<link/>\").attr({\n",
       "  rel:  \"stylesheet\",\n",
       "  type: \"text/css\",\n",
       "  href: \"//cdnjs.cloudflare.com/ajax/libs/font-awesome/4.1.0/css/font-awesome.min.css\"\n",
       "}));\n",
       "$(\"head\").append($(\"<link/>\").attr({\n",
       "  rel:  \"stylesheet\",\n",
       "  type: \"text/css\",\n",
       "  href: \"//turi.com/files/canvas/1.6.1/css/canvas.css\"\n",
       "}));\n",
       "\n",
       "            (function(){\n",
       "\n",
       "                var e = null;\n",
       "                if (typeof element == 'undefined') {\n",
       "                    var scripts = document.getElementsByTagName('script');\n",
       "                    var thisScriptTag = scripts[scripts.length-1];\n",
       "                    var parentDiv = thisScriptTag.parentNode;\n",
       "                    e = document.createElement('div');\n",
       "                    parentDiv.appendChild(e);\n",
       "                } else {\n",
       "                    e = element[0];\n",
       "                }\n",
       "\n",
       "                if (typeof requirejs !== 'undefined') {\n",
       "                    // disable load timeout; ipython_app.js is large and can take a while to load.\n",
       "                    requirejs.config({waitSeconds: 0});\n",
       "                }\n",
       "\n",
       "                require(['//turi.com/files/canvas/1.6.1/js/ipython_app.js'], function(IPythonApp){\n",
       "                    var app = new IPythonApp();\n",
       "                    app.attachView('sarray','Categorical', {\"ipython\": true, \"sketch\": {\"complete\": true, \"numeric\": false, \"num_unique\": 50, \"num_undefined\": 0, \"progress\": 1.0, \"frequent_items\": {\"BerryTart\": {\"frequency\": 5087, \"value\": \"BerryTart\"}, \"LemonCookie\": {\"frequency\": 4131, \"value\": \"LemonCookie\"}, \"CheeseCroissant\": {\"frequency\": 4884, \"value\": \"CheeseCroissant\"}, \"OperaCake\": {\"frequency\": 4940, \"value\": \"OperaCake\"}, \"VanillaEclair\": {\"frequency\": 2532, \"value\": \"VanillaEclair\"}, \"TuileCookie\": {\"frequency\": 6011, \"value\": \"TuileCookie\"}, \"RaspberryCookie\": {\"frequency\": 4050, \"value\": \"RaspberryCookie\"}, \"ApricotCroissant\": {\"frequency\": 4990, \"value\": \"ApricotCroissant\"}, \"AlmondTart\": {\"frequency\": 2513, \"value\": \"AlmondTart\"}, \"BlueberryTart\": {\"frequency\": 4959, \"value\": \"BlueberryTart\"}, \"CoffeeEclair\": {\"frequency\": 6582, \"value\": \"CoffeeEclair\"}, \"ChocolateEclair\": {\"frequency\": 2540, \"value\": \"ChocolateEclair\"}, \"ChocolateTart\": {\"frequency\": 4401, \"value\": \"ChocolateTart\"}, \"GongolaisCookie\": {\"frequency\": 5437, \"value\": \"GongolaisCookie\"}, \"ApplePie\": {\"frequency\": 4622, \"value\": \"ApplePie\"}, \"SingleEspresso\": {\"frequency\": 4058, \"value\": \"SingleEspresso\"}, \"AppleTart\": {\"frequency\": 4111, \"value\": \"AppleTart\"}, \"LemonLemonade\": {\"frequency\": 4123, \"value\": \"LemonLemonade\"}, \"ApricotDanish\": {\"frequency\": 5582, \"value\": \"ApricotDanish\"}, \"CherryTart\": {\"frequency\": 5613, \"value\": \"CherryTart\"}, \"AlmondBear Claw\": {\"frequency\": 2549, \"value\": \"AlmondBear Claw\"}, \"VanillaMeringue\": {\"frequency\": 2564, \"value\": \"VanillaMeringue\"}, \"MarzipanCookie\": {\"frequency\": 5378, \"value\": \"MarzipanCookie\"}, \"CasinoCake\": {\"frequency\": 4511, \"value\": \"CasinoCake\"}, \"AppleDanish\": {\"frequency\": 4071, \"value\": \"AppleDanish\"}, \"AlmondTwist\": {\"frequency\": 4613, \"value\": \"AlmondTwist\"}, \"PecanTart\": {\"frequency\": 2580, \"value\": \"PecanTart\"}, \"GanacheCookie\": {\"frequency\": 2608, \"value\": \"GanacheCookie\"}, \"VanillaFrappuccino\": {\"frequency\": 4661, \"value\": \"VanillaFrappuccino\"}, \"RaspberryLemonade\": {\"frequency\": 4048, \"value\": \"RaspberryLemonade\"}, \"ChocolateCoffee\": {\"frequency\": 4953, \"value\": \"ChocolateCoffee\"}, \"ApricotTart\": {\"frequency\": 2538, \"value\": \"ApricotTart\"}, \"GreenTea\": {\"frequency\": 3779, \"value\": \"GreenTea\"}, \"OrangeJuice\": {\"frequency\": 5495, \"value\": \"OrangeJuice\"}, \"ChocolateCake\": {\"frequency\": 5030, \"value\": \"ChocolateCake\"}, \"StrawberryCake\": {\"frequency\": 5624, \"value\": \"StrawberryCake\"}, \"TruffleCake\": {\"frequency\": 4899, \"value\": \"TruffleCake\"}, \"NapoleonCake\": {\"frequency\": 5000, \"value\": \"NapoleonCake\"}, \"LemonTart\": {\"frequency\": 4566, \"value\": \"LemonTart\"}, \"HotCoffee\": {\"frequency\": 6131, \"value\": \"HotCoffee\"}, \"AppleCroissant\": {\"frequency\": 4031, \"value\": \"AppleCroissant\"}, \"BlackberryTart\": {\"frequency\": 4525, \"value\": \"BlackberryTart\"}, \"ChocolateMeringue\": {\"frequency\": 2503, \"value\": \"ChocolateMeringue\"}, \"LemonCake\": {\"frequency\": 5021, \"value\": \"LemonCake\"}, \"BottledWater\": {\"frequency\": 4550, \"value\": \"BottledWater\"}, \"ChocolateCroissant\": {\"frequency\": 2557, \"value\": \"ChocolateCroissant\"}, \"BlueberryDanish\": {\"frequency\": 2697, \"value\": \"BlueberryDanish\"}, \"WalnutCookie\": {\"frequency\": 4054, \"value\": \"WalnutCookie\"}, \"AlmondCroissant\": {\"frequency\": 2551, \"value\": \"AlmondCroissant\"}, \"CherrySoda\": {\"frequency\": 3680, \"value\": \"CherrySoda\"}}, \"size\": 212933}, \"selected_variable\": {\"name\": [\"<SArray>\"], \"dtype\": \"str\", \"view_component\": \"Categorical\", \"view_file\": \"sarray\", \"descriptives\": {\"rows\": 212933}, \"type\": \"SArray\", \"view_components\": [\"Categorical\"]}, \"histogram\": null}, e);\n",
       "                });\n",
       "            })();\n",
       "        "
      ]
     },
     "metadata": {},
     "output_type": "display_data"
    }
   ],
   "source": [
    "sf['Item'].show()"
   ]
  },
  {
   "cell_type": "markdown",
   "metadata": {},
   "source": [
    "## Find Patterns"
   ]
  },
  {
   "cell_type": "code",
   "execution_count": 9,
   "metadata": {
    "collapsed": false
   },
   "outputs": [
    {
     "name": "stdout",
     "output_type": "stream",
     "text": [
      "PROGRESS: Indexing complete. Found 50 unique items.\n",
      "PROGRESS: Preprocessing complete. Found 59999 unique transactions.\n",
      "PROGRESS: Building frequent pattern tree.\n",
      "PROGRESS: +-----------+----------------+------------+----------------------+------------------+\n",
      "PROGRESS: | Iteration | Num. Patterns  | Support    | Current Min Support  | Elapsed Time     |\n",
      "PROGRESS: +-----------+----------------+------------+----------------------+------------------+\n",
      "PROGRESS: | 0         | 0              | 6582       | 103                  | 1.006ms          |\n",
      "PROGRESS: | 1         | 0              | 6131       | 103                  | 1.409ms          |\n",
      "PROGRESS: | 2         | 1              | 6011       | 103                  | 1.724ms          |\n",
      "PROGRESS: | 3         | 3              | 5624       | 103                  | 2.161ms          |\n",
      "PROGRESS: | 4         | 6              | 5613       | 103                  | 2.694ms          |\n",
      "PROGRESS: | 5         | 10             | 5582       | 103                  | 3.14ms           |\n",
      "PROGRESS: | 6         | 15             | 5495       | 103                  | 3.686ms          |\n",
      "PROGRESS: | 7         | 21             | 5437       | 103                  | 4.109ms          |\n",
      "PROGRESS: | 8         | 28             | 5378       | 103                  | 4.453ms          |\n",
      "PROGRESS: | 9         | 38             | 5087       | 103                  | 4.971ms          |\n",
      "PROGRESS: | 10        | 48             | 5030       | 103                  | 5.631ms          |\n",
      "PROGRESS: | 11        | 59             | 5021       | 103                  | 6.232ms          |\n",
      "PROGRESS: | 12        | 71             | 5000       | 103                  | 6.86ms           |\n",
      "PROGRESS: | 13        | 83             | 4990       | 103                  | 7.59ms           |\n",
      "PROGRESS: | 14        | 97             | 4959       | 103                  | 8.532ms          |\n",
      "PROGRESS: | 15        | 100            | 4953       | 239                  | 9.555ms          |\n",
      "PROGRESS: | 16        | 100            | 4940       | 252                  | 10.74ms          |\n",
      "PROGRESS: | 17        | 100            | 4899       | 265                  | 11.826ms         |\n",
      "PROGRESS: | 18        | 100            | 4884       | 274                  | 13.175ms         |\n",
      "PROGRESS: | 19        | 100            | 4661       | 279                  | 14.334ms         |\n",
      "PROGRESS: | 20        | 100            | 4622       | 282                  | 15.054ms         |\n",
      "PROGRESS: | 21        | 100            | 4613       | 283                  | 15.772ms         |\n",
      "PROGRESS: | 22        | 100            | 4566       | 288                  | 16.797ms         |\n",
      "PROGRESS: | 23        | 100            | 4550       | 293                  | 17.895ms         |\n",
      "PROGRESS: | 24        | 100            | 4525       | 295                  | 19.002ms         |\n",
      "PROGRESS: | 25        | 100            | 4511       | 296                  | 19.925ms         |\n",
      "PROGRESS: | 26        | 100            | 4401       | 297                  | 20.986ms         |\n",
      "PROGRESS: | 27        | 100            | 4131       | 297                  | 22.021ms         |\n",
      "PROGRESS: | 28        | 100            | 4123       | 297                  | 22.813ms         |\n",
      "PROGRESS: | 29        | 100            | 4111       | 297                  | 24.168ms         |\n",
      "PROGRESS: | 30        | 100            | 4071       | 297                  | 25.278ms         |\n",
      "PROGRESS: | 31        | 100            | 4058       | 298                  | 26.721ms         |\n",
      "PROGRESS: | 32        | 100            | 4054       | 300                  | 28.235ms         |\n",
      "PROGRESS: | 33        | 100            | 4050       | 301                  | 30.849ms         |\n",
      "PROGRESS: | 34        | 100            | 4048       | 302                  | 32.357ms         |\n",
      "PROGRESS: | 35        | 100            | 4031       | 304                  | 34.162ms         |\n",
      "PROGRESS: | 36        | 100            | 3779       | 306                  | 35.882ms         |\n",
      "PROGRESS: | 37        | 100            | 3680       | 315                  | 37.767ms         |\n",
      "PROGRESS: | 38        | 100            | 2697       | 320                  | 39.707ms         |\n",
      "PROGRESS: | 39        | 100            | 2608       | 320                  | 41.195ms         |\n",
      "PROGRESS: | 40        | 100            | 2580       | 320                  | 42.59ms          |\n",
      "PROGRESS: | 41        | 100            | 2564       | 320                  | 44.011ms         |\n",
      "PROGRESS: | 42        | 100            | 2557       | 320                  | 45.347ms         |\n",
      "PROGRESS: | 43        | 100            | 2551       | 320                  | 46.798ms         |\n",
      "PROGRESS: | 44        | 100            | 2549       | 320                  | 48.766ms         |\n",
      "PROGRESS: | 45        | 100            | 2540       | 320                  | 50.667ms         |\n",
      "PROGRESS: | 46        | 100            | 2538       | 320                  | 52.198ms         |\n",
      "PROGRESS: | 47        | 100            | 2532       | 320                  | 53.951ms         |\n",
      "PROGRESS: | 48        | 100            | 2513       | 320                  | 55.735ms         |\n",
      "PROGRESS: | 49        | 100            | 2503       | 320                  | 57.286ms         |\n",
      "PROGRESS: | Final     | 100            | -          | 320                  | 59.06ms          |\n",
      "PROGRESS: +-----------+----------------+------------+----------------------+------------------+\n",
      "PROGRESS: Pattern mining complete. Found 100 unique closed patterns.\n"
     ]
    }
   ],
   "source": [
    "model = gl.frequent_pattern_mining.create(sf, \n",
    "                item='Item', \n",
    "                features = ['Receipt', 'StoreNum'], \n",
    "                min_length=2)"
   ]
  },
  {
   "cell_type": "code",
   "execution_count": 11,
   "metadata": {
    "collapsed": false
   },
   "outputs": [
    {
     "name": "stdout",
     "output_type": "stream",
     "text": [
      "+----------------------------------------+---------+\n",
      "|                pattern                 | support |\n",
      "+----------------------------------------+---------+\n",
      "|      [CherryTart, ApricotDanish]       |   3209  |\n",
      "|     [TuileCookie, MarzipanCookie]      |   3023  |\n",
      "|    [ChocolateCake, ChocolateCoffee]    |   2652  |\n",
      "|        [CherryTart, OperaCake]         |   2625  |\n",
      "|     [GongolaisCookie, TruffleCake]     |   2620  |\n",
      "|     [StrawberryCake, NapoleonCake]     |   2615  |\n",
      "|       [ApricotDanish, OperaCake]       |   2604  |\n",
      "|   [ApricotCroissant, BlueberryTart]    |   2599  |\n",
      "|     [OrangeJuice, CheeseCroissant]     |   2575  |\n",
      "| [CherryTart, ApricotDanish, OperaCake] |   2487  |\n",
      "+----------------------------------------+---------+\n",
      "[100 rows x 2 columns]\n",
      "\n"
     ]
    }
   ],
   "source": [
    "patterns = model.get_frequent_patterns()\n",
    "patterns.print_rows(max_column_width=100)\n",
    "model.save('pattern_mining_model.gl')"
   ]
  },
  {
   "cell_type": "markdown",
   "metadata": {},
   "source": [
    "## Making predictions!"
   ]
  },
  {
   "cell_type": "code",
   "execution_count": 12,
   "metadata": {
    "collapsed": false
   },
   "outputs": [
    {
     "name": "stdout",
     "output_type": "stream",
     "text": [
      "PROGRESS: Preprocessing complete. Found 1 unique transactions.\n"
     ]
    },
    {
     "data": {
      "text/html": [
       "<div style=\"max-height:1000px;max-width:1500px;overflow:auto;\"><table frame=\"box\" rules=\"cols\">\n",
       "    <tr>\n",
       "        <th style=\"padding-left: 1em; padding-right: 1em; text-align: center\">Receipt</th>\n",
       "        <th style=\"padding-left: 1em; padding-right: 1em; text-align: center\">StoreNum</th>\n",
       "        <th style=\"padding-left: 1em; padding-right: 1em; text-align: center\">prefix</th>\n",
       "        <th style=\"padding-left: 1em; padding-right: 1em; text-align: center\">prediction</th>\n",
       "        <th style=\"padding-left: 1em; padding-right: 1em; text-align: center\">confidence</th>\n",
       "        <th style=\"padding-left: 1em; padding-right: 1em; text-align: center\">prefix support</th>\n",
       "        <th style=\"padding-left: 1em; padding-right: 1em; text-align: center\">joint support</th>\n",
       "    </tr>\n",
       "    <tr>\n",
       "        <td style=\"padding-left: 1em; padding-right: 1em; text-align: center; vertical-align: top\">1356</td>\n",
       "        <td style=\"padding-left: 1em; padding-right: 1em; text-align: center; vertical-align: top\">2</td>\n",
       "        <td style=\"padding-left: 1em; padding-right: 1em; text-align: center; vertical-align: top\">[CherryTart]</td>\n",
       "        <td style=\"padding-left: 1em; padding-right: 1em; text-align: center; vertical-align: top\">[ApricotDanish]</td>\n",
       "        <td style=\"padding-left: 1em; padding-right: 1em; text-align: center; vertical-align: top\">0.571708533761</td>\n",
       "        <td style=\"padding-left: 1em; padding-right: 1em; text-align: center; vertical-align: top\">5613</td>\n",
       "        <td style=\"padding-left: 1em; padding-right: 1em; text-align: center; vertical-align: top\">3209</td>\n",
       "    </tr>\n",
       "</table>\n",
       "[1 rows x 7 columns]<br/>\n",
       "</div>"
      ],
      "text/plain": [
       "Columns:\n",
       "\tReceipt\tint\n",
       "\tStoreNum\tint\n",
       "\tprefix\tlist\n",
       "\tprediction\tlist\n",
       "\tconfidence\tfloat\n",
       "\tprefix support\tint\n",
       "\tjoint support\tint\n",
       "\n",
       "Rows: 1\n",
       "\n",
       "Data:\n",
       "+---------+----------+--------------+-----------------+----------------+----------------+\n",
       "| Receipt | StoreNum |    prefix    |    prediction   |   confidence   | prefix support |\n",
       "+---------+----------+--------------+-----------------+----------------+----------------+\n",
       "|   1356  |    2     | [CherryTart] | [ApricotDanish] | 0.571708533761 |      5613      |\n",
       "+---------+----------+--------------+-----------------+----------------+----------------+\n",
       "+---------------+\n",
       "| joint support |\n",
       "+---------------+\n",
       "|      3209     |\n",
       "+---------------+\n",
       "[1 rows x 7 columns]"
      ]
     },
     "execution_count": 12,
     "metadata": {},
     "output_type": "execute_result"
    }
   ],
   "source": [
    "new_data = gl.SFrame({'Receipt': [1356]*2, \n",
    "                      'StoreNum': [2]*2, \n",
    "                      'Item': ['CherryTart', 'ApplePie']})\n",
    "model.predict(new_data)"
   ]
  },
  {
   "cell_type": "code",
   "execution_count": 13,
   "metadata": {
    "collapsed": false
   },
   "outputs": [
    {
     "name": "stdout",
     "output_type": "stream",
     "text": [
      "PROGRESS: Preprocessing complete. Found 1 unique transactions.\n"
     ]
    },
    {
     "data": {
      "text/html": [
       "<div style=\"max-height:1000px;max-width:1500px;overflow:auto;\"><table frame=\"box\" rules=\"cols\">\n",
       "    <tr>\n",
       "        <th style=\"padding-left: 1em; padding-right: 1em; text-align: center\">Receipt</th>\n",
       "        <th style=\"padding-left: 1em; padding-right: 1em; text-align: center\">StoreNum</th>\n",
       "        <th style=\"padding-left: 1em; padding-right: 1em; text-align: center\">prefix</th>\n",
       "        <th style=\"padding-left: 1em; padding-right: 1em; text-align: center\">prediction</th>\n",
       "        <th style=\"padding-left: 1em; padding-right: 1em; text-align: center\">confidence</th>\n",
       "        <th style=\"padding-left: 1em; padding-right: 1em; text-align: center\">prefix support</th>\n",
       "        <th style=\"padding-left: 1em; padding-right: 1em; text-align: center\">joint support</th>\n",
       "    </tr>\n",
       "    <tr>\n",
       "        <td style=\"padding-left: 1em; padding-right: 1em; text-align: center; vertical-align: top\">1356</td>\n",
       "        <td style=\"padding-left: 1em; padding-right: 1em; text-align: center; vertical-align: top\">2</td>\n",
       "        <td style=\"padding-left: 1em; padding-right: 1em; text-align: center; vertical-align: top\">[CherryTart]</td>\n",
       "        <td style=\"padding-left: 1em; padding-right: 1em; text-align: center; vertical-align: top\">[ApricotDanish]</td>\n",
       "        <td style=\"padding-left: 1em; padding-right: 1em; text-align: center; vertical-align: top\">0.571708533761</td>\n",
       "        <td style=\"padding-left: 1em; padding-right: 1em; text-align: center; vertical-align: top\">5613</td>\n",
       "        <td style=\"padding-left: 1em; padding-right: 1em; text-align: center; vertical-align: top\">3209</td>\n",
       "    </tr>\n",
       "    <tr>\n",
       "        <td style=\"padding-left: 1em; padding-right: 1em; text-align: center; vertical-align: top\">1356</td>\n",
       "        <td style=\"padding-left: 1em; padding-right: 1em; text-align: center; vertical-align: top\">2</td>\n",
       "        <td style=\"padding-left: 1em; padding-right: 1em; text-align: center; vertical-align: top\">[ApplePie]</td>\n",
       "        <td style=\"padding-left: 1em; padding-right: 1em; text-align: center; vertical-align: top\">[CoffeeEclair]</td>\n",
       "        <td style=\"padding-left: 1em; padding-right: 1em; text-align: center; vertical-align: top\">0.483340545219</td>\n",
       "        <td style=\"padding-left: 1em; padding-right: 1em; text-align: center; vertical-align: top\">4622</td>\n",
       "        <td style=\"padding-left: 1em; padding-right: 1em; text-align: center; vertical-align: top\">2234</td>\n",
       "    </tr>\n",
       "    <tr>\n",
       "        <td style=\"padding-left: 1em; padding-right: 1em; text-align: center; vertical-align: top\">1356</td>\n",
       "        <td style=\"padding-left: 1em; padding-right: 1em; text-align: center; vertical-align: top\">2</td>\n",
       "        <td style=\"padding-left: 1em; padding-right: 1em; text-align: center; vertical-align: top\">[ApplePie]</td>\n",
       "        <td style=\"padding-left: 1em; padding-right: 1em; text-align: center; vertical-align: top\">[AlmondTwist]</td>\n",
       "        <td style=\"padding-left: 1em; padding-right: 1em; text-align: center; vertical-align: top\">0.475984422328</td>\n",
       "        <td style=\"padding-left: 1em; padding-right: 1em; text-align: center; vertical-align: top\">4622</td>\n",
       "        <td style=\"padding-left: 1em; padding-right: 1em; text-align: center; vertical-align: top\">2200</td>\n",
       "    </tr>\n",
       "    <tr>\n",
       "        <td style=\"padding-left: 1em; padding-right: 1em; text-align: center; vertical-align: top\">1356</td>\n",
       "        <td style=\"padding-left: 1em; padding-right: 1em; text-align: center; vertical-align: top\">2</td>\n",
       "        <td style=\"padding-left: 1em; padding-right: 1em; text-align: center; vertical-align: top\">[CherryTart]</td>\n",
       "        <td style=\"padding-left: 1em; padding-right: 1em; text-align: center; vertical-align: top\">[OperaCake]</td>\n",
       "        <td style=\"padding-left: 1em; padding-right: 1em; text-align: center; vertical-align: top\">0.467664350615</td>\n",
       "        <td style=\"padding-left: 1em; padding-right: 1em; text-align: center; vertical-align: top\">5613</td>\n",
       "        <td style=\"padding-left: 1em; padding-right: 1em; text-align: center; vertical-align: top\">2625</td>\n",
       "    </tr>\n",
       "    <tr>\n",
       "        <td style=\"padding-left: 1em; padding-right: 1em; text-align: center; vertical-align: top\">1356</td>\n",
       "        <td style=\"padding-left: 1em; padding-right: 1em; text-align: center; vertical-align: top\">2</td>\n",
       "        <td style=\"padding-left: 1em; padding-right: 1em; text-align: center; vertical-align: top\">[ApplePie]</td>\n",
       "        <td style=\"padding-left: 1em; padding-right: 1em; text-align: center; vertical-align: top\">[AlmondTwist,<br>CoffeeEclair] ...</td>\n",
       "        <td style=\"padding-left: 1em; padding-right: 1em; text-align: center; vertical-align: top\">0.44634357421</td>\n",
       "        <td style=\"padding-left: 1em; padding-right: 1em; text-align: center; vertical-align: top\">4622</td>\n",
       "        <td style=\"padding-left: 1em; padding-right: 1em; text-align: center; vertical-align: top\">2063</td>\n",
       "    </tr>\n",
       "</table>\n",
       "[5 rows x 7 columns]<br/>\n",
       "</div>"
      ],
      "text/plain": [
       "Columns:\n",
       "\tReceipt\tint\n",
       "\tStoreNum\tint\n",
       "\tprefix\tlist\n",
       "\tprediction\tlist\n",
       "\tconfidence\tfloat\n",
       "\tprefix support\tint\n",
       "\tjoint support\tint\n",
       "\n",
       "Rows: 5\n",
       "\n",
       "Data:\n",
       "+---------+----------+--------------+-----------------------------+\n",
       "| Receipt | StoreNum |    prefix    |          prediction         |\n",
       "+---------+----------+--------------+-----------------------------+\n",
       "|   1356  |    2     | [CherryTart] |       [ApricotDanish]       |\n",
       "|   1356  |    2     |  [ApplePie]  |        [CoffeeEclair]       |\n",
       "|   1356  |    2     |  [ApplePie]  |        [AlmondTwist]        |\n",
       "|   1356  |    2     | [CherryTart] |         [OperaCake]         |\n",
       "|   1356  |    2     |  [ApplePie]  | [AlmondTwist, CoffeeEclair] |\n",
       "+---------+----------+--------------+-----------------------------+\n",
       "+----------------+----------------+---------------+\n",
       "|   confidence   | prefix support | joint support |\n",
       "+----------------+----------------+---------------+\n",
       "| 0.571708533761 |      5613      |      3209     |\n",
       "| 0.483340545219 |      4622      |      2234     |\n",
       "| 0.475984422328 |      4622      |      2200     |\n",
       "| 0.467664350615 |      5613      |      2625     |\n",
       "| 0.44634357421  |      4622      |      2063     |\n",
       "+----------------+----------------+---------------+\n",
       "[5 rows x 7 columns]"
      ]
     },
     "execution_count": 13,
     "metadata": {},
     "output_type": "execute_result"
    }
   ],
   "source": [
    "model.predict_topk(new_data)"
   ]
  },
  {
   "cell_type": "markdown",
   "metadata": {},
   "source": [
    "## Extract features"
   ]
  },
  {
   "cell_type": "code",
   "execution_count": 14,
   "metadata": {
    "collapsed": false
   },
   "outputs": [
    {
     "name": "stdout",
     "output_type": "stream",
     "text": [
      "PROGRESS: Preprocessing complete. Found 59999 unique transactions.\n"
     ]
    },
    {
     "data": {
      "text/html": [
       "<div style=\"max-height:1000px;max-width:1500px;overflow:auto;\"><table frame=\"box\" rules=\"cols\">\n",
       "    <tr>\n",
       "        <th style=\"padding-left: 1em; padding-right: 1em; text-align: center\">Receipt</th>\n",
       "        <th style=\"padding-left: 1em; padding-right: 1em; text-align: center\">StoreNum</th>\n",
       "        <th style=\"padding-left: 1em; padding-right: 1em; text-align: center\">extracted_features</th>\n",
       "    </tr>\n",
       "    <tr>\n",
       "        <td style=\"padding-left: 1em; padding-right: 1em; text-align: center; vertical-align: top\">47850</td>\n",
       "        <td style=\"padding-left: 1em; padding-right: 1em; text-align: center; vertical-align: top\">2</td>\n",
       "        <td style=\"padding-left: 1em; padding-right: 1em; text-align: center; vertical-align: top\">[0.0, 0.0, 0.0, 0.0, 0.0,<br>0.0, 0.0, 0.0, 0.0, 0.0, ...</td>\n",
       "    </tr>\n",
       "    <tr>\n",
       "        <td style=\"padding-left: 1em; padding-right: 1em; text-align: center; vertical-align: top\">26659</td>\n",
       "        <td style=\"padding-left: 1em; padding-right: 1em; text-align: center; vertical-align: top\">3</td>\n",
       "        <td style=\"padding-left: 1em; padding-right: 1em; text-align: center; vertical-align: top\">[0.0, 0.0, 1.0, 0.0, 0.0,<br>0.0, 0.0, 0.0, 0.0, 0.0, ...</td>\n",
       "    </tr>\n",
       "    <tr>\n",
       "        <td style=\"padding-left: 1em; padding-right: 1em; text-align: center; vertical-align: top\">28397</td>\n",
       "        <td style=\"padding-left: 1em; padding-right: 1em; text-align: center; vertical-align: top\">3</td>\n",
       "        <td style=\"padding-left: 1em; padding-right: 1em; text-align: center; vertical-align: top\">[0.0, 0.0, 1.0, 0.0, 0.0,<br>0.0, 0.0, 0.0, 0.0, 0.0, ...</td>\n",
       "    </tr>\n",
       "    <tr>\n",
       "        <td style=\"padding-left: 1em; padding-right: 1em; text-align: center; vertical-align: top\">13610</td>\n",
       "        <td style=\"padding-left: 1em; padding-right: 1em; text-align: center; vertical-align: top\">3</td>\n",
       "        <td style=\"padding-left: 1em; padding-right: 1em; text-align: center; vertical-align: top\">[0.0, 0.0, 0.0, 0.0, 0.0,<br>0.0, 0.0, 0.0, 0.0, 0.0, ...</td>\n",
       "    </tr>\n",
       "    <tr>\n",
       "        <td style=\"padding-left: 1em; padding-right: 1em; text-align: center; vertical-align: top\">27382</td>\n",
       "        <td style=\"padding-left: 1em; padding-right: 1em; text-align: center; vertical-align: top\">12</td>\n",
       "        <td style=\"padding-left: 1em; padding-right: 1em; text-align: center; vertical-align: top\">[0.0, 0.0, 0.0, 0.0, 0.0,<br>0.0, 0.0, 0.0, 1.0, 0.0, ...</td>\n",
       "    </tr>\n",
       "    <tr>\n",
       "        <td style=\"padding-left: 1em; padding-right: 1em; text-align: center; vertical-align: top\">38454</td>\n",
       "        <td style=\"padding-left: 1em; padding-right: 1em; text-align: center; vertical-align: top\">3</td>\n",
       "        <td style=\"padding-left: 1em; padding-right: 1em; text-align: center; vertical-align: top\">[0.0, 0.0, 0.0, 0.0, 0.0,<br>0.0, 0.0, 0.0, 0.0, 0.0, ...</td>\n",
       "    </tr>\n",
       "    <tr>\n",
       "        <td style=\"padding-left: 1em; padding-right: 1em; text-align: center; vertical-align: top\">17365</td>\n",
       "        <td style=\"padding-left: 1em; padding-right: 1em; text-align: center; vertical-align: top\">12</td>\n",
       "        <td style=\"padding-left: 1em; padding-right: 1em; text-align: center; vertical-align: top\">[0.0, 0.0, 0.0, 0.0, 1.0,<br>0.0, 0.0, 0.0, 0.0, 0.0, ...</td>\n",
       "    </tr>\n",
       "    <tr>\n",
       "        <td style=\"padding-left: 1em; padding-right: 1em; text-align: center; vertical-align: top\">48835</td>\n",
       "        <td style=\"padding-left: 1em; padding-right: 1em; text-align: center; vertical-align: top\">3</td>\n",
       "        <td style=\"padding-left: 1em; padding-right: 1em; text-align: center; vertical-align: top\">[0.0, 0.0, 0.0, 0.0, 0.0,<br>0.0, 0.0, 0.0, 0.0, 0.0, ...</td>\n",
       "    </tr>\n",
       "    <tr>\n",
       "        <td style=\"padding-left: 1em; padding-right: 1em; text-align: center; vertical-align: top\">35951</td>\n",
       "        <td style=\"padding-left: 1em; padding-right: 1em; text-align: center; vertical-align: top\">4</td>\n",
       "        <td style=\"padding-left: 1em; padding-right: 1em; text-align: center; vertical-align: top\">[0.0, 0.0, 0.0, 0.0, 0.0,<br>0.0, 0.0, 0.0, 0.0, 0.0, ...</td>\n",
       "    </tr>\n",
       "    <tr>\n",
       "        <td style=\"padding-left: 1em; padding-right: 1em; text-align: center; vertical-align: top\">35648</td>\n",
       "        <td style=\"padding-left: 1em; padding-right: 1em; text-align: center; vertical-align: top\">13</td>\n",
       "        <td style=\"padding-left: 1em; padding-right: 1em; text-align: center; vertical-align: top\">[1.0, 0.0, 0.0, 0.0, 0.0,<br>0.0, 0.0, 0.0, 0.0, 0.0, ...</td>\n",
       "    </tr>\n",
       "</table>\n",
       "[59999 rows x 3 columns]<br/>Note: Only the head of the SFrame is printed.<br/>You can use print_rows(num_rows=m, num_columns=n) to print more rows and columns.\n",
       "</div>"
      ],
      "text/plain": [
       "Columns:\n",
       "\tReceipt\tint\n",
       "\tStoreNum\tint\n",
       "\textracted_features\tarray\n",
       "\n",
       "Rows: 59999\n",
       "\n",
       "Data:\n",
       "+---------+----------+-------------------------------+\n",
       "| Receipt | StoreNum |       extracted_features      |\n",
       "+---------+----------+-------------------------------+\n",
       "|  47850  |    2     | [0.0, 0.0, 0.0, 0.0, 0.0, ... |\n",
       "|  26659  |    3     | [0.0, 0.0, 1.0, 0.0, 0.0, ... |\n",
       "|  28397  |    3     | [0.0, 0.0, 1.0, 0.0, 0.0, ... |\n",
       "|  13610  |    3     | [0.0, 0.0, 0.0, 0.0, 0.0, ... |\n",
       "|  27382  |    12    | [0.0, 0.0, 0.0, 0.0, 0.0, ... |\n",
       "|  38454  |    3     | [0.0, 0.0, 0.0, 0.0, 0.0, ... |\n",
       "|  17365  |    12    | [0.0, 0.0, 0.0, 0.0, 1.0, ... |\n",
       "|  48835  |    3     | [0.0, 0.0, 0.0, 0.0, 0.0, ... |\n",
       "|  35951  |    4     | [0.0, 0.0, 0.0, 0.0, 0.0, ... |\n",
       "|  35648  |    13    | [1.0, 0.0, 0.0, 0.0, 0.0, ... |\n",
       "+---------+----------+-------------------------------+\n",
       "[59999 rows x 3 columns]\n",
       "Note: Only the head of the SFrame is printed.\n",
       "You can use print_rows(num_rows=m, num_columns=n) to print more rows and columns."
      ]
     },
     "execution_count": 14,
     "metadata": {},
     "output_type": "execute_result"
    }
   ],
   "source": [
    "pattern_sf = model.extract_features(sf)\n",
    "pattern_sf"
   ]
  },
  {
   "cell_type": "markdown",
   "metadata": {},
   "source": [
    "## Cluster in Employee Space"
   ]
  },
  {
   "cell_type": "code",
   "execution_count": 15,
   "metadata": {
    "collapsed": false
   },
   "outputs": [
    {
     "data": {
      "text/html": [
       "<div style=\"max-height:1000px;max-width:1500px;overflow:auto;\"><table frame=\"box\" rules=\"cols\">\n",
       "    <tr>\n",
       "        <th style=\"padding-left: 1em; padding-right: 1em; text-align: center\">Receipt</th>\n",
       "        <th style=\"padding-left: 1em; padding-right: 1em; text-align: center\">StoreNum</th>\n",
       "        <th style=\"padding-left: 1em; padding-right: 1em; text-align: center\">EmpId</th>\n",
       "    </tr>\n",
       "    <tr>\n",
       "        <td style=\"padding-left: 1em; padding-right: 1em; text-align: center; vertical-align: top\">47850</td>\n",
       "        <td style=\"padding-left: 1em; padding-right: 1em; text-align: center; vertical-align: top\">2</td>\n",
       "        <td style=\"padding-left: 1em; padding-right: 1em; text-align: center; vertical-align: top\">23</td>\n",
       "    </tr>\n",
       "    <tr>\n",
       "        <td style=\"padding-left: 1em; padding-right: 1em; text-align: center; vertical-align: top\">26659</td>\n",
       "        <td style=\"padding-left: 1em; padding-right: 1em; text-align: center; vertical-align: top\">3</td>\n",
       "        <td style=\"padding-left: 1em; padding-right: 1em; text-align: center; vertical-align: top\">3</td>\n",
       "    </tr>\n",
       "    <tr>\n",
       "        <td style=\"padding-left: 1em; padding-right: 1em; text-align: center; vertical-align: top\">28397</td>\n",
       "        <td style=\"padding-left: 1em; padding-right: 1em; text-align: center; vertical-align: top\">3</td>\n",
       "        <td style=\"padding-left: 1em; padding-right: 1em; text-align: center; vertical-align: top\">3</td>\n",
       "    </tr>\n",
       "    <tr>\n",
       "        <td style=\"padding-left: 1em; padding-right: 1em; text-align: center; vertical-align: top\">13610</td>\n",
       "        <td style=\"padding-left: 1em; padding-right: 1em; text-align: center; vertical-align: top\">3</td>\n",
       "        <td style=\"padding-left: 1em; padding-right: 1em; text-align: center; vertical-align: top\">3</td>\n",
       "    </tr>\n",
       "    <tr>\n",
       "        <td style=\"padding-left: 1em; padding-right: 1em; text-align: center; vertical-align: top\">27382</td>\n",
       "        <td style=\"padding-left: 1em; padding-right: 1em; text-align: center; vertical-align: top\">12</td>\n",
       "        <td style=\"padding-left: 1em; padding-right: 1em; text-align: center; vertical-align: top\">45</td>\n",
       "    </tr>\n",
       "    <tr>\n",
       "        <td style=\"padding-left: 1em; padding-right: 1em; text-align: center; vertical-align: top\">38454</td>\n",
       "        <td style=\"padding-left: 1em; padding-right: 1em; text-align: center; vertical-align: top\">3</td>\n",
       "        <td style=\"padding-left: 1em; padding-right: 1em; text-align: center; vertical-align: top\">3</td>\n",
       "    </tr>\n",
       "    <tr>\n",
       "        <td style=\"padding-left: 1em; padding-right: 1em; text-align: center; vertical-align: top\">17365</td>\n",
       "        <td style=\"padding-left: 1em; padding-right: 1em; text-align: center; vertical-align: top\">12</td>\n",
       "        <td style=\"padding-left: 1em; padding-right: 1em; text-align: center; vertical-align: top\">44</td>\n",
       "    </tr>\n",
       "    <tr>\n",
       "        <td style=\"padding-left: 1em; padding-right: 1em; text-align: center; vertical-align: top\">48835</td>\n",
       "        <td style=\"padding-left: 1em; padding-right: 1em; text-align: center; vertical-align: top\">3</td>\n",
       "        <td style=\"padding-left: 1em; padding-right: 1em; text-align: center; vertical-align: top\">3</td>\n",
       "    </tr>\n",
       "    <tr>\n",
       "        <td style=\"padding-left: 1em; padding-right: 1em; text-align: center; vertical-align: top\">35951</td>\n",
       "        <td style=\"padding-left: 1em; padding-right: 1em; text-align: center; vertical-align: top\">4</td>\n",
       "        <td style=\"padding-left: 1em; padding-right: 1em; text-align: center; vertical-align: top\">26</td>\n",
       "    </tr>\n",
       "    <tr>\n",
       "        <td style=\"padding-left: 1em; padding-right: 1em; text-align: center; vertical-align: top\">35648</td>\n",
       "        <td style=\"padding-left: 1em; padding-right: 1em; text-align: center; vertical-align: top\">13</td>\n",
       "        <td style=\"padding-left: 1em; padding-right: 1em; text-align: center; vertical-align: top\">13</td>\n",
       "    </tr>\n",
       "</table>\n",
       "[59999 rows x 3 columns]<br/>Note: Only the head of the SFrame is printed.<br/>You can use print_rows(num_rows=m, num_columns=n) to print more rows and columns.\n",
       "</div>"
      ],
      "text/plain": [
       "Columns:\n",
       "\tReceipt\tint\n",
       "\tStoreNum\tint\n",
       "\tEmpId\tint\n",
       "\n",
       "Rows: 59999\n",
       "\n",
       "Data:\n",
       "+---------+----------+-------+\n",
       "| Receipt | StoreNum | EmpId |\n",
       "+---------+----------+-------+\n",
       "|  47850  |    2     |   23  |\n",
       "|  26659  |    3     |   3   |\n",
       "|  28397  |    3     |   3   |\n",
       "|  13610  |    3     |   3   |\n",
       "|  27382  |    12    |   45  |\n",
       "|  38454  |    3     |   3   |\n",
       "|  17365  |    12    |   44  |\n",
       "|  48835  |    3     |   3   |\n",
       "|  35951  |    4     |   26  |\n",
       "|  35648  |    13    |   13  |\n",
       "+---------+----------+-------+\n",
       "[59999 rows x 3 columns]\n",
       "Note: Only the head of the SFrame is printed.\n",
       "You can use print_rows(num_rows=m, num_columns=n) to print more rows and columns."
      ]
     },
     "execution_count": 15,
     "metadata": {},
     "output_type": "execute_result"
    }
   ],
   "source": [
    "emps = sf.groupby(['StoreNum','Receipt'], {\n",
    "         'EmpId': gl.aggregate.SELECT_ONE('EmpId')})\n",
    "emps"
   ]
  },
  {
   "cell_type": "code",
   "execution_count": 17,
   "metadata": {
    "collapsed": false
   },
   "outputs": [
    {
     "data": {
      "text/html": [
       "<div style=\"max-height:1000px;max-width:1500px;overflow:auto;\"><table frame=\"box\" rules=\"cols\">\n",
       "    <tr>\n",
       "        <th style=\"padding-left: 1em; padding-right: 1em; text-align: center\">EmpId</th>\n",
       "        <th style=\"padding-left: 1em; padding-right: 1em; text-align: center\">all_features</th>\n",
       "    </tr>\n",
       "    <tr>\n",
       "        <td style=\"padding-left: 1em; padding-right: 1em; text-align: center; vertical-align: top\">49</td>\n",
       "        <td style=\"padding-left: 1em; padding-right: 1em; text-align: center; vertical-align: top\">[56.0, 55.0, 40.0, 43.0,<br>42.0, 39.0, 42.0, 49.0, ...</td>\n",
       "    </tr>\n",
       "    <tr>\n",
       "        <td style=\"padding-left: 1em; padding-right: 1em; text-align: center; vertical-align: top\">13</td>\n",
       "        <td style=\"padding-left: 1em; padding-right: 1em; text-align: center; vertical-align: top\">[184.0, 164.0, 122.0,<br>143.0, 94.0, 128.0, ...</td>\n",
       "    </tr>\n",
       "    <tr>\n",
       "        <td style=\"padding-left: 1em; padding-right: 1em; text-align: center; vertical-align: top\">36</td>\n",
       "        <td style=\"padding-left: 1em; padding-right: 1em; text-align: center; vertical-align: top\">[41.0, 48.0, 50.0, 34.0,<br>41.0, 38.0, 31.0, 46.0, ...</td>\n",
       "    </tr>\n",
       "    <tr>\n",
       "        <td style=\"padding-left: 1em; padding-right: 1em; text-align: center; vertical-align: top\">24</td>\n",
       "        <td style=\"padding-left: 1em; padding-right: 1em; text-align: center; vertical-align: top\">[39.0, 42.0, 35.0, 35.0,<br>34.0, 31.0, 36.0, 27.0, ...</td>\n",
       "    </tr>\n",
       "    <tr>\n",
       "        <td style=\"padding-left: 1em; padding-right: 1em; text-align: center; vertical-align: top\">2</td>\n",
       "        <td style=\"padding-left: 1em; padding-right: 1em; text-align: center; vertical-align: top\">[29.0, 39.0, 30.0, 28.0,<br>46.0, 30.0, 25.0, 38.0, ...</td>\n",
       "    </tr>\n",
       "    <tr>\n",
       "        <td style=\"padding-left: 1em; padding-right: 1em; text-align: center; vertical-align: top\">46</td>\n",
       "        <td style=\"padding-left: 1em; padding-right: 1em; text-align: center; vertical-align: top\">[39.0, 32.0, 14.0, 30.0,<br>41.0, 43.0, 29.0, 34.0, ...</td>\n",
       "    </tr>\n",
       "    <tr>\n",
       "        <td style=\"padding-left: 1em; padding-right: 1em; text-align: center; vertical-align: top\">30</td>\n",
       "        <td style=\"padding-left: 1em; padding-right: 1em; text-align: center; vertical-align: top\">[23.0, 19.0, 18.0, 21.0,<br>16.0, 12.0, 20.0, 19.0, ...</td>\n",
       "    </tr>\n",
       "    <tr>\n",
       "        <td style=\"padding-left: 1em; padding-right: 1em; text-align: center; vertical-align: top\">42</td>\n",
       "        <td style=\"padding-left: 1em; padding-right: 1em; text-align: center; vertical-align: top\">[25.0, 22.0, 23.0, 21.0,<br>17.0, 28.0, 20.0, 20.0, ...</td>\n",
       "    </tr>\n",
       "    <tr>\n",
       "        <td style=\"padding-left: 1em; padding-right: 1em; text-align: center; vertical-align: top\">44</td>\n",
       "        <td style=\"padding-left: 1em; padding-right: 1em; text-align: center; vertical-align: top\">[17.0, 30.0, 20.0, 16.0,<br>19.0, 21.0, 16.0, 12.0, ...</td>\n",
       "    </tr>\n",
       "    <tr>\n",
       "        <td style=\"padding-left: 1em; padding-right: 1em; text-align: center; vertical-align: top\">31</td>\n",
       "        <td style=\"padding-left: 1em; padding-right: 1em; text-align: center; vertical-align: top\">[21.0, 19.0, 21.0, 18.0,<br>16.0, 16.0, 20.0, 20.0, ...</td>\n",
       "    </tr>\n",
       "</table>\n",
       "[50 rows x 2 columns]<br/>Note: Only the head of the SFrame is printed.<br/>You can use print_rows(num_rows=m, num_columns=n) to print more rows and columns.\n",
       "</div>"
      ],
      "text/plain": [
       "Columns:\n",
       "\tEmpId\tint\n",
       "\tall_features\tarray\n",
       "\n",
       "Rows: 50\n",
       "\n",
       "Data:\n",
       "+-------+-------------------------------+\n",
       "| EmpId |          all_features         |\n",
       "+-------+-------------------------------+\n",
       "|   49  | [56.0, 55.0, 40.0, 43.0, 4... |\n",
       "|   13  | [184.0, 164.0, 122.0, 143.... |\n",
       "|   36  | [41.0, 48.0, 50.0, 34.0, 4... |\n",
       "|   24  | [39.0, 42.0, 35.0, 35.0, 3... |\n",
       "|   2   | [29.0, 39.0, 30.0, 28.0, 4... |\n",
       "|   46  | [39.0, 32.0, 14.0, 30.0, 4... |\n",
       "|   30  | [23.0, 19.0, 18.0, 21.0, 1... |\n",
       "|   42  | [25.0, 22.0, 23.0, 21.0, 1... |\n",
       "|   44  | [17.0, 30.0, 20.0, 16.0, 1... |\n",
       "|   31  | [21.0, 19.0, 21.0, 18.0, 1... |\n",
       "+-------+-------------------------------+\n",
       "[50 rows x 2 columns]\n",
       "Note: Only the head of the SFrame is printed.\n",
       "You can use print_rows(num_rows=m, num_columns=n) to print more rows and columns."
      ]
     },
     "execution_count": 17,
     "metadata": {},
     "output_type": "execute_result"
    }
   ],
   "source": [
    "emp_space = emps.join(pattern_sf)\\\n",
    "                .groupby('EmpId', {'all_features': gl.aggregate.SUM('extracted_features')})\n",
    "emp_space"
   ]
  },
  {
   "cell_type": "code",
   "execution_count": 18,
   "metadata": {
    "collapsed": false
   },
   "outputs": [
    {
     "name": "stdout",
     "output_type": "stream",
     "text": [
      "PROGRESS: Initializing data.\n",
      "PROGRESS: Batch size is larger than the input dataset. Switching to an exact Kmeans method.\n",
      "PROGRESS: Choosing initial cluster centers with Kmeans++.\n",
      "PROGRESS: +---------------+-----------+\n",
      "PROGRESS: | Center number | Row index |\n",
      "PROGRESS: +---------------+-----------+\n",
      "PROGRESS: | 0             | 27        |\n",
      "PROGRESS: | 1             | 39        |\n",
      "PROGRESS: | 2             | 28        |\n",
      "PROGRESS: +---------------+-----------+\n",
      "PROGRESS: Starting kmeans model training.\n",
      "PROGRESS: Assigning points to initial cluster centers.\n",
      "PROGRESS: +-----------+-------------------------------+\n",
      "PROGRESS: | Iteration | Number of changed assignments |\n",
      "PROGRESS: +-----------+-------------------------------+\n",
      "PROGRESS: | 1         | 0                             |\n",
      "PROGRESS: +-----------+-------------------------------+\n"
     ]
    }
   ],
   "source": [
    "cl_model = gl.kmeans.create(emp_space, \n",
    "                            features = ['all_features'], \n",
    "                            num_clusters=3)"
   ]
  },
  {
   "cell_type": "code",
   "execution_count": 19,
   "metadata": {
    "collapsed": false
   },
   "outputs": [
    {
     "data": {
      "text/html": [
       "<div style=\"max-height:1000px;max-width:1500px;overflow:auto;\"><table frame=\"box\" rules=\"cols\">\n",
       "    <tr>\n",
       "        <th style=\"padding-left: 1em; padding-right: 1em; text-align: center\">EmpId</th>\n",
       "        <th style=\"padding-left: 1em; padding-right: 1em; text-align: center\">all_features</th>\n",
       "        <th style=\"padding-left: 1em; padding-right: 1em; text-align: center\">cluster_id</th>\n",
       "    </tr>\n",
       "    <tr>\n",
       "        <td style=\"padding-left: 1em; padding-right: 1em; text-align: center; vertical-align: top\">49</td>\n",
       "        <td style=\"padding-left: 1em; padding-right: 1em; text-align: center; vertical-align: top\">[56.0, 55.0, 40.0, 43.0,<br>42.0, 39.0, 42.0, 49.0, ...</td>\n",
       "        <td style=\"padding-left: 1em; padding-right: 1em; text-align: center; vertical-align: top\">0</td>\n",
       "    </tr>\n",
       "    <tr>\n",
       "        <td style=\"padding-left: 1em; padding-right: 1em; text-align: center; vertical-align: top\">13</td>\n",
       "        <td style=\"padding-left: 1em; padding-right: 1em; text-align: center; vertical-align: top\">[184.0, 164.0, 122.0,<br>143.0, 94.0, 128.0, ...</td>\n",
       "        <td style=\"padding-left: 1em; padding-right: 1em; text-align: center; vertical-align: top\">1</td>\n",
       "    </tr>\n",
       "    <tr>\n",
       "        <td style=\"padding-left: 1em; padding-right: 1em; text-align: center; vertical-align: top\">36</td>\n",
       "        <td style=\"padding-left: 1em; padding-right: 1em; text-align: center; vertical-align: top\">[41.0, 48.0, 50.0, 34.0,<br>41.0, 38.0, 31.0, 46.0, ...</td>\n",
       "        <td style=\"padding-left: 1em; padding-right: 1em; text-align: center; vertical-align: top\">0</td>\n",
       "    </tr>\n",
       "    <tr>\n",
       "        <td style=\"padding-left: 1em; padding-right: 1em; text-align: center; vertical-align: top\">24</td>\n",
       "        <td style=\"padding-left: 1em; padding-right: 1em; text-align: center; vertical-align: top\">[39.0, 42.0, 35.0, 35.0,<br>34.0, 31.0, 36.0, 27.0, ...</td>\n",
       "        <td style=\"padding-left: 1em; padding-right: 1em; text-align: center; vertical-align: top\">0</td>\n",
       "    </tr>\n",
       "    <tr>\n",
       "        <td style=\"padding-left: 1em; padding-right: 1em; text-align: center; vertical-align: top\">2</td>\n",
       "        <td style=\"padding-left: 1em; padding-right: 1em; text-align: center; vertical-align: top\">[29.0, 39.0, 30.0, 28.0,<br>46.0, 30.0, 25.0, 38.0, ...</td>\n",
       "        <td style=\"padding-left: 1em; padding-right: 1em; text-align: center; vertical-align: top\">0</td>\n",
       "    </tr>\n",
       "    <tr>\n",
       "        <td style=\"padding-left: 1em; padding-right: 1em; text-align: center; vertical-align: top\">46</td>\n",
       "        <td style=\"padding-left: 1em; padding-right: 1em; text-align: center; vertical-align: top\">[39.0, 32.0, 14.0, 30.0,<br>41.0, 43.0, 29.0, 34.0, ...</td>\n",
       "        <td style=\"padding-left: 1em; padding-right: 1em; text-align: center; vertical-align: top\">0</td>\n",
       "    </tr>\n",
       "    <tr>\n",
       "        <td style=\"padding-left: 1em; padding-right: 1em; text-align: center; vertical-align: top\">30</td>\n",
       "        <td style=\"padding-left: 1em; padding-right: 1em; text-align: center; vertical-align: top\">[23.0, 19.0, 18.0, 21.0,<br>16.0, 12.0, 20.0, 19.0, ...</td>\n",
       "        <td style=\"padding-left: 1em; padding-right: 1em; text-align: center; vertical-align: top\">2</td>\n",
       "    </tr>\n",
       "    <tr>\n",
       "        <td style=\"padding-left: 1em; padding-right: 1em; text-align: center; vertical-align: top\">42</td>\n",
       "        <td style=\"padding-left: 1em; padding-right: 1em; text-align: center; vertical-align: top\">[25.0, 22.0, 23.0, 21.0,<br>17.0, 28.0, 20.0, 20.0, ...</td>\n",
       "        <td style=\"padding-left: 1em; padding-right: 1em; text-align: center; vertical-align: top\">2</td>\n",
       "    </tr>\n",
       "    <tr>\n",
       "        <td style=\"padding-left: 1em; padding-right: 1em; text-align: center; vertical-align: top\">44</td>\n",
       "        <td style=\"padding-left: 1em; padding-right: 1em; text-align: center; vertical-align: top\">[17.0, 30.0, 20.0, 16.0,<br>19.0, 21.0, 16.0, 12.0, ...</td>\n",
       "        <td style=\"padding-left: 1em; padding-right: 1em; text-align: center; vertical-align: top\">2</td>\n",
       "    </tr>\n",
       "    <tr>\n",
       "        <td style=\"padding-left: 1em; padding-right: 1em; text-align: center; vertical-align: top\">31</td>\n",
       "        <td style=\"padding-left: 1em; padding-right: 1em; text-align: center; vertical-align: top\">[21.0, 19.0, 21.0, 18.0,<br>16.0, 16.0, 20.0, 20.0, ...</td>\n",
       "        <td style=\"padding-left: 1em; padding-right: 1em; text-align: center; vertical-align: top\">2</td>\n",
       "    </tr>\n",
       "</table>\n",
       "[50 rows x 3 columns]<br/>Note: Only the head of the SFrame is printed.<br/>You can use print_rows(num_rows=m, num_columns=n) to print more rows and columns.\n",
       "</div>"
      ],
      "text/plain": [
       "Columns:\n",
       "\tEmpId\tint\n",
       "\tall_features\tarray\n",
       "\tcluster_id\tint\n",
       "\n",
       "Rows: 50\n",
       "\n",
       "Data:\n",
       "+-------+-------------------------------+------------+\n",
       "| EmpId |          all_features         | cluster_id |\n",
       "+-------+-------------------------------+------------+\n",
       "|   49  | [56.0, 55.0, 40.0, 43.0, 4... |     0      |\n",
       "|   13  | [184.0, 164.0, 122.0, 143.... |     1      |\n",
       "|   36  | [41.0, 48.0, 50.0, 34.0, 4... |     0      |\n",
       "|   24  | [39.0, 42.0, 35.0, 35.0, 3... |     0      |\n",
       "|   2   | [29.0, 39.0, 30.0, 28.0, 4... |     0      |\n",
       "|   46  | [39.0, 32.0, 14.0, 30.0, 4... |     0      |\n",
       "|   30  | [23.0, 19.0, 18.0, 21.0, 1... |     2      |\n",
       "|   42  | [25.0, 22.0, 23.0, 21.0, 1... |     2      |\n",
       "|   44  | [17.0, 30.0, 20.0, 16.0, 1... |     2      |\n",
       "|   31  | [21.0, 19.0, 21.0, 18.0, 1... |     2      |\n",
       "+-------+-------------------------------+------------+\n",
       "[50 rows x 3 columns]\n",
       "Note: Only the head of the SFrame is printed.\n",
       "You can use print_rows(num_rows=m, num_columns=n) to print more rows and columns."
      ]
     },
     "execution_count": 19,
     "metadata": {},
     "output_type": "execute_result"
    }
   ],
   "source": [
    "emp_space['cluster_id'] = cl_model['cluster_id']['cluster_id']\n",
    "emp_space"
   ]
  },
  {
   "cell_type": "code",
   "execution_count": 20,
   "metadata": {
    "collapsed": false
   },
   "outputs": [
    {
     "data": {
      "application/javascript": [
       "$(\"head\").append($(\"<link/>\").attr({\n",
       "  rel:  \"stylesheet\",\n",
       "  type: \"text/css\",\n",
       "  href: \"//cdnjs.cloudflare.com/ajax/libs/font-awesome/4.1.0/css/font-awesome.min.css\"\n",
       "}));\n",
       "$(\"head\").append($(\"<link/>\").attr({\n",
       "  rel:  \"stylesheet\",\n",
       "  type: \"text/css\",\n",
       "  href: \"//turi.com/files/canvas/1.6.1/css/canvas.css\"\n",
       "}));\n",
       "\n",
       "            (function(){\n",
       "\n",
       "                var e = null;\n",
       "                if (typeof element == 'undefined') {\n",
       "                    var scripts = document.getElementsByTagName('script');\n",
       "                    var thisScriptTag = scripts[scripts.length-1];\n",
       "                    var parentDiv = thisScriptTag.parentNode;\n",
       "                    e = document.createElement('div');\n",
       "                    parentDiv.appendChild(e);\n",
       "                } else {\n",
       "                    e = element[0];\n",
       "                }\n",
       "\n",
       "                if (typeof requirejs !== 'undefined') {\n",
       "                    // disable load timeout; ipython_app.js is large and can take a while to load.\n",
       "                    requirejs.config({waitSeconds: 0});\n",
       "                }\n",
       "\n",
       "                require(['//turi.com/files/canvas/1.6.1/js/ipython_app.js'], function(IPythonApp){\n",
       "                    var app = new IPythonApp();\n",
       "                    app.attachView('sframe','Plots', {\"selected_variable\": {\"name\": [\"emp_space\"], \"descriptives\": {\"rows\": 50, \"columns\": 3}, \"view_component\": \"Plots\", \"view_file\": \"sframe\", \"view_params\": {\"y\": \"StoreNum\", \"x\": \"cluster_id\", \"columns\": [\"EmpId\", \"all_features\", \"cluster_id\"], \"view\": \"Bar Chart\"}, \"view_components\": [\"Summary\", \"Table\", \"Bar Chart\", \"BoxWhisker Plot\", \"Line Chart\", \"Scatter Plot\", \"Heat Map\", \"Plots\"], \"type\": \"SFrame\", \"columns\": [{\"dtype\": \"int\", \"name\": \"EmpId\"}, {\"dtype\": \"array\", \"name\": \"all_features\"}, {\"dtype\": \"int\", \"name\": \"cluster_id\"}], \"column_identifiers\": [\"EmpId\", \"cluster_id\", \"all_features\"]}, \"complete\": 1, \"ipython\": true, \"progress\": 1.0, \"data\": {\"grouped\": {\"0\": {\"count\": 25, \"std\": 14.631472926537507, \"min\": 1, \"max\": 50, \"sum\": 685, \"var\": 214.08, \"mean\": 27.4}, \"1\": {\"count\": 11, \"std\": 5.296186059501639, \"min\": 3, \"max\": 20, \"sum\": 128, \"var\": 28.0495867768595, \"mean\": 11.636363636363637}, \"2\": {\"count\": 14, \"std\": 11.212238211627762, \"min\": 6, \"max\": 45, \"sum\": 462, \"var\": 125.71428571428571, \"mean\": 33.0}}, \"omitted\": 0}, \"columns\": [{\"dtype\": \"int\", \"name\": \"EmpId\"}, {\"dtype\": \"array\", \"name\": \"all_features\"}, {\"dtype\": \"int\", \"name\": \"cluster_id\"}]}, e);\n",
       "                });\n",
       "            })();\n",
       "        "
      ]
     },
     "metadata": {},
     "output_type": "display_data"
    }
   ],
   "source": [
    "emp_space.show(x='cluster_id', y = 'StoreNum', view='Bar Chart')"
   ]
  },
  {
   "cell_type": "code",
   "execution_count": null,
   "metadata": {
    "collapsed": true
   },
   "outputs": [],
   "source": []
  }
 ],
 "metadata": {
  "kernelspec": {
   "display_name": "Python 2",
   "language": "python",
   "name": "python2"
  },
  "language_info": {
   "codemirror_mode": {
    "name": "ipython",
    "version": 2
   },
   "file_extension": ".py",
   "mimetype": "text/x-python",
   "name": "python",
   "nbconvert_exporter": "python",
   "pygments_lexer": "ipython2",
   "version": "2.7.10"
  }
 },
 "nbformat": 4,
 "nbformat_minor": 0
}
