{
 "cells": [
  {
   "cell_type": "markdown",
   "metadata": {},
   "source": [
    "# Analyzing unstructured text in product review data\n",
    "\n",
    "It's common for companies to have useful data hidden in large volumes of text:\n",
    "\n",
    "- online reviews\n",
    "- social media posts and tweets\n",
    "- interactions with customers, such as emails and call center transcripts\n",
    "\n",
    "For example, when shopping it can be challenging to decide between products with the same star rating. When this happens, shoppers often sift through the raw text of reviews to understand the strengths and weaknesses of each option.\n",
    "\n",
    "<img src=\"ItemC.png\">\n",
    "<img src=\"ItemD.png\">\n",
    "\n",
    "In this notebook we seek to automate the task of determining product strengths and weaknesses from review text.\n",
    "\n",
    "1. splitting Amazon review text into sentences and applying a sentiment analysis model\n",
    "2. tagging documents that mention aspects of interest\n",
    "3. extract adjectives from raw text, and compare their use in positive and negative reviews\n",
    "4. summarizing the use of adjectives for tagged documents\n",
    "\n",
    "GraphLab Create includes feature engineering objects that leverage spaCy, a high performance NLP package. Here we use it for extracting parts of speech and parsing reviews into sentences."
   ]
  },
  {
   "cell_type": "code",
   "execution_count": 3,
   "metadata": {
    "collapsed": false
   },
   "outputs": [],
   "source": [
    "import graphlab as gl"
   ]
  },
  {
   "cell_type": "code",
   "execution_count": 4,
   "metadata": {
    "collapsed": true
   },
   "outputs": [],
   "source": [
    "from graphlab.toolkits.text_analytics import trim_rare_words, split_by_sentence, extract_part_of_speech, stopwords, PartOfSpeech\n",
    "\n",
    "def nlp_pipeline(reviews, title, aspects):\n",
    "\n",
    "    print(title)\n",
    "    \n",
    "    print('1. Get reviews for this product')\n",
    "    reviews = reviews.filter_by(title, 'name')\n",
    "\n",
    "    print('2. Splitting reviews into sentences')\n",
    "    reviews['sentences'] = split_by_sentence(reviews['review'])\n",
    "    sentences = reviews.stack('sentences', 'sentence').dropna()\n",
    "\n",
    "    print('3. Tagging relevant reviews')\n",
    "    tags = gl.SFrame({'tag': aspects})\n",
    "    tagger_model = gl.data_matching.autotagger.create(tags, verbose=False)\n",
    "    tagged = tagger_model.tag(sentences, query_name='sentence', similarity_threshold=.3, verbose=False)\\\n",
    "                         .join(sentences, on='sentence')\n",
    "\n",
    "    print('4. Extracting adjectives')\n",
    "    tagged['cleaned']    = trim_rare_words(tagged['sentence'], stopwords=list(stopwords()))\n",
    "    tagged['adjectives'] = extract_part_of_speech(tagged['cleaned'], [PartOfSpeech.ADJ])\n",
    "\n",
    "    print('5. Predicting sentence-level sentiment')\n",
    "    model = gl.sentiment_analysis.create(tagged, features=['review'])\n",
    "    tagged['sentiment']  = model.predict(tagged)\n",
    "    return tagged"
   ]
  },
  {
   "cell_type": "code",
   "execution_count": 5,
   "metadata": {
    "collapsed": false
   },
   "outputs": [
    {
     "name": "stderr",
     "output_type": "stream",
     "text": [
      "2016-04-13 16:48:46,413 [INFO] graphlab.cython.cy_server, 176: GraphLab Create v1.9 started. Logging: /tmp/graphlab_server_1460591325.log\n"
     ]
    },
    {
     "name": "stdout",
     "output_type": "stream",
     "text": [
      "This commercial license of GraphLab Create is assigned to engr@dato.com.\n"
     ]
    }
   ],
   "source": [
    "reviews = gl.SFrame('amazon_baby.gl')"
   ]
  },
  {
   "cell_type": "code",
   "execution_count": 6,
   "metadata": {
    "collapsed": false
   },
   "outputs": [],
   "source": [
    "from helper_util import *"
   ]
  },
  {
   "cell_type": "markdown",
   "metadata": {},
   "source": [
    "## Focus on chosen aspects about baby monitors"
   ]
  },
  {
   "cell_type": "code",
   "execution_count": 7,
   "metadata": {
    "collapsed": false
   },
   "outputs": [
    {
     "data": {
      "text/html": [
       "<pre>Tokenizing...</pre>"
      ],
      "text/plain": [
       "Tokenizing..."
      ]
     },
     "metadata": {},
     "output_type": "display_data"
    },
    {
     "data": {
      "text/html": [
       "<pre>TF-IDF transform...</pre>"
      ],
      "text/plain": [
       "TF-IDF transform..."
      ]
     },
     "metadata": {},
     "output_type": "display_data"
    },
    {
     "data": {
      "text/html": [
       "<pre>Creating inverted index...</pre>"
      ],
      "text/plain": [
       "Creating inverted index..."
      ]
     },
     "metadata": {},
     "output_type": "display_data"
    },
    {
     "data": {
      "text/html": [
       "<pre>Creating query expansion model...</pre>"
      ],
      "text/plain": [
       "Creating query expansion model..."
      ]
     },
     "metadata": {},
     "output_type": "display_data"
    },
    {
     "data": {
      "text/html": [
       "<pre>Saving data for querying...</pre>"
      ],
      "text/plain": [
       "Saving data for querying..."
      ]
     },
     "metadata": {},
     "output_type": "display_data"
    }
   ],
   "source": [
    "aspects = ['audio', 'price', 'signal', 'range', 'battery life']"
   ]
  },
  {
   "cell_type": "code",
   "execution_count": null,
   "metadata": {
    "collapsed": true
   },
   "outputs": [],
   "source": [
    "reviews = search(reviews, 'monitor')"
   ]
  },
  {
   "cell_type": "code",
   "execution_count": 8,
   "metadata": {
    "collapsed": false
   },
   "outputs": [
    {
     "data": {
      "text/html": [
       "<div style=\"max-height:1000px;max-width:1500px;overflow:auto;\"><table frame=\"box\" rules=\"cols\">\n",
       "    <tr>\n",
       "        <th style=\"padding-left: 1em; padding-right: 1em; text-align: center\">review</th>\n",
       "        <th style=\"padding-left: 1em; padding-right: 1em; text-align: center\">rating</th>\n",
       "        <th style=\"padding-left: 1em; padding-right: 1em; text-align: center\">name</th>\n",
       "    </tr>\n",
       "    <tr>\n",
       "        <td style=\"padding-left: 1em; padding-right: 1em; text-align: center; vertical-align: top\">This baby monitor has<br>been working for us for ...</td>\n",
       "        <td style=\"padding-left: 1em; padding-right: 1em; text-align: center; vertical-align: top\">4.0</td>\n",
       "        <td style=\"padding-left: 1em; padding-right: 1em; text-align: center; vertical-align: top\">Baby Monitor - Direct<br>Link Privacy Monitor ...</td>\n",
       "    </tr>\n",
       "    <tr>\n",
       "        <td style=\"padding-left: 1em; padding-right: 1em; text-align: center; vertical-align: top\">My sister recommended we<br>get this monitor because ...</td>\n",
       "        <td style=\"padding-left: 1em; padding-right: 1em; text-align: center; vertical-align: top\">5.0</td>\n",
       "        <td style=\"padding-left: 1em; padding-right: 1em; text-align: center; vertical-align: top\">Graco ultraclear baby<br>monitor ...</td>\n",
       "    </tr>\n",
       "    <tr>\n",
       "        <td style=\"padding-left: 1em; padding-right: 1em; text-align: center; vertical-align: top\">These monitors are<br>absolutly wonderful.  ...</td>\n",
       "        <td style=\"padding-left: 1em; padding-right: 1em; text-align: center; vertical-align: top\">5.0</td>\n",
       "        <td style=\"padding-left: 1em; padding-right: 1em; text-align: center; vertical-align: top\">Graco ultraclear baby<br>monitor ...</td>\n",
       "    </tr>\n",
       "    <tr>\n",
       "        <td style=\"padding-left: 1em; padding-right: 1em; text-align: center; vertical-align: top\">I have been using this<br>monitor for 10 months ...</td>\n",
       "        <td style=\"padding-left: 1em; padding-right: 1em; text-align: center; vertical-align: top\">5.0</td>\n",
       "        <td style=\"padding-left: 1em; padding-right: 1em; text-align: center; vertical-align: top\">Graco ultraclear baby<br>monitor ...</td>\n",
       "    </tr>\n",
       "    <tr>\n",
       "        <td style=\"padding-left: 1em; padding-right: 1em; text-align: center; vertical-align: top\">After trying and<br>returning 3 different ...</td>\n",
       "        <td style=\"padding-left: 1em; padding-right: 1em; text-align: center; vertical-align: top\">5.0</td>\n",
       "        <td style=\"padding-left: 1em; padding-right: 1em; text-align: center; vertical-align: top\">Graco ultraclear baby<br>monitor ...</td>\n",
       "    </tr>\n",
       "    <tr>\n",
       "        <td style=\"padding-left: 1em; padding-right: 1em; text-align: center; vertical-align: top\">This monitor has been<br>great!  It's always very ...</td>\n",
       "        <td style=\"padding-left: 1em; padding-right: 1em; text-align: center; vertical-align: top\">5.0</td>\n",
       "        <td style=\"padding-left: 1em; padding-right: 1em; text-align: center; vertical-align: top\">Graco ultraclear baby<br>monitor ...</td>\n",
       "    </tr>\n",
       "    <tr>\n",
       "        <td style=\"padding-left: 1em; padding-right: 1em; text-align: center; vertical-align: top\">I have used this monitor<br>for three years with my ...</td>\n",
       "        <td style=\"padding-left: 1em; padding-right: 1em; text-align: center; vertical-align: top\">3.0</td>\n",
       "        <td style=\"padding-left: 1em; padding-right: 1em; text-align: center; vertical-align: top\">Graco ultraclear baby<br>monitor ...</td>\n",
       "    </tr>\n",
       "    <tr>\n",
       "        <td style=\"padding-left: 1em; padding-right: 1em; text-align: center; vertical-align: top\">Amazing monitor, I can<br>hear every little sound ...</td>\n",
       "        <td style=\"padding-left: 1em; padding-right: 1em; text-align: center; vertical-align: top\">5.0</td>\n",
       "        <td style=\"padding-left: 1em; padding-right: 1em; text-align: center; vertical-align: top\">Graco ultraclear baby<br>monitor ...</td>\n",
       "    </tr>\n",
       "    <tr>\n",
       "        <td style=\"padding-left: 1em; padding-right: 1em; text-align: center; vertical-align: top\">We were giving this<br>monitor as a gift since ...</td>\n",
       "        <td style=\"padding-left: 1em; padding-right: 1em; text-align: center; vertical-align: top\">2.0</td>\n",
       "        <td style=\"padding-left: 1em; padding-right: 1em; text-align: center; vertical-align: top\">Graco ultraclear baby<br>monitor ...</td>\n",
       "    </tr>\n",
       "    <tr>\n",
       "        <td style=\"padding-left: 1em; padding-right: 1em; text-align: center; vertical-align: top\">1 is too many stars for<br>the product! ...</td>\n",
       "        <td style=\"padding-left: 1em; padding-right: 1em; text-align: center; vertical-align: top\">1.0</td>\n",
       "        <td style=\"padding-left: 1em; padding-right: 1em; text-align: center; vertical-align: top\">Fisher-price Super-<br>sensitive Nursey Monitor ...</td>\n",
       "    </tr>\n",
       "</table>\n",
       "[7358 rows x 3 columns]<br/>Note: Only the head of the SFrame is printed.<br/>You can use print_rows(num_rows=m, num_columns=n) to print more rows and columns.\n",
       "</div>"
      ],
      "text/plain": [
       "Columns:\n",
       "\treview\tstr\n",
       "\trating\tfloat\n",
       "\tname\tstr\n",
       "\n",
       "Rows: 7358\n",
       "\n",
       "Data:\n",
       "+-------------------------------+--------+-------------------------------+\n",
       "|             review            | rating |              name             |\n",
       "+-------------------------------+--------+-------------------------------+\n",
       "| This baby monitor has been... |  4.0   | Baby Monitor - Direct Link... |\n",
       "| My sister recommended we g... |  5.0   | Graco ultraclear baby monitor |\n",
       "| These monitors are absolut... |  5.0   | Graco ultraclear baby monitor |\n",
       "| I have been using this mon... |  5.0   | Graco ultraclear baby monitor |\n",
       "| After trying and returning... |  5.0   | Graco ultraclear baby monitor |\n",
       "| This monitor has been grea... |  5.0   | Graco ultraclear baby monitor |\n",
       "| I have used this monitor f... |  3.0   | Graco ultraclear baby monitor |\n",
       "| Amazing monitor, I can hea... |  5.0   | Graco ultraclear baby monitor |\n",
       "| We were giving this monito... |  2.0   | Graco ultraclear baby monitor |\n",
       "| 1 is too many stars for th... |  1.0   | Fisher-price Super-sensiti... |\n",
       "+-------------------------------+--------+-------------------------------+\n",
       "[7358 rows x 3 columns]\n",
       "Note: Only the head of the SFrame is printed.\n",
       "You can use print_rows(num_rows=m, num_columns=n) to print more rows and columns."
      ]
     },
     "execution_count": 8,
     "metadata": {},
     "output_type": "execute_result"
    }
   ],
   "source": [
    "reviews"
   ]
  },
  {
   "cell_type": "markdown",
   "metadata": {},
   "source": [
    "## Process reviews for the most common product"
   ]
  },
  {
   "cell_type": "code",
   "execution_count": 9,
   "metadata": {
    "collapsed": false
   },
   "outputs": [
    {
     "name": "stdout",
     "output_type": "stream",
     "text": [
      "Infant Optics DXR-5 2.4 GHz Digital Video Baby Monitor with Night Vision\n",
      "1. Get reviews for this product\n",
      "2. Splitting reviews into sentences\n",
      "3. Tagging relevant reviews\n",
      "4. Extracting adjectives\n",
      "5. Predicting sentence-level sentiment\n"
     ]
    }
   ],
   "source": [
    "item_a = 'Infant Optics DXR-5 2.4 GHz Digital Video Baby Monitor with Night Vision'\n",
    "reviews_a = nlp_pipeline(reviews, item_a, aspects)"
   ]
  },
  {
   "cell_type": "code",
   "execution_count": 11,
   "metadata": {
    "collapsed": false
   },
   "outputs": [
    {
     "data": {
      "text/html": [
       "<div style=\"max-height:1000px;max-width:1500px;overflow:auto;\"><table frame=\"box\" rules=\"cols\">\n",
       "    <tr>\n",
       "        <th style=\"padding-left: 1em; padding-right: 1em; text-align: center\">sentence_id</th>\n",
       "        <th style=\"padding-left: 1em; padding-right: 1em; text-align: center\">sentence</th>\n",
       "        <th style=\"padding-left: 1em; padding-right: 1em; text-align: center\">tag</th>\n",
       "        <th style=\"padding-left: 1em; padding-right: 1em; text-align: center\">score</th>\n",
       "        <th style=\"padding-left: 1em; padding-right: 1em; text-align: center\">review</th>\n",
       "        <th style=\"padding-left: 1em; padding-right: 1em; text-align: center\">rating</th>\n",
       "    </tr>\n",
       "    <tr>\n",
       "        <td style=\"padding-left: 1em; padding-right: 1em; text-align: center; vertical-align: top\">2</td>\n",
       "        <td style=\"padding-left: 1em; padding-right: 1em; text-align: center; vertical-align: top\">It killed our wifi signal<br>then lost it's pairing ...</td>\n",
       "        <td style=\"padding-left: 1em; padding-right: 1em; text-align: center; vertical-align: top\">signal</td>\n",
       "        <td style=\"padding-left: 1em; padding-right: 1em; text-align: center; vertical-align: top\">1.0</td>\n",
       "        <td style=\"padding-left: 1em; padding-right: 1em; text-align: center; vertical-align: top\">It killed our wifi signal<br>then lost it's pairing ...</td>\n",
       "        <td style=\"padding-left: 1em; padding-right: 1em; text-align: center; vertical-align: top\">1.0</td>\n",
       "    </tr>\n",
       "    <tr>\n",
       "        <td style=\"padding-left: 1em; padding-right: 1em; text-align: center; vertical-align: top\">4</td>\n",
       "        <td style=\"padding-left: 1em; padding-right: 1em; text-align: center; vertical-align: top\">Both audio and video<br>monitor supersedes the ...</td>\n",
       "        <td style=\"padding-left: 1em; padding-right: 1em; text-align: center; vertical-align: top\">audio</td>\n",
       "        <td style=\"padding-left: 1em; padding-right: 1em; text-align: center; vertical-align: top\">0.5</td>\n",
       "        <td style=\"padding-left: 1em; padding-right: 1em; text-align: center; vertical-align: top\">I love this video<br>monitor. Both audio and ...</td>\n",
       "        <td style=\"padding-left: 1em; padding-right: 1em; text-align: center; vertical-align: top\">5.0</td>\n",
       "    </tr>\n",
       "    <tr>\n",
       "        <td style=\"padding-left: 1em; padding-right: 1em; text-align: center; vertical-align: top\">4</td>\n",
       "        <td style=\"padding-left: 1em; padding-right: 1em; text-align: center; vertical-align: top\">Both audio and video<br>monitor supersedes the ...</td>\n",
       "        <td style=\"padding-left: 1em; padding-right: 1em; text-align: center; vertical-align: top\">price</td>\n",
       "        <td style=\"padding-left: 1em; padding-right: 1em; text-align: center; vertical-align: top\">0.5</td>\n",
       "        <td style=\"padding-left: 1em; padding-right: 1em; text-align: center; vertical-align: top\">I love this video<br>monitor. Both audio and ...</td>\n",
       "        <td style=\"padding-left: 1em; padding-right: 1em; text-align: center; vertical-align: top\">5.0</td>\n",
       "    </tr>\n",
       "    <tr>\n",
       "        <td style=\"padding-left: 1em; padding-right: 1em; text-align: center; vertical-align: top\">5</td>\n",
       "        <td style=\"padding-left: 1em; padding-right: 1em; text-align: center; vertical-align: top\">The VOX poewr saving<br>helps prevent quick ...</td>\n",
       "        <td style=\"padding-left: 1em; padding-right: 1em; text-align: center; vertical-align: top\">battery life</td>\n",
       "        <td style=\"padding-left: 1em; padding-right: 1em; text-align: center; vertical-align: top\">0.454545454545</td>\n",
       "        <td style=\"padding-left: 1em; padding-right: 1em; text-align: center; vertical-align: top\">I love this video<br>monitor. Both audio and ...</td>\n",
       "        <td style=\"padding-left: 1em; padding-right: 1em; text-align: center; vertical-align: top\">5.0</td>\n",
       "    </tr>\n",
       "    <tr>\n",
       "        <td style=\"padding-left: 1em; padding-right: 1em; text-align: center; vertical-align: top\">11</td>\n",
       "        <td style=\"padding-left: 1em; padding-right: 1em; text-align: center; vertical-align: top\">Definitely worth the<br>price. ...</td>\n",
       "        <td style=\"padding-left: 1em; padding-right: 1em; text-align: center; vertical-align: top\">price</td>\n",
       "        <td style=\"padding-left: 1em; padding-right: 1em; text-align: center; vertical-align: top\">0.666666666667</td>\n",
       "        <td style=\"padding-left: 1em; padding-right: 1em; text-align: center; vertical-align: top\">This is such a great<br>camera. It doesn't pivot ...</td>\n",
       "        <td style=\"padding-left: 1em; padding-right: 1em; text-align: center; vertical-align: top\">5.0</td>\n",
       "    </tr>\n",
       "    <tr>\n",
       "        <td style=\"padding-left: 1em; padding-right: 1em; text-align: center; vertical-align: top\">17</td>\n",
       "        <td style=\"padding-left: 1em; padding-right: 1em; text-align: center; vertical-align: top\">I purchased it based on<br>reviews and the appea ...</td>\n",
       "        <td style=\"padding-left: 1em; padding-right: 1em; text-align: center; vertical-align: top\">price</td>\n",
       "        <td style=\"padding-left: 1em; padding-right: 1em; text-align: center; vertical-align: top\">0.666666666667</td>\n",
       "        <td style=\"padding-left: 1em; padding-right: 1em; text-align: center; vertical-align: top\">I had bought this monitor<br>back in july when my ...</td>\n",
       "        <td style=\"padding-left: 1em; padding-right: 1em; text-align: center; vertical-align: top\">1.0</td>\n",
       "    </tr>\n",
       "    <tr>\n",
       "        <td style=\"padding-left: 1em; padding-right: 1em; text-align: center; vertical-align: top\">18</td>\n",
       "        <td style=\"padding-left: 1em; padding-right: 1em; text-align: center; vertical-align: top\">First and foremost the<br>battery life SUCKS. ...</td>\n",
       "        <td style=\"padding-left: 1em; padding-right: 1em; text-align: center; vertical-align: top\">battery life</td>\n",
       "        <td style=\"padding-left: 1em; padding-right: 1em; text-align: center; vertical-align: top\">1.0</td>\n",
       "        <td style=\"padding-left: 1em; padding-right: 1em; text-align: center; vertical-align: top\">I had bought this monitor<br>back in july when my ...</td>\n",
       "        <td style=\"padding-left: 1em; padding-right: 1em; text-align: center; vertical-align: top\">1.0</td>\n",
       "    </tr>\n",
       "    <tr>\n",
       "        <td style=\"padding-left: 1em; padding-right: 1em; text-align: center; vertical-align: top\">35</td>\n",
       "        <td style=\"padding-left: 1em; padding-right: 1em; text-align: center; vertical-align: top\">It's good and inexpensive<br>enough that we've dec ...</td>\n",
       "        <td style=\"padding-left: 1em; padding-right: 1em; text-align: center; vertical-align: top\">range</td>\n",
       "        <td style=\"padding-left: 1em; padding-right: 1em; text-align: center; vertical-align: top\">0.333333333333</td>\n",
       "        <td style=\"padding-left: 1em; padding-right: 1em; text-align: center; vertical-align: top\">I tried this after having<br>the Lenox monitor. The ...</td>\n",
       "        <td style=\"padding-left: 1em; padding-right: 1em; text-align: center; vertical-align: top\">4.0</td>\n",
       "    </tr>\n",
       "    <tr>\n",
       "        <td style=\"padding-left: 1em; padding-right: 1em; text-align: center; vertical-align: top\">36</td>\n",
       "        <td style=\"padding-left: 1em; padding-right: 1em; text-align: center; vertical-align: top\">It's been hard to find a<br>video system that does ...</td>\n",
       "        <td style=\"padding-left: 1em; padding-right: 1em; text-align: center; vertical-align: top\">price</td>\n",
       "        <td style=\"padding-left: 1em; padding-right: 1em; text-align: center; vertical-align: top\">0.666666666667</td>\n",
       "        <td style=\"padding-left: 1em; padding-right: 1em; text-align: center; vertical-align: top\">I tried this after having<br>the Lenox monitor. The ...</td>\n",
       "        <td style=\"padding-left: 1em; padding-right: 1em; text-align: center; vertical-align: top\">4.0</td>\n",
       "    </tr>\n",
       "    <tr>\n",
       "        <td style=\"padding-left: 1em; padding-right: 1em; text-align: center; vertical-align: top\">40</td>\n",
       "        <td style=\"padding-left: 1em; padding-right: 1em; text-align: center; vertical-align: top\">This is a great camera<br>monitor for the price. ...</td>\n",
       "        <td style=\"padding-left: 1em; padding-right: 1em; text-align: center; vertical-align: top\">price</td>\n",
       "        <td style=\"padding-left: 1em; padding-right: 1em; text-align: center; vertical-align: top\">0.666666666667</td>\n",
       "        <td style=\"padding-left: 1em; padding-right: 1em; text-align: center; vertical-align: top\">This is a great camera<br>monitor for the price. ...</td>\n",
       "        <td style=\"padding-left: 1em; padding-right: 1em; text-align: center; vertical-align: top\">4.0</td>\n",
       "    </tr>\n",
       "</table>\n",
       "<table frame=\"box\" rules=\"cols\">\n",
       "    <tr>\n",
       "        <th style=\"padding-left: 1em; padding-right: 1em; text-align: center\">name</th>\n",
       "        <th style=\"padding-left: 1em; padding-right: 1em; text-align: center\">cleaned</th>\n",
       "        <th style=\"padding-left: 1em; padding-right: 1em; text-align: center\">adjectives</th>\n",
       "        <th style=\"padding-left: 1em; padding-right: 1em; text-align: center\">sentiment</th>\n",
       "    </tr>\n",
       "    <tr>\n",
       "        <td style=\"padding-left: 1em; padding-right: 1em; text-align: center; vertical-align: top\">Infant Optics DXR-5 2.4<br>GHz Digital Video Baby ...</td>\n",
       "        <td style=\"padding-left: 1em; padding-right: 1em; text-align: center; vertical-align: top\">wifi signal lost it's<br>camera. ...</td>\n",
       "        <td style=\"padding-left: 1em; padding-right: 1em; text-align: center; vertical-align: top\">[]</td>\n",
       "        <td style=\"padding-left: 1em; padding-right: 1em; text-align: center; vertical-align: top\">0.726841681132</td>\n",
       "    </tr>\n",
       "    <tr>\n",
       "        <td style=\"padding-left: 1em; padding-right: 1em; text-align: center; vertical-align: top\">Infant Optics DXR-5 2.4<br>GHz Digital Video Baby ...</td>\n",
       "        <td style=\"padding-left: 1em; padding-right: 1em; text-align: center; vertical-align: top\">audio video monitor<br>supersedes quality ...</td>\n",
       "        <td style=\"padding-left: 1em; padding-right: 1em; text-align: center; vertical-align: top\">[audio, previous]</td>\n",
       "        <td style=\"padding-left: 1em; padding-right: 1em; text-align: center; vertical-align: top\">0.95069270188</td>\n",
       "    </tr>\n",
       "    <tr>\n",
       "        <td style=\"padding-left: 1em; padding-right: 1em; text-align: center; vertical-align: top\">Infant Optics DXR-5 2.4<br>GHz Digital Video Baby ...</td>\n",
       "        <td style=\"padding-left: 1em; padding-right: 1em; text-align: center; vertical-align: top\">audio video monitor<br>supersedes quality ...</td>\n",
       "        <td style=\"padding-left: 1em; padding-right: 1em; text-align: center; vertical-align: top\">[audio, previous]</td>\n",
       "        <td style=\"padding-left: 1em; padding-right: 1em; text-align: center; vertical-align: top\">0.954092282107</td>\n",
       "    </tr>\n",
       "    <tr>\n",
       "        <td style=\"padding-left: 1em; padding-right: 1em; text-align: center; vertical-align: top\">Infant Optics DXR-5 2.4<br>GHz Digital Video Baby ...</td>\n",
       "        <td style=\"padding-left: 1em; padding-right: 1em; text-align: center; vertical-align: top\">vox saving quick battery<br>(which doesn't wanted ...</td>\n",
       "        <td style=\"padding-left: 1em; padding-right: 1em; text-align: center; vertical-align: top\">[vox, quick, which]</td>\n",
       "        <td style=\"padding-left: 1em; padding-right: 1em; text-align: center; vertical-align: top\">0.830247002167</td>\n",
       "    </tr>\n",
       "    <tr>\n",
       "        <td style=\"padding-left: 1em; padding-right: 1em; text-align: center; vertical-align: top\">Infant Optics DXR-5 2.4<br>GHz Digital Video Baby ...</td>\n",
       "        <td style=\"padding-left: 1em; padding-right: 1em; text-align: center; vertical-align: top\">worth price.</td>\n",
       "        <td style=\"padding-left: 1em; padding-right: 1em; text-align: center; vertical-align: top\">[worth]</td>\n",
       "        <td style=\"padding-left: 1em; padding-right: 1em; text-align: center; vertical-align: top\">0.999794625299</td>\n",
       "    </tr>\n",
       "    <tr>\n",
       "        <td style=\"padding-left: 1em; padding-right: 1em; text-align: center; vertical-align: top\">Infant Optics DXR-5 2.4<br>GHz Digital Video Baby ...</td>\n",
       "        <td style=\"padding-left: 1em; padding-right: 1em; text-align: center; vertical-align: top\">purchased based reviews<br>price. ...</td>\n",
       "        <td style=\"padding-left: 1em; padding-right: 1em; text-align: center; vertical-align: top\">[]</td>\n",
       "        <td style=\"padding-left: 1em; padding-right: 1em; text-align: center; vertical-align: top\">0.177435087275</td>\n",
       "    </tr>\n",
       "    <tr>\n",
       "        <td style=\"padding-left: 1em; padding-right: 1em; text-align: center; vertical-align: top\">Infant Optics DXR-5 2.4<br>GHz Digital Video Baby ...</td>\n",
       "        <td style=\"padding-left: 1em; padding-right: 1em; text-align: center; vertical-align: top\">battery life</td>\n",
       "        <td style=\"padding-left: 1em; padding-right: 1em; text-align: center; vertical-align: top\">[]</td>\n",
       "        <td style=\"padding-left: 1em; padding-right: 1em; text-align: center; vertical-align: top\">0.0887905806345</td>\n",
       "    </tr>\n",
       "    <tr>\n",
       "        <td style=\"padding-left: 1em; padding-right: 1em; text-align: center; vertical-align: top\">Infant Optics DXR-5 2.4<br>GHz Digital Video Baby ...</td>\n",
       "        <td style=\"padding-left: 1em; padding-right: 1em; text-align: center; vertical-align: top\">it's good inexpensive<br>we've decided angelcare ...</td>\n",
       "        <td style=\"padding-left: 1em; padding-right: 1em; text-align: center; vertical-align: top\">[good, inexpensive,<br>sound, total] ...</td>\n",
       "        <td style=\"padding-left: 1em; padding-right: 1em; text-align: center; vertical-align: top\">0.999940613283</td>\n",
       "    </tr>\n",
       "    <tr>\n",
       "        <td style=\"padding-left: 1em; padding-right: 1em; text-align: center; vertical-align: top\">Infant Optics DXR-5 2.4<br>GHz Digital Video Baby ...</td>\n",
       "        <td style=\"padding-left: 1em; padding-right: 1em; text-align: center; vertical-align: top\">it's hard find video<br>system price, work us. ...</td>\n",
       "        <td style=\"padding-left: 1em; padding-right: 1em; text-align: center; vertical-align: top\">[hard, find]</td>\n",
       "        <td style=\"padding-left: 1em; padding-right: 1em; text-align: center; vertical-align: top\">0.999923476009</td>\n",
       "    </tr>\n",
       "    <tr>\n",
       "        <td style=\"padding-left: 1em; padding-right: 1em; text-align: center; vertical-align: top\">Infant Optics DXR-5 2.4<br>GHz Digital Video Baby ...</td>\n",
       "        <td style=\"padding-left: 1em; padding-right: 1em; text-align: center; vertical-align: top\">great camera monitor<br>price. ...</td>\n",
       "        <td style=\"padding-left: 1em; padding-right: 1em; text-align: center; vertical-align: top\">[great]</td>\n",
       "        <td style=\"padding-left: 1em; padding-right: 1em; text-align: center; vertical-align: top\">0.999951337173</td>\n",
       "    </tr>\n",
       "</table>\n",
       "[787 rows x 10 columns]<br/>Note: Only the head of the SFrame is printed.<br/>You can use print_rows(num_rows=m, num_columns=n) to print more rows and columns.\n",
       "</div>"
      ],
      "text/plain": [
       "Columns:\n",
       "\tsentence_id\tint\n",
       "\tsentence\tstr\n",
       "\ttag\tstr\n",
       "\tscore\tfloat\n",
       "\treview\tstr\n",
       "\trating\tfloat\n",
       "\tname\tstr\n",
       "\tcleaned\tstr\n",
       "\tadjectives\tlist\n",
       "\tsentiment\tfloat\n",
       "\n",
       "Rows: 787\n",
       "\n",
       "Data:\n",
       "+-------------+-------------------------------+--------------+----------------+\n",
       "| sentence_id |            sentence           |     tag      |     score      |\n",
       "+-------------+-------------------------------+--------------+----------------+\n",
       "|      2      | It killed our wifi signal ... |    signal    |      1.0       |\n",
       "|      4      | Both audio and video monit... |    audio     |      0.5       |\n",
       "|      4      | Both audio and video monit... |    price     |      0.5       |\n",
       "|      5      | The VOX poewr saving helps... | battery life | 0.454545454545 |\n",
       "|      11     |  Definitely worth the price.  |    price     | 0.666666666667 |\n",
       "|      17     | I purchased it based on re... |    price     | 0.666666666667 |\n",
       "|      18     | First and foremost the bat... | battery life |      1.0       |\n",
       "|      35     | It's good and inexpensive ... |    range     | 0.333333333333 |\n",
       "|      36     | It's been hard to find a v... |    price     | 0.666666666667 |\n",
       "|      40     | This is a great camera mon... |    price     | 0.666666666667 |\n",
       "+-------------+-------------------------------+--------------+----------------+\n",
       "+-------------------------------+--------+-------------------------------+\n",
       "|             review            | rating |              name             |\n",
       "+-------------------------------+--------+-------------------------------+\n",
       "| It killed our wifi signal ... |  1.0   | Infant Optics DXR-5 2.4 GH... |\n",
       "| I love this video monitor.... |  5.0   | Infant Optics DXR-5 2.4 GH... |\n",
       "| I love this video monitor.... |  5.0   | Infant Optics DXR-5 2.4 GH... |\n",
       "| I love this video monitor.... |  5.0   | Infant Optics DXR-5 2.4 GH... |\n",
       "| This is such a great camer... |  5.0   | Infant Optics DXR-5 2.4 GH... |\n",
       "| I had bought this monitor ... |  1.0   | Infant Optics DXR-5 2.4 GH... |\n",
       "| I had bought this monitor ... |  1.0   | Infant Optics DXR-5 2.4 GH... |\n",
       "| I tried this after having ... |  4.0   | Infant Optics DXR-5 2.4 GH... |\n",
       "| I tried this after having ... |  4.0   | Infant Optics DXR-5 2.4 GH... |\n",
       "| This is a great camera mon... |  4.0   | Infant Optics DXR-5 2.4 GH... |\n",
       "+-------------------------------+--------+-------------------------------+\n",
       "+--------------------------------+-------------------------------+\n",
       "|            cleaned             |           adjectives          |\n",
       "+--------------------------------+-------------------------------+\n",
       "| wifi signal lost it's camera.  |               []              |\n",
       "| audio video monitor supers...  |       [audio, previous]       |\n",
       "| audio video monitor supers...  |       [audio, previous]       |\n",
       "| vox saving quick battery (...  |      [vox, quick, which]      |\n",
       "|          worth price.          |            [worth]            |\n",
       "| purchased based reviews price. |               []              |\n",
       "|          battery life          |               []              |\n",
       "| it's good inexpensive we'v...  | [good, inexpensive, sound,... |\n",
       "| it's hard find video syste...  |          [hard, find]         |\n",
       "|  great camera monitor price.   |            [great]            |\n",
       "+--------------------------------+-------------------------------+\n",
       "+-----------------+\n",
       "|    sentiment    |\n",
       "+-----------------+\n",
       "|  0.726841681132 |\n",
       "|  0.95069270188  |\n",
       "|  0.954092282107 |\n",
       "|  0.830247002167 |\n",
       "|  0.999794625299 |\n",
       "|  0.177435087275 |\n",
       "| 0.0887905806345 |\n",
       "|  0.999940613283 |\n",
       "|  0.999923476009 |\n",
       "|  0.999951337173 |\n",
       "+-----------------+\n",
       "[787 rows x 10 columns]\n",
       "Note: Only the head of the SFrame is printed.\n",
       "You can use print_rows(num_rows=m, num_columns=n) to print more rows and columns."
      ]
     },
     "execution_count": 11,
     "metadata": {},
     "output_type": "execute_result"
    }
   ],
   "source": [
    "reviews_a"
   ]
  },
  {
   "cell_type": "markdown",
   "metadata": {},
   "source": [
    "## Comparing to another product"
   ]
  },
  {
   "cell_type": "code",
   "execution_count": 12,
   "metadata": {
    "collapsed": false
   },
   "outputs": [],
   "source": [
    "dropdown = get_dropdown(reviews)\n",
    "display(dropdown)"
   ]
  },
  {
   "cell_type": "code",
   "execution_count": 14,
   "metadata": {
    "collapsed": false
   },
   "outputs": [
    {
     "name": "stdout",
     "output_type": "stream",
     "text": [
      "VTech Communications Safe &amp; Sound Digital Audio Monitor\n",
      "1. Get reviews for this product\n",
      "2. Splitting reviews into sentences\n",
      "3. Tagging relevant reviews\n",
      "4. Extracting adjectives\n",
      "5. Predicting sentence-level sentiment\n"
     ]
    }
   ],
   "source": [
    "item_b = dropdown.value\n",
    "reviews_b = nlp_pipeline(reviews, item_b, aspects)\n",
    "counts, sentiment, adjectives = get_comparisons(reviews_a, reviews_b, item_a, item_b, aspects)"
   ]
  },
  {
   "cell_type": "markdown",
   "metadata": {},
   "source": [
    "Comparing the number of sentences that mention each aspect"
   ]
  },
  {
   "cell_type": "code",
   "execution_count": 15,
   "metadata": {
    "collapsed": false
   },
   "outputs": [
    {
     "data": {
      "text/html": [
       "<div style=\"max-height:1000px;max-width:1500px;overflow:auto;\"><table frame=\"box\" rules=\"cols\">\n",
       "    <tr>\n",
       "        <th style=\"padding-left: 1em; padding-right: 1em; text-align: center\">tag</th>\n",
       "        <th style=\"padding-left: 1em; padding-right: 1em; text-align: center\">Infant Optics DXR-5 2.4<br>GHz Digital Video Baby ...</th>\n",
       "        <th style=\"padding-left: 1em; padding-right: 1em; text-align: center\">VTech Communications Safe<br>&amp;amp; Sound Digital A ...</th>\n",
       "    </tr>\n",
       "    <tr>\n",
       "        <td style=\"padding-left: 1em; padding-right: 1em; text-align: center; vertical-align: top\">signal</td>\n",
       "        <td style=\"padding-left: 1em; padding-right: 1em; text-align: center; vertical-align: top\">107</td>\n",
       "        <td style=\"padding-left: 1em; padding-right: 1em; text-align: center; vertical-align: top\">15</td>\n",
       "    </tr>\n",
       "    <tr>\n",
       "        <td style=\"padding-left: 1em; padding-right: 1em; text-align: center; vertical-align: top\">battery life</td>\n",
       "        <td style=\"padding-left: 1em; padding-right: 1em; text-align: center; vertical-align: top\">180</td>\n",
       "        <td style=\"padding-left: 1em; padding-right: 1em; text-align: center; vertical-align: top\">93</td>\n",
       "    </tr>\n",
       "    <tr>\n",
       "        <td style=\"padding-left: 1em; padding-right: 1em; text-align: center; vertical-align: top\">range</td>\n",
       "        <td style=\"padding-left: 1em; padding-right: 1em; text-align: center; vertical-align: top\">144</td>\n",
       "        <td style=\"padding-left: 1em; padding-right: 1em; text-align: center; vertical-align: top\">68</td>\n",
       "    </tr>\n",
       "    <tr>\n",
       "        <td style=\"padding-left: 1em; padding-right: 1em; text-align: center; vertical-align: top\">audio</td>\n",
       "        <td style=\"padding-left: 1em; padding-right: 1em; text-align: center; vertical-align: top\">105</td>\n",
       "        <td style=\"padding-left: 1em; padding-right: 1em; text-align: center; vertical-align: top\">27</td>\n",
       "    </tr>\n",
       "    <tr>\n",
       "        <td style=\"padding-left: 1em; padding-right: 1em; text-align: center; vertical-align: top\">price</td>\n",
       "        <td style=\"padding-left: 1em; padding-right: 1em; text-align: center; vertical-align: top\">251</td>\n",
       "        <td style=\"padding-left: 1em; padding-right: 1em; text-align: center; vertical-align: top\">69</td>\n",
       "    </tr>\n",
       "</table>\n",
       "[5 rows x 3 columns]<br/>\n",
       "</div>"
      ],
      "text/plain": [
       "Columns:\n",
       "\ttag\tstr\n",
       "\tInfant Optics DXR-5 2.4 GHz Digital Video Baby Monitor with Night Vision\tint\n",
       "\tVTech Communications Safe &amp; Sound Digital Audio Monitor\tint\n",
       "\n",
       "Rows: 5\n",
       "\n",
       "Data:\n",
       "+--------------+-------------------------------+-------------------------------+\n",
       "|     tag      | Infant Optics DXR-5 2.4 GH... | VTech Communications Safe ... |\n",
       "+--------------+-------------------------------+-------------------------------+\n",
       "|    signal    |              107              |               15              |\n",
       "| battery life |              180              |               93              |\n",
       "|    range     |              144              |               68              |\n",
       "|    audio     |              105              |               27              |\n",
       "|    price     |              251              |               69              |\n",
       "+--------------+-------------------------------+-------------------------------+\n",
       "[5 rows x 3 columns]"
      ]
     },
     "execution_count": 15,
     "metadata": {},
     "output_type": "execute_result"
    }
   ],
   "source": [
    "counts"
   ]
  },
  {
   "cell_type": "markdown",
   "metadata": {},
   "source": [
    "Comparing the sentence-level sentiment for each aspect of each product"
   ]
  },
  {
   "cell_type": "code",
   "execution_count": 16,
   "metadata": {
    "collapsed": false
   },
   "outputs": [
    {
     "data": {
      "text/html": [
       "<div style=\"max-height:1000px;max-width:1500px;overflow:auto;\"><table frame=\"box\" rules=\"cols\">\n",
       "    <tr>\n",
       "        <th style=\"padding-left: 1em; padding-right: 1em; text-align: center\">tag</th>\n",
       "        <th style=\"padding-left: 1em; padding-right: 1em; text-align: center\">Infant Optics DXR-5 2.4<br>GHz Digital Video Baby ...</th>\n",
       "        <th style=\"padding-left: 1em; padding-right: 1em; text-align: center\">VTech Communications Safe<br>&amp;amp; Sound Digital A ...</th>\n",
       "    </tr>\n",
       "    <tr>\n",
       "        <td style=\"padding-left: 1em; padding-right: 1em; text-align: center; vertical-align: top\">signal</td>\n",
       "        <td style=\"padding-left: 1em; padding-right: 1em; text-align: center; vertical-align: top\">0.674221231596</td>\n",
       "        <td style=\"padding-left: 1em; padding-right: 1em; text-align: center; vertical-align: top\">0.695281129091</td>\n",
       "    </tr>\n",
       "    <tr>\n",
       "        <td style=\"padding-left: 1em; padding-right: 1em; text-align: center; vertical-align: top\">battery life</td>\n",
       "        <td style=\"padding-left: 1em; padding-right: 1em; text-align: center; vertical-align: top\">0.761379749571</td>\n",
       "        <td style=\"padding-left: 1em; padding-right: 1em; text-align: center; vertical-align: top\">0.831840808502</td>\n",
       "    </tr>\n",
       "    <tr>\n",
       "        <td style=\"padding-left: 1em; padding-right: 1em; text-align: center; vertical-align: top\">range</td>\n",
       "        <td style=\"padding-left: 1em; padding-right: 1em; text-align: center; vertical-align: top\">0.862246778561</td>\n",
       "        <td style=\"padding-left: 1em; padding-right: 1em; text-align: center; vertical-align: top\">0.840649624394</td>\n",
       "    </tr>\n",
       "    <tr>\n",
       "        <td style=\"padding-left: 1em; padding-right: 1em; text-align: center; vertical-align: top\">audio</td>\n",
       "        <td style=\"padding-left: 1em; padding-right: 1em; text-align: center; vertical-align: top\">0.826972950724</td>\n",
       "        <td style=\"padding-left: 1em; padding-right: 1em; text-align: center; vertical-align: top\">0.92381971402</td>\n",
       "    </tr>\n",
       "    <tr>\n",
       "        <td style=\"padding-left: 1em; padding-right: 1em; text-align: center; vertical-align: top\">price</td>\n",
       "        <td style=\"padding-left: 1em; padding-right: 1em; text-align: center; vertical-align: top\">0.885832746604</td>\n",
       "        <td style=\"padding-left: 1em; padding-right: 1em; text-align: center; vertical-align: top\">0.914282565406</td>\n",
       "    </tr>\n",
       "</table>\n",
       "[5 rows x 3 columns]<br/>\n",
       "</div>"
      ],
      "text/plain": [
       "Columns:\n",
       "\ttag\tstr\n",
       "\tInfant Optics DXR-5 2.4 GHz Digital Video Baby Monitor with Night Vision\tfloat\n",
       "\tVTech Communications Safe &amp; Sound Digital Audio Monitor\tfloat\n",
       "\n",
       "Rows: 5\n",
       "\n",
       "Data:\n",
       "+--------------+-------------------------------+-------------------------------+\n",
       "|     tag      | Infant Optics DXR-5 2.4 GH... | VTech Communications Safe ... |\n",
       "+--------------+-------------------------------+-------------------------------+\n",
       "|    signal    |         0.674221231596        |         0.695281129091        |\n",
       "| battery life |         0.761379749571        |         0.831840808502        |\n",
       "|    range     |         0.862246778561        |         0.840649624394        |\n",
       "|    audio     |         0.826972950724        |         0.92381971402         |\n",
       "|    price     |         0.885832746604        |         0.914282565406        |\n",
       "+--------------+-------------------------------+-------------------------------+\n",
       "[5 rows x 3 columns]"
      ]
     },
     "execution_count": 16,
     "metadata": {},
     "output_type": "execute_result"
    }
   ],
   "source": [
    "sentiment"
   ]
  },
  {
   "cell_type": "markdown",
   "metadata": {},
   "source": [
    "Comparing the use of adjectives for each aspect"
   ]
  },
  {
   "cell_type": "code",
   "execution_count": 17,
   "metadata": {
    "collapsed": false
   },
   "outputs": [
    {
     "data": {
      "text/html": [
       "<div style=\"max-height:1000px;max-width:1500px;overflow:auto;\"><table frame=\"box\" rules=\"cols\">\n",
       "    <tr>\n",
       "        <th style=\"padding-left: 1em; padding-right: 1em; text-align: center\">tag</th>\n",
       "        <th style=\"padding-left: 1em; padding-right: 1em; text-align: center\">Infant Optics DXR-5 2.4<br>GHz Digital Video Baby ...</th>\n",
       "        <th style=\"padding-left: 1em; padding-right: 1em; text-align: center\">VTech Communications Safe<br>&amp;amp; Sound Digital A ...</th>\n",
       "    </tr>\n",
       "    <tr>\n",
       "        <td style=\"padding-left: 1em; padding-right: 1em; text-align: center; vertical-align: top\">signal</td>\n",
       "        <td style=\"padding-left: 1em; padding-right: 1em; text-align: center; vertical-align: top\">[obnoxious, lost, black,<br>pros:-the, camera.-the, ...</td>\n",
       "        <td style=\"padding-left: 1em; padding-right: 1em; text-align: center; vertical-align: top\">[low, good, static, loud]</td>\n",
       "    </tr>\n",
       "    <tr>\n",
       "        <td style=\"padding-left: 1em; padding-right: 1em; text-align: center; vertical-align: top\">battery life</td>\n",
       "        <td style=\"padding-left: 1em; padding-right: 1em; text-align: center; vertical-align: top\">[dead, short, good,<br>great, plastic, flimsy, ...</td>\n",
       "        <td style=\"padding-left: 1em; padding-right: 1em; text-align: center; vertical-align: top\">[small, nightlight,<br>&amp;#34;optimum, great, ...</td>\n",
       "    </tr>\n",
       "    <tr>\n",
       "        <td style=\"padding-left: 1em; padding-right: 1em; text-align: center; vertical-align: top\">range</td>\n",
       "        <td style=\"padding-left: 1em; padding-right: 1em; text-align: center; vertical-align: top\">[due, poor, good, entire,<br>good, dark, annoying, ...</td>\n",
       "        <td style=\"padding-left: 1em; padding-right: 1em; text-align: center; vertical-align: top\">[good, good, good,<br>longer, good, reasona ...</td>\n",
       "    </tr>\n",
       "    <tr>\n",
       "        <td style=\"padding-left: 1em; padding-right: 1em; text-align: center; vertical-align: top\">audio</td>\n",
       "        <td style=\"padding-left: 1em; padding-right: 1em; text-align: center; vertical-align: top\">[good, entire, 2nd,<br>upgrade, slight, over ...</td>\n",
       "        <td style=\"padding-left: 1em; padding-right: 1em; text-align: center; vertical-align: top\">[close, audible, vtech,<br>great, good, reliable, ...</td>\n",
       "    </tr>\n",
       "    <tr>\n",
       "        <td style=\"padding-left: 1em; padding-right: 1em; text-align: center; vertical-align: top\">price</td>\n",
       "        <td style=\"padding-left: 1em; padding-right: 1em; text-align: center; vertical-align: top\">[motorola, half, great,<br>short, great, clear, ...</td>\n",
       "        <td style=\"padding-left: 1em; padding-right: 1em; text-align: center; vertical-align: top\">[good, reasonable,<br>reasonable, decent, g ...</td>\n",
       "    </tr>\n",
       "</table>\n",
       "[5 rows x 3 columns]<br/>\n",
       "</div>"
      ],
      "text/plain": [
       "Columns:\n",
       "\ttag\tstr\n",
       "\tInfant Optics DXR-5 2.4 GHz Digital Video Baby Monitor with Night Vision\tlist\n",
       "\tVTech Communications Safe &amp; Sound Digital Audio Monitor\tlist\n",
       "\n",
       "Rows: 5\n",
       "\n",
       "Data:\n",
       "+--------------+-------------------------------+-------------------------------+\n",
       "|     tag      | Infant Optics DXR-5 2.4 GH... | VTech Communications Safe ... |\n",
       "+--------------+-------------------------------+-------------------------------+\n",
       "|    signal    | [obnoxious, lost, black, p... |   [low, good, static, loud]   |\n",
       "| battery life | [dead, short, good, great,... | [small, nightlight, &#34;o... |\n",
       "|    range     | [due, poor, good, entire, ... | [good, good, good, longer,... |\n",
       "|    audio     | [good, entire, 2nd, upgrad... | [close, audible, vtech, gr... |\n",
       "|    price     | [motorola, half, great, sh... | [good, reasonable, reasona... |\n",
       "+--------------+-------------------------------+-------------------------------+\n",
       "[5 rows x 3 columns]"
      ]
     },
     "execution_count": 17,
     "metadata": {},
     "output_type": "execute_result"
    }
   ],
   "source": [
    "adjectives"
   ]
  },
  {
   "cell_type": "markdown",
   "metadata": {},
   "source": [
    "## Investigating good and bad sentences"
   ]
  },
  {
   "cell_type": "code",
   "execution_count": 19,
   "metadata": {
    "collapsed": false
   },
   "outputs": [],
   "source": [
    "good, bad = get_extreme_sentences(reviews_a)"
   ]
  },
  {
   "cell_type": "markdown",
   "metadata": {},
   "source": [
    "Print good sentences for the first item, where adjectives and aspects are highlighted."
   ]
  },
  {
   "cell_type": "code",
   "execution_count": 20,
   "metadata": {
    "collapsed": false
   },
   "outputs": [
    {
     "data": {
      "text/html": [
       "Here are the pros and cons I found:PROS:- <span style=\"color:red\"><span style=\"color:red\">lightweight</span></span>, i mean really <span style=\"color:red\"><span style=\"color:red\">lightweight</span></span>, and even the A/C adapters are <span style=\"color:red\"><span style=\"color:red\">lightweight</span></span>- receiver can clip on or be propped up using clip on back- A/C adapters can use 110V or 220V for those of you who travel internationally- no problems interfering with my <span style=\"color:red\"><span style=\"color:red\">wireless</span></span> internet (but I use different channels for the 2.4Ghz band on my <span style=\"color:red\"><span style=\"color:red\">wireless</span></span> router, so not sure if I would have interference on the same channel)- <span style=\"color:green\">price</span> (I purchased it on sale for $99)CONS:- no LED lights to indicate <span style=\"color:red\">sound</span> levels in baby's room -- you have to depend on volume for this, however...- volume is only on when the monitor is not in power saving mode- no video on/off button if you want to check in on your baby when they aren't making <span style=\"color:red\">noise-</span> video quality is not very <span style=\"color:red\">good</span>.<p/>No <span style=\"color:red\">dead</span> <span style=\"color:red\">spots-</span> Video quality - the screen isn't too <span style=\"color:red\">big</span> but the resolution is <span style=\"color:red\">clear</span> to see everything both day and night time (with night vision which makes it black/white)- very <span style=\"color:red\">easy</span> to setup and installation took 5 minutes out the <span style=\"color:red\">box-</span> comes with a little handstrap and <span style=\"color:red\">that</span>'s quite <span style=\"color:red\">handy</span> if you are planning to take the monitor around doing your cleaning, <span style=\"color:red\">etc.-</span> the <span style=\"color:green\">price</span> on amazon - can't get better for a video monitor with the features it givesCons:- audio isn't as <span style=\"color:red\">loud</span> as our old <span style=\"color:red\">monitor-</span> only comes in <span style=\"color:red\">blue!-</span> no two way talkI understand <span style=\"color:red\">that</span> the beeping noise is a known issue - but the unit I got never beeped at me even going into sleep mode.<p/>No <span style=\"color:red\">dead</span> <span style=\"color:red\">spots-</span> Video quality - the screen isn't too <span style=\"color:red\">big</span> but the resolution is <span style=\"color:red\">clear</span> to see everything both day and night time (with night vision which makes it black/white)- very <span style=\"color:red\">easy</span> to setup and installation took 5 minutes out the <span style=\"color:red\">box-</span> comes with a little handstrap and <span style=\"color:red\">that</span>'s quite <span style=\"color:red\">handy</span> if you are planning to take the monitor around doing your cleaning, <span style=\"color:red\">etc.-</span> the price on amazon - can't get better for a video monitor with the features it givesCons:- <span style=\"color:green\">audio</span> isn't as <span style=\"color:red\">loud</span> as our old <span style=\"color:red\">monitor-</span> only comes in <span style=\"color:red\">blue!-</span> no two way talkI understand <span style=\"color:red\">that</span> the beeping noise is a known issue - but the unit I got never beeped at me even going into sleep mode.<p/>Easy to mount and sync both unitOption to add 3 more cameras and can be controlled with one monitorVery <span style=\"color:red\">good</span> color of <span style=\"color:red\">light</span> <span style=\"color:red\">blue</span> as it works <span style=\"color:red\">great</span> for our baby boyAwesome price of $99.98 (when it is on <span style=\"color:red\">sale)excellent</span> sound qualityAuto <span style=\"color:red\">standby</span> mode for monitor and is sound detector activated so if baby makes a little sound monitor comes on.monitor battery last all day if left on.<p/>Easy to mount and sync both unitOption to add 3 more cameras and can be controlled with one monitorVery <span style=\"color:red\">good</span> color of <span style=\"color:red\">light</span> <span style=\"color:red\">blue</span> as it works <span style=\"color:red\">great</span> for our baby boyAwesome <span style=\"color:green\">price</span> of $99.98 (when it is on <span style=\"color:red\">sale)excellent</span> sound qualityAuto <span style=\"color:red\">standby</span> mode for monitor and is sound detector activated so if baby makes a little sound monitor comes on.monitor battery last all day if left on.<p/> This monitor is super user friendly and <span style=\"color:red\">simple</span> (may not be the best choice if you want <span style=\"color:red\">fancy</span> bells and whistles), has a <span style=\"color:red\">great</span> picture quality, and is very <span style=\"color:red\">reliable</span> with <span style=\"color:red\">decent</span> <span style=\"color:green\">battery life</span>.<p/>The color is GREAT and the night vision is really really <span style=\"color:red\">clear</span> and I can tell by glowing eyes that the baby is awake :-)For the <span style=\"color:green\">price</span>, this was a GREAT deal and has given me peace of mind when we are all the way across the house.<p/>(I'm thinking to turn on our old Sony baby monitor just to hear my baby and then watch the video...that would be an option)-Video is <span style=\"color:red\">nice</span> as I wrote above but colors are only shown if there's a lot of <span style=\"color:red\">light</span> in an object, my baby looks like an alien with <span style=\"color:red\">bright</span> eyes even at 1 p.m. in a very sunny day, <span style=\"color:red\">half</span> is <span style=\"color:red\">black</span> and <span style=\"color:red\">white</span>  and the rest in \"colors\" very softOverall is a <span style=\"color:red\"><span style=\"color:red\">good</span></span> product, <span style=\"color:red\">reasonable</span> <span style=\"color:green\">price</span>, I gave it 4 stars, No regrets, <span style=\"color:red\"><span style=\"color:red\">good</span></span> choice!  :)<p/>It has a 2.4 inch display monitor (NOT 1.8!), it's <span style=\"color:red\">runs</span> on 2.4ghz and video+ <span style=\"color:green\">audio</span> is <span style=\"color:red\">amazing</span>.<p/> So far in our <span style=\"color:red\">small</span> 1100 s/f house there seems to be no trouble; we'll see how the outdoor <span style=\"color:green\">range</span> is this fall when we are camping.<p/>There are also cheaper versions, but this product is <span style=\"color:green\">price</span>d right and has exactly what is most needed.2.)<p/>The <span style=\"color:green\">battery life</span> is <span style=\"color:red\">great</span>, I think.<p/>I read most of these reviews and some ppl had some issues with the &#34;quality&#34; of the casing, picture and <span style=\"color:red\">sound</span> and <span style=\"color:green\">battery life</span>.<p/>The <span style=\"color:green\">range</span> is <span style=\"color:red\">similar</span> to my sister-in-laws video monitor from summer infant which i borrowed.<p/>The <span style=\"color:green\">signal</span> is <span style=\"color:red\">strong</span> too!<p/>It's got a very <span style=\"color:red\">smooth</span> streaming video, it also has got <span style=\"color:red\">great</span> <span style=\"color:green\">range</span> - I took it out into the backyard and it still worked.<p/> I love this option!Here's what I've done to deal with the interference: 1) wired as many devices as possible (my computers and Roku), 2) changed the router's operating channel to 11, and 3) tried to use my iPhone as far away as possible from the monitor (while still being able to keep an eye on my daughter).<p/>I was <span style=\"color:red\">hestitant</span> on buying this because I wasn't really sure if this was really a VIDEO baby monitor at this <span style=\"color:green\">price</span> - when the better <span style=\"color:red\">audio</span> baby monitors reach the $80 range.<p/>I was <span style=\"color:red\">hestitant</span> on buying this because I wasn't really sure if this was really a VIDEO baby monitor at this price - when the better <span style=\"color:red\"><span style=\"color:green\">audio</span></span> baby monitors reach the $80 range.<p/>This is a <span style=\"color:red\">great</span> baby monitor at an unbeatable <span style=\"color:green\">price</span>.<p/> The video quality is <span style=\"color:red\">great</span> (including night mode) and <span style=\"color:green\">audio</span> is too.<p/>We loved that it was so <span style=\"color:red\">easy</span> to set up and use from the first day we got it, plus you can't beat the <span style=\"color:green\">price</span>!We did end up having a few issues with our first monitor (it froze a couple of times and seemed to have trouble charging) so we contacted the customer service center to see about getting it replaced under warranty.<p/>Night vision works <span style=\"color:red\"><span style=\"color:red\">great</span></span>, the video is crystal <span style=\"color:red\">clear</span>, <span style=\"color:red\"><span style=\"color:red\">great</span></span> <span style=\"color:green\">price</span>, <span style=\"color:red\">quick</span> shipping, has an automute function to kill the sound...in general I'm very <span style=\"color:red\">happy</span> with this purchase.<p/>After fully charged the battery lasts only about 3 hours with VOS on (otherwise less than 2 hrs), so you have to charge the battery fairly often and this makes the monitor half-wireless... Other than this problem, I'm overall <span style=\"color:red\">happy</span> with the product, <span style=\"color:red\">good</span> day and night vision, <span style=\"color:red\">sensitive</span> sound detection, <span style=\"color:red\">reasonable</span> range, and all these at a very <span style=\"color:red\">competitive</span> price!<p/>We were looking for a video baby monitor that <span style=\"color:red\">fit</span> our price <span style=\"color:green\">range</span> but also provided the features that we wanted.<p/>We were looking for a video baby monitor that <span style=\"color:red\">fit</span> our <span style=\"color:green\">price</span> range but also provided the features that we wanted.<p/>This monitor is a <span style=\"color:red\"><span style=\"color:red\">great</span></span> product at a <span style=\"color:red\"><span style=\"color:red\">great</span></span> <span style=\"color:green\">price</span>!<p/> A <span style=\"color:red\"><span style=\"color:red\">quick</span></span> email to the customer service provided <span style=\"color:red\"><span style=\"color:red\">quick</span></span> and <span style=\"color:red\">easy</span> exchange with a new monitor sent out while the other was in transit back to the company.<p/>Overall a GREAT camera, I would recommend to others - for the quality and <span style=\"color:green\">price</span>, you really can't beat it!!<p/>so it's <span style=\"color:red\">easy</span> to carry around the house- <span style=\"color:green\">range</span> is <span style=\"color:red\">excellent</span>.<p/>The <span style=\"color:green\">battery life</span> is <span style=\"color:red\">great</span> but doesn't last all night unless you use one of the automuting features.<p/>Sometimes my <span style=\"color:green\">signal</span> blinks like it's too far out of range, which has me <span style=\"color:red\">worried</span> a little bit for when we move into our <span style=\"color:red\">bigger</span> house in a couple weeks.<p/>PROS:-Easy assembly and set up-Large colour screen-Ease of use-Picture clarity is great-Monitor has <span style=\"color:red\">small</span> attachment to stand on table or convert to belt clip-one way <span style=\"color:red\">sound</span> is very clear-can add other cameras to make this a monitor useful for several different rooms at once-PRICE!!!Cons:-Monitor and camera shell is plastic (giving it a bit of a cheapy feel)-does not come with the <span style=\"color:red\">extra</span> bells and whistles other brands offer (room temperature gauge, lullabies, two-way <span style=\"color:red\">sound</span>)I am a no fuss type person.<p/>After much research before our little one was born we decided on this monitor because of <span style=\"color:green\">price</span> and simplicity!<p/>We are very <span style=\"color:red\">pleased</span> and we LOVE the ability to have the monitor battery operated so we can bring it downstairs or outside while he sleeps.<p/> I have already dropped it 3 times to the point where the screen pops out, the back opens up and the battery falls out and it still works in perfect condition.<p/> The <span style=\"color:green\">audio</span> works well too!I love <span style=\"color:red\">tech</span> gear and was thinking of just getting a <span style=\"color:red\">good</span> ip camera and networking it so i can access day/night in or out of house... but having a stand-alone unit is easier for family/friends/sitters to use.<p/>When I bought this monitor it was on sale for $99.98 and I got lucky because <span style=\"color:green\">price</span> went up very next week to <span style=\"color:red\">regular</span> $299.98.<p/>I had only been using an <span style=\"color:red\">older</span> <span style=\"color:red\"><span style=\"color:green\">audio</span></span> monitor for the first two months of my daughter's life.<p/>It works so well for the <span style=\"color:green\">price</span> and has all the features I need.<p/>The <span style=\"color:red\"><span style=\"color:green\">audio</span></span> is <span style=\"color:red\">nice</span> and <span style=\"color:red\">clear</span>.<p/> It actually wakes my husband up sometimes if I change these settings in the night.<p/> One of the <span style=\"color:red\">biggest</span> attractions for me is the fact that it claims to have an 800' <span style=\"color:green\">range</span> outdoors.<p/>The <span style=\"color:green\">battery life</span> is <span style=\"color:red\">good</span> (lasts all night) and it has a <span style=\"color:red\">loud</span> beep if it is dying.<p/> Yes I would prefer one with a <span style=\"color:red\">bigger</span> screen but I am willing to overlook that for the <span style=\"color:green\">price</span>.<p/> It's around the $100 <span style=\"color:green\">range</span> which is a lot <span style=\"color:red\">cheaper</span> than most night monitors.<p/>I purchased this video monitor after a <span style=\"color:red\">bad</span> experience with a different brand that had a <span style=\"color:red\">similar</span> <span style=\"color:green\">price</span> point.<p/>I wish the screen showed how much battery was left, but not a <span style=\"color:red\">big</span> deal.<p/>I am extremely <span style=\"color:red\">happy</span> with the company and the baby monitor is <span style=\"color:red\">amazing</span> quality especially for the <span style=\"color:green\">price</span>!<p/> The brightness/volume buttons <span style=\"color:green\">range</span> from 0 (the <span style=\"color:red\">lowest</span> setting) to 9 (the highest setting).<p/> Infant Optics had a <span style=\"color:red\"><span style=\"color:red\">great</span></span> <span style=\"color:green\">price</span> and <span style=\"color:red\"><span style=\"color:red\">great</span></span> reviews<p/> What I like about this product is the <span style=\"color:green\">price</span>.<p/>We used to own the Sony <span style=\"color:green\">audio</span> monitor and it didn't give you the <span style=\"color:red\">visual</span> awareness that you really need in this day in age to care for your child.<p/>As soon as I pressed the &#34;on&#34; button, the video monitor picked up the <span style=\"color:green\">signal</span> and showed a crystal <span style=\"color:red\">clear</span> image of our baby's crib.<p/>The <span style=\"color:green\">price</span> makes it a <span style=\"color:red\">real</span> bargain and I love the fact that a video monitor is now actually comfortably <span style=\"color:red\">affordable</span> now.<p/> This monitor has everything you could possibly need: very <span style=\"color:red\"><span style=\"color:red\">clear</span></span> view ( day and night ) <span style=\"color:red\"><span style=\"color:red\">clear</span></span> <span style=\"color:green\">audio</span> when you need it, does cut out backround noise until the child makes noise ( love it) and no interference with other objectsHowever the only thing that i do no like is that sometimes a <span style=\"color:red\">loud</span> noise in other parts of the house activates the VOX but that is very minor.<p/> It has <span style=\"color:red\">great</span> <span style=\"color:green\">range</span>, and for the price <span style=\"color:red\">good</span> picture and <span style=\"color:red\">sound</span> quality.<p/>so heres my storyGot the product didnt read any directions and kept getting out of <span style=\"color:red\">signal</span> <span style=\"color:green\">range</span> (i was only like 20 feet away)<p/> It may not be <span style=\"color:red\">top</span> of the line for whatever reason, but for the <span style=\"color:green\">price</span>, I feel like I got an <span style=\"color:red\">awesome</span> deal!  And bonus, it's really cute!<p/> It has <span style=\"color:red\">great</span> range, and for the <span style=\"color:green\">price</span> <span style=\"color:red\">good</span> picture and <span style=\"color:red\">sound</span> quality.<p/>I'll be sure to update my review if the <span style=\"color:green\">range</span> is affected.***Update***We've now owned this monitor for about ...<p/>This monitor comes at a <span style=\"color:red\">great</span> <span style=\"color:green\">price</span> and gives us what we wanted from a baby monitor.<p/> I was leery as the other monitor had almost no warranty and was barely usable as an <span style=\"color:red\"><span style=\"color:green\">audio</span></span> monitor let alone video monitor.<p/>:)It's a <span style=\"color:red\">great</span> <span style=\"color:green\">price</span>, <span style=\"color:red\">perfect</span> size of monitor and has phenomenal picture quality.<p/>so heres my storyGot the product didnt read any directions and kept getting out of <span style=\"color:red\"><span style=\"color:green\">signal</span></span> range (i was only like 20 feet away)<p/> I was able to exchange the <span style=\"color:red\">broken</span> unit for a brand new one.<p/>The <span style=\"color:green\">battery life</span> on the monitor is <span style=\"color:red\">amazing</span> it lasts getting turned on and off all day and i plug it in at night.<p/>I went for this one because of the <span style=\"color:green\">price</span> and I'm <span style=\"color:red\">surprised</span> that it works just as well as the $200 monitor my neighbor has, but just without the <span style=\"color:red\">extra</span> features like music, mood light etc.<p/>Good purchase <span style=\"color:red\">overall</span>, <span style=\"color:red\">great</span> image in night vision mode, <span style=\"color:green\">range</span> is <span style=\"color:red\"><span style=\"color:red\"><span style=\"color:red\">good</span></span></span> at least for my house, no interference or <span style=\"color:red\">bad</span> quality image at any time, sleep mode or voice activation is <span style=\"color:red\"><span style=\"color:red\"><span style=\"color:red\">good</span></span></span> since it saves a lot of battery, <span style=\"color:red\">portable</span> monitor has light weight, and sound is very <span style=\"color:red\">clear</span>.<p/> I highly recommend this and the <span style=\"color:green\">price</span> is very <span style=\"color:red\">reasonable</span> too.<p/> I very <span style=\"color:red\">satisfied</span> with the quality and performance especially for the <span style=\"color:green\">price</span>!<p/> We have a <span style=\"color:red\">big</span> house and the <span style=\"color:green\">signal</span> can get lost from <span style=\"color:red\">2nd</span> story corner to 1st story corner, but mostly, it's been <span style=\"color:red\">pretty</span> impressive distance.<p/>The <span style=\"color:red\"><span style=\"color:green\">signal</span></span> never drops and the <span style=\"color:red\">infrared</span> (night vision) works like a charm.<p/>Of course after the cam was put in the goats started using the corner I couldnt see *hair pull*.There arent many things I would change but there are a few.<p/>The view isn't as <span style=\"color:red\">crystal</span> <span style=\"color:red\">clear</span> as the photo would have you believe, unless you can get a really close-up on your baby, which I can't do because my little one crawls around too much and doesn't stay in one place.<p/> Some people complain that the <span style=\"color:red\">plastic</span> seems <span style=\"color:red\">cheap</span> but again I am willing to overlook that for the <span style=\"color:green\">price</span>.<p/>This unit is a <span style=\"color:red\">solid</span> choice for the <span style=\"color:green\">price</span>.<p/> Seriously <span style=\"color:red\">great</span> <span style=\"color:green\">price</span>- Video.<p/>Battery life is very <span style=\"color:red\">good</span>.<p/>Pros:- Price.<p/>The <span style=\"color:green\">range</span> is completely <span style=\"color:red\">fine</span> even for our new larger home.<p/> With my first we did not have a video monitor and had been less than <span style=\"color:red\">happy</span> with the <span style=\"color:green\">audio</span> monitors we tried.<p/>The monitor itself is <span style=\"color:red\">fantastic</span> - it works <span style=\"color:red\">great</span>, provides a <span style=\"color:red\">clear</span> picture and has <span style=\"color:red\">good</span> <span style=\"color:green\">range</span>.<p/>Excellent quality and reliability at any <span style=\"color:green\">price</span>.<p/>The <span style=\"color:green\">range</span> is <span style=\"color:red\">excellent</span> on this thing too.<p/>We have a <span style=\"color:red\">white</span> noise machine in the nursery and that keeps the video and <span style=\"color:green\">audio</span> on constantly at night which even at the <span style=\"color:red\">lowest</span> \"<span style=\"color:red\">bright</span>ness\" setting is still <span style=\"color:red\">bright</span> at night.<p/>The <span style=\"color:green\">range</span> isn't fantastic, but in our <span style=\"color:red\">modest</span> 1.5 story house, it suits our needs.<p/>Nonetheless, this is one of the best purchases I've made, and it's a <span style=\"color:red\">great</span> <span style=\"color:green\">price</span> compared to other monitors out there.<p/>This camera has a <span style=\"color:red\">great</span> <span style=\"color:green\">price</span>, <span style=\"color:red\">clear</span> monitor, & <span style=\"color:red\">nice</span> features (night vision, monitor clip/stand, & option to add other cameras).<p/> It is so <span style=\"color:red\">nice</span> to not have that hum always going.- Signal lost sound.<p/>Great for the <span style=\"color:green\">price</span> and it works really well!<p/>Really <span style=\"color:red\"><span style=\"color:red\">good</span></span> product at a really <span style=\"color:red\"><span style=\"color:red\">good</span></span> <span style=\"color:green\">price</span>: <span style=\"color:red\">perfect</span> combination!I have been using it for a week or so.<p/>Good picture, <span style=\"color:red\"><span style=\"color:red\">great</span></span> <span style=\"color:green\">battery life</span>, night vision is <span style=\"color:red\">excellent</span>, <span style=\"color:red\"><span style=\"color:red\">great</span></span> range, <span style=\"color:red\">easy</span> to mount and aim.<p/>Another problem I've had with it is that the <span style=\"color:green\">battery life</span> doesn't last too much longer than ...<p/>At this <span style=\"color:green\">price</span>, this is a value video monitor.<p/>We bought this because I had the <span style=\"color:red\">bad</span> habit of checking on my son too early (I wanted to make sure he actually fell asleep, but whenever he saw me, he'd think it was time to stand up and play - or, I'd hear him cry and I'd walk in to give him his binky, even though he'd have just grabbed it himself and didn't need me, which again, would make him think it was time to get up when he saw me).We had tried an <span style=\"color:red\"><span style=\"color:green\">audio</span></span> monitor before, but didn't really need it.<p/>Signal is pretty <span style=\"color:red\">fair</span> considering I keep the monitor either in my kitchen (middle of my house) or the <span style=\"color:red\">opposite</span> end of my home from the barn.<p/>It is a <span style=\"color:red\"><span style=\"color:red\">great</span></span> product!! is very <span style=\"color:red\">light</span> weigh, color is cute, <span style=\"color:green\">price</span> is <span style=\"color:red\"><span style=\"color:red\">great</span></span>, portable, i really like it!!<p/> It would help <span style=\"color:green\">battery life</span> and keep our room from glowing all night.-Signal lost sometimes.<p/>Considering this is for use around infants & toddlers you would think it would be more sealed!The last thing is BATTERY LIFE."
      ],
      "text/plain": [
       "<IPython.core.display.HTML object>"
      ]
     },
     "metadata": {},
     "output_type": "display_data"
    }
   ],
   "source": [
    "print_sentences(good['highlighted'])"
   ]
  },
  {
   "cell_type": "markdown",
   "metadata": {},
   "source": [
    "Print bad sentences for the first item, where adjectives and aspects are highlighted."
   ]
  },
  {
   "cell_type": "code",
   "execution_count": 21,
   "metadata": {
    "collapsed": false
   },
   "outputs": [
    {
     "data": {
      "text/html": [
       "I removed and put back the battery, nothing happened.<p/> It looks like <span style=\"color:red\">plastic</span> junk, the reception stinks, and the <span style=\"color:red\">worst</span> part is that it beeps VERY LOUDLY several times any time it goes out of <span style=\"color:green\">range</span> (and then again when it is <span style=\"color:red\">back</span> in <span style=\"color:green\">range</span>...usually several times in a row) which is typically in the <span style=\"color:red\">middle</span> of the night and for NO reason.<p/> The <span style=\"color:red\"><span style=\"color:green\">audio</span></span> was <span style=\"color:red\">horrible</span>.<p/>I would not recommend this product because of the <span style=\"color:red\">flimsy</span> design and <span style=\"color:red\">poor</span> customer service from the company in this instance.<p/>The <span style=\"color:green\">price</span> of the monitor is <span style=\"color:red\">great</span>, but don't waste your money.<p/> This has potential to be quite dangerous!I called the customer service/ tech support number and was hung up on repeatedly.<p/>I don't know how this camera got such <span style=\"color:red\">high</span> reviews because it is literally a POS.Why we hate it:1)  No alert/alarm when battery is dying, only a <span style=\"color:red\">small</span> flashing light, then it will just shut-off with no warning.<p/> It's been going for just over a year now, but the problem is that every other day it just drops the <span style=\"color:green\">signal</span> and starts beeping until you reset it.<p/>But what's really fun is the fact that the <span style=\"color:red\">loose</span> connection on the charging circuit will reconnect without warning at some random point during the night but only charge the unit enough to sound an <span style=\"color:red\">audible</span> indication that there is no <span style=\"color:green\">signal</span> from the camera.<p/> Instead of a 20x drop in <span style=\"color:red\">wifi</span> <span style=\"color:green\">signal</span>, it will only be a 3x-5x drop which is more than enough to spare for Netflix streaming.<p/> The camera is 15 feet from the <span style=\"color:red\">receiver</span> at most (albeit through a floor), so <span style=\"color:green\">range</span> shouldn't be an issue.<p/>Just block the antenna to dampen its broadcast to a trickle, and <span style=\"color:red\">that</span>'s all the product needs for a <span style=\"color:red\">solid</span> <span style=\"color:green\">signal</span>.<p/>It's bizarre because I don't even need the battery, I'm <span style=\"color:red\">fine</span> with running it on the outlet alone, but it WON'T LET YOU.I add a star because when I called their number, someone actually picked up and was very helpful.<p/> This one sounded <span style=\"color:red\">great</span> for the <span style=\"color:green\">price</span> and we didn't need anything <span style=\"color:red\">fancy</span> for our 2 yr old--just want to be able to hear if he needs help across the house or is coughing, etc.<p/>It doesn't just \"share\" the frequency, it BLOWS AWAY wifi <span style=\"color:green\">signal</span>s.<p/> The <span style=\"color:red\">worst</span> part was the Auto-On feature...the concept being that the monitor puts itself in Sleep Mode when the baby is not making any <span style=\"color:red\">sound</span> after 10 seconds or so, in order to conserve battery, but then turns itself back &#34;On&#34; as soon as any tiny bit of <span style=\"color:red\">sound</span> is picked up.<p/>In other words, this product will blow away your <span style=\"color:red\">wifi</span> <span style=\"color:green\">signal</span> for NO GOOD REASON. And no, you can't *<p/>Due to other feedback, I disabled our WiFi router and yet the same <span style=\"color:red\">poor</span> <span style=\"color:green\">range</span> symptoms exhibited themselves.<p/>Don't know if its the charger, monitor, or the battery but right now it's a <span style=\"color:red\">waste</span> of money!<p/>I didn't want another one - while this worked as described until it broke, as other reviewers have noted, it makes a <span style=\"color:red\">horrible</span> beep when the <span style=\"color:green\">signal</span> dies or when it goes into sleep mode, <span style=\"color:red\">loud</span> enough to wake me up (and sleep is very precious to me!).<p/> The one we have now has lately been struggling keeping a <span style=\"color:green\">signal</span>, and has also had issues turning on and off.<p/> So far nothing has worked like our Phillips, which unfortunately is <span style=\"color:green\">audio</span> only, but it's been going for almost 5 years now and has never yet malfunctioned.<p/>However, the <span style=\"color:red\"><span style=\"color:green\">audio</span></span> is <span style=\"color:red\">horrible</span>.<p/> Upon further inspection, we found that the monitor interfered with our <span style=\"color:red\">wireless</span> <span style=\"color:green\">signal</span> so much that we could not even access our own router (via 2 iphones, ipad, and <span style=\"color:red\">regular</span> laptop).<p/>I ordered this a little over a month ago; it worked for a month and then the video died (screen was suddenly too <span style=\"color:red\">dark</span> to see, followed by just no <span style=\"color:green\">signal</span> being received at all, which happened at 4am and the beep woke me up).<p/>Obviously the battery has a serious fault (this is what blew up), but there is NO excuse for providing a dangerous item to the public.<p/> It literally turns off/on, volume up/down, brightness up/down... and <span style=\"color:red\">that</span>'s it.5)  The first one we got didn't even work and it was exchanged.<p/> Battery lasts well... we had the Lorex Live Sna before this one, which was a <span style=\"color:red\">total</span> waste of money, nothing but junk.<p/>So, I am not <span style=\"color:red\">awakened</span> by the unit transmitting my baby's cries for help, but only the <span style=\"color:red\">sound</span> of the unit telling me it cannot recieve a <span style=\"color:green\">signal</span>.<p/>Thankfully we only use it as a supplemental monitor for the video while our baby is going to sleep and in the morning when he wakes up and we use a non-video (Angelsound) during the night, otherwise, it would have been returned the very next day!<p/>As soon as I put it back down it <span style=\"color:red\">lost</span> the <span style=\"color:green\">signal</span>.<p/>It was <span style=\"color:red\">basic</span> and did the job at a <span style=\"color:red\">decent</span> <span style=\"color:green\">price</span>.<p/>The more <span style=\"color:red\">annoying</span> part to this is that instead of showing you how much battery is left with an icon on the screen, it emits a very <span style=\"color:red\">loud</span> beeping noise that you can not adjust or turn off.<p/>This unit has <span style=\"color:red\">decent</span> <span style=\"color:green\">range</span> and is easy to set up.<p/>Second unit worked for a few more days, then the battery will not charge and the unit beeps NONSTOP.<p/>However, in a few days the battery will not charge and the unit beeps NONSTOP. I've read all the suggestions about putting the battery in this way or that, but it doesn't work.<p/> Needless to say I have gone back to my old fischer-<span style=\"color:green\">price</span> non-video old school monitor I used with my first child.<p/>This unit gives an <span style=\"color:red\">obnoxious</span> triple beep when the <span style=\"color:green\">signal</span> drops, which happens very frequently.<p/>However, the <span style=\"color:red\"><span style=\"color:green\">audio</span></span> is virtually nonexistent even with the volume turned all the way up and even with the monitor less then 2 feet away from our baby.<p/>Like I stated above, the battery power is decent, but if you don't plug it in to charge up again after you've used it <span style=\"color:red\">unplugged</span> for a while, it will go dead and it does not warn you.<p/> If this is your sole monitor, then when the battery dies in the <span style=\"color:red\">middle</span> of the night, you will have NO idea when your baby is crying since the monitor will no longer be on.2)  The back<span style=\"color:red\">light</span> can be very <span style=\"color:red\">bright</span> and you do not have the option to turn off the video while keeping the <span style=\"color:red\">sound</span>, therefore, when using it during the night (assuming you leave it plugged in so it won't die on you) it will <span style=\"color:red\">light</span> up your room.3)  The <span style=\"color:red\">sound</span> is like your baby is crying inside a tin can - very <span style=\"color:red\">high</span> pitched.<p/>As an experiment, we had an adult talking at a normal volume in the room and again it was barely <span style=\"color:red\">audible</span> on the monitor.<p/>I can only assume that this is because the battery has very little charge, not enough to receive the <span style=\"color:green\">signal</span> from the camera.<p/>In order for it to last me all day, I periodically <span style=\"color:red\">unplug</span> it and plug it right back in to charge the battery.<p/> Besides not having a battery level indicator (<span style=\"color:red\">which</span> was <span style=\"color:red\">annoying</span>, considering you don't know how long you can trust it off the charger), it did everything it said it would and was priced well.<p/>I can only assume that this is because the battery has very little charge, not enough to receive the signal from the camera.<p/>The <span style=\"color:red\"><span style=\"color:green\">audio</span></span> is the only thing that worked consistently, $100 is a lot to spend for an <span style=\"color:red\"><span style=\"color:green\">audio</span></span> only monitor.<p/>After <span style=\"color:red\">multiple</span> drops and being manhandled by a 2 year <span style=\"color:red\">old</span>, the reciever finally broke no longer transmitting <span style=\"color:green\">audio</span> and the screen was pixelated as well.<p/>Bought this based on the <span style=\"color:green\">price</span> and number of <span style=\"color:red\">positive</span> reviews.<p/>the <span style=\"color:red\">worst</span> purchase made ... the monitor is only <span style=\"color:red\">black</span> and white, medium quality, <span style=\"color:red\">low</span> sound, and without any coverage, just leave the room and has no <span style=\"color:green\">signal</span> ... anyway ...<p/>Cons:-screen stays on constantly-power cords for cameras are too <span style=\"color:red\">short</span>-&#34;automatic voice activation power saving mode&#34; does not work properly-&#34;White Noise Eliminator&#34; eliminated my daughter as <span style=\"color:red\">white</span> noise-very <span style=\"color:red\">short</span> <span style=\"color:green\">battery life</span>-very <span style=\"color:red\">loud</span> beeping sounds from monitor when it needs to be plugged in-cameras are not agile enough to get into odd angles-monitor forces you to go through all 4 channels even if you only have 2 cameras-clip on back of monitor is cheaply made and easily broken-sound <span style=\"color:red\">quality</span> is <span style=\"color:red\">tinny</span> and <span style=\"color:red\">hard</span> to understand-monitor picture will sometimes separate or turn greenPros:-you can add <span style=\"color:red\">extra</span> cameras-easy to set upThe first night we noticed that the screen stays on constantly.<p/>However it did mess with my wifi and then after 3 weeks it would lose its <span style=\"color:red\"><span style=\"color:green\">signal</span></span> during the <span style=\"color:red\">middle</span> of the night I would lose sight of my baby.<p/>I wasn't expecting anything <span style=\"color:red\">huge</span> with this purchase, as I was shopping on <span style=\"color:green\">price</span>.<p/>But then you're spending $100 for video and $60 for <span style=\"color:green\">audio</span>.<p/>The <span style=\"color:green\">battery life</span> is <span style=\"color:red\">terrible</span>.<p/>The <span style=\"color:green\">range</span> is <span style=\"color:red\">terrible</span>.<p/>It always says that it doesnt have <span style=\"color:green\">signal</span>, when it does and makes a beep <span style=\"color:red\">sound</span> which can be really anoying if you are trying to do <span style=\"color:red\">multiple</span> things at the same time or are just tired!<p/>I looked into getting a new battery but without knowing if that was actually the problem, I didn't want to spend the money on one for it to still not work.<p/>Reset, took the battery out, reset the camera and monitor - didn't help.<p/>Although don't think I can get any sleep back.<p/>I really can't conceive of how it gets so many glowing reviews even at the <span style=\"color:green\">price</span> point.<p/>1. <span style=\"color:green\">battery life</span> after charging the video monitor handheld unit could be better, it seems to go <span style=\"color:red\">dead</span> after a <span style=\"color:red\">short</span> evening (less than 4 hours of use)2.<p/>Inevitably the unit does <span style=\"color:red\">loose</span> power and the battery drains without any indication what so ever, so I am awakened by the faint cries of my baby.<p/> While the product is ok for the <span style=\"color:green\">price</span>, the display is nothing like the photo shown in the advertisement.<p/>The unit is clearly cheaply made, but it seemed appropriate for the <span style=\"color:green\">price</span>.<p/>Then, all of a sudden, the battery would not charge anymore.<p/> It still worked but then a <span style=\"color:red\">couple</span> month later the actual metal piece that was inside the plastic antennae broke completely off and so we were no longer able to get a <span style=\"color:green\">signal</span>.<p/>The <span style=\"color:green\">signal</span> issues are now <span style=\"color:red\">worse</span> as well.<p/>Sometimes the picture on the monitor flashes <span style=\"color:red\">dark</span> and light, and that can get <span style=\"color:red\">annoying</span>.<p/>The most <span style=\"color:red\">annoying</span> thing is when monitor just turns off without any warning when the battery dies.<p/>I realized that the <span style=\"color:red\">handheld</span> unit was running off the battery even when plugged in.<p/>But after a year of barely using it, the battery no longer can be charged.<p/> I realize that may be obvious, but everyone talking about how <span style=\"color:red\">bad</span> VOX is and how the battery would go out in the <span style=\"color:red\">middle</span> of the night (I THINK it has a 3 hour life?) made me <span style=\"color:red\">nervous</span> and quite frankly there is nothing to be <span style=\"color:red\">worried</span> about.<p/>While the camera & video quality are rather <span style=\"color:red\">good</span>, and the <span style=\"color:green\">price</span> is <span style=\"color:red\">excellent</span>, the range of this unit is around 20 feet.<p/>the <span style=\"color:green\">audio</span> is useless.<p/>While the camera & video quality are rather <span style=\"color:red\">good</span>, and the price is <span style=\"color:red\">excellent</span>, the <span style=\"color:green\">range</span> of this unit is around 20 feet.<p/>We bought it because of the <span style=\"color:green\">price</span> and ratings.<p/>I was very <span style=\"color:red\">excited</span> to get this with the <span style=\"color:red\">amazing</span> reviews, but camera would not find <span style=\"color:green\">signal</span> with in the first 30 minutes.<p/>If you had another <span style=\"color:green\">audio</span> monitor in the room like Angel Care, then this monitor would be fine.<p/>I could be standing in the same room as the camera and the monitor would still read no <span style=\"color:green\">signal</span>.<p/>This is a <span style=\"color:red\">good</span> product for the <span style=\"color:green\">price</span> I paid.<p/>I was <span style=\"color:red\">worried</span> at first, they have a really <span style=\"color:red\">big</span> house andproperty, I was hoping that the <span style=\"color:green\">range</span> would notbe a problem.<p/>It keeps turning off and losing <span style=\"color:green\">signal</span>.<p/>First and foremost the <span style=\"color:green\">battery life</span> SUCKS.<p/>We purchased this monitor because of the <span style=\"color:green\">price</span> and let me tell you, you get what you pay for.<p/>If you don't care about <span style=\"color:green\">audio</span>, then this monitor is for you.<p/>It will sometimes randomly lose <span style=\"color:green\">signal</span> for 10 seconds and then come back like nothing happened.<p/>When the battery runs out on the monitor is beeps very loudly, and is quite <span style=\"color:red\">annoying</span>.<p/>Within 3 days the <span style=\"color:green\">audio</span> started to fail.<p/> It kept saying out of <span style=\"color:green\">range</span> and I was about 3 feet from the camera with nothing between us.<p/>I bought this camera because of the <span style=\"color:green\">price</span> and the reviews.<p/>It just read no <span style=\"color:green\">signal</span> when you would turn it on.<p/>Recently it has started having <span style=\"color:green\">signal</span> issues for what seems like no reason.<p/>The picture quality is awful for the <span style=\"color:green\">price</span>.<p/>The cameras and the <span style=\"color:red\">handheld</span> viewer really disturb the <span style=\"color:green\">signal</span>.<p/> Also, the <span style=\"color:green\">battery life</span> on the parent unit is HORRIBLE!<p/>this monitor is constantly dying now, the <span style=\"color:green\">battery life</span> has become worse.<p/>The picture is pretty <span style=\"color:red\">decent</span>, especially for the <span style=\"color:green\">price</span>.<p/> No <span style=\"color:red\">low</span> battery warning.<p/>I saw the <span style=\"color:green\">price</span> for this monitor and decided to give it a try."
      ],
      "text/plain": [
       "<IPython.core.display.HTML object>"
      ]
     },
     "metadata": {},
     "output_type": "display_data"
    }
   ],
   "source": [
    "print_sentences(bad['highlighted'])"
   ]
  },
  {
   "cell_type": "code",
   "execution_count": null,
   "metadata": {
    "collapsed": false
   },
   "outputs": [],
   "source": [
    "!cat helper_util.py"
   ]
  },
  {
   "cell_type": "code",
   "execution_count": null,
   "metadata": {
    "collapsed": true
   },
   "outputs": [],
   "source": []
  }
 ],
 "metadata": {
  "kernelspec": {
   "display_name": "Python 2",
   "language": "python",
   "name": "python2"
  },
  "language_info": {
   "codemirror_mode": {
    "name": "ipython",
    "version": 2
   },
   "file_extension": ".py",
   "mimetype": "text/x-python",
   "name": "python",
   "nbconvert_exporter": "python",
   "pygments_lexer": "ipython2",
   "version": "2.7.11"
  }
 },
 "nbformat": 4,
 "nbformat_minor": 0
}
