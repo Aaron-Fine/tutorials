{
 "cells": [
  {
   "cell_type": "markdown",
   "metadata": {},
   "source": [
    "# 1. The data: global earthquake events"
   ]
  },
  {
   "cell_type": "markdown",
   "metadata": {},
   "source": [
    "I pulled the data from the **USGS Advanced National Seismic System Comprehensive Earthquake Catalog**.\n",
    "- http://earthquake.usgs.gov/data/\n",
    "- http://earthquake.usgs.gov/earthquakes/search/\n",
    "- Global seismic events\n",
    "- Magnitude 2.5+\n",
    "- Real-time data starts February 2, 2013.\n",
    "- Main pull goes through March 15, 2016.\n",
    "- Update pull goes from March 16 - March 22, 2016."
   ]
  },
  {
   "cell_type": "markdown",
   "metadata": {},
   "source": [
    "## Load the data"
   ]
  },
  {
   "cell_type": "code",
   "execution_count": null,
   "metadata": {
    "collapsed": false,
    "scrolled": false
   },
   "outputs": [],
   "source": [
    "import datetime as dt\n",
    "import graphlab as gl\n",
    "\n",
    "sf = gl.SFrame.read_csv('raw_data/global_earthquakes.csv', verbose=False)"
   ]
  },
  {
   "cell_type": "markdown",
   "metadata": {},
   "source": [
    "## Inspect the data visually "
   ]
  },
  {
   "cell_type": "code",
   "execution_count": null,
   "metadata": {
    "collapsed": false
   },
   "outputs": [],
   "source": [
    "sf.show()"
   ]
  },
  {
   "cell_type": "code",
   "execution_count": null,
   "metadata": {
    "collapsed": false
   },
   "outputs": [],
   "source": [
    "useful_columns = ['time', 'latitude', 'longitude', 'mag', 'type', 'location']\n",
    "sf = sf[useful_columns]"
   ]
  },
  {
   "cell_type": "code",
   "execution_count": null,
   "metadata": {
    "collapsed": false
   },
   "outputs": [],
   "source": [
    "mask = sf['type'] == 'nuclear explosion'\n",
    "sf[mask]"
   ]
  },
  {
   "cell_type": "markdown",
   "metadata": {},
   "source": [
    "## A small bit of data cleaning"
   ]
  },
  {
   "cell_type": "code",
   "execution_count": null,
   "metadata": {
    "collapsed": false
   },
   "outputs": [],
   "source": [
    "mask = sf['type'] == 'earthquake'\n",
    "sf = sf[mask]\n",
    "sf = sf.remove_column('type')\n",
    "print \"Number of earthquake events:\", sf.num_rows()"
   ]
  },
  {
   "cell_type": "markdown",
   "metadata": {},
   "source": [
    "---"
   ]
  },
  {
   "cell_type": "markdown",
   "metadata": {},
   "source": [
    "# 2. Convert to a `TimeSeries` object "
   ]
  },
  {
   "cell_type": "markdown",
   "metadata": {},
   "source": [
    "## Format the timestamp "
   ]
  },
  {
   "cell_type": "code",
   "execution_count": null,
   "metadata": {
    "collapsed": false
   },
   "outputs": [],
   "source": [
    "sf['time'] = sf['time'].str_to_datetime(str_format='%Y-%m-%dT%H:%M:%s%ZP')\n",
    "sf['time'] = sf['time'].apply(lambda x: x.replace(tzinfo=None))"
   ]
  },
  {
   "cell_type": "markdown",
   "metadata": {},
   "source": [
    "## Convert from `SFrame` to `TimeSeries`"
   ]
  },
  {
   "cell_type": "code",
   "execution_count": null,
   "metadata": {
    "collapsed": false
   },
   "outputs": [],
   "source": [
    "quakes = gl.TimeSeries(sf, index='time')"
   ]
  },
  {
   "cell_type": "markdown",
   "metadata": {},
   "source": [
    "---"
   ]
  },
  {
   "cell_type": "markdown",
   "metadata": {},
   "source": [
    "# 3. Basic `TimeSeries` operations"
   ]
  },
  {
   "cell_type": "markdown",
   "metadata": {},
   "source": [
    "## Many operations are just like `SFrame` "
   ]
  },
  {
   "cell_type": "code",
   "execution_count": null,
   "metadata": {
    "collapsed": false
   },
   "outputs": [],
   "source": [
    "quakes.print_rows(3)"
   ]
  },
  {
   "cell_type": "code",
   "execution_count": null,
   "metadata": {
    "collapsed": false
   },
   "outputs": [],
   "source": [
    "quakes[4:7].print_rows()"
   ]
  },
  {
   "cell_type": "markdown",
   "metadata": {},
   "source": [
    "## Some operations are little different "
   ]
  },
  {
   "cell_type": "markdown",
   "metadata": {},
   "source": [
    "### Column subsets retain the time index"
   ]
  },
  {
   "cell_type": "code",
   "execution_count": null,
   "metadata": {
    "collapsed": false
   },
   "outputs": [],
   "source": [
    "quakes[['latitude', 'longitude']].print_rows(3)"
   ]
  },
  {
   "cell_type": "markdown",
   "metadata": {},
   "source": [
    "## Some operations are unique to `TimeSeries`"
   ]
  },
  {
   "cell_type": "markdown",
   "metadata": {},
   "source": [
    "### Row slicing with a `datetime` interval"
   ]
  },
  {
   "cell_type": "code",
   "execution_count": null,
   "metadata": {
    "collapsed": false
   },
   "outputs": [],
   "source": [
    "start = dt.datetime(2014, 5, 1)\n",
    "end = dt.datetime(2014, 5, 2)\n",
    "\n",
    "quakes.slice(start, end).print_rows(3)"
   ]
  },
  {
   "cell_type": "markdown",
   "metadata": {},
   "source": [
    "### Working with the time index "
   ]
  },
  {
   "cell_type": "code",
   "execution_count": null,
   "metadata": {
    "collapsed": false
   },
   "outputs": [],
   "source": [
    "print \"Earliest timestamp:\", quakes.min_time\n",
    "print \"Latest timestamp:\", quakes.max_time\n",
    "print \"Timestamp range:\", quakes.range"
   ]
  },
  {
   "cell_type": "code",
   "execution_count": null,
   "metadata": {
    "collapsed": false
   },
   "outputs": [],
   "source": [
    "print \"Index column:\", quakes.index_col_name\n",
    "print \"Value columns:\", quakes.value_col_names"
   ]
  },
  {
   "cell_type": "code",
   "execution_count": null,
   "metadata": {
    "collapsed": false
   },
   "outputs": [],
   "source": [
    "print quakes.index[:3]"
   ]
  },
  {
   "cell_type": "code",
   "execution_count": null,
   "metadata": {
    "collapsed": false
   },
   "outputs": [],
   "source": [
    "big_one = quakes.argmax('mag')\n",
    "quakes[big_one]"
   ]
  },
  {
   "cell_type": "markdown",
   "metadata": {},
   "source": [
    "## We can always go back to an `SFrame`"
   ]
  },
  {
   "cell_type": "code",
   "execution_count": null,
   "metadata": {
    "collapsed": false
   },
   "outputs": [],
   "source": [
    "sf2 = quakes.to_sframe()\n",
    "print type(sf2)"
   ]
  },
  {
   "cell_type": "markdown",
   "metadata": {},
   "source": [
    "---"
   ]
  },
  {
   "cell_type": "markdown",
   "metadata": {},
   "source": [
    "# 4. Appending more data"
   ]
  },
  {
   "cell_type": "markdown",
   "metadata": {},
   "source": [
    "## Read in new data and preprocess"
   ]
  },
  {
   "cell_type": "code",
   "execution_count": null,
   "metadata": {
    "collapsed": false
   },
   "outputs": [],
   "source": [
    "sf_recent = gl.SFrame.read_csv('raw_data/global_earthquakes_recent.csv', verbose=False)\n",
    "\n",
    "# Trim away the columns we're not interested in.\n",
    "sf_recent = sf_recent[useful_columns]\n",
    "\n",
    "# Remove any non-earthquake events.\n",
    "mask = sf_recent['type'] == 'earthquake'\n",
    "sf_recent = sf_recent[mask]\n",
    "sf_recent = sf_recent.remove_column('type')\n",
    "\n",
    "# Convert the timestamp to a `datetime` type.\n",
    "sf_recent['time'] = sf_recent['time'].str_to_datetime(str_format='%Y-%m-%dT%H:%M:%s%ZP')\n",
    "sf_recent['time'] = sf_recent['time'].apply(lambda x: x.replace(tzinfo=None))\n",
    "\n",
    "# Convert to a `TimeSeries` object.\n",
    "recent_quakes = gl.TimeSeries(sf_recent, index='time')\n",
    "recent_quakes.print_rows(3)"
   ]
  },
  {
   "cell_type": "markdown",
   "metadata": {},
   "source": [
    "## Get the union of the two datasets"
   ]
  },
  {
   "cell_type": "markdown",
   "metadata": {},
   "source": [
    "- If the indexes don't overlap, this is equivalent to `SFrame.append`.\n",
    "- If there is an overlap, `TimeSeries.union` enforces time order."
   ]
  },
  {
   "cell_type": "code",
   "execution_count": null,
   "metadata": {
    "collapsed": false
   },
   "outputs": [],
   "source": [
    "all_quakes = quakes.union(recent_quakes)\n",
    "\n",
    "print all_quakes.min_time\n",
    "print all_quakes.max_time"
   ]
  },
  {
   "cell_type": "markdown",
   "metadata": {},
   "source": [
    "---"
   ]
  },
  {
   "cell_type": "markdown",
   "metadata": {},
   "source": [
    "# 5. Grouping observations by value"
   ]
  },
  {
   "cell_type": "code",
   "execution_count": null,
   "metadata": {
    "collapsed": false
   },
   "outputs": [],
   "source": [
    "grp = quakes.group('location')\n",
    "print grp"
   ]
  },
  {
   "cell_type": "markdown",
   "metadata": {},
   "source": [
    "The **`group_info`** `SFrame` tells us what the group names are and how many observations are in each group."
   ]
  },
  {
   "cell_type": "code",
   "execution_count": null,
   "metadata": {
    "collapsed": false
   },
   "outputs": [],
   "source": [
    "grp.group_info().topk('group_size', k=8)"
   ]
  },
  {
   "cell_type": "markdown",
   "metadata": {},
   "source": [
    "The **`get_group`** method lets us isolate just the observations for any group."
   ]
  },
  {
   "cell_type": "code",
   "execution_count": null,
   "metadata": {
    "collapsed": false
   },
   "outputs": [],
   "source": [
    "oklahoma_quakes = grp.get_group('Oklahoma')\n",
    "oklahoma_quakes.print_rows(3)"
   ]
  },
  {
   "cell_type": "markdown",
   "metadata": {},
   "source": [
    "---"
   ]
  },
  {
   "cell_type": "markdown",
   "metadata": {},
   "source": [
    "# 6. Grouping observations by time component "
   ]
  },
  {
   "cell_type": "markdown",
   "metadata": {},
   "source": [
    "The **`date_part`** of a `TimeSeries` object let's us specify components of a datetime value."
   ]
  },
  {
   "cell_type": "code",
   "execution_count": null,
   "metadata": {
    "collapsed": false,
    "scrolled": true
   },
   "outputs": [],
   "source": [
    "grp = quakes.group(quakes.date_part.HOUR)\n",
    "hour_counts = grp.group_info()\n",
    "hour_counts.print_rows(5)"
   ]
  },
  {
   "cell_type": "code",
   "execution_count": null,
   "metadata": {
    "collapsed": false
   },
   "outputs": [],
   "source": [
    "import matplotlib.pyplot as plt\n",
    "%matplotlib notebook\n",
    "plt.style.use('ggplot')\n",
    "\n",
    "fig, ax = plt.subplots()\n",
    "ax.bar(hour_counts['time.hour'], hour_counts['group_size'], color='dodgerblue')\n",
    "ax.set_xlabel('Hour of the day')\n",
    "ax.set_ylabel('Number of earthquakes')\n",
    "fig.show()"
   ]
  },
  {
   "cell_type": "markdown",
   "metadata": {},
   "source": [
    "---"
   ]
  },
  {
   "cell_type": "markdown",
   "metadata": {},
   "source": [
    "# 7. Resampling "
   ]
  },
  {
   "cell_type": "markdown",
   "metadata": {},
   "source": [
    "Four things happen with the **`resample`** method:\n",
    "1. A new time index is created with uniformly spaced intervals.\n",
    "2. Each observation is mapped to an interval.\n",
    "3. **Downsampling**: *aggregate* statistics are computed within each interval.\n",
    "4. **Upsampling**: values are *interpolated* for empty intervals."
   ]
  },
  {
   "cell_type": "code",
   "execution_count": null,
   "metadata": {
    "collapsed": false
   },
   "outputs": [],
   "source": [
    "import graphlab.aggregate as agg\n",
    "\n",
    "daily_stats = quakes.resample(period=dt.timedelta(days=1),\n",
    "                        upsample_method='none',\n",
    "                        downsample_method={'count': agg.COUNT('latitude'),\n",
    "                                           'avg_mag': agg.MEAN('mag'),\n",
    "                                           'max_mag': agg.MAX('mag')})\n",
    "\n",
    "daily_stats['count'] = daily_stats['count'].fillna(0)\n",
    "daily_stats.print_rows(5)"
   ]
  },
  {
   "cell_type": "markdown",
   "metadata": {},
   "source": [
    "---"
   ]
  },
  {
   "cell_type": "markdown",
   "metadata": {},
   "source": [
    "# 8. Setting up the next notebooks "
   ]
  },
  {
   "cell_type": "markdown",
   "metadata": {},
   "source": [
    "- For the modeling notebook, we'll use the global earthquake data, downsampled to daily statistics.\n",
    "- For the anomaly detection notebook, we'll use just the Oklahoma data, downsampled to daily statistics. "
   ]
  },
  {
   "cell_type": "code",
   "execution_count": null,
   "metadata": {
    "collapsed": true
   },
   "outputs": [],
   "source": [
    "def compute_daily_stats(data):\n",
    "    daily = data.resample(period=dt.timedelta(days=1),\n",
    "                                upsample_method='none',\n",
    "                                downsample_method={'count': agg.COUNT('latitude'),\n",
    "                                                   'avg_mag': agg.MEAN('mag'),\n",
    "                                                   'max_mag': agg.MAX('mag')})\n",
    "\n",
    "    daily['count'] = daily['count'].fillna(0)\n",
    "    return daily"
   ]
  },
  {
   "cell_type": "code",
   "execution_count": null,
   "metadata": {
    "collapsed": true
   },
   "outputs": [],
   "source": [
    "# Save the daily counts and recent daily counts.\n",
    "daily_stats.save('working_data/global_daily_stats.ts')\n",
    "compute_daily_stats(recent_quakes).save('working_data/global_daily_update.ts')"
   ]
  },
  {
   "cell_type": "code",
   "execution_count": null,
   "metadata": {
    "collapsed": true
   },
   "outputs": [],
   "source": [
    "# Filter just the Oklahoma data from the recent events.\n",
    "grp = recent_quakes.group('location')\n",
    "recent_oklahoma_quakes = grp.get_group('Oklahoma')"
   ]
  },
  {
   "cell_type": "code",
   "execution_count": null,
   "metadata": {
    "collapsed": true
   },
   "outputs": [],
   "source": [
    "# Compute daily stats for the Oklahoma quake events.\n",
    "compute_daily_stats(oklahoma_quakes).save('working_data/ok_daily_stats.ts')\n",
    "compute_daily_stats(recent_oklahoma_quakes).save('working_data/ok_daily_update.ts')"
   ]
  }
 ],
 "metadata": {
  "kernelspec": {
   "display_name": "Python 2",
   "language": "python",
   "name": "python2"
  },
  "language_info": {
   "codemirror_mode": {
    "name": "ipython",
    "version": 2
   },
   "file_extension": ".py",
   "mimetype": "text/x-python",
   "name": "python",
   "nbconvert_exporter": "python",
   "pygments_lexer": "ipython2",
   "version": "2.7.11"
  }
 },
 "nbformat": 4,
 "nbformat_minor": 0
}
