{
 "cells": [
  {
   "cell_type": "markdown",
   "metadata": {},
   "source": [
    "# 1. Load and inspect the data: Oklahoma earthquake stats"
   ]
  },
  {
   "cell_type": "code",
   "execution_count": null,
   "metadata": {
    "collapsed": false
   },
   "outputs": [],
   "source": [
    "import graphlab as gl\n",
    "\n",
    "okla_daily = gl.load_timeseries('working_data/ok_daily_stats.ts')\n",
    "\n",
    "print \"Number of rows:\", len(okla_daily)\n",
    "print \"Start:\", okla_daily.min_time\n",
    "print \"End:\", okla_daily.max_time\n",
    "okla_daily.print_rows(3)"
   ]
  },
  {
   "cell_type": "code",
   "execution_count": null,
   "metadata": {
    "collapsed": false
   },
   "outputs": [],
   "source": [
    "import matplotlib.pyplot as plt\n",
    "%matplotlib notebook\n",
    "plt.style.use('ggplot')\n",
    "\n",
    "fig, ax = plt.subplots()\n",
    "ax.plot(okla_daily['time'], okla_daily['count'], color='dodgerblue')\n",
    "ax.set_ylabel('Number of quakes')\n",
    "ax.set_xlabel('Date')\n",
    "fig.autofmt_xdate()\n",
    "fig.show()"
   ]
  },
  {
   "cell_type": "markdown",
   "metadata": {},
   "source": [
    "---"
   ]
  },
  {
   "cell_type": "markdown",
   "metadata": {},
   "source": [
    "# 2. Let the toolkit choose the model "
   ]
  },
  {
   "cell_type": "code",
   "execution_count": null,
   "metadata": {
    "collapsed": false
   },
   "outputs": [],
   "source": [
    "from graphlab.toolkits import anomaly_detection\n",
    "\n",
    "model = anomaly_detection.create(okla_daily, features=['count'])\n",
    "\n",
    "print model"
   ]
  },
  {
   "cell_type": "markdown",
   "metadata": {},
   "source": [
    "---"
   ]
  },
  {
   "cell_type": "markdown",
   "metadata": {},
   "source": [
    "# 3. The simple thresholding model"
   ]
  },
  {
   "cell_type": "code",
   "execution_count": null,
   "metadata": {
    "collapsed": false
   },
   "outputs": [],
   "source": [
    "threshold = 5\n",
    "anomaly_mask = okla_daily['count'] >= threshold\n",
    "\n",
    "anomaly_scores = okla_daily[['count']]\n",
    "anomaly_scores['threshold_score'] = anomaly_mask"
   ]
  },
  {
   "cell_type": "code",
   "execution_count": null,
   "metadata": {
    "collapsed": false
   },
   "outputs": [],
   "source": [
    "anomaly_scores.tail(8).print_rows()"
   ]
  },
  {
   "cell_type": "markdown",
   "metadata": {},
   "source": [
    "---"
   ]
  },
  {
   "cell_type": "markdown",
   "metadata": {},
   "source": [
    "# 4. The moving Z-score model"
   ]
  },
  {
   "cell_type": "code",
   "execution_count": null,
   "metadata": {
    "collapsed": false
   },
   "outputs": [],
   "source": [
    "from graphlab.toolkits.anomaly_detection import moving_zscore\n",
    "\n",
    "zscore_model = moving_zscore.create(okla_daily, feature='count',\n",
    "                                    window_size=30,\n",
    "                                    min_observations=15)\n",
    "\n",
    "print zscore_model"
   ]
  },
  {
   "cell_type": "code",
   "execution_count": null,
   "metadata": {
    "collapsed": false
   },
   "outputs": [],
   "source": [
    "zscore_model.scores.tail(3)"
   ]
  },
  {
   "cell_type": "code",
   "execution_count": null,
   "metadata": {
    "collapsed": false
   },
   "outputs": [],
   "source": [
    "zscore_model.scores.head(3)"
   ]
  },
  {
   "cell_type": "code",
   "execution_count": null,
   "metadata": {
    "collapsed": false
   },
   "outputs": [],
   "source": [
    "anomaly_scores['outlier_score'] = zscore_model.scores['anomaly_score']\n",
    "anomaly_scores.tail(5).print_rows()"
   ]
  },
  {
   "cell_type": "code",
   "execution_count": null,
   "metadata": {
    "collapsed": false,
    "scrolled": false
   },
   "outputs": [],
   "source": [
    "fig, ax = plt.subplots(2, sharex=True)\n",
    "ax[0].plot(anomaly_scores['time'], anomaly_scores['count'], color='dodgerblue')\n",
    "ax[0].set_ylabel('# quakes')\n",
    "\n",
    "ax[1].plot(anomaly_scores['time'], anomaly_scores['outlier_score'], color='orchid')\n",
    "ax[1].set_ylabel('outlier score')\n",
    "\n",
    "ax[1].set_xlabel('Date')\n",
    "fig.autofmt_xdate()\n",
    "fig.show()"
   ]
  },
  {
   "cell_type": "markdown",
   "metadata": {},
   "source": [
    "---"
   ]
  },
  {
   "cell_type": "markdown",
   "metadata": {},
   "source": [
    "# 5. The Bayesian changepoint model"
   ]
  },
  {
   "cell_type": "code",
   "execution_count": null,
   "metadata": {
    "collapsed": false
   },
   "outputs": [],
   "source": [
    "from graphlab.toolkits.anomaly_detection import bayesian_changepoints\n",
    "\n",
    "changept_model = bayesian_changepoints.create(okla_daily, feature='count',\n",
    "                                              expected_runlength=2000, lag=7)\n",
    "\n",
    "print changept_model"
   ]
  },
  {
   "cell_type": "code",
   "execution_count": null,
   "metadata": {
    "collapsed": false
   },
   "outputs": [],
   "source": [
    "anomaly_scores['changepoint_score'] = changept_model.scores['changepoint_score']\n",
    "anomaly_scores.head(5)"
   ]
  },
  {
   "cell_type": "code",
   "execution_count": null,
   "metadata": {
    "collapsed": false
   },
   "outputs": [],
   "source": [
    "fig, ax = plt.subplots(3, sharex=True)\n",
    "ax[0].plot(anomaly_scores['time'], anomaly_scores['count'], color='dodgerblue')\n",
    "ax[0].set_ylabel('# quakes')\n",
    "\n",
    "ax[1].plot(anomaly_scores['time'], anomaly_scores['outlier_score'], color='orchid')\n",
    "ax[1].set_ylabel('outlier score')\n",
    "\n",
    "ax[2].plot(anomaly_scores['time'], anomaly_scores['changepoint_score'], color='orchid')\n",
    "ax[2].set_ylabel('changepoint score')\n",
    "\n",
    "ax[2].set_xlabel('Date')\n",
    "fig.autofmt_xdate()\n",
    "fig.show()"
   ]
  },
  {
   "cell_type": "markdown",
   "metadata": {},
   "source": [
    "---"
   ]
  },
  {
   "cell_type": "markdown",
   "metadata": {},
   "source": [
    "# 6. How to use the anomaly scores"
   ]
  },
  {
   "cell_type": "markdown",
   "metadata": {},
   "source": [
    "## Option 1: choose an anomaly threshold *a priori*"
   ]
  },
  {
   "cell_type": "markdown",
   "metadata": {},
   "source": [
    "- Slightly better than choosing a threshold in the original feature space.\n",
    "- For Bayesian changepoint detection, where the scores are probabilities, there is a natural threshold of 0.5."
   ]
  },
  {
   "cell_type": "code",
   "execution_count": null,
   "metadata": {
    "collapsed": false
   },
   "outputs": [],
   "source": [
    "threshold = 0.5\n",
    "anom_mask = anomaly_scores['changepoint_score'] >= threshold\n",
    "\n",
    "anomalies = anomaly_scores[anom_mask]\n",
    "\n",
    "print \"Number of anomalies:\", len(anomalies)\n",
    "anomalies.head(5)"
   ]
  },
  {
   "cell_type": "markdown",
   "metadata": {},
   "source": [
    "## Option 2: choose the top-k anomalies"
   ]
  },
  {
   "cell_type": "markdown",
   "metadata": {},
   "source": [
    "If you have a fixed budget for investigating and acting on anomalies, this is a good way to go."
   ]
  },
  {
   "cell_type": "code",
   "execution_count": null,
   "metadata": {
    "collapsed": false
   },
   "outputs": [],
   "source": [
    "anomalies = anomaly_scores.to_sframe().topk('changepoint_score', k=5)\n",
    "\n",
    "print \"Number of anomalies:\", len(anomalies)\n",
    "anomalies.head(5)"
   ]
  },
  {
   "cell_type": "markdown",
   "metadata": {},
   "source": [
    "## Option 3: look at the anomaly distribution and choose a threshold"
   ]
  },
  {
   "cell_type": "code",
   "execution_count": null,
   "metadata": {
    "collapsed": false
   },
   "outputs": [],
   "source": [
    "anomaly_scores['changepoint_score'].show()"
   ]
  },
  {
   "cell_type": "code",
   "execution_count": null,
   "metadata": {
    "collapsed": false
   },
   "outputs": [],
   "source": [
    "threshold = 0.072\n",
    "anom_mask = anomaly_scores['changepoint_score'] >= threshold\n",
    "\n",
    "anomalies = anomaly_scores[anom_mask]\n",
    "\n",
    "print \"Number of anomalies:\", len(anomalies)\n",
    "anomalies.head(5)"
   ]
  },
  {
   "cell_type": "markdown",
   "metadata": {},
   "source": [
    "## Option 4: get fancy with plotting "
   ]
  },
  {
   "cell_type": "code",
   "execution_count": null,
   "metadata": {
    "collapsed": false,
    "scrolled": false
   },
   "outputs": [],
   "source": [
    "from interactive_plot import LineDrawer\n",
    "\n",
    "fig, ax = plt.subplots(3, sharex=True)\n",
    "guide_lines = []\n",
    "threshold_lines = []\n",
    "\n",
    "p = ax[0].plot(anomaly_scores['time'], anomaly_scores['count'],\n",
    "               color='dodgerblue')\n",
    "ax[0].set_ylabel('# quakes')\n",
    "\n",
    "line, = ax[0].plot((anomaly_scores.min_time, anomaly_scores.min_time),\n",
    "                   ax[0].get_ylim(), lw=1, ls='--', color='black')\n",
    "guide_lines.append(line)\n",
    "\n",
    "ax[1].plot(anomaly_scores['time'], anomaly_scores['outlier_score'],\n",
    "           color='orchid')\n",
    "ax[1].set_ylabel('outlier score')\n",
    "line, = ax[1].plot((anomaly_scores.min_time, anomaly_scores.min_time),\n",
    "                   ax[1].get_ylim(), lw=1, ls='--', color='black')\n",
    "guide_lines.append(line)\n",
    "\n",
    "ax[2].plot(anomaly_scores['time'], anomaly_scores['changepoint_score'],\n",
    "           color='orchid')\n",
    "ax[2].set_ylabel('changepoint score')\n",
    "ax[2].set_xlabel('Date')\n",
    "line, = ax[2].plot((anomaly_scores.min_time, anomaly_scores.min_time), (0., 1.),\n",
    "                   lw=1, ls='--', color='black')\n",
    "guide_lines.append(line)\n",
    "\n",
    "for a in ax:\n",
    "    line, = a.plot(anomaly_scores.range, (0., 0.), lw=1, ls='--',\n",
    "                   color='black')\n",
    "    threshold_lines.append(line)\n",
    "\n",
    "plot_scores = anomaly_scores[['count', 'outlier_score', 'changepoint_score']]\n",
    "interactive_thresholder = LineDrawer(plot_scores, guide_lines, threshold_lines)\n",
    "interactive_thresholder.connect()\n",
    "fig.autofmt_xdate()\n",
    "fig.show()"
   ]
  },
  {
   "cell_type": "code",
   "execution_count": null,
   "metadata": {
    "collapsed": false
   },
   "outputs": [],
   "source": [
    "interactive_thresholder.anoms.print_rows(10)"
   ]
  },
  {
   "cell_type": "markdown",
   "metadata": {},
   "source": [
    "---"
   ]
  },
  {
   "cell_type": "markdown",
   "metadata": {},
   "source": [
    "# 7. Updating the model with new data"
   ]
  },
  {
   "cell_type": "code",
   "execution_count": null,
   "metadata": {
    "collapsed": false
   },
   "outputs": [],
   "source": [
    "okla_new = gl.load_timeseries('working_data/ok_daily_update.ts')\n",
    "okla_new.print_rows(20)"
   ]
  },
  {
   "cell_type": "markdown",
   "metadata": {},
   "source": [
    "Why do we want to update the model, rather than training a new one?\n",
    "1. Because we've updated our parameters using the data we've seen already.\n",
    "2. Updating simplifies the drudgery of prepending the data to get a final score for the lags in the previous data set."
   ]
  },
  {
   "cell_type": "code",
   "execution_count": null,
   "metadata": {
    "collapsed": false
   },
   "outputs": [],
   "source": [
    "changept_model2 = changept_model.update(okla_new)\n",
    "\n",
    "print changept_model2"
   ]
  },
  {
   "cell_type": "code",
   "execution_count": null,
   "metadata": {
    "collapsed": false
   },
   "outputs": [],
   "source": [
    "changept_model2.scores.print_rows(20)"
   ]
  }
 ],
 "metadata": {
  "kernelspec": {
   "display_name": "Python 2",
   "language": "python",
   "name": "python2"
  },
  "language_info": {
   "codemirror_mode": {
    "name": "ipython",
    "version": 2
   },
   "file_extension": ".py",
   "mimetype": "text/x-python",
   "name": "python",
   "nbconvert_exporter": "python",
   "pygments_lexer": "ipython2",
   "version": "2.7.11"
  }
 },
 "nbformat": 4,
 "nbformat_minor": 0
}
