{
 "cells": [
  {
   "cell_type": "code",
   "execution_count": null,
   "metadata": {
    "collapsed": false
   },
   "outputs": [],
   "source": [
    "from IPython.display import Image\n",
    "import graphlab\n",
    "import os\n",
    "graphlab.canvas.set_target('ipynb')"
   ]
  },
  {
   "cell_type": "markdown",
   "metadata": {},
   "source": [
    "Overview: Deploying the Dress Recommender\n",
    "==================\n",
    "Let's say you want to make an app which can recommend dresses to you based on a photo you took. \n",
    "You need a way to deploy the model previously built. Dato Predictive Services helps do this in an easy and scalable way. In this notebook, we demonstrate how do that for the dress recommender model.\n",
    "\n",
    "<img src='images/predictive_services_overview.png'></img>\n",
    "\n",
    "-----------------------\n"
   ]
  },
  {
   "cell_type": "markdown",
   "metadata": {},
   "source": [
    "Deployment Steps\n",
    "=========\n",
    "The notebook has three sections: \n",
    "\n",
    "1. <a href='#cpo'>Create a model</a>\n",
    "2. <a href='#create'>Create a predictive service</a>\n",
    "3. <a href='#query'>Query the model</a>\n",
    "\n",
    "\n",
    "## 1. Create a model <a id='cpo'></a>\n",
    "\n",
    "Let us try and deploy the dress recommender. First, we define a function ```similar_dress``` that takes a query and returns similar dresses. \n",
    "\n",
    "<img src=\"images/left.png\"></img>\n",
    "\n",
    "We start by loading the already trained models and datasets."
   ]
  },
  {
   "cell_type": "code",
   "execution_count": null,
   "metadata": {
    "collapsed": false
   },
   "outputs": [],
   "source": [
    "if os.path.exists('dress_sf_processed.sf'):\n",
    "    reference_sf = graphlab.SFrame('dress_sf_processed.sf')\n",
    "else:\n",
    "    reference_sf = graphlab.SFrame('s3://dato-datasets/deeplearning/dress_sf_processed.sf')\n",
    "    reference_sf.save('dress_sf_processed.sf')"
   ]
  },
  {
   "cell_type": "code",
   "execution_count": null,
   "metadata": {
    "collapsed": true
   },
   "outputs": [],
   "source": [
    "if os.path.exists('dress_nn_model'):\n",
    "    pretrained_model = graphlab.load_model('dress_nn_model')\n",
    "else:\n",
    "    pretrained_model = graphlab.load_model('s3://dato-datasets/deeplearning/dress_nn_model')\n",
    "    pretrained_model.save('dress_nn_model')"
   ]
  },
  {
   "cell_type": "code",
   "execution_count": null,
   "metadata": {
    "collapsed": true
   },
   "outputs": [],
   "source": [
    "if os.path.exists('imagenet_model'):\n",
    "    pretrained_model = graphlab.load_model('imagenet_model')\n",
    "else:\n",
    "    pretrained_model = graphlab.load_model('s3://dato-datasets/deeplearning/imagenet_model_iter45')\n",
    "    pretrained_model.save('imagenet_model')"
   ]
  },
  {
   "cell_type": "code",
   "execution_count": null,
   "metadata": {
    "collapsed": false
   },
   "outputs": [],
   "source": [
    "reference_sf"
   ]
  },
  {
   "cell_type": "code",
   "execution_count": null,
   "metadata": {
    "collapsed": false
   },
   "outputs": [],
   "source": [
    "def dress_similar(url):\n",
    "    img = graphlab.Image(url)\n",
    "    image_sf = graphlab.SFrame()\n",
    "    image_sf['image'] = [img]\n",
    "    image_sf['features'] = pretrained_model.extract_features(image_sf)\n",
    "    ans = nn_model.query(image_sf, k=5)\n",
    "    return ans "
   ]
  },
  {
   "cell_type": "code",
   "execution_count": null,
   "metadata": {
    "collapsed": false
   },
   "outputs": [],
   "source": [
    "QUERY_URL = 'http://static.ddmcdn.com/gif/blue-dress.jpg'\n",
    "Image(QUERY_URL)"
   ]
  },
  {
   "cell_type": "code",
   "execution_count": null,
   "metadata": {
    "collapsed": true
   },
   "outputs": [],
   "source": [
    "def retrieve_image(nearest_neighbors_output, input_sframe):\n",
    "    joined = input_sframe.join(nearest_neighbors_output, on={'_id':'reference_label'})\n",
    "    sorted_sf = joined.sort('rank')\n",
    "    return sorted_sf['image']"
   ]
  },
  {
   "cell_type": "code",
   "execution_count": null,
   "metadata": {
    "collapsed": false
   },
   "outputs": [],
   "source": [
    "images = retrieve_image(dress_similar(QUERY_URL), reference_sf)"
   ]
  },
  {
   "cell_type": "code",
   "execution_count": null,
   "metadata": {
    "collapsed": false
   },
   "outputs": [],
   "source": [
    "images.show()"
   ]
  },
  {
   "cell_type": "markdown",
   "metadata": {},
   "source": [
    "## 2. Create a Predictive Service (One time) <a id='create'></a>\n",
    "\n",
    "This section shows you how to deploy a Predictive Service to EC2. The EC2 instances used by the Predictive Service will be launched in your own AWS account, so you will be responsible for the cost. \n",
    "\n",
    "<img src=\"images/middle.png\"></img>\n",
    "We add our ```similar_dress``` function to the predictive service, so that it can be queried by the outside world. Note: In order to follow along here, you need AWS credentials. You can then uncomment the code below. Be sure that the deployment state path is in an s3 bucket you have access to. \n"
   ]
  },
  {
   "cell_type": "code",
   "execution_count": null,
   "metadata": {
    "collapsed": true
   },
   "outputs": [],
   "source": [
    "import graphlab as gl\n",
    "\n",
    "# Replace with your path.\n",
    "ps_state_path = 's3://<your-bucket-name>/predictive_service/ps'\n",
    "\n",
    "# Set your AWS credentials.\n",
    "gl.aws.set_credentials(<key>, <secret>)\n",
    "\n",
    "# Create an EC2 config\n",
    "ec2_config = gl.deploy.Ec2Config()\n",
    "\n",
    "# Launch a predictive service\n",
    "ps = gl.deploy.predictive_service.create(name = 'sklearn-predictive-service', \n",
    "              ec2_config = ec2_config, state_path = ps_state_path, num_hosts = 1)"
   ]
  },
  {
   "cell_type": "markdown",
   "metadata": {},
   "source": [
    "### Load an already created service"
   ]
  },
  {
   "cell_type": "code",
   "execution_count": null,
   "metadata": {
    "collapsed": false
   },
   "outputs": [],
   "source": [
    "import graphlab as gl\n",
    "ps = gl.deploy.predictive_service.load(TBD)\n",
    "ps"
   ]
  },
  {
   "cell_type": "code",
   "execution_count": null,
   "metadata": {
    "collapsed": false
   },
   "outputs": [],
   "source": [
    "#ps.add('dress_similar', dress_similar)\n",
    "#ps.update('dress_similar', dress_similar)\n",
    "ps.apply_changes()"
   ]
  },
  {
   "cell_type": "markdown",
   "metadata": {},
   "source": [
    "## Query the model <a id='query'></a>\n",
    "\n",
    "The Predictive Service is now up! Let's query it and explore the response. \n",
    "<img src=\"images/right.png\"></img>"
   ]
  },
  {
   "cell_type": "code",
   "execution_count": null,
   "metadata": {
    "collapsed": false
   },
   "outputs": [],
   "source": [
    "ps.query('dress_similar', url=QUERY_URL)"
   ]
  },
  {
   "cell_type": "markdown",
   "metadata": {},
   "source": [
    "Query via REST\n",
    "========"
   ]
  },
  {
   "cell_type": "markdown",
   "metadata": {},
   "source": [
    "Query from anywhere. Here, we issue a request via the ```requests``` library, and convert the returning JSON  back into an SFrame. This could easily be done from outside of Python, though. "
   ]
  },
  {
   "cell_type": "code",
   "execution_count": null,
   "metadata": {
    "collapsed": false
   },
   "outputs": [],
   "source": [
    "import json\n",
    "import requests\n",
    "from requests.auth import HTTPBasicAuth\n",
    "\n",
    "def restful_query(x):\n",
    "    headers = {'content-type': 'application/json'}\n",
    "    payload = {'data': {'url': url} }\n",
    "    end_point = 'http://TBD/query/dress_similar'\n",
    "    return requests.post(\n",
    "        end_point,\n",
    "        json.dumps(payload),\n",
    "        headers=headers,\n",
    "        auth=HTTPBasicAuth('api_key', TBD)).json()"
   ]
  },
  {
   "cell_type": "code",
   "execution_count": null,
   "metadata": {
    "collapsed": false
   },
   "outputs": [],
   "source": [
    "restful_query('http://static.ddmcdn.com/gif/blue-dress.jpg').show()"
   ]
  },
  {
   "cell_type": "code",
   "execution_count": null,
   "metadata": {
    "collapsed": true
   },
   "outputs": [],
   "source": []
  }
 ],
 "metadata": {
  "kernelspec": {
   "display_name": "Python 2",
   "language": "python",
   "name": "python2"
  },
  "language_info": {
   "codemirror_mode": {
    "name": "ipython",
    "version": 2
   },
   "file_extension": ".py",
   "mimetype": "text/x-python",
   "name": "python",
   "nbconvert_exporter": "python",
   "pygments_lexer": "ipython2",
   "version": "2.7.11"
  }
 },
 "nbformat": 4,
 "nbformat_minor": 0
}
