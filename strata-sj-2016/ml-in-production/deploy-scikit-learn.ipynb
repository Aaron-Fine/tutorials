{
 "cells": [
  {
   "cell_type": "markdown",
   "metadata": {},
   "source": [
    "Introduction to ML Deployment\n",
    "==================\n",
    "\n",
    "Deploying models created using python in a Turi Predictive Service is very easy. This notebook walks you through the step-by-step process. \n",
    "\n",
    "<img src='images/predictive_services_overview.png'></img>\n",
    "\n",
    "-----------------------\n",
    "\n",
    "Deployment Steps\n",
    "=========\n",
    "The notebook has three sections: \n",
    "\n",
    "1. <a href='#cpo'>Create a model</a>\n",
    "2. <a href='#create'>Create a predictive service</a>\n",
    "3. <a href='#query'>Query the model</a>\n",
    "\n",
    "If you are deploying a model in an existing Predictive Service instance you can go to step (2) directly.\n"
   ]
  },
  {
   "cell_type": "markdown",
   "metadata": {},
   "source": [
    "## Preliminaries\n",
    "For the following code, you will need to install the following packages:\n",
    "\n",
    "```\n",
    "pip install graphlab-create\n",
    "pip install sklearn\n",
    "pip install numpy\n",
    "pip install scipy\n",
    "```"
   ]
  },
  {
   "cell_type": "markdown",
   "metadata": {},
   "source": [
    "## 1. Create a model <a id='cpo'></a>\n",
    "\n",
    "Let's train a simple random forest model and deploy it in the Predictive Service.\n",
    "\n",
    "<img src=\"images/left.png\"></img>"
   ]
  },
  {
   "cell_type": "code",
   "execution_count": null,
   "metadata": {
    "collapsed": false
   },
   "outputs": [],
   "source": [
    "from sklearn.ensemble import RandomForestClassifier\n",
    "from sklearn.datasets import load_iris\n",
    "iris = load_iris()\n",
    "\n",
    "model = RandomForestClassifier(n_estimators=10)\n",
    "model = model.fit(iris['data'], iris['target'])\n",
    "model"
   ]
  },
  {
   "cell_type": "markdown",
   "metadata": {},
   "source": [
    "We can expose the trained model as a REST endpoint. This will allow other applications to consume the predictions from the model.  \n",
    "\n",
    "In order to do that, we wrap the model object in a Python function and add it to the Predictive Service. In the function you may add your own logic for transform input to the model, ensemble different models or manipulate output before returning. Checkout out [user guide](https://turi.com/learn/userguide/#Deployment) for more details.\n",
    "\n",
    "The result of the function needs to be  a **JSON serializable** object."
   ]
  },
  {
   "cell_type": "code",
   "execution_count": null,
   "metadata": {
    "collapsed": true
   },
   "outputs": [],
   "source": [
    "def classify(x):\n",
    "    prediction = model.predict(x)\n",
    "\n",
    "    # convert into a json serializable value\n",
    "    return list(prediction)"
   ]
  },
  {
   "cell_type": "markdown",
   "metadata": {},
   "source": [
    "## 2. Create a Predictive Service (One time) <a id='create'></a>\n",
    "\n",
    "This section shows you how to deploy a Predictive Service to EC2. The EC2 instances used by the Predictive Service will be launched in your own AWS account, so you will be responsible for the cost. \n",
    "\n",
    "<img src=\"images/middle.png\"></img>"
   ]
  },
  {
   "cell_type": "markdown",
   "metadata": {},
   "source": [
    "To create a Predictive Service in Amazon AWS, we first configure the EC2 Config object, which contains the configuration parameters required for launching a Predictive Service cluster in EC2. These fields are optional and include the region, instance type, CIDR rules etc. Predictive Service uses this configuration for service creation.\n",
    "\n",
    "Having configured our EC2 Config object, we're ready to launch a Predictive Service Deployment, There are a few aspects of the Predictive Service that can be customized:\n",
    "* Number of nodes in the service - By default the number of hosts (`num_hosts`) is 1. To obtain good cache utility and high availability, we recommended setting num_hosts to at least 3.\n",
    "* State path to persist service state and service logs. This is a s3 location. \n",
    "* Port to be used by the server.\n",
    "* Other settings, such as SSL credentials etc.\n",
    "\n",
    "The following code snippet shows you how to create a Predictive Service. You will have to replace the ps_state_path and credentials for your Predictive Service."
   ]
  },
  {
   "cell_type": "code",
   "execution_count": null,
   "metadata": {
    "collapsed": false
   },
   "outputs": [],
   "source": [
    "import graphlab as gl\n",
    "\n",
    "# Replace with your path.\n",
    "ps_state_path = 's3://<your-bucket-name>/predictive_service/ps'\n",
    "\n",
    "# Set your AWS credentials.\n",
    "gl.aws.set_credentials(<key>, <secret>)\n",
    "\n",
    "# Create an EC2 config\n",
    "ec2 = gl.deploy.Ec2Config()\n",
    "\n",
    "# Launch a predictive service\n",
    "ps = gl.deploy.predictive_service.create(\n",
    "    name='sklearn-predictive-service', \n",
    "    ec2_config=ec2, state_path=ps_state_path, num_hosts=1)"
   ]
  },
  {
   "cell_type": "markdown",
   "metadata": {},
   "source": [
    "### Load an already created service"
   ]
  },
  {
   "cell_type": "code",
   "execution_count": null,
   "metadata": {
    "collapsed": false
   },
   "outputs": [],
   "source": [
    "import graphlab as gl\n",
    "ps = gl.deploy.predictive_service.load('s3://gl-demo-usw2/predictive_service/demolab/ps-1.8.4')"
   ]
  },
  {
   "cell_type": "code",
   "execution_count": null,
   "metadata": {
    "collapsed": false
   },
   "outputs": [],
   "source": [
    "ps"
   ]
  },
  {
   "cell_type": "code",
   "execution_count": null,
   "metadata": {
    "collapsed": false
   },
   "outputs": [],
   "source": [
    "# ps.add('classify-sklearn', classify, description='Classify an iris based on petal and sepal dimensions')\n",
    "ps.update('classify-sklearn', classify, description='Classify an iris based on petal and sepal dimensions')"
   ]
  },
  {
   "cell_type": "code",
   "execution_count": null,
   "metadata": {
    "collapsed": false
   },
   "outputs": [],
   "source": [
    "ps.apply_changes()"
   ]
  },
  {
   "cell_type": "markdown",
   "metadata": {},
   "source": [
    "## Query the model <a id='query'></a>\n",
    "\n",
    "You may do a test query before really deploying it to production. This will help detect errors in the function before deploying it the Predictive Service. \n",
    "\n",
    "<img src=\"images/right.png\"></img>"
   ]
  },
  {
   "cell_type": "code",
   "execution_count": null,
   "metadata": {
    "collapsed": false
   },
   "outputs": [],
   "source": [
    "ps.test_query('classify-sklearn', x=[5.1,  3.5,  1.4,  0.2])"
   ]
  },
  {
   "cell_type": "markdown",
   "metadata": {},
   "source": [
    "Now, let us query the real service."
   ]
  },
  {
   "cell_type": "code",
   "execution_count": null,
   "metadata": {
    "collapsed": false
   },
   "outputs": [],
   "source": [
    "# test query to make sure the model works fine\n",
    "ps.query('classify-sklearn', x=[5.1,  3.5,  1.4,  0.2])"
   ]
  },
  {
   "cell_type": "markdown",
   "metadata": {},
   "source": [
    "### Query from external applications via REST\n",
    "\n",
    "Now other applications can interact with our model! In the next section we will illustrate how to consume the model. We can also  use other APIs like ps.update() to update a mode, ps.remove() to remove a model."
   ]
  },
  {
   "cell_type": "markdown",
   "metadata": {},
   "source": [
    "The model query is exposed through REST API. The url to query is:\n",
    "\n",
    "    http(s)://<your-ps-endpoint>/query/<model-name>\n",
    "\n",
    "The predictive service uses basic access authentication to authorize the client to query. The client needs to provide the service's API key in the HTTP header as the password for user name `api_key`. The 'api key' may be obtained through ps.api_key\n",
    "\n",
    "The payload is a JSON serialized string in the following format:\n",
    "\n",
    "    { \"data\": <data-passed-to-custom-query> }\n",
    "\n",
    "The data is the actual data passed to the custom predictive object in the Predictive Service. It will be passed to the query using **kwargs format**.\n",
    "\n",
    "Here is a sample curl command to query your model:\n",
    "\n",
    "    curl -u api_key:b0a1c056-30b9-4468-9b8d-c07289017228 -d '{\"data\":{\"x\":[5.1,  3.5,  1.4,  0.2]}}' http://demolab-one-six-2015364754.us-west-2.elb.amazonaws.com/query/classify-sklearn\n",
    "\n",
    "    \n",
    "You can also query though Python using the **requests module**"
   ]
  },
  {
   "cell_type": "markdown",
   "metadata": {},
   "source": [
    "### Query through Python"
   ]
  },
  {
   "cell_type": "code",
   "execution_count": null,
   "metadata": {
    "collapsed": true
   },
   "outputs": [],
   "source": [
    "import json\n",
    "import requests\n",
    "from requests.auth import HTTPBasicAuth\n",
    "\n",
    "def restful_query(x):\n",
    "    headers = {'content-type': 'application/json'}\n",
    "    payload = {\"data\":{\"x\": x}}\n",
    "    end_point = 'http://demolab-ps-one-eight-four-810335136.us-west-2.elb.amazonaws.com/query/classify-sklearn'\n",
    "    return requests.post(\n",
    "        end_point,\n",
    "        json.dumps(payload),\n",
    "        headers=headers,\n",
    "        auth=HTTPBasicAuth('api_key', '9d97391e-8be7-47a9-8b72-34ecc9f0ad60')).json()"
   ]
  },
  {
   "cell_type": "code",
   "execution_count": null,
   "metadata": {
    "collapsed": false
   },
   "outputs": [],
   "source": [
    "restful_query([5.1,  3.5,  1.4,  0.2])"
   ]
  },
  {
   "cell_type": "code",
   "execution_count": null,
   "metadata": {
    "collapsed": false
   },
   "outputs": [],
   "source": [
    "restful_query([5.1,  3.5,  1.4,  0.3])"
   ]
  }
 ],
 "metadata": {
  "kernelspec": {
   "display_name": "Python 2",
   "language": "python",
   "name": "python2"
  },
  "language_info": {
   "codemirror_mode": {
    "name": "ipython",
    "version": 2
   },
   "file_extension": ".py",
   "mimetype": "text/x-python",
   "name": "python",
   "nbconvert_exporter": "python",
   "pygments_lexer": "ipython2",
   "version": "2.7.11"
  }
 },
 "nbformat": 4,
 "nbformat_minor": 0
}
