{
 "cells": [
  {
   "cell_type": "markdown",
   "metadata": {},
   "source": [
    "# Install GraphLab Create\n",
    "\n",
    "We always start with this line before using any part of GraphLab Create"
   ]
  },
  {
   "cell_type": "code",
   "execution_count": 1,
   "metadata": {
    "collapsed": true
   },
   "outputs": [],
   "source": [
    "import graphlab"
   ]
  },
  {
   "cell_type": "markdown",
   "metadata": {},
   "source": [
    "# Load a tabular data set"
   ]
  },
  {
   "cell_type": "code",
   "execution_count": 2,
   "metadata": {
    "collapsed": false
   },
   "outputs": [
    {
     "name": "stderr",
     "output_type": "stream",
     "text": [
      "2016-03-27 21:51:23,435 [INFO] graphlab.cython.cy_server, 176: GraphLab Create v1.8.5 started. Logging: /tmp/graphlab_server_1459140681.log\n"
     ]
    },
    {
     "name": "stdout",
     "output_type": "stream",
     "text": [
      "This commercial license of GraphLab Create is assigned to engr@turi.com.\n"
     ]
    },
    {
     "data": {
      "text/html": [
       "<pre>Finished parsing file /Users/srikris/workspace/tutorials/strata-sj-2016/data/books/book-data.csv</pre>"
      ],
      "text/plain": [
       "Finished parsing file /Users/srikris/workspace/tutorials/strata-sj-2016/data/books/book-data.csv"
      ]
     },
     "metadata": {},
     "output_type": "display_data"
    },
    {
     "data": {
      "text/html": [
       "<pre>Parsing completed. Parsed 100 lines in 0.086887 secs.</pre>"
      ],
      "text/plain": [
       "Parsing completed. Parsed 100 lines in 0.086887 secs."
      ]
     },
     "metadata": {},
     "output_type": "display_data"
    },
    {
     "name": "stdout",
     "output_type": "stream",
     "text": [
      "------------------------------------------------------\n",
      "Inferred types from first line of file as \n",
      "column_type_hints=[str,str,int,str]\n",
      "If parsing fails due to incorrect types, you can correct\n",
      "the inferred type list above and pass it to read_csv in\n",
      "the column_type_hints argument\n",
      "------------------------------------------------------\n"
     ]
    },
    {
     "data": {
      "text/html": [
       "<pre>Finished parsing file /Users/srikris/workspace/tutorials/strata-sj-2016/data/books/book-data.csv</pre>"
      ],
      "text/plain": [
       "Finished parsing file /Users/srikris/workspace/tutorials/strata-sj-2016/data/books/book-data.csv"
      ]
     },
     "metadata": {},
     "output_type": "display_data"
    },
    {
     "data": {
      "text/html": [
       "<pre>Parsing completed. Parsed 18776 lines in 0.064677 secs.</pre>"
      ],
      "text/plain": [
       "Parsing completed. Parsed 18776 lines in 0.064677 secs."
      ]
     },
     "metadata": {},
     "output_type": "display_data"
    }
   ],
   "source": [
    "sf = graphlab.SFrame('../data/books/book-data.csv')"
   ]
  },
  {
   "cell_type": "markdown",
   "metadata": {},
   "source": [
    "# SFrame basics"
   ]
  },
  {
   "cell_type": "code",
   "execution_count": 3,
   "metadata": {
    "collapsed": false
   },
   "outputs": [
    {
     "data": {
      "text/html": [
       "<div style=\"max-height:1000px;max-width:1500px;overflow:auto;\"><table frame=\"box\" rules=\"cols\">\n",
       "    <tr>\n",
       "        <th style=\"padding-left: 1em; padding-right: 1em; text-align: center\">book</th>\n",
       "        <th style=\"padding-left: 1em; padding-right: 1em; text-align: center\">author</th>\n",
       "        <th style=\"padding-left: 1em; padding-right: 1em; text-align: center\">year</th>\n",
       "        <th style=\"padding-left: 1em; padding-right: 1em; text-align: center\">publisher</th>\n",
       "    </tr>\n",
       "    <tr>\n",
       "        <td style=\"padding-left: 1em; padding-right: 1em; text-align: center; vertical-align: top\">The Law of Love</td>\n",
       "        <td style=\"padding-left: 1em; padding-right: 1em; text-align: center; vertical-align: top\">Laura Esquivel</td>\n",
       "        <td style=\"padding-left: 1em; padding-right: 1em; text-align: center; vertical-align: top\">1997</td>\n",
       "        <td style=\"padding-left: 1em; padding-right: 1em; text-align: center; vertical-align: top\">Three Rivers Press (CA)</td>\n",
       "    </tr>\n",
       "    <tr>\n",
       "        <td style=\"padding-left: 1em; padding-right: 1em; text-align: center; vertical-align: top\">Undercurrents</td>\n",
       "        <td style=\"padding-left: 1em; padding-right: 1em; text-align: center; vertical-align: top\">Frances Fyfield</td>\n",
       "        <td style=\"padding-left: 1em; padding-right: 1em; text-align: center; vertical-align: top\">2001</td>\n",
       "        <td style=\"padding-left: 1em; padding-right: 1em; text-align: center; vertical-align: top\">Viking Penguin Inc</td>\n",
       "    </tr>\n",
       "    <tr>\n",
       "        <td style=\"padding-left: 1em; padding-right: 1em; text-align: center; vertical-align: top\">Swept Away</td>\n",
       "        <td style=\"padding-left: 1em; padding-right: 1em; text-align: center; vertical-align: top\">Cay David</td>\n",
       "        <td style=\"padding-left: 1em; padding-right: 1em; text-align: center; vertical-align: top\">1992</td>\n",
       "        <td style=\"padding-left: 1em; padding-right: 1em; text-align: center; vertical-align: top\">Meteor Publishing<br>Corporation ...</td>\n",
       "    </tr>\n",
       "    <tr>\n",
       "        <td style=\"padding-left: 1em; padding-right: 1em; text-align: center; vertical-align: top\">Interesting Women:<br>Stories ...</td>\n",
       "        <td style=\"padding-left: 1em; padding-right: 1em; text-align: center; vertical-align: top\">Andrea Lee</td>\n",
       "        <td style=\"padding-left: 1em; padding-right: 1em; text-align: center; vertical-align: top\">2002</td>\n",
       "        <td style=\"padding-left: 1em; padding-right: 1em; text-align: center; vertical-align: top\">Random House</td>\n",
       "    </tr>\n",
       "    <tr>\n",
       "        <td style=\"padding-left: 1em; padding-right: 1em; text-align: center; vertical-align: top\">Sweet Revenge</td>\n",
       "        <td style=\"padding-left: 1em; padding-right: 1em; text-align: center; vertical-align: top\">Kate Clemens</td>\n",
       "        <td style=\"padding-left: 1em; padding-right: 1em; text-align: center; vertical-align: top\">2004</td>\n",
       "        <td style=\"padding-left: 1em; padding-right: 1em; text-align: center; vertical-align: top\">Kensington Publishing<br>Corporation ...</td>\n",
       "    </tr>\n",
       "    <tr>\n",
       "        <td style=\"padding-left: 1em; padding-right: 1em; text-align: center; vertical-align: top\">Somewhere, Someday</td>\n",
       "        <td style=\"padding-left: 1em; padding-right: 1em; text-align: center; vertical-align: top\">Josephine Cox</td>\n",
       "        <td style=\"padding-left: 1em; padding-right: 1em; text-align: center; vertical-align: top\">2001</td>\n",
       "        <td style=\"padding-left: 1em; padding-right: 1em; text-align: center; vertical-align: top\">Trafalgar Square</td>\n",
       "    </tr>\n",
       "    <tr>\n",
       "        <td style=\"padding-left: 1em; padding-right: 1em; text-align: center; vertical-align: top\">Living by the Word:<br>Selected Writings ...</td>\n",
       "        <td style=\"padding-left: 1em; padding-right: 1em; text-align: center; vertical-align: top\">Alice Walker</td>\n",
       "        <td style=\"padding-left: 1em; padding-right: 1em; text-align: center; vertical-align: top\">1989</td>\n",
       "        <td style=\"padding-left: 1em; padding-right: 1em; text-align: center; vertical-align: top\">Harvest Books</td>\n",
       "    </tr>\n",
       "    <tr>\n",
       "        <td style=\"padding-left: 1em; padding-right: 1em; text-align: center; vertical-align: top\">Hinds' Feet on High<br>Places ...</td>\n",
       "        <td style=\"padding-left: 1em; padding-right: 1em; text-align: center; vertical-align: top\">Hannah Hurnard</td>\n",
       "        <td style=\"padding-left: 1em; padding-right: 1em; text-align: center; vertical-align: top\">1993</td>\n",
       "        <td style=\"padding-left: 1em; padding-right: 1em; text-align: center; vertical-align: top\">Tyndale House Publishers</td>\n",
       "    </tr>\n",
       "    <tr>\n",
       "        <td style=\"padding-left: 1em; padding-right: 1em; text-align: center; vertical-align: top\">By Possession</td>\n",
       "        <td style=\"padding-left: 1em; padding-right: 1em; text-align: center; vertical-align: top\">Madeline Hunter</td>\n",
       "        <td style=\"padding-left: 1em; padding-right: 1em; text-align: center; vertical-align: top\">2000</td>\n",
       "        <td style=\"padding-left: 1em; padding-right: 1em; text-align: center; vertical-align: top\">Bantam Books</td>\n",
       "    </tr>\n",
       "    <tr>\n",
       "        <td style=\"padding-left: 1em; padding-right: 1em; text-align: center; vertical-align: top\">The Love of a Cowboy</td>\n",
       "        <td style=\"padding-left: 1em; padding-right: 1em; text-align: center; vertical-align: top\">Anna Jeffrey</td>\n",
       "        <td style=\"padding-left: 1em; padding-right: 1em; text-align: center; vertical-align: top\">2003</td>\n",
       "        <td style=\"padding-left: 1em; padding-right: 1em; text-align: center; vertical-align: top\">Onyx Books</td>\n",
       "    </tr>\n",
       "</table>\n",
       "[18776 rows x 4 columns]<br/>Note: Only the head of the SFrame is printed.<br/>You can use print_rows(num_rows=m, num_columns=n) to print more rows and columns.\n",
       "</div>"
      ],
      "text/plain": [
       "Columns:\n",
       "\tbook\tstr\n",
       "\tauthor\tstr\n",
       "\tyear\tint\n",
       "\tpublisher\tstr\n",
       "\n",
       "Rows: 18776\n",
       "\n",
       "Data:\n",
       "+-------------------------------+-----------------+------+\n",
       "|              book             |      author     | year |\n",
       "+-------------------------------+-----------------+------+\n",
       "|        The Law of Love        |  Laura Esquivel | 1997 |\n",
       "|         Undercurrents         | Frances Fyfield | 2001 |\n",
       "|           Swept Away          |    Cay David    | 1992 |\n",
       "|   Interesting Women: Stories  |    Andrea Lee   | 2002 |\n",
       "|         Sweet Revenge         |   Kate Clemens  | 2004 |\n",
       "|       Somewhere, Someday      |  Josephine Cox  | 2001 |\n",
       "| Living by the Word: Select... |   Alice Walker  | 1989 |\n",
       "|   Hinds' Feet on High Places  |  Hannah Hurnard | 1993 |\n",
       "|         By Possession         | Madeline Hunter | 2000 |\n",
       "|      The Love of a Cowboy     |   Anna Jeffrey  | 2003 |\n",
       "+-------------------------------+-----------------+------+\n",
       "+-------------------------------+\n",
       "|           publisher           |\n",
       "+-------------------------------+\n",
       "|    Three Rivers Press (CA)    |\n",
       "|       Viking Penguin Inc      |\n",
       "| Meteor Publishing Corporation |\n",
       "|          Random House         |\n",
       "| Kensington Publishing Corp... |\n",
       "|        Trafalgar Square       |\n",
       "|         Harvest Books         |\n",
       "|    Tyndale House Publishers   |\n",
       "|          Bantam Books         |\n",
       "|           Onyx Books          |\n",
       "+-------------------------------+\n",
       "[18776 rows x 4 columns]\n",
       "Note: Only the head of the SFrame is printed.\n",
       "You can use print_rows(num_rows=m, num_columns=n) to print more rows and columns."
      ]
     },
     "execution_count": 3,
     "metadata": {},
     "output_type": "execute_result"
    }
   ],
   "source": [
    "sf # We can view first few lines of table"
   ]
  },
  {
   "cell_type": "code",
   "execution_count": 4,
   "metadata": {
    "collapsed": false
   },
   "outputs": [
    {
     "data": {
      "text/html": [
       "<div style=\"max-height:1000px;max-width:1500px;overflow:auto;\"><table frame=\"box\" rules=\"cols\">\n",
       "    <tr>\n",
       "        <th style=\"padding-left: 1em; padding-right: 1em; text-align: center\">book</th>\n",
       "        <th style=\"padding-left: 1em; padding-right: 1em; text-align: center\">author</th>\n",
       "        <th style=\"padding-left: 1em; padding-right: 1em; text-align: center\">year</th>\n",
       "        <th style=\"padding-left: 1em; padding-right: 1em; text-align: center\">publisher</th>\n",
       "    </tr>\n",
       "    <tr>\n",
       "        <td style=\"padding-left: 1em; padding-right: 1em; text-align: center; vertical-align: top\">Silken Bondage</td>\n",
       "        <td style=\"padding-left: 1em; padding-right: 1em; text-align: center; vertical-align: top\">Nan Ryan</td>\n",
       "        <td style=\"padding-left: 1em; padding-right: 1em; text-align: center; vertical-align: top\">1991</td>\n",
       "        <td style=\"padding-left: 1em; padding-right: 1em; text-align: center; vertical-align: top\">Dell Publishing Company</td>\n",
       "    </tr>\n",
       "    <tr>\n",
       "        <td style=\"padding-left: 1em; padding-right: 1em; text-align: center; vertical-align: top\">Das Magische Messer / The<br>Magic Knife ...</td>\n",
       "        <td style=\"padding-left: 1em; padding-right: 1em; text-align: center; vertical-align: top\">Philip Pullman</td>\n",
       "        <td style=\"padding-left: 1em; padding-right: 1em; text-align: center; vertical-align: top\">2002</td>\n",
       "        <td style=\"padding-left: 1em; padding-right: 1em; text-align: center; vertical-align: top\">Distribooks</td>\n",
       "    </tr>\n",
       "    <tr>\n",
       "        <td style=\"padding-left: 1em; padding-right: 1em; text-align: center; vertical-align: top\">A Walk Across America</td>\n",
       "        <td style=\"padding-left: 1em; padding-right: 1em; text-align: center; vertical-align: top\">Peter Jenkins</td>\n",
       "        <td style=\"padding-left: 1em; padding-right: 1em; text-align: center; vertical-align: top\">1979</td>\n",
       "        <td style=\"padding-left: 1em; padding-right: 1em; text-align: center; vertical-align: top\">Harpercollins</td>\n",
       "    </tr>\n",
       "    <tr>\n",
       "        <td style=\"padding-left: 1em; padding-right: 1em; text-align: center; vertical-align: top\">Princess Charming</td>\n",
       "        <td style=\"padding-left: 1em; padding-right: 1em; text-align: center; vertical-align: top\">Elizabeth Thornton</td>\n",
       "        <td style=\"padding-left: 1em; padding-right: 1em; text-align: center; vertical-align: top\">2001</td>\n",
       "        <td style=\"padding-left: 1em; padding-right: 1em; text-align: center; vertical-align: top\">Bantam Books</td>\n",
       "    </tr>\n",
       "    <tr>\n",
       "        <td style=\"padding-left: 1em; padding-right: 1em; text-align: center; vertical-align: top\">Roger's Version</td>\n",
       "        <td style=\"padding-left: 1em; padding-right: 1em; text-align: center; vertical-align: top\">John Updike</td>\n",
       "        <td style=\"padding-left: 1em; padding-right: 1em; text-align: center; vertical-align: top\">1996</td>\n",
       "        <td style=\"padding-left: 1em; padding-right: 1em; text-align: center; vertical-align: top\">Ballantine Books</td>\n",
       "    </tr>\n",
       "    <tr>\n",
       "        <td style=\"padding-left: 1em; padding-right: 1em; text-align: center; vertical-align: top\">Sheep in a Jeep</td>\n",
       "        <td style=\"padding-left: 1em; padding-right: 1em; text-align: center; vertical-align: top\">Nancy E. Shaw</td>\n",
       "        <td style=\"padding-left: 1em; padding-right: 1em; text-align: center; vertical-align: top\">1988</td>\n",
       "        <td style=\"padding-left: 1em; padding-right: 1em; text-align: center; vertical-align: top\">Houghton Mifflin</td>\n",
       "    </tr>\n",
       "    <tr>\n",
       "        <td style=\"padding-left: 1em; padding-right: 1em; text-align: center; vertical-align: top\">Babyhood</td>\n",
       "        <td style=\"padding-left: 1em; padding-right: 1em; text-align: center; vertical-align: top\">Paul Reiser</td>\n",
       "        <td style=\"padding-left: 1em; padding-right: 1em; text-align: center; vertical-align: top\">1997</td>\n",
       "        <td style=\"padding-left: 1em; padding-right: 1em; text-align: center; vertical-align: top\">Random House Audio</td>\n",
       "    </tr>\n",
       "    <tr>\n",
       "        <td style=\"padding-left: 1em; padding-right: 1em; text-align: center; vertical-align: top\">The Lighthouse Keeper</td>\n",
       "        <td style=\"padding-left: 1em; padding-right: 1em; text-align: center; vertical-align: top\">James Michael Pratt</td>\n",
       "        <td style=\"padding-left: 1em; padding-right: 1em; text-align: center; vertical-align: top\">2000</td>\n",
       "        <td style=\"padding-left: 1em; padding-right: 1em; text-align: center; vertical-align: top\">St Martins Pr</td>\n",
       "    </tr>\n",
       "    <tr>\n",
       "        <td style=\"padding-left: 1em; padding-right: 1em; text-align: center; vertical-align: top\">Spandau Phoenix</td>\n",
       "        <td style=\"padding-left: 1em; padding-right: 1em; text-align: center; vertical-align: top\">Greg Iles</td>\n",
       "        <td style=\"padding-left: 1em; padding-right: 1em; text-align: center; vertical-align: top\">1993</td>\n",
       "        <td style=\"padding-left: 1em; padding-right: 1em; text-align: center; vertical-align: top\">Penguin USA</td>\n",
       "    </tr>\n",
       "    <tr>\n",
       "        <td style=\"padding-left: 1em; padding-right: 1em; text-align: center; vertical-align: top\">Glory in Death</td>\n",
       "        <td style=\"padding-left: 1em; padding-right: 1em; text-align: center; vertical-align: top\">J. D. Robb</td>\n",
       "        <td style=\"padding-left: 1em; padding-right: 1em; text-align: center; vertical-align: top\">2004</td>\n",
       "        <td style=\"padding-left: 1em; padding-right: 1em; text-align: center; vertical-align: top\">Berkley Publishing Group</td>\n",
       "    </tr>\n",
       "</table>\n",
       "[10 rows x 4 columns]<br/>\n",
       "</div>"
      ],
      "text/plain": [
       "Columns:\n",
       "\tbook\tstr\n",
       "\tauthor\tstr\n",
       "\tyear\tint\n",
       "\tpublisher\tstr\n",
       "\n",
       "Rows: 10\n",
       "\n",
       "Data:\n",
       "+-------------------------------+---------------------+------+\n",
       "|              book             |        author       | year |\n",
       "+-------------------------------+---------------------+------+\n",
       "|         Silken Bondage        |       Nan Ryan      | 1991 |\n",
       "| Das Magische Messer / The ... |    Philip Pullman   | 2002 |\n",
       "|     A Walk Across America     |    Peter Jenkins    | 1979 |\n",
       "|       Princess Charming       |  Elizabeth Thornton | 2001 |\n",
       "|        Roger's Version        |     John Updike     | 1996 |\n",
       "|        Sheep in a Jeep        |    Nancy E. Shaw    | 1988 |\n",
       "|            Babyhood           |     Paul Reiser     | 1997 |\n",
       "|     The Lighthouse Keeper     | James Michael Pratt | 2000 |\n",
       "|        Spandau Phoenix        |      Greg Iles      | 1993 |\n",
       "|         Glory in Death        |      J. D. Robb     | 2004 |\n",
       "+-------------------------------+---------------------+------+\n",
       "+--------------------------+\n",
       "|        publisher         |\n",
       "+--------------------------+\n",
       "| Dell Publishing Company  |\n",
       "|       Distribooks        |\n",
       "|      Harpercollins       |\n",
       "|       Bantam Books       |\n",
       "|     Ballantine Books     |\n",
       "|     Houghton Mifflin     |\n",
       "|    Random House Audio    |\n",
       "|      St Martins Pr       |\n",
       "|       Penguin USA        |\n",
       "| Berkley Publishing Group |\n",
       "+--------------------------+\n",
       "[10 rows x 4 columns]"
      ]
     },
     "execution_count": 4,
     "metadata": {},
     "output_type": "execute_result"
    }
   ],
   "source": [
    "sf.tail()  # view end of the table"
   ]
  },
  {
   "cell_type": "markdown",
   "metadata": {},
   "source": [
    "#GraphLab Canvas"
   ]
  },
  {
   "cell_type": "code",
   "execution_count": 5,
   "metadata": {
    "collapsed": false
   },
   "outputs": [
    {
     "name": "stdout",
     "output_type": "stream",
     "text": [
      "Canvas is accessible via web browser at the URL: http://localhost:52612/index.html\n",
      "Opening Canvas in default web browser.\n"
     ]
    }
   ],
   "source": [
    "# .show() visualizes any data structure in GraphLab Create\n",
    "sf.show()"
   ]
  },
  {
   "cell_type": "code",
   "execution_count": 6,
   "metadata": {
    "collapsed": true
   },
   "outputs": [],
   "source": [
    "# If you want Canvas visualization to show up on this notebook, \n",
    "# rather than popping up a new window, add this line:\n",
    "graphlab.canvas.set_target('ipynb')"
   ]
  },
  {
   "cell_type": "code",
   "execution_count": 7,
   "metadata": {
    "collapsed": false
   },
   "outputs": [
    {
     "data": {
      "application/javascript": [
       "$(\"head\").append($(\"<link/>\").attr({\n",
       "  rel:  \"stylesheet\",\n",
       "  type: \"text/css\",\n",
       "  href: \"//cdnjs.cloudflare.com/ajax/libs/font-awesome/4.1.0/css/font-awesome.min.css\"\n",
       "}));\n",
       "$(\"head\").append($(\"<link/>\").attr({\n",
       "  rel:  \"stylesheet\",\n",
       "  type: \"text/css\",\n",
       "  href: \"//turi.com/files/canvas/1.8.5/css/canvas.css\"\n",
       "}));\n",
       "\n",
       "            (function(){\n",
       "\n",
       "                var e = null;\n",
       "                if (typeof element == 'undefined') {\n",
       "                    var scripts = document.getElementsByTagName('script');\n",
       "                    var thisScriptTag = scripts[scripts.length-1];\n",
       "                    var parentDiv = thisScriptTag.parentNode;\n",
       "                    e = document.createElement('div');\n",
       "                    parentDiv.appendChild(e);\n",
       "                } else {\n",
       "                    e = element[0];\n",
       "                }\n",
       "\n",
       "                if (typeof requirejs !== 'undefined') {\n",
       "                    // disable load timeout; ipython_app.js is large and can take a while to load.\n",
       "                    requirejs.config({waitSeconds: 0});\n",
       "                }\n",
       "\n",
       "                require(['//turi.com/files/canvas/1.8.5/js/ipython_app.js'], function(IPythonApp){\n",
       "                    var app = new IPythonApp();\n",
       "                    app.attachView('sarray','Categorical', {\"ipython\": true, \"sketch\": {\"std\": 310.50365968542667, \"complete\": true, \"min\": 0.0, \"max\": 2030.0, \"quantile\": [0.0, 0.0, 0.0, 1962.0, 1975.0, 1978.0, 1980.0, 1981.0, 1982.0, 1983.0, 1984.0, 1984.0, 1985.0, 1986.0, 1986.0, 1987.0, 1987.0, 1988.0, 1989.0, 1989.0, 1989.0, 1990.0, 1990.0, 1990.0, 1991.0, 1991.0, 1991.0, 1992.0, 1992.0, 1992.0, 1993.0, 1993.0, 1993.0, 1994.0, 1994.0, 1994.0, 1994.0, 1995.0, 1995.0, 1995.0, 1995.0, 1995.0, 1996.0, 1996.0, 1996.0, 1996.0, 1996.0, 1996.0, 1997.0, 1997.0, 1997.0, 1997.0, 1997.0, 1998.0, 1998.0, 1998.0, 1998.0, 1998.0, 1998.0, 1999.0, 1999.0, 1999.0, 1999.0, 1999.0, 1999.0, 1999.0, 2000.0, 2000.0, 2000.0, 2000.0, 2000.0, 2000.0, 2000.0, 2001.0, 2001.0, 2001.0, 2001.0, 2001.0, 2001.0, 2001.0, 2001.0, 2001.0, 2002.0, 2002.0, 2002.0, 2002.0, 2002.0, 2002.0, 2002.0, 2002.0, 2002.0, 2003.0, 2003.0, 2003.0, 2003.0, 2003.0, 2003.0, 2003.0, 2004.0, 2004.0, 2030.0], \"median\": 1997.0, \"numeric\": true, \"num_unique\": 71, \"num_undefined\": 0, \"var\": 96412.52267804327, \"progress\": 1.0, \"size\": 18776, \"frequent_items\": {\"0\": {\"frequency\": 466, \"value\": 0}, \"1920\": {\"frequency\": 3, \"value\": 1920}, \"1923\": {\"frequency\": 2, \"value\": 1923}, \"1926\": {\"frequency\": 1, \"value\": 1926}, \"1929\": {\"frequency\": 1, \"value\": 1929}, \"1937\": {\"frequency\": 1, \"value\": 1937}, \"1938\": {\"frequency\": 1, \"value\": 1938}, \"1942\": {\"frequency\": 2, \"value\": 1942}, \"1945\": {\"frequency\": 1, \"value\": 1945}, \"1948\": {\"frequency\": 2, \"value\": 1948}, \"1950\": {\"frequency\": 2, \"value\": 1950}, \"1951\": {\"frequency\": 2, \"value\": 1951}, \"1952\": {\"frequency\": 4, \"value\": 1952}, \"1953\": {\"frequency\": 6, \"value\": 1953}, \"1954\": {\"frequency\": 5, \"value\": 1954}, \"1955\": {\"frequency\": 6, \"value\": 1955}, \"1956\": {\"frequency\": 6, \"value\": 1956}, \"1957\": {\"frequency\": 4, \"value\": 1957}, \"1958\": {\"frequency\": 5, \"value\": 1958}, \"1959\": {\"frequency\": 6, \"value\": 1959}, \"1960\": {\"frequency\": 10, \"value\": 1960}, \"1961\": {\"frequency\": 10, \"value\": 1961}, \"1962\": {\"frequency\": 9, \"value\": 1962}, \"1963\": {\"frequency\": 4, \"value\": 1963}, \"1964\": {\"frequency\": 9, \"value\": 1964}, \"1965\": {\"frequency\": 2, \"value\": 1965}, \"1966\": {\"frequency\": 11, \"value\": 1966}, \"1967\": {\"frequency\": 8, \"value\": 1967}, \"1968\": {\"frequency\": 3, \"value\": 1968}, \"1969\": {\"frequency\": 10, \"value\": 1969}, \"1970\": {\"frequency\": 16, \"value\": 1970}, \"1971\": {\"frequency\": 18, \"value\": 1971}, \"1972\": {\"frequency\": 31, \"value\": 1972}, \"1973\": {\"frequency\": 25, \"value\": 1973}, \"1974\": {\"frequency\": 20, \"value\": 1974}, \"1975\": {\"frequency\": 31, \"value\": 1975}, \"1976\": {\"frequency\": 46, \"value\": 1976}, \"1977\": {\"frequency\": 84, \"value\": 1977}, \"1978\": {\"frequency\": 83, \"value\": 1978}, \"1979\": {\"frequency\": 102, \"value\": 1979}, \"1980\": {\"frequency\": 116, \"value\": 1980}, \"1981\": {\"frequency\": 195, \"value\": 1981}, \"1982\": {\"frequency\": 232, \"value\": 1982}, \"1983\": {\"frequency\": 252, \"value\": 1983}, \"1984\": {\"frequency\": 248, \"value\": 1984}, \"1985\": {\"frequency\": 265, \"value\": 1985}, \"1986\": {\"frequency\": 299, \"value\": 1986}, \"1987\": {\"frequency\": 356, \"value\": 1987}, \"1988\": {\"frequency\": 337, \"value\": 1988}, \"1989\": {\"frequency\": 422, \"value\": 1989}, \"1990\": {\"frequency\": 549, \"value\": 1990}, \"1991\": {\"frequency\": 563, \"value\": 1991}, \"1992\": {\"frequency\": 603, \"value\": 1992}, \"1993\": {\"frequency\": 640, \"value\": 1993}, \"1994\": {\"frequency\": 807, \"value\": 1994}, \"1995\": {\"frequency\": 936, \"value\": 1995}, \"1996\": {\"frequency\": 1021, \"value\": 1996}, \"1997\": {\"frequency\": 1038, \"value\": 1997}, \"1998\": {\"frequency\": 1032, \"value\": 1998}, \"1999\": {\"frequency\": 1352, \"value\": 1999}, \"2000\": {\"frequency\": 1368, \"value\": 2000}, \"2001\": {\"frequency\": 1628, \"value\": 2001}, \"2002\": {\"frequency\": 1682, \"value\": 2002}, \"2003\": {\"frequency\": 1342, \"value\": 2003}, \"2004\": {\"frequency\": 427, \"value\": 2004}, \"2005\": {\"frequency\": 3, \"value\": 2005}, \"2010\": {\"frequency\": 1, \"value\": 2010}, \"2011\": {\"frequency\": 1, \"value\": 2011}, \"1900\": {\"frequency\": 1, \"value\": 1900}, \"2030\": {\"frequency\": 1, \"value\": 2030}, \"1908\": {\"frequency\": 1, \"value\": 1908}}, \"mean\": 1945.7877077119708}, \"selected_variable\": {\"name\": [\"<SArray>\"], \"dtype\": \"int\", \"view_component\": \"Categorical\", \"view_file\": \"sarray\", \"descriptives\": {\"rows\": 18776}, \"type\": \"SArray\", \"view_components\": [\"Numeric\", \"Categorical\"]}, \"histogram\": {\"progress\": 1.0, \"histogram\": {\"max\": 2048.152, \"bins\": [466, 0, 0, 0, 0, 0, 0, 0, 0, 0, 0, 18310], \"min\": -16.232}, \"min\": 0, \"complete\": 1, \"max\": 2030}}, e);\n",
       "                });\n",
       "            })();\n",
       "        "
      ]
     },
     "metadata": {},
     "output_type": "display_data"
    }
   ],
   "source": [
    "sf['year'].show(view='Categorical')"
   ]
  },
  {
   "cell_type": "markdown",
   "metadata": {},
   "source": [
    "#Inspect columns of dataset"
   ]
  },
  {
   "cell_type": "code",
   "execution_count": 8,
   "metadata": {
    "collapsed": false
   },
   "outputs": [
    {
     "data": {
      "text/plain": [
       "dtype: str\n",
       "Rows: 18776\n",
       "['Laura Esquivel', 'Frances Fyfield', 'Cay David', 'Andrea Lee', 'Kate Clemens', 'Josephine Cox', 'Alice Walker', 'Hannah Hurnard', 'Madeline Hunter', 'Anna Jeffrey', 'Jack Prelutsky', 'China Mieville', 'Randy Shilts', 'P. C. Doherty', 'Darlene Marie Wilkinson', 'Robert N. Munsch', 'Sean Stewart', 'Anne McCaffrey', 'Iris Johansen', 'Carl Sagan', 'Christopher Pike', 'Lorene Cary', 'Timothy Findley', 'Louise Erdrich', 'Michele Albert', 'Sherryl Woods', 'Oliver W. Sacks', \"Des O'Connor\", 'Suzanne Schlosberg', 'Frank Herbert', 'Lorraine Heath', 'Stephanie Coontz', 'Robin Cook', 'Rosa Montero', 'Robert Barnard', 'Echo Heron', 'Peter Gethers', 'Charles Dickens', 'C. E. Crimmins', 'Richard Preston', 'Catherine Coulter', \"Lesley O'Mara\", 'Ellen Gilchrist', 'Danielle Steel', 'Jack Heffron', 'Lilian Jackson Braun', 'Anthony Horowitz', 'Sue Townsend', 'James Ellroy', 'Stephen King', 'Lori Foster', 'Robert K. Tanenbaum', 'Margaret Truman', 'Chitra Banerjee Divakaruni', 'Stephen King', 'Leo Buscaglia', 'Stephen Jay Gould', 'Roderick MacLeish', 'Danielle Steel', 'John M. Ford', 'Ray Bradbury', 'Jonathan Kellerman', 'Eric Carle', 'Andrew M. Greeley', 'Philip Yancey', 'Daniel Pennac', 'David Baldacci', 'Patricia Highsmith', 'Philip Shelby', 'Mickey Pearlman', 'Linda Fairstein', 'Stephanie Laurens', 'Shannon Holmes', 'Katharine Kerr', 'Carolyn See', 'Beverly Lewis', 'Octavia E. Butler', 'Jean Stone', 'Erma Bombeck', 'David Klass', 'Erma Bombeck', 'Dave Barry', 'Lee Child', 'C. J. Cherryh', 'Andy Riley', 'Isaac Asimov', 'Barbara Bretton', 'Spider Robinson', 'Laura Joh Rowland', 'Cassie Edwards', 'Louis Bayard', 'Oscar Hijuelos', 'John Grisham', 'Jennifer Crusie', 'Tom Magliozzi', 'John De Graaf', 'Jan Burke', 'Dean R. Koontz', 'Barbara Kingsolver', 'Paul Reiser', ... ]"
      ]
     },
     "execution_count": 8,
     "metadata": {},
     "output_type": "execute_result"
    }
   ],
   "source": [
    "sf['author']"
   ]
  },
  {
   "cell_type": "code",
   "execution_count": 9,
   "metadata": {
    "collapsed": false
   },
   "outputs": [
    {
     "data": {
      "text/plain": [
       "dtype: int\n",
       "Rows: 18776\n",
       "[1997, 2001, 1992, 2002, 2004, 2001, 1989, 1993, 2000, 2003, 1990, 2000, 1987, 2000, 2002, 1986, 1996, 1992, 1999, 1997, 1998, 1996, 1995, 1998, 2002, 2004, 2000, 2002, 1996, 1981, 1999, 1992, 1997, 1998, 1984, 1998, 1996, 1991, 2000, 1999, 1993, 1990, 0, 1984, 2002, 1992, 2002, 1993, 1991, 2001, 2001, 1996, 1997, 2000, 1986, 1983, 1982, 2002, 1991, 1993, 1992, 1987, 1993, 1986, 2001, 1995, 2002, 2001, 1999, 1994, 2002, 2000, 2001, 1993, 1999, 2001, 1999, 2003, 1993, 2002, 1992, 1993, 2003, 2000, 2003, 1991, 1996, 2002, 2001, 1996, 2003, 1992, 2000, 2001, 2001, 2002, 2002, 2000, 1990, 1994, ... ]"
      ]
     },
     "execution_count": 9,
     "metadata": {},
     "output_type": "execute_result"
    }
   ],
   "source": [
    "sf['year']"
   ]
  },
  {
   "cell_type": "markdown",
   "metadata": {},
   "source": [
    "Some simple columnar operations"
   ]
  },
  {
   "cell_type": "code",
   "execution_count": 10,
   "metadata": {
    "collapsed": false
   },
   "outputs": [
    {
     "data": {
      "text/plain": [
       "1945.7877077119708"
      ]
     },
     "execution_count": 10,
     "metadata": {},
     "output_type": "execute_result"
    }
   ],
   "source": [
    "sf['year'].mean()"
   ]
  },
  {
   "cell_type": "code",
   "execution_count": 11,
   "metadata": {
    "collapsed": false
   },
   "outputs": [
    {
     "data": {
      "text/plain": [
       "2030"
      ]
     },
     "execution_count": 11,
     "metadata": {},
     "output_type": "execute_result"
    }
   ],
   "source": [
    "sf['year'].max()"
   ]
  },
  {
   "cell_type": "markdown",
   "metadata": {},
   "source": [
    "# Create new columns in our SFrame"
   ]
  },
  {
   "cell_type": "code",
   "execution_count": 12,
   "metadata": {
    "collapsed": false
   },
   "outputs": [
    {
     "data": {
      "text/html": [
       "<div style=\"max-height:1000px;max-width:1500px;overflow:auto;\"><table frame=\"box\" rules=\"cols\">\n",
       "    <tr>\n",
       "        <th style=\"padding-left: 1em; padding-right: 1em; text-align: center\">book</th>\n",
       "        <th style=\"padding-left: 1em; padding-right: 1em; text-align: center\">author</th>\n",
       "        <th style=\"padding-left: 1em; padding-right: 1em; text-align: center\">year</th>\n",
       "        <th style=\"padding-left: 1em; padding-right: 1em; text-align: center\">publisher</th>\n",
       "    </tr>\n",
       "    <tr>\n",
       "        <td style=\"padding-left: 1em; padding-right: 1em; text-align: center; vertical-align: top\">The Law of Love</td>\n",
       "        <td style=\"padding-left: 1em; padding-right: 1em; text-align: center; vertical-align: top\">Laura Esquivel</td>\n",
       "        <td style=\"padding-left: 1em; padding-right: 1em; text-align: center; vertical-align: top\">1997</td>\n",
       "        <td style=\"padding-left: 1em; padding-right: 1em; text-align: center; vertical-align: top\">Three Rivers Press (CA)</td>\n",
       "    </tr>\n",
       "    <tr>\n",
       "        <td style=\"padding-left: 1em; padding-right: 1em; text-align: center; vertical-align: top\">Undercurrents</td>\n",
       "        <td style=\"padding-left: 1em; padding-right: 1em; text-align: center; vertical-align: top\">Frances Fyfield</td>\n",
       "        <td style=\"padding-left: 1em; padding-right: 1em; text-align: center; vertical-align: top\">2001</td>\n",
       "        <td style=\"padding-left: 1em; padding-right: 1em; text-align: center; vertical-align: top\">Viking Penguin Inc</td>\n",
       "    </tr>\n",
       "    <tr>\n",
       "        <td style=\"padding-left: 1em; padding-right: 1em; text-align: center; vertical-align: top\">Swept Away</td>\n",
       "        <td style=\"padding-left: 1em; padding-right: 1em; text-align: center; vertical-align: top\">Cay David</td>\n",
       "        <td style=\"padding-left: 1em; padding-right: 1em; text-align: center; vertical-align: top\">1992</td>\n",
       "        <td style=\"padding-left: 1em; padding-right: 1em; text-align: center; vertical-align: top\">Meteor Publishing<br>Corporation ...</td>\n",
       "    </tr>\n",
       "    <tr>\n",
       "        <td style=\"padding-left: 1em; padding-right: 1em; text-align: center; vertical-align: top\">Interesting Women:<br>Stories ...</td>\n",
       "        <td style=\"padding-left: 1em; padding-right: 1em; text-align: center; vertical-align: top\">Andrea Lee</td>\n",
       "        <td style=\"padding-left: 1em; padding-right: 1em; text-align: center; vertical-align: top\">2002</td>\n",
       "        <td style=\"padding-left: 1em; padding-right: 1em; text-align: center; vertical-align: top\">Random House</td>\n",
       "    </tr>\n",
       "    <tr>\n",
       "        <td style=\"padding-left: 1em; padding-right: 1em; text-align: center; vertical-align: top\">Sweet Revenge</td>\n",
       "        <td style=\"padding-left: 1em; padding-right: 1em; text-align: center; vertical-align: top\">Kate Clemens</td>\n",
       "        <td style=\"padding-left: 1em; padding-right: 1em; text-align: center; vertical-align: top\">2004</td>\n",
       "        <td style=\"padding-left: 1em; padding-right: 1em; text-align: center; vertical-align: top\">Kensington Publishing<br>Corporation ...</td>\n",
       "    </tr>\n",
       "    <tr>\n",
       "        <td style=\"padding-left: 1em; padding-right: 1em; text-align: center; vertical-align: top\">Somewhere, Someday</td>\n",
       "        <td style=\"padding-left: 1em; padding-right: 1em; text-align: center; vertical-align: top\">Josephine Cox</td>\n",
       "        <td style=\"padding-left: 1em; padding-right: 1em; text-align: center; vertical-align: top\">2001</td>\n",
       "        <td style=\"padding-left: 1em; padding-right: 1em; text-align: center; vertical-align: top\">Trafalgar Square</td>\n",
       "    </tr>\n",
       "    <tr>\n",
       "        <td style=\"padding-left: 1em; padding-right: 1em; text-align: center; vertical-align: top\">Living by the Word:<br>Selected Writings ...</td>\n",
       "        <td style=\"padding-left: 1em; padding-right: 1em; text-align: center; vertical-align: top\">Alice Walker</td>\n",
       "        <td style=\"padding-left: 1em; padding-right: 1em; text-align: center; vertical-align: top\">1989</td>\n",
       "        <td style=\"padding-left: 1em; padding-right: 1em; text-align: center; vertical-align: top\">Harvest Books</td>\n",
       "    </tr>\n",
       "    <tr>\n",
       "        <td style=\"padding-left: 1em; padding-right: 1em; text-align: center; vertical-align: top\">Hinds' Feet on High<br>Places ...</td>\n",
       "        <td style=\"padding-left: 1em; padding-right: 1em; text-align: center; vertical-align: top\">Hannah Hurnard</td>\n",
       "        <td style=\"padding-left: 1em; padding-right: 1em; text-align: center; vertical-align: top\">1993</td>\n",
       "        <td style=\"padding-left: 1em; padding-right: 1em; text-align: center; vertical-align: top\">Tyndale House Publishers</td>\n",
       "    </tr>\n",
       "    <tr>\n",
       "        <td style=\"padding-left: 1em; padding-right: 1em; text-align: center; vertical-align: top\">By Possession</td>\n",
       "        <td style=\"padding-left: 1em; padding-right: 1em; text-align: center; vertical-align: top\">Madeline Hunter</td>\n",
       "        <td style=\"padding-left: 1em; padding-right: 1em; text-align: center; vertical-align: top\">2000</td>\n",
       "        <td style=\"padding-left: 1em; padding-right: 1em; text-align: center; vertical-align: top\">Bantam Books</td>\n",
       "    </tr>\n",
       "    <tr>\n",
       "        <td style=\"padding-left: 1em; padding-right: 1em; text-align: center; vertical-align: top\">The Love of a Cowboy</td>\n",
       "        <td style=\"padding-left: 1em; padding-right: 1em; text-align: center; vertical-align: top\">Anna Jeffrey</td>\n",
       "        <td style=\"padding-left: 1em; padding-right: 1em; text-align: center; vertical-align: top\">2003</td>\n",
       "        <td style=\"padding-left: 1em; padding-right: 1em; text-align: center; vertical-align: top\">Onyx Books</td>\n",
       "    </tr>\n",
       "</table>\n",
       "[18776 rows x 4 columns]<br/>Note: Only the head of the SFrame is printed.<br/>You can use print_rows(num_rows=m, num_columns=n) to print more rows and columns.\n",
       "</div>"
      ],
      "text/plain": [
       "Columns:\n",
       "\tbook\tstr\n",
       "\tauthor\tstr\n",
       "\tyear\tint\n",
       "\tpublisher\tstr\n",
       "\n",
       "Rows: 18776\n",
       "\n",
       "Data:\n",
       "+-------------------------------+-----------------+------+\n",
       "|              book             |      author     | year |\n",
       "+-------------------------------+-----------------+------+\n",
       "|        The Law of Love        |  Laura Esquivel | 1997 |\n",
       "|         Undercurrents         | Frances Fyfield | 2001 |\n",
       "|           Swept Away          |    Cay David    | 1992 |\n",
       "|   Interesting Women: Stories  |    Andrea Lee   | 2002 |\n",
       "|         Sweet Revenge         |   Kate Clemens  | 2004 |\n",
       "|       Somewhere, Someday      |  Josephine Cox  | 2001 |\n",
       "| Living by the Word: Select... |   Alice Walker  | 1989 |\n",
       "|   Hinds' Feet on High Places  |  Hannah Hurnard | 1993 |\n",
       "|         By Possession         | Madeline Hunter | 2000 |\n",
       "|      The Love of a Cowboy     |   Anna Jeffrey  | 2003 |\n",
       "+-------------------------------+-----------------+------+\n",
       "+-------------------------------+\n",
       "|           publisher           |\n",
       "+-------------------------------+\n",
       "|    Three Rivers Press (CA)    |\n",
       "|       Viking Penguin Inc      |\n",
       "| Meteor Publishing Corporation |\n",
       "|          Random House         |\n",
       "| Kensington Publishing Corp... |\n",
       "|        Trafalgar Square       |\n",
       "|         Harvest Books         |\n",
       "|    Tyndale House Publishers   |\n",
       "|          Bantam Books         |\n",
       "|           Onyx Books          |\n",
       "+-------------------------------+\n",
       "[18776 rows x 4 columns]\n",
       "Note: Only the head of the SFrame is printed.\n",
       "You can use print_rows(num_rows=m, num_columns=n) to print more rows and columns."
      ]
     },
     "execution_count": 12,
     "metadata": {},
     "output_type": "execute_result"
    }
   ],
   "source": [
    "sf"
   ]
  },
  {
   "cell_type": "code",
   "execution_count": 13,
   "metadata": {
    "collapsed": false
   },
   "outputs": [],
   "source": [
    "sf['full_name'] = sf['book'] + ' ' + sf['author'] + ' ' + sf['publisher']"
   ]
  },
  {
   "cell_type": "code",
   "execution_count": 14,
   "metadata": {
    "collapsed": false
   },
   "outputs": [
    {
     "data": {
      "text/html": [
       "<div style=\"max-height:1000px;max-width:1500px;overflow:auto;\"><table frame=\"box\" rules=\"cols\">\n",
       "    <tr>\n",
       "        <th style=\"padding-left: 1em; padding-right: 1em; text-align: center\">book</th>\n",
       "        <th style=\"padding-left: 1em; padding-right: 1em; text-align: center\">author</th>\n",
       "        <th style=\"padding-left: 1em; padding-right: 1em; text-align: center\">year</th>\n",
       "        <th style=\"padding-left: 1em; padding-right: 1em; text-align: center\">publisher</th>\n",
       "        <th style=\"padding-left: 1em; padding-right: 1em; text-align: center\">full_name</th>\n",
       "    </tr>\n",
       "    <tr>\n",
       "        <td style=\"padding-left: 1em; padding-right: 1em; text-align: center; vertical-align: top\">The Law of Love</td>\n",
       "        <td style=\"padding-left: 1em; padding-right: 1em; text-align: center; vertical-align: top\">Laura Esquivel</td>\n",
       "        <td style=\"padding-left: 1em; padding-right: 1em; text-align: center; vertical-align: top\">1997</td>\n",
       "        <td style=\"padding-left: 1em; padding-right: 1em; text-align: center; vertical-align: top\">Three Rivers Press (CA)</td>\n",
       "        <td style=\"padding-left: 1em; padding-right: 1em; text-align: center; vertical-align: top\">The Law of Love Laura<br>Esquivel Three Rivers ...</td>\n",
       "    </tr>\n",
       "    <tr>\n",
       "        <td style=\"padding-left: 1em; padding-right: 1em; text-align: center; vertical-align: top\">Undercurrents</td>\n",
       "        <td style=\"padding-left: 1em; padding-right: 1em; text-align: center; vertical-align: top\">Frances Fyfield</td>\n",
       "        <td style=\"padding-left: 1em; padding-right: 1em; text-align: center; vertical-align: top\">2001</td>\n",
       "        <td style=\"padding-left: 1em; padding-right: 1em; text-align: center; vertical-align: top\">Viking Penguin Inc</td>\n",
       "        <td style=\"padding-left: 1em; padding-right: 1em; text-align: center; vertical-align: top\">Undercurrents Frances<br>Fyfield Viking Penguin ...</td>\n",
       "    </tr>\n",
       "    <tr>\n",
       "        <td style=\"padding-left: 1em; padding-right: 1em; text-align: center; vertical-align: top\">Swept Away</td>\n",
       "        <td style=\"padding-left: 1em; padding-right: 1em; text-align: center; vertical-align: top\">Cay David</td>\n",
       "        <td style=\"padding-left: 1em; padding-right: 1em; text-align: center; vertical-align: top\">1992</td>\n",
       "        <td style=\"padding-left: 1em; padding-right: 1em; text-align: center; vertical-align: top\">Meteor Publishing<br>Corporation ...</td>\n",
       "        <td style=\"padding-left: 1em; padding-right: 1em; text-align: center; vertical-align: top\">Swept Away Cay David<br>Meteor Publishing ...</td>\n",
       "    </tr>\n",
       "    <tr>\n",
       "        <td style=\"padding-left: 1em; padding-right: 1em; text-align: center; vertical-align: top\">Interesting Women:<br>Stories ...</td>\n",
       "        <td style=\"padding-left: 1em; padding-right: 1em; text-align: center; vertical-align: top\">Andrea Lee</td>\n",
       "        <td style=\"padding-left: 1em; padding-right: 1em; text-align: center; vertical-align: top\">2002</td>\n",
       "        <td style=\"padding-left: 1em; padding-right: 1em; text-align: center; vertical-align: top\">Random House</td>\n",
       "        <td style=\"padding-left: 1em; padding-right: 1em; text-align: center; vertical-align: top\">Interesting Women:<br>Stories Andrea Lee Ra ...</td>\n",
       "    </tr>\n",
       "    <tr>\n",
       "        <td style=\"padding-left: 1em; padding-right: 1em; text-align: center; vertical-align: top\">Sweet Revenge</td>\n",
       "        <td style=\"padding-left: 1em; padding-right: 1em; text-align: center; vertical-align: top\">Kate Clemens</td>\n",
       "        <td style=\"padding-left: 1em; padding-right: 1em; text-align: center; vertical-align: top\">2004</td>\n",
       "        <td style=\"padding-left: 1em; padding-right: 1em; text-align: center; vertical-align: top\">Kensington Publishing<br>Corporation ...</td>\n",
       "        <td style=\"padding-left: 1em; padding-right: 1em; text-align: center; vertical-align: top\">Sweet Revenge Kate<br>Clemens Kensington ...</td>\n",
       "    </tr>\n",
       "    <tr>\n",
       "        <td style=\"padding-left: 1em; padding-right: 1em; text-align: center; vertical-align: top\">Somewhere, Someday</td>\n",
       "        <td style=\"padding-left: 1em; padding-right: 1em; text-align: center; vertical-align: top\">Josephine Cox</td>\n",
       "        <td style=\"padding-left: 1em; padding-right: 1em; text-align: center; vertical-align: top\">2001</td>\n",
       "        <td style=\"padding-left: 1em; padding-right: 1em; text-align: center; vertical-align: top\">Trafalgar Square</td>\n",
       "        <td style=\"padding-left: 1em; padding-right: 1em; text-align: center; vertical-align: top\">Somewhere, Someday<br>Josephine Cox Trafalgar ...</td>\n",
       "    </tr>\n",
       "    <tr>\n",
       "        <td style=\"padding-left: 1em; padding-right: 1em; text-align: center; vertical-align: top\">Living by the Word:<br>Selected Writings ...</td>\n",
       "        <td style=\"padding-left: 1em; padding-right: 1em; text-align: center; vertical-align: top\">Alice Walker</td>\n",
       "        <td style=\"padding-left: 1em; padding-right: 1em; text-align: center; vertical-align: top\">1989</td>\n",
       "        <td style=\"padding-left: 1em; padding-right: 1em; text-align: center; vertical-align: top\">Harvest Books</td>\n",
       "        <td style=\"padding-left: 1em; padding-right: 1em; text-align: center; vertical-align: top\">Living by the Word:<br>Selected Writings ...</td>\n",
       "    </tr>\n",
       "    <tr>\n",
       "        <td style=\"padding-left: 1em; padding-right: 1em; text-align: center; vertical-align: top\">Hinds' Feet on High<br>Places ...</td>\n",
       "        <td style=\"padding-left: 1em; padding-right: 1em; text-align: center; vertical-align: top\">Hannah Hurnard</td>\n",
       "        <td style=\"padding-left: 1em; padding-right: 1em; text-align: center; vertical-align: top\">1993</td>\n",
       "        <td style=\"padding-left: 1em; padding-right: 1em; text-align: center; vertical-align: top\">Tyndale House Publishers</td>\n",
       "        <td style=\"padding-left: 1em; padding-right: 1em; text-align: center; vertical-align: top\">Hinds' Feet on High<br>Places Hannah Hurnard ...</td>\n",
       "    </tr>\n",
       "    <tr>\n",
       "        <td style=\"padding-left: 1em; padding-right: 1em; text-align: center; vertical-align: top\">By Possession</td>\n",
       "        <td style=\"padding-left: 1em; padding-right: 1em; text-align: center; vertical-align: top\">Madeline Hunter</td>\n",
       "        <td style=\"padding-left: 1em; padding-right: 1em; text-align: center; vertical-align: top\">2000</td>\n",
       "        <td style=\"padding-left: 1em; padding-right: 1em; text-align: center; vertical-align: top\">Bantam Books</td>\n",
       "        <td style=\"padding-left: 1em; padding-right: 1em; text-align: center; vertical-align: top\">By Possession Madeline<br>Hunter Bantam Books ...</td>\n",
       "    </tr>\n",
       "    <tr>\n",
       "        <td style=\"padding-left: 1em; padding-right: 1em; text-align: center; vertical-align: top\">The Love of a Cowboy</td>\n",
       "        <td style=\"padding-left: 1em; padding-right: 1em; text-align: center; vertical-align: top\">Anna Jeffrey</td>\n",
       "        <td style=\"padding-left: 1em; padding-right: 1em; text-align: center; vertical-align: top\">2003</td>\n",
       "        <td style=\"padding-left: 1em; padding-right: 1em; text-align: center; vertical-align: top\">Onyx Books</td>\n",
       "        <td style=\"padding-left: 1em; padding-right: 1em; text-align: center; vertical-align: top\">The Love of a Cowboy Anna<br>Jeffrey Onyx Books ...</td>\n",
       "    </tr>\n",
       "</table>\n",
       "[18776 rows x 5 columns]<br/>Note: Only the head of the SFrame is printed.<br/>You can use print_rows(num_rows=m, num_columns=n) to print more rows and columns.\n",
       "</div>"
      ],
      "text/plain": [
       "Columns:\n",
       "\tbook\tstr\n",
       "\tauthor\tstr\n",
       "\tyear\tint\n",
       "\tpublisher\tstr\n",
       "\tfull_name\tstr\n",
       "\n",
       "Rows: 18776\n",
       "\n",
       "Data:\n",
       "+-------------------------------+-----------------+------+\n",
       "|              book             |      author     | year |\n",
       "+-------------------------------+-----------------+------+\n",
       "|        The Law of Love        |  Laura Esquivel | 1997 |\n",
       "|         Undercurrents         | Frances Fyfield | 2001 |\n",
       "|           Swept Away          |    Cay David    | 1992 |\n",
       "|   Interesting Women: Stories  |    Andrea Lee   | 2002 |\n",
       "|         Sweet Revenge         |   Kate Clemens  | 2004 |\n",
       "|       Somewhere, Someday      |  Josephine Cox  | 2001 |\n",
       "| Living by the Word: Select... |   Alice Walker  | 1989 |\n",
       "|   Hinds' Feet on High Places  |  Hannah Hurnard | 1993 |\n",
       "|         By Possession         | Madeline Hunter | 2000 |\n",
       "|      The Love of a Cowboy     |   Anna Jeffrey  | 2003 |\n",
       "+-------------------------------+-----------------+------+\n",
       "+-------------------------------+-------------------------------+\n",
       "|           publisher           |           full_name           |\n",
       "+-------------------------------+-------------------------------+\n",
       "|    Three Rivers Press (CA)    | The Law of Love Laura Esqu... |\n",
       "|       Viking Penguin Inc      | Undercurrents Frances Fyfi... |\n",
       "| Meteor Publishing Corporation | Swept Away Cay David Meteo... |\n",
       "|          Random House         | Interesting Women: Stories... |\n",
       "| Kensington Publishing Corp... | Sweet Revenge Kate Clemens... |\n",
       "|        Trafalgar Square       | Somewhere, Someday Josephi... |\n",
       "|         Harvest Books         | Living by the Word: Select... |\n",
       "|    Tyndale House Publishers   | Hinds' Feet on High Places... |\n",
       "|          Bantam Books         | By Possession Madeline Hun... |\n",
       "|           Onyx Books          | The Love of a Cowboy Anna ... |\n",
       "+-------------------------------+-------------------------------+\n",
       "[18776 rows x 5 columns]\n",
       "Note: Only the head of the SFrame is printed.\n",
       "You can use print_rows(num_rows=m, num_columns=n) to print more rows and columns."
      ]
     },
     "execution_count": 14,
     "metadata": {},
     "output_type": "execute_result"
    }
   ],
   "source": [
    "sf"
   ]
  },
  {
   "cell_type": "code",
   "execution_count": 16,
   "metadata": {
    "collapsed": false
   },
   "outputs": [
    {
     "data": {
      "text/plain": [
       "dtype: int\n",
       "Rows: 18776\n",
       "[1999, 2003, 1994, 2004, 2006, 2003, 1991, 1995, 2002, 2005, 1992, 2002, 1989, 2002, 2004, 1988, 1998, 1994, 2001, 1999, 2000, 1998, 1997, 2000, 2004, 2006, 2002, 2004, 1998, 1983, 2001, 1994, 1999, 2000, 1986, 2000, 1998, 1993, 2002, 2001, 1995, 1992, 2, 1986, 2004, 1994, 2004, 1995, 1993, 2003, 2003, 1998, 1999, 2002, 1988, 1985, 1984, 2004, 1993, 1995, 1994, 1989, 1995, 1988, 2003, 1997, 2004, 2003, 2001, 1996, 2004, 2002, 2003, 1995, 2001, 2003, 2001, 2005, 1995, 2004, 1994, 1995, 2005, 2002, 2005, 1993, 1998, 2004, 2003, 1998, 2005, 1994, 2002, 2003, 2003, 2004, 2004, 2002, 1992, 1996, ... ]"
      ]
     },
     "execution_count": 16,
     "metadata": {},
     "output_type": "execute_result"
    }
   ],
   "source": [
    "sf['year'] + 2"
   ]
  },
  {
   "cell_type": "markdown",
   "metadata": {},
   "source": [
    "#Use the apply function to do a advance transformation of our data"
   ]
  },
  {
   "cell_type": "code",
   "execution_count": 17,
   "metadata": {
    "collapsed": false
   },
   "outputs": [
    {
     "data": {
      "application/javascript": [
       "$(\"head\").append($(\"<link/>\").attr({\n",
       "  rel:  \"stylesheet\",\n",
       "  type: \"text/css\",\n",
       "  href: \"//cdnjs.cloudflare.com/ajax/libs/font-awesome/4.1.0/css/font-awesome.min.css\"\n",
       "}));\n",
       "$(\"head\").append($(\"<link/>\").attr({\n",
       "  rel:  \"stylesheet\",\n",
       "  type: \"text/css\",\n",
       "  href: \"//turi.com/files/canvas/1.8.5/css/canvas.css\"\n",
       "}));\n",
       "\n",
       "            (function(){\n",
       "\n",
       "                var e = null;\n",
       "                if (typeof element == 'undefined') {\n",
       "                    var scripts = document.getElementsByTagName('script');\n",
       "                    var thisScriptTag = scripts[scripts.length-1];\n",
       "                    var parentDiv = thisScriptTag.parentNode;\n",
       "                    e = document.createElement('div');\n",
       "                    parentDiv.appendChild(e);\n",
       "                } else {\n",
       "                    e = element[0];\n",
       "                }\n",
       "\n",
       "                if (typeof requirejs !== 'undefined') {\n",
       "                    // disable load timeout; ipython_app.js is large and can take a while to load.\n",
       "                    requirejs.config({waitSeconds: 0});\n",
       "                }\n",
       "\n",
       "                require(['//turi.com/files/canvas/1.8.5/js/ipython_app.js'], function(IPythonApp){\n",
       "                    var app = new IPythonApp();\n",
       "                    app.attachView('sarray','Numeric', {\"ipython\": true, \"sketch\": {\"std\": 310.50365968542667, \"complete\": true, \"min\": 0.0, \"max\": 2030.0, \"quantile\": [0.0, 0.0, 0.0, 1962.0, 1975.0, 1978.0, 1980.0, 1981.0, 1982.0, 1983.0, 1984.0, 1984.0, 1985.0, 1986.0, 1986.0, 1987.0, 1987.0, 1988.0, 1989.0, 1989.0, 1989.0, 1990.0, 1990.0, 1990.0, 1991.0, 1991.0, 1991.0, 1992.0, 1992.0, 1992.0, 1993.0, 1993.0, 1993.0, 1994.0, 1994.0, 1994.0, 1994.0, 1995.0, 1995.0, 1995.0, 1995.0, 1995.0, 1996.0, 1996.0, 1996.0, 1996.0, 1996.0, 1996.0, 1997.0, 1997.0, 1997.0, 1997.0, 1997.0, 1998.0, 1998.0, 1998.0, 1998.0, 1998.0, 1998.0, 1999.0, 1999.0, 1999.0, 1999.0, 1999.0, 1999.0, 1999.0, 2000.0, 2000.0, 2000.0, 2000.0, 2000.0, 2000.0, 2000.0, 2001.0, 2001.0, 2001.0, 2001.0, 2001.0, 2001.0, 2001.0, 2001.0, 2001.0, 2002.0, 2002.0, 2002.0, 2002.0, 2002.0, 2002.0, 2002.0, 2002.0, 2002.0, 2003.0, 2003.0, 2003.0, 2003.0, 2003.0, 2003.0, 2003.0, 2004.0, 2004.0, 2030.0], \"median\": 1997.0, \"numeric\": true, \"num_unique\": 71, \"num_undefined\": 0, \"var\": 96412.52267804327, \"progress\": 1.0, \"size\": 18776, \"frequent_items\": {\"0\": {\"frequency\": 466, \"value\": 0}, \"1920\": {\"frequency\": 3, \"value\": 1920}, \"1923\": {\"frequency\": 2, \"value\": 1923}, \"1926\": {\"frequency\": 1, \"value\": 1926}, \"1929\": {\"frequency\": 1, \"value\": 1929}, \"1937\": {\"frequency\": 1, \"value\": 1937}, \"1938\": {\"frequency\": 1, \"value\": 1938}, \"1942\": {\"frequency\": 2, \"value\": 1942}, \"1945\": {\"frequency\": 1, \"value\": 1945}, \"1948\": {\"frequency\": 2, \"value\": 1948}, \"1950\": {\"frequency\": 2, \"value\": 1950}, \"1951\": {\"frequency\": 2, \"value\": 1951}, \"1952\": {\"frequency\": 4, \"value\": 1952}, \"1953\": {\"frequency\": 6, \"value\": 1953}, \"1954\": {\"frequency\": 5, \"value\": 1954}, \"1955\": {\"frequency\": 6, \"value\": 1955}, \"1956\": {\"frequency\": 6, \"value\": 1956}, \"1957\": {\"frequency\": 4, \"value\": 1957}, \"1958\": {\"frequency\": 5, \"value\": 1958}, \"1959\": {\"frequency\": 6, \"value\": 1959}, \"1960\": {\"frequency\": 10, \"value\": 1960}, \"1961\": {\"frequency\": 10, \"value\": 1961}, \"1962\": {\"frequency\": 9, \"value\": 1962}, \"1963\": {\"frequency\": 4, \"value\": 1963}, \"1964\": {\"frequency\": 9, \"value\": 1964}, \"1965\": {\"frequency\": 2, \"value\": 1965}, \"1966\": {\"frequency\": 11, \"value\": 1966}, \"1967\": {\"frequency\": 8, \"value\": 1967}, \"1968\": {\"frequency\": 3, \"value\": 1968}, \"1969\": {\"frequency\": 10, \"value\": 1969}, \"1970\": {\"frequency\": 16, \"value\": 1970}, \"1971\": {\"frequency\": 18, \"value\": 1971}, \"1972\": {\"frequency\": 31, \"value\": 1972}, \"1973\": {\"frequency\": 25, \"value\": 1973}, \"1974\": {\"frequency\": 20, \"value\": 1974}, \"1975\": {\"frequency\": 31, \"value\": 1975}, \"1976\": {\"frequency\": 46, \"value\": 1976}, \"1977\": {\"frequency\": 84, \"value\": 1977}, \"1978\": {\"frequency\": 83, \"value\": 1978}, \"1979\": {\"frequency\": 102, \"value\": 1979}, \"1980\": {\"frequency\": 116, \"value\": 1980}, \"1981\": {\"frequency\": 195, \"value\": 1981}, \"1982\": {\"frequency\": 232, \"value\": 1982}, \"1983\": {\"frequency\": 252, \"value\": 1983}, \"1984\": {\"frequency\": 248, \"value\": 1984}, \"1985\": {\"frequency\": 265, \"value\": 1985}, \"1986\": {\"frequency\": 299, \"value\": 1986}, \"1987\": {\"frequency\": 356, \"value\": 1987}, \"1988\": {\"frequency\": 337, \"value\": 1988}, \"1989\": {\"frequency\": 422, \"value\": 1989}, \"1990\": {\"frequency\": 549, \"value\": 1990}, \"1991\": {\"frequency\": 563, \"value\": 1991}, \"1992\": {\"frequency\": 603, \"value\": 1992}, \"1993\": {\"frequency\": 640, \"value\": 1993}, \"1994\": {\"frequency\": 807, \"value\": 1994}, \"1995\": {\"frequency\": 936, \"value\": 1995}, \"1996\": {\"frequency\": 1021, \"value\": 1996}, \"1997\": {\"frequency\": 1038, \"value\": 1997}, \"1998\": {\"frequency\": 1032, \"value\": 1998}, \"1999\": {\"frequency\": 1352, \"value\": 1999}, \"2000\": {\"frequency\": 1368, \"value\": 2000}, \"2001\": {\"frequency\": 1628, \"value\": 2001}, \"2002\": {\"frequency\": 1682, \"value\": 2002}, \"2003\": {\"frequency\": 1342, \"value\": 2003}, \"2004\": {\"frequency\": 427, \"value\": 2004}, \"2005\": {\"frequency\": 3, \"value\": 2005}, \"2010\": {\"frequency\": 1, \"value\": 2010}, \"2011\": {\"frequency\": 1, \"value\": 2011}, \"1900\": {\"frequency\": 1, \"value\": 1900}, \"2030\": {\"frequency\": 1, \"value\": 2030}, \"1908\": {\"frequency\": 1, \"value\": 1908}}, \"mean\": 1945.7877077119708}, \"selected_variable\": {\"name\": [\"<SArray>\"], \"dtype\": \"int\", \"view_component\": \"Numeric\", \"view_file\": \"sarray\", \"descriptives\": {\"rows\": 18776}, \"type\": \"SArray\", \"view_components\": [\"Numeric\", \"Categorical\"]}, \"histogram\": {\"progress\": 1.0, \"histogram\": {\"max\": 2048.152, \"bins\": [466, 0, 0, 0, 0, 0, 0, 0, 0, 0, 0, 18310], \"min\": -16.232}, \"min\": 0, \"complete\": 1, \"max\": 2030}}, e);\n",
       "                });\n",
       "            })();\n",
       "        "
      ]
     },
     "metadata": {},
     "output_type": "display_data"
    }
   ],
   "source": [
    "sf['year'].show()"
   ]
  },
  {
   "cell_type": "code",
   "execution_count": 18,
   "metadata": {
    "collapsed": true
   },
   "outputs": [],
   "source": [
    "def transform_year(year):\n",
    "    if (year > 1945) and (year < 2016):\n",
    "        return year\n",
    "    else:\n",
    "        return None"
   ]
  },
  {
   "cell_type": "code",
   "execution_count": 22,
   "metadata": {
    "collapsed": false
   },
   "outputs": [
    {
     "name": "stdout",
     "output_type": "stream",
     "text": [
      "1960\n"
     ]
    }
   ],
   "source": [
    "print transform_year(1960)"
   ]
  },
  {
   "cell_type": "code",
   "execution_count": 21,
   "metadata": {
    "collapsed": false
   },
   "outputs": [
    {
     "name": "stdout",
     "output_type": "stream",
     "text": [
      "None\n"
     ]
    }
   ],
   "source": [
    "print transform_year(2022)"
   ]
  },
  {
   "cell_type": "code",
   "execution_count": 24,
   "metadata": {
    "collapsed": false
   },
   "outputs": [
    {
     "name": "stdout",
     "output_type": "stream",
     "text": [
      "None\n"
     ]
    }
   ],
   "source": [
    "print transform_year(1900)"
   ]
  },
  {
   "cell_type": "code",
   "execution_count": 27,
   "metadata": {
    "collapsed": false
   },
   "outputs": [
    {
     "data": {
      "text/plain": [
       "dtype: int\n",
       "Rows: 18776\n",
       "[1997, 2001, 1992, 2002, 2004, 2001, 1989, 1993, 2000, 2003, 1990, 2000, 1987, 2000, 2002, 1986, 1996, 1992, 1999, 1997, 1998, 1996, 1995, 1998, 2002, 2004, 2000, 2002, 1996, 1981, 1999, 1992, 1997, 1998, 1984, 1998, 1996, 1991, 2000, 1999, 1993, 1990, None, 1984, 2002, 1992, 2002, 1993, 1991, 2001, 2001, 1996, 1997, 2000, 1986, 1983, 1982, 2002, 1991, 1993, 1992, 1987, 1993, 1986, 2001, 1995, 2002, 2001, 1999, 1994, 2002, 2000, 2001, 1993, 1999, 2001, 1999, 2003, 1993, 2002, 1992, 1993, 2003, 2000, 2003, 1991, 1996, 2002, 2001, 1996, 2003, 1992, 2000, 2001, 2001, 2002, 2002, 2000, 1990, 1994, ... ]"
      ]
     },
     "execution_count": 27,
     "metadata": {},
     "output_type": "execute_result"
    }
   ],
   "source": [
    "sf['year'].apply(transform_year)"
   ]
  },
  {
   "cell_type": "code",
   "execution_count": 28,
   "metadata": {
    "collapsed": true
   },
   "outputs": [],
   "source": [
    "sf['year'] = sf['year'].apply(transform_year)"
   ]
  },
  {
   "cell_type": "code",
   "execution_count": 30,
   "metadata": {
    "collapsed": false
   },
   "outputs": [
    {
     "data": {
      "application/javascript": [
       "$(\"head\").append($(\"<link/>\").attr({\n",
       "  rel:  \"stylesheet\",\n",
       "  type: \"text/css\",\n",
       "  href: \"//cdnjs.cloudflare.com/ajax/libs/font-awesome/4.1.0/css/font-awesome.min.css\"\n",
       "}));\n",
       "$(\"head\").append($(\"<link/>\").attr({\n",
       "  rel:  \"stylesheet\",\n",
       "  type: \"text/css\",\n",
       "  href: \"//turi.com/files/canvas/1.8.5/css/canvas.css\"\n",
       "}));\n",
       "\n",
       "            (function(){\n",
       "\n",
       "                var e = null;\n",
       "                if (typeof element == 'undefined') {\n",
       "                    var scripts = document.getElementsByTagName('script');\n",
       "                    var thisScriptTag = scripts[scripts.length-1];\n",
       "                    var parentDiv = thisScriptTag.parentNode;\n",
       "                    e = document.createElement('div');\n",
       "                    parentDiv.appendChild(e);\n",
       "                } else {\n",
       "                    e = element[0];\n",
       "                }\n",
       "\n",
       "                if (typeof requirejs !== 'undefined') {\n",
       "                    // disable load timeout; ipython_app.js is large and can take a while to load.\n",
       "                    requirejs.config({waitSeconds: 0});\n",
       "                }\n",
       "\n",
       "                require(['//turi.com/files/canvas/1.8.5/js/ipython_app.js'], function(IPythonApp){\n",
       "                    var app = new IPythonApp();\n",
       "                    app.attachView('sarray','Numeric', {\"ipython\": true, \"sketch\": {\"std\": 7.210753831164527, \"complete\": true, \"min\": 1948.0, \"max\": 2011.0, \"quantile\": [1948.0, 1972.0, 1977.0, 1979.0, 1981.0, 1982.0, 1982.0, 1983.0, 1984.0, 1985.0, 1985.0, 1986.0, 1987.0, 1987.0, 1988.0, 1988.0, 1989.0, 1989.0, 1989.0, 1990.0, 1990.0, 1990.0, 1991.0, 1991.0, 1991.0, 1992.0, 1992.0, 1992.0, 1993.0, 1993.0, 1993.0, 1994.0, 1994.0, 1994.0, 1994.0, 1994.0, 1995.0, 1995.0, 1995.0, 1995.0, 1995.0, 1996.0, 1996.0, 1996.0, 1996.0, 1996.0, 1996.0, 1997.0, 1997.0, 1997.0, 1997.0, 1997.0, 1998.0, 1998.0, 1998.0, 1998.0, 1998.0, 1998.0, 1999.0, 1999.0, 1999.0, 1999.0, 1999.0, 1999.0, 1999.0, 2000.0, 2000.0, 2000.0, 2000.0, 2000.0, 2000.0, 2000.0, 2000.0, 2001.0, 2001.0, 2001.0, 2001.0, 2001.0, 2001.0, 2001.0, 2001.0, 2001.0, 2002.0, 2002.0, 2002.0, 2002.0, 2002.0, 2002.0, 2002.0, 2002.0, 2002.0, 2003.0, 2003.0, 2003.0, 2003.0, 2003.0, 2003.0, 2003.0, 2004.0, 2004.0, 2011.0], \"median\": 1997.0, \"numeric\": true, \"num_unique\": 59, \"num_undefined\": 481, \"var\": 51.9949708136539, \"progress\": 1.0, \"size\": 18776, \"frequent_items\": {\"1948\": {\"frequency\": 2, \"value\": 1948}, \"1950\": {\"frequency\": 2, \"value\": 1950}, \"1951\": {\"frequency\": 2, \"value\": 1951}, \"1952\": {\"frequency\": 4, \"value\": 1952}, \"1953\": {\"frequency\": 6, \"value\": 1953}, \"1954\": {\"frequency\": 5, \"value\": 1954}, \"1955\": {\"frequency\": 6, \"value\": 1955}, \"1956\": {\"frequency\": 6, \"value\": 1956}, \"1957\": {\"frequency\": 4, \"value\": 1957}, \"1958\": {\"frequency\": 5, \"value\": 1958}, \"1959\": {\"frequency\": 6, \"value\": 1959}, \"1960\": {\"frequency\": 10, \"value\": 1960}, \"1961\": {\"frequency\": 10, \"value\": 1961}, \"1962\": {\"frequency\": 9, \"value\": 1962}, \"1963\": {\"frequency\": 4, \"value\": 1963}, \"1964\": {\"frequency\": 9, \"value\": 1964}, \"1965\": {\"frequency\": 2, \"value\": 1965}, \"1966\": {\"frequency\": 11, \"value\": 1966}, \"1967\": {\"frequency\": 8, \"value\": 1967}, \"1968\": {\"frequency\": 3, \"value\": 1968}, \"1969\": {\"frequency\": 10, \"value\": 1969}, \"1970\": {\"frequency\": 16, \"value\": 1970}, \"1971\": {\"frequency\": 18, \"value\": 1971}, \"1972\": {\"frequency\": 31, \"value\": 1972}, \"1973\": {\"frequency\": 25, \"value\": 1973}, \"1974\": {\"frequency\": 20, \"value\": 1974}, \"1975\": {\"frequency\": 31, \"value\": 1975}, \"1976\": {\"frequency\": 46, \"value\": 1976}, \"1977\": {\"frequency\": 84, \"value\": 1977}, \"1978\": {\"frequency\": 83, \"value\": 1978}, \"1979\": {\"frequency\": 102, \"value\": 1979}, \"1980\": {\"frequency\": 116, \"value\": 1980}, \"1981\": {\"frequency\": 195, \"value\": 1981}, \"1982\": {\"frequency\": 232, \"value\": 1982}, \"1983\": {\"frequency\": 252, \"value\": 1983}, \"1984\": {\"frequency\": 248, \"value\": 1984}, \"1985\": {\"frequency\": 265, \"value\": 1985}, \"1986\": {\"frequency\": 299, \"value\": 1986}, \"1987\": {\"frequency\": 356, \"value\": 1987}, \"1988\": {\"frequency\": 337, \"value\": 1988}, \"1989\": {\"frequency\": 422, \"value\": 1989}, \"1990\": {\"frequency\": 549, \"value\": 1990}, \"1991\": {\"frequency\": 563, \"value\": 1991}, \"1992\": {\"frequency\": 603, \"value\": 1992}, \"1993\": {\"frequency\": 640, \"value\": 1993}, \"1994\": {\"frequency\": 807, \"value\": 1994}, \"1995\": {\"frequency\": 936, \"value\": 1995}, \"1996\": {\"frequency\": 1021, \"value\": 1996}, \"1997\": {\"frequency\": 1038, \"value\": 1997}, \"1998\": {\"frequency\": 1032, \"value\": 1998}, \"1999\": {\"frequency\": 1352, \"value\": 1999}, \"2000\": {\"frequency\": 1368, \"value\": 2000}, \"2001\": {\"frequency\": 1628, \"value\": 2001}, \"2002\": {\"frequency\": 1682, \"value\": 2002}, \"2003\": {\"frequency\": 1342, \"value\": 2003}, \"2004\": {\"frequency\": 427, \"value\": 2004}, \"2005\": {\"frequency\": 3, \"value\": 2005}, \"2010\": {\"frequency\": 1, \"value\": 2010}, \"2011\": {\"frequency\": 1, \"value\": 2011}}, \"mean\": 1995.3597704290776}, \"selected_variable\": {\"name\": [\"<SArray>\"], \"dtype\": \"int\", \"view_component\": \"Numeric\", \"view_file\": \"sarray\", \"descriptives\": {\"rows\": 18776}, \"type\": \"SArray\", \"view_components\": [\"Numeric\", \"Categorical\"]}, \"histogram\": {\"progress\": 1.0, \"histogram\": {\"max\": 2011.8, \"bins\": [10, 32, 39, 33, 120, 346, 1043, 2228, 3549, 7439, 3454, 2], \"min\": 1947.288}, \"min\": 1948, \"complete\": 1, \"max\": 2011}}, e);\n",
       "                });\n",
       "            })();\n",
       "        "
      ]
     },
     "metadata": {},
     "output_type": "display_data"
    }
   ],
   "source": [
    "sf['year'].show()"
   ]
  },
  {
   "cell_type": "code",
   "execution_count": null,
   "metadata": {
    "collapsed": true
   },
   "outputs": [],
   "source": []
  }
 ],
 "metadata": {
  "kernelspec": {
   "display_name": "Python 2",
   "language": "python",
   "name": "python2"
  },
  "language_info": {
   "codemirror_mode": {
    "name": "ipython",
    "version": 2
   },
   "file_extension": ".py",
   "mimetype": "text/x-python",
   "name": "python",
   "nbconvert_exporter": "python",
   "pygments_lexer": "ipython2",
   "version": "2.7.11"
  }
 },
 "nbformat": 4,
 "nbformat_minor": 0
}
