{
 "metadata": {
  "kernelspec": {
   "display_name": "Python 2",
   "language": "python",
   "name": "python2"
  },
  "language_info": {
   "codemirror_mode": {
    "name": "ipython",
    "version": 2
   },
   "file_extension": ".py",
   "mimetype": "text/x-python",
   "name": "python",
   "nbconvert_exporter": "python",
   "pygments_lexer": "ipython2",
   "version": "2.7.6"
  },
  "name": "",
  "signature": "sha256:5c87ddc2847f077fb10654fac4f5bf0be4386cb86536957a0ba4f2d8c9d6991e"
 },
 "nbformat": 3,
 "nbformat_minor": 0,
 "worksheets": [
  {
   "cells": [
    {
     "cell_type": "code",
     "collapsed": false,
     "input": [
      "import graphlab\n",
      "graphlab.canvas.set_target('ipynb')"
     ],
     "language": "python",
     "metadata": {},
     "outputs": [],
     "prompt_number": 1
    },
    {
     "cell_type": "markdown",
     "metadata": {},
     "source": [
      "Deep Learning Basics\n",
      "=========="
     ]
    },
    {
     "cell_type": "markdown",
     "metadata": {},
     "source": [
      "Today we'll walk through building a deep learning network for image recognition <a href='http://yann.lecun.com/exdb/mnist/'>CIFAR-10 dataset</a>. The CIFAR data-set represents real-world data that is already formatted and labeled, so we can focus on building our network today instead of cleaning the data.\n",
      "\n",
      "<img src=\"images/cifar.png\"></img>\n",
      "\n",
      "We're going to walk through 4 steps today:\n",
      "- Loading the Data\n",
      "- Training our Model\n",
      "- Evaluating the results of the model\n",
      "- Look at ways to improveing the performance of our model\n",
      "-----"
     ]
    },
    {
     "cell_type": "markdown",
     "metadata": {},
     "source": [
      "<img src=\"images/load.png\"></img>"
     ]
    },
    {
     "cell_type": "markdown",
     "metadata": {},
     "source": [
      "We've download a subset of the CIFAR-10 data set for you. We load the data into an SFame, which is a powerful and scalable data structure that is used by many of the models in GraphLab Create."
     ]
    },
    {
     "cell_type": "code",
     "collapsed": false,
     "input": [
      "image_train = graphlab.SFrame('http://static.turi.com/datasets/coursera/deep_learning/image_train_data')\n",
      "image_test = graphlab.SFrame('http://static.turi.com/datasets/coursera/deep_learning/image_test_data')"
     ],
     "language": "python",
     "metadata": {},
     "outputs": [
      {
       "output_type": "stream",
       "stream": "stderr",
       "text": [
        "[INFO] This commercial license of GraphLab Create is assigned to engr@turi.com.\n",
        "\n"
       ]
      },
      {
       "output_type": "stream",
       "stream": "stderr",
       "text": [
        "[INFO] Start server at: ipc:///tmp/graphlab_server-98991 - Server binary: /Users/piotrteterwak/.virtualenvs/gl-1.4/lib/python2.7/site-packages/graphlab/unity_server - Server log: /tmp/graphlab_server_1442964667.log\n"
       ]
      },
      {
       "output_type": "stream",
       "stream": "stderr",
       "text": [
        "[INFO] GraphLab Server Version: 1.6\n"
       ]
      },
      {
       "html": [
        "<pre>PROGRESS: Downloading http://static.turi.com/datasets/coursera/deep_learning/image_train_data/dir_archive.ini to /var/tmp/graphlab-piotrteterwak/98991/51c6a729-39ce-497e-a6e4-32b47158b5be.ini</pre>"
       ],
       "metadata": {},
       "output_type": "display_data",
       "text": [
        "PROGRESS: Downloading http://static.turi.com/datasets/coursera/deep_learning/image_train_data/dir_archive.ini to /var/tmp/graphlab-piotrteterwak/98991/51c6a729-39ce-497e-a6e4-32b47158b5be.ini"
       ]
      },
      {
       "html": [
        "<pre>PROGRESS: Downloading http://static.turi.com/datasets/coursera/deep_learning/image_train_data/objects.bin to /var/tmp/graphlab-piotrteterwak/98991/99e89616-5a60-4315-82f5-a198f20ee633.bin</pre>"
       ],
       "metadata": {},
       "output_type": "display_data",
       "text": [
        "PROGRESS: Downloading http://static.turi.com/datasets/coursera/deep_learning/image_train_data/objects.bin to /var/tmp/graphlab-piotrteterwak/98991/99e89616-5a60-4315-82f5-a198f20ee633.bin"
       ]
      },
      {
       "html": [
        "<pre>PROGRESS: Downloading http://static.turi.com/datasets/coursera/deep_learning/image_train_data/m_8b0619884fada761.frame_idx to /var/tmp/graphlab-piotrteterwak/98991/bb1e963e-9ee5-4a5e-a477-682948e3ea88.frame_idx</pre>"
       ],
       "metadata": {},
       "output_type": "display_data",
       "text": [
        "PROGRESS: Downloading http://static.turi.com/datasets/coursera/deep_learning/image_train_data/m_8b0619884fada761.frame_idx to /var/tmp/graphlab-piotrteterwak/98991/bb1e963e-9ee5-4a5e-a477-682948e3ea88.frame_idx"
       ]
      },
      {
       "html": [
        "<pre>PROGRESS: Downloading http://static.turi.com/datasets/coursera/deep_learning/image_train_data/m_8b0619884fada761.sidx to /var/tmp/graphlab-piotrteterwak/98991/8b59f77c-29da-4ff9-b925-94e8615e73f5.sidx</pre>"
       ],
       "metadata": {},
       "output_type": "display_data",
       "text": [
        "PROGRESS: Downloading http://static.turi.com/datasets/coursera/deep_learning/image_train_data/m_8b0619884fada761.sidx to /var/tmp/graphlab-piotrteterwak/98991/8b59f77c-29da-4ff9-b925-94e8615e73f5.sidx"
       ]
      },
      {
       "html": [
        "<pre>PROGRESS: Downloading http://static.turi.com/datasets/coursera/deep_learning/image_test_data/dir_archive.ini to /var/tmp/graphlab-piotrteterwak/98991/4034beac-c3da-4b74-9400-a532da514a1e.ini</pre>"
       ],
       "metadata": {},
       "output_type": "display_data",
       "text": [
        "PROGRESS: Downloading http://static.turi.com/datasets/coursera/deep_learning/image_test_data/dir_archive.ini to /var/tmp/graphlab-piotrteterwak/98991/4034beac-c3da-4b74-9400-a532da514a1e.ini"
       ]
      },
      {
       "html": [
        "<pre>PROGRESS: Downloading http://static.turi.com/datasets/coursera/deep_learning/image_test_data/objects.bin to /var/tmp/graphlab-piotrteterwak/98991/ac7cfe1b-5671-4d87-9f40-9e9130c126a8.bin</pre>"
       ],
       "metadata": {},
       "output_type": "display_data",
       "text": [
        "PROGRESS: Downloading http://static.turi.com/datasets/coursera/deep_learning/image_test_data/objects.bin to /var/tmp/graphlab-piotrteterwak/98991/ac7cfe1b-5671-4d87-9f40-9e9130c126a8.bin"
       ]
      },
      {
       "html": [
        "<pre>PROGRESS: Downloading http://static.turi.com/datasets/coursera/deep_learning/image_test_data/m_686d0b1bd5620cb1.frame_idx to /var/tmp/graphlab-piotrteterwak/98991/6b43b4c2-9a6e-45f7-99c2-0a4a449178cf.frame_idx</pre>"
       ],
       "metadata": {},
       "output_type": "display_data",
       "text": [
        "PROGRESS: Downloading http://static.turi.com/datasets/coursera/deep_learning/image_test_data/m_686d0b1bd5620cb1.frame_idx to /var/tmp/graphlab-piotrteterwak/98991/6b43b4c2-9a6e-45f7-99c2-0a4a449178cf.frame_idx"
       ]
      },
      {
       "html": [
        "<pre>PROGRESS: Downloading http://static.turi.com/datasets/coursera/deep_learning/image_test_data/m_686d0b1bd5620cb1.sidx to /var/tmp/graphlab-piotrteterwak/98991/8184f530-f346-452d-a09b-6dbe8d3f1454.sidx</pre>"
       ],
       "metadata": {},
       "output_type": "display_data",
       "text": [
        "PROGRESS: Downloading http://static.turi.com/datasets/coursera/deep_learning/image_test_data/m_686d0b1bd5620cb1.sidx to /var/tmp/graphlab-piotrteterwak/98991/8184f530-f346-452d-a09b-6dbe8d3f1454.sidx"
       ]
      }
     ],
     "prompt_number": 2
    },
    {
     "cell_type": "heading",
     "level": 3,
     "metadata": {},
     "source": [
      "Exploring the data"
     ]
    },
    {
     "cell_type": "code",
     "collapsed": false,
     "input": [
      "image_train"
     ],
     "language": "python",
     "metadata": {},
     "outputs": [
      {
       "html": [
        "<pre>PROGRESS: Downloading http://static.turi.com/datasets/coursera/deep_learning/image_train_data/m_8b0619884fada761.0000 to /var/tmp/graphlab-piotrteterwak/98991/a25f18f8-7a29-4ee4-9559-c13719f94172.0000</pre>"
       ],
       "metadata": {},
       "output_type": "display_data",
       "text": [
        "PROGRESS: Downloading http://static.turi.com/datasets/coursera/deep_learning/image_train_data/m_8b0619884fada761.0000 to /var/tmp/graphlab-piotrteterwak/98991/a25f18f8-7a29-4ee4-9559-c13719f94172.0000"
       ]
      },
      {
       "html": [
        "<div style=\"max-height:1000px;max-width:1500px;overflow:auto;\"><table frame=\"box\" rules=\"cols\">\n",
        "    <tr>\n",
        "        <th style=\"padding-left: 1em; padding-right: 1em; text-align: center\">id</th>\n",
        "        <th style=\"padding-left: 1em; padding-right: 1em; text-align: center\">image</th>\n",
        "        <th style=\"padding-left: 1em; padding-right: 1em; text-align: center\">label</th>\n",
        "        <th style=\"padding-left: 1em; padding-right: 1em; text-align: center\">deep_features</th>\n",
        "        <th style=\"padding-left: 1em; padding-right: 1em; text-align: center\">image_array</th>\n",
        "    </tr>\n",
        "    <tr>\n",
        "        <td style=\"padding-left: 1em; padding-right: 1em; text-align: center; vertical-align: top\">24</td>\n",
        "        <td style=\"padding-left: 1em; padding-right: 1em; text-align: center; vertical-align: top\">Height: 32 Width: 32</td>\n",
        "        <td style=\"padding-left: 1em; padding-right: 1em; text-align: center; vertical-align: top\">bird</td>\n",
        "        <td style=\"padding-left: 1em; padding-right: 1em; text-align: center; vertical-align: top\">[0.242871761322,<br>1.09545373917, 0.0, ...</td>\n",
        "        <td style=\"padding-left: 1em; padding-right: 1em; text-align: center; vertical-align: top\">[73.0, 77.0, 58.0, 71.0,<br>68.0, 50.0, 77.0, 69.0, ...</td>\n",
        "    </tr>\n",
        "    <tr>\n",
        "        <td style=\"padding-left: 1em; padding-right: 1em; text-align: center; vertical-align: top\">33</td>\n",
        "        <td style=\"padding-left: 1em; padding-right: 1em; text-align: center; vertical-align: top\">Height: 32 Width: 32</td>\n",
        "        <td style=\"padding-left: 1em; padding-right: 1em; text-align: center; vertical-align: top\">cat</td>\n",
        "        <td style=\"padding-left: 1em; padding-right: 1em; text-align: center; vertical-align: top\">[0.525087952614, 0.0,<br>0.0, 0.0, 0.0, 0.0, ...</td>\n",
        "        <td style=\"padding-left: 1em; padding-right: 1em; text-align: center; vertical-align: top\">[7.0, 5.0, 8.0, 7.0, 5.0,<br>8.0, 5.0, 4.0, 6.0, 7.0, ...</td>\n",
        "    </tr>\n",
        "    <tr>\n",
        "        <td style=\"padding-left: 1em; padding-right: 1em; text-align: center; vertical-align: top\">36</td>\n",
        "        <td style=\"padding-left: 1em; padding-right: 1em; text-align: center; vertical-align: top\">Height: 32 Width: 32</td>\n",
        "        <td style=\"padding-left: 1em; padding-right: 1em; text-align: center; vertical-align: top\">cat</td>\n",
        "        <td style=\"padding-left: 1em; padding-right: 1em; text-align: center; vertical-align: top\">[0.566015958786, 0.0,<br>0.0, 0.0, 0.0, 0.0, ...</td>\n",
        "        <td style=\"padding-left: 1em; padding-right: 1em; text-align: center; vertical-align: top\">[169.0, 122.0, 65.0,<br>131.0, 108.0, 75.0, ...</td>\n",
        "    </tr>\n",
        "    <tr>\n",
        "        <td style=\"padding-left: 1em; padding-right: 1em; text-align: center; vertical-align: top\">70</td>\n",
        "        <td style=\"padding-left: 1em; padding-right: 1em; text-align: center; vertical-align: top\">Height: 32 Width: 32</td>\n",
        "        <td style=\"padding-left: 1em; padding-right: 1em; text-align: center; vertical-align: top\">dog</td>\n",
        "        <td style=\"padding-left: 1em; padding-right: 1em; text-align: center; vertical-align: top\">[1.12979578972, 0.0, 0.0,<br>0.778194487095, 0.0, ...</td>\n",
        "        <td style=\"padding-left: 1em; padding-right: 1em; text-align: center; vertical-align: top\">[154.0, 179.0, 152.0,<br>159.0, 183.0, 157.0, ...</td>\n",
        "    </tr>\n",
        "    <tr>\n",
        "        <td style=\"padding-left: 1em; padding-right: 1em; text-align: center; vertical-align: top\">90</td>\n",
        "        <td style=\"padding-left: 1em; padding-right: 1em; text-align: center; vertical-align: top\">Height: 32 Width: 32</td>\n",
        "        <td style=\"padding-left: 1em; padding-right: 1em; text-align: center; vertical-align: top\">bird</td>\n",
        "        <td style=\"padding-left: 1em; padding-right: 1em; text-align: center; vertical-align: top\">[1.71786928177, 0.0, 0.0,<br>0.0, 0.0, 0.0, ...</td>\n",
        "        <td style=\"padding-left: 1em; padding-right: 1em; text-align: center; vertical-align: top\">[216.0, 195.0, 180.0,<br>201.0, 178.0, 160.0, ...</td>\n",
        "    </tr>\n",
        "    <tr>\n",
        "        <td style=\"padding-left: 1em; padding-right: 1em; text-align: center; vertical-align: top\">97</td>\n",
        "        <td style=\"padding-left: 1em; padding-right: 1em; text-align: center; vertical-align: top\">Height: 32 Width: 32</td>\n",
        "        <td style=\"padding-left: 1em; padding-right: 1em; text-align: center; vertical-align: top\">automobile</td>\n",
        "        <td style=\"padding-left: 1em; padding-right: 1em; text-align: center; vertical-align: top\">[1.57818555832, 0.0, 0.0,<br>0.0, 0.0, 0.0, ...</td>\n",
        "        <td style=\"padding-left: 1em; padding-right: 1em; text-align: center; vertical-align: top\">[33.0, 44.0, 27.0, 29.0,<br>44.0, 31.0, 32.0, 45.0, ...</td>\n",
        "    </tr>\n",
        "    <tr>\n",
        "        <td style=\"padding-left: 1em; padding-right: 1em; text-align: center; vertical-align: top\">107</td>\n",
        "        <td style=\"padding-left: 1em; padding-right: 1em; text-align: center; vertical-align: top\">Height: 32 Width: 32</td>\n",
        "        <td style=\"padding-left: 1em; padding-right: 1em; text-align: center; vertical-align: top\">dog</td>\n",
        "        <td style=\"padding-left: 1em; padding-right: 1em; text-align: center; vertical-align: top\">[0.0, 0.0,<br>0.220677852631, 0.0,  ...</td>\n",
        "        <td style=\"padding-left: 1em; padding-right: 1em; text-align: center; vertical-align: top\">[97.0, 51.0, 31.0, 104.0,<br>58.0, 38.0, 107.0, 61.0, ...</td>\n",
        "    </tr>\n",
        "    <tr>\n",
        "        <td style=\"padding-left: 1em; padding-right: 1em; text-align: center; vertical-align: top\">121</td>\n",
        "        <td style=\"padding-left: 1em; padding-right: 1em; text-align: center; vertical-align: top\">Height: 32 Width: 32</td>\n",
        "        <td style=\"padding-left: 1em; padding-right: 1em; text-align: center; vertical-align: top\">bird</td>\n",
        "        <td style=\"padding-left: 1em; padding-right: 1em; text-align: center; vertical-align: top\">[0.0, 0.23753464222, 0.0,<br>0.0, 0.0, 0.0, ...</td>\n",
        "        <td style=\"padding-left: 1em; padding-right: 1em; text-align: center; vertical-align: top\">[93.0, 96.0, 88.0, 102.0,<br>106.0, 97.0, 117.0, ...</td>\n",
        "    </tr>\n",
        "    <tr>\n",
        "        <td style=\"padding-left: 1em; padding-right: 1em; text-align: center; vertical-align: top\">136</td>\n",
        "        <td style=\"padding-left: 1em; padding-right: 1em; text-align: center; vertical-align: top\">Height: 32 Width: 32</td>\n",
        "        <td style=\"padding-left: 1em; padding-right: 1em; text-align: center; vertical-align: top\">automobile</td>\n",
        "        <td style=\"padding-left: 1em; padding-right: 1em; text-align: center; vertical-align: top\">[0.0, 0.0, 0.0, 0.0, 0.0,<br>0.0, 7.5737862587, 0.0, ...</td>\n",
        "        <td style=\"padding-left: 1em; padding-right: 1em; text-align: center; vertical-align: top\">[35.0, 59.0, 53.0, 36.0,<br>56.0, 56.0, 42.0, 62.0, ...</td>\n",
        "    </tr>\n",
        "    <tr>\n",
        "        <td style=\"padding-left: 1em; padding-right: 1em; text-align: center; vertical-align: top\">138</td>\n",
        "        <td style=\"padding-left: 1em; padding-right: 1em; text-align: center; vertical-align: top\">Height: 32 Width: 32</td>\n",
        "        <td style=\"padding-left: 1em; padding-right: 1em; text-align: center; vertical-align: top\">bird</td>\n",
        "        <td style=\"padding-left: 1em; padding-right: 1em; text-align: center; vertical-align: top\">[0.658935725689, 0.0,<br>0.0, 0.0, 0.0, 0.0, ...</td>\n",
        "        <td style=\"padding-left: 1em; padding-right: 1em; text-align: center; vertical-align: top\">[205.0, 193.0, 195.0,<br>200.0, 187.0, 193.0, ...</td>\n",
        "    </tr>\n",
        "</table>\n",
        "[2005 rows x 5 columns]<br/>Note: Only the head of the SFrame is printed.<br/>You can use print_rows(num_rows=m, num_columns=n) to print more rows and columns.\n",
        "</div>"
       ],
       "metadata": {},
       "output_type": "pyout",
       "prompt_number": 3,
       "text": [
        "Columns:\n",
        "\tid\tint\n",
        "\timage\tImage\n",
        "\tlabel\tstr\n",
        "\tdeep_features\tarray\n",
        "\timage_array\tarray\n",
        "\n",
        "Rows: 2005\n",
        "\n",
        "Data:\n",
        "+-----+----------------------+------------+-------------------------------+\n",
        "|  id |        image         |   label    |         deep_features         |\n",
        "+-----+----------------------+------------+-------------------------------+\n",
        "|  24 | Height: 32 Width: 32 |    bird    | [0.242871761322, 1.0954537... |\n",
        "|  33 | Height: 32 Width: 32 |    cat     | [0.525087952614, 0.0, 0.0,... |\n",
        "|  36 | Height: 32 Width: 32 |    cat     | [0.566015958786, 0.0, 0.0,... |\n",
        "|  70 | Height: 32 Width: 32 |    dog     | [1.12979578972, 0.0, 0.0, ... |\n",
        "|  90 | Height: 32 Width: 32 |    bird    | [1.71786928177, 0.0, 0.0, ... |\n",
        "|  97 | Height: 32 Width: 32 | automobile | [1.57818555832, 0.0, 0.0, ... |\n",
        "| 107 | Height: 32 Width: 32 |    dog     | [0.0, 0.0, 0.220677852631,... |\n",
        "| 121 | Height: 32 Width: 32 |    bird    | [0.0, 0.23753464222, 0.0, ... |\n",
        "| 136 | Height: 32 Width: 32 | automobile | [0.0, 0.0, 0.0, 0.0, 0.0, ... |\n",
        "| 138 | Height: 32 Width: 32 |    bird    | [0.658935725689, 0.0, 0.0,... |\n",
        "+-----+----------------------+------------+-------------------------------+\n",
        "+-------------------------------+\n",
        "|          image_array          |\n",
        "+-------------------------------+\n",
        "| [73.0, 77.0, 58.0, 71.0, 6... |\n",
        "| [7.0, 5.0, 8.0, 7.0, 5.0, ... |\n",
        "| [169.0, 122.0, 65.0, 131.0... |\n",
        "| [154.0, 179.0, 152.0, 159.... |\n",
        "| [216.0, 195.0, 180.0, 201.... |\n",
        "| [33.0, 44.0, 27.0, 29.0, 4... |\n",
        "| [97.0, 51.0, 31.0, 104.0, ... |\n",
        "| [93.0, 96.0, 88.0, 102.0, ... |\n",
        "| [35.0, 59.0, 53.0, 36.0, 5... |\n",
        "| [205.0, 193.0, 195.0, 200.... |\n",
        "+-------------------------------+\n",
        "[2005 rows x 5 columns]\n",
        "Note: Only the head of the SFrame is printed.\n",
        "You can use print_rows(num_rows=m, num_columns=n) to print more rows and columns."
       ]
      }
     ],
     "prompt_number": 3
    },
    {
     "cell_type": "code",
     "collapsed": false,
     "input": [
      "graphlab.image_analysis.resize(image_train['image'], 128, 128, 3).show()"
     ],
     "language": "python",
     "metadata": {},
     "outputs": [
      {
       "javascript": [
        "$(\"head\").append($(\"<link/>\").attr({\n",
        "  rel:  \"stylesheet\",\n",
        "  type: \"text/css\",\n",
        "  href: \"//cdnjs.cloudflare.com/ajax/libs/font-awesome/4.1.0/css/font-awesome.min.css\"\n",
        "}));\n",
        "$(\"head\").append($(\"<link/>\").attr({\n",
        "  rel:  \"stylesheet\",\n",
        "  type: \"text/css\",\n",
        "  href: \"//turi.com/files/canvas/1.6/css/canvas.css\"\n",
        "}));\n",
        "\n",
        "            (function(){\n",
        "\n",
        "                var e = null;\n",
        "                if (typeof element == 'undefined') {\n",
        "                    var scripts = document.getElementsByTagName('script');\n",
        "                    var thisScriptTag = scripts[scripts.length-1];\n",
        "                    var parentDiv = thisScriptTag.parentNode;\n",
        "                    e = document.createElement('div');\n",
        "                    parentDiv.appendChild(e);\n",
        "                } else {\n",
        "                    e = element[0];\n",
        "                }\n",
        "\n",
        "                if (typeof requirejs !== 'undefined') {\n",
        "                    // disable load timeout; ipython_app.js is large and can take a while to load.\n",
        "                    requirejs.config({waitSeconds: 0});\n",
        "                }\n",
        "\n",
        "                require(['//turi.com/files/canvas/1.6/js/ipython_app.js'], function(IPythonApp){\n",
        "                    var app = new IPythonApp();\n",
        "                    app.attachView('sarray','Images', {\"ipython\": true, \"rows\": [{\"format\": \"png\", \"value\": \"image/png;base64,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\\n\", \"height\": 128, \"channels\": 3, \"width\": 128, \"type\": \"image\", \"id\": 4724448656}, {\"format\": \"png\", \"value\": \"image/png;base64,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\\n\", \"height\": 128, \"channels\": 3, \"width\": 128, \"type\": \"image\", \"id\": 4724448592}, {\"format\": \"png\", \"value\": \"image/png;base64,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\\n\", \"height\": 128, \"channels\": 3, \"width\": 128, \"type\": \"image\", \"id\": 4724448720}, {\"format\": \"png\", \"value\": \"image/png;base64,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\\n\", \"height\": 128, \"channels\": 3, \"width\": 128, \"type\": \"image\", \"id\": 4724448912}, {\"format\": \"png\", \"value\": \"image/png;base64,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\\n\", \"height\": 128, \"channels\": 3, \"width\": 128, \"type\": \"image\", \"id\": 4724448848}, {\"format\": \"png\", \"value\": \"image/png;base64,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\\n\", \"height\": 128, \"channels\": 3, \"width\": 128, \"type\": \"image\", \"id\": 4724448976}, {\"format\": \"png\", \"value\": \"image/png;base64,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\\n\", \"height\": 128, \"channels\": 3, \"width\": 128, \"type\": \"image\", \"id\": 4724459536}, {\"format\": \"png\", \"value\": \"image/png;base64,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\\n\", \"height\": 128, \"channels\": 3, \"width\": 128, \"type\": \"image\", \"id\": 4724459984}, {\"format\": \"png\", \"value\": \"image/png;base64,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\\n\", \"height\": 128, \"channels\": 3, \"width\": 128, \"type\": \"image\", \"id\": 4724459920}, {\"format\": \"png\", \"value\": \"image/png;base64,iVBORw0KGgoAAAANSUhEUgAAAIAAAACACAIAAABMXPacAAAP+0lEQVR4nO1dSXsU1xW91V09D+puDUgCAQLJAixi+8NgHHuJSRz/hPj/JVl4kS+JY+Mkxo4NNjYIMEEYCQkBGlCr53msLNS653Q+eZvH4p3Voaiuqu6ruve+Oz3n9lf/FhER6bT7cgCfX6k8f7Gm/OHyfeUeTpeFhQXlFy5cUB6JRJU3mw3lm5ubQhhJpZQ36nXlpUJBea1cUZ5OjigPBgLK3SCe2/E5yrvdtvJwJKS83W7xYwToUp7jw61rNdzCxS2OHDmiPBqL0jkuXRPXLxRKysulwdfBbSyMwArAMNxr1z7fZ5FITI+GQkHl9+7/qLxaKypnFbS8vKy8UoGuuHr1qvJGAyooHA7zQzjEWQ+cOHFCea1SVd5pQaW4fvwNlSt55b1eTzlrQr8vQJzvLIk4NFs2x5fCOclkXHm321HebOLxfL7D/6xZNY2kkoOTDz3V4v8GKwDDsAIwDDeVHriAf/3L3/To3Pxp5aNjGeXjE/AX61X4i81mU/nPjx4qP/PavPJEIqF8deVnfoh0Zkz58ZkZ5VXy/+rknvb60Mq9BiniFhSx60LXb7/cUd7q4LMZuq+IlMqwUn4/rGAs6tJZMBuxOExLq43HK5dgKbsdTznbBvVy7RtgGFYAhmEFYBjOytKdffbkyboevfbF58rzhZfK79y5o3z2+DHlE+Pjynnhvri4qPzDDz9UvrUNpSwisXhSeWIEzniLTEsoCKU8RrcLhaDr97IvlBfyUMTxOEzXaGYC90rguIjkc4h8xCi0kEhGlLO/H4nh1i93cOt6A+fEY2k83t6e8n6/u0/sG2AYVgCGYQVgGG63N1BGqRSU7/nz0N1378I7fvvCG8pjIWjGUhGB1kqprPze0l3l711+V/nsieP8EIEQRa1bCBFnpqeVJ5JYRoQolJTN7oLn8BjjY9D1qRSWMqEgHvvJOiLtMmzJUmmYpU6nSRxhqLUHj5WvrCAaNjk1qbyb4ah4V3k8Poi82TfAMKwADMMKwDDcYnEQ+PY5iHicPYsU49Ld75V7HrRYbi+rvFGnWD/lEuo1eMSc/wu4HF2RSgVmw6F0aIvsgVPH30qlgcDLHqUtw2HYiWgUPj4HdpotKPQ+fR0RyRfhpzcbMCftNj5SojgPmx8fpRk4/sPpDREc97yBbbBvgGFYARiGFYBhuJr+DZEzzgGWsbFR5etriOPHyKF2KLfap2A96/0bN75VHgiyZpTpmZPK/RTH9yhnyx/p0+2CtCbwPOj6XhcKt0U55L09KG6/O5QTdhw8uUfHy+WCHIbjx5GyTqUQ8+GUcLcH66i+v4gE3MFj2zfAMKwADMMKwDBcDQE1GtDX/T504PQ04jbl0nXloSSU7+zxOeVc/xMNoUbo4U+wH7ldeNki8sHvkCq4ePkd5dUqLSOq0ONUkST+Hulx0r5eDz5+na4TjWCd8T82IEpVi6EgViqRyOE5YZ9D5srDLxYO4zoU/pFWC/9oHKwt7BtgGFYAhmEFYBiu1ttsbyP3G4shqDKSxDrgzTdQel4v5pSPjeKcfB5ec4G414fqfraxwQ/xpz/+QfleDiGmy+8ghRBPYZnS7qAWKBGEKeoHcIsGJW+7XQRzRlIo7vS77O5LKOQQh6noefgzbdRwqWYTFo4ra8sVnLP7Er9qMAjbEAzYfMCrASsAw7ACMAxXHdgOKVbu7+GgPFfLzJ9G5jO7C01Xa0HvO0F4vl0q8vGHhxzwVhelRJ/+/c/Kn79AqdLVq79Rzr1BnENuNmit0MetU2nKJ4egiBsNKHER6XRwKa5uKlN3VKnEGQ78YseOoqTVoeWIj0wU9YBJwD9YW9g3wDCsAAzDCsAwnEe3b+6zQIAjGFBX3938jo5D621vryhfX3+inG1Jn3z/fD5P5wwlY0dHodO5D5T7vJJJFOqcPXtW+aVLiB3NHEWAnh91c/OZ8kwG5U+RKL6yiLTJBvTIhNTrlEbuc8wHFjESxjqgS49doc8KrSfCYbsOeDVgBWAYVgCGYQVgGK52DzuUWeemuw7lFJoNHG91cL7jhznKZ9F8wW1p0QQCdjVq8BORF89hn1+bR25ndBIf4XkP335zS/mTVRjYjz76rfJ3KbHjUuKlXseqiv0FEfH7kWCJJ2CrYzGc1u3ArehQv1+b3Ap2YcJhxP5e7iLO2O0Pfhn7BhiGFYBhWAEYhqt6MBCAMHisBNcorays4pwgr2JgA7pdVEcNl6bi/Fg0Rsfl1En0+/nJbBSKPAGDVkBUeNuiENdX168r/+HWTeVXrlxRPkXdE1x1KyKccOe8v0dly50eTJHPpV+AFmjlKkoOwhH8GiEKzEXCg7I2+wYYhhWAYVgBGIar8TKOXvFApRFq3tvZQeIlTuON2GZkUnDeY3F4wa4fUTYO/IlIlTLdGxtPladSSKSsPUXs79ixKeVT05gH4rpwzLle+Msv/6U8nUYV7eLieX6MOVqCeBQTrFSpf4RmyZHalyiVMQjZjADVGidisHyFg74S+wYYhhWAYVgBGIarrrrrBg89gzPgnJT/+dED5T6Hgy2I83DJaow0YN8bqohKZWA2QmH8Vzb/XPnsKTReH5mEHi9VEHrafgY+exI1xfwY2Sw68e7fx1cQkTOU57lCo0U4j+/3Q79Ho9D7zSbWB1yA1aI2RW5fHB0ZfNa+AYZhBWAYVgCG4Wriu0htyoEAtNXEBJTvxYsozt3dfqq8WEIxVr2Got1IBOuJUAicNamI9ITMhiCwPjmJRHwyCfNTKmM5wqGq4yexPuh0kWHnJj0qExga6iQit364rfwfX32t/OPff6x8cfFXyvM5fDwaxaN2qTWxnENPINcbaG+kfQMMwwrAMKwADAO62POonKiCiHazCQV9/vw55SuPMIxpgwI1o6MU9aa2twCtMzrdoeJcz4fTMiNwriMh/H3wZAwu2MqR+anS0I9kHNdJJLBu8Pr4yqPjMG8icpT6xYcaMargHqUfuFW9Q62JPPqcZ8zWKij4zW8czEgRC6OwAjAMKwDDQHEux3DabTjOIzRJlaenbm6ge+KTT9Bl12jCfvio0SNIGdFGc6g4d34BznWAJmb4HaQoOJ7T7kERv9jZVl4qofAmTDMFx0aRB56eQowoHB5KTXPzRbEAcxKN8hgTmCv+Zc6cwYircRr+V6Vcgo8yIjqT1r4BhmEFYBhWAIbhPF4azOTjZryhHbVI+fbJAY+RPVhdfaT8x9soyCkUEBfidgbPoY3KRBIjGKyapknZPg82IBqDCcnTbNgylZm26lDiuT3Um7ouPvvWm28rH6PGEBEJUBy/TvH9As0FXFlZOfQ424nZ2Vnlc3NIWU9OwhSNjQ32jrBvgGFYARiGFYBhOKv3fthn7Pv/Ejj3G/AhqBIM4ni1Bs24tIQNH+oUXdl5CYddRHJF6OuF02i0S0RhimpU1y80iJU35SlmYXJ6VMg/NYUh4JzIjccQxBeRiQnoaD/5+x2qmOKOh2IR+YBSCaufHG0EsZc9fODfxEGm3b4BhmEFYBhWAIbhLP94Y5+xv/9LPEx53QDldXlrmyhtbcOb9+6Rgl5bR8GPiCwv/0d5hMxJjKbl8TRUl+I8LoWYxpPYmC0e40HecNIbNNDD5xtKTSd5/yDS+zWaFd6lXjCudBqugEJFLO9Y/PgxNnxYXxtE0uwbYBhWAIZhBWAYzr0b1/fZ6ir6vzZoqB7vqjw/j8gGx4u4FSxMk1E5HyBcWU9bJItIvQZN+fAelg5rq9gXdGYGfWSX33tfeZuGdHvtoZJTxdbWlvJaFYlZLlUSkRS1DgQjMDM1ypTwdtVsWnZ2UJYaJxswMgKzpH1hQnkF+wYYhhWAYVgBGIYVgGGgUTuXw0KJDewoTcUdMrxBGNtuD4G2CrUkBGnbiwYN+ugODckQj3q7zyxgE7+dzU3l7RaCa9UqjHaH7TkV3gb5K4wj8XJkCo/NA71EuE97aOrVyAhidrEYDCmXMAcCuOzdu/eVz53m5g560oNck30DDMMKwDCsAAzD1WmEH3yAiRbcZra7i6rYQgGZk3QG0S7u7/PRVnji0OxB2mc6PTJUFev3cKmtZ0+Vl2hYRzJJ2xQ5uN/QbnikxFukxHkASJPmT7HiluFkS4B4vY61G++KzdZxuEjrNfoszJUbwIyRanWwoLNvgGFYARiGFYBhuOGDOU3c1Vaso/Kp06O2ghJ1SfRxzsQEtGEkighXh/IRCYp89VtDk5LyBUS7vvkaG+5VyjieTECB+jwo+yg54z2qGeAmDvb3GzTK1gsPBePCIWpXoXhhkAYzTR1Bft9PTXct2oMqFkUwjjf0K+RgQXWwn30DDMMKwDCsAAzD9R340T4fHOQo7x1HTn66hzR0MoqoiJDC9Wg/6dIetSeQl857VYjI0q1l5Qvz6HRoUH8grwO2XiDBkqelCd15KIvCDn42mz30uAyHj3gfWC5H47b1OjXm8f6B3MZSKKB4a30daa5g0A7tezVgBWAYVgCG4Ty7N/C7a034+/UWNFqVYzgZOOMhrmrqkfbtQ6g86jpPZao3v/2eH+LZBhrtLl26pPwBFWzxxNRmG4/HNsChMJRHUzy4s46rqSYmhho0OLYTodGy/JFfyo5UKdfPYw4j1JbCs0H0Ue0bYBhWAIZhBWAYzneffbLPun0o2WQaWixMWw3xiI3sDuJCpTw1Zwu84CePsbtCIYs1wbXPvuCHuPg25kC5lGp+srGmPBTHsiOeRpL29cXXladJ+SYTh++exzyTQXOgiNQpa12lGt7R0bFDP8IhJo4L8Qwp3nXJz1bzYG1h3wDDsAIwDCsAw3CbB2GZOCnZMOWEHdJoHBVJJynDSQH9zz79p/Lb36NC5uQMCntPnTzDDzE3i6nZG1sImJxbRI3QuTcxaPv1t8CnptFZF6PHLlPX3CbVF4UoBxAMDs2q5fmxYZrxFKU1gc+PP9lSEbfgRj6u/61TnoD3HdciX/sGGIYVgGFYARiGO3YQ4A4F4aU2qBKGB+/xHqPbmwjgXP/yuvIs1RFlqOUhRHWic6dgD0RkN4dBrEePIel68X1sxjZ/DmbD89PwJtqIp1VHjKhLm7QFaX4sK/ShvYpEPLJwHpm+PtWc8oYM4xMYzNRo4taxOG7RbuEX433jjkwOfnb7BhiGFYBhWAEYhrO1urTP4jQRqU6taN2h/C00Y7UI3//BT+imqxRhP5w+NGanhbxxqUSTN0ROncGEo4uXLypPUsyn3acBfqSg/QHocUcQkGm3cT7vU9ql2lA+LiIu6fcIzX11h7ajA3jEFet33p2i0+ZxuIiG9Xq2P+DVgBWAYVgBGIarTquP9DuPGK1QbQ9Xyzgezjl5YkZ5bxpe8+42inA2n71QPr+ArmsReevXyAeEoojPtKn1rEzzxIO0ZIn6UIjZaB8+6DVBuQGeS1Wj5Y4Mx/cTfnykT1WzbEJqVWTL/ZSO9tPywvFwTU4Z6KrIvgGGYQVgGP8FPPS/tsZUdMMAAAAASUVORK5CYII=\\n\", \"height\": 128, \"channels\": 3, \"width\": 128, \"type\": \"image\", \"id\": 4724461264}, {\"format\": \"png\", \"value\": \"image/png;base64,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\\n\", \"height\": 128, \"channels\": 3, \"width\": 128, \"type\": \"image\", \"id\": 4724460048}, {\"format\": \"png\", \"value\": \"image/png;base64,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\\n\", \"height\": 128, \"channels\": 3, \"width\": 128, \"type\": \"image\", \"id\": 4724459664}, {\"format\": \"png\", \"value\": \"image/png;base64,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\\n\", \"height\": 128, \"channels\": 3, \"width\": 128, \"type\": \"image\", \"id\": 4724460560}, {\"format\": \"png\", \"value\": \"image/png;base64,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\\n\", \"height\": 128, \"channels\": 3, \"width\": 128, \"type\": \"image\", \"id\": 4724461520}, {\"format\": \"png\", \"value\": \"image/png;base64,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\\n\", \"height\": 128, \"channels\": 3, \"width\": 128, \"type\": \"image\", \"id\": 4724459344}, {\"format\": \"png\", \"value\": \"image/png;base64,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\\n\", \"height\": 128, \"channels\": 3, \"width\": 128, \"type\": \"image\", \"id\": 4724459472}, {\"format\": \"png\", \"value\": \"image/png;base64,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\\n\", \"height\": 128, \"channels\": 3, \"width\": 128, \"type\": \"image\", \"id\": 4724461328}, {\"format\": \"png\", \"value\": \"image/png;base64,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\\n\", \"height\": 128, \"channels\": 3, \"width\": 128, \"type\": \"image\", \"id\": 4724460624}, {\"format\": \"png\", \"value\": \"image/png;base64,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\\n\", \"height\": 128, \"channels\": 3, \"width\": 128, \"type\": \"image\", \"id\": 4724459600}, {\"format\": \"png\", \"value\": \"image/png;base64,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\\n\", \"height\": 128, \"channels\": 3, \"width\": 128, \"type\": \"image\", \"id\": 4724459856}], \"selected_variable\": {\"name\": [\"<SArray>\"], \"dtype\": \"Image\", \"view_component\": \"Images\", \"view_file\": \"sarray\", \"descriptives\": {\"rows\": 2005}, \"type\": \"SArray\", \"view_components\": [\"Images\"]}}, e);\n",
        "                });\n",
        "            })();\n",
        "        "
       ],
       "metadata": {},
       "output_type": "display_data"
      }
     ],
     "prompt_number": 4
    },
    {
     "cell_type": "markdown",
     "metadata": {},
     "source": [
      "--------\n",
      "<img src=\"images/train.png\"></img>"
     ]
    },
    {
     "cell_type": "markdown",
     "metadata": {},
     "source": [
      "We now use the neuralnet_classifier provided by GraphLab Create to create a neural network for our data set. The create method picks a default network architecture for you based on the dataset. "
     ]
    },
    {
     "cell_type": "code",
     "collapsed": false,
     "input": [
      "raw_pixel_model = graphlab.logistic_classifier.create(image_train, features=['image_array'], target='label')"
     ],
     "language": "python",
     "metadata": {},
     "outputs": [
      {
       "html": [
        "<pre>PROGRESS: Logistic regression:</pre>"
       ],
       "metadata": {},
       "output_type": "display_data",
       "text": [
        "PROGRESS: Logistic regression:"
       ]
      },
      {
       "html": [
        "<pre>PROGRESS: --------------------------------------------------------</pre>"
       ],
       "metadata": {},
       "output_type": "display_data",
       "text": [
        "PROGRESS: --------------------------------------------------------"
       ]
      },
      {
       "html": [
        "<pre>PROGRESS: Number of examples          : 1902</pre>"
       ],
       "metadata": {},
       "output_type": "display_data",
       "text": [
        "PROGRESS: Number of examples          : 1902"
       ]
      },
      {
       "html": [
        "<pre>PROGRESS: Number of classes           : 4</pre>"
       ],
       "metadata": {},
       "output_type": "display_data",
       "text": [
        "PROGRESS: Number of classes           : 4"
       ]
      },
      {
       "html": [
        "<pre>PROGRESS: Number of feature columns   : 1</pre>"
       ],
       "metadata": {},
       "output_type": "display_data",
       "text": [
        "PROGRESS: Number of feature columns   : 1"
       ]
      },
      {
       "html": [
        "<pre>PROGRESS: Number of unpacked features : 3072</pre>"
       ],
       "metadata": {},
       "output_type": "display_data",
       "text": [
        "PROGRESS: Number of unpacked features : 3072"
       ]
      },
      {
       "html": [
        "<pre>PROGRESS: Number of coefficients    : 9219</pre>"
       ],
       "metadata": {},
       "output_type": "display_data",
       "text": [
        "PROGRESS: Number of coefficients    : 9219"
       ]
      },
      {
       "html": [
        "<pre>PROGRESS: Starting L-BFGS</pre>"
       ],
       "metadata": {},
       "output_type": "display_data",
       "text": [
        "PROGRESS: Starting L-BFGS"
       ]
      },
      {
       "html": [
        "<pre>PROGRESS: --------------------------------------------------------</pre>"
       ],
       "metadata": {},
       "output_type": "display_data",
       "text": [
        "PROGRESS: --------------------------------------------------------"
       ]
      },
      {
       "html": [
        "<pre>PROGRESS: +-----------+----------+-----------+--------------+-------------------+---------------------+</pre>"
       ],
       "metadata": {},
       "output_type": "display_data",
       "text": [
        "PROGRESS: +-----------+----------+-----------+--------------+-------------------+---------------------+"
       ]
      },
      {
       "html": [
        "<pre>PROGRESS: | Iteration | Passes   | Step size | Elapsed Time | Training-accuracy | Validation-accuracy |</pre>"
       ],
       "metadata": {},
       "output_type": "display_data",
       "text": [
        "PROGRESS: | Iteration | Passes   | Step size | Elapsed Time | Training-accuracy | Validation-accuracy |"
       ]
      },
      {
       "html": [
        "<pre>PROGRESS: +-----------+----------+-----------+--------------+-------------------+---------------------+</pre>"
       ],
       "metadata": {},
       "output_type": "display_data",
       "text": [
        "PROGRESS: +-----------+----------+-----------+--------------+-------------------+---------------------+"
       ]
      },
      {
       "html": [
        "<pre>PROGRESS: | 1         | 6        | 0.000010  | 3.915201     | 0.305994          | 0.310680            |</pre>"
       ],
       "metadata": {},
       "output_type": "display_data",
       "text": [
        "PROGRESS: | 1         | 6        | 0.000010  | 3.915201     | 0.305994          | 0.310680            |"
       ]
      },
      {
       "html": [
        "<pre>PROGRESS: | 2         | 8        | 1.000000  | 5.005213     | 0.380652          | 0.310680            |</pre>"
       ],
       "metadata": {},
       "output_type": "display_data",
       "text": [
        "PROGRESS: | 2         | 8        | 1.000000  | 5.005213     | 0.380652          | 0.310680            |"
       ]
      },
      {
       "html": [
        "<pre>PROGRESS: | 3         | 9        | 1.000000  | 5.642424     | 0.404837          | 0.388350            |</pre>"
       ],
       "metadata": {},
       "output_type": "display_data",
       "text": [
        "PROGRESS: | 3         | 9        | 1.000000  | 5.642424     | 0.404837          | 0.388350            |"
       ]
      },
      {
       "html": [
        "<pre>PROGRESS: | 4         | 10       | 1.000000  | 6.282546     | 0.413249          | 0.368932            |</pre>"
       ],
       "metadata": {},
       "output_type": "display_data",
       "text": [
        "PROGRESS: | 4         | 10       | 1.000000  | 6.282546     | 0.413249          | 0.368932            |"
       ]
      },
      {
       "html": [
        "<pre>PROGRESS: | 5         | 11       | 1.000000  | 6.935667     | 0.420610          | 0.398058            |</pre>"
       ],
       "metadata": {},
       "output_type": "display_data",
       "text": [
        "PROGRESS: | 5         | 11       | 1.000000  | 6.935667     | 0.420610          | 0.398058            |"
       ]
      },
      {
       "html": [
        "<pre>PROGRESS: | 6         | 12       | 1.000000  | 7.559418     | 0.364879          | 0.291262            |</pre>"
       ],
       "metadata": {},
       "output_type": "display_data",
       "text": [
        "PROGRESS: | 6         | 12       | 1.000000  | 7.559418     | 0.364879          | 0.291262            |"
       ]
      },
      {
       "html": [
        "<pre>PROGRESS: | 10        | 17       | 1.000000  | 10.457879    | 0.497371          | 0.436893            |</pre>"
       ],
       "metadata": {},
       "output_type": "display_data",
       "text": [
        "PROGRESS: | 10        | 17       | 1.000000  | 10.457879    | 0.497371          | 0.436893            |"
       ]
      },
      {
       "html": [
        "<pre>PROGRESS: +-----------+----------+-----------+--------------+-------------------+---------------------+</pre>"
       ],
       "metadata": {},
       "output_type": "display_data",
       "text": [
        "PROGRESS: +-----------+----------+-----------+--------------+-------------------+---------------------+"
       ]
      },
      {
       "output_type": "stream",
       "stream": "stdout",
       "text": [
        "PROGRESS: Creating a validation set from 5 percent of training data. This may take a while.\n",
        "          You can set ``validation_set=None`` to disable validation tracking.\n",
        "\n"
       ]
      }
     ],
     "prompt_number": 5
    },
    {
     "cell_type": "markdown",
     "metadata": {},
     "source": [
      "-----\n",
      "<img src=\"images/evaluate.png\"></img>\n",
      "In order to ensure that the deep learning model is acutally learning how to recognize the data, instead of memorizing features, we want to validate it with a dataset it hasn't seen before."
     ]
    },
    {
     "cell_type": "heading",
     "level": 3,
     "metadata": {},
     "source": [
      "Making a single prediction"
     ]
    },
    {
     "cell_type": "code",
     "collapsed": false,
     "input": [
      "graphlab.image_analysis.resize(image_test[0:1]['image'], 128, 128, 3).show()"
     ],
     "language": "python",
     "metadata": {},
     "outputs": [
      {
       "html": [
        "<pre>PROGRESS: Downloading http://static.turi.com/datasets/coursera/deep_learning/image_test_data/m_686d0b1bd5620cb1.0000 to /var/tmp/graphlab-piotrteterwak/98991/729e4e3f-ce1f-4319-a2fd-b57f4a6eea08.0000</pre>"
       ],
       "metadata": {},
       "output_type": "display_data",
       "text": [
        "PROGRESS: Downloading http://static.turi.com/datasets/coursera/deep_learning/image_test_data/m_686d0b1bd5620cb1.0000 to /var/tmp/graphlab-piotrteterwak/98991/729e4e3f-ce1f-4319-a2fd-b57f4a6eea08.0000"
       ]
      },
      {
       "javascript": [
        "$(\"head\").append($(\"<link/>\").attr({\n",
        "  rel:  \"stylesheet\",\n",
        "  type: \"text/css\",\n",
        "  href: \"//cdnjs.cloudflare.com/ajax/libs/font-awesome/4.1.0/css/font-awesome.min.css\"\n",
        "}));\n",
        "$(\"head\").append($(\"<link/>\").attr({\n",
        "  rel:  \"stylesheet\",\n",
        "  type: \"text/css\",\n",
        "  href: \"//turi.com/files/canvas/1.6/css/canvas.css\"\n",
        "}));\n",
        "\n",
        "            (function(){\n",
        "\n",
        "                var e = null;\n",
        "                if (typeof element == 'undefined') {\n",
        "                    var scripts = document.getElementsByTagName('script');\n",
        "                    var thisScriptTag = scripts[scripts.length-1];\n",
        "                    var parentDiv = thisScriptTag.parentNode;\n",
        "                    e = document.createElement('div');\n",
        "                    parentDiv.appendChild(e);\n",
        "                } else {\n",
        "                    e = element[0];\n",
        "                }\n",
        "\n",
        "                if (typeof requirejs !== 'undefined') {\n",
        "                    // disable load timeout; ipython_app.js is large and can take a while to load.\n",
        "                    requirejs.config({waitSeconds: 0});\n",
        "                }\n",
        "\n",
        "                require(['//turi.com/files/canvas/1.6/js/ipython_app.js'], function(IPythonApp){\n",
        "                    var app = new IPythonApp();\n",
        "                    app.attachView('sarray','Images', {\"ipython\": true, \"rows\": [{\"format\": \"png\", \"value\": \"image/png;base64,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\\n\", \"height\": 128, \"channels\": 3, \"width\": 128, \"type\": \"image\", \"id\": 4724317776}], \"selected_variable\": {\"name\": [\"<SArray>\"], \"dtype\": \"Image\", \"view_component\": \"Images\", \"view_file\": \"sarray\", \"descriptives\": {\"rows\": 1}, \"type\": \"SArray\", \"view_components\": [\"Images\"]}}, e);\n",
        "                });\n",
        "            })();\n",
        "        "
       ],
       "metadata": {},
       "output_type": "display_data"
      }
     ],
     "prompt_number": 6
    },
    {
     "cell_type": "code",
     "collapsed": false,
     "input": [
      "image_test[0:1]['label']"
     ],
     "language": "python",
     "metadata": {},
     "outputs": [
      {
       "metadata": {},
       "output_type": "pyout",
       "prompt_number": 7,
       "text": [
        "dtype: str\n",
        "Rows: 1\n",
        "['cat']"
       ]
      }
     ],
     "prompt_number": 7
    },
    {
     "cell_type": "code",
     "collapsed": false,
     "input": [
      "raw_pixel_model.predict(image_test[0:1])"
     ],
     "language": "python",
     "metadata": {},
     "outputs": [
      {
       "metadata": {},
       "output_type": "pyout",
       "prompt_number": 8,
       "text": [
        "dtype: str\n",
        "Rows: 1\n",
        "['dog']"
       ]
      }
     ],
     "prompt_number": 8
    },
    {
     "cell_type": "heading",
     "level": 3,
     "metadata": {},
     "source": [
      "Evaluating the model"
     ]
    },
    {
     "cell_type": "code",
     "collapsed": false,
     "input": [
      "raw_pixel_model.evaluate(image_test)"
     ],
     "language": "python",
     "metadata": {},
     "outputs": [
      {
       "metadata": {},
       "output_type": "pyout",
       "prompt_number": 31,
       "text": [
        "{'accuracy': 0.46225, 'confusion_matrix': Columns:\n",
        " \ttarget_label\tstr\n",
        " \tpredicted_label\tstr\n",
        " \tcount\tint\n",
        " \n",
        " Rows: 16\n",
        " \n",
        " Data:\n",
        " +--------------+-----------------+-------+\n",
        " | target_label | predicted_label | count |\n",
        " +--------------+-----------------+-------+\n",
        " |     dog      |       cat       |  149  |\n",
        " |  automobile  |       dog       |  190  |\n",
        " |     bird     |       dog       |  259  |\n",
        " |  automobile  |       cat       |   75  |\n",
        " |  automobile  |    automobile   |  602  |\n",
        " |     bird     |    automobile   |  106  |\n",
        " |     dog      |    automobile   |   93  |\n",
        " |     cat      |       dog       |  380  |\n",
        " |     dog      |       dog       |  485  |\n",
        " |     cat      |       cat       |  217  |\n",
        " +--------------+-----------------+-------+\n",
        " [16 rows x 3 columns]\n",
        " Note: Only the head of the SFrame is printed.\n",
        " You can use print_rows(num_rows=m, num_columns=n) to print more rows and columns.}"
       ]
      }
     ],
     "prompt_number": 31
    },
    {
     "cell_type": "markdown",
     "metadata": {},
     "source": [
      "<img src=\"images/linear.png\" width=\"50%\" height=\"50%\"></img>\n"
     ]
    },
    {
     "cell_type": "markdown",
     "metadata": {},
     "source": [
      "-----\n",
      "<img src=\"images/improve.png\"></img>\n",
      "Our network does well on the data, but we'd like to do better. How can we improve it? "
     ]
    },
    {
     "cell_type": "code",
     "collapsed": false,
     "input": [
      "# if you wanted to do this on your own\n",
      "# step 1: deep_learning_model = graphlab.load_model('imagenet_model/')\n",
      "# step 2: image_train['deep_features'] = deep_learning_model.extract_features(image_train)"
     ],
     "language": "python",
     "metadata": {},
     "outputs": [],
     "prompt_number": 10
    },
    {
     "cell_type": "code",
     "collapsed": false,
     "input": [
      "deep_model = graphlab.neuralnet_classifier.create(image_train, features=['image'], target='label')"
     ],
     "language": "python",
     "metadata": {},
     "outputs": [
      {
       "html": [
        "<pre>PROGRESS: Computing mean image...</pre>"
       ],
       "metadata": {},
       "output_type": "display_data",
       "text": [
        "PROGRESS: Computing mean image..."
       ]
      },
      {
       "html": [
        "<pre>PROGRESS: Done computing mean image.</pre>"
       ],
       "metadata": {},
       "output_type": "display_data",
       "text": [
        "PROGRESS: Done computing mean image."
       ]
      },
      {
       "html": [
        "<pre>PROGRESS: Creating neuralnet using cpu</pre>"
       ],
       "metadata": {},
       "output_type": "display_data",
       "text": [
        "PROGRESS: Creating neuralnet using cpu"
       ]
      },
      {
       "html": [
        "<pre>PROGRESS: Training with batch size = 100</pre>"
       ],
       "metadata": {},
       "output_type": "display_data",
       "text": [
        "PROGRESS: Training with batch size = 100"
       ]
      },
      {
       "html": [
        "<pre>PROGRESS: +-----------+----------+--------------+-------------------+---------------------+-----------------+</pre>"
       ],
       "metadata": {},
       "output_type": "display_data",
       "text": [
        "PROGRESS: +-----------+----------+--------------+-------------------+---------------------+-----------------+"
       ]
      },
      {
       "html": [
        "<pre>PROGRESS: | Iteration | Examples | Elapsed Time | Training-accuracy | Validation-accuracy | Examples/second |</pre>"
       ],
       "metadata": {},
       "output_type": "display_data",
       "text": [
        "PROGRESS: | Iteration | Examples | Elapsed Time | Training-accuracy | Validation-accuracy | Examples/second |"
       ]
      },
      {
       "html": [
        "<pre>PROGRESS: +-----------+----------+--------------+-------------------+---------------------+-----------------+</pre>"
       ],
       "metadata": {},
       "output_type": "display_data",
       "text": [
        "PROGRESS: +-----------+----------+--------------+-------------------+---------------------+-----------------+"
       ]
      },
      {
       "html": [
        "<pre>PROGRESS: | 1         | 2000     | 1.567609     | 0.305000          | 0.378641            | 1275.828613     |</pre>"
       ],
       "metadata": {},
       "output_type": "display_data",
       "text": [
        "PROGRESS: | 1         | 2000     | 1.567609     | 0.305000          | 0.378641            | 1275.828613     |"
       ]
      },
      {
       "html": [
        "<pre>PROGRESS: | 2         | 2000     | 2.797574     | 0.385500          | 0.504854            | 1626.391235     |</pre>"
       ],
       "metadata": {},
       "output_type": "display_data",
       "text": [
        "PROGRESS: | 2         | 2000     | 2.797574     | 0.385500          | 0.504854            | 1626.391235     |"
       ]
      },
      {
       "html": [
        "<pre>PROGRESS: | 3         | 2000     | 3.969070     | 0.447500          | 0.592233            | 1707.442139     |</pre>"
       ],
       "metadata": {},
       "output_type": "display_data",
       "text": [
        "PROGRESS: | 3         | 2000     | 3.969070     | 0.447500          | 0.592233            | 1707.442139     |"
       ]
      },
      {
       "html": [
        "<pre>PROGRESS: | 4         | 2000     | 5.235676     | 0.505500          | 0.553398            | 1579.210205     |</pre>"
       ],
       "metadata": {},
       "output_type": "display_data",
       "text": [
        "PROGRESS: | 4         | 2000     | 5.235676     | 0.505500          | 0.553398            | 1579.210205     |"
       ]
      },
      {
       "html": [
        "<pre>PROGRESS: | 5         | 2000     | 6.448314     | 0.549000          | 0.592233            | 1649.498657     |</pre>"
       ],
       "metadata": {},
       "output_type": "display_data",
       "text": [
        "PROGRESS: | 5         | 2000     | 6.448314     | 0.549000          | 0.592233            | 1649.498657     |"
       ]
      },
      {
       "html": [
        "<pre>PROGRESS: | 6         | 2000     | 7.728839     | 0.567000          | 0.601942            | 1562.195190     |</pre>"
       ],
       "metadata": {},
       "output_type": "display_data",
       "text": [
        "PROGRESS: | 6         | 2000     | 7.728839     | 0.567000          | 0.601942            | 1562.195190     |"
       ]
      },
      {
       "html": [
        "<pre>PROGRESS: | 7         | 2000     | 9.101758     | 0.574500          | 0.631068            | 1456.916870     |</pre>"
       ],
       "metadata": {},
       "output_type": "display_data",
       "text": [
        "PROGRESS: | 7         | 2000     | 9.101758     | 0.574500          | 0.631068            | 1456.916870     |"
       ]
      },
      {
       "html": [
        "<pre>PROGRESS: | 8         | 2000     | 10.345062    | 0.599000          | 0.660194            | 1608.810547     |</pre>"
       ],
       "metadata": {},
       "output_type": "display_data",
       "text": [
        "PROGRESS: | 8         | 2000     | 10.345062    | 0.599000          | 0.660194            | 1608.810547     |"
       ]
      },
      {
       "html": [
        "<pre>PROGRESS: | 9         | 2000     | 11.642864    | 0.623000          | 0.621359            | 1541.266968     |</pre>"
       ],
       "metadata": {},
       "output_type": "display_data",
       "text": [
        "PROGRESS: | 9         | 2000     | 11.642864    | 0.623000          | 0.621359            | 1541.266968     |"
       ]
      },
      {
       "html": [
        "<pre>PROGRESS: | 10        | 2000     | 12.812695    | 0.630000          | 0.650485            | 1709.868774     |</pre>"
       ],
       "metadata": {},
       "output_type": "display_data",
       "text": [
        "PROGRESS: | 10        | 2000     | 12.812695    | 0.630000          | 0.650485            | 1709.868774     |"
       ]
      }
     ],
     "prompt_number": 11
    },
    {
     "cell_type": "heading",
     "level": 3,
     "metadata": {},
     "source": [
      "Evaluating the Improved Model"
     ]
    },
    {
     "cell_type": "code",
     "collapsed": false,
     "input": [
      "graphlab.image_analysis.resize(image_test[0:1]['image'], 128, 128, 3).show()"
     ],
     "language": "python",
     "metadata": {},
     "outputs": [
      {
       "javascript": [
        "$(\"head\").append($(\"<link/>\").attr({\n",
        "  rel:  \"stylesheet\",\n",
        "  type: \"text/css\",\n",
        "  href: \"//cdnjs.cloudflare.com/ajax/libs/font-awesome/4.1.0/css/font-awesome.min.css\"\n",
        "}));\n",
        "$(\"head\").append($(\"<link/>\").attr({\n",
        "  rel:  \"stylesheet\",\n",
        "  type: \"text/css\",\n",
        "  href: \"//turi.com/files/canvas/1.6/css/canvas.css\"\n",
        "}));\n",
        "\n",
        "            (function(){\n",
        "\n",
        "                var e = null;\n",
        "                if (typeof element == 'undefined') {\n",
        "                    var scripts = document.getElementsByTagName('script');\n",
        "                    var thisScriptTag = scripts[scripts.length-1];\n",
        "                    var parentDiv = thisScriptTag.parentNode;\n",
        "                    e = document.createElement('div');\n",
        "                    parentDiv.appendChild(e);\n",
        "                } else {\n",
        "                    e = element[0];\n",
        "                }\n",
        "\n",
        "                if (typeof requirejs !== 'undefined') {\n",
        "                    // disable load timeout; ipython_app.js is large and can take a while to load.\n",
        "                    requirejs.config({waitSeconds: 0});\n",
        "                }\n",
        "\n",
        "                require(['//turi.com/files/canvas/1.6/js/ipython_app.js'], function(IPythonApp){\n",
        "                    var app = new IPythonApp();\n",
        "                    app.attachView('sarray','Images', {\"ipython\": true, \"rows\": [{\"format\": \"png\", \"value\": \"image/png;base64,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\\n\", \"height\": 128, \"channels\": 3, \"width\": 128, \"type\": \"image\", \"id\": 4721503312}], \"selected_variable\": {\"name\": [\"<SArray>\"], \"dtype\": \"Image\", \"view_component\": \"Images\", \"view_file\": \"sarray\", \"descriptives\": {\"rows\": 1}, \"type\": \"SArray\", \"view_components\": [\"Images\"]}}, e);\n",
        "                });\n",
        "            })();\n",
        "        "
       ],
       "metadata": {},
       "output_type": "display_data"
      }
     ],
     "prompt_number": 17
    },
    {
     "cell_type": "code",
     "collapsed": false,
     "input": [
      "image_test[0:1]['label']"
     ],
     "language": "python",
     "metadata": {},
     "outputs": [
      {
       "metadata": {},
       "output_type": "pyout",
       "prompt_number": 18,
       "text": [
        "dtype: str\n",
        "Rows: 1\n",
        "['cat']"
       ]
      }
     ],
     "prompt_number": 18
    },
    {
     "cell_type": "code",
     "collapsed": false,
     "input": [
      "deep_model.predict(image_test[0:1])"
     ],
     "language": "python",
     "metadata": {},
     "outputs": [
      {
       "metadata": {},
       "output_type": "pyout",
       "prompt_number": 19,
       "text": [
        "dtype: str\n",
        "Rows: 1\n",
        "['cat']"
       ]
      }
     ],
     "prompt_number": 19
    },
    {
     "cell_type": "code",
     "collapsed": false,
     "input": [
      "deep_model.evaluate(image_test)\n"
     ],
     "language": "python",
     "metadata": {},
     "outputs": [
      {
       "metadata": {},
       "output_type": "pyout",
       "prompt_number": 32,
       "text": [
        "{'accuracy': 0.597000002861023, 'confusion_matrix': Columns:\n",
        " \ttarget_label\tstr\n",
        " \tpredicted_label\tstr\n",
        " \tcount\tint\n",
        " \n",
        " Rows: 16\n",
        " \n",
        " Data:\n",
        " +--------------+-----------------+-------+\n",
        " | target_label | predicted_label | count |\n",
        " +--------------+-----------------+-------+\n",
        " |     bird     |       bird      |  511  |\n",
        " |     cat      |       bird      |  104  |\n",
        " |     dog      |       bird      |  134  |\n",
        " |  automobile  |       bird      |   25  |\n",
        " |     bird     |       cat       |  186  |\n",
        " |     cat      |       cat       |  521  |\n",
        " |     dog      |       cat       |  320  |\n",
        " |  automobile  |       cat       |   56  |\n",
        " |     bird     |       dog       |  164  |\n",
        " |     cat      |       dog       |  244  |\n",
        " +--------------+-----------------+-------+\n",
        " [16 rows x 3 columns]\n",
        " Note: Only the head of the SFrame is printed.\n",
        " You can use print_rows(num_rows=m, num_columns=n) to print more rows and columns.}"
       ]
      }
     ],
     "prompt_number": 32
    },
    {
     "cell_type": "markdown",
     "metadata": {},
     "source": [
      "<img src=\"images/quadratic.png\" width=\"50%\" height=\"50%\"></img>\n"
     ]
    },
    {
     "cell_type": "heading",
     "level": 3,
     "metadata": {},
     "source": [
      "Improving the model further with Deep Features"
     ]
    },
    {
     "cell_type": "code",
     "collapsed": false,
     "input": [
      "deep_features_model = graphlab.logistic_classifier.create(image_train, features=['deep_features'], target='label')"
     ],
     "language": "python",
     "metadata": {},
     "outputs": [
      {
       "html": [
        "<pre>PROGRESS: WARNING: Detected extremely low variance for feature(s) 'deep_features' because all entries are nearly the same.\n",
        "Proceeding with model training using all features. If the model does not provide results of adequate quality, exclude the above mentioned feature(s) from the input dataset.</pre>"
       ],
       "metadata": {},
       "output_type": "display_data",
       "text": [
        "PROGRESS: WARNING: Detected extremely low variance for feature(s) 'deep_features' because all entries are nearly the same.\n",
        "Proceeding with model training using all features. If the model does not provide results of adequate quality, exclude the above mentioned feature(s) from the input dataset."
       ]
      },
      {
       "html": [
        "<pre>PROGRESS: Logistic regression:</pre>"
       ],
       "metadata": {},
       "output_type": "display_data",
       "text": [
        "PROGRESS: Logistic regression:"
       ]
      },
      {
       "html": [
        "<pre>PROGRESS: --------------------------------------------------------</pre>"
       ],
       "metadata": {},
       "output_type": "display_data",
       "text": [
        "PROGRESS: --------------------------------------------------------"
       ]
      },
      {
       "html": [
        "<pre>PROGRESS: Number of examples          : 1903</pre>"
       ],
       "metadata": {},
       "output_type": "display_data",
       "text": [
        "PROGRESS: Number of examples          : 1903"
       ]
      },
      {
       "html": [
        "<pre>PROGRESS: Number of classes           : 4</pre>"
       ],
       "metadata": {},
       "output_type": "display_data",
       "text": [
        "PROGRESS: Number of classes           : 4"
       ]
      },
      {
       "html": [
        "<pre>PROGRESS: Number of feature columns   : 1</pre>"
       ],
       "metadata": {},
       "output_type": "display_data",
       "text": [
        "PROGRESS: Number of feature columns   : 1"
       ]
      },
      {
       "html": [
        "<pre>PROGRESS: Number of unpacked features : 4096</pre>"
       ],
       "metadata": {},
       "output_type": "display_data",
       "text": [
        "PROGRESS: Number of unpacked features : 4096"
       ]
      },
      {
       "html": [
        "<pre>PROGRESS: Number of coefficients    : 12291</pre>"
       ],
       "metadata": {},
       "output_type": "display_data",
       "text": [
        "PROGRESS: Number of coefficients    : 12291"
       ]
      },
      {
       "html": [
        "<pre>PROGRESS: Starting L-BFGS</pre>"
       ],
       "metadata": {},
       "output_type": "display_data",
       "text": [
        "PROGRESS: Starting L-BFGS"
       ]
      },
      {
       "html": [
        "<pre>PROGRESS: --------------------------------------------------------</pre>"
       ],
       "metadata": {},
       "output_type": "display_data",
       "text": [
        "PROGRESS: --------------------------------------------------------"
       ]
      },
      {
       "html": [
        "<pre>PROGRESS: +-----------+----------+-----------+--------------+-------------------+---------------------+</pre>"
       ],
       "metadata": {},
       "output_type": "display_data",
       "text": [
        "PROGRESS: +-----------+----------+-----------+--------------+-------------------+---------------------+"
       ]
      },
      {
       "html": [
        "<pre>PROGRESS: | Iteration | Passes   | Step size | Elapsed Time | Training-accuracy | Validation-accuracy |</pre>"
       ],
       "metadata": {},
       "output_type": "display_data",
       "text": [
        "PROGRESS: | Iteration | Passes   | Step size | Elapsed Time | Training-accuracy | Validation-accuracy |"
       ]
      },
      {
       "html": [
        "<pre>PROGRESS: +-----------+----------+-----------+--------------+-------------------+---------------------+</pre>"
       ],
       "metadata": {},
       "output_type": "display_data",
       "text": [
        "PROGRESS: +-----------+----------+-----------+--------------+-------------------+---------------------+"
       ]
      },
      {
       "html": [
        "<pre>PROGRESS: | 1         | 5        | 0.000131  | 4.282864     | 0.743037          | 0.715686            |</pre>"
       ],
       "metadata": {},
       "output_type": "display_data",
       "text": [
        "PROGRESS: | 1         | 5        | 0.000131  | 4.282864     | 0.743037          | 0.715686            |"
       ]
      },
      {
       "html": [
        "<pre>PROGRESS: | 2         | 9        | 0.250000  | 7.641871     | 0.768786          | 0.735294            |</pre>"
       ],
       "metadata": {},
       "output_type": "display_data",
       "text": [
        "PROGRESS: | 2         | 9        | 0.250000  | 7.641871     | 0.768786          | 0.735294            |"
       ]
      },
      {
       "html": [
        "<pre>PROGRESS: | 3         | 10       | 0.250000  | 8.691117     | 0.771939          | 0.735294            |</pre>"
       ],
       "metadata": {},
       "output_type": "display_data",
       "text": [
        "PROGRESS: | 3         | 10       | 0.250000  | 8.691117     | 0.771939          | 0.735294            |"
       ]
      },
      {
       "html": [
        "<pre>PROGRESS: | 4         | 11       | 0.250000  | 9.755411     | 0.778245          | 0.754902            |</pre>"
       ],
       "metadata": {},
       "output_type": "display_data",
       "text": [
        "PROGRESS: | 4         | 11       | 0.250000  | 9.755411     | 0.778245          | 0.754902            |"
       ]
      },
      {
       "html": [
        "<pre>PROGRESS: | 5         | 12       | 0.250000  | 10.764233    | 0.784025          | 0.745098            |</pre>"
       ],
       "metadata": {},
       "output_type": "display_data",
       "text": [
        "PROGRESS: | 5         | 12       | 0.250000  | 10.764233    | 0.784025          | 0.745098            |"
       ]
      },
      {
       "html": [
        "<pre>PROGRESS: | 6         | 13       | 0.250000  | 11.726264    | 0.793484          | 0.774510            |</pre>"
       ],
       "metadata": {},
       "output_type": "display_data",
       "text": [
        "PROGRESS: | 6         | 13       | 0.250000  | 11.726264    | 0.793484          | 0.774510            |"
       ]
      },
      {
       "html": [
        "<pre>PROGRESS: | 7         | 14       | 0.250000  | 12.695556    | 0.818707          | 0.803922            |</pre>"
       ],
       "metadata": {},
       "output_type": "display_data",
       "text": [
        "PROGRESS: | 7         | 14       | 0.250000  | 12.695556    | 0.818707          | 0.803922            |"
       ]
      },
      {
       "html": [
        "<pre>PROGRESS: | 8         | 15       | 0.250000  | 13.687111    | 0.843405          | 0.784314            |</pre>"
       ],
       "metadata": {},
       "output_type": "display_data",
       "text": [
        "PROGRESS: | 8         | 15       | 0.250000  | 13.687111    | 0.843405          | 0.784314            |"
       ]
      },
      {
       "html": [
        "<pre>PROGRESS: | 9         | 16       | 0.250000  | 14.631095    | 0.856017          | 0.803922            |</pre>"
       ],
       "metadata": {},
       "output_type": "display_data",
       "text": [
        "PROGRESS: | 9         | 16       | 0.250000  | 14.631095    | 0.856017          | 0.803922            |"
       ]
      },
      {
       "html": [
        "<pre>PROGRESS: | 10        | 17       | 0.250000  | 15.605435    | 0.865476          | 0.803922            |</pre>"
       ],
       "metadata": {},
       "output_type": "display_data",
       "text": [
        "PROGRESS: | 10        | 17       | 0.250000  | 15.605435    | 0.865476          | 0.803922            |"
       ]
      },
      {
       "html": [
        "<pre>PROGRESS: +-----------+----------+-----------+--------------+-------------------+---------------------+</pre>"
       ],
       "metadata": {},
       "output_type": "display_data",
       "text": [
        "PROGRESS: +-----------+----------+-----------+--------------+-------------------+---------------------+"
       ]
      },
      {
       "output_type": "stream",
       "stream": "stdout",
       "text": [
        "PROGRESS: Creating a validation set from 5 percent of training data. This may take a while.\n",
        "          You can set ``validation_set=None`` to disable validation tracking.\n",
        "\n"
       ]
      }
     ],
     "prompt_number": 21
    },
    {
     "cell_type": "heading",
     "level": 3,
     "metadata": {},
     "source": [
      "Evaluating the deep model"
     ]
    },
    {
     "cell_type": "code",
     "collapsed": false,
     "input": [
      "deep_features_model.evaluate(image_test)\n"
     ],
     "language": "python",
     "metadata": {},
     "outputs": [
      {
       "metadata": {},
       "output_type": "pyout",
       "prompt_number": 33,
       "text": [
        "{'accuracy': 0.784, 'confusion_matrix': Columns:\n",
        " \ttarget_label\tstr\n",
        " \tpredicted_label\tstr\n",
        " \tcount\tint\n",
        " \n",
        " Rows: 16\n",
        " \n",
        " Data:\n",
        " +--------------+-----------------+-------+\n",
        " | target_label | predicted_label | count |\n",
        " +--------------+-----------------+-------+\n",
        " |  automobile  |       cat       |   14  |\n",
        " |     dog      |       cat       |  232  |\n",
        " |  automobile  |       dog       |   5   |\n",
        " |     cat      |       bird      |   69  |\n",
        " |     bird     |       dog       |   58  |\n",
        " |     dog      |       bird      |   43  |\n",
        " |     cat      |    automobile   |   38  |\n",
        " |     bird     |       cat       |  133  |\n",
        " |     dog      |    automobile   |   21  |\n",
        " |     dog      |       dog       |  704  |\n",
        " +--------------+-----------------+-------+\n",
        " [16 rows x 3 columns]\n",
        " Note: Only the head of the SFrame is printed.\n",
        " You can use print_rows(num_rows=m, num_columns=n) to print more rows and columns.}"
       ]
      }
     ],
     "prompt_number": 33
    },
    {
     "cell_type": "markdown",
     "metadata": {},
     "source": [
      "<img src=\"images/AA1.png\"></img>\n"
     ]
    },
    {
     "cell_type": "markdown",
     "metadata": {},
     "source": [
      "-----------------------\n",
      "\n",
      "\n",
      "\n",
      "Finding Similar Images\n",
      "===================="
     ]
    },
    {
     "cell_type": "markdown",
     "metadata": {},
     "source": [
      "<img src=\"images/workflow3.png\"></img>\n"
     ]
    },
    {
     "cell_type": "code",
     "collapsed": false,
     "input": [
      "nearest_neighbors_model = graphlab.nearest_neighbors.create(image_train, features=['deep_features'],\n",
      "                                                            label='id')"
     ],
     "language": "python",
     "metadata": {},
     "outputs": [
      {
       "html": [
        "<pre>PROGRESS: Starting brute force nearest neighbors model training.</pre>"
       ],
       "metadata": {},
       "output_type": "display_data",
       "text": [
        "PROGRESS: Starting brute force nearest neighbors model training."
       ]
      }
     ],
     "prompt_number": 23
    },
    {
     "cell_type": "code",
     "collapsed": false,
     "input": [
      "def get_nearest_neighbors(image):\n",
      "    ans = nearest_neighbors_model.query(image)\n",
      "    return image_train.filter_by(ans['reference_label'],'id')"
     ],
     "language": "python",
     "metadata": {},
     "outputs": [],
     "prompt_number": 24
    },
    {
     "cell_type": "markdown",
     "metadata": {},
     "source": [
      "<img src=\"images/workflow4.png\"></img>\n"
     ]
    },
    {
     "cell_type": "heading",
     "level": 3,
     "metadata": {},
     "source": [
      "Similar Images: Cat Photo"
     ]
    },
    {
     "cell_type": "code",
     "collapsed": false,
     "input": [
      "cat = image_train[18:19]\n",
      "graphlab.image_analysis.resize(cat['image'],128,128,3).show()"
     ],
     "language": "python",
     "metadata": {},
     "outputs": [
      {
       "javascript": [
        "$(\"head\").append($(\"<link/>\").attr({\n",
        "  rel:  \"stylesheet\",\n",
        "  type: \"text/css\",\n",
        "  href: \"//cdnjs.cloudflare.com/ajax/libs/font-awesome/4.1.0/css/font-awesome.min.css\"\n",
        "}));\n",
        "$(\"head\").append($(\"<link/>\").attr({\n",
        "  rel:  \"stylesheet\",\n",
        "  type: \"text/css\",\n",
        "  href: \"//turi.com/files/canvas/1.6/css/canvas.css\"\n",
        "}));\n",
        "\n",
        "            (function(){\n",
        "\n",
        "                var e = null;\n",
        "                if (typeof element == 'undefined') {\n",
        "                    var scripts = document.getElementsByTagName('script');\n",
        "                    var thisScriptTag = scripts[scripts.length-1];\n",
        "                    var parentDiv = thisScriptTag.parentNode;\n",
        "                    e = document.createElement('div');\n",
        "                    parentDiv.appendChild(e);\n",
        "                } else {\n",
        "                    e = element[0];\n",
        "                }\n",
        "\n",
        "                if (typeof requirejs !== 'undefined') {\n",
        "                    // disable load timeout; ipython_app.js is large and can take a while to load.\n",
        "                    requirejs.config({waitSeconds: 0});\n",
        "                }\n",
        "\n",
        "                require(['//turi.com/files/canvas/1.6/js/ipython_app.js'], function(IPythonApp){\n",
        "                    var app = new IPythonApp();\n",
        "                    app.attachView('sarray','Images', {\"ipython\": true, \"rows\": [{\"format\": \"png\", \"value\": \"image/png;base64,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\\n\", \"height\": 128, \"channels\": 3, \"width\": 128, \"type\": \"image\", \"id\": 4721545040}], \"selected_variable\": {\"name\": [\"<SArray>\"], \"dtype\": \"Image\", \"view_component\": \"Images\", \"view_file\": \"sarray\", \"descriptives\": {\"rows\": 1}, \"type\": \"SArray\", \"view_components\": [\"Images\"]}}, e);\n",
        "                });\n",
        "            })();\n",
        "        "
       ],
       "metadata": {},
       "output_type": "display_data"
      }
     ],
     "prompt_number": 26
    },
    {
     "cell_type": "code",
     "collapsed": false,
     "input": [
      "graphlab.image_analysis.resize(get_nearest_neighbors(cat)['image'],128,128,3).show()"
     ],
     "language": "python",
     "metadata": {},
     "outputs": [
      {
       "html": [
        "<pre>PROGRESS: Starting pairwise querying.</pre>"
       ],
       "metadata": {},
       "output_type": "display_data",
       "text": [
        "PROGRESS: Starting pairwise querying."
       ]
      },
      {
       "html": [
        "<pre>PROGRESS: +--------------+---------+-------------+--------------+</pre>"
       ],
       "metadata": {},
       "output_type": "display_data",
       "text": [
        "PROGRESS: +--------------+---------+-------------+--------------+"
       ]
      },
      {
       "html": [
        "<pre>PROGRESS: | Query points | # Pairs | % Complete. | Elapsed Time |</pre>"
       ],
       "metadata": {},
       "output_type": "display_data",
       "text": [
        "PROGRESS: | Query points | # Pairs | % Complete. | Elapsed Time |"
       ]
      },
      {
       "html": [
        "<pre>PROGRESS: +--------------+---------+-------------+--------------+</pre>"
       ],
       "metadata": {},
       "output_type": "display_data",
       "text": [
        "PROGRESS: +--------------+---------+-------------+--------------+"
       ]
      },
      {
       "html": [
        "<pre>PROGRESS: | 0            | 1       | 0.0498753   | 27.056ms     |</pre>"
       ],
       "metadata": {},
       "output_type": "display_data",
       "text": [
        "PROGRESS: | 0            | 1       | 0.0498753   | 27.056ms     |"
       ]
      },
      {
       "html": [
        "<pre>PROGRESS: | Done         |         | 100         | 350.123ms    |</pre>"
       ],
       "metadata": {},
       "output_type": "display_data",
       "text": [
        "PROGRESS: | Done         |         | 100         | 350.123ms    |"
       ]
      },
      {
       "html": [
        "<pre>PROGRESS: +--------------+---------+-------------+--------------+</pre>"
       ],
       "metadata": {},
       "output_type": "display_data",
       "text": [
        "PROGRESS: +--------------+---------+-------------+--------------+"
       ]
      },
      {
       "javascript": [
        "$(\"head\").append($(\"<link/>\").attr({\n",
        "  rel:  \"stylesheet\",\n",
        "  type: \"text/css\",\n",
        "  href: \"//cdnjs.cloudflare.com/ajax/libs/font-awesome/4.1.0/css/font-awesome.min.css\"\n",
        "}));\n",
        "$(\"head\").append($(\"<link/>\").attr({\n",
        "  rel:  \"stylesheet\",\n",
        "  type: \"text/css\",\n",
        "  href: \"//turi.com/files/canvas/1.6/css/canvas.css\"\n",
        "}));\n",
        "\n",
        "            (function(){\n",
        "\n",
        "                var e = null;\n",
        "                if (typeof element == 'undefined') {\n",
        "                    var scripts = document.getElementsByTagName('script');\n",
        "                    var thisScriptTag = scripts[scripts.length-1];\n",
        "                    var parentDiv = thisScriptTag.parentNode;\n",
        "                    e = document.createElement('div');\n",
        "                    parentDiv.appendChild(e);\n",
        "                } else {\n",
        "                    e = element[0];\n",
        "                }\n",
        "\n",
        "                if (typeof requirejs !== 'undefined') {\n",
        "                    // disable load timeout; ipython_app.js is large and can take a while to load.\n",
        "                    requirejs.config({waitSeconds: 0});\n",
        "                }\n",
        "\n",
        "                require(['//turi.com/files/canvas/1.6/js/ipython_app.js'], function(IPythonApp){\n",
        "                    var app = new IPythonApp();\n",
        "                    app.attachView('sarray','Images', {\"ipython\": true, \"rows\": [{\"format\": \"png\", \"value\": \"image/png;base64,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\\n\", \"height\": 128, \"channels\": 3, \"width\": 128, \"type\": \"image\", \"id\": 4721544592}, {\"format\": \"png\", \"value\": \"image/png;base64,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\\n\", \"height\": 128, \"channels\": 3, \"width\": 128, \"type\": \"image\", \"id\": 4721541904}, {\"format\": \"png\", \"value\": \"image/png;base64,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\\n\", \"height\": 128, \"channels\": 3, \"width\": 128, \"type\": \"image\", \"id\": 4721512720}, {\"format\": \"png\", \"value\": \"image/png;base64,iVBORw0KGgoAAAANSUhEUgAAAIAAAACACAIAAABMXPacAAAO30lEQVR4nO2dyZLb1hWGL4ALgHOz1d2S5SGOpSpXEifZ5zHzEMnbJDsn5aES21FJrRZ7YJMgZiCLkPg/VJxtbi/uvzqiQPKCp3HmIfjjn/9kjDHGXFxcmBOurq4GerlYDnQYRQNd993P0lHbDnTaNQNtjei+rw3QBfqvoCv1elUMdNvpY00vsmn13g5f3Xa6qNLpTN/pq8N2dAzT4xhRMtB1b/V6qF9gNpvo6/oAt5MO9GKtX3IyX+ur4+N7Q+PhFJ4BjmE//fzz/1Dn65Ve7vTQ7nZ3Ax3pOTNBFIsO9JB25W6gHx/+NdDFvei2eOAh6vqg/ypz0RRBjeRDVUt0VFU10GmqZz+M9LfVxJIbxujW9g/3PEZT6mNni2d6Qzgd6A+3t/rqJgct6dfj+o9ffzXQr3//h4Fev3x9PKfxcArPAMfwDHAMO1sdRX8fSsDXpYRvFEi6JVbX9M1+oJu9ZHq2+XGg7998PdCH258GOqhlaxpjYqgTm4qOJ7IFJzFehxXbZo8DnSbzgV4vJcSTM9l/RSHBnX94y2N0OFWzl6poAh0jDvX69eZmoPeP24GOcDvbBx3PJDLof7U8mqf+CXAMzwDH8AxwDGuTo8BqG0lAG8qPDxvpg91GhvP99Q8Dnd98r48sNnpvJd0wNTLY40QGuzHG2tlA9xP5910i+z2ADpjNJEyDVO89HCTf+1T6IJk+H+ibzRt9frDgMZIZjhFI291t5AlVCDOsLj/TMSK9N9tK7gcGt9BBg54Uq38CHMMzwDE8AxzD2hMLmkp2/fbNdwP98OPfBrq+l+HcHiQZg0B6IonF1B6B4wpB3RoS1hgTBTKu+0o2frlTjKgqsoEOcX1g9bF5LZclb3WMy1rX3NxJRQWzkQ7IG2mpuxvFfFYTuRErhKn3iP+0C13TxlJR5x+/GujFi48HujuF1fwT4BieAY7hGeAYNjrFx/dbCcd/fP2XgW42Pwz0opcg7hsJ6HjK3ICi4SaU8G2QIwwiBujNai0BOp0rLZFl+ooP76RmHh/lXuxh+++hA+yj0hIPhb46SnW89bmysMaYLtPdmVj6IJmf6S1nku/2IK0Z5FJdaaSvOP/kF7p+Ktek649H8k+AY3gGOIZngGPY4GT87jay8au99ME8hS2fSzLWqAeZdtIBSSS5HycK7PQtIuzQB8aY23vJ9AKBl7xCiUqNBCz+bHLkeB8K6YzigNDW2S8H+tVnrwc6TXRUY0wcS9ZfXXw60NlOsZ13m/cDXXf6NfJWd7TLpUvSg1TXWa2jtrXXAU8DngGO4RngGLYtj3Kz2H7Aq7Jw+170oYTliyK9AwI47V6COJkgaAOfoA9Hwtfgo2rU/+xgy9sQpYkoU2RQycK9iBCIX60vB3q9Vm6gRw2SMWaJeI6N9cHfPigu9ObmnU4d6y5a5I3v97qFVSG6qaUnOp8PeCLwDHAMzwDHsPnuaIM/wg9gfeehlhV8gKEdWlTLILTT9fpHQakHcR3akQ5IU7kLCeT4zMq9aKFmatSGmkZqJobcjyZK0q7mCuDM8V09S96Nqfa66+sH2fuba6WRI2bLkaa+e9B7s4OOVPyP8tbu5BX5J8AxPAMcwzPAMezjh2MpZ34nSVdB1uclKt87Mcwi+B4EEL6RhOxkqehKi3YlJniNMeVe5UZ9XeEyCdAKAhSaxZQU4whDdQg37ZA/eH8jVbd/UNzJGNOUOtWBR8JXv0CZaZhKC16iu6KJVDtk5zqSjXRrwalKyj8BjuEZ4BieAY5hd3fHIvc63+N1NF0a2uywZNFHFiK2Q/8ANrqJUFETRhLuxpgSaYYS8ZltpiOVLMIJ9HcTIuUwmcv238Ew/+6bvw70zbXaFx7HPWKxxcf27IrQ3b18+XKgn18oxNTDZSnhjpSBjhfxF2t9PuBpwDPAMTwDHMMzwDFsdnJSamTADYYodNB4PRyu6UTlR1cfqex0+UwZj10uZbvdIvNejaJgHbRWw/5vFM8GDMAhiNZHcrgy2BEN6sbYZ1gjWd+3o17BzqAPEPVb86V0+wKTM/KDbIfNg9JZBr9Mn8gVtROZMK1Xwk8EngGO4RngGLY5JeUjVDhRQndg0hRlqleX6oReX2gqznSha2LQyVSSMd/LPTHGZFtlvQ0aqZfnaNiD3N/t1RW9RaCtR4fF589VeBsjYVRXEsTzdNSgEaFXsGrkiqYTyf0WeoL1ZPd7lCvA/+xR+zXFOKPqpLn8E+AYngGO4RngGDY4RZ04D66HFrDMdCPkFDDoxgwJomYG10/nErjz2ahRe7VU58IDBOturwxJjHjfFIPY1vAVKgTykoTxQQn0rJftn5ejGmH2gm+3kun3KFmrep38HrHCG+R2CtzCXIrSPIMOKI33A54GPAMcwzPAMWx16rOokNEOMVhjFiKCgel6RSnreMFBnjDGAyTiOVEvjiX0jTGLmf65wKClijW/LQMpEqYYMzUa4PfunZLv728RqIEuqbtRv/g+09s7jBO5e5Ssf/jntwN9i+Kt97cYbQi/4fUEoxBxC4Ov4J8Ax/AMcAzPAMewgzwNoAMsGyhYUIWcwRZTLzq8HqHbIgyR5oa0pj4wxoR8Syz3YoEqqPMzCdMSsp6FugkMeWbPJxN9XYc5Ic1YB9SY/2wnUktvr6VCrj9cD3SLu25QQxaiNI0jcMPRiBLvBzwNeAY4hmeAY9jgVINlLbosmH/t2GgnhjHwsq85TUnv7Xs5CCPjPRwxnirBYgjfh2vZ8tay8LYDzY/VLVxeyJ/43ZevcL2OdCil3owxXcjZT5jvgZNHSCNHaNRuUaqc1foJAnhII4VzyrT7J8AxPAMcwzPAMewgW1NUvDQonilaSTrK7iChpOMyFnTNQXDHKPJtMbjDGBNg2UKPkqTygM43COKYg7yZosDrE/YNYrJSXaNzuhrpgBZrKFqkOKJK2m4GFbdGH+AXH2uI69sHfV1ETygifTyffwIcwzPAMTwDHMMOgqlDvWaDypayprwWw5YrBWcsxlYwXrSYqRZoNlWEZDvujKiwL4LDOhL4BwvI9wjLhBrEgsKAAz3Q7JdJl1D9tKNbMzXuroRdH2K/2BK7w3LEf1hJdYks+hwDweNxe/rxw//7JY//JzwDHMMzwDFscDJsOwTZO1S/9OiCSzCqYoXkbTRTDWgJHRAgP5znsqbDbhwLQv8ei+unZ6rv5E6JHWpJOQ2DaYlbzKFtEtUO0cAv21GbQotQUgZ34YBfpoevYOEJLROMLplgJ9GMu4cwurb3w7ufBjwDHMMzwDFsc2pW6hGvni2VjK1zbEXAwra7W2xCeFDBPiaYjiYijQz2cT5guZIKeXapuk+Dy3LEhTiso0JeN0MIa3/QlrVsrtfjECWtZlQbyv5v5odrpB8KDPRo8fp8IXu/hd/AfaQd5pCYk/rxT4BjeAY4hmeAY9j6lCMtcwnKpGdURNKQm9NHdr1RBNzCb+i46BnGvp2OmrMCLFsvYJrvb1V8mWWcJYu+X+iAooU+QNNWhVtYc+JSNArOVNz/gLs4X0tF8WO3W9WDNnBBJqgr7RL5Aey+VluG8XAKzwDH8AxwDM8Ax7DhKanNhmxqtgpJCxtLvaSWxbyYsAVFzQ6LGhVRaTjaorTbycm6PWhQb9RJs7XI9dN9Yk4lR44977DGFD5ghXUYFn2GxpgolMJMYT4s4KAtFugJzJHngfOVov3kHvNDsp3c1avOK+GnAc8Ax/AMcAwbnARWg1QyGptNh03bdY9C3anCTzUE9PZRQpZVUCnck6oara44YIVdjzqwNOGsKDZWSAvkKK5qeQso8p2usYEbGiQvRgObZpiaaAL6dDreAkn2CCokw+LXbSb/cVuhVf1C+qBt/eTcpwHPAMfwDHAMa1fHZrZ9+3e9nMtinSDyVdQSspstki0d5o5zxyjLXVE11QajTEgxqgeQTM8QHYswS4SNeQ0S6z1U1ATJfTs91/WN3ptj4ZMxxgS6iwRqsMIy1jqRDjDYvJd38glyak2kuWomanrfqP004BngGJ4BjmHPLo/FTz1Ki242Kp5NQwlWZjZKZN9bTEFiO3IDaVhCcK/PRpmQKJWx3GAlRlGiExpzoGpmt1lLgFpgFvZyiEcBF6Qdb1HKMMS9R3lyEiLBEmIaOhYyzZdIMcG7KHLskQqY2joS/glwDM8Ax/AMcAy7XB91wPJS0y3evf1+oLtCPkEMY5zRkgrGdTRaZaTLW+Yb+lFnRIgUQol63qL++f7Ans3g0AENql/3WGtdYhlgVatSqu+oS0YzwTMM5p4kiu8HE709QT971aIAC14O9wdy9PkQtvJPgGN4BjiGZ4BjWJscdcDzz34zvPrmzU8Dff2TYjsp4vsGkY0KwjRCN91ouxImMWXjVdZsnOMeiaIWPUMgnn83HL5RIpewzST3x3OS8F316BgdVIiN5FIsUEZW4Zr7DerGDljKh7EnnVUYinvEh0YP/wQ4hmeAY3gGOIY14VHYzc/kB3z66rcD3WFo3/sfvxnohq0HaFQOOMk7wApUqI923KRXlxjQwR4/GtSt5DWHNOXYEzTyFSCsIyz6STHFI4hG5UkJqp5WK23J67BXaPOoKFl5EM1dsQ1qlc6ulDPgTNrA64AnAs8Ax/AMcAzbDHYxGijOLj8Z6C+QHQ0gJd/8AH1QyApuEcBpG65JRZ1oOQrCdJwNAh0QYigHhzRxgF8P4csJGxZFPtjhYyIUetpoVBsaBNiIipIhphCKUmnkbpTZlpsyW0qbXnz01UBPF1pxN9yYfwIcwzPAMTwDHMOaUx19HCOrGWC6Ra/CyovnX+qSUFJvs/nnQG/v1SHdFArKFwi85GgCMMYYpAc6lCEZ2PJTqB+L+X+9RWo6wucwAlTq76yB+rHJ6O9v1LKHTDi7IhYrzA9ZKs4zh42/fiYd8Oy5hvmlZ9hNYXxd0NOAZ4BjeAY4hoz8yURy/2z90UA3DZgU6pp09mKgz1/8eqD3O0VIKOvzDAudUXtqjKkrGddlJbXR9Uw1I4aDnDD3RXB2YMo5U1ZqLEED12Q26hfnqtIF5TtWkqYzfVSMJQ8W2Q6uwmAvONsaylNozD8BjuEZ4Bj/Bg6WNrv5ismUAAAAAElFTkSuQmCC\\n\", \"height\": 128, \"channels\": 3, \"width\": 128, \"type\": \"image\", \"id\": 4721512784}, {\"format\": \"png\", \"value\": \"image/png;base64,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\\n\", \"height\": 128, \"channels\": 3, \"width\": 128, \"type\": \"image\", \"id\": 4721512848}], \"selected_variable\": {\"name\": [\"<SArray>\"], \"dtype\": \"Image\", \"view_component\": \"Images\", \"view_file\": \"sarray\", \"descriptives\": {\"rows\": 5}, \"type\": \"SArray\", \"view_components\": [\"Images\"]}}, e);\n",
        "                });\n",
        "            })();\n",
        "        "
       ],
       "metadata": {},
       "output_type": "display_data"
      }
     ],
     "prompt_number": 28
    },
    {
     "cell_type": "heading",
     "level": 3,
     "metadata": {},
     "source": [
      "Similar Images: Car Photo"
     ]
    },
    {
     "cell_type": "code",
     "collapsed": false,
     "input": [
      "car = image_train[8:9]\n",
      "graphlab.image_analysis.resize(car['image'], 128, 128, 3).show()"
     ],
     "language": "python",
     "metadata": {},
     "outputs": [
      {
       "javascript": [
        "$(\"head\").append($(\"<link/>\").attr({\n",
        "  rel:  \"stylesheet\",\n",
        "  type: \"text/css\",\n",
        "  href: \"//cdnjs.cloudflare.com/ajax/libs/font-awesome/4.1.0/css/font-awesome.min.css\"\n",
        "}));\n",
        "$(\"head\").append($(\"<link/>\").attr({\n",
        "  rel:  \"stylesheet\",\n",
        "  type: \"text/css\",\n",
        "  href: \"//turi.com/files/canvas/1.6/css/canvas.css\"\n",
        "}));\n",
        "\n",
        "            (function(){\n",
        "\n",
        "                var e = null;\n",
        "                if (typeof element == 'undefined') {\n",
        "                    var scripts = document.getElementsByTagName('script');\n",
        "                    var thisScriptTag = scripts[scripts.length-1];\n",
        "                    var parentDiv = thisScriptTag.parentNode;\n",
        "                    e = document.createElement('div');\n",
        "                    parentDiv.appendChild(e);\n",
        "                } else {\n",
        "                    e = element[0];\n",
        "                }\n",
        "\n",
        "                if (typeof requirejs !== 'undefined') {\n",
        "                    // disable load timeout; ipython_app.js is large and can take a while to load.\n",
        "                    requirejs.config({waitSeconds: 0});\n",
        "                }\n",
        "\n",
        "                require(['//turi.com/files/canvas/1.6/js/ipython_app.js'], function(IPythonApp){\n",
        "                    var app = new IPythonApp();\n",
        "                    app.attachView('sarray','Images', {\"ipython\": true, \"rows\": [{\"format\": \"png\", \"value\": \"image/png;base64,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\\n\", \"height\": 128, \"channels\": 3, \"width\": 128, \"type\": \"image\", \"id\": 4721543824}], \"selected_variable\": {\"name\": [\"<SArray>\"], \"dtype\": \"Image\", \"view_component\": \"Images\", \"view_file\": \"sarray\", \"descriptives\": {\"rows\": 1}, \"type\": \"SArray\", \"view_components\": [\"Images\"]}}, e);\n",
        "                });\n",
        "            })();\n",
        "        "
       ],
       "metadata": {},
       "output_type": "display_data"
      }
     ],
     "prompt_number": 29
    },
    {
     "cell_type": "code",
     "collapsed": false,
     "input": [
      "graphlab.image_analysis.resize(get_nearest_neighbors(car)['image'],256,256,3).show()"
     ],
     "language": "python",
     "metadata": {},
     "outputs": [
      {
       "html": [
        "<pre>PROGRESS: Starting pairwise querying.</pre>"
       ],
       "metadata": {},
       "output_type": "display_data",
       "text": [
        "PROGRESS: Starting pairwise querying."
       ]
      },
      {
       "html": [
        "<pre>PROGRESS: +--------------+---------+-------------+--------------+</pre>"
       ],
       "metadata": {},
       "output_type": "display_data",
       "text": [
        "PROGRESS: +--------------+---------+-------------+--------------+"
       ]
      },
      {
       "html": [
        "<pre>PROGRESS: | Query points | # Pairs | % Complete. | Elapsed Time |</pre>"
       ],
       "metadata": {},
       "output_type": "display_data",
       "text": [
        "PROGRESS: | Query points | # Pairs | % Complete. | Elapsed Time |"
       ]
      },
      {
       "html": [
        "<pre>PROGRESS: +--------------+---------+-------------+--------------+</pre>"
       ],
       "metadata": {},
       "output_type": "display_data",
       "text": [
        "PROGRESS: +--------------+---------+-------------+--------------+"
       ]
      },
      {
       "html": [
        "<pre>PROGRESS: | 0            | 1       | 0.0498753   | 13.922ms     |</pre>"
       ],
       "metadata": {},
       "output_type": "display_data",
       "text": [
        "PROGRESS: | 0            | 1       | 0.0498753   | 13.922ms     |"
       ]
      },
      {
       "html": [
        "<pre>PROGRESS: | Done         |         | 100         | 395.811ms    |</pre>"
       ],
       "metadata": {},
       "output_type": "display_data",
       "text": [
        "PROGRESS: | Done         |         | 100         | 395.811ms    |"
       ]
      },
      {
       "html": [
        "<pre>PROGRESS: +--------------+---------+-------------+--------------+</pre>"
       ],
       "metadata": {},
       "output_type": "display_data",
       "text": [
        "PROGRESS: +--------------+---------+-------------+--------------+"
       ]
      },
      {
       "javascript": [
        "$(\"head\").append($(\"<link/>\").attr({\n",
        "  rel:  \"stylesheet\",\n",
        "  type: \"text/css\",\n",
        "  href: \"//cdnjs.cloudflare.com/ajax/libs/font-awesome/4.1.0/css/font-awesome.min.css\"\n",
        "}));\n",
        "$(\"head\").append($(\"<link/>\").attr({\n",
        "  rel:  \"stylesheet\",\n",
        "  type: \"text/css\",\n",
        "  href: \"//turi.com/files/canvas/1.6/css/canvas.css\"\n",
        "}));\n",
        "\n",
        "            (function(){\n",
        "\n",
        "                var e = null;\n",
        "                if (typeof element == 'undefined') {\n",
        "                    var scripts = document.getElementsByTagName('script');\n",
        "                    var thisScriptTag = scripts[scripts.length-1];\n",
        "                    var parentDiv = thisScriptTag.parentNode;\n",
        "                    e = document.createElement('div');\n",
        "                    parentDiv.appendChild(e);\n",
        "                } else {\n",
        "                    e = element[0];\n",
        "                }\n",
        "\n",
        "                if (typeof requirejs !== 'undefined') {\n",
        "                    // disable load timeout; ipython_app.js is large and can take a while to load.\n",
        "                    requirejs.config({waitSeconds: 0});\n",
        "                }\n",
        "\n",
        "                require(['//turi.com/files/canvas/1.6/js/ipython_app.js'], function(IPythonApp){\n",
        "                    var app = new IPythonApp();\n",
        "                    app.attachView('sarray','Images', {\"ipython\": true, \"rows\": [{\"format\": \"png\", \"value\": \"image/png;base64,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\\n\", \"height\": 256, \"channels\": 3, \"width\": 256, \"type\": \"image\", \"id\": 4721541328}, {\"format\": \"png\", \"value\": \"image/png;base64,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\\n\", \"height\": 256, \"channels\": 3, \"width\": 256, \"type\": \"image\", \"id\": 4721543632}, {\"format\": \"png\", \"value\": \"image/png;base64,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\\n\", \"height\": 256, \"channels\": 3, \"width\": 256, \"type\": \"image\", \"id\": 4721545104}, {\"format\": \"png\", \"value\": \"image/png;base64,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\\n\", \"height\": 256, \"channels\": 3, \"width\": 256, \"type\": \"image\", \"id\": 4721541584}, {\"format\": \"png\", \"value\": \"image/png;base64,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\\n\", \"height\": 256, \"channels\": 3, \"width\": 256, \"type\": \"image\", \"id\": 4721542928}], \"selected_variable\": {\"name\": [\"<SArray>\"], \"dtype\": \"Image\", \"view_component\": \"Images\", \"view_file\": \"sarray\", \"descriptives\": {\"rows\": 5}, \"type\": \"SArray\", \"view_components\": [\"Images\"]}}, e);\n",
        "                });\n",
        "            })();\n",
        "        "
       ],
       "metadata": {},
       "output_type": "display_data"
      }
     ],
     "prompt_number": 30
    },
    {
     "cell_type": "code",
     "collapsed": false,
     "input": [],
     "language": "python",
     "metadata": {},
     "outputs": []
    }
   ],
   "metadata": {}
  }
 ]
}
