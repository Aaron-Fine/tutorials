{
 "cells": [
  {
   "cell_type": "markdown",
   "metadata": {},
   "source": [
    "# Product Matching"
   ]
  },
  {
   "cell_type": "markdown",
   "metadata": {},
   "source": [
    "This notebook is presented in the Product Matching webinar, one of many interesting webinars given by Turi. Check out upcoming webinars [here](https://turi.com/events/). <br>\n",
    "We will use GraphLab Create to perform product matching between textual descriptions of products from different sources, a task also known as Record Linkage. The data is available [here](http://dbs.uni-leipzig.de/en/research/projects/object_matching/fever/benchmark_datasets_for_entity_resolution).\n",
    "\n",
    "The notebook is orginaized into the following sections:\n",
    "- <a href=\"#load\">Loading and cleaning the data</a>\n",
    "- <a href=\"#eval\">Evaluation functions</a>\n",
    "- <a href=\"#model\">Record Linker model</a>\n",
    "- <a href=\"#feature\">Feature Engineering</a>\n",
    "- <a href=\"#k\">Exploring parameters</a>"
   ]
  },
  {
   "cell_type": "markdown",
   "metadata": {},
   "source": [
    "## <a id=\"load\"></a> Loading and cleaning the data"
   ]
  },
  {
   "cell_type": "code",
   "execution_count": 1,
   "metadata": {
    "collapsed": false
   },
   "outputs": [
    {
     "name": "stdout",
     "output_type": "stream",
     "text": [
      "This commercial license of GraphLab Create is assigned to engr@turi.com.\n"
     ]
    },
    {
     "name": "stderr",
     "output_type": "stream",
     "text": [
      "2016-05-19 11:07:15,655 [INFO] graphlab.cython.cy_server, 176: GraphLab Create v1.9 started. Logging: /tmp/graphlab_server_1463645233.log\n"
     ]
    }
   ],
   "source": [
    "import graphlab as gl\n",
    "import re\n",
    "import matplotlib.pyplot as plt\n",
    "\n",
    "gl.canvas.set_target('ipynb')\n",
    "%matplotlib inline"
   ]
  },
  {
   "cell_type": "code",
   "execution_count": 2,
   "metadata": {
    "collapsed": false,
    "scrolled": false
   },
   "outputs": [],
   "source": [
    "amazon = gl.SFrame.read_csv('Amazon.csv', verbose=False)\n",
    "google = gl.SFrame.read_csv('GoogleProducts.csv', verbose=False)\n",
    "truth = gl.SFrame.read_csv('Amzon_GoogleProducts_perfectMapping.csv', verbose=False)"
   ]
  },
  {
   "cell_type": "code",
   "execution_count": 3,
   "metadata": {
    "collapsed": false,
    "scrolled": true
   },
   "outputs": [
    {
     "name": "stdout",
     "output_type": "stream",
     "text": [
      "Amazon length:  1363\n"
     ]
    },
    {
     "data": {
      "text/html": [
       "<div style=\"max-height:1000px;max-width:1500px;overflow:auto;\"><table frame=\"box\" rules=\"cols\">\n",
       "    <tr>\n",
       "        <th style=\"padding-left: 1em; padding-right: 1em; text-align: center\">id</th>\n",
       "        <th style=\"padding-left: 1em; padding-right: 1em; text-align: center\">title</th>\n",
       "        <th style=\"padding-left: 1em; padding-right: 1em; text-align: center\">description</th>\n",
       "        <th style=\"padding-left: 1em; padding-right: 1em; text-align: center\">manufacturer</th>\n",
       "        <th style=\"padding-left: 1em; padding-right: 1em; text-align: center\">price</th>\n",
       "    </tr>\n",
       "    <tr>\n",
       "        <td style=\"padding-left: 1em; padding-right: 1em; text-align: center; vertical-align: top\">b000jz4hqo</td>\n",
       "        <td style=\"padding-left: 1em; padding-right: 1em; text-align: center; vertical-align: top\">clickart 950 000 -<br>premier image pack (dvd- ...</td>\n",
       "        <td style=\"padding-left: 1em; padding-right: 1em; text-align: center; vertical-align: top\"></td>\n",
       "        <td style=\"padding-left: 1em; padding-right: 1em; text-align: center; vertical-align: top\">broderbund</td>\n",
       "        <td style=\"padding-left: 1em; padding-right: 1em; text-align: center; vertical-align: top\">0.0</td>\n",
       "    </tr>\n",
       "    <tr>\n",
       "        <td style=\"padding-left: 1em; padding-right: 1em; text-align: center; vertical-align: top\">b0006zf55o</td>\n",
       "        <td style=\"padding-left: 1em; padding-right: 1em; text-align: center; vertical-align: top\">ca international -<br>arcserve lap/desktop oem ...</td>\n",
       "        <td style=\"padding-left: 1em; padding-right: 1em; text-align: center; vertical-align: top\">oem arcserve backup v11.1<br>win 30u for laptops and ...</td>\n",
       "        <td style=\"padding-left: 1em; padding-right: 1em; text-align: center; vertical-align: top\">computer associates</td>\n",
       "        <td style=\"padding-left: 1em; padding-right: 1em; text-align: center; vertical-align: top\">0.0</td>\n",
       "    </tr>\n",
       "</table>\n",
       "[2 rows x 5 columns]<br/>\n",
       "</div>"
      ],
      "text/plain": [
       "Columns:\n",
       "\tid\tstr\n",
       "\ttitle\tstr\n",
       "\tdescription\tstr\n",
       "\tmanufacturer\tstr\n",
       "\tprice\tfloat\n",
       "\n",
       "Rows: 2\n",
       "\n",
       "Data:\n",
       "+------------+-------------------------------+-------------------------------+\n",
       "|     id     |             title             |          description          |\n",
       "+------------+-------------------------------+-------------------------------+\n",
       "| b000jz4hqo | clickart 950 000 - premier... |                               |\n",
       "| b0006zf55o | ca international - arcserv... | oem arcserve backup v11.1 ... |\n",
       "+------------+-------------------------------+-------------------------------+\n",
       "+---------------------+-------+\n",
       "|     manufacturer    | price |\n",
       "+---------------------+-------+\n",
       "|      broderbund     |  0.0  |\n",
       "| computer associates |  0.0  |\n",
       "+---------------------+-------+\n",
       "[2 rows x 5 columns]"
      ]
     },
     "execution_count": 3,
     "metadata": {},
     "output_type": "execute_result"
    }
   ],
   "source": [
    "print 'Amazon length: ', amazon.num_rows()\n",
    "\n",
    "amazon.head(2)"
   ]
  },
  {
   "cell_type": "code",
   "execution_count": 4,
   "metadata": {
    "collapsed": false
   },
   "outputs": [
    {
     "name": "stdout",
     "output_type": "stream",
     "text": [
      "Google length:  3226\n"
     ]
    },
    {
     "data": {
      "text/html": [
       "<div style=\"max-height:1000px;max-width:1500px;overflow:auto;\"><table frame=\"box\" rules=\"cols\">\n",
       "    <tr>\n",
       "        <th style=\"padding-left: 1em; padding-right: 1em; text-align: center\">id</th>\n",
       "        <th style=\"padding-left: 1em; padding-right: 1em; text-align: center\">name</th>\n",
       "        <th style=\"padding-left: 1em; padding-right: 1em; text-align: center\">description</th>\n",
       "        <th style=\"padding-left: 1em; padding-right: 1em; text-align: center\">manufacturer</th>\n",
       "        <th style=\"padding-left: 1em; padding-right: 1em; text-align: center\">price</th>\n",
       "    </tr>\n",
       "    <tr>\n",
       "        <td style=\"padding-left: 1em; padding-right: 1em; text-align: center; vertical-align: top\">http://www.google.com/bas<br>e/feeds/snippets/1112 ...</td>\n",
       "        <td style=\"padding-left: 1em; padding-right: 1em; text-align: center; vertical-align: top\">learning quickbooks 2007</td>\n",
       "        <td style=\"padding-left: 1em; padding-right: 1em; text-align: center; vertical-align: top\">learning quickbooks 2007</td>\n",
       "        <td style=\"padding-left: 1em; padding-right: 1em; text-align: center; vertical-align: top\">intuit</td>\n",
       "        <td style=\"padding-left: 1em; padding-right: 1em; text-align: center; vertical-align: top\">38.99</td>\n",
       "    </tr>\n",
       "    <tr>\n",
       "        <td style=\"padding-left: 1em; padding-right: 1em; text-align: center; vertical-align: top\">http://www.google.com/bas<br>e/feeds/snippets/1153 ...</td>\n",
       "        <td style=\"padding-left: 1em; padding-right: 1em; text-align: center; vertical-align: top\">superstart! fun with<br>reading &amp; writing! ...</td>\n",
       "        <td style=\"padding-left: 1em; padding-right: 1em; text-align: center; vertical-align: top\">fun with reading &amp;<br>writing! is designed to ...</td>\n",
       "        <td style=\"padding-left: 1em; padding-right: 1em; text-align: center; vertical-align: top\"></td>\n",
       "        <td style=\"padding-left: 1em; padding-right: 1em; text-align: center; vertical-align: top\">8.49</td>\n",
       "    </tr>\n",
       "</table>\n",
       "[2 rows x 5 columns]<br/>\n",
       "</div>"
      ],
      "text/plain": [
       "Columns:\n",
       "\tid\tstr\n",
       "\tname\tstr\n",
       "\tdescription\tstr\n",
       "\tmanufacturer\tstr\n",
       "\tprice\tfloat\n",
       "\n",
       "Rows: 2\n",
       "\n",
       "Data:\n",
       "+-------------------------------+-------------------------------+\n",
       "|               id              |              name             |\n",
       "+-------------------------------+-------------------------------+\n",
       "| http://www.google.com/base... |    learning quickbooks 2007   |\n",
       "| http://www.google.com/base... | superstart! fun with readi... |\n",
       "+-------------------------------+-------------------------------+\n",
       "+-------------------------------+--------------+-------+\n",
       "|          description          | manufacturer | price |\n",
       "+-------------------------------+--------------+-------+\n",
       "|    learning quickbooks 2007   |    intuit    | 38.99 |\n",
       "| fun with reading & writing... |              |  8.49 |\n",
       "+-------------------------------+--------------+-------+\n",
       "[2 rows x 5 columns]"
      ]
     },
     "execution_count": 4,
     "metadata": {},
     "output_type": "execute_result"
    }
   ],
   "source": [
    "print 'Google length: ', google.num_rows()\n",
    "\n",
    "google.head(2)"
   ]
  },
  {
   "cell_type": "code",
   "execution_count": 5,
   "metadata": {
    "collapsed": false
   },
   "outputs": [
    {
     "name": "stdout",
     "output_type": "stream",
     "text": [
      "Truth length:  1300\n"
     ]
    },
    {
     "data": {
      "text/html": [
       "<div style=\"max-height:1000px;max-width:1500px;overflow:auto;\"><table frame=\"box\" rules=\"cols\">\n",
       "    <tr>\n",
       "        <th style=\"padding-left: 1em; padding-right: 1em; text-align: center\">idAmazon</th>\n",
       "        <th style=\"padding-left: 1em; padding-right: 1em; text-align: center\">idGoogleBase</th>\n",
       "    </tr>\n",
       "    <tr>\n",
       "        <td style=\"padding-left: 1em; padding-right: 1em; text-align: center; vertical-align: top\">b000jz4hqo</td>\n",
       "        <td style=\"padding-left: 1em; padding-right: 1em; text-align: center; vertical-align: top\">http://www.google.com/bas<br>e/feeds/snippets/1844 ...</td>\n",
       "    </tr>\n",
       "    <tr>\n",
       "        <td style=\"padding-left: 1em; padding-right: 1em; text-align: center; vertical-align: top\">b00004tkvy</td>\n",
       "        <td style=\"padding-left: 1em; padding-right: 1em; text-align: center; vertical-align: top\">http://www.google.com/bas<br>e/feeds/snippets/1844 ...</td>\n",
       "    </tr>\n",
       "</table>\n",
       "[2 rows x 2 columns]<br/>\n",
       "</div>"
      ],
      "text/plain": [
       "Columns:\n",
       "\tidAmazon\tstr\n",
       "\tidGoogleBase\tstr\n",
       "\n",
       "Rows: 2\n",
       "\n",
       "Data:\n",
       "+------------+-------------------------------+\n",
       "|  idAmazon  |          idGoogleBase         |\n",
       "+------------+-------------------------------+\n",
       "| b000jz4hqo | http://www.google.com/base... |\n",
       "| b00004tkvy | http://www.google.com/base... |\n",
       "+------------+-------------------------------+\n",
       "[2 rows x 2 columns]"
      ]
     },
     "execution_count": 5,
     "metadata": {},
     "output_type": "execute_result"
    }
   ],
   "source": [
    "print 'Truth length: ', truth.num_rows()\n",
    "\n",
    "truth.head(2)"
   ]
  },
  {
   "cell_type": "code",
   "execution_count": 6,
   "metadata": {
    "collapsed": false
   },
   "outputs": [],
   "source": [
    "def transform(truth, amazon, google):\n",
    "    '''Transform the data into a more manageable format'''\n",
    "    \n",
    "    # For the sake of this webinar we will look only at the names of the products\n",
    "    amazon = amazon[['id', 'title']]\n",
    "    google = google[['id', 'name']]\n",
    "    \n",
    "    # Add a unique numeric label\n",
    "    amazon = amazon.add_row_number(column_name='label')\n",
    "    google = google.add_row_number(column_name='label')\n",
    "    \n",
    "    # Change labels in truth based on the new numerical labels\n",
    "    truth = truth.join(amazon, on={'idAmazon' : 'id'})\n",
    "    truth = truth.join(google, on={'idGoogleBase' : 'id'})\n",
    "    \n",
    "    # Rename some columns\n",
    "    amazon = amazon.rename({'title' : 'name'})\n",
    "    truth = truth.rename({\n",
    "        'label' : 'amazon label',\n",
    "        'title' : 'amazon name',\n",
    "        'label.1' : 'google label',\n",
    "        'name' : 'google name'\n",
    "    })\n",
    "    \n",
    "    # Remove some others\n",
    "    truth.remove_columns(['idGoogleBase', 'idAmazon'])\n",
    "    amazon = amazon.remove_column('id')\n",
    "    google = google.remove_column('id')\n",
    "    \n",
    "    return truth, amazon, google\n",
    "\n",
    "truth, amazon, google = transform(truth, amazon, google)"
   ]
  },
  {
   "cell_type": "code",
   "execution_count": 7,
   "metadata": {
    "collapsed": false
   },
   "outputs": [
    {
     "data": {
      "text/html": [
       "<div style=\"max-height:1000px;max-width:1500px;overflow:auto;\"><table frame=\"box\" rules=\"cols\">\n",
       "    <tr>\n",
       "        <th style=\"padding-left: 1em; padding-right: 1em; text-align: center\">label</th>\n",
       "        <th style=\"padding-left: 1em; padding-right: 1em; text-align: center\">name</th>\n",
       "    </tr>\n",
       "    <tr>\n",
       "        <td style=\"padding-left: 1em; padding-right: 1em; text-align: center; vertical-align: top\">0</td>\n",
       "        <td style=\"padding-left: 1em; padding-right: 1em; text-align: center; vertical-align: top\">clickart 950 000 -<br>premier image pack (dvd- ...</td>\n",
       "    </tr>\n",
       "    <tr>\n",
       "        <td style=\"padding-left: 1em; padding-right: 1em; text-align: center; vertical-align: top\">1</td>\n",
       "        <td style=\"padding-left: 1em; padding-right: 1em; text-align: center; vertical-align: top\">ca international -<br>arcserve lap/desktop oem ...</td>\n",
       "    </tr>\n",
       "    <tr>\n",
       "        <td style=\"padding-left: 1em; padding-right: 1em; text-align: center; vertical-align: top\">2</td>\n",
       "        <td style=\"padding-left: 1em; padding-right: 1em; text-align: center; vertical-align: top\">noah's ark activity<br>center (jewel case ages ...</td>\n",
       "    </tr>\n",
       "</table>\n",
       "[3 rows x 2 columns]<br/>\n",
       "</div>"
      ],
      "text/plain": [
       "Columns:\n",
       "\tlabel\tint\n",
       "\tname\tstr\n",
       "\n",
       "Rows: 3\n",
       "\n",
       "Data:\n",
       "+-------+-------------------------------+\n",
       "| label |              name             |\n",
       "+-------+-------------------------------+\n",
       "|   0   | clickart 950 000 - premier... |\n",
       "|   1   | ca international - arcserv... |\n",
       "|   2   | noah's ark activity center... |\n",
       "+-------+-------------------------------+\n",
       "[3 rows x 2 columns]"
      ]
     },
     "execution_count": 7,
     "metadata": {},
     "output_type": "execute_result"
    }
   ],
   "source": [
    "amazon.head(3)"
   ]
  },
  {
   "cell_type": "code",
   "execution_count": 8,
   "metadata": {
    "collapsed": false,
    "scrolled": true
   },
   "outputs": [
    {
     "data": {
      "text/html": [
       "<div style=\"max-height:1000px;max-width:1500px;overflow:auto;\"><table frame=\"box\" rules=\"cols\">\n",
       "    <tr>\n",
       "        <th style=\"padding-left: 1em; padding-right: 1em; text-align: center\">label</th>\n",
       "        <th style=\"padding-left: 1em; padding-right: 1em; text-align: center\">name</th>\n",
       "    </tr>\n",
       "    <tr>\n",
       "        <td style=\"padding-left: 1em; padding-right: 1em; text-align: center; vertical-align: top\">0</td>\n",
       "        <td style=\"padding-left: 1em; padding-right: 1em; text-align: center; vertical-align: top\">learning quickbooks 2007</td>\n",
       "    </tr>\n",
       "    <tr>\n",
       "        <td style=\"padding-left: 1em; padding-right: 1em; text-align: center; vertical-align: top\">1</td>\n",
       "        <td style=\"padding-left: 1em; padding-right: 1em; text-align: center; vertical-align: top\">superstart! fun with<br>reading &amp; writing! ...</td>\n",
       "    </tr>\n",
       "    <tr>\n",
       "        <td style=\"padding-left: 1em; padding-right: 1em; text-align: center; vertical-align: top\">2</td>\n",
       "        <td style=\"padding-left: 1em; padding-right: 1em; text-align: center; vertical-align: top\">qb pos 6.0 basic software</td>\n",
       "    </tr>\n",
       "</table>\n",
       "[3 rows x 2 columns]<br/>\n",
       "</div>"
      ],
      "text/plain": [
       "Columns:\n",
       "\tlabel\tint\n",
       "\tname\tstr\n",
       "\n",
       "Rows: 3\n",
       "\n",
       "Data:\n",
       "+-------+-------------------------------+\n",
       "| label |              name             |\n",
       "+-------+-------------------------------+\n",
       "|   0   |    learning quickbooks 2007   |\n",
       "|   1   | superstart! fun with readi... |\n",
       "|   2   |   qb pos 6.0 basic software   |\n",
       "+-------+-------------------------------+\n",
       "[3 rows x 2 columns]"
      ]
     },
     "execution_count": 8,
     "metadata": {},
     "output_type": "execute_result"
    }
   ],
   "source": [
    "google.head(3)"
   ]
  },
  {
   "cell_type": "code",
   "execution_count": 9,
   "metadata": {
    "collapsed": false
   },
   "outputs": [
    {
     "data": {
      "text/html": [
       "<div style=\"max-height:1000px;max-width:1500px;overflow:auto;\"><table frame=\"box\" rules=\"cols\">\n",
       "    <tr>\n",
       "        <th style=\"padding-left: 1em; padding-right: 1em; text-align: center\">amazon label</th>\n",
       "        <th style=\"padding-left: 1em; padding-right: 1em; text-align: center\">amazon name</th>\n",
       "        <th style=\"padding-left: 1em; padding-right: 1em; text-align: center\">google label</th>\n",
       "        <th style=\"padding-left: 1em; padding-right: 1em; text-align: center\">google name</th>\n",
       "    </tr>\n",
       "    <tr>\n",
       "        <td style=\"padding-left: 1em; padding-right: 1em; text-align: center; vertical-align: top\">539</td>\n",
       "        <td style=\"padding-left: 1em; padding-right: 1em; text-align: center; vertical-align: top\">learning quickbooks 2007</td>\n",
       "        <td style=\"padding-left: 1em; padding-right: 1em; text-align: center; vertical-align: top\">0</td>\n",
       "        <td style=\"padding-left: 1em; padding-right: 1em; text-align: center; vertical-align: top\">learning quickbooks 2007</td>\n",
       "    </tr>\n",
       "    <tr>\n",
       "        <td style=\"padding-left: 1em; padding-right: 1em; text-align: center; vertical-align: top\">1198</td>\n",
       "        <td style=\"padding-left: 1em; padding-right: 1em; text-align: center; vertical-align: top\">quickbooks point-of-sale<br>basic 6.0 ...</td>\n",
       "        <td style=\"padding-left: 1em; padding-right: 1em; text-align: center; vertical-align: top\">2</td>\n",
       "        <td style=\"padding-left: 1em; padding-right: 1em; text-align: center; vertical-align: top\">qb pos 6.0 basic software</td>\n",
       "    </tr>\n",
       "    <tr>\n",
       "        <td style=\"padding-left: 1em; padding-right: 1em; text-align: center; vertical-align: top\">736</td>\n",
       "        <td style=\"padding-left: 1em; padding-right: 1em; text-align: center; vertical-align: top\">adobe creative suite cs3<br>production premium ...</td>\n",
       "        <td style=\"padding-left: 1em; padding-right: 1em; text-align: center; vertical-align: top\">4</td>\n",
       "        <td style=\"padding-left: 1em; padding-right: 1em; text-align: center; vertical-align: top\">production prem cs3 mac<br>upgrad ...</td>\n",
       "    </tr>\n",
       "</table>\n",
       "[3 rows x 4 columns]<br/>\n",
       "</div>"
      ],
      "text/plain": [
       "Columns:\n",
       "\tamazon label\tint\n",
       "\tamazon name\tstr\n",
       "\tgoogle label\tint\n",
       "\tgoogle name\tstr\n",
       "\n",
       "Rows: 3\n",
       "\n",
       "Data:\n",
       "+--------------+-------------------------------+--------------+\n",
       "| amazon label |          amazon name          | google label |\n",
       "+--------------+-------------------------------+--------------+\n",
       "|     539      |    learning quickbooks 2007   |      0       |\n",
       "|     1198     | quickbooks point-of-sale b... |      2       |\n",
       "|     736      | adobe creative suite cs3 p... |      4       |\n",
       "+--------------+-------------------------------+--------------+\n",
       "+--------------------------------+\n",
       "|          google name           |\n",
       "+--------------------------------+\n",
       "|    learning quickbooks 2007    |\n",
       "|   qb pos 6.0 basic software    |\n",
       "| production prem cs3 mac upgrad |\n",
       "+--------------------------------+\n",
       "[3 rows x 4 columns]"
      ]
     },
     "execution_count": 9,
     "metadata": {},
     "output_type": "execute_result"
    }
   ],
   "source": [
    "truth.head(3)"
   ]
  },
  {
   "cell_type": "markdown",
   "metadata": {},
   "source": [
    "## <a id=\"eval\"></a> Evaluation functions"
   ]
  },
  {
   "cell_type": "code",
   "execution_count": 10,
   "metadata": {
    "collapsed": true
   },
   "outputs": [],
   "source": [
    "def accuracy_at(results, truth):\n",
    "    '''Compute the accuracy at k of a record linkage model, given a true mapping'''\n",
    "    \n",
    "    joined = truth.join(results, on={'google label' : 'query_label'})\n",
    "    num_correct_labels = (joined['amazon label'] == joined['reference_label']).sum()\n",
    "    \n",
    "    return num_correct_labels / float(truth.num_rows())"
   ]
  },
  {
   "cell_type": "code",
   "execution_count": 11,
   "metadata": {
    "collapsed": true
   },
   "outputs": [],
   "source": [
    "def get_matches(results, amazon, google):\n",
    "    '''Reutrn the results of a record linkage model in a readable format'''\n",
    "    \n",
    "    joined = results.join(amazon, on={'reference_label' : 'label'}).join(google, on={'query_label' : 'label'})\n",
    "    joined = joined[['name', 'name.1', 'distance', 'rank']]\n",
    "    joined = joined.rename({'name' : 'amazon name', 'name.1' : 'google name'})\n",
    "    \n",
    "    return joined"
   ]
  },
  {
   "cell_type": "markdown",
   "metadata": {},
   "source": [
    "## <a id=\"model\"></a> Record Linker model"
   ]
  },
  {
   "cell_type": "code",
   "execution_count": 12,
   "metadata": {
    "collapsed": false
   },
   "outputs": [
    {
     "data": {
      "text/html": [
       "<pre>Starting brute force nearest neighbors model training.</pre>"
      ],
      "text/plain": [
       "Starting brute force nearest neighbors model training."
      ]
     },
     "metadata": {},
     "output_type": "display_data"
    }
   ],
   "source": [
    "base_linker = gl.record_linker.create(amazon, features=['name'])"
   ]
  },
  {
   "cell_type": "code",
   "execution_count": 13,
   "metadata": {
    "collapsed": false
   },
   "outputs": [
    {
     "data": {
      "text/html": [
       "<pre>Starting pairwise querying.</pre>"
      ],
      "text/plain": [
       "Starting pairwise querying."
      ]
     },
     "metadata": {},
     "output_type": "display_data"
    },
    {
     "data": {
      "text/html": [
       "<pre>+--------------+---------+-------------+--------------+</pre>"
      ],
      "text/plain": [
       "+--------------+---------+-------------+--------------+"
      ]
     },
     "metadata": {},
     "output_type": "display_data"
    },
    {
     "data": {
      "text/html": [
       "<pre>| Query points | # Pairs | % Complete. | Elapsed Time |</pre>"
      ],
      "text/plain": [
       "| Query points | # Pairs | % Complete. | Elapsed Time |"
      ]
     },
     "metadata": {},
     "output_type": "display_data"
    },
    {
     "data": {
      "text/html": [
       "<pre>+--------------+---------+-------------+--------------+</pre>"
      ],
      "text/plain": [
       "+--------------+---------+-------------+--------------+"
      ]
     },
     "metadata": {},
     "output_type": "display_data"
    },
    {
     "data": {
      "text/html": [
       "<pre>| 2            | 3226    | 0.0733676   | 9.112ms      |</pre>"
      ],
      "text/plain": [
       "| 2            | 3226    | 0.0733676   | 9.112ms      |"
      ]
     },
     "metadata": {},
     "output_type": "display_data"
    },
    {
     "data": {
      "text/html": [
       "<pre>| Done         |         | 100         | 312.228ms    |</pre>"
      ],
      "text/plain": [
       "| Done         |         | 100         | 312.228ms    |"
      ]
     },
     "metadata": {},
     "output_type": "display_data"
    },
    {
     "data": {
      "text/html": [
       "<pre>+--------------+---------+-------------+--------------+</pre>"
      ],
      "text/plain": [
       "+--------------+---------+-------------+--------------+"
      ]
     },
     "metadata": {},
     "output_type": "display_data"
    },
    {
     "data": {
      "text/html": [
       "<div style=\"max-height:1000px;max-width:1500px;overflow:auto;\"><table frame=\"box\" rules=\"cols\">\n",
       "    <tr>\n",
       "        <th style=\"padding-left: 1em; padding-right: 1em; text-align: center\">query_label</th>\n",
       "        <th style=\"padding-left: 1em; padding-right: 1em; text-align: center\">reference_label</th>\n",
       "        <th style=\"padding-left: 1em; padding-right: 1em; text-align: center\">distance</th>\n",
       "        <th style=\"padding-left: 1em; padding-right: 1em; text-align: center\">rank</th>\n",
       "    </tr>\n",
       "    <tr>\n",
       "        <td style=\"padding-left: 1em; padding-right: 1em; text-align: center; vertical-align: top\">0</td>\n",
       "        <td style=\"padding-left: 1em; padding-right: 1em; text-align: center; vertical-align: top\">539</td>\n",
       "        <td style=\"padding-left: 1em; padding-right: 1em; text-align: center; vertical-align: top\">0.0</td>\n",
       "        <td style=\"padding-left: 1em; padding-right: 1em; text-align: center; vertical-align: top\">1</td>\n",
       "    </tr>\n",
       "    <tr>\n",
       "        <td style=\"padding-left: 1em; padding-right: 1em; text-align: center; vertical-align: top\">0</td>\n",
       "        <td style=\"padding-left: 1em; padding-right: 1em; text-align: center; vertical-align: top\">528</td>\n",
       "        <td style=\"padding-left: 1em; padding-right: 1em; text-align: center; vertical-align: top\">0.666666666667</td>\n",
       "        <td style=\"padding-left: 1em; padding-right: 1em; text-align: center; vertical-align: top\">2</td>\n",
       "    </tr>\n",
       "    <tr>\n",
       "        <td style=\"padding-left: 1em; padding-right: 1em; text-align: center; vertical-align: top\">0</td>\n",
       "        <td style=\"padding-left: 1em; padding-right: 1em; text-align: center; vertical-align: top\">532</td>\n",
       "        <td style=\"padding-left: 1em; padding-right: 1em; text-align: center; vertical-align: top\">0.692307692308</td>\n",
       "        <td style=\"padding-left: 1em; padding-right: 1em; text-align: center; vertical-align: top\">3</td>\n",
       "    </tr>\n",
       "    <tr>\n",
       "        <td style=\"padding-left: 1em; padding-right: 1em; text-align: center; vertical-align: top\">1</td>\n",
       "        <td style=\"padding-left: 1em; padding-right: 1em; text-align: center; vertical-align: top\">183</td>\n",
       "        <td style=\"padding-left: 1em; padding-right: 1em; text-align: center; vertical-align: top\">0.644444444444</td>\n",
       "        <td style=\"padding-left: 1em; padding-right: 1em; text-align: center; vertical-align: top\">1</td>\n",
       "    </tr>\n",
       "    <tr>\n",
       "        <td style=\"padding-left: 1em; padding-right: 1em; text-align: center; vertical-align: top\">1</td>\n",
       "        <td style=\"padding-left: 1em; padding-right: 1em; text-align: center; vertical-align: top\">297</td>\n",
       "        <td style=\"padding-left: 1em; padding-right: 1em; text-align: center; vertical-align: top\">0.808510638298</td>\n",
       "        <td style=\"padding-left: 1em; padding-right: 1em; text-align: center; vertical-align: top\">2</td>\n",
       "    </tr>\n",
       "    <tr>\n",
       "        <td style=\"padding-left: 1em; padding-right: 1em; text-align: center; vertical-align: top\">1</td>\n",
       "        <td style=\"padding-left: 1em; padding-right: 1em; text-align: center; vertical-align: top\">392</td>\n",
       "        <td style=\"padding-left: 1em; padding-right: 1em; text-align: center; vertical-align: top\">0.867924528302</td>\n",
       "        <td style=\"padding-left: 1em; padding-right: 1em; text-align: center; vertical-align: top\">3</td>\n",
       "    </tr>\n",
       "    <tr>\n",
       "        <td style=\"padding-left: 1em; padding-right: 1em; text-align: center; vertical-align: top\">2</td>\n",
       "        <td style=\"padding-left: 1em; padding-right: 1em; text-align: center; vertical-align: top\">829</td>\n",
       "        <td style=\"padding-left: 1em; padding-right: 1em; text-align: center; vertical-align: top\">0.810810810811</td>\n",
       "        <td style=\"padding-left: 1em; padding-right: 1em; text-align: center; vertical-align: top\">1</td>\n",
       "    </tr>\n",
       "    <tr>\n",
       "        <td style=\"padding-left: 1em; padding-right: 1em; text-align: center; vertical-align: top\">2</td>\n",
       "        <td style=\"padding-left: 1em; padding-right: 1em; text-align: center; vertical-align: top\">847</td>\n",
       "        <td style=\"padding-left: 1em; padding-right: 1em; text-align: center; vertical-align: top\">0.820512820513</td>\n",
       "        <td style=\"padding-left: 1em; padding-right: 1em; text-align: center; vertical-align: top\">2</td>\n",
       "    </tr>\n",
       "    <tr>\n",
       "        <td style=\"padding-left: 1em; padding-right: 1em; text-align: center; vertical-align: top\">2</td>\n",
       "        <td style=\"padding-left: 1em; padding-right: 1em; text-align: center; vertical-align: top\">432</td>\n",
       "        <td style=\"padding-left: 1em; padding-right: 1em; text-align: center; vertical-align: top\">0.825</td>\n",
       "        <td style=\"padding-left: 1em; padding-right: 1em; text-align: center; vertical-align: top\">3</td>\n",
       "    </tr>\n",
       "    <tr>\n",
       "        <td style=\"padding-left: 1em; padding-right: 1em; text-align: center; vertical-align: top\">3</td>\n",
       "        <td style=\"padding-left: 1em; padding-right: 1em; text-align: center; vertical-align: top\">613</td>\n",
       "        <td style=\"padding-left: 1em; padding-right: 1em; text-align: center; vertical-align: top\">0.0</td>\n",
       "        <td style=\"padding-left: 1em; padding-right: 1em; text-align: center; vertical-align: top\">1</td>\n",
       "    </tr>\n",
       "</table>\n",
       "[9678 rows x 4 columns]<br/>Note: Only the head of the SFrame is printed.<br/>You can use print_rows(num_rows=m, num_columns=n) to print more rows and columns.\n",
       "</div>"
      ],
      "text/plain": [
       "Columns:\n",
       "\tquery_label\tint\n",
       "\treference_label\tint\n",
       "\tdistance\tfloat\n",
       "\trank\tint\n",
       "\n",
       "Rows: 9678\n",
       "\n",
       "Data:\n",
       "+-------------+-----------------+----------------+------+\n",
       "| query_label | reference_label |    distance    | rank |\n",
       "+-------------+-----------------+----------------+------+\n",
       "|      0      |       539       |      0.0       |  1   |\n",
       "|      0      |       528       | 0.666666666667 |  2   |\n",
       "|      0      |       532       | 0.692307692308 |  3   |\n",
       "|      1      |       183       | 0.644444444444 |  1   |\n",
       "|      1      |       297       | 0.808510638298 |  2   |\n",
       "|      1      |       392       | 0.867924528302 |  3   |\n",
       "|      2      |       829       | 0.810810810811 |  1   |\n",
       "|      2      |       847       | 0.820512820513 |  2   |\n",
       "|      2      |       432       |     0.825      |  3   |\n",
       "|      3      |       613       |      0.0       |  1   |\n",
       "+-------------+-----------------+----------------+------+\n",
       "[9678 rows x 4 columns]\n",
       "Note: Only the head of the SFrame is printed.\n",
       "You can use print_rows(num_rows=m, num_columns=n) to print more rows and columns."
      ]
     },
     "execution_count": 13,
     "metadata": {},
     "output_type": "execute_result"
    }
   ],
   "source": [
    "results = base_linker.link(google, k=3)\n",
    "results"
   ]
  },
  {
   "cell_type": "code",
   "execution_count": 14,
   "metadata": {
    "collapsed": false
   },
   "outputs": [
    {
     "name": "stdout",
     "output_type": "stream",
     "text": [
      "Accuracy@3 0.922307692308\n"
     ]
    },
    {
     "data": {
      "text/html": [
       "<div style=\"max-height:1000px;max-width:1500px;overflow:auto;\"><table frame=\"box\" rules=\"cols\">\n",
       "    <tr>\n",
       "        <th style=\"padding-left: 1em; padding-right: 1em; text-align: center\">amazon name</th>\n",
       "        <th style=\"padding-left: 1em; padding-right: 1em; text-align: center\">google name</th>\n",
       "        <th style=\"padding-left: 1em; padding-right: 1em; text-align: center\">distance</th>\n",
       "        <th style=\"padding-left: 1em; padding-right: 1em; text-align: center\">rank</th>\n",
       "    </tr>\n",
       "    <tr>\n",
       "        <td style=\"padding-left: 1em; padding-right: 1em; text-align: center; vertical-align: top\">learning quickbooks 2007</td>\n",
       "        <td style=\"padding-left: 1em; padding-right: 1em; text-align: center; vertical-align: top\">learning quickbooks 2007</td>\n",
       "        <td style=\"padding-left: 1em; padding-right: 1em; text-align: center; vertical-align: top\">0.0</td>\n",
       "        <td style=\"padding-left: 1em; padding-right: 1em; text-align: center; vertical-align: top\">1</td>\n",
       "    </tr>\n",
       "    <tr>\n",
       "        <td style=\"padding-left: 1em; padding-right: 1em; text-align: center; vertical-align: top\">quickbooks simple start<br>2007 ...</td>\n",
       "        <td style=\"padding-left: 1em; padding-right: 1em; text-align: center; vertical-align: top\">learning quickbooks 2007</td>\n",
       "        <td style=\"padding-left: 1em; padding-right: 1em; text-align: center; vertical-align: top\">0.666666666667</td>\n",
       "        <td style=\"padding-left: 1em; padding-right: 1em; text-align: center; vertical-align: top\">2</td>\n",
       "    </tr>\n",
       "    <tr>\n",
       "        <td style=\"padding-left: 1em; padding-right: 1em; text-align: center; vertical-align: top\">quickbooks pro 2007 for<br>mac (mac) ...</td>\n",
       "        <td style=\"padding-left: 1em; padding-right: 1em; text-align: center; vertical-align: top\">learning quickbooks 2007</td>\n",
       "        <td style=\"padding-left: 1em; padding-right: 1em; text-align: center; vertical-align: top\">0.692307692308</td>\n",
       "        <td style=\"padding-left: 1em; padding-right: 1em; text-align: center; vertical-align: top\">3</td>\n",
       "    </tr>\n",
       "    <tr>\n",
       "        <td style=\"padding-left: 1em; padding-right: 1em; text-align: center; vertical-align: top\">jumpstart reading with<br>karaoke ...</td>\n",
       "        <td style=\"padding-left: 1em; padding-right: 1em; text-align: center; vertical-align: top\">superstart! fun with<br>reading &amp; writing! ...</td>\n",
       "        <td style=\"padding-left: 1em; padding-right: 1em; text-align: center; vertical-align: top\">0.644444444444</td>\n",
       "        <td style=\"padding-left: 1em; padding-right: 1em; text-align: center; vertical-align: top\">1</td>\n",
       "    </tr>\n",
       "    <tr>\n",
       "        <td style=\"padding-left: 1em; padding-right: 1em; text-align: center; vertical-align: top\">superstart! science<br>arcade ...</td>\n",
       "        <td style=\"padding-left: 1em; padding-right: 1em; text-align: center; vertical-align: top\">superstart! fun with<br>reading &amp; writing! ...</td>\n",
       "        <td style=\"padding-left: 1em; padding-right: 1em; text-align: center; vertical-align: top\">0.808510638298</td>\n",
       "        <td style=\"padding-left: 1em; padding-right: 1em; text-align: center; vertical-align: top\">2</td>\n",
       "    </tr>\n",
       "    <tr>\n",
       "        <td style=\"padding-left: 1em; padding-right: 1em; text-align: center; vertical-align: top\">clifford reading pack<br>(dvd box) ...</td>\n",
       "        <td style=\"padding-left: 1em; padding-right: 1em; text-align: center; vertical-align: top\">superstart! fun with<br>reading &amp; writing! ...</td>\n",
       "        <td style=\"padding-left: 1em; padding-right: 1em; text-align: center; vertical-align: top\">0.867924528302</td>\n",
       "        <td style=\"padding-left: 1em; padding-right: 1em; text-align: center; vertical-align: top\">3</td>\n",
       "    </tr>\n",
       "    <tr>\n",
       "        <td style=\"padding-left: 1em; padding-right: 1em; text-align: center; vertical-align: top\">avid liquid vs 7 software</td>\n",
       "        <td style=\"padding-left: 1em; padding-right: 1em; text-align: center; vertical-align: top\">qb pos 6.0 basic software</td>\n",
       "        <td style=\"padding-left: 1em; padding-right: 1em; text-align: center; vertical-align: top\">0.810810810811</td>\n",
       "        <td style=\"padding-left: 1em; padding-right: 1em; text-align: center; vertical-align: top\">1</td>\n",
       "    </tr>\n",
       "    <tr>\n",
       "        <td style=\"padding-left: 1em; padding-right: 1em; text-align: center; vertical-align: top\">vpn client software 5<br>users ...</td>\n",
       "        <td style=\"padding-left: 1em; padding-right: 1em; text-align: center; vertical-align: top\">qb pos 6.0 basic software</td>\n",
       "        <td style=\"padding-left: 1em; padding-right: 1em; text-align: center; vertical-align: top\">0.820512820513</td>\n",
       "        <td style=\"padding-left: 1em; padding-right: 1em; text-align: center; vertical-align: top\">2</td>\n",
       "    </tr>\n",
       "    <tr>\n",
       "        <td style=\"padding-left: 1em; padding-right: 1em; text-align: center; vertical-align: top\">cell phone software<br>solution ...</td>\n",
       "        <td style=\"padding-left: 1em; padding-right: 1em; text-align: center; vertical-align: top\">qb pos 6.0 basic software</td>\n",
       "        <td style=\"padding-left: 1em; padding-right: 1em; text-align: center; vertical-align: top\">0.825</td>\n",
       "        <td style=\"padding-left: 1em; padding-right: 1em; text-align: center; vertical-align: top\">3</td>\n",
       "    </tr>\n",
       "    <tr>\n",
       "        <td style=\"padding-left: 1em; padding-right: 1em; text-align: center; vertical-align: top\">math missions: the<br>amazing arcade adventure ...</td>\n",
       "        <td style=\"padding-left: 1em; padding-right: 1em; text-align: center; vertical-align: top\">math missions: the<br>amazing arcade adventure ...</td>\n",
       "        <td style=\"padding-left: 1em; padding-right: 1em; text-align: center; vertical-align: top\">0.0</td>\n",
       "        <td style=\"padding-left: 1em; padding-right: 1em; text-align: center; vertical-align: top\">1</td>\n",
       "    </tr>\n",
       "</table>\n",
       "[9678 rows x 4 columns]<br/>Note: Only the head of the SFrame is printed.<br/>You can use print_rows(num_rows=m, num_columns=n) to print more rows and columns.\n",
       "</div>"
      ],
      "text/plain": [
       "Columns:\n",
       "\tamazon name\tstr\n",
       "\tgoogle name\tstr\n",
       "\tdistance\tfloat\n",
       "\trank\tint\n",
       "\n",
       "Rows: 9678\n",
       "\n",
       "Data:\n",
       "+--------------------------------+-------------------------------+\n",
       "|          amazon name           |          google name          |\n",
       "+--------------------------------+-------------------------------+\n",
       "|    learning quickbooks 2007    |    learning quickbooks 2007   |\n",
       "|  quickbooks simple start 2007  |    learning quickbooks 2007   |\n",
       "| quickbooks pro 2007 for ma...  |    learning quickbooks 2007   |\n",
       "| jumpstart reading with karaoke | superstart! fun with readi... |\n",
       "|   superstart! science arcade   | superstart! fun with readi... |\n",
       "| clifford reading pack (dvd...  | superstart! fun with readi... |\n",
       "|   avid liquid vs 7 software    |   qb pos 6.0 basic software   |\n",
       "|  vpn client software 5 users   |   qb pos 6.0 basic software   |\n",
       "|  cell phone software solution  |   qb pos 6.0 basic software   |\n",
       "| math missions: the amazing...  | math missions: the amazing... |\n",
       "+--------------------------------+-------------------------------+\n",
       "+----------------+------+\n",
       "|    distance    | rank |\n",
       "+----------------+------+\n",
       "|      0.0       |  1   |\n",
       "| 0.666666666667 |  2   |\n",
       "| 0.692307692308 |  3   |\n",
       "| 0.644444444444 |  1   |\n",
       "| 0.808510638298 |  2   |\n",
       "| 0.867924528302 |  3   |\n",
       "| 0.810810810811 |  1   |\n",
       "| 0.820512820513 |  2   |\n",
       "|     0.825      |  3   |\n",
       "|      0.0       |  1   |\n",
       "+----------------+------+\n",
       "[9678 rows x 4 columns]\n",
       "Note: Only the head of the SFrame is printed.\n",
       "You can use print_rows(num_rows=m, num_columns=n) to print more rows and columns."
      ]
     },
     "execution_count": 14,
     "metadata": {},
     "output_type": "execute_result"
    }
   ],
   "source": [
    "print 'Accuracy@3', accuracy_at(results, truth)\n",
    "get_matches(results, amazon, google)"
   ]
  },
  {
   "cell_type": "markdown",
   "metadata": {},
   "source": [
    "## <a id=\"feature\"></a> Feature Engineering"
   ]
  },
  {
   "cell_type": "code",
   "execution_count": 15,
   "metadata": {
    "collapsed": false,
    "scrolled": false
   },
   "outputs": [
    {
     "data": {
      "text/html": [
       "<div style=\"max-height:1000px;max-width:1500px;overflow:auto;\"><table frame=\"box\" rules=\"cols\">\n",
       "    <tr>\n",
       "        <th style=\"padding-left: 1em; padding-right: 1em; text-align: center\">label</th>\n",
       "        <th style=\"padding-left: 1em; padding-right: 1em; text-align: center\">name</th>\n",
       "        <th style=\"padding-left: 1em; padding-right: 1em; text-align: center\">3 char</th>\n",
       "    </tr>\n",
       "    <tr>\n",
       "        <td style=\"padding-left: 1em; padding-right: 1em; text-align: center; vertical-align: top\">0</td>\n",
       "        <td style=\"padding-left: 1em; padding-right: 1em; text-align: center; vertical-align: top\">clickart 950 000 -<br>premier image pack (dvd- ...</td>\n",
       "        <td style=\"padding-left: 1em; padding-right: 1em; text-align: center; vertical-align: top\">{'pre': 1, 'art': 1,<br>'rom': 1, '00p': 1, ...</td>\n",
       "    </tr>\n",
       "    <tr>\n",
       "        <td style=\"padding-left: 1em; padding-right: 1em; text-align: center; vertical-align: top\">1</td>\n",
       "        <td style=\"padding-left: 1em; padding-right: 1em; text-align: center; vertical-align: top\">ca international -<br>arcserve lap/desktop oem ...</td>\n",
       "        <td style=\"padding-left: 1em; padding-right: 1em; text-align: center; vertical-align: top\">{'ser': 1, 'rve': 1,<br>'30p': 1, 'ona': 1, ...</td>\n",
       "    </tr>\n",
       "    <tr>\n",
       "        <td style=\"padding-left: 1em; padding-right: 1em; text-align: center; vertical-align: top\">2</td>\n",
       "        <td style=\"padding-left: 1em; padding-right: 1em; text-align: center; vertical-align: top\">noah's ark activity<br>center (jewel case ages ...</td>\n",
       "        <td style=\"padding-left: 1em; padding-right: 1em; text-align: center; vertical-align: top\">{'kac': 1, 'sea': 1,<br>'ivi': 1, 'ahs': 1, ...</td>\n",
       "    </tr>\n",
       "</table>\n",
       "[3 rows x 3 columns]<br/>\n",
       "</div>"
      ],
      "text/plain": [
       "Columns:\n",
       "\tlabel\tint\n",
       "\tname\tstr\n",
       "\t3 char\tdict\n",
       "\n",
       "Rows: 3\n",
       "\n",
       "Data:\n",
       "+-------+-------------------------------+-------------------------------+\n",
       "| label |              name             |             3 char            |\n",
       "+-------+-------------------------------+-------------------------------+\n",
       "|   0   | clickart 950 000 - premier... | {'pre': 1, 'art': 1, 'rom'... |\n",
       "|   1   | ca international - arcserv... | {'ser': 1, 'rve': 1, '30p'... |\n",
       "|   2   | noah's ark activity center... | {'kac': 1, 'sea': 1, 'ivi'... |\n",
       "+-------+-------------------------------+-------------------------------+\n",
       "[3 rows x 3 columns]"
      ]
     },
     "execution_count": 15,
     "metadata": {},
     "output_type": "execute_result"
    }
   ],
   "source": [
    "# Example of features that the record linker create\n",
    "amazon['3 char'] = gl.text_analytics.count_ngrams(amazon['name'], n=3, method='character')\n",
    "amazon.head(3)"
   ]
  },
  {
   "cell_type": "code",
   "execution_count": 16,
   "metadata": {
    "collapsed": true
   },
   "outputs": [],
   "source": [
    "# Remove the feture for the sake of cleanliness\n",
    "amazon = amazon.remove_column('3 char')"
   ]
  },
  {
   "cell_type": "markdown",
   "metadata": {},
   "source": [
    "<b>In product matching, numbers can be highly helpful as they can represent model identifiers, versions, ect.</b>"
   ]
  },
  {
   "cell_type": "code",
   "execution_count": 17,
   "metadata": {
    "collapsed": false,
    "scrolled": true
   },
   "outputs": [
    {
     "data": {
      "text/html": [
       "<div style=\"max-height:1000px;max-width:1500px;overflow:auto;\"><table frame=\"box\" rules=\"cols\">\n",
       "    <tr>\n",
       "        <th style=\"padding-left: 1em; padding-right: 1em; text-align: center\">label</th>\n",
       "        <th style=\"padding-left: 1em; padding-right: 1em; text-align: center\">name</th>\n",
       "        <th style=\"padding-left: 1em; padding-right: 1em; text-align: center\">numbers</th>\n",
       "    </tr>\n",
       "    <tr>\n",
       "        <td style=\"padding-left: 1em; padding-right: 1em; text-align: center; vertical-align: top\">0</td>\n",
       "        <td style=\"padding-left: 1em; padding-right: 1em; text-align: center; vertical-align: top\">clickart 950 000 -<br>premier image pack (dvd- ...</td>\n",
       "        <td style=\"padding-left: 1em; padding-right: 1em; text-align: center; vertical-align: top\">{'950': 1, '000': 1}</td>\n",
       "    </tr>\n",
       "    <tr>\n",
       "        <td style=\"padding-left: 1em; padding-right: 1em; text-align: center; vertical-align: top\">1</td>\n",
       "        <td style=\"padding-left: 1em; padding-right: 1em; text-align: center; vertical-align: top\">ca international -<br>arcserve lap/desktop oem ...</td>\n",
       "        <td style=\"padding-left: 1em; padding-right: 1em; text-align: center; vertical-align: top\">{'30': 1}</td>\n",
       "    </tr>\n",
       "    <tr>\n",
       "        <td style=\"padding-left: 1em; padding-right: 1em; text-align: center; vertical-align: top\">2</td>\n",
       "        <td style=\"padding-left: 1em; padding-right: 1em; text-align: center; vertical-align: top\">noah's ark activity<br>center (jewel case ages ...</td>\n",
       "        <td style=\"padding-left: 1em; padding-right: 1em; text-align: center; vertical-align: top\">{'8': 1, '3': 1}</td>\n",
       "    </tr>\n",
       "    <tr>\n",
       "        <td style=\"padding-left: 1em; padding-right: 1em; text-align: center; vertical-align: top\">3</td>\n",
       "        <td style=\"padding-left: 1em; padding-right: 1em; text-align: center; vertical-align: top\">peachtree by sage premium<br>accounting for nonpro ...</td>\n",
       "        <td style=\"padding-left: 1em; padding-right: 1em; text-align: center; vertical-align: top\">{'2007': 1}</td>\n",
       "    </tr>\n",
       "    <tr>\n",
       "        <td style=\"padding-left: 1em; padding-right: 1em; text-align: center; vertical-align: top\">4</td>\n",
       "        <td style=\"padding-left: 1em; padding-right: 1em; text-align: center; vertical-align: top\">singing coach unlimited</td>\n",
       "        <td style=\"padding-left: 1em; padding-right: 1em; text-align: center; vertical-align: top\">{}</td>\n",
       "    </tr>\n",
       "</table>\n",
       "[5 rows x 3 columns]<br/>\n",
       "</div>"
      ],
      "text/plain": [
       "Columns:\n",
       "\tlabel\tint\n",
       "\tname\tstr\n",
       "\tnumbers\tdict\n",
       "\n",
       "Rows: 5\n",
       "\n",
       "Data:\n",
       "+-------+-------------------------------+----------------------+\n",
       "| label |              name             |       numbers        |\n",
       "+-------+-------------------------------+----------------------+\n",
       "|   0   | clickart 950 000 - premier... | {'950': 1, '000': 1} |\n",
       "|   1   | ca international - arcserv... |      {'30': 1}       |\n",
       "|   2   | noah's ark activity center... |   {'8': 1, '3': 1}   |\n",
       "|   3   | peachtree by sage premium ... |     {'2007': 1}      |\n",
       "|   4   |    singing coach unlimited    |          {}          |\n",
       "+-------+-------------------------------+----------------------+\n",
       "[5 rows x 3 columns]"
      ]
     },
     "execution_count": 17,
     "metadata": {},
     "output_type": "execute_result"
    }
   ],
   "source": [
    "from collections import Counter\n",
    "\n",
    "# Extract numbers from the name\n",
    "amazon['numbers'] = amazon['name'].apply(lambda name: dict(Counter(re.findall('\\d+\\.*\\d*', name))))\n",
    "google['numbers'] = google['name'].apply(lambda name: dict(Counter(re.findall('\\d+\\.*\\d*', name))))\n",
    "\n",
    "amazon.head(5)"
   ]
  },
  {
   "cell_type": "code",
   "execution_count": 18,
   "metadata": {
    "collapsed": false
   },
   "outputs": [
    {
     "data": {
      "text/html": [
       "<pre>Starting brute force nearest neighbors model training.</pre>"
      ],
      "text/plain": [
       "Starting brute force nearest neighbors model training."
      ]
     },
     "metadata": {},
     "output_type": "display_data"
    },
    {
     "name": "stdout",
     "output_type": "stream",
     "text": [
      "Accuracy@3 0.927692307692\n"
     ]
    },
    {
     "data": {
      "text/html": [
       "<div style=\"max-height:1000px;max-width:1500px;overflow:auto;\"><table frame=\"box\" rules=\"cols\">\n",
       "    <tr>\n",
       "        <th style=\"padding-left: 1em; padding-right: 1em; text-align: center\">amazon name</th>\n",
       "        <th style=\"padding-left: 1em; padding-right: 1em; text-align: center\">google name</th>\n",
       "        <th style=\"padding-left: 1em; padding-right: 1em; text-align: center\">distance</th>\n",
       "        <th style=\"padding-left: 1em; padding-right: 1em; text-align: center\">rank</th>\n",
       "    </tr>\n",
       "    <tr>\n",
       "        <td style=\"padding-left: 1em; padding-right: 1em; text-align: center; vertical-align: top\">learning quickbooks 2007</td>\n",
       "        <td style=\"padding-left: 1em; padding-right: 1em; text-align: center; vertical-align: top\">learning quickbooks 2007</td>\n",
       "        <td style=\"padding-left: 1em; padding-right: 1em; text-align: center; vertical-align: top\">0.0</td>\n",
       "        <td style=\"padding-left: 1em; padding-right: 1em; text-align: center; vertical-align: top\">1</td>\n",
       "    </tr>\n",
       "    <tr>\n",
       "        <td style=\"padding-left: 1em; padding-right: 1em; text-align: center; vertical-align: top\">quickbooks simple start<br>2007 ...</td>\n",
       "        <td style=\"padding-left: 1em; padding-right: 1em; text-align: center; vertical-align: top\">learning quickbooks 2007</td>\n",
       "        <td style=\"padding-left: 1em; padding-right: 1em; text-align: center; vertical-align: top\">1.2972972973</td>\n",
       "        <td style=\"padding-left: 1em; padding-right: 1em; text-align: center; vertical-align: top\">2</td>\n",
       "    </tr>\n",
       "    <tr>\n",
       "        <td style=\"padding-left: 1em; padding-right: 1em; text-align: center; vertical-align: top\">quickbooks pro 2007 for<br>mac (mac) ...</td>\n",
       "        <td style=\"padding-left: 1em; padding-right: 1em; text-align: center; vertical-align: top\">learning quickbooks 2007</td>\n",
       "        <td style=\"padding-left: 1em; padding-right: 1em; text-align: center; vertical-align: top\">1.35</td>\n",
       "        <td style=\"padding-left: 1em; padding-right: 1em; text-align: center; vertical-align: top\">3</td>\n",
       "    </tr>\n",
       "    <tr>\n",
       "        <td style=\"padding-left: 1em; padding-right: 1em; text-align: center; vertical-align: top\">jumpstart reading with<br>karaoke ...</td>\n",
       "        <td style=\"padding-left: 1em; padding-right: 1em; text-align: center; vertical-align: top\">superstart! fun with<br>reading &amp; writing! ...</td>\n",
       "        <td style=\"padding-left: 1em; padding-right: 1em; text-align: center; vertical-align: top\">1.28888888889</td>\n",
       "        <td style=\"padding-left: 1em; padding-right: 1em; text-align: center; vertical-align: top\">1</td>\n",
       "    </tr>\n",
       "    <tr>\n",
       "        <td style=\"padding-left: 1em; padding-right: 1em; text-align: center; vertical-align: top\">superstart! science<br>arcade ...</td>\n",
       "        <td style=\"padding-left: 1em; padding-right: 1em; text-align: center; vertical-align: top\">superstart! fun with<br>reading &amp; writing! ...</td>\n",
       "        <td style=\"padding-left: 1em; padding-right: 1em; text-align: center; vertical-align: top\">1.6170212766</td>\n",
       "        <td style=\"padding-left: 1em; padding-right: 1em; text-align: center; vertical-align: top\">2</td>\n",
       "    </tr>\n",
       "    <tr>\n",
       "        <td style=\"padding-left: 1em; padding-right: 1em; text-align: center; vertical-align: top\">clifford reading pack<br>(dvd box) ...</td>\n",
       "        <td style=\"padding-left: 1em; padding-right: 1em; text-align: center; vertical-align: top\">superstart! fun with<br>reading &amp; writing! ...</td>\n",
       "        <td style=\"padding-left: 1em; padding-right: 1em; text-align: center; vertical-align: top\">1.7358490566</td>\n",
       "        <td style=\"padding-left: 1em; padding-right: 1em; text-align: center; vertical-align: top\">3</td>\n",
       "    </tr>\n",
       "    <tr>\n",
       "        <td style=\"padding-left: 1em; padding-right: 1em; text-align: center; vertical-align: top\">quickbooks point-of-sale<br>basic 6.0 ...</td>\n",
       "        <td style=\"padding-left: 1em; padding-right: 1em; text-align: center; vertical-align: top\">qb pos 6.0 basic software</td>\n",
       "        <td style=\"padding-left: 1em; padding-right: 1em; text-align: center; vertical-align: top\">1.63636363636</td>\n",
       "        <td style=\"padding-left: 1em; padding-right: 1em; text-align: center; vertical-align: top\">1</td>\n",
       "    </tr>\n",
       "    <tr>\n",
       "        <td style=\"padding-left: 1em; padding-right: 1em; text-align: center; vertical-align: top\">avid liquid vs 7 software</td>\n",
       "        <td style=\"padding-left: 1em; padding-right: 1em; text-align: center; vertical-align: top\">qb pos 6.0 basic software</td>\n",
       "        <td style=\"padding-left: 1em; padding-right: 1em; text-align: center; vertical-align: top\">1.64102564103</td>\n",
       "        <td style=\"padding-left: 1em; padding-right: 1em; text-align: center; vertical-align: top\">2</td>\n",
       "    </tr>\n",
       "    <tr>\n",
       "        <td style=\"padding-left: 1em; padding-right: 1em; text-align: center; vertical-align: top\">cell phone software<br>solution ...</td>\n",
       "        <td style=\"padding-left: 1em; padding-right: 1em; text-align: center; vertical-align: top\">qb pos 6.0 basic software</td>\n",
       "        <td style=\"padding-left: 1em; padding-right: 1em; text-align: center; vertical-align: top\">1.65853658537</td>\n",
       "        <td style=\"padding-left: 1em; padding-right: 1em; text-align: center; vertical-align: top\">3</td>\n",
       "    </tr>\n",
       "    <tr>\n",
       "        <td style=\"padding-left: 1em; padding-right: 1em; text-align: center; vertical-align: top\">math missions: the<br>amazing arcade adventure ...</td>\n",
       "        <td style=\"padding-left: 1em; padding-right: 1em; text-align: center; vertical-align: top\">math missions: the<br>amazing arcade adventure ...</td>\n",
       "        <td style=\"padding-left: 1em; padding-right: 1em; text-align: center; vertical-align: top\">0.0</td>\n",
       "        <td style=\"padding-left: 1em; padding-right: 1em; text-align: center; vertical-align: top\">1</td>\n",
       "    </tr>\n",
       "</table>\n",
       "[9678 rows x 4 columns]<br/>Note: Only the head of the SFrame is printed.<br/>You can use print_rows(num_rows=m, num_columns=n) to print more rows and columns.\n",
       "</div>"
      ],
      "text/plain": [
       "Columns:\n",
       "\tamazon name\tstr\n",
       "\tgoogle name\tstr\n",
       "\tdistance\tfloat\n",
       "\trank\tint\n",
       "\n",
       "Rows: 9678\n",
       "\n",
       "Data:\n",
       "+--------------------------------+-------------------------------+---------------+\n",
       "|          amazon name           |          google name          |    distance   |\n",
       "+--------------------------------+-------------------------------+---------------+\n",
       "|    learning quickbooks 2007    |    learning quickbooks 2007   |      0.0      |\n",
       "|  quickbooks simple start 2007  |    learning quickbooks 2007   |  1.2972972973 |\n",
       "| quickbooks pro 2007 for ma...  |    learning quickbooks 2007   |      1.35     |\n",
       "| jumpstart reading with karaoke | superstart! fun with readi... | 1.28888888889 |\n",
       "|   superstart! science arcade   | superstart! fun with readi... |  1.6170212766 |\n",
       "| clifford reading pack (dvd...  | superstart! fun with readi... |  1.7358490566 |\n",
       "| quickbooks point-of-sale b...  |   qb pos 6.0 basic software   | 1.63636363636 |\n",
       "|   avid liquid vs 7 software    |   qb pos 6.0 basic software   | 1.64102564103 |\n",
       "|  cell phone software solution  |   qb pos 6.0 basic software   | 1.65853658537 |\n",
       "| math missions: the amazing...  | math missions: the amazing... |      0.0      |\n",
       "+--------------------------------+-------------------------------+---------------+\n",
       "+------+\n",
       "| rank |\n",
       "+------+\n",
       "|  1   |\n",
       "|  2   |\n",
       "|  3   |\n",
       "|  1   |\n",
       "|  2   |\n",
       "|  3   |\n",
       "|  1   |\n",
       "|  2   |\n",
       "|  3   |\n",
       "|  1   |\n",
       "+------+\n",
       "[9678 rows x 4 columns]\n",
       "Note: Only the head of the SFrame is printed.\n",
       "You can use print_rows(num_rows=m, num_columns=n) to print more rows and columns."
      ]
     },
     "execution_count": 18,
     "metadata": {},
     "output_type": "execute_result"
    }
   ],
   "source": [
    "# Create a record linker using the extracted numeric features\n",
    "num_linker = gl.record_linker.create(amazon, features=['name', 'numbers'])\n",
    "\n",
    "results = num_linker.link(google, k=3, verbose=False)\n",
    "\n",
    "print 'Accuracy@3', accuracy_at(results, truth)\n",
    "get_matches(results, amazon, google)"
   ]
  },
  {
   "cell_type": "markdown",
   "metadata": {},
   "source": [
    "## <a id=\"k\"></a> Exploring k"
   ]
  },
  {
   "cell_type": "code",
   "execution_count": 19,
   "metadata": {
    "collapsed": false
   },
   "outputs": [],
   "source": [
    "# Calculate accuracy at k for k between 1 and 10 for both models\n",
    "k_range = range(1, 11)\n",
    "base_accuracy = [accuracy_at(base_linker.link(google, k, verbose=False), truth) for k in k_range]\n",
    "num_accuracy = [accuracy_at(num_linker.link(google, k, verbose=False), truth) for k in k_range]"
   ]
  },
  {
   "cell_type": "code",
   "execution_count": 20,
   "metadata": {
    "collapsed": false,
    "scrolled": false
   },
   "outputs": [
    {
     "data": {
      "image/png": "[encoded data removed]",
      "text/plain": [
       "<matplotlib.figure.Figure at 0x113f05290>"
      ]
     },
     "metadata": {},
     "output_type": "display_data"
    }
   ],
   "source": [
    "# Plot the results\n",
    "plt.style.use('ggplot')\n",
    "\n",
    "plt.title('Accuracy@k')\n",
    "plt.ylabel('Accuracy')\n",
    "plt.xlabel('k')\n",
    "\n",
    "plt.plot(k_range, base_accuracy, marker='o', color='b', label='Base Linker')\n",
    "plt.plot(k_range, num_accuracy, marker='o', color='g', label='Number Linker')\n",
    "\n",
    "plt.legend(loc=4)\n",
    "None"
   ]
  },
  {
   "cell_type": "markdown",
   "metadata": {},
   "source": [
    "<b>\n",
    "We can see that the extracted numbers positively affect our model. <br>\n",
    "There are many more possible features to explore, and different distance functions to try. Read more in [our userguide](https://turi.com/learn/userguide/data_matching/introduction.html).\n",
    "</b>"
   ]
  },
  {
   "cell_type": "markdown",
   "metadata": {},
   "source": [
    "## <a id=\"r\"></a> Exploring the radius"
   ]
  },
  {
   "cell_type": "markdown",
   "metadata": {},
   "source": [
    "<b>Some times not all k results make sense, or we just don't want to present a user with too many possibilities. <br>\n",
    "For this we have the radius parameter which serves as a distance threshold. </b>"
   ]
  },
  {
   "cell_type": "code",
   "execution_count": 21,
   "metadata": {
    "collapsed": false
   },
   "outputs": [
    {
     "name": "stdout",
     "output_type": "stream",
     "text": [
      "Accuracy: 0.972307692308\n",
      "Possible number of results to go through: 32260\n"
     ]
    }
   ],
   "source": [
    "results = num_linker.link(google, k=10, verbose=False)\n",
    "\n",
    "print 'Accuracy:', accuracy_at(results, truth)\n",
    "print 'Possible number of results to go through:', len(results)"
   ]
  },
  {
   "cell_type": "code",
   "execution_count": 22,
   "metadata": {
    "collapsed": false
   },
   "outputs": [
    {
     "data": {
      "application/javascript": [
       "$(\"head\").append($(\"<link/>\").attr({\n",
       "  rel:  \"stylesheet\",\n",
       "  type: \"text/css\",\n",
       "  href: \"//cdnjs.cloudflare.com/ajax/libs/font-awesome/4.1.0/css/font-awesome.min.css\"\n",
       "}));\n",
       "$(\"head\").append($(\"<link/>\").attr({\n",
       "  rel:  \"stylesheet\",\n",
       "  type: \"text/css\",\n",
       "  href: \"//turi.com/files/canvas/1.9/css/canvas.css\"\n",
       "}));\n",
       "\n",
       "            (function(){\n",
       "\n",
       "                var e = null;\n",
       "                if (typeof element == 'undefined') {\n",
       "                    var scripts = document.getElementsByTagName('script');\n",
       "                    var thisScriptTag = scripts[scripts.length-1];\n",
       "                    var parentDiv = thisScriptTag.parentNode;\n",
       "                    e = document.createElement('div');\n",
       "                    parentDiv.appendChild(e);\n",
       "                } else {\n",
       "                    e = element[0];\n",
       "                }\n",
       "\n",
       "                if (typeof requirejs !== 'undefined') {\n",
       "                    // disable load timeout; ipython_app.js is large and can take a while to load.\n",
       "                    requirejs.config({waitSeconds: 0});\n",
       "                }\n",
       "\n",
       "                require(['//turi.com/files/canvas/1.9/js/ipython_app.js'], function(IPythonApp){\n",
       "                    var app = new IPythonApp();\n",
       "                    app.attachView('sarray','Numeric', {\"ipython\": true, \"sketch\": {\"std\": 0.262533432678551, \"complete\": true, \"min\": 0.0, \"max\": 1.935483870967742, \"quantile\": [0.0, 0.5, 0.76, 0.9130434782608696, 1.0114942528735633, 1.0930232558139537, 1.1578947368421053, 1.2142857142857144, 1.2571428571428571, 1.2941176470588234, 1.3263157894736843, 1.3559322033898304, 1.380952380952381, 1.4054054054054053, 1.4246575342465753, 1.4434782608695653, 1.4634146341463414, 1.48, 1.5, 1.5135135135135136, 1.5263157894736843, 1.5384615384615383, 1.55, 1.5602836879432624, 1.5692307692307692, 1.5774647887323945, 1.5862068965517242, 1.592920353982301, 1.6, 1.6071428571428572, 1.6129032258064515, 1.619047619047619, 1.623931623931624, 1.6296296296296298, 1.6363636363636362, 1.6404494382022472, 1.6444444444444444, 1.6491228070175439, 1.6521739130434783, 1.657142857142857, 1.6610169491525424, 1.6666666666666667, 1.6666666666666667, 1.6721311475409837, 1.6756756756756757, 1.6790123456790123, 1.6822429906542056, 1.6857142857142857, 1.6888888888888889, 1.6923076923076923, 1.694915254237288, 1.6981132075471699, 1.7014925373134329, 1.7046979865771812, 1.7078651685393258, 1.7105263157894737, 1.7142857142857144, 1.7173913043478262, 1.72, 1.7230769230769232, 1.7263157894736842, 1.7297297297297298, 1.7321428571428572, 1.7352941176470589, 1.7377049180327868, 1.7407407407407407, 1.7435897435897436, 1.746031746031746, 1.75, 1.7518248175182483, 1.7547169811320755, 1.7575757575757576, 1.7608695652173914, 1.7634408602150538, 1.7666666666666666, 1.7701149425287357, 1.773049645390071, 1.7777777777777777, 1.7796610169491525, 1.783132530120482, 1.7866666666666666, 1.7902097902097902, 1.7941176470588236, 1.797752808988764, 1.8021978021978022, 1.8064516129032258, 1.8108108108108107, 1.8148148148148149, 1.8181818181818181, 1.8245614035087718, 1.8285714285714285, 1.8333333333333333, 1.8387096774193548, 1.8434782608695652, 1.8484848484848484, 1.853658536585366, 1.8591549295774648, 1.8666666666666667, 1.875, 1.8888888888888888, 1.935483870967742], \"median\": 1.694915254237288, \"numeric\": true, \"num_unique\": 2656, \"num_undefined\": 0, \"var\": 0.06892380327398327, \"progress\": 1.0, \"size\": 32260, \"frequent_items\": {\"0.0\": {\"frequency\": 118, \"value\": 0.0}, \"1.8125\": {\"frequency\": 86, \"value\": 1.8125}, \"0.6875\": {\"frequency\": 4, \"value\": 0.6875}, \"1.0\": {\"frequency\": 71, \"value\": 1.0}, \"1.7621145374449338\": {\"frequency\": 1, \"value\": 1.7621145374449338}, \"1.706896551724138\": {\"frequency\": 5, \"value\": 1.706896551724138}, \"1.7313432835820897\": {\"frequency\": 55, \"value\": 1.7313432835820897}, \"1.6695652173913045\": {\"frequency\": 7, \"value\": 1.6695652173913045}, \"1.7052631578947368\": {\"frequency\": 26, \"value\": 1.7052631578947368}, \"1.7566137566137567\": {\"frequency\": 1, \"value\": 1.7566137566137567}, \"0.7076923076923076\": {\"frequency\": 1, \"value\": 0.7076923076923076}, \"0.75\": {\"frequency\": 13, \"value\": 0.75}, \"1.422680412371134\": {\"frequency\": 3, \"value\": 1.422680412371134}, \"1.2920353982300885\": {\"frequency\": 1, \"value\": 1.2920353982300885}, \"1.92\": {\"frequency\": 3, \"value\": 1.92}, \"1.4105263157894736\": {\"frequency\": 3, \"value\": 1.4105263157894736}, \"1.8657718120805369\": {\"frequency\": 1, \"value\": 1.8657718120805369}, \"1.425531914893617\": {\"frequency\": 1, \"value\": 1.425531914893617}, \"0.930232558139535\": {\"frequency\": 2, \"value\": 0.930232558139535}, \"1.6056338028169015\": {\"frequency\": 16, \"value\": 1.6056338028169015}, \"1.8453608247422681\": {\"frequency\": 1, \"value\": 1.8453608247422681}, \"1.5818181818181818\": {\"frequency\": 2, \"value\": 1.5818181818181818}, \"1.7315436241610738\": {\"frequency\": 3, \"value\": 1.7315436241610738}, \"1.8987341772151898\": {\"frequency\": 4, \"value\": 1.8987341772151898}, \"1.7005988023952097\": {\"frequency\": 1, \"value\": 1.7005988023952097}, \"1.774436090225564\": {\"frequency\": 7, \"value\": 1.774436090225564}, \"1.6710526315789473\": {\"frequency\": 3, \"value\": 1.6710526315789473}, \"1.7657657657657657\": {\"frequency\": 22, \"value\": 1.7657657657657657}, \"1.026315789473684\": {\"frequency\": 1, \"value\": 1.026315789473684}, \"1.851063829787234\": {\"frequency\": 16, \"value\": 1.851063829787234}, \"1.7582417582417582\": {\"frequency\": 32, \"value\": 1.7582417582417582}, \"1.815126050420168\": {\"frequency\": 4, \"value\": 1.815126050420168}, \"1.807909604519774\": {\"frequency\": 1, \"value\": 1.807909604519774}, \"0.9846153846153847\": {\"frequency\": 1, \"value\": 0.9846153846153847}, \"1.8471337579617835\": {\"frequency\": 1, \"value\": 1.8471337579617835}, \"1.7049180327868854\": {\"frequency\": 52, \"value\": 1.7049180327868854}, \"1.5342465753424657\": {\"frequency\": 8, \"value\": 1.5342465753424657}, \"1.211267605633803\": {\"frequency\": 1, \"value\": 1.211267605633803}, \"1.5797101449275361\": {\"frequency\": 1, \"value\": 1.5797101449275361}, \"0.5\": {\"frequency\": 12, \"value\": 0.5}, \"1.800995024875622\": {\"frequency\": 1, \"value\": 1.800995024875622}, \"1.4949494949494948\": {\"frequency\": 2, \"value\": 1.4949494949494948}, \"1.1636363636363636\": {\"frequency\": 10, \"value\": 1.1636363636363636}, \"1.6666666666666667\": {\"frequency\": 453, \"value\": 1.6666666666666667}, \"1.701657458563536\": {\"frequency\": 1, \"value\": 1.701657458563536}, \"1.8148148148148149\": {\"frequency\": 46, \"value\": 1.8148148148148149}, \"1.68\": {\"frequency\": 120, \"value\": 1.68}, \"1.8636363636363638\": {\"frequency\": 40, \"value\": 1.8636363636363638}, \"1.7079646017699115\": {\"frequency\": 1, \"value\": 1.7079646017699115}, \"1.5166666666666666\": {\"frequency\": 2, \"value\": 1.5166666666666666}, \"0.8510638297872339\": {\"frequency\": 2, \"value\": 0.8510638297872339}, \"1.5950920245398774\": {\"frequency\": 1, \"value\": 1.5950920245398774}, \"1.5164835164835164\": {\"frequency\": 8, \"value\": 1.5164835164835164}, \"1.6184971098265897\": {\"frequency\": 1, \"value\": 1.6184971098265897}, \"1.6778523489932886\": {\"frequency\": 4, \"value\": 1.6778523489932886}, \"1.6302521008403361\": {\"frequency\": 6, \"value\": 1.6302521008403361}, \"1.8653846153846154\": {\"frequency\": 5, \"value\": 1.8653846153846154}, \"1.6705882352941177\": {\"frequency\": 26, \"value\": 1.6705882352941177}, \"1.9157894736842105\": {\"frequency\": 1, \"value\": 1.9157894736842105}, \"0.6470588235294117\": {\"frequency\": 3, \"value\": 0.6470588235294117}, \"1.6223776223776225\": {\"frequency\": 1, \"value\": 1.6223776223776225}, \"1.4141414141414141\": {\"frequency\": 2, \"value\": 1.4141414141414141}, \"1.189873417721519\": {\"frequency\": 2, \"value\": 1.189873417721519}, \"1.694267515923567\": {\"frequency\": 3, \"value\": 1.694267515923567}, \"1.4728682170542635\": {\"frequency\": 1, \"value\": 1.4728682170542635}, \"1.621212121212121\": {\"frequency\": 2, \"value\": 1.621212121212121}, \"1.767741935483871\": {\"frequency\": 2, \"value\": 1.767741935483871}, \"1.4324324324324325\": {\"frequency\": 6, \"value\": 1.4324324324324325}, \"0.8928571428571428\": {\"frequency\": 8, \"value\": 0.8928571428571428}, \"1.748502994011976\": {\"frequency\": 1, \"value\": 1.748502994011976}, \"1.8054054054054054\": {\"frequency\": 1, \"value\": 1.8054054054054054}, \"1.68944099378882\": {\"frequency\": 1, \"value\": 1.68944099378882}, \"1.7457627118644068\": {\"frequency\": 9, \"value\": 1.7457627118644068}, \"1.1830985915492958\": {\"frequency\": 4, \"value\": 1.1830985915492958}, \"0.5797101449275361\": {\"frequency\": 1, \"value\": 0.5797101449275361}, \"1.6984126984126984\": {\"frequency\": 11, \"value\": 1.6984126984126984}, \"0.9350649350649352\": {\"frequency\": 1, \"value\": 0.9350649350649352}, \"1.75\": {\"frequency\": 386, \"value\": 1.75}, \"1.2134831460674156\": {\"frequency\": 2, \"value\": 1.2134831460674156}, \"1.8048780487804879\": {\"frequency\": 55, \"value\": 1.8048780487804879}, \"0.95\": {\"frequency\": 5, \"value\": 0.95}, \"1.46875\": {\"frequency\": 9, \"value\": 1.46875}, \"1.2463768115942029\": {\"frequency\": 2, \"value\": 1.2463768115942029}, \"0.5098039215686274\": {\"frequency\": 3, \"value\": 0.5098039215686274}, \"1.3866666666666667\": {\"frequency\": 3, \"value\": 1.3866666666666667}, \"1.6535433070866141\": {\"frequency\": 3, \"value\": 1.6535433070866141}, \"1.2747252747252746\": {\"frequency\": 5, \"value\": 1.2747252747252746}, \"1.841726618705036\": {\"frequency\": 1, \"value\": 1.841726618705036}, \"1.3055555555555556\": {\"frequency\": 2, \"value\": 1.3055555555555556}, \"1.2083333333333335\": {\"frequency\": 8, \"value\": 1.2083333333333335}, \"1.8387096774193548\": {\"frequency\": 35, \"value\": 1.8387096774193548}, \"1.203883495145631\": {\"frequency\": 1, \"value\": 1.203883495145631}, \"1.4857142857142858\": {\"frequency\": 14, \"value\": 1.4857142857142858}, \"1.4754098360655736\": {\"frequency\": 9, \"value\": 1.4754098360655736}, \"1.7123287671232876\": {\"frequency\": 2, \"value\": 1.7123287671232876}, \"1.606837606837607\": {\"frequency\": 5, \"value\": 1.606837606837607}, \"1.638095238095238\": {\"frequency\": 9, \"value\": 1.638095238095238}, \"1.7109826589595376\": {\"frequency\": 2, \"value\": 1.7109826589595376}, \"1.7695473251028806\": {\"frequency\": 1, \"value\": 1.7695473251028806}, \"1.6644295302013423\": {\"frequency\": 2, \"value\": 1.6644295302013423}, \"1.8599999999999999\": {\"frequency\": 7, \"value\": 1.8599999999999999}, \"1.590643274853801\": {\"frequency\": 1, \"value\": 1.590643274853801}, \"1.423728813559322\": {\"frequency\": 21, \"value\": 1.423728813559322}, \"1.0256410256410255\": {\"frequency\": 9, \"value\": 1.0256410256410255}, \"1.8803418803418803\": {\"frequency\": 1, \"value\": 1.8803418803418803}, \"1.7551020408163265\": {\"frequency\": 75, \"value\": 1.7551020408163265}, \"1.1538461538461537\": {\"frequency\": 9, \"value\": 1.1538461538461537}, \"1.7967914438502675\": {\"frequency\": 1, \"value\": 1.7967914438502675}, \"1.7588652482269505\": {\"frequency\": 1, \"value\": 1.7588652482269505}, \"1.550561797752809\": {\"frequency\": 12, \"value\": 1.550561797752809}, \"1.731958762886598\": {\"frequency\": 27, \"value\": 1.731958762886598}, \"1.2093023255813953\": {\"frequency\": 10, \"value\": 1.2093023255813953}, \"1.65\": {\"frequency\": 75, \"value\": 1.65}, \"1.6688741721854305\": {\"frequency\": 1, \"value\": 1.6688741721854305}, \"0.6440677966101696\": {\"frequency\": 5, \"value\": 0.6440677966101696}, \"1.5777777777777777\": {\"frequency\": 10, \"value\": 1.5777777777777777}, \"1.4146341463414633\": {\"frequency\": 12, \"value\": 1.4146341463414633}, \"1.6629213483146068\": {\"frequency\": 25, \"value\": 1.6629213483146068}, \"1.0227272727272727\": {\"frequency\": 1, \"value\": 1.0227272727272727}, \"1.6823529411764706\": {\"frequency\": 1, \"value\": 1.6823529411764706}, \"1.836734693877551\": {\"frequency\": 49, \"value\": 1.836734693877551}, \"1.4193548387096775\": {\"frequency\": 17, \"value\": 1.4193548387096775}, \"1.6106194690265487\": {\"frequency\": 7, \"value\": 1.6106194690265487}, \"1.7142857142857144\": {\"frequency\": 414, \"value\": 1.7142857142857144}, \"0.4347826086956521\": {\"frequency\": 4, \"value\": 0.4347826086956521}, \"1.7398373983739837\": {\"frequency\": 5, \"value\": 1.7398373983739837}, \"1.8596491228070176\": {\"frequency\": 16, \"value\": 1.8596491228070176}, \"1.3728813559322033\": {\"frequency\": 2, \"value\": 1.3728813559322033}, \"1.7340425531914894\": {\"frequency\": 2, \"value\": 1.7340425531914894}, \"1.408695652173913\": {\"frequency\": 1, \"value\": 1.408695652173913}, \"1.439252336448598\": {\"frequency\": 4, \"value\": 1.439252336448598}, \"1.3411764705882354\": {\"frequency\": 3, \"value\": 1.3411764705882354}, \"1.3650793650793651\": {\"frequency\": 8, \"value\": 1.3650793650793651}, \"1.671641791044776\": {\"frequency\": 35, \"value\": 1.671641791044776}, \"1.0697674418604652\": {\"frequency\": 6, \"value\": 1.0697674418604652}, \"1.6330275229357798\": {\"frequency\": 6, \"value\": 1.6330275229357798}, \"1.7900552486187846\": {\"frequency\": 1, \"value\": 1.7900552486187846}, \"1.5816993464052287\": {\"frequency\": 1, \"value\": 1.5816993464052287}, \"1.180327868852459\": {\"frequency\": 2, \"value\": 1.180327868852459}, \"1.4029850746268657\": {\"frequency\": 6, \"value\": 1.4029850746268657}, \"1.6862745098039216\": {\"frequency\": 70, \"value\": 1.6862745098039216}, \"1.1645569620253164\": {\"frequency\": 3, \"value\": 1.1645569620253164}, \"1.7478260869565219\": {\"frequency\": 1, \"value\": 1.7478260869565219}, \"1.8571428571428572\": {\"frequency\": 144, \"value\": 1.8571428571428572}, \"1.1343283582089554\": {\"frequency\": 4, \"value\": 1.1343283582089554}, \"1.7901234567901234\": {\"frequency\": 1, \"value\": 1.7901234567901234}, \"1.5053763440860215\": {\"frequency\": 2, \"value\": 1.5053763440860215}, \"1.6493506493506493\": {\"frequency\": 2, \"value\": 1.6493506493506493}, \"1.2580645161290323\": {\"frequency\": 5, \"value\": 1.2580645161290323}, \"1.1052631578947367\": {\"frequency\": 6, \"value\": 1.1052631578947367}, \"1.635036496350365\": {\"frequency\": 1, \"value\": 1.635036496350365}, \"1.5533980582524272\": {\"frequency\": 1, \"value\": 1.5533980582524272}, \"1.320388349514563\": {\"frequency\": 2, \"value\": 1.320388349514563}, \"1.66412213740458\": {\"frequency\": 4, \"value\": 1.66412213740458}, \"1.864864864864865\": {\"frequency\": 14, \"value\": 1.864864864864865}, \"1.4791666666666665\": {\"frequency\": 4, \"value\": 1.4791666666666665}, \"1.8205128205128205\": {\"frequency\": 13, \"value\": 1.8205128205128205}, \"1.9\": {\"frequency\": 27, \"value\": 1.9}, \"1.8904109589041096\": {\"frequency\": 9, \"value\": 1.8904109589041096}, \"1.5058823529411764\": {\"frequency\": 7, \"value\": 1.5058823529411764}, \"1.5877862595419847\": {\"frequency\": 3, \"value\": 1.5877862595419847}, \"1.7735849056603774\": {\"frequency\": 47, \"value\": 1.7735849056603774}, \"0.5316455696202531\": {\"frequency\": 1, \"value\": 0.5316455696202531}, \"1.5757575757575757\": {\"frequency\": 45, \"value\": 1.5757575757575757}, \"1.2444444444444445\": {\"frequency\": 15, \"value\": 1.2444444444444445}, \"1.7283950617283952\": {\"frequency\": 24, \"value\": 1.7283950617283952}, \"1.8448275862068966\": {\"frequency\": 1, \"value\": 1.8448275862068966}, \"1.0689655172413794\": {\"frequency\": 1, \"value\": 1.0689655172413794}, \"1.3968253968253967\": {\"frequency\": 6, \"value\": 1.3968253968253967}, \"1.8833333333333333\": {\"frequency\": 1, \"value\": 1.8833333333333333}, \"1.5913978494623655\": {\"frequency\": 11, \"value\": 1.5913978494623655}, \"1.900990099009901\": {\"frequency\": 1, \"value\": 1.900990099009901}, \"1.5263157894736843\": {\"frequency\": 27, \"value\": 1.5263157894736843}, \"1.6941176470588235\": {\"frequency\": 30, \"value\": 1.6941176470588235}, \"1.6097560975609757\": {\"frequency\": 52, \"value\": 1.6097560975609757}, \"1.3884297520661157\": {\"frequency\": 2, \"value\": 1.3884297520661157}, \"0.8051948051948052\": {\"frequency\": 1, \"value\": 0.8051948051948052}, \"1.7762237762237763\": {\"frequency\": 3, \"value\": 1.7762237762237763}, \"1.7375\": {\"frequency\": 2, \"value\": 1.7375}, \"1.6527777777777777\": {\"frequency\": 1, \"value\": 1.6527777777777777}, \"1.6288659793814433\": {\"frequency\": 9, \"value\": 1.6288659793814433}, \"1.7731958762886597\": {\"frequency\": 21, \"value\": 1.7731958762886597}, \"1.8691588785046729\": {\"frequency\": 2, \"value\": 1.8691588785046729}, \"1.7361111111111112\": {\"frequency\": 2, \"value\": 1.7361111111111112}, \"1.0588235294117647\": {\"frequency\": 7, \"value\": 1.0588235294117647}, \"1.7355371900826446\": {\"frequency\": 7, \"value\": 1.7355371900826446}, \"1.3529411764705883\": {\"frequency\": 22, \"value\": 1.3529411764705883}, \"1.378238341968912\": {\"frequency\": 1, \"value\": 1.378238341968912}, \"1.8983050847457628\": {\"frequency\": 6, \"value\": 1.8983050847457628}, \"1.8931297709923665\": {\"frequency\": 1, \"value\": 1.8931297709923665}, \"1.2765957446808511\": {\"frequency\": 8, \"value\": 1.2765957446808511}, \"1.4567901234567902\": {\"frequency\": 3, \"value\": 1.4567901234567902}, \"1.3611111111111112\": {\"frequency\": 7, \"value\": 1.3611111111111112}, \"1.6421052631578947\": {\"frequency\": 21, \"value\": 1.6421052631578947}, \"1.1379310344827587\": {\"frequency\": 6, \"value\": 1.1379310344827587}, \"0.8387096774193548\": {\"frequency\": 6, \"value\": 0.8387096774193548}, \"0.8400000000000001\": {\"frequency\": 1, \"value\": 0.8400000000000001}, \"1.3473684210526315\": {\"frequency\": 5, \"value\": 1.3473684210526315}, \"1.6910569105691056\": {\"frequency\": 3, \"value\": 1.6910569105691056}, \"1.6933333333333334\": {\"frequency\": 2, \"value\": 1.6933333333333334}, \"1.6124031007751938\": {\"frequency\": 3, \"value\": 1.6124031007751938}, \"1.4246575342465753\": {\"frequency\": 6, \"value\": 1.4246575342465753}, \"0.96875\": {\"frequency\": 2, \"value\": 0.96875}, \"1.215686274509804\": {\"frequency\": 4, \"value\": 1.215686274509804}, \"1.6567164179104479\": {\"frequency\": 2, \"value\": 1.6567164179104479}, \"1.276190476190476\": {\"frequency\": 1, \"value\": 1.276190476190476}, \"1.15625\": {\"frequency\": 1, \"value\": 1.15625}, \"1.7066666666666666\": {\"frequency\": 30, \"value\": 1.7066666666666666}, \"1.8026315789473684\": {\"frequency\": 2, \"value\": 1.8026315789473684}, \"1.9166666666666667\": {\"frequency\": 9, \"value\": 1.9166666666666667}, \"1.702127659574468\": {\"frequency\": 58, \"value\": 1.702127659574468}, \"1.7704918032786885\": {\"frequency\": 30, \"value\": 1.7704918032786885}, \"0.7142857142857142\": {\"frequency\": 4, \"value\": 0.7142857142857142}, \"1.4871794871794872\": {\"frequency\": 15, \"value\": 1.4871794871794872}, \"1.2195121951219512\": {\"frequency\": 12, \"value\": 1.2195121951219512}, \"1.121212121212121\": {\"frequency\": 4, \"value\": 1.121212121212121}, \"1.1428571428571428\": {\"frequency\": 30, \"value\": 1.1428571428571428}, \"1.7578947368421052\": {\"frequency\": 1, \"value\": 1.7578947368421052}, \"1.7606837606837606\": {\"frequency\": 9, \"value\": 1.7606837606837606}, \"1.6851851851851851\": {\"frequency\": 11, \"value\": 1.6851851851851851}, \"1.7424242424242424\": {\"frequency\": 4, \"value\": 1.7424242424242424}, \"1.9111111111111112\": {\"frequency\": 5, \"value\": 1.9111111111111112}, \"1.7454545454545456\": {\"frequency\": 64, \"value\": 1.7454545454545456}, \"1.703125\": {\"frequency\": 4, \"value\": 1.703125}, \"1.6981132075471699\": {\"frequency\": 57, \"value\": 1.6981132075471699}, \"1.510204081632653\": {\"frequency\": 15, \"value\": 1.510204081632653}, \"1.206896551724138\": {\"frequency\": 3, \"value\": 1.206896551724138}, \"1.8313253012048194\": {\"frequency\": 22, \"value\": 1.8313253012048194}, \"1.6962025316455696\": {\"frequency\": 36, \"value\": 1.6962025316455696}, \"0.6923076923076923\": {\"frequency\": 3, \"value\": 0.6923076923076923}, \"1.072463768115942\": {\"frequency\": 1, \"value\": 1.072463768115942}, \"1.192982456140351\": {\"frequency\": 6, \"value\": 1.192982456140351}, \"1.255813953488372\": {\"frequency\": 6, \"value\": 1.255813953488372}, \"1.0684931506849316\": {\"frequency\": 2, \"value\": 1.0684931506849316}, \"1.629032258064516\": {\"frequency\": 2, \"value\": 1.629032258064516}, \"0.8666666666666667\": {\"frequency\": 4, \"value\": 0.8666666666666667}, \"1.463917525773196\": {\"frequency\": 3, \"value\": 1.463917525773196}, \"1.7364341085271318\": {\"frequency\": 11, \"value\": 1.7364341085271318}, \"1.1594202898550725\": {\"frequency\": 1, \"value\": 1.1594202898550725}, \"1.4186046511627906\": {\"frequency\": 4, \"value\": 1.4186046511627906}, \"1.7058823529411764\": {\"frequency\": 103, \"value\": 1.7058823529411764}, \"1.5918367346938775\": {\"frequency\": 28, \"value\": 1.5918367346938775}, \"0.6499999999999999\": {\"frequency\": 2, \"value\": 0.6499999999999999}, \"1.734375\": {\"frequency\": 7, \"value\": 1.734375}, \"1.2972972972972974\": {\"frequency\": 7, \"value\": 1.2972972972972974}, \"1.1688311688311688\": {\"frequency\": 4, \"value\": 1.1688311688311688}, \"1.6546762589928057\": {\"frequency\": 3, \"value\": 1.6546762589928057}, \"1.303030303030303\": {\"frequency\": 6, \"value\": 1.303030303030303}, \"1.7081545064377681\": {\"frequency\": 1, \"value\": 1.7081545064377681}, \"0.5777777777777777\": {\"frequency\": 2, \"value\": 0.5777777777777777}, \"0.5934065934065933\": {\"frequency\": 1, \"value\": 0.5934065934065933}, \"1.3488372093023255\": {\"frequency\": 14, \"value\": 1.3488372093023255}, \"1.8613861386138613\": {\"frequency\": 4, \"value\": 1.8613861386138613}, \"1.4925373134328357\": {\"frequency\": 14, \"value\": 1.4925373134328357}, \"1.6734693877551021\": {\"frequency\": 43, \"value\": 1.6734693877551021}, \"0.5614035087719298\": {\"frequency\": 1, \"value\": 0.5614035087719298}, \"1.425\": {\"frequency\": 6, \"value\": 1.425}, \"1.2790697674418605\": {\"frequency\": 2, \"value\": 1.2790697674418605}, \"1.7904761904761906\": {\"frequency\": 9, \"value\": 1.7904761904761906}, \"0.7118644067796611\": {\"frequency\": 3, \"value\": 0.7118644067796611}, \"1.5492957746478873\": {\"frequency\": 18, \"value\": 1.5492957746478873}, \"1.588785046728972\": {\"frequency\": 3, \"value\": 1.588785046728972}, \"1.658119658119658\": {\"frequency\": 5, \"value\": 1.658119658119658}, \"1.4303797468354431\": {\"frequency\": 1, \"value\": 1.4303797468354431}, \"1.719298245614035\": {\"frequency\": 51, \"value\": 1.719298245614035}, \"1.6785714285714286\": {\"frequency\": 59, \"value\": 1.6785714285714286}, \"1.3703703703703702\": {\"frequency\": 5, \"value\": 1.3703703703703702}, \"1.8518518518518519\": {\"frequency\": 65, \"value\": 1.8518518518518519}, \"1.6590909090909092\": {\"frequency\": 26, \"value\": 1.6590909090909092}, \"1.6027397260273972\": {\"frequency\": 1, \"value\": 1.6027397260273972}, \"0.826086956521739\": {\"frequency\": 4, \"value\": 0.826086956521739}, \"1.063063063063063\": {\"frequency\": 1, \"value\": 1.063063063063063}, \"0.9491525423728813\": {\"frequency\": 1, \"value\": 0.9491525423728813}, \"1.7008547008547008\": {\"frequency\": 1, \"value\": 1.7008547008547008}, \"1.7301587301587302\": {\"frequency\": 5, \"value\": 1.7301587301587302}, \"1.6697247706422018\": {\"frequency\": 22, \"value\": 1.6697247706422018}, \"1.3432835820895521\": {\"frequency\": 4, \"value\": 1.3432835820895521}, \"0.5116279069767442\": {\"frequency\": 1, \"value\": 0.5116279069767442}, \"1.6643356643356644\": {\"frequency\": 1, \"value\": 1.6643356643356644}, \"1.7391304347826086\": {\"frequency\": 131, \"value\": 1.7391304347826086}, \"1.1549295774647887\": {\"frequency\": 2, \"value\": 1.1549295774647887}, \"1.889908256880734\": {\"frequency\": 2, \"value\": 1.889908256880734}, \"0.2647058823529411\": {\"frequency\": 1, \"value\": 0.2647058823529411}, \"1.6226415094339623\": {\"frequency\": 40, \"value\": 1.6226415094339623}, \"1.3043478260869565\": {\"frequency\": 32, \"value\": 1.3043478260869565}, \"1.761467889908257\": {\"frequency\": 16, \"value\": 1.761467889908257}, \"1.8260869565217392\": {\"frequency\": 120, \"value\": 1.8260869565217392}, \"1.3725490196078431\": {\"frequency\": 11, \"value\": 1.3725490196078431}, \"1.603305785123967\": {\"frequency\": 1, \"value\": 1.603305785123967}, \"1.683453237410072\": {\"frequency\": 4, \"value\": 1.683453237410072}, \"1.5714285714285714\": {\"frequency\": 94, \"value\": 1.5714285714285714}, \"1.3557692307692308\": {\"frequency\": 1, \"value\": 1.3557692307692308}, \"1.816793893129771\": {\"frequency\": 2, \"value\": 1.816793893129771}, \"0.8372093023255813\": {\"frequency\": 3, \"value\": 0.8372093023255813}, \"0.12244897959183665\": {\"frequency\": 1, \"value\": 0.12244897959183665}, \"1.2456140350877192\": {\"frequency\": 1, \"value\": 1.2456140350877192}, \"1.5802469135802468\": {\"frequency\": 19, \"value\": 1.5802469135802468}, \"1.8222222222222222\": {\"frequency\": 35, \"value\": 1.8222222222222222}, \"1.6565656565656566\": {\"frequency\": 18, \"value\": 1.6565656565656566}, \"1.490909090909091\": {\"frequency\": 5, \"value\": 1.490909090909091}, \"1.668711656441718\": {\"frequency\": 2, \"value\": 1.668711656441718}, \"1.9120879120879122\": {\"frequency\": 2, \"value\": 1.9120879120879122}, \"1.7956204379562044\": {\"frequency\": 3, \"value\": 1.7956204379562044}, \"1.8541666666666667\": {\"frequency\": 14, \"value\": 1.8541666666666667}, \"1.7404580152671756\": {\"frequency\": 4, \"value\": 1.7404580152671756}, \"1.5625\": {\"frequency\": 34, \"value\": 1.5625}, \"1.3220338983050848\": {\"frequency\": 7, \"value\": 1.3220338983050848}, \"1.6626506024096386\": {\"frequency\": 43, \"value\": 1.6626506024096386}, \"0.17021276595744683\": {\"frequency\": 1, \"value\": 0.17021276595744683}, \"1.348314606741573\": {\"frequency\": 3, \"value\": 1.348314606741573}, \"1.024390243902439\": {\"frequency\": 6, \"value\": 1.024390243902439}, \"1.6058394160583942\": {\"frequency\": 2, \"value\": 1.6058394160583942}, \"1.4571428571428573\": {\"frequency\": 7, \"value\": 1.4571428571428573}, \"1.5051546391752577\": {\"frequency\": 2, \"value\": 1.5051546391752577}, \"1.6320000000000001\": {\"frequency\": 3, \"value\": 1.6320000000000001}, \"1.6111111111111112\": {\"frequency\": 50, \"value\": 1.6111111111111112}, \"1.5541401273885351\": {\"frequency\": 1, \"value\": 1.5541401273885351}, \"1.54\": {\"frequency\": 3, \"value\": 1.54}, \"1.0169491525423728\": {\"frequency\": 1, \"value\": 1.0169491525423728}, \"1.6363636363636362\": {\"frequency\": 164, \"value\": 1.6363636363636362}, \"1.7619047619047619\": {\"frequency\": 85, \"value\": 1.7619047619047619}, \"1.7086092715231789\": {\"frequency\": 2, \"value\": 1.7086092715231789}, \"0.7555555555555555\": {\"frequency\": 1, \"value\": 0.7555555555555555}, \"0.2666666666666666\": {\"frequency\": 2, \"value\": 0.2666666666666666}, \"1.3454545454545455\": {\"frequency\": 7, \"value\": 1.3454545454545455}, \"1.7925925925925925\": {\"frequency\": 1, \"value\": 1.7925925925925925}, \"1.5185185185185186\": {\"frequency\": 10, \"value\": 1.5185185185185186}, \"0.15873015873015883\": {\"frequency\": 1, \"value\": 0.15873015873015883}, \"0.8648648648648649\": {\"frequency\": 1, \"value\": 0.8648648648648649}, \"0.5757575757575757\": {\"frequency\": 1, \"value\": 0.5757575757575757}, \"0.13636363636363646\": {\"frequency\": 1, \"value\": 0.13636363636363646}, \"1.5402298850574714\": {\"frequency\": 4, \"value\": 1.5402298850574714}, \"1.096774193548387\": {\"frequency\": 2, \"value\": 1.096774193548387}, \"1.6134453781512605\": {\"frequency\": 6, \"value\": 1.6134453781512605}, \"1.641025641025641\": {\"frequency\": 69, \"value\": 1.641025641025641}, \"1.6703296703296704\": {\"frequency\": 30, \"value\": 1.6703296703296704}, \"1.6116504854368932\": {\"frequency\": 8, \"value\": 1.6116504854368932}, \"1.6883116883116882\": {\"frequency\": 30, \"value\": 1.6883116883116882}, \"1.178082191780822\": {\"frequency\": 3, \"value\": 1.178082191780822}, \"1.5945945945945945\": {\"frequency\": 12, \"value\": 1.5945945945945945}, \"1.7808219178082192\": {\"frequency\": 31, \"value\": 1.7808219178082192}, \"1.751937984496124\": {\"frequency\": 10, \"value\": 1.751937984496124}, \"1.2\": {\"frequency\": 45, \"value\": 1.2}, \"1.3786407766990292\": {\"frequency\": 1, \"value\": 1.3786407766990292}, \"1.5471698113207548\": {\"frequency\": 21, \"value\": 1.5471698113207548}, \"1.8100558659217878\": {\"frequency\": 1, \"value\": 1.8100558659217878}, \"1.7707006369426752\": {\"frequency\": 4, \"value\": 1.7707006369426752}, \"1.5810810810810811\": {\"frequency\": 1, \"value\": 1.5810810810810811}, \"1.8585858585858586\": {\"frequency\": 3, \"value\": 1.8585858585858586}, \"1.5769230769230769\": {\"frequency\": 22, \"value\": 1.5769230769230769}, \"1.6515151515151514\": {\"frequency\": 10, \"value\": 1.6515151515151514}, \"1.732394366197183\": {\"frequency\": 1, \"value\": 1.732394366197183}, \"1.488888888888889\": {\"frequency\": 3, \"value\": 1.488888888888889}, \"1.5272727272727273\": {\"frequency\": 11, \"value\": 1.5272727272727273}, \"1.443298969072165\": {\"frequency\": 1, \"value\": 1.443298969072165}, \"0.290909090909091\": {\"frequency\": 1, \"value\": 0.290909090909091}, \"1.2203389830508473\": {\"frequency\": 3, \"value\": 1.2203389830508473}, \"1.525925925925926\": {\"frequency\": 1, \"value\": 1.525925925925926}, \"1.6774193548387097\": {\"frequency\": 91, \"value\": 1.6774193548387097}, \"1.6091954022988506\": {\"frequency\": 23, \"value\": 1.6091954022988506}, \"1.4954954954954955\": {\"frequency\": 1, \"value\": 1.4954954954954955}, \"1.7553191489361701\": {\"frequency\": 1, \"value\": 1.7553191489361701}, \"0.925\": {\"frequency\": 2, \"value\": 0.925}, \"0.5263157894736843\": {\"frequency\": 1, \"value\": 0.5263157894736843}, \"0.6388888888888888\": {\"frequency\": 1, \"value\": 0.6388888888888888}, \"0.8852459016393444\": {\"frequency\": 1, \"value\": 0.8852459016393444}, \"1.6160714285714286\": {\"frequency\": 1, \"value\": 1.6160714285714286}, \"1.7638888888888888\": {\"frequency\": 2, \"value\": 1.7638888888888888}, \"0.9130434782608696\": {\"frequency\": 5, \"value\": 0.9130434782608696}, \"1.8045112781954886\": {\"frequency\": 7, \"value\": 1.8045112781954886}, \"1.72\": {\"frequency\": 74, \"value\": 1.72}, \"1.5809523809523809\": {\"frequency\": 7, \"value\": 1.5809523809523809}, \"1.2363636363636363\": {\"frequency\": 5, \"value\": 1.2363636363636363}, \"1.7321428571428572\": {\"frequency\": 21, \"value\": 1.7321428571428572}, \"1.4653465346534653\": {\"frequency\": 2, \"value\": 1.4653465346534653}, \"1.4883720930232558\": {\"frequency\": 15, \"value\": 1.4883720930232558}, \"1.3150684931506849\": {\"frequency\": 2, \"value\": 1.3150684931506849}, \"1.7634408602150538\": {\"frequency\": 24, \"value\": 1.7634408602150538}, \"1.6781609195402298\": {\"frequency\": 19, \"value\": 1.6781609195402298}, \"0.7272727272727273\": {\"frequency\": 5, \"value\": 0.7272727272727273}, \"1.3076923076923077\": {\"frequency\": 11, \"value\": 1.3076923076923077}, \"0.42553191489361697\": {\"frequency\": 1, \"value\": 0.42553191489361697}, \"1.4939759036144578\": {\"frequency\": 7, \"value\": 1.4939759036144578}, \"1.5328467153284673\": {\"frequency\": 2, \"value\": 1.5328467153284673}, \"1.7383177570093458\": {\"frequency\": 10, \"value\": 1.7383177570093458}, \"1.1176470588235294\": {\"frequency\": 2, \"value\": 1.1176470588235294}, \"1.8736842105263158\": {\"frequency\": 8, \"value\": 1.8736842105263158}, \"1.7966101694915255\": {\"frequency\": 44, \"value\": 1.7966101694915255}, \"1.5\": {\"frequency\": 176, \"value\": 1.5}, \"1.7530864197530864\": {\"frequency\": 34, \"value\": 1.7530864197530864}, \"1.0789473684210527\": {\"frequency\": 2, \"value\": 1.0789473684210527}, \"1.8181818181818181\": {\"frequency\": 216, \"value\": 1.8181818181818181}, \"1.5531914893617023\": {\"frequency\": 3, \"value\": 1.5531914893617023}, \"1.6557377049180328\": {\"frequency\": 6, \"value\": 1.6557377049180328}, \"1.4716981132075473\": {\"frequency\": 7, \"value\": 1.4716981132075473}, \"1.4951456310679612\": {\"frequency\": 2, \"value\": 1.4951456310679612}, \"1.6821192052980132\": {\"frequency\": 3, \"value\": 1.6821192052980132}, \"1.829268292682927\": {\"frequency\": 19, \"value\": 1.829268292682927}, \"0.6111111111111112\": {\"frequency\": 1, \"value\": 0.6111111111111112}, \"1.669291338582677\": {\"frequency\": 4, \"value\": 1.669291338582677}, \"1.2842105263157895\": {\"frequency\": 4, \"value\": 1.2842105263157895}, \"1.7414965986394557\": {\"frequency\": 1, \"value\": 1.7414965986394557}, \"1.9142857142857144\": {\"frequency\": 3, \"value\": 1.9142857142857144}, \"1.7758620689655173\": {\"frequency\": 6, \"value\": 1.7758620689655173}, \"1.7177914110429449\": {\"frequency\": 1, \"value\": 1.7177914110429449}, \"1.8494623655913978\": {\"frequency\": 15, \"value\": 1.8494623655913978}, \"1.5949367088607596\": {\"frequency\": 11, \"value\": 1.5949367088607596}, \"1.7043478260869565\": {\"frequency\": 6, \"value\": 1.7043478260869565}, \"1.7815126050420167\": {\"frequency\": 6, \"value\": 1.7815126050420167}, \"1.6428571428571428\": {\"frequency\": 69, \"value\": 1.6428571428571428}, \"1.76158940397351\": {\"frequency\": 3, \"value\": 1.76158940397351}, \"0.9714285714285715\": {\"frequency\": 7, \"value\": 0.9714285714285715}, \"1.719626168224299\": {\"frequency\": 8, \"value\": 1.719626168224299}, \"1.6494845360824741\": {\"frequency\": 14, \"value\": 1.6494845360824741}, \"1.0952380952380953\": {\"frequency\": 10, \"value\": 1.0952380952380953}, \"1.584\": {\"frequency\": 1, \"value\": 1.584}, \"1.8144329896907216\": {\"frequency\": 20, \"value\": 1.8144329896907216}, \"1.2452830188679245\": {\"frequency\": 4, \"value\": 1.2452830188679245}, \"1.8171428571428572\": {\"frequency\": 2, \"value\": 1.8171428571428572}, \"1.7130044843049328\": {\"frequency\": 1, \"value\": 1.7130044843049328}, \"0.7826086956521738\": {\"frequency\": 4, \"value\": 0.7826086956521738}, \"1.027027027027027\": {\"frequency\": 6, \"value\": 1.027027027027027}, \"1.6513761467889907\": {\"frequency\": 8, \"value\": 1.6513761467889907}, \"1.525\": {\"frequency\": 9, \"value\": 1.525}, \"1.7462686567164178\": {\"frequency\": 4, \"value\": 1.7462686567164178}, \"1.7373737373737375\": {\"frequency\": 23, \"value\": 1.7373737373737375}, \"1.5229357798165137\": {\"frequency\": 2, \"value\": 1.5229357798165137}, \"1.6119402985074627\": {\"frequency\": 17, \"value\": 1.6119402985074627}, \"1.6521739130434783\": {\"frequency\": 117, \"value\": 1.6521739130434783}, \"1.5584415584415585\": {\"frequency\": 12, \"value\": 1.5584415584415585}, \"1.7293233082706767\": {\"frequency\": 3, \"value\": 1.7293233082706767}, \"1.6052631578947367\": {\"frequency\": 19, \"value\": 1.6052631578947367}, \"1.3944954128440368\": {\"frequency\": 1, \"value\": 1.3944954128440368}, \"1.4042553191489362\": {\"frequency\": 6, \"value\": 1.4042553191489362}, \"1.540983606557377\": {\"frequency\": 20, \"value\": 1.540983606557377}, \"1.1904761904761905\": {\"frequency\": 5, \"value\": 1.1904761904761905}, \"1.3928571428571428\": {\"frequency\": 15, \"value\": 1.3928571428571428}, \"1.3448275862068966\": {\"frequency\": 9, \"value\": 1.3448275862068966}, \"1.2857142857142856\": {\"frequency\": 24, \"value\": 1.2857142857142856}, \"1.5142857142857142\": {\"frequency\": 13, \"value\": 1.5142857142857142}, \"0.8695652173913044\": {\"frequency\": 5, \"value\": 0.8695652173913044}, \"1.4390243902439024\": {\"frequency\": 8, \"value\": 1.4390243902439024}, \"1.872611464968153\": {\"frequency\": 1, \"value\": 1.872611464968153}, \"1.5588235294117647\": {\"frequency\": 12, \"value\": 1.5588235294117647}, \"1.4936708860759493\": {\"frequency\": 6, \"value\": 1.4936708860759493}, \"1.8415841584158417\": {\"frequency\": 13, \"value\": 1.8415841584158417}, \"1.90625\": {\"frequency\": 3, \"value\": 1.90625}, \"1.694915254237288\": {\"frequency\": 62, \"value\": 1.694915254237288}, \"1.04\": {\"frequency\": 8, \"value\": 1.04}, \"1.7463414634146341\": {\"frequency\": 1, \"value\": 1.7463414634146341}, \"1.8297872340425532\": {\"frequency\": 39, \"value\": 1.8297872340425532}, \"1.7176470588235295\": {\"frequency\": 25, \"value\": 1.7176470588235295}, \"1.791304347826087\": {\"frequency\": 7, \"value\": 1.791304347826087}, \"1.4848484848484849\": {\"frequency\": 12, \"value\": 1.4848484848484849}, \"1.8241758241758241\": {\"frequency\": 12, \"value\": 1.8241758241758241}, \"1.2553191489361701\": {\"frequency\": 3, \"value\": 1.2553191489361701}, \"1.4959349593495936\": {\"frequency\": 1, \"value\": 1.4959349593495936}, \"1.9101123595505618\": {\"frequency\": 2, \"value\": 1.9101123595505618}, \"1.3962264150943398\": {\"frequency\": 8, \"value\": 1.3962264150943398}, \"1.5211267605633803\": {\"frequency\": 15, \"value\": 1.5211267605633803}, \"1.5161290322580645\": {\"frequency\": 12, \"value\": 1.5161290322580645}, \"1.4137931034482758\": {\"frequency\": 5, \"value\": 1.4137931034482758}, \"1.3246753246753247\": {\"frequency\": 3, \"value\": 1.3246753246753247}, \"1.663716814159292\": {\"frequency\": 12, \"value\": 1.663716814159292}, \"1.3743016759776536\": {\"frequency\": 1, \"value\": 1.3743016759776536}, \"1.4117647058823528\": {\"frequency\": 23, \"value\": 1.4117647058823528}, \"1.3924050632911391\": {\"frequency\": 1, \"value\": 1.3924050632911391}, \"1.7692307692307692\": {\"frequency\": 103, \"value\": 1.7692307692307692}, \"1.1020408163265305\": {\"frequency\": 5, \"value\": 1.1020408163265305}, \"0.8936170212765957\": {\"frequency\": 1, \"value\": 0.8936170212765957}, \"0.8918918918918919\": {\"frequency\": 3, \"value\": 0.8918918918918919}, \"1.856\": {\"frequency\": 3, \"value\": 1.856}, \"1.2459016393442623\": {\"frequency\": 3, \"value\": 1.2459016393442623}, \"1.6936936936936937\": {\"frequency\": 18, \"value\": 1.6936936936936937}, \"0.7346938775510203\": {\"frequency\": 3, \"value\": 0.7346938775510203}, \"1.8584070796460177\": {\"frequency\": 7, \"value\": 1.8584070796460177}, \"0.26086956521739135\": {\"frequency\": 5, \"value\": 0.26086956521739135}, \"1.0666666666666667\": {\"frequency\": 11, \"value\": 1.0666666666666667}, \"1.308641975308642\": {\"frequency\": 1, \"value\": 1.308641975308642}, \"1.8217821782178218\": {\"frequency\": 7, \"value\": 1.8217821782178218}, \"1.169811320754717\": {\"frequency\": 7, \"value\": 1.169811320754717}, \"1.6388888888888888\": {\"frequency\": 23, \"value\": 1.6388888888888888}, \"1.5772357723577235\": {\"frequency\": 1, \"value\": 1.5772357723577235}, \"1.1267605633802817\": {\"frequency\": 3, \"value\": 1.1267605633802817}, \"1.7719298245614035\": {\"frequency\": 19, \"value\": 1.7719298245614035}, \"0.7058823529411764\": {\"frequency\": 5, \"value\": 0.7058823529411764}, \"1.183673469387755\": {\"frequency\": 4, \"value\": 1.183673469387755}, \"1.0114942528735633\": {\"frequency\": 1, \"value\": 1.0114942528735633}, \"1.5824175824175823\": {\"frequency\": 8, \"value\": 1.5824175824175823}, \"1.6209150326797386\": {\"frequency\": 1, \"value\": 1.6209150326797386}, \"0.8627450980392157\": {\"frequency\": 2, \"value\": 0.8627450980392157}, \"1.5064935064935066\": {\"frequency\": 6, \"value\": 1.5064935064935066}, \"1.6699029126213591\": {\"frequency\": 20, \"value\": 1.6699029126213591}, \"1.7272727272727273\": {\"frequency\": 130, \"value\": 1.7272727272727273}, \"1.811881188118812\": {\"frequency\": 1, \"value\": 1.811881188118812}, \"1.7062937062937062\": {\"frequency\": 2, \"value\": 1.7062937062937062}, \"1.2653061224489797\": {\"frequency\": 1, \"value\": 1.2653061224489797}, \"1.7841726618705036\": {\"frequency\": 1, \"value\": 1.7841726618705036}, \"1.6341463414634148\": {\"frequency\": 14, \"value\": 1.6341463414634148}, \"0.553191489361702\": {\"frequency\": 2, \"value\": 0.553191489361702}, \"1.6859504132231404\": {\"frequency\": 5, \"value\": 1.6859504132231404}, \"1.0140845070422535\": {\"frequency\": 1, \"value\": 1.0140845070422535}, \"0.43137254901960786\": {\"frequency\": 1, \"value\": 0.43137254901960786}, \"1.537037037037037\": {\"frequency\": 2, \"value\": 1.537037037037037}, \"1.697674418604651\": {\"frequency\": 30, \"value\": 1.697674418604651}, \"1.762962962962963\": {\"frequency\": 4, \"value\": 1.762962962962963}, \"1.6687898089171975\": {\"frequency\": 2, \"value\": 1.6687898089171975}, \"1.609375\": {\"frequency\": 1, \"value\": 1.609375}, \"1.4594594594594594\": {\"frequency\": 11, \"value\": 1.4594594594594594}, \"1.7571428571428571\": {\"frequency\": 2, \"value\": 1.7571428571428571}, \"1.2244897959183674\": {\"frequency\": 9, \"value\": 1.2244897959183674}, \"1.2783505154639174\": {\"frequency\": 2, \"value\": 1.2783505154639174}, \"1.3469387755102042\": {\"frequency\": 15, \"value\": 1.3469387755102042}, \"1.7936507936507937\": {\"frequency\": 1, \"value\": 1.7936507936507937}, \"1.6712328767123288\": {\"frequency\": 30, \"value\": 1.6712328767123288}, \"1.627906976744186\": {\"frequency\": 45, \"value\": 1.627906976744186}, \"1.801980198019802\": {\"frequency\": 17, \"value\": 1.801980198019802}, \"1.8878504672897196\": {\"frequency\": 1, \"value\": 1.8878504672897196}, \"0.9433962264150944\": {\"frequency\": 2, \"value\": 0.9433962264150944}, \"0.8860759493670887\": {\"frequency\": 2, \"value\": 0.8860759493670887}, \"1.3207547169811322\": {\"frequency\": 4, \"value\": 1.3207547169811322}, \"1.6541353383458648\": {\"frequency\": 4, \"value\": 1.6541353383458648}, \"1.7327935222672064\": {\"frequency\": 1, \"value\": 1.7327935222672064}, \"1.7032258064516128\": {\"frequency\": 1, \"value\": 1.7032258064516128}, \"1.7754010695187166\": {\"frequency\": 1, \"value\": 1.7754010695187166}, \"1.854014598540146\": {\"frequency\": 3, \"value\": 1.854014598540146}, \"1.2380952380952381\": {\"frequency\": 14, \"value\": 1.2380952380952381}, \"1.7687074829931972\": {\"frequency\": 2, \"value\": 1.7687074829931972}, \"1.4634146341463414\": {\"frequency\": 23, \"value\": 1.4634146341463414}, \"1.558139534883721\": {\"frequency\": 8, \"value\": 1.558139534883721}, \"0.6031746031746033\": {\"frequency\": 1, \"value\": 0.6031746031746033}, \"1.6222222222222222\": {\"frequency\": 17, \"value\": 1.6222222222222222}, \"1.898989898989899\": {\"frequency\": 1, \"value\": 1.898989898989899}, \"0.43333333333333335\": {\"frequency\": 2, \"value\": 0.43333333333333335}, \"1.536\": {\"frequency\": 1, \"value\": 1.536}, \"1.8364779874213837\": {\"frequency\": 1, \"value\": 1.8364779874213837}, \"1.8857142857142857\": {\"frequency\": 28, \"value\": 1.8857142857142857}, \"1.436619718309859\": {\"frequency\": 6, \"value\": 1.436619718309859}, \"1.7466666666666666\": {\"frequency\": 5, \"value\": 1.7466666666666666}, \"1.3114754098360657\": {\"frequency\": 1, \"value\": 1.3114754098360657}, \"1.4385964912280702\": {\"frequency\": 14, \"value\": 1.4385964912280702}, \"1.8503401360544218\": {\"frequency\": 3, \"value\": 1.8503401360544218}, \"1.5206611570247934\": {\"frequency\": 1, \"value\": 1.5206611570247934}, \"0.8799999999999999\": {\"frequency\": 6, \"value\": 0.8799999999999999}, \"1.0943396226415094\": {\"frequency\": 9, \"value\": 1.0943396226415094}, \"1.2688172043010753\": {\"frequency\": 1, \"value\": 1.2688172043010753}, \"1.1494252873563218\": {\"frequency\": 1, \"value\": 1.1494252873563218}, \"1.7956989247311828\": {\"frequency\": 1, \"value\": 1.7956989247311828}, \"1.7723577235772359\": {\"frequency\": 7, \"value\": 1.7723577235772359}, \"1.5463917525773196\": {\"frequency\": 3, \"value\": 1.5463917525773196}, \"1.5590551181102361\": {\"frequency\": 3, \"value\": 1.5590551181102361}, \"1.2333333333333334\": {\"frequency\": 7, \"value\": 1.2333333333333334}, \"1.6026490066225165\": {\"frequency\": 1, \"value\": 1.6026490066225165}, \"1.5838926174496644\": {\"frequency\": 1, \"value\": 1.5838926174496644}, \"1.761061946902655\": {\"frequency\": 1, \"value\": 1.761061946902655}, \"1.688622754491018\": {\"frequency\": 1, \"value\": 1.688622754491018}, \"1.8360655737704918\": {\"frequency\": 23, \"value\": 1.8360655737704918}, \"0.868421052631579\": {\"frequency\": 1, \"value\": 0.868421052631579}, \"1.8253968253968254\": {\"frequency\": 3, \"value\": 1.8253968253968254}, \"1.704225352112676\": {\"frequency\": 4, \"value\": 1.704225352112676}, \"1.7821782178217822\": {\"frequency\": 17, \"value\": 1.7821782178217822}, \"1.765625\": {\"frequency\": 5, \"value\": 1.765625}, \"1.1470588235294117\": {\"frequency\": 2, \"value\": 1.1470588235294117}, \"1.7037037037037037\": {\"frequency\": 113, \"value\": 1.7037037037037037}, \"1.5571428571428572\": {\"frequency\": 1, \"value\": 1.5571428571428572}, \"1.3181818181818183\": {\"frequency\": 10, \"value\": 1.3181818181818183}, \"0.5641025641025641\": {\"frequency\": 3, \"value\": 0.5641025641025641}, \"1.2054794520547945\": {\"frequency\": 4, \"value\": 1.2054794520547945}, \"1.759493670886076\": {\"frequency\": 3, \"value\": 1.759493670886076}, \"1.4017094017094016\": {\"frequency\": 1, \"value\": 1.4017094017094016}, \"0.7301587301587302\": {\"frequency\": 1, \"value\": 0.7301587301587302}, \"1.7471264367816093\": {\"frequency\": 28, \"value\": 1.7471264367816093}, \"0.4285714285714286\": {\"frequency\": 3, \"value\": 0.4285714285714286}, \"0.9268292682926829\": {\"frequency\": 4, \"value\": 0.9268292682926829}, \"1.8548387096774193\": {\"frequency\": 3, \"value\": 1.8548387096774193}, \"0.8705882352941177\": {\"frequency\": 1, \"value\": 0.8705882352941177}, \"0.9824561403508771\": {\"frequency\": 3, \"value\": 0.9824561403508771}, \"1.3125\": {\"frequency\": 13, \"value\": 1.3125}, \"1.8256410256410256\": {\"frequency\": 1, \"value\": 1.8256410256410256}, \"1.5886524822695036\": {\"frequency\": 3, \"value\": 1.5886524822695036}, \"1.4782608695652173\": {\"frequency\": 31, \"value\": 1.4782608695652173}, \"1.1559633027522935\": {\"frequency\": 1, \"value\": 1.1559633027522935}, \"1.7798165137614679\": {\"frequency\": 8, \"value\": 1.7798165137614679}, \"1.5280898876404494\": {\"frequency\": 4, \"value\": 1.5280898876404494}, \"1.2777777777777777\": {\"frequency\": 18, \"value\": 1.2777777777777777}, \"1.0294117647058822\": {\"frequency\": 1, \"value\": 1.0294117647058822}, \"1.565217391304348\": {\"frequency\": 49, \"value\": 1.565217391304348}, \"0.3448275862068966\": {\"frequency\": 2, \"value\": 0.3448275862068966}, \"1.8805970149253732\": {\"frequency\": 10, \"value\": 1.8805970149253732}, \"1.8493150684931507\": {\"frequency\": 1, \"value\": 1.8493150684931507}, \"1.795275590551181\": {\"frequency\": 4, \"value\": 1.795275590551181}, \"1.721311475409836\": {\"frequency\": 12, \"value\": 1.721311475409836}, \"1.079646017699115\": {\"frequency\": 2, \"value\": 1.079646017699115}, \"1.6914285714285715\": {\"frequency\": 1, \"value\": 1.6914285714285715}, \"1.8090452261306533\": {\"frequency\": 1, \"value\": 1.8090452261306533}, \"1.808\": {\"frequency\": 3, \"value\": 1.808}, \"1.6404494382022472\": {\"frequency\": 20, \"value\": 1.6404494382022472}, \"0.8059701492537314\": {\"frequency\": 1, \"value\": 0.8059701492537314}, \"1.4133333333333333\": {\"frequency\": 5, \"value\": 1.4133333333333333}, \"1.306122448979592\": {\"frequency\": 9, \"value\": 1.306122448979592}, \"1.6074766355140186\": {\"frequency\": 8, \"value\": 1.6074766355140186}, \"1.7450980392156863\": {\"frequency\": 27, \"value\": 1.7450980392156863}, \"1.7623762376237624\": {\"frequency\": 22, \"value\": 1.7623762376237624}, \"0.42105263157894735\": {\"frequency\": 1, \"value\": 0.42105263157894735}, \"1.8918918918918919\": {\"frequency\": 16, \"value\": 1.8918918918918919}, \"1.8375634517766497\": {\"frequency\": 1, \"value\": 1.8375634517766497}, \"0.967741935483871\": {\"frequency\": 2, \"value\": 0.967741935483871}, \"1.8160919540229885\": {\"frequency\": 20, \"value\": 1.8160919540229885}, \"1.752808988764045\": {\"frequency\": 32, \"value\": 1.752808988764045}, \"0.1212121212121211\": {\"frequency\": 1, \"value\": 0.1212121212121211}, \"1.1764705882352942\": {\"frequency\": 15, \"value\": 1.1764705882352942}, \"1.8105263157894738\": {\"frequency\": 16, \"value\": 1.8105263157894738}, \"1.915492957746479\": {\"frequency\": 1, \"value\": 1.915492957746479}, \"1.0188679245283019\": {\"frequency\": 2, \"value\": 1.0188679245283019}, \"1.5537190082644627\": {\"frequency\": 2, \"value\": 1.5537190082644627}, \"1.5157894736842106\": {\"frequency\": 8, \"value\": 1.5157894736842106}, \"1.6258992805755397\": {\"frequency\": 3, \"value\": 1.6258992805755397}, \"1.8651685393258428\": {\"frequency\": 11, \"value\": 1.8651685393258428}, \"1.492063492063492\": {\"frequency\": 6, \"value\": 1.492063492063492}, \"1.596638655462185\": {\"frequency\": 3, \"value\": 1.596638655462185}, \"0.9444444444444444\": {\"frequency\": 2, \"value\": 0.9444444444444444}, \"1.5572519083969465\": {\"frequency\": 1, \"value\": 1.5572519083969465}, \"1.6444444444444444\": {\"frequency\": 69, \"value\": 1.6444444444444444}, \"1.8703703703703705\": {\"frequency\": 4, \"value\": 1.8703703703703705}, \"1.794871794871795\": {\"frequency\": 77, \"value\": 1.794871794871795}, \"1.4444444444444444\": {\"frequency\": 22, \"value\": 1.4444444444444444}, \"1.5912408759124088\": {\"frequency\": 1, \"value\": 1.5912408759124088}, \"1.2708333333333335\": {\"frequency\": 2, \"value\": 1.2708333333333335}, \"1.23943661971831\": {\"frequency\": 1, \"value\": 1.23943661971831}, \"0.6666666666666667\": {\"frequency\": 20, \"value\": 0.6666666666666667}, \"1.457943925233645\": {\"frequency\": 1, \"value\": 1.457943925233645}, \"1.0204081632653061\": {\"frequency\": 6, \"value\": 1.0204081632653061}, \"1.8850574712643677\": {\"frequency\": 4, \"value\": 1.8850574712643677}, \"1.631578947368421\": {\"frequency\": 55, \"value\": 1.631578947368421}, \"1.4923076923076923\": {\"frequency\": 1, \"value\": 1.4923076923076923}, \"1.6440677966101696\": {\"frequency\": 3, \"value\": 1.6440677966101696}, \"1.6576576576576576\": {\"frequency\": 5, \"value\": 1.6576576576576576}, \"1.3253012048192772\": {\"frequency\": 2, \"value\": 1.3253012048192772}, \"1.2533333333333334\": {\"frequency\": 3, \"value\": 1.2533333333333334}, \"0.9230769230769231\": {\"frequency\": 10, \"value\": 0.9230769230769231}, \"1.7425742574257426\": {\"frequency\": 22, \"value\": 1.7425742574257426}, \"1.048780487804878\": {\"frequency\": 1, \"value\": 1.048780487804878}, \"1.4700854700854702\": {\"frequency\": 1, \"value\": 1.4700854700854702}, \"1.516778523489933\": {\"frequency\": 1, \"value\": 1.516778523489933}, \"0.7428571428571429\": {\"frequency\": 3, \"value\": 0.7428571428571429}, \"0.3846153846153846\": {\"frequency\": 1, \"value\": 0.3846153846153846}, \"1.5606060606060606\": {\"frequency\": 1, \"value\": 1.5606060606060606}, \"1.5636363636363637\": {\"frequency\": 18, \"value\": 1.5636363636363637}, \"1.58\": {\"frequency\": 1, \"value\": 1.58}, \"1.8372093023255813\": {\"frequency\": 18, \"value\": 1.8372093023255813}, \"1.834862385321101\": {\"frequency\": 5, \"value\": 1.834862385321101}, \"1.7590361445783134\": {\"frequency\": 34, \"value\": 1.7590361445783134}, \"1.3714285714285714\": {\"frequency\": 22, \"value\": 1.3714285714285714}, \"1.911764705882353\": {\"frequency\": 2, \"value\": 1.911764705882353}, \"1.7751479289940828\": {\"frequency\": 2, \"value\": 1.7751479289940828}, \"1.7888198757763976\": {\"frequency\": 1, \"value\": 1.7888198757763976}, \"1.8873239436619718\": {\"frequency\": 8, \"value\": 1.8873239436619718}, \"0.19047619047619047\": {\"frequency\": 1, \"value\": 0.19047619047619047}, \"1.4827586206896552\": {\"frequency\": 9, \"value\": 1.4827586206896552}, \"1.5932203389830508\": {\"frequency\": 15, \"value\": 1.5932203389830508}, \"0.4571428571428571\": {\"frequency\": 2, \"value\": 0.4571428571428571}, \"1.7674418604651163\": {\"frequency\": 52, \"value\": 1.7674418604651163}, \"1.6855345911949686\": {\"frequency\": 2, \"value\": 1.6855345911949686}, \"1.2911392405063291\": {\"frequency\": 1, \"value\": 1.2911392405063291}, \"1.7914110429447854\": {\"frequency\": 3, \"value\": 1.7914110429447854}, \"1.1956521739130435\": {\"frequency\": 1, \"value\": 1.1956521739130435}, \"1.8556701030927836\": {\"frequency\": 12, \"value\": 1.8556701030927836}, \"1.6054421768707483\": {\"frequency\": 1, \"value\": 1.6054421768707483}, \"1.1063829787234043\": {\"frequency\": 3, \"value\": 1.1063829787234043}, \"1.5061728395061729\": {\"frequency\": 4, \"value\": 1.5061728395061729}, \"1.0370370370370372\": {\"frequency\": 12, \"value\": 1.0370370370370372}, \"1.7887323943661972\": {\"frequency\": 2, \"value\": 1.7887323943661972}, \"0.7916666666666667\": {\"frequency\": 1, \"value\": 0.7916666666666667}, \"1.7115384615384617\": {\"frequency\": 9, \"value\": 1.7115384615384617}, \"1.4382022471910112\": {\"frequency\": 3, \"value\": 1.4382022471910112}, \"1.6585365853658536\": {\"frequency\": 66, \"value\": 1.6585365853658536}, \"1.2608695652173914\": {\"frequency\": 12, \"value\": 1.2608695652173914}, \"1.4929577464788732\": {\"frequency\": 9, \"value\": 1.4929577464788732}, \"1.7227722772277227\": {\"frequency\": 20, \"value\": 1.7227722772277227}, \"1.735042735042735\": {\"frequency\": 1, \"value\": 1.735042735042735}, \"1.6870748299319729\": {\"frequency\": 1, \"value\": 1.6870748299319729}, \"1.542372881355932\": {\"frequency\": 2, \"value\": 1.542372881355932}, \"1.5517241379310345\": {\"frequency\": 18, \"value\": 1.5517241379310345}, \"1.5319148936170213\": {\"frequency\": 23, \"value\": 1.5319148936170213}, \"1.2982456140350878\": {\"frequency\": 4, \"value\": 1.2982456140350878}, \"1.532258064516129\": {\"frequency\": 1, \"value\": 1.532258064516129}, \"1.8666666666666667\": {\"frequency\": 106, \"value\": 1.8666666666666667}, \"1.6625\": {\"frequency\": 1, \"value\": 1.6625}, \"1.8115942028985508\": {\"frequency\": 1, \"value\": 1.8115942028985508}, \"1.282051282051282\": {\"frequency\": 9, \"value\": 1.282051282051282}, \"1.3406593406593408\": {\"frequency\": 1, \"value\": 1.3406593406593408}, \"0.2127659574468086\": {\"frequency\": 1, \"value\": 0.2127659574468086}, \"1.7281553398058254\": {\"frequency\": 34, \"value\": 1.7281553398058254}, \"1.3260869565217392\": {\"frequency\": 1, \"value\": 1.3260869565217392}, \"0.38888888888888884\": {\"frequency\": 1, \"value\": 0.38888888888888884}, \"1.7405405405405405\": {\"frequency\": 2, \"value\": 1.7405405405405405}, \"1.4772727272727273\": {\"frequency\": 5, \"value\": 1.4772727272727273}, \"1.7654320987654322\": {\"frequency\": 4, \"value\": 1.7654320987654322}, \"1.6601307189542482\": {\"frequency\": 2, \"value\": 1.6601307189542482}, \"1.896103896103896\": {\"frequency\": 3, \"value\": 1.896103896103896}, \"1.7647058823529411\": {\"frequency\": 149, \"value\": 1.7647058823529411}, \"1.5454545454545454\": {\"frequency\": 41, \"value\": 1.5454545454545454}, \"1.189189189189189\": {\"frequency\": 9, \"value\": 1.189189189189189}, \"1.5616438356164384\": {\"frequency\": 10, \"value\": 1.5616438356164384}, \"1.6739130434782608\": {\"frequency\": 17, \"value\": 1.6739130434782608}, \"1.76\": {\"frequency\": 129, \"value\": 1.76}, \"1.6904761904761905\": {\"frequency\": 47, \"value\": 1.6904761904761905}, \"1.849056603773585\": {\"frequency\": 49, \"value\": 1.849056603773585}, \"1.327433628318584\": {\"frequency\": 1, \"value\": 1.327433628318584}, \"1.4545454545454546\": {\"frequency\": 53, \"value\": 1.4545454545454546}, \"1.0163934426229508\": {\"frequency\": 3, \"value\": 1.0163934426229508}, \"1.8214285714285714\": {\"frequency\": 49, \"value\": 1.8214285714285714}, \"1.7741935483870968\": {\"frequency\": 25, \"value\": 1.7741935483870968}, \"1.103448275862069\": {\"frequency\": 3, \"value\": 1.103448275862069}, \"1.6206896551724137\": {\"frequency\": 24, \"value\": 1.6206896551724137}, \"1.702970297029703\": {\"frequency\": 13, \"value\": 1.702970297029703}, \"1.695906432748538\": {\"frequency\": 2, \"value\": 1.695906432748538}, \"1.5538461538461539\": {\"frequency\": 1, \"value\": 1.5538461538461539}, \"1.7083333333333333\": {\"frequency\": 56, \"value\": 1.7083333333333333}, \"0.8767123287671232\": {\"frequency\": 1, \"value\": 0.8767123287671232}, \"0.819672131147541\": {\"frequency\": 4, \"value\": 0.819672131147541}, \"1.1566265060240963\": {\"frequency\": 1, \"value\": 1.1566265060240963}, \"1.1910112359550562\": {\"frequency\": 1, \"value\": 1.1910112359550562}, \"1.8245614035087718\": {\"frequency\": 35, \"value\": 1.8245614035087718}, \"1.0833333333333335\": {\"frequency\": 7, \"value\": 1.0833333333333335}, \"1.6538461538461537\": {\"frequency\": 42, \"value\": 1.6538461538461537}, \"1.773049645390071\": {\"frequency\": 3, \"value\": 1.773049645390071}, \"1.4747474747474747\": {\"frequency\": 2, \"value\": 1.4747474747474747}, \"1.309090909090909\": {\"frequency\": 10, \"value\": 1.309090909090909}, \"1.28125\": {\"frequency\": 4, \"value\": 1.28125}, \"1.7864077669902914\": {\"frequency\": 13, \"value\": 1.7864077669902914}, \"1.768595041322314\": {\"frequency\": 7, \"value\": 1.768595041322314}, \"1.6878612716763006\": {\"frequency\": 1, \"value\": 1.6878612716763006}, \"1.1186440677966103\": {\"frequency\": 1, \"value\": 1.1186440677966103}, \"1.0545454545454547\": {\"frequency\": 6, \"value\": 1.0545454545454547}, \"1.2272727272727273\": {\"frequency\": 6, \"value\": 1.2272727272727273}, \"1.303370786516854\": {\"frequency\": 1, \"value\": 1.303370786516854}, \"1.8679245283018868\": {\"frequency\": 3, \"value\": 1.8679245283018868}, \"1.7570093457943925\": {\"frequency\": 18, \"value\": 1.7570093457943925}, \"1.8208955223880596\": {\"frequency\": 25, \"value\": 1.8208955223880596}, \"0.24242424242424243\": {\"frequency\": 1, \"value\": 0.24242424242424243}, \"1.693877551020408\": {\"frequency\": 19, \"value\": 1.693877551020408}, \"0.6956521739130435\": {\"frequency\": 2, \"value\": 0.6956521739130435}, \"1.5798319327731092\": {\"frequency\": 3, \"value\": 1.5798319327731092}, \"1.6865671641791045\": {\"frequency\": 5, \"value\": 1.6865671641791045}, \"1.808695652173913\": {\"frequency\": 4, \"value\": 1.808695652173913}, \"1.853658536585366\": {\"frequency\": 50, \"value\": 1.853658536585366}, \"1.3548387096774195\": {\"frequency\": 7, \"value\": 1.3548387096774195}, \"1.2183908045977012\": {\"frequency\": 2, \"value\": 1.2183908045977012}, \"1.5522388059701493\": {\"frequency\": 18, \"value\": 1.5522388059701493}, \"0.9473684210526316\": {\"frequency\": 4, \"value\": 0.9473684210526316}, \"0.6046511627906976\": {\"frequency\": 2, \"value\": 0.6046511627906976}, \"1.283582089552239\": {\"frequency\": 1, \"value\": 1.283582089552239}, \"1.901639344262295\": {\"frequency\": 4, \"value\": 1.901639344262295}, \"1.5247524752475248\": {\"frequency\": 4, \"value\": 1.5247524752475248}, \"1.0704225352112675\": {\"frequency\": 1, \"value\": 1.0704225352112675}, \"1.7755102040816326\": {\"frequency\": 15, \"value\": 1.7755102040816326}, \"1.0985915492957745\": {\"frequency\": 1, \"value\": 1.0985915492957745}, \"1.8909090909090909\": {\"frequency\": 4, \"value\": 1.8909090909090909}, \"1.393939393939394\": {\"frequency\": 15, \"value\": 1.393939393939394}, \"1.432098765432099\": {\"frequency\": 7, \"value\": 1.432098765432099}, \"1.7333333333333334\": {\"frequency\": 198, \"value\": 1.7333333333333334}, \"0.3500000000000001\": {\"frequency\": 1, \"value\": 0.3500000000000001}, \"1.683168316831683\": {\"frequency\": 21, \"value\": 1.683168316831683}, \"1.4313725490196079\": {\"frequency\": 1, \"value\": 1.4313725490196079}, \"1.8227848101265822\": {\"frequency\": 26, \"value\": 1.8227848101265822}, \"1.8446601941747574\": {\"frequency\": 10, \"value\": 1.8446601941747574}, \"1.8558558558558558\": {\"frequency\": 5, \"value\": 1.8558558558558558}, \"1.9090909090909092\": {\"frequency\": 20, \"value\": 1.9090909090909092}, \"1.7546012269938651\": {\"frequency\": 2, \"value\": 1.7546012269938651}, \"1.646153846153846\": {\"frequency\": 1, \"value\": 1.646153846153846}, \"1.7099236641221374\": {\"frequency\": 6, \"value\": 1.7099236641221374}, \"1.8121546961325967\": {\"frequency\": 2, \"value\": 1.8121546961325967}, \"1.8095238095238095\": {\"frequency\": 115, \"value\": 1.8095238095238095}, \"1.12\": {\"frequency\": 6, \"value\": 1.12}, \"1.6071428571428572\": {\"frequency\": 34, \"value\": 1.6071428571428572}, \"1.6231884057971016\": {\"frequency\": 15, \"value\": 1.6231884057971016}, \"0.21739130434782616\": {\"frequency\": 1, \"value\": 0.21739130434782616}, \"1.74\": {\"frequency\": 15, \"value\": 1.74}, \"1.44\": {\"frequency\": 30, \"value\": 1.44}, \"1.4408602150537635\": {\"frequency\": 1, \"value\": 1.4408602150537635}, \"1.2873563218390804\": {\"frequency\": 1, \"value\": 1.2873563218390804}, \"1.633587786259542\": {\"frequency\": 3, \"value\": 1.633587786259542}, \"1.7803468208092486\": {\"frequency\": 1, \"value\": 1.7803468208092486}, \"1.676056338028169\": {\"frequency\": 1, \"value\": 1.676056338028169}, \"1.2258064516129032\": {\"frequency\": 8, \"value\": 1.2258064516129032}, \"0.8679245283018868\": {\"frequency\": 1, \"value\": 0.8679245283018868}, \"1.7397260273972603\": {\"frequency\": 5, \"value\": 1.7397260273972603}, \"1.7518248175182483\": {\"frequency\": 5, \"value\": 1.7518248175182483}, \"1.7439024390243902\": {\"frequency\": 1, \"value\": 1.7439024390243902}, \"0.7317073170731707\": {\"frequency\": 2, \"value\": 0.7317073170731707}, \"1.4352941176470588\": {\"frequency\": 4, \"value\": 1.4352941176470588}, \"1.4912280701754386\": {\"frequency\": 2, \"value\": 1.4912280701754386}, \"1.6911764705882353\": {\"frequency\": 4, \"value\": 1.6911764705882353}, \"1.7432432432432432\": {\"frequency\": 1, \"value\": 1.7432432432432432}, \"1.7567567567567568\": {\"frequency\": 30, \"value\": 1.7567567567567568}, \"0.5084745762711864\": {\"frequency\": 1, \"value\": 0.5084745762711864}, \"1.7698412698412698\": {\"frequency\": 1, \"value\": 1.7698412698412698}, \"1.7362637362637363\": {\"frequency\": 20, \"value\": 1.7362637362637363}, \"1.2834224598930482\": {\"frequency\": 1, \"value\": 1.2834224598930482}, \"1.9029126213592233\": {\"frequency\": 1, \"value\": 1.9029126213592233}, \"1.6065573770491803\": {\"frequency\": 15, \"value\": 1.6065573770491803}, \"1.6216216216216215\": {\"frequency\": 61, \"value\": 1.6216216216216215}, \"1.8601398601398602\": {\"frequency\": 1, \"value\": 1.8601398601398602}, \"0.7096774193548387\": {\"frequency\": 1, \"value\": 0.7096774193548387}, \"1.475177304964539\": {\"frequency\": 1, \"value\": 1.475177304964539}, \"1.7924528301886793\": {\"frequency\": 8, \"value\": 1.7924528301886793}, \"1.6633663366336633\": {\"frequency\": 17, \"value\": 1.6633663366336633}, \"0.8157894736842106\": {\"frequency\": 2, \"value\": 0.8157894736842106}, \"1.5268817204301075\": {\"frequency\": 7, \"value\": 1.5268817204301075}, \"1.3563218390804597\": {\"frequency\": 2, \"value\": 1.3563218390804597}, \"1.0192307692307692\": {\"frequency\": 1, \"value\": 1.0192307692307692}, \"1.3972602739726028\": {\"frequency\": 6, \"value\": 1.3972602739726028}, \"0.8780487804878048\": {\"frequency\": 2, \"value\": 0.8780487804878048}, \"1.7403846153846154\": {\"frequency\": 1, \"value\": 1.7403846153846154}, \"1.0909090909090908\": {\"frequency\": 20, \"value\": 1.0909090909090908}, \"1.0416666666666665\": {\"frequency\": 3, \"value\": 1.0416666666666665}, \"1.784313725490196\": {\"frequency\": 19, \"value\": 1.784313725490196}, \"1.1481481481481481\": {\"frequency\": 2, \"value\": 1.1481481481481481}, \"1.592920353982301\": {\"frequency\": 5, \"value\": 1.592920353982301}, \"1.3888888888888888\": {\"frequency\": 14, \"value\": 1.3888888888888888}, \"1.0980392156862746\": {\"frequency\": 9, \"value\": 1.0980392156862746}, \"1.8552631578947367\": {\"frequency\": 1, \"value\": 1.8552631578947367}, \"1.5660377358490565\": {\"frequency\": 5, \"value\": 1.5660377358490565}, \"1.7166666666666668\": {\"frequency\": 15, \"value\": 1.7166666666666668}, \"1.7473684210526317\": {\"frequency\": 27, \"value\": 1.7473684210526317}, \"1.368421052631579\": {\"frequency\": 23, \"value\": 1.368421052631579}, \"1.4945054945054945\": {\"frequency\": 5, \"value\": 1.4945054945054945}, \"1.5333333333333332\": {\"frequency\": 30, \"value\": 1.5333333333333332}, \"1.4216867469879517\": {\"frequency\": 4, \"value\": 1.4216867469879517}, \"1.7093023255813953\": {\"frequency\": 1, \"value\": 1.7093023255813953}, \"1.6761904761904762\": {\"frequency\": 15, \"value\": 1.6761904761904762}, \"1.4526315789473685\": {\"frequency\": 1, \"value\": 1.4526315789473685}, \"1.712\": {\"frequency\": 4, \"value\": 1.712}, \"1.6129032258064515\": {\"frequency\": 43, \"value\": 1.6129032258064515}, \"1.8285714285714285\": {\"frequency\": 72, \"value\": 1.8285714285714285}, \"1.8067632850241546\": {\"frequency\": 1, \"value\": 1.8067632850241546}, \"1.55\": {\"frequency\": 20, \"value\": 1.55}, \"1.1578947368421053\": {\"frequency\": 11, \"value\": 1.1578947368421053}, \"0.14035087719298245\": {\"frequency\": 1, \"value\": 0.14035087719298245}, \"0.8181818181818181\": {\"frequency\": 1, \"value\": 0.8181818181818181}, \"1.4234234234234235\": {\"frequency\": 5, \"value\": 1.4234234234234235}, \"1.5851851851851853\": {\"frequency\": 2, \"value\": 1.5851851851851853}, \"1.8271604938271606\": {\"frequency\": 41, \"value\": 1.8271604938271606}, \"0.4307692307692308\": {\"frequency\": 1, \"value\": 0.4307692307692308}, \"1.855421686746988\": {\"frequency\": 17, \"value\": 1.855421686746988}, \"1.7478991596638656\": {\"frequency\": 5, \"value\": 1.7478991596638656}, \"1.0555555555555556\": {\"frequency\": 4, \"value\": 1.0555555555555556}, \"1.3642384105960264\": {\"frequency\": 1, \"value\": 1.3642384105960264}, \"0.8292682926829269\": {\"frequency\": 3, \"value\": 0.8292682926829269}, \"1.6376811594202898\": {\"frequency\": 2, \"value\": 1.6376811594202898}, \"0.22222222222222232\": {\"frequency\": 1, \"value\": 0.22222222222222232}, \"0.9722222222222223\": {\"frequency\": 4, \"value\": 0.9722222222222223}, \"1.7076923076923076\": {\"frequency\": 5, \"value\": 1.7076923076923076}, \"1.9178082191780823\": {\"frequency\": 2, \"value\": 1.9178082191780823}, \"1.4257425742574257\": {\"frequency\": 3, \"value\": 1.4257425742574257}, \"1.6434108527131783\": {\"frequency\": 4, \"value\": 1.6434108527131783}, \"1.7246376811594204\": {\"frequency\": 3, \"value\": 1.7246376811594204}, \"0.7126436781609196\": {\"frequency\": 1, \"value\": 0.7126436781609196}, \"1.6935483870967742\": {\"frequency\": 4, \"value\": 1.6935483870967742}, \"1.4437086092715232\": {\"frequency\": 1, \"value\": 1.4437086092715232}, \"1.2527472527472527\": {\"frequency\": 3, \"value\": 1.2527472527472527}, \"1.7169811320754718\": {\"frequency\": 16, \"value\": 1.7169811320754718}, \"1.6496350364963503\": {\"frequency\": 4, \"value\": 1.6496350364963503}, \"1.853932584269663\": {\"frequency\": 1, \"value\": 1.853932584269663}, \"1.4509803921568627\": {\"frequency\": 6, \"value\": 1.4509803921568627}, \"0.56\": {\"frequency\": 4, \"value\": 0.56}, \"1.5555555555555556\": {\"frequency\": 108, \"value\": 1.5555555555555556}, \"1.2045454545454546\": {\"frequency\": 3, \"value\": 1.2045454545454546}, \"1.729032258064516\": {\"frequency\": 1, \"value\": 1.729032258064516}, \"1.3766233766233766\": {\"frequency\": 5, \"value\": 1.3766233766233766}, \"1.8162162162162163\": {\"frequency\": 1, \"value\": 1.8162162162162163}, \"1.1842105263157894\": {\"frequency\": 4, \"value\": 1.1842105263157894}, \"1.8591549295774648\": {\"frequency\": 22, \"value\": 1.8591549295774648}, \"1.6891891891891893\": {\"frequency\": 2, \"value\": 1.6891891891891893}, \"0.9787234042553192\": {\"frequency\": 1, \"value\": 0.9787234042553192}, \"1.639751552795031\": {\"frequency\": 1, \"value\": 1.639751552795031}, \"1.7228915662650603\": {\"frequency\": 1, \"value\": 1.7228915662650603}, \"1.6963350785340314\": {\"frequency\": 1, \"value\": 1.6963350785340314}, \"1.6266666666666667\": {\"frequency\": 36, \"value\": 1.6266666666666667}, \"1.3894736842105262\": {\"frequency\": 2, \"value\": 1.3894736842105262}, \"1.4915254237288136\": {\"frequency\": 14, \"value\": 1.4915254237288136}, \"1.530612244897959\": {\"frequency\": 6, \"value\": 1.530612244897959}, \"1.2682926829268293\": {\"frequency\": 10, \"value\": 1.2682926829268293}, \"1.829059829059829\": {\"frequency\": 1, \"value\": 1.829059829059829}, \"1.4676258992805755\": {\"frequency\": 1, \"value\": 1.4676258992805755}, \"1.7733333333333334\": {\"frequency\": 3, \"value\": 1.7733333333333334}, \"1.490566037735849\": {\"frequency\": 3, \"value\": 1.490566037735849}, \"1.094736842105263\": {\"frequency\": 1, \"value\": 1.094736842105263}, \"1.7291666666666667\": {\"frequency\": 25, \"value\": 1.7291666666666667}, \"1.1884057971014492\": {\"frequency\": 4, \"value\": 1.1884057971014492}, \"1.7866666666666666\": {\"frequency\": 29, \"value\": 1.7866666666666666}, \"1.574803149606299\": {\"frequency\": 2, \"value\": 1.574803149606299}, \"1.6476190476190475\": {\"frequency\": 1, \"value\": 1.6476190476190475}, \"1.676923076923077\": {\"frequency\": 8, \"value\": 1.676923076923077}, \"1.0886075949367089\": {\"frequency\": 1, \"value\": 1.0886075949367089}, \"1.6333333333333333\": {\"frequency\": 23, \"value\": 1.6333333333333333}, \"0.8999999999999999\": {\"frequency\": 2, \"value\": 0.8999999999999999}, \"1.2839506172839505\": {\"frequency\": 3, \"value\": 1.2839506172839505}, \"1.803030303030303\": {\"frequency\": 3, \"value\": 1.803030303030303}, \"1.6122448979591837\": {\"frequency\": 7, \"value\": 1.6122448979591837}, \"1.7981651376146788\": {\"frequency\": 5, \"value\": 1.7981651376146788}, \"1.452054794520548\": {\"frequency\": 6, \"value\": 1.452054794520548}, \"1.634782608695652\": {\"frequency\": 7, \"value\": 1.634782608695652}, \"1.4647887323943662\": {\"frequency\": 4, \"value\": 1.4647887323943662}, \"1.617283950617284\": {\"frequency\": 1, \"value\": 1.617283950617284}, \"1.7794117647058822\": {\"frequency\": 1, \"value\": 1.7794117647058822}, \"1.2238805970149254\": {\"frequency\": 5, \"value\": 1.2238805970149254}, \"1.7482517482517483\": {\"frequency\": 1, \"value\": 1.7482517482517483}, \"1.8043478260869565\": {\"frequency\": 14, \"value\": 1.8043478260869565}, \"1.7217391304347827\": {\"frequency\": 13, \"value\": 1.7217391304347827}, \"0.8785046728971964\": {\"frequency\": 1, \"value\": 0.8785046728971964}, \"1.5412844036697249\": {\"frequency\": 2, \"value\": 1.5412844036697249}, \"0.22580645161290325\": {\"frequency\": 1, \"value\": 0.22580645161290325}, \"1.7662337662337662\": {\"frequency\": 42, \"value\": 1.7662337662337662}, \"1.6850393700787403\": {\"frequency\": 2, \"value\": 1.6850393700787403}, \"1.5535714285714286\": {\"frequency\": 4, \"value\": 1.5535714285714286}, \"0.5901639344262295\": {\"frequency\": 1, \"value\": 0.5901639344262295}, \"1.8085106382978724\": {\"frequency\": 17, \"value\": 1.8085106382978724}, \"1.081967213114754\": {\"frequency\": 2, \"value\": 1.081967213114754}, \"1.8625954198473282\": {\"frequency\": 2, \"value\": 1.8625954198473282}, \"0.2142857142857142\": {\"frequency\": 2, \"value\": 0.2142857142857142}, \"1.6896551724137931\": {\"frequency\": 68, \"value\": 1.6896551724137931}, \"0.9019607843137254\": {\"frequency\": 1, \"value\": 0.9019607843137254}, \"1.9130434782608696\": {\"frequency\": 12, \"value\": 1.9130434782608696}, \"1.89010989010989\": {\"frequency\": 2, \"value\": 1.89010989010989}, \"0.9743589743589745\": {\"frequency\": 4, \"value\": 0.9743589743589745}, \"1.8034682080924855\": {\"frequency\": 1, \"value\": 1.8034682080924855}, \"1.7452229299363058\": {\"frequency\": 3, \"value\": 1.7452229299363058}, \"1.6176470588235294\": {\"frequency\": 19, \"value\": 1.6176470588235294}, \"1.786259541984733\": {\"frequency\": 2, \"value\": 1.786259541984733}, \"0.8518518518518519\": {\"frequency\": 5, \"value\": 0.8518518518518519}, \"1.4722222222222223\": {\"frequency\": 7, \"value\": 1.4722222222222223}, \"0.9454545454545455\": {\"frequency\": 2, \"value\": 0.9454545454545455}, \"1.6415094339622642\": {\"frequency\": 14, \"value\": 1.6415094339622642}, \"1.738562091503268\": {\"frequency\": 4, \"value\": 1.738562091503268}, \"1.2340425531914894\": {\"frequency\": 8, \"value\": 1.2340425531914894}, \"1.811023622047244\": {\"frequency\": 1, \"value\": 1.811023622047244}, \"1.6860465116279069\": {\"frequency\": 1, \"value\": 1.6860465116279069}, \"1.2291666666666665\": {\"frequency\": 1, \"value\": 1.2291666666666665}, \"1.8020833333333333\": {\"frequency\": 1, \"value\": 1.8020833333333333}, \"1.3898305084745761\": {\"frequency\": 9, \"value\": 1.3898305084745761}, \"1.2692307692307692\": {\"frequency\": 5, \"value\": 1.2692307692307692}, \"0.8421052631578947\": {\"frequency\": 5, \"value\": 0.8421052631578947}, \"1.7266187050359711\": {\"frequency\": 3, \"value\": 1.7266187050359711}, \"0.9574468085106382\": {\"frequency\": 1, \"value\": 0.9574468085106382}, \"1.1162790697674418\": {\"frequency\": 7, \"value\": 1.1162790697674418}, \"1.825136612021858\": {\"frequency\": 1, \"value\": 1.825136612021858}, \"1.7586206896551724\": {\"frequency\": 52, \"value\": 1.7586206896551724}, \"1.6396396396396398\": {\"frequency\": 7, \"value\": 1.6396396396396398}, \"1.5474452554744524\": {\"frequency\": 1, \"value\": 1.5474452554744524}, \"1.3142857142857143\": {\"frequency\": 13, \"value\": 1.3142857142857143}, \"1.5041322314049586\": {\"frequency\": 1, \"value\": 1.5041322314049586}, \"1.664\": {\"frequency\": 6, \"value\": 1.664}, \"0.5806451612903225\": {\"frequency\": 3, \"value\": 0.5806451612903225}, \"1.4696969696969697\": {\"frequency\": 1, \"value\": 1.4696969696969697}, \"1.8840579710144927\": {\"frequency\": 8, \"value\": 1.8840579710144927}, \"1.6261682242990654\": {\"frequency\": 5, \"value\": 1.6261682242990654}, \"1.1388888888888888\": {\"frequency\": 1, \"value\": 1.1388888888888888}, \"1.6483516483516483\": {\"frequency\": 26, \"value\": 1.6483516483516483}, \"1.7868852459016393\": {\"frequency\": 7, \"value\": 1.7868852459016393}, \"1.7215189873417722\": {\"frequency\": 36, \"value\": 1.7215189873417722}, \"0.25\": {\"frequency\": 6, \"value\": 0.25}, \"1.3333333333333335\": {\"frequency\": 134, \"value\": 1.3333333333333335}, \"1.6153846153846154\": {\"frequency\": 57, \"value\": 1.6153846153846154}, \"1.7486338797814207\": {\"frequency\": 1, \"value\": 1.7486338797814207}, \"0.5853658536585367\": {\"frequency\": 1, \"value\": 0.5853658536585367}, \"1.6282051282051282\": {\"frequency\": 1, \"value\": 1.6282051282051282}, \"1.0422535211267605\": {\"frequency\": 2, \"value\": 1.0422535211267605}, \"1.471264367816092\": {\"frequency\": 3, \"value\": 1.471264367816092}, \"1.032258064516129\": {\"frequency\": 3, \"value\": 1.032258064516129}, \"1.8275862068965516\": {\"frequency\": 36, \"value\": 1.8275862068965516}, \"1.7593984962406015\": {\"frequency\": 7, \"value\": 1.7593984962406015}, \"1.2233009708737863\": {\"frequency\": 2, \"value\": 1.2233009708737863}, \"0.9382716049382716\": {\"frequency\": 1, \"value\": 0.9382716049382716}, \"1.5447154471544715\": {\"frequency\": 1, \"value\": 1.5447154471544715}, \"1.7384615384615385\": {\"frequency\": 8, \"value\": 1.7384615384615385}, \"1.6790123456790123\": {\"frequency\": 26, \"value\": 1.6790123456790123}, \"1.7171717171717171\": {\"frequency\": 24, \"value\": 1.7171717171717171}, \"0.9830508474576272\": {\"frequency\": 1, \"value\": 0.9830508474576272}, \"1.6540084388185654\": {\"frequency\": 1, \"value\": 1.6540084388185654}, \"1.4864864864864864\": {\"frequency\": 13, \"value\": 1.4864864864864864}, \"1.676300578034682\": {\"frequency\": 1, \"value\": 1.676300578034682}, \"1.782312925170068\": {\"frequency\": 2, \"value\": 1.782312925170068}, \"1.0175438596491229\": {\"frequency\": 1, \"value\": 1.0175438596491229}, \"1.5731707317073171\": {\"frequency\": 1, \"value\": 1.5731707317073171}, \"0.7692307692307692\": {\"frequency\": 5, \"value\": 0.7692307692307692}, \"0.15384615384615374\": {\"frequency\": 1, \"value\": 0.15384615384615374}, \"1.620253164556962\": {\"frequency\": 17, \"value\": 1.620253164556962}, \"1.2285714285714286\": {\"frequency\": 6, \"value\": 1.2285714285714286}, \"1.5221238938053097\": {\"frequency\": 1, \"value\": 1.5221238938053097}, \"1.4065934065934065\": {\"frequency\": 1, \"value\": 1.4065934065934065}, \"1.435897435897436\": {\"frequency\": 18, \"value\": 1.435897435897436}, \"0.49056603773584895\": {\"frequency\": 4, \"value\": 0.49056603773584895}, \"1.7198067632850242\": {\"frequency\": 1, \"value\": 1.7198067632850242}, \"1.647887323943662\": {\"frequency\": 2, \"value\": 1.647887323943662}, \"1.7094017094017093\": {\"frequency\": 15, \"value\": 1.7094017094017093}, \"1.7829457364341086\": {\"frequency\": 5, \"value\": 1.7829457364341086}, \"1.7882352941176471\": {\"frequency\": 26, \"value\": 1.7882352941176471}, \"1.6285714285714286\": {\"frequency\": 24, \"value\": 1.6285714285714286}, \"0.9142857142857144\": {\"frequency\": 9, \"value\": 0.9142857142857144}, \"1.4637681159420288\": {\"frequency\": 1, \"value\": 1.4637681159420288}, \"1.52\": {\"frequency\": 35, \"value\": 1.52}, \"1.62\": {\"frequency\": 15, \"value\": 1.62}, \"1.4157303370786516\": {\"frequency\": 2, \"value\": 1.4157303370786516}, \"1.7168141592920354\": {\"frequency\": 10, \"value\": 1.7168141592920354}, \"1.2352941176470589\": {\"frequency\": 5, \"value\": 1.2352941176470589}, \"1.1333333333333333\": {\"frequency\": 3, \"value\": 1.1333333333333333}, \"1.8863636363636365\": {\"frequency\": 2, \"value\": 1.8863636363636365}, \"1.6435643564356437\": {\"frequency\": 10, \"value\": 1.6435643564356437}, \"1.380952380952381\": {\"frequency\": 14, \"value\": 1.380952380952381}, \"1.0357142857142856\": {\"frequency\": 6, \"value\": 1.0357142857142856}, \"1.7435897435897436\": {\"frequency\": 103, \"value\": 1.7435897435897436}, \"1.1466666666666665\": {\"frequency\": 4, \"value\": 1.1466666666666665}, \"1.4285714285714286\": {\"frequency\": 87, \"value\": 1.4285714285714286}, \"1.7411764705882353\": {\"frequency\": 26, \"value\": 1.7411764705882353}, \"1.576271186440678\": {\"frequency\": 1, \"value\": 1.576271186440678}, \"1.9115044247787611\": {\"frequency\": 1, \"value\": 1.9115044247787611}, \"1.7740112994350283\": {\"frequency\": 3, \"value\": 1.7740112994350283}, \"1.543859649122807\": {\"frequency\": 21, \"value\": 1.543859649122807}, \"1.8307692307692307\": {\"frequency\": 2, \"value\": 1.8307692307692307}, \"1.6829268292682926\": {\"frequency\": 35, \"value\": 1.6829268292682926}, \"1.1372549019607843\": {\"frequency\": 3, \"value\": 1.1372549019607843}, \"1.6989247311827957\": {\"frequency\": 24, \"value\": 1.6989247311827957}, \"1.4942528735632183\": {\"frequency\": 4, \"value\": 1.4942528735632183}, \"1.8644067796610169\": {\"frequency\": 14, \"value\": 1.8644067796610169}, \"1.7219251336898396\": {\"frequency\": 1, \"value\": 1.7219251336898396}, \"0.606060606060606\": {\"frequency\": 3, \"value\": 0.606060606060606}, \"0.7391304347826086\": {\"frequency\": 1, \"value\": 0.7391304347826086}, \"1.2592592592592593\": {\"frequency\": 7, \"value\": 1.2592592592592593}, \"1.1531531531531531\": {\"frequency\": 1, \"value\": 1.1531531531531531}, \"1.7515527950310559\": {\"frequency\": 1, \"value\": 1.7515527950310559}, \"1.4489795918367347\": {\"frequency\": 2, \"value\": 1.4489795918367347}, \"1.808219178082192\": {\"frequency\": 29, \"value\": 1.808219178082192}, \"1.8128654970760234\": {\"frequency\": 2, \"value\": 1.8128654970760234}, \"1.1025641025641026\": {\"frequency\": 1, \"value\": 1.1025641025641026}, \"1.6237623762376239\": {\"frequency\": 11, \"value\": 1.6237623762376239}, \"1.391304347826087\": {\"frequency\": 21, \"value\": 1.391304347826087}, \"0.7894736842105263\": {\"frequency\": 4, \"value\": 0.7894736842105263}, \"1.8675496688741722\": {\"frequency\": 1, \"value\": 1.8675496688741722}, \"1.5683453237410072\": {\"frequency\": 1, \"value\": 1.5683453237410072}, \"1.71875\": {\"frequency\": 53, \"value\": 1.71875}, \"0.303030303030303\": {\"frequency\": 2, \"value\": 0.303030303030303}, \"1.4311926605504586\": {\"frequency\": 1, \"value\": 1.4311926605504586}, \"1.7849462365591398\": {\"frequency\": 27, \"value\": 1.7849462365591398}, \"1.4565217391304348\": {\"frequency\": 4, \"value\": 1.4565217391304348}, \"1.5632183908045976\": {\"frequency\": 7, \"value\": 1.5632183908045976}, \"1.5483870967741935\": {\"frequency\": 23, \"value\": 1.5483870967741935}, \"1.7611940298507462\": {\"frequency\": 48, \"value\": 1.7611940298507462}, \"1.748427672955975\": {\"frequency\": 4, \"value\": 1.748427672955975}, \"1.074074074074074\": {\"frequency\": 5, \"value\": 1.074074074074074}, \"1.626865671641791\": {\"frequency\": 2, \"value\": 1.626865671641791}, \"1.3\": {\"frequency\": 19, \"value\": 1.3}, \"0.6976744186046511\": {\"frequency\": 1, \"value\": 0.6976744186046511}, \"1.7173913043478262\": {\"frequency\": 28, \"value\": 1.7173913043478262}, \"0.9615384615384615\": {\"frequency\": 4, \"value\": 0.9615384615384615}, \"1.4523809523809523\": {\"frequency\": 4, \"value\": 1.4523809523809523}, \"1.0625\": {\"frequency\": 4, \"value\": 1.0625}, \"1.819277108433735\": {\"frequency\": 1, \"value\": 1.819277108433735}, \"1.8211382113821137\": {\"frequency\": 4, \"value\": 1.8211382113821137}, \"1.3770491803278688\": {\"frequency\": 10, \"value\": 1.3770491803278688}, \"1.440677966101695\": {\"frequency\": 2, \"value\": 1.440677966101695}, \"1.4588235294117649\": {\"frequency\": 1, \"value\": 1.4588235294117649}, \"1.7105263157894737\": {\"frequency\": 35, \"value\": 1.7105263157894737}, \"1.393258426966292\": {\"frequency\": 2, \"value\": 1.393258426966292}, \"1.5873015873015874\": {\"frequency\": 27, \"value\": 1.5873015873015874}, \"1.6993464052287581\": {\"frequency\": 4, \"value\": 1.6993464052287581}, \"1.2530120481927711\": {\"frequency\": 5, \"value\": 1.2530120481927711}, \"1.803921568627451\": {\"frequency\": 44, \"value\": 1.803921568627451}, \"0.5555555555555556\": {\"frequency\": 3, \"value\": 0.5555555555555556}, \"1.3478260869565217\": {\"frequency\": 5, \"value\": 1.3478260869565217}, \"1.3424657534246576\": {\"frequency\": 3, \"value\": 1.3424657534246576}, \"1.875968992248062\": {\"frequency\": 2, \"value\": 1.875968992248062}, \"1.755813953488372\": {\"frequency\": 1, \"value\": 1.755813953488372}, \"1.674074074074074\": {\"frequency\": 2, \"value\": 1.674074074074074}, \"1.603960396039604\": {\"frequency\": 10, \"value\": 1.603960396039604}, \"1.0444444444444443\": {\"frequency\": 1, \"value\": 1.0444444444444443}, \"1.5172413793103448\": {\"frequency\": 27, \"value\": 1.5172413793103448}, \"1.3818181818181818\": {\"frequency\": 9, \"value\": 1.3818181818181818}, \"1.7757009345794392\": {\"frequency\": 25, \"value\": 1.7757009345794392}, \"1.6210526315789473\": {\"frequency\": 9, \"value\": 1.6210526315789473}, \"1.8198198198198199\": {\"frequency\": 10, \"value\": 1.8198198198198199}, \"1.0352941176470587\": {\"frequency\": 1, \"value\": 1.0352941176470587}, \"1.5267175572519083\": {\"frequency\": 2, \"value\": 1.5267175572519083}, \"1.7046979865771812\": {\"frequency\": 2, \"value\": 1.7046979865771812}, \"1.8439716312056738\": {\"frequency\": 2, \"value\": 1.8439716312056738}, \"1.5337423312883436\": {\"frequency\": 1, \"value\": 1.5337423312883436}, \"0.9310344827586208\": {\"frequency\": 3, \"value\": 0.9310344827586208}, \"0.9361702127659575\": {\"frequency\": 5, \"value\": 0.9361702127659575}, \"1.6179775280898876\": {\"frequency\": 9, \"value\": 1.6179775280898876}, \"1.6867469879518073\": {\"frequency\": 22, \"value\": 1.6867469879518073}, \"0.5538461538461539\": {\"frequency\": 1, \"value\": 0.5538461538461539}, \"1.402061855670103\": {\"frequency\": 5, \"value\": 1.402061855670103}, \"0.7619047619047619\": {\"frequency\": 5, \"value\": 0.7619047619047619}, \"1.0632911392405062\": {\"frequency\": 1, \"value\": 1.0632911392405062}, \"1.7080291970802919\": {\"frequency\": 5, \"value\": 1.7080291970802919}, \"1.7261904761904763\": {\"frequency\": 2, \"value\": 1.7261904761904763}, \"1.7303370786516854\": {\"frequency\": 30, \"value\": 1.7303370786516854}, \"1.8780487804878048\": {\"frequency\": 7, \"value\": 1.8780487804878048}, \"0.558139534883721\": {\"frequency\": 1, \"value\": 0.558139534883721}, \"1.76536312849162\": {\"frequency\": 1, \"value\": 1.76536312849162}, \"1.1529411764705881\": {\"frequency\": 1, \"value\": 1.1529411764705881}, \"0.896551724137931\": {\"frequency\": 3, \"value\": 0.896551724137931}, \"1.7971014492753623\": {\"frequency\": 24, \"value\": 1.7971014492753623}, \"1.3740458015267176\": {\"frequency\": 1, \"value\": 1.3740458015267176}, \"1.4516129032258065\": {\"frequency\": 12, \"value\": 1.4516129032258065}, \"0.7878787878787878\": {\"frequency\": 7, \"value\": 0.7878787878787878}, \"0.36363636363636354\": {\"frequency\": 7, \"value\": 0.36363636363636354}, \"1.3162393162393162\": {\"frequency\": 1, \"value\": 1.3162393162393162}, \"0.9836065573770492\": {\"frequency\": 1, \"value\": 0.9836065573770492}, \"1.8426966292134832\": {\"frequency\": 19, \"value\": 1.8426966292134832}, \"1.7407407407407407\": {\"frequency\": 78, \"value\": 1.7407407407407407}, \"1.797979797979798\": {\"frequency\": 13, \"value\": 1.797979797979798}, \"0.7333333333333334\": {\"frequency\": 9, \"value\": 0.7333333333333334}, \"1.619047619047619\": {\"frequency\": 115, \"value\": 1.619047619047619}, \"1.48\": {\"frequency\": 10, \"value\": 1.48}, \"0.8641975308641976\": {\"frequency\": 1, \"value\": 0.8641975308641976}, \"1.6729559748427674\": {\"frequency\": 1, \"value\": 1.6729559748427674}, \"1.7714285714285714\": {\"frequency\": 97, \"value\": 1.7714285714285714}, \"1.8512396694214877\": {\"frequency\": 5, \"value\": 1.8512396694214877}, \"1.5855855855855856\": {\"frequency\": 7, \"value\": 1.5855855855855856}, \"1.4933333333333332\": {\"frequency\": 10, \"value\": 1.4933333333333332}, \"1.5841584158415842\": {\"frequency\": 2, \"value\": 1.5841584158415842}, \"1.7790055248618786\": {\"frequency\": 1, \"value\": 1.7790055248618786}, \"1.8771929824561404\": {\"frequency\": 1, \"value\": 1.8771929824561404}, \"1.656862745098039\": {\"frequency\": 1, \"value\": 1.656862745098039}, \"1.5689655172413794\": {\"frequency\": 4, \"value\": 1.5689655172413794}, \"1.42\": {\"frequency\": 2, \"value\": 1.42}, \"1.4705882352941178\": {\"frequency\": 19, \"value\": 1.4705882352941178}, \"1.7840909090909092\": {\"frequency\": 1, \"value\": 1.7840909090909092}, \"1.7579617834394905\": {\"frequency\": 2, \"value\": 1.7579617834394905}, \"0.7727272727272727\": {\"frequency\": 1, \"value\": 0.7727272727272727}, \"1.8615384615384616\": {\"frequency\": 3, \"value\": 1.8615384615384616}, \"1.9333333333333333\": {\"frequency\": 7, \"value\": 1.9333333333333333}, \"1.7848101265822784\": {\"frequency\": 2, \"value\": 1.7848101265822784}, \"1.5106382978723405\": {\"frequency\": 2, \"value\": 1.5106382978723405}, \"1.2866242038216562\": {\"frequency\": 1, \"value\": 1.2866242038216562}, \"1.8928571428571428\": {\"frequency\": 1, \"value\": 1.8928571428571428}, \"1.7610062893081762\": {\"frequency\": 4, \"value\": 1.7610062893081762}, \"0.35897435897435903\": {\"frequency\": 1, \"value\": 0.35897435897435903}, \"1.6721311475409837\": {\"frequency\": 34, \"value\": 1.6721311475409837}, \"1.3513513513513513\": {\"frequency\": 12, \"value\": 1.3513513513513513}, \"1.6507936507936507\": {\"frequency\": 28, \"value\": 1.6507936507936507}, \"1.408450704225352\": {\"frequency\": 8, \"value\": 1.408450704225352}, \"0.903225806451613\": {\"frequency\": 1, \"value\": 0.903225806451613}, \"1.8071065989847717\": {\"frequency\": 1, \"value\": 1.8071065989847717}, \"1.4035087719298245\": {\"frequency\": 11, \"value\": 1.4035087719298245}, \"1.896551724137931\": {\"frequency\": 4, \"value\": 1.896551724137931}, \"1.7718120805369129\": {\"frequency\": 2, \"value\": 1.7718120805369129}, \"1.6260162601626016\": {\"frequency\": 2, \"value\": 1.6260162601626016}, \"1.7763157894736843\": {\"frequency\": 1, \"value\": 1.7763157894736843}, \"0.7037037037037037\": {\"frequency\": 1, \"value\": 0.7037037037037037}, \"0.06060606060606055\": {\"frequency\": 1, \"value\": 0.06060606060606055}, \"1.2564102564102564\": {\"frequency\": 4, \"value\": 1.2564102564102564}, \"1.7857142857142858\": {\"frequency\": 101, \"value\": 1.7857142857142858}, \"1.6460176991150441\": {\"frequency\": 8, \"value\": 1.6460176991150441}, \"1.66\": {\"frequency\": 17, \"value\": 1.66}, \"1.605095541401274\": {\"frequency\": 2, \"value\": 1.605095541401274}, \"1.6375838926174497\": {\"frequency\": 1, \"value\": 1.6375838926174497}, \"1.5180722891566265\": {\"frequency\": 7, \"value\": 1.5180722891566265}, \"1.3617021276595744\": {\"frequency\": 16, \"value\": 1.3617021276595744}, \"1.125\": {\"frequency\": 26, \"value\": 1.125}, \"1.5735294117647058\": {\"frequency\": 1, \"value\": 1.5735294117647058}, \"1.1235955056179776\": {\"frequency\": 1, \"value\": 1.1235955056179776}, \"0.23076923076923084\": {\"frequency\": 2, \"value\": 0.23076923076923084}, \"0.5714285714285714\": {\"frequency\": 7, \"value\": 0.5714285714285714}, \"1.2043010752688172\": {\"frequency\": 2, \"value\": 1.2043010752688172}, \"1.5081967213114753\": {\"frequency\": 7, \"value\": 1.5081967213114753}, \"0.24390243902439024\": {\"frequency\": 1, \"value\": 0.24390243902439024}, \"1.709090909090909\": {\"frequency\": 65, \"value\": 1.709090909090909}, \"1.3777777777777778\": {\"frequency\": 13, \"value\": 1.3777777777777778}, \"1.2121212121212122\": {\"frequency\": 10, \"value\": 1.2121212121212122}, \"1.2470588235294118\": {\"frequency\": 1, \"value\": 1.2470588235294118}, \"1.4823529411764707\": {\"frequency\": 5, \"value\": 1.4823529411764707}, \"1.7880794701986755\": {\"frequency\": 2, \"value\": 1.7880794701986755}, \"0.6885245901639345\": {\"frequency\": 3, \"value\": 0.6885245901639345}, \"1.7872340425531914\": {\"frequency\": 81, \"value\": 1.7872340425531914}, \"1.7847222222222223\": {\"frequency\": 1, \"value\": 1.7847222222222223}, \"1.5445544554455446\": {\"frequency\": 4, \"value\": 1.5445544554455446}, \"0.48888888888888893\": {\"frequency\": 1, \"value\": 0.48888888888888893}, \"1.8133333333333332\": {\"frequency\": 19, \"value\": 1.8133333333333332}, \"1.619718309859155\": {\"frequency\": 2, \"value\": 1.619718309859155}, \"1.5828220858895705\": {\"frequency\": 1, \"value\": 1.5828220858895705}, \"1.7548387096774194\": {\"frequency\": 2, \"value\": 1.7548387096774194}, \"1.856115107913669\": {\"frequency\": 1, \"value\": 1.856115107913669}, \"1.4177215189873418\": {\"frequency\": 1, \"value\": 1.4177215189873418}, \"1.0434782608695652\": {\"frequency\": 6, \"value\": 1.0434782608695652}, \"1.4727272727272727\": {\"frequency\": 2, \"value\": 1.4727272727272727}, \"1.0561797752808988\": {\"frequency\": 1, \"value\": 1.0561797752808988}, \"1.4608695652173913\": {\"frequency\": 2, \"value\": 1.4608695652173913}, \"1.4651162790697674\": {\"frequency\": 3, \"value\": 1.4651162790697674}, \"1.164179104477612\": {\"frequency\": 4, \"value\": 1.164179104477612}, \"1.8782608695652174\": {\"frequency\": 2, \"value\": 1.8782608695652174}, \"1.4251497005988023\": {\"frequency\": 1, \"value\": 1.4251497005988023}, \"1.574074074074074\": {\"frequency\": 3, \"value\": 1.574074074074074}, \"1.8135593220338984\": {\"frequency\": 7, \"value\": 1.8135593220338984}, \"1.6575342465753424\": {\"frequency\": 2, \"value\": 1.6575342465753424}, \"1.6304347826086958\": {\"frequency\": 12, \"value\": 1.6304347826086958}, \"1.1313131313131313\": {\"frequency\": 1, \"value\": 1.1313131313131313}, \"1.2903225806451613\": {\"frequency\": 10, \"value\": 1.2903225806451613}, \"1.1685393258426966\": {\"frequency\": 1, \"value\": 1.1685393258426966}, \"1.0344827586206895\": {\"frequency\": 4, \"value\": 1.0344827586206895}, \"1.6986301369863015\": {\"frequency\": 30, \"value\": 1.6986301369863015}, \"1.5305164319248825\": {\"frequency\": 1, \"value\": 1.5305164319248825}, \"1.05\": {\"frequency\": 12, \"value\": 1.05}, \"1.5737704918032787\": {\"frequency\": 13, \"value\": 1.5737704918032787}, \"0.721311475409836\": {\"frequency\": 1, \"value\": 0.721311475409836}, \"1.9230769230769231\": {\"frequency\": 14, \"value\": 1.9230769230769231}, \"1.71900826446281\": {\"frequency\": 6, \"value\": 1.71900826446281}, \"1.5900621118012421\": {\"frequency\": 1, \"value\": 1.5900621118012421}, \"1.616\": {\"frequency\": 6, \"value\": 1.616}, \"1.2808988764044944\": {\"frequency\": 1, \"value\": 1.2808988764044944}, \"0.6818181818181819\": {\"frequency\": 1, \"value\": 0.6818181818181819}, \"0.6086956521739131\": {\"frequency\": 1, \"value\": 0.6086956521739131}, \"0.53125\": {\"frequency\": 1, \"value\": 0.53125}, \"0.6285714285714286\": {\"frequency\": 6, \"value\": 0.6285714285714286}, \"1.3980582524271845\": {\"frequency\": 1, \"value\": 1.3980582524271845}, \"1.6783216783216783\": {\"frequency\": 3, \"value\": 1.6783216783216783}, \"1.8115183246073299\": {\"frequency\": 2, \"value\": 1.8115183246073299}, \"1.3255813953488373\": {\"frequency\": 3, \"value\": 1.3255813953488373}, \"0.9199999999999999\": {\"frequency\": 5, \"value\": 0.9199999999999999}, \"1.4901960784313726\": {\"frequency\": 11, \"value\": 1.4901960784313726}, \"1.3164556962025316\": {\"frequency\": 4, \"value\": 1.3164556962025316}, \"1.5947712418300655\": {\"frequency\": 1, \"value\": 1.5947712418300655}, \"1.5892857142857144\": {\"frequency\": 2, \"value\": 1.5892857142857144}, \"1.4230769230769231\": {\"frequency\": 7, \"value\": 1.4230769230769231}, \"1.4090909090909092\": {\"frequency\": 16, \"value\": 1.4090909090909092}, \"1.7627118644067796\": {\"frequency\": 35, \"value\": 1.7627118644067796}, \"1.744360902255639\": {\"frequency\": 4, \"value\": 1.744360902255639}, \"1.8021978021978022\": {\"frequency\": 14, \"value\": 1.8021978021978022}, \"1.7837837837837838\": {\"frequency\": 77, \"value\": 1.7837837837837838}, \"0.46666666666666656\": {\"frequency\": 1, \"value\": 0.46666666666666656}, \"1.870967741935484\": {\"frequency\": 56, \"value\": 1.870967741935484}, \"1.632183908045977\": {\"frequency\": 14, \"value\": 1.632183908045977}, \"1.50561797752809\": {\"frequency\": 9, \"value\": 1.50561797752809}, \"1.7955555555555556\": {\"frequency\": 1, \"value\": 1.7955555555555556}, \"0.9393939393939394\": {\"frequency\": 1, \"value\": 0.9393939393939394}, \"1.8529411764705883\": {\"frequency\": 27, \"value\": 1.8529411764705883}, \"0.5142857142857142\": {\"frequency\": 6, \"value\": 0.5142857142857142}, \"0.9859154929577465\": {\"frequency\": 1, \"value\": 0.9859154929577465}, \"1.8793103448275863\": {\"frequency\": 4, \"value\": 1.8793103448275863}, \"1.8881987577639752\": {\"frequency\": 1, \"value\": 1.8881987577639752}, \"1.9024390243902438\": {\"frequency\": 9, \"value\": 1.9024390243902438}, \"1.3263157894736843\": {\"frequency\": 3, \"value\": 1.3263157894736843}, \"1.0377358490566038\": {\"frequency\": 1, \"value\": 1.0377358490566038}, \"1.1282051282051282\": {\"frequency\": 2, \"value\": 1.1282051282051282}, \"1.6857142857142857\": {\"frequency\": 45, \"value\": 1.6857142857142857}, \"1.375\": {\"frequency\": 16, \"value\": 1.375}, \"1.710144927536232\": {\"frequency\": 40, \"value\": 1.710144927536232}, \"1.275\": {\"frequency\": 1, \"value\": 1.275}, \"1.6842105263157894\": {\"frequency\": 151, \"value\": 1.6842105263157894}, \"1.711864406779661\": {\"frequency\": 5, \"value\": 1.711864406779661}, \"1.1475409836065573\": {\"frequency\": 3, \"value\": 1.1475409836065573}, \"0.9387755102040816\": {\"frequency\": 2, \"value\": 0.9387755102040816}, \"1.6041666666666667\": {\"frequency\": 3, \"value\": 1.6041666666666667}, \"1.2894736842105263\": {\"frequency\": 3, \"value\": 1.2894736842105263}, \"1.236842105263158\": {\"frequency\": 5, \"value\": 1.236842105263158}, \"1.865546218487395\": {\"frequency\": 2, \"value\": 1.865546218487395}, \"1.2888888888888888\": {\"frequency\": 21, \"value\": 1.2888888888888888}, \"0.6382978723404256\": {\"frequency\": 4, \"value\": 0.6382978723404256}, \"1.7011494252873562\": {\"frequency\": 35, \"value\": 1.7011494252873562}, \"1.8656716417910448\": {\"frequency\": 1, \"value\": 1.8656716417910448}, \"1.7358490566037736\": {\"frequency\": 78, \"value\": 1.7358490566037736}, \"0.9818181818181819\": {\"frequency\": 3, \"value\": 0.9818181818181819}, \"1.8279569892473118\": {\"frequency\": 17, \"value\": 1.8279569892473118}, \"1.35\": {\"frequency\": 13, \"value\": 1.35}, \"1.5495495495495495\": {\"frequency\": 2, \"value\": 1.5495495495495495}, \"1.504950495049505\": {\"frequency\": 4, \"value\": 1.504950495049505}, \"1.5604395604395604\": {\"frequency\": 13, \"value\": 1.5604395604395604}, \"0.7457627118644068\": {\"frequency\": 1, \"value\": 0.7457627118644068}, \"1.5897435897435899\": {\"frequency\": 54, \"value\": 1.5897435897435899}, \"0.8888888888888888\": {\"frequency\": 12, \"value\": 0.8888888888888888}, \"0.9795918367346939\": {\"frequency\": 4, \"value\": 0.9795918367346939}, \"1.73109243697479\": {\"frequency\": 4, \"value\": 1.73109243697479}, \"1.5833333333333333\": {\"frequency\": 45, \"value\": 1.5833333333333333}, \"1.8632478632478633\": {\"frequency\": 4, \"value\": 1.8632478632478633}, \"0.45833333333333326\": {\"frequency\": 2, \"value\": 0.45833333333333326}, \"1.7708333333333333\": {\"frequency\": 34, \"value\": 1.7708333333333333}, \"1.8526315789473684\": {\"frequency\": 8, \"value\": 1.8526315789473684}, \"1.644859813084112\": {\"frequency\": 9, \"value\": 1.644859813084112}, \"1.5145631067961165\": {\"frequency\": 3, \"value\": 1.5145631067961165}, \"1.4102564102564101\": {\"frequency\": 2, \"value\": 1.4102564102564101}, \"1.5578947368421052\": {\"frequency\": 2, \"value\": 1.5578947368421052}, \"1.6379310344827587\": {\"frequency\": 11, \"value\": 1.6379310344827587}, \"1.7641509433962264\": {\"frequency\": 1, \"value\": 1.7641509433962264}, \"1.8028169014084507\": {\"frequency\": 30, \"value\": 1.8028169014084507}, \"0.6296296296296295\": {\"frequency\": 2, \"value\": 0.6296296296296295}, \"1.7111111111111112\": {\"frequency\": 27, \"value\": 1.7111111111111112}, \"1.0810810810810811\": {\"frequency\": 5, \"value\": 1.0810810810810811}, \"1.763157894736842\": {\"frequency\": 44, \"value\": 1.763157894736842}, \"1.0384615384615383\": {\"frequency\": 4, \"value\": 1.0384615384615383}, \"1.7974683544303798\": {\"frequency\": 23, \"value\": 1.7974683544303798}, \"0.5079365079365079\": {\"frequency\": 1, \"value\": 0.5079365079365079}, \"1.8524590163934427\": {\"frequency\": 4, \"value\": 1.8524590163934427}, \"1.288135593220339\": {\"frequency\": 9, \"value\": 1.288135593220339}, \"1.7671232876712328\": {\"frequency\": 4, \"value\": 1.7671232876712328}, \"1.7458563535911602\": {\"frequency\": 1, \"value\": 1.7458563535911602}, \"1.1800000000000002\": {\"frequency\": 1, \"value\": 1.1800000000000002}, \"0.4545454545454546\": {\"frequency\": 2, \"value\": 0.4545454545454546}, \"1.6978417266187051\": {\"frequency\": 9, \"value\": 1.6978417266187051}, \"1.3495934959349594\": {\"frequency\": 2, \"value\": 1.3495934959349594}, \"0.9811320754716981\": {\"frequency\": 3, \"value\": 0.9811320754716981}, \"1.546218487394958\": {\"frequency\": 2, \"value\": 1.546218487394958}, \"1.5975609756097562\": {\"frequency\": 1, \"value\": 1.5975609756097562}, \"1.814207650273224\": {\"frequency\": 1, \"value\": 1.814207650273224}, \"1.7486910994764397\": {\"frequency\": 1, \"value\": 1.7486910994764397}, \"1.4953271028037385\": {\"frequency\": 1, \"value\": 1.4953271028037385}, \"1.7305699481865284\": {\"frequency\": 1, \"value\": 1.7305699481865284}, \"1.4513274336283186\": {\"frequency\": 2, \"value\": 1.4513274336283186}, \"0.8235294117647058\": {\"frequency\": 11, \"value\": 0.8235294117647058}, \"1.0843373493975905\": {\"frequency\": 1, \"value\": 1.0843373493975905}, \"1.5728155339805825\": {\"frequency\": 4, \"value\": 1.5728155339805825}, \"1.1272727272727274\": {\"frequency\": 2, \"value\": 1.1272727272727274}, \"1.129032258064516\": {\"frequency\": 5, \"value\": 1.129032258064516}, \"1.5867768595041323\": {\"frequency\": 2, \"value\": 1.5867768595041323}, \"1.2926829268292683\": {\"frequency\": 3, \"value\": 1.2926829268292683}, \"1.7162162162162162\": {\"frequency\": 1, \"value\": 1.7162162162162162}, \"1.0476190476190477\": {\"frequency\": 5, \"value\": 1.0476190476190477}, \"0.5384615384615385\": {\"frequency\": 2, \"value\": 0.5384615384615385}, \"1.6835443037974684\": {\"frequency\": 1, \"value\": 1.6835443037974684}, \"0.9375\": {\"frequency\": 7, \"value\": 0.9375}, \"1.131578947368421\": {\"frequency\": 1, \"value\": 1.131578947368421}, \"1.5844155844155843\": {\"frequency\": 14, \"value\": 1.5844155844155843}, \"0.894736842105263\": {\"frequency\": 1, \"value\": 0.894736842105263}, \"1.1600000000000001\": {\"frequency\": 5, \"value\": 1.1600000000000001}, \"1.6744186046511627\": {\"frequency\": 56, \"value\": 1.6744186046511627}, \"1.6482412060301508\": {\"frequency\": 2, \"value\": 1.6482412060301508}, \"1.7428571428571429\": {\"frequency\": 61, \"value\": 1.7428571428571429}, \"1.7377049180327868\": {\"frequency\": 58, \"value\": 1.7377049180327868}, \"1.1733333333333333\": {\"frequency\": 1, \"value\": 1.1733333333333333}, \"0.38596491228070184\": {\"frequency\": 2, \"value\": 0.38596491228070184}, \"1.7245508982035929\": {\"frequency\": 1, \"value\": 1.7245508982035929}, \"0.5238095238095237\": {\"frequency\": 3, \"value\": 0.5238095238095237}, \"1.0769230769230769\": {\"frequency\": 14, \"value\": 1.0769230769230769}, \"1.575\": {\"frequency\": 18, \"value\": 1.575}, \"1.6046511627906976\": {\"frequency\": 19, \"value\": 1.6046511627906976}, \"1.7073170731707317\": {\"frequency\": 61, \"value\": 1.7073170731707317}, \"1.4495412844036697\": {\"frequency\": 1, \"value\": 1.4495412844036697}, \"1.7096774193548387\": {\"frequency\": 57, \"value\": 1.7096774193548387}, \"1.9076923076923076\": {\"frequency\": 9, \"value\": 1.9076923076923076}, \"1.6310679611650485\": {\"frequency\": 10, \"value\": 1.6310679611650485}, \"1.6170212765957448\": {\"frequency\": 34, \"value\": 1.6170212765957448}, \"1.1864406779661016\": {\"frequency\": 3, \"value\": 1.1864406779661016}, \"0.9850746268656716\": {\"frequency\": 2, \"value\": 0.9850746268656716}, \"0.18867924528301883\": {\"frequency\": 1, \"value\": 0.18867924528301883}, \"1.6825396825396826\": {\"frequency\": 31, \"value\": 1.6825396825396826}, \"1.5348837209302326\": {\"frequency\": 15, \"value\": 1.5348837209302326}, \"1.81651376146789\": {\"frequency\": 7, \"value\": 1.81651376146789}, \"1.7743589743589743\": {\"frequency\": 1, \"value\": 1.7743589743589743}, \"1.7014925373134329\": {\"frequency\": 50, \"value\": 1.7014925373134329}, \"1.373913043478261\": {\"frequency\": 1, \"value\": 1.373913043478261}, \"1.5671641791044777\": {\"frequency\": 1, \"value\": 1.5671641791044777}, \"1.688073394495413\": {\"frequency\": 12, \"value\": 1.688073394495413}, \"1.380281690140845\": {\"frequency\": 7, \"value\": 1.380281690140845}, \"1.5639097744360901\": {\"frequency\": 1, \"value\": 1.5639097744360901}, \"1.5526315789473684\": {\"frequency\": 22, \"value\": 1.5526315789473684}, \"1.83206106870229\": {\"frequency\": 4, \"value\": 1.83206106870229}, \"1.7113402061855671\": {\"frequency\": 18, \"value\": 1.7113402061855671}, \"1.881188118811881\": {\"frequency\": 3, \"value\": 1.881188118811881}, \"1.2127659574468086\": {\"frequency\": 1, \"value\": 1.2127659574468086}, \"1.8867924528301887\": {\"frequency\": 8, \"value\": 1.8867924528301887}, \"0.9642857142857142\": {\"frequency\": 3, \"value\": 0.9642857142857142}, \"1.7878787878787878\": {\"frequency\": 37, \"value\": 1.7878787878787878}, \"1.6647398843930636\": {\"frequency\": 1, \"value\": 1.6647398843930636}, \"0.6451612903225807\": {\"frequency\": 1, \"value\": 0.6451612903225807}, \"1.5344827586206897\": {\"frequency\": 2, \"value\": 1.5344827586206897}, \"1.5905511811023623\": {\"frequency\": 1, \"value\": 1.5905511811023623}, \"1.7557251908396947\": {\"frequency\": 5, \"value\": 1.7557251908396947}, \"1.2328767123287672\": {\"frequency\": 6, \"value\": 1.2328767123287672}, \"1.4426229508196722\": {\"frequency\": 17, \"value\": 1.4426229508196722}, \"1.1860465116279069\": {\"frequency\": 1, \"value\": 1.1860465116279069}, \"1.5774647887323945\": {\"frequency\": 11, \"value\": 1.5774647887323945}, \"1.34375\": {\"frequency\": 6, \"value\": 1.34375}, \"0.7659574468085106\": {\"frequency\": 1, \"value\": 0.7659574468085106}, \"1.3170731707317072\": {\"frequency\": 12, \"value\": 1.3170731707317072}, \"1.8309859154929577\": {\"frequency\": 39, \"value\": 1.8309859154929577}, \"1.169230769230769\": {\"frequency\": 5, \"value\": 1.169230769230769}, \"1.6764705882352942\": {\"frequency\": 34, \"value\": 1.6764705882352942}, \"1.6382978723404256\": {\"frequency\": 23, \"value\": 1.6382978723404256}, \"1.7106918238993711\": {\"frequency\": 1, \"value\": 1.7106918238993711}, \"1.84\": {\"frequency\": 92, \"value\": 1.84}, \"1.7477477477477477\": {\"frequency\": 25, \"value\": 1.7477477477477477}, \"0.9696969696969697\": {\"frequency\": 5, \"value\": 0.9696969696969697}, \"1.561904761904762\": {\"frequency\": 2, \"value\": 1.561904761904762}, \"1.064935064935065\": {\"frequency\": 1, \"value\": 1.064935064935065}, \"1.623931623931624\": {\"frequency\": 6, \"value\": 1.623931623931624}, \"0.8813559322033899\": {\"frequency\": 1, \"value\": 0.8813559322033899}, \"1.8392857142857142\": {\"frequency\": 4, \"value\": 1.8392857142857142}, \"0.8717948717948718\": {\"frequency\": 2, \"value\": 0.8717948717948718}, \"0.9176470588235295\": {\"frequency\": 1, \"value\": 0.9176470588235295}, \"0.40816326530612246\": {\"frequency\": 1, \"value\": 0.40816326530612246}, \"1.0925925925925926\": {\"frequency\": 1, \"value\": 1.0925925925925926}, \"1.8727272727272728\": {\"frequency\": 3, \"value\": 1.8727272727272728}, \"1.3763440860215055\": {\"frequency\": 1, \"value\": 1.3763440860215055}, \"1.603448275862069\": {\"frequency\": 4, \"value\": 1.603448275862069}, \"1.0638297872340425\": {\"frequency\": 2, \"value\": 1.0638297872340425}, \"1.536231884057971\": {\"frequency\": 12, \"value\": 1.536231884057971}, \"1.8369565217391304\": {\"frequency\": 1, \"value\": 1.8369565217391304}, \"1.5964912280701755\": {\"frequency\": 6, \"value\": 1.5964912280701755}, \"1.2758620689655173\": {\"frequency\": 2, \"value\": 1.2758620689655173}, \"1.1935483870967742\": {\"frequency\": 1, \"value\": 1.1935483870967742}, \"1.7959183673469388\": {\"frequency\": 61, \"value\": 1.7959183673469388}, \"1.7727272727272727\": {\"frequency\": 72, \"value\": 1.7727272727272727}, \"1.4107142857142856\": {\"frequency\": 2, \"value\": 1.4107142857142856}, \"1.7984496124031009\": {\"frequency\": 6, \"value\": 1.7984496124031009}, \"1.6486486486486487\": {\"frequency\": 26, \"value\": 1.6486486486486487}, \"1.8273381294964028\": {\"frequency\": 2, \"value\": 1.8273381294964028}, \"1.6144578313253013\": {\"frequency\": 29, \"value\": 1.6144578313253013}, \"1.8267716535433072\": {\"frequency\": 1, \"value\": 1.8267716535433072}, \"1.5036496350364963\": {\"frequency\": 1, \"value\": 1.5036496350364963}, \"1.875\": {\"frequency\": 53, \"value\": 1.875}, \"1.775\": {\"frequency\": 50, \"value\": 1.775}, \"1.794392523364486\": {\"frequency\": 16, \"value\": 1.794392523364486}, \"1.2151898734177216\": {\"frequency\": 1, \"value\": 1.2151898734177216}, \"1.8775510204081634\": {\"frequency\": 11, \"value\": 1.8775510204081634}, \"1.1851851851851851\": {\"frequency\": 14, \"value\": 1.1851851851851851}, \"0.2777777777777777\": {\"frequency\": 1, \"value\": 0.2777777777777777}, \"1.1384615384615384\": {\"frequency\": 7, \"value\": 1.1384615384615384}, \"0.2727272727272727\": {\"frequency\": 2, \"value\": 0.2727272727272727}, \"1.7045454545454546\": {\"frequency\": 26, \"value\": 1.7045454545454546}, \"1.788888888888889\": {\"frequency\": 1, \"value\": 1.788888888888889}, \"1.5308641975308643\": {\"frequency\": 8, \"value\": 1.5308641975308643}, \"1.4623655913978495\": {\"frequency\": 4, \"value\": 1.4623655913978495}, \"0.7647058823529411\": {\"frequency\": 2, \"value\": 0.7647058823529411}, \"0.9056603773584906\": {\"frequency\": 1, \"value\": 0.9056603773584906}, \"1.08\": {\"frequency\": 2, \"value\": 1.08}, \"1.8016528925619835\": {\"frequency\": 4, \"value\": 1.8016528925619835}, \"1.843137254901961\": {\"frequency\": 39, \"value\": 1.843137254901961}, \"0.07017543859649122\": {\"frequency\": 1, \"value\": 0.07017543859649122}, \"1.1232876712328768\": {\"frequency\": 1, \"value\": 1.1232876712328768}, \"1.6610169491525424\": {\"frequency\": 28, \"value\": 1.6610169491525424}, \"1.6808510638297873\": {\"frequency\": 12, \"value\": 1.6808510638297873}, \"1.5121951219512195\": {\"frequency\": 20, \"value\": 1.5121951219512195}, \"1.7285714285714286\": {\"frequency\": 6, \"value\": 1.7285714285714286}, \"1.7525773195876289\": {\"frequency\": 19, \"value\": 1.7525773195876289}, \"0.76\": {\"frequency\": 3, \"value\": 0.76}, \"1.880952380952381\": {\"frequency\": 5, \"value\": 1.880952380952381}, \"0.8490566037735849\": {\"frequency\": 1, \"value\": 0.8490566037735849}, \"1.7202797202797202\": {\"frequency\": 1, \"value\": 1.7202797202797202}, \"1.7254901960784315\": {\"frequency\": 52, \"value\": 1.7254901960784315}, \"1.6338028169014085\": {\"frequency\": 15, \"value\": 1.6338028169014085}, \"1.7833333333333332\": {\"frequency\": 3, \"value\": 1.7833333333333332}, \"1.7592592592592593\": {\"frequency\": 13, \"value\": 1.7592592592592593}, \"0.27586206896551735\": {\"frequency\": 1, \"value\": 0.27586206896551735}, \"1.7701149425287357\": {\"frequency\": 41, \"value\": 1.7701149425287357}, \"1.7580645161290323\": {\"frequency\": 3, \"value\": 1.7580645161290323}, \"1.7304964539007093\": {\"frequency\": 2, \"value\": 1.7304964539007093}, \"0.6206896551724137\": {\"frequency\": 1, \"value\": 0.6206896551724137}, \"1.8203592814371257\": {\"frequency\": 1, \"value\": 1.8203592814371257}, \"1.6390977443609023\": {\"frequency\": 1, \"value\": 1.6390977443609023}, \"1.844155844155844\": {\"frequency\": 23, \"value\": 1.844155844155844}, \"1.4059405940594059\": {\"frequency\": 1, \"value\": 1.4059405940594059}, \"1.1076923076923078\": {\"frequency\": 1, \"value\": 1.1076923076923078}, \"0.38095238095238093\": {\"frequency\": 1, \"value\": 0.38095238095238093}, \"0.0714285714285714\": {\"frequency\": 1, \"value\": 0.0714285714285714}, \"1.03125\": {\"frequency\": 3, \"value\": 1.03125}, \"1.6101694915254237\": {\"frequency\": 2, \"value\": 1.6101694915254237}, \"1.278688524590164\": {\"frequency\": 9, \"value\": 1.278688524590164}, \"0.8620689655172413\": {\"frequency\": 5, \"value\": 0.8620689655172413}, \"0.9565217391304348\": {\"frequency\": 8, \"value\": 0.9565217391304348}, \"1.6166666666666667\": {\"frequency\": 6, \"value\": 1.6166666666666667}, \"1.8076923076923077\": {\"frequency\": 52, \"value\": 1.8076923076923077}, \"0.4126984126984128\": {\"frequency\": 1, \"value\": 0.4126984126984128}, \"1.4343434343434343\": {\"frequency\": 3, \"value\": 1.4343434343434343}, \"1.3958333333333335\": {\"frequency\": 1, \"value\": 1.3958333333333335}, \"0.41025641025641035\": {\"frequency\": 1, \"value\": 0.41025641025641035}, \"1.6181818181818182\": {\"frequency\": 11, \"value\": 1.6181818181818182}, \"0.875\": {\"frequency\": 4, \"value\": 0.875}, \"0.9777777777777779\": {\"frequency\": 2, \"value\": 0.9777777777777779}, \"1.6125\": {\"frequency\": 2, \"value\": 1.6125}, \"1.744186046511628\": {\"frequency\": 30, \"value\": 1.744186046511628}, \"0.5964912280701755\": {\"frequency\": 2, \"value\": 0.5964912280701755}, \"1.839080459770115\": {\"frequency\": 32, \"value\": 1.839080459770115}, \"1.1\": {\"frequency\": 6, \"value\": 1.1}, \"1.6344086021505375\": {\"frequency\": 11, \"value\": 1.6344086021505375}, \"1.0606060606060606\": {\"frequency\": 7, \"value\": 1.0606060606060606}, \"1.8225806451612903\": {\"frequency\": 5, \"value\": 1.8225806451612903}, \"1.7469879518072289\": {\"frequency\": 3, \"value\": 1.7469879518072289}, \"1.7664233576642336\": {\"frequency\": 4, \"value\": 1.7664233576642336}, \"1.8611111111111112\": {\"frequency\": 15, \"value\": 1.8611111111111112}, \"1.2173913043478262\": {\"frequency\": 6, \"value\": 1.2173913043478262}, \"1.5476190476190477\": {\"frequency\": 6, \"value\": 1.5476190476190477}, \"1.5178571428571428\": {\"frequency\": 1, \"value\": 1.5178571428571428}, \"0.3265306122448979\": {\"frequency\": 2, \"value\": 0.3265306122448979}, \"1.5510204081632653\": {\"frequency\": 12, \"value\": 1.5510204081632653}, \"1.7894736842105263\": {\"frequency\": 125, \"value\": 1.7894736842105263}, \"0.7796610169491525\": {\"frequency\": 3, \"value\": 0.7796610169491525}, \"1.514018691588785\": {\"frequency\": 1, \"value\": 1.514018691588785}, \"1.6229508196721312\": {\"frequency\": 2, \"value\": 1.6229508196721312}, \"0.5405405405405406\": {\"frequency\": 1, \"value\": 0.5405405405405406}, \"1.4947368421052631\": {\"frequency\": 2, \"value\": 1.4947368421052631}, \"1.3493975903614457\": {\"frequency\": 1, \"value\": 1.3493975903614457}, \"1.386138613861386\": {\"frequency\": 3, \"value\": 1.386138613861386}, \"1.880794701986755\": {\"frequency\": 1, \"value\": 1.880794701986755}, \"1.575221238938053\": {\"frequency\": 4, \"value\": 1.575221238938053}, \"1.5779816513761467\": {\"frequency\": 1, \"value\": 1.5779816513761467}, \"1.7976190476190477\": {\"frequency\": 1, \"value\": 1.7976190476190477}, \"1.792\": {\"frequency\": 3, \"value\": 1.792}, \"1.7826086956521738\": {\"frequency\": 62, \"value\": 1.7826086956521738}, \"0.8484848484848484\": {\"frequency\": 3, \"value\": 0.8484848484848484}, \"0.8837209302325582\": {\"frequency\": 4, \"value\": 0.8837209302325582}, \"1.825\": {\"frequency\": 21, \"value\": 1.825}, \"1.373134328358209\": {\"frequency\": 4, \"value\": 1.373134328358209}, \"1.425925925925926\": {\"frequency\": 1, \"value\": 1.425925925925926}, \"1.617391304347826\": {\"frequency\": 4, \"value\": 1.617391304347826}, \"0.853658536585366\": {\"frequency\": 1, \"value\": 0.853658536585366}, \"0.5217391304347827\": {\"frequency\": 2, \"value\": 0.5217391304347827}, \"1.1044776119402986\": {\"frequency\": 1, \"value\": 1.1044776119402986}, \"1.8695652173913044\": {\"frequency\": 27, \"value\": 1.8695652173913044}, \"1.7468354430379747\": {\"frequency\": 39, \"value\": 1.7468354430379747}, \"0.7524752475247525\": {\"frequency\": 1, \"value\": 0.7524752475247525}, \"1.5952380952380953\": {\"frequency\": 16, \"value\": 1.5952380952380953}, \"1.7699115044247788\": {\"frequency\": 11, \"value\": 1.7699115044247788}, \"1.7121212121212122\": {\"frequency\": 2, \"value\": 1.7121212121212122}, \"1.759656652360515\": {\"frequency\": 1, \"value\": 1.759656652360515}, \"1.4693877551020407\": {\"frequency\": 12, \"value\": 1.4693877551020407}, \"1.669064748201439\": {\"frequency\": 2, \"value\": 1.669064748201439}, \"1.4803149606299213\": {\"frequency\": 1, \"value\": 1.4803149606299213}, \"1.8588235294117648\": {\"frequency\": 18, \"value\": 1.8588235294117648}, \"1.1363636363636362\": {\"frequency\": 4, \"value\": 1.1363636363636362}, \"1.8974358974358974\": {\"frequency\": 9, \"value\": 1.8974358974358974}, \"1.6901408450704225\": {\"frequency\": 47, \"value\": 1.6901408450704225}, \"0.9213483146067416\": {\"frequency\": 1, \"value\": 0.9213483146067416}, \"0.7755102040816326\": {\"frequency\": 3, \"value\": 0.7755102040816326}, \"1.7583892617449663\": {\"frequency\": 3, \"value\": 1.7583892617449663}, \"1.8405797101449275\": {\"frequency\": 2, \"value\": 1.8405797101449275}, \"1.6730769230769231\": {\"frequency\": 13, \"value\": 1.6730769230769231}, \"1.7818181818181817\": {\"frequency\": 48, \"value\": 1.7818181818181817}, \"1.6161616161616161\": {\"frequency\": 13, \"value\": 1.6161616161616161}, \"1.654320987654321\": {\"frequency\": 28, \"value\": 1.654320987654321}, \"1.7886178861788617\": {\"frequency\": 9, \"value\": 1.7886178861788617}, \"1.1940298507462686\": {\"frequency\": 1, \"value\": 1.1940298507462686}, \"1.4666666666666668\": {\"frequency\": 55, \"value\": 1.4666666666666668}, \"1.8166666666666667\": {\"frequency\": 3, \"value\": 1.8166666666666667}, \"1.234567901234568\": {\"frequency\": 4, \"value\": 1.234567901234568}, \"1.3863636363636362\": {\"frequency\": 4, \"value\": 1.3863636363636362}, \"1.3663366336633662\": {\"frequency\": 3, \"value\": 1.3663366336633662}, \"1.8627450980392157\": {\"frequency\": 5, \"value\": 1.8627450980392157}, \"1.6694214876033058\": {\"frequency\": 10, \"value\": 1.6694214876033058}, \"1.859375\": {\"frequency\": 3, \"value\": 1.859375}, \"1.6893203883495147\": {\"frequency\": 20, \"value\": 1.6893203883495147}, \"0.631578947368421\": {\"frequency\": 1, \"value\": 0.631578947368421}, \"1.3636363636363638\": {\"frequency\": 19, \"value\": 1.3636363636363638}, \"0.9885057471264367\": {\"frequency\": 1, \"value\": 0.9885057471264367}, \"1.456140350877193\": {\"frequency\": 3, \"value\": 1.456140350877193}, \"1.7426900584795322\": {\"frequency\": 1, \"value\": 1.7426900584795322}, \"1.5681818181818181\": {\"frequency\": 8, \"value\": 1.5681818181818181}, \"1.7464788732394365\": {\"frequency\": 51, \"value\": 1.7464788732394365}, \"1.589041095890411\": {\"frequency\": 14, \"value\": 1.589041095890411}, \"1.8356164383561644\": {\"frequency\": 23, \"value\": 1.8356164383561644}, \"0.8301886792452831\": {\"frequency\": 4, \"value\": 0.8301886792452831}, \"1.935483870967742\": {\"frequency\": 1, \"value\": 1.935483870967742}, \"1.119047619047619\": {\"frequency\": 1, \"value\": 1.119047619047619}, \"0.8571428571428572\": {\"frequency\": 19, \"value\": 0.8571428571428572}, \"1.7165354330708662\": {\"frequency\": 3, \"value\": 1.7165354330708662}, \"1.6455696202531644\": {\"frequency\": 22, \"value\": 1.6455696202531644}, \"1.4492753623188406\": {\"frequency\": 5, \"value\": 1.4492753623188406}, \"1.382716049382716\": {\"frequency\": 2, \"value\": 1.382716049382716}, \"0.32432432432432434\": {\"frequency\": 1, \"value\": 0.32432432432432434}, \"0.9333333333333333\": {\"frequency\": 13, \"value\": 0.9333333333333333}, \"1.5353535353535355\": {\"frequency\": 4, \"value\": 1.5353535353535355}, \"1.0847457627118644\": {\"frequency\": 3, \"value\": 1.0847457627118644}, \"1.1463414634146343\": {\"frequency\": 1, \"value\": 1.1463414634146343}, \"1.673758865248227\": {\"frequency\": 1, \"value\": 1.673758865248227}, \"1.88\": {\"frequency\": 11, \"value\": 1.88}, \"1.705521472392638\": {\"frequency\": 3, \"value\": 1.705521472392638}, \"1.1714285714285713\": {\"frequency\": 2, \"value\": 1.1714285714285713}, \"0.5185185185185186\": {\"frequency\": 1, \"value\": 0.5185185185185186}, \"1.6642335766423357\": {\"frequency\": 1, \"value\": 1.6642335766423357}, \"0.20408163265306123\": {\"frequency\": 2, \"value\": 0.20408163265306123}, \"1.5294117647058822\": {\"frequency\": 50, \"value\": 1.5294117647058822}, \"0.8979591836734695\": {\"frequency\": 4, \"value\": 0.8979591836734695}, \"1.595505617977528\": {\"frequency\": 8, \"value\": 1.595505617977528}, \"1.352112676056338\": {\"frequency\": 2, \"value\": 1.352112676056338}, \"1.4845360824742269\": {\"frequency\": 3, \"value\": 1.4845360824742269}, \"1.564102564102564\": {\"frequency\": 21, \"value\": 1.564102564102564}, \"1.7475728155339807\": {\"frequency\": 21, \"value\": 1.7475728155339807}, \"0.8857142857142857\": {\"frequency\": 2, \"value\": 0.8857142857142857}, \"1.4794520547945207\": {\"frequency\": 7, \"value\": 1.4794520547945207}, \"1.4615384615384617\": {\"frequency\": 16, \"value\": 1.4615384615384617}, \"0.7307692307692308\": {\"frequency\": 1, \"value\": 0.7307692307692308}, \"1.4878048780487805\": {\"frequency\": 4, \"value\": 1.4878048780487805}, \"1.7078651685393258\": {\"frequency\": 31, \"value\": 1.7078651685393258}, \"1.1555555555555554\": {\"frequency\": 5, \"value\": 1.1555555555555554}, \"1.4893617021276597\": {\"frequency\": 15, \"value\": 1.4893617021276597}, \"1.6462585034013606\": {\"frequency\": 1, \"value\": 1.6462585034013606}, \"1.782426778242678\": {\"frequency\": 1, \"value\": 1.782426778242678}, \"0.3666666666666667\": {\"frequency\": 1, \"value\": 0.3666666666666667}, \"1.5135135135135136\": {\"frequency\": 33, \"value\": 1.5135135135135136}, \"1.837037037037037\": {\"frequency\": 1, \"value\": 1.837037037037037}, \"1.2615384615384615\": {\"frequency\": 2, \"value\": 1.2615384615384615}, \"1.8202247191011236\": {\"frequency\": 13, \"value\": 1.8202247191011236}, \"1.3506493506493507\": {\"frequency\": 1, \"value\": 1.3506493506493507}, \"1.1724137931034484\": {\"frequency\": 9, \"value\": 1.1724137931034484}, \"1.4725274725274726\": {\"frequency\": 4, \"value\": 1.4725274725274726}, \"1.6964285714285714\": {\"frequency\": 3, \"value\": 1.6964285714285714}, \"1.7777777777777777\": {\"frequency\": 340, \"value\": 1.7777777777777777}, \"1.6598639455782314\": {\"frequency\": 1, \"value\": 1.6598639455782314}, \"0.24489795918367352\": {\"frequency\": 1, \"value\": 0.24489795918367352}, \"0.3018867924528301\": {\"frequency\": 1, \"value\": 0.3018867924528301}, \"1.2923076923076922\": {\"frequency\": 4, \"value\": 1.2923076923076922}, \"1.746031746031746\": {\"frequency\": 66, \"value\": 1.746031746031746}, \"1.9074074074074074\": {\"frequency\": 1, \"value\": 1.9074074074074074}, \"1.3258426966292136\": {\"frequency\": 5, \"value\": 1.3258426966292136}, \"1.9148936170212767\": {\"frequency\": 4, \"value\": 1.9148936170212767}, \"1.4457831325301205\": {\"frequency\": 2, \"value\": 1.4457831325301205}, \"1.5925925925925926\": {\"frequency\": 26, \"value\": 1.5925925925925926}, \"1.7222222222222223\": {\"frequency\": 88, \"value\": 1.7222222222222223}, \"1.8058252427184467\": {\"frequency\": 15, \"value\": 1.8058252427184467}, \"1.2131147540983607\": {\"frequency\": 4, \"value\": 1.2131147540983607}, \"0.8367346938775511\": {\"frequency\": 1, \"value\": 0.8367346938775511}, \"1.4642857142857144\": {\"frequency\": 14, \"value\": 1.4642857142857144}, \"1.84375\": {\"frequency\": 34, \"value\": 1.84375}, \"0.9767441860465116\": {\"frequency\": 2, \"value\": 0.9767441860465116}, \"1.1139240506329116\": {\"frequency\": 3, \"value\": 1.1139240506329116}, \"1.0303030303030303\": {\"frequency\": 6, \"value\": 1.0303030303030303}, \"1.5849056603773586\": {\"frequency\": 20, \"value\": 1.5849056603773586}, \"1.7514124293785311\": {\"frequency\": 2, \"value\": 1.7514124293785311}, \"1.8795180722891567\": {\"frequency\": 11, \"value\": 1.8795180722891567}, \"1.744\": {\"frequency\": 2, \"value\": 1.744}, \"1.8113207547169812\": {\"frequency\": 42, \"value\": 1.8113207547169812}, \"1.691275167785235\": {\"frequency\": 2, \"value\": 1.691275167785235}, \"1.2413793103448276\": {\"frequency\": 12, \"value\": 1.2413793103448276}, \"0.3157894736842106\": {\"frequency\": 2, \"value\": 0.3157894736842106}, \"1.053763440860215\": {\"frequency\": 1, \"value\": 1.053763440860215}, \"1.7985611510791366\": {\"frequency\": 1, \"value\": 1.7985611510791366}, \"1.8837209302325582\": {\"frequency\": 3, \"value\": 1.8837209302325582}, \"0.7719298245614035\": {\"frequency\": 1, \"value\": 0.7719298245614035}, \"1.40625\": {\"frequency\": 9, \"value\": 1.40625}, \"1.4935064935064934\": {\"frequency\": 1, \"value\": 1.4935064935064934}, \"1.7945205479452055\": {\"frequency\": 2, \"value\": 1.7945205479452055}, \"1.6916299559471366\": {\"frequency\": 1, \"value\": 1.6916299559471366}, \"1.6635514018691588\": {\"frequency\": 13, \"value\": 1.6635514018691588}, \"1.4807692307692308\": {\"frequency\": 3, \"value\": 1.4807692307692308}, \"1.53125\": {\"frequency\": 18, \"value\": 1.53125}, \"1.70873786407767\": {\"frequency\": 24, \"value\": 1.70873786407767}, \"0.9090909090909092\": {\"frequency\": 12, \"value\": 0.9090909090909092}, \"1.4318181818181817\": {\"frequency\": 2, \"value\": 1.4318181818181817}, \"1.6603773584905661\": {\"frequency\": 49, \"value\": 1.6603773584905661}, \"1.5042735042735043\": {\"frequency\": 1, \"value\": 1.5042735042735043}, \"1.6491228070175439\": {\"frequency\": 43, \"value\": 1.6491228070175439}, \"1.7218543046357615\": {\"frequency\": 1, \"value\": 1.7218543046357615}, \"1.7006802721088436\": {\"frequency\": 2, \"value\": 1.7006802721088436}, \"1.2439024390243902\": {\"frequency\": 5, \"value\": 1.2439024390243902}, \"1.8640776699029127\": {\"frequency\": 8, \"value\": 1.8640776699029127}, \"1.7962962962962963\": {\"frequency\": 12, \"value\": 1.7962962962962963}, \"0.4444444444444444\": {\"frequency\": 4, \"value\": 0.4444444444444444}, \"0.9411764705882353\": {\"frequency\": 10, \"value\": 0.9411764705882353}, \"1.1219512195121952\": {\"frequency\": 9, \"value\": 1.1219512195121952}, \"1.6701030927835052\": {\"frequency\": 18, \"value\": 1.6701030927835052}, \"1.537190082644628\": {\"frequency\": 2, \"value\": 1.537190082644628}, \"1.5869565217391304\": {\"frequency\": 15, \"value\": 1.5869565217391304}, \"0.6428571428571428\": {\"frequency\": 6, \"value\": 0.6428571428571428}, \"0.6551724137931034\": {\"frequency\": 1, \"value\": 0.6551724137931034}, \"1.2142857142857144\": {\"frequency\": 15, \"value\": 1.2142857142857144}, \"1.1914893617021276\": {\"frequency\": 8, \"value\": 1.1914893617021276}, \"1.745664739884393\": {\"frequency\": 1, \"value\": 1.745664739884393}, \"1.4025974025974026\": {\"frequency\": 2, \"value\": 1.4025974025974026}, \"1.5257731958762886\": {\"frequency\": 1, \"value\": 1.5257731958762886}, \"1.884297520661157\": {\"frequency\": 1, \"value\": 1.884297520661157}, \"1.5593220338983051\": {\"frequency\": 10, \"value\": 1.5593220338983051}, \"0.4186046511627908\": {\"frequency\": 2, \"value\": 0.4186046511627908}, \"1.044776119402985\": {\"frequency\": 1, \"value\": 1.044776119402985}, \"1.8608695652173912\": {\"frequency\": 2, \"value\": 1.8608695652173912}, \"1.9104477611940298\": {\"frequency\": 4, \"value\": 1.9104477611940298}, \"1.7064220183486238\": {\"frequency\": 9, \"value\": 1.7064220183486238}, \"0.7352941176470589\": {\"frequency\": 1, \"value\": 0.7352941176470589}, \"1.7761194029850746\": {\"frequency\": 2, \"value\": 1.7761194029850746}, \"1.6833333333333333\": {\"frequency\": 4, \"value\": 1.6833333333333333}, \"1.6417910447761195\": {\"frequency\": 29, \"value\": 1.6417910447761195}, \"1.3877551020408163\": {\"frequency\": 12, \"value\": 1.3877551020408163}, \"1.891304347826087\": {\"frequency\": 3, \"value\": 1.891304347826087}, \"1.696969696969697\": {\"frequency\": 86, \"value\": 1.696969696969697}, \"1.7160493827160495\": {\"frequency\": 3, \"value\": 1.7160493827160495}, \"1.3666666666666667\": {\"frequency\": 10, \"value\": 1.3666666666666667}, \"0.30000000000000004\": {\"frequency\": 3, \"value\": 0.30000000000000004}, \"1.7988826815642458\": {\"frequency\": 1, \"value\": 1.7988826815642458}, \"1.323076923076923\": {\"frequency\": 8, \"value\": 1.323076923076923}, \"1.3523809523809525\": {\"frequency\": 1, \"value\": 1.3523809523809525}, \"1.3243243243243243\": {\"frequency\": 5, \"value\": 1.3243243243243243}, \"0.972972972972973\": {\"frequency\": 5, \"value\": 0.972972972972973}, \"1.9080459770114944\": {\"frequency\": 5, \"value\": 1.9080459770114944}, \"0.7636363636363637\": {\"frequency\": 2, \"value\": 0.7636363636363637}, \"1.7204301075268817\": {\"frequency\": 33, \"value\": 1.7204301075268817}, \"1.550387596899225\": {\"frequency\": 1, \"value\": 1.550387596899225}, \"1.509433962264151\": {\"frequency\": 11, \"value\": 1.509433962264151}, \"1.2266666666666666\": {\"frequency\": 1, \"value\": 1.2266666666666666}, \"1.657142857142857\": {\"frequency\": 50, \"value\": 1.657142857142857}, \"1.6974789915966386\": {\"frequency\": 12, \"value\": 1.6974789915966386}, \"1.7317073170731707\": {\"frequency\": 42, \"value\": 1.7317073170731707}, \"0.9047619047619047\": {\"frequency\": 5, \"value\": 0.9047619047619047}, \"1.8681318681318682\": {\"frequency\": 9, \"value\": 1.8681318681318682}, \"1.7205882352941178\": {\"frequency\": 7, \"value\": 1.7205882352941178}, \"1.3823529411764706\": {\"frequency\": 11, \"value\": 1.3823529411764706}, \"1.2771084337349397\": {\"frequency\": 2, \"value\": 1.2771084337349397}, \"1.8032786885245902\": {\"frequency\": 27, \"value\": 1.8032786885245902}, \"1.8108108108108107\": {\"frequency\": 37, \"value\": 1.8108108108108107}, \"1.4047619047619047\": {\"frequency\": 2, \"value\": 1.4047619047619047}, \"0.9870129870129871\": {\"frequency\": 2, \"value\": 0.9870129870129871}, \"0.9166666666666667\": {\"frequency\": 8, \"value\": 0.9166666666666667}, \"1.2658227848101267\": {\"frequency\": 2, \"value\": 1.2658227848101267}, \"1.0454545454545454\": {\"frequency\": 8, \"value\": 1.0454545454545454}, \"0.3181818181818181\": {\"frequency\": 1, \"value\": 0.3181818181818181}, \"1.6944444444444444\": {\"frequency\": 45, \"value\": 1.6944444444444444}, \"0.15999999999999992\": {\"frequency\": 1, \"value\": 0.15999999999999992}, \"1.5490196078431373\": {\"frequency\": 4, \"value\": 1.5490196078431373}, \"1.4263565891472867\": {\"frequency\": 2, \"value\": 1.4263565891472867}, \"1.8061674008810573\": {\"frequency\": 1, \"value\": 1.8061674008810573}, \"1.2164948453608249\": {\"frequency\": 1, \"value\": 1.2164948453608249}, \"1.7108433734939759\": {\"frequency\": 40, \"value\": 1.7108433734939759}, \"1.7263157894736842\": {\"frequency\": 29, \"value\": 1.7263157894736842}, \"1.8064516129032258\": {\"frequency\": 74, \"value\": 1.8064516129032258}, \"1.625\": {\"frequency\": 127, \"value\": 1.625}, \"1.2584269662921348\": {\"frequency\": 1, \"value\": 1.2584269662921348}, \"1.8581560283687943\": {\"frequency\": 1, \"value\": 1.8581560283687943}, \"1.0793650793650795\": {\"frequency\": 4, \"value\": 1.0793650793650795}, \"1.2753623188405796\": {\"frequency\": 3, \"value\": 1.2753623188405796}, \"1.7117117117117118\": {\"frequency\": 20, \"value\": 1.7117117117117118}, \"1.431578947368421\": {\"frequency\": 2, \"value\": 1.431578947368421}, \"1.78125\": {\"frequency\": 29, \"value\": 1.78125}, \"0.7777777777777777\": {\"frequency\": 3, \"value\": 0.7777777777777777}, \"1.4153846153846152\": {\"frequency\": 10, \"value\": 1.4153846153846152}, \"1.779527559055118\": {\"frequency\": 5, \"value\": 1.779527559055118}, \"1.3623188405797102\": {\"frequency\": 8, \"value\": 1.3623188405797102}, \"1.3414634146341462\": {\"frequency\": 4, \"value\": 1.3414634146341462}, \"1.3707865168539326\": {\"frequency\": 2, \"value\": 1.3707865168539326}, \"1.78\": {\"frequency\": 26, \"value\": 1.78}, \"1.5529411764705883\": {\"frequency\": 15, \"value\": 1.5529411764705883}, \"1.6263736263736264\": {\"frequency\": 14, \"value\": 1.6263736263736264}, \"1.6271186440677967\": {\"frequency\": 13, \"value\": 1.6271186440677967}, \"1.8248175182481752\": {\"frequency\": 2, \"value\": 1.8248175182481752}, \"1.8156028368794326\": {\"frequency\": 1, \"value\": 1.8156028368794326}, \"1.6885245901639343\": {\"frequency\": 5, \"value\": 1.6885245901639343}, \"1.3793103448275863\": {\"frequency\": 14, \"value\": 1.3793103448275863}, \"1.6136363636363638\": {\"frequency\": 14, \"value\": 1.6136363636363638}, \"1.8421052631578947\": {\"frequency\": 58, \"value\": 1.8421052631578947}, \"1.4831460674157304\": {\"frequency\": 3, \"value\": 1.4831460674157304}, \"0.5423728813559323\": {\"frequency\": 1, \"value\": 0.5423728813559323}, \"0.13793103448275867\": {\"frequency\": 1, \"value\": 0.13793103448275867}, \"1.6923076923076923\": {\"frequency\": 237, \"value\": 1.6923076923076923}, \"0.6181818181818182\": {\"frequency\": 1, \"value\": 0.6181818181818182}, \"1.6714285714285715\": {\"frequency\": 5, \"value\": 1.6714285714285715}, \"1.3870967741935485\": {\"frequency\": 5, \"value\": 1.3870967741935485}, \"1.6402877697841727\": {\"frequency\": 1, \"value\": 1.6402877697841727}, \"0.8333333333333333\": {\"frequency\": 10, \"value\": 0.8333333333333333}, \"1.2336448598130842\": {\"frequency\": 1, \"value\": 1.2336448598130842}, \"1.8933333333333333\": {\"frequency\": 5, \"value\": 1.8933333333333333}, \"1.3235294117647058\": {\"frequency\": 5, \"value\": 1.3235294117647058}, \"1.696\": {\"frequency\": 5, \"value\": 1.696}, \"1.3983739837398375\": {\"frequency\": 1, \"value\": 1.3983739837398375}, \"1.5443037974683544\": {\"frequency\": 12, \"value\": 1.5443037974683544}, \"1.726027397260274\": {\"frequency\": 49, \"value\": 1.726027397260274}, \"1.2647058823529411\": {\"frequency\": 3, \"value\": 1.2647058823529411}, \"0.9285714285714286\": {\"frequency\": 4, \"value\": 0.9285714285714286}, \"1.4339622641509435\": {\"frequency\": 9, \"value\": 1.4339622641509435}, \"1.1627906976744184\": {\"frequency\": 9, \"value\": 1.1627906976744184}, \"1.8425196850393701\": {\"frequency\": 3, \"value\": 1.8425196850393701}, \"0.853932584269663\": {\"frequency\": 1, \"value\": 0.853932584269663}, \"1.9019607843137254\": {\"frequency\": 1, \"value\": 1.9019607843137254}, \"1.6607142857142856\": {\"frequency\": 7, \"value\": 1.6607142857142856}, \"0.7422680412371134\": {\"frequency\": 1, \"value\": 0.7422680412371134}, \"1.1111111111111112\": {\"frequency\": 21, \"value\": 1.1111111111111112}, \"1.0120481927710845\": {\"frequency\": 1, \"value\": 1.0120481927710845}, \"0.3076923076923077\": {\"frequency\": 5, \"value\": 0.3076923076923077}, \"0.9545454545454546\": {\"frequency\": 2, \"value\": 0.9545454545454546}, \"0.5454545454545454\": {\"frequency\": 3, \"value\": 0.5454545454545454}, \"1.791907514450867\": {\"frequency\": 1, \"value\": 1.791907514450867}, \"0.5945945945945945\": {\"frequency\": 1, \"value\": 0.5945945945945945}, \"1.8846153846153846\": {\"frequency\": 9, \"value\": 1.8846153846153846}, \"1.7532467532467533\": {\"frequency\": 2, \"value\": 1.7532467532467533}, \"0.9750000000000001\": {\"frequency\": 1, \"value\": 0.9750000000000001}, \"1.7307692307692308\": {\"frequency\": 49, \"value\": 1.7307692307692308}, \"0.6842105263157894\": {\"frequency\": 2, \"value\": 0.6842105263157894}, \"1.7183098591549295\": {\"frequency\": 44, \"value\": 1.7183098591549295}, \"1.4796747967479673\": {\"frequency\": 2, \"value\": 1.4796747967479673}, \"1.2075471698113207\": {\"frequency\": 1, \"value\": 1.2075471698113207}, \"1.811764705882353\": {\"frequency\": 17, \"value\": 1.811764705882353}, \"1.8130841121495327\": {\"frequency\": 4, \"value\": 1.8130841121495327}, \"1.3783783783783785\": {\"frequency\": 7, \"value\": 1.3783783783783785}, \"1.0232558139534884\": {\"frequency\": 4, \"value\": 1.0232558139534884}, \"1.8630136986301369\": {\"frequency\": 12, \"value\": 1.8630136986301369}, \"1.9058823529411764\": {\"frequency\": 3, \"value\": 1.9058823529411764}, \"1.8350515463917525\": {\"frequency\": 12, \"value\": 1.8350515463917525}, \"1.763975155279503\": {\"frequency\": 1, \"value\": 1.763975155279503}, \"1.3571428571428572\": {\"frequency\": 19, \"value\": 1.3571428571428572}, \"1.8702702702702703\": {\"frequency\": 2, \"value\": 1.8702702702702703}, \"1.8395061728395061\": {\"frequency\": 2, \"value\": 1.8395061728395061}, \"1.2432432432432432\": {\"frequency\": 4, \"value\": 1.2432432432432432}, \"1.0612244897959182\": {\"frequency\": 4, \"value\": 1.0612244897959182}, \"1.5087719298245614\": {\"frequency\": 13, \"value\": 1.5087719298245614}, \"1.5365853658536586\": {\"frequency\": 14, \"value\": 1.5365853658536586}, \"1.1142857142857143\": {\"frequency\": 2, \"value\": 1.1142857142857143}, \"1.475862068965517\": {\"frequency\": 1, \"value\": 1.475862068965517}, \"1.2577319587628866\": {\"frequency\": 1, \"value\": 1.2577319587628866}, \"0.3870967741935485\": {\"frequency\": 1, \"value\": 0.3870967741935485}, \"1.323943661971831\": {\"frequency\": 1, \"value\": 1.323943661971831}, \"1.3237410071942446\": {\"frequency\": 1, \"value\": 1.3237410071942446}, \"1.6423841059602649\": {\"frequency\": 1, \"value\": 1.6423841059602649}, \"1.56\": {\"frequency\": 23, \"value\": 1.56}, \"1.8478260869565217\": {\"frequency\": 12, \"value\": 1.8478260869565217}, \"1.3392857142857144\": {\"frequency\": 3, \"value\": 1.3392857142857144}, \"1.7678571428571428\": {\"frequency\": 11, \"value\": 1.7678571428571428}, \"1.5733333333333333\": {\"frequency\": 14, \"value\": 1.5733333333333333}, \"1.223529411764706\": {\"frequency\": 2, \"value\": 1.223529411764706}, \"1.295238095238095\": {\"frequency\": 1, \"value\": 1.295238095238095}, \"1.353846153846154\": {\"frequency\": 6, \"value\": 1.353846153846154}, \"1.8294573643410852\": {\"frequency\": 1, \"value\": 1.8294573643410852}, \"1.1932773109243697\": {\"frequency\": 1, \"value\": 1.1932773109243697}, \"1.4130434782608696\": {\"frequency\": 2, \"value\": 1.4130434782608696}, \"1.5686274509803921\": {\"frequency\": 19, \"value\": 1.5686274509803921}, \"0.3999999999999999\": {\"frequency\": 9, \"value\": 0.3999999999999999}, \"1.7666666666666666\": {\"frequency\": 50, \"value\": 1.7666666666666666}, \"1.8\": {\"frequency\": 220, \"value\": 1.8}, \"1.358490566037736\": {\"frequency\": 12, \"value\": 1.358490566037736}, \"1.606060606060606\": {\"frequency\": 17, \"value\": 1.606060606060606}, \"1.2391304347826086\": {\"frequency\": 2, \"value\": 1.2391304347826086}, \"0.6122448979591837\": {\"frequency\": 1, \"value\": 0.6122448979591837}, \"0.7446808510638299\": {\"frequency\": 1, \"value\": 0.7446808510638299}, \"0.8253968253968254\": {\"frequency\": 3, \"value\": 0.8253968253968254}, \"1.5512820512820513\": {\"frequency\": 1, \"value\": 1.5512820512820513}, \"1.4067796610169492\": {\"frequency\": 1, \"value\": 1.4067796610169492}, \"1.643312101910828\": {\"frequency\": 1, \"value\": 1.643312101910828}, \"1.1228070175438596\": {\"frequency\": 2, \"value\": 1.1228070175438596}, \"1.562043795620438\": {\"frequency\": 1, \"value\": 1.562043795620438}, \"1.801418439716312\": {\"frequency\": 2, \"value\": 1.801418439716312}, \"1.7739130434782608\": {\"frequency\": 4, \"value\": 1.7739130434782608}, \"1.6451612903225805\": {\"frequency\": 28, \"value\": 1.6451612903225805}, \"1.3134328358208955\": {\"frequency\": 1, \"value\": 1.3134328358208955}, \"1.608695652173913\": {\"frequency\": 33, \"value\": 1.608695652173913}, \"0.653061224489796\": {\"frequency\": 2, \"value\": 0.653061224489796}, \"1.306930693069307\": {\"frequency\": 2, \"value\": 1.306930693069307}, \"1.8190954773869348\": {\"frequency\": 1, \"value\": 1.8190954773869348}, \"1.4434782608695653\": {\"frequency\": 1, \"value\": 1.4434782608695653}, \"1.7791411042944785\": {\"frequency\": 2, \"value\": 1.7791411042944785}, \"1.1320754716981132\": {\"frequency\": 4, \"value\": 1.1320754716981132}, \"1.6075949367088609\": {\"frequency\": 1, \"value\": 1.6075949367088609}, \"0.7567567567567568\": {\"frequency\": 5, \"value\": 0.7567567567567568}, \"1.6747967479674797\": {\"frequency\": 10, \"value\": 1.6747967479674797}, \"1.3097345132743363\": {\"frequency\": 1, \"value\": 1.3097345132743363}, \"0.7017543859649122\": {\"frequency\": 2, \"value\": 0.7017543859649122}, \"1.0222222222222221\": {\"frequency\": 1, \"value\": 1.0222222222222221}, \"1.6903225806451614\": {\"frequency\": 1, \"value\": 1.6903225806451614}, \"1.690909090909091\": {\"frequency\": 20, \"value\": 1.690909090909091}, \"1.7481481481481482\": {\"frequency\": 5, \"value\": 1.7481481481481482}, \"0.6938775510204083\": {\"frequency\": 1, \"value\": 0.6938775510204083}, \"1.727891156462585\": {\"frequency\": 1, \"value\": 1.727891156462585}, \"1.7553956834532374\": {\"frequency\": 7, \"value\": 1.7553956834532374}, \"0.8085106382978724\": {\"frequency\": 5, \"value\": 0.8085106382978724}, \"1.8433734939759037\": {\"frequency\": 1, \"value\": 1.8433734939759037}, \"1.7251908396946565\": {\"frequency\": 3, \"value\": 1.7251908396946565}, \"1.7225433526011562\": {\"frequency\": 1, \"value\": 1.7225433526011562}, \"1.4461538461538461\": {\"frequency\": 10, \"value\": 1.4461538461538461}, \"1.576470588235294\": {\"frequency\": 12, \"value\": 1.576470588235294}, \"0.6896551724137931\": {\"frequency\": 2, \"value\": 0.6896551724137931}, \"1.7258064516129032\": {\"frequency\": 6, \"value\": 1.7258064516129032}, \"1.7802197802197801\": {\"frequency\": 22, \"value\": 1.7802197802197801}, \"1.1875\": {\"frequency\": 12, \"value\": 1.1875}, \"1.3095238095238095\": {\"frequency\": 2, \"value\": 1.3095238095238095}, \"1.24\": {\"frequency\": 5, \"value\": 1.24}, \"1.6488549618320612\": {\"frequency\": 5, \"value\": 1.6488549618320612}, \"0.4390243902439024\": {\"frequency\": 2, \"value\": 0.4390243902439024}, \"1.3829787234042552\": {\"frequency\": 1, \"value\": 1.3829787234042552}, \"1.7352941176470589\": {\"frequency\": 46, \"value\": 1.7352941176470589}, \"1.5227272727272727\": {\"frequency\": 1, \"value\": 1.5227272727272727}, \"1.7185185185185186\": {\"frequency\": 7, \"value\": 1.7185185185185186}, \"1.4074074074074074\": {\"frequency\": 29, \"value\": 1.4074074074074074}, \"0.7222222222222223\": {\"frequency\": 2, \"value\": 0.7222222222222223}, \"1.8911564625850341\": {\"frequency\": 1, \"value\": 1.8911564625850341}, \"1.6283185840707963\": {\"frequency\": 11, \"value\": 1.6283185840707963}, \"0.9122807017543859\": {\"frequency\": 1, \"value\": 0.9122807017543859}, \"1.6724137931034484\": {\"frequency\": 13, \"value\": 1.6724137931034484}, \"1.2830188679245285\": {\"frequency\": 11, \"value\": 1.2830188679245285}, \"1.717948717948718\": {\"frequency\": 40, \"value\": 1.717948717948718}, \"1.6756756756756757\": {\"frequency\": 77, \"value\": 1.6756756756756757}, \"1.6198347107438016\": {\"frequency\": 9, \"value\": 1.6198347107438016}, \"1.383177570093458\": {\"frequency\": 2, \"value\": 1.383177570093458}, \"0.4516129032258065\": {\"frequency\": 2, \"value\": 0.4516129032258065}, \"1.7017543859649122\": {\"frequency\": 13, \"value\": 1.7017543859649122}, \"1.4680851063829787\": {\"frequency\": 1, \"value\": 1.4680851063829787}, \"1.4482758620689655\": {\"frequency\": 36, \"value\": 1.4482758620689655}, \"1.3118279569892473\": {\"frequency\": 1, \"value\": 1.3118279569892473}, \"1.457627118644068\": {\"frequency\": 10, \"value\": 1.457627118644068}, \"1.3975903614457832\": {\"frequency\": 2, \"value\": 1.3975903614457832}, \"1.823008849557522\": {\"frequency\": 3, \"value\": 1.823008849557522}, \"1.264957264957265\": {\"frequency\": 1, \"value\": 1.264957264957265}, \"1.79874213836478\": {\"frequency\": 1, \"value\": 1.79874213836478}, \"1.5070422535211268\": {\"frequency\": 1, \"value\": 1.5070422535211268}, \"1.5384615384615383\": {\"frequency\": 80, \"value\": 1.5384615384615383}, \"1.610062893081761\": {\"frequency\": 1, \"value\": 1.610062893081761}, \"1.4629629629629628\": {\"frequency\": 1, \"value\": 1.4629629629629628}, \"1.8545454545454545\": {\"frequency\": 29, \"value\": 1.8545454545454545}, \"1.6888888888888889\": {\"frequency\": 76, \"value\": 1.6888888888888889}, \"0.8823529411764706\": {\"frequency\": 6, \"value\": 0.8823529411764706}, \"1.0566037735849056\": {\"frequency\": 2, \"value\": 1.0566037735849056}, \"1.8936170212765957\": {\"frequency\": 1, \"value\": 1.8936170212765957}, \"1.7322834645669292\": {\"frequency\": 6, \"value\": 1.7322834645669292}, \"0.6857142857142857\": {\"frequency\": 1, \"value\": 0.6857142857142857}, \"1.012987012987013\": {\"frequency\": 1, \"value\": 1.012987012987013}, \"1.7520661157024793\": {\"frequency\": 11, \"value\": 1.7520661157024793}, \"1.21875\": {\"frequency\": 4, \"value\": 1.21875}, \"0.9583333333333333\": {\"frequency\": 3, \"value\": 0.9583333333333333}, \"1.7088607594936709\": {\"frequency\": 2, \"value\": 1.7088607594936709}, \"0.15094339622641506\": {\"frequency\": 1, \"value\": 0.15094339622641506}, \"1.7125748502994012\": {\"frequency\": 3, \"value\": 1.7125748502994012}, \"0.5625\": {\"frequency\": 5, \"value\": 0.5625}, \"0.9863013698630136\": {\"frequency\": 3, \"value\": 0.9863013698630136}, \"1.4\": {\"frequency\": 50, \"value\": 1.4}, \"1.89247311827957\": {\"frequency\": 1, \"value\": 1.89247311827957}, \"1.7622377622377623\": {\"frequency\": 2, \"value\": 1.7622377622377623}, \"0.7586206896551724\": {\"frequency\": 5, \"value\": 0.7586206896551724}, \"1.5670103092783505\": {\"frequency\": 7, \"value\": 1.5670103092783505}, \"1.4761904761904763\": {\"frequency\": 27, \"value\": 1.4761904761904763}, \"1.8958333333333333\": {\"frequency\": 1, \"value\": 1.8958333333333333}, \"1.3191489361702127\": {\"frequency\": 8, \"value\": 1.3191489361702127}, \"0.96\": {\"frequency\": 16, \"value\": 0.96}, \"1.7983193277310925\": {\"frequency\": 18, \"value\": 1.7983193277310925}, \"0.18518518518518512\": {\"frequency\": 1, \"value\": 0.18518518518518512}, \"1.22\": {\"frequency\": 3, \"value\": 1.22}, \"0.9666666666666666\": {\"frequency\": 1, \"value\": 0.9666666666666666}, \"1.6592592592592592\": {\"frequency\": 4, \"value\": 1.6592592592592592}, \"1.9012345679012346\": {\"frequency\": 7, \"value\": 1.9012345679012346}, \"0.48484848484848486\": {\"frequency\": 1, \"value\": 0.48484848484848486}, \"1.7345132743362832\": {\"frequency\": 19, \"value\": 1.7345132743362832}, \"1.2523364485981308\": {\"frequency\": 1, \"value\": 1.2523364485981308}, \"0.975609756097561\": {\"frequency\": 4, \"value\": 0.975609756097561}, \"1.6631578947368422\": {\"frequency\": 21, \"value\": 1.6631578947368422}, \"1.0930232558139537\": {\"frequency\": 1, \"value\": 1.0930232558139537}, \"0.5588235294117647\": {\"frequency\": 1, \"value\": 0.5588235294117647}, \"1.855072463768116\": {\"frequency\": 31, \"value\": 1.855072463768116}, \"1.6164383561643836\": {\"frequency\": 16, \"value\": 1.6164383561643836}, \"1.3559322033898304\": {\"frequency\": 14, \"value\": 1.3559322033898304}, \"0.7868852459016393\": {\"frequency\": 1, \"value\": 0.7868852459016393}, \"1.5076923076923077\": {\"frequency\": 10, \"value\": 1.5076923076923077}, \"1.868421052631579\": {\"frequency\": 14, \"value\": 1.868421052631579}, \"0.5833333333333333\": {\"frequency\": 1, \"value\": 0.5833333333333333}, \"1.4328358208955225\": {\"frequency\": 6, \"value\": 1.4328358208955225}, \"0.4946236559139785\": {\"frequency\": 2, \"value\": 0.4946236559139785}, \"0.6037735849056605\": {\"frequency\": 2, \"value\": 0.6037735849056605}, \"0.14814814814814814\": {\"frequency\": 1, \"value\": 0.14814814814814814}, \"1.4430379746835444\": {\"frequency\": 6, \"value\": 1.4430379746835444}, \"1.7916666666666667\": {\"frequency\": 48, \"value\": 1.7916666666666667}, \"1.6770186335403727\": {\"frequency\": 3, \"value\": 1.6770186335403727}, \"1.5416666666666667\": {\"frequency\": 15, \"value\": 1.5416666666666667}, \"0.962962962962963\": {\"frequency\": 3, \"value\": 0.962962962962963}, \"1.2916666666666665\": {\"frequency\": 15, \"value\": 1.2916666666666665}, \"1.7823834196891193\": {\"frequency\": 1, \"value\": 1.7823834196891193}, \"0.1875\": {\"frequency\": 2, \"value\": 0.1875}, \"1.705128205128205\": {\"frequency\": 1, \"value\": 1.705128205128205}, \"1.018181818181818\": {\"frequency\": 3, \"value\": 1.018181818181818}, \"1.6589147286821706\": {\"frequency\": 3, \"value\": 1.6589147286821706}, \"1.7679558011049723\": {\"frequency\": 1, \"value\": 1.7679558011049723}, \"1.7232704402515724\": {\"frequency\": 3, \"value\": 1.7232704402515724}, \"1.5602836879432624\": {\"frequency\": 1, \"value\": 1.5602836879432624}, \"1.6727272727272728\": {\"frequency\": 61, \"value\": 1.6727272727272728}, \"0.48\": {\"frequency\": 3, \"value\": 0.48}, \"1.2602739726027399\": {\"frequency\": 2, \"value\": 1.2602739726027399}, \"1.689922480620155\": {\"frequency\": 4, \"value\": 1.689922480620155}, \"1.2542372881355932\": {\"frequency\": 2, \"value\": 1.2542372881355932}, \"1.3157894736842106\": {\"frequency\": 11, \"value\": 1.3157894736842106}, \"1.8235294117647058\": {\"frequency\": 68, \"value\": 1.8235294117647058}, \"1.5903614457831325\": {\"frequency\": 18, \"value\": 1.5903614457831325}, \"1.8142857142857143\": {\"frequency\": 1, \"value\": 1.8142857142857143}, \"1.5421686746987953\": {\"frequency\": 11, \"value\": 1.5421686746987953}, \"1.064516129032258\": {\"frequency\": 3, \"value\": 1.064516129032258}, \"1.814569536423841\": {\"frequency\": 1, \"value\": 1.814569536423841}, \"0.5161290322580645\": {\"frequency\": 1, \"value\": 0.5161290322580645}, \"0.4137931034482758\": {\"frequency\": 3, \"value\": 0.4137931034482758}, \"1.7604790419161676\": {\"frequency\": 2, \"value\": 1.7604790419161676}, \"1.518796992481203\": {\"frequency\": 2, \"value\": 1.518796992481203}, \"1.3417721518987342\": {\"frequency\": 3, \"value\": 1.3417721518987342}, \"1.7922077922077921\": {\"frequency\": 28, \"value\": 1.7922077922077921}, \"1.2549019607843137\": {\"frequency\": 3, \"value\": 1.2549019607843137}, \"1.771689497716895\": {\"frequency\": 1, \"value\": 1.771689497716895}, \"0.34782608695652173\": {\"frequency\": 3, \"value\": 0.34782608695652173}, \"1.803680981595092\": {\"frequency\": 1, \"value\": 1.803680981595092}, \"1.476923076923077\": {\"frequency\": 13, \"value\": 1.476923076923077}, \"0.6511627906976745\": {\"frequency\": 3, \"value\": 0.6511627906976745}, \"0.7843137254901962\": {\"frequency\": 1, \"value\": 0.7843137254901962}, \"1.7247706422018347\": {\"frequency\": 11, \"value\": 1.7247706422018347}, \"1.7226277372262775\": {\"frequency\": 2, \"value\": 1.7226277372262775}, \"1.680672268907563\": {\"frequency\": 4, \"value\": 1.680672268907563}, \"1.3615023474178405\": {\"frequency\": 1, \"value\": 1.3615023474178405}, \"1.5963302752293578\": {\"frequency\": 5, \"value\": 1.5963302752293578}, \"0.47058823529411775\": {\"frequency\": 1, \"value\": 0.47058823529411775}, \"1.8507462686567164\": {\"frequency\": 25, \"value\": 1.8507462686567164}, \"1.7061611374407584\": {\"frequency\": 1, \"value\": 1.7061611374407584}, \"1.6869565217391305\": {\"frequency\": 13, \"value\": 1.6869565217391305}, \"0.8307692307692307\": {\"frequency\": 2, \"value\": 0.8307692307692307}, \"1.6822429906542056\": {\"frequency\": 21, \"value\": 1.6822429906542056}, \"1.6752136752136753\": {\"frequency\": 10, \"value\": 1.6752136752136753}, \"1.8269230769230769\": {\"frequency\": 10, \"value\": 1.8269230769230769}, \"1.5217391304347827\": {\"frequency\": 19, \"value\": 1.5217391304347827}, \"1.5357142857142856\": {\"frequency\": 21, \"value\": 1.5357142857142856}, \"1.582089552238806\": {\"frequency\": 23, \"value\": 1.582089552238806}, \"1.8226600985221675\": {\"frequency\": 1, \"value\": 1.8226600985221675}, \"1.356521739130435\": {\"frequency\": 1, \"value\": 1.356521739130435}, \"0.7761194029850746\": {\"frequency\": 1, \"value\": 0.7761194029850746}, \"1.7054263565891472\": {\"frequency\": 2, \"value\": 1.7054263565891472}, \"1.2657004830917873\": {\"frequency\": 1, \"value\": 1.2657004830917873}, \"0.7291666666666667\": {\"frequency\": 1, \"value\": 0.7291666666666667}, \"1.8472222222222223\": {\"frequency\": 1, \"value\": 1.8472222222222223}, \"1.8385650224215246\": {\"frequency\": 1, \"value\": 1.8385650224215246}, \"1.8089171974522293\": {\"frequency\": 1, \"value\": 1.8089171974522293}, \"1.240506329113924\": {\"frequency\": 2, \"value\": 1.240506329113924}, \"1.4805194805194806\": {\"frequency\": 5, \"value\": 1.4805194805194806}, \"1.0196078431372548\": {\"frequency\": 3, \"value\": 1.0196078431372548}, \"1.8738738738738738\": {\"frequency\": 1, \"value\": 1.8738738738738738}, \"1.5324675324675325\": {\"frequency\": 14, \"value\": 1.5324675324675325}, \"1.669172932330827\": {\"frequency\": 1, \"value\": 1.669172932330827}, \"1.88135593220339\": {\"frequency\": 2, \"value\": 1.88135593220339}, \"1.8717948717948718\": {\"frequency\": 17, \"value\": 1.8717948717948718}, \"1.1818181818181817\": {\"frequency\": 9, \"value\": 1.1818181818181817}, \"1.2962962962962963\": {\"frequency\": 10, \"value\": 1.2962962962962963}, \"1.7409326424870466\": {\"frequency\": 1, \"value\": 1.7409326424870466}, \"0.6829268292682926\": {\"frequency\": 2, \"value\": 0.6829268292682926}, \"1.295774647887324\": {\"frequency\": 2, \"value\": 1.295774647887324}, \"1.1746031746031746\": {\"frequency\": 3, \"value\": 1.1746031746031746}, \"1.7346938775510203\": {\"frequency\": 28, \"value\": 1.7346938775510203}, \"1.7697841726618706\": {\"frequency\": 5, \"value\": 1.7697841726618706}, \"1.7161290322580645\": {\"frequency\": 2, \"value\": 1.7161290322580645}, \"1.5658914728682172\": {\"frequency\": 2, \"value\": 1.5658914728682172}, \"1.5692307692307692\": {\"frequency\": 23, \"value\": 1.5692307692307692}, \"1.782051282051282\": {\"frequency\": 1, \"value\": 1.782051282051282}, \"1.6453900709219857\": {\"frequency\": 2, \"value\": 1.6453900709219857}, \"0.52\": {\"frequency\": 1, \"value\": 0.52}, \"1.6875\": {\"frequency\": 79, \"value\": 1.6875}, \"0.6200000000000001\": {\"frequency\": 1, \"value\": 0.6200000000000001}, \"1.2807881773399015\": {\"frequency\": 1, \"value\": 1.2807881773399015}, \"1.5614035087719298\": {\"frequency\": 3, \"value\": 1.5614035087719298}, \"1.6480000000000001\": {\"frequency\": 1, \"value\": 1.6480000000000001}, \"1.2079207920792079\": {\"frequency\": 2, \"value\": 1.2079207920792079}, \"1.3404255319148937\": {\"frequency\": 1, \"value\": 1.3404255319148937}, \"1.8305084745762712\": {\"frequency\": 26, \"value\": 1.8305084745762712}, \"1.7560975609756098\": {\"frequency\": 79, \"value\": 1.7560975609756098}, \"1.8762886597938144\": {\"frequency\": 7, \"value\": 1.8762886597938144}, \"1.2666666666666666\": {\"frequency\": 14, \"value\": 1.2666666666666666}, \"1.817351598173516\": {\"frequency\": 1, \"value\": 1.817351598173516}, \"1.7696969696969698\": {\"frequency\": 5, \"value\": 1.7696969696969698}, \"1.8719999999999999\": {\"frequency\": 2, \"value\": 1.8719999999999999}, \"0.6363636363636365\": {\"frequency\": 5, \"value\": 0.6363636363636365}, \"1.5466666666666666\": {\"frequency\": 18, \"value\": 1.5466666666666666}, \"1.7511961722488039\": {\"frequency\": 1, \"value\": 1.7511961722488039}, \"1.441860465116279\": {\"frequency\": 19, \"value\": 1.441860465116279}, \"0.6399999999999999\": {\"frequency\": 1, \"value\": 0.6399999999999999}, \"0.8809523809523809\": {\"frequency\": 1, \"value\": 0.8809523809523809}, \"1.2845528455284554\": {\"frequency\": 1, \"value\": 1.2845528455284554}, \"1.6560509554140128\": {\"frequency\": 2, \"value\": 1.6560509554140128}, \"1.2989690721649485\": {\"frequency\": 2, \"value\": 1.2989690721649485}, \"1.0445859872611465\": {\"frequency\": 1, \"value\": 1.0445859872611465}, \"0.8378378378378379\": {\"frequency\": 1, \"value\": 0.8378378378378379}, \"0.6024096385542168\": {\"frequency\": 1, \"value\": 0.6024096385542168}, \"1.7413793103448276\": {\"frequency\": 9, \"value\": 1.7413793103448276}, \"1.6595744680851063\": {\"frequency\": 60, \"value\": 1.6595744680851063}, \"1.65625\": {\"frequency\": 28, \"value\": 1.65625}, \"1.6220472440944882\": {\"frequency\": 1, \"value\": 1.6220472440944882}, \"1.372093023255814\": {\"frequency\": 1, \"value\": 1.372093023255814}, \"1.3734939759036144\": {\"frequency\": 2, \"value\": 1.3734939759036144}, \"1.7796610169491525\": {\"frequency\": 12, \"value\": 1.7796610169491525}, \"1.6275862068965516\": {\"frequency\": 1, \"value\": 1.6275862068965516}, \"1.8688524590163935\": {\"frequency\": 16, \"value\": 1.8688524590163935}, \"1.5405405405405406\": {\"frequency\": 17, \"value\": 1.5405405405405406}, \"1.7884615384615385\": {\"frequency\": 15, \"value\": 1.7884615384615385}, \"1.8484848484848484\": {\"frequency\": 35, \"value\": 1.8484848484848484}, \"1.302325581395349\": {\"frequency\": 11, \"value\": 1.302325581395349}, \"1.6204379562043796\": {\"frequency\": 1, \"value\": 1.6204379562043796}, \"1.6615384615384614\": {\"frequency\": 38, \"value\": 1.6615384615384614}, \"0.8444444444444446\": {\"frequency\": 3, \"value\": 0.8444444444444446}, \"0.5283018867924529\": {\"frequency\": 1, \"value\": 0.5283018867924529}, \"1.8734177215189873\": {\"frequency\": 13, \"value\": 1.8734177215189873}, \"1.811965811965812\": {\"frequency\": 3, \"value\": 1.811965811965812}, \"0.9206349206349207\": {\"frequency\": 4, \"value\": 0.9206349206349207}, \"1.3658536585365852\": {\"frequency\": 12, \"value\": 1.3658536585365852}, \"1.8072289156626506\": {\"frequency\": 24, \"value\": 1.8072289156626506}, \"1.4308943089430894\": {\"frequency\": 1, \"value\": 1.4308943089430894}, \"1.6326530612244898\": {\"frequency\": 52, \"value\": 1.6326530612244898}, \"1.6623376623376624\": {\"frequency\": 22, \"value\": 1.6623376623376624}, \"0.7027027027027026\": {\"frequency\": 2, \"value\": 0.7027027027027026}, \"1.7155555555555555\": {\"frequency\": 1, \"value\": 1.7155555555555555}, \"1.7341040462427746\": {\"frequency\": 2, \"value\": 1.7341040462427746}, \"1.4202898550724639\": {\"frequency\": 6, \"value\": 1.4202898550724639}, \"0.8125\": {\"frequency\": 3, \"value\": 0.8125}, \"1.3978494623655915\": {\"frequency\": 3, \"value\": 1.3978494623655915}, \"0.835820895522388\": {\"frequency\": 1, \"value\": 0.835820895522388}, \"1.7923497267759563\": {\"frequency\": 2, \"value\": 1.7923497267759563}, \"1.816326530612245\": {\"frequency\": 8, \"value\": 1.816326530612245}, \"1.0882352941176472\": {\"frequency\": 2, \"value\": 1.0882352941176472}, \"1.2280701754385965\": {\"frequency\": 6, \"value\": 1.2280701754385965}, \"1.1071428571428572\": {\"frequency\": 3, \"value\": 1.1071428571428572}, \"1.8732394366197183\": {\"frequency\": 1, \"value\": 1.8732394366197183}, \"1.5666666666666667\": {\"frequency\": 22, \"value\": 1.5666666666666667}, \"1.8041958041958042\": {\"frequency\": 3, \"value\": 1.8041958041958042}, \"1.681159420289855\": {\"frequency\": 38, \"value\": 1.681159420289855}, \"1.758139534883721\": {\"frequency\": 1, \"value\": 1.758139534883721}, \"1.830188679245283\": {\"frequency\": 4, \"value\": 1.830188679245283}, \"1.8650306748466257\": {\"frequency\": 1, \"value\": 1.8650306748466257}, \"1.858267716535433\": {\"frequency\": 2, \"value\": 1.858267716535433}, \"1.4333333333333333\": {\"frequency\": 5, \"value\": 1.4333333333333333}, \"1.74496644295302\": {\"frequency\": 1, \"value\": 1.74496644295302}, \"1.4363636363636365\": {\"frequency\": 2, \"value\": 1.4363636363636365}, \"1.7942857142857143\": {\"frequency\": 1, \"value\": 1.7942857142857143}, \"1.852760736196319\": {\"frequency\": 1, \"value\": 1.852760736196319}, \"1.7540983606557377\": {\"frequency\": 8, \"value\": 1.7540983606557377}, \"1.4961832061068703\": {\"frequency\": 1, \"value\": 1.4961832061068703}, \"1.797752808988764\": {\"frequency\": 20, \"value\": 1.797752808988764}, \"1.7159090909090908\": {\"frequency\": 1, \"value\": 1.7159090909090908}, \"0.6153846153846154\": {\"frequency\": 6, \"value\": 0.6153846153846154}, \"1.6740088105726874\": {\"frequency\": 1, \"value\": 1.6740088105726874}, \"1.5882352941176472\": {\"frequency\": 52, \"value\": 1.5882352941176472}, \"1.6346153846153846\": {\"frequency\": 4, \"value\": 1.6346153846153846}, \"1.1785714285714286\": {\"frequency\": 4, \"value\": 1.1785714285714286}, \"1.7541899441340782\": {\"frequency\": 1, \"value\": 1.7541899441340782}, \"1.6307692307692307\": {\"frequency\": 15, \"value\": 1.6307692307692307}, \"1.6638655462184873\": {\"frequency\": 4, \"value\": 1.6638655462184873}, \"1.85\": {\"frequency\": 52, \"value\": 1.85}, \"1.7902097902097902\": {\"frequency\": 3, \"value\": 1.7902097902097902}, \"1.5047619047619047\": {\"frequency\": 1, \"value\": 1.5047619047619047}, \"1.5862068965517242\": {\"frequency\": 30, \"value\": 1.5862068965517242}, \"1.4838709677419355\": {\"frequency\": 31, \"value\": 1.4838709677419355}, \"1.7297297297297298\": {\"frequency\": 103, \"value\": 1.7297297297297298}, \"1.7738095238095237\": {\"frequency\": 1, \"value\": 1.7738095238095237}, \"1.6037735849056602\": {\"frequency\": 8, \"value\": 1.6037735849056602}, \"1.873015873015873\": {\"frequency\": 11, \"value\": 1.873015873015873}, \"1.806122448979592\": {\"frequency\": 1, \"value\": 1.806122448979592}, \"1.1147540983606556\": {\"frequency\": 6, \"value\": 1.1147540983606556}, \"1.8282208588957056\": {\"frequency\": 1, \"value\": 1.8282208588957056}, \"1.5643564356435644\": {\"frequency\": 1, \"value\": 1.5643564356435644}, \"0.40740740740740744\": {\"frequency\": 1, \"value\": 0.40740740740740744}, \"0.5365853658536586\": {\"frequency\": 2, \"value\": 0.5365853658536586}, \"1.7350993377483444\": {\"frequency\": 1, \"value\": 1.7350993377483444}, \"1.5068493150684932\": {\"frequency\": 7, \"value\": 1.5068493150684932}, \"1.4174757281553398\": {\"frequency\": 2, \"value\": 1.4174757281553398}, \"1.8409090909090908\": {\"frequency\": 15, \"value\": 1.8409090909090908}, \"1.8317757009345794\": {\"frequency\": 6, \"value\": 1.8317757009345794}, \"1.305084745762712\": {\"frequency\": 1, \"value\": 1.305084745762712}, \"1.2424242424242424\": {\"frequency\": 4, \"value\": 1.2424242424242424}, \"1.5169082125603865\": {\"frequency\": 1, \"value\": 1.5169082125603865}, \"1.1666666666666665\": {\"frequency\": 13, \"value\": 1.1666666666666665}, \"1.8139534883720931\": {\"frequency\": 42, \"value\": 1.8139534883720931}, \"1.4411764705882353\": {\"frequency\": 5, \"value\": 1.4411764705882353}, \"0.7887323943661972\": {\"frequency\": 1, \"value\": 0.7887323943661972}, \"1.4603174603174605\": {\"frequency\": 10, \"value\": 1.4603174603174605}, \"0.2564102564102564\": {\"frequency\": 1, \"value\": 0.2564102564102564}, \"1.5596330275229358\": {\"frequency\": 4, \"value\": 1.5596330275229358}, \"1.2321428571428572\": {\"frequency\": 1, \"value\": 1.2321428571428572}, \"1.6551724137931034\": {\"frequency\": 87, \"value\": 1.6551724137931034}, \"1.5698924731182795\": {\"frequency\": 5, \"value\": 1.5698924731182795}, \"0.2857142857142858\": {\"frequency\": 6, \"value\": 0.2857142857142858}, \"1.5957446808510638\": {\"frequency\": 1, \"value\": 1.5957446808510638}, \"1.7659574468085106\": {\"frequency\": 27, \"value\": 1.7659574468085106}, \"1.8449612403100775\": {\"frequency\": 1, \"value\": 1.8449612403100775}, \"1.6447368421052633\": {\"frequency\": 1, \"value\": 1.6447368421052633}, \"1.596774193548387\": {\"frequency\": 5, \"value\": 1.596774193548387}, \"1.2293577981651376\": {\"frequency\": 1, \"value\": 1.2293577981651376}, \"1.4415584415584415\": {\"frequency\": 1, \"value\": 1.4415584415584415}, \"1.853211009174312\": {\"frequency\": 6, \"value\": 1.853211009174312}, \"1.7444444444444445\": {\"frequency\": 1, \"value\": 1.7444444444444445}, \"1.7159763313609466\": {\"frequency\": 3, \"value\": 1.7159763313609466}, \"1.5783132530120483\": {\"frequency\": 1, \"value\": 1.5783132530120483}, \"1.3580246913580247\": {\"frequency\": 5, \"value\": 1.3580246913580247}, \"1.475\": {\"frequency\": 2, \"value\": 1.475}, \"1.1506849315068495\": {\"frequency\": 2, \"value\": 1.1506849315068495}, \"1.472972972972973\": {\"frequency\": 1, \"value\": 1.472972972972973}, \"1.4347826086956523\": {\"frequency\": 14, \"value\": 1.4347826086956523}, \"1.7523809523809524\": {\"frequency\": 24, \"value\": 1.7523809523809524}, \"1.7547169811320755\": {\"frequency\": 29, \"value\": 1.7547169811320755}, \"0.46153846153846145\": {\"frequency\": 4, \"value\": 0.46153846153846145}, \"0.8205128205128205\": {\"frequency\": 2, \"value\": 0.8205128205128205}, \"0.9523809523809523\": {\"frequency\": 5, \"value\": 0.9523809523809523}, \"1.305263157894737\": {\"frequency\": 1, \"value\": 1.305263157894737}, \"1.718918918918919\": {\"frequency\": 1, \"value\": 1.718918918918919}, \"1.675\": {\"frequency\": 36, \"value\": 1.675}, \"1.6385542168674698\": {\"frequency\": 21, \"value\": 1.6385542168674698}, \"0.72\": {\"frequency\": 2, \"value\": 0.72}, \"1.09375\": {\"frequency\": 4, \"value\": 1.09375}, \"1.8378378378378377\": {\"frequency\": 57, \"value\": 1.8378378378378377}, \"1.7681159420289856\": {\"frequency\": 38, \"value\": 1.7681159420289856}, \"1.834710743801653\": {\"frequency\": 1, \"value\": 1.834710743801653}, \"1.7241379310344827\": {\"frequency\": 99, \"value\": 1.7241379310344827}, \"1.6559139784946235\": {\"frequency\": 14, \"value\": 1.6559139784946235}, \"1.4265734265734267\": {\"frequency\": 1, \"value\": 1.4265734265734267}, \"1.8120805369127517\": {\"frequency\": 2, \"value\": 1.8120805369127517}, \"1.5277777777777777\": {\"frequency\": 8, \"value\": 1.5277777777777777}, \"1.813664596273292\": {\"frequency\": 1, \"value\": 1.813664596273292}, \"1.670731707317073\": {\"frequency\": 1, \"value\": 1.670731707317073}, \"1.4583333333333335\": {\"frequency\": 7, \"value\": 1.4583333333333335}, \"1.5283018867924527\": {\"frequency\": 1, \"value\": 1.5283018867924527}, \"1.4468085106382977\": {\"frequency\": 14, \"value\": 1.4468085106382977}, \"1.6818181818181819\": {\"frequency\": 61, \"value\": 1.6818181818181819}, \"1.4210526315789473\": {\"frequency\": 27, \"value\": 1.4210526315789473}, \"1.6689655172413793\": {\"frequency\": 2, \"value\": 1.6689655172413793}, \"1.640625\": {\"frequency\": 5, \"value\": 1.640625}, \"1.5827338129496402\": {\"frequency\": 1, \"value\": 1.5827338129496402}, \"0.6929133858267718\": {\"frequency\": 1, \"value\": 0.6929133858267718}, \"1.1304347826086958\": {\"frequency\": 8, \"value\": 1.1304347826086958}, \"1.5434782608695652\": {\"frequency\": 5, \"value\": 1.5434782608695652}, \"1.8461538461538463\": {\"frequency\": 166, \"value\": 1.8461538461538463}, \"1.8823529411764706\": {\"frequency\": 49, \"value\": 1.8823529411764706}, \"1.2941176470588234\": {\"frequency\": 24, \"value\": 1.2941176470588234}, \"1.6413793103448275\": {\"frequency\": 1, \"value\": 1.6413793103448275}, \"1.5813953488372092\": {\"frequency\": 26, \"value\": 1.5813953488372092}, \"1.2695652173913043\": {\"frequency\": 1, \"value\": 1.2695652173913043}, \"1.5339805825242718\": {\"frequency\": 1, \"value\": 1.5339805825242718}, \"1.607843137254902\": {\"frequency\": 27, \"value\": 1.607843137254902}, \"1.831578947368421\": {\"frequency\": 10, \"value\": 1.831578947368421}, \"1.6219512195121952\": {\"frequency\": 1, \"value\": 1.6219512195121952}, \"1.1923076923076923\": {\"frequency\": 5, \"value\": 1.1923076923076923}, \"0.05263157894736836\": {\"frequency\": 1, \"value\": 0.05263157894736836}, \"1.6849315068493151\": {\"frequency\": 2, \"value\": 1.6849315068493151}, \"1.7903225806451613\": {\"frequency\": 4, \"value\": 1.7903225806451613}, \"1.5116279069767442\": {\"frequency\": 5, \"value\": 1.5116279069767442}, \"1.5368421052631578\": {\"frequency\": 3, \"value\": 1.5368421052631578}, \"1.7926829268292683\": {\"frequency\": 1, \"value\": 1.7926829268292683}, \"1.7636363636363637\": {\"frequency\": 7, \"value\": 1.7636363636363637}, \"1.5514018691588785\": {\"frequency\": 1, \"value\": 1.5514018691588785}, \"1.2421052631578946\": {\"frequency\": 1, \"value\": 1.2421052631578946}, \"1.7379310344827585\": {\"frequency\": 4, \"value\": 1.7379310344827585}, \"1.6619718309859155\": {\"frequency\": 26, \"value\": 1.6619718309859155}, \"0.9610389610389611\": {\"frequency\": 1, \"value\": 0.9610389610389611}, \"1.28\": {\"frequency\": 9, \"value\": 1.28}, \"1.727810650887574\": {\"frequency\": 1, \"value\": 1.727810650887574}, \"0.7\": {\"frequency\": 3, \"value\": 0.7}, \"1.0714285714285714\": {\"frequency\": 7, \"value\": 1.0714285714285714}, \"1.4473684210526314\": {\"frequency\": 6, \"value\": 1.4473684210526314}, \"1.403225806451613\": {\"frequency\": 2, \"value\": 1.403225806451613}, \"1.6879432624113475\": {\"frequency\": 2, \"value\": 1.6879432624113475}, \"1.679245283018868\": {\"frequency\": 20, \"value\": 1.679245283018868}, \"1.6827586206896552\": {\"frequency\": 1, \"value\": 1.6827586206896552}, \"1.7446808510638299\": {\"frequency\": 59, \"value\": 1.7446808510638299}, \"1.2359550561797752\": {\"frequency\": 1, \"value\": 1.2359550561797752}, \"1.671875\": {\"frequency\": 5, \"value\": 1.671875}, \"0.16216216216216206\": {\"frequency\": 1, \"value\": 0.16216216216216206}, \"1.3953488372093024\": {\"frequency\": 7, \"value\": 1.3953488372093024}, \"1.781021897810219\": {\"frequency\": 6, \"value\": 1.781021897810219}, \"1.5575221238938053\": {\"frequency\": 1, \"value\": 1.5575221238938053}, \"1.5922330097087378\": {\"frequency\": 6, \"value\": 1.5922330097087378}, \"1.3214285714285714\": {\"frequency\": 9, \"value\": 1.3214285714285714}, \"1.2063492063492065\": {\"frequency\": 5, \"value\": 1.2063492063492065}, \"1.653061224489796\": {\"frequency\": 11, \"value\": 1.653061224489796}, \"1.3103448275862069\": {\"frequency\": 15, \"value\": 1.3103448275862069}, \"0.6000000000000001\": {\"frequency\": 10, \"value\": 0.6000000000000001}, \"1.8373983739837398\": {\"frequency\": 1, \"value\": 1.8373983739837398}, \"1.0379746835443038\": {\"frequency\": 3, \"value\": 1.0379746835443038}, \"1.6767676767676767\": {\"frequency\": 21, \"value\": 1.6767676767676767}, \"1.511111111111111\": {\"frequency\": 25, \"value\": 1.511111111111111}, \"1.267605633802817\": {\"frequency\": 4, \"value\": 1.267605633802817}, \"1.1730769230769231\": {\"frequency\": 1, \"value\": 1.1730769230769231}, \"1.087719298245614\": {\"frequency\": 1, \"value\": 1.087719298245614}, \"1.8412698412698414\": {\"frequency\": 38, \"value\": 1.8412698412698414}, \"1.752212389380531\": {\"frequency\": 20, \"value\": 1.752212389380531}, \"1.7410071942446044\": {\"frequency\": 6, \"value\": 1.7410071942446044}, \"0.9367088607594938\": {\"frequency\": 1, \"value\": 0.9367088607594938}, \"1.7846153846153845\": {\"frequency\": 31, \"value\": 1.7846153846153845}, \"1.668639053254438\": {\"frequency\": 1, \"value\": 1.668639053254438}, \"1.4606741573033708\": {\"frequency\": 5, \"value\": 1.4606741573033708}, \"1.8487394957983194\": {\"frequency\": 2, \"value\": 1.8487394957983194}, \"1.4528301886792452\": {\"frequency\": 2, \"value\": 1.4528301886792452}, \"1.8714285714285714\": {\"frequency\": 1, \"value\": 1.8714285714285714}, \"1.7480314960629921\": {\"frequency\": 8, \"value\": 1.7480314960629921}, \"1.5730337078651686\": {\"frequency\": 9, \"value\": 1.5730337078651686}, \"0.7931034482758621\": {\"frequency\": 1, \"value\": 0.7931034482758621}, \"1.358974358974359\": {\"frequency\": 4, \"value\": 1.358974358974359}, \"1.4965034965034965\": {\"frequency\": 1, \"value\": 1.4965034965034965}, \"1.5942028985507246\": {\"frequency\": 29, \"value\": 1.5942028985507246}, \"1.903225806451613\": {\"frequency\": 5, \"value\": 1.903225806451613}, \"1.728813559322034\": {\"frequency\": 55, \"value\": 1.728813559322034}, \"1.1515151515151514\": {\"frequency\": 4, \"value\": 1.1515151515151514}, \"1.802325581395349\": {\"frequency\": 1, \"value\": 1.802325581395349}, \"1.7041420118343196\": {\"frequency\": 1, \"value\": 1.7041420118343196}, \"1.6504854368932038\": {\"frequency\": 15, \"value\": 1.6504854368932038}, \"1.7702702702702702\": {\"frequency\": 3, \"value\": 1.7702702702702702}, \"1.696551724137931\": {\"frequency\": 1, \"value\": 1.696551724137931}, \"1.6853932584269664\": {\"frequency\": 28, \"value\": 1.6853932584269664}, \"1.736842105263158\": {\"frequency\": 101, \"value\": 1.736842105263158}, \"1.4161490683229814\": {\"frequency\": 1, \"value\": 1.4161490683229814}, \"0.7407407407407407\": {\"frequency\": 2, \"value\": 0.7407407407407407}, \"1.6545454545454545\": {\"frequency\": 8, \"value\": 1.6545454545454545}, \"1.595959595959596\": {\"frequency\": 10, \"value\": 1.595959595959596}, \"1.9036144578313252\": {\"frequency\": 4, \"value\": 1.9036144578313252}, \"0.588235294117647\": {\"frequency\": 1, \"value\": 0.588235294117647}, \"1.0857142857142859\": {\"frequency\": 8, \"value\": 1.0857142857142859}, \"1.7721518987341773\": {\"frequency\": 38, \"value\": 1.7721518987341773}, \"1.552\": {\"frequency\": 1, \"value\": 1.552}, \"0.6190476190476191\": {\"frequency\": 1, \"value\": 0.6190476190476191}, \"1.3846153846153846\": {\"frequency\": 37, \"value\": 1.3846153846153846}, \"1.46\": {\"frequency\": 1, \"value\": 1.46}, \"1.3904761904761904\": {\"frequency\": 1, \"value\": 1.3904761904761904}, \"0.23529411764705888\": {\"frequency\": 1, \"value\": 0.23529411764705888}, \"1.7396449704142012\": {\"frequency\": 1, \"value\": 1.7396449704142012}, \"1.2571428571428571\": {\"frequency\": 8, \"value\": 1.2571428571428571}, \"0.9866666666666666\": {\"frequency\": 1, \"value\": 0.9866666666666666}, \"1.7024793388429753\": {\"frequency\": 6, \"value\": 1.7024793388429753}, \"1.6235294117647059\": {\"frequency\": 16, \"value\": 1.6235294117647059}, \"0.9253731343283582\": {\"frequency\": 2, \"value\": 0.9253731343283582}, \"1.6556291390728477\": {\"frequency\": 6, \"value\": 1.6556291390728477}, \"1.6779661016949152\": {\"frequency\": 8, \"value\": 1.6779661016949152}, \"1.7538461538461538\": {\"frequency\": 47, \"value\": 1.7538461538461538}, \"0.2962962962962963\": {\"frequency\": 1, \"value\": 0.2962962962962963}, \"1.7012987012987013\": {\"frequency\": 3, \"value\": 1.7012987012987013}, \"1.4814814814814814\": {\"frequency\": 17, \"value\": 1.4814814814814814}, \"1.925925925925926\": {\"frequency\": 14, \"value\": 1.925925925925926}, \"1.5208333333333333\": {\"frequency\": 5, \"value\": 1.5208333333333333}, \"0.375\": {\"frequency\": 2, \"value\": 0.375}, \"1.7655172413793103\": {\"frequency\": 4, \"value\": 1.7655172413793103}, \"1.509090909090909\": {\"frequency\": 1, \"value\": 1.509090909090909}, \"1.3626373626373627\": {\"frequency\": 2, \"value\": 1.3626373626373627}, \"1.7534246575342465\": {\"frequency\": 35, \"value\": 1.7534246575342465}, \"0.6101694915254237\": {\"frequency\": 1, \"value\": 0.6101694915254237}, \"1.7543859649122808\": {\"frequency\": 46, \"value\": 1.7543859649122808}, \"0.9791666666666667\": {\"frequency\": 2, \"value\": 0.9791666666666667}, \"1.7710843373493976\": {\"frequency\": 2, \"value\": 1.7710843373493976}, \"1.6708860759493671\": {\"frequency\": 25, \"value\": 1.6708860759493671}, \"1.6274509803921569\": {\"frequency\": 10, \"value\": 1.6274509803921569}, \"1.3399999999999999\": {\"frequency\": 1, \"value\": 1.3399999999999999}, \"1.3402061855670104\": {\"frequency\": 1, \"value\": 1.3402061855670104}, \"1.1739130434782608\": {\"frequency\": 4, \"value\": 1.1739130434782608}, \"1.6956521739130435\": {\"frequency\": 59, \"value\": 1.6956521739130435}, \"1.639344262295082\": {\"frequency\": 22, \"value\": 1.639344262295082}, \"1.3773584905660377\": {\"frequency\": 1, \"value\": 1.3773584905660377}, \"0.7450980392156863\": {\"frequency\": 1, \"value\": 0.7450980392156863}, \"0.9705882352941178\": {\"frequency\": 1, \"value\": 0.9705882352941178}, \"1.8434782608695652\": {\"frequency\": 3, \"value\": 1.8434782608695652}, \"1.1458333333333335\": {\"frequency\": 1, \"value\": 1.1458333333333335}, \"1.7608695652173914\": {\"frequency\": 35, \"value\": 1.7608695652173914}, \"1.6788321167883211\": {\"frequency\": 4, \"value\": 1.6788321167883211}, \"1.791044776119403\": {\"frequency\": 49, \"value\": 1.791044776119403}, \"0.8275862068965518\": {\"frequency\": 1, \"value\": 0.8275862068965518}, \"1.5961538461538463\": {\"frequency\": 7, \"value\": 1.5961538461538463}, \"1.1264367816091954\": {\"frequency\": 1, \"value\": 1.1264367816091954}, \"1.075268817204301\": {\"frequency\": 1, \"value\": 1.075268817204301}, \"0.8108108108108107\": {\"frequency\": 1, \"value\": 0.8108108108108107}, \"0.6349206349206349\": {\"frequency\": 1, \"value\": 0.6349206349206349}, \"0.3294117647058823\": {\"frequency\": 1, \"value\": 0.3294117647058823}, \"1.359375\": {\"frequency\": 1, \"value\": 1.359375}, \"1.5151515151515151\": {\"frequency\": 17, \"value\": 1.5151515151515151}, \"1.3409090909090908\": {\"frequency\": 5, \"value\": 1.3409090909090908}, \"1.6481481481481481\": {\"frequency\": 13, \"value\": 1.6481481481481481}, \"1.15\": {\"frequency\": 8, \"value\": 1.15}, \"1.7348066298342542\": {\"frequency\": 2, \"value\": 1.7348066298342542}, \"1.5726495726495726\": {\"frequency\": 4, \"value\": 1.5726495726495726}, \"1.7007874015748032\": {\"frequency\": 4, \"value\": 1.7007874015748032}, \"1.4054054054054053\": {\"frequency\": 11, \"value\": 1.4054054054054053}, \"1.6296296296296298\": {\"frequency\": 66, \"value\": 1.6296296296296298}, \"1.7230769230769232\": {\"frequency\": 42, \"value\": 1.7230769230769232}, \"1.7318435754189945\": {\"frequency\": 3, \"value\": 1.7318435754189945}, \"0.11111111111111116\": {\"frequency\": 1, \"value\": 0.11111111111111116}, \"1.793103448275862\": {\"frequency\": 86, \"value\": 1.793103448275862}, \"1.6946564885496183\": {\"frequency\": 4, \"value\": 1.6946564885496183}, \"1.824\": {\"frequency\": 1, \"value\": 1.824}, \"1.7793103448275862\": {\"frequency\": 1, \"value\": 1.7793103448275862}, \"1.6258064516129032\": {\"frequency\": 1, \"value\": 1.6258064516129032}, \"1.5696202531645569\": {\"frequency\": 16, \"value\": 1.5696202531645569}, \"1.021276595744681\": {\"frequency\": 2, \"value\": 1.021276595744681}, \"1.0571428571428572\": {\"frequency\": 2, \"value\": 1.0571428571428572}, \"0.8095238095238095\": {\"frequency\": 1, \"value\": 0.8095238095238095}, \"1.8481012658227849\": {\"frequency\": 23, \"value\": 1.8481012658227849}, \"1.7209302325581395\": {\"frequency\": 68, \"value\": 1.7209302325581395}, \"1.6422764227642277\": {\"frequency\": 4, \"value\": 1.6422764227642277}, \"1.59375\": {\"frequency\": 11, \"value\": 1.59375}, \"1.7748344370860927\": {\"frequency\": 2, \"value\": 1.7748344370860927}, \"1.7514792899408285\": {\"frequency\": 1, \"value\": 1.7514792899408285}, \"1.618320610687023\": {\"frequency\": 4, \"value\": 1.618320610687023}, \"1.5876288659793816\": {\"frequency\": 2, \"value\": 1.5876288659793816}, \"1.1954022988505746\": {\"frequency\": 1, \"value\": 1.1954022988505746}, \"1.161290322580645\": {\"frequency\": 4, \"value\": 1.161290322580645}, \"1.041095890410959\": {\"frequency\": 1, \"value\": 1.041095890410959}, \"1.1707317073170733\": {\"frequency\": 6, \"value\": 1.1707317073170733}, \"1.876543209876543\": {\"frequency\": 6, \"value\": 1.876543209876543}, \"1.6511627906976745\": {\"frequency\": 32, \"value\": 1.6511627906976745}, \"1.7009345794392523\": {\"frequency\": 13, \"value\": 1.7009345794392523}, \"1.8444444444444446\": {\"frequency\": 11, \"value\": 1.8444444444444446}, \"1.3442622950819674\": {\"frequency\": 6, \"value\": 1.3442622950819674}, \"1.5419847328244276\": {\"frequency\": 3, \"value\": 1.5419847328244276}, \"1.263157894736842\": {\"frequency\": 13, \"value\": 1.263157894736842}, \"1.8352941176470587\": {\"frequency\": 25, \"value\": 1.8352941176470587}, \"1.7027027027027026\": {\"frequency\": 38, \"value\": 1.7027027027027026}, \"0.6233766233766234\": {\"frequency\": 1, \"value\": 0.6233766233766234}, \"0.8500000000000001\": {\"frequency\": 1, \"value\": 0.8500000000000001}, \"1.78698224852071\": {\"frequency\": 2, \"value\": 1.78698224852071}, \"1.4081632653061225\": {\"frequency\": 2, \"value\": 1.4081632653061225}, \"1.7941176470588236\": {\"frequency\": 44, \"value\": 1.7941176470588236}, \"0.7906976744186047\": {\"frequency\": 1, \"value\": 0.7906976744186047}, \"1.8482758620689654\": {\"frequency\": 1, \"value\": 1.8482758620689654}, \"0.935483870967742\": {\"frequency\": 1, \"value\": 0.935483870967742}, \"1.6\": {\"frequency\": 327, \"value\": 1.6}, \"1.7103448275862068\": {\"frequency\": 1, \"value\": 1.7103448275862068}, \"0.8076923076923077\": {\"frequency\": 2, \"value\": 0.8076923076923077}, \"1.1153846153846154\": {\"frequency\": 4, \"value\": 1.1153846153846154}, \"0.8461538461538463\": {\"frequency\": 3, \"value\": 0.8461538461538463}, \"1.45\": {\"frequency\": 22, \"value\": 1.45}, \"1.872340425531915\": {\"frequency\": 15, \"value\": 1.872340425531915}, \"1.8153846153846154\": {\"frequency\": 33, \"value\": 1.8153846153846154}, \"1.8319327731092436\": {\"frequency\": 4, \"value\": 1.8319327731092436}, \"1.5238095238095237\": {\"frequency\": 41, \"value\": 1.5238095238095237}, \"1.7419354838709677\": {\"frequency\": 82, \"value\": 1.7419354838709677}, \"1.4757281553398058\": {\"frequency\": 5, \"value\": 1.4757281553398058}, \"1.489795918367347\": {\"frequency\": 3, \"value\": 1.489795918367347}, \"1.6036036036036037\": {\"frequency\": 5, \"value\": 1.6036036036036037}, \"1.7575757575757576\": {\"frequency\": 87, \"value\": 1.7575757575757576}, \"1.3148148148148149\": {\"frequency\": 1, \"value\": 1.3148148148148149}, \"1.0526315789473686\": {\"frequency\": 2, \"value\": 1.0526315789473686}, \"1.878787878787879\": {\"frequency\": 37, \"value\": 1.878787878787879}, \"0.9152542372881356\": {\"frequency\": 1, \"value\": 0.9152542372881356}, \"1.9069767441860466\": {\"frequency\": 7, \"value\": 1.9069767441860466}, \"0.32000000000000006\": {\"frequency\": 4, \"value\": 0.32000000000000006}, \"1.7804878048780488\": {\"frequency\": 31, \"value\": 1.7804878048780488}, \"1.5128205128205128\": {\"frequency\": 9, \"value\": 1.5128205128205128}, \"1.8035714285714286\": {\"frequency\": 12, \"value\": 1.8035714285714286}, \"0.7857142857142858\": {\"frequency\": 5, \"value\": 0.7857142857142858}, \"1.7295081967213115\": {\"frequency\": 1, \"value\": 1.7295081967213115}, \"1.297872340425532\": {\"frequency\": 1, \"value\": 1.297872340425532}, \"1.6973684210526316\": {\"frequency\": 2, \"value\": 1.6973684210526316}, \"1.2207792207792207\": {\"frequency\": 2, \"value\": 1.2207792207792207}, \"1.5702479338842976\": {\"frequency\": 2, \"value\": 1.5702479338842976}, \"1.3599999999999999\": {\"frequency\": 23, \"value\": 1.3599999999999999}, \"0.8115942028985508\": {\"frequency\": 1, \"value\": 0.8115942028985508}, \"1.770334928229665\": {\"frequency\": 1, \"value\": 1.770334928229665}, \"0.5789473684210527\": {\"frequency\": 1, \"value\": 0.5789473684210527}, \"1.3066666666666666\": {\"frequency\": 2, \"value\": 1.3066666666666666}, \"1.4375\": {\"frequency\": 16, \"value\": 1.4375}, \"1.0285714285714285\": {\"frequency\": 6, \"value\": 1.0285714285714285}, \"1.6377952755905512\": {\"frequency\": 1, \"value\": 1.6377952755905512}, \"1.3199999999999998\": {\"frequency\": 6, \"value\": 1.3199999999999998}, \"1.3225806451612905\": {\"frequency\": 4, \"value\": 1.3225806451612905}, \"1.8620689655172413\": {\"frequency\": 61, \"value\": 1.8620689655172413}, \"1.8888888888888888\": {\"frequency\": 40, \"value\": 1.8888888888888888}, \"1.7633136094674557\": {\"frequency\": 1, \"value\": 1.7633136094674557}, \"0.33333333333333326\": {\"frequency\": 8, \"value\": 0.33333333333333326}, \"1.036144578313253\": {\"frequency\": 1, \"value\": 1.036144578313253}, \"1.7234042553191489\": {\"frequency\": 25, \"value\": 1.7234042553191489}, \"1.4833333333333334\": {\"frequency\": 1, \"value\": 1.4833333333333334}, \"1.108910891089109\": {\"frequency\": 1, \"value\": 1.108910891089109}, \"1.416058394160584\": {\"frequency\": 1, \"value\": 1.416058394160584}, \"1.6470588235294117\": {\"frequency\": 135, \"value\": 1.6470588235294117}, \"1.7516339869281046\": {\"frequency\": 2, \"value\": 1.7516339869281046}, \"1.148936170212766\": {\"frequency\": 3, \"value\": 1.148936170212766}, \"1.2105263157894737\": {\"frequency\": 6, \"value\": 1.2105263157894737}, \"0.7804878048780488\": {\"frequency\": 2, \"value\": 0.7804878048780488}, \"0.5128205128205128\": {\"frequency\": 2, \"value\": 0.5128205128205128}, \"0.736842105263158\": {\"frequency\": 3, \"value\": 0.736842105263158}, \"0.9538461538461538\": {\"frequency\": 5, \"value\": 0.9538461538461538}, \"0.9803921568627452\": {\"frequency\": 2, \"value\": 0.9803921568627452}, \"1.768421052631579\": {\"frequency\": 27, \"value\": 1.768421052631579}, \"1.6103896103896105\": {\"frequency\": 23, \"value\": 1.6103896103896105}, \"1.5072463768115942\": {\"frequency\": 10, \"value\": 1.5072463768115942}, \"1.7906976744186047\": {\"frequency\": 24, \"value\": 1.7906976744186047}, \"0.19999999999999996\": {\"frequency\": 2, \"value\": 0.19999999999999996}, \"1.4698795180722892\": {\"frequency\": 3, \"value\": 1.4698795180722892}, \"1.6814159292035398\": {\"frequency\": 26, \"value\": 1.6814159292035398}, \"1.3902439024390243\": {\"frequency\": 4, \"value\": 1.3902439024390243}, \"0.5573770491803278\": {\"frequency\": 2, \"value\": 0.5573770491803278}, \"1.0333333333333332\": {\"frequency\": 1, \"value\": 1.0333333333333332}, \"1.7236842105263157\": {\"frequency\": 1, \"value\": 1.7236842105263157}, \"1.3947368421052633\": {\"frequency\": 4, \"value\": 1.3947368421052633}, \"1.703056768558952\": {\"frequency\": 1, \"value\": 1.703056768558952}, \"1.6031746031746033\": {\"frequency\": 2, \"value\": 1.6031746031746033}, \"0.9655172413793103\": {\"frequency\": 4, \"value\": 0.9655172413793103}, \"0.35483870967741926\": {\"frequency\": 1, \"value\": 0.35483870967741926}, \"1.7555555555555555\": {\"frequency\": 20, \"value\": 1.7555555555555555}, \"1.4242424242424243\": {\"frequency\": 12, \"value\": 1.4242424242424243}, \"1.7342657342657342\": {\"frequency\": 4, \"value\": 1.7342657342657342}, \"1.2162162162162162\": {\"frequency\": 2, \"value\": 1.2162162162162162}, \"1.8761061946902655\": {\"frequency\": 3, \"value\": 1.8761061946902655}, \"1.5934959349593496\": {\"frequency\": 2, \"value\": 1.5934959349593496}, \"1.1794871794871795\": {\"frequency\": 10, \"value\": 1.1794871794871795}, \"1.2307692307692308\": {\"frequency\": 20, \"value\": 1.2307692307692308}, \"1.208791208791209\": {\"frequency\": 3, \"value\": 1.208791208791209}, \"1.6140350877192984\": {\"frequency\": 21, \"value\": 1.6140350877192984}, \"1.7\": {\"frequency\": 139, \"value\": 1.7}, \"1.135135135135135\": {\"frequency\": 2, \"value\": 1.135135135135135}, \"1.0891089108910892\": {\"frequency\": 1, \"value\": 1.0891089108910892}, \"1.8502673796791445\": {\"frequency\": 1, \"value\": 1.8502673796791445}, \"1.5130434782608695\": {\"frequency\": 3, \"value\": 1.5130434782608695}, \"1.542857142857143\": {\"frequency\": 28, \"value\": 1.542857142857143}, \"1.776\": {\"frequency\": 7, \"value\": 1.776}, \"1.7164179104477613\": {\"frequency\": 1, \"value\": 1.7164179104477613}, \"0.4782608695652173\": {\"frequency\": 3, \"value\": 0.4782608695652173}, \"1.913978494623656\": {\"frequency\": 1, \"value\": 1.913978494623656}, \"1.6952380952380952\": {\"frequency\": 8, \"value\": 1.6952380952380952}, \"1.6848484848484848\": {\"frequency\": 1, \"value\": 1.6848484848484848}, \"1.876923076923077\": {\"frequency\": 11, \"value\": 1.876923076923077}, \"1.5223880597014925\": {\"frequency\": 9, \"value\": 1.5223880597014925}, \"1.2710280373831777\": {\"frequency\": 1, \"value\": 1.2710280373831777}, \"1.6240601503759398\": {\"frequency\": 1, \"value\": 1.6240601503759398}, \"1.1717171717171717\": {\"frequency\": 1, \"value\": 1.1717171717171717}, \"1.2098765432098766\": {\"frequency\": 2, \"value\": 1.2098765432098766}, \"0.5517241379310345\": {\"frequency\": 3, \"value\": 0.5517241379310345}, \"1.7122302158273381\": {\"frequency\": 2, \"value\": 1.7122302158273381}, \"1.8715596330275228\": {\"frequency\": 4, \"value\": 1.8715596330275228}, \"1.8947368421052633\": {\"frequency\": 30, \"value\": 1.8947368421052633}, \"1.8354430379746836\": {\"frequency\": 1, \"value\": 1.8354430379746836}, \"1.0731707317073171\": {\"frequency\": 4, \"value\": 1.0731707317073171}, \"1.0869565217391304\": {\"frequency\": 5, \"value\": 1.0869565217391304}, \"1.1192660550458715\": {\"frequency\": 1, \"value\": 1.1192660550458715}, \"1.819672131147541\": {\"frequency\": 1, \"value\": 1.819672131147541}, \"1.7431192660550459\": {\"frequency\": 25, \"value\": 1.7431192660550459}, \"0.3529411764705883\": {\"frequency\": 1, \"value\": 0.3529411764705883}, \"1.462686567164179\": {\"frequency\": 9, \"value\": 1.462686567164179}, \"0.7441860465116279\": {\"frequency\": 5, \"value\": 0.7441860465116279}, \"1.6991150442477876\": {\"frequency\": 10, \"value\": 1.6991150442477876}, \"1.7565217391304349\": {\"frequency\": 12, \"value\": 1.7565217391304349}, \"1.614678899082569\": {\"frequency\": 3, \"value\": 1.614678899082569}, \"1.8103448275862069\": {\"frequency\": 3, \"value\": 1.8103448275862069}, \"1.7938144329896908\": {\"frequency\": 14, \"value\": 1.7938144329896908}, \"1.2954545454545454\": {\"frequency\": 2, \"value\": 1.2954545454545454}, \"1.7876106194690267\": {\"frequency\": 7, \"value\": 1.7876106194690267}, \"0.8135593220338984\": {\"frequency\": 1, \"value\": 0.8135593220338984}, \"0.8923076923076922\": {\"frequency\": 2, \"value\": 0.8923076923076922}, \"1.5909090909090908\": {\"frequency\": 27, \"value\": 1.5909090909090908}, \"1.4563106796116505\": {\"frequency\": 3, \"value\": 1.4563106796116505}, \"1.5248618784530388\": {\"frequency\": 1, \"value\": 1.5248618784530388}, \"1.8604651162790697\": {\"frequency\": 38, \"value\": 1.8604651162790697}, \"1.4166666666666665\": {\"frequency\": 20, \"value\": 1.4166666666666665}, \"1.643835616438356\": {\"frequency\": 12, \"value\": 1.643835616438356}, \"1.8157894736842106\": {\"frequency\": 23, \"value\": 1.8157894736842106}, \"1.5806451612903225\": {\"frequency\": 14, \"value\": 1.5806451612903225}, \"0.6268656716417911\": {\"frequency\": 1, \"value\": 0.6268656716417911}, \"1.3176470588235294\": {\"frequency\": 1, \"value\": 1.3176470588235294}, \"1.5853658536585367\": {\"frequency\": 21, \"value\": 1.5853658536585367}, \"1.8504672897196262\": {\"frequency\": 9, \"value\": 1.8504672897196262}, \"1.4222222222222223\": {\"frequency\": 18, \"value\": 1.4222222222222223}, \"1.7175141242937852\": {\"frequency\": 1, \"value\": 1.7175141242937852}, \"1.7709923664122138\": {\"frequency\": 3, \"value\": 1.7709923664122138}, \"1.3984962406015038\": {\"frequency\": 1, \"value\": 1.3984962406015038}, \"1.7402597402597402\": {\"frequency\": 43, \"value\": 1.7402597402597402}, \"1.152542372881356\": {\"frequency\": 1, \"value\": 1.152542372881356}, \"0.8\": {\"frequency\": 21, \"value\": 0.8}, \"0.55\": {\"frequency\": 2, \"value\": 0.55}, \"1.563380281690141\": {\"frequency\": 1, \"value\": 1.563380281690141}, \"1.7341772151898733\": {\"frequency\": 3, \"value\": 1.7341772151898733}, \"1.3761467889908257\": {\"frequency\": 1, \"value\": 1.3761467889908257}, \"1.766990291262136\": {\"frequency\": 18, \"value\": 1.766990291262136}, \"1.5576923076923077\": {\"frequency\": 9, \"value\": 1.5576923076923077}, \"1.755868544600939\": {\"frequency\": 1, \"value\": 1.755868544600939}, \"1.3461538461538463\": {\"frequency\": 9, \"value\": 1.3461538461538463}, \"0.4761904761904763\": {\"frequency\": 1, \"value\": 0.4761904761904763}, \"0.49411764705882355\": {\"frequency\": 1, \"value\": 0.49411764705882355}, \"1.8018018018018018\": {\"frequency\": 8, \"value\": 1.8018018018018018}, \"1.7746478873239437\": {\"frequency\": 29, \"value\": 1.7746478873239437}, \"1.715736040609137\": {\"frequency\": 1, \"value\": 1.715736040609137}, \"1.1401869158878504\": {\"frequency\": 1, \"value\": 1.1401869158878504}, \"1.7423312883435582\": {\"frequency\": 2, \"value\": 1.7423312883435582}, \"1.6400000000000001\": {\"frequency\": 54, \"value\": 1.6400000000000001}, \"1.690721649484536\": {\"frequency\": 14, \"value\": 1.690721649484536}, \"1.3012048192771084\": {\"frequency\": 2, \"value\": 1.3012048192771084}, \"1.2727272727272727\": {\"frequency\": 23, \"value\": 1.2727272727272727}, \"1.361904761904762\": {\"frequency\": 1, \"value\": 1.361904761904762}, \"1.7851239669421488\": {\"frequency\": 3, \"value\": 1.7851239669421488}, \"1.2876712328767124\": {\"frequency\": 2, \"value\": 1.2876712328767124}, \"1.6533333333333333\": {\"frequency\": 32, \"value\": 1.6533333333333333}, \"1.8024691358024691\": {\"frequency\": 22, \"value\": 1.8024691358024691}, \"1.6612903225806452\": {\"frequency\": 4, \"value\": 1.6612903225806452}, \"1.1944444444444444\": {\"frequency\": 1, \"value\": 1.1944444444444444}, \"1.3541666666666665\": {\"frequency\": 2, \"value\": 1.3541666666666665}, \"1.7252747252747254\": {\"frequency\": 1, \"value\": 1.7252747252747254}, \"1.8383838383838385\": {\"frequency\": 13, \"value\": 1.8383838383838385}, \"0.8363636363636364\": {\"frequency\": 3, \"value\": 0.8363636363636364}, \"0.8064516129032258\": {\"frequency\": 1, \"value\": 0.8064516129032258}, \"1.7483443708609272\": {\"frequency\": 3, \"value\": 1.7483443708609272}, \"1.8051948051948052\": {\"frequency\": 1, \"value\": 1.8051948051948052}, \"1.5971223021582734\": {\"frequency\": 1, \"value\": 1.5971223021582734}, \"1.7536231884057971\": {\"frequency\": 5, \"value\": 1.7536231884057971}, \"1.6617647058823528\": {\"frequency\": 1, \"value\": 1.6617647058823528}, \"1.7349397590361446\": {\"frequency\": 28, \"value\": 1.7349397590361446}, \"1.6951219512195121\": {\"frequency\": 1, \"value\": 1.6951219512195121}, \"1.0495049504950495\": {\"frequency\": 1, \"value\": 1.0495049504950495}, \"1.3015873015873016\": {\"frequency\": 10, \"value\": 1.3015873015873016}, \"1.825242718446602\": {\"frequency\": 15, \"value\": 1.825242718446602}, \"1.9285714285714286\": {\"frequency\": 2, \"value\": 1.9285714285714286}, \"1.9047619047619047\": {\"frequency\": 22, \"value\": 1.9047619047619047}, \"1.5254237288135593\": {\"frequency\": 8, \"value\": 1.5254237288135593}, \"1.7954545454545454\": {\"frequency\": 19, \"value\": 1.7954545454545454}, \"1.4683544303797469\": {\"frequency\": 5, \"value\": 1.4683544303797469}, \"1.518987341772152\": {\"frequency\": 5, \"value\": 1.518987341772152}, \"1.7235772357723578\": {\"frequency\": 6, \"value\": 1.7235772357723578}, \"1.6043956043956045\": {\"frequency\": 16, \"value\": 1.6043956043956045}, \"1.8070175438596492\": {\"frequency\": 12, \"value\": 1.8070175438596492}, \"1.5675675675675675\": {\"frequency\": 35, \"value\": 1.5675675675675675}, \"1.8150289017341041\": {\"frequency\": 1, \"value\": 1.8150289017341041}, \"1.6049382716049383\": {\"frequency\": 11, \"value\": 1.6049382716049383}, \"1.088888888888889\": {\"frequency\": 1, \"value\": 1.088888888888889}, \"0.8787878787878789\": {\"frequency\": 1, \"value\": 0.8787878787878789}, \"0.45783132530120474\": {\"frequency\": 1, \"value\": 0.45783132530120474}, \"1.4098360655737705\": {\"frequency\": 6, \"value\": 1.4098360655737705}, \"1.7163120567375887\": {\"frequency\": 6, \"value\": 1.7163120567375887}, \"1.2058823529411766\": {\"frequency\": 1, \"value\": 1.2058823529411766}, \"1.3833333333333333\": {\"frequency\": 2, \"value\": 1.3833333333333333}, \"1.5609756097560976\": {\"frequency\": 42, \"value\": 1.5609756097560976}, \"1.7372262773722627\": {\"frequency\": 4, \"value\": 1.7372262773722627}, \"1.025\": {\"frequency\": 2, \"value\": 1.025}, \"1.3698630136986303\": {\"frequency\": 5, \"value\": 1.3698630136986303}, \"1.6578947368421053\": {\"frequency\": 26, \"value\": 1.6578947368421053}, \"1.821917808219178\": {\"frequency\": 1, \"value\": 1.821917808219178}, \"1.4252873563218391\": {\"frequency\": 1, \"value\": 1.4252873563218391}, \"1.699248120300752\": {\"frequency\": 5, \"value\": 1.699248120300752}, \"1.87012987012987\": {\"frequency\": 6, \"value\": 1.87012987012987}, \"1.25\": {\"frequency\": 39, \"value\": 1.25}, \"1.7763975155279503\": {\"frequency\": 1, \"value\": 1.7763975155279503}, \"1.3670886075949367\": {\"frequency\": 2, \"value\": 1.3670886075949367}, \"0.9024390243902438\": {\"frequency\": 1, \"value\": 0.9024390243902438}, \"1.883495145631068\": {\"frequency\": 3, \"value\": 1.883495145631068}, \"1.453125\": {\"frequency\": 1, \"value\": 1.453125}, \"1.5766423357664234\": {\"frequency\": 1, \"value\": 1.5766423357664234}, \"1.7613636363636362\": {\"frequency\": 3, \"value\": 1.7613636363636362}, \"1.5700934579439252\": {\"frequency\": 3, \"value\": 1.5700934579439252}, \"1.82\": {\"frequency\": 15, \"value\": 1.82}, \"1.728\": {\"frequency\": 7, \"value\": 1.728}, \"1.8333333333333333\": {\"frequency\": 167, \"value\": 1.8333333333333333}, \"1.3064516129032258\": {\"frequency\": 1, \"value\": 1.3064516129032258}, \"1.8363636363636364\": {\"frequency\": 6, \"value\": 1.8363636363636364}, \"1.796875\": {\"frequency\": 4, \"value\": 1.796875}, \"0.9135802469135803\": {\"frequency\": 1, \"value\": 0.9135802469135803}, \"1.783132530120482\": {\"frequency\": 36, \"value\": 1.783132530120482}, \"0.7241379310344827\": {\"frequency\": 1, \"value\": 0.7241379310344827}, \"1.7569060773480663\": {\"frequency\": 1, \"value\": 1.7569060773480663}, \"1.2950819672131146\": {\"frequency\": 1, \"value\": 1.2950819672131146}, \"1.6458333333333333\": {\"frequency\": 14, \"value\": 1.6458333333333333}, \"1.763779527559055\": {\"frequency\": 5, \"value\": 1.763779527559055}, \"1.7682403433476395\": {\"frequency\": 1, \"value\": 1.7682403433476395}, \"0.9189189189189189\": {\"frequency\": 7, \"value\": 0.9189189189189189}, \"1.5789473684210527\": {\"frequency\": 68, \"value\": 1.5789473684210527}, \"1.473684210526316\": {\"frequency\": 41, \"value\": 1.473684210526316}, \"1.7380952380952381\": {\"frequency\": 39, \"value\": 1.7380952380952381}, \"1.6082474226804124\": {\"frequency\": 13, \"value\": 1.6082474226804124}, \"1.849624060150376\": {\"frequency\": 2, \"value\": 1.849624060150376}, \"1.1325301204819276\": {\"frequency\": 1, \"value\": 1.1325301204819276}, \"0.5396825396825398\": {\"frequency\": 1, \"value\": 0.5396825396825398}, \"1.4205607476635516\": {\"frequency\": 1, \"value\": 1.4205607476635516}, \"0.6376811594202898\": {\"frequency\": 1, \"value\": 0.6376811594202898}, \"1.9310344827586208\": {\"frequency\": 7, \"value\": 1.9310344827586208}, \"1.4181818181818182\": {\"frequency\": 16, \"value\": 1.4181818181818182}, \"1.4022988505747125\": {\"frequency\": 1, \"value\": 1.4022988505747125}, \"0.37037037037037046\": {\"frequency\": 3, \"value\": 0.37037037037037046}, \"1.2241379310344827\": {\"frequency\": 1, \"value\": 1.2241379310344827}, \"1.7752808988764044\": {\"frequency\": 32, \"value\": 1.7752808988764044}, \"1.120879120879121\": {\"frequency\": 2, \"value\": 1.120879120879121}, \"1.574468085106383\": {\"frequency\": 33, \"value\": 1.574468085106383}, \"1.8238341968911918\": {\"frequency\": 1, \"value\": 1.8238341968911918}, \"0.59375\": {\"frequency\": 1, \"value\": 0.59375}, \"1.5662650602409638\": {\"frequency\": 8, \"value\": 1.5662650602409638}, \"1.2537313432835822\": {\"frequency\": 2, \"value\": 1.2537313432835822}, \"1.8053097345132743\": {\"frequency\": 6, \"value\": 1.8053097345132743}, \"1.7972972972972974\": {\"frequency\": 2, \"value\": 1.7972972972972974}, \"1.6149068322981366\": {\"frequency\": 1, \"value\": 1.6149068322981366}, \"1.725\": {\"frequency\": 31, \"value\": 1.725}, \"1.6528925619834711\": {\"frequency\": 4, \"value\": 1.6528925619834711}, \"1.8876404494382022\": {\"frequency\": 3, \"value\": 1.8876404494382022}, \"1.2222222222222223\": {\"frequency\": 15, \"value\": 1.2222222222222223}, \"1.5045871559633026\": {\"frequency\": 1, \"value\": 1.5045871559633026}, \"1.7264957264957266\": {\"frequency\": 5, \"value\": 1.7264957264957266}, \"0.5925925925925926\": {\"frequency\": 4, \"value\": 0.5925925925925926}, \"0.8148148148148149\": {\"frequency\": 5, \"value\": 0.8148148148148149}, \"1.8476190476190477\": {\"frequency\": 7, \"value\": 1.8476190476190477}, \"1.8055555555555556\": {\"frequency\": 29, \"value\": 1.8055555555555556}, \"1.5826086956521739\": {\"frequency\": 3, \"value\": 1.5826086956521739}}, \"mean\": 1.6205585827730398}, \"selected_variable\": {\"name\": [\"<SArray>\"], \"dtype\": \"float\", \"view_component\": \"Numeric\", \"view_file\": \"sarray\", \"descriptives\": {\"rows\": 32260}, \"type\": \"SArray\", \"view_components\": [\"Numeric\", \"Categorical\"]}, \"histogram\": {\"progress\": 1.0, \"histogram\": {\"max\": 1.945945945945946, \"bins\": [129, 65, 100, 176, 240, 427, 653, 1136, 2161, 5133, 15442, 6598], \"min\": -0.012972972972972951}, \"min\": 0.0, \"complete\": 1, \"max\": 1.935483870967742}}, e);\n",
       "                });\n",
       "            })();\n",
       "        "
      ]
     },
     "metadata": {},
     "output_type": "display_data"
    }
   ],
   "source": [
    "results['distance'].show()"
   ]
  },
  {
   "cell_type": "code",
   "execution_count": 23,
   "metadata": {
    "collapsed": false,
    "scrolled": true
   },
   "outputs": [
    {
     "name": "stdout",
     "output_type": "stream",
     "text": [
      "Accuracy: 0.921538461538\n",
      "Possible number of results to go through: 12853\n"
     ]
    }
   ],
   "source": [
    "results = num_linker.link(google, k=None, radius=1.61, verbose=False)\n",
    "\n",
    "print 'Accuracy:', accuracy_at(results, truth)\n",
    "print 'Possible number of results to go through:', len(results)"
   ]
  }
 ],
 "metadata": {
  "kernelspec": {
   "display_name": "Python 2",
   "language": "python",
   "name": "python2"
  },
  "language_info": {
   "codemirror_mode": {
    "name": "ipython",
    "version": 2
   },
   "file_extension": ".py",
   "mimetype": "text/x-python",
   "name": "python",
   "nbconvert_exporter": "python",
   "pygments_lexer": "ipython2",
   "version": "2.7.11"
  }
 },
 "nbformat": 4,
 "nbformat_minor": 0
}
