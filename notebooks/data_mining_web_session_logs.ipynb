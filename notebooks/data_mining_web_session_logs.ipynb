{
 "cells": [
  {
   "cell_type": "heading",
   "level": 1,
   "metadata": {},
   "source": [
    "Data Mining Web Session Logs"
   ]
  },
  {
   "cell_type": "code",
   "execution_count": 2,
   "metadata": {
    "collapsed": false
   },
   "outputs": [],
   "source": [
    "import graphlab as gl"
   ]
  },
  {
   "cell_type": "markdown",
   "metadata": {},
   "source": [
    "Read web session date"
   ]
  },
  {
   "cell_type": "code",
   "execution_count": 3,
   "metadata": {
    "collapsed": false
   },
   "outputs": [
    {
     "name": "stderr",
     "output_type": "stream",
     "text": [
      "[INFO] \u001b[1;32m1453284685 : INFO:     (initialize_globals_from_environment:282): Setting configuration variable GRAPHLAB_FILEIO_ALTERNATIVE_SSL_CERT_FILE to /Library/Python/2.7/site-packages/certifi/cacert.pem\n",
      "\u001b[0m\u001b[1;32m1453284685 : INFO:     (initialize_globals_from_environment:282): Setting configuration variable GRAPHLAB_FILEIO_ALTERNATIVE_SSL_CERT_DIR to \n",
      "\u001b[0mThis non-commercial license of GraphLab Create is assigned to mkacenak@csob.cz and will expire on February 15, 2016. For commercial licensing options, visit https://turi.com/buy/.\n",
      "\n",
      "[INFO] Start server at: ipc:///tmp/graphlab_server-469 - Server binary: /Library/Python/2.7/site-packages/graphlab/unity_server - Server log: /tmp/graphlab_server_1453284685.log\n",
      "[INFO] GraphLab Server Version: 1.7.1\n"
     ]
    }
   ],
   "source": [
    "# read some web session\n",
    "data = gl.SFrame('session.sf')"
   ]
  },
  {
   "cell_type": "code",
   "execution_count": 4,
   "metadata": {
    "collapsed": false
   },
   "outputs": [
    {
     "data": {
      "text/plain": [
       "355909"
      ]
     },
     "execution_count": 4,
     "metadata": {},
     "output_type": "execute_result"
    }
   ],
   "source": [
    "data.num_rows()"
   ]
  },
  {
   "cell_type": "markdown",
   "metadata": {},
   "source": [
    "### Viewing data"
   ]
  },
  {
   "cell_type": "markdown",
   "metadata": {},
   "source": [
    "I can emit several commands to see that we are working with a fairly tame dataset.  After all, we only have five columns.  "
   ]
  },
  {
   "cell_type": "code",
   "execution_count": 5,
   "metadata": {
    "collapsed": false
   },
   "outputs": [
    {
     "data": {
      "text/html": [
       "<div style=\"max-height:1000px;max-width:1500px;overflow:auto;\"><table frame=\"box\" rules=\"cols\">\n",
       "    <tr>\n",
       "        <th style=\"padding-left: 1em; padding-right: 1em; text-align: center\">guid</th>\n",
       "        <th style=\"padding-left: 1em; padding-right: 1em; text-align: center\">date</th>\n",
       "        <th style=\"padding-left: 1em; padding-right: 1em; text-align: center\">time</th>\n",
       "        <th style=\"padding-left: 1em; padding-right: 1em; text-align: center\">country</th>\n",
       "        <th style=\"padding-left: 1em; padding-right: 1em; text-align: center\">browser</th>\n",
       "        <th style=\"padding-left: 1em; padding-right: 1em; text-align: center\">url</th>\n",
       "    </tr>\n",
       "    <tr>\n",
       "        <td style=\"padding-left: 1em; padding-right: 1em; text-align: center; vertical-align: top\">ibic=89C2874366054211A7DC<br>3655728DCD55IE ...</td>\n",
       "        <td style=\"padding-left: 1em; padding-right: 1em; text-align: center; vertical-align: top\">2014-06-08</td>\n",
       "        <td style=\"padding-left: 1em; padding-right: 1em; text-align: center; vertical-align: top\">00:00:28</td>\n",
       "        <td style=\"padding-left: 1em; padding-right: 1em; text-align: center; vertical-align: top\">DE</td>\n",
       "        <td style=\"padding-left: 1em; padding-right: 1em; text-align: center; vertical-align: top\">CH</td>\n",
       "        <td style=\"padding-left: 1em; padding-right: 1em; text-align: center; vertical-align: top\">https://bankingportal<br>.sparkasse-haslach-ze ...</td>\n",
       "    </tr>\n",
       "    <tr>\n",
       "        <td style=\"padding-left: 1em; padding-right: 1em; text-align: center; vertical-align: top\">ibic=3EB3304A0267409BA614<br>8AC625A6A4FEIE ...</td>\n",
       "        <td style=\"padding-left: 1em; padding-right: 1em; text-align: center; vertical-align: top\">2014-06-08</td>\n",
       "        <td style=\"padding-left: 1em; padding-right: 1em; text-align: center; vertical-align: top\">00:00:28</td>\n",
       "        <td style=\"padding-left: 1em; padding-right: 1em; text-align: center; vertical-align: top\">DE</td>\n",
       "        <td style=\"padding-left: 1em; padding-right: 1em; text-align: center; vertical-align: top\">CH</td>\n",
       "        <td style=\"padding-left: 1em; padding-right: 1em; text-align: center; vertical-align: top\">https://www.stargames.net<br>/web/Games-Details?la ...</td>\n",
       "    </tr>\n",
       "    <tr>\n",
       "        <td style=\"padding-left: 1em; padding-right: 1em; text-align: center; vertical-align: top\">ibic=09CF6B52D105462DB9CD<br>8B2B1A0501FDIE ...</td>\n",
       "        <td style=\"padding-left: 1em; padding-right: 1em; text-align: center; vertical-align: top\">2014-06-08</td>\n",
       "        <td style=\"padding-left: 1em; padding-right: 1em; text-align: center; vertical-align: top\">00:00:29</td>\n",
       "        <td style=\"padding-left: 1em; padding-right: 1em; text-align: center; vertical-align: top\">DE</td>\n",
       "        <td style=\"padding-left: 1em; padding-right: 1em; text-align: center; vertical-align: top\">FF</td>\n",
       "        <td style=\"padding-left: 1em; padding-right: 1em; text-align: center; vertical-align: top\">http://www.youtube.com/us<br>er/PandoriumLP/videos ...</td>\n",
       "    </tr>\n",
       "</table>\n",
       "<table frame=\"box\" rules=\"cols\">\n",
       "    <tr>\n",
       "        <th style=\"padding-left: 1em; padding-right: 1em; text-align: center\">query</th>\n",
       "        <th style=\"padding-left: 1em; padding-right: 1em; text-align: center\">domain</th>\n",
       "        <th style=\"padding-left: 1em; padding-right: 1em; text-align: center\">top_domain</th>\n",
       "        <th style=\"padding-left: 1em; padding-right: 1em; text-align: center\">ip</th>\n",
       "    </tr>\n",
       "    <tr>\n",
       "        <td style=\"padding-left: 1em; padding-right: 1em; text-align: center; vertical-align: top\">campaign=000817&amp;bic=14338<br>be00eabb20b934f264cc6 ...</td>\n",
       "        <td style=\"padding-left: 1em; padding-right: 1em; text-align: center; vertical-align: top\">bankingportal.sparkasse-<br>haslach-zell.de ...</td>\n",
       "        <td style=\"padding-left: 1em; padding-right: 1em; text-align: center; vertical-align: top\">sparkasse-haslach-zell.de</td>\n",
       "        <td style=\"padding-left: 1em; padding-right: 1em; text-align: center; vertical-align: top\">3608</td>\n",
       "    </tr>\n",
       "    <tr>\n",
       "        <td style=\"padding-left: 1em; padding-right: 1em; text-align: center; vertical-align: top\">campaign=000817&amp;bic=14325<br>f4197caf0be991d9d7852 ...</td>\n",
       "        <td style=\"padding-left: 1em; padding-right: 1em; text-align: center; vertical-align: top\">www.stargames.net</td>\n",
       "        <td style=\"padding-left: 1em; padding-right: 1em; text-align: center; vertical-align: top\">stargames.net</td>\n",
       "        <td style=\"padding-left: 1em; padding-right: 1em; text-align: center; vertical-align: top\">5308</td>\n",
       "    </tr>\n",
       "    <tr>\n",
       "        <td style=\"padding-left: 1em; padding-right: 1em; text-align: center; vertical-align: top\">campaign=000817&amp;bic=143f7<br>b26a579d4795a4a41d776 ...</td>\n",
       "        <td style=\"padding-left: 1em; padding-right: 1em; text-align: center; vertical-align: top\">www.youtube.com</td>\n",
       "        <td style=\"padding-left: 1em; padding-right: 1em; text-align: center; vertical-align: top\">youtube.com</td>\n",
       "        <td style=\"padding-left: 1em; padding-right: 1em; text-align: center; vertical-align: top\">7053</td>\n",
       "    </tr>\n",
       "</table>\n",
       "[3 rows x 10 columns]<br/>\n",
       "</div>"
      ],
      "text/plain": [
       "Columns:\n",
       "\tguid\tstr\n",
       "\tdate\tstr\n",
       "\ttime\tstr\n",
       "\tcountry\tstr\n",
       "\tbrowser\tstr\n",
       "\turl\tstr\n",
       "\tquery\tstr\n",
       "\tdomain\tstr\n",
       "\ttop_domain\tstr\n",
       "\tip\tstr\n",
       "\n",
       "Rows: 3\n",
       "\n",
       "Data:\n",
       "+-------------------------------+------------+----------+---------+---------+\n",
       "|              guid             |    date    |   time   | country | browser |\n",
       "+-------------------------------+------------+----------+---------+---------+\n",
       "| ibic=89C2874366054211A7DC3... | 2014-06-08 | 00:00:28 |    DE   |    CH   |\n",
       "| ibic=3EB3304A0267409BA6148... | 2014-06-08 | 00:00:28 |    DE   |    CH   |\n",
       "| ibic=09CF6B52D105462DB9CD8... | 2014-06-08 | 00:00:29 |    DE   |    FF   |\n",
       "+-------------------------------+------------+----------+---------+---------+\n",
       "+-------------------------------+-------------------------------+\n",
       "|              url              |             query             |\n",
       "+-------------------------------+-------------------------------+\n",
       "| https://bankingportal.spar... | campaign=000817&bic=14338b... |\n",
       "| https://www.stargames.net/... | campaign=000817&bic=14325f... |\n",
       "| http://www.youtube.com/use... | campaign=000817&bic=143f7b... |\n",
       "+-------------------------------+-------------------------------+\n",
       "+-------------------------------+---------------------------+------+\n",
       "|             domain            |         top_domain        |  ip  |\n",
       "+-------------------------------+---------------------------+------+\n",
       "| bankingportal.sparkasse-ha... | sparkasse-haslach-zell.de | 3608 |\n",
       "|       www.stargames.net       |       stargames.net       | 5308 |\n",
       "|        www.youtube.com        |        youtube.com        | 7053 |\n",
       "+-------------------------------+---------------------------+------+\n",
       "[3 rows x 10 columns]"
      ]
     },
     "execution_count": 5,
     "metadata": {},
     "output_type": "execute_result"
    }
   ],
   "source": [
    "data.head(3)"
   ]
  },
  {
   "cell_type": "code",
   "execution_count": 6,
   "metadata": {
    "collapsed": false
   },
   "outputs": [
    {
     "name": "stdout",
     "output_type": "stream",
     "text": [
      "Canvas is accessible via web browser at the URL: http://localhost:49843/index.html\n",
      "Opening Canvas in default web browser.\n"
     ]
    }
   ],
   "source": [
    "data.show()"
   ]
  },
  {
   "cell_type": "markdown",
   "metadata": {},
   "source": [
    "### ETL and statistics"
   ]
  },
  {
   "cell_type": "markdown",
   "metadata": {},
   "source": [
    "Alright, I want a little more out of this SFrame. I want to add a few columns. Let's split the date and time columns into thier components."
   ]
  },
  {
   "cell_type": "code",
   "execution_count": 7,
   "metadata": {
    "collapsed": false
   },
   "outputs": [
    {
     "data": {
      "text/html": [
       "<div style=\"max-height:1000px;max-width:1500px;overflow:auto;\"><table frame=\"box\" rules=\"cols\">\n",
       "    <tr>\n",
       "        <th style=\"padding-left: 1em; padding-right: 1em; text-align: center\">guid</th>\n",
       "        <th style=\"padding-left: 1em; padding-right: 1em; text-align: center\">date</th>\n",
       "        <th style=\"padding-left: 1em; padding-right: 1em; text-align: center\">time</th>\n",
       "        <th style=\"padding-left: 1em; padding-right: 1em; text-align: center\">country</th>\n",
       "        <th style=\"padding-left: 1em; padding-right: 1em; text-align: center\">browser</th>\n",
       "        <th style=\"padding-left: 1em; padding-right: 1em; text-align: center\">url</th>\n",
       "    </tr>\n",
       "    <tr>\n",
       "        <td style=\"padding-left: 1em; padding-right: 1em; text-align: center; vertical-align: top\">ibic=89C2874366054211A7DC<br>3655728DCD55IE ...</td>\n",
       "        <td style=\"padding-left: 1em; padding-right: 1em; text-align: center; vertical-align: top\">2014-06-08</td>\n",
       "        <td style=\"padding-left: 1em; padding-right: 1em; text-align: center; vertical-align: top\">00:00:28</td>\n",
       "        <td style=\"padding-left: 1em; padding-right: 1em; text-align: center; vertical-align: top\">DE</td>\n",
       "        <td style=\"padding-left: 1em; padding-right: 1em; text-align: center; vertical-align: top\">CH</td>\n",
       "        <td style=\"padding-left: 1em; padding-right: 1em; text-align: center; vertical-align: top\">https://bankingportal<br>.sparkasse-haslach-ze ...</td>\n",
       "    </tr>\n",
       "    <tr>\n",
       "        <td style=\"padding-left: 1em; padding-right: 1em; text-align: center; vertical-align: top\">ibic=3EB3304A0267409BA614<br>8AC625A6A4FEIE ...</td>\n",
       "        <td style=\"padding-left: 1em; padding-right: 1em; text-align: center; vertical-align: top\">2014-06-08</td>\n",
       "        <td style=\"padding-left: 1em; padding-right: 1em; text-align: center; vertical-align: top\">00:00:28</td>\n",
       "        <td style=\"padding-left: 1em; padding-right: 1em; text-align: center; vertical-align: top\">DE</td>\n",
       "        <td style=\"padding-left: 1em; padding-right: 1em; text-align: center; vertical-align: top\">CH</td>\n",
       "        <td style=\"padding-left: 1em; padding-right: 1em; text-align: center; vertical-align: top\">https://www.stargames.net<br>/web/Games-Details?la ...</td>\n",
       "    </tr>\n",
       "    <tr>\n",
       "        <td style=\"padding-left: 1em; padding-right: 1em; text-align: center; vertical-align: top\">ibic=09CF6B52D105462DB9CD<br>8B2B1A0501FDIE ...</td>\n",
       "        <td style=\"padding-left: 1em; padding-right: 1em; text-align: center; vertical-align: top\">2014-06-08</td>\n",
       "        <td style=\"padding-left: 1em; padding-right: 1em; text-align: center; vertical-align: top\">00:00:29</td>\n",
       "        <td style=\"padding-left: 1em; padding-right: 1em; text-align: center; vertical-align: top\">DE</td>\n",
       "        <td style=\"padding-left: 1em; padding-right: 1em; text-align: center; vertical-align: top\">FF</td>\n",
       "        <td style=\"padding-left: 1em; padding-right: 1em; text-align: center; vertical-align: top\">http://www.youtube.com/us<br>er/PandoriumLP/videos ...</td>\n",
       "    </tr>\n",
       "</table>\n",
       "<table frame=\"box\" rules=\"cols\">\n",
       "    <tr>\n",
       "        <th style=\"padding-left: 1em; padding-right: 1em; text-align: center\">query</th>\n",
       "        <th style=\"padding-left: 1em; padding-right: 1em; text-align: center\">domain</th>\n",
       "        <th style=\"padding-left: 1em; padding-right: 1em; text-align: center\">top_domain</th>\n",
       "        <th style=\"padding-left: 1em; padding-right: 1em; text-align: center\">ip</th>\n",
       "        <th style=\"padding-left: 1em; padding-right: 1em; text-align: center\">X.hour</th>\n",
       "        <th style=\"padding-left: 1em; padding-right: 1em; text-align: center\">X.minute</th>\n",
       "        <th style=\"padding-left: 1em; padding-right: 1em; text-align: center\">X.second</th>\n",
       "    </tr>\n",
       "    <tr>\n",
       "        <td style=\"padding-left: 1em; padding-right: 1em; text-align: center; vertical-align: top\">campaign=000817&amp;bic=14338<br>be00eabb20b934f264cc6 ...</td>\n",
       "        <td style=\"padding-left: 1em; padding-right: 1em; text-align: center; vertical-align: top\">bankingportal.sparkasse-<br>haslach-zell.de ...</td>\n",
       "        <td style=\"padding-left: 1em; padding-right: 1em; text-align: center; vertical-align: top\">sparkasse-haslach-zell.de</td>\n",
       "        <td style=\"padding-left: 1em; padding-right: 1em; text-align: center; vertical-align: top\">3608</td>\n",
       "        <td style=\"padding-left: 1em; padding-right: 1em; text-align: center; vertical-align: top\">0</td>\n",
       "        <td style=\"padding-left: 1em; padding-right: 1em; text-align: center; vertical-align: top\">0</td>\n",
       "        <td style=\"padding-left: 1em; padding-right: 1em; text-align: center; vertical-align: top\">28</td>\n",
       "    </tr>\n",
       "    <tr>\n",
       "        <td style=\"padding-left: 1em; padding-right: 1em; text-align: center; vertical-align: top\">campaign=000817&amp;bic=14325<br>f4197caf0be991d9d7852 ...</td>\n",
       "        <td style=\"padding-left: 1em; padding-right: 1em; text-align: center; vertical-align: top\">www.stargames.net</td>\n",
       "        <td style=\"padding-left: 1em; padding-right: 1em; text-align: center; vertical-align: top\">stargames.net</td>\n",
       "        <td style=\"padding-left: 1em; padding-right: 1em; text-align: center; vertical-align: top\">5308</td>\n",
       "        <td style=\"padding-left: 1em; padding-right: 1em; text-align: center; vertical-align: top\">0</td>\n",
       "        <td style=\"padding-left: 1em; padding-right: 1em; text-align: center; vertical-align: top\">0</td>\n",
       "        <td style=\"padding-left: 1em; padding-right: 1em; text-align: center; vertical-align: top\">28</td>\n",
       "    </tr>\n",
       "    <tr>\n",
       "        <td style=\"padding-left: 1em; padding-right: 1em; text-align: center; vertical-align: top\">campaign=000817&amp;bic=143f7<br>b26a579d4795a4a41d776 ...</td>\n",
       "        <td style=\"padding-left: 1em; padding-right: 1em; text-align: center; vertical-align: top\">www.youtube.com</td>\n",
       "        <td style=\"padding-left: 1em; padding-right: 1em; text-align: center; vertical-align: top\">youtube.com</td>\n",
       "        <td style=\"padding-left: 1em; padding-right: 1em; text-align: center; vertical-align: top\">7053</td>\n",
       "        <td style=\"padding-left: 1em; padding-right: 1em; text-align: center; vertical-align: top\">0</td>\n",
       "        <td style=\"padding-left: 1em; padding-right: 1em; text-align: center; vertical-align: top\">0</td>\n",
       "        <td style=\"padding-left: 1em; padding-right: 1em; text-align: center; vertical-align: top\">29</td>\n",
       "    </tr>\n",
       "</table>\n",
       "[3 rows x 13 columns]<br/>\n",
       "</div>"
      ],
      "text/plain": [
       "Columns:\n",
       "\tguid\tstr\n",
       "\tdate\tstr\n",
       "\ttime\tstr\n",
       "\tcountry\tstr\n",
       "\tbrowser\tstr\n",
       "\turl\tstr\n",
       "\tquery\tstr\n",
       "\tdomain\tstr\n",
       "\ttop_domain\tstr\n",
       "\tip\tstr\n",
       "\tX.hour\tint\n",
       "\tX.minute\tint\n",
       "\tX.second\tint\n",
       "\n",
       "Rows: 3\n",
       "\n",
       "Data:\n",
       "+-------------------------------+------------+----------+---------+---------+\n",
       "|              guid             |    date    |   time   | country | browser |\n",
       "+-------------------------------+------------+----------+---------+---------+\n",
       "| ibic=89C2874366054211A7DC3... | 2014-06-08 | 00:00:28 |    DE   |    CH   |\n",
       "| ibic=3EB3304A0267409BA6148... | 2014-06-08 | 00:00:28 |    DE   |    CH   |\n",
       "| ibic=09CF6B52D105462DB9CD8... | 2014-06-08 | 00:00:29 |    DE   |    FF   |\n",
       "+-------------------------------+------------+----------+---------+---------+\n",
       "+-------------------------------+-------------------------------+\n",
       "|              url              |             query             |\n",
       "+-------------------------------+-------------------------------+\n",
       "| https://bankingportal.spar... | campaign=000817&bic=14338b... |\n",
       "| https://www.stargames.net/... | campaign=000817&bic=14325f... |\n",
       "| http://www.youtube.com/use... | campaign=000817&bic=143f7b... |\n",
       "+-------------------------------+-------------------------------+\n",
       "+-------------------------------+---------------------------+------+--------+----------+\n",
       "|             domain            |         top_domain        |  ip  | X.hour | X.minute |\n",
       "+-------------------------------+---------------------------+------+--------+----------+\n",
       "| bankingportal.sparkasse-ha... | sparkasse-haslach-zell.de | 3608 |   0    |    0     |\n",
       "|       www.stargames.net       |       stargames.net       | 5308 |   0    |    0     |\n",
       "|        www.youtube.com        |        youtube.com        | 7053 |   0    |    0     |\n",
       "+-------------------------------+---------------------------+------+--------+----------+\n",
       "+----------+\n",
       "| X.second |\n",
       "+----------+\n",
       "|    28    |\n",
       "|    28    |\n",
       "|    29    |\n",
       "+----------+\n",
       "[3 rows x 13 columns]"
      ]
     },
     "execution_count": 7,
     "metadata": {},
     "output_type": "execute_result"
    }
   ],
   "source": [
    "\n",
    "\n",
    "def extract_time_fields(data):\n",
    "  time_splits = data.split()[0].split(':')\n",
    "  return {\n",
    "    'hour': int(time_splits[0]),\n",
    "    'minute': int(time_splits[1]),\n",
    "    'second': int(time_splits[2])\n",
    "  }\n",
    "\n",
    "time_splits = data['time'].apply(lambda x: extract_time_fields(x))\n",
    "data.add_columns(time_splits.unpack())\n",
    "\n",
    "data.head(3)"
   ]
  },
  {
   "cell_type": "markdown",
   "metadata": {},
   "source": [
    "# Usage by country"
   ]
  },
  {
   "cell_type": "code",
   "execution_count": 8,
   "metadata": {
    "collapsed": false
   },
   "outputs": [
    {
     "name": "stdout",
     "output_type": "stream",
     "text": [
      "+---------+-------+\n",
      "| country | Count |\n",
      "+---------+-------+\n",
      "|    DE   |  5994 |\n",
      "|    IR   |   12  |\n",
      "|    RO   |   10  |\n",
      "|    PL   |   10  |\n",
      "|    ES   |   9   |\n",
      "|    CH   |   8   |\n",
      "|    US   |   8   |\n",
      "|    IT   |   7   |\n",
      "|    GR   |   7   |\n",
      "|    FR   |   7   |\n",
      "+---------+-------+\n",
      "[10 rows x 2 columns]\n",
      "\n"
     ]
    }
   ],
   "source": [
    "import graphlab.aggregate as agg\n",
    "\n",
    "user_count = data.groupby(key_columns=['country','guid'],operations=agg.COUNT()) \\\n",
    "                 .groupby(key_columns='country', operations=agg.COUNT()) \\\n",
    "                 .topk('Count')\n",
    "print user_count"
   ]
  },
  {
   "cell_type": "markdown",
   "metadata": {},
   "source": [
    "#Graph Analytics"
   ]
  },
  {
   "cell_type": "code",
   "execution_count": 9,
   "metadata": {
    "collapsed": false
   },
   "outputs": [
    {
     "name": "stdout",
     "output_type": "stream",
     "text": [
      "PROGRESS: +-----------------------------+\n",
      "PROGRESS: | Number of components merged |\n",
      "PROGRESS: +-----------------------------+\n",
      "PROGRESS: | 23080                       |\n",
      "PROGRESS: | 0                           |\n",
      "PROGRESS: +-----------------------------+\n",
      "Connected components summary:\n",
      "Class                                   : ConnectedComponentsModel\n",
      "\n",
      "Graph\n",
      "-----\n",
      "num_edges                               : 711818\n",
      "num_vertices                            : 22985\n",
      "\n",
      "Results\n",
      "-------\n",
      "graph                                   : SGraph. See m['graph']\n",
      "component size                          : SFrame. See m['component_size']\n",
      "number of connected components          : 50\n",
      "vertex component id                     : SFrame. See m['componentid']\n",
      "\n",
      "Metrics\n",
      "-------\n",
      "training time (secs)                    : 8.5129\n",
      "\n",
      "Queryable Fields\n",
      "----------------\n",
      "graph                                   : A new SGraph with the color id as a vertex property\n",
      "component_id                            : An SFrame with each vertex's component id\n",
      "component_size                          : An SFrame with the size of each component\n",
      "training_time                           : Total training time of the model\n",
      "\n",
      "None\n"
     ]
    }
   ],
   "source": [
    "g = gl.SGraph()\n",
    "g = g.add_edges(data, src_field='guid', dst_field='domain')\n",
    "g = g.add_edges(data, src_field='domain', dst_field='guid')\n",
    "cc = gl.connected_components.create(g)\n",
    "\n",
    "print \"Connected components summary:\\n\", cc.summary()"
   ]
  },
  {
   "cell_type": "code",
   "execution_count": 10,
   "metadata": {
    "collapsed": false,
    "scrolled": true
   },
   "outputs": [
    {
     "data": {
      "text/html": [
       "<div style=\"max-height:1000px;max-width:1500px;overflow:auto;\"><table frame=\"box\" rules=\"cols\">\n",
       "    <tr>\n",
       "        <th style=\"padding-left: 1em; padding-right: 1em; text-align: center\">component_id</th>\n",
       "        <th style=\"padding-left: 1em; padding-right: 1em; text-align: center\">Count</th>\n",
       "    </tr>\n",
       "    <tr>\n",
       "        <td style=\"padding-left: 1em; padding-right: 1em; text-align: center; vertical-align: top\">206</td>\n",
       "        <td style=\"padding-left: 1em; padding-right: 1em; text-align: center; vertical-align: top\">22879</td>\n",
       "    </tr>\n",
       "    <tr>\n",
       "        <td style=\"padding-left: 1em; padding-right: 1em; text-align: center; vertical-align: top\">4417</td>\n",
       "        <td style=\"padding-left: 1em; padding-right: 1em; text-align: center; vertical-align: top\">4</td>\n",
       "    </tr>\n",
       "    <tr>\n",
       "        <td style=\"padding-left: 1em; padding-right: 1em; text-align: center; vertical-align: top\">1656</td>\n",
       "        <td style=\"padding-left: 1em; padding-right: 1em; text-align: center; vertical-align: top\">3</td>\n",
       "    </tr>\n",
       "    <tr>\n",
       "        <td style=\"padding-left: 1em; padding-right: 1em; text-align: center; vertical-align: top\">1259</td>\n",
       "        <td style=\"padding-left: 1em; padding-right: 1em; text-align: center; vertical-align: top\">3</td>\n",
       "    </tr>\n",
       "    <tr>\n",
       "        <td style=\"padding-left: 1em; padding-right: 1em; text-align: center; vertical-align: top\">9576</td>\n",
       "        <td style=\"padding-left: 1em; padding-right: 1em; text-align: center; vertical-align: top\">3</td>\n",
       "    </tr>\n",
       "    <tr>\n",
       "        <td style=\"padding-left: 1em; padding-right: 1em; text-align: center; vertical-align: top\">9047</td>\n",
       "        <td style=\"padding-left: 1em; padding-right: 1em; text-align: center; vertical-align: top\">3</td>\n",
       "    </tr>\n",
       "    <tr>\n",
       "        <td style=\"padding-left: 1em; padding-right: 1em; text-align: center; vertical-align: top\">22</td>\n",
       "        <td style=\"padding-left: 1em; padding-right: 1em; text-align: center; vertical-align: top\">3</td>\n",
       "    </tr>\n",
       "    <tr>\n",
       "        <td style=\"padding-left: 1em; padding-right: 1em; text-align: center; vertical-align: top\">4925</td>\n",
       "        <td style=\"padding-left: 1em; padding-right: 1em; text-align: center; vertical-align: top\">3</td>\n",
       "    </tr>\n",
       "    <tr>\n",
       "        <td style=\"padding-left: 1em; padding-right: 1em; text-align: center; vertical-align: top\">490</td>\n",
       "        <td style=\"padding-left: 1em; padding-right: 1em; text-align: center; vertical-align: top\">2</td>\n",
       "    </tr>\n",
       "    <tr>\n",
       "        <td style=\"padding-left: 1em; padding-right: 1em; text-align: center; vertical-align: top\">1572</td>\n",
       "        <td style=\"padding-left: 1em; padding-right: 1em; text-align: center; vertical-align: top\">2</td>\n",
       "    </tr>\n",
       "</table>\n",
       "[10 rows x 2 columns]<br/>\n",
       "</div>"
      ],
      "text/plain": [
       "Columns:\n",
       "\tcomponent_id\tint\n",
       "\tCount\tint\n",
       "\n",
       "Rows: 10\n",
       "\n",
       "Data:\n",
       "+--------------+-------+\n",
       "| component_id | Count |\n",
       "+--------------+-------+\n",
       "|     206      | 22879 |\n",
       "|     4417     |   4   |\n",
       "|     1656     |   3   |\n",
       "|     1259     |   3   |\n",
       "|     9576     |   3   |\n",
       "|     9047     |   3   |\n",
       "|      22      |   3   |\n",
       "|     4925     |   3   |\n",
       "|     490      |   2   |\n",
       "|     1572     |   2   |\n",
       "+--------------+-------+\n",
       "[10 rows x 2 columns]"
      ]
     },
     "execution_count": 10,
     "metadata": {},
     "output_type": "execute_result"
    }
   ],
   "source": [
    "cc['component_size'].topk('Count')"
   ]
  },
  {
   "cell_type": "code",
   "execution_count": 11,
   "metadata": {
    "collapsed": true
   },
   "outputs": [],
   "source": [
    "largest_component_id = cc['component_size'].topk('Count', k=1)['component_id'][0]"
   ]
  },
  {
   "cell_type": "code",
   "execution_count": 12,
   "metadata": {
    "collapsed": false
   },
   "outputs": [
    {
     "data": {
      "text/html": [
       "<div style=\"max-height:1000px;max-width:1500px;overflow:auto;\"><table frame=\"box\" rules=\"cols\">\n",
       "    <tr>\n",
       "        <th style=\"padding-left: 1em; padding-right: 1em; text-align: center\">guid</th>\n",
       "        <th style=\"padding-left: 1em; padding-right: 1em; text-align: center\">date</th>\n",
       "        <th style=\"padding-left: 1em; padding-right: 1em; text-align: center\">time</th>\n",
       "        <th style=\"padding-left: 1em; padding-right: 1em; text-align: center\">country</th>\n",
       "        <th style=\"padding-left: 1em; padding-right: 1em; text-align: center\">browser</th>\n",
       "        <th style=\"padding-left: 1em; padding-right: 1em; text-align: center\">url</th>\n",
       "    </tr>\n",
       "    <tr>\n",
       "        <td style=\"padding-left: 1em; padding-right: 1em; text-align: center; vertical-align: top\">ibic=89C2874366054211A7DC<br>3655728DCD55IE ...</td>\n",
       "        <td style=\"padding-left: 1em; padding-right: 1em; text-align: center; vertical-align: top\">2014-06-08</td>\n",
       "        <td style=\"padding-left: 1em; padding-right: 1em; text-align: center; vertical-align: top\">00:00:28</td>\n",
       "        <td style=\"padding-left: 1em; padding-right: 1em; text-align: center; vertical-align: top\">DE</td>\n",
       "        <td style=\"padding-left: 1em; padding-right: 1em; text-align: center; vertical-align: top\">CH</td>\n",
       "        <td style=\"padding-left: 1em; padding-right: 1em; text-align: center; vertical-align: top\">https://bankingportal<br>.sparkasse-haslach-ze ...</td>\n",
       "    </tr>\n",
       "    <tr>\n",
       "        <td style=\"padding-left: 1em; padding-right: 1em; text-align: center; vertical-align: top\">ibic=3EB3304A0267409BA614<br>8AC625A6A4FEIE ...</td>\n",
       "        <td style=\"padding-left: 1em; padding-right: 1em; text-align: center; vertical-align: top\">2014-06-08</td>\n",
       "        <td style=\"padding-left: 1em; padding-right: 1em; text-align: center; vertical-align: top\">00:00:28</td>\n",
       "        <td style=\"padding-left: 1em; padding-right: 1em; text-align: center; vertical-align: top\">DE</td>\n",
       "        <td style=\"padding-left: 1em; padding-right: 1em; text-align: center; vertical-align: top\">CH</td>\n",
       "        <td style=\"padding-left: 1em; padding-right: 1em; text-align: center; vertical-align: top\">https://www.stargames.net<br>/web/Games-Details?la ...</td>\n",
       "    </tr>\n",
       "    <tr>\n",
       "        <td style=\"padding-left: 1em; padding-right: 1em; text-align: center; vertical-align: top\">ibic=09CF6B52D105462DB9CD<br>8B2B1A0501FDIE ...</td>\n",
       "        <td style=\"padding-left: 1em; padding-right: 1em; text-align: center; vertical-align: top\">2014-06-08</td>\n",
       "        <td style=\"padding-left: 1em; padding-right: 1em; text-align: center; vertical-align: top\">00:00:29</td>\n",
       "        <td style=\"padding-left: 1em; padding-right: 1em; text-align: center; vertical-align: top\">DE</td>\n",
       "        <td style=\"padding-left: 1em; padding-right: 1em; text-align: center; vertical-align: top\">FF</td>\n",
       "        <td style=\"padding-left: 1em; padding-right: 1em; text-align: center; vertical-align: top\">http://www.youtube.com/us<br>er/PandoriumLP/videos ...</td>\n",
       "    </tr>\n",
       "</table>\n",
       "<table frame=\"box\" rules=\"cols\">\n",
       "    <tr>\n",
       "        <th style=\"padding-left: 1em; padding-right: 1em; text-align: center\">query</th>\n",
       "        <th style=\"padding-left: 1em; padding-right: 1em; text-align: center\">domain</th>\n",
       "        <th style=\"padding-left: 1em; padding-right: 1em; text-align: center\">top_domain</th>\n",
       "        <th style=\"padding-left: 1em; padding-right: 1em; text-align: center\">ip</th>\n",
       "        <th style=\"padding-left: 1em; padding-right: 1em; text-align: center\">X.hour</th>\n",
       "        <th style=\"padding-left: 1em; padding-right: 1em; text-align: center\">X.minute</th>\n",
       "        <th style=\"padding-left: 1em; padding-right: 1em; text-align: center\">X.second</th>\n",
       "    </tr>\n",
       "    <tr>\n",
       "        <td style=\"padding-left: 1em; padding-right: 1em; text-align: center; vertical-align: top\">campaign=000817&amp;bic=14338<br>be00eabb20b934f264cc6 ...</td>\n",
       "        <td style=\"padding-left: 1em; padding-right: 1em; text-align: center; vertical-align: top\">bankingportal.sparkasse-<br>haslach-zell.de ...</td>\n",
       "        <td style=\"padding-left: 1em; padding-right: 1em; text-align: center; vertical-align: top\">sparkasse-haslach-zell.de</td>\n",
       "        <td style=\"padding-left: 1em; padding-right: 1em; text-align: center; vertical-align: top\">3608</td>\n",
       "        <td style=\"padding-left: 1em; padding-right: 1em; text-align: center; vertical-align: top\">0</td>\n",
       "        <td style=\"padding-left: 1em; padding-right: 1em; text-align: center; vertical-align: top\">0</td>\n",
       "        <td style=\"padding-left: 1em; padding-right: 1em; text-align: center; vertical-align: top\">28</td>\n",
       "    </tr>\n",
       "    <tr>\n",
       "        <td style=\"padding-left: 1em; padding-right: 1em; text-align: center; vertical-align: top\">campaign=000817&amp;bic=14325<br>f4197caf0be991d9d7852 ...</td>\n",
       "        <td style=\"padding-left: 1em; padding-right: 1em; text-align: center; vertical-align: top\">www.stargames.net</td>\n",
       "        <td style=\"padding-left: 1em; padding-right: 1em; text-align: center; vertical-align: top\">stargames.net</td>\n",
       "        <td style=\"padding-left: 1em; padding-right: 1em; text-align: center; vertical-align: top\">5308</td>\n",
       "        <td style=\"padding-left: 1em; padding-right: 1em; text-align: center; vertical-align: top\">0</td>\n",
       "        <td style=\"padding-left: 1em; padding-right: 1em; text-align: center; vertical-align: top\">0</td>\n",
       "        <td style=\"padding-left: 1em; padding-right: 1em; text-align: center; vertical-align: top\">28</td>\n",
       "    </tr>\n",
       "    <tr>\n",
       "        <td style=\"padding-left: 1em; padding-right: 1em; text-align: center; vertical-align: top\">campaign=000817&amp;bic=143f7<br>b26a579d4795a4a41d776 ...</td>\n",
       "        <td style=\"padding-left: 1em; padding-right: 1em; text-align: center; vertical-align: top\">www.youtube.com</td>\n",
       "        <td style=\"padding-left: 1em; padding-right: 1em; text-align: center; vertical-align: top\">youtube.com</td>\n",
       "        <td style=\"padding-left: 1em; padding-right: 1em; text-align: center; vertical-align: top\">7053</td>\n",
       "        <td style=\"padding-left: 1em; padding-right: 1em; text-align: center; vertical-align: top\">0</td>\n",
       "        <td style=\"padding-left: 1em; padding-right: 1em; text-align: center; vertical-align: top\">0</td>\n",
       "        <td style=\"padding-left: 1em; padding-right: 1em; text-align: center; vertical-align: top\">29</td>\n",
       "    </tr>\n",
       "</table>\n",
       "<table frame=\"box\" rules=\"cols\">\n",
       "    <tr>\n",
       "        <th style=\"padding-left: 1em; padding-right: 1em; text-align: center\">component_id</th>\n",
       "    </tr>\n",
       "    <tr>\n",
       "        <td style=\"padding-left: 1em; padding-right: 1em; text-align: center; vertical-align: top\">206</td>\n",
       "    </tr>\n",
       "    <tr>\n",
       "        <td style=\"padding-left: 1em; padding-right: 1em; text-align: center; vertical-align: top\">206</td>\n",
       "    </tr>\n",
       "    <tr>\n",
       "        <td style=\"padding-left: 1em; padding-right: 1em; text-align: center; vertical-align: top\">206</td>\n",
       "    </tr>\n",
       "</table>\n",
       "[3 rows x 14 columns]<br/>\n",
       "</div>"
      ],
      "text/plain": [
       "Columns:\n",
       "\tguid\tstr\n",
       "\tdate\tstr\n",
       "\ttime\tstr\n",
       "\tcountry\tstr\n",
       "\tbrowser\tstr\n",
       "\turl\tstr\n",
       "\tquery\tstr\n",
       "\tdomain\tstr\n",
       "\ttop_domain\tstr\n",
       "\tip\tstr\n",
       "\tX.hour\tint\n",
       "\tX.minute\tint\n",
       "\tX.second\tint\n",
       "\tcomponent_id\tint\n",
       "\n",
       "Rows: 3\n",
       "\n",
       "Data:\n",
       "+-------------------------------+------------+----------+---------+---------+\n",
       "|              guid             |    date    |   time   | country | browser |\n",
       "+-------------------------------+------------+----------+---------+---------+\n",
       "| ibic=89C2874366054211A7DC3... | 2014-06-08 | 00:00:28 |    DE   |    CH   |\n",
       "| ibic=3EB3304A0267409BA6148... | 2014-06-08 | 00:00:28 |    DE   |    CH   |\n",
       "| ibic=09CF6B52D105462DB9CD8... | 2014-06-08 | 00:00:29 |    DE   |    FF   |\n",
       "+-------------------------------+------------+----------+---------+---------+\n",
       "+-------------------------------+-------------------------------+\n",
       "|              url              |             query             |\n",
       "+-------------------------------+-------------------------------+\n",
       "| https://bankingportal.spar... | campaign=000817&bic=14338b... |\n",
       "| https://www.stargames.net/... | campaign=000817&bic=14325f... |\n",
       "| http://www.youtube.com/use... | campaign=000817&bic=143f7b... |\n",
       "+-------------------------------+-------------------------------+\n",
       "+-------------------------------+---------------------------+------+--------+----------+\n",
       "|             domain            |         top_domain        |  ip  | X.hour | X.minute |\n",
       "+-------------------------------+---------------------------+------+--------+----------+\n",
       "| bankingportal.sparkasse-ha... | sparkasse-haslach-zell.de | 3608 |   0    |    0     |\n",
       "|       www.stargames.net       |       stargames.net       | 5308 |   0    |    0     |\n",
       "|        www.youtube.com        |        youtube.com        | 7053 |   0    |    0     |\n",
       "+-------------------------------+---------------------------+------+--------+----------+\n",
       "+----------+--------------+\n",
       "| X.second | component_id |\n",
       "+----------+--------------+\n",
       "|    28    |     206      |\n",
       "|    28    |     206      |\n",
       "|    29    |     206      |\n",
       "+----------+--------------+\n",
       "[3 rows x 14 columns]"
      ]
     },
     "execution_count": 12,
     "metadata": {},
     "output_type": "execute_result"
    }
   ],
   "source": [
    "data = data.join(cc['component_id'], on={'domain':'__id'})\n",
    "data.head(3)"
   ]
  },
  {
   "cell_type": "code",
   "execution_count": 13,
   "metadata": {
    "collapsed": false
   },
   "outputs": [
    {
     "name": "stdout",
     "output_type": "stream",
     "text": [
      "PROGRESS: Counting out degree\n",
      "PROGRESS: Done counting out degree\n",
      "PROGRESS: +-----------+-----------------------+\n",
      "PROGRESS: | Iteration | L1 change in pagerank |\n",
      "PROGRESS: +-----------+-----------------------+\n",
      "PROGRESS: | 1         | 28935.7               |\n",
      "PROGRESS: | 2         | 17099.3               |\n",
      "PROGRESS: | 3         | 13200                 |\n",
      "PROGRESS: | 4         | 11187.2               |\n",
      "PROGRESS: | 5         | 9504.93               |\n",
      "PROGRESS: | 6         | 8078.45               |\n",
      "PROGRESS: | 7         | 6866.37               |\n",
      "PROGRESS: | 8         | 5836.32               |\n",
      "PROGRESS: | 9         | 4960.81               |\n",
      "PROGRESS: | 10        | 4216.68               |\n",
      "PROGRESS: | 11        | 3584.17               |\n",
      "PROGRESS: | 12        | 3046.53               |\n",
      "PROGRESS: | 13        | 2589.55               |\n",
      "PROGRESS: | 14        | 2201.12               |\n",
      "PROGRESS: | 15        | 1870.95               |\n",
      "PROGRESS: | 16        | 1590.31               |\n",
      "PROGRESS: | 17        | 1351.76               |\n",
      "PROGRESS: | 18        | 1149                  |\n",
      "PROGRESS: | 19        | 976.649               |\n",
      "PROGRESS: | 20        | 830.152               |\n",
      "PROGRESS: +-----------+-----------------------+\n",
      "Best webites\n",
      "+-------------------------------+---------------+---------------+\n",
      "|              __id             |    pagerank   |     delta     |\n",
      "+-------------------------------+---------------+---------------+\n",
      "|         www.google.de         | 1314.98387741 | 56.2263585138 |\n",
      "|        www.youtube.com        | 1031.64246345 | 50.7171930324 |\n",
      "|        www.facebook.com       | 677.193773253 | 30.0979367723 |\n",
      "|       apps.facebook.com       | 220.374470115 | 10.6229777171 |\n",
      "|      asrv-a.akamaihd.net      |  135.80645829 | 5.44279087893 |\n",
      "|          www.ebay.de          | 91.5597267279 | 4.63442664868 |\n",
      "|           www.v9.com          | 87.3844537469 | 3.26419310217 |\n",
      "| ibic=86C5254CA86F4D4CA9333... | 68.9652174181 | 1.56003317446 |\n",
      "|         streamcloud.eu        | 64.5381294197 | 3.24363440409 |\n",
      "|         www.amazon.de         | 64.0853826914 | 2.94021288752 |\n",
      "+-------------------------------+---------------+---------------+\n",
      "[10 rows x 3 columns]\n",
      "\n",
      "Worst websites\n",
      "+--------------------------------+----------------+-------------------+\n",
      "|              __id              |    pagerank    |       delta       |\n",
      "+--------------------------------+----------------+-------------------+\n",
      "|      drunkmaturetube.com       | 0.154089657978 | 0.000459324835335 |\n",
      "|       www.pornsexmom.com       | 0.154089657978 | 0.000459324835335 |\n",
      "|      www.soyoungteens.com      | 0.158264562828 | 0.000717453498213 |\n",
      "| kanone-schiessen.1001spiele.de | 0.158580424728 | 0.000871394667158 |\n",
      "| rollenspiele-andere.1001sp...  | 0.158580424728 | 0.000871394667158 |\n",
      "|    damespiel.1001spiele.de     | 0.158580424728 | 0.000871394667158 |\n",
      "| verteidige-dein-schloss.10...  | 0.158580424728 | 0.000871394667158 |\n",
      "|      poker.1001spiele.de       | 0.158580424728 | 0.000871394667158 |\n",
      "|       forums.mangafox.me       | 0.159543496666 | 0.000882951349626 |\n",
      "|      www.rollingstone.de       | 0.159543496666 | 0.000882951349626 |\n",
      "+--------------------------------+----------------+-------------------+\n",
      "[10 rows x 3 columns]\n",
      "\n"
     ]
    }
   ],
   "source": [
    "g = gl.SGraph()\n",
    "g = g.add_edges(data[data['component_id'] == largest_component_id], src_field='guid', dst_field='domain')\n",
    "g = g.add_edges(data[data['component_id'] == largest_component_id], src_field='domain', dst_field='guid')\n",
    "pr = gl.pagerank.create(g)\n",
    "pr_out = pr.get('pagerank')\n",
    "\n",
    "print \"Best webites\\n\", pr_out.topk('pagerank' , 10)\n",
    "print \"Worst websites\\n\", pr_out.topk('pagerank' , 10, reverse=True)"
   ]
  },
  {
   "cell_type": "code",
   "execution_count": 14,
   "metadata": {
    "collapsed": false
   },
   "outputs": [
    {
     "name": "stdout",
     "output_type": "stream",
     "text": [
      "Canvas is updated and available in a tab in the default browser.\n"
     ]
    }
   ],
   "source": [
    "#displaying the  graph\n",
    "subgraph = gl.SGraph()\n",
    "\n",
    "subgraph = subgraph.add_edges(data[data['top_domain'] == '1001spiele.de'],\n",
    "                              src_field='ip', dst_field='domain')\n",
    "\n",
    "#subgraph = subgraph.add_edges(data[data['top_domain'] == '1001spiele.de'],\n",
    "#                              src_field='domain', dst_field='top_domain')\n",
    "\n",
    "subgraph.show(vlabel='id', highlight=['1001spiele.de'])"
   ]
  },
  {
   "cell_type": "markdown",
   "metadata": {
    "collapsed": false
   },
   "source": [
    "##Frequent pattern mining"
   ]
  },
  {
   "cell_type": "code",
   "execution_count": 15,
   "metadata": {
    "collapsed": false
   },
   "outputs": [
    {
     "name": "stdout",
     "output_type": "stream",
     "text": [
      "PROGRESS: Indexing complete. Found 12920 unique items.\n",
      "PROGRESS: Preprocessing complete. Found 6109 unique transactions.\n",
      "PROGRESS: Building frequent pattern tree.\n",
      "PROGRESS: +-----------+----------------+------------+----------------------+------------------+\n",
      "PROGRESS: | Iteration | Num. Patterns  | Support    | Current Min Support  | Elapsed Time     |\n",
      "PROGRESS: +-----------+----------------+------------+----------------------+------------------+\n",
      "PROGRESS: | 0         | 0              | 3016       | 13                   | 163us            |\n",
      "PROGRESS: | 1         | 0              | 2780       | 13                   | 226us            |\n",
      "PROGRESS: | 2         | 1              | 2122       | 13                   | 296us            |\n",
      "PROGRESS: | 3         | 4              | 2121       | 13                   | 388us            |\n",
      "PROGRESS: | 4         | 11             | 1084       | 13                   | 600us            |\n",
      "PROGRESS: | 5         | 26             | 849        | 13                   | 880us            |\n",
      "PROGRESS: | 6         | 57             | 724        | 13                   | 1.272ms          |\n",
      "PROGRESS: | 7         | 100            | 604        | 25                   | 4.593ms          |\n",
      "PROGRESS: | 8         | 100            | 541        | 62                   | 8.575ms          |\n",
      "PROGRESS: | 9         | 100            | 466        | 85                   | 10.818ms         |\n",
      "PROGRESS: | 10        | 100            | 456        | 104                  | 12.346ms         |\n",
      "PROGRESS: | 11        | 100            | 433        | 112                  | 13.095ms         |\n",
      "PROGRESS: | 12        | 100            | 400        | 120                  | 13.737ms         |\n",
      "PROGRESS: | 13        | 100            | 373        | 126                  | 14.302ms         |\n",
      "PROGRESS: | 14        | 100            | 367        | 132                  | 15.23ms          |\n",
      "PROGRESS: | 15        | 100            | 359        | 138                  | 16.057ms         |\n",
      "PROGRESS: | 16        | 100            | 338        | 142                  | 16.639ms         |\n",
      "PROGRESS: | 17        | 100            | 333        | 144                  | 17.082ms         |\n",
      "PROGRESS: | 18        | 100            | 319        | 148                  | 17.715ms         |\n",
      "PROGRESS: | 19        | 100            | 298        | 151                  | 18.246ms         |\n",
      "PROGRESS: | 20        | 100            | 285        | 154                  | 18.63ms          |\n",
      "PROGRESS: | 21        | 100            | 276        | 155                  | 18.967ms         |\n",
      "PROGRESS: | 22        | 100            | 270        | 157                  | 19.366ms         |\n",
      "PROGRESS: | 23        | 100            | 263        | 157                  | 19.537ms         |\n",
      "PROGRESS: | 24        | 100            | 258        | 157                  | 19.725ms         |\n",
      "PROGRESS: | 25        | 100            | 254        | 157                  | 19.969ms         |\n",
      "PROGRESS: | 26        | 100            | 252        | 158                  | 20.365ms         |\n",
      "PROGRESS: | 27        | 100            | 230        | 158                  | 20.639ms         |\n",
      "PROGRESS: | 28        | 100            | 226        | 158                  | 21.062ms         |\n",
      "PROGRESS: | 29        | 100            | 224        | 158                  | 21.367ms         |\n",
      "PROGRESS: | 30        | 100            | 222        | 158                  | 21.688ms         |\n",
      "PROGRESS: | 31        | 100            | 220        | 158                  | 21.939ms         |\n",
      "PROGRESS: | 32        | 100            | 219        | 158                  | 22.162ms         |\n",
      "PROGRESS: | 33        | 100            | 217        | 158                  | 22.382ms         |\n",
      "PROGRESS: | 34        | 100            | 216        | 158                  | 22.666ms         |\n",
      "PROGRESS: | 35        | 100            | 216        | 158                  | 22.862ms         |\n",
      "PROGRESS: | 36        | 100            | 196        | 158                  | 23.042ms         |\n",
      "PROGRESS: | 37        | 100            | 191        | 158                  | 23.218ms         |\n",
      "PROGRESS: | 38        | 100            | 188        | 158                  | 23.416ms         |\n",
      "PROGRESS: | 39        | 100            | 184        | 158                  | 23.589ms         |\n",
      "PROGRESS: | 40        | 100            | 183        | 158                  | 23.854ms         |\n",
      "PROGRESS: | 41        | 100            | 183        | 158                  | 24.118ms         |\n",
      "PROGRESS: | 42        | 100            | 181        | 158                  | 24.298ms         |\n",
      "PROGRESS: | 43        | 100            | 174        | 158                  | 24.523ms         |\n",
      "PROGRESS: | 44        | 100            | 174        | 158                  | 24.744ms         |\n",
      "PROGRESS: | 45        | 100            | 173        | 158                  | 24.928ms         |\n",
      "PROGRESS: | 46        | 100            | 166        | 158                  | 25.076ms         |\n",
      "PROGRESS: | Final     | 100            | -          | 158                  | 25.243ms         |\n",
      "PROGRESS: +-----------+----------------+------------+----------------------+------------------+\n",
      "PROGRESS: Pattern mining complete. Found 100 unique closed patterns.\n"
     ]
    }
   ],
   "source": [
    "# Make a train-test split.\n",
    "train, test = data.random_split(0.9)\n",
    "\n",
    "# Build a frequent pattern miner model.\n",
    "model = gl.frequent_pattern_mining.create(train, \n",
    "                                          'top_domain', \n",
    "                                          features=['guid'], \n",
    "                                          min_length=2, \n",
    "                                          max_patterns=100)"
   ]
  },
  {
   "cell_type": "code",
   "execution_count": 16,
   "metadata": {
    "collapsed": false
   },
   "outputs": [
    {
     "name": "stdout",
     "output_type": "stream",
     "text": [
      "+------------------------------------------------------+---------+\n",
      "|                       pattern                        | support |\n",
      "+------------------------------------------------------+---------+\n",
      "|              [google.de, facebook.com]               |   1475  |\n",
      "|               [google.de, youtube.com]               |   1335  |\n",
      "|              [google.de, akamaihd.net]               |   1333  |\n",
      "|             [facebook.com, youtube.com]              |   1129  |\n",
      "|             [facebook.com, akamaihd.net]             |   976   |\n",
      "|             [youtube.com, akamaihd.net]              |   901   |\n",
      "|        [google.de, facebook.com, youtube.com]        |   771   |\n",
      "|       [google.de, facebook.com, akamaihd.net]        |   673   |\n",
      "|        [google.de, youtube.com, akamaihd.net]        |   635   |\n",
      "|                [facebook.com, v9.com]                |   538   |\n",
      "|      [facebook.com, youtube.com, akamaihd.net]       |   504   |\n",
      "|                 [google.de, v9.com]                  |   490   |\n",
      "|              [google.de, updowntuv.com]              |   475   |\n",
      "|                [akamaihd.net, v9.com]                |   422   |\n",
      "|                [youtube.com, v9.com]                 |   409   |\n",
      "|            [facebook.com, updowntuv.com]             |   409   |\n",
      "|            [akamaihd.net, updowntuv.com]             |   385   |\n",
      "|             [youtube.com, updowntuv.com]             |   380   |\n",
      "|           [akamaihd.net, reimageplus.com]            |   379   |\n",
      "| [google.de, facebook.com, youtube.com, akamaihd.net] |   378   |\n",
      "+------------------------------------------------------+---------+\n",
      "[100 rows x 2 columns]\n",
      "\n"
     ]
    }
   ],
   "source": [
    "# Obtain the most frequent patterns.\n",
    "patterns = model.get_frequent_patterns()\n",
    "patterns.print_rows(max_column_width=150, num_rows=20)"
   ]
  },
  {
   "cell_type": "code",
   "execution_count": 17,
   "metadata": {
    "collapsed": false
   },
   "outputs": [
    {
     "name": "stdout",
     "output_type": "stream",
     "text": [
      "PROGRESS: Preprocessing complete. Found 5021 unique transactions.\n",
      "+-------------------------------+-----------------------------+----------------+\n",
      "|              guid             |            prefix           |   prediction   |\n",
      "+-------------------------------+-----------------------------+----------------+\n",
      "| ibic=A13287C222714B61B6D7A... |              []             |  [google.de]   |\n",
      "| ibic=A28C2F85CB8C4D55BCB96... |        [facebook.com]       |  [google.de]   |\n",
      "| ibic=C0D7B6C032774CAC82309... |        [facebook.com]       |  [google.de]   |\n",
      "| ibic=DF54D3D2914A48EB89F1B... |              []             |  [google.de]   |\n",
      "| ibic=3BBE5C72DD314FF18A134... | [youtube.com, facebook.com] |  [google.de]   |\n",
      "| ibic=41C02CAAB0E94FCABA21E... |        [youtube.com]        |  [google.de]   |\n",
      "| ibic=BA800BC8974C4927B9354... |              []             |  [google.de]   |\n",
      "| ibic=31EF5475A0D8410C8B297... |         [google.de]         | [facebook.com] |\n",
      "| ibic=A52727A3DDC446C4B255B... |   [omdigo.com, google.de]   | [akamaihd.net] |\n",
      "| ibic=66EE4271B9BA4D63B6FFD... |              []             |  [google.de]   |\n",
      "+-------------------------------+-----------------------------+----------------+\n",
      "+----------------+----------------+---------------+\n",
      "|   confidence   | prefix support | joint support |\n",
      "+----------------+----------------+---------------+\n",
      "| 0.493697822884 |      6109      |      3016     |\n",
      "| 0.530575539568 |      2780      |      1475     |\n",
      "| 0.530575539568 |      2780      |      1475     |\n",
      "| 0.493697822884 |      6109      |      3016     |\n",
      "| 0.682905225864 |      1129      |      771      |\n",
      "| 0.629123468426 |      2122      |      1335     |\n",
      "| 0.493697822884 |      6109      |      3016     |\n",
      "| 0.489058355438 |      3016      |      1475     |\n",
      "| 0.739926739927 |      273       |      202      |\n",
      "| 0.493697822884 |      6109      |      3016     |\n",
      "+----------------+----------------+---------------+\n",
      "[10 rows x 6 columns]\n",
      "\n"
     ]
    }
   ],
   "source": [
    "# Make predictions based on frequent patterns.\n",
    "predictions = model.predict(test)\n",
    "print predictions.head()"
   ]
  },
  {
   "cell_type": "markdown",
   "metadata": {},
   "source": [
    "# Predicting user behavior"
   ]
  },
  {
   "cell_type": "code",
   "execution_count": 18,
   "metadata": {
    "collapsed": false
   },
   "outputs": [
    {
     "name": "stdout",
     "output_type": "stream",
     "text": [
      "PROGRESS: Recsys training: model = item_similarity\n",
      "PROGRESS: Warning: Ignoring columns guid, date, time, country, browser, url, query, top_domain, X.hour, X.minute, X.second, component_id;\n",
      "PROGRESS:     To use one of these as a target column, set target = <column_name>\n",
      "PROGRESS:     and use a method that allows the use of a target.\n",
      "PROGRESS: Preparing data set.\n",
      "PROGRESS:     Data has 355909 observations with 7792 users and 16851 items.\n",
      "PROGRESS:     Data prepared in: 0.615358s\n",
      "PROGRESS: Computing item similarity statistics:\n",
      "PROGRESS: Computing most similar items for 16851 items:\n",
      "PROGRESS: +-----------------+-----------------+\n",
      "PROGRESS: | Number of items | Elapsed Time    |\n",
      "PROGRESS: +-----------------+-----------------+\n",
      "PROGRESS: | 1000            | 4.86399         |\n",
      "PROGRESS: | 2000            | 5.01065         |\n",
      "PROGRESS: | 3000            | 5.15626         |\n",
      "PROGRESS: | 4000            | 5.30441         |\n",
      "PROGRESS: | 5000            | 5.42787         |\n",
      "PROGRESS: | 6000            | 5.51015         |\n",
      "PROGRESS: | 7000            | 5.64513         |\n",
      "PROGRESS: | 8000            | 5.88623         |\n",
      "PROGRESS: | 9000            | 6.11911         |\n",
      "PROGRESS: | 10000           | 6.3786          |\n",
      "PROGRESS: | 11000           | 6.55504         |\n",
      "PROGRESS: | 12000           | 6.84307         |\n",
      "PROGRESS: | 13000           | 7.10954         |\n",
      "PROGRESS: | 14000           | 7.45899         |\n",
      "PROGRESS: | 15000           | 7.71812         |\n",
      "PROGRESS: | 16000           | 8.01338         |\n",
      "PROGRESS: +-----------------+-----------------+\n",
      "PROGRESS: Finished training in 8.99395s\n"
     ]
    }
   ],
   "source": [
    "model = gl.recommender.create(data, user_id='ip', item_id='domain')"
   ]
  },
  {
   "cell_type": "code",
   "execution_count": 19,
   "metadata": {
    "collapsed": false
   },
   "outputs": [
    {
     "name": "stdout",
     "output_type": "stream",
     "text": [
      "PROGRESS: recommendations finished on 1000/7792 queries. users per second: 987.096\n",
      "PROGRESS: recommendations finished on 2000/7792 queries. users per second: 972.906\n",
      "PROGRESS: recommendations finished on 3000/7792 queries. users per second: 1015.85\n",
      "PROGRESS: recommendations finished on 4000/7792 queries. users per second: 1019.59\n",
      "PROGRESS: recommendations finished on 5000/7792 queries. users per second: 1033.27\n",
      "PROGRESS: recommendations finished on 6000/7792 queries. users per second: 1075.03\n",
      "PROGRESS: recommendations finished on 7000/7792 queries. users per second: 1096.91\n"
     ]
    },
    {
     "data": {
      "text/html": [
       "<div style=\"max-height:1000px;max-width:1500px;overflow:auto;\"><table frame=\"box\" rules=\"cols\">\n",
       "    <tr>\n",
       "        <th style=\"padding-left: 1em; padding-right: 1em; text-align: center\">ip</th>\n",
       "        <th style=\"padding-left: 1em; padding-right: 1em; text-align: center\">domain</th>\n",
       "        <th style=\"padding-left: 1em; padding-right: 1em; text-align: center\">score</th>\n",
       "        <th style=\"padding-left: 1em; padding-right: 1em; text-align: center\">rank</th>\n",
       "    </tr>\n",
       "    <tr>\n",
       "        <td style=\"padding-left: 1em; padding-right: 1em; text-align: center; vertical-align: top\">3608</td>\n",
       "        <td style=\"padding-left: 1em; padding-right: 1em; text-align: center; vertical-align: top\">web.de</td>\n",
       "        <td style=\"padding-left: 1em; padding-right: 1em; text-align: center; vertical-align: top\">0.108513861287</td>\n",
       "        <td style=\"padding-left: 1em; padding-right: 1em; text-align: center; vertical-align: top\">1</td>\n",
       "    </tr>\n",
       "    <tr>\n",
       "        <td style=\"padding-left: 1em; padding-right: 1em; text-align: center; vertical-align: top\">3608</td>\n",
       "        <td style=\"padding-left: 1em; padding-right: 1em; text-align: center; vertical-align: top\">logout.webde.uimserv.net</td>\n",
       "        <td style=\"padding-left: 1em; padding-right: 1em; text-align: center; vertical-align: top\">0.102819147129</td>\n",
       "        <td style=\"padding-left: 1em; padding-right: 1em; text-align: center; vertical-align: top\">2</td>\n",
       "    </tr>\n",
       "    <tr>\n",
       "        <td style=\"padding-left: 1em; padding-right: 1em; text-align: center; vertical-align: top\">3608</td>\n",
       "        <td style=\"padding-left: 1em; padding-right: 1em; text-align: center; vertical-align: top\">www.rscommunity.de</td>\n",
       "        <td style=\"padding-left: 1em; padding-right: 1em; text-align: center; vertical-align: top\">0.0833333333333</td>\n",
       "        <td style=\"padding-left: 1em; padding-right: 1em; text-align: center; vertical-align: top\">3</td>\n",
       "    </tr>\n",
       "    <tr>\n",
       "        <td style=\"padding-left: 1em; padding-right: 1em; text-align: center; vertical-align: top\">3608</td>\n",
       "        <td style=\"padding-left: 1em; padding-right: 1em; text-align: center; vertical-align: top\">www.runescape.com</td>\n",
       "        <td style=\"padding-left: 1em; padding-right: 1em; text-align: center; vertical-align: top\">0.0833333333333</td>\n",
       "        <td style=\"padding-left: 1em; padding-right: 1em; text-align: center; vertical-align: top\">4</td>\n",
       "    </tr>\n",
       "    <tr>\n",
       "        <td style=\"padding-left: 1em; padding-right: 1em; text-align: center; vertical-align: top\">3608</td>\n",
       "        <td style=\"padding-left: 1em; padding-right: 1em; text-align: center; vertical-align: top\">www.omamaturetube.com</td>\n",
       "        <td style=\"padding-left: 1em; padding-right: 1em; text-align: center; vertical-align: top\">0.0833333333333</td>\n",
       "        <td style=\"padding-left: 1em; padding-right: 1em; text-align: center; vertical-align: top\">5</td>\n",
       "    </tr>\n",
       "    <tr>\n",
       "        <td style=\"padding-left: 1em; padding-right: 1em; text-align: center; vertical-align: top\">5308</td>\n",
       "        <td style=\"padding-left: 1em; padding-right: 1em; text-align: center; vertical-align: top\">www.google.de</td>\n",
       "        <td style=\"padding-left: 1em; padding-right: 1em; text-align: center; vertical-align: top\">0.0701340783163</td>\n",
       "        <td style=\"padding-left: 1em; padding-right: 1em; text-align: center; vertical-align: top\">1</td>\n",
       "    </tr>\n",
       "    <tr>\n",
       "        <td style=\"padding-left: 1em; padding-right: 1em; text-align: center; vertical-align: top\">5308</td>\n",
       "        <td style=\"padding-left: 1em; padding-right: 1em; text-align: center; vertical-align: top\">www.youtube.com</td>\n",
       "        <td style=\"padding-left: 1em; padding-right: 1em; text-align: center; vertical-align: top\">0.0656101259882</td>\n",
       "        <td style=\"padding-left: 1em; padding-right: 1em; text-align: center; vertical-align: top\">2</td>\n",
       "    </tr>\n",
       "    <tr>\n",
       "        <td style=\"padding-left: 1em; padding-right: 1em; text-align: center; vertical-align: top\">5308</td>\n",
       "        <td style=\"padding-left: 1em; padding-right: 1em; text-align: center; vertical-align: top\">asrv-a.akamaihd.net</td>\n",
       "        <td style=\"padding-left: 1em; padding-right: 1em; text-align: center; vertical-align: top\">0.064869976893</td>\n",
       "        <td style=\"padding-left: 1em; padding-right: 1em; text-align: center; vertical-align: top\">3</td>\n",
       "    </tr>\n",
       "    <tr>\n",
       "        <td style=\"padding-left: 1em; padding-right: 1em; text-align: center; vertical-align: top\">5308</td>\n",
       "        <td style=\"padding-left: 1em; padding-right: 1em; text-align: center; vertical-align: top\">apps.facebook.com</td>\n",
       "        <td style=\"padding-left: 1em; padding-right: 1em; text-align: center; vertical-align: top\">0.0599767186714</td>\n",
       "        <td style=\"padding-left: 1em; padding-right: 1em; text-align: center; vertical-align: top\">4</td>\n",
       "    </tr>\n",
       "    <tr>\n",
       "        <td style=\"padding-left: 1em; padding-right: 1em; text-align: center; vertical-align: top\">5308</td>\n",
       "        <td style=\"padding-left: 1em; padding-right: 1em; text-align: center; vertical-align: top\">s.m2pub.com</td>\n",
       "        <td style=\"padding-left: 1em; padding-right: 1em; text-align: center; vertical-align: top\">0.0477826843677</td>\n",
       "        <td style=\"padding-left: 1em; padding-right: 1em; text-align: center; vertical-align: top\">5</td>\n",
       "    </tr>\n",
       "</table>\n",
       "[10 rows x 4 columns]<br/>\n",
       "</div>"
      ],
      "text/plain": [
       "Columns:\n",
       "\tip\tstr\n",
       "\tdomain\tstr\n",
       "\tscore\tfloat\n",
       "\trank\tint\n",
       "\n",
       "Rows: 10\n",
       "\n",
       "Data:\n",
       "+------+--------------------------+-----------------+------+\n",
       "|  ip  |          domain          |      score      | rank |\n",
       "+------+--------------------------+-----------------+------+\n",
       "| 3608 |          web.de          |  0.108513861287 |  1   |\n",
       "| 3608 | logout.webde.uimserv.net |  0.102819147129 |  2   |\n",
       "| 3608 |    www.rscommunity.de    | 0.0833333333333 |  3   |\n",
       "| 3608 |    www.runescape.com     | 0.0833333333333 |  4   |\n",
       "| 3608 |  www.omamaturetube.com   | 0.0833333333333 |  5   |\n",
       "| 5308 |      www.google.de       | 0.0701340783163 |  1   |\n",
       "| 5308 |     www.youtube.com      | 0.0656101259882 |  2   |\n",
       "| 5308 |   asrv-a.akamaihd.net    |  0.064869976893 |  3   |\n",
       "| 5308 |    apps.facebook.com     | 0.0599767186714 |  4   |\n",
       "| 5308 |       s.m2pub.com        | 0.0477826843677 |  5   |\n",
       "+------+--------------------------+-----------------+------+\n",
       "[10 rows x 4 columns]"
      ]
     },
     "execution_count": 19,
     "metadata": {},
     "output_type": "execute_result"
    }
   ],
   "source": [
    "recommend_result = model.recommend(users=None, k=5)\n",
    "recommend_result.head()"
   ]
  },
  {
   "cell_type": "code",
   "execution_count": 20,
   "metadata": {
    "collapsed": false
   },
   "outputs": [
    {
     "name": "stdout",
     "output_type": "stream",
     "text": [
      "PROGRESS: Getting similar items completed in 0.002222\n"
     ]
    },
    {
     "data": {
      "text/html": [
       "<div style=\"max-height:1000px;max-width:1500px;overflow:auto;\"><table frame=\"box\" rules=\"cols\">\n",
       "    <tr>\n",
       "        <th style=\"padding-left: 1em; padding-right: 1em; text-align: center\">domain</th>\n",
       "        <th style=\"padding-left: 1em; padding-right: 1em; text-align: center\">similar</th>\n",
       "        <th style=\"padding-left: 1em; padding-right: 1em; text-align: center\">score</th>\n",
       "        <th style=\"padding-left: 1em; padding-right: 1em; text-align: center\">rank</th>\n",
       "    </tr>\n",
       "    <tr>\n",
       "        <td style=\"padding-left: 1em; padding-right: 1em; text-align: center; vertical-align: top\">web.de</td>\n",
       "        <td style=\"padding-left: 1em; padding-right: 1em; text-align: center; vertical-align: top\">navigator.web.de</td>\n",
       "        <td style=\"padding-left: 1em; padding-right: 1em; text-align: center; vertical-align: top\">0.704318936877</td>\n",
       "        <td style=\"padding-left: 1em; padding-right: 1em; text-align: center; vertical-align: top\">1</td>\n",
       "    </tr>\n",
       "    <tr>\n",
       "        <td style=\"padding-left: 1em; padding-right: 1em; text-align: center; vertical-align: top\">web.de</td>\n",
       "        <td style=\"padding-left: 1em; padding-right: 1em; text-align: center; vertical-align: top\">logout.webde.uimserv.net</td>\n",
       "        <td style=\"padding-left: 1em; padding-right: 1em; text-align: center; vertical-align: top\">0.434782608696</td>\n",
       "        <td style=\"padding-left: 1em; padding-right: 1em; text-align: center; vertical-align: top\">2</td>\n",
       "    </tr>\n",
       "    <tr>\n",
       "        <td style=\"padding-left: 1em; padding-right: 1em; text-align: center; vertical-align: top\">web.de</td>\n",
       "        <td style=\"padding-left: 1em; padding-right: 1em; text-align: center; vertical-align: top\">3c.web.de</td>\n",
       "        <td style=\"padding-left: 1em; padding-right: 1em; text-align: center; vertical-align: top\">0.293436293436</td>\n",
       "        <td style=\"padding-left: 1em; padding-right: 1em; text-align: center; vertical-align: top\">3</td>\n",
       "    </tr>\n",
       "    <tr>\n",
       "        <td style=\"padding-left: 1em; padding-right: 1em; text-align: center; vertical-align: top\">web.de</td>\n",
       "        <td style=\"padding-left: 1em; padding-right: 1em; text-align: center; vertical-align: top\">produkte.web.de</td>\n",
       "        <td style=\"padding-left: 1em; padding-right: 1em; text-align: center; vertical-align: top\">0.109756097561</td>\n",
       "        <td style=\"padding-left: 1em; padding-right: 1em; text-align: center; vertical-align: top\">4</td>\n",
       "    </tr>\n",
       "    <tr>\n",
       "        <td style=\"padding-left: 1em; padding-right: 1em; text-align: center; vertical-align: top\">web.de</td>\n",
       "        <td style=\"padding-left: 1em; padding-right: 1em; text-align: center; vertical-align: top\">www.web.de</td>\n",
       "        <td style=\"padding-left: 1em; padding-right: 1em; text-align: center; vertical-align: top\">0.100694444444</td>\n",
       "        <td style=\"padding-left: 1em; padding-right: 1em; text-align: center; vertical-align: top\">5</td>\n",
       "    </tr>\n",
       "    <tr>\n",
       "        <td style=\"padding-left: 1em; padding-right: 1em; text-align: center; vertical-align: top\">web.de</td>\n",
       "        <td style=\"padding-left: 1em; padding-right: 1em; text-align: center; vertical-align: top\">de.reimageplus.com</td>\n",
       "        <td style=\"padding-left: 1em; padding-right: 1em; text-align: center; vertical-align: top\">0.0944881889764</td>\n",
       "        <td style=\"padding-left: 1em; padding-right: 1em; text-align: center; vertical-align: top\">6</td>\n",
       "    </tr>\n",
       "    <tr>\n",
       "        <td style=\"padding-left: 1em; padding-right: 1em; text-align: center; vertical-align: top\">web.de</td>\n",
       "        <td style=\"padding-left: 1em; padding-right: 1em; text-align: center; vertical-align: top\">suche.web.de</td>\n",
       "        <td style=\"padding-left: 1em; padding-right: 1em; text-align: center; vertical-align: top\">0.0698529411765</td>\n",
       "        <td style=\"padding-left: 1em; padding-right: 1em; text-align: center; vertical-align: top\">7</td>\n",
       "    </tr>\n",
       "    <tr>\n",
       "        <td style=\"padding-left: 1em; padding-right: 1em; text-align: center; vertical-align: top\">web.de</td>\n",
       "        <td style=\"padding-left: 1em; padding-right: 1em; text-align: center; vertical-align: top\">www.ebay.de</td>\n",
       "        <td style=\"padding-left: 1em; padding-right: 1em; text-align: center; vertical-align: top\">0.0504672897196</td>\n",
       "        <td style=\"padding-left: 1em; padding-right: 1em; text-align: center; vertical-align: top\">8</td>\n",
       "    </tr>\n",
       "    <tr>\n",
       "        <td style=\"padding-left: 1em; padding-right: 1em; text-align: center; vertical-align: top\">web.de</td>\n",
       "        <td style=\"padding-left: 1em; padding-right: 1em; text-align: center; vertical-align: top\">signin.ebay.de</td>\n",
       "        <td style=\"padding-left: 1em; padding-right: 1em; text-align: center; vertical-align: top\">0.0473372781065</td>\n",
       "        <td style=\"padding-left: 1em; padding-right: 1em; text-align: center; vertical-align: top\">9</td>\n",
       "    </tr>\n",
       "    <tr>\n",
       "        <td style=\"padding-left: 1em; padding-right: 1em; text-align: center; vertical-align: top\">web.de</td>\n",
       "        <td style=\"padding-left: 1em; padding-right: 1em; text-align: center; vertical-align: top\">asrv-a.akamaihd.net</td>\n",
       "        <td style=\"padding-left: 1em; padding-right: 1em; text-align: center; vertical-align: top\">0.0451586655818</td>\n",
       "        <td style=\"padding-left: 1em; padding-right: 1em; text-align: center; vertical-align: top\">10</td>\n",
       "    </tr>\n",
       "</table>\n",
       "[10 rows x 4 columns]<br/>\n",
       "</div>"
      ],
      "text/plain": [
       "Columns:\n",
       "\tdomain\tstr\n",
       "\tsimilar\tstr\n",
       "\tscore\tfloat\n",
       "\trank\tint\n",
       "\n",
       "Rows: 10\n",
       "\n",
       "Data:\n",
       "+--------+--------------------------+-----------------+------+\n",
       "| domain |         similar          |      score      | rank |\n",
       "+--------+--------------------------+-----------------+------+\n",
       "| web.de |     navigator.web.de     |  0.704318936877 |  1   |\n",
       "| web.de | logout.webde.uimserv.net |  0.434782608696 |  2   |\n",
       "| web.de |        3c.web.de         |  0.293436293436 |  3   |\n",
       "| web.de |     produkte.web.de      |  0.109756097561 |  4   |\n",
       "| web.de |        www.web.de        |  0.100694444444 |  5   |\n",
       "| web.de |    de.reimageplus.com    | 0.0944881889764 |  6   |\n",
       "| web.de |       suche.web.de       | 0.0698529411765 |  7   |\n",
       "| web.de |       www.ebay.de        | 0.0504672897196 |  8   |\n",
       "| web.de |      signin.ebay.de      | 0.0473372781065 |  9   |\n",
       "| web.de |   asrv-a.akamaihd.net    | 0.0451586655818 |  10  |\n",
       "+--------+--------------------------+-----------------+------+\n",
       "[10 rows x 4 columns]"
      ]
     },
     "execution_count": 20,
     "metadata": {},
     "output_type": "execute_result"
    }
   ],
   "source": [
    "model.get_similar_items(['web.de'])"
   ]
  },
  {
   "cell_type": "markdown",
   "metadata": {},
   "source": [
    "# Detecting sex websites"
   ]
  },
  {
   "cell_type": "code",
   "execution_count": 21,
   "metadata": {
    "collapsed": false
   },
   "outputs": [
    {
     "name": "stdout",
     "output_type": "stream",
     "text": [
      "7899  out of  355909   0.0221938754007\n"
     ]
    }
   ],
   "source": [
    "data['xxx'] = data['top_domain'].apply( \\\n",
    "        lambda x: 1 if (x.find('xxx') != -1 or x.find('porn') != -1 or x.find('sex') != -1) else 0)\n",
    "\n",
    "print data['xxx'].sum(), ' out of ', len(data), ' ', data['xxx'].sum() / float(len(data))"
   ]
  },
  {
   "cell_type": "code",
   "execution_count": null,
   "metadata": {
    "collapsed": false
   },
   "outputs": [],
   "source": []
  },
  {
   "cell_type": "code",
   "execution_count": null,
   "metadata": {
    "collapsed": false
   },
   "outputs": [],
   "source": []
  },
  {
   "cell_type": "markdown",
   "metadata": {},
   "source": [
    "# Finding similar users"
   ]
  },
  {
   "cell_type": "code",
   "execution_count": 22,
   "metadata": {
    "collapsed": false
   },
   "outputs": [
    {
     "name": "stdout",
     "output_type": "stream",
     "text": [
      "+----+-----------------------------------------+\n",
      "| id |                   guid                  |\n",
      "+----+-----------------------------------------+\n",
      "| 0  | ibic=A13287C222714B61B6D7AD45122A0135IE |\n",
      "| 1  | ibic=A28C2F85CB8C4D55BCB9613EFB0271EDIE |\n",
      "| 2  | ibic=C0D7B6C032774CAC823095D04381B015IE |\n",
      "+----+-----------------------------------------+\n",
      "+-------------------------------------------------------------------------------------------------------------------------+\n",
      "|                                                 Dict of top_domain_Count                                                |\n",
      "+-------------------------------------------------------------------------------------------------------------------------+\n",
      "| {'cpmterra.com': 1, 'snapdo.com': 5, 'erotikchat4free.de': 2, 'akamaihd.net': 2, 'fuq.com': 4, 'imagefap.com': 1, 'p... |\n",
      "| {'linesandsplines.com': 1, 't-online.de': 9, 'lpmxp1001.com': 1, 'srv123.com': 1, 'akamaihd.net': 3, '148casinos.com... |\n",
      "| {'ligatus.com': 2, 'vuupc.com': 1, 'updowntuv.com': 1, 'crobo.com': 1, 'williamhill.com': 1, 'amazonaws.com': 1, 'go... |\n",
      "+-------------------------------------------------------------------------------------------------------------------------+\n",
      "[6134 rows x 3 columns]\n",
      "\n"
     ]
    }
   ],
   "source": [
    "\n",
    "\n",
    "data2 = data.groupby(['guid','top_domain'], gl.aggregate.COUNT()) \\\n",
    "            .groupby(['guid'], gl.aggregate.CONCAT('top_domain', 'Count'))\n",
    "    \n",
    "data2 = data2.add_row_number()\n",
    "    \n",
    "data2.print_rows(3, max_column_width=120)"
   ]
  },
  {
   "cell_type": "code",
   "execution_count": 23,
   "metadata": {
    "collapsed": false
   },
   "outputs": [
    {
     "name": "stdout",
     "output_type": "stream",
     "text": [
      "PROGRESS: Starting brute force nearest neighbors model training.\n"
     ]
    }
   ],
   "source": [
    "nn_model = gl.nearest_neighbors.create(data2, features=['Dict of top_domain_Count'])"
   ]
  },
  {
   "cell_type": "code",
   "execution_count": 24,
   "metadata": {
    "collapsed": false
   },
   "outputs": [
    {
     "data": {
      "text/html": [
       "<div style=\"max-height:1000px;max-width:1500px;overflow:auto;\"><table frame=\"box\" rules=\"cols\">\n",
       "    <tr>\n",
       "        <th style=\"padding-left: 1em; padding-right: 1em; text-align: center\">guid</th>\n",
       "        <th style=\"padding-left: 1em; padding-right: 1em; text-align: center\">Sum of xxx</th>\n",
       "    </tr>\n",
       "    <tr>\n",
       "        <td style=\"padding-left: 1em; padding-right: 1em; text-align: center; vertical-align: top\">ibic=75802351FF90468CBE80<br>5B481CDF2611IE ...</td>\n",
       "        <td style=\"padding-left: 1em; padding-right: 1em; text-align: center; vertical-align: top\">211</td>\n",
       "    </tr>\n",
       "    <tr>\n",
       "        <td style=\"padding-left: 1em; padding-right: 1em; text-align: center; vertical-align: top\">ibic=DC6B2E3D103D402E8AC7<br>CF17F5C0728DIE ...</td>\n",
       "        <td style=\"padding-left: 1em; padding-right: 1em; text-align: center; vertical-align: top\">191</td>\n",
       "    </tr>\n",
       "    <tr>\n",
       "        <td style=\"padding-left: 1em; padding-right: 1em; text-align: center; vertical-align: top\">ibic=86C5254CA86F4D4CA933<br>3BADCB53E21CIE ...</td>\n",
       "        <td style=\"padding-left: 1em; padding-right: 1em; text-align: center; vertical-align: top\">182</td>\n",
       "    </tr>\n",
       "</table>\n",
       "[3 rows x 2 columns]<br/>\n",
       "</div>"
      ],
      "text/plain": [
       "Columns:\n",
       "\tguid\tstr\n",
       "\tSum of xxx\tint\n",
       "\n",
       "Rows: 3\n",
       "\n",
       "Data:\n",
       "+-------------------------------+------------+\n",
       "|              guid             | Sum of xxx |\n",
       "+-------------------------------+------------+\n",
       "| ibic=75802351FF90468CBE805... |    211     |\n",
       "| ibic=DC6B2E3D103D402E8AC7C... |    191     |\n",
       "| ibic=86C5254CA86F4D4CA9333... |    182     |\n",
       "+-------------------------------+------------+\n",
       "[3 rows x 2 columns]"
      ]
     },
     "execution_count": 24,
     "metadata": {},
     "output_type": "execute_result"
    }
   ],
   "source": [
    "# Find users who visit many porn sites\n",
    "user_xxx_counts = data.groupby('guid', gl.aggregate.SUM('xxx')).sort('Sum of xxx', ascending=False)\n",
    "user_xxx_counts.head(3)"
   ]
  },
  {
   "cell_type": "code",
   "execution_count": 25,
   "metadata": {
    "collapsed": false
   },
   "outputs": [
    {
     "name": "stdout",
     "output_type": "stream",
     "text": [
      "PROGRESS: Starting pairwise querying.\n",
      "PROGRESS: +--------------+---------+-------------+--------------+\n",
      "PROGRESS: | Query points | # Pairs | % Complete. | Elapsed Time |\n",
      "PROGRESS: +--------------+---------+-------------+--------------+\n",
      "PROGRESS: | 0            | 3       | 0.0163026   | 2.371ms      |\n",
      "PROGRESS: | Done         |         | 100         | 10.895ms     |\n",
      "PROGRESS: +--------------+---------+-------------+--------------+\n",
      "+-------------+-----------------+----------------+------+\n",
      "| query_label | reference_label |    distance    | rank |\n",
      "+-------------+-----------------+----------------+------+\n",
      "|      0      |       388       |      0.0       |  1   |\n",
      "|      0      |       4590      | 0.860465116279 |  2   |\n",
      "|      0      |       3316      | 0.870175438596 |  3   |\n",
      "|      0      |       2246      | 0.881278538813 |  4   |\n",
      "|      0      |       1695      | 0.912621359223 |  5   |\n",
      "|      1      |       3443      |      0.0       |  1   |\n",
      "|      1      |       895       | 0.94964028777  |  2   |\n",
      "|      1      |       1380      | 0.950495049505 |  3   |\n",
      "|      1      |       388       | 0.95971563981  |  4   |\n",
      "|      1      |       6016      | 0.960396039604 |  5   |\n",
      "+-------------+-----------------+----------------+------+\n",
      "[15 rows x 4 columns]\n",
      "Note: Only the head of the SFrame is printed.\n",
      "You can use print_rows(num_rows=m, num_columns=n) to print more rows and columns.\n"
     ]
    }
   ],
   "source": [
    "out = nn_model.query(data2.filter_by(user_xxx_counts.head(3)['guid'], 'guid'))\n",
    "print out"
   ]
  },
  {
   "cell_type": "code",
   "execution_count": 26,
   "metadata": {
    "collapsed": false
   },
   "outputs": [
    {
     "name": "stdout",
     "output_type": "stream",
     "text": [
      "+-------------+-----------------+---------------+------+-----------------------------------------+\n",
      "| query_label | reference_label |    distance   | rank |                   guid                  |\n",
      "+-------------+-----------------+---------------+------+-----------------------------------------+\n",
      "|      0      |       388       |      0.0      |  1   | ibic=A13287C222714B61B6D7AD45122A0135IE |\n",
      "|      1      |       388       | 0.95971563981 |  4   | ibic=A28C2F85CB8C4D55BCB9613EFB0271EDIE |\n",
      "|      1      |       895       | 0.94964028777 |  2   | ibic=A28C2F85CB8C4D55BCB9613EFB0271EDIE |\n",
      "+-------------+-----------------+---------------+------+-----------------------------------------+\n",
      "+-----------------------------------------------------------------------------------------------------+\n",
      "|                                       Dict of top_domain_Count                                      |\n",
      "+-----------------------------------------------------------------------------------------------------+\n",
      "| {'cpmterra.com': 1, 'snapdo.com': 5, 'erotikchat4free.de': 2, 'akamaihd.net': 2, 'fuq.com': 4, '... |\n",
      "| {'linesandsplines.com': 1, 't-online.de': 9, 'lpmxp1001.com': 1, 'srv123.com': 1, 'akamaihd.net'... |\n",
      "| {'linesandsplines.com': 1, 't-online.de': 9, 'lpmxp1001.com': 1, 'srv123.com': 1, 'akamaihd.net'... |\n",
      "+-----------------------------------------------------------------------------------------------------+\n",
      "+-----------------------------------------+\n",
      "|                  guid.1                 |\n",
      "+-----------------------------------------+\n",
      "| ibic=DC6B2E3D103D402E8AC7CF17F5C0728DIE |\n",
      "| ibic=DC6B2E3D103D402E8AC7CF17F5C0728DIE |\n",
      "| ibic=E5B1F22FE7704BB9AD0F7192C3F80DD7IE |\n",
      "+-----------------------------------------+\n",
      "+-----------------------------------------------------------------------------------------------------+\n",
      "|                                      Dict of top_domain_Count.1                                     |\n",
      "+-----------------------------------------------------------------------------------------------------+\n",
      "| {'ice-porn.com': 1, 'livehomemade.com': 4, 'depravedmovies.com': 1, 'klingenhaus.de': 1, '220tub... |\n",
      "| {'ice-porn.com': 1, 'livehomemade.com': 4, 'depravedmovies.com': 1, 'klingenhaus.de': 1, '220tub... |\n",
      "| {'youtube.com': 2, 'antalyaescortlari.com': 1, 'tube8.com': 2, 'keezmovies.com': 1, 'spankwire.c... |\n",
      "+-----------------------------------------------------------------------------------------------------+\n",
      "[15 rows x 8 columns]\n",
      "\n"
     ]
    }
   ],
   "source": [
    "out.join(data2, on={'query_label':'id'}).join(data2,on={'reference_label':'id'}).print_rows(3,max_column_width=100)"
   ]
  },
  {
   "cell_type": "code",
   "execution_count": null,
   "metadata": {
    "collapsed": true
   },
   "outputs": [],
   "source": []
  }
 ],
 "metadata": {
  "kernelspec": {
   "display_name": "Python 2",
   "language": "python",
   "name": "python2"
  },
  "language_info": {
   "codemirror_mode": {
    "name": "ipython",
    "version": 2
   },
   "file_extension": ".py",
   "mimetype": "text/x-python",
   "name": "python",
   "nbconvert_exporter": "python",
   "pygments_lexer": "ipython2",
   "version": "2.7.6"
  }
 },
 "nbformat": 4,
 "nbformat_minor": 0
}
