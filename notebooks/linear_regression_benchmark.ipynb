{
 "cells": [
  {
   "cell_type": "markdown",
   "metadata": {},
   "source": [
    "<h2>How fast are Out-of-Core Algorithms? A Linear Regression Benchmark</h2>\n",
    "\n",
    "In this notebook we demonstrate the capabilities of GraphLab Create on the basic task of linear regression, comparing it to the widely used machine learning package [scikit-learn](http://scikit-learn.org). Scikit-learn contains a wide range of machine learning algorithms with a great API and a large community supporting it. Although, most of its implementations are memory based, thus for modeling large datasets that do not fit into the memory of a single machine, one most use a subset of his data, or look to other tools that scale beyond the machine’s main memory. In this notebook we see how GraphLab Create does not suffer from this drawback, and how we can scale scikit-learn out-of-core when used in conjunction with GraphLab Create.\n",
    "<br>\n",
    "<br>\n",
    "For this purpose we use the [airline on-time performance dataset](http://stat-computing.org/dataexpo/2009/) which has information about flight arrival/departure times for 10 years of flights in the US. This dataset has 28 features, some of which are categorical with high cardinality. We will train linear regression models to predict the actual flight time of a given flight. For demonstration, we will only use the data of year 2008."
   ]
  },
  {
   "cell_type": "code",
   "execution_count": 1,
   "metadata": {
    "collapsed": false
   },
   "outputs": [],
   "source": [
    "import graphlab as gl"
   ]
  },
  {
   "cell_type": "markdown",
   "metadata": {},
   "source": [
    "The data was previously saved on S3 in SFrame format, after removing rows with missing values, and removing the columns 'DepDelay', 'AirTime' which are highly corrolated with our target value (otherwise we would get 0 RMSE). <br>\n",
    "The dataset contains ~1.5 million rows and is approximatly 42MB in SFrame format."
   ]
  },
  {
   "cell_type": "code",
   "execution_count": 2,
   "metadata": {
    "collapsed": false,
    "scrolled": false
   },
   "outputs": [
    {
     "name": "stderr",
     "output_type": "stream",
     "text": [
      "[INFO] This commercial license of GraphLab Create is assigned to engr@turi.com.\n",
      "\n",
      "[INFO] Start server at: ipc:///tmp/graphlab_server-5959 - Server binary: /usr/local/lib/python2.7/dist-packages/graphlab/unity_server - Server log: /tmp/graphlab_server_1447913214.log\n",
      "[INFO] GraphLab Server Version: 1.6.1\n"
     ]
    },
    {
     "name": "stdout",
     "output_type": "stream",
     "text": [
      "PROGRESS: Downloading https://static.turi.com/datasets//airlines-2008.gl/dir_archive.ini to /var/tmp/graphlab-alonpal/5959/a0e5f2fa-6808-43e8-86fb-207a36d49956.ini\n",
      "PROGRESS: Downloading https://static.turi.com/datasets//airlines-2008.gl/objects.bin to /var/tmp/graphlab-alonpal/5959/7570509d-4e9e-4495-9418-9864e5743201.bin\n",
      "PROGRESS: Downloading https://static.turi.com/datasets//airlines-2008.gl/m_f5e23f052ee2abf0.frame_idx to /var/tmp/graphlab-alonpal/5959/41ba5134-ba52-4036-9feb-2ee02a50a4e7.frame_idx\n",
      "PROGRESS: Downloading https://static.turi.com/datasets//airlines-2008.gl/m_f5e23f052ee2abf0.sidx to /var/tmp/graphlab-alonpal/5959/90ac362b-037e-4ccf-88d1-c3b3dd0b9596.sidx\n"
     ]
    }
   ],
   "source": [
    "data = gl.SFrame('https://static.turi.com/datasets//airlines-2008.gl')"
   ]
  },
  {
   "cell_type": "markdown",
   "metadata": {},
   "source": [
    "In order to time the training processes of GraphLab Create (GLC) and scikit-learn (SKL), and return the trained models, using the timeit module, we need to define a wrapper function for each package. <br>"
   ]
  },
  {
   "cell_type": "markdown",
   "metadata": {},
   "source": [
    "<h4> GraphLab Create wrapper</h4>\n",
    "Most of the features that GLC's linear regression model takes care of automatically (such as data rescaling and validation) are disabled here in order to be as close as possible to SKL's linear regression in terms of predictive performance."
   ]
  },
  {
   "cell_type": "code",
   "execution_count": 2,
   "metadata": {
    "collapsed": false
   },
   "outputs": [],
   "source": [
    "#Wrapper function for timeit module\n",
    "#Uses GraphLab Create to compute a linear regression model on the data\n",
    "def GLC_linear_regression(data, model):\n",
    "    #Create linear regression model and save it in model\n",
    "    model.append(gl.linear_regression.create(data, \n",
    "                                             target='ActualElapsedTime',\n",
    "                                             verbose=False, \n",
    "                                             solver='newton',\n",
    "                                             l1_penalty=0, \n",
    "                                             l2_penalty=0,\n",
    "                                             validation_set=None, \n",
    "                                             feature_rescaling=False, \n",
    "                                             max_iterations=1))"
   ]
  },
  {
   "cell_type": "markdown",
   "metadata": {},
   "source": [
    "<h4> scikit-learn wrapper</h4>\n",
    "Notice that SKL models expect the features and the target to be seperated. <br>\n",
    "One can set copy_X=False while training SKL models to eliminate an additional data copy. This reduces memory utilization although can corrupt the training data. We encourage readers to experiment with this option."
   ]
  },
  {
   "cell_type": "code",
   "execution_count": 4,
   "metadata": {
    "collapsed": false
   },
   "outputs": [],
   "source": [
    "import pandas as pd\n",
    "from sklearn import linear_model\n",
    "\n",
    "#Wrapper function for timeit module\n",
    "#Uses Scikit-Learn to compute a linear regression model on the data\n",
    "def SKL_linear_regression(features, target, model):\n",
    "    #Create linear regression model and save it in model\n",
    "    model.append(linear_model.LinearRegression())\n",
    "    model[0].fit(features, target)"
   ]
  },
  {
   "cell_type": "markdown",
   "metadata": {},
   "source": [
    "Let's define an additional function for each package that will handle timing and evaluating our models."
   ]
  },
  {
   "cell_type": "code",
   "execution_count": 5,
   "metadata": {
    "collapsed": true
   },
   "outputs": [],
   "source": [
    "from timeit import timeit\n",
    "\n",
    "def GLC_time_evaluate(data, time, rmse):\n",
    "    #List to capture the model within the timeit function\n",
    "    model = []\n",
    "    \n",
    "    #Time GLC linear regression training time\n",
    "    time.append(timeit(lambda : GLC_linear_regression(data, model), number=1))\n",
    "    \n",
    "    #Save the training RMSE of the GLC model\n",
    "    rmse.append(model[0].get('training_rmse'))"
   ]
  },
  {
   "cell_type": "markdown",
   "metadata": {},
   "source": [
    "Before training a model in SKL on data including categorical features, we must first process these features using pandas get_dummies function which them using one-hot-encoding."
   ]
  },
  {
   "cell_type": "code",
   "execution_count": 6,
   "metadata": {
    "collapsed": false
   },
   "outputs": [],
   "source": [
    "from sklearn.metrics import mean_squared_error\n",
    "\n",
    "def SKL_time_evaluate(data, time, rmse):\n",
    "    #Transform the data into a pandas data frame\n",
    "    df = data.to_dataframe()\n",
    "    \n",
    "    #Split the target from the features for SKL\n",
    "    target = df['ActualElapsedTime']\n",
    "    features = df.drop('ActualElapsedTime', 1)\n",
    "    \n",
    "    #One-hot-encode categorical features\n",
    "    features = pd.get_dummies(features)\n",
    "\n",
    "    #List to capture the model within the timeit function\n",
    "    model = []\n",
    "    \n",
    "    #Time SKL linear regression training time\n",
    "    time.append(timeit(lambda : SKL_linear_regression(features, target, model), number=1))\n",
    "    \n",
    "    #Save the training RMSE of the GLC model\n",
    "    rmse.append(mean_squared_error(target, model[0].predict(features))**0.5)"
   ]
  },
  {
   "cell_type": "markdown",
   "metadata": {},
   "source": [
    "Since this encoding happens in-memory, the datasets become quite large and occupie much more memory (depending on the cardinality of the categorical features). On my 8GB machine, I could not train a linear regression model using SKL on more than 90k rows of data.\n",
    "<br>\n",
    "<br>\n",
    "We now feed the functions training sets of increasing size, and save the training time and RMSE for each model so we can plot them later on."
   ]
  },
  {
   "cell_type": "code",
   "execution_count": 7,
   "metadata": {
    "collapsed": false
   },
   "outputs": [],
   "source": [
    "glc_time = []\n",
    "glc_rmse = []\n",
    "\n",
    "skl_time = []\n",
    "skl_rmse = []\n",
    "\n",
    "#Time both libraries on datasets of increasing size\n",
    "rows_range = range(5000, 90001, 2500)\n",
    "for n_rows in rows_range:  \n",
    "    #Create a new SFrame with n_rows out of the data\n",
    "    sf = data.head(n_rows)\n",
    "    \n",
    "    #Time and evaluate GLC linear regression model\n",
    "    GLC_time_evaluate(sf, glc_time, glc_rmse)\n",
    "    \n",
    "    #Time and evaluate SKL linear regression model\n",
    "    SKL_time_evaluate(sf, skl_time, skl_rmse)"
   ]
  },
  {
   "cell_type": "markdown",
   "metadata": {},
   "source": [
    "<h1> Scaling up scikit-learn</h1>\n",
    "<br>\n",
    "GraphLab Create provides its own numpy implementation, where numpy arrays are backed by SFrames, scaling them out-of-core. This allows running some of the scikit-learn algorithms on larger scale without having to change any code.<br>\n",
    "SKL also implements SGD regressor which can be used for linear regression. Using the partial fit method, one could make it work out-of-core. The downside is that SGD is a notoriously hard algorithm to tune. Hence, getting the algorithm to obtain the same level of accuracy is challenging. We found the out-of-core numpy feature to be an easier way to implement out-of-core linear regression in SKL as we will see in later in this notebook."
   ]
  },
  {
   "cell_type": "code",
   "execution_count": 8,
   "metadata": {
    "collapsed": false
   },
   "outputs": [
    {
     "name": "stdout",
     "output_type": "stream",
     "text": [
      "Scalable Numpy Activation Successful\n"
     ]
    }
   ],
   "source": [
    "import numpy as np\n",
    "import graphlab.numpy"
   ]
  },
  {
   "cell_type": "markdown",
   "metadata": {},
   "source": [
    "Time scikit-learn backed by SFrame on the first 90K rows of data and save the results."
   ]
  },
  {
   "cell_type": "code",
   "execution_count": 9,
   "metadata": {
    "collapsed": true
   },
   "outputs": [],
   "source": [
    "np_time = []\n",
    "np_rmse = []\n",
    "\n",
    "#Time skl using SFrame backed numpy arrays on datasets of increasing size\n",
    "rows_range = range(5000, 90001, 2500)\n",
    "for n_rows in rows_range:\n",
    "    #Create a new SFrame with n_rows out of the data\n",
    "    sf = data.head(n_rows)\n",
    "    \n",
    "    #Time and evaluate SKL linear regression model backed by SFrame\n",
    "    SKL_time_evaluate(sf, np_time, np_rmse)"
   ]
  },
  {
   "cell_type": "markdown",
   "metadata": {},
   "source": [
    "Let's continue increasing the size of the training set for GLC and SKL backed by SFrames. <br>\n",
    "Notice that we are using the exact same code as before backing numpy arrays by SFrames, only that now we are able to train on larger datasets. "
   ]
  },
  {
   "cell_type": "code",
   "execution_count": 10,
   "metadata": {
    "collapsed": true
   },
   "outputs": [],
   "source": [
    "rows_range = range(92500, 100001, 2500)\n",
    "for n_rows in rows_range:\n",
    "    #Create a new SFrame with n_rows out of the data\n",
    "    sf = data.head(n_rows)\n",
    "    \n",
    "    #Time and evaluate GLC linear regression model\n",
    "    GLC_time_evaluate(sf, glc_time, glc_rmse)\n",
    "    \n",
    "    #Time and evaluate SKL linear regression model backed by SFrame\n",
    "    SKL_time_evaluate(sf, np_time, np_rmse)"
   ]
  },
  {
   "cell_type": "markdown",
   "metadata": {},
   "source": [
    "<h1> Plotting the results</h1>\n"
   ]
  },
  {
   "cell_type": "markdown",
   "metadata": {},
   "source": [
    "First, let's look at the RMSE of all models."
   ]
  },
  {
   "cell_type": "code",
   "execution_count": 11,
   "metadata": {
    "collapsed": false
   },
   "outputs": [
    {
     "data": {
      "image/png": "[encoded data removed]",
      "text/plain": [
       "<matplotlib.figure.Figure at 0x7fb6de5fbf50>"
      ]
     },
     "metadata": {},
     "output_type": "display_data"
    }
   ],
   "source": [
    "import matplotlib.pyplot as plt\n",
    "%matplotlib inline\n",
    "\n",
    "skl_range = np.array(range(5000, 90001, 2500))\n",
    "glc_range = np.array(range(5000, 100001, 2500))\n",
    "\n",
    "plt.figure()\n",
    "\n",
    "plt.scatter(skl_range, skl_rmse, label='scikit-learn', c='g', marker='o', s=100)\n",
    "plt.scatter(glc_range, np_rmse, label='scikit-learn backed by SFrame', c='y', marker='*', s=100)\n",
    "plt.scatter(glc_range, glc_rmse, label='GraphLab Create', c='b', marker='+', s=100)\n",
    "\n",
    "plt.title('Linear Regression Error')\n",
    "plt.xlabel('Rows of Data')\n",
    "plt.ylabel('RMSE')\n",
    "\n",
    "plt.ylim((min(glc_rmse) - 1, max(glc_rmse) + 1))\n",
    "plt.xlim((0, max(glc_range)))\n",
    "\n",
    "plt.legend(loc=4)\n",
    "\n",
    "plt.show()"
   ]
  },
  {
   "cell_type": "markdown",
   "metadata": {},
   "source": [
    "We see that the RMSE of all models trained by both packages is (almost) identical. This may not be true for more comlex models, and greatly depends on different hyperparameters."
   ]
  },
  {
   "cell_type": "markdown",
   "metadata": {},
   "source": [
    "Now let's compare the training time of all models."
   ]
  },
  {
   "cell_type": "code",
   "execution_count": 12,
   "metadata": {
    "collapsed": false
   },
   "outputs": [
    {
     "data": {
      "image/png": "[encoded data removed]",
      "text/plain": [
       "<matplotlib.figure.Figure at 0x7fb6dc1199d0>"
      ]
     },
     "metadata": {},
     "output_type": "display_data"
    }
   ],
   "source": [
    "plt.figure()\n",
    "\n",
    "plt.scatter(skl_range, skl_time, label='scikit-learn', c='g', marker='o', s=75)\n",
    "plt.scatter(glc_range, np_time, label='scikit-learn backed by SFrame', c='y', marker='o', s=75)\n",
    "plt.scatter(glc_range, glc_time, label='GraphLab Create', c='b', marker='o', s=75)\n",
    "\n",
    "plt.annotate(s='Out of Memory', xy=(skl_range[-1], skl_time[-1]))\n",
    "\n",
    "plt.title('Linear Regression Training Time')\n",
    "plt.xlabel('Rows of Data')\n",
    "plt.ylabel('Seconds')\n",
    "\n",
    "plt.ylim((0, max(np_time)))\n",
    "plt.xlim((0, max(glc_range)))\n",
    "\n",
    "plt.legend(loc=2)\n",
    "\n",
    "plt.show()"
   ]
  },
  {
   "cell_type": "markdown",
   "metadata": {
    "collapsed": true
   },
   "source": [
    "We see that GLC makes use of the full capacity of a desktop's computational power and scales very well with the size of the given dataset. While backing scikit-learn by SFrame, we were able to train linear regression models on datasets of increasing size, but the training time is a couple of orders of magnitude slower than that of GraphLab Create. We encourage you to download the notebook and try this benchmark for yourself on your own setup.\n",
    "<br>\n",
    "<br>\n",
    "For completeness, let's train using GLC on the entire dataset which contains ~1.5 million rows. <br>\n",
    "Note that we could do so too for SKL backed by SFrame but it would be too time consuming."
   ]
  },
  {
   "cell_type": "code",
   "execution_count": 13,
   "metadata": {
    "collapsed": false
   },
   "outputs": [
    {
     "data": {
      "text/plain": [
       "38.17780804634094"
      ]
     },
     "execution_count": 13,
     "metadata": {},
     "output_type": "execute_result"
    }
   ],
   "source": [
    "timeit(lambda : GLC_linear_regression(data, []), number=1)"
   ]
  },
  {
   "cell_type": "markdown",
   "metadata": {},
   "source": [
    "We encourage you to download the notebook and try this benchmark for yourself on your own setup."
   ]
  }
 ],
 "metadata": {
  "kernelspec": {
   "display_name": "Python 2",
   "language": "python",
   "name": "python2"
  },
  "language_info": {
   "codemirror_mode": {
    "name": "ipython",
    "version": 2
   },
   "file_extension": ".py",
   "mimetype": "text/x-python",
   "name": "python",
   "nbconvert_exporter": "python",
   "pygments_lexer": "ipython2",
   "version": "2.7.10"
  }
 },
 "nbformat": 4,
 "nbformat_minor": 0
}
