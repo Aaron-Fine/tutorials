{
 "cells": [
  {
   "cell_type": "markdown",
   "metadata": {},
   "source": [
    "# Detecting Credit Card Fraud"
   ]
  },
  {
   "cell_type": "markdown",
   "metadata": {},
   "source": [
    "In this notebook we will use GraphLab Create to identify a large majority of fraud cases in real-world data from an online retailer. Starting by a simple fraud classifier we will optimize it for the best available performance.<br>\n",
    "The dataset is higly sensitive, thus it is anonymized and <b>cannot be shared</b>.\n",
    "\n",
    "The notebook is orginaized into the following sections:\n",
    "- <a href=\"#load\">Load and explore the data</a>\n",
    "- <a href=\"#features\">Create new features</a>\n",
    "- <a href=\"#split\">Split data into train and test sets</a>\n",
    "- <a href=\"#model\">Create different models</a>\n",
    "- <a href=\"#deploy\">Deploy models as REST service</a>\n",
    "\n",
    "This notebook is presented in the Detecting Credit Card Fraud webinar, one of many interesting webinars given by Turi. Check out upcoming webinars [here](https://turi.com/events/)."
   ]
  },
  {
   "cell_type": "markdown",
   "metadata": {},
   "source": [
    "## <a id=\"load\"></a> Load and explore the data"
   ]
  },
  {
   "cell_type": "code",
   "execution_count": 1,
   "metadata": {
    "collapsed": false
   },
   "outputs": [],
   "source": [
    "import graphlab as gl"
   ]
  },
  {
   "cell_type": "code",
   "execution_count": 2,
   "metadata": {
    "collapsed": false
   },
   "outputs": [
    {
     "name": "stderr",
     "output_type": "stream",
     "text": [
      "2016-03-24 12:26:26,697 [INFO] graphlab.cython.cy_server, 176: GraphLab Create v1.8.5 started. Logging: C:\\Users\\Alon\\AppData\\Local\\Temp\\graphlab_server_1458815185.log.0\n"
     ]
    },
    {
     "name": "stdout",
     "output_type": "stream",
     "text": [
      "This commercial license of GraphLab Create is assigned to engr@turi.com.\n"
     ]
    }
   ],
   "source": [
    "data = gl.SFrame('fraud_detection.sf')"
   ]
  },
  {
   "cell_type": "code",
   "execution_count": 3,
   "metadata": {
    "collapsed": false,
    "scrolled": false
   },
   "outputs": [
    {
     "data": {
      "text/html": [
       "<div style=\"max-height:1000px;max-width:1500px;overflow:auto;\"><table frame=\"box\" rules=\"cols\">\n",
       "    <tr>\n",
       "        <th style=\"padding-left: 1em; padding-right: 1em; text-align: center\">transaction status</th>\n",
       "        <th style=\"padding-left: 1em; padding-right: 1em; text-align: center\">fraud</th>\n",
       "        <th style=\"padding-left: 1em; padding-right: 1em; text-align: center\">payment lead days</th>\n",
       "        <th style=\"padding-left: 1em; padding-right: 1em; text-align: center\">days to event</th>\n",
       "        <th style=\"padding-left: 1em; padding-right: 1em; text-align: center\">currency</th>\n",
       "        <th style=\"padding-left: 1em; padding-right: 1em; text-align: center\">is customer email free</th>\n",
       "        <th style=\"padding-left: 1em; padding-right: 1em; text-align: center\">blacklisted</th>\n",
       "        <th style=\"padding-left: 1em; padding-right: 1em; text-align: center\">review by payment gateway</th>\n",
       "    </tr>\n",
       "    <tr>\n",
       "        <td style=\"padding-left: 1em; padding-right: 1em; text-align: center; vertical-align: top\">S1</td>\n",
       "        <td style=\"padding-left: 1em; padding-right: 1em; text-align: center; vertical-align: top\">yes</td>\n",
       "        <td style=\"padding-left: 1em; padding-right: 1em; text-align: center; vertical-align: top\">59.0</td>\n",
       "        <td style=\"padding-left: 1em; padding-right: 1em; text-align: center; vertical-align: top\">165.0</td>\n",
       "        <td style=\"padding-left: 1em; padding-right: 1em; text-align: center; vertical-align: top\">A7</td>\n",
       "        <td style=\"padding-left: 1em; padding-right: 1em; text-align: center; vertical-align: top\">yes</td>\n",
       "        <td style=\"padding-left: 1em; padding-right: 1em; text-align: center; vertical-align: top\">no</td>\n",
       "        <td style=\"padding-left: 1em; padding-right: 1em; text-align: center; vertical-align: top\">no</td>\n",
       "    </tr>\n",
       "    <tr>\n",
       "        <td style=\"padding-left: 1em; padding-right: 1em; text-align: center; vertical-align: top\">S1</td>\n",
       "        <td style=\"padding-left: 1em; padding-right: 1em; text-align: center; vertical-align: top\">yes</td>\n",
       "        <td style=\"padding-left: 1em; padding-right: 1em; text-align: center; vertical-align: top\">8.0</td>\n",
       "        <td style=\"padding-left: 1em; padding-right: 1em; text-align: center; vertical-align: top\">91.0</td>\n",
       "        <td style=\"padding-left: 1em; padding-right: 1em; text-align: center; vertical-align: top\">A7</td>\n",
       "        <td style=\"padding-left: 1em; padding-right: 1em; text-align: center; vertical-align: top\">no</td>\n",
       "        <td style=\"padding-left: 1em; padding-right: 1em; text-align: center; vertical-align: top\">no</td>\n",
       "        <td style=\"padding-left: 1em; padding-right: 1em; text-align: center; vertical-align: top\">no</td>\n",
       "    </tr>\n",
       "    <tr>\n",
       "        <td style=\"padding-left: 1em; padding-right: 1em; text-align: center; vertical-align: top\">S1</td>\n",
       "        <td style=\"padding-left: 1em; padding-right: 1em; text-align: center; vertical-align: top\">yes</td>\n",
       "        <td style=\"padding-left: 1em; padding-right: 1em; text-align: center; vertical-align: top\">2.0</td>\n",
       "        <td style=\"padding-left: 1em; padding-right: 1em; text-align: center; vertical-align: top\">16.0</td>\n",
       "        <td style=\"padding-left: 1em; padding-right: 1em; text-align: center; vertical-align: top\">A7</td>\n",
       "        <td style=\"padding-left: 1em; padding-right: 1em; text-align: center; vertical-align: top\">no</td>\n",
       "        <td style=\"padding-left: 1em; padding-right: 1em; text-align: center; vertical-align: top\">no</td>\n",
       "        <td style=\"padding-left: 1em; padding-right: 1em; text-align: center; vertical-align: top\">no</td>\n",
       "    </tr>\n",
       "</table>\n",
       "<table frame=\"box\" rules=\"cols\">\n",
       "    <tr>\n",
       "        <th style=\"padding-left: 1em; padding-right: 1em; text-align: center\">quote amount</th>\n",
       "        <th style=\"padding-left: 1em; padding-right: 1em; text-align: center\">payment amount</th>\n",
       "        <th style=\"padding-left: 1em; padding-right: 1em; text-align: center\">transaction id</th>\n",
       "        <th style=\"padding-left: 1em; padding-right: 1em; text-align: center\">secure payment</th>\n",
       "        <th style=\"padding-left: 1em; padding-right: 1em; text-align: center\">fully paid</th>\n",
       "        <th style=\"padding-left: 1em; padding-right: 1em; text-align: center\">customer id</th>\n",
       "    </tr>\n",
       "    <tr>\n",
       "        <td style=\"padding-left: 1em; padding-right: 1em; text-align: center; vertical-align: top\">2963.0</td>\n",
       "        <td style=\"padding-left: 1em; padding-right: 1em; text-align: center; vertical-align: top\">1482.0</td>\n",
       "        <td style=\"padding-left: 1em; padding-right: 1em; text-align: center; vertical-align: top\">1b39953393a43642319365a3e<br>fbf68f6 ...</td>\n",
       "        <td style=\"padding-left: 1em; padding-right: 1em; text-align: center; vertical-align: top\">no</td>\n",
       "        <td style=\"padding-left: 1em; padding-right: 1em; text-align: center; vertical-align: top\">yes</td>\n",
       "        <td style=\"padding-left: 1em; padding-right: 1em; text-align: center; vertical-align: top\">90f5c4ed986bb4e7d41fe2141<br>a75d451 ...</td>\n",
       "    </tr>\n",
       "    <tr>\n",
       "        <td style=\"padding-left: 1em; padding-right: 1em; text-align: center; vertical-align: top\">1440.0</td>\n",
       "        <td style=\"padding-left: 1em; padding-right: 1em; text-align: center; vertical-align: top\">1441.0</td>\n",
       "        <td style=\"padding-left: 1em; padding-right: 1em; text-align: center; vertical-align: top\">efa12fbba6a3f73b41c8fc1f7<br>aaa32f7 ...</td>\n",
       "        <td style=\"padding-left: 1em; padding-right: 1em; text-align: center; vertical-align: top\">no</td>\n",
       "        <td style=\"padding-left: 1em; padding-right: 1em; text-align: center; vertical-align: top\">yes</td>\n",
       "        <td style=\"padding-left: 1em; padding-right: 1em; text-align: center; vertical-align: top\">e11163ad83a7f893b94c28eed<br>3f3dc6c ...</td>\n",
       "    </tr>\n",
       "    <tr>\n",
       "        <td style=\"padding-left: 1em; padding-right: 1em; text-align: center; vertical-align: top\">983.0</td>\n",
       "        <td style=\"padding-left: 1em; padding-right: 1em; text-align: center; vertical-align: top\">492.0</td>\n",
       "        <td style=\"padding-left: 1em; padding-right: 1em; text-align: center; vertical-align: top\">b514124a97b987798fce8ac43<br>3a5c727 ...</td>\n",
       "        <td style=\"padding-left: 1em; padding-right: 1em; text-align: center; vertical-align: top\">no</td>\n",
       "        <td style=\"padding-left: 1em; padding-right: 1em; text-align: center; vertical-align: top\">yes</td>\n",
       "        <td style=\"padding-left: 1em; padding-right: 1em; text-align: center; vertical-align: top\">a9062874e5c02a4c1673cd942<br>e97a3af ...</td>\n",
       "    </tr>\n",
       "</table>\n",
       "<table frame=\"box\" rules=\"cols\">\n",
       "    <tr>\n",
       "        <th style=\"padding-left: 1em; padding-right: 1em; text-align: center\">customer</th>\n",
       "        <th style=\"padding-left: 1em; padding-right: 1em; text-align: center\">cardholder</th>\n",
       "        <th style=\"padding-left: 1em; padding-right: 1em; text-align: center\">business type</th>\n",
       "        <th style=\"padding-left: 1em; padding-right: 1em; text-align: center\">credit card company</th>\n",
       "    </tr>\n",
       "    <tr>\n",
       "        <td style=\"padding-left: 1em; padding-right: 1em; text-align: center; vertical-align: top\">d4f4f004f6dfa77989cabbf75<br>64bbca310bc5dc2 ...</td>\n",
       "        <td style=\"padding-left: 1em; padding-right: 1em; text-align: center; vertical-align: top\">33b8e7c599fb5d8d0c9a17c49<br>edf2a2e88150a84 ...</td>\n",
       "        <td style=\"padding-left: 1em; padding-right: 1em; text-align: center; vertical-align: top\">E74</td>\n",
       "        <td style=\"padding-left: 1em; padding-right: 1em; text-align: center; vertical-align: top\">None</td>\n",
       "    </tr>\n",
       "    <tr>\n",
       "        <td style=\"padding-left: 1em; padding-right: 1em; text-align: center; vertical-align: top\">dc1894b3c9801372d775ae86a<br>936cc05129632ed ...</td>\n",
       "        <td style=\"padding-left: 1em; padding-right: 1em; text-align: center; vertical-align: top\">4977e7ad7ec55a58c99b95649<br>38de41677063fd1 ...</td>\n",
       "        <td style=\"padding-left: 1em; padding-right: 1em; text-align: center; vertical-align: top\">E98</td>\n",
       "        <td style=\"padding-left: 1em; padding-right: 1em; text-align: center; vertical-align: top\">T2</td>\n",
       "    </tr>\n",
       "    <tr>\n",
       "        <td style=\"padding-left: 1em; padding-right: 1em; text-align: center; vertical-align: top\">98d5fbbe4ee07096e325307e3<br>e30bb58801832ff ...</td>\n",
       "        <td style=\"padding-left: 1em; padding-right: 1em; text-align: center; vertical-align: top\">67bed2dbdfd986dcb5a172325<br>c70b6eabcfb3f9c ...</td>\n",
       "        <td style=\"padding-left: 1em; padding-right: 1em; text-align: center; vertical-align: top\">E98</td>\n",
       "        <td style=\"padding-left: 1em; padding-right: 1em; text-align: center; vertical-align: top\">T2</td>\n",
       "    </tr>\n",
       "</table>\n",
       "<table frame=\"box\" rules=\"cols\">\n",
       "    <tr>\n",
       "        <th style=\"padding-left: 1em; padding-right: 1em; text-align: center\">customer email domain</th>\n",
       "        <th style=\"padding-left: 1em; padding-right: 1em; text-align: center\">business country</th>\n",
       "        <th style=\"padding-left: 1em; padding-right: 1em; text-align: center\">customer country</th>\n",
       "        <th style=\"padding-left: 1em; padding-right: 1em; text-align: center\">business email domain</th>\n",
       "    </tr>\n",
       "    <tr>\n",
       "        <td style=\"padding-left: 1em; padding-right: 1em; text-align: center; vertical-align: top\">7db8006395b7071940049e927<br>a53424292857302 ...</td>\n",
       "        <td style=\"padding-left: 1em; padding-right: 1em; text-align: center; vertical-align: top\">C75</td>\n",
       "        <td style=\"padding-left: 1em; padding-right: 1em; text-align: center; vertical-align: top\">C75</td>\n",
       "        <td style=\"padding-left: 1em; padding-right: 1em; text-align: center; vertical-align: top\">5411cdc646249d74e1fbb6151<br>015029f11ae176f ...</td>\n",
       "    </tr>\n",
       "    <tr>\n",
       "        <td style=\"padding-left: 1em; padding-right: 1em; text-align: center; vertical-align: top\">e289c31d6c18bfb805b680b16<br>6b5dcd3258290a5 ...</td>\n",
       "        <td style=\"padding-left: 1em; padding-right: 1em; text-align: center; vertical-align: top\">C75</td>\n",
       "        <td style=\"padding-left: 1em; padding-right: 1em; text-align: center; vertical-align: top\">C75</td>\n",
       "        <td style=\"padding-left: 1em; padding-right: 1em; text-align: center; vertical-align: top\">fcc17e12e4ea7f72fb32d9ebb<br>9e147ea17319baf ...</td>\n",
       "    </tr>\n",
       "    <tr>\n",
       "        <td style=\"padding-left: 1em; padding-right: 1em; text-align: center; vertical-align: top\">68ff4e7162144205e744ae00e<br>efe087cc7623407 ...</td>\n",
       "        <td style=\"padding-left: 1em; padding-right: 1em; text-align: center; vertical-align: top\">None</td>\n",
       "        <td style=\"padding-left: 1em; padding-right: 1em; text-align: center; vertical-align: top\">C75</td>\n",
       "        <td style=\"padding-left: 1em; padding-right: 1em; text-align: center; vertical-align: top\">bed849f4a1278205ca2523383<br>149a55e1142cbe1 ...</td>\n",
       "    </tr>\n",
       "</table>\n",
       "<table frame=\"box\" rules=\"cols\">\n",
       "    <tr>\n",
       "        <th style=\"padding-left: 1em; padding-right: 1em; text-align: center\">credit card number</th>\n",
       "        <th style=\"padding-left: 1em; padding-right: 1em; text-align: center\">credit card expiration<br>month ...</th>\n",
       "        <th style=\"padding-left: 1em; padding-right: 1em; text-align: center\">credit card expiration<br>year ...</th>\n",
       "        <th style=\"padding-left: 1em; padding-right: 1em; text-align: center\">ip</th>\n",
       "        <th style=\"padding-left: 1em; padding-right: 1em; text-align: center\">transaction date</th>\n",
       "    </tr>\n",
       "    <tr>\n",
       "        <td style=\"padding-left: 1em; padding-right: 1em; text-align: center; vertical-align: top\">0c848d301fcbdbfdf7a7f8767<br>d8d803713cb0073965e67 ...</td>\n",
       "        <td style=\"padding-left: 1em; padding-right: 1em; text-align: center; vertical-align: top\">04</td>\n",
       "        <td style=\"padding-left: 1em; padding-right: 1em; text-align: center; vertical-align: top\">2015</td>\n",
       "        <td style=\"padding-left: 1em; padding-right: 1em; text-align: center; vertical-align: top\">209.149.63.230</td>\n",
       "        <td style=\"padding-left: 1em; padding-right: 1em; text-align: center; vertical-align: top\">17.10.2013</td>\n",
       "    </tr>\n",
       "    <tr>\n",
       "        <td style=\"padding-left: 1em; padding-right: 1em; text-align: center; vertical-align: top\">f56334df48679d5bd83357bd3<br>7bbd6672d37a38a53aee6 ...</td>\n",
       "        <td style=\"padding-left: 1em; padding-right: 1em; text-align: center; vertical-align: top\">08</td>\n",
       "        <td style=\"padding-left: 1em; padding-right: 1em; text-align: center; vertical-align: top\">2016</td>\n",
       "        <td style=\"padding-left: 1em; padding-right: 1em; text-align: center; vertical-align: top\">184.80.149.174</td>\n",
       "        <td style=\"padding-left: 1em; padding-right: 1em; text-align: center; vertical-align: top\">15.08.2013</td>\n",
       "    </tr>\n",
       "    <tr>\n",
       "        <td style=\"padding-left: 1em; padding-right: 1em; text-align: center; vertical-align: top\">4f14f4d46dff976de1d9170cb<br>a19886dd8de479cf76adf ...</td>\n",
       "        <td style=\"padding-left: 1em; padding-right: 1em; text-align: center; vertical-align: top\">08</td>\n",
       "        <td style=\"padding-left: 1em; padding-right: 1em; text-align: center; vertical-align: top\">2014</td>\n",
       "        <td style=\"padding-left: 1em; padding-right: 1em; text-align: center; vertical-align: top\">47.251.202.177</td>\n",
       "        <td style=\"padding-left: 1em; padding-right: 1em; text-align: center; vertical-align: top\">11.05.2013</td>\n",
       "    </tr>\n",
       "</table>\n",
       "[3 rows x 27 columns]<br/>\n",
       "</div>"
      ],
      "text/plain": [
       "Columns:\n",
       "\ttransaction status\tstr\n",
       "\tfraud\tstr\n",
       "\tpayment lead days\tfloat\n",
       "\tdays to event\tfloat\n",
       "\tcurrency\tstr\n",
       "\tis customer email free\tstr\n",
       "\tblacklisted\tstr\n",
       "\treview by payment gateway\tstr\n",
       "\tquote amount\tfloat\n",
       "\tpayment amount\tfloat\n",
       "\ttransaction id\tstr\n",
       "\tsecure payment\tstr\n",
       "\tfully paid\tstr\n",
       "\tcustomer id\tstr\n",
       "\tcustomer\tstr\n",
       "\tcardholder\tstr\n",
       "\tbusiness type\tstr\n",
       "\tcredit card company\tstr\n",
       "\tcustomer email domain\tstr\n",
       "\tbusiness country\tstr\n",
       "\tcustomer country\tstr\n",
       "\tbusiness email domain\tstr\n",
       "\tcredit card number\tstr\n",
       "\tcredit card expiration month\tstr\n",
       "\tcredit card expiration year\tstr\n",
       "\tip\tstr\n",
       "\ttransaction date\tstr\n",
       "\n",
       "Rows: 3\n",
       "\n",
       "Data:\n",
       "+--------------------+-------+-------------------+---------------+----------+\n",
       "| transaction status | fraud | payment lead days | days to event | currency |\n",
       "+--------------------+-------+-------------------+---------------+----------+\n",
       "|         S1         |  yes  |        59.0       |     165.0     |    A7    |\n",
       "|         S1         |  yes  |        8.0        |      91.0     |    A7    |\n",
       "|         S1         |  yes  |        2.0        |      16.0     |    A7    |\n",
       "+--------------------+-------+-------------------+---------------+----------+\n",
       "+------------------------+-------------+---------------------------+--------------+\n",
       "| is customer email free | blacklisted | review by payment gateway | quote amount |\n",
       "+------------------------+-------------+---------------------------+--------------+\n",
       "|          yes           |      no     |             no            |    2963.0    |\n",
       "|           no           |      no     |             no            |    1440.0    |\n",
       "|           no           |      no     |             no            |    983.0     |\n",
       "+------------------------+-------------+---------------------------+--------------+\n",
       "+----------------+-------------------------------+----------------+------------+\n",
       "| payment amount |         transaction id        | secure payment | fully paid |\n",
       "+----------------+-------------------------------+----------------+------------+\n",
       "|     1482.0     | 1b39953393a43642319365a3ef... |       no       |    yes     |\n",
       "|     1441.0     | efa12fbba6a3f73b41c8fc1f7a... |       no       |    yes     |\n",
       "|     492.0      | b514124a97b987798fce8ac433... |       no       |    yes     |\n",
       "+----------------+-------------------------------+----------------+------------+\n",
       "+-------------------------------+-------------------------------+\n",
       "|          customer id          |            customer           |\n",
       "+-------------------------------+-------------------------------+\n",
       "| 90f5c4ed986bb4e7d41fe2141a... | d4f4f004f6dfa77989cabbf756... |\n",
       "| e11163ad83a7f893b94c28eed3... | dc1894b3c9801372d775ae86a9... |\n",
       "| a9062874e5c02a4c1673cd942e... | 98d5fbbe4ee07096e325307e3e... |\n",
       "+-------------------------------+-------------------------------+\n",
       "+-------------------------------+---------------+---------------------+\n",
       "|           cardholder          | business type | credit card company |\n",
       "+-------------------------------+---------------+---------------------+\n",
       "| 33b8e7c599fb5d8d0c9a17c49e... |      E74      |         None        |\n",
       "| 4977e7ad7ec55a58c99b956493... |      E98      |          T2         |\n",
       "| 67bed2dbdfd986dcb5a172325c... |      E98      |          T2         |\n",
       "+-------------------------------+---------------+---------------------+\n",
       "+-------------------------------+------------------+-----+\n",
       "|     customer email domain     | business country | ... |\n",
       "+-------------------------------+------------------+-----+\n",
       "| 7db8006395b7071940049e927a... |       C75        | ... |\n",
       "| e289c31d6c18bfb805b680b166... |       C75        | ... |\n",
       "| 68ff4e7162144205e744ae00ee... |       None       | ... |\n",
       "+-------------------------------+------------------+-----+\n",
       "[3 rows x 27 columns]"
      ]
     },
     "execution_count": 3,
     "metadata": {},
     "output_type": "execute_result"
    }
   ],
   "source": [
    "data.head(3)"
   ]
  },
  {
   "cell_type": "code",
   "execution_count": 4,
   "metadata": {
    "collapsed": false
   },
   "outputs": [
    {
     "data": {
      "text/plain": [
       "135967"
      ]
     },
     "execution_count": 4,
     "metadata": {},
     "output_type": "execute_result"
    }
   ],
   "source": [
    "len(data)"
   ]
  },
  {
   "cell_type": "code",
   "execution_count": 5,
   "metadata": {
    "collapsed": false,
    "scrolled": true
   },
   "outputs": [
    {
     "name": "stdout",
     "output_type": "stream",
     "text": [
      "Canvas is accessible via web browser at the URL: http://localhost:55435/index.html\n",
      "Opening Canvas in default web browser.\n"
     ]
    }
   ],
   "source": [
    "data.show()"
   ]
  },
  {
   "cell_type": "markdown",
   "metadata": {
    "collapsed": true
   },
   "source": [
    "We see that the data is highly categorical, and highly unbalanced.<br>\n",
    "Let's visualize some part of the data."
   ]
  },
  {
   "cell_type": "code",
   "execution_count": 6,
   "metadata": {
    "collapsed": true
   },
   "outputs": [],
   "source": [
    "# Tell GraphLab to display canvas in the notebook itself\n",
    "gl.canvas.set_target('ipynb')"
   ]
  },
  {
   "cell_type": "code",
   "execution_count": 7,
   "metadata": {
    "collapsed": false,
    "scrolled": false
   },
   "outputs": [
    {
     "data": {
      "application/javascript": [
       "$(\"head\").append($(\"<link/>\").attr({\n",
       "  rel:  \"stylesheet\",\n",
       "  type: \"text/css\",\n",
       "  href: \"//cdnjs.cloudflare.com/ajax/libs/font-awesome/4.1.0/css/font-awesome.min.css\"\n",
       "}));\n",
       "$(\"head\").append($(\"<link/>\").attr({\n",
       "  rel:  \"stylesheet\",\n",
       "  type: \"text/css\",\n",
       "  href: \"//turi.com/files/canvas/1.8.5/css/canvas.css\"\n",
       "}));\n",
       "\n",
       "            (function(){\n",
       "\n",
       "                var e = null;\n",
       "                if (typeof element == 'undefined') {\n",
       "                    var scripts = document.getElementsByTagName('script');\n",
       "                    var thisScriptTag = scripts[scripts.length-1];\n",
       "                    var parentDiv = thisScriptTag.parentNode;\n",
       "                    e = document.createElement('div');\n",
       "                    parentDiv.appendChild(e);\n",
       "                } else {\n",
       "                    e = element[0];\n",
       "                }\n",
       "\n",
       "                if (typeof requirejs !== 'undefined') {\n",
       "                    // disable load timeout; ipython_app.js is large and can take a while to load.\n",
       "                    requirejs.config({waitSeconds: 0});\n",
       "                }\n",
       "\n",
       "                require(['//turi.com/files/canvas/1.8.5/js/ipython_app.js'], function(IPythonApp){\n",
       "                    var app = new IPythonApp();\n",
       "                    app.attachView('sframe','Plots', {\"selected_variable\": {\"name\": [\"data\"], \"descriptives\": {\"rows\": 135967, \"columns\": 27}, \"view_component\": \"Plots\", \"view_file\": \"sframe\", \"view_params\": {\"y\": \"payment amount\", \"x\": \"fraud\", \"columns\": [\"transaction status\", \"fraud\", \"payment lead days\", \"days to event\", \"currency\", \"is customer email free\", \"blacklisted\", \"review by payment gateway\", \"quote amount\", \"payment amount\", \"transaction id\", \"secure payment\", \"fully paid\", \"customer id\", \"customer\", \"cardholder\", \"business type\", \"credit card company\", \"customer email domain\", \"business country\", \"customer country\", \"business email domain\", \"credit card number\", \"credit card expiration month\", \"credit card expiration year\", \"ip\", \"transaction date\"], \"view\": \"BoxWhisker Plot\"}, \"view_components\": [\"Summary\", \"Table\", \"Bar Chart\", \"BoxWhisker Plot\", \"Line Chart\", \"Scatter Plot\", \"Heat Map\", \"Plots\"], \"type\": \"SFrame\", \"columns\": [{\"dtype\": \"str\", \"name\": \"transaction status\"}, {\"dtype\": \"str\", \"name\": \"fraud\"}, {\"dtype\": \"float\", \"name\": \"payment lead days\"}, {\"dtype\": \"float\", \"name\": \"days to event\"}, {\"dtype\": \"str\", \"name\": \"currency\"}, {\"dtype\": \"str\", \"name\": \"is customer email free\"}, {\"dtype\": \"str\", \"name\": \"blacklisted\"}, {\"dtype\": \"str\", \"name\": \"review by payment gateway\"}, {\"dtype\": \"float\", \"name\": \"quote amount\"}, {\"dtype\": \"float\", \"name\": \"payment amount\"}, {\"dtype\": \"str\", \"name\": \"transaction id\"}, {\"dtype\": \"str\", \"name\": \"secure payment\"}, {\"dtype\": \"str\", \"name\": \"fully paid\"}, {\"dtype\": \"str\", \"name\": \"customer id\"}, {\"dtype\": \"str\", \"name\": \"customer\"}, {\"dtype\": \"str\", \"name\": \"cardholder\"}, {\"dtype\": \"str\", \"name\": \"business type\"}, {\"dtype\": \"str\", \"name\": \"credit card company\"}, {\"dtype\": \"str\", \"name\": \"customer email domain\"}, {\"dtype\": \"str\", \"name\": \"business country\"}, {\"dtype\": \"str\", \"name\": \"customer country\"}, {\"dtype\": \"str\", \"name\": \"business email domain\"}, {\"dtype\": \"str\", \"name\": \"credit card number\"}, {\"dtype\": \"str\", \"name\": \"credit card expiration month\"}, {\"dtype\": \"str\", \"name\": \"credit card expiration year\"}, {\"dtype\": \"str\", \"name\": \"ip\"}, {\"dtype\": \"str\", \"name\": \"transaction date\"}], \"column_identifiers\": [\"business email domain\", \"credit card company\", \"ip\", \"transaction status\", \"fully paid\", \"currency\", \"review by payment gateway\", \"secure payment\", \"is customer email free\", \"payment amount\", \"cardholder\", \"transaction id\", \"payment lead days\", \"business country\", \"business type\", \"quote amount\", \"credit card number\", \"customer id\", \"credit card expiration year\", \"customer country\", \"customer\", \"customer email domain\", \"fraud\", \"transaction date\", \"blacklisted\", \"days to event\", \"credit card expiration month\"]}, \"complete\": 1, \"ipython\": true, \"progress\": 1.0, \"data\": {\"grouped\": [[\"no\", [-650.0, 42.0, 459.0, 488.5, 807.0, 1304.0, 2325.0, 4456.0, 4782.0, 21470.0, 574680.0]], [\"yes\", [-87.0, 525.0, 1459.0, 1581.0, 2964.07, 5856.0, 14265.0, 32733.0, 34084.0, 173656.0, 225590.0]]], \"omitted\": 0}, \"columns\": [{\"dtype\": \"str\", \"name\": \"transaction status\"}, {\"dtype\": \"str\", \"name\": \"fraud\"}, {\"dtype\": \"float\", \"name\": \"payment lead days\"}, {\"dtype\": \"float\", \"name\": \"days to event\"}, {\"dtype\": \"str\", \"name\": \"currency\"}, {\"dtype\": \"str\", \"name\": \"is customer email free\"}, {\"dtype\": \"str\", \"name\": \"blacklisted\"}, {\"dtype\": \"str\", \"name\": \"review by payment gateway\"}, {\"dtype\": \"float\", \"name\": \"quote amount\"}, {\"dtype\": \"float\", \"name\": \"payment amount\"}, {\"dtype\": \"str\", \"name\": \"transaction id\"}, {\"dtype\": \"str\", \"name\": \"secure payment\"}, {\"dtype\": \"str\", \"name\": \"fully paid\"}, {\"dtype\": \"str\", \"name\": \"customer id\"}, {\"dtype\": \"str\", \"name\": \"customer\"}, {\"dtype\": \"str\", \"name\": \"cardholder\"}, {\"dtype\": \"str\", \"name\": \"business type\"}, {\"dtype\": \"str\", \"name\": \"credit card company\"}, {\"dtype\": \"str\", \"name\": \"customer email domain\"}, {\"dtype\": \"str\", \"name\": \"business country\"}, {\"dtype\": \"str\", \"name\": \"customer country\"}, {\"dtype\": \"str\", \"name\": \"business email domain\"}, {\"dtype\": \"str\", \"name\": \"credit card number\"}, {\"dtype\": \"str\", \"name\": \"credit card expiration month\"}, {\"dtype\": \"str\", \"name\": \"credit card expiration year\"}, {\"dtype\": \"str\", \"name\": \"ip\"}, {\"dtype\": \"str\", \"name\": \"transaction date\"}]}, e);\n",
       "                });\n",
       "            })();\n",
       "        "
      ]
     },
     "metadata": {},
     "output_type": "display_data"
    }
   ],
   "source": [
    "data.show(view='BoxWhisker Plot', x='fraud', y='payment amount')"
   ]
  },
  {
   "cell_type": "markdown",
   "metadata": {},
   "source": [
    "## <a id=\"features\"></a> Create new features"
   ]
  },
  {
   "cell_type": "markdown",
   "metadata": {},
   "source": [
    "### Date features"
   ]
  },
  {
   "cell_type": "code",
   "execution_count": 8,
   "metadata": {
    "collapsed": false,
    "scrolled": true
   },
   "outputs": [],
   "source": [
    "# Transform string date into datetime type.\n",
    "# This will help us further along to compare dates.\n",
    "data['transaction date'] = data['transaction date'].str_to_datetime(str_format='%d.%m.%Y')\n",
    "\n",
    "# Split date into its components and set them as categorical features \n",
    "data.add_columns(data['transaction date'].split_datetime(limit=['year','month','day'], column_name_prefix='transaction'))\n",
    "data['transaction.year'] = data['transaction.year'].astype(str)\n",
    "data['transaction.month'] = data['transaction.month'].astype(str)\n",
    "data['transaction.day'] = data['transaction.day'].astype(str)"
   ]
  },
  {
   "cell_type": "code",
   "execution_count": 9,
   "metadata": {
    "collapsed": true
   },
   "outputs": [],
   "source": [
    "# Create day of week feature and set it as a categorical feature\n",
    "data['transaction week day'] = data['transaction date'].apply(lambda x: x.weekday())\n",
    "data['transaction week day'] = data['transaction week day'].astype(str)"
   ]
  },
  {
   "cell_type": "code",
   "execution_count": 10,
   "metadata": {
    "collapsed": false,
    "scrolled": false
   },
   "outputs": [
    {
     "data": {
      "text/html": [
       "<div style=\"max-height:1000px;max-width:1500px;overflow:auto;\"><table frame=\"box\" rules=\"cols\">\n",
       "    <tr>\n",
       "        <th style=\"padding-left: 1em; padding-right: 1em; text-align: center\">transaction status</th>\n",
       "        <th style=\"padding-left: 1em; padding-right: 1em; text-align: center\">fraud</th>\n",
       "        <th style=\"padding-left: 1em; padding-right: 1em; text-align: center\">payment lead days</th>\n",
       "        <th style=\"padding-left: 1em; padding-right: 1em; text-align: center\">days to event</th>\n",
       "        <th style=\"padding-left: 1em; padding-right: 1em; text-align: center\">currency</th>\n",
       "        <th style=\"padding-left: 1em; padding-right: 1em; text-align: center\">is customer email free</th>\n",
       "        <th style=\"padding-left: 1em; padding-right: 1em; text-align: center\">blacklisted</th>\n",
       "        <th style=\"padding-left: 1em; padding-right: 1em; text-align: center\">review by payment gateway</th>\n",
       "    </tr>\n",
       "    <tr>\n",
       "        <td style=\"padding-left: 1em; padding-right: 1em; text-align: center; vertical-align: top\">S1</td>\n",
       "        <td style=\"padding-left: 1em; padding-right: 1em; text-align: center; vertical-align: top\">yes</td>\n",
       "        <td style=\"padding-left: 1em; padding-right: 1em; text-align: center; vertical-align: top\">59.0</td>\n",
       "        <td style=\"padding-left: 1em; padding-right: 1em; text-align: center; vertical-align: top\">165.0</td>\n",
       "        <td style=\"padding-left: 1em; padding-right: 1em; text-align: center; vertical-align: top\">A7</td>\n",
       "        <td style=\"padding-left: 1em; padding-right: 1em; text-align: center; vertical-align: top\">yes</td>\n",
       "        <td style=\"padding-left: 1em; padding-right: 1em; text-align: center; vertical-align: top\">no</td>\n",
       "        <td style=\"padding-left: 1em; padding-right: 1em; text-align: center; vertical-align: top\">no</td>\n",
       "    </tr>\n",
       "    <tr>\n",
       "        <td style=\"padding-left: 1em; padding-right: 1em; text-align: center; vertical-align: top\">S1</td>\n",
       "        <td style=\"padding-left: 1em; padding-right: 1em; text-align: center; vertical-align: top\">yes</td>\n",
       "        <td style=\"padding-left: 1em; padding-right: 1em; text-align: center; vertical-align: top\">8.0</td>\n",
       "        <td style=\"padding-left: 1em; padding-right: 1em; text-align: center; vertical-align: top\">91.0</td>\n",
       "        <td style=\"padding-left: 1em; padding-right: 1em; text-align: center; vertical-align: top\">A7</td>\n",
       "        <td style=\"padding-left: 1em; padding-right: 1em; text-align: center; vertical-align: top\">no</td>\n",
       "        <td style=\"padding-left: 1em; padding-right: 1em; text-align: center; vertical-align: top\">no</td>\n",
       "        <td style=\"padding-left: 1em; padding-right: 1em; text-align: center; vertical-align: top\">no</td>\n",
       "    </tr>\n",
       "    <tr>\n",
       "        <td style=\"padding-left: 1em; padding-right: 1em; text-align: center; vertical-align: top\">S1</td>\n",
       "        <td style=\"padding-left: 1em; padding-right: 1em; text-align: center; vertical-align: top\">yes</td>\n",
       "        <td style=\"padding-left: 1em; padding-right: 1em; text-align: center; vertical-align: top\">2.0</td>\n",
       "        <td style=\"padding-left: 1em; padding-right: 1em; text-align: center; vertical-align: top\">16.0</td>\n",
       "        <td style=\"padding-left: 1em; padding-right: 1em; text-align: center; vertical-align: top\">A7</td>\n",
       "        <td style=\"padding-left: 1em; padding-right: 1em; text-align: center; vertical-align: top\">no</td>\n",
       "        <td style=\"padding-left: 1em; padding-right: 1em; text-align: center; vertical-align: top\">no</td>\n",
       "        <td style=\"padding-left: 1em; padding-right: 1em; text-align: center; vertical-align: top\">no</td>\n",
       "    </tr>\n",
       "</table>\n",
       "<table frame=\"box\" rules=\"cols\">\n",
       "    <tr>\n",
       "        <th style=\"padding-left: 1em; padding-right: 1em; text-align: center\">quote amount</th>\n",
       "        <th style=\"padding-left: 1em; padding-right: 1em; text-align: center\">payment amount</th>\n",
       "        <th style=\"padding-left: 1em; padding-right: 1em; text-align: center\">transaction id</th>\n",
       "        <th style=\"padding-left: 1em; padding-right: 1em; text-align: center\">secure payment</th>\n",
       "        <th style=\"padding-left: 1em; padding-right: 1em; text-align: center\">fully paid</th>\n",
       "        <th style=\"padding-left: 1em; padding-right: 1em; text-align: center\">customer id</th>\n",
       "    </tr>\n",
       "    <tr>\n",
       "        <td style=\"padding-left: 1em; padding-right: 1em; text-align: center; vertical-align: top\">2963.0</td>\n",
       "        <td style=\"padding-left: 1em; padding-right: 1em; text-align: center; vertical-align: top\">1482.0</td>\n",
       "        <td style=\"padding-left: 1em; padding-right: 1em; text-align: center; vertical-align: top\">1b39953393a43642319365a3e<br>fbf68f6 ...</td>\n",
       "        <td style=\"padding-left: 1em; padding-right: 1em; text-align: center; vertical-align: top\">no</td>\n",
       "        <td style=\"padding-left: 1em; padding-right: 1em; text-align: center; vertical-align: top\">yes</td>\n",
       "        <td style=\"padding-left: 1em; padding-right: 1em; text-align: center; vertical-align: top\">90f5c4ed986bb4e7d41fe2141<br>a75d451 ...</td>\n",
       "    </tr>\n",
       "    <tr>\n",
       "        <td style=\"padding-left: 1em; padding-right: 1em; text-align: center; vertical-align: top\">1440.0</td>\n",
       "        <td style=\"padding-left: 1em; padding-right: 1em; text-align: center; vertical-align: top\">1441.0</td>\n",
       "        <td style=\"padding-left: 1em; padding-right: 1em; text-align: center; vertical-align: top\">efa12fbba6a3f73b41c8fc1f7<br>aaa32f7 ...</td>\n",
       "        <td style=\"padding-left: 1em; padding-right: 1em; text-align: center; vertical-align: top\">no</td>\n",
       "        <td style=\"padding-left: 1em; padding-right: 1em; text-align: center; vertical-align: top\">yes</td>\n",
       "        <td style=\"padding-left: 1em; padding-right: 1em; text-align: center; vertical-align: top\">e11163ad83a7f893b94c28eed<br>3f3dc6c ...</td>\n",
       "    </tr>\n",
       "    <tr>\n",
       "        <td style=\"padding-left: 1em; padding-right: 1em; text-align: center; vertical-align: top\">983.0</td>\n",
       "        <td style=\"padding-left: 1em; padding-right: 1em; text-align: center; vertical-align: top\">492.0</td>\n",
       "        <td style=\"padding-left: 1em; padding-right: 1em; text-align: center; vertical-align: top\">b514124a97b987798fce8ac43<br>3a5c727 ...</td>\n",
       "        <td style=\"padding-left: 1em; padding-right: 1em; text-align: center; vertical-align: top\">no</td>\n",
       "        <td style=\"padding-left: 1em; padding-right: 1em; text-align: center; vertical-align: top\">yes</td>\n",
       "        <td style=\"padding-left: 1em; padding-right: 1em; text-align: center; vertical-align: top\">a9062874e5c02a4c1673cd942<br>e97a3af ...</td>\n",
       "    </tr>\n",
       "</table>\n",
       "<table frame=\"box\" rules=\"cols\">\n",
       "    <tr>\n",
       "        <th style=\"padding-left: 1em; padding-right: 1em; text-align: center\">customer</th>\n",
       "        <th style=\"padding-left: 1em; padding-right: 1em; text-align: center\">cardholder</th>\n",
       "        <th style=\"padding-left: 1em; padding-right: 1em; text-align: center\">business type</th>\n",
       "        <th style=\"padding-left: 1em; padding-right: 1em; text-align: center\">credit card company</th>\n",
       "    </tr>\n",
       "    <tr>\n",
       "        <td style=\"padding-left: 1em; padding-right: 1em; text-align: center; vertical-align: top\">d4f4f004f6dfa77989cabbf75<br>64bbca310bc5dc2 ...</td>\n",
       "        <td style=\"padding-left: 1em; padding-right: 1em; text-align: center; vertical-align: top\">33b8e7c599fb5d8d0c9a17c49<br>edf2a2e88150a84 ...</td>\n",
       "        <td style=\"padding-left: 1em; padding-right: 1em; text-align: center; vertical-align: top\">E74</td>\n",
       "        <td style=\"padding-left: 1em; padding-right: 1em; text-align: center; vertical-align: top\">None</td>\n",
       "    </tr>\n",
       "    <tr>\n",
       "        <td style=\"padding-left: 1em; padding-right: 1em; text-align: center; vertical-align: top\">dc1894b3c9801372d775ae86a<br>936cc05129632ed ...</td>\n",
       "        <td style=\"padding-left: 1em; padding-right: 1em; text-align: center; vertical-align: top\">4977e7ad7ec55a58c99b95649<br>38de41677063fd1 ...</td>\n",
       "        <td style=\"padding-left: 1em; padding-right: 1em; text-align: center; vertical-align: top\">E98</td>\n",
       "        <td style=\"padding-left: 1em; padding-right: 1em; text-align: center; vertical-align: top\">T2</td>\n",
       "    </tr>\n",
       "    <tr>\n",
       "        <td style=\"padding-left: 1em; padding-right: 1em; text-align: center; vertical-align: top\">98d5fbbe4ee07096e325307e3<br>e30bb58801832ff ...</td>\n",
       "        <td style=\"padding-left: 1em; padding-right: 1em; text-align: center; vertical-align: top\">67bed2dbdfd986dcb5a172325<br>c70b6eabcfb3f9c ...</td>\n",
       "        <td style=\"padding-left: 1em; padding-right: 1em; text-align: center; vertical-align: top\">E98</td>\n",
       "        <td style=\"padding-left: 1em; padding-right: 1em; text-align: center; vertical-align: top\">T2</td>\n",
       "    </tr>\n",
       "</table>\n",
       "<table frame=\"box\" rules=\"cols\">\n",
       "    <tr>\n",
       "        <th style=\"padding-left: 1em; padding-right: 1em; text-align: center\">customer email domain</th>\n",
       "        <th style=\"padding-left: 1em; padding-right: 1em; text-align: center\">business country</th>\n",
       "        <th style=\"padding-left: 1em; padding-right: 1em; text-align: center\">customer country</th>\n",
       "        <th style=\"padding-left: 1em; padding-right: 1em; text-align: center\">business email domain</th>\n",
       "    </tr>\n",
       "    <tr>\n",
       "        <td style=\"padding-left: 1em; padding-right: 1em; text-align: center; vertical-align: top\">7db8006395b7071940049e927<br>a53424292857302 ...</td>\n",
       "        <td style=\"padding-left: 1em; padding-right: 1em; text-align: center; vertical-align: top\">C75</td>\n",
       "        <td style=\"padding-left: 1em; padding-right: 1em; text-align: center; vertical-align: top\">C75</td>\n",
       "        <td style=\"padding-left: 1em; padding-right: 1em; text-align: center; vertical-align: top\">5411cdc646249d74e1fbb6151<br>015029f11ae176f ...</td>\n",
       "    </tr>\n",
       "    <tr>\n",
       "        <td style=\"padding-left: 1em; padding-right: 1em; text-align: center; vertical-align: top\">e289c31d6c18bfb805b680b16<br>6b5dcd3258290a5 ...</td>\n",
       "        <td style=\"padding-left: 1em; padding-right: 1em; text-align: center; vertical-align: top\">C75</td>\n",
       "        <td style=\"padding-left: 1em; padding-right: 1em; text-align: center; vertical-align: top\">C75</td>\n",
       "        <td style=\"padding-left: 1em; padding-right: 1em; text-align: center; vertical-align: top\">fcc17e12e4ea7f72fb32d9ebb<br>9e147ea17319baf ...</td>\n",
       "    </tr>\n",
       "    <tr>\n",
       "        <td style=\"padding-left: 1em; padding-right: 1em; text-align: center; vertical-align: top\">68ff4e7162144205e744ae00e<br>efe087cc7623407 ...</td>\n",
       "        <td style=\"padding-left: 1em; padding-right: 1em; text-align: center; vertical-align: top\">None</td>\n",
       "        <td style=\"padding-left: 1em; padding-right: 1em; text-align: center; vertical-align: top\">C75</td>\n",
       "        <td style=\"padding-left: 1em; padding-right: 1em; text-align: center; vertical-align: top\">bed849f4a1278205ca2523383<br>149a55e1142cbe1 ...</td>\n",
       "    </tr>\n",
       "</table>\n",
       "<table frame=\"box\" rules=\"cols\">\n",
       "    <tr>\n",
       "        <th style=\"padding-left: 1em; padding-right: 1em; text-align: center\">credit card number</th>\n",
       "        <th style=\"padding-left: 1em; padding-right: 1em; text-align: center\">credit card expiration<br>month ...</th>\n",
       "        <th style=\"padding-left: 1em; padding-right: 1em; text-align: center\">credit card expiration<br>year ...</th>\n",
       "        <th style=\"padding-left: 1em; padding-right: 1em; text-align: center\">ip</th>\n",
       "        <th style=\"padding-left: 1em; padding-right: 1em; text-align: center\">transaction date</th>\n",
       "    </tr>\n",
       "    <tr>\n",
       "        <td style=\"padding-left: 1em; padding-right: 1em; text-align: center; vertical-align: top\">0c848d301fcbdbfdf7a7f8767<br>d8d803713cb0073965e67 ...</td>\n",
       "        <td style=\"padding-left: 1em; padding-right: 1em; text-align: center; vertical-align: top\">04</td>\n",
       "        <td style=\"padding-left: 1em; padding-right: 1em; text-align: center; vertical-align: top\">2015</td>\n",
       "        <td style=\"padding-left: 1em; padding-right: 1em; text-align: center; vertical-align: top\">209.149.63.230</td>\n",
       "        <td style=\"padding-left: 1em; padding-right: 1em; text-align: center; vertical-align: top\">2013-10-17 00:00:00</td>\n",
       "    </tr>\n",
       "    <tr>\n",
       "        <td style=\"padding-left: 1em; padding-right: 1em; text-align: center; vertical-align: top\">f56334df48679d5bd83357bd3<br>7bbd6672d37a38a53aee6 ...</td>\n",
       "        <td style=\"padding-left: 1em; padding-right: 1em; text-align: center; vertical-align: top\">08</td>\n",
       "        <td style=\"padding-left: 1em; padding-right: 1em; text-align: center; vertical-align: top\">2016</td>\n",
       "        <td style=\"padding-left: 1em; padding-right: 1em; text-align: center; vertical-align: top\">184.80.149.174</td>\n",
       "        <td style=\"padding-left: 1em; padding-right: 1em; text-align: center; vertical-align: top\">2013-08-15 00:00:00</td>\n",
       "    </tr>\n",
       "    <tr>\n",
       "        <td style=\"padding-left: 1em; padding-right: 1em; text-align: center; vertical-align: top\">4f14f4d46dff976de1d9170cb<br>a19886dd8de479cf76adf ...</td>\n",
       "        <td style=\"padding-left: 1em; padding-right: 1em; text-align: center; vertical-align: top\">08</td>\n",
       "        <td style=\"padding-left: 1em; padding-right: 1em; text-align: center; vertical-align: top\">2014</td>\n",
       "        <td style=\"padding-left: 1em; padding-right: 1em; text-align: center; vertical-align: top\">47.251.202.177</td>\n",
       "        <td style=\"padding-left: 1em; padding-right: 1em; text-align: center; vertical-align: top\">2013-05-11 00:00:00</td>\n",
       "    </tr>\n",
       "</table>\n",
       "<table frame=\"box\" rules=\"cols\">\n",
       "    <tr>\n",
       "        <th style=\"padding-left: 1em; padding-right: 1em; text-align: center\">transaction.year</th>\n",
       "        <th style=\"padding-left: 1em; padding-right: 1em; text-align: center\">transaction.month</th>\n",
       "        <th style=\"padding-left: 1em; padding-right: 1em; text-align: center\">transaction.day</th>\n",
       "        <th style=\"padding-left: 1em; padding-right: 1em; text-align: center\">transaction week day</th>\n",
       "    </tr>\n",
       "    <tr>\n",
       "        <td style=\"padding-left: 1em; padding-right: 1em; text-align: center; vertical-align: top\">2013</td>\n",
       "        <td style=\"padding-left: 1em; padding-right: 1em; text-align: center; vertical-align: top\">10</td>\n",
       "        <td style=\"padding-left: 1em; padding-right: 1em; text-align: center; vertical-align: top\">17</td>\n",
       "        <td style=\"padding-left: 1em; padding-right: 1em; text-align: center; vertical-align: top\">3</td>\n",
       "    </tr>\n",
       "    <tr>\n",
       "        <td style=\"padding-left: 1em; padding-right: 1em; text-align: center; vertical-align: top\">2013</td>\n",
       "        <td style=\"padding-left: 1em; padding-right: 1em; text-align: center; vertical-align: top\">8</td>\n",
       "        <td style=\"padding-left: 1em; padding-right: 1em; text-align: center; vertical-align: top\">15</td>\n",
       "        <td style=\"padding-left: 1em; padding-right: 1em; text-align: center; vertical-align: top\">3</td>\n",
       "    </tr>\n",
       "    <tr>\n",
       "        <td style=\"padding-left: 1em; padding-right: 1em; text-align: center; vertical-align: top\">2013</td>\n",
       "        <td style=\"padding-left: 1em; padding-right: 1em; text-align: center; vertical-align: top\">5</td>\n",
       "        <td style=\"padding-left: 1em; padding-right: 1em; text-align: center; vertical-align: top\">11</td>\n",
       "        <td style=\"padding-left: 1em; padding-right: 1em; text-align: center; vertical-align: top\">5</td>\n",
       "    </tr>\n",
       "</table>\n",
       "[3 rows x 31 columns]<br/>\n",
       "</div>"
      ],
      "text/plain": [
       "Columns:\n",
       "\ttransaction status\tstr\n",
       "\tfraud\tstr\n",
       "\tpayment lead days\tfloat\n",
       "\tdays to event\tfloat\n",
       "\tcurrency\tstr\n",
       "\tis customer email free\tstr\n",
       "\tblacklisted\tstr\n",
       "\treview by payment gateway\tstr\n",
       "\tquote amount\tfloat\n",
       "\tpayment amount\tfloat\n",
       "\ttransaction id\tstr\n",
       "\tsecure payment\tstr\n",
       "\tfully paid\tstr\n",
       "\tcustomer id\tstr\n",
       "\tcustomer\tstr\n",
       "\tcardholder\tstr\n",
       "\tbusiness type\tstr\n",
       "\tcredit card company\tstr\n",
       "\tcustomer email domain\tstr\n",
       "\tbusiness country\tstr\n",
       "\tcustomer country\tstr\n",
       "\tbusiness email domain\tstr\n",
       "\tcredit card number\tstr\n",
       "\tcredit card expiration month\tstr\n",
       "\tcredit card expiration year\tstr\n",
       "\tip\tstr\n",
       "\ttransaction date\tdatetime\n",
       "\ttransaction.year\tstr\n",
       "\ttransaction.month\tstr\n",
       "\ttransaction.day\tstr\n",
       "\ttransaction week day\tstr\n",
       "\n",
       "Rows: 3\n",
       "\n",
       "Data:\n",
       "+--------------------+-------+-------------------+---------------+----------+\n",
       "| transaction status | fraud | payment lead days | days to event | currency |\n",
       "+--------------------+-------+-------------------+---------------+----------+\n",
       "|         S1         |  yes  |        59.0       |     165.0     |    A7    |\n",
       "|         S1         |  yes  |        8.0        |      91.0     |    A7    |\n",
       "|         S1         |  yes  |        2.0        |      16.0     |    A7    |\n",
       "+--------------------+-------+-------------------+---------------+----------+\n",
       "+------------------------+-------------+---------------------------+--------------+\n",
       "| is customer email free | blacklisted | review by payment gateway | quote amount |\n",
       "+------------------------+-------------+---------------------------+--------------+\n",
       "|          yes           |      no     |             no            |    2963.0    |\n",
       "|           no           |      no     |             no            |    1440.0    |\n",
       "|           no           |      no     |             no            |    983.0     |\n",
       "+------------------------+-------------+---------------------------+--------------+\n",
       "+----------------+-------------------------------+----------------+------------+\n",
       "| payment amount |         transaction id        | secure payment | fully paid |\n",
       "+----------------+-------------------------------+----------------+------------+\n",
       "|     1482.0     | 1b39953393a43642319365a3ef... |       no       |    yes     |\n",
       "|     1441.0     | efa12fbba6a3f73b41c8fc1f7a... |       no       |    yes     |\n",
       "|     492.0      | b514124a97b987798fce8ac433... |       no       |    yes     |\n",
       "+----------------+-------------------------------+----------------+------------+\n",
       "+-------------------------------+-------------------------------+\n",
       "|          customer id          |            customer           |\n",
       "+-------------------------------+-------------------------------+\n",
       "| 90f5c4ed986bb4e7d41fe2141a... | d4f4f004f6dfa77989cabbf756... |\n",
       "| e11163ad83a7f893b94c28eed3... | dc1894b3c9801372d775ae86a9... |\n",
       "| a9062874e5c02a4c1673cd942e... | 98d5fbbe4ee07096e325307e3e... |\n",
       "+-------------------------------+-------------------------------+\n",
       "+-------------------------------+---------------+---------------------+\n",
       "|           cardholder          | business type | credit card company |\n",
       "+-------------------------------+---------------+---------------------+\n",
       "| 33b8e7c599fb5d8d0c9a17c49e... |      E74      |         None        |\n",
       "| 4977e7ad7ec55a58c99b956493... |      E98      |          T2         |\n",
       "| 67bed2dbdfd986dcb5a172325c... |      E98      |          T2         |\n",
       "+-------------------------------+---------------+---------------------+\n",
       "+-------------------------------+------------------+-----+\n",
       "|     customer email domain     | business country | ... |\n",
       "+-------------------------------+------------------+-----+\n",
       "| 7db8006395b7071940049e927a... |       C75        | ... |\n",
       "| e289c31d6c18bfb805b680b166... |       C75        | ... |\n",
       "| 68ff4e7162144205e744ae00ee... |       None       | ... |\n",
       "+-------------------------------+------------------+-----+\n",
       "[3 rows x 31 columns]"
      ]
     },
     "execution_count": 10,
     "metadata": {},
     "output_type": "execute_result"
    }
   ],
   "source": [
    "data.head(3)"
   ]
  },
  {
   "cell_type": "markdown",
   "metadata": {},
   "source": [
    "### Indicator features"
   ]
  },
  {
   "cell_type": "code",
   "execution_count": 11,
   "metadata": {
    "collapsed": false
   },
   "outputs": [],
   "source": [
    "# Create new features and transform them into true/false indicators\n",
    "data['same country'] = (data['customer country'] == data['business country']).astype(str)\n",
    "data['same person'] = (data['customer'] == data['cardholder']).astype(str)\n",
    "data['expiration near'] = (data['credit card expiration year'] == data['transaction.year']).astype(str)"
   ]
  },
  {
   "cell_type": "markdown",
   "metadata": {},
   "source": [
    "### Count features"
   ]
  },
  {
   "cell_type": "code",
   "execution_count": 12,
   "metadata": {
    "collapsed": false,
    "scrolled": true
   },
   "outputs": [
    {
     "data": {
      "text/html": [
       "<div style=\"max-height:1000px;max-width:1500px;overflow:auto;\"><table frame=\"box\" rules=\"cols\">\n",
       "    <tr>\n",
       "        <th style=\"padding-left: 1em; padding-right: 1em; text-align: center\">transaction id</th>\n",
       "        <th style=\"padding-left: 1em; padding-right: 1em; text-align: center\">unique cards per<br>transaction ...</th>\n",
       "        <th style=\"padding-left: 1em; padding-right: 1em; text-align: center\">unique cardholders per<br>transaction ...</th>\n",
       "        <th style=\"padding-left: 1em; padding-right: 1em; text-align: center\">tries per transaction</th>\n",
       "    </tr>\n",
       "    <tr>\n",
       "        <td style=\"padding-left: 1em; padding-right: 1em; text-align: center; vertical-align: top\">ebce93534b35b56ea3cfae1d5<br>3786008 ...</td>\n",
       "        <td style=\"padding-left: 1em; padding-right: 1em; text-align: center; vertical-align: top\">1</td>\n",
       "        <td style=\"padding-left: 1em; padding-right: 1em; text-align: center; vertical-align: top\">1</td>\n",
       "        <td style=\"padding-left: 1em; padding-right: 1em; text-align: center; vertical-align: top\">1</td>\n",
       "    </tr>\n",
       "    <tr>\n",
       "        <td style=\"padding-left: 1em; padding-right: 1em; text-align: center; vertical-align: top\">3dc6c7c573bad62c4b36f76bd<br>695da66 ...</td>\n",
       "        <td style=\"padding-left: 1em; padding-right: 1em; text-align: center; vertical-align: top\">1</td>\n",
       "        <td style=\"padding-left: 1em; padding-right: 1em; text-align: center; vertical-align: top\">1</td>\n",
       "        <td style=\"padding-left: 1em; padding-right: 1em; text-align: center; vertical-align: top\">1</td>\n",
       "    </tr>\n",
       "    <tr>\n",
       "        <td style=\"padding-left: 1em; padding-right: 1em; text-align: center; vertical-align: top\">c41ea2458fa6e961dadd498bf<br>8528419 ...</td>\n",
       "        <td style=\"padding-left: 1em; padding-right: 1em; text-align: center; vertical-align: top\">1</td>\n",
       "        <td style=\"padding-left: 1em; padding-right: 1em; text-align: center; vertical-align: top\">1</td>\n",
       "        <td style=\"padding-left: 1em; padding-right: 1em; text-align: center; vertical-align: top\">1</td>\n",
       "    </tr>\n",
       "</table>\n",
       "[3 rows x 4 columns]<br/>\n",
       "</div>"
      ],
      "text/plain": [
       "Columns:\n",
       "\ttransaction id\tstr\n",
       "\tunique cards per transaction\tint\n",
       "\tunique cardholders per transaction\tint\n",
       "\ttries per transaction\tint\n",
       "\n",
       "Rows: 3\n",
       "\n",
       "Data:\n",
       "+-------------------------------+------------------------------+-------------------------------+\n",
       "|         transaction id        | unique cards per transaction | unique cardholders per tra... |\n",
       "+-------------------------------+------------------------------+-------------------------------+\n",
       "| ebce93534b35b56ea3cfae1d53... |              1               |               1               |\n",
       "| 3dc6c7c573bad62c4b36f76bd6... |              1               |               1               |\n",
       "| c41ea2458fa6e961dadd498bf8... |              1               |               1               |\n",
       "+-------------------------------+------------------------------+-------------------------------+\n",
       "+-----------------------+\n",
       "| tries per transaction |\n",
       "+-----------------------+\n",
       "|           1           |\n",
       "|           1           |\n",
       "|           1           |\n",
       "+-----------------------+\n",
       "[3 rows x 4 columns]"
      ]
     },
     "execution_count": 12,
     "metadata": {},
     "output_type": "execute_result"
    }
   ],
   "source": [
    "counts = data.groupby('transaction id', {'unique cards per transaction' : gl.aggregate.COUNT_DISTINCT('credit card number'),\n",
    "                                         'unique cardholders per transaction' : gl.aggregate.COUNT_DISTINCT('cardholder'),\n",
    "                                         'tries per transaction' : gl.aggregate.COUNT()})\n",
    "counts.head(3)"
   ]
  },
  {
   "cell_type": "code",
   "execution_count": 13,
   "metadata": {
    "collapsed": false
   },
   "outputs": [
    {
     "data": {
      "application/javascript": [
       "$(\"head\").append($(\"<link/>\").attr({\n",
       "  rel:  \"stylesheet\",\n",
       "  type: \"text/css\",\n",
       "  href: \"//cdnjs.cloudflare.com/ajax/libs/font-awesome/4.1.0/css/font-awesome.min.css\"\n",
       "}));\n",
       "$(\"head\").append($(\"<link/>\").attr({\n",
       "  rel:  \"stylesheet\",\n",
       "  type: \"text/css\",\n",
       "  href: \"//turi.com/files/canvas/1.8.5/css/canvas.css\"\n",
       "}));\n",
       "\n",
       "            (function(){\n",
       "\n",
       "                var e = null;\n",
       "                if (typeof element == 'undefined') {\n",
       "                    var scripts = document.getElementsByTagName('script');\n",
       "                    var thisScriptTag = scripts[scripts.length-1];\n",
       "                    var parentDiv = thisScriptTag.parentNode;\n",
       "                    e = document.createElement('div');\n",
       "                    parentDiv.appendChild(e);\n",
       "                } else {\n",
       "                    e = element[0];\n",
       "                }\n",
       "\n",
       "                if (typeof requirejs !== 'undefined') {\n",
       "                    // disable load timeout; ipython_app.js is large and can take a while to load.\n",
       "                    requirejs.config({waitSeconds: 0});\n",
       "                }\n",
       "\n",
       "                require(['//turi.com/files/canvas/1.8.5/js/ipython_app.js'], function(IPythonApp){\n",
       "                    var app = new IPythonApp();\n",
       "                    app.attachView('sframe','Summary', {\"ipython\": true, \"sketch\": {\"transaction id\": {\"complete\": true, \"numeric\": false, \"num_unique\": 130281, \"num_undefined\": 0, \"progress\": 1.0, \"frequent_items\": {}, \"size\": 129457}, \"unique cards per transaction\": {\"std\": 0.21524901532914825, \"complete\": true, \"min\": 1.0, \"max\": 29.0, \"quantile\": [1.0, 1.0, 1.0, 1.0, 1.0, 1.0, 1.0, 1.0, 1.0, 1.0, 1.0, 1.0, 1.0, 1.0, 1.0, 1.0, 1.0, 1.0, 1.0, 1.0, 1.0, 1.0, 1.0, 1.0, 1.0, 1.0, 1.0, 1.0, 1.0, 1.0, 1.0, 1.0, 1.0, 1.0, 1.0, 1.0, 1.0, 1.0, 1.0, 1.0, 1.0, 1.0, 1.0, 1.0, 1.0, 1.0, 1.0, 1.0, 1.0, 1.0, 1.0, 1.0, 1.0, 1.0, 1.0, 1.0, 1.0, 1.0, 1.0, 1.0, 1.0, 1.0, 1.0, 1.0, 1.0, 1.0, 1.0, 1.0, 1.0, 1.0, 1.0, 1.0, 1.0, 1.0, 1.0, 1.0, 1.0, 1.0, 1.0, 1.0, 1.0, 1.0, 1.0, 1.0, 1.0, 1.0, 1.0, 1.0, 1.0, 1.0, 1.0, 1.0, 1.0, 1.0, 1.0, 1.0, 1.0, 1.0, 1.0, 2.0, 29.0], \"median\": 1.0, \"numeric\": true, \"num_unique\": 14, \"num_undefined\": 0, \"var\": 0.0463321386001679, \"progress\": 1.0, \"size\": 129457, \"frequent_items\": {\"1\": {\"frequency\": 127395, \"value\": 1}, \"2\": {\"frequency\": 1833, \"value\": 2}, \"3\": {\"frequency\": 140, \"value\": 3}, \"4\": {\"frequency\": 36, \"value\": 4}, \"5\": {\"frequency\": 20, \"value\": 5}, \"6\": {\"frequency\": 11, \"value\": 6}, \"7\": {\"frequency\": 6, \"value\": 7}, \"8\": {\"frequency\": 7, \"value\": 8}, \"10\": {\"frequency\": 3, \"value\": 10}, \"12\": {\"frequency\": 2, \"value\": 12}, \"14\": {\"frequency\": 1, \"value\": 14}, \"17\": {\"frequency\": 1, \"value\": 17}, \"23\": {\"frequency\": 1, \"value\": 23}, \"29\": {\"frequency\": 1, \"value\": 29}}, \"mean\": 1.0198444271070692}, \"unique cardholders per transaction\": {\"std\": 0.1777315529899111, \"complete\": true, \"min\": 1.0, \"max\": 17.0, \"quantile\": [1.0, 1.0, 1.0, 1.0, 1.0, 1.0, 1.0, 1.0, 1.0, 1.0, 1.0, 1.0, 1.0, 1.0, 1.0, 1.0, 1.0, 1.0, 1.0, 1.0, 1.0, 1.0, 1.0, 1.0, 1.0, 1.0, 1.0, 1.0, 1.0, 1.0, 1.0, 1.0, 1.0, 1.0, 1.0, 1.0, 1.0, 1.0, 1.0, 1.0, 1.0, 1.0, 1.0, 1.0, 1.0, 1.0, 1.0, 1.0, 1.0, 1.0, 1.0, 1.0, 1.0, 1.0, 1.0, 1.0, 1.0, 1.0, 1.0, 1.0, 1.0, 1.0, 1.0, 1.0, 1.0, 1.0, 1.0, 1.0, 1.0, 1.0, 1.0, 1.0, 1.0, 1.0, 1.0, 1.0, 1.0, 1.0, 1.0, 1.0, 1.0, 1.0, 1.0, 1.0, 1.0, 1.0, 1.0, 1.0, 1.0, 1.0, 1.0, 1.0, 1.0, 1.0, 1.0, 1.0, 1.0, 1.0, 1.0, 2.0, 17.0], \"median\": 1.0, \"numeric\": true, \"num_unique\": 11, \"num_undefined\": 0, \"var\": 0.03158850492820558, \"progress\": 1.0, \"size\": 129457, \"frequent_items\": {\"1\": {\"frequency\": 126969, \"value\": 1}, \"2\": {\"frequency\": 2259, \"value\": 2}, \"3\": {\"frequency\": 180, \"value\": 3}, \"4\": {\"frequency\": 30, \"value\": 4}, \"5\": {\"frequency\": 8, \"value\": 5}, \"6\": {\"frequency\": 3, \"value\": 6}, \"7\": {\"frequency\": 4, \"value\": 7}, \"8\": {\"frequency\": 1, \"value\": 8}, \"10\": {\"frequency\": 1, \"value\": 10}, \"14\": {\"frequency\": 1, \"value\": 14}, \"17\": {\"frequency\": 1, \"value\": 17}}, \"mean\": 1.0218219177024062}, \"tries per transaction\": {\"std\": 0.3072444602005859, \"complete\": true, \"min\": 1.0, \"max\": 29.0, \"quantile\": [1.0, 1.0, 1.0, 1.0, 1.0, 1.0, 1.0, 1.0, 1.0, 1.0, 1.0, 1.0, 1.0, 1.0, 1.0, 1.0, 1.0, 1.0, 1.0, 1.0, 1.0, 1.0, 1.0, 1.0, 1.0, 1.0, 1.0, 1.0, 1.0, 1.0, 1.0, 1.0, 1.0, 1.0, 1.0, 1.0, 1.0, 1.0, 1.0, 1.0, 1.0, 1.0, 1.0, 1.0, 1.0, 1.0, 1.0, 1.0, 1.0, 1.0, 1.0, 1.0, 1.0, 1.0, 1.0, 1.0, 1.0, 1.0, 1.0, 1.0, 1.0, 1.0, 1.0, 1.0, 1.0, 1.0, 1.0, 1.0, 1.0, 1.0, 1.0, 1.0, 1.0, 1.0, 1.0, 1.0, 1.0, 1.0, 1.0, 1.0, 1.0, 1.0, 1.0, 1.0, 1.0, 1.0, 1.0, 1.0, 1.0, 1.0, 1.0, 1.0, 1.0, 1.0, 1.0, 1.0, 2.0, 2.0, 2.0, 2.0, 29.0], \"median\": 1.0, \"numeric\": true, \"num_unique\": 16, \"num_undefined\": 0, \"var\": 0.0943991583239494, \"progress\": 1.0, \"size\": 129457, \"frequent_items\": {\"1\": {\"frequency\": 124176, \"value\": 1}, \"2\": {\"frequency\": 4530, \"value\": 2}, \"3\": {\"frequency\": 542, \"value\": 3}, \"4\": {\"frequency\": 124, \"value\": 4}, \"5\": {\"frequency\": 34, \"value\": 5}, \"6\": {\"frequency\": 23, \"value\": 6}, \"7\": {\"frequency\": 9, \"value\": 7}, \"8\": {\"frequency\": 6, \"value\": 8}, \"9\": {\"frequency\": 2, \"value\": 9}, \"10\": {\"frequency\": 4, \"value\": 10}, \"12\": {\"frequency\": 2, \"value\": 12}, \"14\": {\"frequency\": 1, \"value\": 14}, \"15\": {\"frequency\": 1, \"value\": 15}, \"24\": {\"frequency\": 1, \"value\": 24}, \"26\": {\"frequency\": 1, \"value\": 26}, \"29\": {\"frequency\": 1, \"value\": 29}}, \"mean\": 1.0502869678735023}}, \"selected_variable\": {\"name\": [\"counts\"], \"descriptives\": {\"rows\": 129457, \"columns\": 4}, \"view_component\": \"Summary\", \"view_file\": \"sframe\", \"view_params\": {\"y\": null, \"x\": null, \"columns\": [\"transaction id\", \"unique cards per transaction\", \"unique cardholders per transaction\", \"tries per transaction\"], \"view\": null}, \"view_components\": [\"Summary\", \"Table\", \"Bar Chart\", \"BoxWhisker Plot\", \"Line Chart\", \"Scatter Plot\", \"Heat Map\", \"Plots\"], \"type\": \"SFrame\", \"columns\": [{\"dtype\": \"str\", \"name\": \"transaction id\"}, {\"dtype\": \"int\", \"name\": \"unique cards per transaction\"}, {\"dtype\": \"int\", \"name\": \"unique cardholders per transaction\"}, {\"dtype\": \"int\", \"name\": \"tries per transaction\"}], \"column_identifiers\": [\"transaction id\", \"unique cards per transaction\", \"unique cardholders per transaction\", \"tries per transaction\"]}, \"columns\": [{\"dtype\": \"str\", \"name\": \"transaction id\"}, {\"dtype\": \"int\", \"name\": \"unique cards per transaction\"}, {\"dtype\": \"int\", \"name\": \"unique cardholders per transaction\"}, {\"dtype\": \"int\", \"name\": \"tries per transaction\"}]}, e);\n",
       "                });\n",
       "            })();\n",
       "        "
      ]
     },
     "metadata": {},
     "output_type": "display_data"
    }
   ],
   "source": [
    "counts.show()"
   ]
  },
  {
   "cell_type": "markdown",
   "metadata": {
    "collapsed": false
   },
   "source": [
    "We see that although most transactions have been paid for by a single credit card, some transactions have as much as 29 unique credit cards!<br>\n",
    "Let's join the counts back into our dataset so we can visualize the number of unique cards per transaction vs fraud."
   ]
  },
  {
   "cell_type": "code",
   "execution_count": 14,
   "metadata": {
    "collapsed": false
   },
   "outputs": [],
   "source": [
    "data = data.join(counts)"
   ]
  },
  {
   "cell_type": "code",
   "execution_count": 15,
   "metadata": {
    "collapsed": false
   },
   "outputs": [
    {
     "data": {
      "application/javascript": [
       "$(\"head\").append($(\"<link/>\").attr({\n",
       "  rel:  \"stylesheet\",\n",
       "  type: \"text/css\",\n",
       "  href: \"//cdnjs.cloudflare.com/ajax/libs/font-awesome/4.1.0/css/font-awesome.min.css\"\n",
       "}));\n",
       "$(\"head\").append($(\"<link/>\").attr({\n",
       "  rel:  \"stylesheet\",\n",
       "  type: \"text/css\",\n",
       "  href: \"//turi.com/files/canvas/1.8.5/css/canvas.css\"\n",
       "}));\n",
       "\n",
       "            (function(){\n",
       "\n",
       "                var e = null;\n",
       "                if (typeof element == 'undefined') {\n",
       "                    var scripts = document.getElementsByTagName('script');\n",
       "                    var thisScriptTag = scripts[scripts.length-1];\n",
       "                    var parentDiv = thisScriptTag.parentNode;\n",
       "                    e = document.createElement('div');\n",
       "                    parentDiv.appendChild(e);\n",
       "                } else {\n",
       "                    e = element[0];\n",
       "                }\n",
       "\n",
       "                if (typeof requirejs !== 'undefined') {\n",
       "                    // disable load timeout; ipython_app.js is large and can take a while to load.\n",
       "                    requirejs.config({waitSeconds: 0});\n",
       "                }\n",
       "\n",
       "                require(['//turi.com/files/canvas/1.8.5/js/ipython_app.js'], function(IPythonApp){\n",
       "                    var app = new IPythonApp();\n",
       "                    app.attachView('sframe','Plots', {\"selected_variable\": {\"name\": [\"data\"], \"descriptives\": {\"rows\": 135967, \"columns\": 37}, \"view_component\": \"Plots\", \"view_file\": \"sframe\", \"view_params\": {\"y\": \"unique cards per transaction\", \"x\": \"fraud\", \"columns\": [\"transaction status\", \"fraud\", \"payment lead days\", \"days to event\", \"currency\", \"is customer email free\", \"blacklisted\", \"review by payment gateway\", \"quote amount\", \"payment amount\", \"transaction id\", \"secure payment\", \"fully paid\", \"customer id\", \"customer\", \"cardholder\", \"business type\", \"credit card company\", \"customer email domain\", \"business country\", \"customer country\", \"business email domain\", \"credit card number\", \"credit card expiration month\", \"credit card expiration year\", \"ip\", \"transaction date\", \"transaction.year\", \"transaction.month\", \"transaction.day\", \"transaction week day\", \"same country\", \"same person\", \"expiration near\", \"unique cards per transaction\", \"unique cardholders per transaction\", \"tries per transaction\"], \"view\": \"BoxWhisker Plot\"}, \"view_components\": [\"Summary\", \"Table\", \"Bar Chart\", \"BoxWhisker Plot\", \"Line Chart\", \"Scatter Plot\", \"Heat Map\", \"Plots\"], \"type\": \"SFrame\", \"columns\": [{\"dtype\": \"str\", \"name\": \"transaction status\"}, {\"dtype\": \"str\", \"name\": \"fraud\"}, {\"dtype\": \"float\", \"name\": \"payment lead days\"}, {\"dtype\": \"float\", \"name\": \"days to event\"}, {\"dtype\": \"str\", \"name\": \"currency\"}, {\"dtype\": \"str\", \"name\": \"is customer email free\"}, {\"dtype\": \"str\", \"name\": \"blacklisted\"}, {\"dtype\": \"str\", \"name\": \"review by payment gateway\"}, {\"dtype\": \"float\", \"name\": \"quote amount\"}, {\"dtype\": \"float\", \"name\": \"payment amount\"}, {\"dtype\": \"str\", \"name\": \"transaction id\"}, {\"dtype\": \"str\", \"name\": \"secure payment\"}, {\"dtype\": \"str\", \"name\": \"fully paid\"}, {\"dtype\": \"str\", \"name\": \"customer id\"}, {\"dtype\": \"str\", \"name\": \"customer\"}, {\"dtype\": \"str\", \"name\": \"cardholder\"}, {\"dtype\": \"str\", \"name\": \"business type\"}, {\"dtype\": \"str\", \"name\": \"credit card company\"}, {\"dtype\": \"str\", \"name\": \"customer email domain\"}, {\"dtype\": \"str\", \"name\": \"business country\"}, {\"dtype\": \"str\", \"name\": \"customer country\"}, {\"dtype\": \"str\", \"name\": \"business email domain\"}, {\"dtype\": \"str\", \"name\": \"credit card number\"}, {\"dtype\": \"str\", \"name\": \"credit card expiration month\"}, {\"dtype\": \"str\", \"name\": \"credit card expiration year\"}, {\"dtype\": \"str\", \"name\": \"ip\"}, {\"dtype\": \"datetime\", \"name\": \"transaction date\"}, {\"dtype\": \"str\", \"name\": \"transaction.year\"}, {\"dtype\": \"str\", \"name\": \"transaction.month\"}, {\"dtype\": \"str\", \"name\": \"transaction.day\"}, {\"dtype\": \"str\", \"name\": \"transaction week day\"}, {\"dtype\": \"str\", \"name\": \"same country\"}, {\"dtype\": \"str\", \"name\": \"same person\"}, {\"dtype\": \"str\", \"name\": \"expiration near\"}, {\"dtype\": \"int\", \"name\": \"unique cards per transaction\"}, {\"dtype\": \"int\", \"name\": \"unique cardholders per transaction\"}, {\"dtype\": \"int\", \"name\": \"tries per transaction\"}], \"column_identifiers\": [\"business email domain\", \"credit card company\", \"same person\", \"ip\", \"fully paid\", \"transaction.day\", \"currency\", \"review by payment gateway\", \"secure payment\", \"expiration near\", \"quote amount\", \"unique cardholders per transaction\", \"transaction status\", \"is customer email free\", \"tries per transaction\", \"payment amount\", \"transaction.year\", \"cardholder\", \"same country\", \"transaction.month\", \"payment lead days\", \"unique cards per transaction\", \"business country\", \"transaction week day\", \"business type\", \"transaction id\", \"credit card number\", \"customer id\", \"credit card expiration year\", \"customer country\", \"customer\", \"customer email domain\", \"fraud\", \"transaction date\", \"blacklisted\", \"days to event\", \"credit card expiration month\"]}, \"complete\": 1, \"ipython\": true, \"progress\": 1.0, \"data\": {\"grouped\": [[\"no\", [1.0, 1.0, 1.0, 1.0, 1.0, 1.0, 1.0, 1.0, 1.0, 2.0, 29.0]], [\"yes\", [1.0, 1.0, 1.0, 1.0, 1.0, 1.0, 3.0, 6.0, 7.0, 12.0, 12.0]]], \"omitted\": 0}, \"columns\": [{\"dtype\": \"str\", \"name\": \"transaction status\"}, {\"dtype\": \"str\", \"name\": \"fraud\"}, {\"dtype\": \"float\", \"name\": \"payment lead days\"}, {\"dtype\": \"float\", \"name\": \"days to event\"}, {\"dtype\": \"str\", \"name\": \"currency\"}, {\"dtype\": \"str\", \"name\": \"is customer email free\"}, {\"dtype\": \"str\", \"name\": \"blacklisted\"}, {\"dtype\": \"str\", \"name\": \"review by payment gateway\"}, {\"dtype\": \"float\", \"name\": \"quote amount\"}, {\"dtype\": \"float\", \"name\": \"payment amount\"}, {\"dtype\": \"str\", \"name\": \"transaction id\"}, {\"dtype\": \"str\", \"name\": \"secure payment\"}, {\"dtype\": \"str\", \"name\": \"fully paid\"}, {\"dtype\": \"str\", \"name\": \"customer id\"}, {\"dtype\": \"str\", \"name\": \"customer\"}, {\"dtype\": \"str\", \"name\": \"cardholder\"}, {\"dtype\": \"str\", \"name\": \"business type\"}, {\"dtype\": \"str\", \"name\": \"credit card company\"}, {\"dtype\": \"str\", \"name\": \"customer email domain\"}, {\"dtype\": \"str\", \"name\": \"business country\"}, {\"dtype\": \"str\", \"name\": \"customer country\"}, {\"dtype\": \"str\", \"name\": \"business email domain\"}, {\"dtype\": \"str\", \"name\": \"credit card number\"}, {\"dtype\": \"str\", \"name\": \"credit card expiration month\"}, {\"dtype\": \"str\", \"name\": \"credit card expiration year\"}, {\"dtype\": \"str\", \"name\": \"ip\"}, {\"dtype\": \"datetime\", \"name\": \"transaction date\"}, {\"dtype\": \"str\", \"name\": \"transaction.year\"}, {\"dtype\": \"str\", \"name\": \"transaction.month\"}, {\"dtype\": \"str\", \"name\": \"transaction.day\"}, {\"dtype\": \"str\", \"name\": \"transaction week day\"}, {\"dtype\": \"str\", \"name\": \"same country\"}, {\"dtype\": \"str\", \"name\": \"same person\"}, {\"dtype\": \"str\", \"name\": \"expiration near\"}, {\"dtype\": \"int\", \"name\": \"unique cards per transaction\"}, {\"dtype\": \"int\", \"name\": \"unique cardholders per transaction\"}, {\"dtype\": \"int\", \"name\": \"tries per transaction\"}]}, e);\n",
       "                });\n",
       "            })();\n",
       "        "
      ]
     },
     "metadata": {},
     "output_type": "display_data"
    }
   ],
   "source": [
    "data.show(view='BoxWhisker Plot', x='fraud', y='unique cards per transaction')"
   ]
  },
  {
   "cell_type": "code",
   "execution_count": 16,
   "metadata": {
    "collapsed": false
   },
   "outputs": [
    {
     "name": "stdout",
     "output_type": "stream",
     "text": [
      "Number of columns 37\n"
     ]
    }
   ],
   "source": [
    "print 'Number of columns', len(data.column_names())"
   ]
  },
  {
   "cell_type": "markdown",
   "metadata": {},
   "source": [
    "In total we created 9 new features. One can create any number of additional features which will be helpful to create a better fraud detector. For example, historical user features such as the number of transaction in a given timeframe.<br>\n",
    "For the purposes of the webinar these features will be enough."
   ]
  },
  {
   "cell_type": "markdown",
   "metadata": {},
   "source": [
    "## <a id=\"split\"></a>Split data into train and test sets"
   ]
  },
  {
   "cell_type": "markdown",
   "metadata": {
    "collapsed": false,
    "scrolled": true
   },
   "source": [
    "First we will have to split the data into a training set and a testing set so we can evaluate our models. We will split it based on the date column, where the test set will be composed of the last six months of transactions."
   ]
  },
  {
   "cell_type": "code",
   "execution_count": 17,
   "metadata": {
    "collapsed": false
   },
   "outputs": [],
   "source": [
    "from datetime import datetime\n",
    "\n",
    "split = data['transaction date'] > datetime(2015, 6, 1)\n",
    "data.remove_column('transaction date')\n",
    "\n",
    "train = data[split == 0]\n",
    "test = data[split == 1]"
   ]
  },
  {
   "cell_type": "code",
   "execution_count": 18,
   "metadata": {
    "collapsed": false
   },
   "outputs": [
    {
     "name": "stdout",
     "output_type": "stream",
     "text": [
      "Training set fraud\n"
     ]
    },
    {
     "data": {
      "application/javascript": [
       "$(\"head\").append($(\"<link/>\").attr({\n",
       "  rel:  \"stylesheet\",\n",
       "  type: \"text/css\",\n",
       "  href: \"//cdnjs.cloudflare.com/ajax/libs/font-awesome/4.1.0/css/font-awesome.min.css\"\n",
       "}));\n",
       "$(\"head\").append($(\"<link/>\").attr({\n",
       "  rel:  \"stylesheet\",\n",
       "  type: \"text/css\",\n",
       "  href: \"//turi.com/files/canvas/1.8.5/css/canvas.css\"\n",
       "}));\n",
       "\n",
       "            (function(){\n",
       "\n",
       "                var e = null;\n",
       "                if (typeof element == 'undefined') {\n",
       "                    var scripts = document.getElementsByTagName('script');\n",
       "                    var thisScriptTag = scripts[scripts.length-1];\n",
       "                    var parentDiv = thisScriptTag.parentNode;\n",
       "                    e = document.createElement('div');\n",
       "                    parentDiv.appendChild(e);\n",
       "                } else {\n",
       "                    e = element[0];\n",
       "                }\n",
       "\n",
       "                if (typeof requirejs !== 'undefined') {\n",
       "                    // disable load timeout; ipython_app.js is large and can take a while to load.\n",
       "                    requirejs.config({waitSeconds: 0});\n",
       "                }\n",
       "\n",
       "                require(['//turi.com/files/canvas/1.8.5/js/ipython_app.js'], function(IPythonApp){\n",
       "                    var app = new IPythonApp();\n",
       "                    app.attachView('sarray','Categorical', {\"ipython\": true, \"sketch\": {\"complete\": true, \"numeric\": false, \"num_unique\": 2, \"num_undefined\": 0, \"progress\": 1.0, \"frequent_items\": {\"yes\": {\"frequency\": 964, \"value\": \"yes\"}, \"no\": {\"frequency\": 124593, \"value\": \"no\"}}, \"size\": 125557}, \"selected_variable\": {\"name\": [\"<SArray>\"], \"dtype\": \"str\", \"view_component\": \"Categorical\", \"view_file\": \"sarray\", \"descriptives\": {\"rows\": 125557}, \"type\": \"SArray\", \"view_components\": [\"Categorical\"]}, \"histogram\": null}, e);\n",
       "                });\n",
       "            })();\n",
       "        "
      ]
     },
     "metadata": {},
     "output_type": "display_data"
    }
   ],
   "source": [
    "print 'Training set fraud'\n",
    "train['fraud'].show()"
   ]
  },
  {
   "cell_type": "code",
   "execution_count": 19,
   "metadata": {
    "collapsed": false
   },
   "outputs": [
    {
     "name": "stdout",
     "output_type": "stream",
     "text": [
      "Test set fraud\n"
     ]
    },
    {
     "data": {
      "application/javascript": [
       "$(\"head\").append($(\"<link/>\").attr({\n",
       "  rel:  \"stylesheet\",\n",
       "  type: \"text/css\",\n",
       "  href: \"//cdnjs.cloudflare.com/ajax/libs/font-awesome/4.1.0/css/font-awesome.min.css\"\n",
       "}));\n",
       "$(\"head\").append($(\"<link/>\").attr({\n",
       "  rel:  \"stylesheet\",\n",
       "  type: \"text/css\",\n",
       "  href: \"//turi.com/files/canvas/1.8.5/css/canvas.css\"\n",
       "}));\n",
       "\n",
       "            (function(){\n",
       "\n",
       "                var e = null;\n",
       "                if (typeof element == 'undefined') {\n",
       "                    var scripts = document.getElementsByTagName('script');\n",
       "                    var thisScriptTag = scripts[scripts.length-1];\n",
       "                    var parentDiv = thisScriptTag.parentNode;\n",
       "                    e = document.createElement('div');\n",
       "                    parentDiv.appendChild(e);\n",
       "                } else {\n",
       "                    e = element[0];\n",
       "                }\n",
       "\n",
       "                if (typeof requirejs !== 'undefined') {\n",
       "                    // disable load timeout; ipython_app.js is large and can take a while to load.\n",
       "                    requirejs.config({waitSeconds: 0});\n",
       "                }\n",
       "\n",
       "                require(['//turi.com/files/canvas/1.8.5/js/ipython_app.js'], function(IPythonApp){\n",
       "                    var app = new IPythonApp();\n",
       "                    app.attachView('sarray','Categorical', {\"ipython\": true, \"sketch\": {\"complete\": true, \"numeric\": false, \"num_unique\": 2, \"num_undefined\": 0, \"progress\": 1.0, \"frequent_items\": {\"yes\": {\"frequency\": 33, \"value\": \"yes\"}, \"no\": {\"frequency\": 10377, \"value\": \"no\"}}, \"size\": 10410}, \"selected_variable\": {\"name\": [\"<SArray>\"], \"dtype\": \"str\", \"view_component\": \"Categorical\", \"view_file\": \"sarray\", \"descriptives\": {\"rows\": 10410}, \"type\": \"SArray\", \"view_components\": [\"Categorical\"]}, \"histogram\": null}, e);\n",
       "                });\n",
       "            })();\n",
       "        "
      ]
     },
     "metadata": {},
     "output_type": "display_data"
    }
   ],
   "source": [
    "print 'Test set fraud'\n",
    "test['fraud'].show()"
   ]
  },
  {
   "cell_type": "markdown",
   "metadata": {},
   "source": [
    "## <a id=\"model\"></a>Create model to predict if a given transaction is fraudulent"
   ]
  },
  {
   "cell_type": "markdown",
   "metadata": {},
   "source": [
    "### Logistic Regression baseline"
   ]
  },
  {
   "cell_type": "code",
   "execution_count": 20,
   "metadata": {
    "collapsed": false
   },
   "outputs": [
    {
     "data": {
      "text/html": [
       "<pre>WARNING: The number of feature dimensions in this problem is very large in comparison with the number of examples. Unless an appropriate regularization value is set, this model may not provide accurate predictions for a validation/test set.</pre>"
      ],
      "text/plain": [
       "WARNING: The number of feature dimensions in this problem is very large in comparison with the number of examples. Unless an appropriate regularization value is set, this model may not provide accurate predictions for a validation/test set."
      ]
     },
     "metadata": {},
     "output_type": "display_data"
    },
    {
     "data": {
      "text/html": [
       "<pre>Logistic regression:</pre>"
      ],
      "text/plain": [
       "Logistic regression:"
      ]
     },
     "metadata": {},
     "output_type": "display_data"
    },
    {
     "data": {
      "text/html": [
       "<pre>--------------------------------------------------------</pre>"
      ],
      "text/plain": [
       "--------------------------------------------------------"
      ]
     },
     "metadata": {},
     "output_type": "display_data"
    },
    {
     "data": {
      "text/html": [
       "<pre>Number of examples          : 125557</pre>"
      ],
      "text/plain": [
       "Number of examples          : 125557"
      ]
     },
     "metadata": {},
     "output_type": "display_data"
    },
    {
     "data": {
      "text/html": [
       "<pre>Number of classes           : 2</pre>"
      ],
      "text/plain": [
       "Number of classes           : 2"
      ]
     },
     "metadata": {},
     "output_type": "display_data"
    },
    {
     "data": {
      "text/html": [
       "<pre>Number of feature columns   : 35</pre>"
      ],
      "text/plain": [
       "Number of feature columns   : 35"
      ]
     },
     "metadata": {},
     "output_type": "display_data"
    },
    {
     "data": {
      "text/html": [
       "<pre>Number of unpacked features : 35</pre>"
      ],
      "text/plain": [
       "Number of unpacked features : 35"
      ]
     },
     "metadata": {},
     "output_type": "display_data"
    },
    {
     "data": {
      "text/html": [
       "<pre>Number of coefficients    : 475596</pre>"
      ],
      "text/plain": [
       "Number of coefficients    : 475596"
      ]
     },
     "metadata": {},
     "output_type": "display_data"
    },
    {
     "data": {
      "text/html": [
       "<pre>Starting L-BFGS</pre>"
      ],
      "text/plain": [
       "Starting L-BFGS"
      ]
     },
     "metadata": {},
     "output_type": "display_data"
    },
    {
     "data": {
      "text/html": [
       "<pre>--------------------------------------------------------</pre>"
      ],
      "text/plain": [
       "--------------------------------------------------------"
      ]
     },
     "metadata": {},
     "output_type": "display_data"
    },
    {
     "data": {
      "text/html": [
       "<pre>+-----------+----------+-----------+--------------+-------------------+</pre>"
      ],
      "text/plain": [
       "+-----------+----------+-----------+--------------+-------------------+"
      ]
     },
     "metadata": {},
     "output_type": "display_data"
    },
    {
     "data": {
      "text/html": [
       "<pre>| Iteration | Passes   | Step size | Elapsed Time | Training-accuracy |</pre>"
      ],
      "text/plain": [
       "| Iteration | Passes   | Step size | Elapsed Time | Training-accuracy |"
      ]
     },
     "metadata": {},
     "output_type": "display_data"
    },
    {
     "data": {
      "text/html": [
       "<pre>+-----------+----------+-----------+--------------+-------------------+</pre>"
      ],
      "text/plain": [
       "+-----------+----------+-----------+--------------+-------------------+"
      ]
     },
     "metadata": {},
     "output_type": "display_data"
    },
    {
     "data": {
      "text/html": [
       "<pre>| 1         | 3        | 0.000008  | 1.434012     | 0.992322          |</pre>"
      ],
      "text/plain": [
       "| 1         | 3        | 0.000008  | 1.434012     | 0.992322          |"
      ]
     },
     "metadata": {},
     "output_type": "display_data"
    },
    {
     "data": {
      "text/html": [
       "<pre>| 2         | 5        | 1.000000  | 1.806275     | 0.995094          |</pre>"
      ],
      "text/plain": [
       "| 2         | 5        | 1.000000  | 1.806275     | 0.995094          |"
      ]
     },
     "metadata": {},
     "output_type": "display_data"
    },
    {
     "data": {
      "text/html": [
       "<pre>| 3         | 6        | 1.000000  | 2.040439     | 0.999570          |</pre>"
      ],
      "text/plain": [
       "| 3         | 6        | 1.000000  | 2.040439     | 0.999570          |"
      ]
     },
     "metadata": {},
     "output_type": "display_data"
    },
    {
     "data": {
      "text/html": [
       "<pre>| 4         | 7        | 1.000000  | 2.272605     | 0.999992          |</pre>"
      ],
      "text/plain": [
       "| 4         | 7        | 1.000000  | 2.272605     | 0.999992          |"
      ]
     },
     "metadata": {},
     "output_type": "display_data"
    },
    {
     "data": {
      "text/html": [
       "<pre>| 5         | 8        | 1.000000  | 2.503765     | 0.999992          |</pre>"
      ],
      "text/plain": [
       "| 5         | 8        | 1.000000  | 2.503765     | 0.999992          |"
      ]
     },
     "metadata": {},
     "output_type": "display_data"
    },
    {
     "data": {
      "text/html": [
       "<pre>| 6         | 9        | 1.000000  | 2.745938     | 0.999992          |</pre>"
      ],
      "text/plain": [
       "| 6         | 9        | 1.000000  | 2.745938     | 0.999992          |"
      ]
     },
     "metadata": {},
     "output_type": "display_data"
    },
    {
     "data": {
      "text/html": [
       "<pre>| 10        | 13       | 1.000000  | 3.658582     | 0.999992          |</pre>"
      ],
      "text/plain": [
       "| 10        | 13       | 1.000000  | 3.658582     | 0.999992          |"
      ]
     },
     "metadata": {},
     "output_type": "display_data"
    },
    {
     "data": {
      "text/html": [
       "<pre>+-----------+----------+-----------+--------------+-------------------+</pre>"
      ],
      "text/plain": [
       "+-----------+----------+-----------+--------------+-------------------+"
      ]
     },
     "metadata": {},
     "output_type": "display_data"
    },
    {
     "data": {
      "text/html": [
       "<pre>TERMINATED: Iteration limit reached.</pre>"
      ],
      "text/plain": [
       "TERMINATED: Iteration limit reached."
      ]
     },
     "metadata": {},
     "output_type": "display_data"
    },
    {
     "data": {
      "text/html": [
       "<pre>This model may not be optimal. To improve it, consider increasing `max_iterations`.</pre>"
      ],
      "text/plain": [
       "This model may not be optimal. To improve it, consider increasing `max_iterations`."
      ]
     },
     "metadata": {},
     "output_type": "display_data"
    }
   ],
   "source": [
    "logreg_model = gl.logistic_classifier.create(train,\n",
    "                                             target='fraud',\n",
    "                                             validation_set=None)"
   ]
  },
  {
   "cell_type": "code",
   "execution_count": 21,
   "metadata": {
    "collapsed": false,
    "scrolled": true
   },
   "outputs": [
    {
     "name": "stdout",
     "output_type": "stream",
     "text": [
      "Logistic Regression Accuracy 0.996733909702\n",
      "Logistic Regression Confusion Matrix\n",
      "+--------------+-----------------+-------+\n",
      "| target_label | predicted_label | count |\n",
      "+--------------+-----------------+-------+\n",
      "|      no      |        no       | 10376 |\n",
      "|     yes      |        no       |   33  |\n",
      "|      no      |       yes       |   1   |\n",
      "+--------------+-----------------+-------+\n",
      "[3 rows x 3 columns]\n",
      "\n"
     ]
    }
   ],
   "source": [
    "print 'Logistic Regression Accuracy', logreg_model.evaluate(test)['accuracy']\n",
    "print 'Logistic Regression Confusion Matrix\\n', logreg_model.evaluate(test)['confusion_matrix']"
   ]
  },
  {
   "cell_type": "markdown",
   "metadata": {},
   "source": [
    "<b>Not a single fraud case was detected by the logistic regression model!</b><br>\n",
    "As indicated while training the logistic regression model, some features are highly categorical, and when expanded result in <b>many</b> coefficients. We could address this by removing these features from the dataset, or by transforming these features into a more manageable form (e.g. [Count Thresholder](https://turi.com/learn/userguide/feature-engineering/count_thresholder.html)). For this webinar, we will leave these features as-is and will move on to a stronger classifier."
   ]
  },
  {
   "cell_type": "markdown",
   "metadata": {},
   "source": [
    "### Boosted Trees Classifier"
   ]
  },
  {
   "cell_type": "code",
   "execution_count": 22,
   "metadata": {
    "collapsed": false,
    "scrolled": false
   },
   "outputs": [
    {
     "data": {
      "text/html": [
       "<pre>WARNING: The number of feature dimensions in this problem is very large in comparison with the number of examples. Unless an appropriate regularization value is set, this model may not provide accurate predictions for a validation/test set.</pre>"
      ],
      "text/plain": [
       "WARNING: The number of feature dimensions in this problem is very large in comparison with the number of examples. Unless an appropriate regularization value is set, this model may not provide accurate predictions for a validation/test set."
      ]
     },
     "metadata": {},
     "output_type": "display_data"
    },
    {
     "data": {
      "text/html": [
       "<pre>Boosted trees classifier:</pre>"
      ],
      "text/plain": [
       "Boosted trees classifier:"
      ]
     },
     "metadata": {},
     "output_type": "display_data"
    },
    {
     "data": {
      "text/html": [
       "<pre>--------------------------------------------------------</pre>"
      ],
      "text/plain": [
       "--------------------------------------------------------"
      ]
     },
     "metadata": {},
     "output_type": "display_data"
    },
    {
     "data": {
      "text/html": [
       "<pre>Number of examples          : 125557</pre>"
      ],
      "text/plain": [
       "Number of examples          : 125557"
      ]
     },
     "metadata": {},
     "output_type": "display_data"
    },
    {
     "data": {
      "text/html": [
       "<pre>Number of classes           : 2</pre>"
      ],
      "text/plain": [
       "Number of classes           : 2"
      ]
     },
     "metadata": {},
     "output_type": "display_data"
    },
    {
     "data": {
      "text/html": [
       "<pre>Number of feature columns   : 35</pre>"
      ],
      "text/plain": [
       "Number of feature columns   : 35"
      ]
     },
     "metadata": {},
     "output_type": "display_data"
    },
    {
     "data": {
      "text/html": [
       "<pre>Number of unpacked features : 35</pre>"
      ],
      "text/plain": [
       "Number of unpacked features : 35"
      ]
     },
     "metadata": {},
     "output_type": "display_data"
    },
    {
     "data": {
      "text/html": [
       "<pre>+-----------+--------------+-------------------+-------------------+</pre>"
      ],
      "text/plain": [
       "+-----------+--------------+-------------------+-------------------+"
      ]
     },
     "metadata": {},
     "output_type": "display_data"
    },
    {
     "data": {
      "text/html": [
       "<pre>| Iteration | Elapsed Time | Training-accuracy | Training-log_loss |</pre>"
      ],
      "text/plain": [
       "| Iteration | Elapsed Time | Training-accuracy | Training-log_loss |"
      ]
     },
     "metadata": {},
     "output_type": "display_data"
    },
    {
     "data": {
      "text/html": [
       "<pre>+-----------+--------------+-------------------+-------------------+</pre>"
      ],
      "text/plain": [
       "+-----------+--------------+-------------------+-------------------+"
      ]
     },
     "metadata": {},
     "output_type": "display_data"
    },
    {
     "data": {
      "text/html": [
       "<pre>| 1         | 0.285198     | 0.996878          | 0.439840          |</pre>"
      ],
      "text/plain": [
       "| 1         | 0.285198     | 0.996878          | 0.439840          |"
      ]
     },
     "metadata": {},
     "output_type": "display_data"
    },
    {
     "data": {
      "text/html": [
       "<pre>| 2         | 0.562394     | 0.997125          | 0.299877          |</pre>"
      ],
      "text/plain": [
       "| 2         | 0.562394     | 0.997125          | 0.299877          |"
      ]
     },
     "metadata": {},
     "output_type": "display_data"
    },
    {
     "data": {
      "text/html": [
       "<pre>| 3         | 0.842592     | 0.997244          | 0.211750          |</pre>"
      ],
      "text/plain": [
       "| 3         | 0.842592     | 0.997244          | 0.211750          |"
      ]
     },
     "metadata": {},
     "output_type": "display_data"
    },
    {
     "data": {
      "text/html": [
       "<pre>| 4         | 1.118787     | 0.997396          | 0.152803          |</pre>"
      ],
      "text/plain": [
       "| 4         | 1.118787     | 0.997396          | 0.152803          |"
      ]
     },
     "metadata": {},
     "output_type": "display_data"
    },
    {
     "data": {
      "text/html": [
       "<pre>| 5         | 1.389978     | 0.997483          | 0.111957          |</pre>"
      ],
      "text/plain": [
       "| 5         | 1.389978     | 0.997483          | 0.111957          |"
      ]
     },
     "metadata": {},
     "output_type": "display_data"
    },
    {
     "data": {
      "text/html": [
       "<pre>| 6         | 1.668174     | 0.997563          | 0.083166          |</pre>"
      ],
      "text/plain": [
       "| 6         | 1.668174     | 0.997563          | 0.083166          |"
      ]
     },
     "metadata": {},
     "output_type": "display_data"
    },
    {
     "data": {
      "text/html": [
       "<pre>| 10        | 2.756944     | 0.997650          | 0.028914          |</pre>"
      ],
      "text/plain": [
       "| 10        | 2.756944     | 0.997650          | 0.028914          |"
      ]
     },
     "metadata": {},
     "output_type": "display_data"
    },
    {
     "data": {
      "text/html": [
       "<pre>+-----------+--------------+-------------------+-------------------+</pre>"
      ],
      "text/plain": [
       "+-----------+--------------+-------------------+-------------------+"
      ]
     },
     "metadata": {},
     "output_type": "display_data"
    }
   ],
   "source": [
    "boosted_trees_model = gl.boosted_trees_classifier.create(train, \n",
    "                                                         target='fraud',\n",
    "                                                         validation_set=None)"
   ]
  },
  {
   "cell_type": "code",
   "execution_count": 23,
   "metadata": {
    "collapsed": false,
    "scrolled": true
   },
   "outputs": [
    {
     "name": "stdout",
     "output_type": "stream",
     "text": [
      "Boosted trees Accuracy 0.998366954851\n",
      "Boosted trees Confusion Matrix\n",
      "+--------------+-----------------+-------+\n",
      "| target_label | predicted_label | count |\n",
      "+--------------+-----------------+-------+\n",
      "|      no      |        no       | 10364 |\n",
      "|     yes      |        no       |   4   |\n",
      "|     yes      |       yes       |   29  |\n",
      "|      no      |       yes       |   13  |\n",
      "+--------------+-----------------+-------+\n",
      "[4 rows x 3 columns]\n",
      "\n"
     ]
    }
   ],
   "source": [
    "print 'Boosted trees Accuracy', boosted_trees_model.evaluate(test)['accuracy']\n",
    "print 'Boosted trees Confusion Matrix\\n', boosted_trees_model.evaluate(test)['confusion_matrix']"
   ]
  },
  {
   "cell_type": "markdown",
   "metadata": {},
   "source": [
    "<b> 29 out of 33 fraud cases were detected by the boosted trees model.</b>\n",
    "\n",
    "Let's tune the parameters of the model so we can squeeze extra performance out of it. In this example I chose parameters that were evaluated before hand, but GraphLab offers the functionality to do a distributed search across a grid of parameters. To learn more click [here](https://turi.com/learn/userguide/model_parameter_search/introduction.html)."
   ]
  },
  {
   "cell_type": "code",
   "execution_count": 24,
   "metadata": {
    "collapsed": false,
    "scrolled": false
   },
   "outputs": [
    {
     "data": {
      "text/html": [
       "<pre>WARNING: The number of feature dimensions in this problem is very large in comparison with the number of examples. Unless an appropriate regularization value is set, this model may not provide accurate predictions for a validation/test set.</pre>"
      ],
      "text/plain": [
       "WARNING: The number of feature dimensions in this problem is very large in comparison with the number of examples. Unless an appropriate regularization value is set, this model may not provide accurate predictions for a validation/test set."
      ]
     },
     "metadata": {},
     "output_type": "display_data"
    },
    {
     "data": {
      "text/html": [
       "<pre>Boosted trees classifier:</pre>"
      ],
      "text/plain": [
       "Boosted trees classifier:"
      ]
     },
     "metadata": {},
     "output_type": "display_data"
    },
    {
     "data": {
      "text/html": [
       "<pre>--------------------------------------------------------</pre>"
      ],
      "text/plain": [
       "--------------------------------------------------------"
      ]
     },
     "metadata": {},
     "output_type": "display_data"
    },
    {
     "data": {
      "text/html": [
       "<pre>Number of examples          : 125557</pre>"
      ],
      "text/plain": [
       "Number of examples          : 125557"
      ]
     },
     "metadata": {},
     "output_type": "display_data"
    },
    {
     "data": {
      "text/html": [
       "<pre>Number of classes           : 2</pre>"
      ],
      "text/plain": [
       "Number of classes           : 2"
      ]
     },
     "metadata": {},
     "output_type": "display_data"
    },
    {
     "data": {
      "text/html": [
       "<pre>Number of feature columns   : 35</pre>"
      ],
      "text/plain": [
       "Number of feature columns   : 35"
      ]
     },
     "metadata": {},
     "output_type": "display_data"
    },
    {
     "data": {
      "text/html": [
       "<pre>Number of unpacked features : 35</pre>"
      ],
      "text/plain": [
       "Number of unpacked features : 35"
      ]
     },
     "metadata": {},
     "output_type": "display_data"
    },
    {
     "data": {
      "text/html": [
       "<pre>+-----------+--------------+-------------------+-------------------+</pre>"
      ],
      "text/plain": [
       "+-----------+--------------+-------------------+-------------------+"
      ]
     },
     "metadata": {},
     "output_type": "display_data"
    },
    {
     "data": {
      "text/html": [
       "<pre>| Iteration | Elapsed Time | Training-accuracy | Training-log_loss |</pre>"
      ],
      "text/plain": [
       "| Iteration | Elapsed Time | Training-accuracy | Training-log_loss |"
      ]
     },
     "metadata": {},
     "output_type": "display_data"
    },
    {
     "data": {
      "text/html": [
       "<pre>+-----------+--------------+-------------------+-------------------+</pre>"
      ],
      "text/plain": [
       "+-----------+--------------+-------------------+-------------------+"
      ]
     },
     "metadata": {},
     "output_type": "display_data"
    },
    {
     "data": {
      "text/html": [
       "<pre>| 1         | 0.387272     | 0.981757          | 0.460638          |</pre>"
      ],
      "text/plain": [
       "| 1         | 0.387272     | 0.981757          | 0.460638          |"
      ]
     },
     "metadata": {},
     "output_type": "display_data"
    },
    {
     "data": {
      "text/html": [
       "<pre>| 2         | 0.764539     | 0.976711          | 0.330015          |</pre>"
      ],
      "text/plain": [
       "| 2         | 0.764539     | 0.976711          | 0.330015          |"
      ]
     },
     "metadata": {},
     "output_type": "display_data"
    },
    {
     "data": {
      "text/html": [
       "<pre>| 3         | 1.163821     | 0.979027          | 0.245213          |</pre>"
      ],
      "text/plain": [
       "| 3         | 1.163821     | 0.979027          | 0.245213          |"
      ]
     },
     "metadata": {},
     "output_type": "display_data"
    },
    {
     "data": {
      "text/html": [
       "<pre>| 4         | 1.560101     | 0.979787          | 0.188401          |</pre>"
      ],
      "text/plain": [
       "| 4         | 1.560101     | 0.979787          | 0.188401          |"
      ]
     },
     "metadata": {},
     "output_type": "display_data"
    },
    {
     "data": {
      "text/html": [
       "<pre>| 5         | 1.962385     | 0.980019          | 0.148694          |</pre>"
      ],
      "text/plain": [
       "| 5         | 1.962385     | 0.980019          | 0.148694          |"
      ]
     },
     "metadata": {},
     "output_type": "display_data"
    },
    {
     "data": {
      "text/html": [
       "<pre>| 6         | 2.347657     | 0.982517          | 0.119373          |</pre>"
      ],
      "text/plain": [
       "| 6         | 2.347657     | 0.982517          | 0.119373          |"
      ]
     },
     "metadata": {},
     "output_type": "display_data"
    },
    {
     "data": {
      "text/html": [
       "<pre>| 10        | 3.932776     | 0.988897          | 0.058315          |</pre>"
      ],
      "text/plain": [
       "| 10        | 3.932776     | 0.988897          | 0.058315          |"
      ]
     },
     "metadata": {},
     "output_type": "display_data"
    },
    {
     "data": {
      "text/html": [
       "<pre>| 11        | 4.448140     | 0.991498          | 0.050472          |</pre>"
      ],
      "text/plain": [
       "| 11        | 4.448140     | 0.991498          | 0.050472          |"
      ]
     },
     "metadata": {},
     "output_type": "display_data"
    },
    {
     "data": {
      "text/html": [
       "<pre>| 15        | 6.315458     | 0.996765          | 0.033629          |</pre>"
      ],
      "text/plain": [
       "| 15        | 6.315458     | 0.996765          | 0.033629          |"
      ]
     },
     "metadata": {},
     "output_type": "display_data"
    },
    {
     "data": {
      "text/html": [
       "<pre>| 20        | 8.432953     | 0.996934          | 0.025129          |</pre>"
      ],
      "text/plain": [
       "| 20        | 8.432953     | 0.996934          | 0.025129          |"
      ]
     },
     "metadata": {},
     "output_type": "display_data"
    },
    {
     "data": {
      "text/html": [
       "<pre>| 25        | 10.362315    | 0.997038          | 0.020979          |</pre>"
      ],
      "text/plain": [
       "| 25        | 10.362315    | 0.997038          | 0.020979          |"
      ]
     },
     "metadata": {},
     "output_type": "display_data"
    },
    {
     "data": {
      "text/html": [
       "<pre>| 30        | 12.290677    | 0.997179          | 0.018338          |</pre>"
      ],
      "text/plain": [
       "| 30        | 12.290677    | 0.997179          | 0.018338          |"
      ]
     },
     "metadata": {},
     "output_type": "display_data"
    },
    {
     "data": {
      "text/html": [
       "<pre>| 35        | 14.220039    | 0.997299          | 0.016659          |</pre>"
      ],
      "text/plain": [
       "| 35        | 14.220039    | 0.997299          | 0.016659          |"
      ]
     },
     "metadata": {},
     "output_type": "display_data"
    },
    {
     "data": {
      "text/html": [
       "<pre>| 40        | 16.114376    | 0.997383          | 0.015333          |</pre>"
      ],
      "text/plain": [
       "| 40        | 16.114376    | 0.997383          | 0.015333          |"
      ]
     },
     "metadata": {},
     "output_type": "display_data"
    },
    {
     "data": {
      "text/html": [
       "<pre>+-----------+--------------+-------------------+-------------------+</pre>"
      ],
      "text/plain": [
       "+-----------+--------------+-------------------+-------------------+"
      ]
     },
     "metadata": {},
     "output_type": "display_data"
    }
   ],
   "source": [
    "boosted_trees_model = gl.boosted_trees_classifier.create(train, \n",
    "                                                         target='fraud',\n",
    "                                                         validation_set=None,\n",
    "                                                         max_iterations=40,\n",
    "                                                         max_depth=9,\n",
    "                                                         class_weights='auto')"
   ]
  },
  {
   "cell_type": "code",
   "execution_count": 25,
   "metadata": {
    "collapsed": false
   },
   "outputs": [
    {
     "name": "stdout",
     "output_type": "stream",
     "text": [
      "Boosted trees Accuracy 0.997502401537\n",
      "Boosted trees Confusion Matrix\n",
      "+--------------+-----------------+-------+\n",
      "| target_label | predicted_label | count |\n",
      "+--------------+-----------------+-------+\n",
      "|      no      |        no       | 10354 |\n",
      "|     yes      |        no       |   3   |\n",
      "|     yes      |       yes       |   30  |\n",
      "|      no      |       yes       |   23  |\n",
      "+--------------+-----------------+-------+\n",
      "[4 rows x 3 columns]\n",
      "\n"
     ]
    }
   ],
   "source": [
    "print 'Boosted trees Accuracy', boosted_trees_model.evaluate(test)['accuracy']\n",
    "print 'Boosted trees Confusion Matrix\\n', boosted_trees_model.evaluate(test)['confusion_matrix']"
   ]
  },
  {
   "cell_type": "markdown",
   "metadata": {},
   "source": [
    "<b> The tuned model found one more fraud case than the previous un-tuned model, at the price of a few more false positives.</b> The desired balance between false positives and false negatives depends on the application. In fraud detection we may want to minimize false negatives so we can save more money, while false positives will just waste more time for a fraud detection expert inspecting transactions flagged by our model."
   ]
  },
  {
   "cell_type": "code",
   "execution_count": 26,
   "metadata": {
    "collapsed": false,
    "scrolled": true
   },
   "outputs": [
    {
     "data": {
      "text/html": [
       "<div style=\"max-height:1000px;max-width:1500px;overflow:auto;\"><table frame=\"box\" rules=\"cols\">\n",
       "    <tr>\n",
       "        <th style=\"padding-left: 1em; padding-right: 1em; text-align: center\">name</th>\n",
       "        <th style=\"padding-left: 1em; padding-right: 1em; text-align: center\">index</th>\n",
       "        <th style=\"padding-left: 1em; padding-right: 1em; text-align: center\">count</th>\n",
       "    </tr>\n",
       "    <tr>\n",
       "        <td style=\"padding-left: 1em; padding-right: 1em; text-align: center; vertical-align: top\">payment amount</td>\n",
       "        <td style=\"padding-left: 1em; padding-right: 1em; text-align: center; vertical-align: top\">None</td>\n",
       "        <td style=\"padding-left: 1em; padding-right: 1em; text-align: center; vertical-align: top\">216</td>\n",
       "    </tr>\n",
       "    <tr>\n",
       "        <td style=\"padding-left: 1em; padding-right: 1em; text-align: center; vertical-align: top\">days to event</td>\n",
       "        <td style=\"padding-left: 1em; padding-right: 1em; text-align: center; vertical-align: top\">None</td>\n",
       "        <td style=\"padding-left: 1em; padding-right: 1em; text-align: center; vertical-align: top\">190</td>\n",
       "    </tr>\n",
       "    <tr>\n",
       "        <td style=\"padding-left: 1em; padding-right: 1em; text-align: center; vertical-align: top\">payment lead days</td>\n",
       "        <td style=\"padding-left: 1em; padding-right: 1em; text-align: center; vertical-align: top\">None</td>\n",
       "        <td style=\"padding-left: 1em; padding-right: 1em; text-align: center; vertical-align: top\">137</td>\n",
       "    </tr>\n",
       "    <tr>\n",
       "        <td style=\"padding-left: 1em; padding-right: 1em; text-align: center; vertical-align: top\">quote amount</td>\n",
       "        <td style=\"padding-left: 1em; padding-right: 1em; text-align: center; vertical-align: top\">None</td>\n",
       "        <td style=\"padding-left: 1em; padding-right: 1em; text-align: center; vertical-align: top\">135</td>\n",
       "    </tr>\n",
       "    <tr>\n",
       "        <td style=\"padding-left: 1em; padding-right: 1em; text-align: center; vertical-align: top\">blacklisted</td>\n",
       "        <td style=\"padding-left: 1em; padding-right: 1em; text-align: center; vertical-align: top\">no</td>\n",
       "        <td style=\"padding-left: 1em; padding-right: 1em; text-align: center; vertical-align: top\">43</td>\n",
       "    </tr>\n",
       "    <tr>\n",
       "        <td style=\"padding-left: 1em; padding-right: 1em; text-align: center; vertical-align: top\">ip</td>\n",
       "        <td style=\"padding-left: 1em; padding-right: 1em; text-align: center; vertical-align: top\">184.80.149.174</td>\n",
       "        <td style=\"padding-left: 1em; padding-right: 1em; text-align: center; vertical-align: top\">28</td>\n",
       "    </tr>\n",
       "    <tr>\n",
       "        <td style=\"padding-left: 1em; padding-right: 1em; text-align: center; vertical-align: top\">customer country</td>\n",
       "        <td style=\"padding-left: 1em; padding-right: 1em; text-align: center; vertical-align: top\">C75</td>\n",
       "        <td style=\"padding-left: 1em; padding-right: 1em; text-align: center; vertical-align: top\">27</td>\n",
       "    </tr>\n",
       "    <tr>\n",
       "        <td style=\"padding-left: 1em; padding-right: 1em; text-align: center; vertical-align: top\">business type</td>\n",
       "        <td style=\"padding-left: 1em; padding-right: 1em; text-align: center; vertical-align: top\">E43</td>\n",
       "        <td style=\"padding-left: 1em; padding-right: 1em; text-align: center; vertical-align: top\">27</td>\n",
       "    </tr>\n",
       "    <tr>\n",
       "        <td style=\"padding-left: 1em; padding-right: 1em; text-align: center; vertical-align: top\">credit card company</td>\n",
       "        <td style=\"padding-left: 1em; padding-right: 1em; text-align: center; vertical-align: top\"></td>\n",
       "        <td style=\"padding-left: 1em; padding-right: 1em; text-align: center; vertical-align: top\">26</td>\n",
       "    </tr>\n",
       "    <tr>\n",
       "        <td style=\"padding-left: 1em; padding-right: 1em; text-align: center; vertical-align: top\">credit card expiration<br>year ...</td>\n",
       "        <td style=\"padding-left: 1em; padding-right: 1em; text-align: center; vertical-align: top\">2016</td>\n",
       "        <td style=\"padding-left: 1em; padding-right: 1em; text-align: center; vertical-align: top\">25</td>\n",
       "    </tr>\n",
       "</table>\n",
       "[475623 rows x 3 columns]<br/>Note: Only the head of the SFrame is printed.<br/>You can use print_rows(num_rows=m, num_columns=n) to print more rows and columns.\n",
       "</div>"
      ],
      "text/plain": [
       "Columns:\n",
       "\tname\tstr\n",
       "\tindex\tstr\n",
       "\tcount\tint\n",
       "\n",
       "Rows: 475623\n",
       "\n",
       "Data:\n",
       "+-----------------------------+----------------+-------+\n",
       "|             name            |     index      | count |\n",
       "+-----------------------------+----------------+-------+\n",
       "|        payment amount       |      None      |  216  |\n",
       "|        days to event        |      None      |  190  |\n",
       "|      payment lead days      |      None      |  137  |\n",
       "|         quote amount        |      None      |  135  |\n",
       "|         blacklisted         |       no       |   43  |\n",
       "|              ip             | 184.80.149.174 |   28  |\n",
       "|       customer country      |      C75       |   27  |\n",
       "|        business type        |      E43       |   27  |\n",
       "|     credit card company     |                |   26  |\n",
       "| credit card expiration year |      2016      |   25  |\n",
       "+-----------------------------+----------------+-------+\n",
       "[475623 rows x 3 columns]\n",
       "Note: Only the head of the SFrame is printed.\n",
       "You can use print_rows(num_rows=m, num_columns=n) to print more rows and columns."
      ]
     },
     "execution_count": 26,
     "metadata": {},
     "output_type": "execute_result"
    }
   ],
   "source": [
    "# Inspect the features most used by the boosted trees model\n",
    "boosted_trees_model.get_feature_importance()"
   ]
  },
  {
   "cell_type": "markdown",
   "metadata": {},
   "source": [
    "## <a id=\"deploy\"></a>Deploying the model into a resilient & elastic service"
   ]
  },
  {
   "cell_type": "markdown",
   "metadata": {},
   "source": [
    "To connect to AWS, you will have to set your own AWS credentials by calling:\n",
    "\n",
    "```python\n",
    "gl.aws.set_credentials(<your public key>,\n",
    "                       <your private key>)\n",
    "```"
   ]
  },
  {
   "cell_type": "code",
   "execution_count": 27,
   "metadata": {
    "collapsed": false
   },
   "outputs": [
    {
     "name": "stderr",
     "output_type": "stream",
     "text": [
      "2016-03-24 12:28:24,033 [WARNING] graphlab.deploy.predictive_service, 384: Overwriting existing Predictive Service \"demolab-ps-one-eight-five\" in local session.\n"
     ]
    }
   ],
   "source": [
    "state_path = 's3://gl-demo-usw2/predictive_service/demolab/ps-1.8.5'\n",
    "\n",
    "ps = gl.deploy.predictive_service.load(state_path)"
   ]
  },
  {
   "cell_type": "code",
   "execution_count": 28,
   "metadata": {
    "collapsed": false
   },
   "outputs": [
    {
     "name": "stderr",
     "output_type": "stream",
     "text": [
      "2016-03-24 12:28:27,285 [INFO] graphlab.deploy._predictive_service._predictive_service, 1450: Endpoint 'fraud' is added. Use apply_changes() to deploy all pending changes, or continue with other modification.\n",
      "2016-03-24 12:28:27,286 [INFO] graphlab.deploy._predictive_service._predictive_service, 1725: Persisting endpoint changes.\n",
      "2016-03-24 12:28:27,578 [INFO] graphlab.util.file_util, 189: Uploading local path c:\\users\\alon\\appdata\\local\\temp\\predictive_object_japony to s3 path: s3://gl-demo-usw2/predictive_service/demolab/ps-1.8.5/predictive_objects/fraud/1\n"
     ]
    },
    {
     "name": "stdout",
     "output_type": "stream",
     "text": [
      "upload: c:\\users\\alon\\appdata\\local\\temp\\predictive_object_japony\\f3d116da-9e09-4208-9830-7b08fa911200\\dir_archive.ini to s3://gl-demo-usw2/predictive_service/demolab/ps-1.8.5/predictive_objects/fraud/1/f3d116da-9e09-4208-9830-7b08fa911200/dir_archive.ini\n",
      "upload: c:\\users\\alon\\appdata\\local\\temp\\predictive_object_japony\\f3d116da-9e09-4208-9830-7b08fa911200\\m_6c06b43b3c85d13c.sidx to s3://gl-demo-usw2/predictive_service/demolab/ps-1.8.5/predictive_objects/fraud/1/f3d116da-9e09-4208-9830-7b08fa911200/m_6c06b43b3c85d13c.sidx\n",
      "upload: c:\\users\\alon\\appdata\\local\\temp\\predictive_object_japony\\f3d116da-9e09-4208-9830-7b08fa911200\\m_6c06b43b3c85d13c.frame_idx to s3://gl-demo-usw2/predictive_service/demolab/ps-1.8.5/predictive_objects/fraud/1/f3d116da-9e09-4208-9830-7b08fa911200/m_6c06b43b3c85d13c.frame_idx\n",
      "upload: c:\\users\\alon\\appdata\\local\\temp\\predictive_object_japony\\pickle_archive to s3://gl-demo-usw2/predictive_service/demolab/ps-1.8.5/predictive_objects/fraud/1/pickle_archive\n",
      "upload: c:\\users\\alon\\appdata\\local\\temp\\predictive_object_japony\\version to s3://gl-demo-usw2/predictive_service/demolab/ps-1.8.5/predictive_objects/fraud/1/version\n",
      "upload: c:\\users\\alon\\appdata\\local\\temp\\predictive_object_japony\\f3d116da-9e09-4208-9830-7b08fa911200\\m_6c06b43b3c85d13c.0000 to s3://gl-demo-usw2/predictive_service/demolab/ps-1.8.5/predictive_objects/fraud/1/f3d116da-9e09-4208-9830-7b08fa911200/m_6c06b43b3c85d13c.0000\n",
      "Completed 10 of 10 part(s) with 1 file(s) remaining"
     ]
    },
    {
     "name": "stderr",
     "output_type": "stream",
     "text": [
      "2016-03-24 12:34:12,993 [INFO] graphlab.util.file_util, 244: Successfully uploaded to s3 path s3://gl-demo-usw2/predictive_service/demolab/ps-1.8.5/predictive_objects/fraud/1\n"
     ]
    },
    {
     "name": "stdout",
     "output_type": "stream",
     "text": [
      "\r",
      "upload: c:\\users\\alon\\appdata\\local\\temp\\predictive_object_japony\\f3d116da-9e09-4208-9830-7b08fa911200\\objects.bin to s3://gl-demo-usw2/predictive_service/demolab/ps-1.8.5/predictive_objects/fraud/1/f3d116da-9e09-4208-9830-7b08fa911200/objects.bin\n"
     ]
    }
   ],
   "source": [
    "# Pickle and send the model over to the server.\n",
    "ps.add('fraud', boosted_trees_model)\n",
    "ps.apply_changes()"
   ]
  },
  {
   "cell_type": "code",
   "execution_count": 29,
   "metadata": {
    "collapsed": false,
    "scrolled": true
   },
   "outputs": [
    {
     "name": "stdout",
     "output_type": "stream",
     "text": [
      "Canvas is accessible via web browser at the URL: http://localhost:55975/index.html\n",
      "Opening Canvas in default web browser.\n"
     ]
    },
    {
     "name": "stderr",
     "output_type": "stream",
     "text": [
      "2016-03-24 12:35:38,621 [INFO] graphlab.deploy._predictive_service._predictive_service, 2530: retrieving metrics from predictive service...\n"
     ]
    }
   ],
   "source": [
    "# Predictive services must be displayed in a browser\n",
    "gl.canvas.set_target('browser')\n",
    "\n",
    "ps.show()"
   ]
  },
  {
   "cell_type": "markdown",
   "metadata": {},
   "source": [
    "### RESTfully query the service"
   ]
  },
  {
   "cell_type": "code",
   "execution_count": 30,
   "metadata": {
    "collapsed": false,
    "scrolled": true
   },
   "outputs": [
    {
     "data": {
      "text/plain": [
       "{u'from_cache': False,\n",
       " u'model': u'fraud',\n",
       " u'response': [u'yes'],\n",
       " u'uuid': u'5bc151bf-e47a-4f84-b29f-11bb7d3ba4db',\n",
       " u'version': 1}"
      ]
     },
     "execution_count": 30,
     "metadata": {},
     "output_type": "execute_result"
    }
   ],
   "source": [
    "ps.query('fraud', method='predict', data={'dataset' : test[0]})"
   ]
  },
  {
   "cell_type": "code",
   "execution_count": 31,
   "metadata": {
    "collapsed": false
   },
   "outputs": [
    {
     "data": {
      "text/plain": [
       "'yes'"
      ]
     },
     "execution_count": 31,
     "metadata": {},
     "output_type": "execute_result"
    }
   ],
   "source": [
    "test[0]['fraud']"
   ]
  }
 ],
 "metadata": {
  "kernelspec": {
   "display_name": "Python 2",
   "language": "python",
   "name": "python2"
  },
  "language_info": {
   "codemirror_mode": {
    "name": "ipython",
    "version": 2
   },
   "file_extension": ".py",
   "mimetype": "text/x-python",
   "name": "python",
   "nbconvert_exporter": "python",
   "pygments_lexer": "ipython2",
   "version": "2.7.10"
  }
 },
 "nbformat": 4,
 "nbformat_minor": 0
}
