{
 "metadata": {
  "name": "",
  "signature": "sha256:0bd1413cc432876e4c643cf0cea23530ea8ff9ab987036dd795f5daf5df9291a"
 },
 "nbformat": 3,
 "nbformat_minor": 0,
 "worksheets": [
  {
   "cells": [
    {
     "cell_type": "heading",
     "level": 1,
     "metadata": {},
     "source": [
      "Deploy scikit-learn model with Turi Predictive Services"
     ]
    },
    {
     "cell_type": "markdown",
     "metadata": {},
     "source": [
      "Deploying models created using scikit-learn in a Turi Predictive Service is very easy. This notebook walks you through the step-by-step process. The notebook has three sections: \n",
      "\n",
      "1. <a href='#createps'>Create a Predictive Service</a>\n",
      "2. <a href='#deploymodel'>Create a scikit-learn model and deploy it to a Predictive Service</a>\n",
      "3. <a href='#queryps'>Query the model through CURL or a Predictive Service Client</a>\n",
      "\n",
      "If you are deploying a model in an existing Predictive Service instance you can go to <a href='#deploymodel'>step two</a> directly."
     ]
    },
    {
     "cell_type": "heading",
     "level": 2,
     "metadata": {},
     "source": [
      "Prerequisites"
     ]
    },
    {
     "cell_type": "markdown",
     "metadata": {},
     "source": [
      "Apart from GraphLab Create you will, naturally, need scikit-learn installed in your current Python environment. The most straightforward way to do that is to use conda:\n",
      "```\n",
      "conda install scikit-learn\n",
      "```\n",
      "You will also need a valid AWS account in order to set up a predictive service."
     ]
    },
    {
     "cell_type": "heading",
     "level": 2,
     "metadata": {},
     "source": [
      "Step one: Create a Predictive Service\n",
      "<a id='createps'></a>"
     ]
    },
    {
     "cell_type": "markdown",
     "metadata": {},
     "source": [
      "This section shows you how to deploy a Predictive Service to EC2. The EC2 instances used by the Predictive Service will be launched in your own AWS account, so you will be responsible for the cost. \n",
      "\n",
      "To create a Predictive Service in Amazon AWS, we first configure the EC2 Config object, which contains the configuration parameters required for launching a Predictive Service cluster in EC2. These fields are optional and include the region, instance type, CIDR rules etc. Predictive Service uses this configuration for service creation.\n",
      "\n",
      "Having configured our EC2 Config object, we're ready to launch a Predictive Service Deployment, There are a few aspects of the Predictive Service that can be customized:\n",
      "* Number of nodes in the service - By default the number of hosts (`num_hosts`) is 1. To obtain good cache utility and high availability, we recommended setting num_hosts to at least 3.\n",
      "* State path to persist service state and service logs. This is a s3 location. \n",
      "* Port to be used by the server.\n",
      "* Other settings, such as SSL credentials etc.\n",
      "\n",
      "The following code snippet shows you how to create a Predictive Service. You will have to replace the ps_state_path and credentials for your Predictive Service."
     ]
    },
    {
     "cell_type": "code",
     "collapsed": false,
     "input": [
      "import graphlab as gl\n",
      "\n",
      "# make sure to replace the following with your own information\n",
      "ps_state_path = 's3://<your-bucket-name>/predictive_service/ps'\n",
      "\n",
      "# Create an EC2 config\n",
      "# You can either specify your AWS credentials using environment variables, or\n",
      "# set them as arguments to this object's constructor\n",
      "ec2_config = gl.deploy.Ec2Config(\n",
      "    aws_access_key_id='<your access key>',\n",
      "    aws_secret_access_key='<your secret key>')\n",
      "\n",
      "# use the EC2 config to launch a new Predictive Service\n",
      "# num_hosts specifies how many hosts the Predictive Service cluster has. You can scale up and down later after initial creation.\n",
      "ps = gl.deploy.predictive_service.create(\n",
      "    name='sklearn-predictive-service',\n",
      "    ec2_config=ec2_config,\n",
      "    state_path=ps_state_path,\n",
      "    num_hosts=1)"
     ],
     "language": "python",
     "metadata": {},
     "outputs": []
    },
    {
     "cell_type": "code",
     "collapsed": false,
     "input": [
      "# once the Predictive Service is successfully created, you can query the service status\n",
      "ps.get_status()"
     ],
     "language": "python",
     "metadata": {},
     "outputs": [
      {
       "metadata": {},
       "output_type": "pyout",
       "prompt_number": 5,
       "text": [
        "[{u'cache': {u'healthy': True, u'num_keys': 0, u'type': u'local'},\n",
        "  u'dns_name': u'ec2-52-34-231-117.us-west-2.compute.amazonaws.com',\n",
        "  u'id': u'i-992d1540',\n",
        "  u'models': [],\n",
        "  u'num_hosts': 1,\n",
        "  u'reason': u'N/A',\n",
        "  u'service_version': u'1.7.1',\n",
        "  u'state': u'InService'}]"
       ]
      }
     ],
     "prompt_number": 5
    },
    {
     "cell_type": "heading",
     "level": 2,
     "metadata": {},
     "source": [
      "Step two: Create a scikit-learn model and deploy to Predictive Service\n",
      "<a id='deploymodel'></a>"
     ]
    },
    {
     "cell_type": "markdown",
     "metadata": {},
     "source": [
      "Let's train a simple random forest model and deploy it in the Predictive Service"
     ]
    },
    {
     "cell_type": "code",
     "collapsed": false,
     "input": [
      "from sklearn.ensemble import RandomForestClassifier\n",
      "X = [[0, 0], [1, 1]]\n",
      "Y = [0, 1]\n",
      "clf = RandomForestClassifier(n_estimators=10)\n",
      "clf = clf.fit(X, Y)"
     ],
     "language": "python",
     "metadata": {},
     "outputs": [],
     "prompt_number": 6
    },
    {
     "cell_type": "markdown",
     "metadata": {},
     "source": [
      "We can expose the trained model as a REST endpoint in the Predictive Service. This will allow other applications to consume the predictions from the model. \n",
      "\n",
      "In order to do that, we wrap the model object in a Python function and add it to the Predictive Service. In the function you may add your own logic for transform input to the model, ensemble different models or manipulate output before returning. Checkout our [user guide](https://turi.com/learn/userguide/deployment/pred-working-with-objects.html) for more details.\n",
      "\n",
      "The result of the function needs to be  a JSON serializable object."
     ]
    },
    {
     "cell_type": "code",
     "collapsed": false,
     "input": [
      "def classify(x):\n",
      "    prediction = clf.predict(x)\n",
      "\n",
      "    # convert into a json serializable value\n",
      "    return list(prediction)\n",
      "\n",
      "# add your predictive function that wraps scikit-learn model\n",
      "ps.add('classify', classify)"
     ],
     "language": "python",
     "metadata": {},
     "outputs": [
      {
       "output_type": "stream",
       "stream": "stderr",
       "text": [
        "[INFO] Endpoint 'classify' is added. Use apply_changes() to deploy all pending changes, or continue with other modification.\n"
       ]
      }
     ],
     "prompt_number": 7
    },
    {
     "cell_type": "markdown",
     "metadata": {},
     "source": [
      "You may do a test query before really deploying it to production. This will help detect errors in the function before deploying it the Predictive Service. \n",
      "\n",
      "The response to a query is a JSON object with the following keys:\n",
      "    \n",
      "    * response: is the actual response from the query;\n",
      "    * uuid: is the unique identifier for your query. The 'uuid' is useful when you need to correlated the query with other data you potentially have for future model tuning.\n",
      "    * version: is the model version. This is useful when you are updating model and you want to know exactly which version served your query"
     ]
    },
    {
     "cell_type": "code",
     "collapsed": false,
     "input": [
      "ps.test_query('classify', x=[[0,0],[1,1]])"
     ],
     "language": "python",
     "metadata": {},
     "outputs": [
      {
       "output_type": "stream",
       "stream": "stderr",
       "text": [
        "[INFO] Input data serializable.\n"
       ]
      },
      {
       "output_type": "stream",
       "stream": "stderr",
       "text": [
        "[INFO] Trying to serve classify\n"
       ]
      },
      {
       "output_type": "stream",
       "stream": "stderr",
       "text": [
        "[INFO] Query results serializable.\n"
       ]
      },
      {
       "metadata": {},
       "output_type": "pyout",
       "prompt_number": 8,
       "text": [
        "{u'response': [0, 1],\n",
        " u'uuid': u'9277467f-fc55-40ee-8125-403f95660840',\n",
        " u'version': 1}"
       ]
      }
     ],
     "prompt_number": 8
    },
    {
     "cell_type": "markdown",
     "metadata": {},
     "source": [
      "It is as expected, let us apply the changes and the predictive model is ready to go!"
     ]
    },
    {
     "cell_type": "code",
     "collapsed": false,
     "input": [
      "# This will push the custom query to the Predictive Service. Since the update is asynchronous, you may need to wait \n",
      "# a little while before the model is fully deployed.\n",
      "ps.apply_changes()"
     ],
     "language": "python",
     "metadata": {},
     "outputs": []
    },
    {
     "cell_type": "markdown",
     "metadata": {},
     "source": [
      "Check status and make sure the deployed custom predictive object is fully operational:"
     ]
    },
    {
     "cell_type": "code",
     "collapsed": false,
     "input": [
      "# There are other variable way of query status, check API document for more details\n",
      "ps.get_status('model')"
     ],
     "language": "python",
     "metadata": {},
     "outputs": [
      {
       "html": [
        "<div style=\"max-height:1000px;max-width:1500px;overflow:auto;\"><table frame=\"box\" rules=\"cols\">\n",
        "    <tr>\n",
        "        <th style=\"padding-left: 1em; padding-right: 1em; text-align: center\">name</th>\n",
        "        <th style=\"padding-left: 1em; padding-right: 1em; text-align: center\">expected version</th>\n",
        "        <th style=\"padding-left: 1em; padding-right: 1em; text-align: center\">type</th>\n",
        "        <th style=\"padding-left: 1em; padding-right: 1em; text-align: center\">reason</th>\n",
        "        <th style=\"padding-left: 1em; padding-right: 1em; text-align: center\">node.i-992d1540</th>\n",
        "    </tr>\n",
        "    <tr>\n",
        "        <td style=\"padding-left: 1em; padding-right: 1em; text-align: center; vertical-align: top\">classify</td>\n",
        "        <td style=\"padding-left: 1em; padding-right: 1em; text-align: center; vertical-align: top\">1</td>\n",
        "        <td style=\"padding-left: 1em; padding-right: 1em; text-align: center; vertical-align: top\">model</td>\n",
        "        <td style=\"padding-left: 1em; padding-right: 1em; text-align: center; vertical-align: top\">N/A</td>\n",
        "        <td style=\"padding-left: 1em; padding-right: 1em; text-align: center; vertical-align: top\">1 (Loaded successfully)</td>\n",
        "    </tr>\n",
        "</table>\n",
        "[? rows x 5 columns]<br/>Note: Only the head of the SFrame is printed. This SFrame is lazily evaluated.<br/>You can use len(sf) to force materialization.\n",
        "</div>"
       ],
       "metadata": {},
       "output_type": "pyout",
       "prompt_number": 10,
       "text": [
        "Columns:\n",
        "\tname\tstr\n",
        "\texpected version\tint\n",
        "\ttype\tstr\n",
        "\treason\tstr\n",
        "\tnode.i-992d1540\tstr\n",
        "\n",
        "Rows: Unknown\n",
        "\n",
        "Data:\n",
        "+----------+------------------+-------+--------+-------------------------+\n",
        "|   name   | expected version |  type | reason |     node.i-992d1540     |\n",
        "+----------+------------------+-------+--------+-------------------------+\n",
        "| classify |        1         | model |  N/A   | 1 (Loaded successfully) |\n",
        "+----------+------------------+-------+--------+-------------------------+\n",
        "[? rows x 5 columns]\n",
        "Note: Only the head of the SFrame is printed. This SFrame is lazily evaluated.\n",
        "You can use len(sf) to force materialization."
       ]
      }
     ],
     "prompt_number": 10
    },
    {
     "cell_type": "code",
     "collapsed": false,
     "input": [
      "# test query to make sure the model works fine\n",
      "ps.query('classify', x=[[0,0],[1,1]])"
     ],
     "language": "python",
     "metadata": {},
     "outputs": [
      {
       "metadata": {},
       "output_type": "pyout",
       "prompt_number": 11,
       "text": [
        "{u'from_cache': False,\n",
        " u'model': u'classify',\n",
        " u'response': [0, 1],\n",
        " u'uuid': u'05c773c5-a3e0-4783-bca6-a8925fb20a0c',\n",
        " u'version': 1}"
       ]
      }
     ],
     "prompt_number": 11
    },
    {
     "cell_type": "markdown",
     "metadata": {},
     "source": [
      "Now other applications can interact with our model! In the next section we will illustrate how to consume the model. We can also use other APIs like `ps.update()` to update a model and `ps.remove()` to remove a model."
     ]
    },
    {
     "cell_type": "markdown",
     "metadata": {},
     "source": [
      "Turi Predictive Services includes a stand-alone Python client for those who just want to query a running service. We will show you how to use the client in the following section. The client takes a configuration file containing the endpoint of the Predictive Service and API key used by client. You can generate the Python client configuration using the following call and hand off the configuration file to your consumer."
     ]
    },
    {
     "cell_type": "code",
     "collapsed": false,
     "input": [
      "# Generate a client configuration file for Predictive Service Client to consume\n",
      "# It is a good practice to config a CNAME entry in your DNS provider to have a well known endpoint\n",
      "# like https://models.companyname.com to point to the Predictive Service so that the consumer of\n",
      "# the Predictive Service do not need to change their code when you make modifications to your\n",
      "# Predictive Service\n",
      "# Here we use None only for demo purpose\n",
      "ps.save_client_config(file_path='/tmp/ps_client.conf', predictive_service_cname = None)"
     ],
     "language": "python",
     "metadata": {},
     "outputs": []
    },
    {
     "cell_type": "markdown",
     "metadata": {},
     "source": [
      "Once generated, the ps_client.conf file may be passed along to your client side developer. We will show you how to use the file in next section."
     ]
    },
    {
     "cell_type": "heading",
     "level": 2,
     "metadata": {},
     "source": [
      "Step three: query the model through REST api and Python client\n",
      "<a id='queryps'></a>"
     ]
    },
    {
     "cell_type": "heading",
     "level": 3,
     "metadata": {},
     "source": [
      "Query through REST"
     ]
    },
    {
     "cell_type": "markdown",
     "metadata": {},
     "source": [
      "The model query is exposed through REST API. The endpoints URL is:\n",
      "\n",
      "    http(s)://<your-ps-endpoint-base>/query/<model-name>\n",
      "    \n",
      "You can find out the endpoint URL base by simply printing the `ps` object, and copying the *Load Balancer DNS Name*.\n",
      "\n",
      "The HTTP call for querying a model or method is  a POST call, requiring a JSON-serialized string in the following format as payload:\n",
      "\n",
      "    { \"data\": <parameters to model or custom method> }\n",
      "\n",
      "You also need a valid API key, which you can retreive through `ps.api_key`.\n",
      "\n",
      "Here is a sample curl command to query the `classify` method that we deployed in this notebook:\n",
      "\n",
      "    curl -u api_key:<your-api-key> -d '{\"data\": {\"x\": [[0,0],[1,1]]}}'\n",
      "        http://<your-ps-endpoint-base>/query/classify"
     ]
    },
    {
     "cell_type": "heading",
     "level": 3,
     "metadata": {},
     "source": [
      "Query through Python"
     ]
    },
    {
     "cell_type": "markdown",
     "metadata": {},
     "source": [
      "We also ship a Python client package that you may easily consume the model. To install the package, do:\n",
      "    \n",
      "    pip install GraphLab-Service-Client  \n",
      "    \n",
      "After that you may consume the Predictive Model:"
     ]
    },
    {
     "cell_type": "code",
     "collapsed": false,
     "input": [
      "from graphlab_service_client import PredictiveServiceClient\n",
      "\n",
      "# the configuration is saved through ps.save_client_config()\n",
      "client = PredictiveServiceClient(config_file='/tmp/ps_client.conf')\n",
      "\n",
      "client.query('classify', x=[[0,0], [1,1]])"
     ],
     "language": "python",
     "metadata": {},
     "outputs": [
      {
       "metadata": {},
       "output_type": "pyout",
       "prompt_number": 14,
       "text": [
        "{u'from_cache': True,\n",
        " u'model': u'classify',\n",
        " u'response': [0, 1],\n",
        " u'uuid': u'661f8381-e01c-414c-9fe6-4738bfaa28c2',\n",
        " u'version': 1}"
       ]
      }
     ],
     "prompt_number": 14
    },
    {
     "cell_type": "heading",
     "level": 2,
     "metadata": {},
     "source": [
      "Shutting down the predictive service"
     ]
    },
    {
     "cell_type": "markdown",
     "metadata": {},
     "source": [
      "If you don't need to keep you predictive service around for further tasks, make sure to terminate it to avoid incurring unnecessary costs:"
     ]
    },
    {
     "cell_type": "code",
     "collapsed": false,
     "input": [
      "ps.terminate_service()"
     ],
     "language": "python",
     "metadata": {},
     "outputs": [
      {
       "output_type": "stream",
       "stream": "stderr",
       "text": [
        "[INFO] Deleting load balancer: sklearn-predictive-service\n"
       ]
      },
      {
       "output_type": "stream",
       "stream": "stderr",
       "text": [
        "[INFO] Terminating EC2 host(s) [u'i-992d1540'] in us-west-2\n"
       ]
      },
      {
       "output_type": "stream",
       "stream": "stderr",
       "text": [
        "[INFO] Deleting state data.\n"
       ]
      },
      {
       "output_type": "stream",
       "stream": "stderr",
       "text": [
        "[INFO] Deleting s3 state data.\n"
       ]
      },
      {
       "output_type": "stream",
       "stream": "stderr",
       "text": [
        "[INFO] Deleting keys: []\n"
       ]
      },
      {
       "output_type": "stream",
       "stream": "stderr",
       "text": [
        "[INFO] Deleting keys: [u'user/scikit-ps/predictive_objects/classify/1/pickle_archive', u'user/scikit-ps-new/predictive_objects/classify/1/version']\n"
       ]
      },
      {
       "output_type": "stream",
       "stream": "stderr",
       "text": [
        "[INFO] Deleted reference to PredictiveService('sklearn-predictive-service') from current session.\n"
       ]
      }
     ],
     "prompt_number": 15
    },
    {
     "cell_type": "heading",
     "level": 2,
     "metadata": {},
     "source": [
      "Where to go from here"
     ]
    },
    {
     "cell_type": "markdown",
     "metadata": {},
     "source": [
      "This notebook gives you a peek at what Turi Predictive Service can offer. For a more detailed look at the functionalities in the Turi Predictive Service, checkout out [user guide](https://turi.com/learn/userguide/#Deployment) for more details. If you have any questions, post it in our [forum](http://forum.turi.com) and we are happy to assist you!"
     ]
    }
   ],
   "metadata": {}
  }
 ]
}
