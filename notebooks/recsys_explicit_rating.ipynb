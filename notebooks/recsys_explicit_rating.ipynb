{
 "metadata": {
  "name": "",
  "signature": "sha256:1205423a94dcaa924cdf1216f2931c84e8a43392c410515ce24bd6ea05561b21"
 },
 "nbformat": 3,
 "nbformat_minor": 0,
 "worksheets": [
  {
   "cells": [
    {
     "cell_type": "heading",
     "level": 1,
     "metadata": {},
     "source": [
      "Building a Recommender with Ratings Data"
     ]
    },
    {
     "cell_type": "markdown",
     "metadata": {},
     "source": [
      "Using GraphLab Create we can take an SFrame containing user ratings for movies, and quickly create a recommender. We'll see how to tune parameters for this recommender and how to get a sense of what its performance will be in practice. Finally (mostly for fun) we'll create two stereotypical users, and see what they get recommended.\n",
      "\n",
      "To start, let's import a few modules."
     ]
    },
    {
     "cell_type": "code",
     "collapsed": false,
     "input": [
      "import graphlab as gl\n",
      "import matplotlib.pyplot as plt\n",
      "%matplotlib inline"
     ],
     "language": "python",
     "metadata": {},
     "outputs": [],
     "prompt_number": 1
    },
    {
     "cell_type": "markdown",
     "metadata": {},
     "source": [
      "# Prepare the Data\n",
      "The complete dataset is large. For prototyping on a single machine, let's just use a small sample of all the data. We'll use a sample that contains all ratings for about 12,000 users."
     ]
    },
    {
     "cell_type": "code",
     "collapsed": false,
     "input": [
      "data_url = 'https://static.turi.com/datasets/movie_ratings/sample.small'\n",
      "sf = gl.SFrame.read_csv(data_url,delimiter='\\t',column_type_hints={'rating':int})"
     ],
     "language": "python",
     "metadata": {},
     "outputs": [
      {
       "output_type": "stream",
       "stream": "stderr",
       "text": [
        "[INFO] This commercial license of GraphLab Create is assigned to engr@turi.com.\n",
        "\n"
       ]
      },
      {
       "output_type": "stream",
       "stream": "stderr",
       "text": [
        "[INFO] Start server at: ipc:///tmp/graphlab_server-24264 - Server binary: /usr/local/lib/python2.7/dist-packages/graphlab/unity_server - Server log: /tmp/graphlab_server_1442615425.log\n"
       ]
      },
      {
       "output_type": "stream",
       "stream": "stderr",
       "text": [
        "[INFO] GraphLab Server Version: 1.5.2\n"
       ]
      },
      {
       "html": [
        "<pre>PROGRESS: Downloading https://static.turi.com/datasets/movie_ratings/sample.small to /var/tmp/graphlab-toby/24264/000000.small</pre>"
       ],
       "metadata": {},
       "output_type": "display_data",
       "text": [
        "PROGRESS: Downloading https://static.turi.com/datasets/movie_ratings/sample.small to /var/tmp/graphlab-toby/24264/000000.small"
       ]
      },
      {
       "html": [
        "<pre>PROGRESS: Finished parsing file https://static.turi.com/datasets/movie_ratings/sample.small</pre>"
       ],
       "metadata": {},
       "output_type": "display_data",
       "text": [
        "PROGRESS: Finished parsing file https://static.turi.com/datasets/movie_ratings/sample.small"
       ]
      },
      {
       "html": [
        "<pre>PROGRESS: Parsing completed. Parsed 100 lines in 0.723517 secs.</pre>"
       ],
       "metadata": {},
       "output_type": "display_data",
       "text": [
        "PROGRESS: Parsing completed. Parsed 100 lines in 0.723517 secs."
       ]
      },
      {
       "html": [
        "<pre>PROGRESS: Read 1549015 lines. Lines per second: 2.20795e+06</pre>"
       ],
       "metadata": {},
       "output_type": "display_data",
       "text": [
        "PROGRESS: Read 1549015 lines. Lines per second: 2.20795e+06"
       ]
      },
      {
       "html": [
        "<pre>PROGRESS: Finished parsing file https://static.turi.com/datasets/movie_ratings/sample.small</pre>"
       ],
       "metadata": {},
       "output_type": "display_data",
       "text": [
        "PROGRESS: Finished parsing file https://static.turi.com/datasets/movie_ratings/sample.small"
       ]
      },
      {
       "html": [
        "<pre>PROGRESS: Parsing completed. Parsed 4000000 lines in 1.22237 secs.</pre>"
       ],
       "metadata": {},
       "output_type": "display_data",
       "text": [
        "PROGRESS: Parsing completed. Parsed 4000000 lines in 1.22237 secs."
       ]
      }
     ],
     "prompt_number": 2
    },
    {
     "cell_type": "markdown",
     "metadata": {},
     "source": [
      "Using the same data to train and evaluate a model is problematic. Specifically this leads to a problem called [overfitting](http://en.wikipedia.org/wiki/Overfitting). We'll follow the common approach of holding out a randomly selected 20% of our data to use later for evaluation."
     ]
    },
    {
     "cell_type": "markdown",
     "metadata": {},
     "source": [
      "Now we just use this helper function to get our train and test set."
     ]
    },
    {
     "cell_type": "code",
     "collapsed": false,
     "input": [
      "(train_set, test_set) = sf.random_split(0.8)"
     ],
     "language": "python",
     "metadata": {},
     "outputs": [],
     "prompt_number": 3
    },
    {
     "cell_type": "markdown",
     "metadata": {},
     "source": [
      "Now that we have a train and test set, let's come up with a very simple way of predicting ratings. That way when we try more complicated things, we'll have some baseline for comparison.\n",
      "\n",
      "GraphLab's PopularityRecommender provides this functionality. It just stores the mean rating per item. When asked to predict a user's rating for a particular item pair, it just predicts the mean of all ratings for that item; it pays no attention to user information. \n",
      "\n",
      "In order to use the PopularityRecommender, all we need to do is pass its create function the data and tell it the pertinent column names."
     ]
    },
    {
     "cell_type": "code",
     "collapsed": false,
     "input": [
      "m = gl.popularity_recommender.create(train_set, 'user', 'movie', 'rating')"
     ],
     "language": "python",
     "metadata": {},
     "outputs": [
      {
       "html": [
        "<pre>PROGRESS: Recsys training: model = popularity</pre>"
       ],
       "metadata": {},
       "output_type": "display_data",
       "text": [
        "PROGRESS: Recsys training: model = popularity"
       ]
      },
      {
       "html": [
        "<pre>PROGRESS: Preparing data set.</pre>"
       ],
       "metadata": {},
       "output_type": "display_data",
       "text": [
        "PROGRESS: Preparing data set."
       ]
      },
      {
       "html": [
        "<pre>PROGRESS:     Data has 3199340 observations with 12020 users and 17188 items.</pre>"
       ],
       "metadata": {},
       "output_type": "display_data",
       "text": [
        "PROGRESS:     Data has 3199340 observations with 12020 users and 17188 items."
       ]
      },
      {
       "html": [
        "<pre>PROGRESS:     Data prepared in: 1.82253s</pre>"
       ],
       "metadata": {},
       "output_type": "display_data",
       "text": [
        "PROGRESS:     Data prepared in: 1.82253s"
       ]
      },
      {
       "html": [
        "<pre>PROGRESS: 3199340 observations to process; with 17188 unique items.</pre>"
       ],
       "metadata": {},
       "output_type": "display_data",
       "text": [
        "PROGRESS: 3199340 observations to process; with 17188 unique items."
       ]
      }
     ],
     "prompt_number": 4
    },
    {
     "cell_type": "markdown",
     "metadata": {},
     "source": [
      "Now that we have a (simple) model, we need a way to measure the accuracy of its predictions. That way we can compare the performance of different models. The [Root Mean Squared Error](http://en.wikipedia.org/wiki/RMSE) is one of the most common ways to measure the accuracy."
     ]
    },
    {
     "cell_type": "code",
     "collapsed": false,
     "input": [
      "baseline_rmse = gl.evaluation.rmse(test_set['rating'], m.predict(test_set))\n",
      "print baseline_rmse"
     ],
     "language": "python",
     "metadata": {},
     "outputs": [
      {
       "output_type": "stream",
       "stream": "stdout",
       "text": [
        "0.992343220641\n"
       ]
      }
     ],
     "prompt_number": 5
    },
    {
     "cell_type": "markdown",
     "metadata": {},
     "source": [
      "# Improving Predictive Accuracy\n",
      "The type of model that turned out to be the best for the famous Netflix Competition is called Matrix Factorization. This is a form of [Collaborative Filtering](http://en.wikipedia.org/wiki/Collaborative_filtering) where recommendations are generated using ratings from users that are some how similar.  \n",
      "\n",
      "Whenever you use a particular type of model there are almost inevitably some parameters you must specify. Matrix Factorization is no exception. Properly tuning these parameters can have a huge effect on how well your model works. The two most important parameters are the number of dimensions and the regularization coefficient.  "
     ]
    },
    {
     "cell_type": "code",
     "collapsed": false,
     "input": [
      "regularization_vals = [0.001, 0.0001, 0.00001, 0.000001]\n",
      "models = [gl.factorization_recommender.create(train_set, 'user', 'movie', 'rating',\n",
      "                                              max_iterations=50, num_factors=5, regularization=r)\n",
      "          for r in regularization_vals]"
     ],
     "language": "python",
     "metadata": {},
     "outputs": [
      {
       "html": [
        "<pre>PROGRESS: Recsys training: model = factorization_recommender</pre>"
       ],
       "metadata": {},
       "output_type": "display_data",
       "text": [
        "PROGRESS: Recsys training: model = factorization_recommender"
       ]
      },
      {
       "html": [
        "<pre>PROGRESS: Preparing data set.</pre>"
       ],
       "metadata": {},
       "output_type": "display_data",
       "text": [
        "PROGRESS: Preparing data set."
       ]
      },
      {
       "html": [
        "<pre>PROGRESS:     Data has 3199340 observations with 12020 users and 17188 items.</pre>"
       ],
       "metadata": {},
       "output_type": "display_data",
       "text": [
        "PROGRESS:     Data has 3199340 observations with 12020 users and 17188 items."
       ]
      },
      {
       "html": [
        "<pre>PROGRESS:     Data prepared in: 1.79158s</pre>"
       ],
       "metadata": {},
       "output_type": "display_data",
       "text": [
        "PROGRESS:     Data prepared in: 1.79158s"
       ]
      },
      {
       "html": [
        "<pre>PROGRESS: Training factorization_recommender for recommendations.</pre>"
       ],
       "metadata": {},
       "output_type": "display_data",
       "text": [
        "PROGRESS: Training factorization_recommender for recommendations."
       ]
      },
      {
       "html": [
        "<pre>PROGRESS: +--------------------------------+--------------------------------------------------+----------+</pre>"
       ],
       "metadata": {},
       "output_type": "display_data",
       "text": [
        "PROGRESS: +--------------------------------+--------------------------------------------------+----------+"
       ]
      },
      {
       "html": [
        "<pre>PROGRESS: | Parameter                      | Description                                      | Value    |</pre>"
       ],
       "metadata": {},
       "output_type": "display_data",
       "text": [
        "PROGRESS: | Parameter                      | Description                                      | Value    |"
       ]
      },
      {
       "html": [
        "<pre>PROGRESS: +--------------------------------+--------------------------------------------------+----------+</pre>"
       ],
       "metadata": {},
       "output_type": "display_data",
       "text": [
        "PROGRESS: +--------------------------------+--------------------------------------------------+----------+"
       ]
      },
      {
       "html": [
        "<pre>PROGRESS: | num_factors                    | Factor Dimension                                 | 5        |</pre>"
       ],
       "metadata": {},
       "output_type": "display_data",
       "text": [
        "PROGRESS: | num_factors                    | Factor Dimension                                 | 5        |"
       ]
      },
      {
       "html": [
        "<pre>PROGRESS: | regularization                 | L2 Regularization on Factors                     | 0.001    |</pre>"
       ],
       "metadata": {},
       "output_type": "display_data",
       "text": [
        "PROGRESS: | regularization                 | L2 Regularization on Factors                     | 0.001    |"
       ]
      },
      {
       "html": [
        "<pre>PROGRESS: | solver                         | Solver used for training                         | sgd      |</pre>"
       ],
       "metadata": {},
       "output_type": "display_data",
       "text": [
        "PROGRESS: | solver                         | Solver used for training                         | sgd      |"
       ]
      },
      {
       "html": [
        "<pre>PROGRESS: | linear_regularization          | L2 Regularization on Linear Coefficients         | 1e-10    |</pre>"
       ],
       "metadata": {},
       "output_type": "display_data",
       "text": [
        "PROGRESS: | linear_regularization          | L2 Regularization on Linear Coefficients         | 1e-10    |"
       ]
      },
      {
       "html": [
        "<pre>PROGRESS: | max_iterations                 | Maximum Number of Iterations                     | 50       |</pre>"
       ],
       "metadata": {},
       "output_type": "display_data",
       "text": [
        "PROGRESS: | max_iterations                 | Maximum Number of Iterations                     | 50       |"
       ]
      },
      {
       "html": [
        "<pre>PROGRESS: +--------------------------------+--------------------------------------------------+----------+</pre>"
       ],
       "metadata": {},
       "output_type": "display_data",
       "text": [
        "PROGRESS: +--------------------------------+--------------------------------------------------+----------+"
       ]
      },
      {
       "html": [
        "<pre>PROGRESS:   Optimizing model using SGD; tuning step size.</pre>"
       ],
       "metadata": {},
       "output_type": "display_data",
       "text": [
        "PROGRESS:   Optimizing model using SGD; tuning step size."
       ]
      },
      {
       "html": [
        "<pre>PROGRESS:   Using 399917 / 3199340 points for tuning the step size.</pre>"
       ],
       "metadata": {},
       "output_type": "display_data",
       "text": [
        "PROGRESS:   Using 399917 / 3199340 points for tuning the step size."
       ]
      },
      {
       "html": [
        "<pre>PROGRESS: +---------+-------------------+------------------------------------------+</pre>"
       ],
       "metadata": {},
       "output_type": "display_data",
       "text": [
        "PROGRESS: +---------+-------------------+------------------------------------------+"
       ]
      },
      {
       "html": [
        "<pre>PROGRESS: | Attempt | Initial Step Size | Estimated Objective Value                |</pre>"
       ],
       "metadata": {},
       "output_type": "display_data",
       "text": [
        "PROGRESS: | Attempt | Initial Step Size | Estimated Objective Value                |"
       ]
      },
      {
       "html": [
        "<pre>PROGRESS: +---------+-------------------+------------------------------------------+</pre>"
       ],
       "metadata": {},
       "output_type": "display_data",
       "text": [
        "PROGRESS: +---------+-------------------+------------------------------------------+"
       ]
      },
      {
       "html": [
        "<pre>PROGRESS: | 0       | 0.0230303         | Not Viable                               |</pre>"
       ],
       "metadata": {},
       "output_type": "display_data",
       "text": [
        "PROGRESS: | 0       | 0.0230303         | Not Viable                               |"
       ]
      },
      {
       "html": [
        "<pre>PROGRESS: | 1       | 0.00575758        | 0.870597                                 |</pre>"
       ],
       "metadata": {},
       "output_type": "display_data",
       "text": [
        "PROGRESS: | 1       | 0.00575758        | 0.870597                                 |"
       ]
      },
      {
       "html": [
        "<pre>PROGRESS: | 2       | 0.00287879        | 0.913049                                 |</pre>"
       ],
       "metadata": {},
       "output_type": "display_data",
       "text": [
        "PROGRESS: | 2       | 0.00287879        | 0.913049                                 |"
       ]
      },
      {
       "html": [
        "<pre>PROGRESS: | 3       | 0.0014394         | 0.954261                                 |</pre>"
       ],
       "metadata": {},
       "output_type": "display_data",
       "text": [
        "PROGRESS: | 3       | 0.0014394         | 0.954261                                 |"
       ]
      },
      {
       "html": [
        "<pre>PROGRESS: | 4       | 0.000719698       | 0.990381                                 |</pre>"
       ],
       "metadata": {},
       "output_type": "display_data",
       "text": [
        "PROGRESS: | 4       | 0.000719698       | 0.990381                                 |"
       ]
      },
      {
       "html": [
        "<pre>PROGRESS: +---------+-------------------+------------------------------------------+</pre>"
       ],
       "metadata": {},
       "output_type": "display_data",
       "text": [
        "PROGRESS: +---------+-------------------+------------------------------------------+"
       ]
      },
      {
       "html": [
        "<pre>PROGRESS: | Final   | 0.00575758        | 0.870597                                 |</pre>"
       ],
       "metadata": {},
       "output_type": "display_data",
       "text": [
        "PROGRESS: | Final   | 0.00575758        | 0.870597                                 |"
       ]
      },
      {
       "html": [
        "<pre>PROGRESS: +---------+-------------------+------------------------------------------+</pre>"
       ],
       "metadata": {},
       "output_type": "display_data",
       "text": [
        "PROGRESS: +---------+-------------------+------------------------------------------+"
       ]
      },
      {
       "html": [
        "<pre>PROGRESS: Starting Optimization.</pre>"
       ],
       "metadata": {},
       "output_type": "display_data",
       "text": [
        "PROGRESS: Starting Optimization."
       ]
      },
      {
       "html": [
        "<pre>PROGRESS: +---------+--------------+-------------------+-----------------------+-------------+</pre>"
       ],
       "metadata": {},
       "output_type": "display_data",
       "text": [
        "PROGRESS: +---------+--------------+-------------------+-----------------------+-------------+"
       ]
      },
      {
       "html": [
        "<pre>PROGRESS: | Iter.   | Elapsed Time | Approx. Objective | Approx. Training RMSE | Step Size   |</pre>"
       ],
       "metadata": {},
       "output_type": "display_data",
       "text": [
        "PROGRESS: | Iter.   | Elapsed Time | Approx. Objective | Approx. Training RMSE | Step Size   |"
       ]
      },
      {
       "html": [
        "<pre>PROGRESS: +---------+--------------+-------------------+-----------------------+-------------+</pre>"
       ],
       "metadata": {},
       "output_type": "display_data",
       "text": [
        "PROGRESS: +---------+--------------+-------------------+-----------------------+-------------+"
       ]
      },
      {
       "html": [
        "<pre>PROGRESS: | Initial | 82us         | 1.1461            | 1.07056               |             |</pre>"
       ],
       "metadata": {},
       "output_type": "display_data",
       "text": [
        "PROGRESS: | Initial | 82us         | 1.1461            | 1.07056               |             |"
       ]
      },
      {
       "html": [
        "<pre>PROGRESS: +---------+--------------+-------------------+-----------------------+-------------+</pre>"
       ],
       "metadata": {},
       "output_type": "display_data",
       "text": [
        "PROGRESS: +---------+--------------+-------------------+-----------------------+-------------+"
       ]
      },
      {
       "html": [
        "<pre>PROGRESS: | 1       | 338.838ms    | DIVERGED          | DIVERGED              | 0.00575758  |</pre>"
       ],
       "metadata": {},
       "output_type": "display_data",
       "text": [
        "PROGRESS: | 1       | 338.838ms    | DIVERGED          | DIVERGED              | 0.00575758  |"
       ]
      },
      {
       "html": [
        "<pre>PROGRESS: | RESET   | 417.403ms    | 1.1461            | 1.07056               |             |</pre>"
       ],
       "metadata": {},
       "output_type": "display_data",
       "text": [
        "PROGRESS: | RESET   | 417.403ms    | 1.1461            | 1.07056               |             |"
       ]
      },
      {
       "html": [
        "<pre>PROGRESS: | 1       | 743.737ms    | DIVERGED          | DIVERGED              | 0.00287879  |</pre>"
       ],
       "metadata": {},
       "output_type": "display_data",
       "text": [
        "PROGRESS: | 1       | 743.737ms    | DIVERGED          | DIVERGED              | 0.00287879  |"
       ]
      },
      {
       "html": [
        "<pre>PROGRESS: | RESET   | 822.623ms    | 1.14612           | 1.07057               |             |</pre>"
       ],
       "metadata": {},
       "output_type": "display_data",
       "text": [
        "PROGRESS: | RESET   | 822.623ms    | 1.14612           | 1.07057               |             |"
       ]
      },
      {
       "html": [
        "<pre>PROGRESS: | 1       | 1.14s        | DIVERGED          | DIVERGED              | 0.0014394   |</pre>"
       ],
       "metadata": {},
       "output_type": "display_data",
       "text": [
        "PROGRESS: | 1       | 1.14s        | DIVERGED          | DIVERGED              | 0.0014394   |"
       ]
      },
      {
       "html": [
        "<pre>PROGRESS: | RESET   | 1.22s        | 1.1461            | 1.07056               |             |</pre>"
       ],
       "metadata": {},
       "output_type": "display_data",
       "text": [
        "PROGRESS: | RESET   | 1.22s        | 1.1461            | 1.07056               |             |"
       ]
      },
      {
       "html": [
        "<pre>PROGRESS: | 1       | 1.48s        | 0.958228          | 0.978889              | 0.000719698 |</pre>"
       ],
       "metadata": {},
       "output_type": "display_data",
       "text": [
        "PROGRESS: | 1       | 1.48s        | 0.958228          | 0.978889              | 0.000719698 |"
       ]
      },
      {
       "html": [
        "<pre>PROGRESS: | 2       | 1.72s        | 0.88606           | 0.941306              | 0.000217921 |</pre>"
       ],
       "metadata": {},
       "output_type": "display_data",
       "text": [
        "PROGRESS: | 2       | 1.72s        | 0.88606           | 0.941306              | 0.000217921 |"
       ]
      },
      {
       "html": [
        "<pre>PROGRESS: | 3       | 1.96s        | 0.875021          | 0.935425              | 0.0001284   |</pre>"
       ],
       "metadata": {},
       "output_type": "display_data",
       "text": [
        "PROGRESS: | 3       | 1.96s        | 0.875021          | 0.935425              | 0.0001284   |"
       ]
      },
      {
       "html": [
        "<pre>PROGRESS: | 4       | 2.28s        | 0.869428          | 0.932431              | 9.10126e-05 |</pre>"
       ],
       "metadata": {},
       "output_type": "display_data",
       "text": [
        "PROGRESS: | 4       | 2.28s        | 0.869428          | 0.932431              | 9.10126e-05 |"
       ]
      },
      {
       "html": [
        "<pre>PROGRESS: | 5       | 2.53s        | 0.865827          | 0.930498              | 7.04879e-05 |</pre>"
       ],
       "metadata": {},
       "output_type": "display_data",
       "text": [
        "PROGRESS: | 5       | 2.53s        | 0.865827          | 0.930498              | 7.04879e-05 |"
       ]
      },
      {
       "html": [
        "<pre>PROGRESS: | 6       | 2.78s        | 0.863238          | 0.929106              | 5.7517e-05  |</pre>"
       ],
       "metadata": {},
       "output_type": "display_data",
       "text": [
        "PROGRESS: | 6       | 2.78s        | 0.863238          | 0.929106              | 5.7517e-05  |"
       ]
      },
      {
       "html": [
        "<pre>PROGRESS: | 7       | 3.10s        | 0.861245          | 0.928033              | 4.85779e-05 |</pre>"
       ],
       "metadata": {},
       "output_type": "display_data",
       "text": [
        "PROGRESS: | 7       | 3.10s        | 0.861245          | 0.928033              | 4.85779e-05 |"
       ]
      },
      {
       "html": [
        "<pre>PROGRESS: | 11      | 4.16s        | 0.856214          | 0.925318              | 2.99555e-05 |</pre>"
       ],
       "metadata": {},
       "output_type": "display_data",
       "text": [
        "PROGRESS: | 11      | 4.16s        | 0.856214          | 0.925318              | 2.99555e-05 |"
       ]
      },
      {
       "html": [
        "<pre>PROGRESS: | 12      | 4.43s        | 0.855349          | 0.924851              | 2.73357e-05 |</pre>"
       ],
       "metadata": {},
       "output_type": "display_data",
       "text": [
        "PROGRESS: | 12      | 4.43s        | 0.855349          | 0.924851              | 2.73357e-05 |"
       ]
      },
      {
       "html": [
        "<pre>PROGRESS: | 17      | 5.65s        | 0.852209          | 0.923152              | 1.9019e-05  |</pre>"
       ],
       "metadata": {},
       "output_type": "display_data",
       "text": [
        "PROGRESS: | 17      | 5.65s        | 0.852209          | 0.923152              | 1.9019e-05  |"
       ]
      },
      {
       "html": [
        "<pre>PROGRESS: | 22      | 6.87s        | 0.850136          | 0.922028              | 1.45824e-05 |</pre>"
       ],
       "metadata": {},
       "output_type": "display_data",
       "text": [
        "PROGRESS: | 22      | 6.87s        | 0.850136          | 0.922028              | 1.45824e-05 |"
       ]
      },
      {
       "html": [
        "<pre>PROGRESS: | 27      | 8.09s        | 0.848619          | 0.921205              | 1.18242e-05 |</pre>"
       ],
       "metadata": {},
       "output_type": "display_data",
       "text": [
        "PROGRESS: | 27      | 8.09s        | 0.848619          | 0.921205              | 1.18242e-05 |"
       ]
      },
      {
       "html": [
        "<pre>PROGRESS: | 32      | 9.30s        | 0.847437          | 0.920563              | 9.94342e-06 |</pre>"
       ],
       "metadata": {},
       "output_type": "display_data",
       "text": [
        "PROGRESS: | 32      | 9.30s        | 0.847437          | 0.920563              | 9.94342e-06 |"
       ]
      },
      {
       "html": [
        "<pre>PROGRESS: | 37      | 10.52s       | 0.846477          | 0.920042              | 8.57885e-06 |</pre>"
       ],
       "metadata": {},
       "output_type": "display_data",
       "text": [
        "PROGRESS: | 37      | 10.52s       | 0.846477          | 0.920042              | 8.57885e-06 |"
       ]
      },
      {
       "html": [
        "<pre>PROGRESS: | 42      | 11.75s       | 0.845673          | 0.919605              | 7.54362e-06 |</pre>"
       ],
       "metadata": {},
       "output_type": "display_data",
       "text": [
        "PROGRESS: | 42      | 11.75s       | 0.845673          | 0.919605              | 7.54362e-06 |"
       ]
      },
      {
       "html": [
        "<pre>PROGRESS: | 47      | 12.97s       | 0.844986          | 0.919231              | 6.73133e-06 |</pre>"
       ],
       "metadata": {},
       "output_type": "display_data",
       "text": [
        "PROGRESS: | 47      | 12.97s       | 0.844986          | 0.919231              | 6.73133e-06 |"
       ]
      },
      {
       "html": [
        "<pre>PROGRESS: +---------+--------------+-------------------+-----------------------+-------------+</pre>"
       ],
       "metadata": {},
       "output_type": "display_data",
       "text": [
        "PROGRESS: +---------+--------------+-------------------+-----------------------+-------------+"
       ]
      },
      {
       "html": [
        "<pre>PROGRESS: Optimization Complete: Maximum number of passes through the data reached.</pre>"
       ],
       "metadata": {},
       "output_type": "display_data",
       "text": [
        "PROGRESS: Optimization Complete: Maximum number of passes through the data reached."
       ]
      },
      {
       "html": [
        "<pre>PROGRESS: Computing final objective value and training RMSE.</pre>"
       ],
       "metadata": {},
       "output_type": "display_data",
       "text": [
        "PROGRESS: Computing final objective value and training RMSE."
       ]
      },
      {
       "html": [
        "<pre>PROGRESS:        Final objective value: 0.844538</pre>"
       ],
       "metadata": {},
       "output_type": "display_data",
       "text": [
        "PROGRESS:        Final objective value: 0.844538"
       ]
      },
      {
       "html": [
        "<pre>PROGRESS:        Final training RMSE: 0.918988</pre>"
       ],
       "metadata": {},
       "output_type": "display_data",
       "text": [
        "PROGRESS:        Final training RMSE: 0.918988"
       ]
      },
      {
       "html": [
        "<pre>PROGRESS: Recsys training: model = factorization_recommender</pre>"
       ],
       "metadata": {},
       "output_type": "display_data",
       "text": [
        "PROGRESS: Recsys training: model = factorization_recommender"
       ]
      },
      {
       "html": [
        "<pre>PROGRESS: Preparing data set.</pre>"
       ],
       "metadata": {},
       "output_type": "display_data",
       "text": [
        "PROGRESS: Preparing data set."
       ]
      },
      {
       "html": [
        "<pre>PROGRESS:     Data has 3199340 observations with 12020 users and 17188 items.</pre>"
       ],
       "metadata": {},
       "output_type": "display_data",
       "text": [
        "PROGRESS:     Data has 3199340 observations with 12020 users and 17188 items."
       ]
      },
      {
       "html": [
        "<pre>PROGRESS:     Data prepared in: 1.75709s</pre>"
       ],
       "metadata": {},
       "output_type": "display_data",
       "text": [
        "PROGRESS:     Data prepared in: 1.75709s"
       ]
      },
      {
       "html": [
        "<pre>PROGRESS: Training factorization_recommender for recommendations.</pre>"
       ],
       "metadata": {},
       "output_type": "display_data",
       "text": [
        "PROGRESS: Training factorization_recommender for recommendations."
       ]
      },
      {
       "html": [
        "<pre>PROGRESS: +--------------------------------+--------------------------------------------------+----------+</pre>"
       ],
       "metadata": {},
       "output_type": "display_data",
       "text": [
        "PROGRESS: +--------------------------------+--------------------------------------------------+----------+"
       ]
      },
      {
       "html": [
        "<pre>PROGRESS: | Parameter                      | Description                                      | Value    |</pre>"
       ],
       "metadata": {},
       "output_type": "display_data",
       "text": [
        "PROGRESS: | Parameter                      | Description                                      | Value    |"
       ]
      },
      {
       "html": [
        "<pre>PROGRESS: +--------------------------------+--------------------------------------------------+----------+</pre>"
       ],
       "metadata": {},
       "output_type": "display_data",
       "text": [
        "PROGRESS: +--------------------------------+--------------------------------------------------+----------+"
       ]
      },
      {
       "html": [
        "<pre>PROGRESS: | num_factors                    | Factor Dimension                                 | 5        |</pre>"
       ],
       "metadata": {},
       "output_type": "display_data",
       "text": [
        "PROGRESS: | num_factors                    | Factor Dimension                                 | 5        |"
       ]
      },
      {
       "html": [
        "<pre>PROGRESS: | regularization                 | L2 Regularization on Factors                     | 0.0001   |</pre>"
       ],
       "metadata": {},
       "output_type": "display_data",
       "text": [
        "PROGRESS: | regularization                 | L2 Regularization on Factors                     | 0.0001   |"
       ]
      },
      {
       "html": [
        "<pre>PROGRESS: | solver                         | Solver used for training                         | sgd      |</pre>"
       ],
       "metadata": {},
       "output_type": "display_data",
       "text": [
        "PROGRESS: | solver                         | Solver used for training                         | sgd      |"
       ]
      },
      {
       "html": [
        "<pre>PROGRESS: | linear_regularization          | L2 Regularization on Linear Coefficients         | 1e-10    |</pre>"
       ],
       "metadata": {},
       "output_type": "display_data",
       "text": [
        "PROGRESS: | linear_regularization          | L2 Regularization on Linear Coefficients         | 1e-10    |"
       ]
      },
      {
       "html": [
        "<pre>PROGRESS: | max_iterations                 | Maximum Number of Iterations                     | 50       |</pre>"
       ],
       "metadata": {},
       "output_type": "display_data",
       "text": [
        "PROGRESS: | max_iterations                 | Maximum Number of Iterations                     | 50       |"
       ]
      },
      {
       "html": [
        "<pre>PROGRESS: +--------------------------------+--------------------------------------------------+----------+</pre>"
       ],
       "metadata": {},
       "output_type": "display_data",
       "text": [
        "PROGRESS: +--------------------------------+--------------------------------------------------+----------+"
       ]
      },
      {
       "html": [
        "<pre>PROGRESS:   Optimizing model using SGD; tuning step size.</pre>"
       ],
       "metadata": {},
       "output_type": "display_data",
       "text": [
        "PROGRESS:   Optimizing model using SGD; tuning step size."
       ]
      },
      {
       "html": [
        "<pre>PROGRESS:   Using 399917 / 3199340 points for tuning the step size.</pre>"
       ],
       "metadata": {},
       "output_type": "display_data",
       "text": [
        "PROGRESS:   Using 399917 / 3199340 points for tuning the step size."
       ]
      },
      {
       "html": [
        "<pre>PROGRESS: +---------+-------------------+------------------------------------------+</pre>"
       ],
       "metadata": {},
       "output_type": "display_data",
       "text": [
        "PROGRESS: +---------+-------------------+------------------------------------------+"
       ]
      },
      {
       "html": [
        "<pre>PROGRESS: | Attempt | Initial Step Size | Estimated Objective Value                |</pre>"
       ],
       "metadata": {},
       "output_type": "display_data",
       "text": [
        "PROGRESS: | Attempt | Initial Step Size | Estimated Objective Value                |"
       ]
      },
      {
       "html": [
        "<pre>PROGRESS: +---------+-------------------+------------------------------------------+</pre>"
       ],
       "metadata": {},
       "output_type": "display_data",
       "text": [
        "PROGRESS: +---------+-------------------+------------------------------------------+"
       ]
      },
      {
       "html": [
        "<pre>PROGRESS: | 0       | 0.230303          | Not Viable                               |</pre>"
       ],
       "metadata": {},
       "output_type": "display_data",
       "text": [
        "PROGRESS: | 0       | 0.230303          | Not Viable                               |"
       ]
      },
      {
       "html": [
        "<pre>PROGRESS: | 1       | 0.0575758         | No Decrease (2.89944 >= 1.1454)          |</pre>"
       ],
       "metadata": {},
       "output_type": "display_data",
       "text": [
        "PROGRESS: | 1       | 0.0575758         | No Decrease (2.89944 >= 1.1454)          |"
       ]
      },
      {
       "html": [
        "<pre>PROGRESS: | 2       | 0.014394          | 0.81024                                  |</pre>"
       ],
       "metadata": {},
       "output_type": "display_data",
       "text": [
        "PROGRESS: | 2       | 0.014394          | 0.81024                                  |"
       ]
      },
      {
       "html": [
        "<pre>PROGRESS: | 3       | 0.00719698        | 0.83183                                  |</pre>"
       ],
       "metadata": {},
       "output_type": "display_data",
       "text": [
        "PROGRESS: | 3       | 0.00719698        | 0.83183                                  |"
       ]
      },
      {
       "html": [
        "<pre>PROGRESS: | 4       | 0.00359849        | 0.857627                                 |</pre>"
       ],
       "metadata": {},
       "output_type": "display_data",
       "text": [
        "PROGRESS: | 4       | 0.00359849        | 0.857627                                 |"
       ]
      },
      {
       "html": [
        "<pre>PROGRESS: | 5       | 0.00179924        | 0.889854                                 |</pre>"
       ],
       "metadata": {},
       "output_type": "display_data",
       "text": [
        "PROGRESS: | 5       | 0.00179924        | 0.889854                                 |"
       ]
      },
      {
       "html": [
        "<pre>PROGRESS: +---------+-------------------+------------------------------------------+</pre>"
       ],
       "metadata": {},
       "output_type": "display_data",
       "text": [
        "PROGRESS: +---------+-------------------+------------------------------------------+"
       ]
      },
      {
       "html": [
        "<pre>PROGRESS: | Final   | 0.014394          | 0.81024                                  |</pre>"
       ],
       "metadata": {},
       "output_type": "display_data",
       "text": [
        "PROGRESS: | Final   | 0.014394          | 0.81024                                  |"
       ]
      },
      {
       "html": [
        "<pre>PROGRESS: +---------+-------------------+------------------------------------------+</pre>"
       ],
       "metadata": {},
       "output_type": "display_data",
       "text": [
        "PROGRESS: +---------+-------------------+------------------------------------------+"
       ]
      },
      {
       "html": [
        "<pre>PROGRESS: Starting Optimization.</pre>"
       ],
       "metadata": {},
       "output_type": "display_data",
       "text": [
        "PROGRESS: Starting Optimization."
       ]
      },
      {
       "html": [
        "<pre>PROGRESS: +---------+--------------+-------------------+-----------------------+-------------+</pre>"
       ],
       "metadata": {},
       "output_type": "display_data",
       "text": [
        "PROGRESS: +---------+--------------+-------------------+-----------------------+-------------+"
       ]
      },
      {
       "html": [
        "<pre>PROGRESS: | Iter.   | Elapsed Time | Approx. Objective | Approx. Training RMSE | Step Size   |</pre>"
       ],
       "metadata": {},
       "output_type": "display_data",
       "text": [
        "PROGRESS: | Iter.   | Elapsed Time | Approx. Objective | Approx. Training RMSE | Step Size   |"
       ]
      },
      {
       "html": [
        "<pre>PROGRESS: +---------+--------------+-------------------+-----------------------+-------------+</pre>"
       ],
       "metadata": {},
       "output_type": "display_data",
       "text": [
        "PROGRESS: +---------+--------------+-------------------+-----------------------+-------------+"
       ]
      },
      {
       "html": [
        "<pre>PROGRESS: | Initial | 96us         | 1.14612           | 1.07057               |             |</pre>"
       ],
       "metadata": {},
       "output_type": "display_data",
       "text": [
        "PROGRESS: | Initial | 96us         | 1.14612           | 1.07057               |             |"
       ]
      },
      {
       "html": [
        "<pre>PROGRESS: +---------+--------------+-------------------+-----------------------+-------------+</pre>"
       ],
       "metadata": {},
       "output_type": "display_data",
       "text": [
        "PROGRESS: +---------+--------------+-------------------+-----------------------+-------------+"
       ]
      },
      {
       "html": [
        "<pre>PROGRESS: | 1       | 330.484ms    | DIVERGED          | DIVERGED              | 0.014394    |</pre>"
       ],
       "metadata": {},
       "output_type": "display_data",
       "text": [
        "PROGRESS: | 1       | 330.484ms    | DIVERGED          | DIVERGED              | 0.014394    |"
       ]
      },
      {
       "html": [
        "<pre>PROGRESS: | RESET   | 406.578ms    | 1.14612           | 1.07057               |             |</pre>"
       ],
       "metadata": {},
       "output_type": "display_data",
       "text": [
        "PROGRESS: | RESET   | 406.578ms    | 1.14612           | 1.07057               |             |"
       ]
      },
      {
       "html": [
        "<pre>PROGRESS: | 1       | 668.368ms    | 1.10355           | 0.920537              | 0.00719698  |</pre>"
       ],
       "metadata": {},
       "output_type": "display_data",
       "text": [
        "PROGRESS: | 1       | 668.368ms    | 1.10355           | 0.920537              | 0.00719698  |"
       ]
      },
      {
       "html": [
        "<pre>PROGRESS: | 2       | 927.856ms    | 0.912146          | 0.890133              | 0.00217921  |</pre>"
       ],
       "metadata": {},
       "output_type": "display_data",
       "text": [
        "PROGRESS: | 2       | 927.856ms    | 0.912146          | 0.890133              | 0.00217921  |"
       ]
      },
      {
       "html": [
        "<pre>PROGRESS: | 3       | 1.19s        | 0.872743          | 0.884389              | 0.001284    |</pre>"
       ],
       "metadata": {},
       "output_type": "display_data",
       "text": [
        "PROGRESS: | 3       | 1.19s        | 0.872743          | 0.884389              | 0.001284    |"
       ]
      },
      {
       "html": [
        "<pre>PROGRESS: | 4       | 1.46s        | 0.860191          | 0.88408               | 0.000910126 |</pre>"
       ],
       "metadata": {},
       "output_type": "display_data",
       "text": [
        "PROGRESS: | 4       | 1.46s        | 0.860191          | 0.88408               | 0.000910126 |"
       ]
      },
      {
       "html": [
        "<pre>PROGRESS: | 5       | 1.72s        | 0.853122          | 0.884082              | 0.000704879 |</pre>"
       ],
       "metadata": {},
       "output_type": "display_data",
       "text": [
        "PROGRESS: | 5       | 1.72s        | 0.853122          | 0.884082              | 0.000704879 |"
       ]
      },
      {
       "html": [
        "<pre>PROGRESS: | 6       | 1.98s        | 0.848552          | 0.884224              | 0.00057517  |</pre>"
       ],
       "metadata": {},
       "output_type": "display_data",
       "text": [
        "PROGRESS: | 6       | 1.98s        | 0.848552          | 0.884224              | 0.00057517  |"
       ]
      },
      {
       "html": [
        "<pre>PROGRESS: | 9       | 2.73s        | 0.841555          | 0.884854              | 0.000370587 |</pre>"
       ],
       "metadata": {},
       "output_type": "display_data",
       "text": [
        "PROGRESS: | 9       | 2.73s        | 0.841555          | 0.884854              | 0.000370587 |"
       ]
      },
      {
       "html": [
        "<pre>PROGRESS: | 11      | 3.23s        | 0.838957          | 0.885186              | 0.000299555 |</pre>"
       ],
       "metadata": {},
       "output_type": "display_data",
       "text": [
        "PROGRESS: | 11      | 3.23s        | 0.838957          | 0.885186              | 0.000299555 |"
       ]
      },
      {
       "html": [
        "<pre>PROGRESS: | 14      | 3.98s        | 0.836326          | 0.885536              | 0.000232662 |</pre>"
       ],
       "metadata": {},
       "output_type": "display_data",
       "text": [
        "PROGRESS: | 14      | 3.98s        | 0.836326          | 0.885536              | 0.000232662 |"
       ]
      },
      {
       "html": [
        "<pre>PROGRESS: | 19      | 5.24s        | 0.833631          | 0.885951              | 0.000169556 |</pre>"
       ],
       "metadata": {},
       "output_type": "display_data",
       "text": [
        "PROGRESS: | 19      | 5.24s        | 0.833631          | 0.885951              | 0.000169556 |"
       ]
      },
      {
       "html": [
        "<pre>PROGRESS: | 24      | 6.52s        | 0.831958          | 0.886253              | 0.000133379 |</pre>"
       ],
       "metadata": {},
       "output_type": "display_data",
       "text": [
        "PROGRESS: | 24      | 6.52s        | 0.831958          | 0.886253              | 0.000133379 |"
       ]
      },
      {
       "html": [
        "<pre>PROGRESS: | 29      | 7.80s        | 0.830745          | 0.886457              | 0.000109925 |</pre>"
       ],
       "metadata": {},
       "output_type": "display_data",
       "text": [
        "PROGRESS: | 29      | 7.80s        | 0.830745          | 0.886457              | 0.000109925 |"
       ]
      },
      {
       "html": [
        "<pre>PROGRESS: | 34      | 9.09s        | 0.829858          | 0.886629              | 9.34862e-05 |</pre>"
       ],
       "metadata": {},
       "output_type": "display_data",
       "text": [
        "PROGRESS: | 34      | 9.09s        | 0.829858          | 0.886629              | 9.34862e-05 |"
       ]
      },
      {
       "html": [
        "<pre>PROGRESS: | 39      | 10.35s       | 0.829149          | 0.886761              | 8.13244e-05 |</pre>"
       ],
       "metadata": {},
       "output_type": "display_data",
       "text": [
        "PROGRESS: | 39      | 10.35s       | 0.829149          | 0.886761              | 8.13244e-05 |"
       ]
      },
      {
       "html": [
        "<pre>PROGRESS: | 44      | 11.62s       | 0.828574          | 0.886872              | 7.19626e-05 |</pre>"
       ],
       "metadata": {},
       "output_type": "display_data",
       "text": [
        "PROGRESS: | 44      | 11.62s       | 0.828574          | 0.886872              | 7.19626e-05 |"
       ]
      },
      {
       "html": [
        "<pre>PROGRESS: | 49      | 12.88s       | 0.828091          | 0.886962              | 6.45337e-05 |</pre>"
       ],
       "metadata": {},
       "output_type": "display_data",
       "text": [
        "PROGRESS: | 49      | 12.88s       | 0.828091          | 0.886962              | 6.45337e-05 |"
       ]
      },
      {
       "html": [
        "<pre>PROGRESS: +---------+--------------+-------------------+-----------------------+-------------+</pre>"
       ],
       "metadata": {},
       "output_type": "display_data",
       "text": [
        "PROGRESS: +---------+--------------+-------------------+-----------------------+-------------+"
       ]
      },
      {
       "html": [
        "<pre>PROGRESS: Optimization Complete: Maximum number of passes through the data reached.</pre>"
       ],
       "metadata": {},
       "output_type": "display_data",
       "text": [
        "PROGRESS: Optimization Complete: Maximum number of passes through the data reached."
       ]
      },
      {
       "html": [
        "<pre>PROGRESS: Computing final objective value and training RMSE.</pre>"
       ],
       "metadata": {},
       "output_type": "display_data",
       "text": [
        "PROGRESS: Computing final objective value and training RMSE."
       ]
      },
      {
       "html": [
        "<pre>PROGRESS:        Final objective value: 0.828566</pre>"
       ],
       "metadata": {},
       "output_type": "display_data",
       "text": [
        "PROGRESS:        Final objective value: 0.828566"
       ]
      },
      {
       "html": [
        "<pre>PROGRESS:        Final training RMSE: 0.887295</pre>"
       ],
       "metadata": {},
       "output_type": "display_data",
       "text": [
        "PROGRESS:        Final training RMSE: 0.887295"
       ]
      },
      {
       "html": [
        "<pre>PROGRESS: Recsys training: model = factorization_recommender</pre>"
       ],
       "metadata": {},
       "output_type": "display_data",
       "text": [
        "PROGRESS: Recsys training: model = factorization_recommender"
       ]
      },
      {
       "html": [
        "<pre>PROGRESS: Preparing data set.</pre>"
       ],
       "metadata": {},
       "output_type": "display_data",
       "text": [
        "PROGRESS: Preparing data set."
       ]
      },
      {
       "html": [
        "<pre>PROGRESS:     Data has 3199340 observations with 12020 users and 17188 items.</pre>"
       ],
       "metadata": {},
       "output_type": "display_data",
       "text": [
        "PROGRESS:     Data has 3199340 observations with 12020 users and 17188 items."
       ]
      },
      {
       "html": [
        "<pre>PROGRESS:     Data prepared in: 1.74667s</pre>"
       ],
       "metadata": {},
       "output_type": "display_data",
       "text": [
        "PROGRESS:     Data prepared in: 1.74667s"
       ]
      },
      {
       "html": [
        "<pre>PROGRESS: Training factorization_recommender for recommendations.</pre>"
       ],
       "metadata": {},
       "output_type": "display_data",
       "text": [
        "PROGRESS: Training factorization_recommender for recommendations."
       ]
      },
      {
       "html": [
        "<pre>PROGRESS: +--------------------------------+--------------------------------------------------+----------+</pre>"
       ],
       "metadata": {},
       "output_type": "display_data",
       "text": [
        "PROGRESS: +--------------------------------+--------------------------------------------------+----------+"
       ]
      },
      {
       "html": [
        "<pre>PROGRESS: | Parameter                      | Description                                      | Value    |</pre>"
       ],
       "metadata": {},
       "output_type": "display_data",
       "text": [
        "PROGRESS: | Parameter                      | Description                                      | Value    |"
       ]
      },
      {
       "html": [
        "<pre>PROGRESS: +--------------------------------+--------------------------------------------------+----------+</pre>"
       ],
       "metadata": {},
       "output_type": "display_data",
       "text": [
        "PROGRESS: +--------------------------------+--------------------------------------------------+----------+"
       ]
      },
      {
       "html": [
        "<pre>PROGRESS: | num_factors                    | Factor Dimension                                 | 5        |</pre>"
       ],
       "metadata": {},
       "output_type": "display_data",
       "text": [
        "PROGRESS: | num_factors                    | Factor Dimension                                 | 5        |"
       ]
      },
      {
       "html": [
        "<pre>PROGRESS: | regularization                 | L2 Regularization on Factors                     | 1e-05    |</pre>"
       ],
       "metadata": {},
       "output_type": "display_data",
       "text": [
        "PROGRESS: | regularization                 | L2 Regularization on Factors                     | 1e-05    |"
       ]
      },
      {
       "html": [
        "<pre>PROGRESS: | solver                         | Solver used for training                         | sgd      |</pre>"
       ],
       "metadata": {},
       "output_type": "display_data",
       "text": [
        "PROGRESS: | solver                         | Solver used for training                         | sgd      |"
       ]
      },
      {
       "html": [
        "<pre>PROGRESS: | linear_regularization          | L2 Regularization on Linear Coefficients         | 1e-10    |</pre>"
       ],
       "metadata": {},
       "output_type": "display_data",
       "text": [
        "PROGRESS: | linear_regularization          | L2 Regularization on Linear Coefficients         | 1e-10    |"
       ]
      },
      {
       "html": [
        "<pre>PROGRESS: | max_iterations                 | Maximum Number of Iterations                     | 50       |</pre>"
       ],
       "metadata": {},
       "output_type": "display_data",
       "text": [
        "PROGRESS: | max_iterations                 | Maximum Number of Iterations                     | 50       |"
       ]
      },
      {
       "html": [
        "<pre>PROGRESS: +--------------------------------+--------------------------------------------------+----------+</pre>"
       ],
       "metadata": {},
       "output_type": "display_data",
       "text": [
        "PROGRESS: +--------------------------------+--------------------------------------------------+----------+"
       ]
      },
      {
       "html": [
        "<pre>PROGRESS:   Optimizing model using SGD; tuning step size.</pre>"
       ],
       "metadata": {},
       "output_type": "display_data",
       "text": [
        "PROGRESS:   Optimizing model using SGD; tuning step size."
       ]
      },
      {
       "html": [
        "<pre>PROGRESS:   Using 399917 / 3199340 points for tuning the step size.</pre>"
       ],
       "metadata": {},
       "output_type": "display_data",
       "text": [
        "PROGRESS:   Using 399917 / 3199340 points for tuning the step size."
       ]
      },
      {
       "html": [
        "<pre>PROGRESS: +---------+-------------------+------------------------------------------+</pre>"
       ],
       "metadata": {},
       "output_type": "display_data",
       "text": [
        "PROGRESS: +---------+-------------------+------------------------------------------+"
       ]
      },
      {
       "html": [
        "<pre>PROGRESS: | Attempt | Initial Step Size | Estimated Objective Value                |</pre>"
       ],
       "metadata": {},
       "output_type": "display_data",
       "text": [
        "PROGRESS: | Attempt | Initial Step Size | Estimated Objective Value                |"
       ]
      },
      {
       "html": [
        "<pre>PROGRESS: +---------+-------------------+------------------------------------------+</pre>"
       ],
       "metadata": {},
       "output_type": "display_data",
       "text": [
        "PROGRESS: +---------+-------------------+------------------------------------------+"
       ]
      },
      {
       "html": [
        "<pre>PROGRESS: | 0       | 2.30303           | Not Viable                               |</pre>"
       ],
       "metadata": {},
       "output_type": "display_data",
       "text": [
        "PROGRESS: | 0       | 2.30303           | Not Viable                               |"
       ]
      },
      {
       "html": [
        "<pre>PROGRESS: | 1       | 0.575758          | Not Viable                               |</pre>"
       ],
       "metadata": {},
       "output_type": "display_data",
       "text": [
        "PROGRESS: | 1       | 0.575758          | Not Viable                               |"
       ]
      },
      {
       "html": [
        "<pre>PROGRESS: | 2       | 0.14394           | 0.848182                                 |</pre>"
       ],
       "metadata": {},
       "output_type": "display_data",
       "text": [
        "PROGRESS: | 2       | 0.14394           | 0.848182                                 |"
       ]
      },
      {
       "html": [
        "<pre>PROGRESS: | 3       | 0.0719698         | 0.747884                                 |</pre>"
       ],
       "metadata": {},
       "output_type": "display_data",
       "text": [
        "PROGRESS: | 3       | 0.0719698         | 0.747884                                 |"
       ]
      },
      {
       "html": [
        "<pre>PROGRESS: | 4       | 0.0359849         | 0.777004                                 |</pre>"
       ],
       "metadata": {},
       "output_type": "display_data",
       "text": [
        "PROGRESS: | 4       | 0.0359849         | 0.777004                                 |"
       ]
      },
      {
       "html": [
        "<pre>PROGRESS: | 5       | 0.0179924         | 0.78454                                  |</pre>"
       ],
       "metadata": {},
       "output_type": "display_data",
       "text": [
        "PROGRESS: | 5       | 0.0179924         | 0.78454                                  |"
       ]
      },
      {
       "html": [
        "<pre>PROGRESS: | 6       | 0.00899622        | 0.801716                                 |</pre>"
       ],
       "metadata": {},
       "output_type": "display_data",
       "text": [
        "PROGRESS: | 6       | 0.00899622        | 0.801716                                 |"
       ]
      },
      {
       "html": [
        "<pre>PROGRESS: +---------+-------------------+------------------------------------------+</pre>"
       ],
       "metadata": {},
       "output_type": "display_data",
       "text": [
        "PROGRESS: +---------+-------------------+------------------------------------------+"
       ]
      },
      {
       "html": [
        "<pre>PROGRESS: | Final   | 0.0719698         | 0.747884                                 |</pre>"
       ],
       "metadata": {},
       "output_type": "display_data",
       "text": [
        "PROGRESS: | Final   | 0.0719698         | 0.747884                                 |"
       ]
      },
      {
       "html": [
        "<pre>PROGRESS: +---------+-------------------+------------------------------------------+</pre>"
       ],
       "metadata": {},
       "output_type": "display_data",
       "text": [
        "PROGRESS: +---------+-------------------+------------------------------------------+"
       ]
      },
      {
       "html": [
        "<pre>PROGRESS: Starting Optimization.</pre>"
       ],
       "metadata": {},
       "output_type": "display_data",
       "text": [
        "PROGRESS: Starting Optimization."
       ]
      },
      {
       "html": [
        "<pre>PROGRESS: +---------+--------------+-------------------+-----------------------+-------------+</pre>"
       ],
       "metadata": {},
       "output_type": "display_data",
       "text": [
        "PROGRESS: +---------+--------------+-------------------+-----------------------+-------------+"
       ]
      },
      {
       "html": [
        "<pre>PROGRESS: | Iter.   | Elapsed Time | Approx. Objective | Approx. Training RMSE | Step Size   |</pre>"
       ],
       "metadata": {},
       "output_type": "display_data",
       "text": [
        "PROGRESS: | Iter.   | Elapsed Time | Approx. Objective | Approx. Training RMSE | Step Size   |"
       ]
      },
      {
       "html": [
        "<pre>PROGRESS: +---------+--------------+-------------------+-----------------------+-------------+</pre>"
       ],
       "metadata": {},
       "output_type": "display_data",
       "text": [
        "PROGRESS: +---------+--------------+-------------------+-----------------------+-------------+"
       ]
      },
      {
       "html": [
        "<pre>PROGRESS: | Initial | 95us         | 1.14611           | 1.07056               |             |</pre>"
       ],
       "metadata": {},
       "output_type": "display_data",
       "text": [
        "PROGRESS: | Initial | 95us         | 1.14611           | 1.07056               |             |"
       ]
      },
      {
       "html": [
        "<pre>PROGRESS: +---------+--------------+-------------------+-----------------------+-------------+</pre>"
       ],
       "metadata": {},
       "output_type": "display_data",
       "text": [
        "PROGRESS: +---------+--------------+-------------------+-----------------------+-------------+"
       ]
      },
      {
       "html": [
        "<pre>PROGRESS: | 1       | 333.097ms    | DIVERGED          | DIVERGED              | 0.0719698   |</pre>"
       ],
       "metadata": {},
       "output_type": "display_data",
       "text": [
        "PROGRESS: | 1       | 333.097ms    | DIVERGED          | DIVERGED              | 0.0719698   |"
       ]
      },
      {
       "html": [
        "<pre>PROGRESS: | RESET   | 409.441ms    | 1.14612           | 1.07057               |             |</pre>"
       ],
       "metadata": {},
       "output_type": "display_data",
       "text": [
        "PROGRESS: | RESET   | 409.441ms    | 1.14612           | 1.07057               |             |"
       ]
      },
      {
       "html": [
        "<pre>PROGRESS: | 1       | 674.458ms    | 0.945166          | 0.933644              | 0.0359849   |</pre>"
       ],
       "metadata": {},
       "output_type": "display_data",
       "text": [
        "PROGRESS: | 1       | 674.458ms    | 0.945166          | 0.933644              | 0.0359849   |"
       ]
      },
      {
       "html": [
        "<pre>PROGRESS: | 2       | 922.186ms    | 0.833656          | 0.876518              | 0.0167272   |</pre>"
       ],
       "metadata": {},
       "output_type": "display_data",
       "text": [
        "PROGRESS: | 2       | 922.186ms    | 0.833656          | 0.876518              | 0.0167272   |"
       ]
      },
      {
       "html": [
        "<pre>PROGRESS: | 3       | 1.17s        | 0.794613          | 0.851602              | 0.0108961   |</pre>"
       ],
       "metadata": {},
       "output_type": "display_data",
       "text": [
        "PROGRESS: | 3       | 1.17s        | 0.794613          | 0.851602              | 0.0108961   |"
       ]
      },
      {
       "html": [
        "<pre>PROGRESS: | 4       | 1.42s        | 0.78035           | 0.842591              | 0.00807953  |</pre>"
       ],
       "metadata": {},
       "output_type": "display_data",
       "text": [
        "PROGRESS: | 4       | 1.42s        | 0.78035           | 0.842591              | 0.00807953  |"
       ]
      },
      {
       "html": [
        "<pre>PROGRESS: | 5       | 1.67s        | 0.773427          | 0.838109              | 0.00642001  |</pre>"
       ],
       "metadata": {},
       "output_type": "display_data",
       "text": [
        "PROGRESS: | 5       | 1.67s        | 0.773427          | 0.838109              | 0.00642001  |"
       ]
      },
      {
       "html": [
        "<pre>PROGRESS: | 6       | 1.92s        | 0.769018          | 0.835196              | 0.00532605  |</pre>"
       ],
       "metadata": {},
       "output_type": "display_data",
       "text": [
        "PROGRESS: | 6       | 1.92s        | 0.769018          | 0.835196              | 0.00532605  |"
       ]
      },
      {
       "html": [
        "<pre>PROGRESS: | 9       | 2.66s        | 0.76163           | 0.830728              | 0.0035244   |</pre>"
       ],
       "metadata": {},
       "output_type": "display_data",
       "text": [
        "PROGRESS: | 9       | 2.66s        | 0.76163           | 0.830728              | 0.0035244   |"
       ]
      },
      {
       "html": [
        "<pre>PROGRESS: | 11      | 3.16s        | 0.758812          | 0.829095              | 0.00287585  |</pre>"
       ],
       "metadata": {},
       "output_type": "display_data",
       "text": [
        "PROGRESS: | 11      | 3.16s        | 0.758812          | 0.829095              | 0.00287585  |"
       ]
      },
      {
       "html": [
        "<pre>PROGRESS: | 14      | 3.90s        | 0.756146          | 0.827604              | 0.00225376  |</pre>"
       ],
       "metadata": {},
       "output_type": "display_data",
       "text": [
        "PROGRESS: | 14      | 3.90s        | 0.756146          | 0.827604              | 0.00225376  |"
       ]
      },
      {
       "html": [
        "<pre>PROGRESS: | 19      | 5.13s        | 0.753463          | 0.826105              | 0.00165653  |</pre>"
       ],
       "metadata": {},
       "output_type": "display_data",
       "text": [
        "PROGRESS: | 19      | 5.13s        | 0.753463          | 0.826105              | 0.00165653  |"
       ]
      },
      {
       "html": [
        "<pre>PROGRESS: | 24      | 6.40s        | 0.751875          | 0.825247              | 0.00130952  |</pre>"
       ],
       "metadata": {},
       "output_type": "display_data",
       "text": [
        "PROGRESS: | 24      | 6.40s        | 0.751875          | 0.825247              | 0.00130952  |"
       ]
      },
      {
       "html": [
        "<pre>PROGRESS: | 29      | 7.76s        | 0.750733          | 0.824628              | 0.00108271  |</pre>"
       ],
       "metadata": {},
       "output_type": "display_data",
       "text": [
        "PROGRESS: | 29      | 7.76s        | 0.750733          | 0.824628              | 0.00108271  |"
       ]
      },
      {
       "html": [
        "<pre>PROGRESS: | 34      | 9.48s        | 0.749926          | 0.824199              | 0.000922874 |</pre>"
       ],
       "metadata": {},
       "output_type": "display_data",
       "text": [
        "PROGRESS: | 34      | 9.48s        | 0.749926          | 0.824199              | 0.000922874 |"
       ]
      },
      {
       "html": [
        "<pre>PROGRESS: | 39      | 11.38s       | 0.749352          | 0.8239                | 0.000804157 |</pre>"
       ],
       "metadata": {},
       "output_type": "display_data",
       "text": [
        "PROGRESS: | 39      | 11.38s       | 0.749352          | 0.8239                | 0.000804157 |"
       ]
      },
      {
       "html": [
        "<pre>PROGRESS: | 44      | 13.18s       | 0.748856          | 0.82364               | 0.000712502 |</pre>"
       ],
       "metadata": {},
       "output_type": "display_data",
       "text": [
        "PROGRESS: | 44      | 13.18s       | 0.748856          | 0.82364               | 0.000712502 |"
       ]
      },
      {
       "html": [
        "<pre>PROGRESS: | 49      | 14.50s       | 0.748486          | 0.823446              | 0.000639602 |</pre>"
       ],
       "metadata": {},
       "output_type": "display_data",
       "text": [
        "PROGRESS: | 49      | 14.50s       | 0.748486          | 0.823446              | 0.000639602 |"
       ]
      },
      {
       "html": [
        "<pre>PROGRESS: +---------+--------------+-------------------+-----------------------+-------------+</pre>"
       ],
       "metadata": {},
       "output_type": "display_data",
       "text": [
        "PROGRESS: +---------+--------------+-------------------+-----------------------+-------------+"
       ]
      },
      {
       "html": [
        "<pre>PROGRESS: Optimization Complete: Maximum number of passes through the data reached.</pre>"
       ],
       "metadata": {},
       "output_type": "display_data",
       "text": [
        "PROGRESS: Optimization Complete: Maximum number of passes through the data reached."
       ]
      },
      {
       "html": [
        "<pre>PROGRESS: Computing final objective value and training RMSE.</pre>"
       ],
       "metadata": {},
       "output_type": "display_data",
       "text": [
        "PROGRESS: Computing final objective value and training RMSE."
       ]
      },
      {
       "html": [
        "<pre>PROGRESS:        Final objective value: 0.74713</pre>"
       ],
       "metadata": {},
       "output_type": "display_data",
       "text": [
        "PROGRESS:        Final objective value: 0.74713"
       ]
      },
      {
       "html": [
        "<pre>PROGRESS:        Final training RMSE: 0.822629</pre>"
       ],
       "metadata": {},
       "output_type": "display_data",
       "text": [
        "PROGRESS:        Final training RMSE: 0.822629"
       ]
      },
      {
       "html": [
        "<pre>PROGRESS: Recsys training: model = factorization_recommender</pre>"
       ],
       "metadata": {},
       "output_type": "display_data",
       "text": [
        "PROGRESS: Recsys training: model = factorization_recommender"
       ]
      },
      {
       "html": [
        "<pre>PROGRESS: Preparing data set.</pre>"
       ],
       "metadata": {},
       "output_type": "display_data",
       "text": [
        "PROGRESS: Preparing data set."
       ]
      },
      {
       "html": [
        "<pre>PROGRESS:     Data has 3199340 observations with 12020 users and 17188 items.</pre>"
       ],
       "metadata": {},
       "output_type": "display_data",
       "text": [
        "PROGRESS:     Data has 3199340 observations with 12020 users and 17188 items."
       ]
      },
      {
       "html": [
        "<pre>PROGRESS:     Data prepared in: 1.7611s</pre>"
       ],
       "metadata": {},
       "output_type": "display_data",
       "text": [
        "PROGRESS:     Data prepared in: 1.7611s"
       ]
      },
      {
       "html": [
        "<pre>PROGRESS: Training factorization_recommender for recommendations.</pre>"
       ],
       "metadata": {},
       "output_type": "display_data",
       "text": [
        "PROGRESS: Training factorization_recommender for recommendations."
       ]
      },
      {
       "html": [
        "<pre>PROGRESS: +--------------------------------+--------------------------------------------------+----------+</pre>"
       ],
       "metadata": {},
       "output_type": "display_data",
       "text": [
        "PROGRESS: +--------------------------------+--------------------------------------------------+----------+"
       ]
      },
      {
       "html": [
        "<pre>PROGRESS: | Parameter                      | Description                                      | Value    |</pre>"
       ],
       "metadata": {},
       "output_type": "display_data",
       "text": [
        "PROGRESS: | Parameter                      | Description                                      | Value    |"
       ]
      },
      {
       "html": [
        "<pre>PROGRESS: +--------------------------------+--------------------------------------------------+----------+</pre>"
       ],
       "metadata": {},
       "output_type": "display_data",
       "text": [
        "PROGRESS: +--------------------------------+--------------------------------------------------+----------+"
       ]
      },
      {
       "html": [
        "<pre>PROGRESS: | num_factors                    | Factor Dimension                                 | 5        |</pre>"
       ],
       "metadata": {},
       "output_type": "display_data",
       "text": [
        "PROGRESS: | num_factors                    | Factor Dimension                                 | 5        |"
       ]
      },
      {
       "html": [
        "<pre>PROGRESS: | regularization                 | L2 Regularization on Factors                     | 1e-06    |</pre>"
       ],
       "metadata": {},
       "output_type": "display_data",
       "text": [
        "PROGRESS: | regularization                 | L2 Regularization on Factors                     | 1e-06    |"
       ]
      },
      {
       "html": [
        "<pre>PROGRESS: | solver                         | Solver used for training                         | sgd      |</pre>"
       ],
       "metadata": {},
       "output_type": "display_data",
       "text": [
        "PROGRESS: | solver                         | Solver used for training                         | sgd      |"
       ]
      },
      {
       "html": [
        "<pre>PROGRESS: | linear_regularization          | L2 Regularization on Linear Coefficients         | 1e-10    |</pre>"
       ],
       "metadata": {},
       "output_type": "display_data",
       "text": [
        "PROGRESS: | linear_regularization          | L2 Regularization on Linear Coefficients         | 1e-10    |"
       ]
      },
      {
       "html": [
        "<pre>PROGRESS: | max_iterations                 | Maximum Number of Iterations                     | 50       |</pre>"
       ],
       "metadata": {},
       "output_type": "display_data",
       "text": [
        "PROGRESS: | max_iterations                 | Maximum Number of Iterations                     | 50       |"
       ]
      },
      {
       "html": [
        "<pre>PROGRESS: +--------------------------------+--------------------------------------------------+----------+</pre>"
       ],
       "metadata": {},
       "output_type": "display_data",
       "text": [
        "PROGRESS: +--------------------------------+--------------------------------------------------+----------+"
       ]
      },
      {
       "html": [
        "<pre>PROGRESS:   Optimizing model using SGD; tuning step size.</pre>"
       ],
       "metadata": {},
       "output_type": "display_data",
       "text": [
        "PROGRESS:   Optimizing model using SGD; tuning step size."
       ]
      },
      {
       "html": [
        "<pre>PROGRESS:   Using 399917 / 3199340 points for tuning the step size.</pre>"
       ],
       "metadata": {},
       "output_type": "display_data",
       "text": [
        "PROGRESS:   Using 399917 / 3199340 points for tuning the step size."
       ]
      },
      {
       "html": [
        "<pre>PROGRESS: +---------+-------------------+------------------------------------------+</pre>"
       ],
       "metadata": {},
       "output_type": "display_data",
       "text": [
        "PROGRESS: +---------+-------------------+------------------------------------------+"
       ]
      },
      {
       "html": [
        "<pre>PROGRESS: | Attempt | Initial Step Size | Estimated Objective Value                |</pre>"
       ],
       "metadata": {},
       "output_type": "display_data",
       "text": [
        "PROGRESS: | Attempt | Initial Step Size | Estimated Objective Value                |"
       ]
      },
      {
       "html": [
        "<pre>PROGRESS: +---------+-------------------+------------------------------------------+</pre>"
       ],
       "metadata": {},
       "output_type": "display_data",
       "text": [
        "PROGRESS: +---------+-------------------+------------------------------------------+"
       ]
      },
      {
       "html": [
        "<pre>PROGRESS: | 0       | 23.0303           | Not Viable                               |</pre>"
       ],
       "metadata": {},
       "output_type": "display_data",
       "text": [
        "PROGRESS: | 0       | 23.0303           | Not Viable                               |"
       ]
      },
      {
       "html": [
        "<pre>PROGRESS: | 1       | 5.75758           | Not Viable                               |</pre>"
       ],
       "metadata": {},
       "output_type": "display_data",
       "text": [
        "PROGRESS: | 1       | 5.75758           | Not Viable                               |"
       ]
      },
      {
       "html": [
        "<pre>PROGRESS: | 2       | 1.4394            | Not Viable                               |</pre>"
       ],
       "metadata": {},
       "output_type": "display_data",
       "text": [
        "PROGRESS: | 2       | 1.4394            | Not Viable                               |"
       ]
      },
      {
       "html": [
        "<pre>PROGRESS: | 3       | 0.359849          | Not Viable                               |</pre>"
       ],
       "metadata": {},
       "output_type": "display_data",
       "text": [
        "PROGRESS: | 3       | 0.359849          | Not Viable                               |"
       ]
      },
      {
       "html": [
        "<pre>PROGRESS: | 4       | 0.0899622         | 0.64469                                  |</pre>"
       ],
       "metadata": {},
       "output_type": "display_data",
       "text": [
        "PROGRESS: | 4       | 0.0899622         | 0.64469                                  |"
       ]
      },
      {
       "html": [
        "<pre>PROGRESS: | 5       | 0.0449811         | 0.776938                                 |</pre>"
       ],
       "metadata": {},
       "output_type": "display_data",
       "text": [
        "PROGRESS: | 5       | 0.0449811         | 0.776938                                 |"
       ]
      },
      {
       "html": [
        "<pre>PROGRESS: | 6       | 0.0224906         | 0.781721                                 |</pre>"
       ],
       "metadata": {},
       "output_type": "display_data",
       "text": [
        "PROGRESS: | 6       | 0.0224906         | 0.781721                                 |"
       ]
      },
      {
       "html": [
        "<pre>PROGRESS: | 7       | 0.0112453         | 0.795259                                 |</pre>"
       ],
       "metadata": {},
       "output_type": "display_data",
       "text": [
        "PROGRESS: | 7       | 0.0112453         | 0.795259                                 |"
       ]
      },
      {
       "html": [
        "<pre>PROGRESS: +---------+-------------------+------------------------------------------+</pre>"
       ],
       "metadata": {},
       "output_type": "display_data",
       "text": [
        "PROGRESS: +---------+-------------------+------------------------------------------+"
       ]
      },
      {
       "html": [
        "<pre>PROGRESS: | Final   | 0.0899622         | 0.64469                                  |</pre>"
       ],
       "metadata": {},
       "output_type": "display_data",
       "text": [
        "PROGRESS: | Final   | 0.0899622         | 0.64469                                  |"
       ]
      },
      {
       "html": [
        "<pre>PROGRESS: +---------+-------------------+------------------------------------------+</pre>"
       ],
       "metadata": {},
       "output_type": "display_data",
       "text": [
        "PROGRESS: +---------+-------------------+------------------------------------------+"
       ]
      },
      {
       "html": [
        "<pre>PROGRESS: Starting Optimization.</pre>"
       ],
       "metadata": {},
       "output_type": "display_data",
       "text": [
        "PROGRESS: Starting Optimization."
       ]
      },
      {
       "html": [
        "<pre>PROGRESS: +---------+--------------+-------------------+-----------------------+-------------+</pre>"
       ],
       "metadata": {},
       "output_type": "display_data",
       "text": [
        "PROGRESS: +---------+--------------+-------------------+-----------------------+-------------+"
       ]
      },
      {
       "html": [
        "<pre>PROGRESS: | Iter.   | Elapsed Time | Approx. Objective | Approx. Training RMSE | Step Size   |</pre>"
       ],
       "metadata": {},
       "output_type": "display_data",
       "text": [
        "PROGRESS: | Iter.   | Elapsed Time | Approx. Objective | Approx. Training RMSE | Step Size   |"
       ]
      },
      {
       "html": [
        "<pre>PROGRESS: +---------+--------------+-------------------+-----------------------+-------------+</pre>"
       ],
       "metadata": {},
       "output_type": "display_data",
       "text": [
        "PROGRESS: +---------+--------------+-------------------+-----------------------+-------------+"
       ]
      },
      {
       "html": [
        "<pre>PROGRESS: | Initial | 91us         | 1.14611           | 1.07057               |             |</pre>"
       ],
       "metadata": {},
       "output_type": "display_data",
       "text": [
        "PROGRESS: | Initial | 91us         | 1.14611           | 1.07057               |             |"
       ]
      },
      {
       "html": [
        "<pre>PROGRESS: +---------+--------------+-------------------+-----------------------+-------------+</pre>"
       ],
       "metadata": {},
       "output_type": "display_data",
       "text": [
        "PROGRESS: +---------+--------------+-------------------+-----------------------+-------------+"
       ]
      },
      {
       "html": [
        "<pre>PROGRESS: | 1       | 271.257ms    | 1.06564           | 1.02546               | 0.0899622   |</pre>"
       ],
       "metadata": {},
       "output_type": "display_data",
       "text": [
        "PROGRESS: | 1       | 271.257ms    | 1.06564           | 1.02546               | 0.0899622   |"
       ]
      },
      {
       "html": [
        "<pre>PROGRESS: | 2       | 519.436ms    | 0.893836          | 0.9386                | 0.0534919   |</pre>"
       ],
       "metadata": {},
       "output_type": "display_data",
       "text": [
        "PROGRESS: | 2       | 519.436ms    | 0.893836          | 0.9386                | 0.0534919   |"
       ]
      },
      {
       "html": [
        "<pre>PROGRESS: | 3       | 781.26ms     | 0.821313          | 0.898336              | 0.0394657   |</pre>"
       ],
       "metadata": {},
       "output_type": "display_data",
       "text": [
        "PROGRESS: | 3       | 781.26ms     | 0.821313          | 0.898336              | 0.0394657   |"
       ]
      },
      {
       "html": [
        "<pre>PROGRESS: | 4       | 1.02s        | 0.787446          | 0.878677              | 0.0318065   |</pre>"
       ],
       "metadata": {},
       "output_type": "display_data",
       "text": [
        "PROGRESS: | 4       | 1.02s        | 0.787446          | 0.878677              | 0.0318065   |"
       ]
      },
      {
       "html": [
        "<pre>PROGRESS: | 5       | 1.27s        | 0.767935          | 0.867039              | 0.026905    |</pre>"
       ],
       "metadata": {},
       "output_type": "display_data",
       "text": [
        "PROGRESS: | 5       | 1.27s        | 0.767935          | 0.867039              | 0.026905    |"
       ]
      },
      {
       "html": [
        "<pre>PROGRESS: | 6       | 1.52s        | 0.754864          | 0.859049              | 0.0234664   |</pre>"
       ],
       "metadata": {},
       "output_type": "display_data",
       "text": [
        "PROGRESS: | 6       | 1.52s        | 0.754864          | 0.859049              | 0.0234664   |"
       ]
      },
      {
       "html": [
        "<pre>PROGRESS: | 10      | 2.52s        | 0.728348          | 0.842483              | 0.0159978   |</pre>"
       ],
       "metadata": {},
       "output_type": "display_data",
       "text": [
        "PROGRESS: | 10      | 2.52s        | 0.728348          | 0.842483              | 0.0159978   |"
       ]
      },
      {
       "html": [
        "<pre>PROGRESS: | 11      | 2.77s        | 0.724747          | 0.840175              | 0.0148942   |</pre>"
       ],
       "metadata": {},
       "output_type": "display_data",
       "text": [
        "PROGRESS: | 11      | 2.77s        | 0.724747          | 0.840175              | 0.0148942   |"
       ]
      },
      {
       "html": [
        "<pre>PROGRESS: | 15      | 3.76s        | 0.714201          | 0.833394              | 0.011803    |</pre>"
       ],
       "metadata": {},
       "output_type": "display_data",
       "text": [
        "PROGRESS: | 15      | 3.76s        | 0.714201          | 0.833394              | 0.011803    |"
       ]
      },
      {
       "html": [
        "<pre>PROGRESS: | 20      | 4.97s        | 0.706563          | 0.828444              | 0.00951235  |</pre>"
       ],
       "metadata": {},
       "output_type": "display_data",
       "text": [
        "PROGRESS: | 20      | 4.97s        | 0.706563          | 0.828444              | 0.00951235  |"
       ]
      },
      {
       "html": [
        "<pre>PROGRESS: | 25      | 6.20s        | 0.701591          | 0.8252                | 0.00804647  |</pre>"
       ],
       "metadata": {},
       "output_type": "display_data",
       "text": [
        "PROGRESS: | 25      | 6.20s        | 0.701591          | 0.8252                | 0.00804647  |"
       ]
      },
      {
       "html": [
        "<pre>PROGRESS: | 30      | 7.43s        | 0.698227          | 0.822989              | 0.0070181   |</pre>"
       ],
       "metadata": {},
       "output_type": "display_data",
       "text": [
        "PROGRESS: | 30      | 7.43s        | 0.698227          | 0.822989              | 0.0070181   |"
       ]
      },
      {
       "html": [
        "<pre>PROGRESS: | 35      | 8.67s        | 0.695756          | 0.821358              | 0.00625186  |</pre>"
       ],
       "metadata": {},
       "output_type": "display_data",
       "text": [
        "PROGRESS: | 35      | 8.67s        | 0.695756          | 0.821358              | 0.00625186  |"
       ]
      },
      {
       "html": [
        "<pre>PROGRESS: | 40      | 9.89s        | 0.693684          | 0.820002              | 0.00565608  |</pre>"
       ],
       "metadata": {},
       "output_type": "display_data",
       "text": [
        "PROGRESS: | 40      | 9.89s        | 0.693684          | 0.820002              | 0.00565608  |"
       ]
      },
      {
       "html": [
        "<pre>PROGRESS: | 45      | 11.18s       | 0.692125          | 0.818967              | 0.00517787  |</pre>"
       ],
       "metadata": {},
       "output_type": "display_data",
       "text": [
        "PROGRESS: | 45      | 11.18s       | 0.692125          | 0.818967              | 0.00517787  |"
       ]
      },
      {
       "html": [
        "<pre>PROGRESS: | 50      | 12.68s       | 0.690705          | 0.818038              | 0.00478446  |</pre>"
       ],
       "metadata": {},
       "output_type": "display_data",
       "text": [
        "PROGRESS: | 50      | 12.68s       | 0.690705          | 0.818038              | 0.00478446  |"
       ]
      },
      {
       "html": [
        "<pre>PROGRESS: +---------+--------------+-------------------+-----------------------+-------------+</pre>"
       ],
       "metadata": {},
       "output_type": "display_data",
       "text": [
        "PROGRESS: +---------+--------------+-------------------+-----------------------+-------------+"
       ]
      },
      {
       "html": [
        "<pre>PROGRESS: Optimization Complete: Maximum number of passes through the data reached.</pre>"
       ],
       "metadata": {},
       "output_type": "display_data",
       "text": [
        "PROGRESS: Optimization Complete: Maximum number of passes through the data reached."
       ]
      },
      {
       "html": [
        "<pre>PROGRESS: Computing final objective value and training RMSE.</pre>"
       ],
       "metadata": {},
       "output_type": "display_data",
       "text": [
        "PROGRESS: Computing final objective value and training RMSE."
       ]
      },
      {
       "html": [
        "<pre>PROGRESS:        Final objective value: 0.678585</pre>"
       ],
       "metadata": {},
       "output_type": "display_data",
       "text": [
        "PROGRESS:        Final objective value: 0.678585"
       ]
      },
      {
       "html": [
        "<pre>PROGRESS:        Final training RMSE: 0.810596</pre>"
       ],
       "metadata": {},
       "output_type": "display_data",
       "text": [
        "PROGRESS:        Final training RMSE: 0.810596"
       ]
      }
     ],
     "prompt_number": 6
    },
    {
     "cell_type": "code",
     "collapsed": false,
     "input": [
      "# Save the train and test RMSE, for each model\n",
      "(rmse_train, rmse_test) = ([], [])\n",
      "for m in models:\n",
      "    rmse_train.append(m['training_rmse'])\n",
      "    rmse_test.append(gl.evaluation.rmse(test_set['rating'], m.predict(test_set)))"
     ],
     "language": "python",
     "metadata": {},
     "outputs": [],
     "prompt_number": 7
    },
    {
     "cell_type": "markdown",
     "metadata": {},
     "source": [
      "Let's create a plot to show the RMSE for these different regularization values."
     ]
    },
    {
     "cell_type": "code",
     "collapsed": false,
     "input": [
      "(fig, ax) = plt.subplots(figsize=(10, 8))\n",
      "[p1, p2, p3] = ax.semilogx(regularization_vals, rmse_train, \n",
      "                           regularization_vals, rmse_test, \n",
      "                           regularization_vals, len(regularization_vals) * [baseline_rmse]\n",
      "                           )\n",
      "ax.set_ylim([0.7, 1.1])\n",
      "ax.set_xlabel('Regularization', fontsize=20)\n",
      "ax.set_ylabel('RMSE', fontsize=20)\n",
      "ax.legend([p1, p2, p3], [\"Train\", \"Test\", \"Baseline\"])\n"
     ],
     "language": "python",
     "metadata": {},
     "outputs": [
      {
       "metadata": {},
       "output_type": "pyout",
       "prompt_number": 8,
       "text": [
        "<matplotlib.legend.Legend at 0x7f3b984ea650>"
       ]
      },
      {
       "metadata": {},
       "output_type": "display_data",
       "png": "[encoded data removed]",
       "text": [
        "<matplotlib.figure.Figure at 0x7f3b9ae17150>"
       ]
      }
     ],
     "prompt_number": 8
    },
    {
     "cell_type": "markdown",
     "metadata": {},
     "source": [
      "Looks like we get the best Root Mean Squared Error (on the test set) when n_factors = 5 and regularization = 0.00001. Let's use those parameters!"
     ]
    },
    {
     "cell_type": "markdown",
     "metadata": {},
     "source": [
      "# Load a Larger Dataset\n",
      "Now let's train a new model (using the parameters we've picked) with a larger sample. This time we'll use a dataset that contains all ratings for about 30,000 users."
     ]
    },
    {
     "cell_type": "code",
     "collapsed": false,
     "input": [
      "data_url = 'https://static.turi.com/datasets/movie_ratings/sample.large'\n",
      "data = gl.SFrame.read_csv(data_url,delimiter='\\t',column_type_hints={'rating':int})"
     ],
     "language": "python",
     "metadata": {},
     "outputs": [
      {
       "html": [
        "<pre>PROGRESS: Downloading https://static.turi.com/datasets/movie_ratings/sample.large to /var/tmp/graphlab-toby/24264/000001.large</pre>"
       ],
       "metadata": {},
       "output_type": "display_data",
       "text": [
        "PROGRESS: Downloading https://static.turi.com/datasets/movie_ratings/sample.large to /var/tmp/graphlab-toby/24264/000001.large"
       ]
      },
      {
       "html": [
        "<pre>PROGRESS: Finished parsing file https://static.turi.com/datasets/movie_ratings/sample.large</pre>"
       ],
       "metadata": {},
       "output_type": "display_data",
       "text": [
        "PROGRESS: Finished parsing file https://static.turi.com/datasets/movie_ratings/sample.large"
       ]
      },
      {
       "html": [
        "<pre>PROGRESS: Parsing completed. Parsed 100 lines in 0.74785 secs.</pre>"
       ],
       "metadata": {},
       "output_type": "display_data",
       "text": [
        "PROGRESS: Parsing completed. Parsed 100 lines in 0.74785 secs."
       ]
      },
      {
       "html": [
        "<pre>PROGRESS: Read 1549015 lines. Lines per second: 2.21292e+06</pre>"
       ],
       "metadata": {},
       "output_type": "display_data",
       "text": [
        "PROGRESS: Read 1549015 lines. Lines per second: 2.21292e+06"
       ]
      },
      {
       "html": [
        "<pre>PROGRESS: Finished parsing file https://static.turi.com/datasets/movie_ratings/sample.large</pre>"
       ],
       "metadata": {},
       "output_type": "display_data",
       "text": [
        "PROGRESS: Finished parsing file https://static.turi.com/datasets/movie_ratings/sample.large"
       ]
      },
      {
       "html": [
        "<pre>PROGRESS: Parsing completed. Parsed 10000000 lines in 2.74104 secs.</pre>"
       ],
       "metadata": {},
       "output_type": "display_data",
       "text": [
        "PROGRESS: Parsing completed. Parsed 10000000 lines in 2.74104 secs."
       ]
      }
     ],
     "prompt_number": 9
    },
    {
     "cell_type": "markdown",
     "metadata": {},
     "source": [
      "# The Action Lover and the Romance Lover\n",
      "Let's see how this model behaves for two simulated/stereotypical users who have only rated a small number movies. We'll create two test users. One who loves action movies and hates romance movies. The other loves romance movies and hates actions movies. "
     ]
    },
    {
     "cell_type": "code",
     "collapsed": false,
     "input": [
      "action_movies = ['GoldenEye', 'Casino Royale', 'Independence Day', 'Con Air', 'The Rock', \n",
      "               'The Bourne Identity', 'Ocean\\'s Eleven', 'Lethal Weapon 4', 'Gladiator', \n",
      "               'Indiana Jones and the Last Crusade', 'The Matrix', 'Kill Bill: Vol. 1',\n",
      "               'Air Force One', 'Braveheart', 'The Man with the Golden Gun',\n",
      "               'The Bourne Supremacy', 'Saving Private Ryan']\n",
      "\n",
      "romance_movies = ['Sleepless in Seattle', 'An Affair to Remember', 'Ghost', 'Love Actually',\n",
      "                  'You\\'ve Got Mail', 'Notting Hill', 'Titanic', 'Miss Congeniality',\n",
      "                  'Some Like It Hot', 'Pretty Woman', 'How to Lose a Guy in 10 Days']\n",
      "\n",
      "# Boring helper function to create ratings\n",
      "def ratings(movie_list, user, rating):\n",
      "    num = len(movie_list)\n",
      "    records = {'user': [user] * num, 'movie': movie_list, 'rating': [rating] * num}\n",
      "    return gl.SFrame(records)\n",
      "\n",
      "# Loves action movies, hates romance movies\n",
      "action_user = 'Archie the Action Lover'\n",
      "action_user_ratings = ratings(action_movies, action_user, 5)\n",
      "action_user_ratings = action_user_ratings.append(ratings(romance_movies, action_user, 1))\n",
      "\n",
      "# Loves romance movies, hates action movies\n",
      "romantic_user = 'Rebecca the Romance Lover'\n",
      "romantic_user_ratings = ratings(action_movies, romantic_user, 1)\n",
      "romantic_user_ratings = romantic_user_ratings.append(ratings(romance_movies, romantic_user, 5))\n",
      "\n",
      "data = data.append(action_user_ratings)\n",
      "data = data.append(romantic_user_ratings)"
     ],
     "language": "python",
     "metadata": {},
     "outputs": [],
     "prompt_number": 10
    },
    {
     "cell_type": "markdown",
     "metadata": {},
     "source": [
      "Now, let's create a matrix factorization model, using the larger data sample."
     ]
    },
    {
     "cell_type": "code",
     "collapsed": false,
     "input": [
      "# Create a new model, using the larger dataset, with the tuned parameters\n",
      "m = gl.ranking_factorization_recommender.create(data, 'user', 'movie', 'rating', \n",
      "                                                max_iterations=50, num_factors=5,\n",
      "                                                regularization=0.00001)"
     ],
     "language": "python",
     "metadata": {},
     "outputs": [
      {
       "html": [
        "<pre>PROGRESS: Recsys training: model = ranking_factorization_recommender</pre>"
       ],
       "metadata": {},
       "output_type": "display_data",
       "text": [
        "PROGRESS: Recsys training: model = ranking_factorization_recommender"
       ]
      },
      {
       "html": [
        "<pre>PROGRESS: Preparing data set.</pre>"
       ],
       "metadata": {},
       "output_type": "display_data",
       "text": [
        "PROGRESS: Preparing data set."
       ]
      },
      {
       "html": [
        "<pre>PROGRESS:     Data has 10000056 observations with 30436 users and 17284 items.</pre>"
       ],
       "metadata": {},
       "output_type": "display_data",
       "text": [
        "PROGRESS:     Data has 10000056 observations with 30436 users and 17284 items."
       ]
      },
      {
       "html": [
        "<pre>PROGRESS:     Data prepared in: 5.91371s</pre>"
       ],
       "metadata": {},
       "output_type": "display_data",
       "text": [
        "PROGRESS:     Data prepared in: 5.91371s"
       ]
      },
      {
       "html": [
        "<pre>PROGRESS: Training ranking_factorization_recommender for recommendations.</pre>"
       ],
       "metadata": {},
       "output_type": "display_data",
       "text": [
        "PROGRESS: Training ranking_factorization_recommender for recommendations."
       ]
      },
      {
       "html": [
        "<pre>PROGRESS: +--------------------------------+--------------------------------------------------+----------+</pre>"
       ],
       "metadata": {},
       "output_type": "display_data",
       "text": [
        "PROGRESS: +--------------------------------+--------------------------------------------------+----------+"
       ]
      },
      {
       "html": [
        "<pre>PROGRESS: | Parameter                      | Description                                      | Value    |</pre>"
       ],
       "metadata": {},
       "output_type": "display_data",
       "text": [
        "PROGRESS: | Parameter                      | Description                                      | Value    |"
       ]
      },
      {
       "html": [
        "<pre>PROGRESS: +--------------------------------+--------------------------------------------------+----------+</pre>"
       ],
       "metadata": {},
       "output_type": "display_data",
       "text": [
        "PROGRESS: +--------------------------------+--------------------------------------------------+----------+"
       ]
      },
      {
       "html": [
        "<pre>PROGRESS: | num_factors                    | Factor Dimension                                 | 5        |</pre>"
       ],
       "metadata": {},
       "output_type": "display_data",
       "text": [
        "PROGRESS: | num_factors                    | Factor Dimension                                 | 5        |"
       ]
      },
      {
       "html": [
        "<pre>PROGRESS: | regularization                 | L2 Regularization on Factors                     | 1e-05    |</pre>"
       ],
       "metadata": {},
       "output_type": "display_data",
       "text": [
        "PROGRESS: | regularization                 | L2 Regularization on Factors                     | 1e-05    |"
       ]
      },
      {
       "html": [
        "<pre>PROGRESS: | solver                         | Solver used for training                         | sgd      |</pre>"
       ],
       "metadata": {},
       "output_type": "display_data",
       "text": [
        "PROGRESS: | solver                         | Solver used for training                         | sgd      |"
       ]
      },
      {
       "html": [
        "<pre>PROGRESS: | linear_regularization          | L2 Regularization on Linear Coefficients         | 1e-09    |</pre>"
       ],
       "metadata": {},
       "output_type": "display_data",
       "text": [
        "PROGRESS: | linear_regularization          | L2 Regularization on Linear Coefficients         | 1e-09    |"
       ]
      },
      {
       "html": [
        "<pre>PROGRESS: | ranking_regularization         | Rank-based Regularization Weight                 | 0.25     |</pre>"
       ],
       "metadata": {},
       "output_type": "display_data",
       "text": [
        "PROGRESS: | ranking_regularization         | Rank-based Regularization Weight                 | 0.25     |"
       ]
      },
      {
       "html": [
        "<pre>PROGRESS: | max_iterations                 | Maximum Number of Iterations                     | 50       |</pre>"
       ],
       "metadata": {},
       "output_type": "display_data",
       "text": [
        "PROGRESS: | max_iterations                 | Maximum Number of Iterations                     | 50       |"
       ]
      },
      {
       "html": [
        "<pre>PROGRESS: +--------------------------------+--------------------------------------------------+----------+</pre>"
       ],
       "metadata": {},
       "output_type": "display_data",
       "text": [
        "PROGRESS: +--------------------------------+--------------------------------------------------+----------+"
       ]
      },
      {
       "html": [
        "<pre>PROGRESS:   Optimizing model using SGD; tuning step size.</pre>"
       ],
       "metadata": {},
       "output_type": "display_data",
       "text": [
        "PROGRESS:   Optimizing model using SGD; tuning step size."
       ]
      },
      {
       "html": [
        "<pre>PROGRESS:   Using 1250007 / 10000056 points for tuning the step size.</pre>"
       ],
       "metadata": {},
       "output_type": "display_data",
       "text": [
        "PROGRESS:   Using 1250007 / 10000056 points for tuning the step size."
       ]
      },
      {
       "html": [
        "<pre>PROGRESS: +---------+-------------------+------------------------------------------+</pre>"
       ],
       "metadata": {},
       "output_type": "display_data",
       "text": [
        "PROGRESS: +---------+-------------------+------------------------------------------+"
       ]
      },
      {
       "html": [
        "<pre>PROGRESS: | Attempt | Initial Step Size | Estimated Objective Value                |</pre>"
       ],
       "metadata": {},
       "output_type": "display_data",
       "text": [
        "PROGRESS: | Attempt | Initial Step Size | Estimated Objective Value                |"
       ]
      },
      {
       "html": [
        "<pre>PROGRESS: +---------+-------------------+------------------------------------------+</pre>"
       ],
       "metadata": {},
       "output_type": "display_data",
       "text": [
        "PROGRESS: +---------+-------------------+------------------------------------------+"
       ]
      },
      {
       "html": [
        "<pre>PROGRESS: | 0       | 0.73682           | Not Viable                               |</pre>"
       ],
       "metadata": {},
       "output_type": "display_data",
       "text": [
        "PROGRESS: | 0       | 0.73682           | Not Viable                               |"
       ]
      },
      {
       "html": [
        "<pre>PROGRESS: | 1       | 0.184205          | Not Viable                               |</pre>"
       ],
       "metadata": {},
       "output_type": "display_data",
       "text": [
        "PROGRESS: | 1       | 0.184205          | Not Viable                               |"
       ]
      },
      {
       "html": [
        "<pre>PROGRESS: | 2       | 0.0460513         | 1.43195                                  |</pre>"
       ],
       "metadata": {},
       "output_type": "display_data",
       "text": [
        "PROGRESS: | 2       | 0.0460513         | 1.43195                                  |"
       ]
      },
      {
       "html": [
        "<pre>PROGRESS: | 3       | 0.0230256         | 1.49754                                  |</pre>"
       ],
       "metadata": {},
       "output_type": "display_data",
       "text": [
        "PROGRESS: | 3       | 0.0230256         | 1.49754                                  |"
       ]
      },
      {
       "html": [
        "<pre>PROGRESS: | 4       | 0.0115128         | 1.51573                                  |</pre>"
       ],
       "metadata": {},
       "output_type": "display_data",
       "text": [
        "PROGRESS: | 4       | 0.0115128         | 1.51573                                  |"
       ]
      },
      {
       "html": [
        "<pre>PROGRESS: | 5       | 0.00575641        | 1.55046                                  |</pre>"
       ],
       "metadata": {},
       "output_type": "display_data",
       "text": [
        "PROGRESS: | 5       | 0.00575641        | 1.55046                                  |"
       ]
      },
      {
       "html": [
        "<pre>PROGRESS: +---------+-------------------+------------------------------------------+</pre>"
       ],
       "metadata": {},
       "output_type": "display_data",
       "text": [
        "PROGRESS: +---------+-------------------+------------------------------------------+"
       ]
      },
      {
       "html": [
        "<pre>PROGRESS: | Final   | 0.0460513         | 1.43195                                  |</pre>"
       ],
       "metadata": {},
       "output_type": "display_data",
       "text": [
        "PROGRESS: | Final   | 0.0460513         | 1.43195                                  |"
       ]
      },
      {
       "html": [
        "<pre>PROGRESS: +---------+-------------------+------------------------------------------+</pre>"
       ],
       "metadata": {},
       "output_type": "display_data",
       "text": [
        "PROGRESS: +---------+-------------------+------------------------------------------+"
       ]
      },
      {
       "html": [
        "<pre>PROGRESS: Starting Optimization.</pre>"
       ],
       "metadata": {},
       "output_type": "display_data",
       "text": [
        "PROGRESS: Starting Optimization."
       ]
      },
      {
       "html": [
        "<pre>PROGRESS: +---------+--------------+-------------------+-----------------------+-------------+</pre>"
       ],
       "metadata": {},
       "output_type": "display_data",
       "text": [
        "PROGRESS: +---------+--------------+-------------------+-----------------------+-------------+"
       ]
      },
      {
       "html": [
        "<pre>PROGRESS: | Iter.   | Elapsed Time | Approx. Objective | Approx. Training RMSE | Step Size   |</pre>"
       ],
       "metadata": {},
       "output_type": "display_data",
       "text": [
        "PROGRESS: | Iter.   | Elapsed Time | Approx. Objective | Approx. Training RMSE | Step Size   |"
       ]
      },
      {
       "html": [
        "<pre>PROGRESS: +---------+--------------+-------------------+-----------------------+-------------+</pre>"
       ],
       "metadata": {},
       "output_type": "display_data",
       "text": [
        "PROGRESS: +---------+--------------+-------------------+-----------------------+-------------+"
       ]
      },
      {
       "html": [
        "<pre>PROGRESS: | Initial | 276us        | 2.21269           | 1.06232               |             |</pre>"
       ],
       "metadata": {},
       "output_type": "display_data",
       "text": [
        "PROGRESS: | Initial | 276us        | 2.21269           | 1.06232               |             |"
       ]
      },
      {
       "html": [
        "<pre>PROGRESS: +---------+--------------+-------------------+-----------------------+-------------+</pre>"
       ],
       "metadata": {},
       "output_type": "display_data",
       "text": [
        "PROGRESS: +---------+--------------+-------------------+-----------------------+-------------+"
       ]
      },
      {
       "html": [
        "<pre>PROGRESS: | 1       | 3.03s        | DIVERGED          | DIVERGED              | 0.0460513   |</pre>"
       ],
       "metadata": {},
       "output_type": "display_data",
       "text": [
        "PROGRESS: | 1       | 3.03s        | DIVERGED          | DIVERGED              | 0.0460513   |"
       ]
      },
      {
       "html": [
        "<pre>PROGRESS: | RESET   | 3.87s        | 2.21268           | 1.06232               |             |</pre>"
       ],
       "metadata": {},
       "output_type": "display_data",
       "text": [
        "PROGRESS: | RESET   | 3.87s        | 2.21268           | 1.06232               |             |"
       ]
      },
      {
       "html": [
        "<pre>PROGRESS: | 1       | 6.10s        | 1.76515           | 1.04168               | 0.0230256   |</pre>"
       ],
       "metadata": {},
       "output_type": "display_data",
       "text": [
        "PROGRESS: | 1       | 6.10s        | 1.76515           | 1.04168               | 0.0230256   |"
       ]
      },
      {
       "html": [
        "<pre>PROGRESS: | 2       | 8.29s        | 1.496             | 0.988318              | 0.00697202  |</pre>"
       ],
       "metadata": {},
       "output_type": "display_data",
       "text": [
        "PROGRESS: | 2       | 8.29s        | 1.496             | 0.988318              | 0.00697202  |"
       ]
      },
      {
       "html": [
        "<pre>PROGRESS: | 3       | 10.55s       | 1.39915           | 0.943215              | 0.00410794  |</pre>"
       ],
       "metadata": {},
       "output_type": "display_data",
       "text": [
        "PROGRESS: | 3       | 10.55s       | 1.39915           | 0.943215              | 0.00410794  |"
       ]
      },
      {
       "html": [
        "<pre>PROGRESS: | 4       | 12.88s       | 1.37948           | 0.937378              | 0.00291179  |</pre>"
       ],
       "metadata": {},
       "output_type": "display_data",
       "text": [
        "PROGRESS: | 4       | 12.88s       | 1.37948           | 0.937378              | 0.00291179  |"
       ]
      },
      {
       "html": [
        "<pre>PROGRESS: | 5       | 15.09s       | 1.3731            | 0.934749              | 0.00225514  |</pre>"
       ],
       "metadata": {},
       "output_type": "display_data",
       "text": [
        "PROGRESS: | 5       | 15.09s       | 1.3731            | 0.934749              | 0.00225514  |"
       ]
      },
      {
       "html": [
        "<pre>PROGRESS: | 6       | 17.39s       | 1.36922           | 0.933352              | 0.00184015  |</pre>"
       ],
       "metadata": {},
       "output_type": "display_data",
       "text": [
        "PROGRESS: | 6       | 17.39s       | 1.36922           | 0.933352              | 0.00184015  |"
       ]
      },
      {
       "html": [
        "<pre>PROGRESS: | 7       | 19.99s       | 1.36645           | 0.932667              | 0.00155416  |</pre>"
       ],
       "metadata": {},
       "output_type": "display_data",
       "text": [
        "PROGRESS: | 7       | 19.99s       | 1.36645           | 0.932667              | 0.00155416  |"
       ]
      },
      {
       "html": [
        "<pre>PROGRESS: | 8       | 22.60s       | 1.36499           | 0.932007              | 0.00134511  |</pre>"
       ],
       "metadata": {},
       "output_type": "display_data",
       "text": [
        "PROGRESS: | 8       | 22.60s       | 1.36499           | 0.932007              | 0.00134511  |"
       ]
      },
      {
       "html": [
        "<pre>PROGRESS: | 9       | 24.99s       | 1.36376           | 0.93172               | 0.00118563  |</pre>"
       ],
       "metadata": {},
       "output_type": "display_data",
       "text": [
        "PROGRESS: | 9       | 24.99s       | 1.36376           | 0.93172               | 0.00118563  |"
       ]
      },
      {
       "html": [
        "<pre>PROGRESS: | 10      | 27.20s       | 1.36259           | 0.931271              | 0.00105996  |</pre>"
       ],
       "metadata": {},
       "output_type": "display_data",
       "text": [
        "PROGRESS: | 10      | 27.20s       | 1.36259           | 0.931271              | 0.00105996  |"
       ]
      },
      {
       "html": [
        "<pre>PROGRESS: | 11      | 29.41s       | 1.36159           | 0.931036              | 0.000958373 |</pre>"
       ],
       "metadata": {},
       "output_type": "display_data",
       "text": [
        "PROGRESS: | 11      | 29.41s       | 1.36159           | 0.931036              | 0.000958373 |"
       ]
      },
      {
       "html": [
        "<pre>PROGRESS: | 12      | 31.63s       | 1.36065           | 0.930814              | 0.000874557 |</pre>"
       ],
       "metadata": {},
       "output_type": "display_data",
       "text": [
        "PROGRESS: | 12      | 31.63s       | 1.36065           | 0.930814              | 0.000874557 |"
       ]
      },
      {
       "html": [
        "<pre>PROGRESS: | 13      | 33.93s       | 1.36026           | 0.930647              | 0.000804223 |</pre>"
       ],
       "metadata": {},
       "output_type": "display_data",
       "text": [
        "PROGRESS: | 13      | 33.93s       | 1.36026           | 0.930647              | 0.000804223 |"
       ]
      },
      {
       "html": [
        "<pre>PROGRESS: | 14      | 36.12s       | 1.35963           | 0.930484              | 0.000744359 |</pre>"
       ],
       "metadata": {},
       "output_type": "display_data",
       "text": [
        "PROGRESS: | 14      | 36.12s       | 1.35963           | 0.930484              | 0.000744359 |"
       ]
      },
      {
       "html": [
        "<pre>PROGRESS: | 15      | 38.33s       | 1.35922           | 0.93036               | 0.000692791 |</pre>"
       ],
       "metadata": {},
       "output_type": "display_data",
       "text": [
        "PROGRESS: | 15      | 38.33s       | 1.35922           | 0.93036               | 0.000692791 |"
       ]
      },
      {
       "html": [
        "<pre>PROGRESS: | 16      | 40.55s       | 1.35868           | 0.930279              | 0.000647904 |</pre>"
       ],
       "metadata": {},
       "output_type": "display_data",
       "text": [
        "PROGRESS: | 16      | 40.55s       | 1.35868           | 0.930279              | 0.000647904 |"
       ]
      },
      {
       "html": [
        "<pre>PROGRESS: | 17      | 42.76s       | 1.35827           | 0.930106              | 0.00060848  |</pre>"
       ],
       "metadata": {},
       "output_type": "display_data",
       "text": [
        "PROGRESS: | 17      | 42.76s       | 1.35827           | 0.930106              | 0.00060848  |"
       ]
      },
      {
       "html": [
        "<pre>PROGRESS: | 18      | 44.96s       | 1.35792           | 0.930096              | 0.000573579 |</pre>"
       ],
       "metadata": {},
       "output_type": "display_data",
       "text": [
        "PROGRESS: | 18      | 44.96s       | 1.35792           | 0.930096              | 0.000573579 |"
       ]
      },
      {
       "html": [
        "<pre>PROGRESS: | 19      | 47.17s       | 1.35757           | 0.929963              | 0.000542464 |</pre>"
       ],
       "metadata": {},
       "output_type": "display_data",
       "text": [
        "PROGRESS: | 19      | 47.17s       | 1.35757           | 0.929963              | 0.000542464 |"
       ]
      },
      {
       "html": [
        "<pre>PROGRESS: | 20      | 49.37s       | 1.35714           | 0.929868              | 0.000514551 |</pre>"
       ],
       "metadata": {},
       "output_type": "display_data",
       "text": [
        "PROGRESS: | 20      | 49.37s       | 1.35714           | 0.929868              | 0.000514551 |"
       ]
      },
      {
       "html": [
        "<pre>PROGRESS: | 21      | 51.57s       | 1.357             | 0.929816              | 0.000489371 |</pre>"
       ],
       "metadata": {},
       "output_type": "display_data",
       "text": [
        "PROGRESS: | 21      | 51.57s       | 1.357             | 0.929816              | 0.000489371 |"
       ]
      },
      {
       "html": [
        "<pre>PROGRESS: | 22      | 53.79s       | 1.35692           | 0.929796              | 0.000466539 |</pre>"
       ],
       "metadata": {},
       "output_type": "display_data",
       "text": [
        "PROGRESS: | 22      | 53.79s       | 1.35692           | 0.929796              | 0.000466539 |"
       ]
      },
      {
       "html": [
        "<pre>PROGRESS: | 23      | 56.00s       | 1.35664           | 0.929771              | 0.000445744 |</pre>"
       ],
       "metadata": {},
       "output_type": "display_data",
       "text": [
        "PROGRESS: | 23      | 56.00s       | 1.35664           | 0.929771              | 0.000445744 |"
       ]
      },
      {
       "html": [
        "<pre>PROGRESS: | 24      | 58.17s       | 1.3567            | 0.929697              | 0.000426723 |</pre>"
       ],
       "metadata": {},
       "output_type": "display_data",
       "text": [
        "PROGRESS: | 24      | 58.17s       | 1.3567            | 0.929697              | 0.000426723 |"
       ]
      },
      {
       "html": [
        "<pre>PROGRESS: | 25      | 1m 0s        | 1.35615           | 0.929617              | 0.000407887 |</pre>"
       ],
       "metadata": {},
       "output_type": "display_data",
       "text": [
        "PROGRESS: | 25      | 1m 0s        | 1.35615           | 0.929617              | 0.000407887 |"
       ]
      },
      {
       "html": [
        "<pre>PROGRESS: | 26      | 1m 2s        | 1.35614           | 0.929608              | 0.000390406 |</pre>"
       ],
       "metadata": {},
       "output_type": "display_data",
       "text": [
        "PROGRESS: | 26      | 1m 2s        | 1.35614           | 0.929608              | 0.000390406 |"
       ]
      },
      {
       "html": [
        "<pre>PROGRESS: | 27      | 1m 4s        | 1.35604           | 0.92957               | 0.000374104 |</pre>"
       ],
       "metadata": {},
       "output_type": "display_data",
       "text": [
        "PROGRESS: | 27      | 1m 4s        | 1.35604           | 0.92957               | 0.000374104 |"
       ]
      },
      {
       "html": [
        "<pre>PROGRESS: | 28      | 1m 7s        | 1.35573           | 0.929503              | 0.000360613 |</pre>"
       ],
       "metadata": {},
       "output_type": "display_data",
       "text": [
        "PROGRESS: | 28      | 1m 7s        | 1.35573           | 0.929503              | 0.000360613 |"
       ]
      },
      {
       "html": [
        "<pre>PROGRESS: | 29      | 1m 9s        | 1.35573           | 0.929508              | 0.000348061 |</pre>"
       ],
       "metadata": {},
       "output_type": "display_data",
       "text": [
        "PROGRESS: | 29      | 1m 9s        | 1.35573           | 0.929508              | 0.000348061 |"
       ]
      },
      {
       "html": [
        "<pre>PROGRESS: | 30      | 1m 11s       | 1.35551           | 0.929469              | 0.000336354 |</pre>"
       ],
       "metadata": {},
       "output_type": "display_data",
       "text": [
        "PROGRESS: | 30      | 1m 11s       | 1.35551           | 0.929469              | 0.000336354 |"
       ]
      },
      {
       "html": [
        "<pre>PROGRESS: | 31      | 1m 13s       | 1.3554            | 0.929429              | 0.000325409 |</pre>"
       ],
       "metadata": {},
       "output_type": "display_data",
       "text": [
        "PROGRESS: | 31      | 1m 13s       | 1.3554            | 0.929429              | 0.000325409 |"
       ]
      },
      {
       "html": [
        "<pre>PROGRESS: | 32      | 1m 15s       | 1.3553            | 0.929405              | 0.000315153 |</pre>"
       ],
       "metadata": {},
       "output_type": "display_data",
       "text": [
        "PROGRESS: | 32      | 1m 15s       | 1.3553            | 0.929405              | 0.000315153 |"
       ]
      },
      {
       "html": [
        "<pre>PROGRESS: | 33      | 1m 18s       | 1.35519           | 0.929338              | 0.000305525 |</pre>"
       ],
       "metadata": {},
       "output_type": "display_data",
       "text": [
        "PROGRESS: | 33      | 1m 18s       | 1.35519           | 0.929338              | 0.000305525 |"
       ]
      },
      {
       "html": [
        "<pre>PROGRESS: | 34      | 1m 20s       | 1.35522           | 0.92938               | 0.000296467 |</pre>"
       ],
       "metadata": {},
       "output_type": "display_data",
       "text": [
        "PROGRESS: | 34      | 1m 20s       | 1.35522           | 0.92938               | 0.000296467 |"
       ]
      },
      {
       "html": [
        "<pre>PROGRESS: | 35      | 1m 22s       | 1.35495           | 0.929319              | 0.000286789 |</pre>"
       ],
       "metadata": {},
       "output_type": "display_data",
       "text": [
        "PROGRESS: | 35      | 1m 22s       | 1.35495           | 0.929319              | 0.000286789 |"
       ]
      },
      {
       "html": [
        "<pre>PROGRESS: | 36      | 1m 24s       | 1.35502           | 0.929336              | 0.000277522 |</pre>"
       ],
       "metadata": {},
       "output_type": "display_data",
       "text": [
        "PROGRESS: | 36      | 1m 24s       | 1.35502           | 0.929336              | 0.000277522 |"
       ]
      },
      {
       "html": [
        "<pre>PROGRESS: | 37      | 1m 26s       | 1.3547            | 0.929303              | 0.000268611 |</pre>"
       ],
       "metadata": {},
       "output_type": "display_data",
       "text": [
        "PROGRESS: | 37      | 1m 26s       | 1.3547            | 0.929303              | 0.000268611 |"
       ]
      },
      {
       "html": [
        "<pre>PROGRESS: | 38      | 1m 29s       | 1.35472           | 0.929248              | 0.000260004 |</pre>"
       ],
       "metadata": {},
       "output_type": "display_data",
       "text": [
        "PROGRESS: | 38      | 1m 29s       | 1.35472           | 0.929248              | 0.000260004 |"
       ]
      },
      {
       "html": [
        "<pre>PROGRESS: | 39      | 1m 31s       | 1.35461           | 0.929242              | 0.000251652 |</pre>"
       ],
       "metadata": {},
       "output_type": "display_data",
       "text": [
        "PROGRESS: | 39      | 1m 31s       | 1.35461           | 0.929242              | 0.000251652 |"
       ]
      },
      {
       "html": [
        "<pre>PROGRESS: | 40      | 1m 33s       | 1.35469           | 0.929233              | 0.00024351  |</pre>"
       ],
       "metadata": {},
       "output_type": "display_data",
       "text": [
        "PROGRESS: | 40      | 1m 33s       | 1.35469           | 0.929233              | 0.00024351  |"
       ]
      },
      {
       "html": [
        "<pre>PROGRESS: | 41      | 1m 35s       | 1.35429           | 0.929219              | 0.000235532 |</pre>"
       ],
       "metadata": {},
       "output_type": "display_data",
       "text": [
        "PROGRESS: | 41      | 1m 35s       | 1.35429           | 0.929219              | 0.000235532 |"
       ]
      },
      {
       "html": [
        "<pre>PROGRESS: | 42      | 1m 38s       | 1.35422           | 0.929119              | 0.000207464 |</pre>"
       ],
       "metadata": {},
       "output_type": "display_data",
       "text": [
        "PROGRESS: | 42      | 1m 38s       | 1.35422           | 0.929119              | 0.000207464 |"
       ]
      },
      {
       "html": [
        "<pre>PROGRESS: | 43      | 1m 40s       | 1.35385           | 0.928963              | 0.000171404 |</pre>"
       ],
       "metadata": {},
       "output_type": "display_data",
       "text": [
        "PROGRESS: | 43      | 1m 40s       | 1.35385           | 0.928963              | 0.000171404 |"
       ]
      },
      {
       "html": [
        "<pre>PROGRESS: | 44      | 1m 42s       | 1.35384           | 0.928982              | 0.000168474 |</pre>"
       ],
       "metadata": {},
       "output_type": "display_data",
       "text": [
        "PROGRESS: | 44      | 1m 42s       | 1.35384           | 0.928982              | 0.000168474 |"
       ]
      },
      {
       "html": [
        "<pre>PROGRESS: | 45      | 1m 44s       | 1.35377           | 0.928969              | 0.000165658 |</pre>"
       ],
       "metadata": {},
       "output_type": "display_data",
       "text": [
        "PROGRESS: | 45      | 1m 44s       | 1.35377           | 0.928969              | 0.000165658 |"
       ]
      },
      {
       "html": [
        "<pre>PROGRESS: | 46      | 1m 46s       | 1.35392           | 0.928978              | 0.00016295  |</pre>"
       ],
       "metadata": {},
       "output_type": "display_data",
       "text": [
        "PROGRESS: | 46      | 1m 46s       | 1.35392           | 0.928978              | 0.00016295  |"
       ]
      },
      {
       "html": [
        "<pre>PROGRESS: | 47      | 1m 49s       | 1.35343           | 0.928864              | 0.000134831 |</pre>"
       ],
       "metadata": {},
       "output_type": "display_data",
       "text": [
        "PROGRESS: | 47      | 1m 49s       | 1.35343           | 0.928864              | 0.000134831 |"
       ]
      },
      {
       "html": [
        "<pre>PROGRESS: | 48      | 1m 51s       | 1.35317           | 0.928789              | 0.000111603 |</pre>"
       ],
       "metadata": {},
       "output_type": "display_data",
       "text": [
        "PROGRESS: | 48      | 1m 51s       | 1.35317           | 0.928789              | 0.000111603 |"
       ]
      },
      {
       "html": [
        "<pre>PROGRESS: | 49      | 1m 53s       | 1.35328           | 0.928718              | 9.24064e-05 |</pre>"
       ],
       "metadata": {},
       "output_type": "display_data",
       "text": [
        "PROGRESS: | 49      | 1m 53s       | 1.35328           | 0.928718              | 9.24064e-05 |"
       ]
      },
      {
       "html": [
        "<pre>PROGRESS: | 50      | 1m 55s       | 1.35305           | 0.928652              | 7.65357e-05 |</pre>"
       ],
       "metadata": {},
       "output_type": "display_data",
       "text": [
        "PROGRESS: | 50      | 1m 55s       | 1.35305           | 0.928652              | 7.65357e-05 |"
       ]
      },
      {
       "html": [
        "<pre>PROGRESS: +---------+--------------+-------------------+-----------------------+-------------+</pre>"
       ],
       "metadata": {},
       "output_type": "display_data",
       "text": [
        "PROGRESS: +---------+--------------+-------------------+-----------------------+-------------+"
       ]
      },
      {
       "html": [
        "<pre>PROGRESS: Optimization Complete: Maximum number of passes through the data reached.</pre>"
       ],
       "metadata": {},
       "output_type": "display_data",
       "text": [
        "PROGRESS: Optimization Complete: Maximum number of passes through the data reached."
       ]
      },
      {
       "html": [
        "<pre>PROGRESS: Computing final objective value and training RMSE.</pre>"
       ],
       "metadata": {},
       "output_type": "display_data",
       "text": [
        "PROGRESS: Computing final objective value and training RMSE."
       ]
      },
      {
       "html": [
        "<pre>PROGRESS:        Final objective value: 1.36312</pre>"
       ],
       "metadata": {},
       "output_type": "display_data",
       "text": [
        "PROGRESS:        Final objective value: 1.36312"
       ]
      },
      {
       "html": [
        "<pre>PROGRESS:        Final training RMSE: 0.929411</pre>"
       ],
       "metadata": {},
       "output_type": "display_data",
       "text": [
        "PROGRESS:        Final training RMSE: 0.929411"
       ]
      }
     ],
     "prompt_number": 11
    },
    {
     "cell_type": "markdown",
     "metadata": {},
     "source": [
      "Let see what recommendations we get for our action lover."
     ]
    },
    {
     "cell_type": "code",
     "collapsed": false,
     "input": [
      "# Show recommendations for the action lover.\n",
      "recommendations = m.recommend(gl.SArray([action_user]), k=40)\n",
      "print recommendations['movie']"
     ],
     "language": "python",
     "metadata": {},
     "outputs": [
      {
       "output_type": "stream",
       "stream": "stdout",
       "text": [
        "['Lord of the Rings: The Return of the King: Extended Edition', 'The Lord of the Rings: The Fellowship of the Ring: Extended Edition', 'Lord of the Rings: The Return of the King', 'Lord of the Rings: The Two Towers: Extended Edition', 'Star Wars: Episode V: The Empire Strikes Back', 'Lord of the Rings: The Two Towers', 'Raiders of the Lost Ark', 'Star Wars: Episode IV: A New Hope', 'The Shawshank Redemption: Special Edition', 'Lord of the Rings: The Fellowship of the Ring', 'Star Wars: Episode VI: Return of the Jedi', 'GoodFellas: Special Edition', 'The Silence of the Lambs', 'Band of Brothers', 'Pulp Fiction', 'The Godfather', 'The Usual Suspects', 'Full Metal Jacket', 'Seven', 'The Terminator', 'The Sopranos: Season 1', 'Scarface: 20th Anniversary Edition', 'The Sopranos: Season 2', 'The Incredibles', \"National Lampoon's Animal House\", 'Die Hard', 'Batman Begins', 'Terminator 2: Extreme Edition', 'Forrest Gump', 'The Sixth Sense', 'Caddyshack', \"Schindler's List\", 'The Sopranos: Season 4', 'The Green Mile', 'The Sopranos: Season 3', \"Aliens: Collector's Edition\", 'Reservoir Dogs', 'Indiana Jones and the Temple of Doom', 'The Shining', \"Alien: Collector's Edition\"]\n"
       ]
      }
     ],
     "prompt_number": 12
    },
    {
     "cell_type": "markdown",
     "metadata": {},
     "source": [
      "Let see what recommendations we get for our romance lover."
     ]
    },
    {
     "cell_type": "code",
     "collapsed": false,
     "input": [
      "# Show recommendations for the romance lover.\n",
      "recommendations = m.recommend(gl.SArray([romantic_user]), k=40)\n",
      "print recommendations['movie']"
     ],
     "language": "python",
     "metadata": {},
     "outputs": [
      {
       "output_type": "stream",
       "stream": "stdout",
       "text": [
        "['Sex and the City: Season 6: Part 1', 'Steel Magnolias', 'Sex and the City: Season 6: Part 2', 'Sex and the City: Season 4', 'Sex and the City: Season 5', 'Sex and the City: Season 3', 'Sex and the City: Season 2', 'The Sound of Music', 'Fried Green Tomatoes', 'Sex and the City: Season 1', 'The Notebook', 'Finding Nemo (Widescreen)', \"Gone with the Wind: Collector's Edition\", 'Sense and Sensibility', 'Beaches', 'Hotel Rwanda', 'The Shawshank Redemption: Special Edition', 'Pride and Prejudice', 'My Big Fat Greek Wedding', 'When Harry Met Sally', 'Dirty Dancing', \"Schindler's List\", 'Mary Poppins', 'My Fair Lady: Special Edition', 'Chocolat', 'Bend It Like Beckham', \"Bridget Jones's Diary\", 'Erin Brockovich', 'To Kill a Mockingbird', \"The Wizard of Oz: Collector's Edition\", \"Something's Gotta Give\", 'Philadelphia', 'Shrek (Full-screen)', 'Finding Neverland', 'The Sixth Sense', 'Terms of Endearment', 'Calendar Girls', 'Life Is Beautiful', 'Lord of the Rings: The Return of the King: Extended Edition', 'The Lord of the Rings: The Fellowship of the Ring: Extended Edition']\n"
       ]
      }
     ],
     "prompt_number": 13
    },
    {
     "cell_type": "markdown",
     "metadata": {},
     "source": [
      "Looks good to me, especially considering these users haven't rated many movies!\n",
      "\n",
      "(Looking for more details about the modules and functions? Check out the <a href=\"https://turi.com/products/create/docs/\">API docs</a>.)"
     ]
    }
   ],
   "metadata": {}
  }
 ]
}