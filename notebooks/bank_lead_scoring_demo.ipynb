{
 "cells": [
  {
   "cell_type": "markdown",
   "metadata": {},
   "source": [
    "# Know your customer - marketing a new product to customers"
   ]
  },
  {
   "cell_type": "markdown",
   "metadata": {},
   "source": [
    "### Data Source:\n",
    "[Moro et al., 2014] S. Moro, P. Cortez and P. Rita. A Data-Driven Approach to Predict the Success of Bank Telemarketing. Decision Support Systems, Elsevier, 62:22-31, June 2014\n",
    "\n",
    "Dataset description from the UCI ML Repository: https://archive.ics.uci.edu/ml/datasets/Bank+Marketing"
   ]
  },
  {
   "cell_type": "markdown",
   "metadata": {},
   "source": [
    "## Load Data"
   ]
  },
  {
   "cell_type": "code",
   "execution_count": 191,
   "metadata": {
    "collapsed": false
   },
   "outputs": [],
   "source": [
    "import graphlab as gl"
   ]
  },
  {
   "cell_type": "code",
   "execution_count": 192,
   "metadata": {
    "collapsed": false
   },
   "outputs": [],
   "source": [
    "# already stored dataset locally as Turi SFrame\n",
    "train = gl.SFrame('bankCustomerTrain.sf')\n",
    "test = gl.SFrame('bankCustomerTest.sf')\n",
    "\n",
    "# data = graphlab.SFrame('s3://' or 'hdfs://')\n",
    "# data # pySpark RDD or SchemaRDD / Spark DataFrame\n",
    "# data = graphlab.SFrame.read_json('')\n",
    "# With a DB: configure ODBC manager / driver on the machine\n",
    "#    graphlab.connect_odbc?\n",
    "#    graphlab.from_sql?"
   ]
  },
  {
   "cell_type": "markdown",
   "metadata": {},
   "source": [
    "## Data Dictionary\n",
    "The original dataset came with the following attribute information:\n",
    "\n",
    "\n",
    "| Field Num | Field Name | Description |\n",
    "|---|---|---|\n",
    "| 1 | age | (numeric) |\n",
    "| 2 | job | type of job (categorical: 'admin.','blue-collar','entrepreneur','housemaid','management','retired','self-employed','services','student','technician','unemployed','unknown')|\n",
    "| 3 | marital | marital status (categorical: 'divorced','married','single','unknown'; note: 'divorced' means divorced or widowed) |\n",
    "| 4 | education | (categorical: 'basic.4y','basic.6y','basic.9y','high.school','illiterate','professional.course','university.degree','unknown') |\n",
    "| 5 | default | has credit in default? (categorical: 'no','yes','unknown') |\n",
    "| 6 | housing | has housing loan? (categorical: 'no','yes','unknown') |\n",
    "| 7 | loan | has personal loan? (categorical: 'no','yes','unknown') |\n",
    "|---|---|---|\n",
    "| 8 | contact | contact communication type (categorical: 'cellular','telephone') |\n",
    "| 9 | month | last contact month of year (categorical: 'jan', 'feb', 'mar', ..., 'nov', 'dec') |\n",
    "| 10 | day_of_week | last contact day of the week (categorical: 'mon','tue','wed','thu','fri') |\n",
    "| 11 | duration | last contact duration, in seconds (numeric). Important note: this attribute highly affects the output target (e.g., if duration=0 then y='no'). Yet, the duration is not known before a call is performed. Also, after the end of the call y is obviously known. Thus, this input should only be included for benchmark purposes and should be discarded if the intention is to have a realistic predictive model. |\n",
    "|---|---|---|\n",
    "| 12 | campaign | number of contacts performed during this campaign and for this client (numeric, includes last contact) |\n",
    "| 13 | pdays | number of days that passed by after the client was last contacted from a previous campaign (numeric; 999 means client was not previously contacted) |\n",
    "| 14 | previous | number of contacts performed before this campaign and for this client (numeric) |\n",
    "| 15 | poutcome | outcome of the previous marketing campaign (categorical: 'failure','nonexistent','success') |\n",
    "|---|---|---|\n",
    "| 16 | emp.var.rate | employment variation rate - quarterly indicator (numeric) |\n",
    "| 17 | cons.price.idx | consumer price index - monthly indicator (numeric) |\n",
    "| 18 | cons.conf.idx | consumer confidence index - monthly indicator (numeric) |\n",
    "| 19 | euribor3m | euribor 3 month rate - daily indicator (numeric) |\n",
    "| 20 | nr.employed | number of employees - quarterly indicator (numeric) |\n",
    "|---|---|---|\n",
    "| **21** | **y** | **has the client subscribed a term deposit? (binary: 'yes','no')**|"
   ]
  },
  {
   "cell_type": "markdown",
   "metadata": {},
   "source": [
    "## Data Exploration - get a sense of the data with GraphLab Canvas"
   ]
  },
  {
   "cell_type": "code",
   "execution_count": 193,
   "metadata": {
    "collapsed": false,
    "slideshow": {
     "slide_type": "slide"
    }
   },
   "outputs": [
    {
     "name": "stdout",
     "output_type": "stream",
     "text": [
      "Canvas is accessible via web browser at the URL: http://localhost:53104/index.html\n",
      "Opening Canvas in default web browser.\n"
     ]
    }
   ],
   "source": [
    "gl.canvas.set_target('browser')\n",
    "train.show()"
   ]
  },
  {
   "cell_type": "markdown",
   "metadata": {},
   "source": [
    "## ROI Calculation - how we will measure the effectiveness of our lead scoring model"
   ]
  },
  {
   "cell_type": "markdown",
   "metadata": {},
   "source": [
    "Before we start, let's assume that each phone call to a contact costs \\$1 and that the customer lifetime value for a contact that purchases a term deposit is \\$100. Then the ROI for calling all the customers in our training dataset is:"
   ]
  },
  {
   "cell_type": "code",
   "execution_count": 194,
   "metadata": {
    "collapsed": true
   },
   "outputs": [],
   "source": [
    "def calc_call_roi(contactList, leadScore, percentToCall):\n",
    "    #assumptions\n",
    "    costOfCall = 1.00\n",
    "    custLTV = 100.00\n",
    "    \n",
    "    numberCalls = int(len(contactList)*percentToCall)\n",
    "    if 'lead_score' in contactList.column_names():\n",
    "        contactList.remove_column('lead_score')\n",
    "    contactList = contactList.add_column(leadScore,name='lead_score')\n",
    "    sortedByModel = contactList.sort('lead_score', ascending=False)\n",
    "    callList = sortedByModel[:numberCalls]\n",
    "    numSubscriptions = len(callList[callList['y']=='yes']) \n",
    "    roi = (numSubscriptions*custLTV - numberCalls*costOfCall) / (numberCalls*costOfCall)\n",
    "    return roi"
   ]
  },
  {
   "cell_type": "markdown",
   "metadata": {},
   "source": [
    "### Call everyone (assuming you have budget & time), ROI is 9.59%"
   ]
  },
  {
   "cell_type": "code",
   "execution_count": 195,
   "metadata": {
    "collapsed": false,
    "scrolled": true
   },
   "outputs": [
    {
     "name": "stdout",
     "output_type": "stream",
     "text": [
      "ROI for calling all contacts: 9.59%\n"
     ]
    }
   ],
   "source": [
    "initLeadScores = gl.SArray([1 for _ in test])\n",
    "initROI = calc_call_roi(test, initLeadScores, 1)\n",
    "print 'ROI for calling all contacts: ' + '{0:.2f}'.format(initROI) + '%'"
   ]
  },
  {
   "cell_type": "markdown",
   "metadata": {},
   "source": [
    "### Call only the first 20%, ROI drops to 1.47%"
   ]
  },
  {
   "cell_type": "code",
   "execution_count": 196,
   "metadata": {
    "collapsed": false
   },
   "outputs": [
    {
     "name": "stdout",
     "output_type": "stream",
     "text": [
      "ROI for calling a 20% subset of contacts: 1.47%\n"
     ]
    }
   ],
   "source": [
    "initLeadScores = gl.SArray([1 for _ in test])\n",
    "initROI = calc_call_roi(test, initLeadScores, 0.2)\n",
    "print 'ROI for calling a 20% subset of contacts: ' + '{0:.2f}'.format(initROI) + '%'"
   ]
  },
  {
   "cell_type": "markdown",
   "metadata": {},
   "source": [
    "## Modeling Part 1 - Query Data for customer segment - age less than median age of 38."
   ]
  },
  {
   "cell_type": "markdown",
   "metadata": {},
   "source": [
    "The SFrame, one of Turi's underlying data structures, allows users to build flexible pipelines. Here we show how to quickly retrieve the percentage of clients who are going to make a deposit along with the percentage of clients who represent the specific demographic of single students."
   ]
  },
  {
   "cell_type": "code",
   "execution_count": 197,
   "metadata": {
    "collapsed": false
   },
   "outputs": [
    {
     "name": "stdout",
     "output_type": "stream",
     "text": [
      "11.43% of clients in training set opened deposit accounts.\n",
      "12.16% clients with age < 38 (median) opened deposit account.\n"
     ]
    }
   ],
   "source": [
    "numClients = float(len(train))\n",
    "numY = gl.Sketch(train['y']).frequency_count('yes')\n",
    "print \"%.2f%% of clients in training set opened deposit accounts.\" % (numY/numClients*100.0)\n",
    "\n",
    "medianAge = gl.Sketch(train['age']).quantile(0.5)\n",
    "numUnderMedianAge = float(len(train[train['age']<medianAge]))\n",
    "numPurchasingAndUnderMedianAge = sum(train.apply(lambda x: 1 if x['age'] < medianAge \n",
    "                                           and x['y'] == 'yes' else 0))\n",
    "probYGivenUnderMedianAge = numPurchasingAndUnderMedianAge/numUnderMedianAge*100\n",
    "\n",
    "print \"%.2f%% clients with age < %g (median) opened deposit account.\" % (probYGivenUnderMedianAge, medianAge)"
   ]
  },
  {
   "cell_type": "markdown",
   "metadata": {},
   "source": [
    "### From this analysis we see that a larger percentage of people under 38 opened accounts than overall. So let's target them as leads and measure our ROI."
   ]
  },
  {
   "cell_type": "code",
   "execution_count": 198,
   "metadata": {
    "collapsed": false
   },
   "outputs": [
    {
     "name": "stdout",
     "output_type": "stream",
     "text": [
      "ROI for age targeted calls to 20% of contacts: 15.71%\n"
     ]
    }
   ],
   "source": [
    "ageTargetingROI = calc_call_roi(test, test['age'].apply(lambda x: 1 if x < medianAge else 0), 0.2)\n",
    "print 'ROI for age targeted calls to 20% of contacts: ' + '{0:.2f}'.format(ageTargetingROI) + '%'"
   ]
  },
  {
   "cell_type": "markdown",
   "metadata": {},
   "source": [
    "### ROI for age targeted 20% of contacts: 15.71% - big jump over calling everyone and huge jump over random 20% - this is a good start, but we can do better."
   ]
  },
  {
   "cell_type": "markdown",
   "metadata": {},
   "source": [
    "## Modeling Part 2 - Train a Machine Learning model instead - learn from ALL features, not just age, use GraphLab Create AutoML to choose the most effective classifer model automatically."
   ]
  },
  {
   "cell_type": "code",
   "execution_count": 199,
   "metadata": {
    "collapsed": false,
    "slideshow": {
     "slide_type": "slide"
    }
   },
   "outputs": [],
   "source": [
    "# remove features that give away results/prediction\n",
    "features = train.column_names()\n",
    "features.remove('duration')\n",
    "features.remove('y')"
   ]
  },
  {
   "cell_type": "markdown",
   "metadata": {},
   "source": [
    "Turi's classifier toolkit that can help marketers predict if a client is likely to open an account."
   ]
  },
  {
   "cell_type": "code",
   "execution_count": 200,
   "metadata": {
    "collapsed": false,
    "slideshow": {
     "slide_type": "slide"
    }
   },
   "outputs": [
    {
     "data": {
      "text/html": [
       "<pre>Boosted trees classifier:</pre>"
      ],
      "text/plain": [
       "Boosted trees classifier:"
      ]
     },
     "metadata": {},
     "output_type": "display_data"
    },
    {
     "data": {
      "text/html": [
       "<pre>--------------------------------------------------------</pre>"
      ],
      "text/plain": [
       "--------------------------------------------------------"
      ]
     },
     "metadata": {},
     "output_type": "display_data"
    },
    {
     "data": {
      "text/html": [
       "<pre>Number of examples          : 31519</pre>"
      ],
      "text/plain": [
       "Number of examples          : 31519"
      ]
     },
     "metadata": {},
     "output_type": "display_data"
    },
    {
     "data": {
      "text/html": [
       "<pre>Number of classes           : 2</pre>"
      ],
      "text/plain": [
       "Number of classes           : 2"
      ]
     },
     "metadata": {},
     "output_type": "display_data"
    },
    {
     "data": {
      "text/html": [
       "<pre>Number of feature columns   : 19</pre>"
      ],
      "text/plain": [
       "Number of feature columns   : 19"
      ]
     },
     "metadata": {},
     "output_type": "display_data"
    },
    {
     "data": {
      "text/html": [
       "<pre>Number of unpacked features : 19</pre>"
      ],
      "text/plain": [
       "Number of unpacked features : 19"
      ]
     },
     "metadata": {},
     "output_type": "display_data"
    },
    {
     "data": {
      "text/html": [
       "<pre>+-----------+--------------+-------------------+-------------------+---------------------+---------------------+</pre>"
      ],
      "text/plain": [
       "+-----------+--------------+-------------------+-------------------+---------------------+---------------------+"
      ]
     },
     "metadata": {},
     "output_type": "display_data"
    },
    {
     "data": {
      "text/html": [
       "<pre>| Iteration | Elapsed Time | Training-accuracy | Training-log_loss | Validation-accuracy | Validation-log_loss |</pre>"
      ],
      "text/plain": [
       "| Iteration | Elapsed Time | Training-accuracy | Training-log_loss | Validation-accuracy | Validation-log_loss |"
      ]
     },
     "metadata": {},
     "output_type": "display_data"
    },
    {
     "data": {
      "text/html": [
       "<pre>+-----------+--------------+-------------------+-------------------+---------------------+---------------------+</pre>"
      ],
      "text/plain": [
       "+-----------+--------------+-------------------+-------------------+---------------------+---------------------+"
      ]
     },
     "metadata": {},
     "output_type": "display_data"
    },
    {
     "data": {
      "text/html": [
       "<pre>| 1         | 0.029432     | 0.905041          | 0.515452          | 0.890103            | 0.520484            |</pre>"
      ],
      "text/plain": [
       "| 1         | 0.029432     | 0.905041          | 0.515452          | 0.890103            | 0.520484            |"
      ]
     },
     "metadata": {},
     "output_type": "display_data"
    },
    {
     "data": {
      "text/html": [
       "<pre>| 2         | 0.060089     | 0.906279          | 0.419195          | 0.890746            | 0.428380            |</pre>"
      ],
      "text/plain": [
       "| 2         | 0.060089     | 0.906279          | 0.419195          | 0.890746            | 0.428380            |"
      ]
     },
     "metadata": {},
     "output_type": "display_data"
    },
    {
     "data": {
      "text/html": [
       "<pre>| 3         | 0.090442     | 0.906659          | 0.361340          | 0.889460            | 0.374441            |</pre>"
      ],
      "text/plain": [
       "| 3         | 0.090442     | 0.906659          | 0.361340          | 0.889460            | 0.374441            |"
      ]
     },
     "metadata": {},
     "output_type": "display_data"
    },
    {
     "data": {
      "text/html": [
       "<pre>| 4         | 0.116852     | 0.907453          | 0.324721          | 0.890746            | 0.340268            |</pre>"
      ],
      "text/plain": [
       "| 4         | 0.116852     | 0.907453          | 0.324721          | 0.890746            | 0.340268            |"
      ]
     },
     "metadata": {},
     "output_type": "display_data"
    },
    {
     "data": {
      "text/html": [
       "<pre>| 5         | 0.149560     | 0.908373          | 0.301003          | 0.893316            | 0.318993            |</pre>"
      ],
      "text/plain": [
       "| 5         | 0.149560     | 0.908373          | 0.301003          | 0.893316            | 0.318993            |"
      ]
     },
     "metadata": {},
     "output_type": "display_data"
    },
    {
     "data": {
      "text/html": [
       "<pre>| 6         | 0.180293     | 0.907706          | 0.285728          | 0.892673            | 0.305945            |</pre>"
      ],
      "text/plain": [
       "| 6         | 0.180293     | 0.907706          | 0.285728          | 0.892673            | 0.305945            |"
      ]
     },
     "metadata": {},
     "output_type": "display_data"
    },
    {
     "data": {
      "text/html": [
       "<pre>+-----------+--------------+-------------------+-------------------+---------------------+---------------------+</pre>"
      ],
      "text/plain": [
       "+-----------+--------------+-------------------+-------------------+---------------------+---------------------+"
      ]
     },
     "metadata": {},
     "output_type": "display_data"
    },
    {
     "data": {
      "text/html": [
       "<pre>Random forest classifier:</pre>"
      ],
      "text/plain": [
       "Random forest classifier:"
      ]
     },
     "metadata": {},
     "output_type": "display_data"
    },
    {
     "data": {
      "text/html": [
       "<pre>--------------------------------------------------------</pre>"
      ],
      "text/plain": [
       "--------------------------------------------------------"
      ]
     },
     "metadata": {},
     "output_type": "display_data"
    },
    {
     "data": {
      "text/html": [
       "<pre>Number of examples          : 31519</pre>"
      ],
      "text/plain": [
       "Number of examples          : 31519"
      ]
     },
     "metadata": {},
     "output_type": "display_data"
    },
    {
     "data": {
      "text/html": [
       "<pre>Number of classes           : 2</pre>"
      ],
      "text/plain": [
       "Number of classes           : 2"
      ]
     },
     "metadata": {},
     "output_type": "display_data"
    },
    {
     "data": {
      "text/html": [
       "<pre>Number of feature columns   : 19</pre>"
      ],
      "text/plain": [
       "Number of feature columns   : 19"
      ]
     },
     "metadata": {},
     "output_type": "display_data"
    },
    {
     "data": {
      "text/html": [
       "<pre>Number of unpacked features : 19</pre>"
      ],
      "text/plain": [
       "Number of unpacked features : 19"
      ]
     },
     "metadata": {},
     "output_type": "display_data"
    },
    {
     "data": {
      "text/html": [
       "<pre>+-----------+--------------+-------------------+-------------------+---------------------+---------------------+</pre>"
      ],
      "text/plain": [
       "+-----------+--------------+-------------------+-------------------+---------------------+---------------------+"
      ]
     },
     "metadata": {},
     "output_type": "display_data"
    },
    {
     "data": {
      "text/html": [
       "<pre>| Iteration | Elapsed Time | Training-accuracy | Training-log_loss | Validation-accuracy | Validation-log_loss |</pre>"
      ],
      "text/plain": [
       "| Iteration | Elapsed Time | Training-accuracy | Training-log_loss | Validation-accuracy | Validation-log_loss |"
      ]
     },
     "metadata": {},
     "output_type": "display_data"
    },
    {
     "data": {
      "text/html": [
       "<pre>+-----------+--------------+-------------------+-------------------+---------------------+---------------------+</pre>"
      ],
      "text/plain": [
       "+-----------+--------------+-------------------+-------------------+---------------------+---------------------+"
      ]
     },
     "metadata": {},
     "output_type": "display_data"
    },
    {
     "data": {
      "text/html": [
       "<pre>| 1         | 0.024752     | 0.902059          | 0.310494          | 0.889460            | 0.327177            |</pre>"
      ],
      "text/plain": [
       "| 1         | 0.024752     | 0.902059          | 0.310494          | 0.889460            | 0.327177            |"
      ]
     },
     "metadata": {},
     "output_type": "display_data"
    },
    {
     "data": {
      "text/html": [
       "<pre>| 2         | 0.052019     | 0.903709          | 0.308423          | 0.890746            | 0.325088            |</pre>"
      ],
      "text/plain": [
       "| 2         | 0.052019     | 0.903709          | 0.308423          | 0.890746            | 0.325088            |"
      ]
     },
     "metadata": {},
     "output_type": "display_data"
    },
    {
     "data": {
      "text/html": [
       "<pre>| 3         | 0.081392     | 0.904661          | 0.307518          | 0.892031            | 0.324166            |</pre>"
      ],
      "text/plain": [
       "| 3         | 0.081392     | 0.904661          | 0.307518          | 0.892031            | 0.324166            |"
      ]
     },
     "metadata": {},
     "output_type": "display_data"
    },
    {
     "data": {
      "text/html": [
       "<pre>| 4         | 0.107434     | 0.905454          | 0.306875          | 0.892031            | 0.324186            |</pre>"
      ],
      "text/plain": [
       "| 4         | 0.107434     | 0.905454          | 0.306875          | 0.892031            | 0.324186            |"
      ]
     },
     "metadata": {},
     "output_type": "display_data"
    },
    {
     "data": {
      "text/html": [
       "<pre>| 5         | 0.136001     | 0.905390          | 0.306996          | 0.888175            | 0.325083            |</pre>"
      ],
      "text/plain": [
       "| 5         | 0.136001     | 0.905390          | 0.306996          | 0.888175            | 0.325083            |"
      ]
     },
     "metadata": {},
     "output_type": "display_data"
    },
    {
     "data": {
      "text/html": [
       "<pre>| 6         | 0.165595     | 0.905263          | 0.307049          | 0.890746            | 0.324401            |</pre>"
      ],
      "text/plain": [
       "| 6         | 0.165595     | 0.905263          | 0.307049          | 0.890746            | 0.324401            |"
      ]
     },
     "metadata": {},
     "output_type": "display_data"
    },
    {
     "data": {
      "text/html": [
       "<pre>+-----------+--------------+-------------------+-------------------+---------------------+---------------------+</pre>"
      ],
      "text/plain": [
       "+-----------+--------------+-------------------+-------------------+---------------------+---------------------+"
      ]
     },
     "metadata": {},
     "output_type": "display_data"
    },
    {
     "data": {
      "text/html": [
       "<pre>Decision tree classifier:</pre>"
      ],
      "text/plain": [
       "Decision tree classifier:"
      ]
     },
     "metadata": {},
     "output_type": "display_data"
    },
    {
     "data": {
      "text/html": [
       "<pre>--------------------------------------------------------</pre>"
      ],
      "text/plain": [
       "--------------------------------------------------------"
      ]
     },
     "metadata": {},
     "output_type": "display_data"
    },
    {
     "data": {
      "text/html": [
       "<pre>Number of examples          : 31519</pre>"
      ],
      "text/plain": [
       "Number of examples          : 31519"
      ]
     },
     "metadata": {},
     "output_type": "display_data"
    },
    {
     "data": {
      "text/html": [
       "<pre>Number of classes           : 2</pre>"
      ],
      "text/plain": [
       "Number of classes           : 2"
      ]
     },
     "metadata": {},
     "output_type": "display_data"
    },
    {
     "data": {
      "text/html": [
       "<pre>Number of feature columns   : 19</pre>"
      ],
      "text/plain": [
       "Number of feature columns   : 19"
      ]
     },
     "metadata": {},
     "output_type": "display_data"
    },
    {
     "data": {
      "text/html": [
       "<pre>Number of unpacked features : 19</pre>"
      ],
      "text/plain": [
       "Number of unpacked features : 19"
      ]
     },
     "metadata": {},
     "output_type": "display_data"
    },
    {
     "data": {
      "text/html": [
       "<pre>+-----------+--------------+-------------------+-------------------+---------------------+---------------------+</pre>"
      ],
      "text/plain": [
       "+-----------+--------------+-------------------+-------------------+---------------------+---------------------+"
      ]
     },
     "metadata": {},
     "output_type": "display_data"
    },
    {
     "data": {
      "text/html": [
       "<pre>| Iteration | Elapsed Time | Training-accuracy | Training-log_loss | Validation-accuracy | Validation-log_loss |</pre>"
      ],
      "text/plain": [
       "| Iteration | Elapsed Time | Training-accuracy | Training-log_loss | Validation-accuracy | Validation-log_loss |"
      ]
     },
     "metadata": {},
     "output_type": "display_data"
    },
    {
     "data": {
      "text/html": [
       "<pre>+-----------+--------------+-------------------+-------------------+---------------------+---------------------+</pre>"
      ],
      "text/plain": [
       "+-----------+--------------+-------------------+-------------------+---------------------+---------------------+"
      ]
     },
     "metadata": {},
     "output_type": "display_data"
    },
    {
     "data": {
      "text/html": [
       "<pre>| 1         | 0.029335     | 0.905041          | 0.515452          | 0.890103            | 0.520484            |</pre>"
      ],
      "text/plain": [
       "| 1         | 0.029335     | 0.905041          | 0.515452          | 0.890103            | 0.520484            |"
      ]
     },
     "metadata": {},
     "output_type": "display_data"
    },
    {
     "data": {
      "text/html": [
       "<pre>+-----------+--------------+-------------------+-------------------+---------------------+---------------------+</pre>"
      ],
      "text/plain": [
       "+-----------+--------------+-------------------+-------------------+---------------------+---------------------+"
      ]
     },
     "metadata": {},
     "output_type": "display_data"
    },
    {
     "data": {
      "text/html": [
       "<pre>SVM:</pre>"
      ],
      "text/plain": [
       "SVM:"
      ]
     },
     "metadata": {},
     "output_type": "display_data"
    },
    {
     "data": {
      "text/html": [
       "<pre>--------------------------------------------------------</pre>"
      ],
      "text/plain": [
       "--------------------------------------------------------"
      ]
     },
     "metadata": {},
     "output_type": "display_data"
    },
    {
     "data": {
      "text/html": [
       "<pre>Number of examples          : 31519</pre>"
      ],
      "text/plain": [
       "Number of examples          : 31519"
      ]
     },
     "metadata": {},
     "output_type": "display_data"
    },
    {
     "data": {
      "text/html": [
       "<pre>Number of classes           : 2</pre>"
      ],
      "text/plain": [
       "Number of classes           : 2"
      ]
     },
     "metadata": {},
     "output_type": "display_data"
    },
    {
     "data": {
      "text/html": [
       "<pre>Number of feature columns   : 19</pre>"
      ],
      "text/plain": [
       "Number of feature columns   : 19"
      ]
     },
     "metadata": {},
     "output_type": "display_data"
    },
    {
     "data": {
      "text/html": [
       "<pre>Number of unpacked features : 19</pre>"
      ],
      "text/plain": [
       "Number of unpacked features : 19"
      ]
     },
     "metadata": {},
     "output_type": "display_data"
    },
    {
     "data": {
      "text/html": [
       "<pre>Number of coefficients    : 53</pre>"
      ],
      "text/plain": [
       "Number of coefficients    : 53"
      ]
     },
     "metadata": {},
     "output_type": "display_data"
    },
    {
     "data": {
      "text/html": [
       "<pre>Starting L-BFGS</pre>"
      ],
      "text/plain": [
       "Starting L-BFGS"
      ]
     },
     "metadata": {},
     "output_type": "display_data"
    },
    {
     "data": {
      "text/html": [
       "<pre>--------------------------------------------------------</pre>"
      ],
      "text/plain": [
       "--------------------------------------------------------"
      ]
     },
     "metadata": {},
     "output_type": "display_data"
    },
    {
     "data": {
      "text/html": [
       "<pre>+-----------+----------+-----------+--------------+-------------------+---------------------+</pre>"
      ],
      "text/plain": [
       "+-----------+----------+-----------+--------------+-------------------+---------------------+"
      ]
     },
     "metadata": {},
     "output_type": "display_data"
    },
    {
     "data": {
      "text/html": [
       "<pre>| Iteration | Passes   | Step size | Elapsed Time | Training-accuracy | Validation-accuracy |</pre>"
      ],
      "text/plain": [
       "| Iteration | Passes   | Step size | Elapsed Time | Training-accuracy | Validation-accuracy |"
      ]
     },
     "metadata": {},
     "output_type": "display_data"
    },
    {
     "data": {
      "text/html": [
       "<pre>+-----------+----------+-----------+--------------+-------------------+---------------------+</pre>"
      ],
      "text/plain": [
       "+-----------+----------+-----------+--------------+-------------------+---------------------+"
      ]
     },
     "metadata": {},
     "output_type": "display_data"
    },
    {
     "data": {
      "text/html": [
       "<pre>| 1         | 4        | 0.000016  | 0.038233     | 0.886100          | 0.877249            |</pre>"
      ],
      "text/plain": [
       "| 1         | 4        | 0.000016  | 0.038233     | 0.886100          | 0.877249            |"
      ]
     },
     "metadata": {},
     "output_type": "display_data"
    },
    {
     "data": {
      "text/html": [
       "<pre>| 2         | 7        | 5.000000  | 0.085126     | 0.893874          | 0.880463            |</pre>"
      ],
      "text/plain": [
       "| 2         | 7        | 5.000000  | 0.085126     | 0.893874          | 0.880463            |"
      ]
     },
     "metadata": {},
     "output_type": "display_data"
    },
    {
     "data": {
      "text/html": [
       "<pre>| 3         | 8        | 5.000000  | 0.112689     | 0.114217          | 0.122751            |</pre>"
      ],
      "text/plain": [
       "| 3         | 8        | 5.000000  | 0.112689     | 0.114217          | 0.122751            |"
      ]
     },
     "metadata": {},
     "output_type": "display_data"
    },
    {
     "data": {
      "text/html": [
       "<pre>| 4         | 10       | 1.000000  | 0.149538     | 0.895650          | 0.881105            |</pre>"
      ],
      "text/plain": [
       "| 4         | 10       | 1.000000  | 0.149538     | 0.895650          | 0.881105            |"
      ]
     },
     "metadata": {},
     "output_type": "display_data"
    },
    {
     "data": {
      "text/html": [
       "<pre>| 5         | 11       | 1.000000  | 0.175710     | 0.890193          | 0.882391            |</pre>"
      ],
      "text/plain": [
       "| 5         | 11       | 1.000000  | 0.175710     | 0.890193          | 0.882391            |"
      ]
     },
     "metadata": {},
     "output_type": "display_data"
    },
    {
     "data": {
      "text/html": [
       "<pre>| 6         | 16       | 2.000000  | 0.238406     | 0.895650          | 0.882391            |</pre>"
      ],
      "text/plain": [
       "| 6         | 16       | 2.000000  | 0.238406     | 0.895650          | 0.882391            |"
      ]
     },
     "metadata": {},
     "output_type": "display_data"
    },
    {
     "data": {
      "text/html": [
       "<pre>+-----------+----------+-----------+--------------+-------------------+---------------------+</pre>"
      ],
      "text/plain": [
       "+-----------+----------+-----------+--------------+-------------------+---------------------+"
      ]
     },
     "metadata": {},
     "output_type": "display_data"
    },
    {
     "data": {
      "text/html": [
       "<pre>TERMINATED: Iteration limit reached.</pre>"
      ],
      "text/plain": [
       "TERMINATED: Iteration limit reached."
      ]
     },
     "metadata": {},
     "output_type": "display_data"
    },
    {
     "data": {
      "text/html": [
       "<pre>This model may not be optimal. To improve it, consider increasing `max_iterations`.</pre>"
      ],
      "text/plain": [
       "This model may not be optimal. To improve it, consider increasing `max_iterations`."
      ]
     },
     "metadata": {},
     "output_type": "display_data"
    },
    {
     "data": {
      "text/html": [
       "<pre>Logistic regression:</pre>"
      ],
      "text/plain": [
       "Logistic regression:"
      ]
     },
     "metadata": {},
     "output_type": "display_data"
    },
    {
     "data": {
      "text/html": [
       "<pre>--------------------------------------------------------</pre>"
      ],
      "text/plain": [
       "--------------------------------------------------------"
      ]
     },
     "metadata": {},
     "output_type": "display_data"
    },
    {
     "data": {
      "text/html": [
       "<pre>Number of examples          : 31519</pre>"
      ],
      "text/plain": [
       "Number of examples          : 31519"
      ]
     },
     "metadata": {},
     "output_type": "display_data"
    },
    {
     "data": {
      "text/html": [
       "<pre>Number of classes           : 2</pre>"
      ],
      "text/plain": [
       "Number of classes           : 2"
      ]
     },
     "metadata": {},
     "output_type": "display_data"
    },
    {
     "data": {
      "text/html": [
       "<pre>Number of feature columns   : 19</pre>"
      ],
      "text/plain": [
       "Number of feature columns   : 19"
      ]
     },
     "metadata": {},
     "output_type": "display_data"
    },
    {
     "data": {
      "text/html": [
       "<pre>Number of unpacked features : 19</pre>"
      ],
      "text/plain": [
       "Number of unpacked features : 19"
      ]
     },
     "metadata": {},
     "output_type": "display_data"
    },
    {
     "data": {
      "text/html": [
       "<pre>Number of coefficients    : 53</pre>"
      ],
      "text/plain": [
       "Number of coefficients    : 53"
      ]
     },
     "metadata": {},
     "output_type": "display_data"
    },
    {
     "name": "stdout",
     "output_type": "stream",
     "text": [
      "PROGRESS: Creating a validation set from 5 percent of training data. This may take a while.\n",
      "          You can set ``validation_set=None`` to disable validation tracking.\n",
      "\n",
      "PROGRESS: The following methods are available for this type of problem.\n",
      "PROGRESS: BoostedTreesClassifier, RandomForestClassifier, DecisionTreeClassifier, SVMClassifier, LogisticClassifier\n",
      "PROGRESS: The returned model will be chosen according to validation accuracy.\n",
      "PROGRESS: Model selection based on validation accuracy:\n",
      "PROGRESS: ---------------------------------------------\n",
      "PROGRESS: BoostedTreesClassifier          : 0.893958866596\n",
      "PROGRESS: RandomForestClassifier          : 0.888817489147\n",
      "PROGRESS: DecisionTreeClassifier          : 0.890102803707\n",
      "PROGRESS: SVMClassifier                   : 0.884319\n",
      "PROGRESS: LogisticClassifier              : 0.888175\n",
      "PROGRESS: ---------------------------------------------\n",
      "PROGRESS: Selecting BoostedTreesClassifier based on validation set performance.\n"
     ]
    },
    {
     "data": {
      "text/html": [
       "<pre>--------------------------------------------------------</pre>"
      ],
      "text/plain": [
       "--------------------------------------------------------"
      ]
     },
     "metadata": {},
     "output_type": "display_data"
    },
    {
     "data": {
      "text/html": [
       "<pre>+-----------+----------+--------------+-------------------+---------------------+</pre>"
      ],
      "text/plain": [
       "+-----------+----------+--------------+-------------------+---------------------+"
      ]
     },
     "metadata": {},
     "output_type": "display_data"
    },
    {
     "data": {
      "text/html": [
       "<pre>+-----------+----------+--------------+-------------------+---------------------+</pre>"
      ],
      "text/plain": [
       "+-----------+----------+--------------+-------------------+---------------------+"
      ]
     },
     "metadata": {},
     "output_type": "display_data"
    },
    {
     "data": {
      "text/html": [
       "<pre>| 1         | 2        | 0.151609     | 0.899235          | 0.888817            |</pre>"
      ],
      "text/plain": [
       "| 1         | 2        | 0.151609     | 0.899235          | 0.888817            |"
      ]
     },
     "metadata": {},
     "output_type": "display_data"
    },
    {
     "data": {
      "text/html": [
       "<pre>| 2         | 3        | 0.237565     | 0.899457          | 0.888175            |</pre>"
      ],
      "text/plain": [
       "| 2         | 3        | 0.237565     | 0.899457          | 0.888175            |"
      ]
     },
     "metadata": {},
     "output_type": "display_data"
    },
    {
     "data": {
      "text/html": [
       "<pre>| 3         | 4        | 0.308188     | 0.899648          | 0.888175            |</pre>"
      ],
      "text/plain": [
       "| 3         | 4        | 0.308188     | 0.899648          | 0.888175            |"
      ]
     },
     "metadata": {},
     "output_type": "display_data"
    },
    {
     "data": {
      "text/html": [
       "<pre>| 4         | 5        | 0.381385     | 0.899806          | 0.888175            |</pre>"
      ],
      "text/plain": [
       "| 4         | 5        | 0.381385     | 0.899806          | 0.888175            |"
      ]
     },
     "metadata": {},
     "output_type": "display_data"
    },
    {
     "data": {
      "text/html": [
       "<pre>| 5         | 6        | 0.462933     | 0.899775          | 0.888175            |</pre>"
      ],
      "text/plain": [
       "| 5         | 6        | 0.462933     | 0.899775          | 0.888175            |"
      ]
     },
     "metadata": {},
     "output_type": "display_data"
    },
    {
     "data": {
      "text/html": [
       "<pre>| 6         | 7        | 0.543236     | 0.899775          | 0.888175            |</pre>"
      ],
      "text/plain": [
       "| 6         | 7        | 0.543236     | 0.899775          | 0.888175            |"
      ]
     },
     "metadata": {},
     "output_type": "display_data"
    },
    {
     "data": {
      "text/html": [
       "<pre>+-----------+----------+--------------+-------------------+---------------------+</pre>"
      ],
      "text/plain": [
       "+-----------+----------+--------------+-------------------+---------------------+"
      ]
     },
     "metadata": {},
     "output_type": "display_data"
    },
    {
     "data": {
      "text/html": [
       "<pre>SUCCESS: Optimal solution found.</pre>"
      ],
      "text/plain": [
       "SUCCESS: Optimal solution found."
      ]
     },
     "metadata": {},
     "output_type": "display_data"
    },
    {
     "data": {
      "text/html": [
       "<pre></pre>"
      ],
      "text/plain": []
     },
     "metadata": {},
     "output_type": "display_data"
    }
   ],
   "source": [
    "toolkit_model = gl.classifier.create(train, features = features, target='y')"
   ]
  },
  {
   "cell_type": "markdown",
   "metadata": {},
   "source": [
    "### The toolkit automatically evaluates several types of algorithms, including: Boosted Trees, Random Forests, Decision Trees, Support Vector Machines, Logistic regression - with intelligent default paramters. Based on a validation set, it chooses the most accurate model. We can then evaluate this model on the test dataset."
   ]
  },
  {
   "cell_type": "code",
   "execution_count": 201,
   "metadata": {
    "collapsed": false
   },
   "outputs": [
    {
     "name": "stdout",
     "output_type": "stream",
     "text": [
      "accuracy: 0.904351, precision: 0.627692, recall: 0.237485\n"
     ]
    }
   ],
   "source": [
    "results = toolkit_model.evaluate(test)\n",
    "print \"accuracy: %g, precision: %g, recall: %g\" % (results['accuracy'], results['precision'], results['recall'])"
   ]
  },
  {
   "cell_type": "markdown",
   "metadata": {},
   "source": [
    "This initial model can be considered accurate given that it correctly predicts the purchasing decisions of 90% of the contacts. However, the toolkit model leaves room for improvement. Specifically only 64% of predicted sales actually convert to sales. Furthermore only 24% of actual sales were actually predicted by the model. In order to understand the model we can review the importance of the input features."
   ]
  },
  {
   "cell_type": "code",
   "execution_count": 202,
   "metadata": {
    "collapsed": false,
    "scrolled": true
   },
   "outputs": [
    {
     "data": {
      "text/html": [
       "<div style=\"max-height:1000px;max-width:1500px;overflow:auto;\"><table frame=\"box\" rules=\"cols\">\n",
       "    <tr>\n",
       "        <th style=\"padding-left: 1em; padding-right: 1em; text-align: center\">name</th>\n",
       "        <th style=\"padding-left: 1em; padding-right: 1em; text-align: center\">index</th>\n",
       "        <th style=\"padding-left: 1em; padding-right: 1em; text-align: center\">count</th>\n",
       "    </tr>\n",
       "    <tr>\n",
       "        <td style=\"padding-left: 1em; padding-right: 1em; text-align: center; vertical-align: top\">age</td>\n",
       "        <td style=\"padding-left: 1em; padding-right: 1em; text-align: center; vertical-align: top\">None</td>\n",
       "        <td style=\"padding-left: 1em; padding-right: 1em; text-align: center; vertical-align: top\">95</td>\n",
       "    </tr>\n",
       "    <tr>\n",
       "        <td style=\"padding-left: 1em; padding-right: 1em; text-align: center; vertical-align: top\">euribor3m</td>\n",
       "        <td style=\"padding-left: 1em; padding-right: 1em; text-align: center; vertical-align: top\">None</td>\n",
       "        <td style=\"padding-left: 1em; padding-right: 1em; text-align: center; vertical-align: top\">88</td>\n",
       "    </tr>\n",
       "    <tr>\n",
       "        <td style=\"padding-left: 1em; padding-right: 1em; text-align: center; vertical-align: top\">campaign</td>\n",
       "        <td style=\"padding-left: 1em; padding-right: 1em; text-align: center; vertical-align: top\">None</td>\n",
       "        <td style=\"padding-left: 1em; padding-right: 1em; text-align: center; vertical-align: top\">59</td>\n",
       "    </tr>\n",
       "    <tr>\n",
       "        <td style=\"padding-left: 1em; padding-right: 1em; text-align: center; vertical-align: top\">pdays</td>\n",
       "        <td style=\"padding-left: 1em; padding-right: 1em; text-align: center; vertical-align: top\">None</td>\n",
       "        <td style=\"padding-left: 1em; padding-right: 1em; text-align: center; vertical-align: top\">32</td>\n",
       "    </tr>\n",
       "    <tr>\n",
       "        <td style=\"padding-left: 1em; padding-right: 1em; text-align: center; vertical-align: top\">contact</td>\n",
       "        <td style=\"padding-left: 1em; padding-right: 1em; text-align: center; vertical-align: top\">telephone</td>\n",
       "        <td style=\"padding-left: 1em; padding-right: 1em; text-align: center; vertical-align: top\">18</td>\n",
       "    </tr>\n",
       "    <tr>\n",
       "        <td style=\"padding-left: 1em; padding-right: 1em; text-align: center; vertical-align: top\">job</td>\n",
       "        <td style=\"padding-left: 1em; padding-right: 1em; text-align: center; vertical-align: top\">admin.</td>\n",
       "        <td style=\"padding-left: 1em; padding-right: 1em; text-align: center; vertical-align: top\">16</td>\n",
       "    </tr>\n",
       "    <tr>\n",
       "        <td style=\"padding-left: 1em; padding-right: 1em; text-align: center; vertical-align: top\">day_of_week</td>\n",
       "        <td style=\"padding-left: 1em; padding-right: 1em; text-align: center; vertical-align: top\">mon</td>\n",
       "        <td style=\"padding-left: 1em; padding-right: 1em; text-align: center; vertical-align: top\">16</td>\n",
       "    </tr>\n",
       "    <tr>\n",
       "        <td style=\"padding-left: 1em; padding-right: 1em; text-align: center; vertical-align: top\">cons.conf.idx</td>\n",
       "        <td style=\"padding-left: 1em; padding-right: 1em; text-align: center; vertical-align: top\">None</td>\n",
       "        <td style=\"padding-left: 1em; padding-right: 1em; text-align: center; vertical-align: top\">14</td>\n",
       "    </tr>\n",
       "    <tr>\n",
       "        <td style=\"padding-left: 1em; padding-right: 1em; text-align: center; vertical-align: top\">education</td>\n",
       "        <td style=\"padding-left: 1em; padding-right: 1em; text-align: center; vertical-align: top\">high.school</td>\n",
       "        <td style=\"padding-left: 1em; padding-right: 1em; text-align: center; vertical-align: top\">14</td>\n",
       "    </tr>\n",
       "    <tr>\n",
       "        <td style=\"padding-left: 1em; padding-right: 1em; text-align: center; vertical-align: top\">nr.employed</td>\n",
       "        <td style=\"padding-left: 1em; padding-right: 1em; text-align: center; vertical-align: top\">None</td>\n",
       "        <td style=\"padding-left: 1em; padding-right: 1em; text-align: center; vertical-align: top\">13</td>\n",
       "    </tr>\n",
       "</table>\n",
       "[62 rows x 3 columns]<br/>Note: Only the head of the SFrame is printed.<br/>You can use print_rows(num_rows=m, num_columns=n) to print more rows and columns.\n",
       "</div>"
      ],
      "text/plain": [
       "Columns:\n",
       "\tname\tstr\n",
       "\tindex\tstr\n",
       "\tcount\tint\n",
       "\n",
       "Rows: 62\n",
       "\n",
       "Data:\n",
       "+---------------+-------------+-------+\n",
       "|      name     |    index    | count |\n",
       "+---------------+-------------+-------+\n",
       "|      age      |     None    |   95  |\n",
       "|   euribor3m   |     None    |   88  |\n",
       "|    campaign   |     None    |   59  |\n",
       "|     pdays     |     None    |   32  |\n",
       "|    contact    |  telephone  |   18  |\n",
       "|      job      |    admin.   |   16  |\n",
       "|  day_of_week  |     mon     |   16  |\n",
       "| cons.conf.idx |     None    |   14  |\n",
       "|   education   | high.school |   14  |\n",
       "|  nr.employed  |     None    |   13  |\n",
       "+---------------+-------------+-------+\n",
       "[62 rows x 3 columns]\n",
       "Note: Only the head of the SFrame is printed.\n",
       "You can use print_rows(num_rows=m, num_columns=n) to print more rows and columns."
      ]
     },
     "execution_count": 202,
     "metadata": {},
     "output_type": "execute_result"
    }
   ],
   "source": [
    "toolkit_model.get_feature_importance()"
   ]
  },
  {
   "cell_type": "markdown",
   "metadata": {},
   "source": [
    "After scoring the list by probability to purchase, the ROI for calling the top 50% of the list is:"
   ]
  },
  {
   "cell_type": "code",
   "execution_count": 203,
   "metadata": {
    "collapsed": false
   },
   "outputs": [
    {
     "name": "stdout",
     "output_type": "stream",
     "text": [
      "ROI for calling 20% of highest predicted contacts: 33.40%\n"
     ]
    }
   ],
   "source": [
    "toolkitLeadScore = toolkit_model.predict(test,output_type='probability')\n",
    "toolkitROI = calc_call_roi(test, toolkitLeadScore, 0.2 )\n",
    "print 'ROI for calling 20% of highest predicted contacts: ' + '{0:.2f}'.format(toolkitROI) + '%'"
   ]
  },
  {
   "cell_type": "markdown",
   "metadata": {},
   "source": [
    "----\n",
    "## Huge improvement in ROI for 20% called: *32.79%* (over 3x improvement from calling everyone, while only calling 20% of the contacts).\n",
    "----"
   ]
  },
  {
   "cell_type": "markdown",
   "metadata": {
    "collapsed": false
   },
   "source": [
    "### Modeling Part 3 - Continued experimentation / iteration - we can continue to tweak the model by generating features, doing experiments, adding different data sources etc."
   ]
  },
  {
   "cell_type": "markdown",
   "metadata": {
    "collapsed": false
   },
   "source": [
    "```python\n",
    "# One option to explore is using quadratic features to see if interactions between the features have predictive power.\n",
    "quadratic = gl.feature_engineering.create(train,\n",
    "                gl.feature_engineering.QuadraticFeatures(features=['campaign',\n",
    "                                                                   'pdays',\n",
    "                                                                   'previous',\n",
    "                                                                   'emp.var.rate',\n",
    "                                                                   'cons.price.idx',\n",
    "                                                                   'euribor3m',\n",
    "                                                                   'nr.employed']))\n",
    "\n",
    "# Transform the training data.\n",
    "qTrain = quadratic.transform(train)\n",
    "\n",
    "qFeatures = qTrain.column_names()\n",
    "qFeatures.remove('y')\n",
    "qFeatures.remove('duration')\n",
    "\n",
    "# We create a boosted trees classifier with the enriched dataset.\n",
    "new_rf_model = gl.random_forest_classifier.create(qTrain, features = qFeatures, target='y', \n",
    "                                                  class_weights='auto', max_depth = 50,\n",
    "                                                  row_subsample = 0.75, max_iterations = 50, column_subsample=0.5)\n",
    "\n",
    "results = new_rf_model.evaluate(quadratic.transform(test))\n",
    "print \"accuracy: %g, precision: %g, recall: %g\" % (results['accuracy'], results['precision'], results['recall'])       \n",
    "\n",
    "# see which features are most important in this tree model\n",
    "new_rf_model.get_feature_importance()\n",
    "\n",
    "# show ROI for experimentation model\n",
    "rfLeadScore = new_rf_model.predict(test,output_type='probability')\n",
    "rfROI = calc_call_roi(test, rfLeadScore, 0.1 )\n",
    "print 'ROI for calling predicted contacts: ' + '{0:.2f}'.format(rfROI) + '%'\n",
    "```"
   ]
  },
  {
   "cell_type": "markdown",
   "metadata": {},
   "source": [
    "## Integration Part 1 - Ranked Lists for Marketing / Sales - who should be prioritized to be called next!"
   ]
  },
  {
   "cell_type": "code",
   "execution_count": 204,
   "metadata": {
    "collapsed": false
   },
   "outputs": [
    {
     "name": "stdout",
     "output_type": "stream",
     "text": [
      "+----------------+-----+----------+-----------+-------------+------+\n",
      "|   lead_score   | age | campaign | euribor3m |     job     | loan |\n",
      "+----------------+-----+----------+-----------+-------------+------+\n",
      "| 0.883403599262 |  48 |    3     |   0.904   |    admin.   |  no  |\n",
      "| 0.883403599262 |  58 |    1     |    0.9    | blue-collar |  no  |\n",
      "| 0.883403599262 |  51 |    1     |   0.903   | blue-collar |  no  |\n",
      "| 0.882390379906 |  61 |    1     |   0.695   | blue-collar | yes  |\n",
      "| 0.882390379906 |  77 |    1     |   0.682   |   retired   |  no  |\n",
      "| 0.876977026463 |  53 |    1     |    0.84   | blue-collar |  no  |\n",
      "| 0.876977026463 |  55 |    1     |   0.802   |    admin.   |  no  |\n",
      "| 0.866948366165 |  58 |    1     |   0.878   |    admin.   |  no  |\n",
      "| 0.866948366165 |  63 |    1     |   0.846   |   retired   |  no  |\n",
      "| 0.863215148449 |  60 |    1     |   0.861   |    admin.   |  no  |\n",
      "| 0.859958946705 |  66 |    1     |   0.655   |   retired   |  no  |\n",
      "| 0.859958946705 |  55 |    3     |   0.652   |  unemployed |  no  |\n",
      "| 0.859958946705 |  64 |    2     |   0.652   |   retired   |  no  |\n",
      "| 0.858869791031 |  92 |    1     |   0.903   |   retired   | yes  |\n",
      "| 0.858432531357 |  27 |    3     |   0.899   |    admin.   |  no  |\n",
      "| 0.858266115189 |  50 |    2     |   0.682   |    admin.   |  no  |\n",
      "| 0.858266115189 |  60 |    1     |   0.682   |    admin.   |  no  |\n",
      "| 0.857237398624 |  18 |    1     |   0.677   |   student   |  no  |\n",
      "| 0.855425596237 |  32 |    2     |   0.884   |    admin.   |  no  |\n",
      "| 0.852907836437 |  48 |    1     |   0.704   |    admin.   |  no  |\n",
      "+----------------+-----+----------+-----------+-------------+------+\n",
      "[8113 rows x 6 columns]\n",
      "\n"
     ]
    }
   ],
   "source": [
    "rfList = test.sort('lead_score', ascending=False)\n",
    "rfList['lead_score', 'age','campaign','euribor3m','job','loan'].print_rows(num_rows=20)"
   ]
  },
  {
   "cell_type": "markdown",
   "metadata": {},
   "source": [
    "## Integration Part 2 - Deploy models as a fault tolerant scalable REST service, so marketing and sales dashboards (SalesForce/Tableau) can easily integrate lead score"
   ]
  },
  {
   "cell_type": "markdown",
   "metadata": {},
   "source": [
    "We can deploy a real-time model to help the marketers understand potential clients as soon as the contacts come to the bank. Here we deploy on AWS, but Turi also supports hosting models on premise and on Azure."
   ]
  },
  {
   "cell_type": "markdown",
   "metadata": {
    "collapsed": false
   },
   "source": [
    "```python\n",
    "# define the state path - this is where Turi will store the models, logs, and metadata for this deployment\n",
    "ps_state_path = 's3://gl-rajat-testing/predictive_service/lead_scoring_app'\n",
    "\n",
    "\n",
    "# setup your own AWS credentials.\n",
    "# gl.aws.set_credentials(<key>,<secret key>)\n",
    "\n",
    "# create an EC2 config - this is how you define the EC2 configuration for the cluster being deployed\n",
    "ec2 = gl.deploy.Ec2Config(region='us-west-2', instance_type='m3.xlarge')\n",
    "\n",
    "# use the EC2 config to launch a new Predictive Service\n",
    "# num_hosts specifies how many machines the Predictive Service cluster has. \n",
    "#     You can scale up and down later after initial creation.\n",
    "\n",
    "deployment = gl.deploy.predictive_service.create(name = 'rajat-lead-scoring-app', \n",
    "                                                    ec2_config = ec2, state_path = ps_state_path, num_hosts = 3)\n",
    "\n",
    "```"
   ]
  },
  {
   "cell_type": "code",
   "execution_count": 205,
   "metadata": {
    "collapsed": false
   },
   "outputs": [
    {
     "name": "stderr",
     "output_type": "stream",
     "text": [
      "2016-05-26 11:51:41,280 [WARNING] graphlab.deploy.predictive_service, 384: Overwriting existing Predictive Service \"rajat-lead-scoring-app\" in local session.\n"
     ]
    }
   ],
   "source": [
    "ps_state_path = 's3://gl-rajat-testing/predictive_service/lead_scoring_app'\n",
    "deployment = gl.deploy.predictive_service.load(ps_state_path)"
   ]
  },
  {
   "cell_type": "code",
   "execution_count": 206,
   "metadata": {
    "collapsed": false
   },
   "outputs": [
    {
     "data": {
      "text/plain": [
       "Name                  : rajat-lead-scoring-app\n",
       "State Path            : s3://gl-rajat-testing/predictive_service/lead_scoring_app\n",
       "Description           : None\n",
       "API Key               : 8a0244c4-497b-4969-a18d-3a3bfdfc8fcd\n",
       "CORS origin           : \n",
       "Global Cache State    : enabled\n",
       "Load Balancer DNS Name: rajat-lead-scoring-app-1226522522.us-west-2.elb.amazonaws.com\n",
       "\n",
       "Deployed endpoints:\n",
       "\tlead_score [model]\n",
       "\n",
       "No Pending changes."
      ]
     },
     "execution_count": 206,
     "metadata": {},
     "output_type": "execute_result"
    }
   ],
   "source": [
    "# see the status of and what's deployed on my_deployment\n",
    "deployment"
   ]
  },
  {
   "cell_type": "markdown",
   "metadata": {},
   "source": [
    "### Creating a new intelligent service is as simple as defining a Python function (can deploy anything in Python)"
   ]
  },
  {
   "cell_type": "code",
   "execution_count": 207,
   "metadata": {
    "collapsed": true
   },
   "outputs": [],
   "source": [
    "# inputs and returns of this function map directly to the io of the endpoint for the REST service\n",
    "def get_lead_score(json_row):\n",
    "    json_row = {key:[value] for key,value in json_row.items()}\n",
    "    client_info = quadratic.transform(gl.SFrame(json_row))\n",
    "    client_info['lead_score'] = toolkit_model.predict(client_info, output_type='probability')\n",
    "    return client_info"
   ]
  },
  {
   "cell_type": "code",
   "execution_count": 208,
   "metadata": {
    "collapsed": false
   },
   "outputs": [
    {
     "name": "stderr",
     "output_type": "stream",
     "text": [
      "2016-05-26 11:52:36,006 [INFO] graphlab.deploy._predictive_service._predictive_service, 1527: Endpoint 'lead_score' is updated. Use apply_changes to deploy all pending changes, or continue other modification.\n"
     ]
    }
   ],
   "source": [
    "deployment.update('lead_score', get_lead_score)"
   ]
  },
  {
   "cell_type": "code",
   "execution_count": 209,
   "metadata": {
    "collapsed": false
   },
   "outputs": [
    {
     "name": "stderr",
     "output_type": "stream",
     "text": [
      "2016-05-26 11:52:37,246 [INFO] graphlab.deploy._predictive_service._predictive_service, 1733: Persisting endpoint changes.\n",
      "2016-05-26 11:52:37,260 [INFO] graphlab.util.file_util, 190: Uploading local path /var/folders/14/__zdljwj6yq7fn1rs93c8nhm0000gn/T/predictive_object_NVnNJv to s3 path: s3://gl-rajat-testing/predictive_service/lead_scoring_app/predictive_objects/lead_score/3\n"
     ]
    },
    {
     "name": "stdout",
     "output_type": "stream",
     "text": [
      "upload: ../../../../var/folders/14/__zdljwj6yq7fn1rs93c8nhm0000gn/T/predictive_object_NVnNJv/ef811c97-fd83-453f-8b32-656dc5901a7c/objects.bin to s3://gl-rajat-testing/predictive_service/lead_scoring_app/predictive_objects/lead_score/3/ef811c97-fd83-453f-8b32-656dc5901a7c/objects.bin\n",
      "upload: ../../../../var/folders/14/__zdljwj6yq7fn1rs93c8nhm0000gn/T/predictive_object_NVnNJv/91303ef3-eac1-409f-b1b7-baee17e3bce4/dir_archive.ini to s3://gl-rajat-testing/predictive_service/lead_scoring_app/predictive_objects/lead_score/3/91303ef3-eac1-409f-b1b7-baee17e3bce4/dir_archive.ini\n",
      "upload: ../../../../var/folders/14/__zdljwj6yq7fn1rs93c8nhm0000gn/T/predictive_object_NVnNJv/version to s3://gl-rajat-testing/predictive_service/lead_scoring_app/predictive_objects/lead_score/3/version\n",
      "upload: ../../../../var/folders/14/__zdljwj6yq7fn1rs93c8nhm0000gn/T/predictive_object_NVnNJv/91303ef3-eac1-409f-b1b7-baee17e3bce4/m_6d53cd4bb3428a97.sidx to s3://gl-rajat-testing/predictive_service/lead_scoring_app/predictive_objects/lead_score/3/91303ef3-eac1-409f-b1b7-baee17e3bce4/m_6d53cd4bb3428a97.sidx\n",
      "upload: ../../../../var/folders/14/__zdljwj6yq7fn1rs93c8nhm0000gn/T/predictive_object_NVnNJv/91303ef3-eac1-409f-b1b7-baee17e3bce4/m_6d53cd4bb3428a97.frame_idx to s3://gl-rajat-testing/predictive_service/lead_scoring_app/predictive_objects/lead_score/3/91303ef3-eac1-409f-b1b7-baee17e3bce4/m_6d53cd4bb3428a97.frame_idx\n",
      "upload: ../../../../var/folders/14/__zdljwj6yq7fn1rs93c8nhm0000gn/T/predictive_object_NVnNJv/pickle_archive to s3://gl-rajat-testing/predictive_service/lead_scoring_app/predictive_objects/lead_score/3/pickle_archive\n",
      "upload: ../../../../var/folders/14/__zdljwj6yq7fn1rs93c8nhm0000gn/T/predictive_object_NVnNJv/ef811c97-fd83-453f-8b32-656dc5901a7c/dir_archive.ini to s3://gl-rajat-testing/predictive_service/lead_scoring_app/predictive_objects/lead_score/3/ef811c97-fd83-453f-8b32-656dc5901a7c/dir_archive.ini\n",
      "upload: ../../../../var/folders/14/__zdljwj6yq7fn1rs93c8nhm0000gn/T/predictive_object_NVnNJv/91303ef3-eac1-409f-b1b7-baee17e3bce4/m_6d53cd4bb3428a97.0000 to s3://gl-rajat-testing/predictive_service/lead_scoring_app/predictive_objects/lead_score/3/91303ef3-eac1-409f-b1b7-baee17e3bce4/m_6d53cd4bb3428a97.0000\n",
      "Completed 8 of 9 part(s) with 1 file(s) remaining"
     ]
    },
    {
     "name": "stderr",
     "output_type": "stream",
     "text": [
      "2016-05-26 11:52:39,066 [INFO] graphlab.util.file_util, 245: Successfully uploaded to s3 path s3://gl-rajat-testing/predictive_service/lead_scoring_app/predictive_objects/lead_score/3\n"
     ]
    },
    {
     "name": "stdout",
     "output_type": "stream",
     "text": [
      "\r",
      "upload: ../../../../var/folders/14/__zdljwj6yq7fn1rs93c8nhm0000gn/T/predictive_object_NVnNJv/91303ef3-eac1-409f-b1b7-baee17e3bce4/objects.bin to s3://gl-rajat-testing/predictive_service/lead_scoring_app/predictive_objects/lead_score/3/91303ef3-eac1-409f-b1b7-baee17e3bce4/objects.bin\n"
     ]
    }
   ],
   "source": [
    "deployment.apply_changes()"
   ]
  },
  {
   "cell_type": "code",
   "execution_count": 210,
   "metadata": {
    "collapsed": false
   },
   "outputs": [
    {
     "data": {
      "text/plain": [
       "[{u'cache': {u'healthy': True, u'num_keys': 64, u'type': u'cluster'},\n",
       "  u'dns_name': u'ec2-52-26-115-238.us-west-2.compute.amazonaws.com',\n",
       "  u'graphlab_service_status': {u'ip-10-0-0-53:10000': {u'reason': None,\n",
       "    u'status': u'healthy'}},\n",
       "  u'id': u'i-ecd60631',\n",
       "  u'models': [{u'lead_score': {u'ip-10-0-0-53:10000': {u'cache_enabled': True,\n",
       "      u'reason': None,\n",
       "      u'status': u'LoadSuccessful',\n",
       "      u'type': u'model',\n",
       "      u'version': 3}}}],\n",
       "  u'reason': u'N/A',\n",
       "  u'state': u'InService',\n",
       "  u'system': {u'cpu_count': 4,\n",
       "   u'cpu_usage': [0.3, 0.1, 0.1, 0.0],\n",
       "   u'disk_usage': {u'root': {u'free': 3858726912,\n",
       "     u'percent': 48.3,\n",
       "     u'total': 8320901120,\n",
       "     u'used': 4015902720},\n",
       "    u'tmp': {u'free': 37426188288,\n",
       "     u'percent': 0.1,\n",
       "     u'total': 39490912256,\n",
       "     u'used': 51879936}},\n",
       "   u'memory': {u'active': 804380672,\n",
       "    u'available': 15022342144,\n",
       "    u'buffers': 91893760,\n",
       "    u'cached': 2650820608,\n",
       "    u'free': 12279627776,\n",
       "    u'inactive': 2304663552,\n",
       "    u'percent': 4.8,\n",
       "    u'total': 15773601792,\n",
       "    u'used': 3493974016}}},\n",
       " {u'cache': {u'healthy': True, u'num_keys': 64, u'type': u'cluster'},\n",
       "  u'dns_name': u'ec2-52-34-159-226.us-west-2.compute.amazonaws.com',\n",
       "  u'graphlab_service_status': {u'ip-10-0-0-54:10000': {u'reason': None,\n",
       "    u'status': u'healthy'}},\n",
       "  u'id': u'i-ebd60636',\n",
       "  u'models': [{u'lead_score': {u'ip-10-0-0-54:10000': {u'cache_enabled': True,\n",
       "      u'reason': None,\n",
       "      u'status': u'LoadSuccessful',\n",
       "      u'type': u'model',\n",
       "      u'version': 3}}}],\n",
       "  u'reason': u'N/A',\n",
       "  u'state': u'InService',\n",
       "  u'system': {u'cpu_count': 4,\n",
       "   u'cpu_usage': [0.3, 0.1, 0.1, 0.0],\n",
       "   u'disk_usage': {u'root': {u'free': 3858726912,\n",
       "     u'percent': 48.3,\n",
       "     u'total': 8320901120,\n",
       "     u'used': 4015902720},\n",
       "    u'tmp': {u'free': 37426192384,\n",
       "     u'percent': 0.1,\n",
       "     u'total': 39490912256,\n",
       "     u'used': 51875840}},\n",
       "   u'memory': {u'active': 777154560,\n",
       "    u'available': 15049261056,\n",
       "    u'buffers': 92016640,\n",
       "    u'cached': 2651025408,\n",
       "    u'free': 12306219008,\n",
       "    u'inactive': 2304712704,\n",
       "    u'percent': 4.6,\n",
       "    u'total': 15773601792,\n",
       "    u'used': 3467382784}}},\n",
       " {u'cache': {u'healthy': True, u'num_keys': 64, u'type': u'cluster'},\n",
       "  u'dns_name': u'ec2-52-26-179-255.us-west-2.compute.amazonaws.com',\n",
       "  u'graphlab_service_status': {u'ip-10-0-0-52:10000': {u'reason': None,\n",
       "    u'status': u'healthy'}},\n",
       "  u'id': u'i-edd60630',\n",
       "  u'models': [{u'lead_score': {u'ip-10-0-0-52:10000': {u'cache_enabled': True,\n",
       "      u'reason': None,\n",
       "      u'status': u'LoadSuccessful',\n",
       "      u'type': u'model',\n",
       "      u'version': 3}}}],\n",
       "  u'reason': u'N/A',\n",
       "  u'state': u'InService',\n",
       "  u'system': {u'cpu_count': 4,\n",
       "   u'cpu_usage': [0.4, 0.1, 0.1, 0.0],\n",
       "   u'disk_usage': {u'root': {u'free': 3858333696,\n",
       "     u'percent': 48.3,\n",
       "     u'total': 8320901120,\n",
       "     u'used': 4016295936},\n",
       "    u'tmp': {u'free': 37426196480,\n",
       "     u'percent': 0.1,\n",
       "     u'total': 39490912256,\n",
       "     u'used': 51871744}},\n",
       "   u'memory': {u'active': 787660800,\n",
       "    u'available': 15040929792,\n",
       "    u'buffers': 93360128,\n",
       "    u'cached': 2651185152,\n",
       "    u'free': 12296384512,\n",
       "    u'inactive': 2305101824,\n",
       "    u'percent': 4.6,\n",
       "    u'total': 15773601792,\n",
       "    u'used': 3477217280}}}]"
      ]
     },
     "execution_count": 210,
     "metadata": {},
     "output_type": "execute_result"
    }
   ],
   "source": [
    "deployment.get_status()"
   ]
  },
  {
   "cell_type": "markdown",
   "metadata": {
    "collapsed": false
   },
   "source": [
    "Now we can score incoming contacts using the REST endpoint."
   ]
  },
  {
   "cell_type": "code",
   "execution_count": 214,
   "metadata": {
    "collapsed": false
   },
   "outputs": [
    {
     "data": {
      "text/plain": [
       "{u'from_cache': False,\n",
       " u'model': u'lead_score',\n",
       " u'response': [{u'age': 29,\n",
       "   u'campaign': 2,\n",
       "   u'cons.conf.idx': -42.0,\n",
       "   u'cons.price.idx': 93.2,\n",
       "   u'contact': u'cellular',\n",
       "   u'day_of_week': u'wed',\n",
       "   u'default': u'no',\n",
       "   u'duration': 117,\n",
       "   u'education': u'basic.9y',\n",
       "   u'emp.var.rate': -0.1,\n",
       "   u'euribor3m': 4.12,\n",
       "   u'housing': u'yes',\n",
       "   u'job': u'management',\n",
       "   u'lead_score': 0.0692317932844162,\n",
       "   u'loan': u'no',\n",
       "   u'marital': u'married',\n",
       "   u'month': u'nov',\n",
       "   u'nr.employed': 5195,\n",
       "   u'pdays': 999,\n",
       "   u'poutcome': u'nonexistent',\n",
       "   u'previous': 0,\n",
       "   u'quadratic_features': {u'campaign, campaign': 4,\n",
       "    u'campaign, cons.price.idx': 186,\n",
       "    u'campaign, emp.var.rate': 0,\n",
       "    u'campaign, euribor3m': 8,\n",
       "    u'campaign, nr.employed': 10390,\n",
       "    u'campaign, pdays': 1998,\n",
       "    u'campaign, previous': 0,\n",
       "    u'cons.price.idx, cons.price.idx': 8686.24,\n",
       "    u'cons.price.idx, emp.var.rate': -9.32,\n",
       "    u'cons.price.idx, euribor3m': 383.98400000000004,\n",
       "    u'cons.price.idx, nr.employed': 484174.0,\n",
       "    u'cons.price.idx, pdays': 93106.8,\n",
       "    u'cons.price.idx, previous': 0.0,\n",
       "    u'emp.var.rate, emp.var.rate': 0.010000000000000002,\n",
       "    u'emp.var.rate, euribor3m': -0.41200000000000003,\n",
       "    u'emp.var.rate, nr.employed': -519.5,\n",
       "    u'emp.var.rate, pdays': -99.9,\n",
       "    u'emp.var.rate, previous': -0.0,\n",
       "    u'euribor3m, euribor3m': 16.9744,\n",
       "    u'euribor3m, nr.employed': 21403.4,\n",
       "    u'euribor3m, pdays': 4115.88,\n",
       "    u'euribor3m, previous': 0.0,\n",
       "    u'nr.employed, nr.employed': 26988025,\n",
       "    u'nr.employed, pdays': 5189805,\n",
       "    u'nr.employed, previous': 0,\n",
       "    u'pdays, pdays': 998001,\n",
       "    u'pdays, previous': 0,\n",
       "    u'previous, previous': 0},\n",
       "   u'y': u'no'}],\n",
       " u'uuid': u'b2119dd8-4aca-4a02-b356-6b527cd70ff7',\n",
       " u'version': 3}"
      ]
     },
     "execution_count": 214,
     "metadata": {},
     "output_type": "execute_result"
    }
   ],
   "source": [
    "# High lead score: 7720, 8070, 7924\n",
    "# Low lead score: 0, 5000, 7000\n",
    "deployment.query('lead_score', test[5000])"
   ]
  },
  {
   "cell_type": "code",
   "execution_count": null,
   "metadata": {
    "collapsed": false
   },
   "outputs": [],
   "source": [
    "# deployment.terminate_service()"
   ]
  },
  {
   "cell_type": "markdown",
   "metadata": {},
   "source": [
    "## Summary: With Machine Learning and leveraging our existing historical customer data we can prioritize which customers have the largest propensity to buy a new product.\n",
    "\n",
    "## Using Turi's Platform a development team can easily implement a lead scoring model and deploy it as a REST API for integration into Marketing tools and Dashboards\n",
    "\n",
    "### Want to find out more? Let's talk: rajat@turi.com"
   ]
  },
  {
   "cell_type": "code",
   "execution_count": null,
   "metadata": {
    "collapsed": true
   },
   "outputs": [],
   "source": []
  }
 ],
 "metadata": {
  "kernelspec": {
   "display_name": "Python 2",
   "language": "python",
   "name": "python2"
  },
  "language_info": {
   "codemirror_mode": {
    "name": "ipython",
    "version": 2
   },
   "file_extension": ".py",
   "mimetype": "text/x-python",
   "name": "python",
   "nbconvert_exporter": "python",
   "pygments_lexer": "ipython2",
   "version": "2.7.11"
  }
 },
 "nbformat": 4,
 "nbformat_minor": 0
}
