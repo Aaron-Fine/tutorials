{
 "cells": [
   {
    "cell_type": "heading",
    "level": 1,
    "metadata": {},
    "source": [
     "Machine Learning with GraphLab Create"
    ]
   },
  {
   "cell_type": "code",
   "execution_count": 1,
   "metadata": {
    "collapsed": true
   },
   "outputs": [],
   "source": [
    "import graphlab "
   ]
  },
  {
   "cell_type": "markdown",
   "metadata": {},
   "source": [
    "# 1. Load some data (book reviews from Amazon)"
   ]
  },
  {
   "cell_type": "code",
   "execution_count": null,
   "metadata": {
    "collapsed": false
   },
   "outputs": [],
   "source": [
    "book_reviews = graphlab.load_sframe('https://static.turi.com/datasets/book_reviews')"
   ]
  },
  {
   "cell_type": "code",
   "execution_count": 2,
   "metadata": {
    "collapsed": false
   },
   "outputs": [
    {
     "name": "stderr",
     "output_type": "stream",
     "text": [
      "[INFO] \u001b[1;32m1452894390 : INFO:     (initialize_globals_from_environment:282): Setting configuration variable GRAPHLAB_FILEIO_ALTERNATIVE_SSL_CERT_FILE to /Users/shawnscully/Programming/new_install_test/lib/python2.7/site-packages/certifi/cacert.pem\n",
      "\u001b[0m\u001b[1;32m1452894390 : INFO:     (initialize_globals_from_environment:282): Setting configuration variable GRAPHLAB_FILEIO_ALTERNATIVE_SSL_CERT_DIR to \n",
      "\u001b[0mThis commercial license of GraphLab Create is assigned to engr@turi.com.\n",
      "\n",
      "[INFO] Start server at: ipc:///tmp/graphlab_server-11792 - Server binary: /Users/shawnscully/Programming/new_install_test/lib/python2.7/site-packages/graphlab/unity_server - Server log: /tmp/graphlab_server_1452894391.log\n",
      "[INFO] GraphLab Server Version: 1.7.1\n"
     ]
    }
   ],
   "source": [
    "# if you are going to play around with this dataset, you might want to save locally:\n",
    "book_reviews.save('book_reviews')\n",
    "book_reviews = graphlab.SFrame('book_reviews')"
   ]
  },
  {
   "cell_type": "code",
   "execution_count": 3,
   "metadata": {
    "collapsed": false
   },
   "outputs": [
    {
     "data": {
      "text/html": [
       "<div style=\"max-height:1000px;max-width:1500px;overflow:auto;\"><table frame=\"box\" rules=\"cols\">\n",
       "    <tr>\n",
       "        <th style=\"padding-left: 1em; padding-right: 1em; text-align: center\">user_id</th>\n",
       "        <th style=\"padding-left: 1em; padding-right: 1em; text-align: center\">item_id</th>\n",
       "        <th style=\"padding-left: 1em; padding-right: 1em; text-align: center\">title</th>\n",
       "        <th style=\"padding-left: 1em; padding-right: 1em; text-align: center\">price</th>\n",
       "        <th style=\"padding-left: 1em; padding-right: 1em; text-align: center\">profile_name</th>\n",
       "        <th style=\"padding-left: 1em; padding-right: 1em; text-align: center\">helpfulness</th>\n",
       "    </tr>\n",
       "    <tr>\n",
       "        <td style=\"padding-left: 1em; padding-right: 1em; text-align: center; vertical-align: top\">AC58Z72OB2DDX</td>\n",
       "        <td style=\"padding-left: 1em; padding-right: 1em; text-align: center; vertical-align: top\">B000NKGYMK</td>\n",
       "        <td style=\"padding-left: 1em; padding-right: 1em; text-align: center; vertical-align: top\">Alaska Sourdough</td>\n",
       "        <td style=\"padding-left: 1em; padding-right: 1em; text-align: center; vertical-align: top\">None</td>\n",
       "        <td style=\"padding-left: 1em; padding-right: 1em; text-align: center; vertical-align: top\">Gary W. Marian</td>\n",
       "        <td style=\"padding-left: 1em; padding-right: 1em; text-align: center; vertical-align: top\">29/30</td>\n",
       "    </tr>\n",
       "    <tr>\n",
       "        <td style=\"padding-left: 1em; padding-right: 1em; text-align: center; vertical-align: top\">A3CNQIKVTG9QYO</td>\n",
       "        <td style=\"padding-left: 1em; padding-right: 1em; text-align: center; vertical-align: top\">B000NKGYMK</td>\n",
       "        <td style=\"padding-left: 1em; padding-right: 1em; text-align: center; vertical-align: top\">Alaska Sourdough</td>\n",
       "        <td style=\"padding-left: 1em; padding-right: 1em; text-align: center; vertical-align: top\">None</td>\n",
       "        <td style=\"padding-left: 1em; padding-right: 1em; text-align: center; vertical-align: top\">MERRIBETH NORD</td>\n",
       "        <td style=\"padding-left: 1em; padding-right: 1em; text-align: center; vertical-align: top\">25/28</td>\n",
       "    </tr>\n",
       "    <tr>\n",
       "        <td style=\"padding-left: 1em; padding-right: 1em; text-align: center; vertical-align: top\">A2UMP9TJTJ6A6B</td>\n",
       "        <td style=\"padding-left: 1em; padding-right: 1em; text-align: center; vertical-align: top\">B000NKGYMK</td>\n",
       "        <td style=\"padding-left: 1em; padding-right: 1em; text-align: center; vertical-align: top\">Alaska Sourdough</td>\n",
       "        <td style=\"padding-left: 1em; padding-right: 1em; text-align: center; vertical-align: top\">None</td>\n",
       "        <td style=\"padding-left: 1em; padding-right: 1em; text-align: center; vertical-align: top\">happygardeningmama<br>\"happygardeningmama\" ...</td>\n",
       "        <td style=\"padding-left: 1em; padding-right: 1em; text-align: center; vertical-align: top\">7/8</td>\n",
       "    </tr>\n",
       "    <tr>\n",
       "        <td style=\"padding-left: 1em; padding-right: 1em; text-align: center; vertical-align: top\">AC2TK7NHKB5C0</td>\n",
       "        <td style=\"padding-left: 1em; padding-right: 1em; text-align: center; vertical-align: top\">B000NKGYMK</td>\n",
       "        <td style=\"padding-left: 1em; padding-right: 1em; text-align: center; vertical-align: top\">Alaska Sourdough</td>\n",
       "        <td style=\"padding-left: 1em; padding-right: 1em; text-align: center; vertical-align: top\">None</td>\n",
       "        <td style=\"padding-left: 1em; padding-right: 1em; text-align: center; vertical-align: top\">Kiki B. \"The Shepherdess\"</td>\n",
       "        <td style=\"padding-left: 1em; padding-right: 1em; text-align: center; vertical-align: top\">4/4</td>\n",
       "    </tr>\n",
       "    <tr>\n",
       "        <td style=\"padding-left: 1em; padding-right: 1em; text-align: center; vertical-align: top\">A22T74YNRM8NTK</td>\n",
       "        <td style=\"padding-left: 1em; padding-right: 1em; text-align: center; vertical-align: top\">B000NKGYMK</td>\n",
       "        <td style=\"padding-left: 1em; padding-right: 1em; text-align: center; vertical-align: top\">Alaska Sourdough</td>\n",
       "        <td style=\"padding-left: 1em; padding-right: 1em; text-align: center; vertical-align: top\">None</td>\n",
       "        <td style=\"padding-left: 1em; padding-right: 1em; text-align: center; vertical-align: top\">Heddlemaid</td>\n",
       "        <td style=\"padding-left: 1em; padding-right: 1em; text-align: center; vertical-align: top\">8/10</td>\n",
       "    </tr>\n",
       "    <tr>\n",
       "        <td style=\"padding-left: 1em; padding-right: 1em; text-align: center; vertical-align: top\">A2E0GB5QZRX2JZ</td>\n",
       "        <td style=\"padding-left: 1em; padding-right: 1em; text-align: center; vertical-align: top\">B000NKGYMK</td>\n",
       "        <td style=\"padding-left: 1em; padding-right: 1em; text-align: center; vertical-align: top\">Alaska Sourdough</td>\n",
       "        <td style=\"padding-left: 1em; padding-right: 1em; text-align: center; vertical-align: top\">None</td>\n",
       "        <td style=\"padding-left: 1em; padding-right: 1em; text-align: center; vertical-align: top\">Linda Pool<br>\"cookbookaholic\" ...</td>\n",
       "        <td style=\"padding-left: 1em; padding-right: 1em; text-align: center; vertical-align: top\">5/6</td>\n",
       "    </tr>\n",
       "    <tr>\n",
       "        <td style=\"padding-left: 1em; padding-right: 1em; text-align: center; vertical-align: top\">A7VSVB6Z0JHOV</td>\n",
       "        <td style=\"padding-left: 1em; padding-right: 1em; text-align: center; vertical-align: top\">B000NKGYMK</td>\n",
       "        <td style=\"padding-left: 1em; padding-right: 1em; text-align: center; vertical-align: top\">Alaska Sourdough</td>\n",
       "        <td style=\"padding-left: 1em; padding-right: 1em; text-align: center; vertical-align: top\">None</td>\n",
       "        <td style=\"padding-left: 1em; padding-right: 1em; text-align: center; vertical-align: top\">C.J. Wh</td>\n",
       "        <td style=\"padding-left: 1em; padding-right: 1em; text-align: center; vertical-align: top\">1/1</td>\n",
       "    </tr>\n",
       "    <tr>\n",
       "        <td style=\"padding-left: 1em; padding-right: 1em; text-align: center; vertical-align: top\">A1VXDNO64WERDD</td>\n",
       "        <td style=\"padding-left: 1em; padding-right: 1em; text-align: center; vertical-align: top\">B000NKGYMK</td>\n",
       "        <td style=\"padding-left: 1em; padding-right: 1em; text-align: center; vertical-align: top\">Alaska Sourdough</td>\n",
       "        <td style=\"padding-left: 1em; padding-right: 1em; text-align: center; vertical-align: top\">None</td>\n",
       "        <td style=\"padding-left: 1em; padding-right: 1em; text-align: center; vertical-align: top\">c.arthu</td>\n",
       "        <td style=\"padding-left: 1em; padding-right: 1em; text-align: center; vertical-align: top\">0/0</td>\n",
       "    </tr>\n",
       "    <tr>\n",
       "        <td style=\"padding-left: 1em; padding-right: 1em; text-align: center; vertical-align: top\">A2BDX4R1Y9Q23</td>\n",
       "        <td style=\"padding-left: 1em; padding-right: 1em; text-align: center; vertical-align: top\">B000NKGYMK</td>\n",
       "        <td style=\"padding-left: 1em; padding-right: 1em; text-align: center; vertical-align: top\">Alaska Sourdough</td>\n",
       "        <td style=\"padding-left: 1em; padding-right: 1em; text-align: center; vertical-align: top\">None</td>\n",
       "        <td style=\"padding-left: 1em; padding-right: 1em; text-align: center; vertical-align: top\">Clive Fraz</td>\n",
       "        <td style=\"padding-left: 1em; padding-right: 1em; text-align: center; vertical-align: top\">1/2</td>\n",
       "    </tr>\n",
       "    <tr>\n",
       "        <td style=\"padding-left: 1em; padding-right: 1em; text-align: center; vertical-align: top\">AT050AMICV57J</td>\n",
       "        <td style=\"padding-left: 1em; padding-right: 1em; text-align: center; vertical-align: top\">B000NKGYMK</td>\n",
       "        <td style=\"padding-left: 1em; padding-right: 1em; text-align: center; vertical-align: top\">Alaska Sourdough</td>\n",
       "        <td style=\"padding-left: 1em; padding-right: 1em; text-align: center; vertical-align: top\">None</td>\n",
       "        <td style=\"padding-left: 1em; padding-right: 1em; text-align: center; vertical-align: top\">mavis j.hintermeister<br>\"Mavis J. Hint'\" ...</td>\n",
       "        <td style=\"padding-left: 1em; padding-right: 1em; text-align: center; vertical-align: top\">1/2</td>\n",
       "    </tr>\n",
       "</table>\n",
       "<table frame=\"box\" rules=\"cols\">\n",
       "    <tr>\n",
       "        <th style=\"padding-left: 1em; padding-right: 1em; text-align: center\">summary</th>\n",
       "        <th style=\"padding-left: 1em; padding-right: 1em; text-align: center\">text</th>\n",
       "        <th style=\"padding-left: 1em; padding-right: 1em; text-align: center\">score</th>\n",
       "        <th style=\"padding-left: 1em; padding-right: 1em; text-align: center\">time</th>\n",
       "    </tr>\n",
       "    <tr>\n",
       "        <td style=\"padding-left: 1em; padding-right: 1em; text-align: center; vertical-align: top\">true alaskan cooking</td>\n",
       "        <td style=\"padding-left: 1em; padding-right: 1em; text-align: center; vertical-align: top\">I have been using this<br>book since 1988, the ...</td>\n",
       "        <td style=\"padding-left: 1em; padding-right: 1em; text-align: center; vertical-align: top\">5.0</td>\n",
       "        <td style=\"padding-left: 1em; padding-right: 1em; text-align: center; vertical-align: top\">945734400</td>\n",
       "    </tr>\n",
       "    <tr>\n",
       "        <td style=\"padding-left: 1em; padding-right: 1em; text-align: center; vertical-align: top\">cheechako to sourdough in<br>190 pag ...</td>\n",
       "        <td style=\"padding-left: 1em; padding-right: 1em; text-align: center; vertical-align: top\">My poor dogeared, stained<br>copy of this book cam ...</td>\n",
       "        <td style=\"padding-left: 1em; padding-right: 1em; text-align: center; vertical-align: top\">5.0</td>\n",
       "        <td style=\"padding-left: 1em; padding-right: 1em; text-align: center; vertical-align: top\">982972800</td>\n",
       "    </tr>\n",
       "    <tr>\n",
       "        <td style=\"padding-left: 1em; padding-right: 1em; text-align: center; vertical-align: top\">cannot recommend</td>\n",
       "        <td style=\"padding-left: 1em; padding-right: 1em; text-align: center; vertical-align: top\">As a former Alaskan, I<br>didn't want to have t ...</td>\n",
       "        <td style=\"padding-left: 1em; padding-right: 1em; text-align: center; vertical-align: top\">1.0</td>\n",
       "        <td style=\"padding-left: 1em; padding-right: 1em; text-align: center; vertical-align: top\">1310169600</td>\n",
       "    </tr>\n",
       "    <tr>\n",
       "        <td style=\"padding-left: 1em; padding-right: 1em; text-align: center; vertical-align: top\">the best sourdough book<br>around ...</td>\n",
       "        <td style=\"padding-left: 1em; padding-right: 1em; text-align: center; vertical-align: top\">For those of us who would<br>prefer to use sourdough ...</td>\n",
       "        <td style=\"padding-left: 1em; padding-right: 1em; text-align: center; vertical-align: top\">5.0</td>\n",
       "        <td style=\"padding-left: 1em; padding-right: 1em; text-align: center; vertical-align: top\">1236643200</td>\n",
       "    </tr>\n",
       "    <tr>\n",
       "        <td style=\"padding-left: 1em; padding-right: 1em; text-align: center; vertical-align: top\">worth buying just for the<br>waffle recip ...</td>\n",
       "        <td style=\"padding-left: 1em; padding-right: 1em; text-align: center; vertical-align: top\">Make the most sublime<br>waffles - crispy outs ...</td>\n",
       "        <td style=\"padding-left: 1em; padding-right: 1em; text-align: center; vertical-align: top\">5.0</td>\n",
       "        <td style=\"padding-left: 1em; padding-right: 1em; text-align: center; vertical-align: top\">1107820800</td>\n",
       "    </tr>\n",
       "    <tr>\n",
       "        <td style=\"padding-left: 1em; padding-right: 1em; text-align: center; vertical-align: top\">a bit of heaven</td>\n",
       "        <td style=\"padding-left: 1em; padding-right: 1em; text-align: center; vertical-align: top\">I got this book because<br>of all the interesting ...</td>\n",
       "        <td style=\"padding-left: 1em; padding-right: 1em; text-align: center; vertical-align: top\">5.0</td>\n",
       "        <td style=\"padding-left: 1em; padding-right: 1em; text-align: center; vertical-align: top\">1244851200</td>\n",
       "    </tr>\n",
       "    <tr>\n",
       "        <td style=\"padding-left: 1em; padding-right: 1em; text-align: center; vertical-align: top\">imprecise recipes make<br>bad bread ...</td>\n",
       "        <td style=\"padding-left: 1em; padding-right: 1em; text-align: center; vertical-align: top\">It's quaint, I'll give it<br>that. The handwritten ...</td>\n",
       "        <td style=\"padding-left: 1em; padding-right: 1em; text-align: center; vertical-align: top\">2.0</td>\n",
       "        <td style=\"padding-left: 1em; padding-right: 1em; text-align: center; vertical-align: top\">1349654400</td>\n",
       "    </tr>\n",
       "    <tr>\n",
       "        <td style=\"padding-left: 1em; padding-right: 1em; text-align: center; vertical-align: top\">cant cook sourdough<br>without it ...</td>\n",
       "        <td style=\"padding-left: 1em; padding-right: 1em; text-align: center; vertical-align: top\">Bought this in 1982 and<br>used it thoroughly for ...</td>\n",
       "        <td style=\"padding-left: 1em; padding-right: 1em; text-align: center; vertical-align: top\">5.0</td>\n",
       "        <td style=\"padding-left: 1em; padding-right: 1em; text-align: center; vertical-align: top\">1359590400</td>\n",
       "    </tr>\n",
       "    <tr>\n",
       "        <td style=\"padding-left: 1em; padding-right: 1em; text-align: center; vertical-align: top\">enjoyed ruth's sourdough<br>pancakes when she served ...</td>\n",
       "        <td style=\"padding-left: 1em; padding-right: 1em; text-align: center; vertical-align: top\">I toured the House of<br>Wickersham in Juneau ...</td>\n",
       "        <td style=\"padding-left: 1em; padding-right: 1em; text-align: center; vertical-align: top\">5.0</td>\n",
       "        <td style=\"padding-left: 1em; padding-right: 1em; text-align: center; vertical-align: top\">1228780800</td>\n",
       "    </tr>\n",
       "    <tr>\n",
       "        <td style=\"padding-left: 1em; padding-right: 1em; text-align: center; vertical-align: top\">alaska sourdough</td>\n",
       "        <td style=\"padding-left: 1em; padding-right: 1em; text-align: center; vertical-align: top\">This is a wonderful book.<br>Now I have so many more ...</td>\n",
       "        <td style=\"padding-left: 1em; padding-right: 1em; text-align: center; vertical-align: top\">5.0</td>\n",
       "        <td style=\"padding-left: 1em; padding-right: 1em; text-align: center; vertical-align: top\">1208649600</td>\n",
       "    </tr>\n",
       "</table>\n",
       "[10 rows x 10 columns]<br/>\n",
       "</div>"
      ],
      "text/plain": [
       "Columns:\n",
       "\tuser_id\tstr\n",
       "\titem_id\tstr\n",
       "\ttitle\tstr\n",
       "\tprice\tfloat\n",
       "\tprofile_name\tstr\n",
       "\thelpfulness\tstr\n",
       "\tsummary\tstr\n",
       "\ttext\tstr\n",
       "\tscore\tstr\n",
       "\ttime\tstr\n",
       "\n",
       "Rows: 10\n",
       "\n",
       "Data:\n",
       "+----------------+------------+------------------+-------+\n",
       "|    user_id     |  item_id   |      title       | price |\n",
       "+----------------+------------+------------------+-------+\n",
       "| AC58Z72OB2DDX  | B000NKGYMK | Alaska Sourdough |  None |\n",
       "| A3CNQIKVTG9QYO | B000NKGYMK | Alaska Sourdough |  None |\n",
       "| A2UMP9TJTJ6A6B | B000NKGYMK | Alaska Sourdough |  None |\n",
       "| AC2TK7NHKB5C0  | B000NKGYMK | Alaska Sourdough |  None |\n",
       "| A22T74YNRM8NTK | B000NKGYMK | Alaska Sourdough |  None |\n",
       "| A2E0GB5QZRX2JZ | B000NKGYMK | Alaska Sourdough |  None |\n",
       "| A7VSVB6Z0JHOV  | B000NKGYMK | Alaska Sourdough |  None |\n",
       "| A1VXDNO64WERDD | B000NKGYMK | Alaska Sourdough |  None |\n",
       "| A2BDX4R1Y9Q23  | B000NKGYMK | Alaska Sourdough |  None |\n",
       "| AT050AMICV57J  | B000NKGYMK | Alaska Sourdough |  None |\n",
       "+----------------+------------+------------------+-------+\n",
       "+-------------------------------+-------------+--------------------------------+\n",
       "|          profile_name         | helpfulness |            summary             |\n",
       "+-------------------------------+-------------+--------------------------------+\n",
       "|         Gary W. Marian        |    29/30    |      true alaskan cooking      |\n",
       "|         MERRIBETH NORD        |    25/28    | cheechako to sourdough in ...  |\n",
       "| happygardeningmama \"happyg... |     7/8     |        cannot recommend        |\n",
       "|   Kiki B. \"The Shepherdess\"   |     4/4     | the best sourdough book around |\n",
       "|           Heddlemaid          |     8/10    | worth buying just for the ...  |\n",
       "|  Linda Pool \"cookbookaholic\"  |     5/6     |        a bit of heaven         |\n",
       "|            C.J. Wh            |     1/1     | imprecise recipes make bad...  |\n",
       "|            c.arthu            |     0/0     | cant cook sourdough without it |\n",
       "|           Clive Fraz          |     1/2     | enjoyed ruth's sourdough p...  |\n",
       "| mavis j.hintermeister \"Mav... |     1/2     |        alaska sourdough        |\n",
       "+-------------------------------+-------------+--------------------------------+\n",
       "+-------------------------------+-------+------------+\n",
       "|              text             | score |    time    |\n",
       "+-------------------------------+-------+------------+\n",
       "| I have been using this boo... |  5.0  | 945734400  |\n",
       "| My poor dogeared, stained ... |  5.0  | 982972800  |\n",
       "| As a former Alaskan, I did... |  1.0  | 1310169600 |\n",
       "| For those of us who would ... |  5.0  | 1236643200 |\n",
       "| Make the most sublime waff... |  5.0  | 1107820800 |\n",
       "| I got this book because of... |  5.0  | 1244851200 |\n",
       "| It's quaint, I'll give it ... |  2.0  | 1349654400 |\n",
       "| Bought this in 1982 and us... |  5.0  | 1359590400 |\n",
       "| I toured the House of Wick... |  5.0  | 1228780800 |\n",
       "| This is a wonderful book. ... |  5.0  | 1208649600 |\n",
       "+-------------------------------+-------+------------+\n",
       "[10 rows x 10 columns]"
      ]
     },
     "execution_count": 3,
     "metadata": {},
     "output_type": "execute_result"
    }
   ],
   "source": [
    "book_reviews.head() # see the first bit of the dataset"
   ]
  },
  {
   "cell_type": "code",
   "execution_count": null,
   "metadata": {
    "collapsed": false
   },
   "outputs": [],
   "source": [
    "book_reviews.show()"
   ]
  },
  {
   "cell_type": "markdown",
   "metadata": {},
   "source": [
    "# 2. Build a model (with the recommender toolkit)"
   ]
  },
  {
   "cell_type": "code",
   "execution_count": null,
   "metadata": {
    "collapsed": true
   },
   "outputs": [],
   "source": [
    "graphlab.toolkits.recommender.# tab complete to see all of the toolkits here, or visit our api docs: \n",
    "#https://turi.com/products/create/docs/graphlab.toolkits.html"
   ]
  },
  {
   "cell_type": "code",
   "execution_count": 4,
   "metadata": {
    "collapsed": false
   },
   "outputs": [
    {
     "name": "stdout",
     "output_type": "stream",
     "text": [
      "PROGRESS: Recsys training: model = item_similarity\n",
      "PROGRESS: Warning: Ignoring columns item_id, price, profile_name, helpfulness, summary, text, score, time;\n",
      "PROGRESS:     To use one of these as a target column, set target = <column_name>\n",
      "PROGRESS:     and use a method that allows the use of a target.\n",
      "PROGRESS: Preparing data set.\n",
      "PROGRESS:     Data has 723183 observations with 475868 users and 30988 items.\n",
      "PROGRESS:     Data prepared in: 1.72519s\n",
      "PROGRESS: Processing 723183 observations:\n",
      "PROGRESS:    Observations   Seconds\n",
      "PROGRESS:          723183   7.21966\n",
      "PROGRESS: Computing similar items for 30988 items using 8 partitions:\n",
      "PROGRESS:  Partition     Items   Seconds\n",
      "PROGRESS:          0      3876   7.48628\n",
      "PROGRESS:          1      7748   7.76236\n",
      "PROGRESS:          2     11625   8.11502\n",
      "PROGRESS:          3     15497   8.48004\n",
      "PROGRESS:          4     19369   8.80491\n",
      "PROGRESS:          5     23237   9.12191\n",
      "PROGRESS:          6     27115   9.49157\n",
      "PROGRESS:          7     30988   9.80209\n",
      "PROGRESS: Finished getting similar items for 30988 items in 9.80218s.\n",
      "PROGRESS: Finished training in 15.3743s\n"
     ]
    }
   ],
   "source": [
    "book_model = graphlab.toolkits.recommender.create(book_reviews, item_id='title')"
   ]
  },
  {
   "cell_type": "code",
   "execution_count": null,
   "metadata": {
    "collapsed": false
   },
   "outputs": [],
   "source": [
    "# find some star wars fan fiction\n",
    "book_reviews[book_reviews['title'].apply(lambda t: 'star wars' in t.lower())]['title'].unique()"
   ]
  },
  {
   "cell_type": "code",
   "execution_count": 5,
   "metadata": {
    "collapsed": true
   },
   "outputs": [],
   "source": [
    "# pick one title to investigate recommendations\n",
    "title = 'Force Heretic I: Remnant (Star Wars: The New Jedi Order, Book 15)'"
   ]
  },
  {
   "cell_type": "code",
   "execution_count": 6,
   "metadata": {
    "collapsed": false
   },
   "outputs": [
    {
     "name": "stdout",
     "output_type": "stream",
     "text": [
      "PROGRESS: Getting similar items completed in 0.002283\n"
     ]
    },
    {
     "data": {
      "text/html": [
       "<div style=\"max-height:1000px;max-width:1500px;overflow:auto;\"><table frame=\"box\" rules=\"cols\">\n",
       "    <tr>\n",
       "        <th style=\"padding-left: 1em; padding-right: 1em; text-align: center\">title</th>\n",
       "        <th style=\"padding-left: 1em; padding-right: 1em; text-align: center\">similar</th>\n",
       "        <th style=\"padding-left: 1em; padding-right: 1em; text-align: center\">score</th>\n",
       "        <th style=\"padding-left: 1em; padding-right: 1em; text-align: center\">rank</th>\n",
       "    </tr>\n",
       "    <tr>\n",
       "        <td style=\"padding-left: 1em; padding-right: 1em; text-align: center; vertical-align: top\">Force Heretic I: Remnant<br>(Star Wars: The New Jedi ...</td>\n",
       "        <td style=\"padding-left: 1em; padding-right: 1em; text-align: center; vertical-align: top\">Destiny's Way</td>\n",
       "        <td style=\"padding-left: 1em; padding-right: 1em; text-align: center; vertical-align: top\">0.23275862069</td>\n",
       "        <td style=\"padding-left: 1em; padding-right: 1em; text-align: center; vertical-align: top\">1</td>\n",
       "    </tr>\n",
       "    <tr>\n",
       "        <td style=\"padding-left: 1em; padding-right: 1em; text-align: center; vertical-align: top\">Force Heretic I: Remnant<br>(Star Wars: The New Jedi ...</td>\n",
       "        <td style=\"padding-left: 1em; padding-right: 1em; text-align: center; vertical-align: top\">Edge of Victory II:<br>Rebirth (Star Wars: The ...</td>\n",
       "        <td style=\"padding-left: 1em; padding-right: 1em; text-align: center; vertical-align: top\">0.114754098361</td>\n",
       "        <td style=\"padding-left: 1em; padding-right: 1em; text-align: center; vertical-align: top\">2</td>\n",
       "    </tr>\n",
       "    <tr>\n",
       "        <td style=\"padding-left: 1em; padding-right: 1em; text-align: center; vertical-align: top\">Force Heretic I: Remnant<br>(Star Wars: The New Jedi ...</td>\n",
       "        <td style=\"padding-left: 1em; padding-right: 1em; text-align: center; vertical-align: top\">Wedges Gamb</td>\n",
       "        <td style=\"padding-left: 1em; padding-right: 1em; text-align: center; vertical-align: top\">0.102040816327</td>\n",
       "        <td style=\"padding-left: 1em; padding-right: 1em; text-align: center; vertical-align: top\">3</td>\n",
       "    </tr>\n",
       "    <tr>\n",
       "        <td style=\"padding-left: 1em; padding-right: 1em; text-align: center; vertical-align: top\">Force Heretic I: Remnant<br>(Star Wars: The New Jedi ...</td>\n",
       "        <td style=\"padding-left: 1em; padding-right: 1em; text-align: center; vertical-align: top\">Star Wars Dark Nest I</td>\n",
       "        <td style=\"padding-left: 1em; padding-right: 1em; text-align: center; vertical-align: top\">0.0964912280702</td>\n",
       "        <td style=\"padding-left: 1em; padding-right: 1em; text-align: center; vertical-align: top\">4</td>\n",
       "    </tr>\n",
       "    <tr>\n",
       "        <td style=\"padding-left: 1em; padding-right: 1em; text-align: center; vertical-align: top\">Force Heretic I: Remnant<br>(Star Wars: The New Jedi ...</td>\n",
       "        <td style=\"padding-left: 1em; padding-right: 1em; text-align: center; vertical-align: top\">Star Wars Agents Of Chaos<br>1 Hero's Tria ...</td>\n",
       "        <td style=\"padding-left: 1em; padding-right: 1em; text-align: center; vertical-align: top\">0.0915492957746</td>\n",
       "        <td style=\"padding-left: 1em; padding-right: 1em; text-align: center; vertical-align: top\">5</td>\n",
       "    </tr>\n",
       "    <tr>\n",
       "        <td style=\"padding-left: 1em; padding-right: 1em; text-align: center; vertical-align: top\">Force Heretic I: Remnant<br>(Star Wars: The New Jedi ...</td>\n",
       "        <td style=\"padding-left: 1em; padding-right: 1em; text-align: center; vertical-align: top\">The Crystal Sta</td>\n",
       "        <td style=\"padding-left: 1em; padding-right: 1em; text-align: center; vertical-align: top\">0.0703125</td>\n",
       "        <td style=\"padding-left: 1em; padding-right: 1em; text-align: center; vertical-align: top\">6</td>\n",
       "    </tr>\n",
       "    <tr>\n",
       "        <td style=\"padding-left: 1em; padding-right: 1em; text-align: center; vertical-align: top\">Force Heretic I: Remnant<br>(Star Wars: The New Jedi ...</td>\n",
       "        <td style=\"padding-left: 1em; padding-right: 1em; text-align: center; vertical-align: top\">The Cestus Deception<br>(Star Wars: Clone Wars ...</td>\n",
       "        <td style=\"padding-left: 1em; padding-right: 1em; text-align: center; vertical-align: top\">0.0650406504065</td>\n",
       "        <td style=\"padding-left: 1em; padding-right: 1em; text-align: center; vertical-align: top\">7</td>\n",
       "    </tr>\n",
       "    <tr>\n",
       "        <td style=\"padding-left: 1em; padding-right: 1em; text-align: center; vertical-align: top\">Force Heretic I: Remnant<br>(Star Wars: The New Jedi ...</td>\n",
       "        <td style=\"padding-left: 1em; padding-right: 1em; text-align: center; vertical-align: top\">Tyrant's Tes</td>\n",
       "        <td style=\"padding-left: 1em; padding-right: 1em; text-align: center; vertical-align: top\">0.0631578947368</td>\n",
       "        <td style=\"padding-left: 1em; padding-right: 1em; text-align: center; vertical-align: top\">8</td>\n",
       "    </tr>\n",
       "    <tr>\n",
       "        <td style=\"padding-left: 1em; padding-right: 1em; text-align: center; vertical-align: top\">Force Heretic I: Remnant<br>(Star Wars: The New Jedi ...</td>\n",
       "        <td style=\"padding-left: 1em; padding-right: 1em; text-align: center; vertical-align: top\">Splinter of the Mind's Ey</td>\n",
       "        <td style=\"padding-left: 1em; padding-right: 1em; text-align: center; vertical-align: top\">0.062015503876</td>\n",
       "        <td style=\"padding-left: 1em; padding-right: 1em; text-align: center; vertical-align: top\">9</td>\n",
       "    </tr>\n",
       "    <tr>\n",
       "        <td style=\"padding-left: 1em; padding-right: 1em; text-align: center; vertical-align: top\">Force Heretic I: Remnant<br>(Star Wars: The New Jedi ...</td>\n",
       "        <td style=\"padding-left: 1em; padding-right: 1em; text-align: center; vertical-align: top\">The Mandalorian Armor -<br>Book 1 of the Bounty ...</td>\n",
       "        <td style=\"padding-left: 1em; padding-right: 1em; text-align: center; vertical-align: top\">0.0597014925373</td>\n",
       "        <td style=\"padding-left: 1em; padding-right: 1em; text-align: center; vertical-align: top\">10</td>\n",
       "    </tr>\n",
       "</table>\n",
       "[10 rows x 4 columns]<br/>\n",
       "</div>"
      ],
      "text/plain": [
       "Columns:\n",
       "\ttitle\tstr\n",
       "\tsimilar\tstr\n",
       "\tscore\tfloat\n",
       "\trank\tint\n",
       "\n",
       "Rows: 10\n",
       "\n",
       "Data:\n",
       "+-------------------------------+-------------------------------+\n",
       "|             title             |            similar            |\n",
       "+-------------------------------+-------------------------------+\n",
       "| Force Heretic I: Remnant (... |         Destiny's Way         |\n",
       "| Force Heretic I: Remnant (... | Edge of Victory II: Rebirt... |\n",
       "| Force Heretic I: Remnant (... |          Wedges Gamb          |\n",
       "| Force Heretic I: Remnant (... |     Star Wars Dark Nest I     |\n",
       "| Force Heretic I: Remnant (... | Star Wars Agents Of Chaos ... |\n",
       "| Force Heretic I: Remnant (... |        The Crystal Sta        |\n",
       "| Force Heretic I: Remnant (... | The Cestus Deception (Star... |\n",
       "| Force Heretic I: Remnant (... |          Tyrant's Tes         |\n",
       "| Force Heretic I: Remnant (... |   Splinter of the Mind's Ey   |\n",
       "| Force Heretic I: Remnant (... | The Mandalorian Armor - Bo... |\n",
       "+-------------------------------+-------------------------------+\n",
       "+-----------------+------+\n",
       "|      score      | rank |\n",
       "+-----------------+------+\n",
       "|  0.23275862069  |  1   |\n",
       "|  0.114754098361 |  2   |\n",
       "|  0.102040816327 |  3   |\n",
       "| 0.0964912280702 |  4   |\n",
       "| 0.0915492957746 |  5   |\n",
       "|    0.0703125    |  6   |\n",
       "| 0.0650406504065 |  7   |\n",
       "| 0.0631578947368 |  8   |\n",
       "|  0.062015503876 |  9   |\n",
       "| 0.0597014925373 |  10  |\n",
       "+-----------------+------+\n",
       "[10 rows x 4 columns]"
      ]
     },
     "execution_count": 6,
     "metadata": {},
     "output_type": "execute_result"
    }
   ],
   "source": [
    "book_model.get_similar_items([title])"
   ]
  },
  {
   "cell_type": "markdown",
   "metadata": {},
   "source": [
    "# 3. Deploy the model as a fault tolerant scalable REST service"
   ]
  },
  {
   "cell_type": "code",
   "execution_count": null,
   "metadata": {
    "collapsed": true
   },
   "outputs": [],
   "source": [
    "# # if you are creating a predictive service for the first time, execute the following\n",
    "# # # make sure replace the following with your own information\n",
    "# ps_state_path = 's3://<your-bucket-name>/predictive_service/ps'\n",
    "\n",
    "# # # setup your own AWS credentials.\n",
    "# gl.aws.set_credentials(<key>, <secret>)\n",
    "\n",
    "# # # create an EC2 config, you may also pass aws_access_key and aws_secret_key parameter here in to EC2 initializer\n",
    "# # # If the credential is not specified, you may also use gl.aws.set_credentials() to setup the AWS credentials\n",
    "# ec2_config = gl.deploy.Ec2Config()\n",
    "\n",
    "# # # use the EC2 config to launch a new Predictive Service\n",
    "# # # num_hosts specifies how many machines the Predictive Service cluster has. You can scale up and down later after initial creation.\n",
    "# my_deployment = gl.deploy.predictive_service.create(name = 'my-service-deployment', ec2_config = ec2_config, state_path = ps_state_path, num_hosts = 1)"
   ]
  },
  {
   "cell_type": "code",
   "execution_count": 7,
   "metadata": {
    "collapsed": false
   },
   "outputs": [
    {
     "name": "stderr",
     "output_type": "stream",
     "text": [
      "[WARNING] Overwritting existing Predictive Service \"sales-demo-one-sev\" in local session.\n"
     ]
    }
   ],
   "source": [
    "ps_state_path = 's3://gl-demo-usw2/predictive_service/sales-demo/ps-1.7.1'\n",
    "# make sure ps_state_path is defined\n",
    "my_deployment = graphlab.deploy.predictive_service.load(ps_state_path)\n"
   ]
  },
  {
   "cell_type": "code",
   "execution_count": 8,
   "metadata": {
    "collapsed": false
   },
   "outputs": [
    {
     "name": "stdout",
     "output_type": "stream",
     "text": [
      "Canvas is accessible via web browser at the URL: http://localhost:63363/index.html\n",
      "Opening Canvas in default web browser.\n"
     ]
    },
    {
     "name": "stderr",
     "output_type": "stream",
     "text": [
      "[INFO] retrieving metrics from predictive service...\n"
     ]
    }
   ],
   "source": [
    "# see the status of and what's deployed on my_deployment\n",
    "my_deployment.show()"
   ]
  },
  {
   "cell_type": "code",
   "execution_count": 9,
   "metadata": {
    "collapsed": false
   },
   "outputs": [],
   "source": [
    "# creating a new intelligent service is as simple as defining a Python function\n",
    "# you can deploy anything that you can \"pickle\" in Python\n",
    "\n",
    "# inputs and returns of this function map directly to the io of the endpoint for the REST service\n",
    "def get_me_books(book_name, num_books=5):\n",
    "    return book_model.get_similar_items([book_name], k=num_books)"
   ]
  },
  {
   "cell_type": "code",
   "execution_count": 10,
   "metadata": {
    "collapsed": false
   },
   "outputs": [
    {
     "name": "stderr",
     "output_type": "stream",
     "text": [
      "[INFO] Endpoint 'get_me_bks' is added. Use apply_changes() to deploy all pending changes, or continue with other modification.\n"
     ]
    }
   ],
   "source": [
    "my_deployment.add('get_me_bks', get_me_books)"
   ]
  },
  {
   "cell_type": "code",
   "execution_count": 11,
   "metadata": {
    "collapsed": false
   },
   "outputs": [
    {
     "name": "stderr",
     "output_type": "stream",
     "text": [
      "[INFO] Persisting endpoint changes.\n",
      "[INFO] Uploading local path /var/folders/7f/hrn6_x2n6c9_jkg5647l56km0000gp/T/predictive_object_XMyTqi to s3 path: s3://gl-demo-usw2/predictive_service/sales-demo/ps-1.7.1/predictive_objects/get_me_bks/1\n"
     ]
    },
    {
     "name": "stdout",
     "output_type": "stream",
     "text": [
      "upload: ../../../../var/folders/7f/hrn6_x2n6c9_jkg5647l56km0000gp/T/predictive_object_XMyTqi/d4f7411f-c63a-4201-b6c2-fe20b48948a3/m_6786fd46640915ea.sidx to s3://gl-demo-usw2/predictive_service/sales-demo/ps-1.7.1/predictive_objects/get_me_bks/1/d4f7411f-c63a-4201-b6c2-fe20b48948a3/m_6786fd46640915ea.sidx\n",
      "upload: ../../../../var/folders/7f/hrn6_x2n6c9_jkg5647l56km0000gp/T/predictive_object_XMyTqi/d4f7411f-c63a-4201-b6c2-fe20b48948a3/dir_archive.ini to s3://gl-demo-usw2/predictive_service/sales-demo/ps-1.7.1/predictive_objects/get_me_bks/1/d4f7411f-c63a-4201-b6c2-fe20b48948a3/dir_archive.ini\n",
      "upload: ../../../../var/folders/7f/hrn6_x2n6c9_jkg5647l56km0000gp/T/predictive_object_XMyTqi/pickle_archive to s3://gl-demo-usw2/predictive_service/sales-demo/ps-1.7.1/predictive_objects/get_me_bks/1/pickle_archive\n",
      "upload: ../../../../var/folders/7f/hrn6_x2n6c9_jkg5647l56km0000gp/T/predictive_object_XMyTqi/version to s3://gl-demo-usw2/predictive_service/sales-demo/ps-1.7.1/predictive_objects/get_me_bks/1/version\n",
      "upload: ../../../../var/folders/7f/hrn6_x2n6c9_jkg5647l56km0000gp/T/predictive_object_XMyTqi/d4f7411f-c63a-4201-b6c2-fe20b48948a3/m_6786fd46640915ea.0000 to s3://gl-demo-usw2/predictive_service/sales-demo/ps-1.7.1/predictive_objects/get_me_bks/1/d4f7411f-c63a-4201-b6c2-fe20b48948a3/m_6786fd46640915ea.0000\n",
      "Completed 12 of 12 part(s) with 1 file(s) remaining"
     ]
    },
    {
     "name": "stderr",
     "output_type": "stream",
     "text": [
      "[INFO] Successfully uploaded to s3 path s3://gl-demo-usw2/predictive_service/sales-demo/ps-1.7.1/predictive_objects/get_me_bks/1\n"
     ]
    },
    {
     "name": "stdout",
     "output_type": "stream",
     "text": [
      "\r",
      "upload: ../../../../var/folders/7f/hrn6_x2n6c9_jkg5647l56km0000gp/T/predictive_object_XMyTqi/d4f7411f-c63a-4201-b6c2-fe20b48948a3/objects.bin to s3://gl-demo-usw2/predictive_service/sales-demo/ps-1.7.1/predictive_objects/get_me_bks/1/d4f7411f-c63a-4201-b6c2-fe20b48948a3/objects.bin\n"
     ]
    }
   ],
   "source": [
    "my_deployment.apply_changes()"
   ]
  },
  {
   "cell_type": "code",
   "execution_count": 12,
   "metadata": {
    "collapsed": false
   },
   "outputs": [
    {
     "name": "stdout",
     "output_type": "stream",
     "text": [
      "Canvas is updated and available in a tab in the default browser.\n"
     ]
    },
    {
     "name": "stderr",
     "output_type": "stream",
     "text": [
      "[INFO] retrieving metrics from predictive service...\n"
     ]
    }
   ],
   "source": [
    "my_deployment.show()"
   ]
  },
  {
   "cell_type": "code",
   "execution_count": 13,
   "metadata": {
    "collapsed": false
   },
   "outputs": [
    {
     "data": {
      "text/plain": [
       "{u'from_cache': False,\n",
       " u'model': u'get_me_bks',\n",
       " u'response': [{u'rank': 1,\n",
       "   u'score': 0.061224489795918366,\n",
       "   u'similar': u'Reinforcement Learning an Introduction',\n",
       "   u'title': u'Machine Learning'},\n",
       "  {u'rank': 2,\n",
       "   u'score': 0.023809523809523808,\n",
       "   u'similar': u'Advanced Credit Risk Analysis - Financial Approaches & Mathematical Models to Assess, Price & Manage Credit Risk',\n",
       "   u'title': u'Machine Learning'},\n",
       "  {u'rank': 3,\n",
       "   u'score': 0.022727272727272728,\n",
       "   u'similar': u'Introduction to the theory of relativity, (Prentice-Hall physics series)',\n",
       "   u'title': u'Machine Learning'},\n",
       "  {u'rank': 4,\n",
       "   u'score': 0.022222222222222223,\n",
       "   u'similar': u'Introduction to Philosophical Analysis',\n",
       "   u'title': u'Machine Learning'},\n",
       "  {u'rank': 5,\n",
       "   u'score': 0.022222222222222223,\n",
       "   u'similar': u'Introduction to the Theory of Statistics',\n",
       "   u'title': u'Machine Learning'}],\n",
       " u'uuid': u'a80ee595-a998-4b1f-aab1-98832bcf0dcd',\n",
       " u'version': 1}"
      ]
     },
     "execution_count": 13,
     "metadata": {},
     "output_type": "execute_result"
    }
   ],
   "source": [
    "# at this point, the function is deployed and can be queried with REST using one of our app clients\n",
    "my_deployment.query('get_me_bks', book_name='Machine Learning')"
   ]
  }
 ],
 "metadata": {
  "kernelspec": {
   "display_name": "Python 2",
   "language": "python",
   "name": "python2"
  },
  "language_info": {
   "codemirror_mode": {
    "name": "ipython",
    "version": 2
   },
   "file_extension": ".py",
   "mimetype": "text/x-python",
   "name": "python",
   "nbconvert_exporter": "python",
   "pygments_lexer": "ipython2",
   "version": "2.7.6"
  }
 },
 "nbformat": 4,
 "nbformat_minor": 0
}
