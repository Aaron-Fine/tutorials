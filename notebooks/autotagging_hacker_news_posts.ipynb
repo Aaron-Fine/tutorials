{
 "metadata": {
  "kernelspec": {
   "display_name": "Python 2",
   "language": "python",
   "name": "python2"
  },
  "language_info": {
   "codemirror_mode": {
    "name": "ipython",
    "version": 2
   },
   "file_extension": ".py",
   "mimetype": "text/x-python",
   "name": "python",
   "nbconvert_exporter": "python",
   "pygments_lexer": "ipython2",
   "version": "2.7.10"
  },
  "name": "",
  "signature": "sha256:8e3de878ea2b96f76f0ce88069804e5ce1afd6d1ba7d3f9172943159b3fc90ef"
 },
 "nbformat": 3,
 "nbformat_minor": 0,
 "worksheets": [
  {
   "cells": [
    {
     "cell_type": "heading",
     "level": 1,
     "metadata": {},
     "source": [
      "Autotagging Hacker News Posts"
     ]
    },
    {
     "cell_type": "markdown",
     "metadata": {},
     "source": [
      "## What is autotagging?\n",
      "\n",
      "An autotagger model matches unstructured text queries to a reference set of\n",
      "strings, a.k.a tags, which are known beforehand. It is similar to the task of\n",
      "[fuzzy matching](http://en.wikipedia.org/wiki/Fuzzy_matching_%28computer-assisted_translation%29).\n",
      "But unlike fuzzy matching, autotagging is typically done with a fixed set of tags,\n",
      "and it treats the unstructured documents as the queries. Also in contrast to fuzzy \n",
      "matching or search, we support efficient batch tagging of documents.\n",
      "\n",
      "The primary use case is the following: given a reference set of labels and\n",
      "free-text queries, assign zero or more labels to each query. Each assignment is\n",
      "given a similarity score, and if there are no labels with non-zero scores for a\n",
      "particular record, then none are assigned. The initial implementation uses a\n",
      "nearest neighbor model.\n",
      "\n",
      "Autotagging is also closely related to \n",
      "[multiclass document classification](http://en.wikipedia.org/wiki/Multiclass_classification), \n",
      "where training data is used to construct a model that predicts the best tag for\n",
      "each document query. In many cases, however, training data is not available, or \n",
      "it's not appropriate to always assign the single top tag (or top-k tags) to a document.\n",
      "\n",
      "One common approach to this tagging problem is to build a [topic model](https://turi.com/learn/userguide/#Modeling_data_Text_analysis_Topic_models) \n",
      "on some\n",
      "training set of documents, and to use that model to make predictions about\n",
      "topic associations on new data. Typically, unless you're using labeled topics,\n",
      "you would then assign the highest scoring terms from the relevant topics as tags.\n",
      "One drawback of standard topic modeling is that you often end up with noisy\n",
      "terms in your topics. Showing garbage terms to a user -- in the case of end-user \n",
      "applications -- is unhelpful and makes your application look bad.\n",
      "\n",
      "In this notebook, we will show you how to collect a high-quality set of entities\n",
      "from the web to use as a tag set, how to train an autotagger model with that \n",
      "reference data, and then how to use that model to tag news articles.\n",
      "\n",
      "The GraphLab autotagger is part of our new [data matching toolkit](https://turi.com/products/create/docs/graphlab.toolkits.data_matching.html). This toolkit\n",
      "is currently in beta, and feedback is welcome. Send comments to\n",
      "support@turi.com."
     ]
    },
    {
     "cell_type": "markdown",
     "metadata": {},
     "source": [
      "## A motivating example\n",
      "\n",
      "Let's consider one real-life example. It is very common for news aggregators --\n",
      "such as [Hacker News](https://news.ycombinator.com/), \n",
      "[Prismatic](http://www.getprismatic.com/), and\n",
      "[Right Relevance](http://www.rightrelevance.com/), to name a few -- to provide\n",
      "high-level categories with the stories that they show their users. These are\n",
      "useful for two obvious reasons. Firstly, they **give us a snapshot** of what the\n",
      "article is about, and secondly, they **provide an additional mechanism for\n",
      "filtering or navigating** the stream of news. For this notebook, we'll use\n",
      "Hacker News as our data set.\n",
      "\n",
      "The raw source data used for this analysis can be found at the\n",
      "[Internet Archive](https://archive.org/details/HackerNewsStoriesAndCommentsDump).\n",
      "There are two tables: a stories table and a comments table, both of which went\n",
      "through some initial pre-processing to facilitate ingestion into an SFrame. For\n",
      "the purposes of this analysis, we'll only concern ourselves with the stories\n",
      "SFrame, which you can download with the code below."
     ]
    },
    {
     "cell_type": "code",
     "collapsed": false,
     "input": [
      "import graphlab as gl # this import will be assumed from now on\n",
      "stories_sf = gl.load_sframe(\"https://static.turi.com/datasets/hacker_news/stories_with_text.sframe\")\n",
      "stories_sf"
     ],
     "language": "python",
     "metadata": {},
     "outputs": [
      {
       "html": [
        "<div style=\"max-height:1000px;max-width:1500px;overflow:auto;\"><table frame=\"box\" rules=\"cols\">\n",
        "    <tr>\n",
        "        <th style=\"padding-left: 1em; padding-right: 1em; text-align: center\">author</th>\n",
        "        <th style=\"padding-left: 1em; padding-right: 1em; text-align: center\">created_at</th>\n",
        "        <th style=\"padding-left: 1em; padding-right: 1em; text-align: center\">num_comments</th>\n",
        "        <th style=\"padding-left: 1em; padding-right: 1em; text-align: center\">objectID</th>\n",
        "        <th style=\"padding-left: 1em; padding-right: 1em; text-align: center\">points</th>\n",
        "        <th style=\"padding-left: 1em; padding-right: 1em; text-align: center\">text</th>\n",
        "    </tr>\n",
        "    <tr>\n",
        "        <td style=\"padding-left: 1em; padding-right: 1em; text-align: center; vertical-align: top\">Leynos</td>\n",
        "        <td style=\"padding-left: 1em; padding-right: 1em; text-align: center; vertical-align: top\">2014-05-29 08:23:46+00:00</td>\n",
        "        <td style=\"padding-left: 1em; padding-right: 1em; text-align: center; vertical-align: top\">0</td>\n",
        "        <td style=\"padding-left: 1em; padding-right: 1em; text-align: center; vertical-align: top\">7815285</td>\n",
        "        <td style=\"padding-left: 1em; padding-right: 1em; text-align: center; vertical-align: top\">1</td>\n",
        "        <td style=\"padding-left: 1em; padding-right: 1em; text-align: center; vertical-align: top\">May 28, 2014 10:55<br>pm\\nMay 28, 2014 10:55 ...</td>\n",
        "    </tr>\n",
        "    <tr>\n",
        "        <td style=\"padding-left: 1em; padding-right: 1em; text-align: center; vertical-align: top\">darrhiggs</td>\n",
        "        <td style=\"padding-left: 1em; padding-right: 1em; text-align: center; vertical-align: top\">2014-05-29 08:21:56+00:00</td>\n",
        "        <td style=\"padding-left: 1em; padding-right: 1em; text-align: center; vertical-align: top\">0</td>\n",
        "        <td style=\"padding-left: 1em; padding-right: 1em; text-align: center; vertical-align: top\">7815279</td>\n",
        "        <td style=\"padding-left: 1em; padding-right: 1em; text-align: center; vertical-align: top\">2</td>\n",
        "        <td style=\"padding-left: 1em; padding-right: 1em; text-align: center; vertical-align: top\">Uber app taxi row<br>referred to London's  ...</td>\n",
        "    </tr>\n",
        "    <tr>\n",
        "        <td style=\"padding-left: 1em; padding-right: 1em; text-align: center; vertical-align: top\">a159482a</td>\n",
        "        <td style=\"padding-left: 1em; padding-right: 1em; text-align: center; vertical-align: top\">2014-05-29 08:18:42+00:00</td>\n",
        "        <td style=\"padding-left: 1em; padding-right: 1em; text-align: center; vertical-align: top\">1</td>\n",
        "        <td style=\"padding-left: 1em; padding-right: 1em; text-align: center; vertical-align: top\">7815274</td>\n",
        "        <td style=\"padding-left: 1em; padding-right: 1em; text-align: center; vertical-align: top\">1</td>\n",
        "        <td style=\"padding-left: 1em; padding-right: 1em; text-align: center; vertical-align: top\">Young Global Leaders<br>Nomination Form\\nThe ...</td>\n",
        "    </tr>\n",
        "    <tr>\n",
        "        <td style=\"padding-left: 1em; padding-right: 1em; text-align: center; vertical-align: top\">dveeden2</td>\n",
        "        <td style=\"padding-left: 1em; padding-right: 1em; text-align: center; vertical-align: top\">2014-05-29 08:13:23+00:00</td>\n",
        "        <td style=\"padding-left: 1em; padding-right: 1em; text-align: center; vertical-align: top\">0</td>\n",
        "        <td style=\"padding-left: 1em; padding-right: 1em; text-align: center; vertical-align: top\">7815255</td>\n",
        "        <td style=\"padding-left: 1em; padding-right: 1em; text-align: center; vertical-align: top\">1</td>\n",
        "        <td style=\"padding-left: 1em; padding-right: 1em; text-align: center; vertical-align: top\">News, announcements,<br>release info, and ...</td>\n",
        "    </tr>\n",
        "    <tr>\n",
        "        <td style=\"padding-left: 1em; padding-right: 1em; text-align: center; vertical-align: top\">JensRantil</td>\n",
        "        <td style=\"padding-left: 1em; padding-right: 1em; text-align: center; vertical-align: top\">2014-05-29 08:11:53+00:00</td>\n",
        "        <td style=\"padding-left: 1em; padding-right: 1em; text-align: center; vertical-align: top\">0</td>\n",
        "        <td style=\"padding-left: 1em; padding-right: 1em; text-align: center; vertical-align: top\">7815249</td>\n",
        "        <td style=\"padding-left: 1em; padding-right: 1em; text-align: center; vertical-align: top\">2</td>\n",
        "        <td style=\"padding-left: 1em; padding-right: 1em; text-align: center; vertical-align: top\">Aug 12,<br>2014\\nREADME\\nUsage: fm ...</td>\n",
        "    </tr>\n",
        "    <tr>\n",
        "        <td style=\"padding-left: 1em; padding-right: 1em; text-align: center; vertical-align: top\">connochristou</td>\n",
        "        <td style=\"padding-left: 1em; padding-right: 1em; text-align: center; vertical-align: top\">2014-05-29 08:10:51+00:00</td>\n",
        "        <td style=\"padding-left: 1em; padding-right: 1em; text-align: center; vertical-align: top\">0</td>\n",
        "        <td style=\"padding-left: 1em; padding-right: 1em; text-align: center; vertical-align: top\">7815247</td>\n",
        "        <td style=\"padding-left: 1em; padding-right: 1em; text-align: center; vertical-align: top\">1</td>\n",
        "        <td style=\"padding-left: 1em; padding-right: 1em; text-align: center; vertical-align: top\">A Blog About Monetizing<br>Mobile Apps\\nAvocarrot ...</td>\n",
        "    </tr>\n",
        "    <tr>\n",
        "        <td style=\"padding-left: 1em; padding-right: 1em; text-align: center; vertical-align: top\">stremovsky</td>\n",
        "        <td style=\"padding-left: 1em; padding-right: 1em; text-align: center; vertical-align: top\">2014-05-29 08:09:46+00:00</td>\n",
        "        <td style=\"padding-left: 1em; padding-right: 1em; text-align: center; vertical-align: top\">0</td>\n",
        "        <td style=\"padding-left: 1em; padding-right: 1em; text-align: center; vertical-align: top\">7815245</td>\n",
        "        <td style=\"padding-left: 1em; padding-right: 1em; text-align: center; vertical-align: top\">1</td>\n",
        "        <td style=\"padding-left: 1em; padding-right: 1em; text-align: center; vertical-align: top\">Windows Mobile<br>Test\\nHello\\nWe are ...</td>\n",
        "    </tr>\n",
        "    <tr>\n",
        "        <td style=\"padding-left: 1em; padding-right: 1em; text-align: center; vertical-align: top\">pakostina</td>\n",
        "        <td style=\"padding-left: 1em; padding-right: 1em; text-align: center; vertical-align: top\">2014-05-29 08:08:31+00:00</td>\n",
        "        <td style=\"padding-left: 1em; padding-right: 1em; text-align: center; vertical-align: top\">0</td>\n",
        "        <td style=\"padding-left: 1em; padding-right: 1em; text-align: center; vertical-align: top\">7815241</td>\n",
        "        <td style=\"padding-left: 1em; padding-right: 1em; text-align: center; vertical-align: top\">1</td>\n",
        "        <td style=\"padding-left: 1em; padding-right: 1em; text-align: center; vertical-align: top\">Mobile\\nWhy Mobile<br>Developers Should Care ...</td>\n",
        "    </tr>\n",
        "    <tr>\n",
        "        <td style=\"padding-left: 1em; padding-right: 1em; text-align: center; vertical-align: top\">dragongraphics</td>\n",
        "        <td style=\"padding-left: 1em; padding-right: 1em; text-align: center; vertical-align: top\">2014-05-29 08:07:50+00:00</td>\n",
        "        <td style=\"padding-left: 1em; padding-right: 1em; text-align: center; vertical-align: top\">0</td>\n",
        "        <td style=\"padding-left: 1em; padding-right: 1em; text-align: center; vertical-align: top\">7815238</td>\n",
        "        <td style=\"padding-left: 1em; padding-right: 1em; text-align: center; vertical-align: top\">2</td>\n",
        "        <td style=\"padding-left: 1em; padding-right: 1em; text-align: center; vertical-align: top\">About\\nAre we getting too<br>Sassy?\\nI love Sass.  I ...</td>\n",
        "    </tr>\n",
        "    <tr>\n",
        "        <td style=\"padding-left: 1em; padding-right: 1em; text-align: center; vertical-align: top\">morphics</td>\n",
        "        <td style=\"padding-left: 1em; padding-right: 1em; text-align: center; vertical-align: top\">2014-05-29 08:07:22+00:00</td>\n",
        "        <td style=\"padding-left: 1em; padding-right: 1em; text-align: center; vertical-align: top\">0</td>\n",
        "        <td style=\"padding-left: 1em; padding-right: 1em; text-align: center; vertical-align: top\">7815237</td>\n",
        "        <td style=\"padding-left: 1em; padding-right: 1em; text-align: center; vertical-align: top\">2</td>\n",
        "        <td style=\"padding-left: 1em; padding-right: 1em; text-align: center; vertical-align: top\">Warning: You are entering<br>the XSS game ...</td>\n",
        "    </tr>\n",
        "</table>\n",
        "<table frame=\"box\" rules=\"cols\">\n",
        "    <tr>\n",
        "        <th style=\"padding-left: 1em; padding-right: 1em; text-align: center\">title</th>\n",
        "        <th style=\"padding-left: 1em; padding-right: 1em; text-align: center\">url</th>\n",
        "    </tr>\n",
        "    <tr>\n",
        "        <td style=\"padding-left: 1em; padding-right: 1em; text-align: center; vertical-align: top\">Making Twitter Easier to<br>Use ...</td>\n",
        "        <td style=\"padding-left: 1em; padding-right: 1em; text-align: center; vertical-align: top\">http://bits.blogs.nytimes<br>.com/2014/05/28/making- ...</td>\n",
        "    </tr>\n",
        "    <tr>\n",
        "        <td style=\"padding-left: 1em; padding-right: 1em; text-align: center; vertical-align: top\">London refers Uber app<br>row to High Court ...</td>\n",
        "        <td style=\"padding-left: 1em; padding-right: 1em; text-align: center; vertical-align: top\">http://www.bbc.co.uk/news<br>/technology-27617079 ...</td>\n",
        "    </tr>\n",
        "    <tr>\n",
        "        <td style=\"padding-left: 1em; padding-right: 1em; text-align: center; vertical-align: top\"> Young Global Leaders,<br>who should be nominated? ...</td>\n",
        "        <td style=\"padding-left: 1em; padding-right: 1em; text-align: center; vertical-align: top\">http://nomination.younggl<br>oballeaders.org/nomin ...</td>\n",
        "    </tr>\n",
        "    <tr>\n",
        "        <td style=\"padding-left: 1em; padding-right: 1em; text-align: center; vertical-align: top\">Unicode Security Data:<br>Beta Review ...</td>\n",
        "        <td style=\"padding-left: 1em; padding-right: 1em; text-align: center; vertical-align: top\">http://unicode-<br>inc.blogspot.nl/2014/05 ...</td>\n",
        "    </tr>\n",
        "    <tr>\n",
        "        <td style=\"padding-left: 1em; padding-right: 1em; text-align: center; vertical-align: top\">FileMap: MapReduce on the<br>CLI ...</td>\n",
        "        <td style=\"padding-left: 1em; padding-right: 1em; text-align: center; vertical-align: top\">https://github.com/mfisk/<br>filemap ...</td>\n",
        "    </tr>\n",
        "    <tr>\n",
        "        <td style=\"padding-left: 1em; padding-right: 1em; text-align: center; vertical-align: top\">Hybrid App Monetization<br>Example with Mobile Ads ...</td>\n",
        "        <td style=\"padding-left: 1em; padding-right: 1em; text-align: center; vertical-align: top\">http://www.avocarrot.com/<br>blog/hybrid-app- ...</td>\n",
        "    </tr>\n",
        "    <tr>\n",
        "        <td style=\"padding-left: 1em; padding-right: 1em; text-align: center; vertical-align: top\">We need oppinion from<br>Android Developers ...</td>\n",
        "        <td style=\"padding-left: 1em; padding-right: 1em; text-align: center; vertical-align: top\">https://droidresearch.wuf<br>oo.com/forms/windows- ...</td>\n",
        "    </tr>\n",
        "    <tr>\n",
        "        <td style=\"padding-left: 1em; padding-right: 1em; text-align: center; vertical-align: top\">\\t Why Mobile Developers<br>Should Care About Deep ...</td>\n",
        "        <td style=\"padding-left: 1em; padding-right: 1em; text-align: center; vertical-align: top\">http://developer.telerik.<br>com/products/why- ...</td>\n",
        "    </tr>\n",
        "    <tr>\n",
        "        <td style=\"padding-left: 1em; padding-right: 1em; text-align: center; vertical-align: top\">Are we getting too Sassy?<br>Weighing up micro- ...</td>\n",
        "        <td style=\"padding-left: 1em; padding-right: 1em; text-align: center; vertical-align: top\">http://ashleynolan.co.uk/<br>blog/are-we-getting-too- ...</td>\n",
        "    </tr>\n",
        "    <tr>\n",
        "        <td style=\"padding-left: 1em; padding-right: 1em; text-align: center; vertical-align: top\">Google's XSS game</td>\n",
        "        <td style=\"padding-left: 1em; padding-right: 1em; text-align: center; vertical-align: top\">https://xss-<br>game.appspot.com/ ...</td>\n",
        "    </tr>\n",
        "</table>\n",
        "[253973 rows x 8 columns]<br/>Note: Only the head of the SFrame is printed.<br/>You can use print_rows(num_rows=m, num_columns=n) to print more rows and columns.\n",
        "</div>"
       ],
       "metadata": {},
       "output_type": "pyout",
       "prompt_number": 8,
       "text": [
        "Columns:\n",
        "\tauthor\tstr\n",
        "\tcreated_at\tdatetime\n",
        "\tnum_comments\tint\n",
        "\tobjectID\tstr\n",
        "\tpoints\tint\n",
        "\ttext\tstr\n",
        "\ttitle\tstr\n",
        "\turl\tstr\n",
        "\n",
        "Rows: 253973\n",
        "\n",
        "Data:\n",
        "+----------------+---------------------------+--------------+----------+--------+\n",
        "|     author     |         created_at        | num_comments | objectID | points |\n",
        "+----------------+---------------------------+--------------+----------+--------+\n",
        "|     Leynos     | 2014-05-29 08:23:46+00:00 |      0       | 7815285  |   1    |\n",
        "|   darrhiggs    | 2014-05-29 08:21:56+00:00 |      0       | 7815279  |   2    |\n",
        "|    a159482a    | 2014-05-29 08:18:42+00:00 |      1       | 7815274  |   1    |\n",
        "|    dveeden2    | 2014-05-29 08:13:23+00:00 |      0       | 7815255  |   1    |\n",
        "|   JensRantil   | 2014-05-29 08:11:53+00:00 |      0       | 7815249  |   2    |\n",
        "| connochristou  | 2014-05-29 08:10:51+00:00 |      0       | 7815247  |   1    |\n",
        "|   stremovsky   | 2014-05-29 08:09:46+00:00 |      0       | 7815245  |   1    |\n",
        "|   pakostina    | 2014-05-29 08:08:31+00:00 |      0       | 7815241  |   1    |\n",
        "| dragongraphics | 2014-05-29 08:07:50+00:00 |      0       | 7815238  |   2    |\n",
        "|    morphics    | 2014-05-29 08:07:22+00:00 |      0       | 7815237  |   2    |\n",
        "+----------------+---------------------------+--------------+----------+--------+\n",
        "+-------------------------------+-------------------------------+\n",
        "|              text             |             title             |\n",
        "+-------------------------------+-------------------------------+\n",
        "| May 28, 2014 10:55 pm\\nMay... |  Making Twitter Easier to Use |\n",
        "| Uber app taxi row referred... | London refers Uber app row... |\n",
        "| Young Global Leaders Nomin... |  Young Global Leaders, who... |\n",
        "| News, announcements, relea... | Unicode Security Data: Bet... |\n",
        "| Aug 12, 2014\\nREADME\\nUsag... | FileMap: MapReduce on the CLI |\n",
        "| A Blog About Monetizing Mo... | Hybrid App Monetization Ex... |\n",
        "| Windows Mobile Test\\nHello... | We need oppinion from Andr... |\n",
        "| Mobile\\nWhy Mobile Develop... | \\t Why Mobile Developers S... |\n",
        "| About\\nAre we getting too ... | Are we getting too Sassy? ... |\n",
        "| Warning: You are entering ... |       Google's XSS game       |\n",
        "+-------------------------------+-------------------------------+\n",
        "+-------------------------------+\n",
        "|              url              |\n",
        "+-------------------------------+\n",
        "| http://bits.blogs.nytimes.... |\n",
        "| http://www.bbc.co.uk/news/... |\n",
        "| http://nomination.youngglo... |\n",
        "| http://unicode-inc.blogspo... |\n",
        "| https://github.com/mfisk/f... |\n",
        "| http://www.avocarrot.com/b... |\n",
        "| https://droidresearch.wufo... |\n",
        "| http://developer.telerik.c... |\n",
        "| http://ashleynolan.co.uk/b... |\n",
        "| https://xss-game.appspot.com/ |\n",
        "+-------------------------------+\n",
        "[253973 rows x 8 columns]\n",
        "Note: Only the head of the SFrame is printed.\n",
        "You can use print_rows(num_rows=m, num_columns=n) to print more rows and columns."
       ]
      }
     ],
     "prompt_number": 8
    },
    {
     "cell_type": "markdown",
     "metadata": {},
     "source": [
      "## Data pre-processing\n",
      "\n",
      "The original data underwent a handful of transformations before we could start tagging. For starters, the source article content was missing for the majority of the records in the stories table. That content is crucial for doing any tagging. Using Distributed, it's pretty straightforward to launch [parallel jobs in EC2 to crawl the source for each story](https://github.com/turi-code/how-to/blob/master/parallel_crawling_jobs.py) in our data set.\n",
      "\n",
      "Once a large enough subset of the source articles were downloaded, we had to extract the main content from the HTML. For this, we used [Boilerpipe](https://code.google.com/p/boilerpipe/), a fast Java library for extracting primary textual content out of HTML pages. Making calls to boilerpipe from Python is made possible by the [python-boilerpipe](https://github.com/ptwobrussell/python-boilerpipe/) module. You can find a how-to [here](https://github.com/turi-code/how-to/blob/master/extract_article_content_from_HTML.py) for this preprocessing step.\n",
      "\n",
      "The end result of the pre-processing pipeline is the stories SFrame downloaded in the previous section, which contains story\n",
      "metadata, as well as clean content for each Hacker News story in the original dataset (but only those for which content was available)."
     ]
    },
    {
     "cell_type": "markdown",
     "metadata": {},
     "source": [
      "## Ready, set, tag!\n",
      "\n",
      "Using the clean content we've crawled and extracted, we're just about ready to do some tagging. All we need is some tags.\n",
      "\n",
      "When it comes to deciding on a tag set, there are two alternative approaches to consider:\n",
      "\n",
      "    1. using an algorithmically generated set of tags\n",
      "    2. using a curated set of tags\n",
      "\n",
      "Where do we find the right set of tags? In some cases, you may already have the set of\n",
      "tags you want to use. For example, many users have known and relatively fixed product\n",
      "catalogs, which act as the tags. If you don't have an existing set of tags, maybe someone else does. \n",
      "[Freebase](http://www.freebase.com/) is a well-known example of a crowd-sourced database of\n",
      "well-known entities. Being crowd-sourced, it's prone to noise. Even more\n",
      "problematic is that it's much more exhaustive than is useful for us. Determining\n",
      "the right level of granularity for a tag set is a difficult task and definitely\n",
      "application-specific.\n",
      "\n",
      "It's a good idea to do some experimentation with different tag sets on your own, but for\n",
      "the purposes of this notebook, we'll use a curated set of tags rather than trying to generate \n",
      "one algorithmically to reduce the opportunity for error. In particular, let's use one that we \n",
      "know is of high quality: the set of technology concepts that [Google News](https://news.google.com/) uses. This data is not \n",
      "publically available in its entirety, but it's easy enough to get the currently trending entities \n",
      "from Google News with a little Python code, using the BeautifulSoup module and [the Python requests module](http://docs.python-requests.org/en/latest/)."
     ]
    },
    {
     "cell_type": "code",
     "collapsed": false,
     "input": [
      "from bs4 import BeautifulSoup\n",
      "import requests\n",
      "\n",
      "url = \"http://news.google.com/news/section?pz=1&cf=all&topic=tc\"\n",
      "soup = BeautifulSoup(requests.get(\"http://news.google.com/news/section?pz=1&cf=all&topic=tc\").text,\"html.parser\")\n",
      "entities = [t.get_text() for t in soup.select('.topic')]\n",
      "entities"
     ],
     "language": "python",
     "metadata": {},
     "outputs": [
      {
       "metadata": {},
       "output_type": "pyout",
       "prompt_number": 9,
       "text": [
        "[u'Facebook',\n",
        " u'BlackBerry',\n",
        " u'YouTube',\n",
        " u'Dropbox',\n",
        " u'Comcast',\n",
        " u'Google Inbox',\n",
        " u'Lytro',\n",
        " u'Apple Inc.',\n",
        " u'Bethesda Softworks',\n",
        " u'Huawei']"
       ]
      }
     ],
     "prompt_number": 9
    },
    {
     "cell_type": "markdown",
     "metadata": {},
     "source": [
      "Run this snippet as a cron job twice a day, and after a couple of months, you'll have a useful collection of high-quality, trending, technology entities. You could continually append them to an SFrame in S3, or simply save them to your favorite database -- take your pick. Let's assume that we've been saving them to S3, and now try loading them back into an SFrame, and visualizing them using GraphLab Canvas."
     ]
    },
    {
     "cell_type": "code",
     "collapsed": false,
     "input": [
      "google_concepts_sf = gl.load_sframe(\"https://static.turi.com/datasets/hacker_news/google_news_tech_concepts.sframe\")\n",
      "gl.canvas.set_target(\"ipynb\")\n",
      "google_concepts_sf.show()"
     ],
     "language": "python",
     "metadata": {},
     "outputs": [
      {
       "javascript": [
        "$(\"head\").append($(\"<link/>\").attr({\n",
        "  rel:  \"stylesheet\",\n",
        "  type: \"text/css\",\n",
        "  href: \"//cdnjs.cloudflare.com/ajax/libs/font-awesome/4.1.0/css/font-awesome.min.css\"\n",
        "}));\n",
        "$(\"head\").append($(\"<link/>\").attr({\n",
        "  rel:  \"stylesheet\",\n",
        "  type: \"text/css\",\n",
        "  href: \"//turi.com/files/canvas/1.6.908/css/canvas.css\"\n",
        "}));\n",
        "\n",
        "            (function(){\n",
        "\n",
        "                var e = null;\n",
        "                if (typeof element == 'undefined') {\n",
        "                    var scripts = document.getElementsByTagName('script');\n",
        "                    var thisScriptTag = scripts[scripts.length-1];\n",
        "                    var parentDiv = thisScriptTag.parentNode;\n",
        "                    e = document.createElement('div');\n",
        "                    parentDiv.appendChild(e);\n",
        "                } else {\n",
        "                    e = element[0];\n",
        "                }\n",
        "\n",
        "                if (typeof requirejs !== 'undefined') {\n",
        "                    // disable load timeout; ipython_app.js is large and can take a while to load.\n",
        "                    requirejs.config({waitSeconds: 0});\n",
        "                }\n",
        "\n",
        "                require(['//turi.com/files/canvas/1.6.908/js/ipython_app.js'], function(IPythonApp){\n",
        "                    var app = new IPythonApp();\n",
        "                    app.attachView('sframe','Summary', {\"ipython\": true, \"sketch\": {\"Tag\": {\"complete\": true, \"numeric\": false, \"num_unique\": 399, \"num_undefined\": 0, \"progress\": 1.0, \"frequent_items\": {\"Canada\": {\"frequency\": 1, \"value\": \"Canada\"}, \"Sony Corporation\": {\"frequency\": 1, \"value\": \"Sony Corporation\"}, \"GeForce\": {\"frequency\": 1, \"value\": \"GeForce\"}, \"Alan Mulally\": {\"frequency\": 1, \"value\": \"Alan Mulally\"}, \"Kim Dotcom\": {\"frequency\": 1, \"value\": \"Kim Dotcom\"}, \"Fashion design\": {\"frequency\": 1, \"value\": \"Fashion design\"}, \"Google Glass\": {\"frequency\": 1, \"value\": \"Google Glass\"}, \"Samsung Electronics\": {\"frequency\": 1, \"value\": \"Samsung ...\"}, \"Intel Corporation\": {\"frequency\": 1, \"value\": \"Intel Corporation\"}, \"BMW 3 Series\": {\"frequency\": 1, \"value\": \"BMW 3 Series\"}, \"Diablo III\": {\"frequency\": 1, \"value\": \"Diablo III\"}, \"Glen Canyon Dam\": {\"frequency\": 1, \"value\": \"Glen Canyon Dam\"}, \"Viber\": {\"frequency\": 1, \"value\": \"Viber\"}, \"Shinkansen\": {\"frequency\": 1, \"value\": \"Shinkansen\"}, \"Verizon FiOS\": {\"frequency\": 1, \"value\": \"Verizon FiOS\"}, \"Pennsylvania Turnpike\": {\"frequency\": 1, \"value\": \"Pennsylvania ...\"}, \"General Motors\": {\"frequency\": 1, \"value\": \"General Motors\"}, \"Steam\": {\"frequency\": 1, \"value\": \"Steam\"}, \"Copper\": {\"frequency\": 1, \"value\": \"Copper\"}, \"SAP SE\": {\"frequency\": 1, \"value\": \"SAP SE\"}, \"Nintendo 3DS\": {\"frequency\": 1, \"value\": \"Nintendo 3DS\"}, \"webOS\": {\"frequency\": 1, \"value\": \"webOS\"}, \"Takata Corporation\": {\"frequency\": 1, \"value\": \"Takata Corporation\"}, \"Stitcher Radio\": {\"frequency\": 1, \"value\": \"Stitcher Radio\"}, \"MasterCard\": {\"frequency\": 1, \"value\": \"MasterCard\"}, \"Stephen Colbert\": {\"frequency\": 1, \"value\": \"Stephen Colbert\"}, \"Zoe Quinn\": {\"frequency\": 1, \"value\": \"Zoe Quinn\"}, \"Edward Snowden\": {\"frequency\": 1, \"value\": \"Edward Snowden\"}, \"Black Friday\": {\"frequency\": 1, \"value\": \"Black Friday\"}, \"PlayStation\": {\"frequency\": 1, \"value\": \"PlayStation\"}, \"LG Electronics\": {\"frequency\": 1, \"value\": \"LG Electronics\"}, \"Toyota Prius\": {\"frequency\": 1, \"value\": \"Toyota Prius\"}, \"OneDrive\": {\"frequency\": 1, \"value\": \"OneDrive\"}, \"Sales\": {\"frequency\": 1, \"value\": \"Sales\"}, \"Dodge Caravan\": {\"frequency\": 1, \"value\": \"Dodge Caravan\"}, \"BlackBerry Limited\": {\"frequency\": 1, \"value\": \"BlackBerry Limited\"}, \"JPMorgan Chase\": {\"frequency\": 1, \"value\": \"JPMorgan Chase\"}, \"Jeep Wrangler\": {\"frequency\": 1, \"value\": \"Jeep Wrangler\"}, \"Microsoft Office 365\": {\"frequency\": 1, \"value\": \"Microsoft Office ...\"}, \"Impact Teen Drivers\": {\"frequency\": 1, \"value\": \"Impact Teen ...\"}, \"Sony Xperia\": {\"frequency\": 1, \"value\": \"Sony Xperia\"}, \"Bang & Olufsen\": {\"frequency\": 1, \"value\": \"Bang & Olufsen\"}, \"Samsung Group\": {\"frequency\": 1, \"value\": \"Samsung Group\"}, \"Mobile app\": {\"frequency\": 1, \"value\": \"Mobile app\"}, \"Mazda\": {\"frequency\": 1, \"value\": \"Mazda\"}, \"AT&T\": {\"frequency\": 1, \"value\": \"AT&T\"}, \"WhatsApp\": {\"frequency\": 1, \"value\": \"WhatsApp\"}, \"Cadillac ATS\": {\"frequency\": 1, \"value\": \"Cadillac ATS\"}, \"World of Warcraft\": {\"frequency\": 1, \"value\": \"World of Warcraft\"}, \"Ford GT\": {\"frequency\": 1, \"value\": \"Ford GT\"}, \"Motorola\": {\"frequency\": 1, \"value\": \"Motorola\"}, \"BlackBerry Passport\": {\"frequency\": 1, \"value\": \"BlackBerry ...\"}, \"Dodge Charger\": {\"frequency\": 1, \"value\": \"Dodge Charger\"}, \"Golden Joystick Awards\": {\"frequency\": 1, \"value\": \"Golden Joystick ...\"}, \"Xbox\": {\"frequency\": 1, \"value\": \"Xbox\"}, \"Hyundai Sonata\": {\"frequency\": 1, \"value\": \"Hyundai Sonata\"}, \"Golden Gate Bridge\": {\"frequency\": 1, \"value\": \"Golden Gate Bridge\"}, \"VMware\": {\"frequency\": 1, \"value\": \"VMware\"}, \"Mazda MX-5\": {\"frequency\": 1, \"value\": \"Mazda MX-5\"}, \"Time Warner Cable\": {\"frequency\": 1, \"value\": \"Time Warner Cable\"}, \"CBS\": {\"frequency\": 1, \"value\": \"CBS\"}, \"Las Vegas\": {\"frequency\": 1, \"value\": \"Las Vegas\"}, \"Internationale Funkausstellung Berlin\": {\"frequency\": 1, \"value\": \"Internationale ...\"}, \"Ericsson\": {\"frequency\": 1, \"value\": \"Ericsson\"}, \"Automobile safety\": {\"frequency\": 1, \"value\": \"Automobile safety\"}, \"Audi\": {\"frequency\": 1, \"value\": \"Audi\"}, \"Daimler AG\": {\"frequency\": 1, \"value\": \"Daimler AG\"}, \"Privacy\": {\"frequency\": 1, \"value\": \"Privacy\"}, \"Tor\": {\"frequency\": 1, \"value\": \"Tor\"}, \"Microsoft Windows\": {\"frequency\": 1, \"value\": \"Microsoft Windows\"}, \"Myspace\": {\"frequency\": 1, \"value\": \"Myspace\"}, \"Safety\": {\"frequency\": 1, \"value\": \"Safety\"}, \"Internet Explorer\": {\"frequency\": 1, \"value\": \"Internet Explorer\"}, \"Social network services\": {\"frequency\": 1, \"value\": \"Social network ...\"}, \"iOS 8\": {\"frequency\": 1, \"value\": \"iOS 8\"}, \"AbbVie\": {\"frequency\": 1, \"value\": \"AbbVie\"}, \"Cadillac\": {\"frequency\": 1, \"value\": \"Cadillac\"}, \"Blizzard Entertainment\": {\"frequency\": 1, \"value\": \"Blizzard ...\"}, \"Fire Phone\": {\"frequency\": 1, \"value\": \"Fire Phone\"}, \"Advanced Micro Devices\": {\"frequency\": 1, \"value\": \"Advanced Micro ...\"}, \"Nissan Rogue\": {\"frequency\": 1, \"value\": \"Nissan Rogue\"}, \"Smartphones\": {\"frequency\": 1, \"value\": \"Smartphones\"}, \"Intel\": {\"frequency\": 1, \"value\": \"Intel\"}, \"Ferrari S.p.A.\": {\"frequency\": 1, \"value\": \"Ferrari S.p.A.\"}, \"Websites\": {\"frequency\": 1, \"value\": \"Websites\"}, \"Virgin Galactic\": {\"frequency\": 1, \"value\": \"Virgin Galactic\"}, \"Chevrolet Volt\": {\"frequency\": 1, \"value\": \"Chevrolet Volt\"}, \"Ford Mustangs\": {\"frequency\": 1, \"value\": \"Ford Mustangs\"}, \"Phones 4u\": {\"frequency\": 1, \"value\": \"Phones 4u\"}, \"Carlos Ghosn\": {\"frequency\": 1, \"value\": \"Carlos Ghosn\"}, \"Silent Hill\": {\"frequency\": 1, \"value\": \"Silent Hill\"}, \"Seagate Technology\": {\"frequency\": 1, \"value\": \"Seagate Technology\"}, \"Web search engines\": {\"frequency\": 1, \"value\": \"Web search engines\"}, \"Honda Fit\": {\"frequency\": 1, \"value\": \"Honda Fit\"}, \"Tesla Model S\": {\"frequency\": 1, \"value\": \"Tesla Model S\"}, \"Bose Corporation\": {\"frequency\": 1, \"value\": \"Bose Corporation\"}, \"Police\": {\"frequency\": 1, \"value\": \"Police\"}, \"IBM\": {\"frequency\": 1, \"value\": \"IBM\"}, \"Multiplayer video game\": {\"frequency\": 1, \"value\": \"Multiplayer video ...\"}, \"Windows Phone\": {\"frequency\": 1, \"value\": \"Windows Phone\"}, \"Mobile phones\": {\"frequency\": 1, \"value\": \"Mobile phones\"}, \"Foursquare\": {\"frequency\": 1, \"value\": \"Foursquare\"}, \"The Princess Bride\": {\"frequency\": 1, \"value\": \"The Princess Bride\"}, \"Sundar Pichai\": {\"frequency\": 1, \"value\": \"Sundar Pichai\"}, \"Car dealerships\": {\"frequency\": 1, \"value\": \"Car dealerships\"}, \"TSMC\": {\"frequency\": 1, \"value\": \"TSMC\"}, \"iPad Air\": {\"frequency\": 1, \"value\": \"iPad Air\"}, \"Nissan\": {\"frequency\": 1, \"value\": \"Nissan\"}, \"Charter Communications\": {\"frequency\": 1, \"value\": \"Charter ...\"}, \"Uber\": {\"frequency\": 1, \"value\": \"Uber\"}, \"Apple Inc.\": {\"frequency\": 1, \"value\": \"Apple Inc.\"}, \"Lyft\": {\"frequency\": 1, \"value\": \"Lyft\"}, \"United Automobile Workers\": {\"frequency\": 1, \"value\": \"United Automobile ...\"}, \"Apple\": {\"frequency\": 1, \"value\": \"Apple\"}, \"Google Voice Search\": {\"frequency\": 1, \"value\": \"Google Voice ...\"}, \"Under Armour\": {\"frequency\": 1, \"value\": \"Under Armour\"}, \"FairPoint Communications\": {\"frequency\": 1, \"value\": \"FairPoint ...\"}, \"Los Angeles Dodgers\": {\"frequency\": 1, \"value\": \"Los Angeles ...\"}, \"Jaguar Land Rover\": {\"frequency\": 1, \"value\": \"Jaguar Land Rover\"}, \"Toyota Tacoma\": {\"frequency\": 1, \"value\": \"Toyota Tacoma\"}, \"Scooters\": {\"frequency\": 1, \"value\": \"Scooters\"}, \"LG Display\": {\"frequency\": 1, \"value\": \"LG Display\"}, \"Chrysler Group LLC\": {\"frequency\": 1, \"value\": \"Chrysler Group LLC\"}, \"Windows Live Messenger\": {\"frequency\": 1, \"value\": \"Windows Live ...\"}, \"iPod classic\": {\"frequency\": 1, \"value\": \"iPod classic\"}, \"MediaTek\": {\"frequency\": 1, \"value\": \"MediaTek\"}, \"Tim Cook\": {\"frequency\": 1, \"value\": \"Tim Cook\"}, \"iPhone\": {\"frequency\": 1, \"value\": \"iPhone\"}, \"Dropbox\": {\"frequency\": 1, \"value\": \"Dropbox\"}, \"SanDisk\": {\"frequency\": 1, \"value\": \"SanDisk\"}, \"Phoenix Suns\": {\"frequency\": 1, \"value\": \"Phoenix Suns\"}, \"Sturgis Motorcycle Rally\": {\"frequency\": 1, \"value\": \"Sturgis Motorcycle ...\"}, \"Final Fantasy XIV\": {\"frequency\": 1, \"value\": \"Final Fantasy XIV\"}, \"Skype\": {\"frequency\": 1, \"value\": \"Skype\"}, \"Pornography\": {\"frequency\": 1, \"value\": \"Pornography\"}, \"Chevrolet Tahoe\": {\"frequency\": 1, \"value\": \"Chevrolet Tahoe\"}, \"Razer Inc\": {\"frequency\": 1, \"value\": \"Razer Inc\"}, \"Sharks\": {\"frequency\": 1, \"value\": \"Sharks\"}, \"Evernote\": {\"frequency\": 1, \"value\": \"Evernote\"}, \"Destiny\": {\"frequency\": 1, \"value\": \"Destiny\"}, \"Dish Network\": {\"frequency\": 1, \"value\": \"Dish Network\"}, \"BlackBerry Messenger\": {\"frequency\": 1, \"value\": \"BlackBerry ...\"}, \"Mailbox\": {\"frequency\": 1, \"value\": \"Mailbox\"}, \"China\": {\"frequency\": 1, \"value\": \"China\"}, \"BMW\": {\"frequency\": 1, \"value\": \"BMW\"}, \"Volvo Cars\": {\"frequency\": 1, \"value\": \"Volvo Cars\"}, \"Qualcomm\": {\"frequency\": 1, \"value\": \"Qualcomm\"}, \"Fiat 500X\": {\"frequency\": 1, \"value\": \"Fiat 500X\"}, \"Chevrolet Colorado\": {\"frequency\": 1, \"value\": \"Chevrolet Colorado\"}, \"MacBook Air\": {\"frequency\": 1, \"value\": \"MacBook Air\"}, \"Microsoft Corporation\": {\"frequency\": 1, \"value\": \"Microsoft ...\"}, \"Vine\": {\"frequency\": 1, \"value\": \"Vine\"}, \"Servers\": {\"frequency\": 1, \"value\": \"Servers\"}, \"Lincoln MKX\": {\"frequency\": 1, \"value\": \"Lincoln MKX\"}, \"NASA\": {\"frequency\": 1, \"value\": \"NASA\"}, \"BlackBerry\": {\"frequency\": 1, \"value\": \"BlackBerry\"}, \"Lexus\": {\"frequency\": 1, \"value\": \"Lexus\"}, \"Whisper\": {\"frequency\": 1, \"value\": \"Whisper\"}, \"Social media\": {\"frequency\": 1, \"value\": \"Social media\"}, \"Eric Schneiderman\": {\"frequency\": 1, \"value\": \"Eric Schneiderman\"}, \"Honda Pilot\": {\"frequency\": 1, \"value\": \"Honda Pilot\"}, \"Tony Hawk\": {\"frequency\": 1, \"value\": \"Tony Hawk\"}, \"Iran\": {\"frequency\": 1, \"value\": \"Iran\"}, \"Amazon Kindle\": {\"frequency\": 1, \"value\": \"Amazon Kindle\"}, \"Take-Two Interactive\": {\"frequency\": 1, \"value\": \"Take-Two ...\"}, \"WWE Network\": {\"frequency\": 1, \"value\": \"WWE Network\"}, \"Toyota Land Cruiser\": {\"frequency\": 1, \"value\": \"Toyota Land ...\"}, \"National Hockey League\": {\"frequency\": 1, \"value\": \"National Hockey ...\"}, \"Xbox One\": {\"frequency\": 1, \"value\": \"Xbox One\"}, \"Logitech\": {\"frequency\": 1, \"value\": \"Logitech\"}, \"Operating systems\": {\"frequency\": 1, \"value\": \"Operating systems\"}, \"Will Ferrell\": {\"frequency\": 1, \"value\": \"Will Ferrell\"}, \"Nintendo\": {\"frequency\": 1, \"value\": \"Nintendo\"}, \"iPhone 5c\": {\"frequency\": 1, \"value\": \"iPhone 5c\"}, \"Chevrolet Corvette\": {\"frequency\": 1, \"value\": \"Chevrolet Corvette\"}, \"SpaceX\": {\"frequency\": 1, \"value\": \"SpaceX\"}, \"Marriott International\": {\"frequency\": 1, \"value\": \"Marriott ...\"}, \"Darth Vader\": {\"frequency\": 1, \"value\": \"Darth Vader\"}, \"Siri\": {\"frequency\": 1, \"value\": \"Siri\"}, \"VeriFone Holdings, Inc.\": {\"frequency\": 1, \"value\": \"VeriFone Holdings, ...\"}, \"Mobile application software\": {\"frequency\": 1, \"value\": \"Mobile application ...\"}, \"Volvo XC90\": {\"frequency\": 1, \"value\": \"Volvo XC90\"}, \"Malware\": {\"frequency\": 1, \"value\": \"Malware\"}, \"Mercedes-Benz SLS AMG\": {\"frequency\": 1, \"value\": \"Mercedes-Benz SLS ...\"}, \"Cray\": {\"frequency\": 1, \"value\": \"Cray\"}, \"Internet of Things\": {\"frequency\": 1, \"value\": \"Internet of Things\"}, \"Volkswagen Passat\": {\"frequency\": 1, \"value\": \"Volkswagen Passat\"}, \"DARPA\": {\"frequency\": 1, \"value\": \"DARPA\"}, \"Steve Ballmer\": {\"frequency\": 1, \"value\": \"Steve Ballmer\"}, \"Volkswagen Passenger Cars\": {\"frequency\": 1, \"value\": \"Volkswagen ...\"}, \"Halo\": {\"frequency\": 1, \"value\": \"Halo\"}, \"Bentley Motors Limited\": {\"frequency\": 1, \"value\": \"Bentley Motors ...\"}, \"Cloud computing\": {\"frequency\": 1, \"value\": \"Cloud computing\"}, \"Satya Nadella\": {\"frequency\": 1, \"value\": \"Satya Nadella\"}, \"Harley-Davidson Motor Company\": {\"frequency\": 1, \"value\": \"Harley-Davidson ...\"}, \"Minecraft\": {\"frequency\": 1, \"value\": \"Minecraft\"}, \"Information Commissioner's Office\": {\"frequency\": 1, \"value\": \"Information ...\"}, \"Toyota Motor Corporation\": {\"frequency\": 1, \"value\": \"Toyota Motor ...\"}, \"Scrabble\": {\"frequency\": 1, \"value\": \"Scrabble\"}, \"PlayStation 4\": {\"frequency\": 1, \"value\": \"PlayStation 4\"}, \"Subaru Impreza\": {\"frequency\": 1, \"value\": \"Subaru Impreza\"}, \"Streaming media\": {\"frequency\": 1, \"value\": \"Streaming media\"}, \"Virgin Group\": {\"frequency\": 1, \"value\": \"Virgin Group\"}, \"Jaguar Cars\": {\"frequency\": 1, \"value\": \"Jaguar Cars\"}, \"Sid Meier\": {\"frequency\": 1, \"value\": \"Sid Meier\"}, \"Free\": {\"frequency\": 1, \"value\": \"Free\"}, \"James Comey\": {\"frequency\": 1, \"value\": \"James Comey\"}, \"Jake Roberts\": {\"frequency\": 1, \"value\": \"Jake Roberts\"}, \"United States Senate\": {\"frequency\": 1, \"value\": \"United States ...\"}, \"Bash\": {\"frequency\": 1, \"value\": \"Bash\"}, \"Lamborghini\": {\"frequency\": 1, \"value\": \"Lamborghini\"}, \"Mario Kart\": {\"frequency\": 1, \"value\": \"Mario Kart\"}, \"Thanksgiving\": {\"frequency\": 1, \"value\": \"Thanksgiving\"}, \"Rockstar Games\": {\"frequency\": 1, \"value\": \"Rockstar Games\"}, \"John Venn\": {\"frequency\": 1, \"value\": \"John Venn\"}, \"ARRIS Group Inc.\": {\"frequency\": 1, \"value\": \"ARRIS Group Inc.\"}, \"Karl Benz\": {\"frequency\": 1, \"value\": \"Karl Benz\"}, \"Instagram\": {\"frequency\": 1, \"value\": \"Instagram\"}, \"Dodge Challenger\": {\"frequency\": 1, \"value\": \"Dodge Challenger\"}, \"PlayStation Network\": {\"frequency\": 1, \"value\": \"PlayStation ...\"}, \"Microsoft OneNote\": {\"frequency\": 1, \"value\": \"Microsoft OneNote\"}, \"Gmail\": {\"frequency\": 1, \"value\": \"Gmail\"}, \"iPad\": {\"frequency\": 1, \"value\": \"iPad\"}, \"Honda HR-V\": {\"frequency\": 1, \"value\": \"Honda HR-V\"}, \"Alienware\": {\"frequency\": 1, \"value\": \"Alienware\"}, \"Kinect\": {\"frequency\": 1, \"value\": \"Kinect\"}, \"Android\": {\"frequency\": 1, \"value\": \"Android\"}, \"New York City\": {\"frequency\": 1, \"value\": \"New York City\"}, \"Paul McCartney\": {\"frequency\": 1, \"value\": \"Paul McCartney\"}, \"Nintendo Entertainment System\": {\"frequency\": 1, \"value\": \"Nintendo ...\"}, \"HGST\": {\"frequency\": 1, \"value\": \"HGST\"}, \"Startup companies\": {\"frequency\": 1, \"value\": \"Startup companies\"}, \"Roku\": {\"frequency\": 1, \"value\": \"Roku\"}, \"Mark Zuckerberg\": {\"frequency\": 1, \"value\": \"Mark Zuckerberg\"}, \"Android Auto\": {\"frequency\": 1, \"value\": \"Android Auto\"}, \"Macintosh\": {\"frequency\": 1, \"value\": \"Macintosh\"}, \"Firefox\": {\"frequency\": 1, \"value\": \"Firefox\"}, \"John McAfee\": {\"frequency\": 1, \"value\": \"John McAfee\"}, \"WWE\": {\"frequency\": 1, \"value\": \"WWE\"}, \"Design\": {\"frequency\": 1, \"value\": \"Design\"}, \"Oracle Corporation\": {\"frequency\": 1, \"value\": \"Oracle Corporation\"}, \"ASUS\": {\"frequency\": 1, \"value\": \"ASUS\"}, \"Call of Duty\": {\"frequency\": 1, \"value\": \"Call of Duty\"}, \"Qualcomm Snapdragon\": {\"frequency\": 1, \"value\": \"Qualcomm ...\"}, \"Spotify\": {\"frequency\": 1, \"value\": \"Spotify\"}, \"Nordstrom\": {\"frequency\": 1, \"value\": \"Nordstrom\"}, \"Barbie\": {\"frequency\": 1, \"value\": \"Barbie\"}, \"TRUSTe\": {\"frequency\": 1, \"value\": \"TRUSTe\"}, \"Asus PadFone\": {\"frequency\": 1, \"value\": \"Asus PadFone\"}, \"Chevrolet Impala\": {\"frequency\": 1, \"value\": \"Chevrolet Impala\"}, \"Xiaomi\": {\"frequency\": 1, \"value\": \"Xiaomi\"}, \"Microsoft Lumia series\": {\"frequency\": 1, \"value\": \"Microsoft Lumia ...\"}, \"California\": {\"frequency\": 1, \"value\": \"California\"}, \"iPhone 6\": {\"frequency\": 1, \"value\": \"iPhone 6\"}, \"iPhone 5\": {\"frequency\": 1, \"value\": \"iPhone 5\"}, \"HTC Corporation\": {\"frequency\": 1, \"value\": \"HTC Corporation\"}, \"ZTE\": {\"frequency\": 1, \"value\": \"ZTE\"}, \"Ralph Lauren Corporation\": {\"frequency\": 1, \"value\": \"Ralph Lauren ...\"}, \"BioWare\": {\"frequency\": 1, \"value\": \"BioWare\"}, \"TiVo\": {\"frequency\": 1, \"value\": \"TiVo\"}, \"Symantec Corporation\": {\"frequency\": 1, \"value\": \"Symantec ...\"}, \"BioShock\": {\"frequency\": 1, \"value\": \"BioShock\"}, \"Elgato\": {\"frequency\": 1, \"value\": \"Elgato\"}, \"Nvidia\": {\"frequency\": 1, \"value\": \"Nvidia\"}, \"Shelby Mustang\": {\"frequency\": 1, \"value\": \"Shelby Mustang\"}, \"Kia Motors\": {\"frequency\": 1, \"value\": \"Kia Motors\"}, \"BlizzCon\": {\"frequency\": 1, \"value\": \"BlizzCon\"}, \"OS X Yosemite\": {\"frequency\": 1, \"value\": \"OS X Yosemite\"}, \"Chromecast\": {\"frequency\": 1, \"value\": \"Chromecast\"}, \"Toyota Sienna\": {\"frequency\": 1, \"value\": \"Toyota Sienna\"}, \"Snapchat\": {\"frequency\": 1, \"value\": \"Snapchat\"}, \"Nest Labs\": {\"frequency\": 1, \"value\": \"Nest Labs\"}, \"Tires\": {\"frequency\": 1, \"value\": \"Tires\"}, \"HTC One (M8)\": {\"frequency\": 1, \"value\": \"HTC One (M8)\"}, \"Opel\": {\"frequency\": 1, \"value\": \"Opel\"}, \"Smart Fortwo\": {\"frequency\": 1, \"value\": \"Smart Fortwo\"}, \"Cisco Systems, Inc.\": {\"frequency\": 1, \"value\": \"Cisco Systems, ...\"}, \"Mac Mini\": {\"frequency\": 1, \"value\": \"Mac Mini\"}, \"Samsung Galaxy\": {\"frequency\": 1, \"value\": \"Samsung Galaxy\"}, \"Anita Sarkeesian\": {\"frequency\": 1, \"value\": \"Anita Sarkeesian\"}, \"Docker\": {\"frequency\": 1, \"value\": \"Docker\"}, \"EMC Corporation\": {\"frequency\": 1, \"value\": \"EMC Corporation\"}, \"Hideo Kojima\": {\"frequency\": 1, \"value\": \"Hideo Kojima\"}, \"Tesla Motors\": {\"frequency\": 1, \"value\": \"Tesla Motors\"}, \"The Internet\": {\"frequency\": 1, \"value\": \"The Internet\"}, \"Video games\": {\"frequency\": 1, \"value\": \"Video games\"}, \"Toyota\": {\"frequency\": 1, \"value\": \"Toyota\"}, \"Nespresso\": {\"frequency\": 1, \"value\": \"Nespresso\"}, \"Apples\": {\"frequency\": 1, \"value\": \"Apples\"}, \"Ford Explorer\": {\"frequency\": 1, \"value\": \"Ford Explorer\"}, \"Corning Inc.\": {\"frequency\": 1, \"value\": \"Corning Inc.\"}, \"LA Auto Show\": {\"frequency\": 1, \"value\": \"LA Auto Show\"}, \"Batman\": {\"frequency\": 1, \"value\": \"Batman\"}, \"Microsoft Surface\": {\"frequency\": 1, \"value\": \"Microsoft Surface\"}, \"Bitcoin\": {\"frequency\": 1, \"value\": \"Bitcoin\"}, \"Comcast\": {\"frequency\": 1, \"value\": \"Comcast\"}, \"Maybach\": {\"frequency\": 1, \"value\": \"Maybach\"}, \"Instant messaging\": {\"frequency\": 1, \"value\": \"Instant messaging\"}, \"Nokia\": {\"frequency\": 1, \"value\": \"Nokia\"}, \"YouTube\": {\"frequency\": 1, \"value\": \"YouTube\"}, \"Robots\": {\"frequency\": 1, \"value\": \"Robots\"}, \"Ducati\": {\"frequency\": 1, \"value\": \"Ducati\"}, \"Raspberry Pi\": {\"frequency\": 1, \"value\": \"Raspberry Pi\"}, \"GameStop\": {\"frequency\": 1, \"value\": \"GameStop\"}, \"Solid-state drive\": {\"frequency\": 1, \"value\": \"Solid-state drive\"}, \"Ethics\": {\"frequency\": 1, \"value\": \"Ethics\"}, \"Facebook Messenger\": {\"frequency\": 1, \"value\": \"Facebook Messenger\"}, \"Lumia series\": {\"frequency\": 1, \"value\": \"Lumia series\"}, \"iOS\": {\"frequency\": 1, \"value\": \"iOS\"}, \"GoPro Hero2\": {\"frequency\": 1, \"value\": \"GoPro Hero2\"}, \"MacBook Pro\": {\"frequency\": 1, \"value\": \"MacBook Pro\"}, \"Silicon Valley\": {\"frequency\": 1, \"value\": \"Silicon Valley\"}, \"Canon Inc.\": {\"frequency\": 1, \"value\": \"Canon Inc.\"}, \"European Union\": {\"frequency\": 1, \"value\": \"European Union\"}, \"Toyota FT-HS\": {\"frequency\": 1, \"value\": \"Toyota FT-HS\"}, \"Suzuki Motor Corporation\": {\"frequency\": 1, \"value\": \"Suzuki Motor ...\"}, \"London\": {\"frequency\": 1, \"value\": \"London\"}, \"Assassin's Creed Unity\": {\"frequency\": 1, \"value\": \"Assassin's Creed ...\"}, \"Google Chrome\": {\"frequency\": 1, \"value\": \"Google Chrome\"}, \"Ford Fusion\": {\"frequency\": 1, \"value\": \"Ford Fusion\"}, \"Beats Electronics\": {\"frequency\": 1, \"value\": \"Beats Electronics\"}, \"Hutchison Whampoa\": {\"frequency\": 1, \"value\": \"Hutchison Whampoa\"}, \"Chevrolet\": {\"frequency\": 1, \"value\": \"Chevrolet\"}, \"Micron Technology\": {\"frequency\": 1, \"value\": \"Micron Technology\"}, \"Computer programs\": {\"frequency\": 1, \"value\": \"Computer programs\"}, \"Google Nexus\": {\"frequency\": 1, \"value\": \"Google Nexus\"}, \"Email\": {\"frequency\": 1, \"value\": \"Email\"}, \"John S. Chen\": {\"frequency\": 1, \"value\": \"John S. Chen\"}, \"Audi A4\": {\"frequency\": 1, \"value\": \"Audi A4\"}, \"Audi A7\": {\"frequency\": 1, \"value\": \"Audi A7\"}, \"Cuba\": {\"frequency\": 1, \"value\": \"Cuba\"}, \"Driverless cars\": {\"frequency\": 1, \"value\": \"Driverless cars\"}, \"DirecTV Group\": {\"frequency\": 1, \"value\": \"DirecTV Group\"}, \"Norton AntiVirus\": {\"frequency\": 1, \"value\": \"Norton AntiVirus\"}, \"Facebook\": {\"frequency\": 1, \"value\": \"Facebook\"}, \"Oculus Rift\": {\"frequency\": 1, \"value\": \"Oculus Rift\"}, \"Sonos\": {\"frequency\": 1, \"value\": \"Sonos\"}, \"SoundCloud\": {\"frequency\": 1, \"value\": \"SoundCloud\"}, \"Gartner\": {\"frequency\": 1, \"value\": \"Gartner\"}, \"Internet service provider\": {\"frequency\": 1, \"value\": \"Internet service ...\"}, \"Lucent\": {\"frequency\": 1, \"value\": \"Lucent\"}, \"Lenovo\": {\"frequency\": 1, \"value\": \"Lenovo\"}, \"Sprint Corporation\": {\"frequency\": 1, \"value\": \"Sprint Corporation\"}, \"Elon Musk\": {\"frequency\": 1, \"value\": \"Elon Musk\"}, \"Local Motors\": {\"frequency\": 1, \"value\": \"Local Motors\"}, \"Verizon Communications\": {\"frequency\": 1, \"value\": \"Verizon ...\"}, \"Dyson\": {\"frequency\": 1, \"value\": \"Dyson\"}, \"Buick\": {\"frequency\": 1, \"value\": \"Buick\"}, \"Car wash\": {\"frequency\": 1, \"value\": \"Car wash\"}, \"Land Rover Discovery\": {\"frequency\": 1, \"value\": \"Land Rover ...\"}, \"European Space Agency\": {\"frequency\": 1, \"value\": \"European Space ...\"}, \"Teradata\": {\"frequency\": 1, \"value\": \"Teradata\"}, \"Hotel\": {\"frequency\": 1, \"value\": \"Hotel\"}, \"Iliad\": {\"frequency\": 1, \"value\": \"Iliad\"}, \"Toshiba\": {\"frequency\": 1, \"value\": \"Toshiba\"}, \"Ubuntu\": {\"frequency\": 1, \"value\": \"Ubuntu\"}, \"LG G Flex\": {\"frequency\": 1, \"value\": \"LG G Flex\"}, \"Motorcycles\": {\"frequency\": 1, \"value\": \"Motorcycles\"}, \"Sharp Corporation\": {\"frequency\": 1, \"value\": \"Sharp Corporation\"}, \"Aston Martin\": {\"frequency\": 1, \"value\": \"Aston Martin\"}, \"Captain Falcon\": {\"frequency\": 1, \"value\": \"Captain Falcon\"}, \"Detroit\": {\"frequency\": 1, \"value\": \"Detroit\"}, \"Moto X\": {\"frequency\": 1, \"value\": \"Moto X\"}, \"Google\": {\"frequency\": 1, \"value\": \"Google\"}, \"Polaris Industries\": {\"frequency\": 1, \"value\": \"Polaris Industries\"}, \"Wii U\": {\"frequency\": 1, \"value\": \"Wii U\"}, \"Twitter\": {\"frequency\": 1, \"value\": \"Twitter\"}, \"iMac\": {\"frequency\": 1, \"value\": \"iMac\"}, \"Subaru\": {\"frequency\": 1, \"value\": \"Subaru\"}, \"Sling Media Inc.\": {\"frequency\": 1, \"value\": \"Sling Media Inc.\"}, \"Ashkan Soltani\": {\"frequency\": 1, \"value\": \"Ashkan Soltani\"}, \"Ford Motor Company\": {\"frequency\": 1, \"value\": \"Ford Motor Company\"}, \"Steve Jobs\": {\"frequency\": 1, \"value\": \"Steve Jobs\"}, \"Tablet computers\": {\"frequency\": 1, \"value\": \"Tablet computers\"}, \"Jennifer Lawrence\": {\"frequency\": 1, \"value\": \"Jennifer Lawrence\"}, \"Electronics\": {\"frequency\": 1, \"value\": \"Electronics\"}, \"BlackBerry Ltd\": {\"frequency\": 1, \"value\": \"BlackBerry Ltd\"}, \"Ray Ozzie\": {\"frequency\": 1, \"value\": \"Ray Ozzie\"}, \"Hyundai\": {\"frequency\": 1, \"value\": \"Hyundai\"}, \"Mario\": {\"frequency\": 1, \"value\": \"Mario\"}, \"Justin Bieber\": {\"frequency\": 1, \"value\": \"Justin Bieber\"}, \"Hyundai Genesis\": {\"frequency\": 1, \"value\": \"Hyundai Genesis\"}, \"Jaguar\": {\"frequency\": 1, \"value\": \"Jaguar\"}, \"Netflix\": {\"frequency\": 1, \"value\": \"Netflix\"}, \"Ford Fiesta\": {\"frequency\": 1, \"value\": \"Ford Fiesta\"}, \"Deutsche Telekom\": {\"frequency\": 1, \"value\": \"Deutsche Telekom\"}, \"Honda NSX\": {\"frequency\": 1, \"value\": \"Honda NSX\"}, \"Computer keyboards\": {\"frequency\": 1, \"value\": \"Computer keyboards\"}, \"Internet Archive\": {\"frequency\": 1, \"value\": \"Internet Archive\"}, \"GoPro Inc\": {\"frequency\": 1, \"value\": \"GoPro Inc\"}, \"Jawbone\": {\"frequency\": 1, \"value\": \"Jawbone\"}, \"Vizio\": {\"frequency\": 1, \"value\": \"Vizio\"}, \"Woodward Dream Cruise\": {\"frequency\": 1, \"value\": \"Woodward Dream ...\"}, \"Chromebooks\": {\"frequency\": 1, \"value\": \"Chromebooks\"}, \"Spyware\": {\"frequency\": 1, \"value\": \"Spyware\"}, \"Southeastern Conference\": {\"frequency\": 1, \"value\": \"Southeastern ...\"}, \"Magazines\": {\"frequency\": 1, \"value\": \"Magazines\"}, \"Royal Caribbean International\": {\"frequency\": 1, \"value\": \"Royal Caribbean ...\"}, \"iCloud\": {\"frequency\": 1, \"value\": \"iCloud\"}}, \"size\": 399}}, \"selected_variable\": {\"name\": [\"google_concepts_sf\"], \"descriptives\": {\"rows\": 399, \"columns\": 1}, \"view_component\": \"Summary\", \"view_file\": \"sframe\", \"view_params\": {\"y\": null, \"x\": null, \"columns\": [\"Tag\"], \"view\": null}, \"view_components\": [\"Summary\", \"Table\", \"Bar Chart\", \"BoxWhisker Plot\", \"Line Chart\", \"Scatter Plot\", \"Heat Map\", \"Plots\"], \"type\": \"SFrame\", \"columns\": [{\"dtype\": \"str\", \"name\": \"Tag\"}], \"column_identifiers\": [\"Tag\"]}, \"columns\": [{\"dtype\": \"str\", \"name\": \"Tag\"}]}, e);\n",
        "                });\n",
        "            })();\n",
        "        "
       ],
       "metadata": {},
       "output_type": "display_data"
      }
     ],
     "prompt_number": 10
    },
    {
     "cell_type": "markdown",
     "metadata": {},
     "source": [
      "Finally, let's create an autotagger model."
     ]
    },
    {
     "cell_type": "code",
     "collapsed": false,
     "input": [
      "m = gl.autotagger.create(google_concepts_sf, verbose=False, tag_name=\"Tag\")"
     ],
     "language": "python",
     "metadata": {},
     "outputs": [],
     "prompt_number": 11
    },
    {
     "cell_type": "markdown",
     "metadata": {},
     "source": [
      "Before tagging, we create a new column by combining the text and title columns\n",
      "into a single text column in the sample SFrame."
     ]
    },
    {
     "cell_type": "code",
     "collapsed": false,
     "input": [
      "stories_sf[\"text_title\"] = stories_sf.apply(lambda row: row[\"title\"] + \" \" + row[\"text\"])\n",
      "example_row = stories_sf[stories_sf[\"objectID\"] == \"2019157\"]\n",
      "\n",
      "m.tag(example_row, query_name=\"text_title\").print_rows(max_column_width=100)"
     ],
     "language": "python",
     "metadata": {},
     "outputs": [
      {
       "html": [
        "<pre>PROGRESS: Starting pairwise querying.</pre>"
       ],
       "metadata": {},
       "output_type": "display_data",
       "text": [
        "PROGRESS: Starting pairwise querying."
       ]
      },
      {
       "html": [
        "<pre>PROGRESS: +--------------+---------+-------------+--------------+</pre>"
       ],
       "metadata": {},
       "output_type": "display_data",
       "text": [
        "PROGRESS: +--------------+---------+-------------+--------------+"
       ]
      },
      {
       "html": [
        "<pre>PROGRESS: | Query points | # Pairs | % Complete. | Elapsed Time |</pre>"
       ],
       "metadata": {},
       "output_type": "display_data",
       "text": [
        "PROGRESS: | Query points | # Pairs | % Complete. | Elapsed Time |"
       ]
      },
      {
       "html": [
        "<pre>PROGRESS: +--------------+---------+-------------+--------------+</pre>"
       ],
       "metadata": {},
       "output_type": "display_data",
       "text": [
        "PROGRESS: +--------------+---------+-------------+--------------+"
       ]
      },
      {
       "html": [
        "<pre>PROGRESS: | 0            | 1       | 0.250627    | 717us        |</pre>"
       ],
       "metadata": {},
       "output_type": "display_data",
       "text": [
        "PROGRESS: | 0            | 1       | 0.250627    | 717us        |"
       ]
      },
      {
       "html": [
        "<pre>PROGRESS: | Done         |         | 100         | 2.162ms      |</pre>"
       ],
       "metadata": {},
       "output_type": "display_data",
       "text": [
        "PROGRESS: | Done         |         | 100         | 2.162ms      |"
       ]
      },
      {
       "html": [
        "<pre>PROGRESS: +--------------+---------+-------------+--------------+</pre>"
       ],
       "metadata": {},
       "output_type": "display_data",
       "text": [
        "PROGRESS: +--------------+---------+-------------+--------------+"
       ]
      },
      {
       "output_type": "stream",
       "stream": "stdout",
       "text": [
        "+---------------+\n",
        "| text_title_id |\n",
        "+---------------+\n",
        "|       0       |\n",
        "|       0       |\n",
        "|       0       |\n",
        "|       0       |\n",
        "|       0       |\n",
        "+---------------+\n",
        "+-----------------------------------------------------------------------------------------------------+\n",
        "|                                              text_title                                             |\n",
        "+-----------------------------------------------------------------------------------------------------+\n",
        "| Ask HN: How do you begin to build your new project? I'm embarking on my first \"decent-size\" proj... |\n",
        "| Ask HN: How do you begin to build your new project? I'm embarking on my first \"decent-size\" proj... |\n",
        "| Ask HN: How do you begin to build your new project? I'm embarking on my first \"decent-size\" proj... |\n",
        "| Ask HN: How do you begin to build your new project? I'm embarking on my first \"decent-size\" proj... |\n",
        "| Ask HN: How do you begin to build your new project? I'm embarking on my first \"decent-size\" proj... |\n",
        "+-----------------------------------------------------------------------------------------------------+\n",
        "+----------------------+-----------------+\n",
        "|         Tag          |      score      |\n",
        "+----------------------+-----------------+\n",
        "| Take-Two Interactive |      0.0625     |\n",
        "|     The Internet     | 0.0377358490566 |\n",
        "|     Lumia series     | 0.0373831775701 |\n",
        "|  Internet of Things  | 0.0353982300885 |\n",
        "|  Web search engines  | 0.0350877192982 |\n",
        "+----------------------+-----------------+\n",
        "[5 rows x 4 columns]\n",
        "\n"
       ]
      }
     ],
     "prompt_number": 12
    },
    {
     "cell_type": "markdown",
     "metadata": {},
     "source": [
      "In this particular post, the author is looking for advice on designing a web application.\n",
      "Two of the assigned tags (\"Web search engines\" and \"The Internet\") are both reasonably relevant. On the other hand, \n",
      "\"Lumia Series\" and \"Take-Two Interactive\" are pretty specific and not very relevant. (This suggests that our tag set \n",
      "could potentially use some additional curation to be better suited for our application.) \n",
      "\n",
      "It's illuminating to explore  the data this way -- sample some posts randomly, and look at the tags assigned by our model. Perhaps we modify our tag set, retrain, re-tag and then compare the results. There are bound to be some bad results, but the \n",
      "more care used when creating the reference set of tags, the better the results will be.\n",
      "\n",
      "In this initial implementation, there are just three knobs we can tweak. The first, as mentioned above, is the reference set\n",
      "itself. The next parameter you'll want to be aware of is the `similarity_threshold` parameter to the tag method, which allows us to filter out results that aren't within some distance from the query. This won't help us replace bad tags with good ones, but it will prevent us from showing bad tags in the first place. ([Precision](http://en.wikipedia.org/wiki/Precision_and_recall) is \n",
      "much more important than recall for this application.) The final parameter that we can adjust is the `query_name` \n",
      "parameter, which determines the column of textual data to use as the basis of tagging. Let's try tagging again, \n",
      "this time using only the title of the Hacker News post."
     ]
    },
    {
     "cell_type": "code",
     "collapsed": false,
     "input": [
      "m.tag(example_row, query_name=\"title\").print_rows(max_column_width=100)"
     ],
     "language": "python",
     "metadata": {},
     "outputs": [
      {
       "html": [
        "<pre>PROGRESS: Starting pairwise querying.</pre>"
       ],
       "metadata": {},
       "output_type": "display_data",
       "text": [
        "PROGRESS: Starting pairwise querying."
       ]
      },
      {
       "html": [
        "<pre>PROGRESS: +--------------+---------+-------------+--------------+</pre>"
       ],
       "metadata": {},
       "output_type": "display_data",
       "text": [
        "PROGRESS: +--------------+---------+-------------+--------------+"
       ]
      },
      {
       "html": [
        "<pre>PROGRESS: | Query points | # Pairs | % Complete. | Elapsed Time |</pre>"
       ],
       "metadata": {},
       "output_type": "display_data",
       "text": [
        "PROGRESS: | Query points | # Pairs | % Complete. | Elapsed Time |"
       ]
      },
      {
       "html": [
        "<pre>PROGRESS: +--------------+---------+-------------+--------------+</pre>"
       ],
       "metadata": {},
       "output_type": "display_data",
       "text": [
        "PROGRESS: +--------------+---------+-------------+--------------+"
       ]
      },
      {
       "html": [
        "<pre>PROGRESS: | 0            | 1       | 0.250627    | 739us        |</pre>"
       ],
       "metadata": {},
       "output_type": "display_data",
       "text": [
        "PROGRESS: | 0            | 1       | 0.250627    | 739us        |"
       ]
      },
      {
       "html": [
        "<pre>PROGRESS: | Done         |         | 100         | 2.173ms      |</pre>"
       ],
       "metadata": {},
       "output_type": "display_data",
       "text": [
        "PROGRESS: | Done         |         | 100         | 2.173ms      |"
       ]
      },
      {
       "html": [
        "<pre>PROGRESS: +--------------+---------+-------------+--------------+</pre>"
       ],
       "metadata": {},
       "output_type": "display_data",
       "text": [
        "PROGRESS: +--------------+---------+-------------+--------------+"
       ]
      },
      {
       "output_type": "stream",
       "stream": "stdout",
       "text": [
        "+----------+-----------------------------------------------------+-----------+----------------+\n",
        "| title_id |                        title                        |    Tag    |     score      |\n",
        "+----------+-----------------------------------------------------+-----------+----------------+\n",
        "|    0     | Ask HN: How do you begin to build your new project? | Macintosh | 0.142857142857 |\n",
        "+----------+-----------------------------------------------------+-----------+----------------+\n",
        "[1 rows x 4 columns]\n",
        "\n"
       ]
      }
     ],
     "prompt_number": 13
    },
    {
     "cell_type": "markdown",
     "metadata": {},
     "source": [
      "The model doesn't have enough informative text to work with when tagging solely based on the title. \n",
      "Let's try tagging again, this time with a larger sample of our data set, indicating our bias for \n",
      "high precision by setting the `similarity_threshold` parameter to .5, which amounts to applying tags only where the score is .5 or greater."
     ]
    },
    {
     "cell_type": "code",
     "collapsed": false,
     "input": [
      "sample = stories_sf.sample(.1)\n",
      "m.tag(sample, query_name=\"text_title\", k=2, similarity_threshold=.5)"
     ],
     "language": "python",
     "metadata": {},
     "outputs": [
      {
       "html": [
        "<pre>PROGRESS: Starting pairwise querying.</pre>"
       ],
       "metadata": {},
       "output_type": "display_data",
       "text": [
        "PROGRESS: Starting pairwise querying."
       ]
      },
      {
       "html": [
        "<pre>PROGRESS: +--------------+---------+-------------+--------------+</pre>"
       ],
       "metadata": {},
       "output_type": "display_data",
       "text": [
        "PROGRESS: +--------------+---------+-------------+--------------+"
       ]
      },
      {
       "html": [
        "<pre>PROGRESS: | Query points | # Pairs | % Complete. | Elapsed Time |</pre>"
       ],
       "metadata": {},
       "output_type": "display_data",
       "text": [
        "PROGRESS: | Query points | # Pairs | % Complete. | Elapsed Time |"
       ]
      },
      {
       "html": [
        "<pre>PROGRESS: +--------------+---------+-------------+--------------+</pre>"
       ],
       "metadata": {},
       "output_type": "display_data",
       "text": [
        "PROGRESS: +--------------+---------+-------------+--------------+"
       ]
      },
      {
       "html": [
        "<pre>PROGRESS: | 0            | 99      | 0.000976698 | 151.508ms    |</pre>"
       ],
       "metadata": {},
       "output_type": "display_data",
       "text": [
        "PROGRESS: | 0            | 99      | 0.000976698 | 151.508ms    |"
       ]
      },
      {
       "html": [
        "<pre>PROGRESS: | 3572         | 1425327 | 14.0618     | 1.17s        |</pre>"
       ],
       "metadata": {},
       "output_type": "display_data",
       "text": [
        "PROGRESS: | 3572         | 1425327 | 14.0618     | 1.17s        |"
       ]
      },
      {
       "html": [
        "<pre>PROGRESS: | 6202         | 2474943 | 24.4169     | 2.15s        |</pre>"
       ],
       "metadata": {},
       "output_type": "display_data",
       "text": [
        "PROGRESS: | 6202         | 2474943 | 24.4169     | 2.15s        |"
       ]
      },
      {
       "html": [
        "<pre>PROGRESS: | 9528         | 3802062 | 37.5098     | 3.15s        |</pre>"
       ],
       "metadata": {},
       "output_type": "display_data",
       "text": [
        "PROGRESS: | 9528         | 3802062 | 37.5098     | 3.15s        |"
       ]
      },
      {
       "html": [
        "<pre>PROGRESS: | 10915        | 4355185 | 42.9667     | 4.15s        |</pre>"
       ],
       "metadata": {},
       "output_type": "display_data",
       "text": [
        "PROGRESS: | 10915        | 4355185 | 42.9667     | 4.15s        |"
       ]
      },
      {
       "html": [
        "<pre>PROGRESS: | 13826        | 5516871 | 54.4274     | 5.15s        |</pre>"
       ],
       "metadata": {},
       "output_type": "display_data",
       "text": [
        "PROGRESS: | 13826        | 5516871 | 54.4274     | 5.15s        |"
       ]
      },
      {
       "html": [
        "<pre>PROGRESS: | 17762        | 7087138 | 69.9191     | 6.16s        |</pre>"
       ],
       "metadata": {},
       "output_type": "display_data",
       "text": [
        "PROGRESS: | 17762        | 7087138 | 69.9191     | 6.16s        |"
       ]
      },
      {
       "html": [
        "<pre>PROGRESS: | 19294        | 7698375 | 75.9494     | 7.15s        |</pre>"
       ],
       "metadata": {},
       "output_type": "display_data",
       "text": [
        "PROGRESS: | 19294        | 7698375 | 75.9494     | 7.15s        |"
       ]
      },
      {
       "html": [
        "<pre>PROGRESS: | 23121        | 9225378 | 91.0142     | 8.16s        |</pre>"
       ],
       "metadata": {},
       "output_type": "display_data",
       "text": [
        "PROGRESS: | 23121        | 9225378 | 91.0142     | 8.16s        |"
       ]
      },
      {
       "html": [
        "<pre>PROGRESS: | Done         |         | 100         | 8.42s        |</pre>"
       ],
       "metadata": {},
       "output_type": "display_data",
       "text": [
        "PROGRESS: | Done         |         | 100         | 8.42s        |"
       ]
      },
      {
       "html": [
        "<pre>PROGRESS: +--------------+---------+-------------+--------------+</pre>"
       ],
       "metadata": {},
       "output_type": "display_data",
       "text": [
        "PROGRESS: +--------------+---------+-------------+--------------+"
       ]
      },
      {
       "html": [
        "<div style=\"max-height:1000px;max-width:1500px;overflow:auto;\"><table frame=\"box\" rules=\"cols\">\n",
        "    <tr>\n",
        "        <th style=\"padding-left: 1em; padding-right: 1em; text-align: center\">text_title_id</th>\n",
        "        <th style=\"padding-left: 1em; padding-right: 1em; text-align: center\">text_title</th>\n",
        "        <th style=\"padding-left: 1em; padding-right: 1em; text-align: center\">Tag</th>\n",
        "        <th style=\"padding-left: 1em; padding-right: 1em; text-align: center\">score</th>\n",
        "    </tr>\n",
        "    <tr>\n",
        "        <td style=\"padding-left: 1em; padding-right: 1em; text-align: center; vertical-align: top\">652</td>\n",
        "        <td style=\"padding-left: 1em; padding-right: 1em; text-align: center; vertical-align: top\">Gigafactory http:&amp;#x2F;&amp;#<br>x2F;www.teslamotors.c ...</td>\n",
        "        <td style=\"padding-left: 1em; padding-right: 1em; text-align: center; vertical-align: top\">Tesla Motors</td>\n",
        "        <td style=\"padding-left: 1em; padding-right: 1em; text-align: center; vertical-align: top\">0.666666666667</td>\n",
        "    </tr>\n",
        "    <tr>\n",
        "        <td style=\"padding-left: 1em; padding-right: 1em; text-align: center; vertical-align: top\">675</td>\n",
        "        <td style=\"padding-left: 1em; padding-right: 1em; text-align: center; vertical-align: top\">Whatsapp down Seems<br>whatsapp is down now ...</td>\n",
        "        <td style=\"padding-left: 1em; padding-right: 1em; text-align: center; vertical-align: top\">WhatsApp</td>\n",
        "        <td style=\"padding-left: 1em; padding-right: 1em; text-align: center; vertical-align: top\">0.5</td>\n",
        "    </tr>\n",
        "    <tr>\n",
        "        <td style=\"padding-left: 1em; padding-right: 1em; text-align: center; vertical-align: top\">714</td>\n",
        "        <td style=\"padding-left: 1em; padding-right: 1em; text-align: center; vertical-align: top\">Thoughts on Silicon<br>Valley What are your ...</td>\n",
        "        <td style=\"padding-left: 1em; padding-right: 1em; text-align: center; vertical-align: top\">Silicon Valley</td>\n",
        "        <td style=\"padding-left: 1em; padding-right: 1em; text-align: center; vertical-align: top\">0.928571428571</td>\n",
        "    </tr>\n",
        "    <tr>\n",
        "        <td style=\"padding-left: 1em; padding-right: 1em; text-align: center; vertical-align: top\">752</td>\n",
        "        <td style=\"padding-left: 1em; padding-right: 1em; text-align: center; vertical-align: top\">How many computer<br>programmers are in the ...</td>\n",
        "        <td style=\"padding-left: 1em; padding-right: 1em; text-align: center; vertical-align: top\">Computer programs</td>\n",
        "        <td style=\"padding-left: 1em; padding-right: 1em; text-align: center; vertical-align: top\">0.590909090909</td>\n",
        "    </tr>\n",
        "    <tr>\n",
        "        <td style=\"padding-left: 1em; padding-right: 1em; text-align: center; vertical-align: top\">983</td>\n",
        "        <td style=\"padding-left: 1em; padding-right: 1em; text-align: center; vertical-align: top\">Ask HN: This is what is<br>happening in Silicon ...</td>\n",
        "        <td style=\"padding-left: 1em; padding-right: 1em; text-align: center; vertical-align: top\">Silicon Valley</td>\n",
        "        <td style=\"padding-left: 1em; padding-right: 1em; text-align: center; vertical-align: top\">0.590909090909</td>\n",
        "    </tr>\n",
        "    <tr>\n",
        "        <td style=\"padding-left: 1em; padding-right: 1em; text-align: center; vertical-align: top\">1335</td>\n",
        "        <td style=\"padding-left: 1em; padding-right: 1em; text-align: center; vertical-align: top\">Facebook down The webpage<br>is down! ...</td>\n",
        "        <td style=\"padding-left: 1em; padding-right: 1em; text-align: center; vertical-align: top\">Facebook</td>\n",
        "        <td style=\"padding-left: 1em; padding-right: 1em; text-align: center; vertical-align: top\">1.0</td>\n",
        "    </tr>\n",
        "    <tr>\n",
        "        <td style=\"padding-left: 1em; padding-right: 1em; text-align: center; vertical-align: top\">1417</td>\n",
        "        <td style=\"padding-left: 1em; padding-right: 1em; text-align: center; vertical-align: top\">Santa Claus VS Justin<br>Bieber - The santa is ...</td>\n",
        "        <td style=\"padding-left: 1em; padding-right: 1em; text-align: center; vertical-align: top\">Justin Bieber</td>\n",
        "        <td style=\"padding-left: 1em; padding-right: 1em; text-align: center; vertical-align: top\">0.666666666667</td>\n",
        "    </tr>\n",
        "    <tr>\n",
        "        <td style=\"padding-left: 1em; padding-right: 1em; text-align: center; vertical-align: top\">1533</td>\n",
        "        <td style=\"padding-left: 1em; padding-right: 1em; text-align: center; vertical-align: top\">Beauty channel  Just made<br>my first youtube video! ...</td>\n",
        "        <td style=\"padding-left: 1em; padding-right: 1em; text-align: center; vertical-align: top\">YouTube</td>\n",
        "        <td style=\"padding-left: 1em; padding-right: 1em; text-align: center; vertical-align: top\">0.555555555556</td>\n",
        "    </tr>\n",
        "    <tr>\n",
        "        <td style=\"padding-left: 1em; padding-right: 1em; text-align: center; vertical-align: top\">1558</td>\n",
        "        <td style=\"padding-left: 1em; padding-right: 1em; text-align: center; vertical-align: top\">E canl tv izle ecanlitv -<br>turkey e canl tv izleme ...</td>\n",
        "        <td style=\"padding-left: 1em; padding-right: 1em; text-align: center; vertical-align: top\">Websites</td>\n",
        "        <td style=\"padding-left: 1em; padding-right: 1em; text-align: center; vertical-align: top\">0.625</td>\n",
        "    </tr>\n",
        "    <tr>\n",
        "        <td style=\"padding-left: 1em; padding-right: 1em; text-align: center; vertical-align: top\">2169</td>\n",
        "        <td style=\"padding-left: 1em; padding-right: 1em; text-align: center; vertical-align: top\">General Motors Hiring<br>Developers We are loo ...</td>\n",
        "        <td style=\"padding-left: 1em; padding-right: 1em; text-align: center; vertical-align: top\">General Motors</td>\n",
        "        <td style=\"padding-left: 1em; padding-right: 1em; text-align: center; vertical-align: top\">0.722222222222</td>\n",
        "    </tr>\n",
        "</table>\n",
        "[? rows x 4 columns]<br/>Note: Only the head of the SFrame is printed. This SFrame is lazily evaluated.<br/>You can use len(sf) to force materialization.\n",
        "</div>"
       ],
       "metadata": {},
       "output_type": "pyout",
       "prompt_number": 14,
       "text": [
        "Columns:\n",
        "\ttext_title_id\tint\n",
        "\ttext_title\tstr\n",
        "\tTag\tstr\n",
        "\tscore\tfloat\n",
        "\n",
        "Rows: Unknown\n",
        "\n",
        "Data:\n",
        "+---------------+-------------------------------+-------------------+\n",
        "| text_title_id |           text_title          |        Tag        |\n",
        "+---------------+-------------------------------+-------------------+\n",
        "|      652      | Gigafactory http:&#x2F;&#x... |    Tesla Motors   |\n",
        "|      675      | Whatsapp down Seems whatsa... |      WhatsApp     |\n",
        "|      714      | Thoughts on Silicon Valley... |   Silicon Valley  |\n",
        "|      752      | How many computer programm... | Computer programs |\n",
        "|      983      | Ask HN: This is what is ha... |   Silicon Valley  |\n",
        "|      1335     | Facebook down The webpage ... |      Facebook     |\n",
        "|      1417     | Santa Claus VS Justin Bieb... |   Justin Bieber   |\n",
        "|      1533     | Beauty channel  Just made ... |      YouTube      |\n",
        "|      1558     | E canl tv izle ecanlitv - ... |      Websites     |\n",
        "|      2169     | General Motors Hiring Deve... |   General Motors  |\n",
        "+---------------+-------------------------------+-------------------+\n",
        "+----------------+\n",
        "|     score      |\n",
        "+----------------+\n",
        "| 0.666666666667 |\n",
        "|      0.5       |\n",
        "| 0.928571428571 |\n",
        "| 0.590909090909 |\n",
        "| 0.590909090909 |\n",
        "|      1.0       |\n",
        "| 0.666666666667 |\n",
        "| 0.555555555556 |\n",
        "|     0.625      |\n",
        "| 0.722222222222 |\n",
        "+----------------+\n",
        "[? rows x 4 columns]\n",
        "Note: Only the head of the SFrame is printed. This SFrame is lazily evaluated.\n",
        "You can use len(sf) to force materialization."
       ]
      }
     ],
     "prompt_number": 14
    },
    {
     "cell_type": "markdown",
     "metadata": {},
     "source": [
      "## Key takeaways\n",
      "\n",
      "One of the crucial points when creating autotagger models is that the tags\n",
      "assigned by the model are only ever as good as the reference set. You can always\n",
      "increase the similarity threshold at tagging time to increase precision, but if there\n",
      "are garbage tags in your reference set at model creation time, then the same\n",
      "garbage tags will show up at tagging time. So invest as much time as possible up\n",
      "front to ensure that you minimize the noise in your reference data. And if you have resources to collect training data, you'll see a huge improvement in the accuracy of your tagger.\n",
      "\n",
      "We hope to improve our data matching offerings in the coming months. Here are some of the improvements on the horizon:\n",
      "\n",
      "1. expose the underlying features and distance function\n",
      "2. allow multi-field records in the reference set\n",
      "3. provide supervised models with learned distance functions\n",
      "\n",
      "Email us [support@turi.com](mailto:support@turi.com) and let us know if you have a data matching problem that we can\n",
      "help you solve."
     ]
    }
   ],
   "metadata": {}
  }
 ]
}
