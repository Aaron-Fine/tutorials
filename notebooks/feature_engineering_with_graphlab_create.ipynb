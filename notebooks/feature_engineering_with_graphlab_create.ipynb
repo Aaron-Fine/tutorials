{
 "metadata": {
  "name": "",
  "signature": "sha256:f1b213bcbaf4a6b40c1f8f111d3cf12da7db4ed5cdf6fa69b5672ce2feb6f56c"
 },
 "nbformat": 3,
 "nbformat_minor": 0,
 "worksheets": [
  {
   "cells": [
    {
     "cell_type": "heading",
     "level": 1,
     "metadata": {},
     "source": [
      "Click-Through-Rate Prediction with GraphLab Create Feature Engineering Transformers"
     ]
    },
    {
     "cell_type": "markdown",
     "metadata": {},
     "source": [
      "Feature engineering is well known to be one of the key ingredients in a successful intelligent application. In this notebook, we introduce what feature engineering is, why it is important, and how to engineer features. For this, we work through a Kaggle competition on click-through prediction (**CTR**) using [Avazu's anonymized dataset](http://www.kaggle.com/c/avazu-ctr-prediction). \n",
      "\n",
      "More specifically, you will learn how to:\n",
      "\n",
      "1. Build a **click-through-rate predictor** using GraphLab Create.\n",
      "1. **Improve the quality** of the predictions using **complex feature engineering** transformers provided in GraphLab Create.\n",
      "\n",
      "The specific feature engineering techniques used in this notebook are:\n",
      " * [Date / time features](#Day-/-Hour-Feature-Engineering---DateTime-parsing)\n",
      " * [Interation Terms (Quadratic Features)](#Interaction-Terms:-Building-new-features-from-existing-ones)\n",
      " * [One-Hot Encoding](#One-Hot-Encoding)\n",
      " * [Feature Hashing](#Feature-Hashing)\n",
      "\n",
      "The goal is not to try to win this competition, but instead show that prediction accuracy can be greatly improved with feature engineering tools and some more time.\n",
      "\n",
      "**Note:** This notebook requires GraphLab Create 1.3."
     ]
    },
    {
     "cell_type": "heading",
     "level": 3,
     "metadata": {},
     "source": [
      "[The Avazu dataset](http://www.kaggle.com/c/avazu-ctr-prediction)"
     ]
    },
    {
     "cell_type": "code",
     "collapsed": false,
     "input": [
      "import graphlab as gl\n",
      "gl.canvas.set_target('ipynb')"
     ],
     "language": "python",
     "metadata": {},
     "outputs": [],
     "prompt_number": 1
    },
    {
     "cell_type": "markdown",
     "metadata": {},
     "source": [
      "(from Kaggle):\n",
      "\n",
      "For this competition, we have provided **11 days worth of Avazu data** to build and test prediction models. Can you find a strategy that beats standard classification algorithms? \n",
      "\n",
      "**Data fields**\n",
      "\n",
      "    id: ad identifier\n",
      "    click: 0/1 for non-click/click\n",
      "    hour: format is YYMMDDHH, so 14091123 means 23:00 on Sept. 11, 2014 UTC.\n",
      "    C1 -- anonymized categorical variable\n",
      "    banner_pos\n",
      "    site_id\n",
      "    site_domain\n",
      "    site_category\n",
      "    app_id\n",
      "    app_domain\n",
      "    app_category\n",
      "    device_id\n",
      "    device_ip\n",
      "    device_model\n",
      "    device_type\n",
      "    device_conn_type\n",
      "    C14-C21 -- anonymized categorical variables\n"
     ]
    },
    {
     "cell_type": "markdown",
     "metadata": {},
     "source": [
      "## 1. Load the data"
     ]
    },
    {
     "cell_type": "markdown",
     "metadata": {},
     "source": [
      "We need to load the data. The data is provided as a gzipped-CSV, so we download it from Kaggle's website and then load it locally using [SFrame.read_csv](https://turi.com/products/create/docs/generated/graphlab.SFrame.read_csv.html#graphlab.SFrame.read_csv). Since the dataset is almost entirely categorical, we set the ```column_type_hints``` to ```str```, and then simply change the _click_ column to ```int```.\n",
      "\n",
      "Since there is a lot of iterative steps while feature engineering, and to save disk space and time to load, it is often a good idea to save the SFrame in its native format. That way you can restart this IPython session and more quickly pick up where you left off."
     ]
    },
    {
     "cell_type": "code",
     "collapsed": false,
     "input": [
      "import os\n",
      "\n",
      "if not os.path.exists('train.gl'):\n",
      "    path = 'train.gz' # path to dataset - download from Kaggle, 1.2GB\n",
      "    train = gl.SFrame.read_csv(path, column_type_hints=str)\n",
      "    train['click'] = train['click'].astype(int)\n",
      "    train.save('train.gl')\n",
      "else:\n",
      "    train = gl.SFrame('train.gl')"
     ],
     "language": "python",
     "metadata": {},
     "outputs": [
      {
       "output_type": "stream",
       "stream": "stderr",
       "text": [
        "[INFO] This commercial license of GraphLab Create is assigned to engr@turi.com.\n",
        "\n"
       ]
      },
      {
       "output_type": "stream",
       "stream": "stderr",
       "text": [
        "[INFO] Start server at: ipc:///tmp/graphlab_server-72603 - Server binary: /Users/bdol/anaconda/envs/clickthrough_test/lib/python2.7/site-packages/graphlab/unity_server - Server log: /tmp/graphlab_server_1437153352.log\n"
       ]
      },
      {
       "output_type": "stream",
       "stream": "stderr",
       "text": [
        "[INFO] GraphLab Server Version: 1.4.830\n"
       ]
      },
      {
       "html": [
        "<pre>PROGRESS: Read 336736 lines. Lines per second: 126827</pre>"
       ],
       "metadata": {},
       "output_type": "display_data",
       "text": [
        "PROGRESS: Read 336736 lines. Lines per second: 126827"
       ]
      },
      {
       "html": [
        "<pre>PROGRESS: Read 1346636 lines. Lines per second: 166778</pre>"
       ],
       "metadata": {},
       "output_type": "display_data",
       "text": [
        "PROGRESS: Read 1346636 lines. Lines per second: 166778"
       ]
      },
      {
       "html": [
        "<pre>PROGRESS: Read 2355736 lines. Lines per second: 173668</pre>"
       ],
       "metadata": {},
       "output_type": "display_data",
       "text": [
        "PROGRESS: Read 2355736 lines. Lines per second: 173668"
       ]
      },
      {
       "html": [
        "<pre>PROGRESS: Read 3364024 lines. Lines per second: 174608</pre>"
       ],
       "metadata": {},
       "output_type": "display_data",
       "text": [
        "PROGRESS: Read 3364024 lines. Lines per second: 174608"
       ]
      },
      {
       "html": [
        "<pre>PROGRESS: Read 4372157 lines. Lines per second: 172454</pre>"
       ],
       "metadata": {},
       "output_type": "display_data",
       "text": [
        "PROGRESS: Read 4372157 lines. Lines per second: 172454"
       ]
      },
      {
       "html": [
        "<pre>PROGRESS: Read 5045269 lines. Lines per second: 164179</pre>"
       ],
       "metadata": {},
       "output_type": "display_data",
       "text": [
        "PROGRESS: Read 5045269 lines. Lines per second: 164179"
       ]
      },
      {
       "html": [
        "<pre>PROGRESS: Read 5717567 lines. Lines per second: 159242</pre>"
       ],
       "metadata": {},
       "output_type": "display_data",
       "text": [
        "PROGRESS: Read 5717567 lines. Lines per second: 159242"
       ]
      },
      {
       "html": [
        "<pre>PROGRESS: Read 6725242 lines. Lines per second: 161165</pre>"
       ],
       "metadata": {},
       "output_type": "display_data",
       "text": [
        "PROGRESS: Read 6725242 lines. Lines per second: 161165"
       ]
      },
      {
       "html": [
        "<pre>PROGRESS: Read 7732451 lines. Lines per second: 160115</pre>"
       ],
       "metadata": {},
       "output_type": "display_data",
       "text": [
        "PROGRESS: Read 7732451 lines. Lines per second: 160115"
       ]
      },
      {
       "html": [
        "<pre>PROGRESS: Read 8741759 lines. Lines per second: 160537</pre>"
       ],
       "metadata": {},
       "output_type": "display_data",
       "text": [
        "PROGRESS: Read 8741759 lines. Lines per second: 160537"
       ]
      },
      {
       "html": [
        "<pre>PROGRESS: Read 9751627 lines. Lines per second: 161166</pre>"
       ],
       "metadata": {},
       "output_type": "display_data",
       "text": [
        "PROGRESS: Read 9751627 lines. Lines per second: 161166"
       ]
      },
      {
       "html": [
        "<pre>PROGRESS: Read 10759260 lines. Lines per second: 160118</pre>"
       ],
       "metadata": {},
       "output_type": "display_data",
       "text": [
        "PROGRESS: Read 10759260 lines. Lines per second: 160118"
       ]
      },
      {
       "html": [
        "<pre>PROGRESS: Read 11766454 lines. Lines per second: 159164</pre>"
       ],
       "metadata": {},
       "output_type": "display_data",
       "text": [
        "PROGRESS: Read 11766454 lines. Lines per second: 159164"
       ]
      },
      {
       "html": [
        "<pre>PROGRESS: Read 12777884 lines. Lines per second: 157526</pre>"
       ],
       "metadata": {},
       "output_type": "display_data",
       "text": [
        "PROGRESS: Read 12777884 lines. Lines per second: 157526"
       ]
      },
      {
       "html": [
        "<pre>PROGRESS: Read 13450141 lines. Lines per second: 155918</pre>"
       ],
       "metadata": {},
       "output_type": "display_data",
       "text": [
        "PROGRESS: Read 13450141 lines. Lines per second: 155918"
       ]
      },
      {
       "html": [
        "<pre>PROGRESS: Read 14459648 lines. Lines per second: 155187</pre>"
       ],
       "metadata": {},
       "output_type": "display_data",
       "text": [
        "PROGRESS: Read 14459648 lines. Lines per second: 155187"
       ]
      },
      {
       "html": [
        "<pre>PROGRESS: Read 15465592 lines. Lines per second: 154372</pre>"
       ],
       "metadata": {},
       "output_type": "display_data",
       "text": [
        "PROGRESS: Read 15465592 lines. Lines per second: 154372"
       ]
      },
      {
       "html": [
        "<pre>PROGRESS: Read 16471502 lines. Lines per second: 153696</pre>"
       ],
       "metadata": {},
       "output_type": "display_data",
       "text": [
        "PROGRESS: Read 16471502 lines. Lines per second: 153696"
       ]
      },
      {
       "html": [
        "<pre>PROGRESS: Read 17479087 lines. Lines per second: 153377</pre>"
       ],
       "metadata": {},
       "output_type": "display_data",
       "text": [
        "PROGRESS: Read 17479087 lines. Lines per second: 153377"
       ]
      },
      {
       "html": [
        "<pre>PROGRESS: Read 18486842 lines. Lines per second: 153254</pre>"
       ],
       "metadata": {},
       "output_type": "display_data",
       "text": [
        "PROGRESS: Read 18486842 lines. Lines per second: 153254"
       ]
      },
      {
       "html": [
        "<pre>PROGRESS: Read 19494209 lines. Lines per second: 153256</pre>"
       ],
       "metadata": {},
       "output_type": "display_data",
       "text": [
        "PROGRESS: Read 19494209 lines. Lines per second: 153256"
       ]
      },
      {
       "html": [
        "<pre>PROGRESS: Read 20501474 lines. Lines per second: 153324</pre>"
       ],
       "metadata": {},
       "output_type": "display_data",
       "text": [
        "PROGRESS: Read 20501474 lines. Lines per second: 153324"
       ]
      },
      {
       "html": [
        "<pre>PROGRESS: Read 21510591 lines. Lines per second: 153025</pre>"
       ],
       "metadata": {},
       "output_type": "display_data",
       "text": [
        "PROGRESS: Read 21510591 lines. Lines per second: 153025"
       ]
      },
      {
       "html": [
        "<pre>PROGRESS: Read 22517836 lines. Lines per second: 153076</pre>"
       ],
       "metadata": {},
       "output_type": "display_data",
       "text": [
        "PROGRESS: Read 22517836 lines. Lines per second: 153076"
       ]
      },
      {
       "html": [
        "<pre>PROGRESS: Read 23526032 lines. Lines per second: 152779</pre>"
       ],
       "metadata": {},
       "output_type": "display_data",
       "text": [
        "PROGRESS: Read 23526032 lines. Lines per second: 152779"
       ]
      },
      {
       "html": [
        "<pre>PROGRESS: Read 24196556 lines. Lines per second: 152197</pre>"
       ],
       "metadata": {},
       "output_type": "display_data",
       "text": [
        "PROGRESS: Read 24196556 lines. Lines per second: 152197"
       ]
      },
      {
       "html": [
        "<pre>PROGRESS: Read 25203931 lines. Lines per second: 152041</pre>"
       ],
       "metadata": {},
       "output_type": "display_data",
       "text": [
        "PROGRESS: Read 25203931 lines. Lines per second: 152041"
       ]
      },
      {
       "html": [
        "<pre>PROGRESS: Read 26209876 lines. Lines per second: 151789</pre>"
       ],
       "metadata": {},
       "output_type": "display_data",
       "text": [
        "PROGRESS: Read 26209876 lines. Lines per second: 151789"
       ]
      },
      {
       "html": [
        "<pre>PROGRESS: Read 27217728 lines. Lines per second: 151774</pre>"
       ],
       "metadata": {},
       "output_type": "display_data",
       "text": [
        "PROGRESS: Read 27217728 lines. Lines per second: 151774"
       ]
      },
      {
       "html": [
        "<pre>PROGRESS: Read 28223267 lines. Lines per second: 151587</pre>"
       ],
       "metadata": {},
       "output_type": "display_data",
       "text": [
        "PROGRESS: Read 28223267 lines. Lines per second: 151587"
       ]
      },
      {
       "html": [
        "<pre>PROGRESS: Read 29228946 lines. Lines per second: 151370</pre>"
       ],
       "metadata": {},
       "output_type": "display_data",
       "text": [
        "PROGRESS: Read 29228946 lines. Lines per second: 151370"
       ]
      },
      {
       "html": [
        "<pre>PROGRESS: Read 30232532 lines. Lines per second: 151143</pre>"
       ],
       "metadata": {},
       "output_type": "display_data",
       "text": [
        "PROGRESS: Read 30232532 lines. Lines per second: 151143"
       ]
      },
      {
       "html": [
        "<pre>PROGRESS: Read 31238088 lines. Lines per second: 151346</pre>"
       ],
       "metadata": {},
       "output_type": "display_data",
       "text": [
        "PROGRESS: Read 31238088 lines. Lines per second: 151346"
       ]
      },
      {
       "html": [
        "<pre>PROGRESS: Read 32245216 lines. Lines per second: 151216</pre>"
       ],
       "metadata": {},
       "output_type": "display_data",
       "text": [
        "PROGRESS: Read 32245216 lines. Lines per second: 151216"
       ]
      },
      {
       "html": [
        "<pre>PROGRESS: Read 33251298 lines. Lines per second: 151127</pre>"
       ],
       "metadata": {},
       "output_type": "display_data",
       "text": [
        "PROGRESS: Read 33251298 lines. Lines per second: 151127"
       ]
      },
      {
       "html": [
        "<pre>PROGRESS: Read 34258362 lines. Lines per second: 150982</pre>"
       ],
       "metadata": {},
       "output_type": "display_data",
       "text": [
        "PROGRESS: Read 34258362 lines. Lines per second: 150982"
       ]
      },
      {
       "html": [
        "<pre>PROGRESS: Read 35264915 lines. Lines per second: 150548</pre>"
       ],
       "metadata": {},
       "output_type": "display_data",
       "text": [
        "PROGRESS: Read 35264915 lines. Lines per second: 150548"
       ]
      },
      {
       "html": [
        "<pre>PROGRESS: Read 35938177 lines. Lines per second: 150099</pre>"
       ],
       "metadata": {},
       "output_type": "display_data",
       "text": [
        "PROGRESS: Read 35938177 lines. Lines per second: 150099"
       ]
      },
      {
       "html": [
        "<pre>PROGRESS: Read 36611186 lines. Lines per second: 149690</pre>"
       ],
       "metadata": {},
       "output_type": "display_data",
       "text": [
        "PROGRESS: Read 36611186 lines. Lines per second: 149690"
       ]
      },
      {
       "html": [
        "<pre>PROGRESS: Read 37617474 lines. Lines per second: 149212</pre>"
       ],
       "metadata": {},
       "output_type": "display_data",
       "text": [
        "PROGRESS: Read 37617474 lines. Lines per second: 149212"
       ]
      },
      {
       "html": [
        "<pre>PROGRESS: Read 38624198 lines. Lines per second: 149027</pre>"
       ],
       "metadata": {},
       "output_type": "display_data",
       "text": [
        "PROGRESS: Read 38624198 lines. Lines per second: 149027"
       ]
      },
      {
       "html": [
        "<pre>PROGRESS: Read 39630509 lines. Lines per second: 149046</pre>"
       ],
       "metadata": {},
       "output_type": "display_data",
       "text": [
        "PROGRESS: Read 39630509 lines. Lines per second: 149046"
       ]
      },
      {
       "html": [
        "<pre>PROGRESS: Finished parsing file /Users/bdol/graphlab/turi.com/src/learn/gallery/notebooks/train.gz</pre>"
       ],
       "metadata": {},
       "output_type": "display_data",
       "text": [
        "PROGRESS: Finished parsing file /Users/bdol/graphlab/turi.com/src/learn/gallery/notebooks/train.gz"
       ]
      },
      {
       "html": [
        "<pre>PROGRESS: Parsing completed. Parsed 40428967 lines in 271.284 secs.</pre>"
       ],
       "metadata": {},
       "output_type": "display_data",
       "text": [
        "PROGRESS: Parsing completed. Parsed 40428967 lines in 271.284 secs."
       ]
      }
     ],
     "prompt_number": 2
    },
    {
     "cell_type": "code",
     "collapsed": false,
     "input": [
      "train"
     ],
     "language": "python",
     "metadata": {},
     "outputs": [
      {
       "html": [
        "<div style=\"max-height:1000px;max-width:1500px;overflow:auto;\"><table frame=\"box\" rules=\"cols\">\n",
        "    <tr>\n",
        "        <th style=\"padding-left: 1em; padding-right: 1em; text-align: center\">id</th>\n",
        "        <th style=\"padding-left: 1em; padding-right: 1em; text-align: center\">click</th>\n",
        "        <th style=\"padding-left: 1em; padding-right: 1em; text-align: center\">hour</th>\n",
        "        <th style=\"padding-left: 1em; padding-right: 1em; text-align: center\">C1</th>\n",
        "        <th style=\"padding-left: 1em; padding-right: 1em; text-align: center\">banner_pos</th>\n",
        "        <th style=\"padding-left: 1em; padding-right: 1em; text-align: center\">site_id</th>\n",
        "        <th style=\"padding-left: 1em; padding-right: 1em; text-align: center\">site_domain</th>\n",
        "        <th style=\"padding-left: 1em; padding-right: 1em; text-align: center\">site_category</th>\n",
        "        <th style=\"padding-left: 1em; padding-right: 1em; text-align: center\">app_id</th>\n",
        "    </tr>\n",
        "    <tr>\n",
        "        <td style=\"padding-left: 1em; padding-right: 1em; text-align: center; vertical-align: top\">1000009418151094273</td>\n",
        "        <td style=\"padding-left: 1em; padding-right: 1em; text-align: center; vertical-align: top\">0</td>\n",
        "        <td style=\"padding-left: 1em; padding-right: 1em; text-align: center; vertical-align: top\">14102100</td>\n",
        "        <td style=\"padding-left: 1em; padding-right: 1em; text-align: center; vertical-align: top\">1005</td>\n",
        "        <td style=\"padding-left: 1em; padding-right: 1em; text-align: center; vertical-align: top\">0</td>\n",
        "        <td style=\"padding-left: 1em; padding-right: 1em; text-align: center; vertical-align: top\">1fbe01fe</td>\n",
        "        <td style=\"padding-left: 1em; padding-right: 1em; text-align: center; vertical-align: top\">f3845767</td>\n",
        "        <td style=\"padding-left: 1em; padding-right: 1em; text-align: center; vertical-align: top\">28905ebd</td>\n",
        "        <td style=\"padding-left: 1em; padding-right: 1em; text-align: center; vertical-align: top\">ecad2386</td>\n",
        "    </tr>\n",
        "    <tr>\n",
        "        <td style=\"padding-left: 1em; padding-right: 1em; text-align: center; vertical-align: top\">10000169349117863715</td>\n",
        "        <td style=\"padding-left: 1em; padding-right: 1em; text-align: center; vertical-align: top\">0</td>\n",
        "        <td style=\"padding-left: 1em; padding-right: 1em; text-align: center; vertical-align: top\">14102100</td>\n",
        "        <td style=\"padding-left: 1em; padding-right: 1em; text-align: center; vertical-align: top\">1005</td>\n",
        "        <td style=\"padding-left: 1em; padding-right: 1em; text-align: center; vertical-align: top\">0</td>\n",
        "        <td style=\"padding-left: 1em; padding-right: 1em; text-align: center; vertical-align: top\">1fbe01fe</td>\n",
        "        <td style=\"padding-left: 1em; padding-right: 1em; text-align: center; vertical-align: top\">f3845767</td>\n",
        "        <td style=\"padding-left: 1em; padding-right: 1em; text-align: center; vertical-align: top\">28905ebd</td>\n",
        "        <td style=\"padding-left: 1em; padding-right: 1em; text-align: center; vertical-align: top\">ecad2386</td>\n",
        "    </tr>\n",
        "    <tr>\n",
        "        <td style=\"padding-left: 1em; padding-right: 1em; text-align: center; vertical-align: top\">10000371904215119486</td>\n",
        "        <td style=\"padding-left: 1em; padding-right: 1em; text-align: center; vertical-align: top\">0</td>\n",
        "        <td style=\"padding-left: 1em; padding-right: 1em; text-align: center; vertical-align: top\">14102100</td>\n",
        "        <td style=\"padding-left: 1em; padding-right: 1em; text-align: center; vertical-align: top\">1005</td>\n",
        "        <td style=\"padding-left: 1em; padding-right: 1em; text-align: center; vertical-align: top\">0</td>\n",
        "        <td style=\"padding-left: 1em; padding-right: 1em; text-align: center; vertical-align: top\">1fbe01fe</td>\n",
        "        <td style=\"padding-left: 1em; padding-right: 1em; text-align: center; vertical-align: top\">f3845767</td>\n",
        "        <td style=\"padding-left: 1em; padding-right: 1em; text-align: center; vertical-align: top\">28905ebd</td>\n",
        "        <td style=\"padding-left: 1em; padding-right: 1em; text-align: center; vertical-align: top\">ecad2386</td>\n",
        "    </tr>\n",
        "    <tr>\n",
        "        <td style=\"padding-left: 1em; padding-right: 1em; text-align: center; vertical-align: top\">10000640724480838376</td>\n",
        "        <td style=\"padding-left: 1em; padding-right: 1em; text-align: center; vertical-align: top\">0</td>\n",
        "        <td style=\"padding-left: 1em; padding-right: 1em; text-align: center; vertical-align: top\">14102100</td>\n",
        "        <td style=\"padding-left: 1em; padding-right: 1em; text-align: center; vertical-align: top\">1005</td>\n",
        "        <td style=\"padding-left: 1em; padding-right: 1em; text-align: center; vertical-align: top\">0</td>\n",
        "        <td style=\"padding-left: 1em; padding-right: 1em; text-align: center; vertical-align: top\">1fbe01fe</td>\n",
        "        <td style=\"padding-left: 1em; padding-right: 1em; text-align: center; vertical-align: top\">f3845767</td>\n",
        "        <td style=\"padding-left: 1em; padding-right: 1em; text-align: center; vertical-align: top\">28905ebd</td>\n",
        "        <td style=\"padding-left: 1em; padding-right: 1em; text-align: center; vertical-align: top\">ecad2386</td>\n",
        "    </tr>\n",
        "    <tr>\n",
        "        <td style=\"padding-left: 1em; padding-right: 1em; text-align: center; vertical-align: top\">10000679056417042096</td>\n",
        "        <td style=\"padding-left: 1em; padding-right: 1em; text-align: center; vertical-align: top\">0</td>\n",
        "        <td style=\"padding-left: 1em; padding-right: 1em; text-align: center; vertical-align: top\">14102100</td>\n",
        "        <td style=\"padding-left: 1em; padding-right: 1em; text-align: center; vertical-align: top\">1005</td>\n",
        "        <td style=\"padding-left: 1em; padding-right: 1em; text-align: center; vertical-align: top\">1</td>\n",
        "        <td style=\"padding-left: 1em; padding-right: 1em; text-align: center; vertical-align: top\">fe8cc448</td>\n",
        "        <td style=\"padding-left: 1em; padding-right: 1em; text-align: center; vertical-align: top\">9166c161</td>\n",
        "        <td style=\"padding-left: 1em; padding-right: 1em; text-align: center; vertical-align: top\">0569f928</td>\n",
        "        <td style=\"padding-left: 1em; padding-right: 1em; text-align: center; vertical-align: top\">ecad2386</td>\n",
        "    </tr>\n",
        "    <tr>\n",
        "        <td style=\"padding-left: 1em; padding-right: 1em; text-align: center; vertical-align: top\">10000720757801103869</td>\n",
        "        <td style=\"padding-left: 1em; padding-right: 1em; text-align: center; vertical-align: top\">0</td>\n",
        "        <td style=\"padding-left: 1em; padding-right: 1em; text-align: center; vertical-align: top\">14102100</td>\n",
        "        <td style=\"padding-left: 1em; padding-right: 1em; text-align: center; vertical-align: top\">1005</td>\n",
        "        <td style=\"padding-left: 1em; padding-right: 1em; text-align: center; vertical-align: top\">0</td>\n",
        "        <td style=\"padding-left: 1em; padding-right: 1em; text-align: center; vertical-align: top\">d6137915</td>\n",
        "        <td style=\"padding-left: 1em; padding-right: 1em; text-align: center; vertical-align: top\">bb1ef334</td>\n",
        "        <td style=\"padding-left: 1em; padding-right: 1em; text-align: center; vertical-align: top\">f028772b</td>\n",
        "        <td style=\"padding-left: 1em; padding-right: 1em; text-align: center; vertical-align: top\">ecad2386</td>\n",
        "    </tr>\n",
        "    <tr>\n",
        "        <td style=\"padding-left: 1em; padding-right: 1em; text-align: center; vertical-align: top\">10000724729988544911</td>\n",
        "        <td style=\"padding-left: 1em; padding-right: 1em; text-align: center; vertical-align: top\">0</td>\n",
        "        <td style=\"padding-left: 1em; padding-right: 1em; text-align: center; vertical-align: top\">14102100</td>\n",
        "        <td style=\"padding-left: 1em; padding-right: 1em; text-align: center; vertical-align: top\">1005</td>\n",
        "        <td style=\"padding-left: 1em; padding-right: 1em; text-align: center; vertical-align: top\">0</td>\n",
        "        <td style=\"padding-left: 1em; padding-right: 1em; text-align: center; vertical-align: top\">8fda644b</td>\n",
        "        <td style=\"padding-left: 1em; padding-right: 1em; text-align: center; vertical-align: top\">25d4cfcd</td>\n",
        "        <td style=\"padding-left: 1em; padding-right: 1em; text-align: center; vertical-align: top\">f028772b</td>\n",
        "        <td style=\"padding-left: 1em; padding-right: 1em; text-align: center; vertical-align: top\">ecad2386</td>\n",
        "    </tr>\n",
        "    <tr>\n",
        "        <td style=\"padding-left: 1em; padding-right: 1em; text-align: center; vertical-align: top\">10000918755742328737</td>\n",
        "        <td style=\"padding-left: 1em; padding-right: 1em; text-align: center; vertical-align: top\">0</td>\n",
        "        <td style=\"padding-left: 1em; padding-right: 1em; text-align: center; vertical-align: top\">14102100</td>\n",
        "        <td style=\"padding-left: 1em; padding-right: 1em; text-align: center; vertical-align: top\">1005</td>\n",
        "        <td style=\"padding-left: 1em; padding-right: 1em; text-align: center; vertical-align: top\">1</td>\n",
        "        <td style=\"padding-left: 1em; padding-right: 1em; text-align: center; vertical-align: top\">e151e245</td>\n",
        "        <td style=\"padding-left: 1em; padding-right: 1em; text-align: center; vertical-align: top\">7e091613</td>\n",
        "        <td style=\"padding-left: 1em; padding-right: 1em; text-align: center; vertical-align: top\">f028772b</td>\n",
        "        <td style=\"padding-left: 1em; padding-right: 1em; text-align: center; vertical-align: top\">ecad2386</td>\n",
        "    </tr>\n",
        "    <tr>\n",
        "        <td style=\"padding-left: 1em; padding-right: 1em; text-align: center; vertical-align: top\">10000949271186029916</td>\n",
        "        <td style=\"padding-left: 1em; padding-right: 1em; text-align: center; vertical-align: top\">1</td>\n",
        "        <td style=\"padding-left: 1em; padding-right: 1em; text-align: center; vertical-align: top\">14102100</td>\n",
        "        <td style=\"padding-left: 1em; padding-right: 1em; text-align: center; vertical-align: top\">1005</td>\n",
        "        <td style=\"padding-left: 1em; padding-right: 1em; text-align: center; vertical-align: top\">0</td>\n",
        "        <td style=\"padding-left: 1em; padding-right: 1em; text-align: center; vertical-align: top\">1fbe01fe</td>\n",
        "        <td style=\"padding-left: 1em; padding-right: 1em; text-align: center; vertical-align: top\">f3845767</td>\n",
        "        <td style=\"padding-left: 1em; padding-right: 1em; text-align: center; vertical-align: top\">28905ebd</td>\n",
        "        <td style=\"padding-left: 1em; padding-right: 1em; text-align: center; vertical-align: top\">ecad2386</td>\n",
        "    </tr>\n",
        "    <tr>\n",
        "        <td style=\"padding-left: 1em; padding-right: 1em; text-align: center; vertical-align: top\">10001264480619467364</td>\n",
        "        <td style=\"padding-left: 1em; padding-right: 1em; text-align: center; vertical-align: top\">0</td>\n",
        "        <td style=\"padding-left: 1em; padding-right: 1em; text-align: center; vertical-align: top\">14102100</td>\n",
        "        <td style=\"padding-left: 1em; padding-right: 1em; text-align: center; vertical-align: top\">1002</td>\n",
        "        <td style=\"padding-left: 1em; padding-right: 1em; text-align: center; vertical-align: top\">0</td>\n",
        "        <td style=\"padding-left: 1em; padding-right: 1em; text-align: center; vertical-align: top\">84c7ba46</td>\n",
        "        <td style=\"padding-left: 1em; padding-right: 1em; text-align: center; vertical-align: top\">c4e18dd6</td>\n",
        "        <td style=\"padding-left: 1em; padding-right: 1em; text-align: center; vertical-align: top\">50e219e0</td>\n",
        "        <td style=\"padding-left: 1em; padding-right: 1em; text-align: center; vertical-align: top\">ecad2386</td>\n",
        "    </tr>\n",
        "</table>\n",
        "<table frame=\"box\" rules=\"cols\">\n",
        "    <tr>\n",
        "        <th style=\"padding-left: 1em; padding-right: 1em; text-align: center\">app_domain</th>\n",
        "        <th style=\"padding-left: 1em; padding-right: 1em; text-align: center\">app_category</th>\n",
        "        <th style=\"padding-left: 1em; padding-right: 1em; text-align: center\">device_id</th>\n",
        "        <th style=\"padding-left: 1em; padding-right: 1em; text-align: center\">device_ip</th>\n",
        "        <th style=\"padding-left: 1em; padding-right: 1em; text-align: center\">device_model</th>\n",
        "        <th style=\"padding-left: 1em; padding-right: 1em; text-align: center\">device_type</th>\n",
        "        <th style=\"padding-left: 1em; padding-right: 1em; text-align: center\">device_conn_type</th>\n",
        "        <th style=\"padding-left: 1em; padding-right: 1em; text-align: center\">C14</th>\n",
        "        <th style=\"padding-left: 1em; padding-right: 1em; text-align: center\">C15</th>\n",
        "        <th style=\"padding-left: 1em; padding-right: 1em; text-align: center\">C16</th>\n",
        "    </tr>\n",
        "    <tr>\n",
        "        <td style=\"padding-left: 1em; padding-right: 1em; text-align: center; vertical-align: top\">7801e8d9</td>\n",
        "        <td style=\"padding-left: 1em; padding-right: 1em; text-align: center; vertical-align: top\">07d7df22</td>\n",
        "        <td style=\"padding-left: 1em; padding-right: 1em; text-align: center; vertical-align: top\">a99f214a</td>\n",
        "        <td style=\"padding-left: 1em; padding-right: 1em; text-align: center; vertical-align: top\">ddd2926e</td>\n",
        "        <td style=\"padding-left: 1em; padding-right: 1em; text-align: center; vertical-align: top\">44956a24</td>\n",
        "        <td style=\"padding-left: 1em; padding-right: 1em; text-align: center; vertical-align: top\">1</td>\n",
        "        <td style=\"padding-left: 1em; padding-right: 1em; text-align: center; vertical-align: top\">2</td>\n",
        "        <td style=\"padding-left: 1em; padding-right: 1em; text-align: center; vertical-align: top\">15706</td>\n",
        "        <td style=\"padding-left: 1em; padding-right: 1em; text-align: center; vertical-align: top\">320</td>\n",
        "        <td style=\"padding-left: 1em; padding-right: 1em; text-align: center; vertical-align: top\">50</td>\n",
        "    </tr>\n",
        "    <tr>\n",
        "        <td style=\"padding-left: 1em; padding-right: 1em; text-align: center; vertical-align: top\">7801e8d9</td>\n",
        "        <td style=\"padding-left: 1em; padding-right: 1em; text-align: center; vertical-align: top\">07d7df22</td>\n",
        "        <td style=\"padding-left: 1em; padding-right: 1em; text-align: center; vertical-align: top\">a99f214a</td>\n",
        "        <td style=\"padding-left: 1em; padding-right: 1em; text-align: center; vertical-align: top\">96809ac8</td>\n",
        "        <td style=\"padding-left: 1em; padding-right: 1em; text-align: center; vertical-align: top\">711ee120</td>\n",
        "        <td style=\"padding-left: 1em; padding-right: 1em; text-align: center; vertical-align: top\">1</td>\n",
        "        <td style=\"padding-left: 1em; padding-right: 1em; text-align: center; vertical-align: top\">0</td>\n",
        "        <td style=\"padding-left: 1em; padding-right: 1em; text-align: center; vertical-align: top\">15704</td>\n",
        "        <td style=\"padding-left: 1em; padding-right: 1em; text-align: center; vertical-align: top\">320</td>\n",
        "        <td style=\"padding-left: 1em; padding-right: 1em; text-align: center; vertical-align: top\">50</td>\n",
        "    </tr>\n",
        "    <tr>\n",
        "        <td style=\"padding-left: 1em; padding-right: 1em; text-align: center; vertical-align: top\">7801e8d9</td>\n",
        "        <td style=\"padding-left: 1em; padding-right: 1em; text-align: center; vertical-align: top\">07d7df22</td>\n",
        "        <td style=\"padding-left: 1em; padding-right: 1em; text-align: center; vertical-align: top\">a99f214a</td>\n",
        "        <td style=\"padding-left: 1em; padding-right: 1em; text-align: center; vertical-align: top\">b3cf8def</td>\n",
        "        <td style=\"padding-left: 1em; padding-right: 1em; text-align: center; vertical-align: top\">8a4875bd</td>\n",
        "        <td style=\"padding-left: 1em; padding-right: 1em; text-align: center; vertical-align: top\">1</td>\n",
        "        <td style=\"padding-left: 1em; padding-right: 1em; text-align: center; vertical-align: top\">0</td>\n",
        "        <td style=\"padding-left: 1em; padding-right: 1em; text-align: center; vertical-align: top\">15704</td>\n",
        "        <td style=\"padding-left: 1em; padding-right: 1em; text-align: center; vertical-align: top\">320</td>\n",
        "        <td style=\"padding-left: 1em; padding-right: 1em; text-align: center; vertical-align: top\">50</td>\n",
        "    </tr>\n",
        "    <tr>\n",
        "        <td style=\"padding-left: 1em; padding-right: 1em; text-align: center; vertical-align: top\">7801e8d9</td>\n",
        "        <td style=\"padding-left: 1em; padding-right: 1em; text-align: center; vertical-align: top\">07d7df22</td>\n",
        "        <td style=\"padding-left: 1em; padding-right: 1em; text-align: center; vertical-align: top\">a99f214a</td>\n",
        "        <td style=\"padding-left: 1em; padding-right: 1em; text-align: center; vertical-align: top\">e8275b8f</td>\n",
        "        <td style=\"padding-left: 1em; padding-right: 1em; text-align: center; vertical-align: top\">6332421a</td>\n",
        "        <td style=\"padding-left: 1em; padding-right: 1em; text-align: center; vertical-align: top\">1</td>\n",
        "        <td style=\"padding-left: 1em; padding-right: 1em; text-align: center; vertical-align: top\">0</td>\n",
        "        <td style=\"padding-left: 1em; padding-right: 1em; text-align: center; vertical-align: top\">15706</td>\n",
        "        <td style=\"padding-left: 1em; padding-right: 1em; text-align: center; vertical-align: top\">320</td>\n",
        "        <td style=\"padding-left: 1em; padding-right: 1em; text-align: center; vertical-align: top\">50</td>\n",
        "    </tr>\n",
        "    <tr>\n",
        "        <td style=\"padding-left: 1em; padding-right: 1em; text-align: center; vertical-align: top\">7801e8d9</td>\n",
        "        <td style=\"padding-left: 1em; padding-right: 1em; text-align: center; vertical-align: top\">07d7df22</td>\n",
        "        <td style=\"padding-left: 1em; padding-right: 1em; text-align: center; vertical-align: top\">a99f214a</td>\n",
        "        <td style=\"padding-left: 1em; padding-right: 1em; text-align: center; vertical-align: top\">9644d0bf</td>\n",
        "        <td style=\"padding-left: 1em; padding-right: 1em; text-align: center; vertical-align: top\">779d90c2</td>\n",
        "        <td style=\"padding-left: 1em; padding-right: 1em; text-align: center; vertical-align: top\">1</td>\n",
        "        <td style=\"padding-left: 1em; padding-right: 1em; text-align: center; vertical-align: top\">0</td>\n",
        "        <td style=\"padding-left: 1em; padding-right: 1em; text-align: center; vertical-align: top\">18993</td>\n",
        "        <td style=\"padding-left: 1em; padding-right: 1em; text-align: center; vertical-align: top\">320</td>\n",
        "        <td style=\"padding-left: 1em; padding-right: 1em; text-align: center; vertical-align: top\">50</td>\n",
        "    </tr>\n",
        "    <tr>\n",
        "        <td style=\"padding-left: 1em; padding-right: 1em; text-align: center; vertical-align: top\">7801e8d9</td>\n",
        "        <td style=\"padding-left: 1em; padding-right: 1em; text-align: center; vertical-align: top\">07d7df22</td>\n",
        "        <td style=\"padding-left: 1em; padding-right: 1em; text-align: center; vertical-align: top\">a99f214a</td>\n",
        "        <td style=\"padding-left: 1em; padding-right: 1em; text-align: center; vertical-align: top\">05241af0</td>\n",
        "        <td style=\"padding-left: 1em; padding-right: 1em; text-align: center; vertical-align: top\">8a4875bd</td>\n",
        "        <td style=\"padding-left: 1em; padding-right: 1em; text-align: center; vertical-align: top\">1</td>\n",
        "        <td style=\"padding-left: 1em; padding-right: 1em; text-align: center; vertical-align: top\">0</td>\n",
        "        <td style=\"padding-left: 1em; padding-right: 1em; text-align: center; vertical-align: top\">16920</td>\n",
        "        <td style=\"padding-left: 1em; padding-right: 1em; text-align: center; vertical-align: top\">320</td>\n",
        "        <td style=\"padding-left: 1em; padding-right: 1em; text-align: center; vertical-align: top\">50</td>\n",
        "    </tr>\n",
        "    <tr>\n",
        "        <td style=\"padding-left: 1em; padding-right: 1em; text-align: center; vertical-align: top\">7801e8d9</td>\n",
        "        <td style=\"padding-left: 1em; padding-right: 1em; text-align: center; vertical-align: top\">07d7df22</td>\n",
        "        <td style=\"padding-left: 1em; padding-right: 1em; text-align: center; vertical-align: top\">a99f214a</td>\n",
        "        <td style=\"padding-left: 1em; padding-right: 1em; text-align: center; vertical-align: top\">b264c159</td>\n",
        "        <td style=\"padding-left: 1em; padding-right: 1em; text-align: center; vertical-align: top\">be6db1d7</td>\n",
        "        <td style=\"padding-left: 1em; padding-right: 1em; text-align: center; vertical-align: top\">1</td>\n",
        "        <td style=\"padding-left: 1em; padding-right: 1em; text-align: center; vertical-align: top\">0</td>\n",
        "        <td style=\"padding-left: 1em; padding-right: 1em; text-align: center; vertical-align: top\">20362</td>\n",
        "        <td style=\"padding-left: 1em; padding-right: 1em; text-align: center; vertical-align: top\">320</td>\n",
        "        <td style=\"padding-left: 1em; padding-right: 1em; text-align: center; vertical-align: top\">50</td>\n",
        "    </tr>\n",
        "    <tr>\n",
        "        <td style=\"padding-left: 1em; padding-right: 1em; text-align: center; vertical-align: top\">7801e8d9</td>\n",
        "        <td style=\"padding-left: 1em; padding-right: 1em; text-align: center; vertical-align: top\">07d7df22</td>\n",
        "        <td style=\"padding-left: 1em; padding-right: 1em; text-align: center; vertical-align: top\">a99f214a</td>\n",
        "        <td style=\"padding-left: 1em; padding-right: 1em; text-align: center; vertical-align: top\">e6f67278</td>\n",
        "        <td style=\"padding-left: 1em; padding-right: 1em; text-align: center; vertical-align: top\">be74e6fe</td>\n",
        "        <td style=\"padding-left: 1em; padding-right: 1em; text-align: center; vertical-align: top\">1</td>\n",
        "        <td style=\"padding-left: 1em; padding-right: 1em; text-align: center; vertical-align: top\">0</td>\n",
        "        <td style=\"padding-left: 1em; padding-right: 1em; text-align: center; vertical-align: top\">20632</td>\n",
        "        <td style=\"padding-left: 1em; padding-right: 1em; text-align: center; vertical-align: top\">320</td>\n",
        "        <td style=\"padding-left: 1em; padding-right: 1em; text-align: center; vertical-align: top\">50</td>\n",
        "    </tr>\n",
        "    <tr>\n",
        "        <td style=\"padding-left: 1em; padding-right: 1em; text-align: center; vertical-align: top\">7801e8d9</td>\n",
        "        <td style=\"padding-left: 1em; padding-right: 1em; text-align: center; vertical-align: top\">07d7df22</td>\n",
        "        <td style=\"padding-left: 1em; padding-right: 1em; text-align: center; vertical-align: top\">a99f214a</td>\n",
        "        <td style=\"padding-left: 1em; padding-right: 1em; text-align: center; vertical-align: top\">37e8da74</td>\n",
        "        <td style=\"padding-left: 1em; padding-right: 1em; text-align: center; vertical-align: top\">5db079b5</td>\n",
        "        <td style=\"padding-left: 1em; padding-right: 1em; text-align: center; vertical-align: top\">1</td>\n",
        "        <td style=\"padding-left: 1em; padding-right: 1em; text-align: center; vertical-align: top\">2</td>\n",
        "        <td style=\"padding-left: 1em; padding-right: 1em; text-align: center; vertical-align: top\">15707</td>\n",
        "        <td style=\"padding-left: 1em; padding-right: 1em; text-align: center; vertical-align: top\">320</td>\n",
        "        <td style=\"padding-left: 1em; padding-right: 1em; text-align: center; vertical-align: top\">50</td>\n",
        "    </tr>\n",
        "    <tr>\n",
        "        <td style=\"padding-left: 1em; padding-right: 1em; text-align: center; vertical-align: top\">7801e8d9</td>\n",
        "        <td style=\"padding-left: 1em; padding-right: 1em; text-align: center; vertical-align: top\">07d7df22</td>\n",
        "        <td style=\"padding-left: 1em; padding-right: 1em; text-align: center; vertical-align: top\">c357dbff</td>\n",
        "        <td style=\"padding-left: 1em; padding-right: 1em; text-align: center; vertical-align: top\">f1ac7184</td>\n",
        "        <td style=\"padding-left: 1em; padding-right: 1em; text-align: center; vertical-align: top\">373ecbe6</td>\n",
        "        <td style=\"padding-left: 1em; padding-right: 1em; text-align: center; vertical-align: top\">0</td>\n",
        "        <td style=\"padding-left: 1em; padding-right: 1em; text-align: center; vertical-align: top\">0</td>\n",
        "        <td style=\"padding-left: 1em; padding-right: 1em; text-align: center; vertical-align: top\">21689</td>\n",
        "        <td style=\"padding-left: 1em; padding-right: 1em; text-align: center; vertical-align: top\">320</td>\n",
        "        <td style=\"padding-left: 1em; padding-right: 1em; text-align: center; vertical-align: top\">50</td>\n",
        "    </tr>\n",
        "</table>\n",
        "<table frame=\"box\" rules=\"cols\">\n",
        "    <tr>\n",
        "        <th style=\"padding-left: 1em; padding-right: 1em; text-align: center\">C17</th>\n",
        "        <th style=\"padding-left: 1em; padding-right: 1em; text-align: center\">C18</th>\n",
        "        <th style=\"padding-left: 1em; padding-right: 1em; text-align: center\">C19</th>\n",
        "        <th style=\"padding-left: 1em; padding-right: 1em; text-align: center\">C20</th>\n",
        "        <th style=\"padding-left: 1em; padding-right: 1em; text-align: center\">C21</th>\n",
        "    </tr>\n",
        "    <tr>\n",
        "        <td style=\"padding-left: 1em; padding-right: 1em; text-align: center; vertical-align: top\">1722</td>\n",
        "        <td style=\"padding-left: 1em; padding-right: 1em; text-align: center; vertical-align: top\">0</td>\n",
        "        <td style=\"padding-left: 1em; padding-right: 1em; text-align: center; vertical-align: top\">35</td>\n",
        "        <td style=\"padding-left: 1em; padding-right: 1em; text-align: center; vertical-align: top\">-1</td>\n",
        "        <td style=\"padding-left: 1em; padding-right: 1em; text-align: center; vertical-align: top\">79</td>\n",
        "    </tr>\n",
        "    <tr>\n",
        "        <td style=\"padding-left: 1em; padding-right: 1em; text-align: center; vertical-align: top\">1722</td>\n",
        "        <td style=\"padding-left: 1em; padding-right: 1em; text-align: center; vertical-align: top\">0</td>\n",
        "        <td style=\"padding-left: 1em; padding-right: 1em; text-align: center; vertical-align: top\">35</td>\n",
        "        <td style=\"padding-left: 1em; padding-right: 1em; text-align: center; vertical-align: top\">100084</td>\n",
        "        <td style=\"padding-left: 1em; padding-right: 1em; text-align: center; vertical-align: top\">79</td>\n",
        "    </tr>\n",
        "    <tr>\n",
        "        <td style=\"padding-left: 1em; padding-right: 1em; text-align: center; vertical-align: top\">1722</td>\n",
        "        <td style=\"padding-left: 1em; padding-right: 1em; text-align: center; vertical-align: top\">0</td>\n",
        "        <td style=\"padding-left: 1em; padding-right: 1em; text-align: center; vertical-align: top\">35</td>\n",
        "        <td style=\"padding-left: 1em; padding-right: 1em; text-align: center; vertical-align: top\">100084</td>\n",
        "        <td style=\"padding-left: 1em; padding-right: 1em; text-align: center; vertical-align: top\">79</td>\n",
        "    </tr>\n",
        "    <tr>\n",
        "        <td style=\"padding-left: 1em; padding-right: 1em; text-align: center; vertical-align: top\">1722</td>\n",
        "        <td style=\"padding-left: 1em; padding-right: 1em; text-align: center; vertical-align: top\">0</td>\n",
        "        <td style=\"padding-left: 1em; padding-right: 1em; text-align: center; vertical-align: top\">35</td>\n",
        "        <td style=\"padding-left: 1em; padding-right: 1em; text-align: center; vertical-align: top\">100084</td>\n",
        "        <td style=\"padding-left: 1em; padding-right: 1em; text-align: center; vertical-align: top\">79</td>\n",
        "    </tr>\n",
        "    <tr>\n",
        "        <td style=\"padding-left: 1em; padding-right: 1em; text-align: center; vertical-align: top\">2161</td>\n",
        "        <td style=\"padding-left: 1em; padding-right: 1em; text-align: center; vertical-align: top\">0</td>\n",
        "        <td style=\"padding-left: 1em; padding-right: 1em; text-align: center; vertical-align: top\">35</td>\n",
        "        <td style=\"padding-left: 1em; padding-right: 1em; text-align: center; vertical-align: top\">-1</td>\n",
        "        <td style=\"padding-left: 1em; padding-right: 1em; text-align: center; vertical-align: top\">157</td>\n",
        "    </tr>\n",
        "    <tr>\n",
        "        <td style=\"padding-left: 1em; padding-right: 1em; text-align: center; vertical-align: top\">1899</td>\n",
        "        <td style=\"padding-left: 1em; padding-right: 1em; text-align: center; vertical-align: top\">0</td>\n",
        "        <td style=\"padding-left: 1em; padding-right: 1em; text-align: center; vertical-align: top\">431</td>\n",
        "        <td style=\"padding-left: 1em; padding-right: 1em; text-align: center; vertical-align: top\">100077</td>\n",
        "        <td style=\"padding-left: 1em; padding-right: 1em; text-align: center; vertical-align: top\">117</td>\n",
        "    </tr>\n",
        "    <tr>\n",
        "        <td style=\"padding-left: 1em; padding-right: 1em; text-align: center; vertical-align: top\">2333</td>\n",
        "        <td style=\"padding-left: 1em; padding-right: 1em; text-align: center; vertical-align: top\">0</td>\n",
        "        <td style=\"padding-left: 1em; padding-right: 1em; text-align: center; vertical-align: top\">39</td>\n",
        "        <td style=\"padding-left: 1em; padding-right: 1em; text-align: center; vertical-align: top\">-1</td>\n",
        "        <td style=\"padding-left: 1em; padding-right: 1em; text-align: center; vertical-align: top\">157</td>\n",
        "    </tr>\n",
        "    <tr>\n",
        "        <td style=\"padding-left: 1em; padding-right: 1em; text-align: center; vertical-align: top\">2374</td>\n",
        "        <td style=\"padding-left: 1em; padding-right: 1em; text-align: center; vertical-align: top\">3</td>\n",
        "        <td style=\"padding-left: 1em; padding-right: 1em; text-align: center; vertical-align: top\">39</td>\n",
        "        <td style=\"padding-left: 1em; padding-right: 1em; text-align: center; vertical-align: top\">-1</td>\n",
        "        <td style=\"padding-left: 1em; padding-right: 1em; text-align: center; vertical-align: top\">23</td>\n",
        "    </tr>\n",
        "    <tr>\n",
        "        <td style=\"padding-left: 1em; padding-right: 1em; text-align: center; vertical-align: top\">1722</td>\n",
        "        <td style=\"padding-left: 1em; padding-right: 1em; text-align: center; vertical-align: top\">0</td>\n",
        "        <td style=\"padding-left: 1em; padding-right: 1em; text-align: center; vertical-align: top\">35</td>\n",
        "        <td style=\"padding-left: 1em; padding-right: 1em; text-align: center; vertical-align: top\">-1</td>\n",
        "        <td style=\"padding-left: 1em; padding-right: 1em; text-align: center; vertical-align: top\">79</td>\n",
        "    </tr>\n",
        "    <tr>\n",
        "        <td style=\"padding-left: 1em; padding-right: 1em; text-align: center; vertical-align: top\">2496</td>\n",
        "        <td style=\"padding-left: 1em; padding-right: 1em; text-align: center; vertical-align: top\">3</td>\n",
        "        <td style=\"padding-left: 1em; padding-right: 1em; text-align: center; vertical-align: top\">167</td>\n",
        "        <td style=\"padding-left: 1em; padding-right: 1em; text-align: center; vertical-align: top\">100191</td>\n",
        "        <td style=\"padding-left: 1em; padding-right: 1em; text-align: center; vertical-align: top\">23</td>\n",
        "    </tr>\n",
        "</table>\n",
        "[40428967 rows x 24 columns]<br/>Note: Only the head of the SFrame is printed.<br/>You can use print_rows(num_rows=m, num_columns=n) to print more rows and columns.\n",
        "</div>"
       ],
       "metadata": {},
       "output_type": "pyout",
       "prompt_number": 3,
       "text": [
        "Columns:\n",
        "\tid\tstr\n",
        "\tclick\tint\n",
        "\thour\tstr\n",
        "\tC1\tstr\n",
        "\tbanner_pos\tstr\n",
        "\tsite_id\tstr\n",
        "\tsite_domain\tstr\n",
        "\tsite_category\tstr\n",
        "\tapp_id\tstr\n",
        "\tapp_domain\tstr\n",
        "\tapp_category\tstr\n",
        "\tdevice_id\tstr\n",
        "\tdevice_ip\tstr\n",
        "\tdevice_model\tstr\n",
        "\tdevice_type\tstr\n",
        "\tdevice_conn_type\tstr\n",
        "\tC14\tstr\n",
        "\tC15\tstr\n",
        "\tC16\tstr\n",
        "\tC17\tstr\n",
        "\tC18\tstr\n",
        "\tC19\tstr\n",
        "\tC20\tstr\n",
        "\tC21\tstr\n",
        "\n",
        "Rows: 40428967\n",
        "\n",
        "Data:\n",
        "+----------------------+-------+----------+------+------------+----------+\n",
        "|          id          | click |   hour   |  C1  | banner_pos | site_id  |\n",
        "+----------------------+-------+----------+------+------------+----------+\n",
        "| 1000009418151094273  |   0   | 14102100 | 1005 |     0      | 1fbe01fe |\n",
        "| 10000169349117863715 |   0   | 14102100 | 1005 |     0      | 1fbe01fe |\n",
        "| 10000371904215119486 |   0   | 14102100 | 1005 |     0      | 1fbe01fe |\n",
        "| 10000640724480838376 |   0   | 14102100 | 1005 |     0      | 1fbe01fe |\n",
        "| 10000679056417042096 |   0   | 14102100 | 1005 |     1      | fe8cc448 |\n",
        "| 10000720757801103869 |   0   | 14102100 | 1005 |     0      | d6137915 |\n",
        "| 10000724729988544911 |   0   | 14102100 | 1005 |     0      | 8fda644b |\n",
        "| 10000918755742328737 |   0   | 14102100 | 1005 |     1      | e151e245 |\n",
        "| 10000949271186029916 |   1   | 14102100 | 1005 |     0      | 1fbe01fe |\n",
        "| 10001264480619467364 |   0   | 14102100 | 1002 |     0      | 84c7ba46 |\n",
        "+----------------------+-------+----------+------+------------+----------+\n",
        "+-------------+---------------+----------+------------+--------------+-----------+\n",
        "| site_domain | site_category |  app_id  | app_domain | app_category | device_id |\n",
        "+-------------+---------------+----------+------------+--------------+-----------+\n",
        "|   f3845767  |    28905ebd   | ecad2386 |  7801e8d9  |   07d7df22   |  a99f214a |\n",
        "|   f3845767  |    28905ebd   | ecad2386 |  7801e8d9  |   07d7df22   |  a99f214a |\n",
        "|   f3845767  |    28905ebd   | ecad2386 |  7801e8d9  |   07d7df22   |  a99f214a |\n",
        "|   f3845767  |    28905ebd   | ecad2386 |  7801e8d9  |   07d7df22   |  a99f214a |\n",
        "|   9166c161  |    0569f928   | ecad2386 |  7801e8d9  |   07d7df22   |  a99f214a |\n",
        "|   bb1ef334  |    f028772b   | ecad2386 |  7801e8d9  |   07d7df22   |  a99f214a |\n",
        "|   25d4cfcd  |    f028772b   | ecad2386 |  7801e8d9  |   07d7df22   |  a99f214a |\n",
        "|   7e091613  |    f028772b   | ecad2386 |  7801e8d9  |   07d7df22   |  a99f214a |\n",
        "|   f3845767  |    28905ebd   | ecad2386 |  7801e8d9  |   07d7df22   |  a99f214a |\n",
        "|   c4e18dd6  |    50e219e0   | ecad2386 |  7801e8d9  |   07d7df22   |  c357dbff |\n",
        "+-------------+---------------+----------+------------+--------------+-----------+\n",
        "+-----------+--------------+-------------+------------------+-------+-----+-----+\n",
        "| device_ip | device_model | device_type | device_conn_type |  C14  | C15 | C16 |\n",
        "+-----------+--------------+-------------+------------------+-------+-----+-----+\n",
        "|  ddd2926e |   44956a24   |      1      |        2         | 15706 | 320 |  50 |\n",
        "|  96809ac8 |   711ee120   |      1      |        0         | 15704 | 320 |  50 |\n",
        "|  b3cf8def |   8a4875bd   |      1      |        0         | 15704 | 320 |  50 |\n",
        "|  e8275b8f |   6332421a   |      1      |        0         | 15706 | 320 |  50 |\n",
        "|  9644d0bf |   779d90c2   |      1      |        0         | 18993 | 320 |  50 |\n",
        "|  05241af0 |   8a4875bd   |      1      |        0         | 16920 | 320 |  50 |\n",
        "|  b264c159 |   be6db1d7   |      1      |        0         | 20362 | 320 |  50 |\n",
        "|  e6f67278 |   be74e6fe   |      1      |        0         | 20632 | 320 |  50 |\n",
        "|  37e8da74 |   5db079b5   |      1      |        2         | 15707 | 320 |  50 |\n",
        "|  f1ac7184 |   373ecbe6   |      0      |        0         | 21689 | 320 |  50 |\n",
        "+-----------+--------------+-------------+------------------+-------+-----+-----+\n",
        "+------+-----+\n",
        "| C17  | ... |\n",
        "+------+-----+\n",
        "| 1722 | ... |\n",
        "| 1722 | ... |\n",
        "| 1722 | ... |\n",
        "| 1722 | ... |\n",
        "| 2161 | ... |\n",
        "| 1899 | ... |\n",
        "| 2333 | ... |\n",
        "| 2374 | ... |\n",
        "| 1722 | ... |\n",
        "| 2496 | ... |\n",
        "+------+-----+\n",
        "[40428967 rows x 24 columns]\n",
        "Note: Only the head of the SFrame is printed.\n",
        "You can use print_rows(num_rows=m, num_columns=n) to print more rows and columns."
       ]
      }
     ],
     "prompt_number": 3
    },
    {
     "cell_type": "markdown",
     "metadata": {},
     "source": [
      "This dataset has 40M+ rows. Though that is no problem for GraphLab Create, on most laptops that could take a while to train models. When doing feature engineering and feature selection you want to be able to train lots of models with different feature combinations to see what features are predictive. Most of these experiments may not be successful, hence it is useful to sample the large dataset to a representative size that allows for fast iterative model training"
     ]
    },
    {
     "cell_type": "markdown",
     "metadata": {},
     "source": [
      "## 2. Sample & Split the data"
     ]
    },
    {
     "cell_type": "markdown",
     "metadata": {},
     "source": [
      "For this dataset, it is important **not to use a random sample** of the click data. Since we have 10 days of data in train, let us take **one day** of the data as the **sample** to use for feature engineering. All the data from a single day will be a better representative of the data in comparison with a random sample.\n",
      "\n",
      "To do this, we notice that the first day in the train data is 141021 (which is October 21, 2014) followed by 00-23 for the hours in that day (in UTC). A simple way to get the click-stream traffic for that one day is to filter the 'hour' column for values in [14102100 .. 14102123] using [SFrame.filter_by](https://turi.com/products/create/docs/generated/graphlab.SFrame.filter_by.html#graphlab.SFrame.filter_by).\n",
      "\n",
      "Since we want to operate on oneday in multiple sessions, we save it in SFrame binary format for easy loading later on."
     ]
    },
    {
     "cell_type": "code",
     "collapsed": false,
     "input": [
      "# let's start with a one-day sample (our first bit of Feature Engineering!)\n",
      "if not os.path.exists('oneday.gl'):\n",
      "    # this filters the SFrame, returning the SFrame where the hour column is 14102100 to 14102123\n",
      "    # which is the 2014-10-21 day of clickstream traffic\n",
      "    oneday = train.filter_by(['141021%02d' % hour for hour in range(24)], 'hour')\n",
      "    oneday.save('oneday.gl')\n",
      "else:\n",
      "    oneday = gl.SFrame('oneday.gl')"
     ],
     "language": "python",
     "metadata": {},
     "outputs": [],
     "prompt_number": 4
    },
    {
     "cell_type": "code",
     "collapsed": false,
     "input": [
      "oneday"
     ],
     "language": "python",
     "metadata": {},
     "outputs": [
      {
       "html": [
        "<div style=\"max-height:1000px;max-width:1500px;overflow:auto;\"><table frame=\"box\" rules=\"cols\">\n",
        "    <tr>\n",
        "        <th style=\"padding-left: 1em; padding-right: 1em; text-align: center\">id</th>\n",
        "        <th style=\"padding-left: 1em; padding-right: 1em; text-align: center\">click</th>\n",
        "        <th style=\"padding-left: 1em; padding-right: 1em; text-align: center\">hour</th>\n",
        "        <th style=\"padding-left: 1em; padding-right: 1em; text-align: center\">C1</th>\n",
        "        <th style=\"padding-left: 1em; padding-right: 1em; text-align: center\">banner_pos</th>\n",
        "        <th style=\"padding-left: 1em; padding-right: 1em; text-align: center\">site_id</th>\n",
        "        <th style=\"padding-left: 1em; padding-right: 1em; text-align: center\">site_domain</th>\n",
        "        <th style=\"padding-left: 1em; padding-right: 1em; text-align: center\">site_category</th>\n",
        "        <th style=\"padding-left: 1em; padding-right: 1em; text-align: center\">app_id</th>\n",
        "    </tr>\n",
        "    <tr>\n",
        "        <td style=\"padding-left: 1em; padding-right: 1em; text-align: center; vertical-align: top\">1000009418151094273</td>\n",
        "        <td style=\"padding-left: 1em; padding-right: 1em; text-align: center; vertical-align: top\">0</td>\n",
        "        <td style=\"padding-left: 1em; padding-right: 1em; text-align: center; vertical-align: top\">14102100</td>\n",
        "        <td style=\"padding-left: 1em; padding-right: 1em; text-align: center; vertical-align: top\">1005</td>\n",
        "        <td style=\"padding-left: 1em; padding-right: 1em; text-align: center; vertical-align: top\">0</td>\n",
        "        <td style=\"padding-left: 1em; padding-right: 1em; text-align: center; vertical-align: top\">1fbe01fe</td>\n",
        "        <td style=\"padding-left: 1em; padding-right: 1em; text-align: center; vertical-align: top\">f3845767</td>\n",
        "        <td style=\"padding-left: 1em; padding-right: 1em; text-align: center; vertical-align: top\">28905ebd</td>\n",
        "        <td style=\"padding-left: 1em; padding-right: 1em; text-align: center; vertical-align: top\">ecad2386</td>\n",
        "    </tr>\n",
        "    <tr>\n",
        "        <td style=\"padding-left: 1em; padding-right: 1em; text-align: center; vertical-align: top\">10000169349117863715</td>\n",
        "        <td style=\"padding-left: 1em; padding-right: 1em; text-align: center; vertical-align: top\">0</td>\n",
        "        <td style=\"padding-left: 1em; padding-right: 1em; text-align: center; vertical-align: top\">14102100</td>\n",
        "        <td style=\"padding-left: 1em; padding-right: 1em; text-align: center; vertical-align: top\">1005</td>\n",
        "        <td style=\"padding-left: 1em; padding-right: 1em; text-align: center; vertical-align: top\">0</td>\n",
        "        <td style=\"padding-left: 1em; padding-right: 1em; text-align: center; vertical-align: top\">1fbe01fe</td>\n",
        "        <td style=\"padding-left: 1em; padding-right: 1em; text-align: center; vertical-align: top\">f3845767</td>\n",
        "        <td style=\"padding-left: 1em; padding-right: 1em; text-align: center; vertical-align: top\">28905ebd</td>\n",
        "        <td style=\"padding-left: 1em; padding-right: 1em; text-align: center; vertical-align: top\">ecad2386</td>\n",
        "    </tr>\n",
        "    <tr>\n",
        "        <td style=\"padding-left: 1em; padding-right: 1em; text-align: center; vertical-align: top\">10000371904215119486</td>\n",
        "        <td style=\"padding-left: 1em; padding-right: 1em; text-align: center; vertical-align: top\">0</td>\n",
        "        <td style=\"padding-left: 1em; padding-right: 1em; text-align: center; vertical-align: top\">14102100</td>\n",
        "        <td style=\"padding-left: 1em; padding-right: 1em; text-align: center; vertical-align: top\">1005</td>\n",
        "        <td style=\"padding-left: 1em; padding-right: 1em; text-align: center; vertical-align: top\">0</td>\n",
        "        <td style=\"padding-left: 1em; padding-right: 1em; text-align: center; vertical-align: top\">1fbe01fe</td>\n",
        "        <td style=\"padding-left: 1em; padding-right: 1em; text-align: center; vertical-align: top\">f3845767</td>\n",
        "        <td style=\"padding-left: 1em; padding-right: 1em; text-align: center; vertical-align: top\">28905ebd</td>\n",
        "        <td style=\"padding-left: 1em; padding-right: 1em; text-align: center; vertical-align: top\">ecad2386</td>\n",
        "    </tr>\n",
        "    <tr>\n",
        "        <td style=\"padding-left: 1em; padding-right: 1em; text-align: center; vertical-align: top\">10000640724480838376</td>\n",
        "        <td style=\"padding-left: 1em; padding-right: 1em; text-align: center; vertical-align: top\">0</td>\n",
        "        <td style=\"padding-left: 1em; padding-right: 1em; text-align: center; vertical-align: top\">14102100</td>\n",
        "        <td style=\"padding-left: 1em; padding-right: 1em; text-align: center; vertical-align: top\">1005</td>\n",
        "        <td style=\"padding-left: 1em; padding-right: 1em; text-align: center; vertical-align: top\">0</td>\n",
        "        <td style=\"padding-left: 1em; padding-right: 1em; text-align: center; vertical-align: top\">1fbe01fe</td>\n",
        "        <td style=\"padding-left: 1em; padding-right: 1em; text-align: center; vertical-align: top\">f3845767</td>\n",
        "        <td style=\"padding-left: 1em; padding-right: 1em; text-align: center; vertical-align: top\">28905ebd</td>\n",
        "        <td style=\"padding-left: 1em; padding-right: 1em; text-align: center; vertical-align: top\">ecad2386</td>\n",
        "    </tr>\n",
        "    <tr>\n",
        "        <td style=\"padding-left: 1em; padding-right: 1em; text-align: center; vertical-align: top\">10000679056417042096</td>\n",
        "        <td style=\"padding-left: 1em; padding-right: 1em; text-align: center; vertical-align: top\">0</td>\n",
        "        <td style=\"padding-left: 1em; padding-right: 1em; text-align: center; vertical-align: top\">14102100</td>\n",
        "        <td style=\"padding-left: 1em; padding-right: 1em; text-align: center; vertical-align: top\">1005</td>\n",
        "        <td style=\"padding-left: 1em; padding-right: 1em; text-align: center; vertical-align: top\">1</td>\n",
        "        <td style=\"padding-left: 1em; padding-right: 1em; text-align: center; vertical-align: top\">fe8cc448</td>\n",
        "        <td style=\"padding-left: 1em; padding-right: 1em; text-align: center; vertical-align: top\">9166c161</td>\n",
        "        <td style=\"padding-left: 1em; padding-right: 1em; text-align: center; vertical-align: top\">0569f928</td>\n",
        "        <td style=\"padding-left: 1em; padding-right: 1em; text-align: center; vertical-align: top\">ecad2386</td>\n",
        "    </tr>\n",
        "    <tr>\n",
        "        <td style=\"padding-left: 1em; padding-right: 1em; text-align: center; vertical-align: top\">10000720757801103869</td>\n",
        "        <td style=\"padding-left: 1em; padding-right: 1em; text-align: center; vertical-align: top\">0</td>\n",
        "        <td style=\"padding-left: 1em; padding-right: 1em; text-align: center; vertical-align: top\">14102100</td>\n",
        "        <td style=\"padding-left: 1em; padding-right: 1em; text-align: center; vertical-align: top\">1005</td>\n",
        "        <td style=\"padding-left: 1em; padding-right: 1em; text-align: center; vertical-align: top\">0</td>\n",
        "        <td style=\"padding-left: 1em; padding-right: 1em; text-align: center; vertical-align: top\">d6137915</td>\n",
        "        <td style=\"padding-left: 1em; padding-right: 1em; text-align: center; vertical-align: top\">bb1ef334</td>\n",
        "        <td style=\"padding-left: 1em; padding-right: 1em; text-align: center; vertical-align: top\">f028772b</td>\n",
        "        <td style=\"padding-left: 1em; padding-right: 1em; text-align: center; vertical-align: top\">ecad2386</td>\n",
        "    </tr>\n",
        "    <tr>\n",
        "        <td style=\"padding-left: 1em; padding-right: 1em; text-align: center; vertical-align: top\">10000724729988544911</td>\n",
        "        <td style=\"padding-left: 1em; padding-right: 1em; text-align: center; vertical-align: top\">0</td>\n",
        "        <td style=\"padding-left: 1em; padding-right: 1em; text-align: center; vertical-align: top\">14102100</td>\n",
        "        <td style=\"padding-left: 1em; padding-right: 1em; text-align: center; vertical-align: top\">1005</td>\n",
        "        <td style=\"padding-left: 1em; padding-right: 1em; text-align: center; vertical-align: top\">0</td>\n",
        "        <td style=\"padding-left: 1em; padding-right: 1em; text-align: center; vertical-align: top\">8fda644b</td>\n",
        "        <td style=\"padding-left: 1em; padding-right: 1em; text-align: center; vertical-align: top\">25d4cfcd</td>\n",
        "        <td style=\"padding-left: 1em; padding-right: 1em; text-align: center; vertical-align: top\">f028772b</td>\n",
        "        <td style=\"padding-left: 1em; padding-right: 1em; text-align: center; vertical-align: top\">ecad2386</td>\n",
        "    </tr>\n",
        "    <tr>\n",
        "        <td style=\"padding-left: 1em; padding-right: 1em; text-align: center; vertical-align: top\">10000918755742328737</td>\n",
        "        <td style=\"padding-left: 1em; padding-right: 1em; text-align: center; vertical-align: top\">0</td>\n",
        "        <td style=\"padding-left: 1em; padding-right: 1em; text-align: center; vertical-align: top\">14102100</td>\n",
        "        <td style=\"padding-left: 1em; padding-right: 1em; text-align: center; vertical-align: top\">1005</td>\n",
        "        <td style=\"padding-left: 1em; padding-right: 1em; text-align: center; vertical-align: top\">1</td>\n",
        "        <td style=\"padding-left: 1em; padding-right: 1em; text-align: center; vertical-align: top\">e151e245</td>\n",
        "        <td style=\"padding-left: 1em; padding-right: 1em; text-align: center; vertical-align: top\">7e091613</td>\n",
        "        <td style=\"padding-left: 1em; padding-right: 1em; text-align: center; vertical-align: top\">f028772b</td>\n",
        "        <td style=\"padding-left: 1em; padding-right: 1em; text-align: center; vertical-align: top\">ecad2386</td>\n",
        "    </tr>\n",
        "    <tr>\n",
        "        <td style=\"padding-left: 1em; padding-right: 1em; text-align: center; vertical-align: top\">10000949271186029916</td>\n",
        "        <td style=\"padding-left: 1em; padding-right: 1em; text-align: center; vertical-align: top\">1</td>\n",
        "        <td style=\"padding-left: 1em; padding-right: 1em; text-align: center; vertical-align: top\">14102100</td>\n",
        "        <td style=\"padding-left: 1em; padding-right: 1em; text-align: center; vertical-align: top\">1005</td>\n",
        "        <td style=\"padding-left: 1em; padding-right: 1em; text-align: center; vertical-align: top\">0</td>\n",
        "        <td style=\"padding-left: 1em; padding-right: 1em; text-align: center; vertical-align: top\">1fbe01fe</td>\n",
        "        <td style=\"padding-left: 1em; padding-right: 1em; text-align: center; vertical-align: top\">f3845767</td>\n",
        "        <td style=\"padding-left: 1em; padding-right: 1em; text-align: center; vertical-align: top\">28905ebd</td>\n",
        "        <td style=\"padding-left: 1em; padding-right: 1em; text-align: center; vertical-align: top\">ecad2386</td>\n",
        "    </tr>\n",
        "    <tr>\n",
        "        <td style=\"padding-left: 1em; padding-right: 1em; text-align: center; vertical-align: top\">10001264480619467364</td>\n",
        "        <td style=\"padding-left: 1em; padding-right: 1em; text-align: center; vertical-align: top\">0</td>\n",
        "        <td style=\"padding-left: 1em; padding-right: 1em; text-align: center; vertical-align: top\">14102100</td>\n",
        "        <td style=\"padding-left: 1em; padding-right: 1em; text-align: center; vertical-align: top\">1002</td>\n",
        "        <td style=\"padding-left: 1em; padding-right: 1em; text-align: center; vertical-align: top\">0</td>\n",
        "        <td style=\"padding-left: 1em; padding-right: 1em; text-align: center; vertical-align: top\">84c7ba46</td>\n",
        "        <td style=\"padding-left: 1em; padding-right: 1em; text-align: center; vertical-align: top\">c4e18dd6</td>\n",
        "        <td style=\"padding-left: 1em; padding-right: 1em; text-align: center; vertical-align: top\">50e219e0</td>\n",
        "        <td style=\"padding-left: 1em; padding-right: 1em; text-align: center; vertical-align: top\">ecad2386</td>\n",
        "    </tr>\n",
        "</table>\n",
        "<table frame=\"box\" rules=\"cols\">\n",
        "    <tr>\n",
        "        <th style=\"padding-left: 1em; padding-right: 1em; text-align: center\">app_domain</th>\n",
        "        <th style=\"padding-left: 1em; padding-right: 1em; text-align: center\">app_category</th>\n",
        "        <th style=\"padding-left: 1em; padding-right: 1em; text-align: center\">device_id</th>\n",
        "        <th style=\"padding-left: 1em; padding-right: 1em; text-align: center\">device_ip</th>\n",
        "        <th style=\"padding-left: 1em; padding-right: 1em; text-align: center\">device_model</th>\n",
        "        <th style=\"padding-left: 1em; padding-right: 1em; text-align: center\">device_type</th>\n",
        "        <th style=\"padding-left: 1em; padding-right: 1em; text-align: center\">device_conn_type</th>\n",
        "        <th style=\"padding-left: 1em; padding-right: 1em; text-align: center\">C14</th>\n",
        "        <th style=\"padding-left: 1em; padding-right: 1em; text-align: center\">C15</th>\n",
        "        <th style=\"padding-left: 1em; padding-right: 1em; text-align: center\">C16</th>\n",
        "    </tr>\n",
        "    <tr>\n",
        "        <td style=\"padding-left: 1em; padding-right: 1em; text-align: center; vertical-align: top\">7801e8d9</td>\n",
        "        <td style=\"padding-left: 1em; padding-right: 1em; text-align: center; vertical-align: top\">07d7df22</td>\n",
        "        <td style=\"padding-left: 1em; padding-right: 1em; text-align: center; vertical-align: top\">a99f214a</td>\n",
        "        <td style=\"padding-left: 1em; padding-right: 1em; text-align: center; vertical-align: top\">ddd2926e</td>\n",
        "        <td style=\"padding-left: 1em; padding-right: 1em; text-align: center; vertical-align: top\">44956a24</td>\n",
        "        <td style=\"padding-left: 1em; padding-right: 1em; text-align: center; vertical-align: top\">1</td>\n",
        "        <td style=\"padding-left: 1em; padding-right: 1em; text-align: center; vertical-align: top\">2</td>\n",
        "        <td style=\"padding-left: 1em; padding-right: 1em; text-align: center; vertical-align: top\">15706</td>\n",
        "        <td style=\"padding-left: 1em; padding-right: 1em; text-align: center; vertical-align: top\">320</td>\n",
        "        <td style=\"padding-left: 1em; padding-right: 1em; text-align: center; vertical-align: top\">50</td>\n",
        "    </tr>\n",
        "    <tr>\n",
        "        <td style=\"padding-left: 1em; padding-right: 1em; text-align: center; vertical-align: top\">7801e8d9</td>\n",
        "        <td style=\"padding-left: 1em; padding-right: 1em; text-align: center; vertical-align: top\">07d7df22</td>\n",
        "        <td style=\"padding-left: 1em; padding-right: 1em; text-align: center; vertical-align: top\">a99f214a</td>\n",
        "        <td style=\"padding-left: 1em; padding-right: 1em; text-align: center; vertical-align: top\">96809ac8</td>\n",
        "        <td style=\"padding-left: 1em; padding-right: 1em; text-align: center; vertical-align: top\">711ee120</td>\n",
        "        <td style=\"padding-left: 1em; padding-right: 1em; text-align: center; vertical-align: top\">1</td>\n",
        "        <td style=\"padding-left: 1em; padding-right: 1em; text-align: center; vertical-align: top\">0</td>\n",
        "        <td style=\"padding-left: 1em; padding-right: 1em; text-align: center; vertical-align: top\">15704</td>\n",
        "        <td style=\"padding-left: 1em; padding-right: 1em; text-align: center; vertical-align: top\">320</td>\n",
        "        <td style=\"padding-left: 1em; padding-right: 1em; text-align: center; vertical-align: top\">50</td>\n",
        "    </tr>\n",
        "    <tr>\n",
        "        <td style=\"padding-left: 1em; padding-right: 1em; text-align: center; vertical-align: top\">7801e8d9</td>\n",
        "        <td style=\"padding-left: 1em; padding-right: 1em; text-align: center; vertical-align: top\">07d7df22</td>\n",
        "        <td style=\"padding-left: 1em; padding-right: 1em; text-align: center; vertical-align: top\">a99f214a</td>\n",
        "        <td style=\"padding-left: 1em; padding-right: 1em; text-align: center; vertical-align: top\">b3cf8def</td>\n",
        "        <td style=\"padding-left: 1em; padding-right: 1em; text-align: center; vertical-align: top\">8a4875bd</td>\n",
        "        <td style=\"padding-left: 1em; padding-right: 1em; text-align: center; vertical-align: top\">1</td>\n",
        "        <td style=\"padding-left: 1em; padding-right: 1em; text-align: center; vertical-align: top\">0</td>\n",
        "        <td style=\"padding-left: 1em; padding-right: 1em; text-align: center; vertical-align: top\">15704</td>\n",
        "        <td style=\"padding-left: 1em; padding-right: 1em; text-align: center; vertical-align: top\">320</td>\n",
        "        <td style=\"padding-left: 1em; padding-right: 1em; text-align: center; vertical-align: top\">50</td>\n",
        "    </tr>\n",
        "    <tr>\n",
        "        <td style=\"padding-left: 1em; padding-right: 1em; text-align: center; vertical-align: top\">7801e8d9</td>\n",
        "        <td style=\"padding-left: 1em; padding-right: 1em; text-align: center; vertical-align: top\">07d7df22</td>\n",
        "        <td style=\"padding-left: 1em; padding-right: 1em; text-align: center; vertical-align: top\">a99f214a</td>\n",
        "        <td style=\"padding-left: 1em; padding-right: 1em; text-align: center; vertical-align: top\">e8275b8f</td>\n",
        "        <td style=\"padding-left: 1em; padding-right: 1em; text-align: center; vertical-align: top\">6332421a</td>\n",
        "        <td style=\"padding-left: 1em; padding-right: 1em; text-align: center; vertical-align: top\">1</td>\n",
        "        <td style=\"padding-left: 1em; padding-right: 1em; text-align: center; vertical-align: top\">0</td>\n",
        "        <td style=\"padding-left: 1em; padding-right: 1em; text-align: center; vertical-align: top\">15706</td>\n",
        "        <td style=\"padding-left: 1em; padding-right: 1em; text-align: center; vertical-align: top\">320</td>\n",
        "        <td style=\"padding-left: 1em; padding-right: 1em; text-align: center; vertical-align: top\">50</td>\n",
        "    </tr>\n",
        "    <tr>\n",
        "        <td style=\"padding-left: 1em; padding-right: 1em; text-align: center; vertical-align: top\">7801e8d9</td>\n",
        "        <td style=\"padding-left: 1em; padding-right: 1em; text-align: center; vertical-align: top\">07d7df22</td>\n",
        "        <td style=\"padding-left: 1em; padding-right: 1em; text-align: center; vertical-align: top\">a99f214a</td>\n",
        "        <td style=\"padding-left: 1em; padding-right: 1em; text-align: center; vertical-align: top\">9644d0bf</td>\n",
        "        <td style=\"padding-left: 1em; padding-right: 1em; text-align: center; vertical-align: top\">779d90c2</td>\n",
        "        <td style=\"padding-left: 1em; padding-right: 1em; text-align: center; vertical-align: top\">1</td>\n",
        "        <td style=\"padding-left: 1em; padding-right: 1em; text-align: center; vertical-align: top\">0</td>\n",
        "        <td style=\"padding-left: 1em; padding-right: 1em; text-align: center; vertical-align: top\">18993</td>\n",
        "        <td style=\"padding-left: 1em; padding-right: 1em; text-align: center; vertical-align: top\">320</td>\n",
        "        <td style=\"padding-left: 1em; padding-right: 1em; text-align: center; vertical-align: top\">50</td>\n",
        "    </tr>\n",
        "    <tr>\n",
        "        <td style=\"padding-left: 1em; padding-right: 1em; text-align: center; vertical-align: top\">7801e8d9</td>\n",
        "        <td style=\"padding-left: 1em; padding-right: 1em; text-align: center; vertical-align: top\">07d7df22</td>\n",
        "        <td style=\"padding-left: 1em; padding-right: 1em; text-align: center; vertical-align: top\">a99f214a</td>\n",
        "        <td style=\"padding-left: 1em; padding-right: 1em; text-align: center; vertical-align: top\">05241af0</td>\n",
        "        <td style=\"padding-left: 1em; padding-right: 1em; text-align: center; vertical-align: top\">8a4875bd</td>\n",
        "        <td style=\"padding-left: 1em; padding-right: 1em; text-align: center; vertical-align: top\">1</td>\n",
        "        <td style=\"padding-left: 1em; padding-right: 1em; text-align: center; vertical-align: top\">0</td>\n",
        "        <td style=\"padding-left: 1em; padding-right: 1em; text-align: center; vertical-align: top\">16920</td>\n",
        "        <td style=\"padding-left: 1em; padding-right: 1em; text-align: center; vertical-align: top\">320</td>\n",
        "        <td style=\"padding-left: 1em; padding-right: 1em; text-align: center; vertical-align: top\">50</td>\n",
        "    </tr>\n",
        "    <tr>\n",
        "        <td style=\"padding-left: 1em; padding-right: 1em; text-align: center; vertical-align: top\">7801e8d9</td>\n",
        "        <td style=\"padding-left: 1em; padding-right: 1em; text-align: center; vertical-align: top\">07d7df22</td>\n",
        "        <td style=\"padding-left: 1em; padding-right: 1em; text-align: center; vertical-align: top\">a99f214a</td>\n",
        "        <td style=\"padding-left: 1em; padding-right: 1em; text-align: center; vertical-align: top\">b264c159</td>\n",
        "        <td style=\"padding-left: 1em; padding-right: 1em; text-align: center; vertical-align: top\">be6db1d7</td>\n",
        "        <td style=\"padding-left: 1em; padding-right: 1em; text-align: center; vertical-align: top\">1</td>\n",
        "        <td style=\"padding-left: 1em; padding-right: 1em; text-align: center; vertical-align: top\">0</td>\n",
        "        <td style=\"padding-left: 1em; padding-right: 1em; text-align: center; vertical-align: top\">20362</td>\n",
        "        <td style=\"padding-left: 1em; padding-right: 1em; text-align: center; vertical-align: top\">320</td>\n",
        "        <td style=\"padding-left: 1em; padding-right: 1em; text-align: center; vertical-align: top\">50</td>\n",
        "    </tr>\n",
        "    <tr>\n",
        "        <td style=\"padding-left: 1em; padding-right: 1em; text-align: center; vertical-align: top\">7801e8d9</td>\n",
        "        <td style=\"padding-left: 1em; padding-right: 1em; text-align: center; vertical-align: top\">07d7df22</td>\n",
        "        <td style=\"padding-left: 1em; padding-right: 1em; text-align: center; vertical-align: top\">a99f214a</td>\n",
        "        <td style=\"padding-left: 1em; padding-right: 1em; text-align: center; vertical-align: top\">e6f67278</td>\n",
        "        <td style=\"padding-left: 1em; padding-right: 1em; text-align: center; vertical-align: top\">be74e6fe</td>\n",
        "        <td style=\"padding-left: 1em; padding-right: 1em; text-align: center; vertical-align: top\">1</td>\n",
        "        <td style=\"padding-left: 1em; padding-right: 1em; text-align: center; vertical-align: top\">0</td>\n",
        "        <td style=\"padding-left: 1em; padding-right: 1em; text-align: center; vertical-align: top\">20632</td>\n",
        "        <td style=\"padding-left: 1em; padding-right: 1em; text-align: center; vertical-align: top\">320</td>\n",
        "        <td style=\"padding-left: 1em; padding-right: 1em; text-align: center; vertical-align: top\">50</td>\n",
        "    </tr>\n",
        "    <tr>\n",
        "        <td style=\"padding-left: 1em; padding-right: 1em; text-align: center; vertical-align: top\">7801e8d9</td>\n",
        "        <td style=\"padding-left: 1em; padding-right: 1em; text-align: center; vertical-align: top\">07d7df22</td>\n",
        "        <td style=\"padding-left: 1em; padding-right: 1em; text-align: center; vertical-align: top\">a99f214a</td>\n",
        "        <td style=\"padding-left: 1em; padding-right: 1em; text-align: center; vertical-align: top\">37e8da74</td>\n",
        "        <td style=\"padding-left: 1em; padding-right: 1em; text-align: center; vertical-align: top\">5db079b5</td>\n",
        "        <td style=\"padding-left: 1em; padding-right: 1em; text-align: center; vertical-align: top\">1</td>\n",
        "        <td style=\"padding-left: 1em; padding-right: 1em; text-align: center; vertical-align: top\">2</td>\n",
        "        <td style=\"padding-left: 1em; padding-right: 1em; text-align: center; vertical-align: top\">15707</td>\n",
        "        <td style=\"padding-left: 1em; padding-right: 1em; text-align: center; vertical-align: top\">320</td>\n",
        "        <td style=\"padding-left: 1em; padding-right: 1em; text-align: center; vertical-align: top\">50</td>\n",
        "    </tr>\n",
        "    <tr>\n",
        "        <td style=\"padding-left: 1em; padding-right: 1em; text-align: center; vertical-align: top\">7801e8d9</td>\n",
        "        <td style=\"padding-left: 1em; padding-right: 1em; text-align: center; vertical-align: top\">07d7df22</td>\n",
        "        <td style=\"padding-left: 1em; padding-right: 1em; text-align: center; vertical-align: top\">c357dbff</td>\n",
        "        <td style=\"padding-left: 1em; padding-right: 1em; text-align: center; vertical-align: top\">f1ac7184</td>\n",
        "        <td style=\"padding-left: 1em; padding-right: 1em; text-align: center; vertical-align: top\">373ecbe6</td>\n",
        "        <td style=\"padding-left: 1em; padding-right: 1em; text-align: center; vertical-align: top\">0</td>\n",
        "        <td style=\"padding-left: 1em; padding-right: 1em; text-align: center; vertical-align: top\">0</td>\n",
        "        <td style=\"padding-left: 1em; padding-right: 1em; text-align: center; vertical-align: top\">21689</td>\n",
        "        <td style=\"padding-left: 1em; padding-right: 1em; text-align: center; vertical-align: top\">320</td>\n",
        "        <td style=\"padding-left: 1em; padding-right: 1em; text-align: center; vertical-align: top\">50</td>\n",
        "    </tr>\n",
        "</table>\n",
        "<table frame=\"box\" rules=\"cols\">\n",
        "    <tr>\n",
        "        <th style=\"padding-left: 1em; padding-right: 1em; text-align: center\">C17</th>\n",
        "        <th style=\"padding-left: 1em; padding-right: 1em; text-align: center\">C18</th>\n",
        "        <th style=\"padding-left: 1em; padding-right: 1em; text-align: center\">C19</th>\n",
        "        <th style=\"padding-left: 1em; padding-right: 1em; text-align: center\">C20</th>\n",
        "        <th style=\"padding-left: 1em; padding-right: 1em; text-align: center\">C21</th>\n",
        "    </tr>\n",
        "    <tr>\n",
        "        <td style=\"padding-left: 1em; padding-right: 1em; text-align: center; vertical-align: top\">1722</td>\n",
        "        <td style=\"padding-left: 1em; padding-right: 1em; text-align: center; vertical-align: top\">0</td>\n",
        "        <td style=\"padding-left: 1em; padding-right: 1em; text-align: center; vertical-align: top\">35</td>\n",
        "        <td style=\"padding-left: 1em; padding-right: 1em; text-align: center; vertical-align: top\">-1</td>\n",
        "        <td style=\"padding-left: 1em; padding-right: 1em; text-align: center; vertical-align: top\">79</td>\n",
        "    </tr>\n",
        "    <tr>\n",
        "        <td style=\"padding-left: 1em; padding-right: 1em; text-align: center; vertical-align: top\">1722</td>\n",
        "        <td style=\"padding-left: 1em; padding-right: 1em; text-align: center; vertical-align: top\">0</td>\n",
        "        <td style=\"padding-left: 1em; padding-right: 1em; text-align: center; vertical-align: top\">35</td>\n",
        "        <td style=\"padding-left: 1em; padding-right: 1em; text-align: center; vertical-align: top\">100084</td>\n",
        "        <td style=\"padding-left: 1em; padding-right: 1em; text-align: center; vertical-align: top\">79</td>\n",
        "    </tr>\n",
        "    <tr>\n",
        "        <td style=\"padding-left: 1em; padding-right: 1em; text-align: center; vertical-align: top\">1722</td>\n",
        "        <td style=\"padding-left: 1em; padding-right: 1em; text-align: center; vertical-align: top\">0</td>\n",
        "        <td style=\"padding-left: 1em; padding-right: 1em; text-align: center; vertical-align: top\">35</td>\n",
        "        <td style=\"padding-left: 1em; padding-right: 1em; text-align: center; vertical-align: top\">100084</td>\n",
        "        <td style=\"padding-left: 1em; padding-right: 1em; text-align: center; vertical-align: top\">79</td>\n",
        "    </tr>\n",
        "    <tr>\n",
        "        <td style=\"padding-left: 1em; padding-right: 1em; text-align: center; vertical-align: top\">1722</td>\n",
        "        <td style=\"padding-left: 1em; padding-right: 1em; text-align: center; vertical-align: top\">0</td>\n",
        "        <td style=\"padding-left: 1em; padding-right: 1em; text-align: center; vertical-align: top\">35</td>\n",
        "        <td style=\"padding-left: 1em; padding-right: 1em; text-align: center; vertical-align: top\">100084</td>\n",
        "        <td style=\"padding-left: 1em; padding-right: 1em; text-align: center; vertical-align: top\">79</td>\n",
        "    </tr>\n",
        "    <tr>\n",
        "        <td style=\"padding-left: 1em; padding-right: 1em; text-align: center; vertical-align: top\">2161</td>\n",
        "        <td style=\"padding-left: 1em; padding-right: 1em; text-align: center; vertical-align: top\">0</td>\n",
        "        <td style=\"padding-left: 1em; padding-right: 1em; text-align: center; vertical-align: top\">35</td>\n",
        "        <td style=\"padding-left: 1em; padding-right: 1em; text-align: center; vertical-align: top\">-1</td>\n",
        "        <td style=\"padding-left: 1em; padding-right: 1em; text-align: center; vertical-align: top\">157</td>\n",
        "    </tr>\n",
        "    <tr>\n",
        "        <td style=\"padding-left: 1em; padding-right: 1em; text-align: center; vertical-align: top\">1899</td>\n",
        "        <td style=\"padding-left: 1em; padding-right: 1em; text-align: center; vertical-align: top\">0</td>\n",
        "        <td style=\"padding-left: 1em; padding-right: 1em; text-align: center; vertical-align: top\">431</td>\n",
        "        <td style=\"padding-left: 1em; padding-right: 1em; text-align: center; vertical-align: top\">100077</td>\n",
        "        <td style=\"padding-left: 1em; padding-right: 1em; text-align: center; vertical-align: top\">117</td>\n",
        "    </tr>\n",
        "    <tr>\n",
        "        <td style=\"padding-left: 1em; padding-right: 1em; text-align: center; vertical-align: top\">2333</td>\n",
        "        <td style=\"padding-left: 1em; padding-right: 1em; text-align: center; vertical-align: top\">0</td>\n",
        "        <td style=\"padding-left: 1em; padding-right: 1em; text-align: center; vertical-align: top\">39</td>\n",
        "        <td style=\"padding-left: 1em; padding-right: 1em; text-align: center; vertical-align: top\">-1</td>\n",
        "        <td style=\"padding-left: 1em; padding-right: 1em; text-align: center; vertical-align: top\">157</td>\n",
        "    </tr>\n",
        "    <tr>\n",
        "        <td style=\"padding-left: 1em; padding-right: 1em; text-align: center; vertical-align: top\">2374</td>\n",
        "        <td style=\"padding-left: 1em; padding-right: 1em; text-align: center; vertical-align: top\">3</td>\n",
        "        <td style=\"padding-left: 1em; padding-right: 1em; text-align: center; vertical-align: top\">39</td>\n",
        "        <td style=\"padding-left: 1em; padding-right: 1em; text-align: center; vertical-align: top\">-1</td>\n",
        "        <td style=\"padding-left: 1em; padding-right: 1em; text-align: center; vertical-align: top\">23</td>\n",
        "    </tr>\n",
        "    <tr>\n",
        "        <td style=\"padding-left: 1em; padding-right: 1em; text-align: center; vertical-align: top\">1722</td>\n",
        "        <td style=\"padding-left: 1em; padding-right: 1em; text-align: center; vertical-align: top\">0</td>\n",
        "        <td style=\"padding-left: 1em; padding-right: 1em; text-align: center; vertical-align: top\">35</td>\n",
        "        <td style=\"padding-left: 1em; padding-right: 1em; text-align: center; vertical-align: top\">-1</td>\n",
        "        <td style=\"padding-left: 1em; padding-right: 1em; text-align: center; vertical-align: top\">79</td>\n",
        "    </tr>\n",
        "    <tr>\n",
        "        <td style=\"padding-left: 1em; padding-right: 1em; text-align: center; vertical-align: top\">2496</td>\n",
        "        <td style=\"padding-left: 1em; padding-right: 1em; text-align: center; vertical-align: top\">3</td>\n",
        "        <td style=\"padding-left: 1em; padding-right: 1em; text-align: center; vertical-align: top\">167</td>\n",
        "        <td style=\"padding-left: 1em; padding-right: 1em; text-align: center; vertical-align: top\">100191</td>\n",
        "        <td style=\"padding-left: 1em; padding-right: 1em; text-align: center; vertical-align: top\">23</td>\n",
        "    </tr>\n",
        "</table>\n",
        "[4122995 rows x 24 columns]<br/>Note: Only the head of the SFrame is printed.<br/>You can use print_rows(num_rows=m, num_columns=n) to print more rows and columns.\n",
        "</div>"
       ],
       "metadata": {},
       "output_type": "pyout",
       "prompt_number": 5,
       "text": [
        "Columns:\n",
        "\tid\tstr\n",
        "\tclick\tint\n",
        "\thour\tstr\n",
        "\tC1\tstr\n",
        "\tbanner_pos\tstr\n",
        "\tsite_id\tstr\n",
        "\tsite_domain\tstr\n",
        "\tsite_category\tstr\n",
        "\tapp_id\tstr\n",
        "\tapp_domain\tstr\n",
        "\tapp_category\tstr\n",
        "\tdevice_id\tstr\n",
        "\tdevice_ip\tstr\n",
        "\tdevice_model\tstr\n",
        "\tdevice_type\tstr\n",
        "\tdevice_conn_type\tstr\n",
        "\tC14\tstr\n",
        "\tC15\tstr\n",
        "\tC16\tstr\n",
        "\tC17\tstr\n",
        "\tC18\tstr\n",
        "\tC19\tstr\n",
        "\tC20\tstr\n",
        "\tC21\tstr\n",
        "\n",
        "Rows: 4122995\n",
        "\n",
        "Data:\n",
        "+----------------------+-------+----------+------+------------+----------+\n",
        "|          id          | click |   hour   |  C1  | banner_pos | site_id  |\n",
        "+----------------------+-------+----------+------+------------+----------+\n",
        "| 1000009418151094273  |   0   | 14102100 | 1005 |     0      | 1fbe01fe |\n",
        "| 10000169349117863715 |   0   | 14102100 | 1005 |     0      | 1fbe01fe |\n",
        "| 10000371904215119486 |   0   | 14102100 | 1005 |     0      | 1fbe01fe |\n",
        "| 10000640724480838376 |   0   | 14102100 | 1005 |     0      | 1fbe01fe |\n",
        "| 10000679056417042096 |   0   | 14102100 | 1005 |     1      | fe8cc448 |\n",
        "| 10000720757801103869 |   0   | 14102100 | 1005 |     0      | d6137915 |\n",
        "| 10000724729988544911 |   0   | 14102100 | 1005 |     0      | 8fda644b |\n",
        "| 10000918755742328737 |   0   | 14102100 | 1005 |     1      | e151e245 |\n",
        "| 10000949271186029916 |   1   | 14102100 | 1005 |     0      | 1fbe01fe |\n",
        "| 10001264480619467364 |   0   | 14102100 | 1002 |     0      | 84c7ba46 |\n",
        "+----------------------+-------+----------+------+------------+----------+\n",
        "+-------------+---------------+----------+------------+--------------+-----------+\n",
        "| site_domain | site_category |  app_id  | app_domain | app_category | device_id |\n",
        "+-------------+---------------+----------+------------+--------------+-----------+\n",
        "|   f3845767  |    28905ebd   | ecad2386 |  7801e8d9  |   07d7df22   |  a99f214a |\n",
        "|   f3845767  |    28905ebd   | ecad2386 |  7801e8d9  |   07d7df22   |  a99f214a |\n",
        "|   f3845767  |    28905ebd   | ecad2386 |  7801e8d9  |   07d7df22   |  a99f214a |\n",
        "|   f3845767  |    28905ebd   | ecad2386 |  7801e8d9  |   07d7df22   |  a99f214a |\n",
        "|   9166c161  |    0569f928   | ecad2386 |  7801e8d9  |   07d7df22   |  a99f214a |\n",
        "|   bb1ef334  |    f028772b   | ecad2386 |  7801e8d9  |   07d7df22   |  a99f214a |\n",
        "|   25d4cfcd  |    f028772b   | ecad2386 |  7801e8d9  |   07d7df22   |  a99f214a |\n",
        "|   7e091613  |    f028772b   | ecad2386 |  7801e8d9  |   07d7df22   |  a99f214a |\n",
        "|   f3845767  |    28905ebd   | ecad2386 |  7801e8d9  |   07d7df22   |  a99f214a |\n",
        "|   c4e18dd6  |    50e219e0   | ecad2386 |  7801e8d9  |   07d7df22   |  c357dbff |\n",
        "+-------------+---------------+----------+------------+--------------+-----------+\n",
        "+-----------+--------------+-------------+------------------+-------+-----+-----+\n",
        "| device_ip | device_model | device_type | device_conn_type |  C14  | C15 | C16 |\n",
        "+-----------+--------------+-------------+------------------+-------+-----+-----+\n",
        "|  ddd2926e |   44956a24   |      1      |        2         | 15706 | 320 |  50 |\n",
        "|  96809ac8 |   711ee120   |      1      |        0         | 15704 | 320 |  50 |\n",
        "|  b3cf8def |   8a4875bd   |      1      |        0         | 15704 | 320 |  50 |\n",
        "|  e8275b8f |   6332421a   |      1      |        0         | 15706 | 320 |  50 |\n",
        "|  9644d0bf |   779d90c2   |      1      |        0         | 18993 | 320 |  50 |\n",
        "|  05241af0 |   8a4875bd   |      1      |        0         | 16920 | 320 |  50 |\n",
        "|  b264c159 |   be6db1d7   |      1      |        0         | 20362 | 320 |  50 |\n",
        "|  e6f67278 |   be74e6fe   |      1      |        0         | 20632 | 320 |  50 |\n",
        "|  37e8da74 |   5db079b5   |      1      |        2         | 15707 | 320 |  50 |\n",
        "|  f1ac7184 |   373ecbe6   |      0      |        0         | 21689 | 320 |  50 |\n",
        "+-----------+--------------+-------------+------------------+-------+-----+-----+\n",
        "+------+-----+\n",
        "| C17  | ... |\n",
        "+------+-----+\n",
        "| 1722 | ... |\n",
        "| 1722 | ... |\n",
        "| 1722 | ... |\n",
        "| 1722 | ... |\n",
        "| 2161 | ... |\n",
        "| 1899 | ... |\n",
        "| 2333 | ... |\n",
        "| 2374 | ... |\n",
        "| 1722 | ... |\n",
        "| 2496 | ... |\n",
        "+------+-----+\n",
        "[4122995 rows x 24 columns]\n",
        "Note: Only the head of the SFrame is printed.\n",
        "You can use print_rows(num_rows=m, num_columns=n) to print more rows and columns."
       ]
      }
     ],
     "prompt_number": 5
    },
    {
     "cell_type": "code",
     "collapsed": false,
     "input": [
      "oneday.show()"
     ],
     "language": "python",
     "metadata": {},
     "outputs": [
      {
       "javascript": [
        "$(\"head\").append($(\"<link/>\").attr({\n",
        "  rel:  \"stylesheet\",\n",
        "  type: \"text/css\",\n",
        "  href: \"//cdnjs.cloudflare.com/ajax/libs/font-awesome/4.1.0/css/font-awesome.min.css\"\n",
        "}));\n",
        "$(\"head\").append($(\"<link/>\").attr({\n",
        "  rel:  \"stylesheet\",\n",
        "  type: \"text/css\",\n",
        "  href: \"//turi.com/files/canvas/1.4.830/css/canvas.css\"\n",
        "}));\n",
        "\n",
        "            (function(){\n",
        "\n",
        "                var e = null;\n",
        "                if (typeof element == 'undefined') {\n",
        "                    var scripts = document.getElementsByTagName('script');\n",
        "                    var thisScriptTag = scripts[scripts.length-1];\n",
        "                    var parentDiv = thisScriptTag.parentNode;\n",
        "                    e = document.createElement('div');\n",
        "                    parentDiv.appendChild(e);\n",
        "                } else {\n",
        "                    e = element[0];\n",
        "                }\n",
        "\n",
        "                require(['//turi.com/files/canvas/1.4.830/js/ipython_app.js'], function(IPythonApp){\n",
        "                    var app = new IPythonApp();\n",
        "                    app.attachView('sframe','Summary', {\"ipython\": true, \"sketch\": {\"site_id\": {\"complete\": true, \"numeric\": false, \"num_unique\": 2874, \"num_undefined\": 0, \"progress\": 1.0, \"frequent_items\": {\"16c73019\": {\"frequency\": 15438, \"value\": \"16c73019\"}, \"7c6576be\": {\"frequency\": 4776, \"value\": \"7c6576be\"}, \"0c2fe9d6\": {\"frequency\": 10607, \"value\": \"0c2fe9d6\"}, \"9444ae9b\": {\"frequency\": 733, \"value\": \"9444ae9b\"}, \"eccc36f6\": {\"frequency\": 562, \"value\": \"eccc36f6\"}, \"54c9941b\": {\"frequency\": 557, \"value\": \"54c9941b\"}, \"92c7cbe7\": {\"frequency\": 8128, \"value\": \"92c7cbe7\"}, \"e149eb68\": {\"frequency\": 2318, \"value\": \"e149eb68\"}, \"f61eaaae\": {\"frequency\": 9015, \"value\": \"f61eaaae\"}, \"e9ca7d40\": {\"frequency\": 7583, \"value\": \"e9ca7d40\"}, \"d43e62fb\": {\"frequency\": 698, \"value\": \"d43e62fb\"}, \"f4959604\": {\"frequency\": 800, \"value\": \"f4959604\"}, \"a38dc379\": {\"frequency\": 1370, \"value\": \"a38dc379\"}, \"9a28a858\": {\"frequency\": 756, \"value\": \"9a28a858\"}, \"15941585\": {\"frequency\": 1147, \"value\": \"15941585\"}, \"6c5b482c\": {\"frequency\": 15096, \"value\": \"6c5b482c\"}, \"3d87b0da\": {\"frequency\": 415, \"value\": \"3d87b0da\"}, \"d5d760f7\": {\"frequency\": 967, \"value\": \"d5d760f7\"}, \"adc38581\": {\"frequency\": 670, \"value\": \"adc38581\"}, \"7aec40a2\": {\"frequency\": 2375, \"value\": \"7aec40a2\"}, \"235ba823\": {\"frequency\": 2466, \"value\": \"235ba823\"}, \"06a0ac14\": {\"frequency\": 1587, \"value\": \"06a0ac14\"}, \"bb4524e7\": {\"frequency\": 31457, \"value\": \"bb4524e7\"}, \"4cd817d5\": {\"frequency\": 1267, \"value\": \"4cd817d5\"}, \"93de26ae\": {\"frequency\": 3916, \"value\": \"93de26ae\"}, \"76bb56d6\": {\"frequency\": 444, \"value\": \"76bb56d6\"}, \"4c391571\": {\"frequency\": 652, \"value\": \"4c391571\"}, \"87cb5f55\": {\"frequency\": 491, \"value\": \"87cb5f55\"}, \"529a2583\": {\"frequency\": 1669, \"value\": \"529a2583\"}, \"b81c580b\": {\"frequency\": 1336, \"value\": \"b81c580b\"}, \"97e9a81f\": {\"frequency\": 949, \"value\": \"97e9a81f\"}, \"18859862\": {\"frequency\": 3885, \"value\": \"18859862\"}, \"6bdcda77\": {\"frequency\": 932, \"value\": \"6bdcda77\"}, \"344bdd17\": {\"frequency\": 416, \"value\": \"344bdd17\"}, \"88154ade\": {\"frequency\": 1691, \"value\": \"88154ade\"}, \"c54454a2\": {\"frequency\": 1749, \"value\": \"c54454a2\"}, \"39cffaa4\": {\"frequency\": 809, \"value\": \"39cffaa4\"}, \"8e35d87a\": {\"frequency\": 585, \"value\": \"8e35d87a\"}, \"fec6e632\": {\"frequency\": 2127, \"value\": \"fec6e632\"}, \"e3c09f3a\": {\"frequency\": 13171, \"value\": \"e3c09f3a\"}, \"f9e1a388\": {\"frequency\": 1684, \"value\": \"f9e1a388\"}, \"38c202aa\": {\"frequency\": 789, \"value\": \"38c202aa\"}, \"c0bc565a\": {\"frequency\": 1699, \"value\": \"c0bc565a\"}, \"d1a51189\": {\"frequency\": 3099, \"value\": \"d1a51189\"}, \"bc3b3740\": {\"frequency\": 800, \"value\": \"bc3b3740\"}, \"727e79e2\": {\"frequency\": 749, \"value\": \"727e79e2\"}, \"db45d754\": {\"frequency\": 869, \"value\": \"db45d754\"}, \"3281baa7\": {\"frequency\": 3294, \"value\": \"3281baa7\"}, \"84a56636\": {\"frequency\": 412, \"value\": \"84a56636\"}, \"f84e52b6\": {\"frequency\": 2184, \"value\": \"f84e52b6\"}, \"61a8c644\": {\"frequency\": 835, \"value\": \"61a8c644\"}, \"030440fe\": {\"frequency\": 6517, \"value\": \"030440fe\"}, \"6227cf3f\": {\"frequency\": 556, \"value\": \"6227cf3f\"}, \"faf9c1c2\": {\"frequency\": 4652, \"value\": \"faf9c1c2\"}, \"e56dbb9b\": {\"frequency\": 945, \"value\": \"e56dbb9b\"}, \"7dd19f44\": {\"frequency\": 6162, \"value\": \"7dd19f44\"}, \"9ee9dd00\": {\"frequency\": 4840, \"value\": \"9ee9dd00\"}, \"3a593b4c\": {\"frequency\": 594, \"value\": \"3a593b4c\"}, \"a831e579\": {\"frequency\": 2076, \"value\": \"a831e579\"}, \"5070e53c\": {\"frequency\": 625, \"value\": \"5070e53c\"}, \"acc6cd52\": {\"frequency\": 1049, \"value\": \"acc6cd52\"}, \"636f3a62\": {\"frequency\": 1886, \"value\": \"636f3a62\"}, \"cd58172f\": {\"frequency\": 5565, \"value\": \"cd58172f\"}, \"93eaba74\": {\"frequency\": 15624, \"value\": \"93eaba74\"}, \"22d080df\": {\"frequency\": 929, \"value\": \"22d080df\"}, \"1e25e084\": {\"frequency\": 1769, \"value\": \"1e25e084\"}, \"7549fe4f\": {\"frequency\": 637, \"value\": \"7549fe4f\"}, \"9b124c1e\": {\"frequency\": 2394, \"value\": \"9b124c1e\"}, \"02d5151c\": {\"frequency\": 648, \"value\": \"02d5151c\"}, \"17caea14\": {\"frequency\": 31317, \"value\": \"17caea14\"}, \"9a977531\": {\"frequency\": 12957, \"value\": \"9a977531\"}, \"c9dea231\": {\"frequency\": 622, \"value\": \"c9dea231\"}, \"ba9aee1b\": {\"frequency\": 6665, \"value\": \"ba9aee1b\"}, \"0eb72673\": {\"frequency\": 9446, \"value\": \"0eb72673\"}, \"518d6168\": {\"frequency\": 1324, \"value\": \"518d6168\"}, \"198f3f8c\": {\"frequency\": 1474, \"value\": \"198f3f8c\"}, \"d8bb8687\": {\"frequency\": 3528, \"value\": \"d8bb8687\"}, \"5b08c53b\": {\"frequency\": 79775, \"value\": \"5b08c53b\"}, \"34040f5c\": {\"frequency\": 991, \"value\": \"34040f5c\"}, \"ff18c3d1\": {\"frequency\": 477, \"value\": \"ff18c3d1\"}, \"3af745f2\": {\"frequency\": 954, \"value\": \"3af745f2\"}, \"53c609e1\": {\"frequency\": 476, \"value\": \"53c609e1\"}, \"85a2e413\": {\"frequency\": 704, \"value\": \"85a2e413\"}, \"9f737c63\": {\"frequency\": 1096, \"value\": \"9f737c63\"}, \"e8f79e60\": {\"frequency\": 24938, \"value\": \"e8f79e60\"}, \"3d88bdd0\": {\"frequency\": 1032, \"value\": \"3d88bdd0\"}, \"c65c4fc4\": {\"frequency\": 481, \"value\": \"c65c4fc4\"}, \"dcc019de\": {\"frequency\": 4537, \"value\": \"dcc019de\"}, \"5756237e\": {\"frequency\": 874, \"value\": \"5756237e\"}, \"929d2171\": {\"frequency\": 678, \"value\": \"929d2171\"}, \"97b6e615\": {\"frequency\": 682, \"value\": \"97b6e615\"}, \"c21df24f\": {\"frequency\": 6277, \"value\": \"c21df24f\"}, \"2328ee8e\": {\"frequency\": 6479, \"value\": \"2328ee8e\"}, \"7697ed3e\": {\"frequency\": 2445, \"value\": \"7697ed3e\"}, \"517b8671\": {\"frequency\": 12404, \"value\": \"517b8671\"}, \"44637516\": {\"frequency\": 4196, \"value\": \"44637516\"}, \"2ac37fce\": {\"frequency\": 412, \"value\": \"2ac37fce\"}, \"1c3a1b95\": {\"frequency\": 1490, \"value\": \"1c3a1b95\"}, \"c6af341d\": {\"frequency\": 725, \"value\": \"c6af341d\"}, \"c7636eae\": {\"frequency\": 486, \"value\": \"c7636eae\"}, \"a469e235\": {\"frequency\": 1582, \"value\": \"a469e235\"}, \"3e183f99\": {\"frequency\": 659, \"value\": \"3e183f99\"}, \"6e4efb2c\": {\"frequency\": 1336, \"value\": \"6e4efb2c\"}, \"1d8321a3\": {\"frequency\": 497, \"value\": \"1d8321a3\"}, \"8907c166\": {\"frequency\": 1201, \"value\": \"8907c166\"}, \"450d6400\": {\"frequency\": 1423, \"value\": \"450d6400\"}, \"887a4754\": {\"frequency\": 3344, \"value\": \"887a4754\"}, \"df7971d4\": {\"frequency\": 2134, \"value\": \"df7971d4\"}, \"543a539e\": {\"frequency\": 20646, \"value\": \"543a539e\"}, \"f0ee33c5\": {\"frequency\": 2159, \"value\": \"f0ee33c5\"}, \"d7714196\": {\"frequency\": 1641, \"value\": \"d7714196\"}, \"7a34d501\": {\"frequency\": 719, \"value\": \"7a34d501\"}, \"178a7b89\": {\"frequency\": 4802, \"value\": \"178a7b89\"}, \"83a0ad1a\": {\"frequency\": 20580, \"value\": \"83a0ad1a\"}, \"e5c60a05\": {\"frequency\": 12261, \"value\": \"e5c60a05\"}, \"90650879\": {\"frequency\": 675, \"value\": \"90650879\"}, \"fbfbe4c5\": {\"frequency\": 603, \"value\": \"fbfbe4c5\"}, \"b57f550c\": {\"frequency\": 662, \"value\": \"b57f550c\"}, \"15a497fe\": {\"frequency\": 1454, \"value\": \"15a497fe\"}, \"b8eae5f9\": {\"frequency\": 4648, \"value\": \"b8eae5f9\"}, \"240ecdfd\": {\"frequency\": 496, \"value\": \"240ecdfd\"}, \"11b0b28b\": {\"frequency\": 842, \"value\": \"11b0b28b\"}, \"3e81fcf1\": {\"frequency\": 420, \"value\": \"3e81fcf1\"}, \"47d1a0f2\": {\"frequency\": 978, \"value\": \"47d1a0f2\"}, \"503c45b0\": {\"frequency\": 1260, \"value\": \"503c45b0\"}, \"3e3abd65\": {\"frequency\": 878, \"value\": \"3e3abd65\"}, \"83337efb\": {\"frequency\": 468, \"value\": \"83337efb\"}, \"fa2fd0b3\": {\"frequency\": 831, \"value\": \"fa2fd0b3\"}, \"f6cba1bd\": {\"frequency\": 2473, \"value\": \"f6cba1bd\"}, \"930c2840\": {\"frequency\": 1106, \"value\": \"930c2840\"}, \"11944c42\": {\"frequency\": 1010, \"value\": \"11944c42\"}, \"4d7eb527\": {\"frequency\": 565, \"value\": \"4d7eb527\"}, \"12fb4121\": {\"frequency\": 8315, \"value\": \"12fb4121\"}, \"4bf5bbe2\": {\"frequency\": 9640, \"value\": \"4bf5bbe2\"}, \"f42b9119\": {\"frequency\": 664, \"value\": \"f42b9119\"}, \"affacb6d\": {\"frequency\": 595, \"value\": \"affacb6d\"}, \"207ceda8\": {\"frequency\": 519, \"value\": \"207ceda8\"}, \"70c8b87a\": {\"frequency\": 874, \"value\": \"70c8b87a\"}, \"686546d3\": {\"frequency\": 3674, \"value\": \"686546d3\"}, \"469fd1ad\": {\"frequency\": 906, \"value\": \"469fd1ad\"}, \"14c5faa4\": {\"frequency\": 774, \"value\": \"14c5faa4\"}, \"93377b07\": {\"frequency\": 2081, \"value\": \"93377b07\"}, \"05c65e53\": {\"frequency\": 845, \"value\": \"05c65e53\"}, \"2d7bacb1\": {\"frequency\": 3392, \"value\": \"2d7bacb1\"}, \"ac696ed4\": {\"frequency\": 7323, \"value\": \"ac696ed4\"}, \"8f51bf3a\": {\"frequency\": 1299, \"value\": \"8f51bf3a\"}, \"fd309fe8\": {\"frequency\": 921, \"value\": \"fd309fe8\"}, \"26fa1946\": {\"frequency\": 5448, \"value\": \"26fa1946\"}, \"f282ab5a\": {\"frequency\": 11529, \"value\": \"f282ab5a\"}, \"f4d14b43\": {\"frequency\": 1683, \"value\": \"f4d14b43\"}, \"cfc5bb78\": {\"frequency\": 429, \"value\": \"cfc5bb78\"}, \"29229f8e\": {\"frequency\": 2672, \"value\": \"29229f8e\"}, \"9fe0fa9b\": {\"frequency\": 759, \"value\": \"9fe0fa9b\"}, \"8fbe746d\": {\"frequency\": 2688, \"value\": \"8fbe746d\"}, \"43f201fc\": {\"frequency\": 1472, \"value\": \"43f201fc\"}, \"43d6df75\": {\"frequency\": 24593, \"value\": \"43d6df75\"}, \"b99a2c43\": {\"frequency\": 10026, \"value\": \"b99a2c43\"}, \"294411bf\": {\"frequency\": 3312, \"value\": \"294411bf\"}, \"14a5a57a\": {\"frequency\": 652, \"value\": \"14a5a57a\"}, \"1b171d6d\": {\"frequency\": 5110, \"value\": \"1b171d6d\"}, \"97430aa8\": {\"frequency\": 725, \"value\": \"97430aa8\"}, \"5b787406\": {\"frequency\": 2546, \"value\": \"5b787406\"}, \"d70360ea\": {\"frequency\": 627, \"value\": \"d70360ea\"}, \"790c9243\": {\"frequency\": 440, \"value\": \"790c9243\"}, \"d8c5ea8e\": {\"frequency\": 1313, \"value\": \"d8c5ea8e\"}, \"fa004722\": {\"frequency\": 844, \"value\": \"fa004722\"}, \"716ad30e\": {\"frequency\": 524, \"value\": \"716ad30e\"}, \"20e2b21c\": {\"frequency\": 1784, \"value\": \"20e2b21c\"}, \"8401b4a5\": {\"frequency\": 511, \"value\": \"8401b4a5\"}, \"f1002718\": {\"frequency\": 844, \"value\": \"f1002718\"}, \"e023ba3e\": {\"frequency\": 10797, \"value\": \"e023ba3e\"}, \"763a42b5\": {\"frequency\": 5555, \"value\": \"763a42b5\"}, \"5b4d2eda\": {\"frequency\": 72714, \"value\": \"5b4d2eda\"}, \"78d60190\": {\"frequency\": 5121, \"value\": \"78d60190\"}, \"9e8cf15d\": {\"frequency\": 4489, \"value\": \"9e8cf15d\"}, \"ff361da0\": {\"frequency\": 2609, \"value\": \"ff361da0\"}, \"92fa1eaf\": {\"frequency\": 908, \"value\": \"92fa1eaf\"}, \"6f34dd1d\": {\"frequency\": 456, \"value\": \"6f34dd1d\"}, \"2b1ddb24\": {\"frequency\": 2718, \"value\": \"2b1ddb24\"}, \"e59ef3fc\": {\"frequency\": 3833, \"value\": \"e59ef3fc\"}, \"c9dabf4c\": {\"frequency\": 448, \"value\": \"c9dabf4c\"}, \"6ec06dbd\": {\"frequency\": 19976, \"value\": \"6ec06dbd\"}, \"c8862f47\": {\"frequency\": 1620, \"value\": \"c8862f47\"}, \"dfc6489e\": {\"frequency\": 486, \"value\": \"dfc6489e\"}, \"419a32e2\": {\"frequency\": 834, \"value\": \"419a32e2\"}, \"cbb01868\": {\"frequency\": 1967, \"value\": \"cbb01868\"}, \"c96057c1\": {\"frequency\": 3273, \"value\": \"c96057c1\"}, \"4d1bf758\": {\"frequency\": 416, \"value\": \"4d1bf758\"}, \"d9750ee7\": {\"frequency\": 150293, \"value\": \"d9750ee7\"}, \"75f43c5a\": {\"frequency\": 5842, \"value\": \"75f43c5a\"}, \"33351151\": {\"frequency\": 486, \"value\": \"33351151\"}, \"34781e41\": {\"frequency\": 644, \"value\": \"34781e41\"}, \"8cbacf0b\": {\"frequency\": 833, \"value\": \"8cbacf0b\"}, \"84c7ba46\": {\"frequency\": 16503, \"value\": \"84c7ba46\"}, \"e151e245\": {\"frequency\": 212067, \"value\": \"e151e245\"}, \"69bc54b5\": {\"frequency\": 1490, \"value\": \"69bc54b5\"}, \"a1b948b8\": {\"frequency\": 503, \"value\": \"a1b948b8\"}, \"41477778\": {\"frequency\": 1170, \"value\": \"41477778\"}, \"fe8cc448\": {\"frequency\": 6360, \"value\": \"fe8cc448\"}, \"a187a464\": {\"frequency\": 464, \"value\": \"a187a464\"}, \"8c788ce9\": {\"frequency\": 1035, \"value\": \"8c788ce9\"}, \"222acd54\": {\"frequency\": 8644, \"value\": \"222acd54\"}, \"e7a92cc6\": {\"frequency\": 793, \"value\": \"e7a92cc6\"}, \"5014edea\": {\"frequency\": 963, \"value\": \"5014edea\"}, \"5abb07e8\": {\"frequency\": 575, \"value\": \"5abb07e8\"}, \"ec44f0b7\": {\"frequency\": 1496, \"value\": \"ec44f0b7\"}, \"1b581e08\": {\"frequency\": 1483, \"value\": \"1b581e08\"}, \"f17ebd97\": {\"frequency\": 896, \"value\": \"f17ebd97\"}, \"b9b31250\": {\"frequency\": 942, \"value\": \"b9b31250\"}, \"089cd95b\": {\"frequency\": 562, \"value\": \"089cd95b\"}, \"856e6d3f\": {\"frequency\": 76879, \"value\": \"856e6d3f\"}, \"2fdff0f2\": {\"frequency\": 2214, \"value\": \"2fdff0f2\"}, \"c63170c5\": {\"frequency\": 5813, \"value\": \"c63170c5\"}, \"85f751fd\": {\"frequency\": 1532511, \"value\": \"85f751fd\"}, \"2c4ed2f7\": {\"frequency\": 1776, \"value\": \"2c4ed2f7\"}, \"e2547d3b\": {\"frequency\": 1950, \"value\": \"e2547d3b\"}, \"20546e77\": {\"frequency\": 1107, \"value\": \"20546e77\"}, \"c5944aac\": {\"frequency\": 3315, \"value\": \"c5944aac\"}, \"b554a32a\": {\"frequency\": 7773, \"value\": \"b554a32a\"}, \"e4d8dd7b\": {\"frequency\": 14060, \"value\": \"e4d8dd7b\"}, \"5bfa0409\": {\"frequency\": 471, \"value\": \"5bfa0409\"}, \"f9c69707\": {\"frequency\": 6665, \"value\": \"f9c69707\"}, \"e5260f30\": {\"frequency\": 2323, \"value\": \"e5260f30\"}, \"b03fedc9\": {\"frequency\": 964, \"value\": \"b03fedc9\"}, \"f5af7a86\": {\"frequency\": 871, \"value\": \"f5af7a86\"}, \"0aab7161\": {\"frequency\": 1154, \"value\": \"0aab7161\"}, \"e6409ff1\": {\"frequency\": 856, \"value\": \"e6409ff1\"}, \"2a68aa20\": {\"frequency\": 3574, \"value\": \"2a68aa20\"}, \"bcc1871c\": {\"frequency\": 517, \"value\": \"bcc1871c\"}, \"57fe1b20\": {\"frequency\": 21573, \"value\": \"57fe1b20\"}, \"77bfdd7b\": {\"frequency\": 932, \"value\": \"77bfdd7b\"}, \"a36d69ee\": {\"frequency\": 1641, \"value\": \"a36d69ee\"}, \"1fbe01fe\": {\"frequency\": 771944, \"value\": \"1fbe01fe\"}, \"ee8b8550\": {\"frequency\": 5895, \"value\": \"ee8b8550\"}, \"5114c672\": {\"frequency\": 22459, \"value\": \"5114c672\"}, \"19a1e5c0\": {\"frequency\": 626, \"value\": \"19a1e5c0\"}, \"0a742914\": {\"frequency\": 28743, \"value\": \"0a742914\"}, \"a780d025\": {\"frequency\": 531, \"value\": \"a780d025\"}, \"28616ed9\": {\"frequency\": 1917, \"value\": \"28616ed9\"}, \"424f0ecf\": {\"frequency\": 1087, \"value\": \"424f0ecf\"}, \"7480e371\": {\"frequency\": 610, \"value\": \"7480e371\"}, \"23d99ea0\": {\"frequency\": 1074, \"value\": \"23d99ea0\"}, \"6f1058d5\": {\"frequency\": 956, \"value\": \"6f1058d5\"}, \"cffc1324\": {\"frequency\": 2212, \"value\": \"cffc1324\"}, \"96e44b4b\": {\"frequency\": 458, \"value\": \"96e44b4b\"}, \"7443a906\": {\"frequency\": 3872, \"value\": \"7443a906\"}, \"c1fcc9a1\": {\"frequency\": 3700, \"value\": \"c1fcc9a1\"}, \"7d50a826\": {\"frequency\": 553, \"value\": \"7d50a826\"}, \"1a5c1d83\": {\"frequency\": 2766, \"value\": \"1a5c1d83\"}, \"b7e9786d\": {\"frequency\": 23566, \"value\": \"b7e9786d\"}, \"74fb2abe\": {\"frequency\": 1851, \"value\": \"74fb2abe\"}, \"cf3a1767\": {\"frequency\": 2112, \"value\": \"cf3a1767\"}, \"10a74e5b\": {\"frequency\": 422, \"value\": \"10a74e5b\"}, \"b6b3c39d\": {\"frequency\": 1274, \"value\": \"b6b3c39d\"}, \"a1372924\": {\"frequency\": 588, \"value\": \"a1372924\"}, \"325dbe14\": {\"frequency\": 1333, \"value\": \"325dbe14\"}, \"3dc2d6de\": {\"frequency\": 1031, \"value\": \"3dc2d6de\"}, \"89a490f5\": {\"frequency\": 10420, \"value\": \"89a490f5\"}, \"9d5dba0f\": {\"frequency\": 1324, \"value\": \"9d5dba0f\"}, \"6256f5b4\": {\"frequency\": 30277, \"value\": \"6256f5b4\"}, \"d7f3460b\": {\"frequency\": 1054, \"value\": \"d7f3460b\"}, \"791b5571\": {\"frequency\": 5021, \"value\": \"791b5571\"}, \"54e6fb06\": {\"frequency\": 2082, \"value\": \"54e6fb06\"}, \"be9c03af\": {\"frequency\": 1129, \"value\": \"be9c03af\"}, \"fb5257c2\": {\"frequency\": 902, \"value\": \"fb5257c2\"}, \"d6137915\": {\"frequency\": 23673, \"value\": \"d6137915\"}, \"395fa97c\": {\"frequency\": 3541, \"value\": \"395fa97c\"}, \"ff61c6a9\": {\"frequency\": 468, \"value\": \"ff61c6a9\"}, \"ceea3181\": {\"frequency\": 3274, \"value\": \"ceea3181\"}, \"31c7d7ab\": {\"frequency\": 458, \"value\": \"31c7d7ab\"}, \"2092875a\": {\"frequency\": 988, \"value\": \"2092875a\"}, \"da79c793\": {\"frequency\": 934, \"value\": \"da79c793\"}, \"b15e894b\": {\"frequency\": 653, \"value\": \"b15e894b\"}, \"ad61648c\": {\"frequency\": 432, \"value\": \"ad61648c\"}, \"8342c1ae\": {\"frequency\": 581, \"value\": \"8342c1ae\"}, \"7294ea0f\": {\"frequency\": 10016, \"value\": \"7294ea0f\"}, \"801dfefb\": {\"frequency\": 3275, \"value\": \"801dfefb\"}, \"38217daf\": {\"frequency\": 4816, \"value\": \"38217daf\"}, \"4b0f0061\": {\"frequency\": 2360, \"value\": \"4b0f0061\"}, \"e3edd4b8\": {\"frequency\": 1237, \"value\": \"e3edd4b8\"}, \"9aef3962\": {\"frequency\": 1277, \"value\": \"9aef3962\"}, \"f291742b\": {\"frequency\": 846, \"value\": \"f291742b\"}, \"3dd5f4e7\": {\"frequency\": 573, \"value\": \"3dd5f4e7\"}, \"e7eebe29\": {\"frequency\": 984, \"value\": \"e7eebe29\"}, \"82b03dda\": {\"frequency\": 726, \"value\": \"82b03dda\"}, \"e7777bfa\": {\"frequency\": 985, \"value\": \"e7777bfa\"}, \"97c9ac6a\": {\"frequency\": 947, \"value\": \"97c9ac6a\"}, \"78b4322c\": {\"frequency\": 857, \"value\": \"78b4322c\"}, \"5bcf81a2\": {\"frequency\": 6865, \"value\": \"5bcf81a2\"}, \"80c7456b\": {\"frequency\": 461, \"value\": \"80c7456b\"}, \"cc1b7a47\": {\"frequency\": 953, \"value\": \"cc1b7a47\"}, \"dc1e8b06\": {\"frequency\": 1036, \"value\": \"dc1e8b06\"}, \"48c42b43\": {\"frequency\": 1317, \"value\": \"48c42b43\"}, \"6399eda6\": {\"frequency\": 39319, \"value\": \"6399eda6\"}, \"9b971c93\": {\"frequency\": 6477, \"value\": \"9b971c93\"}, \"e030b8dc\": {\"frequency\": 2176, \"value\": \"e030b8dc\"}, \"5ee41ff2\": {\"frequency\": 43236, \"value\": \"5ee41ff2\"}, \"c74e86fb\": {\"frequency\": 1731, \"value\": \"c74e86fb\"}, \"9e8e8d09\": {\"frequency\": 6236, \"value\": \"9e8e8d09\"}, \"72a56356\": {\"frequency\": 1083, \"value\": \"72a56356\"}}, \"size\": 4122995}, \"C20\": {\"complete\": true, \"numeric\": false, \"num_unique\": 168, \"num_undefined\": 0, \"progress\": 1.0, \"frequent_items\": {\"100181\": {\"frequency\": 31052, \"value\": \"100181\"}, \"100074\": {\"frequency\": 55846, \"value\": \"100074\"}, \"100075\": {\"frequency\": 142146, \"value\": \"100075\"}, \"100076\": {\"frequency\": 34574, \"value\": \"100076\"}, \"100077\": {\"frequency\": 144268, \"value\": \"100077\"}, \"100070\": {\"frequency\": 1708, \"value\": \"100070\"}, \"100202\": {\"frequency\": 2254, \"value\": \"100202\"}, \"100072\": {\"frequency\": 2413, \"value\": \"100072\"}, \"100200\": {\"frequency\": 4016, \"value\": \"100200\"}, \"100079\": {\"frequency\": 48247, \"value\": \"100079\"}, \"100166\": {\"frequency\": 1922, \"value\": \"100166\"}, \"100165\": {\"frequency\": 575, \"value\": \"100165\"}, \"100162\": {\"frequency\": 23807, \"value\": \"100162\"}, \"100160\": {\"frequency\": 50680, \"value\": \"100160\"}, \"100161\": {\"frequency\": 1890, \"value\": \"100161\"}, \"100225\": {\"frequency\": 745, \"value\": \"100225\"}, \"100063\": {\"frequency\": 1491, \"value\": \"100063\"}, \"100062\": {\"frequency\": 2491, \"value\": \"100062\"}, \"100061\": {\"frequency\": 3004, \"value\": \"100061\"}, \"100060\": {\"frequency\": 5808, \"value\": \"100060\"}, \"100065\": {\"frequency\": 2513, \"value\": \"100065\"}, \"100064\": {\"frequency\": 441, \"value\": \"100064\"}, \"100221\": {\"frequency\": 7740, \"value\": \"100221\"}, \"100068\": {\"frequency\": 1412, \"value\": \"100068\"}, \"100057\": {\"frequency\": 4998, \"value\": \"100057\"}, \"-1\": {\"frequency\": 2097987, \"value\": \"-1\"}, \"100176\": {\"frequency\": 51852, \"value\": \"100176\"}, \"100171\": {\"frequency\": 3828, \"value\": \"100171\"}, \"100170\": {\"frequency\": 2136, \"value\": \"100170\"}, \"100173\": {\"frequency\": 9396, \"value\": \"100173\"}, \"100172\": {\"frequency\": 1306, \"value\": \"100172\"}, \"100096\": {\"frequency\": 1058, \"value\": \"100096\"}, \"100094\": {\"frequency\": 10975, \"value\": \"100094\"}, \"100095\": {\"frequency\": 419, \"value\": \"100095\"}, \"100093\": {\"frequency\": 973, \"value\": \"100093\"}, \"100091\": {\"frequency\": 432, \"value\": \"100091\"}, \"100148\": {\"frequency\": 130378, \"value\": \"100148\"}, \"100149\": {\"frequency\": 5202, \"value\": \"100149\"}, \"100012\": {\"frequency\": 1476, \"value\": \"100012\"}, \"100013\": {\"frequency\": 10366, \"value\": \"100013\"}, \"100141\": {\"frequency\": 3250, \"value\": \"100141\"}, \"100143\": {\"frequency\": 686, \"value\": \"100143\"}, \"100144\": {\"frequency\": 3396, \"value\": \"100144\"}, \"100019\": {\"frequency\": 4029, \"value\": \"100019\"}, \"100205\": {\"frequency\": 542, \"value\": \"100205\"}, \"100071\": {\"frequency\": 454, \"value\": \"100071\"}, \"100156\": {\"frequency\": 72932, \"value\": \"100156\"}, \"100155\": {\"frequency\": 3707, \"value\": \"100155\"}, \"100088\": {\"frequency\": 5611, \"value\": \"100088\"}, \"100151\": {\"frequency\": 20751, \"value\": \"100151\"}, \"100150\": {\"frequency\": 1864, \"value\": \"100150\"}, \"100084\": {\"frequency\": 261753, \"value\": \"100084\"}, \"100087\": {\"frequency\": 2693, \"value\": \"100087\"}, \"100086\": {\"frequency\": 1942, \"value\": \"100086\"}, \"100081\": {\"frequency\": 106422, \"value\": \"100081\"}, \"100083\": {\"frequency\": 117435, \"value\": \"100083\"}, \"100022\": {\"frequency\": 1690, \"value\": \"100022\"}, \"100005\": {\"frequency\": 3407, \"value\": \"100005\"}, \"100004\": {\"frequency\": 2355, \"value\": \"100004\"}, \"100001\": {\"frequency\": 542, \"value\": \"100001\"}, \"100000\": {\"frequency\": 15388, \"value\": \"100000\"}, \"100003\": {\"frequency\": 5827, \"value\": \"100003\"}, \"100241\": {\"frequency\": 3279, \"value\": \"100241\"}, \"100123\": {\"frequency\": 787, \"value\": \"100123\"}, \"100248\": {\"frequency\": 1797, \"value\": \"100248\"}, \"100126\": {\"frequency\": 994, \"value\": \"100126\"}, \"100124\": {\"frequency\": 537, \"value\": \"100124\"}, \"100128\": {\"frequency\": 7521, \"value\": \"100128\"}, \"100244\": {\"frequency\": 413, \"value\": \"100244\"}, \"100031\": {\"frequency\": 35033, \"value\": \"100031\"}, \"100032\": {\"frequency\": 1378, \"value\": \"100032\"}, \"100033\": {\"frequency\": 813, \"value\": \"100033\"}, \"100034\": {\"frequency\": 13811, \"value\": \"100034\"}, \"100037\": {\"frequency\": 1066, \"value\": \"100037\"}, \"100039\": {\"frequency\": 1386, \"value\": \"100039\"}, \"100152\": {\"frequency\": 606, \"value\": \"100152\"}, \"100131\": {\"frequency\": 8465, \"value\": \"100131\"}, \"100130\": {\"frequency\": 11496, \"value\": \"100130\"}, \"100133\": {\"frequency\": 661, \"value\": \"100133\"}, \"100135\": {\"frequency\": 956, \"value\": \"100135\"}, \"100139\": {\"frequency\": 1137, \"value\": \"100139\"}, \"100029\": {\"frequency\": 946, \"value\": \"100029\"}, \"100028\": {\"frequency\": 6062, \"value\": \"100028\"}, \"100026\": {\"frequency\": 802, \"value\": \"100026\"}, \"100025\": {\"frequency\": 1897, \"value\": \"100025\"}, \"100233\": {\"frequency\": 22647, \"value\": \"100233\"}, \"100021\": {\"frequency\": 3746, \"value\": \"100021\"}, \"100020\": {\"frequency\": 7601, \"value\": \"100020\"}, \"100193\": {\"frequency\": 15936, \"value\": \"100193\"}, \"100048\": {\"frequency\": 7029, \"value\": \"100048\"}, \"100105\": {\"frequency\": 16921, \"value\": \"100105\"}, \"100106\": {\"frequency\": 4469, \"value\": \"100106\"}, \"100107\": {\"frequency\": 454, \"value\": \"100107\"}, \"100101\": {\"frequency\": 3746, \"value\": \"100101\"}, \"100103\": {\"frequency\": 4555, \"value\": \"100103\"}, \"100185\": {\"frequency\": 2198, \"value\": \"100185\"}, \"100058\": {\"frequency\": 1403, \"value\": \"100058\"}, \"100059\": {\"frequency\": 2690, \"value\": \"100059\"}, \"100228\": {\"frequency\": 36468, \"value\": \"100228\"}, \"100182\": {\"frequency\": 30697, \"value\": \"100182\"}, \"100183\": {\"frequency\": 5170, \"value\": \"100183\"}, \"100052\": {\"frequency\": 1768, \"value\": \"100052\"}, \"100053\": {\"frequency\": 1054, \"value\": \"100053\"}, \"100050\": {\"frequency\": 12430, \"value\": \"100050\"}, \"100051\": {\"frequency\": 581, \"value\": \"100051\"}, \"100188\": {\"frequency\": 19214, \"value\": \"100188\"}, \"100189\": {\"frequency\": 11037, \"value\": \"100189\"}, \"100054\": {\"frequency\": 759, \"value\": \"100054\"}, \"100055\": {\"frequency\": 786, \"value\": \"100055\"}, \"100210\": {\"frequency\": 7382, \"value\": \"100210\"}, \"100212\": {\"frequency\": 804, \"value\": \"100212\"}, \"100119\": {\"frequency\": 19340, \"value\": \"100119\"}, \"100113\": {\"frequency\": 2057, \"value\": \"100113\"}, \"100112\": {\"frequency\": 3232, \"value\": \"100112\"}, \"100111\": {\"frequency\": 174268, \"value\": \"100111\"}, \"100117\": {\"frequency\": 2283, \"value\": \"100117\"}, \"100114\": {\"frequency\": 1942, \"value\": \"100114\"}, \"100049\": {\"frequency\": 1642, \"value\": \"100049\"}, \"100192\": {\"frequency\": 6437, \"value\": \"100192\"}, \"100191\": {\"frequency\": 11978, \"value\": \"100191\"}, \"100190\": {\"frequency\": 5391, \"value\": \"100190\"}, \"100194\": {\"frequency\": 7661, \"value\": \"100194\"}, \"100041\": {\"frequency\": 1144, \"value\": \"100041\"}, \"100040\": {\"frequency\": 618, \"value\": \"100040\"}, \"100199\": {\"frequency\": 4102, \"value\": \"100199\"}, \"100217\": {\"frequency\": 4497, \"value\": \"100217\"}, \"100215\": {\"frequency\": 1624, \"value\": \"100215\"}, \"100046\": {\"frequency\": 4843, \"value\": \"100046\"}}, \"size\": 4122995}, \"C19\": {\"complete\": true, \"numeric\": false, \"num_unique\": 44, \"num_undefined\": 0, \"progress\": 1.0, \"frequent_items\": {\"801\": {\"frequency\": 2306, \"value\": \"801\"}, \"559\": {\"frequency\": 469, \"value\": \"559\"}, \"1327\": {\"frequency\": 32468, \"value\": \"1327\"}, \"551\": {\"frequency\": 7483, \"value\": \"551\"}, \"553\": {\"frequency\": 2689, \"value\": \"553\"}, \"175\": {\"frequency\": 34063, \"value\": \"175\"}, \"1071\": {\"frequency\": 553, \"value\": \"1071\"}, \"171\": {\"frequency\": 79112, \"value\": \"171\"}, \"1711\": {\"frequency\": 16234, \"value\": \"1711\"}, \"1835\": {\"frequency\": 18505, \"value\": \"1835\"}, \"47\": {\"frequency\": 94321, \"value\": \"47\"}, \"43\": {\"frequency\": 24571, \"value\": \"43\"}, \"41\": {\"frequency\": 75494, \"value\": \"41\"}, \"547\": {\"frequency\": 131100, \"value\": \"547\"}, \"423\": {\"frequency\": 2391, \"value\": \"423\"}, \"813\": {\"frequency\": 6612, \"value\": \"813\"}, \"425\": {\"frequency\": 4542, \"value\": \"425\"}, \"427\": {\"frequency\": 25980, \"value\": \"427\"}, \"1315\": {\"frequency\": 2084, \"value\": \"1315\"}, \"679\": {\"frequency\": 49184, \"value\": \"679\"}, \"303\": {\"frequency\": 48130, \"value\": \"303\"}, \"1319\": {\"frequency\": 46084, \"value\": \"1319\"}, \"673\": {\"frequency\": 2423, \"value\": \"673\"}, \"169\": {\"frequency\": 78131, \"value\": \"169\"}, \"167\": {\"frequency\": 300531, \"value\": \"167\"}, \"161\": {\"frequency\": 34184, \"value\": \"161\"}, \"163\": {\"frequency\": 66528, \"value\": \"163\"}, \"39\": {\"frequency\": 654945, \"value\": \"39\"}, \"1063\": {\"frequency\": 90412, \"value\": \"1063\"}, \"943\": {\"frequency\": 3382, \"value\": \"943\"}, \"35\": {\"frequency\": 1707883, \"value\": \"35\"}, \"34\": {\"frequency\": 66046, \"value\": \"34\"}, \"1451\": {\"frequency\": 9704, \"value\": \"1451\"}, \"299\": {\"frequency\": 66469, \"value\": \"299\"}, \"297\": {\"frequency\": 72804, \"value\": \"297\"}, \"687\": {\"frequency\": 174418, \"value\": \"687\"}, \"431\": {\"frequency\": 61978, \"value\": \"431\"}, \"681\": {\"frequency\": 5575, \"value\": \"681\"}, \"683\": {\"frequency\": 562, \"value\": \"683\"}, \"291\": {\"frequency\": 22334, \"value\": \"291\"}}, \"size\": 4122995}, \"site_domain\": {\"complete\": true, \"numeric\": false, \"num_unique\": 3387, \"num_undefined\": 0, \"progress\": 1.0, \"frequent_items\": {\"73123598\": {\"frequency\": 1454, \"value\": \"73123598\"}, \"61eac15d\": {\"frequency\": 3294, \"value\": \"61eac15d\"}, \"a41b5d8b\": {\"frequency\": 433, \"value\": \"a41b5d8b\"}, \"c7ca3108\": {\"frequency\": 20646, \"value\": \"c7ca3108\"}, \"4b23d058\": {\"frequency\": 1170, \"value\": \"4b23d058\"}, \"f436b08f\": {\"frequency\": 921, \"value\": \"f436b08f\"}, \"7256c623\": {\"frequency\": 14905, \"value\": \"7256c623\"}, \"fd13bc73\": {\"frequency\": 5021, \"value\": \"fd13bc73\"}, \"132080af\": {\"frequency\": 725, \"value\": \"132080af\"}, \"968765cd\": {\"frequency\": 39319, \"value\": \"968765cd\"}, \"9166c161\": {\"frequency\": 6360, \"value\": \"9166c161\"}, \"f415c8a8\": {\"frequency\": 8270, \"value\": \"f415c8a8\"}, \"0521e204\": {\"frequency\": 524, \"value\": \"0521e204\"}, \"30518255\": {\"frequency\": 791, \"value\": \"30518255\"}, \"0dde25ec\": {\"frequency\": 31317, \"value\": \"0dde25ec\"}, \"11378a51\": {\"frequency\": 906, \"value\": \"11378a51\"}, \"5c9ae867\": {\"frequency\": 20580, \"value\": \"5c9ae867\"}, \"27e3c518\": {\"frequency\": 40403, \"value\": \"27e3c518\"}, \"98572c79\": {\"frequency\": 157880, \"value\": \"98572c79\"}, \"40b37f4e\": {\"frequency\": 749, \"value\": \"40b37f4e\"}, \"86ae6c2c\": {\"frequency\": 425, \"value\": \"86ae6c2c\"}, \"e3d9ca35\": {\"frequency\": 1048, \"value\": \"e3d9ca35\"}, \"1e0acfb4\": {\"frequency\": 5129, \"value\": \"1e0acfb4\"}, \"15d4aaf5\": {\"frequency\": 668, \"value\": \"15d4aaf5\"}, \"54d920aa\": {\"frequency\": 517, \"value\": \"54d920aa\"}, \"eac4567d\": {\"frequency\": 1035, \"value\": \"eac4567d\"}, \"75f9ddc3\": {\"frequency\": 10824, \"value\": \"75f9ddc3\"}, \"e2a5dc06\": {\"frequency\": 6479, \"value\": \"e2a5dc06\"}, \"b0a0505f\": {\"frequency\": 932, \"value\": \"b0a0505f\"}, \"9d40d8b5\": {\"frequency\": 1036, \"value\": \"9d40d8b5\"}, \"19944fab\": {\"frequency\": 927, \"value\": \"19944fab\"}, \"d262cf1e\": {\"frequency\": 33147, \"value\": \"d262cf1e\"}, \"6eb534a7\": {\"frequency\": 929, \"value\": \"6eb534a7\"}, \"c8223ee3\": {\"frequency\": 4652, \"value\": \"c8223ee3\"}, \"6b59f079\": {\"frequency\": 17330, \"value\": \"6b59f079\"}, \"ce307e01\": {\"frequency\": 10420, \"value\": \"ce307e01\"}, \"a9bba545\": {\"frequency\": 5813, \"value\": \"a9bba545\"}, \"9eaf88fa\": {\"frequency\": 6665, \"value\": \"9eaf88fa\"}, \"2296b5b3\": {\"frequency\": 3815, \"value\": \"2296b5b3\"}, \"7bd4e8cc\": {\"frequency\": 1081, \"value\": \"7bd4e8cc\"}, \"1b32ed33\": {\"frequency\": 5204, \"value\": \"1b32ed33\"}, \"44f61852\": {\"frequency\": 1797, \"value\": \"44f61852\"}, \"1a02dd86\": {\"frequency\": 1010, \"value\": \"1a02dd86\"}, \"5ce330bf\": {\"frequency\": 1477, \"value\": \"5ce330bf\"}, \"91cdcccd\": {\"frequency\": 3077, \"value\": \"91cdcccd\"}, \"786f8ba6\": {\"frequency\": 794, \"value\": \"786f8ba6\"}, \"cf35f82f\": {\"frequency\": 967, \"value\": \"cf35f82f\"}, \"ddde5175\": {\"frequency\": 733, \"value\": \"ddde5175\"}, \"3fb2562b\": {\"frequency\": 432, \"value\": \"3fb2562b\"}, \"f7570339\": {\"frequency\": 1054, \"value\": \"f7570339\"}, \"580e0f90\": {\"frequency\": 626, \"value\": \"580e0f90\"}, \"35dc24d8\": {\"frequency\": 2710, \"value\": \"35dc24d8\"}, \"9690165f\": {\"frequency\": 6162, \"value\": \"9690165f\"}, \"59fdbcde\": {\"frequency\": 523, \"value\": \"59fdbcde\"}, \"5449fde7\": {\"frequency\": 4269, \"value\": \"5449fde7\"}, \"c4e18dd6\": {\"frequency\": 1591932, \"value\": \"c4e18dd6\"}, \"9d3b56b1\": {\"frequency\": 1106, \"value\": \"9d3b56b1\"}, \"7687a86e\": {\"frequency\": 110495, \"value\": \"7687a86e\"}, \"660aeadc\": {\"frequency\": 1154, \"value\": \"660aeadc\"}, \"272c5d9d\": {\"frequency\": 5110, \"value\": \"272c5d9d\"}, \"ddea3334\": {\"frequency\": 1620, \"value\": \"ddea3334\"}, \"7804dea6\": {\"frequency\": 6489, \"value\": \"7804dea6\"}, \"58a89a43\": {\"frequency\": 76879, \"value\": \"58a89a43\"}, \"7195bdd6\": {\"frequency\": 2385, \"value\": \"7195bdd6\"}, \"62fb8f5a\": {\"frequency\": 686, \"value\": \"62fb8f5a\"}, \"0a4015b2\": {\"frequency\": 3916, \"value\": \"0a4015b2\"}, \"f6ebf28e\": {\"frequency\": 2526, \"value\": \"f6ebf28e\"}, \"5c9c05b7\": {\"frequency\": 2558, \"value\": \"5c9c05b7\"}, \"964a3bd1\": {\"frequency\": 1679, \"value\": \"964a3bd1\"}, \"e2b020ce\": {\"frequency\": 457, \"value\": \"e2b020ce\"}, \"28f93029\": {\"frequency\": 30277, \"value\": \"28f93029\"}, \"2e7478b3\": {\"frequency\": 1277, \"value\": \"2e7478b3\"}, \"7482f058\": {\"frequency\": 1851, \"value\": \"7482f058\"}, \"88f7ef6e\": {\"frequency\": 942, \"value\": \"88f7ef6e\"}, \"77c8e77d\": {\"frequency\": 2992, \"value\": \"77c8e77d\"}, \"de0f0f82\": {\"frequency\": 10475, \"value\": \"de0f0f82\"}, \"8a704386\": {\"frequency\": 1087, \"value\": \"8a704386\"}, \"45368af7\": {\"frequency\": 1083, \"value\": \"45368af7\"}, \"a8a81f0e\": {\"frequency\": 2176, \"value\": \"a8a81f0e\"}, \"82ef09a5\": {\"frequency\": 729, \"value\": \"82ef09a5\"}, \"da938783\": {\"frequency\": 609, \"value\": \"da938783\"}, \"945bfb4b\": {\"frequency\": 3392, \"value\": \"945bfb4b\"}, \"98dac0cc\": {\"frequency\": 851, \"value\": \"98dac0cc\"}, \"dffed5f8\": {\"frequency\": 447, \"value\": \"dffed5f8\"}, \"422b8953\": {\"frequency\": 3700, \"value\": \"422b8953\"}, \"a53257d3\": {\"frequency\": 1039, \"value\": \"a53257d3\"}, \"4c26e9ba\": {\"frequency\": 3827, \"value\": \"4c26e9ba\"}, \"ac5abf20\": {\"frequency\": 12407, \"value\": \"ac5abf20\"}, \"a10eb148\": {\"frequency\": 2672, \"value\": \"a10eb148\"}, \"91dd76e0\": {\"frequency\": 2082, \"value\": \"91dd76e0\"}, \"92c9e92d\": {\"frequency\": 1998, \"value\": \"92c9e92d\"}, \"6b560cc1\": {\"frequency\": 9640, \"value\": \"6b560cc1\"}, \"ace5b8fd\": {\"frequency\": 3364, \"value\": \"ace5b8fd\"}, \"c5206c87\": {\"frequency\": 991, \"value\": \"c5206c87\"}, \"98e6755b\": {\"frequency\": 3529, \"value\": \"98e6755b\"}, \"a7870916\": {\"frequency\": 1060, \"value\": \"a7870916\"}, \"5baa6f69\": {\"frequency\": 949, \"value\": \"5baa6f69\"}, \"232edce7\": {\"frequency\": 457, \"value\": \"232edce7\"}, \"9164b420\": {\"frequency\": 1769, \"value\": \"9164b420\"}, \"ac22705c\": {\"frequency\": 2459, \"value\": \"ac22705c\"}, \"7049c6b7\": {\"frequency\": 581, \"value\": \"7049c6b7\"}, \"6159cbd9\": {\"frequency\": 1260, \"value\": \"6159cbd9\"}, \"f47b77d7\": {\"frequency\": 736, \"value\": \"f47b77d7\"}, \"cc962a1f\": {\"frequency\": 10027, \"value\": \"cc962a1f\"}, \"d9e5838f\": {\"frequency\": 674, \"value\": \"d9e5838f\"}, \"7886bac4\": {\"frequency\": 588, \"value\": \"7886bac4\"}, \"2d235ae0\": {\"frequency\": 4810, \"value\": \"2d235ae0\"}, \"61eb5bc4\": {\"frequency\": 11589, \"value\": \"61eb5bc4\"}, \"3bcb0c02\": {\"frequency\": 1917, \"value\": \"3bcb0c02\"}, \"cf5fcee6\": {\"frequency\": 827, \"value\": \"cf5fcee6\"}, \"63b3dcbd\": {\"frequency\": 1699, \"value\": \"63b3dcbd\"}, \"2148062c\": {\"frequency\": 856, \"value\": \"2148062c\"}, \"6dbd48f0\": {\"frequency\": 2609, \"value\": \"6dbd48f0\"}, \"d2f72222\": {\"frequency\": 9446, \"value\": \"d2f72222\"}, \"dae63c6b\": {\"frequency\": 671, \"value\": \"dae63c6b\"}, \"2ec180e5\": {\"frequency\": 470, \"value\": \"2ec180e5\"}, \"6e882918\": {\"frequency\": 8128, \"value\": \"6e882918\"}, \"10989c88\": {\"frequency\": 866, \"value\": \"10989c88\"}, \"9425ad2a\": {\"frequency\": 3273, \"value\": \"9425ad2a\"}, \"aa785047\": {\"frequency\": 757, \"value\": \"aa785047\"}, \"5f04e433\": {\"frequency\": 926, \"value\": \"5f04e433\"}, \"7e091613\": {\"frequency\": 222537, \"value\": \"7e091613\"}, \"1e334bd3\": {\"frequency\": 4648, \"value\": \"1e334bd3\"}, \"3f797953\": {\"frequency\": 3550, \"value\": \"3f797953\"}, \"277e7114\": {\"frequency\": 1271, \"value\": \"277e7114\"}, \"b12b9f85\": {\"frequency\": 23657, \"value\": \"b12b9f85\"}, \"39b3d1ff\": {\"frequency\": 978, \"value\": \"39b3d1ff\"}, \"e16ceb4b\": {\"frequency\": 6665, \"value\": \"e16ceb4b\"}, \"93ab6716\": {\"frequency\": 1123, \"value\": \"93ab6716\"}, \"1da9ba79\": {\"frequency\": 486, \"value\": \"1da9ba79\"}, \"11582ac8\": {\"frequency\": 954, \"value\": \"11582ac8\"}, \"9fb0b77c\": {\"frequency\": 985, \"value\": \"9fb0b77c\"}, \"59140f66\": {\"frequency\": 1336, \"value\": \"59140f66\"}, \"060c1a43\": {\"frequency\": 908, \"value\": \"060c1a43\"}, \"2135cad1\": {\"frequency\": 857, \"value\": \"2135cad1\"}, \"b9c4ab81\": {\"frequency\": 5689, \"value\": \"b9c4ab81\"}, \"9d54950b\": {\"frequency\": 10929, \"value\": \"9d54950b\"}, \"250469f8\": {\"frequency\": 4646, \"value\": \"250469f8\"}, \"d7928cbd\": {\"frequency\": 1026, \"value\": \"d7928cbd\"}, \"5dddf09e\": {\"frequency\": 2805, \"value\": \"5dddf09e\"}, \"0d3cb7be\": {\"frequency\": 4489, \"value\": \"0d3cb7be\"}, \"a17bde68\": {\"frequency\": 14060, \"value\": \"a17bde68\"}, \"bfa24f16\": {\"frequency\": 932, \"value\": \"bfa24f16\"}, \"d47b862d\": {\"frequency\": 1277, \"value\": \"d47b862d\"}, \"9cf7de2f\": {\"frequency\": 2159, \"value\": \"9cf7de2f\"}, \"449497bc\": {\"frequency\": 5232, \"value\": \"449497bc\"}, \"9057b1fe\": {\"frequency\": 458, \"value\": \"9057b1fe\"}, \"eb88a226\": {\"frequency\": 1174, \"value\": \"eb88a226\"}, \"f3ca2e42\": {\"frequency\": 2512, \"value\": \"f3ca2e42\"}, \"3c6ac0d4\": {\"frequency\": 556, \"value\": \"3c6ac0d4\"}, \"6bdbd889\": {\"frequency\": 3986, \"value\": \"6bdbd889\"}, \"5f7e263e\": {\"frequency\": 1205, \"value\": \"5f7e263e\"}, \"fc967dfb\": {\"frequency\": 894, \"value\": \"fc967dfb\"}, \"3fa3aa64\": {\"frequency\": 587, \"value\": \"3fa3aa64\"}, \"510bd839\": {\"frequency\": 28743, \"value\": \"510bd839\"}, \"4789dc42\": {\"frequency\": 573, \"value\": \"4789dc42\"}, \"31eace6b\": {\"frequency\": 497, \"value\": \"31eace6b\"}, \"25cc549c\": {\"frequency\": 1499, \"value\": \"25cc549c\"}, \"d7815791\": {\"frequency\": 562, \"value\": \"d7815791\"}, \"c4cef653\": {\"frequency\": 468, \"value\": \"c4cef653\"}, \"a3024024\": {\"frequency\": 1684, \"value\": \"a3024024\"}, \"c1e9c6cf\": {\"frequency\": 443, \"value\": \"c1e9c6cf\"}, \"6390786d\": {\"frequency\": 1463, \"value\": \"6390786d\"}, \"37cbd557\": {\"frequency\": 486, \"value\": \"37cbd557\"}, \"24f213ee\": {\"frequency\": 448, \"value\": \"24f213ee\"}, \"452bed30\": {\"frequency\": 1642, \"value\": \"452bed30\"}, \"5a3b8f37\": {\"frequency\": 742, \"value\": \"5a3b8f37\"}, \"67cf42d6\": {\"frequency\": 1057, \"value\": \"67cf42d6\"}, \"14878e20\": {\"frequency\": 672, \"value\": \"14878e20\"}, \"d7e2f29b\": {\"frequency\": 2184, \"value\": \"d7e2f29b\"}, \"8025317b\": {\"frequency\": 15438, \"value\": \"8025317b\"}, \"986e2317\": {\"frequency\": 1950, \"value\": \"986e2317\"}, \"10cfed0c\": {\"frequency\": 1794, \"value\": \"10cfed0c\"}, \"400fbb48\": {\"frequency\": 666, \"value\": \"400fbb48\"}, \"948ff336\": {\"frequency\": 674, \"value\": \"948ff336\"}, \"1bae71e0\": {\"frequency\": 1107, \"value\": \"1bae71e0\"}, \"71ed77a0\": {\"frequency\": 960, \"value\": \"71ed77a0\"}, \"7212918d\": {\"frequency\": 2110, \"value\": \"7212918d\"}, \"f3845767\": {\"frequency\": 771944, \"value\": \"f3845767\"}, \"863fa89d\": {\"frequency\": 10106, \"value\": \"863fa89d\"}, \"fba7221d\": {\"frequency\": 1510, \"value\": \"fba7221d\"}, \"d00b8121\": {\"frequency\": 4857, \"value\": \"d00b8121\"}, \"73c4ceaf\": {\"frequency\": 726, \"value\": \"73c4ceaf\"}, \"d733bbc3\": {\"frequency\": 31457, \"value\": \"d733bbc3\"}, \"94142e6d\": {\"frequency\": 652, \"value\": \"94142e6d\"}, \"427daef9\": {\"frequency\": 844, \"value\": \"427daef9\"}, \"776736cc\": {\"frequency\": 565, \"value\": \"776736cc\"}, \"17d996e6\": {\"frequency\": 43533, \"value\": \"17d996e6\"}, \"db7a8013\": {\"frequency\": 2594, \"value\": \"db7a8013\"}, \"fdfb56e9\": {\"frequency\": 427, \"value\": \"fdfb56e9\"}, \"08ba7db9\": {\"frequency\": 6517, \"value\": \"08ba7db9\"}, \"3f2f3819\": {\"frequency\": 22459, \"value\": \"3f2f3819\"}, \"b5188ae6\": {\"frequency\": 3885, \"value\": \"b5188ae6\"}, \"c4342784\": {\"frequency\": 24938, \"value\": \"c4342784\"}, \"bc63ea42\": {\"frequency\": 2212, \"value\": \"bc63ea42\"}, \"9f448720\": {\"frequency\": 3043, \"value\": \"9f448720\"}, \"2c5a2165\": {\"frequency\": 1211, \"value\": \"2c5a2165\"}, \"373cce89\": {\"frequency\": 1333, \"value\": \"373cce89\"}, \"7d05db75\": {\"frequency\": 3916, \"value\": \"7d05db75\"}, \"6a0654fe\": {\"frequency\": 1472, \"value\": \"6a0654fe\"}, \"28b9656a\": {\"frequency\": 1032, \"value\": \"28b9656a\"}, \"98acf46c\": {\"frequency\": 4100, \"value\": \"98acf46c\"}, \"3720f0f5\": {\"frequency\": 1641, \"value\": \"3720f0f5\"}, \"f43e535b\": {\"frequency\": 800, \"value\": \"f43e535b\"}, \"0150cc3e\": {\"frequency\": 535, \"value\": \"0150cc3e\"}, \"9b851bd8\": {\"frequency\": 3574, \"value\": \"9b851bd8\"}, \"51d8d3b4\": {\"frequency\": 831, \"value\": \"51d8d3b4\"}, \"38b1b595\": {\"frequency\": 2390, \"value\": \"38b1b595\"}, \"7b1e349b\": {\"frequency\": 1662, \"value\": \"7b1e349b\"}, \"1cb2f518\": {\"frequency\": 670, \"value\": \"1cb2f518\"}, \"a434fa42\": {\"frequency\": 15238, \"value\": \"a434fa42\"}, \"8a429b45\": {\"frequency\": 2088, \"value\": \"8a429b45\"}, \"64778742\": {\"frequency\": 1404, \"value\": \"64778742\"}, \"16a36ef3\": {\"frequency\": 77822, \"value\": \"16a36ef3\"}, \"c1aa3c04\": {\"frequency\": 8947, \"value\": \"c1aa3c04\"}, \"db11867b\": {\"frequency\": 682, \"value\": \"db11867b\"}, \"9b421927\": {\"frequency\": 3275, \"value\": \"9b421927\"}, \"cf1f06c3\": {\"frequency\": 2878, \"value\": \"cf1f06c3\"}, \"bb1ef334\": {\"frequency\": 23673, \"value\": \"bb1ef334\"}, \"fbac301e\": {\"frequency\": 603, \"value\": \"fbac301e\"}, \"5b626596\": {\"frequency\": 21593, \"value\": \"5b626596\"}, \"82a51fc9\": {\"frequency\": 1082, \"value\": \"82a51fc9\"}, \"759d1c56\": {\"frequency\": 4840, \"value\": \"759d1c56\"}, \"6225315b\": {\"frequency\": 3517, \"value\": \"6225315b\"}, \"bea33b9a\": {\"frequency\": 1423, \"value\": \"bea33b9a\"}, \"c7dcd9d1\": {\"frequency\": 7323, \"value\": \"c7dcd9d1\"}, \"9449e4e4\": {\"frequency\": 810, \"value\": \"9449e4e4\"}, \"72dde731\": {\"frequency\": 625, \"value\": \"72dde731\"}, \"1a70ff61\": {\"frequency\": 416, \"value\": \"1a70ff61\"}, \"cd37b321\": {\"frequency\": 978, \"value\": \"cd37b321\"}, \"c607ae89\": {\"frequency\": 536, \"value\": \"c607ae89\"}, \"d36a8247\": {\"frequency\": 902, \"value\": \"d36a8247\"}, \"b3e07718\": {\"frequency\": 1124, \"value\": \"b3e07718\"}, \"2b4e8505\": {\"frequency\": 444, \"value\": \"2b4e8505\"}, \"7e1e7bdf\": {\"frequency\": 501, \"value\": \"7e1e7bdf\"}, \"27f3bb88\": {\"frequency\": 557, \"value\": \"27f3bb88\"}, \"9179db90\": {\"frequency\": 664, \"value\": \"9179db90\"}, \"b4598159\": {\"frequency\": 4938, \"value\": \"b4598159\"}, \"08facbad\": {\"frequency\": 4671, \"value\": \"08facbad\"}, \"7f1924b7\": {\"frequency\": 596, \"value\": \"7f1924b7\"}, \"bfa96bef\": {\"frequency\": 412, \"value\": \"bfa96bef\"}}, \"size\": 4122995}, \"device_type\": {\"complete\": true, \"numeric\": false, \"num_unique\": 4, \"num_undefined\": 0, \"progress\": 1.0, \"frequent_items\": {\"1\": {\"frequency\": 3835370, \"value\": \"1\"}, \"0\": {\"frequency\": 192309, \"value\": \"0\"}, \"5\": {\"frequency\": 12499, \"value\": \"5\"}, \"4\": {\"frequency\": 82817, \"value\": \"4\"}}, \"size\": 4122995}, \"id\": {\"complete\": true, \"numeric\": false, \"num_unique\": 4133817, \"num_undefined\": 0, \"progress\": 1.0, \"frequent_items\": {}, \"size\": 4122995}, \"C17\": {\"complete\": true, \"numeric\": false, \"num_unique\": 193, \"num_undefined\": 0, \"progress\": 1.0, \"frequent_items\": {\"768\": {\"frequency\": 1855, \"value\": \"768\"}, \"1780\": {\"frequency\": 16234, \"value\": \"1780\"}, \"761\": {\"frequency\": 26476, \"value\": \"761\"}, \"1784\": {\"frequency\": 4264, \"value\": \"1784\"}, \"2323\": {\"frequency\": 18176, \"value\": \"2323\"}, \"2325\": {\"frequency\": 2306, \"value\": \"2325\"}, \"1835\": {\"frequency\": 2983, \"value\": \"1835\"}, \"2487\": {\"frequency\": 114386, \"value\": \"2487\"}, \"2485\": {\"frequency\": 2160, \"value\": \"2485\"}, \"2482\": {\"frequency\": 1337, \"value\": \"2482\"}, \"2480\": {\"frequency\": 123706, \"value\": \"2480\"}, \"2481\": {\"frequency\": 11438, \"value\": \"2481\"}, \"2154\": {\"frequency\": 644, \"value\": \"2154\"}, \"547\": {\"frequency\": 5791, \"value\": \"547\"}, \"544\": {\"frequency\": 5353, \"value\": \"544\"}, \"2153\": {\"frequency\": 576, \"value\": \"2153\"}, \"549\": {\"frequency\": 2149, \"value\": \"549\"}, \"2158\": {\"frequency\": 22332, \"value\": \"2158\"}, \"2242\": {\"frequency\": 694, \"value\": \"2242\"}, \"2467\": {\"frequency\": 1261, \"value\": \"2467\"}, \"1092\": {\"frequency\": 18505, \"value\": \"1092\"}, \"1955\": {\"frequency\": 13556, \"value\": \"1955\"}, \"122\": {\"frequency\": 31330, \"value\": \"122\"}, \"423\": {\"frequency\": 95379, \"value\": \"423\"}, \"2498\": {\"frequency\": 34083, \"value\": \"2498\"}, \"2502\": {\"frequency\": 439092, \"value\": \"2502\"}, \"2493\": {\"frequency\": 120786, \"value\": \"2493\"}, \"2492\": {\"frequency\": 84832, \"value\": \"2492\"}, \"2312\": {\"frequency\": 416, \"value\": \"2312\"}, \"2494\": {\"frequency\": 37374, \"value\": \"2494\"}, \"2497\": {\"frequency\": 22597, \"value\": \"2497\"}, \"2496\": {\"frequency\": 54514, \"value\": \"2496\"}, \"2394\": {\"frequency\": 1202, \"value\": \"2394\"}, \"1698\": {\"frequency\": 413, \"value\": \"1698\"}, \"2060\": {\"frequency\": 18582, \"value\": \"2060\"}, \"2418\": {\"frequency\": 2053, \"value\": \"2418\"}, \"827\": {\"frequency\": 553, \"value\": \"827\"}, \"2253\": {\"frequency\": 39862, \"value\": \"2253\"}, \"2476\": {\"frequency\": 3764, \"value\": \"2476\"}, \"2471\": {\"frequency\": 1755, \"value\": \"2471\"}, \"2495\": {\"frequency\": 44317, \"value\": \"2495\"}, \"196\": {\"frequency\": 4869, \"value\": \"196\"}, \"2478\": {\"frequency\": 13859, \"value\": \"2478\"}, \"1921\": {\"frequency\": 6486, \"value\": \"1921\"}, \"1926\": {\"frequency\": 3480, \"value\": \"1926\"}, \"112\": {\"frequency\": 14754, \"value\": \"112\"}, \"2303\": {\"frequency\": 2610, \"value\": \"2303\"}, \"2307\": {\"frequency\": 5172, \"value\": \"2307\"}, \"2306\": {\"frequency\": 1110, \"value\": \"2306\"}, \"2263\": {\"frequency\": 1275, \"value\": \"2263\"}, \"1401\": {\"frequency\": 1217, \"value\": \"1401\"}, \"1528\": {\"frequency\": 1274, \"value\": \"1528\"}, \"2264\": {\"frequency\": 12327, \"value\": \"2264\"}, \"2443\": {\"frequency\": 6301, \"value\": \"2443\"}, \"2441\": {\"frequency\": 2199, \"value\": \"2441\"}, \"2446\": {\"frequency\": 34385, \"value\": \"2446\"}, \"2281\": {\"frequency\": 55862, \"value\": \"2281\"}, \"2282\": {\"frequency\": 23728, \"value\": \"2282\"}, \"2283\": {\"frequency\": 17182, \"value\": \"2283\"}, \"2284\": {\"frequency\": 499, \"value\": \"2284\"}, \"2285\": {\"frequency\": 1805, \"value\": \"2285\"}, \"2286\": {\"frequency\": 5710, \"value\": \"2286\"}, \"2449\": {\"frequency\": 8841, \"value\": \"2449\"}, \"1934\": {\"frequency\": 7150, \"value\": \"1934\"}, \"901\": {\"frequency\": 2084, \"value\": \"901\"}, \"906\": {\"frequency\": 3133, \"value\": \"906\"}, \"2043\": {\"frequency\": 25495, \"value\": \"2043\"}, \"2489\": {\"frequency\": 16714, \"value\": \"2489\"}, \"1722\": {\"frequency\": 447409, \"value\": \"1722\"}, \"2278\": {\"frequency\": 535, \"value\": \"2278\"}, \"2374\": {\"frequency\": 61999, \"value\": \"2374\"}, \"1248\": {\"frequency\": 17504, \"value\": \"1248\"}, \"2161\": {\"frequency\": 64988, \"value\": \"2161\"}, \"2371\": {\"frequency\": 7483, \"value\": \"2371\"}, \"2372\": {\"frequency\": 6612, \"value\": \"2372\"}, \"2162\": {\"frequency\": 21285, \"value\": \"2162\"}, \"2455\": {\"frequency\": 435, \"value\": \"2455\"}, \"2292\": {\"frequency\": 469, \"value\": \"2292\"}, \"571\": {\"frequency\": 11671, \"value\": \"571\"}, \"576\": {\"frequency\": 31278, \"value\": \"576\"}, \"2295\": {\"frequency\": 20309, \"value\": \"2295\"}, \"1872\": {\"frequency\": 26006, \"value\": \"1872\"}, \"1873\": {\"frequency\": 28079, \"value\": \"1873\"}, \"178\": {\"frequency\": 32468, \"value\": \"178\"}, \"2201\": {\"frequency\": 292994, \"value\": \"2201\"}, \"1637\": {\"frequency\": 4574, \"value\": \"1637\"}, \"2428\": {\"frequency\": 648, \"value\": \"2428\"}, \"2420\": {\"frequency\": 26269, \"value\": \"2420\"}, \"2424\": {\"frequency\": 8349, \"value\": \"2424\"}, \"2427\": {\"frequency\": 658, \"value\": \"2427\"}, \"1863\": {\"frequency\": 31626, \"value\": \"1863\"}, \"2271\": {\"frequency\": 17835, \"value\": \"2271\"}, \"2270\": {\"frequency\": 562, \"value\": \"2270\"}, \"1991\": {\"frequency\": 6173, \"value\": \"1991\"}, \"1993\": {\"frequency\": 90322, \"value\": \"1993\"}, \"1994\": {\"frequency\": 63675, \"value\": \"1994\"}, \"1996\": {\"frequency\": 4311, \"value\": \"1996\"}, \"2083\": {\"frequency\": 6089, \"value\": \"2083\"}, \"2351\": {\"frequency\": 9837, \"value\": \"2351\"}, \"1740\": {\"frequency\": 3382, \"value\": \"1740\"}, \"1741\": {\"frequency\": 6519, \"value\": \"1741\"}, \"2512\": {\"frequency\": 2836, \"value\": \"2512\"}, \"2513\": {\"frequency\": 48398, \"value\": \"2513\"}, \"153\": {\"frequency\": 3399, \"value\": \"153\"}, \"2434\": {\"frequency\": 9183, \"value\": \"2434\"}, \"1899\": {\"frequency\": 58995, \"value\": \"1899\"}, \"1895\": {\"frequency\": 5575, \"value\": \"1895\"}, \"2229\": {\"frequency\": 34986, \"value\": \"2229\"}, \"2227\": {\"frequency\": 150443, \"value\": \"2227\"}, \"2225\": {\"frequency\": 2162, \"value\": \"2225\"}, \"1960\": {\"frequency\": 4222, \"value\": \"1960\"}, \"2348\": {\"frequency\": 7743, \"value\": \"2348\"}, \"1447\": {\"frequency\": 3988, \"value\": \"1447\"}, \"2036\": {\"frequency\": 22071, \"value\": \"2036\"}, \"2509\": {\"frequency\": 2689, \"value\": \"2509\"}, \"2508\": {\"frequency\": 1529, \"value\": \"2508\"}, \"2505\": {\"frequency\": 50514, \"value\": \"2505\"}, \"2504\": {\"frequency\": 70974, \"value\": \"2504\"}, \"2503\": {\"frequency\": 1910, \"value\": \"2503\"}, \"1752\": {\"frequency\": 4129, \"value\": \"1752\"}, \"2039\": {\"frequency\": 24009, \"value\": \"2039\"}, \"2500\": {\"frequency\": 65996, \"value\": \"2500\"}, \"898\": {\"frequency\": 2981, \"value\": \"898\"}, \"613\": {\"frequency\": 16713, \"value\": \"613\"}, \"1272\": {\"frequency\": 724, \"value\": \"1272\"}, \"2260\": {\"frequency\": 36521, \"value\": \"2260\"}, \"1887\": {\"frequency\": 15783, \"value\": \"1887\"}, \"1884\": {\"frequency\": 539, \"value\": \"1884\"}, \"1882\": {\"frequency\": 7512, \"value\": \"1882\"}, \"2331\": {\"frequency\": 11940, \"value\": \"2331\"}, \"2333\": {\"frequency\": 71794, \"value\": \"2333\"}, \"1800\": {\"frequency\": 178280, \"value\": \"1800\"}, \"2338\": {\"frequency\": 58320, \"value\": \"2338\"}, \"2339\": {\"frequency\": 469, \"value\": \"2339\"}, \"1974\": {\"frequency\": 7063, \"value\": \"1974\"}, \"1973\": {\"frequency\": 20695, \"value\": \"1973\"}, \"2181\": {\"frequency\": 6313, \"value\": \"2181\"}, \"1769\": {\"frequency\": 2423, \"value\": \"1769\"}, \"1965\": {\"frequency\": 2349, \"value\": \"1965\"}, \"479\": {\"frequency\": 13498, \"value\": \"479\"}, \"572\": {\"frequency\": 26703, \"value\": \"572\"}}, \"size\": 4122995}, \"click\": {\"std\": 0.37927976284244536, \"complete\": true, \"min\": 0.0, \"max\": 1.0, \"quantile\": [0.0, 0.0, 0.0, 0.0, 0.0, 0.0, 0.0, 0.0, 0.0, 0.0, 0.0, 0.0, 0.0, 0.0, 0.0, 0.0, 0.0, 0.0, 0.0, 0.0, 0.0, 0.0, 0.0, 0.0, 0.0, 0.0, 0.0, 0.0, 0.0, 0.0, 0.0, 0.0, 0.0, 0.0, 0.0, 0.0, 0.0, 0.0, 0.0, 0.0, 0.0, 0.0, 0.0, 0.0, 0.0, 0.0, 0.0, 0.0, 0.0, 0.0, 0.0, 0.0, 0.0, 0.0, 0.0, 0.0, 0.0, 0.0, 0.0, 0.0, 0.0, 0.0, 0.0, 0.0, 0.0, 0.0, 0.0, 0.0, 0.0, 0.0, 0.0, 0.0, 0.0, 0.0, 0.0, 0.0, 0.0, 0.0, 0.0, 0.0, 0.0, 0.0, 0.0, 1.0, 1.0, 1.0, 1.0, 1.0, 1.0, 1.0, 1.0, 1.0, 1.0, 1.0, 1.0, 1.0, 1.0, 1.0, 1.0, 1.0, 1.0], \"median\": 0.0, \"numeric\": true, \"num_unique\": 2, \"num_undefined\": 0, \"var\": 0.1438531385018216, \"progress\": 1.0, \"size\": 4122995, \"frequent_items\": {\"0\": {\"frequency\": 3404777, \"value\": 0}, \"1\": {\"frequency\": 718218, \"value\": 1}}, \"mean\": 0.17419812539185986}, \"device_ip\": {\"complete\": true, \"numeric\": false, \"num_unique\": 1076476, \"num_undefined\": 0, \"progress\": 1.0, \"frequent_items\": {\"2cf889be\": {\"frequency\": 776, \"value\": \"2cf889be\"}, \"120f5560\": {\"frequency\": 848, \"value\": \"120f5560\"}, \"9b13a699\": {\"frequency\": 2092, \"value\": \"9b13a699\"}, \"565a73aa\": {\"frequency\": 849, \"value\": \"565a73aa\"}, \"d1536ac6\": {\"frequency\": 444, \"value\": \"d1536ac6\"}, \"ca4309e7\": {\"frequency\": 761, \"value\": \"ca4309e7\"}, \"44c4d2f3\": {\"frequency\": 571, \"value\": \"44c4d2f3\"}, \"4cf55065\": {\"frequency\": 705, \"value\": \"4cf55065\"}, \"c9263976\": {\"frequency\": 489, \"value\": \"c9263976\"}, \"0d4409c2\": {\"frequency\": 364, \"value\": \"0d4409c2\"}, \"8342c975\": {\"frequency\": 656, \"value\": \"8342c975\"}, \"94112c86\": {\"frequency\": 443, \"value\": \"94112c86\"}, \"4a8bcdde\": {\"frequency\": 452, \"value\": \"4a8bcdde\"}, \"862394f0\": {\"frequency\": 494, \"value\": \"862394f0\"}, \"211f96b8\": {\"frequency\": 659, \"value\": \"211f96b8\"}, \"699f69bd\": {\"frequency\": 702, \"value\": \"699f69bd\"}, \"9aaa6f78\": {\"frequency\": 1004, \"value\": \"9aaa6f78\"}, \"a4afe726\": {\"frequency\": 532, \"value\": \"a4afe726\"}, \"a738965c\": {\"frequency\": 403, \"value\": \"a738965c\"}, \"07875ea4\": {\"frequency\": 3261, \"value\": \"07875ea4\"}, \"a89031c5\": {\"frequency\": 524, \"value\": \"a89031c5\"}, \"b2a0f2da\": {\"frequency\": 311, \"value\": \"b2a0f2da\"}, \"dff947da\": {\"frequency\": 2063, \"value\": \"dff947da\"}, \"7357d5f1\": {\"frequency\": 878, \"value\": \"7357d5f1\"}, \"0878a4a5\": {\"frequency\": 609, \"value\": \"0878a4a5\"}, \"2901e8ff\": {\"frequency\": 434, \"value\": \"2901e8ff\"}, \"346295ba\": {\"frequency\": 591, \"value\": \"346295ba\"}, \"12682c00\": {\"frequency\": 471, \"value\": \"12682c00\"}, \"2bb4af67\": {\"frequency\": 2156, \"value\": \"2bb4af67\"}, \"4ddd2e91\": {\"frequency\": 754, \"value\": \"4ddd2e91\"}, \"af9205f9\": {\"frequency\": 3365, \"value\": \"af9205f9\"}, \"bd7006aa\": {\"frequency\": 1170, \"value\": \"bd7006aa\"}, \"e89ed3e2\": {\"frequency\": 614, \"value\": \"e89ed3e2\"}, \"658223b4\": {\"frequency\": 1270, \"value\": \"658223b4\"}, \"f8c8df20\": {\"frequency\": 494, \"value\": \"f8c8df20\"}, \"ae7c0b77\": {\"frequency\": 442, \"value\": \"ae7c0b77\"}, \"30d5a6f1\": {\"frequency\": 536, \"value\": \"30d5a6f1\"}, \"76d39aa9\": {\"frequency\": 1122, \"value\": \"76d39aa9\"}, \"93180936\": {\"frequency\": 1293, \"value\": \"93180936\"}, \"34fb439c\": {\"frequency\": 423, \"value\": \"34fb439c\"}, \"6903c6ec\": {\"frequency\": 565, \"value\": \"6903c6ec\"}, \"285aa37d\": {\"frequency\": 3396, \"value\": \"285aa37d\"}, \"fde01da8\": {\"frequency\": 724, \"value\": \"fde01da8\"}, \"4dc28573\": {\"frequency\": 584, \"value\": \"4dc28573\"}, \"31f8e95a\": {\"frequency\": 2817, \"value\": \"31f8e95a\"}, \"ea9edeb5\": {\"frequency\": 900, \"value\": \"ea9edeb5\"}, \"edb1afc9\": {\"frequency\": 584, \"value\": \"edb1afc9\"}, \"268968f1\": {\"frequency\": 598, \"value\": \"268968f1\"}, \"c793a22f\": {\"frequency\": 375, \"value\": \"c793a22f\"}, \"6030d38a\": {\"frequency\": 639, \"value\": \"6030d38a\"}, \"693bff3e\": {\"frequency\": 4434, \"value\": \"693bff3e\"}, \"bf2f7567\": {\"frequency\": 851, \"value\": \"bf2f7567\"}, \"e30e04df\": {\"frequency\": 851, \"value\": \"e30e04df\"}, \"958b1639\": {\"frequency\": 555, \"value\": \"958b1639\"}, \"009a7861\": {\"frequency\": 3342, \"value\": \"009a7861\"}, \"77f11de7\": {\"frequency\": 1045, \"value\": \"77f11de7\"}, \"ec7e53fa\": {\"frequency\": 768, \"value\": \"ec7e53fa\"}, \"bd3ca3b5\": {\"frequency\": 433, \"value\": \"bd3ca3b5\"}, \"9b1fe278\": {\"frequency\": 7197, \"value\": \"9b1fe278\"}, \"804b33b0\": {\"frequency\": 440, \"value\": \"804b33b0\"}, \"b7fcde56\": {\"frequency\": 525, \"value\": \"b7fcde56\"}, \"10dcdfb1\": {\"frequency\": 1257, \"value\": \"10dcdfb1\"}, \"12c3d700\": {\"frequency\": 707, \"value\": \"12c3d700\"}, \"2fc8cc25\": {\"frequency\": 412, \"value\": \"2fc8cc25\"}, \"c41fe74f\": {\"frequency\": 2155, \"value\": \"c41fe74f\"}, \"86038b4c\": {\"frequency\": 795, \"value\": \"86038b4c\"}, \"0fc3ba9b\": {\"frequency\": 377, \"value\": \"0fc3ba9b\"}, \"09b19f16\": {\"frequency\": 884, \"value\": \"09b19f16\"}, \"43cfd1b0\": {\"frequency\": 331, \"value\": \"43cfd1b0\"}, \"57bce7c6\": {\"frequency\": 1131, \"value\": \"57bce7c6\"}, \"478ce7c1\": {\"frequency\": 582, \"value\": \"478ce7c1\"}, \"48f9251a\": {\"frequency\": 461, \"value\": \"48f9251a\"}, \"8f2a29a2\": {\"frequency\": 562, \"value\": \"8f2a29a2\"}, \"b8b5dfc2\": {\"frequency\": 495, \"value\": \"b8b5dfc2\"}, \"a2d72242\": {\"frequency\": 662, \"value\": \"a2d72242\"}, \"d90a7774\": {\"frequency\": 3238, \"value\": \"d90a7774\"}, \"ae504343\": {\"frequency\": 520, \"value\": \"ae504343\"}, \"930ec31d\": {\"frequency\": 3461, \"value\": \"930ec31d\"}, \"32cd5b38\": {\"frequency\": 487, \"value\": \"32cd5b38\"}, \"056ed482\": {\"frequency\": 783, \"value\": \"056ed482\"}, \"327ba18f\": {\"frequency\": 325, \"value\": \"327ba18f\"}, \"8a014cbb\": {\"frequency\": 7254, \"value\": \"8a014cbb\"}, \"dab29f53\": {\"frequency\": 811, \"value\": \"dab29f53\"}, \"e35ad67e\": {\"frequency\": 993, \"value\": \"e35ad67e\"}, \"863f5e19\": {\"frequency\": 554, \"value\": \"863f5e19\"}, \"3b19efaf\": {\"frequency\": 1625, \"value\": \"3b19efaf\"}, \"357608d1\": {\"frequency\": 1087, \"value\": \"357608d1\"}, \"8f30a6ff\": {\"frequency\": 429, \"value\": \"8f30a6ff\"}, \"563fbc3d\": {\"frequency\": 465, \"value\": \"563fbc3d\"}, \"c855f59d\": {\"frequency\": 797, \"value\": \"c855f59d\"}, \"ed20ddc0\": {\"frequency\": 492, \"value\": \"ed20ddc0\"}, \"a1e99bce\": {\"frequency\": 741, \"value\": \"a1e99bce\"}, \"e54c1344\": {\"frequency\": 3258, \"value\": \"e54c1344\"}, \"64b5d105\": {\"frequency\": 584, \"value\": \"64b5d105\"}, \"431b3174\": {\"frequency\": 13688, \"value\": \"431b3174\"}, \"46b1dc9f\": {\"frequency\": 837, \"value\": \"46b1dc9f\"}, \"03b61fb9\": {\"frequency\": 588, \"value\": \"03b61fb9\"}, \"bca8f26d\": {\"frequency\": 3817, \"value\": \"bca8f26d\"}, \"e431a9ea\": {\"frequency\": 504, \"value\": \"e431a9ea\"}, \"91f75b86\": {\"frequency\": 539, \"value\": \"91f75b86\"}, \"6fe78038\": {\"frequency\": 938, \"value\": \"6fe78038\"}, \"03fbfe26\": {\"frequency\": 579, \"value\": \"03fbfe26\"}, \"52e933ed\": {\"frequency\": 2180, \"value\": \"52e933ed\"}, \"2e08e353\": {\"frequency\": 746, \"value\": \"2e08e353\"}, \"048bbe64\": {\"frequency\": 534, \"value\": \"048bbe64\"}, \"fadf993c\": {\"frequency\": 1354, \"value\": \"fadf993c\"}, \"4da034bf\": {\"frequency\": 614, \"value\": \"4da034bf\"}, \"5b905b16\": {\"frequency\": 420, \"value\": \"5b905b16\"}, \"adcb08ec\": {\"frequency\": 1147, \"value\": \"adcb08ec\"}, \"c898d5e8\": {\"frequency\": 340, \"value\": \"c898d5e8\"}, \"78ef3f3d\": {\"frequency\": 554, \"value\": \"78ef3f3d\"}, \"f08ee487\": {\"frequency\": 423, \"value\": \"f08ee487\"}, \"cefc65fa\": {\"frequency\": 829, \"value\": \"cefc65fa\"}, \"23c3ff8b\": {\"frequency\": 479, \"value\": \"23c3ff8b\"}, \"47a733b8\": {\"frequency\": 805, \"value\": \"47a733b8\"}, \"23c4ee35\": {\"frequency\": 324, \"value\": \"23c4ee35\"}, \"c61a9367\": {\"frequency\": 754, \"value\": \"c61a9367\"}, \"e05297ae\": {\"frequency\": 751, \"value\": \"e05297ae\"}, \"f6cd8d52\": {\"frequency\": 689, \"value\": \"f6cd8d52\"}, \"1aea2343\": {\"frequency\": 385, \"value\": \"1aea2343\"}, \"1181182c\": {\"frequency\": 604, \"value\": \"1181182c\"}, \"ad286c9e\": {\"frequency\": 555, \"value\": \"ad286c9e\"}, \"5ed3446c\": {\"frequency\": 587, \"value\": \"5ed3446c\"}, \"8a3a5ca4\": {\"frequency\": 411, \"value\": \"8a3a5ca4\"}, \"d98dea75\": {\"frequency\": 701, \"value\": \"d98dea75\"}, \"9343cb87\": {\"frequency\": 832, \"value\": \"9343cb87\"}, \"ca91ff47\": {\"frequency\": 854, \"value\": \"ca91ff47\"}, \"59ac940d\": {\"frequency\": 1632, \"value\": \"59ac940d\"}, \"1d163c5b\": {\"frequency\": 208, \"value\": \"1d163c5b\"}, \"e20f2e41\": {\"frequency\": 1922, \"value\": \"e20f2e41\"}, \"086ef670\": {\"frequency\": 790, \"value\": \"086ef670\"}, \"7e9b7ebd\": {\"frequency\": 745, \"value\": \"7e9b7ebd\"}, \"52eaacbe\": {\"frequency\": 622, \"value\": \"52eaacbe\"}, \"3c8e0426\": {\"frequency\": 366, \"value\": \"3c8e0426\"}, \"af4a9787\": {\"frequency\": 846, \"value\": \"af4a9787\"}, \"05d9776a\": {\"frequency\": 472, \"value\": \"05d9776a\"}, \"6929d972\": {\"frequency\": 762, \"value\": \"6929d972\"}, \"d74c558a\": {\"frequency\": 609, \"value\": \"d74c558a\"}, \"f46f0a98\": {\"frequency\": 2161, \"value\": \"f46f0a98\"}, \"baf44d2b\": {\"frequency\": 719, \"value\": \"baf44d2b\"}, \"680209c5\": {\"frequency\": 780, \"value\": \"680209c5\"}, \"3e853d66\": {\"frequency\": 406, \"value\": \"3e853d66\"}, \"f7853e5a\": {\"frequency\": 907, \"value\": \"f7853e5a\"}, \"ed54a747\": {\"frequency\": 774, \"value\": \"ed54a747\"}, \"6a86ab34\": {\"frequency\": 757, \"value\": \"6a86ab34\"}, \"e33ba54e\": {\"frequency\": 611, \"value\": \"e33ba54e\"}, \"884297d2\": {\"frequency\": 3096, \"value\": \"884297d2\"}, \"d494f268\": {\"frequency\": 763, \"value\": \"d494f268\"}, \"7d3d14f5\": {\"frequency\": 681, \"value\": \"7d3d14f5\"}, \"2e88cf4e\": {\"frequency\": 426, \"value\": \"2e88cf4e\"}, \"79a1617b\": {\"frequency\": 665, \"value\": \"79a1617b\"}, \"95b2935e\": {\"frequency\": 3159, \"value\": \"95b2935e\"}, \"6a31c752\": {\"frequency\": 620, \"value\": \"6a31c752\"}, \"108db624\": {\"frequency\": 554, \"value\": \"108db624\"}, \"c65caa1a\": {\"frequency\": 619, \"value\": \"c65caa1a\"}, \"a13b87f3\": {\"frequency\": 569, \"value\": \"a13b87f3\"}, \"7ed30f6c\": {\"frequency\": 3662, \"value\": \"7ed30f6c\"}, \"0f58c6ee\": {\"frequency\": 546, \"value\": \"0f58c6ee\"}, \"f0f99058\": {\"frequency\": 1286, \"value\": \"f0f99058\"}, \"ff1c4f79\": {\"frequency\": 3213, \"value\": \"ff1c4f79\"}, \"6394f6f6\": {\"frequency\": 3453, \"value\": \"6394f6f6\"}, \"3208febc\": {\"frequency\": 834, \"value\": \"3208febc\"}, \"80e2134e\": {\"frequency\": 636, \"value\": \"80e2134e\"}, \"49ce30e5\": {\"frequency\": 596, \"value\": \"49ce30e5\"}, \"88e47899\": {\"frequency\": 400, \"value\": \"88e47899\"}, \"0accc299\": {\"frequency\": 781, \"value\": \"0accc299\"}, \"fd0de46d\": {\"frequency\": 368, \"value\": \"fd0de46d\"}, \"e960ae63\": {\"frequency\": 684, \"value\": \"e960ae63\"}, \"e9d5636f\": {\"frequency\": 1676, \"value\": \"e9d5636f\"}, \"f1783ce6\": {\"frequency\": 892, \"value\": \"f1783ce6\"}, \"f9745ff0\": {\"frequency\": 797, \"value\": \"f9745ff0\"}, \"9b753e0c\": {\"frequency\": 872, \"value\": \"9b753e0c\"}, \"8dd848d1\": {\"frequency\": 537, \"value\": \"8dd848d1\"}, \"5a26daa4\": {\"frequency\": 340, \"value\": \"5a26daa4\"}, \"54c664bf\": {\"frequency\": 717, \"value\": \"54c664bf\"}, \"1cf29716\": {\"frequency\": 7730, \"value\": \"1cf29716\"}, \"1c256feb\": {\"frequency\": 809, \"value\": \"1c256feb\"}, \"85fd459c\": {\"frequency\": 876, \"value\": \"85fd459c\"}, \"37b3c191\": {\"frequency\": 665, \"value\": \"37b3c191\"}, \"d30c147e\": {\"frequency\": 660, \"value\": \"d30c147e\"}, \"ca80bf27\": {\"frequency\": 439, \"value\": \"ca80bf27\"}, \"488a9a3e\": {\"frequency\": 7467, \"value\": \"488a9a3e\"}, \"f0d981f3\": {\"frequency\": 568, \"value\": \"f0d981f3\"}, \"c787ad7d\": {\"frequency\": 694, \"value\": \"c787ad7d\"}, \"c3b91cd0\": {\"frequency\": 867, \"value\": \"c3b91cd0\"}, \"58a29d8a\": {\"frequency\": 455, \"value\": \"58a29d8a\"}, \"2f323f36\": {\"frequency\": 3327, \"value\": \"2f323f36\"}, \"372c8632\": {\"frequency\": 533, \"value\": \"372c8632\"}, \"676617bf\": {\"frequency\": 816, \"value\": \"676617bf\"}, \"e0c25a4e\": {\"frequency\": 513, \"value\": \"e0c25a4e\"}, \"041c9928\": {\"frequency\": 520, \"value\": \"041c9928\"}, \"4377f432\": {\"frequency\": 594, \"value\": \"4377f432\"}, \"d3c7f33f\": {\"frequency\": 730, \"value\": \"d3c7f33f\"}, \"1a989bb6\": {\"frequency\": 401, \"value\": \"1a989bb6\"}, \"0c0635a2\": {\"frequency\": 2214, \"value\": \"0c0635a2\"}, \"57cd4006\": {\"frequency\": 7536, \"value\": \"57cd4006\"}, \"b271bd3c\": {\"frequency\": 858, \"value\": \"b271bd3c\"}, \"52760bc9\": {\"frequency\": 715, \"value\": \"52760bc9\"}, \"0956bea5\": {\"frequency\": 327, \"value\": \"0956bea5\"}, \"6584f04e\": {\"frequency\": 365, \"value\": \"6584f04e\"}, \"2349cce7\": {\"frequency\": 616, \"value\": \"2349cce7\"}, \"d0a8a201\": {\"frequency\": 1209, \"value\": \"d0a8a201\"}, \"c6563308\": {\"frequency\": 7755, \"value\": \"c6563308\"}, \"dda84db3\": {\"frequency\": 623, \"value\": \"dda84db3\"}, \"b2d8fbed\": {\"frequency\": 815, \"value\": \"b2d8fbed\"}, \"79e904d3\": {\"frequency\": 542, \"value\": \"79e904d3\"}, \"f65ca4f4\": {\"frequency\": 564, \"value\": \"f65ca4f4\"}, \"8115aae7\": {\"frequency\": 367, \"value\": \"8115aae7\"}, \"28d7c896\": {\"frequency\": 493, \"value\": \"28d7c896\"}, \"96462a59\": {\"frequency\": 776, \"value\": \"96462a59\"}, \"6b3a5479\": {\"frequency\": 971, \"value\": \"6b3a5479\"}, \"e8d44657\": {\"frequency\": 834, \"value\": \"e8d44657\"}, \"77f32a19\": {\"frequency\": 447, \"value\": \"77f32a19\"}, \"9592e00a\": {\"frequency\": 571, \"value\": \"9592e00a\"}, \"7a0eca26\": {\"frequency\": 780, \"value\": \"7a0eca26\"}, \"c04756cd\": {\"frequency\": 398, \"value\": \"c04756cd\"}, \"f077459c\": {\"frequency\": 700, \"value\": \"f077459c\"}, \"b83fa2a1\": {\"frequency\": 670, \"value\": \"b83fa2a1\"}, \"41c0cb10\": {\"frequency\": 620, \"value\": \"41c0cb10\"}, \"0489ce3f\": {\"frequency\": 7587, \"value\": \"0489ce3f\"}, \"54d0fa93\": {\"frequency\": 812, \"value\": \"54d0fa93\"}, \"15413898\": {\"frequency\": 285, \"value\": \"15413898\"}, \"a7f3ffed\": {\"frequency\": 745, \"value\": \"a7f3ffed\"}, \"e3b08ed5\": {\"frequency\": 574, \"value\": \"e3b08ed5\"}, \"622cb132\": {\"frequency\": 601, \"value\": \"622cb132\"}, \"ab49d475\": {\"frequency\": 685, \"value\": \"ab49d475\"}, \"7c2b67ce\": {\"frequency\": 1223, \"value\": \"7c2b67ce\"}, \"2fa00af3\": {\"frequency\": 501, \"value\": \"2fa00af3\"}, \"ae1c0eb3\": {\"frequency\": 483, \"value\": \"ae1c0eb3\"}, \"76df963c\": {\"frequency\": 717, \"value\": \"76df963c\"}, \"b79e1ece\": {\"frequency\": 601, \"value\": \"b79e1ece\"}, \"79243caa\": {\"frequency\": 426, \"value\": \"79243caa\"}, \"c5877790\": {\"frequency\": 388, \"value\": \"c5877790\"}, \"29927b36\": {\"frequency\": 369, \"value\": \"29927b36\"}, \"31774496\": {\"frequency\": 337, \"value\": \"31774496\"}, \"297b2ad3\": {\"frequency\": 552, \"value\": \"297b2ad3\"}, \"0b61bc5e\": {\"frequency\": 760, \"value\": \"0b61bc5e\"}, \"69c90dd9\": {\"frequency\": 354, \"value\": \"69c90dd9\"}, \"b7335f17\": {\"frequency\": 624, \"value\": \"b7335f17\"}, \"6fdf1afa\": {\"frequency\": 700, \"value\": \"6fdf1afa\"}, \"d7000b83\": {\"frequency\": 685, \"value\": \"d7000b83\"}, \"be7092cb\": {\"frequency\": 521, \"value\": \"be7092cb\"}, \"7eeac961\": {\"frequency\": 721, \"value\": \"7eeac961\"}, \"a6e14e1f\": {\"frequency\": 540, \"value\": \"a6e14e1f\"}, \"665810f3\": {\"frequency\": 831, \"value\": \"665810f3\"}, \"685efec8\": {\"frequency\": 640, \"value\": \"685efec8\"}, \"77b06a8f\": {\"frequency\": 486, \"value\": \"77b06a8f\"}, \"b4a0ec64\": {\"frequency\": 1300, \"value\": \"b4a0ec64\"}, \"602ec53d\": {\"frequency\": 911, \"value\": \"602ec53d\"}, \"533311f1\": {\"frequency\": 741, \"value\": \"533311f1\"}, \"d42a0acc\": {\"frequency\": 542, \"value\": \"d42a0acc\"}, \"c64f8ed3\": {\"frequency\": 832, \"value\": \"c64f8ed3\"}, \"fb3e570e\": {\"frequency\": 463, \"value\": \"fb3e570e\"}, \"2ed3dc78\": {\"frequency\": 626, \"value\": \"2ed3dc78\"}, \"97d00d2a\": {\"frequency\": 428, \"value\": \"97d00d2a\"}, \"ceffea69\": {\"frequency\": 7527, \"value\": \"ceffea69\"}, \"3d1c020c\": {\"frequency\": 659, \"value\": \"3d1c020c\"}, \"56dc77a4\": {\"frequency\": 452, \"value\": \"56dc77a4\"}, \"ac77b71a\": {\"frequency\": 3763, \"value\": \"ac77b71a\"}, \"a6df415d\": {\"frequency\": 1584, \"value\": \"a6df415d\"}, \"e0030fa7\": {\"frequency\": 1264, \"value\": \"e0030fa7\"}, \"451ea9e0\": {\"frequency\": 661, \"value\": \"451ea9e0\"}, \"042bbbe8\": {\"frequency\": 356, \"value\": \"042bbbe8\"}, \"f55aa13e\": {\"frequency\": 752, \"value\": \"f55aa13e\"}, \"50e33c14\": {\"frequency\": 1286, \"value\": \"50e33c14\"}, \"bd7d6da7\": {\"frequency\": 538, \"value\": \"bd7d6da7\"}, \"a5a800b6\": {\"frequency\": 428, \"value\": \"a5a800b6\"}, \"51c53be0\": {\"frequency\": 584, \"value\": \"51c53be0\"}, \"a8fd084c\": {\"frequency\": 371, \"value\": \"a8fd084c\"}, \"451e1af8\": {\"frequency\": 339, \"value\": \"451e1af8\"}, \"52aa6971\": {\"frequency\": 547, \"value\": \"52aa6971\"}, \"7e5b53ce\": {\"frequency\": 1322, \"value\": \"7e5b53ce\"}, \"a0fed552\": {\"frequency\": 557, \"value\": \"a0fed552\"}, \"c4830f68\": {\"frequency\": 566, \"value\": \"c4830f68\"}, \"5fcaba9a\": {\"frequency\": 762, \"value\": \"5fcaba9a\"}, \"0fc74ee0\": {\"frequency\": 542, \"value\": \"0fc74ee0\"}, \"bfa34f7a\": {\"frequency\": 612, \"value\": \"bfa34f7a\"}, \"6e96392f\": {\"frequency\": 634, \"value\": \"6e96392f\"}, \"d7827f48\": {\"frequency\": 793, \"value\": \"d7827f48\"}, \"37b3fd2c\": {\"frequency\": 734, \"value\": \"37b3fd2c\"}, \"375d787b\": {\"frequency\": 666, \"value\": \"375d787b\"}, \"46c738c1\": {\"frequency\": 665, \"value\": \"46c738c1\"}, \"dbc2caad\": {\"frequency\": 537, \"value\": \"dbc2caad\"}, \"22e1481e\": {\"frequency\": 666, \"value\": \"22e1481e\"}, \"d7417e9a\": {\"frequency\": 711, \"value\": \"d7417e9a\"}, \"f2b5d58e\": {\"frequency\": 365, \"value\": \"f2b5d58e\"}, \"d97d7a6d\": {\"frequency\": 601, \"value\": \"d97d7a6d\"}, \"6b9769f2\": {\"frequency\": 22562, \"value\": \"6b9769f2\"}, \"4d7ec794\": {\"frequency\": 620, \"value\": \"4d7ec794\"}, \"d2b32c84\": {\"frequency\": 792, \"value\": \"d2b32c84\"}, \"4bc62f09\": {\"frequency\": 990, \"value\": \"4bc62f09\"}, \"539e0c18\": {\"frequency\": 531, \"value\": \"539e0c18\"}, \"cc2d808b\": {\"frequency\": 524, \"value\": \"cc2d808b\"}, \"4dfd8e44\": {\"frequency\": 327, \"value\": \"4dfd8e44\"}, \"ddd2926e\": {\"frequency\": 7617, \"value\": \"ddd2926e\"}, \"a8d8ce51\": {\"frequency\": 479, \"value\": \"a8d8ce51\"}, \"19b4af68\": {\"frequency\": 750, \"value\": \"19b4af68\"}, \"2e93a860\": {\"frequency\": 664, \"value\": \"2e93a860\"}, \"09be9b39\": {\"frequency\": 544, \"value\": \"09be9b39\"}, \"eda5f2bc\": {\"frequency\": 420, \"value\": \"eda5f2bc\"}, \"a98e3a73\": {\"frequency\": 641, \"value\": \"a98e3a73\"}, \"cf877b2f\": {\"frequency\": 729, \"value\": \"cf877b2f\"}, \"a121a8b8\": {\"frequency\": 1607, \"value\": \"a121a8b8\"}, \"dba9c64b\": {\"frequency\": 434, \"value\": \"dba9c64b\"}, \"feb189df\": {\"frequency\": 775, \"value\": \"feb189df\"}, \"ff715121\": {\"frequency\": 626, \"value\": \"ff715121\"}, \"fec9a8a7\": {\"frequency\": 885, \"value\": \"fec9a8a7\"}, \"d0d0294e\": {\"frequency\": 830, \"value\": \"d0d0294e\"}, \"c588adb8\": {\"frequency\": 361, \"value\": \"c588adb8\"}, \"97c45144\": {\"frequency\": 882, \"value\": \"97c45144\"}, \"e99c4df5\": {\"frequency\": 755, \"value\": \"e99c4df5\"}, \"30eb46ae\": {\"frequency\": 690, \"value\": \"30eb46ae\"}, \"a8536f3a\": {\"frequency\": 7460, \"value\": \"a8536f3a\"}, \"9714f9fb\": {\"frequency\": 358, \"value\": \"9714f9fb\"}, \"df8bb164\": {\"frequency\": 412, \"value\": \"df8bb164\"}, \"005d5dac\": {\"frequency\": 530, \"value\": \"005d5dac\"}, \"09217bff\": {\"frequency\": 468, \"value\": \"09217bff\"}, \"6aa729b5\": {\"frequency\": 868, \"value\": \"6aa729b5\"}, \"e6a00ba6\": {\"frequency\": 567, \"value\": \"e6a00ba6\"}, \"6406e97b\": {\"frequency\": 832, \"value\": \"6406e97b\"}, \"75bb1b58\": {\"frequency\": 7701, \"value\": \"75bb1b58\"}, \"17bab7c0\": {\"frequency\": 513, \"value\": \"17bab7c0\"}, \"988ce5e7\": {\"frequency\": 826, \"value\": \"988ce5e7\"}, \"94e56d95\": {\"frequency\": 542, \"value\": \"94e56d95\"}, \"af62faf4\": {\"frequency\": 3338, \"value\": \"af62faf4\"}, \"cca86f23\": {\"frequency\": 539, \"value\": \"cca86f23\"}, \"aa42be81\": {\"frequency\": 2796, \"value\": \"aa42be81\"}, \"57d5b413\": {\"frequency\": 397, \"value\": \"57d5b413\"}, \"07c57133\": {\"frequency\": 569, \"value\": \"07c57133\"}, \"3e44041f\": {\"frequency\": 775, \"value\": \"3e44041f\"}, \"28edfe6f\": {\"frequency\": 385, \"value\": \"28edfe6f\"}, \"f7b1ef1e\": {\"frequency\": 734, \"value\": \"f7b1ef1e\"}, \"8faa5e06\": {\"frequency\": 483, \"value\": \"8faa5e06\"}, \"b53608e3\": {\"frequency\": 366, \"value\": \"b53608e3\"}, \"235dacaa\": {\"frequency\": 862, \"value\": \"235dacaa\"}, \"348533f2\": {\"frequency\": 909, \"value\": \"348533f2\"}, \"3e790b92\": {\"frequency\": 776, \"value\": \"3e790b92\"}, \"3bf5634a\": {\"frequency\": 526, \"value\": \"3bf5634a\"}, \"23b86340\": {\"frequency\": 512, \"value\": \"23b86340\"}, \"b0070d9a\": {\"frequency\": 3706, \"value\": \"b0070d9a\"}, \"6752c29e\": {\"frequency\": 525, \"value\": \"6752c29e\"}, \"905d8ff8\": {\"frequency\": 471, \"value\": \"905d8ff8\"}, \"83b564b0\": {\"frequency\": 797, \"value\": \"83b564b0\"}, \"6bf4fb2f\": {\"frequency\": 501, \"value\": \"6bf4fb2f\"}, \"84e1fa7a\": {\"frequency\": 916, \"value\": \"84e1fa7a\"}, \"84a1d9f0\": {\"frequency\": 732, \"value\": \"84a1d9f0\"}, \"3c82662a\": {\"frequency\": 1223, \"value\": \"3c82662a\"}, \"ee172ae3\": {\"frequency\": 476, \"value\": \"ee172ae3\"}, \"b22a3c02\": {\"frequency\": 569, \"value\": \"b22a3c02\"}, \"225af2a8\": {\"frequency\": 924, \"value\": \"225af2a8\"}, \"0db890de\": {\"frequency\": 733, \"value\": \"0db890de\"}, \"158654e4\": {\"frequency\": 665, \"value\": \"158654e4\"}, \"d82523d8\": {\"frequency\": 518, \"value\": \"d82523d8\"}, \"7ab152a5\": {\"frequency\": 866, \"value\": \"7ab152a5\"}, \"077de383\": {\"frequency\": 542, \"value\": \"077de383\"}}, \"size\": 4122995}, \"C14\": {\"complete\": true, \"numeric\": false, \"num_unique\": 783, \"num_undefined\": 0, \"progress\": 1.0, \"frequent_items\": {\"18311\": {\"frequency\": 2052, \"value\": \"18311\"}, \"9478\": {\"frequency\": 3133, \"value\": \"9478\"}, \"19493\": {\"frequency\": 11584, \"value\": \"19493\"}, \"18314\": {\"frequency\": 2039, \"value\": \"18314\"}, \"21647\": {\"frequency\": 114386, \"value\": \"21647\"}, \"18316\": {\"frequency\": 1998, \"value\": \"18316\"}, \"18093\": {\"frequency\": 3757, \"value\": \"18093\"}, \"18092\": {\"frequency\": 3623, \"value\": \"18092\"}, \"16071\": {\"frequency\": 4227, \"value\": \"16071\"}, \"20000\": {\"frequency\": 431, \"value\": \"20000\"}, \"17573\": {\"frequency\": 1544, \"value\": \"17573\"}, \"18648\": {\"frequency\": 9134, \"value\": \"18648\"}, \"20170\": {\"frequency\": 416, \"value\": \"20170\"}, \"21273\": {\"frequency\": 999, \"value\": \"21273\"}, \"20272\": {\"frequency\": 429, \"value\": \"20272\"}, \"20273\": {\"frequency\": 424, \"value\": \"20273\"}, \"21277\": {\"frequency\": 2293, \"value\": \"21277\"}, \"17163\": {\"frequency\": 13556, \"value\": \"17163\"}, \"21274\": {\"frequency\": 1032, \"value\": \"21274\"}, \"21278\": {\"frequency\": 913, \"value\": \"21278\"}, \"20560\": {\"frequency\": 5953, \"value\": \"20560\"}, \"17753\": {\"frequency\": 45011, \"value\": \"17753\"}, \"21563\": {\"frequency\": 733, \"value\": \"21563\"}, \"19015\": {\"frequency\": 10714, \"value\": \"19015\"}, \"19016\": {\"frequency\": 10571, \"value\": \"19016\"}, \"14985\": {\"frequency\": 586, \"value\": \"14985\"}, \"21760\": {\"frequency\": 31405, \"value\": \"21760\"}, \"21763\": {\"frequency\": 31539, \"value\": \"21763\"}, \"16841\": {\"frequency\": 539, \"value\": \"16841\"}, \"16685\": {\"frequency\": 9371, \"value\": \"16685\"}, \"21276\": {\"frequency\": 1064, \"value\": \"21276\"}, \"16687\": {\"frequency\": 5295, \"value\": \"16687\"}, \"21401\": {\"frequency\": 420, \"value\": \"21401\"}, \"20966\": {\"frequency\": 2307, \"value\": \"20966\"}, \"20969\": {\"frequency\": 2086, \"value\": \"20969\"}, \"21715\": {\"frequency\": 65996, \"value\": \"21715\"}, \"20008\": {\"frequency\": 3374, \"value\": \"20008\"}, \"18091\": {\"frequency\": 3871, \"value\": \"18091\"}, \"20288\": {\"frequency\": 471, \"value\": \"20288\"}, \"17566\": {\"frequency\": 3876, \"value\": \"17566\"}, \"21679\": {\"frequency\": 5410, \"value\": \"21679\"}, \"21678\": {\"frequency\": 4921, \"value\": \"21678\"}, \"21677\": {\"frequency\": 5320, \"value\": \"21677\"}, \"21676\": {\"frequency\": 5258, \"value\": \"21676\"}, \"21675\": {\"frequency\": 5519, \"value\": \"21675\"}, \"21674\": {\"frequency\": 5428, \"value\": \"21674\"}, \"6990\": {\"frequency\": 3539, \"value\": \"6990\"}, \"6398\": {\"frequency\": 570, \"value\": \"6398\"}, \"6992\": {\"frequency\": 3495, \"value\": \"6992\"}, \"6993\": {\"frequency\": 3682, \"value\": \"6993\"}, \"8330\": {\"frequency\": 26474, \"value\": \"8330\"}, \"6399\": {\"frequency\": 573, \"value\": \"6399\"}, \"20289\": {\"frequency\": 1071, \"value\": \"20289\"}, \"18095\": {\"frequency\": 3698, \"value\": \"18095\"}, \"17914\": {\"frequency\": 25495, \"value\": \"17914\"}, \"19865\": {\"frequency\": 562, \"value\": \"19865\"}, \"17017\": {\"frequency\": 8854, \"value\": \"17017\"}, \"17014\": {\"frequency\": 5799, \"value\": \"17014\"}, \"20282\": {\"frequency\": 435, \"value\": \"20282\"}, \"21776\": {\"frequency\": 2689, \"value\": \"21776\"}, \"21777\": {\"frequency\": 518, \"value\": \"21777\"}, \"15698\": {\"frequency\": 492, \"value\": \"15698\"}, \"15699\": {\"frequency\": 49560, \"value\": \"15699\"}, \"20362\": {\"frequency\": 18159, \"value\": \"20362\"}, \"6393\": {\"frequency\": 2861, \"value\": \"6393\"}, \"20361\": {\"frequency\": 616, \"value\": \"20361\"}, \"20366\": {\"frequency\": 18498, \"value\": \"20366\"}, \"6560\": {\"frequency\": 3304, \"value\": \"6560\"}, \"6563\": {\"frequency\": 26703, \"value\": \"6563\"}, \"20365\": {\"frequency\": 611, \"value\": \"20365\"}, \"17081\": {\"frequency\": 6486, \"value\": \"17081\"}, \"6392\": {\"frequency\": 2930, \"value\": \"6392\"}, \"21775\": {\"frequency\": 501, \"value\": \"21775\"}, \"20363\": {\"frequency\": 5418, \"value\": \"20363\"}, \"19146\": {\"frequency\": 3166, \"value\": \"19146\"}, \"19951\": {\"frequency\": 530, \"value\": \"19951\"}, \"375\": {\"frequency\": 5122, \"value\": \"375\"}, \"19143\": {\"frequency\": 3147, \"value\": \"19143\"}, \"377\": {\"frequency\": 4626, \"value\": \"377\"}, \"19950\": {\"frequency\": 73221, \"value\": \"19950\"}, \"17654\": {\"frequency\": 31785, \"value\": \"17654\"}, \"20384\": {\"frequency\": 9866, \"value\": \"20384\"}, \"18987\": {\"frequency\": 22262, \"value\": \"18987\"}, \"21731\": {\"frequency\": 35508, \"value\": \"21731\"}, \"454\": {\"frequency\": 7960, \"value\": \"454\"}, \"19733\": {\"frequency\": 36521, \"value\": \"19733\"}, \"17653\": {\"frequency\": 31890, \"value\": \"17653\"}, \"21660\": {\"frequency\": 26890, \"value\": \"21660\"}, \"21661\": {\"frequency\": 3235, \"value\": \"21661\"}, \"20277\": {\"frequency\": 31246, \"value\": \"20277\"}, \"21664\": {\"frequency\": 84832, \"value\": \"21664\"}, \"21665\": {\"frequency\": 120786, \"value\": \"21665\"}, \"21666\": {\"frequency\": 18473, \"value\": \"21666\"}, \"6397\": {\"frequency\": 504, \"value\": \"6397\"}, \"21726\": {\"frequency\": 34910, \"value\": \"21726\"}, \"20508\": {\"frequency\": 9765, \"value\": \"20508\"}, \"20387\": {\"frequency\": 9419, \"value\": \"20387\"}, \"21589\": {\"frequency\": 2073, \"value\": \"21589\"}, \"20352\": {\"frequency\": 17379, \"value\": \"20352\"}, \"21655\": {\"frequency\": 506, \"value\": \"21655\"}, \"20751\": {\"frequency\": 5575, \"value\": \"20751\"}, \"21476\": {\"frequency\": 689, \"value\": \"21476\"}, \"20359\": {\"frequency\": 5502, \"value\": \"20359\"}, \"21189\": {\"frequency\": 4242, \"value\": \"21189\"}, \"21640\": {\"frequency\": 2160, \"value\": \"21640\"}, \"21747\": {\"frequency\": 34425, \"value\": \"21747\"}, \"21746\": {\"frequency\": 34260, \"value\": \"21746\"}, \"21745\": {\"frequency\": 1022, \"value\": \"21745\"}, \"21744\": {\"frequency\": 482, \"value\": \"21744\"}, \"17863\": {\"frequency\": 1571, \"value\": \"17863\"}, \"21748\": {\"frequency\": 1033, \"value\": \"21748\"}, \"17016\": {\"frequency\": 9422, \"value\": \"17016\"}, \"1270\": {\"frequency\": 733, \"value\": \"1270\"}, \"9461\": {\"frequency\": 2053, \"value\": \"9461\"}, \"20596\": {\"frequency\": 32709, \"value\": \"20596\"}, \"19666\": {\"frequency\": 5917, \"value\": \"19666\"}, \"19665\": {\"frequency\": 33945, \"value\": \"19665\"}, \"20980\": {\"frequency\": 3723, \"value\": \"20980\"}, \"20744\": {\"frequency\": 626, \"value\": \"20744\"}, \"21761\": {\"frequency\": 31801, \"value\": \"21761\"}, \"21793\": {\"frequency\": 5144, \"value\": \"21793\"}, \"18993\": {\"frequency\": 32279, \"value\": \"18993\"}, \"17037\": {\"frequency\": 7150, \"value\": \"17037\"}, \"15908\": {\"frequency\": 4129, \"value\": \"15908\"}, \"14983\": {\"frequency\": 588, \"value\": \"14983\"}, \"20389\": {\"frequency\": 10094, \"value\": \"20389\"}, \"380\": {\"frequency\": 4334, \"value\": \"380\"}, \"17875\": {\"frequency\": 10876, \"value\": \"17875\"}, \"17877\": {\"frequency\": 9624, \"value\": \"17877\"}, \"20345\": {\"frequency\": 5872, \"value\": \"20345\"}, \"20346\": {\"frequency\": 6068, \"value\": \"20346\"}, \"7024\": {\"frequency\": 502, \"value\": \"7024\"}, \"16688\": {\"frequency\": 9803, \"value\": \"16688\"}, \"21594\": {\"frequency\": 1996, \"value\": \"21594\"}, \"21595\": {\"frequency\": 1848, \"value\": \"21595\"}, \"21611\": {\"frequency\": 120860, \"value\": \"21611\"}, \"21593\": {\"frequency\": 1904, \"value\": \"21593\"}, \"16408\": {\"frequency\": 576, \"value\": \"16408\"}, \"21591\": {\"frequency\": 1899, \"value\": \"21591\"}, \"21695\": {\"frequency\": 569, \"value\": \"21695\"}, \"21694\": {\"frequency\": 9107, \"value\": \"21694\"}, \"21697\": {\"frequency\": 9041, \"value\": \"21697\"}, \"787\": {\"frequency\": 3399, \"value\": \"787\"}, \"21691\": {\"frequency\": 5237, \"value\": \"21691\"}, \"21690\": {\"frequency\": 1997, \"value\": \"21690\"}, \"381\": {\"frequency\": 643, \"value\": \"381\"}, \"21755\": {\"frequency\": 917, \"value\": \"21755\"}, \"21762\": {\"frequency\": 31865, \"value\": \"21762\"}, \"16406\": {\"frequency\": 645, \"value\": \"16406\"}, \"21751\": {\"frequency\": 49140, \"value\": \"21751\"}, \"17239\": {\"frequency\": 20695, \"value\": \"17239\"}, \"16011\": {\"frequency\": 2423, \"value\": \"16011\"}, \"19772\": {\"frequency\": 74674, \"value\": \"19772\"}, \"19775\": {\"frequency\": 11647, \"value\": \"19775\"}, \"18925\": {\"frequency\": 869, \"value\": \"18925\"}, \"14988\": {\"frequency\": 538, \"value\": \"14988\"}, \"20476\": {\"frequency\": 7627, \"value\": \"20476\"}, \"21296\": {\"frequency\": 891, \"value\": \"21296\"}, \"9248\": {\"frequency\": 1784, \"value\": \"9248\"}, \"17209\": {\"frequency\": 1183, \"value\": \"17209\"}, \"17208\": {\"frequency\": 1166, \"value\": \"17208\"}, \"21234\": {\"frequency\": 9068, \"value\": \"21234\"}, \"12000\": {\"frequency\": 12613, \"value\": \"12000\"}, \"21725\": {\"frequency\": 34371, \"value\": \"21725\"}, \"20632\": {\"frequency\": 16274, \"value\": \"20632\"}, \"20633\": {\"frequency\": 24117, \"value\": \"20633\"}, \"20634\": {\"frequency\": 19582, \"value\": \"20634\"}, \"20635\": {\"frequency\": 2026, \"value\": \"20635\"}, \"456\": {\"frequency\": 8104, \"value\": \"456\"}, \"15006\": {\"frequency\": 540, \"value\": \"15006\"}, \"15005\": {\"frequency\": 595, \"value\": \"15005\"}, \"17583\": {\"frequency\": 1547, \"value\": \"17583\"}, \"20077\": {\"frequency\": 469, \"value\": \"20077\"}, \"21614\": {\"frequency\": 473, \"value\": \"21614\"}, \"21689\": {\"frequency\": 6490, \"value\": \"21689\"}, \"19776\": {\"frequency\": 11755, \"value\": \"19776\"}, \"21686\": {\"frequency\": 1989, \"value\": \"21686\"}, \"21687\": {\"frequency\": 5235, \"value\": \"21687\"}, \"21684\": {\"frequency\": 6733, \"value\": \"21684\"}, \"21685\": {\"frequency\": 6642, \"value\": \"21685\"}, \"21682\": {\"frequency\": 6605, \"value\": \"21682\"}, \"16920\": {\"frequency\": 58995, \"value\": \"16920\"}, \"21680\": {\"frequency\": 6496, \"value\": \"21680\"}, \"21681\": {\"frequency\": 6505, \"value\": \"21681\"}, \"18856\": {\"frequency\": 1876, \"value\": \"18856\"}, \"18854\": {\"frequency\": 1766, \"value\": \"18854\"}, \"1266\": {\"frequency\": 432, \"value\": \"1266\"}, \"21724\": {\"frequency\": 31920, \"value\": \"21724\"}, \"21727\": {\"frequency\": 33746, \"value\": \"21727\"}, \"21610\": {\"frequency\": 1555, \"value\": \"21610\"}, \"5296\": {\"frequency\": 3673, \"value\": \"5296\"}, \"1038\": {\"frequency\": 8445, \"value\": \"1038\"}, \"1039\": {\"frequency\": 10667, \"value\": \"1039\"}, \"21590\": {\"frequency\": 2104, \"value\": \"21590\"}, \"21609\": {\"frequency\": 1291, \"value\": \"21609\"}, \"6362\": {\"frequency\": 862, \"value\": \"6362\"}, \"6361\": {\"frequency\": 844, \"value\": \"6361\"}, \"21612\": {\"frequency\": 10954, \"value\": \"21612\"}, \"1037\": {\"frequency\": 13356, \"value\": \"1037\"}, \"6365\": {\"frequency\": 980, \"value\": \"6365\"}, \"6364\": {\"frequency\": 951, \"value\": \"6364\"}, \"21774\": {\"frequency\": 510, \"value\": \"21774\"}, \"20093\": {\"frequency\": 20309, \"value\": \"20093\"}, \"16405\": {\"frequency\": 590, \"value\": \"16405\"}, \"15704\": {\"frequency\": 49464, \"value\": \"15704\"}, \"20128\": {\"frequency\": 1239, \"value\": \"20128\"}, \"463\": {\"frequency\": 7263, \"value\": \"463\"}, \"21137\": {\"frequency\": 1707, \"value\": \"21137\"}, \"20007\": {\"frequency\": 3255, \"value\": \"20007\"}, \"20006\": {\"frequency\": 3305, \"value\": \"20006\"}, \"12026\": {\"frequency\": 3629, \"value\": \"12026\"}, \"21300\": {\"frequency\": 3340, \"value\": \"21300\"}, \"20003\": {\"frequency\": 23728, \"value\": \"20003\"}, \"6616\": {\"frequency\": 31278, \"value\": \"6616\"}, \"15016\": {\"frequency\": 571, \"value\": \"15016\"}, \"15017\": {\"frequency\": 576, \"value\": \"15017\"}, \"452\": {\"frequency\": 7881, \"value\": \"452\"}, \"21309\": {\"frequency\": 2908, \"value\": \"21309\"}, \"21667\": {\"frequency\": 18318, \"value\": \"21667\"}, \"17755\": {\"frequency\": 1593, \"value\": \"17755\"}, \"20009\": {\"frequency\": 3214, \"value\": \"20009\"}, \"16838\": {\"frequency\": 1898, \"value\": \"16838\"}, \"4687\": {\"frequency\": 95379, \"value\": \"4687\"}, \"21738\": {\"frequency\": 3222, \"value\": \"21738\"}, \"21739\": {\"frequency\": 7351, \"value\": \"21739\"}, \"6360\": {\"frequency\": 876, \"value\": \"6360\"}, \"21732\": {\"frequency\": 32906, \"value\": \"21732\"}, \"21692\": {\"frequency\": 555, \"value\": \"21692\"}, \"19878\": {\"frequency\": 5909, \"value\": \"19878\"}, \"6366\": {\"frequency\": 840, \"value\": \"6366\"}, \"19454\": {\"frequency\": 722, \"value\": \"19454\"}, \"20312\": {\"frequency\": 16234, \"value\": \"20312\"}, \"9438\": {\"frequency\": 2708, \"value\": \"9438\"}, \"19998\": {\"frequency\": 21019, \"value\": \"19998\"}, \"17894\": {\"frequency\": 12728, \"value\": \"17894\"}, \"15708\": {\"frequency\": 50219, \"value\": \"15708\"}, \"20153\": {\"frequency\": 4461, \"value\": \"20153\"}, \"21191\": {\"frequency\": 4105, \"value\": \"21191\"}, \"21789\": {\"frequency\": 2836, \"value\": \"21789\"}, \"5299\": {\"frequency\": 5949, \"value\": \"5299\"}, \"15700\": {\"frequency\": 495, \"value\": \"15700\"}, \"15701\": {\"frequency\": 51173, \"value\": \"15701\"}, \"15702\": {\"frequency\": 48497, \"value\": \"15702\"}, \"15703\": {\"frequency\": 49626, \"value\": \"15703\"}, \"17614\": {\"frequency\": 45311, \"value\": \"17614\"}, \"15705\": {\"frequency\": 50288, \"value\": \"15705\"}, \"15706\": {\"frequency\": 46975, \"value\": \"15706\"}, \"15707\": {\"frequency\": 50620, \"value\": \"15707\"}, \"21706\": {\"frequency\": 34025, \"value\": \"21706\"}, \"16989\": {\"frequency\": 1022, \"value\": \"16989\"}, \"21250\": {\"frequency\": 1079, \"value\": \"21250\"}, \"20016\": {\"frequency\": 1805, \"value\": \"20016\"}, \"16407\": {\"frequency\": 561, \"value\": \"16407\"}, \"20018\": {\"frequency\": 2918, \"value\": \"20018\"}, \"20019\": {\"frequency\": 2792, \"value\": \"20019\"}, \"20390\": {\"frequency\": 469, \"value\": \"20390\"}, \"21310\": {\"frequency\": 2986, \"value\": \"21310\"}, \"21311\": {\"frequency\": 2947, \"value\": \"21311\"}, \"19870\": {\"frequency\": 5920, \"value\": \"19870\"}, \"17893\": {\"frequency\": 11281, \"value\": \"17893\"}, \"18934\": {\"frequency\": 773, \"value\": \"18934\"}, \"19771\": {\"frequency\": 75047, \"value\": \"19771\"}, \"18936\": {\"frequency\": 816, \"value\": \"18936\"}, \"6557\": {\"frequency\": 2355, \"value\": \"6557\"}, \"20001\": {\"frequency\": 2924, \"value\": \"20001\"}, \"20122\": {\"frequency\": 1371, \"value\": \"20122\"}, \"20005\": {\"frequency\": 3272, \"value\": \"20005\"}, \"20251\": {\"frequency\": 18110, \"value\": \"20251\"}, \"6558\": {\"frequency\": 3612, \"value\": \"6558\"}, \"6559\": {\"frequency\": 2400, \"value\": \"6559\"}, \"17747\": {\"frequency\": 7063, \"value\": \"17747\"}, \"20151\": {\"frequency\": 599, \"value\": \"20151\"}, \"21758\": {\"frequency\": 32029, \"value\": \"21758\"}, \"17212\": {\"frequency\": 5218, \"value\": \"17212\"}, \"20984\": {\"frequency\": 3760, \"value\": \"20984\"}, \"19741\": {\"frequency\": 759, \"value\": \"19741\"}, \"19743\": {\"frequency\": 12305, \"value\": \"19743\"}, \"21778\": {\"frequency\": 637, \"value\": \"21778\"}, \"21688\": {\"frequency\": 6525, \"value\": \"21688\"}, \"1278\": {\"frequency\": 579, \"value\": \"1278\"}, \"21743\": {\"frequency\": 791, \"value\": \"21743\"}, \"21653\": {\"frequency\": 5467, \"value\": \"21653\"}, \"21652\": {\"frequency\": 5374, \"value\": \"21652\"}, \"21592\": {\"frequency\": 2035, \"value\": \"21592\"}, \"21654\": {\"frequency\": 5367, \"value\": \"21654\"}, \"20382\": {\"frequency\": 3043, \"value\": \"20382\"}, \"19251\": {\"frequency\": 292994, \"value\": \"19251\"}, \"21790\": {\"frequency\": 42243, \"value\": \"21790\"}, \"21791\": {\"frequency\": 888, \"value\": \"21791\"}, \"15840\": {\"frequency\": 6398, \"value\": \"15840\"}, \"20388\": {\"frequency\": 9480, \"value\": \"20388\"}, \"1275\": {\"frequency\": 910, \"value\": \"1275\"}, \"1276\": {\"frequency\": 971, \"value\": \"1276\"}, \"6991\": {\"frequency\": 5997, \"value\": \"6991\"}, \"20385\": {\"frequency\": 9688, \"value\": \"20385\"}, \"21759\": {\"frequency\": 31245, \"value\": \"21759\"}, \"17171\": {\"frequency\": 2174, \"value\": \"17171\"}, \"17170\": {\"frequency\": 2048, \"value\": \"17170\"}, \"16208\": {\"frequency\": 104764, \"value\": \"16208\"}, \"21156\": {\"frequency\": 563, \"value\": \"21156\"}, \"21154\": {\"frequency\": 535, \"value\": \"21154\"}, \"21757\": {\"frequency\": 31821, \"value\": \"21757\"}, \"17661\": {\"frequency\": 4311, \"value\": \"17661\"}, \"21153\": {\"frequency\": 24629, \"value\": \"21153\"}, \"16615\": {\"frequency\": 31605, \"value\": \"16615\"}, \"21249\": {\"frequency\": 1120, \"value\": \"21249\"}, \"15010\": {\"frequency\": 580, \"value\": \"15010\"}, \"20743\": {\"frequency\": 576, \"value\": \"20743\"}, \"21683\": {\"frequency\": 6521, \"value\": \"21683\"}, \"21741\": {\"frequency\": 2046, \"value\": \"21741\"}, \"17586\": {\"frequency\": 1489, \"value\": \"17586\"}, \"16859\": {\"frequency\": 5433, \"value\": \"16859\"}, \"16858\": {\"frequency\": 5132, \"value\": \"16858\"}, \"18858\": {\"frequency\": 1972, \"value\": \"18858\"}, \"16403\": {\"frequency\": 611, \"value\": \"16403\"}, \"20386\": {\"frequency\": 9773, \"value\": \"20386\"}, \"17263\": {\"frequency\": 1621, \"value\": \"17263\"}, \"17262\": {\"frequency\": 6279, \"value\": \"17262\"}, \"17264\": {\"frequency\": 7012, \"value\": \"17264\"}, \"20355\": {\"frequency\": 5118, \"value\": \"20355\"}, \"20970\": {\"frequency\": 2187, \"value\": \"20970\"}, \"18094\": {\"frequency\": 3633, \"value\": \"18094\"}, \"21155\": {\"frequency\": 542, \"value\": \"21155\"}, \"16263\": {\"frequency\": 697, \"value\": \"16263\"}}, \"size\": 4122995}, \"C16\": {\"complete\": true, \"numeric\": false, \"num_unique\": 9, \"num_undefined\": 0, \"progress\": 1.0, \"frequent_items\": {\"90\": {\"frequency\": 10546, \"value\": \"90\"}, \"250\": {\"frequency\": 145659, \"value\": \"250\"}, \"480\": {\"frequency\": 13045, \"value\": \"480\"}, \"36\": {\"frequency\": 44406, \"value\": \"36\"}, \"50\": {\"frequency\": 3909084, \"value\": \"50\"}}, \"size\": 4122995}, \"C15\": {\"complete\": true, \"numeric\": false, \"num_unique\": 8, \"num_undefined\": 0, \"progress\": 1.0, \"frequent_items\": {\"300\": {\"frequency\": 163188, \"value\": \"300\"}, \"216\": {\"frequency\": 44406, \"value\": \"216\"}, \"320\": {\"frequency\": 3904600, \"value\": \"320\"}, \"728\": {\"frequency\": 10546, \"value\": \"728\"}}, \"size\": 4122995}, \"device_conn_type\": {\"complete\": true, \"numeric\": false, \"num_unique\": 4, \"num_undefined\": 0, \"progress\": 1.0, \"frequent_items\": {\"0\": {\"frequency\": 3719790, \"value\": \"0\"}, \"3\": {\"frequency\": 75504, \"value\": \"3\"}, \"2\": {\"frequency\": 321668, \"value\": \"2\"}, \"5\": {\"frequency\": 6033, \"value\": \"5\"}}, \"size\": 4122995}, \"C1\": {\"complete\": true, \"numeric\": false, \"num_unique\": 7, \"num_undefined\": 0, \"progress\": 1.0, \"frequent_items\": {\"1012\": {\"frequency\": 14970, \"value\": \"1012\"}, \"1008\": {\"frequency\": 2635, \"value\": \"1008\"}, \"1007\": {\"frequency\": 6200, \"value\": \"1007\"}, \"1005\": {\"frequency\": 3810729, \"value\": \"1005\"}, \"1010\": {\"frequency\": 95316, \"value\": \"1010\"}, \"1002\": {\"frequency\": 192309, \"value\": \"1002\"}, \"1001\": {\"frequency\": 836, \"value\": \"1001\"}}, \"size\": 4122995}, \"app_category\": {\"complete\": true, \"numeric\": false, \"num_unique\": 31, \"num_undefined\": 0, \"progress\": 1.0, \"frequent_items\": {\"4ce2e9fc\": {\"frequency\": 2788, \"value\": \"4ce2e9fc\"}, \"07d7df22\": {\"frequency\": 2648090, \"value\": \"07d7df22\"}, \"d1327cf5\": {\"frequency\": 20213, \"value\": \"d1327cf5\"}, \"cef3e649\": {\"frequency\": 223377, \"value\": \"cef3e649\"}, \"dc97ec06\": {\"frequency\": 2370, \"value\": \"dc97ec06\"}, \"fc6fa53d\": {\"frequency\": 3466, \"value\": \"fc6fa53d\"}, \"09481d60\": {\"frequency\": 11709, \"value\": \"09481d60\"}, \"75d80bbe\": {\"frequency\": 4645, \"value\": \"75d80bbe\"}, \"0f9a328c\": {\"frequency\": 690, \"value\": \"0f9a328c\"}, \"8ded1f7a\": {\"frequency\": 117841, \"value\": \"8ded1f7a\"}, \"0f2161f8\": {\"frequency\": 948823, \"value\": \"0f2161f8\"}, \"a3c42688\": {\"frequency\": 1383, \"value\": \"a3c42688\"}, \"f95efa07\": {\"frequency\": 134704, \"value\": \"f95efa07\"}, \"4681bb9d\": {\"frequency\": 419, \"value\": \"4681bb9d\"}, \"879c24eb\": {\"frequency\": 1275, \"value\": \"879c24eb\"}}, \"size\": 4122995}, \"site_category\": {\"complete\": true, \"numeric\": false, \"num_unique\": 22, \"num_undefined\": 0, \"progress\": 1.0, \"frequent_items\": {\"28905ebd\": {\"frequency\": 900807, \"value\": \"28905ebd\"}, \"75fa27f6\": {\"frequency\": 13158, \"value\": \"75fa27f6\"}, \"70fb0e29\": {\"frequency\": 5307, \"value\": \"70fb0e29\"}, \"72722551\": {\"frequency\": 7925, \"value\": \"72722551\"}, \"f028772b\": {\"frequency\": 1151089, \"value\": \"f028772b\"}, \"0569f928\": {\"frequency\": 8073, \"value\": \"0569f928\"}, \"3e814130\": {\"frequency\": 281857, \"value\": \"3e814130\"}, \"50e219e0\": {\"frequency\": 1678339, \"value\": \"50e219e0\"}, \"335d28a8\": {\"frequency\": 18863, \"value\": \"335d28a8\"}, \"dedf689d\": {\"frequency\": 1423, \"value\": \"dedf689d\"}, \"f66779e6\": {\"frequency\": 38167, \"value\": \"f66779e6\"}, \"c0dd3be3\": {\"frequency\": 2946, \"value\": \"c0dd3be3\"}, \"76b2941d\": {\"frequency\": 12991, \"value\": \"76b2941d\"}, \"a818d37a\": {\"frequency\": 1392, \"value\": \"a818d37a\"}}, \"size\": 4122995}, \"app_domain\": {\"complete\": true, \"numeric\": false, \"num_unique\": 285, \"num_undefined\": 0, \"progress\": 1.0, \"frequent_items\": {\"33da2e74\": {\"frequency\": 50295, \"value\": \"33da2e74\"}, \"ae637522\": {\"frequency\": 35328, \"value\": \"ae637522\"}, \"885c7f3f\": {\"frequency\": 7977, \"value\": \"885c7f3f\"}, \"43cf4f06\": {\"frequency\": 1729, \"value\": \"43cf4f06\"}, \"ef1fc174\": {\"frequency\": 585, \"value\": \"ef1fc174\"}, \"828da833\": {\"frequency\": 624, \"value\": \"828da833\"}, \"0654b444\": {\"frequency\": 4169, \"value\": \"0654b444\"}, \"45a51db4\": {\"frequency\": 15317, \"value\": \"45a51db4\"}, \"b5f3b24a\": {\"frequency\": 8843, \"value\": \"b5f3b24a\"}, \"f2f777fb\": {\"frequency\": 1867, \"value\": \"f2f777fb\"}, \"e5d5313f\": {\"frequency\": 529, \"value\": \"e5d5313f\"}, \"82e27996\": {\"frequency\": 77198, \"value\": \"82e27996\"}, \"aefc06bd\": {\"frequency\": 29755, \"value\": \"aefc06bd\"}, \"2347f47a\": {\"frequency\": 591240, \"value\": \"2347f47a\"}, \"5c5a694b\": {\"frequency\": 146557, \"value\": \"5c5a694b\"}, \"5b9c592b\": {\"frequency\": 14837, \"value\": \"5b9c592b\"}, \"df32afa9\": {\"frequency\": 34453, \"value\": \"df32afa9\"}, \"d9b5648e\": {\"frequency\": 133684, \"value\": \"d9b5648e\"}, \"813f3323\": {\"frequency\": 2007, \"value\": \"813f3323\"}, \"cb36afb8\": {\"frequency\": 595, \"value\": \"cb36afb8\"}, \"b9528b13\": {\"frequency\": 85342, \"value\": \"b9528b13\"}, \"6f7ca2ba\": {\"frequency\": 57425, \"value\": \"6f7ca2ba\"}, \"47464e95\": {\"frequency\": 1173, \"value\": \"47464e95\"}, \"9ec164d3\": {\"frequency\": 1112, \"value\": \"9ec164d3\"}, \"0e8616ad\": {\"frequency\": 805, \"value\": \"0e8616ad\"}, \"b8d325c3\": {\"frequency\": 20244, \"value\": \"b8d325c3\"}, \"c6824def\": {\"frequency\": 2940, \"value\": \"c6824def\"}, \"15ec7f39\": {\"frequency\": 2405, \"value\": \"15ec7f39\"}, \"7801e8d9\": {\"frequency\": 2768936, \"value\": \"7801e8d9\"}, \"ad63ec9b\": {\"frequency\": 2344, \"value\": \"ad63ec9b\"}, \"b12ff13e\": {\"frequency\": 478, \"value\": \"b12ff13e\"}, \"5c620f04\": {\"frequency\": 15540, \"value\": \"5c620f04\"}}, \"size\": 4122995}, \"C21\": {\"complete\": true, \"numeric\": false, \"num_unique\": 38, \"num_undefined\": 0, \"progress\": 1.0, \"frequent_items\": {\"157\": {\"frequency\": 136782, \"value\": \"157\"}, \"156\": {\"frequency\": 56456, \"value\": \"156\"}, \"195\": {\"frequency\": 2053, \"value\": \"195\"}, \"61\": {\"frequency\": 265345, \"value\": \"61\"}, \"117\": {\"frequency\": 203599, \"value\": \"117\"}, \"116\": {\"frequency\": 1284, \"value\": \"116\"}, \"111\": {\"frequency\": 83888, \"value\": \"111\"}, \"112\": {\"frequency\": 37374, \"value\": \"112\"}, \"82\": {\"frequency\": 4194, \"value\": \"82\"}, \"69\": {\"frequency\": 26269, \"value\": \"69\"}, \"93\": {\"frequency\": 2195, \"value\": \"93\"}, \"20\": {\"frequency\": 3399, \"value\": \"20\"}, \"48\": {\"frequency\": 240398, \"value\": \"48\"}, \"23\": {\"frequency\": 616088, \"value\": \"23\"}, \"46\": {\"frequency\": 14095, \"value\": \"46\"}, \"42\": {\"frequency\": 83277, \"value\": \"42\"}, \"43\": {\"frequency\": 377826, \"value\": \"43\"}, \"221\": {\"frequency\": 439092, \"value\": \"221\"}, \"68\": {\"frequency\": 48607, \"value\": \"68\"}, \"71\": {\"frequency\": 30489, \"value\": \"71\"}, \"70\": {\"frequency\": 469, \"value\": \"70\"}, \"91\": {\"frequency\": 54503, \"value\": \"91\"}, \"90\": {\"frequency\": 69865, \"value\": \"90\"}, \"100\": {\"frequency\": 10149, \"value\": \"100\"}, \"101\": {\"frequency\": 10687, \"value\": \"101\"}, \"95\": {\"frequency\": 21981, \"value\": \"95\"}, \"94\": {\"frequency\": 1217, \"value\": \"94\"}, \"79\": {\"frequency\": 505729, \"value\": \"79\"}, \"13\": {\"frequency\": 32484, \"value\": \"13\"}, \"15\": {\"frequency\": 84483, \"value\": \"15\"}, \"17\": {\"frequency\": 57085, \"value\": \"17\"}, \"16\": {\"frequency\": 7842, \"value\": \"16\"}, \"33\": {\"frequency\": 188518, \"value\": \"33\"}, \"32\": {\"frequency\": 231248, \"value\": \"32\"}, \"51\": {\"frequency\": 131100, \"value\": \"51\"}, \"52\": {\"frequency\": 42698, \"value\": \"52\"}}, \"size\": 4122995}, \"banner_pos\": {\"complete\": true, \"numeric\": false, \"num_unique\": 7, \"num_undefined\": 0, \"progress\": 1.0, \"frequent_items\": {\"1\": {\"frequency\": 1040891, \"value\": \"1\"}, \"0\": {\"frequency\": 3076333, \"value\": \"0\"}, \"2\": {\"frequency\": 1309, \"value\": \"2\"}, \"5\": {\"frequency\": 2635, \"value\": \"5\"}, \"4\": {\"frequency\": 496, \"value\": \"4\"}, \"7\": {\"frequency\": 1314, \"value\": \"7\"}}, \"size\": 4122995}, \"app_id\": {\"complete\": true, \"numeric\": false, \"num_unique\": 4150, \"num_undefined\": 0, \"progress\": 1.0, \"frequent_items\": {\"e8691eac\": {\"frequency\": 499, \"value\": \"e8691eac\"}, \"d3779a6d\": {\"frequency\": 1086, \"value\": \"d3779a6d\"}, \"501eb75e\": {\"frequency\": 1309, \"value\": \"501eb75e\"}, \"e96773f0\": {\"frequency\": 19047, \"value\": \"e96773f0\"}, \"617593f1\": {\"frequency\": 1083, \"value\": \"617593f1\"}, \"c8e3e3c1\": {\"frequency\": 8843, \"value\": \"c8e3e3c1\"}, \"b0302f74\": {\"frequency\": 861, \"value\": \"b0302f74\"}, \"aa50890c\": {\"frequency\": 4057, \"value\": \"aa50890c\"}, \"aaf0fa87\": {\"frequency\": 959, \"value\": \"aaf0fa87\"}, \"28117800\": {\"frequency\": 483, \"value\": \"28117800\"}, \"3bfa19cb\": {\"frequency\": 6088, \"value\": \"3bfa19cb\"}, \"30270b79\": {\"frequency\": 2966, \"value\": \"30270b79\"}, \"dfdd226c\": {\"frequency\": 4108, \"value\": \"dfdd226c\"}, \"cfbd8210\": {\"frequency\": 5434, \"value\": \"cfbd8210\"}, \"460f4063\": {\"frequency\": 2814, \"value\": \"460f4063\"}, \"3c4b944d\": {\"frequency\": 13157, \"value\": \"3c4b944d\"}, \"7e7baafa\": {\"frequency\": 6159, \"value\": \"7e7baafa\"}, \"090d3a47\": {\"frequency\": 4169, \"value\": \"090d3a47\"}, \"8c249ef8\": {\"frequency\": 458, \"value\": \"8c249ef8\"}, \"255a58c8\": {\"frequency\": 3357, \"value\": \"255a58c8\"}, \"08b5f605\": {\"frequency\": 1380, \"value\": \"08b5f605\"}, \"3fb0dd83\": {\"frequency\": 537, \"value\": \"3fb0dd83\"}, \"73c5810f\": {\"frequency\": 1028, \"value\": \"73c5810f\"}, \"bdf46af7\": {\"frequency\": 2829, \"value\": \"bdf46af7\"}, \"66f5e02e\": {\"frequency\": 57425, \"value\": \"66f5e02e\"}, \"384da3d1\": {\"frequency\": 1074, \"value\": \"384da3d1\"}, \"d1f14f7d\": {\"frequency\": 798, \"value\": \"d1f14f7d\"}, \"c6e52c21\": {\"frequency\": 767, \"value\": \"c6e52c21\"}, \"95b5e741\": {\"frequency\": 2940, \"value\": \"95b5e741\"}, \"1eb72062\": {\"frequency\": 693, \"value\": \"1eb72062\"}, \"a97b17d0\": {\"frequency\": 2881, \"value\": \"a97b17d0\"}, \"78572dd4\": {\"frequency\": 512, \"value\": \"78572dd4\"}, \"13684a79\": {\"frequency\": 2125, \"value\": \"13684a79\"}, \"c743495f\": {\"frequency\": 3519, \"value\": \"c743495f\"}, \"03641a6d\": {\"frequency\": 567, \"value\": \"03641a6d\"}, \"ccf7ce7e\": {\"frequency\": 480, \"value\": \"ccf7ce7e\"}, \"39947756\": {\"frequency\": 16693, \"value\": \"39947756\"}, \"3f94d062\": {\"frequency\": 641, \"value\": \"3f94d062\"}, \"8dbc921a\": {\"frequency\": 3062, \"value\": \"8dbc921a\"}, \"da7390fc\": {\"frequency\": 1413, \"value\": \"da7390fc\"}, \"322630ea\": {\"frequency\": 1112, \"value\": \"322630ea\"}, \"dd1f7fd3\": {\"frequency\": 595, \"value\": \"dd1f7fd3\"}, \"c3f39675\": {\"frequency\": 3116, \"value\": \"c3f39675\"}, \"b746b6ce\": {\"frequency\": 797, \"value\": \"b746b6ce\"}, \"0acbeaa3\": {\"frequency\": 15317, \"value\": \"0acbeaa3\"}, \"95827a92\": {\"frequency\": 934, \"value\": \"95827a92\"}, \"8b89048f\": {\"frequency\": 13016, \"value\": \"8b89048f\"}, \"431a0d44\": {\"frequency\": 648, \"value\": \"431a0d44\"}, \"ef0ff655\": {\"frequency\": 484, \"value\": \"ef0ff655\"}, \"9f41cdad\": {\"frequency\": 4954, \"value\": \"9f41cdad\"}, \"cc1c2bd2\": {\"frequency\": 1186, \"value\": \"cc1c2bd2\"}, \"33291962\": {\"frequency\": 6564, \"value\": \"33291962\"}, \"8b3e13f8\": {\"frequency\": 925, \"value\": \"8b3e13f8\"}, \"9a23aca1\": {\"frequency\": 529, \"value\": \"9a23aca1\"}, \"fbbccc58\": {\"frequency\": 413, \"value\": \"fbbccc58\"}, \"5064623a\": {\"frequency\": 2228, \"value\": \"5064623a\"}, \"5fc17a6a\": {\"frequency\": 1568, \"value\": \"5fc17a6a\"}, \"53de0284\": {\"frequency\": 8409, \"value\": \"53de0284\"}, \"b80746a0\": {\"frequency\": 441, \"value\": \"b80746a0\"}, \"d33d55c4\": {\"frequency\": 5221, \"value\": \"d33d55c4\"}, \"5adb10d9\": {\"frequency\": 839, \"value\": \"5adb10d9\"}, \"6f8bcb0f\": {\"frequency\": 615, \"value\": \"6f8bcb0f\"}, \"27550a3c\": {\"frequency\": 3035, \"value\": \"27550a3c\"}, \"4de5f462\": {\"frequency\": 485, \"value\": \"4de5f462\"}, \"0885a933\": {\"frequency\": 751, \"value\": \"0885a933\"}, \"48ef6336\": {\"frequency\": 2569, \"value\": \"48ef6336\"}, \"c0a736f4\": {\"frequency\": 4439, \"value\": \"c0a736f4\"}, \"39fb6e33\": {\"frequency\": 1960, \"value\": \"39fb6e33\"}, \"2c6f5c4d\": {\"frequency\": 2937, \"value\": \"2c6f5c4d\"}, \"fb7c70a3\": {\"frequency\": 25483, \"value\": \"fb7c70a3\"}, \"ebb82ae3\": {\"frequency\": 1382, \"value\": \"ebb82ae3\"}, \"3aa4245a\": {\"frequency\": 1041, \"value\": \"3aa4245a\"}, \"d2764fad\": {\"frequency\": 478, \"value\": \"d2764fad\"}, \"c8ad1017\": {\"frequency\": 771, \"value\": \"c8ad1017\"}, \"088b6a7b\": {\"frequency\": 3033, \"value\": \"088b6a7b\"}, \"3366d26c\": {\"frequency\": 1908, \"value\": \"3366d26c\"}, \"2bc13ef3\": {\"frequency\": 2102, \"value\": \"2bc13ef3\"}, \"53e41700\": {\"frequency\": 447, \"value\": \"53e41700\"}, \"ecad2386\": {\"frequency\": 2590484, \"value\": \"ecad2386\"}, \"a607e6a7\": {\"frequency\": 4776, \"value\": \"a607e6a7\"}, \"41d0aa21\": {\"frequency\": 1041, \"value\": \"41d0aa21\"}, \"6103360b\": {\"frequency\": 640, \"value\": \"6103360b\"}, \"2bc6bb64\": {\"frequency\": 1057, \"value\": \"2bc6bb64\"}, \"47e1d3ea\": {\"frequency\": 1324, \"value\": \"47e1d3ea\"}, \"c105f675\": {\"frequency\": 5847, \"value\": \"c105f675\"}, \"197b4f7f\": {\"frequency\": 3992, \"value\": \"197b4f7f\"}, \"795a164e\": {\"frequency\": 445, \"value\": \"795a164e\"}, \"a0a45985\": {\"frequency\": 4331, \"value\": \"a0a45985\"}, \"a4db51b9\": {\"frequency\": 1308, \"value\": \"a4db51b9\"}, \"d1b126bb\": {\"frequency\": 1173, \"value\": \"d1b126bb\"}, \"f0d41ff1\": {\"frequency\": 35151, \"value\": \"f0d41ff1\"}, \"c776ba2a\": {\"frequency\": 5472, \"value\": \"c776ba2a\"}, \"ee25f1ed\": {\"frequency\": 457, \"value\": \"ee25f1ed\"}, \"6415a993\": {\"frequency\": 2183, \"value\": \"6415a993\"}, \"8492e36e\": {\"frequency\": 611, \"value\": \"8492e36e\"}, \"1779deee\": {\"frequency\": 16963, \"value\": \"1779deee\"}, \"7358e05e\": {\"frequency\": 82788, \"value\": \"7358e05e\"}, \"2d869bee\": {\"frequency\": 12792, \"value\": \"2d869bee\"}, \"aecfd81b\": {\"frequency\": 1381, \"value\": \"aecfd81b\"}, \"bbcfa7a2\": {\"frequency\": 704, \"value\": \"bbcfa7a2\"}, \"8bcb1385\": {\"frequency\": 785, \"value\": \"8bcb1385\"}, \"f5929c05\": {\"frequency\": 571, \"value\": \"f5929c05\"}, \"7c7508aa\": {\"frequency\": 3361, \"value\": \"7c7508aa\"}, \"9a08a110\": {\"frequency\": 483, \"value\": \"9a08a110\"}, \"c7f29df3\": {\"frequency\": 5472, \"value\": \"c7f29df3\"}, \"3ebe76e6\": {\"frequency\": 419, \"value\": \"3ebe76e6\"}, \"4085d9ae\": {\"frequency\": 415, \"value\": \"4085d9ae\"}, \"a2a25b5a\": {\"frequency\": 1019, \"value\": \"a2a25b5a\"}, \"21abb96c\": {\"frequency\": 606, \"value\": \"21abb96c\"}, \"de691c68\": {\"frequency\": 782, \"value\": \"de691c68\"}, \"85938df3\": {\"frequency\": 1772, \"value\": \"85938df3\"}, \"93d786c6\": {\"frequency\": 8582, \"value\": \"93d786c6\"}, \"d7a5d468\": {\"frequency\": 470, \"value\": \"d7a5d468\"}, \"7a9d1ba1\": {\"frequency\": 452, \"value\": \"7a9d1ba1\"}, \"48476725\": {\"frequency\": 1616, \"value\": \"48476725\"}, \"e96166c7\": {\"frequency\": 2253, \"value\": \"e96166c7\"}, \"9a6fd16e\": {\"frequency\": 496, \"value\": \"9a6fd16e\"}, \"422da614\": {\"frequency\": 1464, \"value\": \"422da614\"}, \"718e4622\": {\"frequency\": 554, \"value\": \"718e4622\"}, \"0639409a\": {\"frequency\": 758, \"value\": \"0639409a\"}, \"80a0f91b\": {\"frequency\": 897, \"value\": \"80a0f91b\"}, \"48cd6b3e\": {\"frequency\": 679, \"value\": \"48cd6b3e\"}, \"a5184c22\": {\"frequency\": 19045, \"value\": \"a5184c22\"}, \"e8937587\": {\"frequency\": 3022, \"value\": \"e8937587\"}, \"6055aee4\": {\"frequency\": 571, \"value\": \"6055aee4\"}, \"89bdfe24\": {\"frequency\": 807, \"value\": \"89bdfe24\"}, \"d2bb6502\": {\"frequency\": 1694, \"value\": \"d2bb6502\"}, \"521b316b\": {\"frequency\": 1164, \"value\": \"521b316b\"}, \"73206397\": {\"frequency\": 8564, \"value\": \"73206397\"}, \"e5f1bafe\": {\"frequency\": 2183, \"value\": \"e5f1bafe\"}, \"8177c724\": {\"frequency\": 724, \"value\": \"8177c724\"}, \"8be5974d\": {\"frequency\": 891, \"value\": \"8be5974d\"}, \"a079ef6b\": {\"frequency\": 440, \"value\": \"a079ef6b\"}, \"8c0dcd5a\": {\"frequency\": 10239, \"value\": \"8c0dcd5a\"}, \"396df801\": {\"frequency\": 16929, \"value\": \"396df801\"}, \"8cdc9c24\": {\"frequency\": 583, \"value\": \"8cdc9c24\"}, \"d644e4e7\": {\"frequency\": 5457, \"value\": \"d644e4e7\"}, \"1a3b3722\": {\"frequency\": 579, \"value\": \"1a3b3722\"}, \"f2f00701\": {\"frequency\": 683, \"value\": \"f2f00701\"}, \"69e5a5ec\": {\"frequency\": 789, \"value\": \"69e5a5ec\"}, \"e96fc2d3\": {\"frequency\": 927, \"value\": \"e96fc2d3\"}, \"ce183bbd\": {\"frequency\": 1261, \"value\": \"ce183bbd\"}, \"5d74d2a4\": {\"frequency\": 954, \"value\": \"5d74d2a4\"}, \"ae280cba\": {\"frequency\": 489, \"value\": \"ae280cba\"}, \"442cfede\": {\"frequency\": 2212, \"value\": \"442cfede\"}, \"4e02fbd3\": {\"frequency\": 5149, \"value\": \"4e02fbd3\"}, \"b7f64446\": {\"frequency\": 1395, \"value\": \"b7f64446\"}, \"e8a706a6\": {\"frequency\": 681, \"value\": \"e8a706a6\"}, \"685d1c4c\": {\"frequency\": 6207, \"value\": \"685d1c4c\"}, \"2489e1a5\": {\"frequency\": 637, \"value\": \"2489e1a5\"}, \"388d9bfb\": {\"frequency\": 828, \"value\": \"388d9bfb\"}, \"3d2d59c0\": {\"frequency\": 820, \"value\": \"3d2d59c0\"}, \"f7dd00ec\": {\"frequency\": 1989, \"value\": \"f7dd00ec\"}, \"f888bf4c\": {\"frequency\": 14837, \"value\": \"f888bf4c\"}, \"92e72531\": {\"frequency\": 726, \"value\": \"92e72531\"}, \"170f5944\": {\"frequency\": 453, \"value\": \"170f5944\"}, \"febd1138\": {\"frequency\": 77172, \"value\": \"febd1138\"}, \"eba6b806\": {\"frequency\": 1876, \"value\": \"eba6b806\"}, \"2ca345e9\": {\"frequency\": 510, \"value\": \"2ca345e9\"}, \"a52115fb\": {\"frequency\": 856, \"value\": \"a52115fb\"}, \"f02cb7ab\": {\"frequency\": 573, \"value\": \"f02cb7ab\"}, \"c0c5eb49\": {\"frequency\": 1353, \"value\": \"c0c5eb49\"}, \"13353656\": {\"frequency\": 1037, \"value\": \"13353656\"}, \"da90aa44\": {\"frequency\": 1009, \"value\": \"da90aa44\"}, \"f4510c5e\": {\"frequency\": 553, \"value\": \"f4510c5e\"}, \"77571dab\": {\"frequency\": 565, \"value\": \"77571dab\"}, \"7eee9ec3\": {\"frequency\": 532, \"value\": \"7eee9ec3\"}, \"46774ea6\": {\"frequency\": 930, \"value\": \"46774ea6\"}, \"e2a1ca37\": {\"frequency\": 24981, \"value\": \"e2a1ca37\"}, \"be7c618d\": {\"frequency\": 11668, \"value\": \"be7c618d\"}, \"b9a513bf\": {\"frequency\": 998, \"value\": \"b9a513bf\"}, \"8486dd4e\": {\"frequency\": 2611, \"value\": \"8486dd4e\"}, \"39cfef32\": {\"frequency\": 484, \"value\": \"39cfef32\"}, \"de05bda4\": {\"frequency\": 1080, \"value\": \"de05bda4\"}, \"3d3198ca\": {\"frequency\": 1597, \"value\": \"3d3198ca\"}, \"3e2bf98d\": {\"frequency\": 4645, \"value\": \"3e2bf98d\"}, \"b24c9aae\": {\"frequency\": 1729, \"value\": \"b24c9aae\"}, \"45aff1a2\": {\"frequency\": 15540, \"value\": \"45aff1a2\"}, \"4be9b162\": {\"frequency\": 1250, \"value\": \"4be9b162\"}, \"f565fccc\": {\"frequency\": 442, \"value\": \"f565fccc\"}, \"03a08c3f\": {\"frequency\": 1673, \"value\": \"03a08c3f\"}, \"c73fb408\": {\"frequency\": 2120, \"value\": \"c73fb408\"}, \"49227c50\": {\"frequency\": 1318, \"value\": \"49227c50\"}, \"902f8bb2\": {\"frequency\": 508, \"value\": \"902f8bb2\"}, \"99c720b6\": {\"frequency\": 817, \"value\": \"99c720b6\"}, \"cb06b587\": {\"frequency\": 2624, \"value\": \"cb06b587\"}, \"be7bbf93\": {\"frequency\": 1848, \"value\": \"be7bbf93\"}, \"45442e75\": {\"frequency\": 529, \"value\": \"45442e75\"}, \"d8784af5\": {\"frequency\": 4072, \"value\": \"d8784af5\"}, \"826c565e\": {\"frequency\": 1805, \"value\": \"826c565e\"}, \"2f6efcf2\": {\"frequency\": 684, \"value\": \"2f6efcf2\"}, \"615ee83a\": {\"frequency\": 570, \"value\": \"615ee83a\"}, \"680e6a92\": {\"frequency\": 17178, \"value\": \"680e6a92\"}, \"661aa3aa\": {\"frequency\": 664, \"value\": \"661aa3aa\"}, \"0977ff24\": {\"frequency\": 1105, \"value\": \"0977ff24\"}, \"11a9c7ad\": {\"frequency\": 880, \"value\": \"11a9c7ad\"}, \"b149d645\": {\"frequency\": 418, \"value\": \"b149d645\"}, \"2547d57d\": {\"frequency\": 1019, \"value\": \"2547d57d\"}, \"3fa26ac0\": {\"frequency\": 891, \"value\": \"3fa26ac0\"}, \"3f2a6cbb\": {\"frequency\": 36102, \"value\": \"3f2a6cbb\"}, \"6bcecbce\": {\"frequency\": 1484, \"value\": \"6bcecbce\"}, \"21ff0256\": {\"frequency\": 598, \"value\": \"21ff0256\"}, \"559908e0\": {\"frequency\": 535, \"value\": \"559908e0\"}, \"9f06e9a1\": {\"frequency\": 1072, \"value\": \"9f06e9a1\"}, \"ed9357d2\": {\"frequency\": 862, \"value\": \"ed9357d2\"}, \"e69a444c\": {\"frequency\": 3600, \"value\": \"e69a444c\"}, \"06cfa6da\": {\"frequency\": 1265, \"value\": \"06cfa6da\"}, \"19aaa345\": {\"frequency\": 471, \"value\": \"19aaa345\"}, \"f1cd0776\": {\"frequency\": 2226, \"value\": \"f1cd0776\"}, \"03528b27\": {\"frequency\": 32250, \"value\": \"03528b27\"}, \"9e051b3f\": {\"frequency\": 412, \"value\": \"9e051b3f\"}, \"85b28c93\": {\"frequency\": 1970, \"value\": \"85b28c93\"}, \"6fc85e22\": {\"frequency\": 4243, \"value\": \"6fc85e22\"}, \"a804d999\": {\"frequency\": 515, \"value\": \"a804d999\"}, \"22c962a1\": {\"frequency\": 940, \"value\": \"22c962a1\"}, \"a7ae052e\": {\"frequency\": 1080, \"value\": \"a7ae052e\"}, \"d44c074c\": {\"frequency\": 1565, \"value\": \"d44c074c\"}, \"a37bf1e4\": {\"frequency\": 4343, \"value\": \"a37bf1e4\"}, \"08a53ae7\": {\"frequency\": 8303, \"value\": \"08a53ae7\"}, \"de77f79f\": {\"frequency\": 561, \"value\": \"de77f79f\"}, \"4b08f369\": {\"frequency\": 6720, \"value\": \"4b08f369\"}, \"7466942d\": {\"frequency\": 435, \"value\": \"7466942d\"}, \"e71aba61\": {\"frequency\": 1054, \"value\": \"e71aba61\"}, \"e2fcccd2\": {\"frequency\": 146537, \"value\": \"e2fcccd2\"}, \"1c4c71ef\": {\"frequency\": 1179, \"value\": \"1c4c71ef\"}, \"e9739828\": {\"frequency\": 33584, \"value\": \"e9739828\"}, \"c868ee5b\": {\"frequency\": 5891, \"value\": \"c868ee5b\"}, \"c6eb993a\": {\"frequency\": 502, \"value\": \"c6eb993a\"}, \"1fa4d1c3\": {\"frequency\": 464, \"value\": \"1fa4d1c3\"}, \"de97da65\": {\"frequency\": 9447, \"value\": \"de97da65\"}, \"495d447f\": {\"frequency\": 1987, \"value\": \"495d447f\"}, \"d2e094d4\": {\"frequency\": 455, \"value\": \"d2e094d4\"}, \"6a7bc718\": {\"frequency\": 526, \"value\": \"6a7bc718\"}, \"3692fd30\": {\"frequency\": 7222, \"value\": \"3692fd30\"}, \"98fed791\": {\"frequency\": 21208, \"value\": \"98fed791\"}, \"a0fc55e5\": {\"frequency\": 1484, \"value\": \"a0fc55e5\"}, \"62e084c5\": {\"frequency\": 460, \"value\": \"62e084c5\"}, \"04f2be5f\": {\"frequency\": 1803, \"value\": \"04f2be5f\"}, \"42da5b81\": {\"frequency\": 1254, \"value\": \"42da5b81\"}, \"924cf0f6\": {\"frequency\": 640, \"value\": \"924cf0f6\"}, \"54c5d545\": {\"frequency\": 50760, \"value\": \"54c5d545\"}, \"cc278f17\": {\"frequency\": 430, \"value\": \"cc278f17\"}, \"c1d5c84d\": {\"frequency\": 981, \"value\": \"c1d5c84d\"}, \"387bdb33\": {\"frequency\": 600, \"value\": \"387bdb33\"}, \"9c13b419\": {\"frequency\": 69053, \"value\": \"9c13b419\"}, \"de23f149\": {\"frequency\": 2249, \"value\": \"de23f149\"}, \"f200a9bc\": {\"frequency\": 629, \"value\": \"f200a9bc\"}, \"a4869716\": {\"frequency\": 4272, \"value\": \"a4869716\"}, \"cf0327f9\": {\"frequency\": 759, \"value\": \"cf0327f9\"}, \"92f5800b\": {\"frequency\": 17422, \"value\": \"92f5800b\"}, \"06d0179c\": {\"frequency\": 443, \"value\": \"06d0179c\"}, \"6ce5fef4\": {\"frequency\": 781, \"value\": \"6ce5fef4\"}, \"8feb10d4\": {\"frequency\": 443, \"value\": \"8feb10d4\"}, \"339f2281\": {\"frequency\": 667, \"value\": \"339f2281\"}, \"e3405394\": {\"frequency\": 961, \"value\": \"e3405394\"}, \"36f58dec\": {\"frequency\": 3577, \"value\": \"36f58dec\"}, \"e2a46ef1\": {\"frequency\": 849, \"value\": \"e2a46ef1\"}, \"ad52152a\": {\"frequency\": 1190, \"value\": \"ad52152a\"}, \"6da1fa83\": {\"frequency\": 454, \"value\": \"6da1fa83\"}, \"51cedd4e\": {\"frequency\": 25659, \"value\": \"51cedd4e\"}, \"1cc958a2\": {\"frequency\": 457, \"value\": \"1cc958a2\"}, \"fc46e1c5\": {\"frequency\": 7275, \"value\": \"fc46e1c5\"}, \"0a3b4a58\": {\"frequency\": 523, \"value\": \"0a3b4a58\"}, \"e7cf2855\": {\"frequency\": 501, \"value\": \"e7cf2855\"}, \"ffc6ffd0\": {\"frequency\": 21121, \"value\": \"ffc6ffd0\"}, \"2a5a7c9d\": {\"frequency\": 2524, \"value\": \"2a5a7c9d\"}, \"06ef0828\": {\"frequency\": 563, \"value\": \"06ef0828\"}, \"c51f82bc\": {\"frequency\": 4339, \"value\": \"c51f82bc\"}, \"64fb3325\": {\"frequency\": 790, \"value\": \"64fb3325\"}, \"b28a5164\": {\"frequency\": 1661, \"value\": \"b28a5164\"}, \"d292c32f\": {\"frequency\": 3421, \"value\": \"d292c32f\"}, \"09ee80af\": {\"frequency\": 475, \"value\": \"09ee80af\"}, \"7fd82f88\": {\"frequency\": 1543, \"value\": \"7fd82f88\"}, \"5e3f096f\": {\"frequency\": 9520, \"value\": \"5e3f096f\"}, \"cdfb6c82\": {\"frequency\": 1369, \"value\": \"cdfb6c82\"}}, \"size\": 4122995}, \"device_id\": {\"complete\": true, \"numeric\": false, \"num_unique\": 367713, \"num_undefined\": 0, \"progress\": 1.0, \"frequent_items\": {\"787d2bb0\": {\"frequency\": 643, \"value\": \"787d2bb0\"}, \"cef4c8cc\": {\"frequency\": 746, \"value\": \"cef4c8cc\"}, \"f0b5276b\": {\"frequency\": 719, \"value\": \"f0b5276b\"}, \"d857ffbb\": {\"frequency\": 674, \"value\": \"d857ffbb\"}, \"afeffc18\": {\"frequency\": 741, \"value\": \"afeffc18\"}, \"a99f214a\": {\"frequency\": 3328310, \"value\": \"a99f214a\"}, \"3c19ea8f\": {\"frequency\": 758, \"value\": \"3c19ea8f\"}, \"b09da1c4\": {\"frequency\": 512, \"value\": \"b09da1c4\"}, \"c357dbff\": {\"frequency\": 7956, \"value\": \"c357dbff\"}, \"936e92fb\": {\"frequency\": 2054, \"value\": \"936e92fb\"}}, \"size\": 4122995}, \"hour\": {\"complete\": true, \"numeric\": false, \"num_unique\": 24, \"num_undefined\": 0, \"progress\": 1.0, \"frequent_items\": {\"14102110\": {\"frequency\": 200028, \"value\": \"14102110\"}, \"14102111\": {\"frequency\": 175666, \"value\": \"14102111\"}, \"14102112\": {\"frequency\": 143620, \"value\": \"14102112\"}, \"14102113\": {\"frequency\": 190481, \"value\": \"14102113\"}, \"14102114\": {\"frequency\": 174531, \"value\": \"14102114\"}, \"14102115\": {\"frequency\": 176156, \"value\": \"14102115\"}, \"14102116\": {\"frequency\": 171869, \"value\": \"14102116\"}, \"14102117\": {\"frequency\": 171933, \"value\": \"14102117\"}, \"14102118\": {\"frequency\": 152365, \"value\": \"14102118\"}, \"14102119\": {\"frequency\": 119775, \"value\": \"14102119\"}, \"14102121\": {\"frequency\": 89501, \"value\": \"14102121\"}, \"14102120\": {\"frequency\": 112017, \"value\": \"14102120\"}, \"14102123\": {\"frequency\": 73940, \"value\": \"14102123\"}, \"14102122\": {\"frequency\": 88436, \"value\": \"14102122\"}, \"14102103\": {\"frequency\": 193355, \"value\": \"14102103\"}, \"14102102\": {\"frequency\": 207471, \"value\": \"14102102\"}, \"14102101\": {\"frequency\": 137442, \"value\": \"14102101\"}, \"14102100\": {\"frequency\": 119006, \"value\": \"14102100\"}, \"14102107\": {\"frequency\": 209311, \"value\": \"14102107\"}, \"14102106\": {\"frequency\": 239720, \"value\": \"14102106\"}, \"14102105\": {\"frequency\": 273500, \"value\": \"14102105\"}, \"14102104\": {\"frequency\": 264711, \"value\": \"14102104\"}, \"14102109\": {\"frequency\": 230917, \"value\": \"14102109\"}, \"14102108\": {\"frequency\": 207244, \"value\": \"14102108\"}}, \"size\": 4122995}, \"device_model\": {\"complete\": true, \"numeric\": false, \"num_unique\": 6071, \"num_undefined\": 0, \"progress\": 1.0, \"frequent_items\": {\"4f3e064a\": {\"frequency\": 2299, \"value\": \"4f3e064a\"}, \"9dd895e4\": {\"frequency\": 615, \"value\": \"9dd895e4\"}, \"daa861e9\": {\"frequency\": 5183, \"value\": \"daa861e9\"}, \"76759795\": {\"frequency\": 607, \"value\": \"76759795\"}, \"d400d41b\": {\"frequency\": 1251, \"value\": \"d400d41b\"}, \"48fdda0b\": {\"frequency\": 7248, \"value\": \"48fdda0b\"}, \"72a00661\": {\"frequency\": 13554, \"value\": \"72a00661\"}, \"bdc1009e\": {\"frequency\": 713, \"value\": \"bdc1009e\"}, \"1f0bc64f\": {\"frequency\": 156322, \"value\": \"1f0bc64f\"}, \"239543e1\": {\"frequency\": 1995, \"value\": \"239543e1\"}, \"36a30aeb\": {\"frequency\": 4222, \"value\": \"36a30aeb\"}, \"d9d47e05\": {\"frequency\": 853, \"value\": \"d9d47e05\"}, \"684581ce\": {\"frequency\": 20572, \"value\": \"684581ce\"}, \"9c7b6730\": {\"frequency\": 6014, \"value\": \"9c7b6730\"}, \"5434e0d9\": {\"frequency\": 602, \"value\": \"5434e0d9\"}, \"01e29bbb\": {\"frequency\": 633, \"value\": \"01e29bbb\"}, \"8da868a0\": {\"frequency\": 565, \"value\": \"8da868a0\"}, \"56f254f5\": {\"frequency\": 2006, \"value\": \"56f254f5\"}, \"d6b5c09e\": {\"frequency\": 2396, \"value\": \"d6b5c09e\"}, \"c9e27f06\": {\"frequency\": 1803, \"value\": \"c9e27f06\"}, \"8a332ed1\": {\"frequency\": 1972, \"value\": \"8a332ed1\"}, \"91abff7d\": {\"frequency\": 951, \"value\": \"91abff7d\"}, \"eefb45ad\": {\"frequency\": 613, \"value\": \"eefb45ad\"}, \"74de3ee6\": {\"frequency\": 1198, \"value\": \"74de3ee6\"}, \"81892725\": {\"frequency\": 6899, \"value\": \"81892725\"}, \"a8d2c4cf\": {\"frequency\": 13176, \"value\": \"a8d2c4cf\"}, \"7558c63e\": {\"frequency\": 3205, \"value\": \"7558c63e\"}, \"96a7c171\": {\"frequency\": 6985, \"value\": \"96a7c171\"}, \"9b7ee94c\": {\"frequency\": 618, \"value\": \"9b7ee94c\"}, \"25337e75\": {\"frequency\": 412, \"value\": \"25337e75\"}, \"ff91ea03\": {\"frequency\": 1233, \"value\": \"ff91ea03\"}, \"b7c5bc1f\": {\"frequency\": 2102, \"value\": \"b7c5bc1f\"}, \"36c6b1de\": {\"frequency\": 4264, \"value\": \"36c6b1de\"}, \"1f883dc7\": {\"frequency\": 3704, \"value\": \"1f883dc7\"}, \"49bc419a\": {\"frequency\": 898, \"value\": \"49bc419a\"}, \"f51246a7\": {\"frequency\": 6665, \"value\": \"f51246a7\"}, \"e1f641eb\": {\"frequency\": 638, \"value\": \"e1f641eb\"}, \"42a5d6ce\": {\"frequency\": 1926, \"value\": \"42a5d6ce\"}, \"68b6db2c\": {\"frequency\": 10101, \"value\": \"68b6db2c\"}, \"a08d16cd\": {\"frequency\": 1093, \"value\": \"a08d16cd\"}, \"d7bc6ccb\": {\"frequency\": 2927, \"value\": \"d7bc6ccb\"}, \"7fb42699\": {\"frequency\": 417, \"value\": \"7fb42699\"}, \"9868c918\": {\"frequency\": 550, \"value\": \"9868c918\"}, \"fa61e8fe\": {\"frequency\": 9149, \"value\": \"fa61e8fe\"}, \"5bf3d167\": {\"frequency\": 461, \"value\": \"5bf3d167\"}, \"9c1fabc1\": {\"frequency\": 917, \"value\": \"9c1fabc1\"}, \"d2e5a0b2\": {\"frequency\": 1937, \"value\": \"d2e5a0b2\"}, \"0a3aa014\": {\"frequency\": 1008, \"value\": \"0a3aa014\"}, \"56f23684\": {\"frequency\": 3700, \"value\": \"56f23684\"}, \"d7aa863b\": {\"frequency\": 646, \"value\": \"d7aa863b\"}, \"a94d1405\": {\"frequency\": 1329, \"value\": \"a94d1405\"}, \"18d8fb90\": {\"frequency\": 1826, \"value\": \"18d8fb90\"}, \"6f856677\": {\"frequency\": 1605, \"value\": \"6f856677\"}, \"fd10e5c6\": {\"frequency\": 464, \"value\": \"fd10e5c6\"}, \"5509a121\": {\"frequency\": 827, \"value\": \"5509a121\"}, \"1ce979ed\": {\"frequency\": 688, \"value\": \"1ce979ed\"}, \"f016b9df\": {\"frequency\": 624, \"value\": \"f016b9df\"}, \"329c70fc\": {\"frequency\": 750, \"value\": \"329c70fc\"}, \"7da1c19e\": {\"frequency\": 451, \"value\": \"7da1c19e\"}, \"a6403763\": {\"frequency\": 460, \"value\": \"a6403763\"}, \"260bcecc\": {\"frequency\": 2404, \"value\": \"260bcecc\"}, \"7e752449\": {\"frequency\": 481, \"value\": \"7e752449\"}, \"6ce25010\": {\"frequency\": 784, \"value\": \"6ce25010\"}, \"7065d1c1\": {\"frequency\": 471, \"value\": \"7065d1c1\"}, \"f9315725\": {\"frequency\": 709, \"value\": \"f9315725\"}, \"82a79fff\": {\"frequency\": 436, \"value\": \"82a79fff\"}, \"bb2ea497\": {\"frequency\": 1973, \"value\": \"bb2ea497\"}, \"8f4fd1f0\": {\"frequency\": 1443, \"value\": \"8f4fd1f0\"}, \"04f5b394\": {\"frequency\": 18071, \"value\": \"04f5b394\"}, \"23c526cf\": {\"frequency\": 853, \"value\": \"23c526cf\"}, \"d10eeaaf\": {\"frequency\": 1421, \"value\": \"d10eeaaf\"}, \"d6e0e6ff\": {\"frequency\": 15854, \"value\": \"d6e0e6ff\"}, \"d104784a\": {\"frequency\": 1089, \"value\": \"d104784a\"}, \"0bc44f2a\": {\"frequency\": 1494, \"value\": \"0bc44f2a\"}, \"c3f8a7fb\": {\"frequency\": 770, \"value\": \"c3f8a7fb\"}, \"01dbc3bc\": {\"frequency\": 458, \"value\": \"01dbc3bc\"}, \"7abbbd5c\": {\"frequency\": 80361, \"value\": \"7abbbd5c\"}, \"accd4de4\": {\"frequency\": 413, \"value\": \"accd4de4\"}, \"eda4a627\": {\"frequency\": 677, \"value\": \"eda4a627\"}, \"b6443086\": {\"frequency\": 1548, \"value\": \"b6443086\"}, \"b9b66aec\": {\"frequency\": 1005, \"value\": \"b9b66aec\"}, \"77663e88\": {\"frequency\": 688, \"value\": \"77663e88\"}, \"c343857c\": {\"frequency\": 462, \"value\": \"c343857c\"}, \"c30e3f5c\": {\"frequency\": 472, \"value\": \"c30e3f5c\"}, \"258766e2\": {\"frequency\": 1867, \"value\": \"258766e2\"}, \"f063b808\": {\"frequency\": 3092, \"value\": \"f063b808\"}, \"c34157bf\": {\"frequency\": 1637, \"value\": \"c34157bf\"}, \"27466962\": {\"frequency\": 1994, \"value\": \"27466962\"}, \"13472f46\": {\"frequency\": 2506, \"value\": \"13472f46\"}, \"be87996b\": {\"frequency\": 23748, \"value\": \"be87996b\"}, \"b588c462\": {\"frequency\": 690, \"value\": \"b588c462\"}, \"2b557631\": {\"frequency\": 526, \"value\": \"2b557631\"}, \"7aecdc8d\": {\"frequency\": 538, \"value\": \"7aecdc8d\"}, \"c136b9bf\": {\"frequency\": 2467, \"value\": \"c136b9bf\"}, \"14187c75\": {\"frequency\": 712, \"value\": \"14187c75\"}, \"450aace5\": {\"frequency\": 1573, \"value\": \"450aace5\"}, \"2d6d7ae9\": {\"frequency\": 1325, \"value\": \"2d6d7ae9\"}, \"60b67d60\": {\"frequency\": 470, \"value\": \"60b67d60\"}, \"8217e0de\": {\"frequency\": 931, \"value\": \"8217e0de\"}, \"f2790a6a\": {\"frequency\": 1725, \"value\": \"f2790a6a\"}, \"321f8b9d\": {\"frequency\": 3287, \"value\": \"321f8b9d\"}, \"4d1ad389\": {\"frequency\": 446, \"value\": \"4d1ad389\"}, \"cbb77256\": {\"frequency\": 8558, \"value\": \"cbb77256\"}, \"36b67a2a\": {\"frequency\": 10974, \"value\": \"36b67a2a\"}, \"c48dce72\": {\"frequency\": 539, \"value\": \"c48dce72\"}, \"27059422\": {\"frequency\": 608, \"value\": \"27059422\"}, \"9aa6968b\": {\"frequency\": 429, \"value\": \"9aa6968b\"}, \"af7fe221\": {\"frequency\": 5633, \"value\": \"af7fe221\"}, \"0838d155\": {\"frequency\": 581, \"value\": \"0838d155\"}, \"a8964a12\": {\"frequency\": 2087, \"value\": \"a8964a12\"}, \"58202c40\": {\"frequency\": 885, \"value\": \"58202c40\"}, \"83541208\": {\"frequency\": 577, \"value\": \"83541208\"}, \"9aeacc17\": {\"frequency\": 925, \"value\": \"9aeacc17\"}, \"cd63b0bb\": {\"frequency\": 7272, \"value\": \"cd63b0bb\"}, \"0ff80b9d\": {\"frequency\": 1748, \"value\": \"0ff80b9d\"}, \"34d5fa08\": {\"frequency\": 1969, \"value\": \"34d5fa08\"}, \"68b900d9\": {\"frequency\": 1104, \"value\": \"68b900d9\"}, \"dff23b13\": {\"frequency\": 1313, \"value\": \"dff23b13\"}, \"8e0333c2\": {\"frequency\": 1057, \"value\": \"8e0333c2\"}, \"e6f3a5c2\": {\"frequency\": 639, \"value\": \"e6f3a5c2\"}, \"3b06f711\": {\"frequency\": 469, \"value\": \"3b06f711\"}, \"6e5b2344\": {\"frequency\": 483, \"value\": \"6e5b2344\"}, \"1fa06e1b\": {\"frequency\": 812, \"value\": \"1fa06e1b\"}, \"981edffc\": {\"frequency\": 4673, \"value\": \"981edffc\"}, \"034b811d\": {\"frequency\": 5498, \"value\": \"034b811d\"}, \"01d61ca2\": {\"frequency\": 596, \"value\": \"01d61ca2\"}, \"7eef184d\": {\"frequency\": 2135, \"value\": \"7eef184d\"}, \"93a90f85\": {\"frequency\": 5132, \"value\": \"93a90f85\"}, \"31f63ca2\": {\"frequency\": 3435, \"value\": \"31f63ca2\"}, \"7ac6007f\": {\"frequency\": 10167, \"value\": \"7ac6007f\"}, \"4136e61c\": {\"frequency\": 1078, \"value\": \"4136e61c\"}, \"84eb6b0e\": {\"frequency\": 1172, \"value\": \"84eb6b0e\"}, \"d42e625d\": {\"frequency\": 1547, \"value\": \"d42e625d\"}, \"aad45b01\": {\"frequency\": 46006, \"value\": \"aad45b01\"}, \"4d392e74\": {\"frequency\": 1650, \"value\": \"4d392e74\"}, \"6d44e29a\": {\"frequency\": 7099, \"value\": \"6d44e29a\"}, \"1b4a6f26\": {\"frequency\": 703, \"value\": \"1b4a6f26\"}, \"ab4085d5\": {\"frequency\": 1629, \"value\": \"ab4085d5\"}, \"4ceb2e0b\": {\"frequency\": 13236, \"value\": \"4ceb2e0b\"}, \"c1a17447\": {\"frequency\": 3543, \"value\": \"c1a17447\"}, \"08ac11ab\": {\"frequency\": 8822, \"value\": \"08ac11ab\"}, \"05e3afbf\": {\"frequency\": 883, \"value\": \"05e3afbf\"}, \"eee53df3\": {\"frequency\": 772, \"value\": \"eee53df3\"}, \"bbeedfee\": {\"frequency\": 3434, \"value\": \"bbeedfee\"}, \"99115329\": {\"frequency\": 763, \"value\": \"99115329\"}, \"ba7e8b0a\": {\"frequency\": 805, \"value\": \"ba7e8b0a\"}, \"99ec2bcb\": {\"frequency\": 785, \"value\": \"99ec2bcb\"}, \"301d587a\": {\"frequency\": 1086, \"value\": \"301d587a\"}, \"feb70d53\": {\"frequency\": 1040, \"value\": \"feb70d53\"}, \"f009ace1\": {\"frequency\": 834, \"value\": \"f009ace1\"}, \"021759da\": {\"frequency\": 461, \"value\": \"021759da\"}, \"31368bbf\": {\"frequency\": 875, \"value\": \"31368bbf\"}, \"60cf5a10\": {\"frequency\": 693, \"value\": \"60cf5a10\"}, \"e215cd18\": {\"frequency\": 677, \"value\": \"e215cd18\"}, \"6e4b216f\": {\"frequency\": 414, \"value\": \"6e4b216f\"}, \"f1937c53\": {\"frequency\": 1295, \"value\": \"f1937c53\"}, \"2cd8ff6d\": {\"frequency\": 6048, \"value\": \"2cd8ff6d\"}, \"18087afc\": {\"frequency\": 1166, \"value\": \"18087afc\"}, \"911a3c09\": {\"frequency\": 6777, \"value\": \"911a3c09\"}, \"eec78f77\": {\"frequency\": 1106, \"value\": \"eec78f77\"}, \"cf636a1a\": {\"frequency\": 418, \"value\": \"cf636a1a\"}, \"97868ca6\": {\"frequency\": 838, \"value\": \"97868ca6\"}, \"887d6ab8\": {\"frequency\": 455, \"value\": \"887d6ab8\"}, \"91c9c83e\": {\"frequency\": 1124, \"value\": \"91c9c83e\"}, \"9fef9da8\": {\"frequency\": 2637, \"value\": \"9fef9da8\"}, \"6c247d18\": {\"frequency\": 673, \"value\": \"6c247d18\"}, \"22800eff\": {\"frequency\": 1080, \"value\": \"22800eff\"}, \"d17a0181\": {\"frequency\": 2439, \"value\": \"d17a0181\"}, \"0594e7d0\": {\"frequency\": 523, \"value\": \"0594e7d0\"}, \"277e7b8c\": {\"frequency\": 6655, \"value\": \"277e7b8c\"}, \"1560ce17\": {\"frequency\": 1165, \"value\": \"1560ce17\"}, \"32fa85fb\": {\"frequency\": 723, \"value\": \"32fa85fb\"}, \"3f67c4c4\": {\"frequency\": 792, \"value\": \"3f67c4c4\"}, \"5b1faad5\": {\"frequency\": 933, \"value\": \"5b1faad5\"}, \"be6db1d7\": {\"frequency\": 66653, \"value\": \"be6db1d7\"}, \"a9a7b3d8\": {\"frequency\": 1618, \"value\": \"a9a7b3d8\"}, \"25fbd8f1\": {\"frequency\": 1282, \"value\": \"25fbd8f1\"}, \"03c48e34\": {\"frequency\": 628, \"value\": \"03c48e34\"}, \"b4d21d55\": {\"frequency\": 1211, \"value\": \"b4d21d55\"}, \"7a63d37c\": {\"frequency\": 778, \"value\": \"7a63d37c\"}, \"1d5bfd2d\": {\"frequency\": 1110, \"value\": \"1d5bfd2d\"}, \"ea6abc60\": {\"frequency\": 922, \"value\": \"ea6abc60\"}, \"2b61f4fd\": {\"frequency\": 835, \"value\": \"2b61f4fd\"}, \"6569eeb3\": {\"frequency\": 6322, \"value\": \"6569eeb3\"}, \"f3776ac6\": {\"frequency\": 2079, \"value\": \"f3776ac6\"}, \"eb95de68\": {\"frequency\": 461, \"value\": \"eb95de68\"}, \"ee007ad3\": {\"frequency\": 4604, \"value\": \"ee007ad3\"}, \"213de82a\": {\"frequency\": 886, \"value\": \"213de82a\"}, \"64a7b95b\": {\"frequency\": 2874, \"value\": \"64a7b95b\"}, \"fd1ab1f0\": {\"frequency\": 1211, \"value\": \"fd1ab1f0\"}, \"05e70df4\": {\"frequency\": 15014, \"value\": \"05e70df4\"}, \"518f4a32\": {\"frequency\": 880, \"value\": \"518f4a32\"}, \"44b7a49b\": {\"frequency\": 490, \"value\": \"44b7a49b\"}, \"e710234d\": {\"frequency\": 1308, \"value\": \"e710234d\"}, \"eb0f3060\": {\"frequency\": 450, \"value\": \"eb0f3060\"}, \"76e25748\": {\"frequency\": 425, \"value\": \"76e25748\"}, \"f4fffcd0\": {\"frequency\": 10587, \"value\": \"f4fffcd0\"}, \"b0d451d9\": {\"frequency\": 491, \"value\": \"b0d451d9\"}, \"a9ccc279\": {\"frequency\": 429, \"value\": \"a9ccc279\"}, \"a3112db6\": {\"frequency\": 908, \"value\": \"a3112db6\"}, \"10063710\": {\"frequency\": 486, \"value\": \"10063710\"}, \"7e4efdcd\": {\"frequency\": 1101, \"value\": \"7e4efdcd\"}, \"44956a24\": {\"frequency\": 2467, \"value\": \"44956a24\"}, \"e438c1dc\": {\"frequency\": 1117, \"value\": \"e438c1dc\"}, \"711ee120\": {\"frequency\": 53342, \"value\": \"711ee120\"}, \"0bcabeaf\": {\"frequency\": 7207, \"value\": \"0bcabeaf\"}, \"1af7ceb7\": {\"frequency\": 2102, \"value\": \"1af7ceb7\"}, \"8d7eb102\": {\"frequency\": 462, \"value\": \"8d7eb102\"}, \"f3049821\": {\"frequency\": 3068, \"value\": \"f3049821\"}, \"9b5ce758\": {\"frequency\": 17177, \"value\": \"9b5ce758\"}, \"e96b49d6\": {\"frequency\": 1471, \"value\": \"e96b49d6\"}, \"00b08597\": {\"frequency\": 875, \"value\": \"00b08597\"}, \"573eaa36\": {\"frequency\": 643, \"value\": \"573eaa36\"}, \"c6263d8a\": {\"frequency\": 49866, \"value\": \"c6263d8a\"}, \"d2a171bf\": {\"frequency\": 564, \"value\": \"d2a171bf\"}, \"6e1e2240\": {\"frequency\": 16727, \"value\": \"6e1e2240\"}, \"c4cff2ea\": {\"frequency\": 12562, \"value\": \"c4cff2ea\"}, \"de38939a\": {\"frequency\": 2441, \"value\": \"de38939a\"}, \"a5bce124\": {\"frequency\": 29777, \"value\": \"a5bce124\"}, \"6360f9ec\": {\"frequency\": 1026, \"value\": \"6360f9ec\"}, \"f07e20f8\": {\"frequency\": 41663, \"value\": \"f07e20f8\"}, \"f5267723\": {\"frequency\": 863, \"value\": \"f5267723\"}, \"c17850cf\": {\"frequency\": 607, \"value\": \"c17850cf\"}, \"ab57115f\": {\"frequency\": 2343, \"value\": \"ab57115f\"}, \"0e88538f\": {\"frequency\": 7442, \"value\": \"0e88538f\"}, \"fdfa8fcd\": {\"frequency\": 1105, \"value\": \"fdfa8fcd\"}, \"dc70b0f9\": {\"frequency\": 1588, \"value\": \"dc70b0f9\"}, \"a5fbe35d\": {\"frequency\": 3092, \"value\": \"a5fbe35d\"}, \"12edfe21\": {\"frequency\": 1074, \"value\": \"12edfe21\"}, \"521f95fe\": {\"frequency\": 821, \"value\": \"521f95fe\"}, \"eb9d69e8\": {\"frequency\": 1890, \"value\": \"eb9d69e8\"}, \"496515fa\": {\"frequency\": 1071, \"value\": \"496515fa\"}, \"c4cca47d\": {\"frequency\": 888, \"value\": \"c4cca47d\"}, \"a264bba3\": {\"frequency\": 4217, \"value\": \"a264bba3\"}, \"23885c9e\": {\"frequency\": 4066, \"value\": \"23885c9e\"}, \"3295ea18\": {\"frequency\": 1237, \"value\": \"3295ea18\"}, \"7feb67f8\": {\"frequency\": 425, \"value\": \"7feb67f8\"}, \"cc1b551e\": {\"frequency\": 3111, \"value\": \"cc1b551e\"}, \"fd235d3a\": {\"frequency\": 2152, \"value\": \"fd235d3a\"}, \"d2679b96\": {\"frequency\": 666, \"value\": \"d2679b96\"}, \"5dee1d65\": {\"frequency\": 1285, \"value\": \"5dee1d65\"}, \"5ff9dedd\": {\"frequency\": 753, \"value\": \"5ff9dedd\"}, \"be74e6fe\": {\"frequency\": 47363, \"value\": \"be74e6fe\"}, \"f8d834d0\": {\"frequency\": 532, \"value\": \"f8d834d0\"}, \"a2a0782c\": {\"frequency\": 700, \"value\": \"a2a0782c\"}, \"629a0986\": {\"frequency\": 973, \"value\": \"629a0986\"}, \"dc00d461\": {\"frequency\": 1346, \"value\": \"dc00d461\"}, \"2db63e92\": {\"frequency\": 2510, \"value\": \"2db63e92\"}, \"9a45a8e8\": {\"frequency\": 1034, \"value\": \"9a45a8e8\"}, \"609e0b82\": {\"frequency\": 822, \"value\": \"609e0b82\"}, \"44801bc1\": {\"frequency\": 8775, \"value\": \"44801bc1\"}, \"ffe69079\": {\"frequency\": 964, \"value\": \"ffe69079\"}, \"597f7364\": {\"frequency\": 4170, \"value\": \"597f7364\"}, \"4042e175\": {\"frequency\": 2636, \"value\": \"4042e175\"}, \"cbc61465\": {\"frequency\": 770, \"value\": \"cbc61465\"}, \"0a10024e\": {\"frequency\": 1445, \"value\": \"0a10024e\"}, \"d7a4a54d\": {\"frequency\": 615, \"value\": \"d7a4a54d\"}, \"44c701de\": {\"frequency\": 2009, \"value\": \"44c701de\"}, \"058e0eb7\": {\"frequency\": 1331, \"value\": \"058e0eb7\"}, \"a0b262c6\": {\"frequency\": 1035, \"value\": \"a0b262c6\"}, \"7044c261\": {\"frequency\": 1347, \"value\": \"7044c261\"}, \"89416188\": {\"frequency\": 10500, \"value\": \"89416188\"}, \"021b641d\": {\"frequency\": 1897, \"value\": \"021b641d\"}, \"76dc4769\": {\"frequency\": 73245, \"value\": \"76dc4769\"}, \"a0f5f879\": {\"frequency\": 74047, \"value\": \"a0f5f879\"}, \"1538d6e1\": {\"frequency\": 744, \"value\": \"1538d6e1\"}, \"6f1a5911\": {\"frequency\": 1584, \"value\": \"6f1a5911\"}, \"1aa0e912\": {\"frequency\": 14973, \"value\": \"1aa0e912\"}, \"dfeda01b\": {\"frequency\": 4830, \"value\": \"dfeda01b\"}, \"8fd3ae0c\": {\"frequency\": 500, \"value\": \"8fd3ae0c\"}, \"3ec634b5\": {\"frequency\": 617, \"value\": \"3ec634b5\"}, \"d1e96fc0\": {\"frequency\": 632, \"value\": \"d1e96fc0\"}, \"ecb851b2\": {\"frequency\": 65402, \"value\": \"ecb851b2\"}, \"5db079b5\": {\"frequency\": 34792, \"value\": \"5db079b5\"}, \"739ce3e7\": {\"frequency\": 458, \"value\": \"739ce3e7\"}, \"5be1ba3d\": {\"frequency\": 699, \"value\": \"5be1ba3d\"}, \"b7e932e7\": {\"frequency\": 3613, \"value\": \"b7e932e7\"}, \"4af5f36a\": {\"frequency\": 534, \"value\": \"4af5f36a\"}, \"7e6190f3\": {\"frequency\": 794, \"value\": \"7e6190f3\"}, \"0b3a28f0\": {\"frequency\": 915, \"value\": \"0b3a28f0\"}, \"38fa23d7\": {\"frequency\": 1603, \"value\": \"38fa23d7\"}, \"a9a55ebd\": {\"frequency\": 1167, \"value\": \"a9a55ebd\"}, \"da9c0785\": {\"frequency\": 450, \"value\": \"da9c0785\"}, \"900981af\": {\"frequency\": 2329, \"value\": \"900981af\"}, \"e7816ba8\": {\"frequency\": 463, \"value\": \"e7816ba8\"}, \"ce12dd72\": {\"frequency\": 2096, \"value\": \"ce12dd72\"}, \"24399af1\": {\"frequency\": 1854, \"value\": \"24399af1\"}, \"0d8ce284\": {\"frequency\": 1137, \"value\": \"0d8ce284\"}, \"649e7a14\": {\"frequency\": 1746, \"value\": \"649e7a14\"}, \"7dc3b26e\": {\"frequency\": 6434, \"value\": \"7dc3b26e\"}, \"d7fe30a4\": {\"frequency\": 3813, \"value\": \"d7fe30a4\"}, \"b83a916e\": {\"frequency\": 630, \"value\": \"b83a916e\"}, \"72dab84d\": {\"frequency\": 2084, \"value\": \"72dab84d\"}, \"9e371626\": {\"frequency\": 437, \"value\": \"9e371626\"}, \"801b384c\": {\"frequency\": 3436, \"value\": \"801b384c\"}, \"9bf61ad2\": {\"frequency\": 1490, \"value\": \"9bf61ad2\"}, \"a9fb0439\": {\"frequency\": 4705, \"value\": \"a9fb0439\"}, \"b784212f\": {\"frequency\": 828, \"value\": \"b784212f\"}, \"05b9fa1b\": {\"frequency\": 2098, \"value\": \"05b9fa1b\"}, \"a29a4df9\": {\"frequency\": 882, \"value\": \"a29a4df9\"}, \"aba190f1\": {\"frequency\": 927, \"value\": \"aba190f1\"}, \"d25693ce\": {\"frequency\": 9586, \"value\": \"d25693ce\"}, \"747d243c\": {\"frequency\": 1185, \"value\": \"747d243c\"}, \"8f1db0bc\": {\"frequency\": 2557, \"value\": \"8f1db0bc\"}, \"128f4ba1\": {\"frequency\": 963, \"value\": \"128f4ba1\"}, \"4557228f\": {\"frequency\": 1627, \"value\": \"4557228f\"}, \"b78e6543\": {\"frequency\": 1008, \"value\": \"b78e6543\"}, \"cab7ad1c\": {\"frequency\": 2249, \"value\": \"cab7ad1c\"}, \"520ca87c\": {\"frequency\": 1493, \"value\": \"520ca87c\"}, \"aa03c32c\": {\"frequency\": 479, \"value\": \"aa03c32c\"}, \"a1a7a957\": {\"frequency\": 5144, \"value\": \"a1a7a957\"}, \"fdd86e39\": {\"frequency\": 1088, \"value\": \"fdd86e39\"}, \"a348ca55\": {\"frequency\": 529, \"value\": \"a348ca55\"}, \"7120e05e\": {\"frequency\": 4846, \"value\": \"7120e05e\"}, \"191e9c26\": {\"frequency\": 851, \"value\": \"191e9c26\"}, \"76cb3d08\": {\"frequency\": 769, \"value\": \"76cb3d08\"}, \"365e64e3\": {\"frequency\": 1778, \"value\": \"365e64e3\"}, \"83ed0b87\": {\"frequency\": 1677, \"value\": \"83ed0b87\"}, \"6f21a189\": {\"frequency\": 6767, \"value\": \"6f21a189\"}, \"80fdc835\": {\"frequency\": 698, \"value\": \"80fdc835\"}, \"46a414f4\": {\"frequency\": 1049, \"value\": \"46a414f4\"}, \"2891f384\": {\"frequency\": 16555, \"value\": \"2891f384\"}, \"a2140f4f\": {\"frequency\": 679, \"value\": \"a2140f4f\"}, \"d787e91b\": {\"frequency\": 153214, \"value\": \"d787e91b\"}, \"fbc27727\": {\"frequency\": 1961, \"value\": \"fbc27727\"}, \"1b8a6145\": {\"frequency\": 1503, \"value\": \"1b8a6145\"}, \"0ea40c5b\": {\"frequency\": 1335, \"value\": \"0ea40c5b\"}, \"78d9bd10\": {\"frequency\": 8832, \"value\": \"78d9bd10\"}, \"6c3bc657\": {\"frequency\": 426, \"value\": \"6c3bc657\"}, \"894fb406\": {\"frequency\": 1994, \"value\": \"894fb406\"}, \"2c85d13a\": {\"frequency\": 1091, \"value\": \"2c85d13a\"}, \"3491f1bd\": {\"frequency\": 1027, \"value\": \"3491f1bd\"}, \"c464aa46\": {\"frequency\": 4139, \"value\": \"c464aa46\"}, \"c64f1736\": {\"frequency\": 421, \"value\": \"c64f1736\"}, \"eb1347a0\": {\"frequency\": 1240, \"value\": \"eb1347a0\"}, \"ca848d51\": {\"frequency\": 430, \"value\": \"ca848d51\"}, \"1f5fd4f9\": {\"frequency\": 1057, \"value\": \"1f5fd4f9\"}, \"43e7b962\": {\"frequency\": 14941, \"value\": \"43e7b962\"}, \"17219cea\": {\"frequency\": 1399, \"value\": \"17219cea\"}, \"70e51edb\": {\"frequency\": 1512, \"value\": \"70e51edb\"}, \"08684f7e\": {\"frequency\": 649, \"value\": \"08684f7e\"}, \"a68723e9\": {\"frequency\": 482, \"value\": \"a68723e9\"}, \"cc63cb07\": {\"frequency\": 1386, \"value\": \"cc63cb07\"}, \"14c754ae\": {\"frequency\": 1878, \"value\": \"14c754ae\"}, \"a2f15940\": {\"frequency\": 649, \"value\": \"a2f15940\"}, \"c1ed9e7e\": {\"frequency\": 1035, \"value\": \"c1ed9e7e\"}, \"c207a47d\": {\"frequency\": 639, \"value\": \"c207a47d\"}, \"2c948de5\": {\"frequency\": 2168, \"value\": \"2c948de5\"}, \"9dcb1cd1\": {\"frequency\": 2025, \"value\": \"9dcb1cd1\"}, \"9bbdb88c\": {\"frequency\": 2038, \"value\": \"9bbdb88c\"}, \"6ae7fb43\": {\"frequency\": 2083, \"value\": \"6ae7fb43\"}, \"34091644\": {\"frequency\": 601, \"value\": \"34091644\"}, \"c6009a55\": {\"frequency\": 427, \"value\": \"c6009a55\"}, \"fce66524\": {\"frequency\": 31569, \"value\": \"fce66524\"}, \"f489cdfc\": {\"frequency\": 414, \"value\": \"f489cdfc\"}, \"d9a2d3a9\": {\"frequency\": 973, \"value\": \"d9a2d3a9\"}, \"feacaaee\": {\"frequency\": 1784, \"value\": \"feacaaee\"}, \"900ad1f7\": {\"frequency\": 426, \"value\": \"900ad1f7\"}, \"83ca6fdb\": {\"frequency\": 544, \"value\": \"83ca6fdb\"}, \"a53d68c3\": {\"frequency\": 1856, \"value\": \"a53d68c3\"}, \"ef337993\": {\"frequency\": 1549, \"value\": \"ef337993\"}, \"f186d2e8\": {\"frequency\": 2232, \"value\": \"f186d2e8\"}, \"a4b6f65b\": {\"frequency\": 3635, \"value\": \"a4b6f65b\"}, \"91be858e\": {\"frequency\": 608, \"value\": \"91be858e\"}, \"be8e9571\": {\"frequency\": 883, \"value\": \"be8e9571\"}, \"2203a096\": {\"frequency\": 22430, \"value\": \"2203a096\"}, \"d780319b\": {\"frequency\": 936, \"value\": \"d780319b\"}, \"30e67ecb\": {\"frequency\": 779, \"value\": \"30e67ecb\"}, \"07df03b2\": {\"frequency\": 809, \"value\": \"07df03b2\"}, \"fb518049\": {\"frequency\": 478, \"value\": \"fb518049\"}, \"5270909d\": {\"frequency\": 459, \"value\": \"5270909d\"}, \"56243372\": {\"frequency\": 422, \"value\": \"56243372\"}, \"1df52df3\": {\"frequency\": 5330, \"value\": \"1df52df3\"}, \"2de871e6\": {\"frequency\": 1970, \"value\": \"2de871e6\"}, \"edead9f4\": {\"frequency\": 6450, \"value\": \"edead9f4\"}, \"505731e4\": {\"frequency\": 2356, \"value\": \"505731e4\"}, \"05490809\": {\"frequency\": 470, \"value\": \"05490809\"}, \"0af36777\": {\"frequency\": 722, \"value\": \"0af36777\"}, \"89deac5a\": {\"frequency\": 1086, \"value\": \"89deac5a\"}, \"6c15a39b\": {\"frequency\": 678, \"value\": \"6c15a39b\"}, \"2b127119\": {\"frequency\": 2704, \"value\": \"2b127119\"}, \"d1f97bd7\": {\"frequency\": 451, \"value\": \"d1f97bd7\"}, \"5d36a8e0\": {\"frequency\": 416, \"value\": \"5d36a8e0\"}, \"cfda8af0\": {\"frequency\": 584, \"value\": \"cfda8af0\"}, \"069fda1d\": {\"frequency\": 1005, \"value\": \"069fda1d\"}, \"65f4e3d1\": {\"frequency\": 679, \"value\": \"65f4e3d1\"}, \"7fce49a8\": {\"frequency\": 1110, \"value\": \"7fce49a8\"}, \"0d7ad2f3\": {\"frequency\": 971, \"value\": \"0d7ad2f3\"}, \"e8d6bd6d\": {\"frequency\": 1421, \"value\": \"e8d6bd6d\"}, \"90f22c00\": {\"frequency\": 656, \"value\": \"90f22c00\"}, \"3421dfe4\": {\"frequency\": 591, \"value\": \"3421dfe4\"}, \"c3f7117b\": {\"frequency\": 4335, \"value\": \"c3f7117b\"}, \"8fb776fd\": {\"frequency\": 937, \"value\": \"8fb776fd\"}, \"7f015023\": {\"frequency\": 736, \"value\": \"7f015023\"}, \"eee4aa16\": {\"frequency\": 666, \"value\": \"eee4aa16\"}, \"ff607a1a\": {\"frequency\": 654, \"value\": \"ff607a1a\"}, \"8b65b455\": {\"frequency\": 512, \"value\": \"8b65b455\"}, \"9a08f9c3\": {\"frequency\": 533, \"value\": \"9a08f9c3\"}, \"265e937c\": {\"frequency\": 486, \"value\": \"265e937c\"}, \"e981565c\": {\"frequency\": 7978, \"value\": \"e981565c\"}, \"cd5b1559\": {\"frequency\": 17162, \"value\": \"cd5b1559\"}, \"a76c4b0a\": {\"frequency\": 1403, \"value\": \"a76c4b0a\"}, \"dab059c4\": {\"frequency\": 1352, \"value\": \"dab059c4\"}, \"86030d43\": {\"frequency\": 7570, \"value\": \"86030d43\"}, \"5ec45883\": {\"frequency\": 17518, \"value\": \"5ec45883\"}, \"ae1b1e3b\": {\"frequency\": 915, \"value\": \"ae1b1e3b\"}, \"60a575ef\": {\"frequency\": 653, \"value\": \"60a575ef\"}, \"9e6d3278\": {\"frequency\": 1053, \"value\": \"9e6d3278\"}, \"8a6685fe\": {\"frequency\": 430, \"value\": \"8a6685fe\"}, \"160c310f\": {\"frequency\": 417, \"value\": \"160c310f\"}, \"0dbcc560\": {\"frequency\": 740, \"value\": \"0dbcc560\"}, \"e9b8d8d7\": {\"frequency\": 15122, \"value\": \"e9b8d8d7\"}, \"42de6880\": {\"frequency\": 432, \"value\": \"42de6880\"}, \"e63a90f7\": {\"frequency\": 695, \"value\": \"e63a90f7\"}, \"eba9519f\": {\"frequency\": 2079, \"value\": \"eba9519f\"}, \"8571106b\": {\"frequency\": 7494, \"value\": \"8571106b\"}, \"225078da\": {\"frequency\": 513, \"value\": \"225078da\"}, \"837b5bc8\": {\"frequency\": 1267, \"value\": \"837b5bc8\"}, \"8ce34352\": {\"frequency\": 14290, \"value\": \"8ce34352\"}, \"0d0707c8\": {\"frequency\": 1733, \"value\": \"0d0707c8\"}, \"2692a96a\": {\"frequency\": 4253, \"value\": \"2692a96a\"}, \"2cd8b8ab\": {\"frequency\": 499, \"value\": \"2cd8b8ab\"}, \"8bfcd3c6\": {\"frequency\": 2607, \"value\": \"8bfcd3c6\"}, \"526fa832\": {\"frequency\": 2901, \"value\": \"526fa832\"}, \"e1eae715\": {\"frequency\": 6347, \"value\": \"e1eae715\"}, \"94a6ac23\": {\"frequency\": 1303, \"value\": \"94a6ac23\"}, \"81b42528\": {\"frequency\": 10615, \"value\": \"81b42528\"}, \"fa952a77\": {\"frequency\": 3300, \"value\": \"fa952a77\"}, \"0ac04b54\": {\"frequency\": 451, \"value\": \"0ac04b54\"}, \"60f13afb\": {\"frequency\": 1498, \"value\": \"60f13afb\"}, \"5b799d60\": {\"frequency\": 1056, \"value\": \"5b799d60\"}, \"b0b26233\": {\"frequency\": 528, \"value\": \"b0b26233\"}, \"a17b4231\": {\"frequency\": 748, \"value\": \"a17b4231\"}, \"d8cfb063\": {\"frequency\": 1802, \"value\": \"d8cfb063\"}, \"77bf3c3c\": {\"frequency\": 5185, \"value\": \"77bf3c3c\"}, \"88fbaa46\": {\"frequency\": 3707, \"value\": \"88fbaa46\"}, \"542422a7\": {\"frequency\": 7770, \"value\": \"542422a7\"}, \"160c1b41\": {\"frequency\": 472, \"value\": \"160c1b41\"}, \"32c54c76\": {\"frequency\": 511, \"value\": \"32c54c76\"}, \"16954458\": {\"frequency\": 5661, \"value\": \"16954458\"}, \"00e71d3a\": {\"frequency\": 663, \"value\": \"00e71d3a\"}, \"5b4ceb40\": {\"frequency\": 1368, \"value\": \"5b4ceb40\"}, \"c7c0dcb3\": {\"frequency\": 877, \"value\": \"c7c0dcb3\"}, \"2ee63ff8\": {\"frequency\": 2056, \"value\": \"2ee63ff8\"}, \"01d57fd7\": {\"frequency\": 417, \"value\": \"01d57fd7\"}, \"af8f2721\": {\"frequency\": 515, \"value\": \"af8f2721\"}, \"76f67383\": {\"frequency\": 688, \"value\": \"76f67383\"}, \"40e56cdb\": {\"frequency\": 455, \"value\": \"40e56cdb\"}, \"9ba9e05b\": {\"frequency\": 827, \"value\": \"9ba9e05b\"}, \"7fdd04d2\": {\"frequency\": 7434, \"value\": \"7fdd04d2\"}, \"b13341d8\": {\"frequency\": 422, \"value\": \"b13341d8\"}, \"1c6a881d\": {\"frequency\": 11635, \"value\": \"1c6a881d\"}, \"5aab26c7\": {\"frequency\": 574, \"value\": \"5aab26c7\"}, \"d3b3178d\": {\"frequency\": 3405, \"value\": \"d3b3178d\"}, \"b4b7403a\": {\"frequency\": 645, \"value\": \"b4b7403a\"}, \"82f41bba\": {\"frequency\": 631, \"value\": \"82f41bba\"}, \"41c87f95\": {\"frequency\": 3522, \"value\": \"41c87f95\"}, \"3abac7db\": {\"frequency\": 443, \"value\": \"3abac7db\"}, \"c794d6c9\": {\"frequency\": 1282, \"value\": \"c794d6c9\"}, \"fbec56bc\": {\"frequency\": 5922, \"value\": \"fbec56bc\"}, \"368cc049\": {\"frequency\": 422, \"value\": \"368cc049\"}, \"158e4944\": {\"frequency\": 34513, \"value\": \"158e4944\"}, \"ad6d46df\": {\"frequency\": 1876, \"value\": \"ad6d46df\"}, \"99e427c9\": {\"frequency\": 31366, \"value\": \"99e427c9\"}, \"167fcbeb\": {\"frequency\": 512, \"value\": \"167fcbeb\"}, \"cad4c01d\": {\"frequency\": 6751, \"value\": \"cad4c01d\"}, \"fa374547\": {\"frequency\": 1613, \"value\": \"fa374547\"}, \"6afc734f\": {\"frequency\": 2305, \"value\": \"6afc734f\"}, \"88fe1d5d\": {\"frequency\": 17355, \"value\": \"88fe1d5d\"}, \"37d3900c\": {\"frequency\": 1463, \"value\": \"37d3900c\"}, \"f0d0305d\": {\"frequency\": 423, \"value\": \"f0d0305d\"}, \"15a51a0e\": {\"frequency\": 591, \"value\": \"15a51a0e\"}, \"289f5dac\": {\"frequency\": 1282, \"value\": \"289f5dac\"}, \"108af550\": {\"frequency\": 437, \"value\": \"108af550\"}, \"aaffed8f\": {\"frequency\": 10406, \"value\": \"aaffed8f\"}, \"3e7932d7\": {\"frequency\": 9585, \"value\": \"3e7932d7\"}, \"7a044878\": {\"frequency\": 459, \"value\": \"7a044878\"}, \"b50d2bf4\": {\"frequency\": 3083, \"value\": \"b50d2bf4\"}, \"6fbf9f9f\": {\"frequency\": 837, \"value\": \"6fbf9f9f\"}, \"6ee42729\": {\"frequency\": 720, \"value\": \"6ee42729\"}, \"73b4563d\": {\"frequency\": 3713, \"value\": \"73b4563d\"}, \"7b7ca585\": {\"frequency\": 3185, \"value\": \"7b7ca585\"}, \"cdfde03b\": {\"frequency\": 1269, \"value\": \"cdfde03b\"}, \"56cfb4f8\": {\"frequency\": 511, \"value\": \"56cfb4f8\"}, \"235bcfc1\": {\"frequency\": 1369, \"value\": \"235bcfc1\"}, \"3031bea0\": {\"frequency\": 629, \"value\": \"3031bea0\"}, \"45abfcf3\": {\"frequency\": 622, \"value\": \"45abfcf3\"}, \"b511840f\": {\"frequency\": 946, \"value\": \"b511840f\"}, \"1e5925f1\": {\"frequency\": 418, \"value\": \"1e5925f1\"}, \"9efa421a\": {\"frequency\": 6208, \"value\": \"9efa421a\"}, \"ab145aa1\": {\"frequency\": 2148, \"value\": \"ab145aa1\"}, \"f4a9b698\": {\"frequency\": 415, \"value\": \"f4a9b698\"}, \"b5bf16e5\": {\"frequency\": 572, \"value\": \"b5bf16e5\"}, \"25cfc3c9\": {\"frequency\": 613, \"value\": \"25cfc3c9\"}, \"2e0de5da\": {\"frequency\": 1590, \"value\": \"2e0de5da\"}, \"c03563ed\": {\"frequency\": 629, \"value\": \"c03563ed\"}, \"373ecbe6\": {\"frequency\": 11789, \"value\": \"373ecbe6\"}, \"f39b265e\": {\"frequency\": 13764, \"value\": \"f39b265e\"}, \"8f5c9827\": {\"frequency\": 4101, \"value\": \"8f5c9827\"}, \"553f099b\": {\"frequency\": 8351, \"value\": \"553f099b\"}, \"57e33432\": {\"frequency\": 1193, \"value\": \"57e33432\"}, \"46d98882\": {\"frequency\": 7198, \"value\": \"46d98882\"}, \"6871ac88\": {\"frequency\": 603, \"value\": \"6871ac88\"}, \"69f9dd0e\": {\"frequency\": 1569, \"value\": \"69f9dd0e\"}, \"d31a172e\": {\"frequency\": 2256, \"value\": \"d31a172e\"}, \"9f8d0424\": {\"frequency\": 1172, \"value\": \"9f8d0424\"}, \"f5351a9b\": {\"frequency\": 482, \"value\": \"f5351a9b\"}, \"a4528ded\": {\"frequency\": 1931, \"value\": \"a4528ded\"}, \"06fbfd42\": {\"frequency\": 2161, \"value\": \"06fbfd42\"}, \"411c16c9\": {\"frequency\": 723, \"value\": \"411c16c9\"}, \"e90f2770\": {\"frequency\": 749, \"value\": \"e90f2770\"}, \"6715887e\": {\"frequency\": 1735, \"value\": \"6715887e\"}, \"1617d758\": {\"frequency\": 2484, \"value\": \"1617d758\"}, \"c436ccde\": {\"frequency\": 1171, \"value\": \"c436ccde\"}, \"cc1e3ed4\": {\"frequency\": 1503, \"value\": \"cc1e3ed4\"}, \"bd7ff5aa\": {\"frequency\": 513, \"value\": \"bd7ff5aa\"}, \"16442619\": {\"frequency\": 519, \"value\": \"16442619\"}, \"4c8aeb60\": {\"frequency\": 2007, \"value\": \"4c8aeb60\"}, \"07d76b42\": {\"frequency\": 556, \"value\": \"07d76b42\"}, \"947f5ef6\": {\"frequency\": 955, \"value\": \"947f5ef6\"}, \"cfae4c91\": {\"frequency\": 664, \"value\": \"cfae4c91\"}, \"5d7f83d0\": {\"frequency\": 1346, \"value\": \"5d7f83d0\"}, \"0d331951\": {\"frequency\": 413, \"value\": \"0d331951\"}, \"2319f641\": {\"frequency\": 1073, \"value\": \"2319f641\"}, \"dd701fcb\": {\"frequency\": 1763, \"value\": \"dd701fcb\"}, \"7b75d3a6\": {\"frequency\": 2170, \"value\": \"7b75d3a6\"}, \"597ff2d3\": {\"frequency\": 1101, \"value\": \"597ff2d3\"}, \"b4e5827b\": {\"frequency\": 854, \"value\": \"b4e5827b\"}, \"83cd1c10\": {\"frequency\": 1054, \"value\": \"83cd1c10\"}, \"421872ab\": {\"frequency\": 2656, \"value\": \"421872ab\"}, \"20b26358\": {\"frequency\": 437, \"value\": \"20b26358\"}, \"fae6e11e\": {\"frequency\": 635, \"value\": \"fae6e11e\"}, \"3bc193db\": {\"frequency\": 496, \"value\": \"3bc193db\"}, \"28e69561\": {\"frequency\": 752, \"value\": \"28e69561\"}, \"a25f5408\": {\"frequency\": 756, \"value\": \"a25f5408\"}, \"8d4d7618\": {\"frequency\": 418, \"value\": \"8d4d7618\"}, \"cb3368d2\": {\"frequency\": 547, \"value\": \"cb3368d2\"}, \"3d20877d\": {\"frequency\": 1003, \"value\": \"3d20877d\"}, \"24f6b932\": {\"frequency\": 20685, \"value\": \"24f6b932\"}, \"ef726eae\": {\"frequency\": 29997, \"value\": \"ef726eae\"}, \"ea1c91d4\": {\"frequency\": 477, \"value\": \"ea1c91d4\"}, \"5f2e71ba\": {\"frequency\": 450, \"value\": \"5f2e71ba\"}, \"0ebb2d8a\": {\"frequency\": 540, \"value\": \"0ebb2d8a\"}, \"5113a51d\": {\"frequency\": 452, \"value\": \"5113a51d\"}, \"8db09f1c\": {\"frequency\": 477, \"value\": \"8db09f1c\"}, \"9801dcd7\": {\"frequency\": 1129, \"value\": \"9801dcd7\"}, \"7cc54c90\": {\"frequency\": 483, \"value\": \"7cc54c90\"}, \"d14c4241\": {\"frequency\": 2630, \"value\": \"d14c4241\"}, \"b633d9d6\": {\"frequency\": 413, \"value\": \"b633d9d6\"}, \"d056b4bf\": {\"frequency\": 7962, \"value\": \"d056b4bf\"}, \"3bb1ddd7\": {\"frequency\": 25402, \"value\": \"3bb1ddd7\"}, \"ab5132f6\": {\"frequency\": 954, \"value\": \"ab5132f6\"}, \"d8a606a5\": {\"frequency\": 768, \"value\": \"d8a606a5\"}, \"c5cc73c1\": {\"frequency\": 4009, \"value\": \"c5cc73c1\"}, \"9a233deb\": {\"frequency\": 523, \"value\": \"9a233deb\"}, \"c65e0e5e\": {\"frequency\": 773, \"value\": \"c65e0e5e\"}, \"e89d7ec2\": {\"frequency\": 661, \"value\": \"e89d7ec2\"}, \"e2d68230\": {\"frequency\": 506, \"value\": \"e2d68230\"}, \"051263ee\": {\"frequency\": 1859, \"value\": \"051263ee\"}, \"2683d6a0\": {\"frequency\": 528, \"value\": \"2683d6a0\"}, \"d1b0c050\": {\"frequency\": 998, \"value\": \"d1b0c050\"}, \"429bf051\": {\"frequency\": 465, \"value\": \"429bf051\"}, \"e27ae37e\": {\"frequency\": 505, \"value\": \"e27ae37e\"}, \"28dba53a\": {\"frequency\": 691, \"value\": \"28dba53a\"}, \"2882146f\": {\"frequency\": 1121, \"value\": \"2882146f\"}, \"22988b75\": {\"frequency\": 449, \"value\": \"22988b75\"}, \"d0e8e253\": {\"frequency\": 457, \"value\": \"d0e8e253\"}, \"0d2aee01\": {\"frequency\": 458, \"value\": \"0d2aee01\"}, \"1bd6348d\": {\"frequency\": 1632, \"value\": \"1bd6348d\"}, \"0aa15e63\": {\"frequency\": 1072, \"value\": \"0aa15e63\"}, \"cdf6ea96\": {\"frequency\": 12459, \"value\": \"cdf6ea96\"}, \"293291c1\": {\"frequency\": 4429, \"value\": \"293291c1\"}, \"36d749e5\": {\"frequency\": 33529, \"value\": \"36d749e5\"}, \"77001aaf\": {\"frequency\": 1060, \"value\": \"77001aaf\"}, \"275fc61c\": {\"frequency\": 1611, \"value\": \"275fc61c\"}, \"d34f4c90\": {\"frequency\": 482, \"value\": \"d34f4c90\"}, \"d8337869\": {\"frequency\": 1586, \"value\": \"d8337869\"}, \"816484ae\": {\"frequency\": 2332, \"value\": \"816484ae\"}, \"7294839b\": {\"frequency\": 2352, \"value\": \"7294839b\"}, \"8a88896c\": {\"frequency\": 681, \"value\": \"8a88896c\"}, \"8587457d\": {\"frequency\": 781, \"value\": \"8587457d\"}, \"555cd193\": {\"frequency\": 561, \"value\": \"555cd193\"}, \"1610002a\": {\"frequency\": 2298, \"value\": \"1610002a\"}, \"a80eb5d7\": {\"frequency\": 1099, \"value\": \"a80eb5d7\"}, \"bf160cf9\": {\"frequency\": 797, \"value\": \"bf160cf9\"}, \"d9416f3d\": {\"frequency\": 417, \"value\": \"d9416f3d\"}, \"8a4875bd\": {\"frequency\": 247970, \"value\": \"8a4875bd\"}, \"6f7a55d2\": {\"frequency\": 764, \"value\": \"6f7a55d2\"}, \"0dedddc5\": {\"frequency\": 6595, \"value\": \"0dedddc5\"}, \"897aafd7\": {\"frequency\": 1763, \"value\": \"897aafd7\"}, \"e3bb76b5\": {\"frequency\": 3446, \"value\": \"e3bb76b5\"}, \"03683bd4\": {\"frequency\": 7764, \"value\": \"03683bd4\"}, \"34739058\": {\"frequency\": 798, \"value\": \"34739058\"}, \"dc15c87e\": {\"frequency\": 7233, \"value\": \"dc15c87e\"}, \"c2d476e2\": {\"frequency\": 500, \"value\": \"c2d476e2\"}, \"836d2439\": {\"frequency\": 2891, \"value\": \"836d2439\"}, \"23823d8b\": {\"frequency\": 3651, \"value\": \"23823d8b\"}, \"21b5fb3d\": {\"frequency\": 957, \"value\": \"21b5fb3d\"}, \"d5fbe357\": {\"frequency\": 501, \"value\": \"d5fbe357\"}, \"1ebc7efd\": {\"frequency\": 1956, \"value\": \"1ebc7efd\"}, \"66d46f3d\": {\"frequency\": 824, \"value\": \"66d46f3d\"}, \"ad0ecb0d\": {\"frequency\": 922, \"value\": \"ad0ecb0d\"}, \"524ad92e\": {\"frequency\": 683, \"value\": \"524ad92e\"}, \"0f33af29\": {\"frequency\": 1018, \"value\": \"0f33af29\"}, \"c9f7dab9\": {\"frequency\": 713, \"value\": \"c9f7dab9\"}, \"d4527c28\": {\"frequency\": 995, \"value\": \"d4527c28\"}, \"df36cdb8\": {\"frequency\": 1429, \"value\": \"df36cdb8\"}, \"9ee2ab36\": {\"frequency\": 2886, \"value\": \"9ee2ab36\"}, \"6332421a\": {\"frequency\": 18749, \"value\": \"6332421a\"}, \"a0215413\": {\"frequency\": 705, \"value\": \"a0215413\"}, \"4567d2e5\": {\"frequency\": 444, \"value\": \"4567d2e5\"}, \"945dd5c4\": {\"frequency\": 7129, \"value\": \"945dd5c4\"}, \"0d9ae625\": {\"frequency\": 1558, \"value\": \"0d9ae625\"}, \"3c53a1a6\": {\"frequency\": 1073, \"value\": \"3c53a1a6\"}, \"54408210\": {\"frequency\": 985, \"value\": \"54408210\"}, \"dc780755\": {\"frequency\": 455, \"value\": \"dc780755\"}, \"0b0e5bc5\": {\"frequency\": 601, \"value\": \"0b0e5bc5\"}, \"a9b05547\": {\"frequency\": 4894, \"value\": \"a9b05547\"}, \"620311f4\": {\"frequency\": 2462, \"value\": \"620311f4\"}, \"7375dd40\": {\"frequency\": 1923, \"value\": \"7375dd40\"}, \"33c9c797\": {\"frequency\": 2281, \"value\": \"33c9c797\"}, \"ae9343b5\": {\"frequency\": 1148, \"value\": \"ae9343b5\"}, \"02635b69\": {\"frequency\": 852, \"value\": \"02635b69\"}, \"ff065cf0\": {\"frequency\": 11425, \"value\": \"ff065cf0\"}, \"61761ee1\": {\"frequency\": 1299, \"value\": \"61761ee1\"}, \"517bef98\": {\"frequency\": 1094, \"value\": \"517bef98\"}, \"96b83ebe\": {\"frequency\": 461, \"value\": \"96b83ebe\"}, \"90df9d44\": {\"frequency\": 2322, \"value\": \"90df9d44\"}, \"25e362e2\": {\"frequency\": 776, \"value\": \"25e362e2\"}, \"dab823eb\": {\"frequency\": 1995, \"value\": \"dab823eb\"}, \"744ae245\": {\"frequency\": 9385, \"value\": \"744ae245\"}, \"35e87701\": {\"frequency\": 2192, \"value\": \"35e87701\"}, \"b4b19c97\": {\"frequency\": 18580, \"value\": \"b4b19c97\"}, \"567b92c5\": {\"frequency\": 1316, \"value\": \"567b92c5\"}, \"f37ed101\": {\"frequency\": 1418, \"value\": \"f37ed101\"}, \"3db9fde9\": {\"frequency\": 3128, \"value\": \"3db9fde9\"}, \"e5c6e4b1\": {\"frequency\": 1567, \"value\": \"e5c6e4b1\"}, \"d10ca9bd\": {\"frequency\": 432, \"value\": \"d10ca9bd\"}, \"60eb1f19\": {\"frequency\": 1410, \"value\": \"60eb1f19\"}, \"ac221d6c\": {\"frequency\": 2418, \"value\": \"ac221d6c\"}, \"bc8913e3\": {\"frequency\": 1089, \"value\": \"bc8913e3\"}, \"3e72ab6c\": {\"frequency\": 2312, \"value\": \"3e72ab6c\"}, \"bc8f5d71\": {\"frequency\": 610, \"value\": \"bc8f5d71\"}, \"4962150e\": {\"frequency\": 3048, \"value\": \"4962150e\"}, \"da10f4da\": {\"frequency\": 1329, \"value\": \"da10f4da\"}, \"a8735f2a\": {\"frequency\": 673, \"value\": \"a8735f2a\"}, \"0dc22ebc\": {\"frequency\": 1005, \"value\": \"0dc22ebc\"}, \"cb7ca6a2\": {\"frequency\": 416, \"value\": \"cb7ca6a2\"}, \"0beb4199\": {\"frequency\": 439, \"value\": \"0beb4199\"}, \"8d19d3d4\": {\"frequency\": 1490, \"value\": \"8d19d3d4\"}, \"13555279\": {\"frequency\": 2939, \"value\": \"13555279\"}, \"c9a7ccb1\": {\"frequency\": 651, \"value\": \"c9a7ccb1\"}, \"3769962c\": {\"frequency\": 676, \"value\": \"3769962c\"}, \"db1d05df\": {\"frequency\": 2223, \"value\": \"db1d05df\"}, \"57b3c6c3\": {\"frequency\": 4095, \"value\": \"57b3c6c3\"}, \"cf28826a\": {\"frequency\": 898, \"value\": \"cf28826a\"}, \"2ea4f8ba\": {\"frequency\": 24737, \"value\": \"2ea4f8ba\"}, \"cb349e4e\": {\"frequency\": 755, \"value\": \"cb349e4e\"}, \"2cd85f9e\": {\"frequency\": 1242, \"value\": \"2cd85f9e\"}, \"a5a2318d\": {\"frequency\": 4208, \"value\": \"a5a2318d\"}, \"f5da7bc4\": {\"frequency\": 548, \"value\": \"f5da7bc4\"}, \"3fecb32a\": {\"frequency\": 1121, \"value\": \"3fecb32a\"}, \"05566ad2\": {\"frequency\": 770, \"value\": \"05566ad2\"}, \"6ad5d5d4\": {\"frequency\": 715, \"value\": \"6ad5d5d4\"}, \"3d64834e\": {\"frequency\": 2139, \"value\": \"3d64834e\"}, \"38c63a3a\": {\"frequency\": 1658, \"value\": \"38c63a3a\"}, \"7f6c1965\": {\"frequency\": 504, \"value\": \"7f6c1965\"}, \"a9e0c3ab\": {\"frequency\": 2516, \"value\": \"a9e0c3ab\"}, \"30a00e1f\": {\"frequency\": 505, \"value\": \"30a00e1f\"}, \"3f2a1e0a\": {\"frequency\": 420, \"value\": \"3f2a1e0a\"}, \"0710fff9\": {\"frequency\": 1790, \"value\": \"0710fff9\"}, \"258601f8\": {\"frequency\": 579, \"value\": \"258601f8\"}, \"61b7308b\": {\"frequency\": 588, \"value\": \"61b7308b\"}, \"706847a1\": {\"frequency\": 486, \"value\": \"706847a1\"}, \"3520c226\": {\"frequency\": 1206, \"value\": \"3520c226\"}, \"8453abb9\": {\"frequency\": 882, \"value\": \"8453abb9\"}, \"977a2929\": {\"frequency\": 1534, \"value\": \"977a2929\"}, \"f3a53397\": {\"frequency\": 621, \"value\": \"f3a53397\"}, \"0fadd2fe\": {\"frequency\": 4051, \"value\": \"0fadd2fe\"}, \"54db068e\": {\"frequency\": 490, \"value\": \"54db068e\"}, \"42c83c64\": {\"frequency\": 529, \"value\": \"42c83c64\"}, \"061f6aca\": {\"frequency\": 565, \"value\": \"061f6aca\"}, \"7c170de9\": {\"frequency\": 1535, \"value\": \"7c170de9\"}, \"4abd7cbc\": {\"frequency\": 520, \"value\": \"4abd7cbc\"}, \"d783ff51\": {\"frequency\": 537, \"value\": \"d783ff51\"}, \"6ac9eb05\": {\"frequency\": 3123, \"value\": \"6ac9eb05\"}, \"aa35da31\": {\"frequency\": 5695, \"value\": \"aa35da31\"}, \"737e5d8b\": {\"frequency\": 963, \"value\": \"737e5d8b\"}, \"d5db24c3\": {\"frequency\": 3355, \"value\": \"d5db24c3\"}, \"ba04a9e3\": {\"frequency\": 534, \"value\": \"ba04a9e3\"}, \"b3f4c8ce\": {\"frequency\": 6348, \"value\": \"b3f4c8ce\"}, \"7c997db0\": {\"frequency\": 1472, \"value\": \"7c997db0\"}, \"a326aa30\": {\"frequency\": 877, \"value\": \"a326aa30\"}, \"f60c2fd3\": {\"frequency\": 10460, \"value\": \"f60c2fd3\"}, \"22fb7d04\": {\"frequency\": 1335, \"value\": \"22fb7d04\"}, \"1b13b020\": {\"frequency\": 3993, \"value\": \"1b13b020\"}, \"47a322d1\": {\"frequency\": 2081, \"value\": \"47a322d1\"}, \"179db11c\": {\"frequency\": 630, \"value\": \"179db11c\"}, \"d0edf686\": {\"frequency\": 1335, \"value\": \"d0edf686\"}, \"3c55fad5\": {\"frequency\": 1496, \"value\": \"3c55fad5\"}, \"dd30dbd2\": {\"frequency\": 1004, \"value\": \"dd30dbd2\"}, \"236330a4\": {\"frequency\": 646, \"value\": \"236330a4\"}, \"80f61b6e\": {\"frequency\": 1284, \"value\": \"80f61b6e\"}, \"0bafdab8\": {\"frequency\": 476, \"value\": \"0bafdab8\"}, \"909d8f37\": {\"frequency\": 1262, \"value\": \"909d8f37\"}, \"db2c36d9\": {\"frequency\": 1120, \"value\": \"db2c36d9\"}, \"78259b0a\": {\"frequency\": 587, \"value\": \"78259b0a\"}, \"d4897fef\": {\"frequency\": 47571, \"value\": \"d4897fef\"}, \"c144e605\": {\"frequency\": 15901, \"value\": \"c144e605\"}, \"3371dfeb\": {\"frequency\": 1682, \"value\": \"3371dfeb\"}, \"1a449446\": {\"frequency\": 466, \"value\": \"1a449446\"}, \"1da119e0\": {\"frequency\": 2007, \"value\": \"1da119e0\"}, \"380e283a\": {\"frequency\": 595, \"value\": \"380e283a\"}, \"c94fff1a\": {\"frequency\": 1051, \"value\": \"c94fff1a\"}, \"6bfbb32f\": {\"frequency\": 4704, \"value\": \"6bfbb32f\"}, \"ce762689\": {\"frequency\": 1125, \"value\": \"ce762689\"}, \"3de05cb4\": {\"frequency\": 7484, \"value\": \"3de05cb4\"}, \"4beb2ba6\": {\"frequency\": 1413, \"value\": \"4beb2ba6\"}, \"f92bf851\": {\"frequency\": 527, \"value\": \"f92bf851\"}, \"382ff9f9\": {\"frequency\": 985, \"value\": \"382ff9f9\"}, \"8b1aa260\": {\"frequency\": 24740, \"value\": \"8b1aa260\"}, \"2d81c3ad\": {\"frequency\": 1803, \"value\": \"2d81c3ad\"}, \"4f4b5ad5\": {\"frequency\": 1655, \"value\": \"4f4b5ad5\"}, \"e24c8b65\": {\"frequency\": 4662, \"value\": \"e24c8b65\"}, \"0f086703\": {\"frequency\": 2798, \"value\": \"0f086703\"}, \"659e09ef\": {\"frequency\": 450, \"value\": \"659e09ef\"}, \"820bcf17\": {\"frequency\": 718, \"value\": \"820bcf17\"}, \"e4a6a646\": {\"frequency\": 2649, \"value\": \"e4a6a646\"}, \"abac2ce5\": {\"frequency\": 859, \"value\": \"abac2ce5\"}, \"c2dc1259\": {\"frequency\": 486, \"value\": \"c2dc1259\"}, \"ca136f4e\": {\"frequency\": 1189, \"value\": \"ca136f4e\"}, \"1b01c4ed\": {\"frequency\": 1245, \"value\": \"1b01c4ed\"}, \"1ccc7835\": {\"frequency\": 41242, \"value\": \"1ccc7835\"}, \"dbaf43e3\": {\"frequency\": 611, \"value\": \"dbaf43e3\"}, \"95a0fb49\": {\"frequency\": 4481, \"value\": \"95a0fb49\"}, \"5901521d\": {\"frequency\": 714, \"value\": \"5901521d\"}, \"b4e612c1\": {\"frequency\": 1263, \"value\": \"b4e612c1\"}, \"2b092d6f\": {\"frequency\": 578, \"value\": \"2b092d6f\"}, \"5b211c0d\": {\"frequency\": 1837, \"value\": \"5b211c0d\"}, \"571737d1\": {\"frequency\": 1454, \"value\": \"571737d1\"}, \"c02433d4\": {\"frequency\": 635, \"value\": \"c02433d4\"}, \"dc31133e\": {\"frequency\": 1718, \"value\": \"dc31133e\"}, \"eb4d3131\": {\"frequency\": 1690, \"value\": \"eb4d3131\"}, \"49ea3580\": {\"frequency\": 6183, \"value\": \"49ea3580\"}, \"c730b3c6\": {\"frequency\": 2366, \"value\": \"c730b3c6\"}, \"0671f8e1\": {\"frequency\": 2746, \"value\": \"0671f8e1\"}, \"b72d1c6e\": {\"frequency\": 3170, \"value\": \"b72d1c6e\"}, \"65c93b38\": {\"frequency\": 1553, \"value\": \"65c93b38\"}, \"180a896e\": {\"frequency\": 669, \"value\": \"180a896e\"}, \"17bd1cfb\": {\"frequency\": 506, \"value\": \"17bd1cfb\"}, \"3223bcfe\": {\"frequency\": 1455, \"value\": \"3223bcfe\"}, \"8589b55f\": {\"frequency\": 1285, \"value\": \"8589b55f\"}, \"01415aab\": {\"frequency\": 575, \"value\": \"01415aab\"}, \"360a6729\": {\"frequency\": 603, \"value\": \"360a6729\"}, \"b4c772f2\": {\"frequency\": 818, \"value\": \"b4c772f2\"}, \"bfa15b14\": {\"frequency\": 2988, \"value\": \"bfa15b14\"}, \"49023af8\": {\"frequency\": 473, \"value\": \"49023af8\"}, \"ac453995\": {\"frequency\": 522, \"value\": \"ac453995\"}, \"575d0d2a\": {\"frequency\": 3653, \"value\": \"575d0d2a\"}, \"e47f989b\": {\"frequency\": 1549, \"value\": \"e47f989b\"}, \"10ce9a37\": {\"frequency\": 623, \"value\": \"10ce9a37\"}, \"e12e75cd\": {\"frequency\": 1319, \"value\": \"e12e75cd\"}, \"311da669\": {\"frequency\": 720, \"value\": \"311da669\"}, \"d01113d5\": {\"frequency\": 630, \"value\": \"d01113d5\"}, \"502553fb\": {\"frequency\": 731, \"value\": \"502553fb\"}, \"160b211b\": {\"frequency\": 1302, \"value\": \"160b211b\"}, \"8441e1f3\": {\"frequency\": 1557, \"value\": \"8441e1f3\"}, \"637c6156\": {\"frequency\": 674, \"value\": \"637c6156\"}, \"1a4a9acf\": {\"frequency\": 510, \"value\": \"1a4a9acf\"}, \"4ea23a13\": {\"frequency\": 75207, \"value\": \"4ea23a13\"}, \"570d21dc\": {\"frequency\": 1767, \"value\": \"570d21dc\"}, \"9955990f\": {\"frequency\": 3081, \"value\": \"9955990f\"}, \"9e3836ff\": {\"frequency\": 19058, \"value\": \"9e3836ff\"}, \"d002cb2f\": {\"frequency\": 2080, \"value\": \"d002cb2f\"}, \"5096d134\": {\"frequency\": 51798, \"value\": \"5096d134\"}, \"2693c626\": {\"frequency\": 806, \"value\": \"2693c626\"}, \"61a97be8\": {\"frequency\": 433, \"value\": \"61a97be8\"}, \"787562bc\": {\"frequency\": 1208, \"value\": \"787562bc\"}, \"8d96a23d\": {\"frequency\": 3779, \"value\": \"8d96a23d\"}, \"f0e794f8\": {\"frequency\": 1374, \"value\": \"f0e794f8\"}, \"fba60933\": {\"frequency\": 628, \"value\": \"fba60933\"}, \"8803c3d6\": {\"frequency\": 3893, \"value\": \"8803c3d6\"}, \"ce576f14\": {\"frequency\": 6158, \"value\": \"ce576f14\"}, \"cba8c0ed\": {\"frequency\": 718, \"value\": \"cba8c0ed\"}, \"7843f7dc\": {\"frequency\": 558, \"value\": \"7843f7dc\"}, \"cf19f7f7\": {\"frequency\": 10342, \"value\": \"cf19f7f7\"}, \"1277f67f\": {\"frequency\": 1602, \"value\": \"1277f67f\"}, \"09b4ab83\": {\"frequency\": 424, \"value\": \"09b4ab83\"}, \"2b580930\": {\"frequency\": 1424, \"value\": \"2b580930\"}, \"e9860931\": {\"frequency\": 825, \"value\": \"e9860931\"}, \"3b2296b3\": {\"frequency\": 442, \"value\": \"3b2296b3\"}, \"84ebbcd4\": {\"frequency\": 53002, \"value\": \"84ebbcd4\"}, \"27a9908d\": {\"frequency\": 445, \"value\": \"27a9908d\"}, \"07bb0685\": {\"frequency\": 1225, \"value\": \"07bb0685\"}, \"7f5cc1a6\": {\"frequency\": 980, \"value\": \"7f5cc1a6\"}, \"0153a639\": {\"frequency\": 6306, \"value\": \"0153a639\"}, \"c978d6f5\": {\"frequency\": 1640, \"value\": \"c978d6f5\"}, \"0566c713\": {\"frequency\": 914, \"value\": \"0566c713\"}, \"18a62280\": {\"frequency\": 557, \"value\": \"18a62280\"}, \"13736a27\": {\"frequency\": 442, \"value\": \"13736a27\"}, \"072c9f1e\": {\"frequency\": 1672, \"value\": \"072c9f1e\"}, \"3eb8d368\": {\"frequency\": 959, \"value\": \"3eb8d368\"}, \"0d4a3783\": {\"frequency\": 669, \"value\": \"0d4a3783\"}, \"ca5aca47\": {\"frequency\": 1062, \"value\": \"ca5aca47\"}, \"779d90c2\": {\"frequency\": 41518, \"value\": \"779d90c2\"}, \"794346bd\": {\"frequency\": 928, \"value\": \"794346bd\"}, \"cf6e17c1\": {\"frequency\": 414, \"value\": \"cf6e17c1\"}, \"0eb711ec\": {\"frequency\": 36925, \"value\": \"0eb711ec\"}, \"cb58e541\": {\"frequency\": 660, \"value\": \"cb58e541\"}, \"fba336ea\": {\"frequency\": 426, \"value\": \"fba336ea\"}, \"cad331da\": {\"frequency\": 675, \"value\": \"cad331da\"}, \"d0d694e4\": {\"frequency\": 1474, \"value\": \"d0d694e4\"}, \"ad328c4d\": {\"frequency\": 5154, \"value\": \"ad328c4d\"}, \"bd1e9791\": {\"frequency\": 498, \"value\": \"bd1e9791\"}, \"5a99f6be\": {\"frequency\": 610, \"value\": \"5a99f6be\"}, \"0b188ab3\": {\"frequency\": 1666, \"value\": \"0b188ab3\"}, \"f384cd72\": {\"frequency\": 649, \"value\": \"f384cd72\"}, \"43a30462\": {\"frequency\": 3778, \"value\": \"43a30462\"}, \"3f3d3fa8\": {\"frequency\": 3812, \"value\": \"3f3d3fa8\"}, \"a12e847c\": {\"frequency\": 3786, \"value\": \"a12e847c\"}, \"34d4af6b\": {\"frequency\": 1138, \"value\": \"34d4af6b\"}, \"bd1ec0c7\": {\"frequency\": 2084, \"value\": \"bd1ec0c7\"}, \"9934e927\": {\"frequency\": 2707, \"value\": \"9934e927\"}, \"c8aaa4a8\": {\"frequency\": 1344, \"value\": \"c8aaa4a8\"}, \"abbd6ad1\": {\"frequency\": 1260, \"value\": \"abbd6ad1\"}, \"66960a7d\": {\"frequency\": 1638, \"value\": \"66960a7d\"}, \"b287ccd7\": {\"frequency\": 476, \"value\": \"b287ccd7\"}, \"12d41e63\": {\"frequency\": 420, \"value\": \"12d41e63\"}, \"c4a565e1\": {\"frequency\": 4004, \"value\": \"c4a565e1\"}, \"1739f993\": {\"frequency\": 448, \"value\": \"1739f993\"}, \"b51e0f6d\": {\"frequency\": 530, \"value\": \"b51e0f6d\"}, \"43617dfa\": {\"frequency\": 466, \"value\": \"43617dfa\"}, \"5c61e7ff\": {\"frequency\": 746, \"value\": \"5c61e7ff\"}, \"3bd9e8e7\": {\"frequency\": 41249, \"value\": \"3bd9e8e7\"}, \"9b0f71c2\": {\"frequency\": 1975, \"value\": \"9b0f71c2\"}, \"56e6ab1d\": {\"frequency\": 1750, \"value\": \"56e6ab1d\"}, \"15dc77b3\": {\"frequency\": 663, \"value\": \"15dc77b3\"}, \"03bef39f\": {\"frequency\": 904, \"value\": \"03bef39f\"}, \"41971090\": {\"frequency\": 1511, \"value\": \"41971090\"}, \"0135c685\": {\"frequency\": 643, \"value\": \"0135c685\"}, \"5ef191d3\": {\"frequency\": 2854, \"value\": \"5ef191d3\"}, \"f30d85cb\": {\"frequency\": 549, \"value\": \"f30d85cb\"}, \"f134d5fa\": {\"frequency\": 425, \"value\": \"f134d5fa\"}, \"aa2a5321\": {\"frequency\": 594, \"value\": \"aa2a5321\"}, \"04258293\": {\"frequency\": 6697, \"value\": \"04258293\"}, \"375c3d47\": {\"frequency\": 7259, \"value\": \"375c3d47\"}, \"5347522c\": {\"frequency\": 4359, \"value\": \"5347522c\"}, \"dc5e4add\": {\"frequency\": 416, \"value\": \"dc5e4add\"}, \"8debacdb\": {\"frequency\": 3357, \"value\": \"8debacdb\"}, \"d9e3c045\": {\"frequency\": 857, \"value\": \"d9e3c045\"}, \"1906c924\": {\"frequency\": 960, \"value\": \"1906c924\"}, \"38a73904\": {\"frequency\": 1421, \"value\": \"38a73904\"}, \"36b8f4c5\": {\"frequency\": 2932, \"value\": \"36b8f4c5\"}, \"428bcb95\": {\"frequency\": 1337, \"value\": \"428bcb95\"}, \"00b1f3a7\": {\"frequency\": 8442, \"value\": \"00b1f3a7\"}, \"8a2cc27a\": {\"frequency\": 438, \"value\": \"8a2cc27a\"}, \"ab7af0af\": {\"frequency\": 719, \"value\": \"ab7af0af\"}, \"7594f139\": {\"frequency\": 1060, \"value\": \"7594f139\"}, \"c9d107a4\": {\"frequency\": 989, \"value\": \"c9d107a4\"}, \"26c9594e\": {\"frequency\": 680, \"value\": \"26c9594e\"}, \"766b28b3\": {\"frequency\": 1365, \"value\": \"766b28b3\"}, \"0989142d\": {\"frequency\": 6336, \"value\": \"0989142d\"}, \"ad0177e7\": {\"frequency\": 6741, \"value\": \"ad0177e7\"}, \"f9ba9057\": {\"frequency\": 4691, \"value\": \"f9ba9057\"}, \"fb4b1e46\": {\"frequency\": 632, \"value\": \"fb4b1e46\"}, \"c2ce87ba\": {\"frequency\": 453, \"value\": \"c2ce87ba\"}, \"589a99ad\": {\"frequency\": 1335, \"value\": \"589a99ad\"}, \"43836a96\": {\"frequency\": 2966, \"value\": \"43836a96\"}, \"80b1a1d2\": {\"frequency\": 2735, \"value\": \"80b1a1d2\"}, \"3bc980aa\": {\"frequency\": 8580, \"value\": \"3bc980aa\"}, \"f87e93a5\": {\"frequency\": 3925, \"value\": \"f87e93a5\"}, \"18f88d6a\": {\"frequency\": 489, \"value\": \"18f88d6a\"}, \"a5f8e587\": {\"frequency\": 495, \"value\": \"a5f8e587\"}, \"4e435546\": {\"frequency\": 420, \"value\": \"4e435546\"}, \"3919eb94\": {\"frequency\": 1690, \"value\": \"3919eb94\"}, \"889ad79d\": {\"frequency\": 648, \"value\": \"889ad79d\"}, \"d1cbe61f\": {\"frequency\": 1053, \"value\": \"d1cbe61f\"}}, \"size\": 4122995}, \"C18\": {\"complete\": true, \"numeric\": false, \"num_unique\": 4, \"num_undefined\": 0, \"progress\": 1.0, \"frequent_items\": {\"1\": {\"frequency\": 146808, \"value\": \"1\"}, \"0\": {\"frequency\": 1556628, \"value\": \"0\"}, \"3\": {\"frequency\": 1729416, \"value\": \"3\"}, \"2\": {\"frequency\": 690143, \"value\": \"2\"}}, \"size\": 4122995}}, \"selected_variable\": {\"name\": [\"oneday\"], \"descriptives\": {\"rows\": 4122995, \"columns\": 24}, \"view_component\": \"Summary\", \"view_file\": \"sframe\", \"view_params\": {\"y\": null, \"x\": null, \"columns\": [\"id\", \"click\", \"hour\", \"C1\", \"banner_pos\", \"site_id\", \"site_domain\", \"site_category\", \"app_id\", \"app_domain\", \"app_category\", \"device_id\", \"device_ip\", \"device_model\", \"device_type\", \"device_conn_type\", \"C14\", \"C15\", \"C16\", \"C17\", \"C18\", \"C19\", \"C20\", \"C21\"], \"view\": null}, \"view_components\": [\"Summary\", \"Table\", \"Bar Chart\", \"BoxWhisker Plot\", \"Line Chart\", \"Scatter Plot\", \"Heat Map\", \"Plots\"], \"type\": \"SFrame\", \"columns\": [{\"dtype\": \"str\", \"name\": \"id\"}, {\"dtype\": \"int\", \"name\": \"click\"}, {\"dtype\": \"str\", \"name\": \"hour\"}, {\"dtype\": \"str\", \"name\": \"C1\"}, {\"dtype\": \"str\", \"name\": \"banner_pos\"}, {\"dtype\": \"str\", \"name\": \"site_id\"}, {\"dtype\": \"str\", \"name\": \"site_domain\"}, {\"dtype\": \"str\", \"name\": \"site_category\"}, {\"dtype\": \"str\", \"name\": \"app_id\"}, {\"dtype\": \"str\", \"name\": \"app_domain\"}, {\"dtype\": \"str\", \"name\": \"app_category\"}, {\"dtype\": \"str\", \"name\": \"device_id\"}, {\"dtype\": \"str\", \"name\": \"device_ip\"}, {\"dtype\": \"str\", \"name\": \"device_model\"}, {\"dtype\": \"str\", \"name\": \"device_type\"}, {\"dtype\": \"str\", \"name\": \"device_conn_type\"}, {\"dtype\": \"str\", \"name\": \"C14\"}, {\"dtype\": \"str\", \"name\": \"C15\"}, {\"dtype\": \"str\", \"name\": \"C16\"}, {\"dtype\": \"str\", \"name\": \"C17\"}, {\"dtype\": \"str\", \"name\": \"C18\"}, {\"dtype\": \"str\", \"name\": \"C19\"}, {\"dtype\": \"str\", \"name\": \"C20\"}, {\"dtype\": \"str\", \"name\": \"C21\"}], \"column_identifiers\": [\"site_id\", \"C20\", \"C19\", \"site_domain\", \"device_type\", \"id\", \"C17\", \"click\", \"device_ip\", \"C14\", \"C16\", \"C15\", \"device_conn_type\", \"C1\", \"app_category\", \"site_category\", \"app_domain\", \"C21\", \"banner_pos\", \"app_id\", \"device_id\", \"hour\", \"device_model\", \"C18\"]}, \"columns\": [{\"dtype\": \"str\", \"name\": \"id\"}, {\"dtype\": \"int\", \"name\": \"click\"}, {\"dtype\": \"str\", \"name\": \"hour\"}, {\"dtype\": \"str\", \"name\": \"C1\"}, {\"dtype\": \"str\", \"name\": \"banner_pos\"}, {\"dtype\": \"str\", \"name\": \"site_id\"}, {\"dtype\": \"str\", \"name\": \"site_domain\"}, {\"dtype\": \"str\", \"name\": \"site_category\"}, {\"dtype\": \"str\", \"name\": \"app_id\"}, {\"dtype\": \"str\", \"name\": \"app_domain\"}, {\"dtype\": \"str\", \"name\": \"app_category\"}, {\"dtype\": \"str\", \"name\": \"device_id\"}, {\"dtype\": \"str\", \"name\": \"device_ip\"}, {\"dtype\": \"str\", \"name\": \"device_model\"}, {\"dtype\": \"str\", \"name\": \"device_type\"}, {\"dtype\": \"str\", \"name\": \"device_conn_type\"}, {\"dtype\": \"str\", \"name\": \"C14\"}, {\"dtype\": \"str\", \"name\": \"C15\"}, {\"dtype\": \"str\", \"name\": \"C16\"}, {\"dtype\": \"str\", \"name\": \"C17\"}, {\"dtype\": \"str\", \"name\": \"C18\"}, {\"dtype\": \"str\", \"name\": \"C19\"}, {\"dtype\": \"str\", \"name\": \"C20\"}, {\"dtype\": \"str\", \"name\": \"C21\"}]}, e);\n",
        "                });\n",
        "            })();\n",
        "        "
       ],
       "metadata": {},
       "output_type": "display_data"
      }
     ],
     "prompt_number": 6
    },
    {
     "cell_type": "markdown",
     "metadata": {},
     "source": [
      "## 3. Data Science 101: Create Train / Validation Split"
     ]
    },
    {
     "cell_type": "markdown",
     "metadata": {},
     "source": [
      "Now that we have sampled and taken a quick look at the data, let us create a train-validation split. Doing this process once ensures that we can train several models using different features and use the the same data for evaluating each of the models.\n",
      "\n",
      "Now that we have sampled the data to one day, we use a random split of this data (using [SFrame.random_split](https://turi.com/products/create/docs/generated/graphlab.SFrame.random_split.html#graphlab.SFrame.random_split)), with **90% being used for training** and **10% used for validation**. We also specify a seed for reproducability."
     ]
    },
    {
     "cell_type": "code",
     "collapsed": false,
     "input": [
      "train, val = oneday.random_split(0.9, seed=12345)"
     ],
     "language": "python",
     "metadata": {},
     "outputs": [],
     "prompt_number": 7
    },
    {
     "cell_type": "code",
     "collapsed": false,
     "input": [
      "train.print_rows(5)"
     ],
     "language": "python",
     "metadata": {},
     "outputs": [
      {
       "output_type": "stream",
       "stream": "stdout",
       "text": [
        "+----------------------+-------+----------+------+------------+----------+\n",
        "|          id          | click |   hour   |  C1  | banner_pos | site_id  |\n",
        "+----------------------+-------+----------+------+------------+----------+\n",
        "| 1000009418151094273  |   0   | 14102100 | 1005 |     0      | 1fbe01fe |\n",
        "| 10000169349117863715 |   0   | 14102100 | 1005 |     0      | 1fbe01fe |\n",
        "| 10000371904215119486 |   0   | 14102100 | 1005 |     0      | 1fbe01fe |\n",
        "| 10000640724480838376 |   0   | 14102100 | 1005 |     0      | 1fbe01fe |\n",
        "| 10000679056417042096 |   0   | 14102100 | 1005 |     1      | fe8cc448 |\n",
        "+----------------------+-------+----------+------+------------+----------+\n",
        "+-------------+---------------+----------+------------+--------------+-----------+\n",
        "| site_domain | site_category |  app_id  | app_domain | app_category | device_id |\n",
        "+-------------+---------------+----------+------------+--------------+-----------+\n",
        "|   f3845767  |    28905ebd   | ecad2386 |  7801e8d9  |   07d7df22   |  a99f214a |\n",
        "|   f3845767  |    28905ebd   | ecad2386 |  7801e8d9  |   07d7df22   |  a99f214a |\n",
        "|   f3845767  |    28905ebd   | ecad2386 |  7801e8d9  |   07d7df22   |  a99f214a |\n",
        "|   f3845767  |    28905ebd   | ecad2386 |  7801e8d9  |   07d7df22   |  a99f214a |\n",
        "|   9166c161  |    0569f928   | ecad2386 |  7801e8d9  |   07d7df22   |  a99f214a |\n",
        "+-------------+---------------+----------+------------+--------------+-----------+\n",
        "+-----------+--------------+-------------+------------------+-------+-----+-----+\n",
        "| device_ip | device_model | device_type | device_conn_type |  C14  | C15 | C16 |\n",
        "+-----------+--------------+-------------+------------------+-------+-----+-----+\n",
        "|  ddd2926e |   44956a24   |      1      |        2         | 15706 | 320 |  50 |\n",
        "|  96809ac8 |   711ee120   |      1      |        0         | 15704 | 320 |  50 |\n",
        "|  b3cf8def |   8a4875bd   |      1      |        0         | 15704 | 320 |  50 |\n",
        "|  e8275b8f |   6332421a   |      1      |        0         | 15706 | 320 |  50 |\n",
        "|  9644d0bf |   779d90c2   |      1      |        0         | 18993 | 320 |  50 |\n",
        "+-----------+--------------+-------------+------------------+-------+-----+-----+\n",
        "+------+-----+-----+--------+-----+\n",
        "| C17  | C18 | C19 |  C20   | C21 |\n",
        "+------+-----+-----+--------+-----+\n",
        "| 1722 |  0  |  35 |   -1   |  79 |\n",
        "| 1722 |  0  |  35 | 100084 |  79 |\n",
        "| 1722 |  0  |  35 | 100084 |  79 |\n",
        "| 1722 |  0  |  35 | 100084 |  79 |\n",
        "| 2161 |  0  |  35 |   -1   | 157 |\n",
        "+------+-----+-----+--------+-----+\n",
        "[3710945 rows x 24 columns]\n",
        "\n"
       ]
      }
     ],
     "prompt_number": 8
    },
    {
     "cell_type": "markdown",
     "metadata": {},
     "source": [
      "## 4. Baseline Model"
     ]
    },
    {
     "cell_type": "markdown",
     "metadata": {},
     "source": [
      "As a baseline model, let us use **all categorical features** as is using the [logistic classifier](https://turi.com/products/create/docs/generated/graphlab.logistic_classifier.LogisticClassifier.html) model. This is not only a great way to get started, but also acts as a **reasonable baseline** prior to feature engineering and feature selection. To get all the features we call [SFrame.column_names](https://turi.com/products/create/docs/generated/graphlab.SFrame.column_names.html#graphlab.SFrame.column_names) and then remove the ```id``` column since it isn't meaningful in this appication."
     ]
    },
    {
     "cell_type": "code",
     "collapsed": false,
     "input": [
      "features = train.column_names()\n",
      "features.remove('click') # cannot have target in features list\n",
      "features.remove('id')    # id is not useful for training the model\n",
      "print features"
     ],
     "language": "python",
     "metadata": {},
     "outputs": [
      {
       "output_type": "stream",
       "stream": "stdout",
       "text": [
        "['hour', 'C1', 'banner_pos', 'site_id', 'site_domain', 'site_category', 'app_id', 'app_domain', 'app_category', 'device_id', 'device_ip', 'device_model', 'device_type', 'device_conn_type', 'C14', 'C15', 'C16', 'C17', 'C18', 'C19', 'C20', 'C21']\n"
       ]
      }
     ],
     "prompt_number": 9
    },
    {
     "cell_type": "code",
     "collapsed": false,
     "input": [
      "# Baseline: use ALL features as is\n",
      "baseline = gl.logistic_classifier.create(train, features=features, target='click', validation_set=val)"
     ],
     "language": "python",
     "metadata": {},
     "outputs": [
      {
       "html": [
        "<pre>PROGRESS: Logistic regression:</pre>"
       ],
       "metadata": {},
       "output_type": "display_data",
       "text": [
        "PROGRESS: Logistic regression:"
       ]
      },
      {
       "html": [
        "<pre>PROGRESS: --------------------------------------------------------</pre>"
       ],
       "metadata": {},
       "output_type": "display_data",
       "text": [
        "PROGRESS: --------------------------------------------------------"
       ]
      },
      {
       "html": [
        "<pre>PROGRESS: Number of examples          : 3710945</pre>"
       ],
       "metadata": {},
       "output_type": "display_data",
       "text": [
        "PROGRESS: Number of examples          : 3710945"
       ]
      },
      {
       "html": [
        "<pre>PROGRESS: Number of classes           : 2</pre>"
       ],
       "metadata": {},
       "output_type": "display_data",
       "text": [
        "PROGRESS: Number of classes           : 2"
       ]
      },
      {
       "html": [
        "<pre>PROGRESS: Number of feature columns   : 22</pre>"
       ],
       "metadata": {},
       "output_type": "display_data",
       "text": [
        "PROGRESS: Number of feature columns   : 22"
       ]
      },
      {
       "html": [
        "<pre>PROGRESS: Number of unpacked features : 22</pre>"
       ],
       "metadata": {},
       "output_type": "display_data",
       "text": [
        "PROGRESS: Number of unpacked features : 22"
       ]
      },
      {
       "html": [
        "<pre>PROGRESS: Number of coefficients    : 1377440</pre>"
       ],
       "metadata": {},
       "output_type": "display_data",
       "text": [
        "PROGRESS: Number of coefficients    : 1377440"
       ]
      },
      {
       "html": [
        "<pre>PROGRESS: Starting L-BFGS</pre>"
       ],
       "metadata": {},
       "output_type": "display_data",
       "text": [
        "PROGRESS: Starting L-BFGS"
       ]
      },
      {
       "html": [
        "<pre>PROGRESS: --------------------------------------------------------</pre>"
       ],
       "metadata": {},
       "output_type": "display_data",
       "text": [
        "PROGRESS: --------------------------------------------------------"
       ]
      },
      {
       "html": [
        "<pre>PROGRESS: +-----------+----------+-----------+--------------+-------------------+---------------------+</pre>"
       ],
       "metadata": {},
       "output_type": "display_data",
       "text": [
        "PROGRESS: +-----------+----------+-----------+--------------+-------------------+---------------------+"
       ]
      },
      {
       "html": [
        "<pre>PROGRESS: | Iteration | Passes   | Step size | Elapsed Time | Training-accuracy | Validation-accuracy |</pre>"
       ],
       "metadata": {},
       "output_type": "display_data",
       "text": [
        "PROGRESS: | Iteration | Passes   | Step size | Elapsed Time | Training-accuracy | Validation-accuracy |"
       ]
      },
      {
       "html": [
        "<pre>PROGRESS: +-----------+----------+-----------+--------------+-------------------+---------------------+</pre>"
       ],
       "metadata": {},
       "output_type": "display_data",
       "text": [
        "PROGRESS: +-----------+----------+-----------+--------------+-------------------+---------------------+"
       ]
      },
      {
       "html": [
        "<pre>PROGRESS: | 1         | 3        | 0.000000  | 11.352040    | 0.825720          | 0.826538            |</pre>"
       ],
       "metadata": {},
       "output_type": "display_data",
       "text": [
        "PROGRESS: | 1         | 3        | 0.000000  | 11.352040    | 0.825720          | 0.826538            |"
       ]
      },
      {
       "html": [
        "<pre>PROGRESS: | 2         | 5        | 1.000000  | 17.485349    | 0.836532          | 0.827994            |</pre>"
       ],
       "metadata": {},
       "output_type": "display_data",
       "text": [
        "PROGRESS: | 2         | 5        | 1.000000  | 17.485349    | 0.836532          | 0.827994            |"
       ]
      },
      {
       "html": [
        "<pre>PROGRESS: | 3         | 6        | 1.000000  | 21.652770    | 0.730601          | 0.684546            |</pre>"
       ],
       "metadata": {},
       "output_type": "display_data",
       "text": [
        "PROGRESS: | 3         | 6        | 1.000000  | 21.652770    | 0.730601          | 0.684546            |"
       ]
      },
      {
       "html": [
        "<pre>PROGRESS: | 4         | 8        | 1.000000  | 29.905691    | 0.876269          | 0.831734            |</pre>"
       ],
       "metadata": {},
       "output_type": "display_data",
       "text": [
        "PROGRESS: | 4         | 8        | 1.000000  | 29.905691    | 0.876269          | 0.831734            |"
       ]
      },
      {
       "html": [
        "<pre>PROGRESS: | 5         | 9        | 1.000000  | 34.128402    | 0.884881          | 0.830637            |</pre>"
       ],
       "metadata": {},
       "output_type": "display_data",
       "text": [
        "PROGRESS: | 5         | 9        | 1.000000  | 34.128402    | 0.884881          | 0.830637            |"
       ]
      },
      {
       "html": [
        "<pre>PROGRESS: | 6         | 10       | 1.000000  | 38.261015    | 0.887878          | 0.824951            |</pre>"
       ],
       "metadata": {},
       "output_type": "display_data",
       "text": [
        "PROGRESS: | 6         | 10       | 1.000000  | 38.261015    | 0.887878          | 0.824951            |"
       ]
      },
      {
       "html": [
        "<pre>PROGRESS: | 7         | 11       | 1.000000  | 42.092548    | 0.889639          | 0.823315            |</pre>"
       ],
       "metadata": {},
       "output_type": "display_data",
       "text": [
        "PROGRESS: | 7         | 11       | 1.000000  | 42.092548    | 0.889639          | 0.823315            |"
       ]
      },
      {
       "html": [
        "<pre>PROGRESS: | 8         | 12       | 1.000000  | 46.108497    | 0.890809          | 0.823393            |</pre>"
       ],
       "metadata": {},
       "output_type": "display_data",
       "text": [
        "PROGRESS: | 8         | 12       | 1.000000  | 46.108497    | 0.890809          | 0.823393            |"
       ]
      },
      {
       "html": [
        "<pre>PROGRESS: | 9         | 13       | 1.000000  | 51.264788    | 0.891148          | 0.823055            |</pre>"
       ],
       "metadata": {},
       "output_type": "display_data",
       "text": [
        "PROGRESS: | 9         | 13       | 1.000000  | 51.264788    | 0.891148          | 0.823055            |"
       ]
      },
      {
       "html": [
        "<pre>PROGRESS: | 10        | 14       | 1.000000  | 55.588145    | 0.891176          | 0.822708            |</pre>"
       ],
       "metadata": {},
       "output_type": "display_data",
       "text": [
        "PROGRESS: | 10        | 14       | 1.000000  | 55.588145    | 0.891176          | 0.822708            |"
       ]
      },
      {
       "html": [
        "<pre>PROGRESS: +-----------+----------+-----------+--------------+-------------------+---------------------+</pre>"
       ],
       "metadata": {},
       "output_type": "display_data",
       "text": [
        "PROGRESS: +-----------+----------+-----------+--------------+-------------------+---------------------+"
       ]
      }
     ],
     "prompt_number": 10
    },
    {
     "cell_type": "markdown",
     "metadata": {},
     "source": [
      "**Uh-Oh, we might be overfitting.** Notice how there 1.4M coefficients and only 3.7M examples. Also notice how the training accuracy continues to climb and the validation accuracy has held steady. That is a strong indicator that we are [overfitting](http://en.wikipedia.org/wiki/Overfitting).\n",
      "\n",
      "### Model Evaluation\n",
      "\n",
      "But to evaluate how well we are doing, we will evaluate it using Kaggle measure for this competition: **log_loss**. Here is a quick logloss function written in Python."
     ]
    },
    {
     "cell_type": "code",
     "collapsed": false,
     "input": [
      "import math\n",
      "def log_loss_raw(target, predicted):\n",
      "    '''Calculate log_loss between target and predicted and return.'''\n",
      "    p = predicted.apply(lambda x: min(0.99999, max(1e-5, x)))\n",
      "    logp = p.apply(lambda x: math.log(x))\n",
      "    logmp = p.apply(lambda x: (math.log(1-x)))\n",
      "    return -(target * logp + (1-target) * logmp).mean()\n",
      "\n",
      "def eval_model(model, test):\n",
      "    '''Evaluate a trained model using Kaggle scoring.'''\n",
      "    return log_loss_raw(test['click'], model.predict(test, output_type='probability'))"
     ],
     "language": "python",
     "metadata": {},
     "outputs": [],
     "prompt_number": 11
    },
    {
     "cell_type": "code",
     "collapsed": false,
     "input": [
      "print \"%0.20f\" % eval_model(baseline, val)"
     ],
     "language": "python",
     "metadata": {},
     "outputs": [
      {
       "output_type": "stream",
       "stream": "stdout",
       "text": [
        "0.50184766410603109943\n"
       ]
      }
     ],
     "prompt_number": 12
    },
    {
     "cell_type": "markdown",
     "metadata": {},
     "source": [
      "This is a good model to get started but not as good as some of the entries in the [leaderboard](http://www.kaggle.com/c/avazu-ctr-prediction/leaderboard). **We definitely need to do some feature engineering.**"
     ]
    },
    {
     "cell_type": "markdown",
     "metadata": {},
     "source": [
      "## 5. Feature Engineering & Feature Selection"
     ]
    },
    {
     "cell_type": "markdown",
     "metadata": {},
     "source": [
      "**Feature Engineering** is the process of representing the data using domain knowledge so a model can effectively use the data. Effective feature engineering is part _art_ and part _science_. **Feature Selection** is the related discipline of deciding which set of features the model should consider during training. Typically both feature engineering and feature selection are iterative processes."
     ]
    },
    {
     "cell_type": "markdown",
     "metadata": {},
     "source": [
      "### Getting started with feature enineering\n",
      "\n",
      "For **CTR**, it is often good practice to ask yourself the following question:\n",
      "\n",
      "**What domain knowledge do we have about what influences user clicks?** \n",
      "\n",
      "The first thing to consider is the **time of day**. However, we don't have the time in a convenient format for the model, so we need to do some feature engineering to get the 'hour' of the day as a feature.\n",
      "\n",
      "We want to modify both the ```train``` and the ```val``` SFrames, since we want the same transformations to occur in both places. To make this simpler, we create a function to do the time of day feature, which takes an SFrame and returns the modified SFrame."
     ]
    },
    {
     "cell_type": "heading",
     "level": 3,
     "metadata": {},
     "source": [
      "Day / Hour Feature Engineering - DateTime parsing"
     ]
    },
    {
     "cell_type": "code",
     "collapsed": false,
     "input": [
      "def hour_eng(data):\n",
      "    '''Parse out day/hour from SFrame.\n",
      "    \n",
      "    Given an SFrame with an 'hour' column formatted with YYMMDDHH parse this as a datetime\n",
      "    and then split to just keep hour and day features (as categorical variables)\n",
      "    '''\n",
      "    if 'day' in data.column_names():\n",
      "        # idempotency check, if transformation already applied then simply return\n",
      "        return data\n",
      "    \n",
      "    data['datetime'] = data['hour'].str_to_datetime('%y%m%d%H')\n",
      "    data.remove_column('hour')\n",
      "    data = data.split_datetime('datetime', column_name_prefix='', limit=['day', 'hour'])\n",
      "    data['hour'] = data['hour'].astype(str)\n",
      "    data['day'] = data['day'].astype(str)\n",
      "    return data"
     ],
     "language": "python",
     "metadata": {},
     "outputs": [],
     "prompt_number": 13
    },
    {
     "cell_type": "code",
     "collapsed": false,
     "input": [
      "# to measure how we are doing, we need to apply to both train and validation SFrames\n",
      "train = hour_eng(train)\n",
      "val = hour_eng(val)\n",
      "print train.column_names()"
     ],
     "language": "python",
     "metadata": {},
     "outputs": [
      {
       "output_type": "stream",
       "stream": "stdout",
       "text": [
        "['id', 'click', 'C1', 'banner_pos', 'site_id', 'site_domain', 'site_category', 'app_id', 'app_domain', 'app_category', 'device_id', 'device_ip', 'device_model', 'device_type', 'device_conn_type', 'C14', 'C15', 'C16', 'C17', 'C18', 'C19', 'C20', 'C21', 'day', 'hour']\n"
       ]
      }
     ],
     "prompt_number": 14
    },
    {
     "cell_type": "markdown",
     "metadata": {},
     "source": [
      "Notice how there is a new 'day' column and a new 'hour' column. These are the new columns/features added by the ```hour_eng``` function."
     ]
    },
    {
     "cell_type": "markdown",
     "metadata": {},
     "source": [
      "### Basic Feature Selection: Pick the day, hour, and site_id features"
     ]
    },
    {
     "cell_type": "code",
     "collapsed": false,
     "input": [
      "features = ['site_id', 'day', 'hour']\n",
      "model = gl.logistic_classifier.create(train, features=features, \n",
      "                                      target='click', validation_set=val)"
     ],
     "language": "python",
     "metadata": {},
     "outputs": [
      {
       "html": [
        "<pre>PROGRESS: WARNING: Detected extremely low variance for feature(s) 'day' because all entries are nearly the same.\n",
        "Proceeding with model training using all features. If the model does not provide results of adequate quality, exclude the above mentioned feature(s) from the input dataset.</pre>"
       ],
       "metadata": {},
       "output_type": "display_data",
       "text": [
        "PROGRESS: WARNING: Detected extremely low variance for feature(s) 'day' because all entries are nearly the same.\n",
        "Proceeding with model training using all features. If the model does not provide results of adequate quality, exclude the above mentioned feature(s) from the input dataset."
       ]
      },
      {
       "html": [
        "<pre>PROGRESS: Logistic regression:</pre>"
       ],
       "metadata": {},
       "output_type": "display_data",
       "text": [
        "PROGRESS: Logistic regression:"
       ]
      },
      {
       "html": [
        "<pre>PROGRESS: --------------------------------------------------------</pre>"
       ],
       "metadata": {},
       "output_type": "display_data",
       "text": [
        "PROGRESS: --------------------------------------------------------"
       ]
      },
      {
       "html": [
        "<pre>PROGRESS: Number of examples          : 3710945</pre>"
       ],
       "metadata": {},
       "output_type": "display_data",
       "text": [
        "PROGRESS: Number of examples          : 3710945"
       ]
      },
      {
       "html": [
        "<pre>PROGRESS: Number of classes           : 2</pre>"
       ],
       "metadata": {},
       "output_type": "display_data",
       "text": [
        "PROGRESS: Number of classes           : 2"
       ]
      },
      {
       "html": [
        "<pre>PROGRESS: Number of feature columns   : 3</pre>"
       ],
       "metadata": {},
       "output_type": "display_data",
       "text": [
        "PROGRESS: Number of feature columns   : 3"
       ]
      },
      {
       "html": [
        "<pre>PROGRESS: Number of unpacked features : 3</pre>"
       ],
       "metadata": {},
       "output_type": "display_data",
       "text": [
        "PROGRESS: Number of unpacked features : 3"
       ]
      },
      {
       "html": [
        "<pre>PROGRESS: Number of coefficients    : 2835</pre>"
       ],
       "metadata": {},
       "output_type": "display_data",
       "text": [
        "PROGRESS: Number of coefficients    : 2835"
       ]
      },
      {
       "html": [
        "<pre>PROGRESS: Starting L-BFGS</pre>"
       ],
       "metadata": {},
       "output_type": "display_data",
       "text": [
        "PROGRESS: Starting L-BFGS"
       ]
      },
      {
       "html": [
        "<pre>PROGRESS: --------------------------------------------------------</pre>"
       ],
       "metadata": {},
       "output_type": "display_data",
       "text": [
        "PROGRESS: --------------------------------------------------------"
       ]
      },
      {
       "html": [
        "<pre>PROGRESS: +-----------+----------+-----------+--------------+-------------------+---------------------+</pre>"
       ],
       "metadata": {},
       "output_type": "display_data",
       "text": [
        "PROGRESS: +-----------+----------+-----------+--------------+-------------------+---------------------+"
       ]
      },
      {
       "html": [
        "<pre>PROGRESS: | Iteration | Passes   | Step size | Elapsed Time | Training-accuracy | Validation-accuracy |</pre>"
       ],
       "metadata": {},
       "output_type": "display_data",
       "text": [
        "PROGRESS: | Iteration | Passes   | Step size | Elapsed Time | Training-accuracy | Validation-accuracy |"
       ]
      },
      {
       "html": [
        "<pre>PROGRESS: +-----------+----------+-----------+--------------+-------------------+---------------------+</pre>"
       ],
       "metadata": {},
       "output_type": "display_data",
       "text": [
        "PROGRESS: +-----------+----------+-----------+--------------+-------------------+---------------------+"
       ]
      },
      {
       "html": [
        "<pre>PROGRESS: | 1         | 3        | 0.000000  | 2.658805     | 0.825722          | 0.826538            |</pre>"
       ],
       "metadata": {},
       "output_type": "display_data",
       "text": [
        "PROGRESS: | 1         | 3        | 0.000000  | 2.658805     | 0.825722          | 0.826538            |"
       ]
      },
      {
       "html": [
        "<pre>PROGRESS: | 2         | 5        | 1.000000  | 4.812624     | 0.825830          | 0.826577            |</pre>"
       ],
       "metadata": {},
       "output_type": "display_data",
       "text": [
        "PROGRESS: | 2         | 5        | 1.000000  | 4.812624     | 0.825830          | 0.826577            |"
       ]
      },
      {
       "html": [
        "<pre>PROGRESS: | 3         | 6        | 1.000000  | 6.006163     | 0.826797          | 0.827346            |</pre>"
       ],
       "metadata": {},
       "output_type": "display_data",
       "text": [
        "PROGRESS: | 3         | 6        | 1.000000  | 6.006163     | 0.826797          | 0.827346            |"
       ]
      },
      {
       "html": [
        "<pre>PROGRESS: | 4         | 7        | 1.000000  | 7.212546     | 0.826423          | 0.827150            |</pre>"
       ],
       "metadata": {},
       "output_type": "display_data",
       "text": [
        "PROGRESS: | 4         | 7        | 1.000000  | 7.212546     | 0.826423          | 0.827150            |"
       ]
      },
      {
       "html": [
        "<pre>PROGRESS: | 5         | 8        | 1.000000  | 8.439682     | 0.827090          | 0.827618            |</pre>"
       ],
       "metadata": {},
       "output_type": "display_data",
       "text": [
        "PROGRESS: | 5         | 8        | 1.000000  | 8.439682     | 0.827090          | 0.827618            |"
       ]
      },
      {
       "html": [
        "<pre>PROGRESS: | 6         | 9        | 1.000000  | 9.742179     | 0.827105          | 0.827650            |</pre>"
       ],
       "metadata": {},
       "output_type": "display_data",
       "text": [
        "PROGRESS: | 6         | 9        | 1.000000  | 9.742179     | 0.827105          | 0.827650            |"
       ]
      },
      {
       "html": [
        "<pre>PROGRESS: | 7         | 10       | 1.000000  | 11.064490    | 0.827145          | 0.827533            |</pre>"
       ],
       "metadata": {},
       "output_type": "display_data",
       "text": [
        "PROGRESS: | 7         | 10       | 1.000000  | 11.064490    | 0.827145          | 0.827533            |"
       ]
      },
      {
       "html": [
        "<pre>PROGRESS: | 8         | 11       | 1.000000  | 12.385897    | 0.827142          | 0.827538            |</pre>"
       ],
       "metadata": {},
       "output_type": "display_data",
       "text": [
        "PROGRESS: | 8         | 11       | 1.000000  | 12.385897    | 0.827142          | 0.827538            |"
       ]
      },
      {
       "html": [
        "<pre>PROGRESS: | 9         | 12       | 1.000000  | 13.655575    | 0.827139          | 0.827662            |</pre>"
       ],
       "metadata": {},
       "output_type": "display_data",
       "text": [
        "PROGRESS: | 9         | 12       | 1.000000  | 13.655575    | 0.827139          | 0.827662            |"
       ]
      },
      {
       "html": [
        "<pre>PROGRESS: | 10        | 13       | 1.000000  | 14.918936    | 0.826808          | 0.827528            |</pre>"
       ],
       "metadata": {},
       "output_type": "display_data",
       "text": [
        "PROGRESS: | 10        | 13       | 1.000000  | 14.918936    | 0.826808          | 0.827528            |"
       ]
      },
      {
       "html": [
        "<pre>PROGRESS: +-----------+----------+-----------+--------------+-------------------+---------------------+</pre>"
       ],
       "metadata": {},
       "output_type": "display_data",
       "text": [
        "PROGRESS: +-----------+----------+-----------+--------------+-------------------+---------------------+"
       ]
      }
     ],
     "prompt_number": 15
    },
    {
     "cell_type": "markdown",
     "metadata": {},
     "source": [
      "**Note**: The classifier has warned us that the column 'day' has low variance. We should remove it because we are only training on one day's worth of data, so the day is not meaningful."
     ]
    },
    {
     "cell_type": "code",
     "collapsed": false,
     "input": [
      "print \"%0.20f\" % eval_model(model, val)"
     ],
     "language": "python",
     "metadata": {},
     "outputs": [
      {
       "output_type": "stream",
       "stream": "stdout",
       "text": [
        "0.42543819222628642684\n"
       ]
      }
     ],
     "prompt_number": 16
    },
    {
     "cell_type": "markdown",
     "metadata": {},
     "source": [
      "That is a **big improvement** and a good first step but we can do better with some more feature engineering."
     ]
    },
    {
     "cell_type": "heading",
     "level": 3,
     "metadata": {},
     "source": [
      "Interaction Terms: Building new features from existing ones"
     ]
    },
    {
     "cell_type": "markdown",
     "metadata": {},
     "source": [
      "I believe click-through rate is dependent on which site the user is on, along with which app the user seeing/using. So I want to create a new feature that represents the interaction of **site_id** with **app_id** features. This results in a cross-product between the two features.\n",
      "\n",
      "Again it is easiest to have a function so this set of transformations can be done on both the training set and the validation set, as below."
     ]
    },
    {
     "cell_type": "code",
     "collapsed": false,
     "input": [
      "def site_app(data):\n",
      "    # if already has a site_app then consider this operation completed.\n",
      "    if 'site_app' in data.column_names():\n",
      "        return data\n",
      "    \n",
      "    data['site_app'] = data['site_id'] + data['app_id']\n",
      "    return data"
     ],
     "language": "python",
     "metadata": {},
     "outputs": [],
     "prompt_number": 17
    },
    {
     "cell_type": "code",
     "collapsed": false,
     "input": [
      "train = site_app(train)\n",
      "val = site_app(val)\n",
      "print train.column_names()"
     ],
     "language": "python",
     "metadata": {},
     "outputs": [
      {
       "output_type": "stream",
       "stream": "stdout",
       "text": [
        "['id', 'click', 'C1', 'banner_pos', 'site_id', 'site_domain', 'site_category', 'app_id', 'app_domain', 'app_category', 'device_id', 'device_ip', 'device_model', 'device_type', 'device_conn_type', 'C14', 'C15', 'C16', 'C17', 'C18', 'C19', 'C20', 'C21', 'day', 'hour', 'site_app']\n"
       ]
      }
     ],
     "prompt_number": 18
    },
    {
     "cell_type": "markdown",
     "metadata": {},
     "source": [
      "Now let's use this newly generated feature, instead of 'site_id', and see how we do. We are also dropping 'hour' since it isn't meaningful."
     ]
    },
    {
     "cell_type": "code",
     "collapsed": false,
     "input": [
      "features=['site_app', 'day', 'hour']\n",
      "model = gl.logistic_classifier.create(train, features=features, target='click', validation_set=val)"
     ],
     "language": "python",
     "metadata": {},
     "outputs": [
      {
       "html": [
        "<pre>PROGRESS: WARNING: Detected extremely low variance for feature(s) 'day' because all entries are nearly the same.\n",
        "Proceeding with model training using all features. If the model does not provide results of adequate quality, exclude the above mentioned feature(s) from the input dataset.</pre>"
       ],
       "metadata": {},
       "output_type": "display_data",
       "text": [
        "PROGRESS: WARNING: Detected extremely low variance for feature(s) 'day' because all entries are nearly the same.\n",
        "Proceeding with model training using all features. If the model does not provide results of adequate quality, exclude the above mentioned feature(s) from the input dataset."
       ]
      },
      {
       "html": [
        "<pre>PROGRESS: Logistic regression:</pre>"
       ],
       "metadata": {},
       "output_type": "display_data",
       "text": [
        "PROGRESS: Logistic regression:"
       ]
      },
      {
       "html": [
        "<pre>PROGRESS: --------------------------------------------------------</pre>"
       ],
       "metadata": {},
       "output_type": "display_data",
       "text": [
        "PROGRESS: --------------------------------------------------------"
       ]
      },
      {
       "html": [
        "<pre>PROGRESS: Number of examples          : 3710945</pre>"
       ],
       "metadata": {},
       "output_type": "display_data",
       "text": [
        "PROGRESS: Number of examples          : 3710945"
       ]
      },
      {
       "html": [
        "<pre>PROGRESS: Number of classes           : 2</pre>"
       ],
       "metadata": {},
       "output_type": "display_data",
       "text": [
        "PROGRESS: Number of classes           : 2"
       ]
      },
      {
       "html": [
        "<pre>PROGRESS: Number of feature columns   : 3</pre>"
       ],
       "metadata": {},
       "output_type": "display_data",
       "text": [
        "PROGRESS: Number of feature columns   : 3"
       ]
      },
      {
       "html": [
        "<pre>PROGRESS: Number of unpacked features : 3</pre>"
       ],
       "metadata": {},
       "output_type": "display_data",
       "text": [
        "PROGRESS: Number of unpacked features : 3"
       ]
      },
      {
       "html": [
        "<pre>PROGRESS: Number of coefficients    : 6887</pre>"
       ],
       "metadata": {},
       "output_type": "display_data",
       "text": [
        "PROGRESS: Number of coefficients    : 6887"
       ]
      },
      {
       "html": [
        "<pre>PROGRESS: Starting L-BFGS</pre>"
       ],
       "metadata": {},
       "output_type": "display_data",
       "text": [
        "PROGRESS: Starting L-BFGS"
       ]
      },
      {
       "html": [
        "<pre>PROGRESS: --------------------------------------------------------</pre>"
       ],
       "metadata": {},
       "output_type": "display_data",
       "text": [
        "PROGRESS: --------------------------------------------------------"
       ]
      },
      {
       "html": [
        "<pre>PROGRESS: +-----------+----------+-----------+--------------+-------------------+---------------------+</pre>"
       ],
       "metadata": {},
       "output_type": "display_data",
       "text": [
        "PROGRESS: +-----------+----------+-----------+--------------+-------------------+---------------------+"
       ]
      },
      {
       "html": [
        "<pre>PROGRESS: | Iteration | Passes   | Step size | Elapsed Time | Training-accuracy | Validation-accuracy |</pre>"
       ],
       "metadata": {},
       "output_type": "display_data",
       "text": [
        "PROGRESS: | Iteration | Passes   | Step size | Elapsed Time | Training-accuracy | Validation-accuracy |"
       ]
      },
      {
       "html": [
        "<pre>PROGRESS: +-----------+----------+-----------+--------------+-------------------+---------------------+</pre>"
       ],
       "metadata": {},
       "output_type": "display_data",
       "text": [
        "PROGRESS: +-----------+----------+-----------+--------------+-------------------+---------------------+"
       ]
      },
      {
       "html": [
        "<pre>PROGRESS: | 1         | 3        | 0.000000  | 2.718713     | 0.825732          | 0.826538            |</pre>"
       ],
       "metadata": {},
       "output_type": "display_data",
       "text": [
        "PROGRESS: | 1         | 3        | 0.000000  | 2.718713     | 0.825732          | 0.826538            |"
       ]
      },
      {
       "html": [
        "<pre>PROGRESS: | 2         | 5        | 1.000000  | 4.820923     | 0.826295          | 0.826929            |</pre>"
       ],
       "metadata": {},
       "output_type": "display_data",
       "text": [
        "PROGRESS: | 2         | 5        | 1.000000  | 4.820923     | 0.826295          | 0.826929            |"
       ]
      },
      {
       "html": [
        "<pre>PROGRESS: | 3         | 6        | 1.000000  | 6.095525     | 0.827564          | 0.827880            |</pre>"
       ],
       "metadata": {},
       "output_type": "display_data",
       "text": [
        "PROGRESS: | 3         | 6        | 1.000000  | 6.095525     | 0.827564          | 0.827880            |"
       ]
      },
      {
       "html": [
        "<pre>PROGRESS: | 4         | 7        | 1.000000  | 7.545748     | 0.827019          | 0.827346            |</pre>"
       ],
       "metadata": {},
       "output_type": "display_data",
       "text": [
        "PROGRESS: | 4         | 7        | 1.000000  | 7.545748     | 0.827019          | 0.827346            |"
       ]
      },
      {
       "html": [
        "<pre>PROGRESS: | 5         | 8        | 1.000000  | 9.071496     | 0.827644          | 0.828004            |</pre>"
       ],
       "metadata": {},
       "output_type": "display_data",
       "text": [
        "PROGRESS: | 5         | 8        | 1.000000  | 9.071496     | 0.827644          | 0.828004            |"
       ]
      },
      {
       "html": [
        "<pre>PROGRESS: | 6         | 9        | 1.000000  | 10.449221    | 0.827791          | 0.828101            |</pre>"
       ],
       "metadata": {},
       "output_type": "display_data",
       "text": [
        "PROGRESS: | 6         | 9        | 1.000000  | 10.449221    | 0.827791          | 0.828101            |"
       ]
      },
      {
       "html": [
        "<pre>PROGRESS: | 7         | 10       | 1.000000  | 11.652915    | 0.827726          | 0.828091            |</pre>"
       ],
       "metadata": {},
       "output_type": "display_data",
       "text": [
        "PROGRESS: | 7         | 10       | 1.000000  | 11.652915    | 0.827726          | 0.828091            |"
       ]
      },
      {
       "html": [
        "<pre>PROGRESS: | 8         | 11       | 1.000000  | 12.867802    | 0.827680          | 0.828060            |</pre>"
       ],
       "metadata": {},
       "output_type": "display_data",
       "text": [
        "PROGRESS: | 8         | 11       | 1.000000  | 12.867802    | 0.827680          | 0.828060            |"
       ]
      },
      {
       "html": [
        "<pre>PROGRESS: | 9         | 12       | 1.000000  | 14.059563    | 0.827815          | 0.828145            |</pre>"
       ],
       "metadata": {},
       "output_type": "display_data",
       "text": [
        "PROGRESS: | 9         | 12       | 1.000000  | 14.059563    | 0.827815          | 0.828145            |"
       ]
      },
      {
       "html": [
        "<pre>PROGRESS: | 10        | 13       | 1.000000  | 15.331704    | 0.827629          | 0.828074            |</pre>"
       ],
       "metadata": {},
       "output_type": "display_data",
       "text": [
        "PROGRESS: | 10        | 13       | 1.000000  | 15.331704    | 0.827629          | 0.828074            |"
       ]
      },
      {
       "html": [
        "<pre>PROGRESS: +-----------+----------+-----------+--------------+-------------------+---------------------+</pre>"
       ],
       "metadata": {},
       "output_type": "display_data",
       "text": [
        "PROGRESS: +-----------+----------+-----------+--------------+-------------------+---------------------+"
       ]
      }
     ],
     "prompt_number": 19
    },
    {
     "cell_type": "code",
     "collapsed": false,
     "input": [
      "print \"%0.20f\" % eval_model(model, val)"
     ],
     "language": "python",
     "metadata": {},
     "outputs": [
      {
       "output_type": "stream",
       "stream": "stdout",
       "text": [
        "0.40996175377622545710\n"
       ]
      }
     ],
     "prompt_number": 20
    },
    {
     "cell_type": "markdown",
     "metadata": {},
     "source": [
      "That is **better**, but let us see if we can add some more complex feature engineering transformations to get better results."
     ]
    },
    {
     "cell_type": "markdown",
     "metadata": {},
     "source": [
      "### Quadratic Features: All-pair interation terms from all features."
     ]
    },
    {
     "cell_type": "markdown",
     "metadata": {},
     "source": [
      "As part of the Feature Engineering Transformers, we can extend beyond the one interaction combination described above, and generate a feature with all feature combinations, using the QuadraticFeatures transformer, as follows.\n",
      "\n",
      "**Note: This step can take quite a while (about an hour on a basic Macbook Pro)**"
     ]
    },
    {
     "cell_type": "code",
     "collapsed": false,
     "input": [
      "from graphlab import feature_engineering as fe\n",
      "\n",
      "# QuadraticFeatures requires float, integer, array, or dictionary column types\n",
      "# so pack all interaction columns into dict first\n",
      "interaction_columns = ['C1', 'banner_pos', \n",
      "                       'device_type', 'device_conn_type', 'C14', 'C15', 'C16', 'C17', 'C18', 'C19', \n",
      "                       'C20', 'C21', 'hour']\n",
      "\n",
      "for feature in interaction_columns:\n",
      "    train[feature] = train[feature].astype(int)\n",
      "\n",
      "quad = fe.create(train, fe.QuadraticFeatures(features=interaction_columns))"
     ],
     "language": "python",
     "metadata": {},
     "outputs": [],
     "prompt_number": 21
    },
    {
     "cell_type": "code",
     "collapsed": false,
     "input": [
      "def apply_quadratic(dataset):\n",
      "    if 'quadratic_features' in dataset.column_names():\n",
      "        # operation already performed, do nothing\n",
      "        return dataset\n",
      "    for feature in interaction_columns:\n",
      "        dataset[feature] = dataset[feature].astype(int)\n",
      "    return quad.transform(dataset)"
     ],
     "language": "python",
     "metadata": {},
     "outputs": [],
     "prompt_number": 22
    },
    {
     "cell_type": "code",
     "collapsed": false,
     "input": [
      "# this adds a 'quadratic_features' column to both SFrames\n",
      "train = apply_quadratic(train)\n",
      "val = apply_quadratic(val)"
     ],
     "language": "python",
     "metadata": {},
     "outputs": [],
     "prompt_number": 23
    },
    {
     "cell_type": "code",
     "collapsed": false,
     "input": [
      "features=['site_app', 'day', 'hour', 'quadratic_features']\n",
      "model = gl.logistic_classifier.create(train, features=features, \n",
      "                                      target='click', validation_set=val, max_iterations=20)"
     ],
     "language": "python",
     "metadata": {},
     "outputs": [
      {
       "html": [
        "<pre>PROGRESS: WARNING: Detected extremely low variance for feature(s) 'day' because all entries are nearly the same.\n",
        "Proceeding with model training using all features. If the model does not provide results of adequate quality, exclude the above mentioned feature(s) from the input dataset.</pre>"
       ],
       "metadata": {},
       "output_type": "display_data",
       "text": [
        "PROGRESS: WARNING: Detected extremely low variance for feature(s) 'day' because all entries are nearly the same.\n",
        "Proceeding with model training using all features. If the model does not provide results of adequate quality, exclude the above mentioned feature(s) from the input dataset."
       ]
      },
      {
       "html": [
        "<pre>PROGRESS: Logistic regression:</pre>"
       ],
       "metadata": {},
       "output_type": "display_data",
       "text": [
        "PROGRESS: Logistic regression:"
       ]
      },
      {
       "html": [
        "<pre>PROGRESS: --------------------------------------------------------</pre>"
       ],
       "metadata": {},
       "output_type": "display_data",
       "text": [
        "PROGRESS: --------------------------------------------------------"
       ]
      },
      {
       "html": [
        "<pre>PROGRESS: Number of examples          : 3710945</pre>"
       ],
       "metadata": {},
       "output_type": "display_data",
       "text": [
        "PROGRESS: Number of examples          : 3710945"
       ]
      },
      {
       "html": [
        "<pre>PROGRESS: Number of classes           : 2</pre>"
       ],
       "metadata": {},
       "output_type": "display_data",
       "text": [
        "PROGRESS: Number of classes           : 2"
       ]
      },
      {
       "html": [
        "<pre>PROGRESS: Number of feature columns   : 4</pre>"
       ],
       "metadata": {},
       "output_type": "display_data",
       "text": [
        "PROGRESS: Number of feature columns   : 4"
       ]
      },
      {
       "html": [
        "<pre>PROGRESS: Number of unpacked features : 94</pre>"
       ],
       "metadata": {},
       "output_type": "display_data",
       "text": [
        "PROGRESS: Number of unpacked features : 94"
       ]
      },
      {
       "html": [
        "<pre>PROGRESS: Number of coefficients    : 6956</pre>"
       ],
       "metadata": {},
       "output_type": "display_data",
       "text": [
        "PROGRESS: Number of coefficients    : 6956"
       ]
      },
      {
       "html": [
        "<pre>PROGRESS: Starting L-BFGS</pre>"
       ],
       "metadata": {},
       "output_type": "display_data",
       "text": [
        "PROGRESS: Starting L-BFGS"
       ]
      },
      {
       "html": [
        "<pre>PROGRESS: --------------------------------------------------------</pre>"
       ],
       "metadata": {},
       "output_type": "display_data",
       "text": [
        "PROGRESS: --------------------------------------------------------"
       ]
      },
      {
       "html": [
        "<pre>PROGRESS: +-----------+----------+-----------+--------------+-------------------+---------------------+</pre>"
       ],
       "metadata": {},
       "output_type": "display_data",
       "text": [
        "PROGRESS: +-----------+----------+-----------+--------------+-------------------+---------------------+"
       ]
      },
      {
       "html": [
        "<pre>PROGRESS: | Iteration | Passes   | Step size | Elapsed Time | Training-accuracy | Validation-accuracy |</pre>"
       ],
       "metadata": {},
       "output_type": "display_data",
       "text": [
        "PROGRESS: | Iteration | Passes   | Step size | Elapsed Time | Training-accuracy | Validation-accuracy |"
       ]
      },
      {
       "html": [
        "<pre>PROGRESS: +-----------+----------+-----------+--------------+-------------------+---------------------+</pre>"
       ],
       "metadata": {},
       "output_type": "display_data",
       "text": [
        "PROGRESS: +-----------+----------+-----------+--------------+-------------------+---------------------+"
       ]
      },
      {
       "html": [
        "<pre>PROGRESS: | 1         | 5        | 0.000000  | 45.533969    | 0.825720          | 0.826538            |</pre>"
       ],
       "metadata": {},
       "output_type": "display_data",
       "text": [
        "PROGRESS: | 1         | 5        | 0.000000  | 45.533969    | 0.825720          | 0.826538            |"
       ]
      },
      {
       "html": [
        "<pre>PROGRESS: | 2         | 7        | 1.000000  | 70.482053    | 0.825720          | 0.826538            |</pre>"
       ],
       "metadata": {},
       "output_type": "display_data",
       "text": [
        "PROGRESS: | 2         | 7        | 1.000000  | 70.482053    | 0.825720          | 0.826538            |"
       ]
      },
      {
       "html": [
        "<pre>PROGRESS: | 3         | 8        | 1.000000  | 87.371969    | 0.807487          | 0.807409            |</pre>"
       ],
       "metadata": {},
       "output_type": "display_data",
       "text": [
        "PROGRESS: | 3         | 8        | 1.000000  | 87.371969    | 0.807487          | 0.807409            |"
       ]
      },
      {
       "html": [
        "<pre>PROGRESS: | 4         | 10       | 1.000000  | 111.721498   | 0.825720          | 0.826538            |</pre>"
       ],
       "metadata": {},
       "output_type": "display_data",
       "text": [
        "PROGRESS: | 4         | 10       | 1.000000  | 111.721498   | 0.825720          | 0.826538            |"
       ]
      },
      {
       "html": [
        "<pre>PROGRESS: | 5         | 11       | 1.000000  | 127.704416   | 0.825724          | 0.826538            |</pre>"
       ],
       "metadata": {},
       "output_type": "display_data",
       "text": [
        "PROGRESS: | 5         | 11       | 1.000000  | 127.704416   | 0.825724          | 0.826538            |"
       ]
      },
      {
       "html": [
        "<pre>PROGRESS: | 6         | 12       | 1.000000  | 143.244673   | 0.825916          | 0.826715            |</pre>"
       ],
       "metadata": {},
       "output_type": "display_data",
       "text": [
        "PROGRESS: | 6         | 12       | 1.000000  | 143.244673   | 0.825916          | 0.826715            |"
       ]
      },
      {
       "html": [
        "<pre>PROGRESS: | 7         | 13       | 1.000000  | 159.021249   | 0.826398          | 0.827133            |</pre>"
       ],
       "metadata": {},
       "output_type": "display_data",
       "text": [
        "PROGRESS: | 7         | 13       | 1.000000  | 159.021249   | 0.826398          | 0.827133            |"
       ]
      },
      {
       "html": [
        "<pre>PROGRESS: | 8         | 14       | 1.000000  | 174.844463   | 0.825627          | 0.826094            |</pre>"
       ],
       "metadata": {},
       "output_type": "display_data",
       "text": [
        "PROGRESS: | 8         | 14       | 1.000000  | 174.844463   | 0.825627          | 0.826094            |"
       ]
      },
      {
       "html": [
        "<pre>PROGRESS: | 9         | 15       | 1.000000  | 190.633223   | 0.826568          | 0.826798            |</pre>"
       ],
       "metadata": {},
       "output_type": "display_data",
       "text": [
        "PROGRESS: | 9         | 15       | 1.000000  | 190.633223   | 0.826568          | 0.826798            |"
       ]
      },
      {
       "html": [
        "<pre>PROGRESS: | 10        | 16       | 1.000000  | 206.159300   | 0.827544          | 0.827960            |</pre>"
       ],
       "metadata": {},
       "output_type": "display_data",
       "text": [
        "PROGRESS: | 10        | 16       | 1.000000  | 206.159300   | 0.827544          | 0.827960            |"
       ]
      },
      {
       "html": [
        "<pre>PROGRESS: | 11        | 18       | 1.000000  | 230.489839   | 0.827624          | 0.827637            |</pre>"
       ],
       "metadata": {},
       "output_type": "display_data",
       "text": [
        "PROGRESS: | 11        | 18       | 1.000000  | 230.489839   | 0.827624          | 0.827637            |"
       ]
      },
      {
       "html": [
        "<pre>PROGRESS: | 12        | 19       | 1.000000  | 246.828216   | 0.827161          | 0.827310            |</pre>"
       ],
       "metadata": {},
       "output_type": "display_data",
       "text": [
        "PROGRESS: | 12        | 19       | 1.000000  | 246.828216   | 0.827161          | 0.827310            |"
       ]
      },
      {
       "html": [
        "<pre>PROGRESS: | 13        | 20       | 1.000000  | 264.410772   | 0.826654          | 0.826968            |</pre>"
       ],
       "metadata": {},
       "output_type": "display_data",
       "text": [
        "PROGRESS: | 13        | 20       | 1.000000  | 264.410772   | 0.826654          | 0.826968            |"
       ]
      },
      {
       "html": [
        "<pre>PROGRESS: | 14        | 21       | 1.000000  | 281.717649   | 0.827167          | 0.827611            |</pre>"
       ],
       "metadata": {},
       "output_type": "display_data",
       "text": [
        "PROGRESS: | 14        | 21       | 1.000000  | 281.717649   | 0.827167          | 0.827611            |"
       ]
      },
      {
       "html": [
        "<pre>PROGRESS: | 15        | 22       | 1.000000  | 297.707801   | 0.827813          | 0.828217            |</pre>"
       ],
       "metadata": {},
       "output_type": "display_data",
       "text": [
        "PROGRESS: | 15        | 22       | 1.000000  | 297.707801   | 0.827813          | 0.828217            |"
       ]
      },
      {
       "html": [
        "<pre>PROGRESS: | 16        | 23       | 1.000000  | 313.466256   | 0.828205          | 0.828363            |</pre>"
       ],
       "metadata": {},
       "output_type": "display_data",
       "text": [
        "PROGRESS: | 16        | 23       | 1.000000  | 313.466256   | 0.828205          | 0.828363            |"
       ]
      },
      {
       "html": [
        "<pre>PROGRESS: | 17        | 25       | 1.000000  | 337.432553   | 0.828368          | 0.828730            |</pre>"
       ],
       "metadata": {},
       "output_type": "display_data",
       "text": [
        "PROGRESS: | 17        | 25       | 1.000000  | 337.432553   | 0.828368          | 0.828730            |"
       ]
      },
      {
       "html": [
        "<pre>PROGRESS: | 18        | 26       | 1.000000  | 358.087450   | 0.828440          | 0.828763            |</pre>"
       ],
       "metadata": {},
       "output_type": "display_data",
       "text": [
        "PROGRESS: | 18        | 26       | 1.000000  | 358.087450   | 0.828440          | 0.828763            |"
       ]
      },
      {
       "html": [
        "<pre>PROGRESS: | 19        | 27       | 1.000000  | 375.887754   | 0.828519          | 0.828890            |</pre>"
       ],
       "metadata": {},
       "output_type": "display_data",
       "text": [
        "PROGRESS: | 19        | 27       | 1.000000  | 375.887754   | 0.828519          | 0.828890            |"
       ]
      },
      {
       "html": [
        "<pre>PROGRESS: | 20        | 28       | 1.000000  | 392.809671   | 0.828580          | 0.828878            |</pre>"
       ],
       "metadata": {},
       "output_type": "display_data",
       "text": [
        "PROGRESS: | 20        | 28       | 1.000000  | 392.809671   | 0.828580          | 0.828878            |"
       ]
      },
      {
       "html": [
        "<pre>PROGRESS: +-----------+----------+-----------+--------------+-------------------+---------------------+</pre>"
       ],
       "metadata": {},
       "output_type": "display_data",
       "text": [
        "PROGRESS: +-----------+----------+-----------+--------------+-------------------+---------------------+"
       ]
      }
     ],
     "prompt_number": 24
    },
    {
     "cell_type": "code",
     "collapsed": false,
     "input": [
      "print \"%0.20f\" % eval_model(model, val)"
     ],
     "language": "python",
     "metadata": {},
     "outputs": [
      {
       "output_type": "stream",
       "stream": "stdout",
       "text": [
        "0.40728018889038708483\n"
       ]
      }
     ],
     "prompt_number": 25
    },
    {
     "cell_type": "markdown",
     "metadata": {},
     "source": [
      "This is an improvement, and so we are on the right track. But let us see if further reducing the dimensionality of number of categories for each feature will help."
     ]
    },
    {
     "cell_type": "heading",
     "level": 3,
     "metadata": {},
     "source": [
      "One-Hot Encoding"
     ]
    },
    {
     "cell_type": "markdown",
     "metadata": {},
     "source": [
      "A one-hot encoder encodes a **collection of categorical features** using a **1-of-K encoding scheme** while **decreasing dimensionality** by limiting each feature to a **max number of categories**."
     ]
    },
    {
     "cell_type": "code",
     "collapsed": false,
     "input": [
      "# Create the OneHotEncoder, and fit it to the train dataset\n",
      "# use ALL features, except id and click. Limit the number of categories per feature to only 800 most frequent.\n",
      "# Excluding quadratic_features column because it is encoding the same thing\n",
      "onehot = fe.create(train, fe.OneHotEncoder(\n",
      "            excluded_features=['id', 'click', 'site_app', 'day', 'hour', 'quadratic_features'], \n",
      "            max_categories=300))"
     ],
     "language": "python",
     "metadata": {},
     "outputs": [],
     "prompt_number": 26
    },
    {
     "cell_type": "code",
     "collapsed": false,
     "input": [
      "# Note: max_categories choses the top categories based on\n",
      "# frequency therefore retaining only the most frequent ones.\n",
      "def apply_onehot(dataset):\n",
      "    if 'encoded_features' in dataset.column_names():\n",
      "        # operation already completed on SFrame\n",
      "        return dataset\n",
      "    \n",
      "    return onehot.transform(dataset)"
     ],
     "language": "python",
     "metadata": {},
     "outputs": [],
     "prompt_number": 27
    },
    {
     "cell_type": "code",
     "collapsed": false,
     "input": [
      "train = apply_onehot(train)\n",
      "val = apply_onehot(val)"
     ],
     "language": "python",
     "metadata": {},
     "outputs": [],
     "prompt_number": 28
    },
    {
     "cell_type": "code",
     "collapsed": false,
     "input": [
      "features=['site_app', 'day', 'hour', 'quadratic_features', 'encoded_features']\n",
      "model = gl.logistic_classifier.create(train, features=features, target='click', validation_set=val)"
     ],
     "language": "python",
     "metadata": {},
     "outputs": [
      {
       "html": [
        "<pre>PROGRESS: WARNING: Detected extremely low variance for feature(s) 'day' because all entries are nearly the same.\n",
        "Proceeding with model training using all features. If the model does not provide results of adequate quality, exclude the above mentioned feature(s) from the input dataset.</pre>"
       ],
       "metadata": {},
       "output_type": "display_data",
       "text": [
        "PROGRESS: WARNING: Detected extremely low variance for feature(s) 'day' because all entries are nearly the same.\n",
        "Proceeding with model training using all features. If the model does not provide results of adequate quality, exclude the above mentioned feature(s) from the input dataset."
       ]
      },
      {
       "html": [
        "<pre>PROGRESS: Logistic regression:</pre>"
       ],
       "metadata": {},
       "output_type": "display_data",
       "text": [
        "PROGRESS: Logistic regression:"
       ]
      },
      {
       "html": [
        "<pre>PROGRESS: --------------------------------------------------------</pre>"
       ],
       "metadata": {},
       "output_type": "display_data",
       "text": [
        "PROGRESS: --------------------------------------------------------"
       ]
      },
      {
       "html": [
        "<pre>PROGRESS: Number of examples          : 3710945</pre>"
       ],
       "metadata": {},
       "output_type": "display_data",
       "text": [
        "PROGRESS: Number of examples          : 3710945"
       ]
      },
      {
       "html": [
        "<pre>PROGRESS: Number of classes           : 2</pre>"
       ],
       "metadata": {},
       "output_type": "display_data",
       "text": [
        "PROGRESS: Number of classes           : 2"
       ]
      },
      {
       "html": [
        "<pre>PROGRESS: Number of feature columns   : 5</pre>"
       ],
       "metadata": {},
       "output_type": "display_data",
       "text": [
        "PROGRESS: Number of feature columns   : 5"
       ]
      },
      {
       "html": [
        "<pre>PROGRESS: Number of unpacked features : 3012</pre>"
       ],
       "metadata": {},
       "output_type": "display_data",
       "text": [
        "PROGRESS: Number of unpacked features : 3012"
       ]
      },
      {
       "html": [
        "<pre>PROGRESS: Number of coefficients    : 9874</pre>"
       ],
       "metadata": {},
       "output_type": "display_data",
       "text": [
        "PROGRESS: Number of coefficients    : 9874"
       ]
      },
      {
       "html": [
        "<pre>PROGRESS: Starting L-BFGS</pre>"
       ],
       "metadata": {},
       "output_type": "display_data",
       "text": [
        "PROGRESS: Starting L-BFGS"
       ]
      },
      {
       "html": [
        "<pre>PROGRESS: --------------------------------------------------------</pre>"
       ],
       "metadata": {},
       "output_type": "display_data",
       "text": [
        "PROGRESS: --------------------------------------------------------"
       ]
      },
      {
       "html": [
        "<pre>PROGRESS: +-----------+----------+-----------+--------------+-------------------+---------------------+</pre>"
       ],
       "metadata": {},
       "output_type": "display_data",
       "text": [
        "PROGRESS: +-----------+----------+-----------+--------------+-------------------+---------------------+"
       ]
      },
      {
       "html": [
        "<pre>PROGRESS: | Iteration | Passes   | Step size | Elapsed Time | Training-accuracy | Validation-accuracy |</pre>"
       ],
       "metadata": {},
       "output_type": "display_data",
       "text": [
        "PROGRESS: | Iteration | Passes   | Step size | Elapsed Time | Training-accuracy | Validation-accuracy |"
       ]
      },
      {
       "html": [
        "<pre>PROGRESS: +-----------+----------+-----------+--------------+-------------------+---------------------+</pre>"
       ],
       "metadata": {},
       "output_type": "display_data",
       "text": [
        "PROGRESS: +-----------+----------+-----------+--------------+-------------------+---------------------+"
       ]
      },
      {
       "html": [
        "<pre>PROGRESS: | 1         | 6        | 0.000000  | 70.576495    | 0.825720          | 0.826538            |</pre>"
       ],
       "metadata": {},
       "output_type": "display_data",
       "text": [
        "PROGRESS: | 1         | 6        | 0.000000  | 70.576495    | 0.825720          | 0.826538            |"
       ]
      },
      {
       "html": [
        "<pre>PROGRESS: | 2         | 9        | 5.000000  | 113.657719   | 0.825512          | 0.825931            |</pre>"
       ],
       "metadata": {},
       "output_type": "display_data",
       "text": [
        "PROGRESS: | 2         | 9        | 5.000000  | 113.657719   | 0.825512          | 0.825931            |"
       ]
      },
      {
       "html": [
        "<pre>PROGRESS: | 3         | 10       | 5.000000  | 134.748759   | 0.825720          | 0.826538            |</pre>"
       ],
       "metadata": {},
       "output_type": "display_data",
       "text": [
        "PROGRESS: | 3         | 10       | 5.000000  | 134.748759   | 0.825720          | 0.826538            |"
       ]
      },
      {
       "html": [
        "<pre>PROGRESS: | 4         | 12       | 1.000000  | 166.412811   | 0.825727          | 0.826548            |</pre>"
       ],
       "metadata": {},
       "output_type": "display_data",
       "text": [
        "PROGRESS: | 4         | 12       | 1.000000  | 166.412811   | 0.825727          | 0.826548            |"
       ]
      },
      {
       "html": [
        "<pre>PROGRESS: | 5         | 13       | 1.000000  | 187.360726   | 0.826751          | 0.827164            |</pre>"
       ],
       "metadata": {},
       "output_type": "display_data",
       "text": [
        "PROGRESS: | 5         | 13       | 1.000000  | 187.360726   | 0.826751          | 0.827164            |"
       ]
      },
      {
       "html": [
        "<pre>PROGRESS: | 6         | 14       | 1.000000  | 208.052215   | 0.827344          | 0.827671            |</pre>"
       ],
       "metadata": {},
       "output_type": "display_data",
       "text": [
        "PROGRESS: | 6         | 14       | 1.000000  | 208.052215   | 0.827344          | 0.827671            |"
       ]
      },
      {
       "html": [
        "<pre>PROGRESS: | 7         | 15       | 1.000000  | 229.716529   | 0.827055          | 0.827637            |</pre>"
       ],
       "metadata": {},
       "output_type": "display_data",
       "text": [
        "PROGRESS: | 7         | 15       | 1.000000  | 229.716529   | 0.827055          | 0.827637            |"
       ]
      },
      {
       "html": [
        "<pre>PROGRESS: | 8         | 16       | 1.000000  | 249.929231   | 0.829657          | 0.829674            |</pre>"
       ],
       "metadata": {},
       "output_type": "display_data",
       "text": [
        "PROGRESS: | 8         | 16       | 1.000000  | 249.929231   | 0.829657          | 0.829674            |"
       ]
      },
      {
       "html": [
        "<pre>PROGRESS: | 9         | 17       | 1.000000  | 271.027735   | 0.830671          | 0.830581            |</pre>"
       ],
       "metadata": {},
       "output_type": "display_data",
       "text": [
        "PROGRESS: | 9         | 17       | 1.000000  | 271.027735   | 0.830671          | 0.830581            |"
       ]
      },
      {
       "html": [
        "<pre>PROGRESS: | 10        | 18       | 1.000000  | 298.356538   | 0.830256          | 0.830135            |</pre>"
       ],
       "metadata": {},
       "output_type": "display_data",
       "text": [
        "PROGRESS: | 10        | 18       | 1.000000  | 298.356538   | 0.830256          | 0.830135            |"
       ]
      },
      {
       "html": [
        "<pre>PROGRESS: +-----------+----------+-----------+--------------+-------------------+---------------------+</pre>"
       ],
       "metadata": {},
       "output_type": "display_data",
       "text": [
        "PROGRESS: +-----------+----------+-----------+--------------+-------------------+---------------------+"
       ]
      }
     ],
     "prompt_number": 29
    },
    {
     "cell_type": "code",
     "collapsed": false,
     "input": [
      "print \"%0.20f\" % eval_model(model, val)"
     ],
     "language": "python",
     "metadata": {},
     "outputs": [
      {
       "output_type": "stream",
       "stream": "stdout",
       "text": [
        "0.40357369232907458478\n"
       ]
      }
     ],
     "prompt_number": 30
    },
    {
     "cell_type": "markdown",
     "metadata": {},
     "source": [
      "Again, we are doing **much better** by restricting ourselves to only the top few categories. Now let us see if we can apply one transformer to another, using the FeatureHasher to reduce dimensionality overall, including reducing the dimensionality of the quadratic_features column."
     ]
    },
    {
     "cell_type": "heading",
     "level": 3,
     "metadata": {},
     "source": [
      "Feature Hashing"
     ]
    },
    {
     "cell_type": "markdown",
     "metadata": {},
     "source": [
      "The feature hasher **hashes** multiple features into an **n-bit feature space**. This process greatly reduces dimensionality."
     ]
    },
    {
     "cell_type": "code",
     "collapsed": false,
     "input": [
      "hasher = fe.create(train, fe.FeatureHasher(\n",
      "          excluded_features=['id', 'click', 'site_app', 'day', 'hour', 'encoded_features'], \n",
      "          num_bits=22))"
     ],
     "language": "python",
     "metadata": {},
     "outputs": [],
     "prompt_number": 31
    },
    {
     "cell_type": "code",
     "collapsed": false,
     "input": [
      "def apply_feature_hasher(dataset):\n",
      "    if 'hashed_features' in dataset.column_names():\n",
      "        # feature hasher already performed\n",
      "        return dataset\n",
      "    return hasher.transform(dataset)"
     ],
     "language": "python",
     "metadata": {},
     "outputs": [],
     "prompt_number": 32
    },
    {
     "cell_type": "code",
     "collapsed": false,
     "input": [
      "train = apply_feature_hasher(train)\n",
      "val = apply_feature_hasher(val)\n",
      "print train.column_names()"
     ],
     "language": "python",
     "metadata": {},
     "outputs": [
      {
       "output_type": "stream",
       "stream": "stdout",
       "text": [
        "['id', 'click', 'day', 'hour', 'site_app', 'encoded_features', 'hashed_features']\n"
       ]
      }
     ],
     "prompt_number": 33
    },
    {
     "cell_type": "code",
     "collapsed": false,
     "input": [
      "# we drop quadratic_features because it has been hashed by the FeatureHasher, \n",
      "# so its signal is encoded in the 'hashed_features' column\n",
      "features=['site_app', 'day', 'hour', 'encoded_features', 'hashed_features']\n",
      "model = gl.logistic_classifier.create(train, features=features, target='click', validation_set=val)"
     ],
     "language": "python",
     "metadata": {},
     "outputs": [
      {
       "html": [
        "<pre>PROGRESS: WARNING: Detected extremely low variance for feature(s) 'day' because all entries are nearly the same.\n",
        "Proceeding with model training using all features. If the model does not provide results of adequate quality, exclude the above mentioned feature(s) from the input dataset.</pre>"
       ],
       "metadata": {},
       "output_type": "display_data",
       "text": [
        "PROGRESS: WARNING: Detected extremely low variance for feature(s) 'day' because all entries are nearly the same.\n",
        "Proceeding with model training using all features. If the model does not provide results of adequate quality, exclude the above mentioned feature(s) from the input dataset."
       ]
      },
      {
       "html": [
        "<pre>PROGRESS: Logistic regression:</pre>"
       ],
       "metadata": {},
       "output_type": "display_data",
       "text": [
        "PROGRESS: Logistic regression:"
       ]
      },
      {
       "html": [
        "<pre>PROGRESS: --------------------------------------------------------</pre>"
       ],
       "metadata": {},
       "output_type": "display_data",
       "text": [
        "PROGRESS: --------------------------------------------------------"
       ]
      },
      {
       "html": [
        "<pre>PROGRESS: Number of examples          : 3710945</pre>"
       ],
       "metadata": {},
       "output_type": "display_data",
       "text": [
        "PROGRESS: Number of examples          : 3710945"
       ]
      },
      {
       "html": [
        "<pre>PROGRESS: Number of classes           : 2</pre>"
       ],
       "metadata": {},
       "output_type": "display_data",
       "text": [
        "PROGRESS: Number of classes           : 2"
       ]
      },
      {
       "html": [
        "<pre>PROGRESS: Number of feature columns   : 5</pre>"
       ],
       "metadata": {},
       "output_type": "display_data",
       "text": [
        "PROGRESS: Number of feature columns   : 5"
       ]
      },
      {
       "html": [
        "<pre>PROGRESS: Number of unpacked features : 3012</pre>"
       ],
       "metadata": {},
       "output_type": "display_data",
       "text": [
        "PROGRESS: Number of unpacked features : 3012"
       ]
      },
      {
       "html": [
        "<pre>PROGRESS: Number of coefficients    : 9874</pre>"
       ],
       "metadata": {},
       "output_type": "display_data",
       "text": [
        "PROGRESS: Number of coefficients    : 9874"
       ]
      },
      {
       "html": [
        "<pre>PROGRESS: Starting L-BFGS</pre>"
       ],
       "metadata": {},
       "output_type": "display_data",
       "text": [
        "PROGRESS: Starting L-BFGS"
       ]
      },
      {
       "html": [
        "<pre>PROGRESS: --------------------------------------------------------</pre>"
       ],
       "metadata": {},
       "output_type": "display_data",
       "text": [
        "PROGRESS: --------------------------------------------------------"
       ]
      },
      {
       "html": [
        "<pre>PROGRESS: +-----------+----------+-----------+--------------+-------------------+---------------------+</pre>"
       ],
       "metadata": {},
       "output_type": "display_data",
       "text": [
        "PROGRESS: +-----------+----------+-----------+--------------+-------------------+---------------------+"
       ]
      },
      {
       "html": [
        "<pre>PROGRESS: | Iteration | Passes   | Step size | Elapsed Time | Training-accuracy | Validation-accuracy |</pre>"
       ],
       "metadata": {},
       "output_type": "display_data",
       "text": [
        "PROGRESS: | Iteration | Passes   | Step size | Elapsed Time | Training-accuracy | Validation-accuracy |"
       ]
      },
      {
       "html": [
        "<pre>PROGRESS: +-----------+----------+-----------+--------------+-------------------+---------------------+</pre>"
       ],
       "metadata": {},
       "output_type": "display_data",
       "text": [
        "PROGRESS: +-----------+----------+-----------+--------------+-------------------+---------------------+"
       ]
      },
      {
       "html": [
        "<pre>PROGRESS: | 1         | 6        | 0.000000  | 70.896868    | 0.825720          | 0.826538            |</pre>"
       ],
       "metadata": {},
       "output_type": "display_data",
       "text": [
        "PROGRESS: | 1         | 6        | 0.000000  | 70.896868    | 0.825720          | 0.826538            |"
       ]
      },
      {
       "html": [
        "<pre>PROGRESS: | 2         | 9        | 5.000000  | 115.045681   | 0.825512          | 0.825931            |</pre>"
       ],
       "metadata": {},
       "output_type": "display_data",
       "text": [
        "PROGRESS: | 2         | 9        | 5.000000  | 115.045681   | 0.825512          | 0.825931            |"
       ]
      },
      {
       "html": [
        "<pre>PROGRESS: | 3         | 10       | 5.000000  | 135.466586   | 0.825720          | 0.826538            |</pre>"
       ],
       "metadata": {},
       "output_type": "display_data",
       "text": [
        "PROGRESS: | 3         | 10       | 5.000000  | 135.466586   | 0.825720          | 0.826538            |"
       ]
      },
      {
       "html": [
        "<pre>PROGRESS: | 4         | 12       | 1.000000  | 167.251210   | 0.825727          | 0.826548            |</pre>"
       ],
       "metadata": {},
       "output_type": "display_data",
       "text": [
        "PROGRESS: | 4         | 12       | 1.000000  | 167.251210   | 0.825727          | 0.826548            |"
       ]
      },
      {
       "html": [
        "<pre>PROGRESS: | 5         | 13       | 1.000000  | 188.308783   | 0.826751          | 0.827164            |</pre>"
       ],
       "metadata": {},
       "output_type": "display_data",
       "text": [
        "PROGRESS: | 5         | 13       | 1.000000  | 188.308783   | 0.826751          | 0.827164            |"
       ]
      },
      {
       "html": [
        "<pre>PROGRESS: | 6         | 14       | 1.000000  | 210.500583   | 0.827344          | 0.827671            |</pre>"
       ],
       "metadata": {},
       "output_type": "display_data",
       "text": [
        "PROGRESS: | 6         | 14       | 1.000000  | 210.500583   | 0.827344          | 0.827671            |"
       ]
      },
      {
       "html": [
        "<pre>PROGRESS: | 7         | 15       | 1.000000  | 230.813210   | 0.827055          | 0.827637            |</pre>"
       ],
       "metadata": {},
       "output_type": "display_data",
       "text": [
        "PROGRESS: | 7         | 15       | 1.000000  | 230.813210   | 0.827055          | 0.827637            |"
       ]
      },
      {
       "html": [
        "<pre>PROGRESS: | 8         | 16       | 1.000000  | 251.941302   | 0.829657          | 0.829674            |</pre>"
       ],
       "metadata": {},
       "output_type": "display_data",
       "text": [
        "PROGRESS: | 8         | 16       | 1.000000  | 251.941302   | 0.829657          | 0.829674            |"
       ]
      },
      {
       "html": [
        "<pre>PROGRESS: | 9         | 17       | 1.000000  | 272.294446   | 0.830671          | 0.830581            |</pre>"
       ],
       "metadata": {},
       "output_type": "display_data",
       "text": [
        "PROGRESS: | 9         | 17       | 1.000000  | 272.294446   | 0.830671          | 0.830581            |"
       ]
      },
      {
       "html": [
        "<pre>PROGRESS: | 10        | 18       | 1.000000  | 293.590415   | 0.830256          | 0.830135            |</pre>"
       ],
       "metadata": {},
       "output_type": "display_data",
       "text": [
        "PROGRESS: | 10        | 18       | 1.000000  | 293.590415   | 0.830256          | 0.830135            |"
       ]
      },
      {
       "html": [
        "<pre>PROGRESS: +-----------+----------+-----------+--------------+-------------------+---------------------+</pre>"
       ],
       "metadata": {},
       "output_type": "display_data",
       "text": [
        "PROGRESS: +-----------+----------+-----------+--------------+-------------------+---------------------+"
       ]
      }
     ],
     "prompt_number": 34
    },
    {
     "cell_type": "code",
     "collapsed": false,
     "input": [
      "print \"%0.20f\" % eval_model(model, val)"
     ],
     "language": "python",
     "metadata": {},
     "outputs": [
      {
       "output_type": "stream",
       "stream": "stdout",
       "text": [
        "0.40357369232907458478\n"
       ]
      }
     ],
     "prompt_number": 35
    },
    {
     "cell_type": "markdown",
     "metadata": {},
     "source": [
      "### Best Score so far.\n",
      "\n",
      "This **log_loss** is being calculated against the validation set, which was a random 10% split of the first day of clickstream data. That validation set may not be entirely generalizable, so it would not be surprising if the log_loss on the test set is higher. Still, this is definitely a good demonstration of how using feature engineering and feature selection can greatly improve the results of a model.\n",
      "\n",
      "### Recap\n",
      "\n",
      "In this notebook we covered the following types of feature engineering:\n",
      "1. Datetime parsing for extracting day and hour features\n",
      "1. Interaction features for site_id and app_id\n",
      "1. Quadratic Features for creating full interaction terms between all features in a row.\n",
      "1. One-Hot Encoding to reduce the dimensionality within each categorical variable to just the top 100 categories.\n",
      "1. Feature Hashing to reduce the overall dimensionality of all the features (including the Quadratic Features)\n",
      "\n",
      "We have done a bunch of feature engineering, but have only introduced the powerful transformers available in GraphLab Create."
     ]
    },
    {
     "cell_type": "markdown",
     "metadata": {},
     "source": [
      "### Feature Engineering Transformers in GraphLab Create\n",
      "\n",
      "1. **FeatureHasher:** Hashes an input feature space to an n-bit feature space.\n",
      "1. **QuadraticFeatures**: Calculates quadratic interaction terms between features.\n",
      "1. **FeatureBinner**: Feature binning is a method of turning continuous variables into categorical values.\n",
      "1. **OneHotEncoder**: Encode a collection of categorical features using a 1-of-K encoding scheme.\n",
      "1. **CountThresholder**: Map infrequent categorical variables to a new/separate category.\n",
      "1. **TransformerChain**: Sequentially apply a list of transforms."
     ]
    },
    {
     "cell_type": "markdown",
     "metadata": {},
     "source": [
      "It is just as easy to write your own [custom Transformer](https://turi.com/products/create/docs/generated/graphlab.toolkits.feature_engineering._feature_engineering.TransformerBase.html#graphlab.toolkits.feature_engineering._feature_engineering.TransformerBase), simply extend the [TransformerBase](https://turi.com/products/create/docs/generated/graphlab.toolkits.feature_engineering._feature_engineering.TransformerBase.html#graphlab.toolkits.feature_engineering._feature_engineering.TransformerBase) and then write arbitrary Python code for the fit and transform methods - this allows for creative ensembling. \n",
      "\n",
      "It is also worth mentioning that we could have chained the Transformers together using the [TransformerChain class](https://turi.com/products/create/docs/generated/graphlab.toolkits.feature_engineering._transformer_chain.TransformerChain.html#graphlab.toolkits.feature_engineering._transformer_chain.TransformerChain), making it easy for us to compose complex feature engineering transformations that can be used just as simply.\n",
      "\n",
      "There is a **lot more we can do with Feature Engineering**, hopefully this notebook has given you a flavor of how easy and scalable Feature Engineering is in GraphLab Create!"
     ]
    }
   ],
   "metadata": {}
  }
 ]
}
