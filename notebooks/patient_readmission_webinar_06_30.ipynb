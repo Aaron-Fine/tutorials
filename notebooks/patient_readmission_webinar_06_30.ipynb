{
 "cells": [
  {
   "cell_type": "markdown",
   "metadata": {
    "nbpresent": {
     "id": "18cfe612-00af-498d-bafc-791552d2a212"
    }
   },
   "source": [
    "# Building Applications to Assess Patient Readmission Risk\n",
    "\n",
    "## Introduction\n",
    "This notebook uses a dataset of over 100,000 patient admissions to develop models that assign a risk score for early readmission. It uses Turi's GraphLab Create product to automate several mundane tasks in model building. The notebook then deploys a model as a real-time service using Turi's Predicitive Services.\n",
    "\n",
    "There are four steps involved with accomplishing this task:\n",
    "1. Load the data and analyze it using a sketch summary\n",
    "2. Build a baseline model using GraphLab Create's toolkits\n",
    "3. Build a more advanced model using feature engineering and model selection\n",
    "4. Deploy as a real-time service"
   ]
  },
  {
   "cell_type": "markdown",
   "metadata": {
    "nbpresent": {
     "id": "8c87cdbe-1b17-42b8-9a6e-b400232f6be7"
    }
   },
   "source": [
    "### Load GraphLab Create\n",
    "Before we get started we load Turi's GraphLab library. You can download a 30-day free trial of GraphLab Create [here.](https://turi.com/download/)\n",
    "\n",
    "Turi has also partnered with the University of Washington to create a six-part online [Coursera Machine Learning Specialization](https://www.coursera.org/specializations/machine-learning) course that teaches the fundamentals of machine learning and building predictive applications in Python. Students of the course are entitled to a free 12-month academic license."
   ]
  },
  {
   "cell_type": "code",
   "execution_count": 217,
   "metadata": {
    "collapsed": false,
    "nbpresent": {
     "id": "22bc6723-bd7b-4ba2-8277-042b51c21b9c"
    }
   },
   "outputs": [],
   "source": [
    "import graphlab as gl\n",
    "\n",
    "%matplotlib inline\n",
    "import matplotlib\n",
    "import matplotlib.pyplot as plt\n",
    "\n",
    "plt.style.use('fivethirtyeight')"
   ]
  },
  {
   "cell_type": "markdown",
   "metadata": {
    "nbpresent": {
     "id": "1459e7f5-e627-4e67-8782-f2465a3573c2"
    }
   },
   "source": [
    "## 1. Load the data and analyze it\n",
    "### Data Set Information:\n",
    "\n",
    "The dataset represents 10 years (1999-2008) of clinical care at 130 US hospitals and integrated delivery networks. It includes over 50 features representing patient and hospital outcomes.\n",
    "\n",
    "The data is freely available from University of California-Irivne's ML Repository."
   ]
  },
  {
   "cell_type": "markdown",
   "metadata": {
    "nbpresent": {
     "id": "cb643134-cb53-4138-9cfe-eb9316fbabe2"
    }
   },
   "source": [
    "There are two files in the directory. The patient data is in 'diabetic_data.csv' and the codes for admission and discharge are in 'IDs_mapping.csv'. The SFrame is a scalable, out-of-core data frame capable of loading 100s of GBs of data for analysis and machine learning on a single laptop, and it can scale to larger datasets from your EHR databse."
   ]
  },
  {
   "cell_type": "code",
   "execution_count": 218,
   "metadata": {
    "collapsed": false,
    "nbpresent": {
     "id": "8d983868-2814-42c6-bc77-5fe206c56bc5"
    }
   },
   "outputs": [],
   "source": [
    "patient_sf = gl.SFrame('patientReadmissionWebinar.sf/')"
   ]
  },
  {
   "cell_type": "markdown",
   "metadata": {
    "nbpresent": {
     "id": "1f6acefb-8a67-46fb-ae62-c46c61554186"
    }
   },
   "source": [
    "GraphLab Create's Canvas provides a sketch summary of the patient data."
   ]
  },
  {
   "cell_type": "code",
   "execution_count": 219,
   "metadata": {
    "collapsed": false,
    "nbpresent": {
     "id": "9dd29540-eb96-4aab-954b-5a6066450046"
    }
   },
   "outputs": [
    {
     "name": "stdout",
     "output_type": "stream",
     "text": [
      "Canvas is accessible via web browser at the URL: http://localhost:58811/index.html\n",
      "Opening Canvas in default web browser.\n"
     ]
    }
   ],
   "source": [
    "gl.canvas.set_target('browser')\n",
    "patient_sf.show()"
   ]
  },
  {
   "cell_type": "markdown",
   "metadata": {
    "nbpresent": {
     "id": "1e8e99d5-e270-41f6-9267-e924b7dcdc1c"
    }
   },
   "source": [
    "## 2. Build the baseline model\n",
    "In order to build a model we need three things: the patient data, the features we want to train on, and the target for our model to predict. We use all the features of the data except for the readmission column, the encounter ID and the patient number. We also create a target column for early readmission, defined as any patient that gets readmitted within 30 days."
   ]
  },
  {
   "cell_type": "code",
   "execution_count": 220,
   "metadata": {
    "collapsed": true,
    "nbpresent": {
     "id": "379816d2-6242-431e-a295-1325cbd5bd58"
    }
   },
   "outputs": [],
   "source": [
    "features = patient_sf.column_names()\n",
    "features.remove('readmitted')\n",
    "features.remove('encounter_id')\n",
    "features.remove('patient_nbr')\n",
    "\n",
    "patient_sf['early_readmission'] = patient_sf['readmitted'].apply(lambda x: \n",
    "                                                                 'readmitted' if x=='<30' \n",
    "                                                                 else 'otherwise')"
   ]
  },
  {
   "cell_type": "markdown",
   "metadata": {
    "nbpresent": {
     "id": "4b320f94-b248-4879-b6a3-d720261c871e"
    }
   },
   "source": [
    "To build the model we randomly split our data into training and test. We then use GraphLab Create's classifier toolkit to auto-select a baseline model. The toolkit automatically uses the numeric data and uses one-hot encoding on the categorical features."
   ]
  },
  {
   "cell_type": "code",
   "execution_count": 221,
   "metadata": {
    "collapsed": false,
    "nbpresent": {
     "id": "a1a67c80-1dff-48b3-b0b8-00d11a11b541"
    }
   },
   "outputs": [
    {
     "name": "stdout",
     "output_type": "stream",
     "text": [
      "PROGRESS: Creating a validation set from 5 percent of training data. This may take a while.\n",
      "          You can set ``validation_set=None`` to disable validation tracking.\n",
      "\n"
     ]
    },
    {
     "data": {
      "text/html": [
       "<pre>WARNING: Detected extremely low variance for feature(s) 'examide', 'citoglipton' because all entries are nearly the same.\n",
       "Proceeding with model training using all features. If the model does not provide results of adequate quality, exclude the above mentioned feature(s) from the input dataset.</pre>"
      ],
      "text/plain": [
       "WARNING: Detected extremely low variance for feature(s) 'examide', 'citoglipton' because all entries are nearly the same.\n",
       "Proceeding with model training using all features. If the model does not provide results of adequate quality, exclude the above mentioned feature(s) from the input dataset."
      ]
     },
     "metadata": {},
     "output_type": "display_data"
    },
    {
     "data": {
      "text/html": [
       "<pre>Logistic regression:</pre>"
      ],
      "text/plain": [
       "Logistic regression:"
      ]
     },
     "metadata": {},
     "output_type": "display_data"
    },
    {
     "data": {
      "text/html": [
       "<pre>--------------------------------------------------------</pre>"
      ],
      "text/plain": [
       "--------------------------------------------------------"
      ]
     },
     "metadata": {},
     "output_type": "display_data"
    },
    {
     "data": {
      "text/html": [
       "<pre>Number of examples          : 77022</pre>"
      ],
      "text/plain": [
       "Number of examples          : 77022"
      ]
     },
     "metadata": {},
     "output_type": "display_data"
    },
    {
     "data": {
      "text/html": [
       "<pre>Number of classes           : 2</pre>"
      ],
      "text/plain": [
       "Number of classes           : 2"
      ]
     },
     "metadata": {},
     "output_type": "display_data"
    },
    {
     "data": {
      "text/html": [
       "<pre>Number of feature columns   : 47</pre>"
      ],
      "text/plain": [
       "Number of feature columns   : 47"
      ]
     },
     "metadata": {},
     "output_type": "display_data"
    },
    {
     "data": {
      "text/html": [
       "<pre>Number of unpacked features : 47</pre>"
      ],
      "text/plain": [
       "Number of unpacked features : 47"
      ]
     },
     "metadata": {},
     "output_type": "display_data"
    },
    {
     "data": {
      "text/html": [
       "<pre>Number of coefficients    : 2150</pre>"
      ],
      "text/plain": [
       "Number of coefficients    : 2150"
      ]
     },
     "metadata": {},
     "output_type": "display_data"
    },
    {
     "data": {
      "text/html": [
       "<pre>Starting L-BFGS</pre>"
      ],
      "text/plain": [
       "Starting L-BFGS"
      ]
     },
     "metadata": {},
     "output_type": "display_data"
    },
    {
     "data": {
      "text/html": [
       "<pre>--------------------------------------------------------</pre>"
      ],
      "text/plain": [
       "--------------------------------------------------------"
      ]
     },
     "metadata": {},
     "output_type": "display_data"
    },
    {
     "data": {
      "text/html": [
       "<pre>+-----------+----------+-----------+--------------+-------------------+---------------------+</pre>"
      ],
      "text/plain": [
       "+-----------+----------+-----------+--------------+-------------------+---------------------+"
      ]
     },
     "metadata": {},
     "output_type": "display_data"
    },
    {
     "data": {
      "text/html": [
       "<pre>| Iteration | Passes   | Step size | Elapsed Time | Training-accuracy | Validation-accuracy |</pre>"
      ],
      "text/plain": [
       "| Iteration | Passes   | Step size | Elapsed Time | Training-accuracy | Validation-accuracy |"
      ]
     },
     "metadata": {},
     "output_type": "display_data"
    },
    {
     "data": {
      "text/html": [
       "<pre>+-----------+----------+-----------+--------------+-------------------+---------------------+</pre>"
      ],
      "text/plain": [
       "+-----------+----------+-----------+--------------+-------------------+---------------------+"
      ]
     },
     "metadata": {},
     "output_type": "display_data"
    },
    {
     "data": {
      "text/html": [
       "<pre>| 1         | 4        | 0.000006  | 0.642661     | 0.888928          | 0.891972            |</pre>"
      ],
      "text/plain": [
       "| 1         | 4        | 0.000006  | 0.642661     | 0.888928          | 0.891972            |"
      ]
     },
     "metadata": {},
     "output_type": "display_data"
    },
    {
     "data": {
      "text/html": [
       "<pre>| 2         | 8        | 3.000000  | 1.224367     | 0.889097          | 0.891972            |</pre>"
      ],
      "text/plain": [
       "| 2         | 8        | 3.000000  | 1.224367     | 0.889097          | 0.891972            |"
      ]
     },
     "metadata": {},
     "output_type": "display_data"
    },
    {
     "data": {
      "text/html": [
       "<pre>| 3         | 9        | 3.000000  | 1.417752     | 0.888967          | 0.891972            |</pre>"
      ],
      "text/plain": [
       "| 3         | 9        | 3.000000  | 1.417752     | 0.888967          | 0.891972            |"
      ]
     },
     "metadata": {},
     "output_type": "display_data"
    },
    {
     "data": {
      "text/html": [
       "<pre>| 4         | 11       | 1.000000  | 1.812672     | 0.889330          | 0.891972            |</pre>"
      ],
      "text/plain": [
       "| 4         | 11       | 1.000000  | 1.812672     | 0.889330          | 0.891972            |"
      ]
     },
     "metadata": {},
     "output_type": "display_data"
    },
    {
     "data": {
      "text/html": [
       "<pre>| 5         | 12       | 1.000000  | 2.028343     | 0.889629          | 0.891972            |</pre>"
      ],
      "text/plain": [
       "| 5         | 12       | 1.000000  | 2.028343     | 0.889629          | 0.891972            |"
      ]
     },
     "metadata": {},
     "output_type": "display_data"
    },
    {
     "data": {
      "text/html": [
       "<pre>| 6         | 13       | 1.000000  | 2.354459     | 0.889707          | 0.891972            |</pre>"
      ],
      "text/plain": [
       "| 6         | 13       | 1.000000  | 2.354459     | 0.889707          | 0.891972            |"
      ]
     },
     "metadata": {},
     "output_type": "display_data"
    },
    {
     "data": {
      "text/html": [
       "<pre>| 10        | 17       | 1.000000  | 3.172848     | 0.890343          | 0.891480            |</pre>"
      ],
      "text/plain": [
       "| 10        | 17       | 1.000000  | 3.172848     | 0.890343          | 0.891480            |"
      ]
     },
     "metadata": {},
     "output_type": "display_data"
    },
    {
     "data": {
      "text/html": [
       "<pre>+-----------+----------+-----------+--------------+-------------------+---------------------+</pre>"
      ],
      "text/plain": [
       "+-----------+----------+-----------+--------------+-------------------+---------------------+"
      ]
     },
     "metadata": {},
     "output_type": "display_data"
    },
    {
     "data": {
      "text/html": [
       "<pre>TERMINATED: Iteration limit reached.</pre>"
      ],
      "text/plain": [
       "TERMINATED: Iteration limit reached."
      ]
     },
     "metadata": {},
     "output_type": "display_data"
    },
    {
     "data": {
      "text/html": [
       "<pre>This model may not be optimal. To improve it, consider increasing `max_iterations`.</pre>"
      ],
      "text/plain": [
       "This model may not be optimal. To improve it, consider increasing `max_iterations`."
      ]
     },
     "metadata": {},
     "output_type": "display_data"
    }
   ],
   "source": [
    "train, test = patient_sf.random_split(0.8, seed = 11)\n",
    "\n",
    "baseline_model = gl.logistic_classifier.create(train, target='early_readmission', features=features)"
   ]
  },
  {
   "cell_type": "markdown",
   "metadata": {
    "nbpresent": {
     "id": "fad06627-6d29-4643-ba72-a9f7dc19295d"
    }
   },
   "source": [
    "We can build trust in our model by first looking at the coefficients. We add the domain meaning to the diagnosis codes as well."
   ]
  },
  {
   "cell_type": "code",
   "execution_count": 222,
   "metadata": {
    "collapsed": false,
    "nbpresent": {
     "id": "771abd2d-099c-4f73-bdce-b189db23553d"
    }
   },
   "outputs": [
    {
     "data": {
      "text/plain": [
       "Class                         : LogisticClassifier\n",
       "\n",
       "Schema\n",
       "------\n",
       "Number of coefficients        : 2150\n",
       "Number of examples            : 77022\n",
       "Number of classes             : 2\n",
       "Number of feature columns     : 47\n",
       "Number of unpacked features   : 47\n",
       "\n",
       "Hyperparameters\n",
       "---------------\n",
       "L1 penalty                    : 0.0\n",
       "L2 penalty                    : 0.01\n",
       "\n",
       "Training Summary\n",
       "----------------\n",
       "Solver                        : lbfgs\n",
       "Solver iterations             : 10\n",
       "Solver status                 : TERMINATED: Iteration limit reached.\n",
       "Training time (sec)           : 3.2453\n",
       "\n",
       "Settings\n",
       "--------\n",
       "Log-likelihood                : 24250.7037\n",
       "\n",
       "Highest Positive Coefficients\n",
       "-----------------------------\n",
       "diag_2[Disorders of iris and ciliary body]: 9.1183\n",
       "diag_2[Coccidioidomycosis]    : 7.9505\n",
       "diag_3[Other congenital anomalies of upper alimentary tract]: 7.8896\n",
       "diag_3[Dislocation of ankle]  : 7.7463\n",
       "diag_1[Disorders of carbohydrate transport and metabolism]: 7.5583\n",
       "\n",
       "Lowest Negative Coefficients\n",
       "----------------------------\n",
       "diag_3[Carrier or suspected carrier of infectious diseases]: -5.4372\n",
       "glimepiride-pioglitazone[Steady]: -5.3668\n",
       "diag_2[Sprains and strains of hip and thigh]: -5.1313\n",
       "diag_3[Poisoning by drugs primarily affecting the autonomic nervous system]: -4.9168\n",
       "diag_2[Other and unspecified intracranial hemorrhage following injury]: -4.7175"
      ]
     },
     "execution_count": 222,
     "metadata": {},
     "output_type": "execute_result"
    }
   ],
   "source": [
    "baseline_model"
   ]
  },
  {
   "cell_type": "markdown",
   "metadata": {
    "nbpresent": {
     "id": "f9bb9f89-71e6-455b-8f0a-590c1c01fd49"
    }
   },
   "source": [
    "Many of the features above are specifically related to the diagnosis of the physician. However there are other features of this model that drive the results of this model. Here we exclude the diagnosis codes from our list."
   ]
  },
  {
   "cell_type": "code",
   "execution_count": 223,
   "metadata": {
    "collapsed": false,
    "nbpresent": {
     "id": "3e8bcacd-a353-4fdc-a543-a1b39c3e1830"
    }
   },
   "outputs": [
    {
     "name": "stdout",
     "output_type": "stream",
     "text": [
      "+-----------------------+--------------------------------+---------------+\n",
      "|          name         |             index              |     value     |\n",
      "+-----------------------+--------------------------------+---------------+\n",
      "|   medical_specialty   |            Resident            | 6.40581762959 |\n",
      "| discharge_disposition | Still patient or expected ...  | 2.63492869936 |\n",
      "|        miglitol       |              Down              | 1.83646812906 |\n",
      "|   medical_specialty   | Pediatrics-Hematology-Oncology | 1.63633337055 |\n",
      "| discharge_disposition | Discharged/transferred/ref...  | 1.62476981432 |\n",
      "+-----------------------+--------------------------------+---------------+\n",
      "[222 rows x 3 columns]\n",
      "\n",
      "+--------------------------+----------------------+----------------+\n",
      "|           name           |        index         |     value      |\n",
      "+--------------------------+----------------------+----------------+\n",
      "| glimepiride-pioglitazone |        Steady        | -5.36675909403 |\n",
      "|      acetohexamide       |        Steady        | -3.66441751744 |\n",
      "|    medical_specialty     |      Dentistry       | -3.24319299537 |\n",
      "|    medical_specialty     | Psychiatry-Addictive | -3.03607159492 |\n",
      "|         miglitol         |          Up          | -2.99620440229 |\n",
      "+--------------------------+----------------------+----------------+\n",
      "[222 rows x 3 columns]\n",
      "\n"
     ]
    }
   ],
   "source": [
    "coef = baseline_model.coefficients\n",
    "diagnosis = ['diag_' + str(x) for x in range(1,4)]\n",
    "non_diag_coef = coef.filter_by(diagnosis,'name',exclude=True)\n",
    "\n",
    "non_diag_coef = non_diag_coef.sort('value', ascending=False)\n",
    "non_diag_coef['name','index','value'].print_rows(num_rows=5)\n",
    "non_diag_coef = non_diag_coef.sort('value', ascending=True)\n",
    "non_diag_coef['name','index','value'].print_rows(num_rows=5)"
   ]
  },
  {
   "cell_type": "markdown",
   "metadata": {
    "nbpresent": {
     "id": "986c0a66-c9b0-454c-8197-5eb9908d931f"
    }
   },
   "source": [
    "With the model we can evaluate its performance on the holdout set. Although the model is highly accurate, it is actually a result of the sparseness and target imbalance in the dataset."
   ]
  },
  {
   "cell_type": "code",
   "execution_count": 224,
   "metadata": {
    "collapsed": false,
    "nbpresent": {
     "id": "933a1855-994f-44bc-ae3b-61cf619e609b"
    }
   },
   "outputs": [
    {
     "name": "stdout",
     "output_type": "stream",
     "text": [
      "accuracy: 0.88404, precision: 0.391304, recall: 0.0266723, c-stat: 0.647709\n"
     ]
    }
   ],
   "source": [
    "results = baseline_model.evaluate(test)\n",
    "print \"accuracy: %g, precision: %g, recall: %g, c-stat: %g\" % (results['accuracy'], results['precision'], results['recall'], results['auc'])"
   ]
  },
  {
   "cell_type": "markdown",
   "metadata": {
    "nbpresent": {
     "id": "d7541139-e6a3-4e0b-8c26-04d1ce15e7fd"
    }
   },
   "source": [
    "The model has an accuracy of 88%, but has a precision of ~40%. Furthermore it only recalls ~3% of the readmitted patients. What does this mean for the provider? We make a few assumptions and then calculate the percentage of readmission cases that could be avoided through intervention with the riskiest patients, as defined by the model.\n",
    "\n",
    "**Assumption**\n",
    "- 65% of all readmissions are avoidable"
   ]
  },
  {
   "cell_type": "code",
   "execution_count": 225,
   "metadata": {
    "collapsed": false,
    "nbpresent": {
     "id": "2d5b7e64-8555-4bd3-940b-a92349150510"
    }
   },
   "outputs": [],
   "source": [
    "def get_readmission_pct(patients, model, pct_intervene):\n",
    "    # assumptions\n",
    "    preventable_readmission_rate = 0.65\n",
    "    pct_intervene = pct_intervene/100.0\n",
    "    \n",
    "    #model evaluation, sorting, and subsetting\n",
    "    sorted_patients = gl.SFrame()\n",
    "    sorted_patients['early_readmission'] = patients['early_readmission']\n",
    "    sorted_patients['early_readmit_score'] = model.predict(patients, \n",
    "                                                           output_type='probability')\n",
    "    sorted_patients = sorted_patients.sort('early_readmit_score', \n",
    "                                           ascending=False)\n",
    "    sorted_patients = sorted_patients[:int(len(sorted_patients)*pct_intervene)]\n",
    "    \n",
    "    number_of_readmits = len(patients[patients['early_readmission']=='readmitted'])\n",
    "    number_of_readmits_intervened = len(sorted_patients[sorted_patients['early_readmission']=='readmitted'])\n",
    "    preventable_readmits_intervened = number_of_readmits_intervened*preventable_readmission_rate\n",
    "    return (number_of_readmits - preventable_readmits_intervened)/float(number_of_readmits)*100"
   ]
  },
  {
   "cell_type": "code",
   "execution_count": 226,
   "metadata": {
    "collapsed": false,
    "nbpresent": {
     "id": "4cead32d-7adf-4463-8614-f7b0040f09c8"
    }
   },
   "outputs": [],
   "source": [
    "intervene_rate = [x for x in range(0,30,5)]\n",
    "baseline_readmission_rate = [get_readmission_pct(test, baseline_model, x) for x in intervene_rate]"
   ]
  },
  {
   "cell_type": "code",
   "execution_count": 227,
   "metadata": {
    "collapsed": false,
    "nbpresent": {
     "id": "53850111-7f24-40e7-b04e-30ad0aefb0bc"
    }
   },
   "outputs": [
    {
     "data": {
      "text/plain": [
       "<matplotlib.legend.Legend at 0x155678810>"
      ]
     },
     "execution_count": 227,
     "metadata": {},
     "output_type": "execute_result"
    },
    {
     "data": {
      "image/png": "[encoded data removed]",
      "text/plain": [
       "<matplotlib.figure.Figure at 0x155f7a0d0>"
      ]
     },
     "metadata": {},
     "output_type": "display_data"
    }
   ],
   "source": [
    "plt.plot(intervene_rate, baseline_readmission_rate)\n",
    "plt.ylim((60,100))\n",
    "plt.xlabel('Patients Intervened (%)')\n",
    "plt.ylabel('Patients Readmitted (%)')\n",
    "plt.title('Readmission Reduction')\n",
    "plt.legend(['Baseline'])"
   ]
  },
  {
   "cell_type": "markdown",
   "metadata": {
    "nbpresent": {
     "id": "5ff61192-d888-4314-966d-dbf4230e20ed"
    }
   },
   "source": [
    "## 2. Build an advanced model\n",
    "One way to gain a better understanding of the data is to analyze the unstructured data within the patients' records. Here we build features into the ICD-9 diagnosis codes to help the model understand similarities between codes."
   ]
  },
  {
   "cell_type": "code",
   "execution_count": 228,
   "metadata": {
    "collapsed": true,
    "nbpresent": {
     "id": "70451dea-3998-4419-8316-59cf82660f8b"
    }
   },
   "outputs": [],
   "source": [
    "tfidf = gl.feature_engineering.TFIDF(features=['diag_1','diag_2','diag_3'])\n",
    "fit_tfidf = tfidf.fit(train)\n",
    "transformed_train = fit_tfidf.transform(train)\n",
    "transformed_test = fit_tfidf.transform(test)"
   ]
  },
  {
   "cell_type": "code",
   "execution_count": 229,
   "metadata": {
    "collapsed": false,
    "nbpresent": {
     "id": "fef306ff-0756-48ea-90f6-212e75fc3444"
    }
   },
   "outputs": [
    {
     "name": "stdout",
     "output_type": "stream",
     "text": [
      "Canvas is accessible via web browser at the URL: http://localhost:58811/index.html\n",
      "Opening Canvas in default web browser.\n"
     ]
    }
   ],
   "source": [
    "transformed_train.show()"
   ]
  },
  {
   "cell_type": "markdown",
   "metadata": {
    "nbpresent": {
     "id": "c3391f7d-8d98-42d5-a0ce-91f5bdb02f9a"
    }
   },
   "source": [
    "We now remove a few more features that are likely not contributing to the readmission - weight (because the data is mostly missing) and payer_code."
   ]
  },
  {
   "cell_type": "code",
   "execution_count": 230,
   "metadata": {
    "collapsed": false,
    "nbpresent": {
     "id": "742869d3-e0a6-4d87-856b-e81b549c1290"
    }
   },
   "outputs": [],
   "source": [
    "features = transformed_train.column_names()\n",
    "features.remove('readmitted')\n",
    "features.remove('early_readmission')\n",
    "features.remove('encounter_id')\n",
    "features.remove('patient_nbr')\n",
    "features.remove('weight')\n",
    "features.remove('payer_code')"
   ]
  },
  {
   "cell_type": "code",
   "execution_count": null,
   "metadata": {
    "collapsed": true,
    "nbpresent": {
     "id": "b3e11f2c-7c9f-4519-9aef-070332fe28a1"
    }
   },
   "outputs": [],
   "source": [
    "for f in ['diag_1', 'diag_2', 'diag_3']:\n",
    "    features.remove(f)"
   ]
  },
  {
   "cell_type": "markdown",
   "metadata": {
    "nbpresent": {
     "id": "21910c70-4bbf-4653-9f58-91ee8a5ec975"
    }
   },
   "source": [
    "In the advanced model we specifically use a Boosted Tree classifier. We also choose to weigh the classes by their prevalance in the training data."
   ]
  },
  {
   "cell_type": "code",
   "execution_count": 231,
   "metadata": {
    "collapsed": false,
    "nbpresent": {
     "id": "8785c8bb-5c98-4f06-af77-ff2a58401eef"
    }
   },
   "outputs": [
    {
     "name": "stdout",
     "output_type": "stream",
     "text": [
      "PROGRESS: Creating a validation set from 5 percent of training data. This may take a while.\n",
      "          You can set ``validation_set=None`` to disable validation tracking.\n",
      "\n"
     ]
    },
    {
     "data": {
      "text/html": [
       "<pre>WARNING: Detected extremely low variance for feature(s) 'examide', 'citoglipton' because all entries are nearly the same.\n",
       "Proceeding with model training using all features. If the model does not provide results of adequate quality, exclude the above mentioned feature(s) from the input dataset.</pre>"
      ],
      "text/plain": [
       "WARNING: Detected extremely low variance for feature(s) 'examide', 'citoglipton' because all entries are nearly the same.\n",
       "Proceeding with model training using all features. If the model does not provide results of adequate quality, exclude the above mentioned feature(s) from the input dataset."
      ]
     },
     "metadata": {},
     "output_type": "display_data"
    },
    {
     "data": {
      "text/html": [
       "<pre>WARNING: Ignore unsupported tracking metric log-loss</pre>"
      ],
      "text/plain": [
       "WARNING: Ignore unsupported tracking metric log-loss"
      ]
     },
     "metadata": {},
     "output_type": "display_data"
    },
    {
     "data": {
      "text/html": [
       "<pre>Boosted trees classifier:</pre>"
      ],
      "text/plain": [
       "Boosted trees classifier:"
      ]
     },
     "metadata": {},
     "output_type": "display_data"
    },
    {
     "data": {
      "text/html": [
       "<pre>--------------------------------------------------------</pre>"
      ],
      "text/plain": [
       "--------------------------------------------------------"
      ]
     },
     "metadata": {},
     "output_type": "display_data"
    },
    {
     "data": {
      "text/html": [
       "<pre>Number of examples          : 77048</pre>"
      ],
      "text/plain": [
       "Number of examples          : 77048"
      ]
     },
     "metadata": {},
     "output_type": "display_data"
    },
    {
     "data": {
      "text/html": [
       "<pre>Number of classes           : 2</pre>"
      ],
      "text/plain": [
       "Number of classes           : 2"
      ]
     },
     "metadata": {},
     "output_type": "display_data"
    },
    {
     "data": {
      "text/html": [
       "<pre>Number of feature columns   : 45</pre>"
      ],
      "text/plain": [
       "Number of feature columns   : 45"
      ]
     },
     "metadata": {},
     "output_type": "display_data"
    },
    {
     "data": {
      "text/html": [
       "<pre>Number of unpacked features : 2949</pre>"
      ],
      "text/plain": [
       "Number of unpacked features : 2949"
      ]
     },
     "metadata": {},
     "output_type": "display_data"
    },
    {
     "data": {
      "text/html": [
       "<pre>+-----------+--------------+--------------+----------------+</pre>"
      ],
      "text/plain": [
       "+-----------+--------------+--------------+----------------+"
      ]
     },
     "metadata": {},
     "output_type": "display_data"
    },
    {
     "data": {
      "text/html": [
       "<pre>| Iteration | Elapsed Time | Training-auc | Validation-auc |</pre>"
      ],
      "text/plain": [
       "| Iteration | Elapsed Time | Training-auc | Validation-auc |"
      ]
     },
     "metadata": {},
     "output_type": "display_data"
    },
    {
     "data": {
      "text/html": [
       "<pre>+-----------+--------------+--------------+----------------+</pre>"
      ],
      "text/plain": [
       "+-----------+--------------+--------------+----------------+"
      ]
     },
     "metadata": {},
     "output_type": "display_data"
    },
    {
     "data": {
      "text/html": [
       "<pre>| 1         | 0.245458     | 0.669411     | 0.681436       |</pre>"
      ],
      "text/plain": [
       "| 1         | 0.245458     | 0.669411     | 0.681436       |"
      ]
     },
     "metadata": {},
     "output_type": "display_data"
    },
    {
     "data": {
      "text/html": [
       "<pre>| 2         | 0.459935     | 0.676053     | 0.684928       |</pre>"
      ],
      "text/plain": [
       "| 2         | 0.459935     | 0.676053     | 0.684928       |"
      ]
     },
     "metadata": {},
     "output_type": "display_data"
    },
    {
     "data": {
      "text/html": [
       "<pre>| 3         | 0.654589     | 0.678874     | 0.687238       |</pre>"
      ],
      "text/plain": [
       "| 3         | 0.654589     | 0.678874     | 0.687238       |"
      ]
     },
     "metadata": {},
     "output_type": "display_data"
    },
    {
     "data": {
      "text/html": [
       "<pre>| 4         | 0.903505     | 0.681673     | 0.687223       |</pre>"
      ],
      "text/plain": [
       "| 4         | 0.903505     | 0.681673     | 0.687223       |"
      ]
     },
     "metadata": {},
     "output_type": "display_data"
    },
    {
     "data": {
      "text/html": [
       "<pre>| 5         | 1.131491     | 0.686478     | 0.689299       |</pre>"
      ],
      "text/plain": [
       "| 5         | 1.131491     | 0.686478     | 0.689299       |"
      ]
     },
     "metadata": {},
     "output_type": "display_data"
    },
    {
     "data": {
      "text/html": [
       "<pre>| 6         | 1.339973     | 0.689203     | 0.691389       |</pre>"
      ],
      "text/plain": [
       "| 6         | 1.339973     | 0.689203     | 0.691389       |"
      ]
     },
     "metadata": {},
     "output_type": "display_data"
    },
    {
     "data": {
      "text/html": [
       "<pre>| 10        | 2.055081     | 0.703546     | 0.695965       |</pre>"
      ],
      "text/plain": [
       "| 10        | 2.055081     | 0.703546     | 0.695965       |"
      ]
     },
     "metadata": {},
     "output_type": "display_data"
    },
    {
     "data": {
      "text/html": [
       "<pre>| 11        | 2.316759     | 0.704658     | 0.695534       |</pre>"
      ],
      "text/plain": [
       "| 11        | 2.316759     | 0.704658     | 0.695534       |"
      ]
     },
     "metadata": {},
     "output_type": "display_data"
    },
    {
     "data": {
      "text/html": [
       "<pre>| 15        | 3.017556     | 0.713737     | 0.697832       |</pre>"
      ],
      "text/plain": [
       "| 15        | 3.017556     | 0.713737     | 0.697832       |"
      ]
     },
     "metadata": {},
     "output_type": "display_data"
    },
    {
     "data": {
      "text/html": [
       "<pre>| 20        | 3.843351     | 0.724249     | 0.693578       |</pre>"
      ],
      "text/plain": [
       "| 20        | 3.843351     | 0.724249     | 0.693578       |"
      ]
     },
     "metadata": {},
     "output_type": "display_data"
    },
    {
     "data": {
      "text/html": [
       "<pre>+-----------+--------------+--------------+----------------+</pre>"
      ],
      "text/plain": [
       "+-----------+--------------+--------------+----------------+"
      ]
     },
     "metadata": {},
     "output_type": "display_data"
    },
    {
     "data": {
      "text/html": [
       "<pre>Early stop triggered. Returning the best model at iteration: 15</pre>"
      ],
      "text/plain": [
       "Early stop triggered. Returning the best model at iteration: 15"
      ]
     },
     "metadata": {},
     "output_type": "display_data"
    }
   ],
   "source": [
    "gbt_model = gl.boosted_trees_classifier.create(transformed_train, \n",
    "                                               target='early_readmission', \n",
    "                                               features=features, max_depth=6, early_stopping_rounds=5,\n",
    "                                               class_weights='auto', metric=['auc', 'log-loss'], max_iterations=100)"
   ]
  },
  {
   "cell_type": "code",
   "execution_count": 233,
   "metadata": {
    "collapsed": false,
    "nbpresent": {
     "id": "e009415e-0820-44e3-8e8d-558505861b7e"
    }
   },
   "outputs": [
    {
     "name": "stdout",
     "output_type": "stream",
     "text": [
      "accuracy: 0.64143, precision: 0.178753, recall: 0.594835, c-stat: 0.670616\n"
     ]
    }
   ],
   "source": [
    "results = gbt_model.evaluate(transformed_test)\n",
    "print \"accuracy: %g, precision: %g, recall: %g, c-stat: %g\" % (results['accuracy'], results['precision'], results['recall'], results['auc'])"
   ]
  },
  {
   "cell_type": "code",
   "execution_count": 234,
   "metadata": {
    "collapsed": false,
    "nbpresent": {
     "id": "32bb36f0-f1b9-46fc-9c79-ce465fbe2247"
    }
   },
   "outputs": [
    {
     "data": {
      "text/html": [
       "<div style=\"max-height:1000px;max-width:1500px;overflow:auto;\"><table frame=\"box\" rules=\"cols\">\n",
       "    <tr>\n",
       "        <th style=\"padding-left: 1em; padding-right: 1em; text-align: center\">name</th>\n",
       "        <th style=\"padding-left: 1em; padding-right: 1em; text-align: center\">index</th>\n",
       "        <th style=\"padding-left: 1em; padding-right: 1em; text-align: center\">count</th>\n",
       "    </tr>\n",
       "    <tr>\n",
       "        <td style=\"padding-left: 1em; padding-right: 1em; text-align: center; vertical-align: top\">num_lab_procedures</td>\n",
       "        <td style=\"padding-left: 1em; padding-right: 1em; text-align: center; vertical-align: top\">None</td>\n",
       "        <td style=\"padding-left: 1em; padding-right: 1em; text-align: center; vertical-align: top\">40</td>\n",
       "    </tr>\n",
       "    <tr>\n",
       "        <td style=\"padding-left: 1em; padding-right: 1em; text-align: center; vertical-align: top\">number_inpatient</td>\n",
       "        <td style=\"padding-left: 1em; padding-right: 1em; text-align: center; vertical-align: top\">None</td>\n",
       "        <td style=\"padding-left: 1em; padding-right: 1em; text-align: center; vertical-align: top\">29</td>\n",
       "    </tr>\n",
       "    <tr>\n",
       "        <td style=\"padding-left: 1em; padding-right: 1em; text-align: center; vertical-align: top\">num_medications</td>\n",
       "        <td style=\"padding-left: 1em; padding-right: 1em; text-align: center; vertical-align: top\">None</td>\n",
       "        <td style=\"padding-left: 1em; padding-right: 1em; text-align: center; vertical-align: top\">27</td>\n",
       "    </tr>\n",
       "    <tr>\n",
       "        <td style=\"padding-left: 1em; padding-right: 1em; text-align: center; vertical-align: top\">time_in_hospital</td>\n",
       "        <td style=\"padding-left: 1em; padding-right: 1em; text-align: center; vertical-align: top\">None</td>\n",
       "        <td style=\"padding-left: 1em; padding-right: 1em; text-align: center; vertical-align: top\">24</td>\n",
       "    </tr>\n",
       "    <tr>\n",
       "        <td style=\"padding-left: 1em; padding-right: 1em; text-align: center; vertical-align: top\">discharge_disposition</td>\n",
       "        <td style=\"padding-left: 1em; padding-right: 1em; text-align: center; vertical-align: top\">Expired</td>\n",
       "        <td style=\"padding-left: 1em; padding-right: 1em; text-align: center; vertical-align: top\">23</td>\n",
       "    </tr>\n",
       "    <tr>\n",
       "        <td style=\"padding-left: 1em; padding-right: 1em; text-align: center; vertical-align: top\">number_diagnoses</td>\n",
       "        <td style=\"padding-left: 1em; padding-right: 1em; text-align: center; vertical-align: top\">None</td>\n",
       "        <td style=\"padding-left: 1em; padding-right: 1em; text-align: center; vertical-align: top\">19</td>\n",
       "    </tr>\n",
       "    <tr>\n",
       "        <td style=\"padding-left: 1em; padding-right: 1em; text-align: center; vertical-align: top\">number_emergency</td>\n",
       "        <td style=\"padding-left: 1em; padding-right: 1em; text-align: center; vertical-align: top\">None</td>\n",
       "        <td style=\"padding-left: 1em; padding-right: 1em; text-align: center; vertical-align: top\">13</td>\n",
       "    </tr>\n",
       "    <tr>\n",
       "        <td style=\"padding-left: 1em; padding-right: 1em; text-align: center; vertical-align: top\">discharge_disposition</td>\n",
       "        <td style=\"padding-left: 1em; padding-right: 1em; text-align: center; vertical-align: top\">Discharged/transferred to<br>another rehab fac ...</td>\n",
       "        <td style=\"padding-left: 1em; padding-right: 1em; text-align: center; vertical-align: top\">11</td>\n",
       "    </tr>\n",
       "    <tr>\n",
       "        <td style=\"padding-left: 1em; padding-right: 1em; text-align: center; vertical-align: top\">discharge_disposition</td>\n",
       "        <td style=\"padding-left: 1em; padding-right: 1em; text-align: center; vertical-align: top\">Discharged to home</td>\n",
       "        <td style=\"padding-left: 1em; padding-right: 1em; text-align: center; vertical-align: top\">10</td>\n",
       "    </tr>\n",
       "    <tr>\n",
       "        <td style=\"padding-left: 1em; padding-right: 1em; text-align: center; vertical-align: top\">discharge_disposition</td>\n",
       "        <td style=\"padding-left: 1em; padding-right: 1em; text-align: center; vertical-align: top\">Discharged/transferred to<br>SNF ...</td>\n",
       "        <td style=\"padding-left: 1em; padding-right: 1em; text-align: center; vertical-align: top\">8</td>\n",
       "    </tr>\n",
       "</table>\n",
       "[3137 rows x 3 columns]<br/>Note: Only the head of the SFrame is printed.<br/>You can use print_rows(num_rows=m, num_columns=n) to print more rows and columns.\n",
       "</div>"
      ],
      "text/plain": [
       "Columns:\n",
       "\tname\tstr\n",
       "\tindex\tstr\n",
       "\tcount\tint\n",
       "\n",
       "Rows: 3137\n",
       "\n",
       "Data:\n",
       "+-----------------------+-------------------------------+-------+\n",
       "|          name         |             index             | count |\n",
       "+-----------------------+-------------------------------+-------+\n",
       "|   num_lab_procedures  |              None             |   40  |\n",
       "|    number_inpatient   |              None             |   29  |\n",
       "|    num_medications    |              None             |   27  |\n",
       "|    time_in_hospital   |              None             |   24  |\n",
       "| discharge_disposition |            Expired            |   23  |\n",
       "|    number_diagnoses   |              None             |   19  |\n",
       "|    number_emergency   |              None             |   13  |\n",
       "| discharge_disposition | Discharged/transferred to ... |   11  |\n",
       "| discharge_disposition |       Discharged to home      |   10  |\n",
       "| discharge_disposition | Discharged/transferred to SNF |   8   |\n",
       "+-----------------------+-------------------------------+-------+\n",
       "[3137 rows x 3 columns]\n",
       "Note: Only the head of the SFrame is printed.\n",
       "You can use print_rows(num_rows=m, num_columns=n) to print more rows and columns."
      ]
     },
     "execution_count": 234,
     "metadata": {},
     "output_type": "execute_result"
    }
   ],
   "source": [
    "gbt_model.get_feature_importance()"
   ]
  },
  {
   "cell_type": "code",
   "execution_count": 237,
   "metadata": {
    "collapsed": false,
    "nbpresent": {
     "id": "a0f9d84b-df98-4cd0-9bba-a504acb22c97"
    }
   },
   "outputs": [],
   "source": [
    "gbt_readmission_rate = [get_readmission_pct(transformed_test, gbt_model, x) for x in intervene_rate]"
   ]
  },
  {
   "cell_type": "code",
   "execution_count": 238,
   "metadata": {
    "collapsed": false,
    "nbpresent": {
     "id": "28b241fc-764d-408d-ab8c-1c737580da24"
    }
   },
   "outputs": [
    {
     "data": {
      "text/plain": [
       "<matplotlib.legend.Legend at 0x134b05fd0>"
      ]
     },
     "execution_count": 238,
     "metadata": {},
     "output_type": "execute_result"
    },
    {
     "data": {
      "image/png": "[encoded data removed]",
      "text/plain": [
       "<matplotlib.figure.Figure at 0x134b05ed0>"
      ]
     },
     "metadata": {},
     "output_type": "display_data"
    }
   ],
   "source": [
    "plt.plot(intervene_rate, baseline_readmission_rate, intervene_rate, gbt_readmission_rate)\n",
    "plt.ylim((60,100))\n",
    "plt.xlabel('Patients Intervened (%)')\n",
    "plt.ylabel('Patients Readmitted (%)')\n",
    "plt.title('Readmission Reduction')\n",
    "plt.legend(['Baseline','Boosted Tree'])"
   ]
  },
  {
   "cell_type": "markdown",
   "metadata": {
    "collapsed": true,
    "nbpresent": {
     "id": "eb552eca-2b8a-4d47-8376-6dbf1e4c30df"
    }
   },
   "source": [
    "## 4. Deploy as a real-time service\n",
    "The first step in integrating the application is to understand the pateints most likely to be readmitted. This will give the provider and they payer a sense of confidence in who to reach out to for proactive care."
   ]
  },
  {
   "cell_type": "code",
   "execution_count": 241,
   "metadata": {
    "collapsed": false,
    "nbpresent": {
     "id": "9e0651ba-8de7-4dc5-b53b-802712119c34"
    }
   },
   "outputs": [
    {
     "data": {
      "text/html": [
       "<div style=\"max-height:1000px;max-width:1500px;overflow:auto;\"><table frame=\"box\" rules=\"cols\">\n",
       "    <tr>\n",
       "        <th style=\"padding-left: 1em; padding-right: 1em; text-align: center\">early_readmit_score</th>\n",
       "        <th style=\"padding-left: 1em; padding-right: 1em; text-align: center\">number_inpatient</th>\n",
       "        <th style=\"padding-left: 1em; padding-right: 1em; text-align: center\">num_lab_procedures</th>\n",
       "        <th style=\"padding-left: 1em; padding-right: 1em; text-align: center\">time_in_hospital</th>\n",
       "    </tr>\n",
       "    <tr>\n",
       "        <td style=\"padding-left: 1em; padding-right: 1em; text-align: center; vertical-align: top\">0.913433134556</td>\n",
       "        <td style=\"padding-left: 1em; padding-right: 1em; text-align: center; vertical-align: top\">7</td>\n",
       "        <td style=\"padding-left: 1em; padding-right: 1em; text-align: center; vertical-align: top\">27</td>\n",
       "        <td style=\"padding-left: 1em; padding-right: 1em; text-align: center; vertical-align: top\">2</td>\n",
       "    </tr>\n",
       "    <tr>\n",
       "        <td style=\"padding-left: 1em; padding-right: 1em; text-align: center; vertical-align: top\">0.900232315063</td>\n",
       "        <td style=\"padding-left: 1em; padding-right: 1em; text-align: center; vertical-align: top\">11</td>\n",
       "        <td style=\"padding-left: 1em; padding-right: 1em; text-align: center; vertical-align: top\">39</td>\n",
       "        <td style=\"padding-left: 1em; padding-right: 1em; text-align: center; vertical-align: top\">4</td>\n",
       "    </tr>\n",
       "    <tr>\n",
       "        <td style=\"padding-left: 1em; padding-right: 1em; text-align: center; vertical-align: top\">0.899768650532</td>\n",
       "        <td style=\"padding-left: 1em; padding-right: 1em; text-align: center; vertical-align: top\">12</td>\n",
       "        <td style=\"padding-left: 1em; padding-right: 1em; text-align: center; vertical-align: top\">9</td>\n",
       "        <td style=\"padding-left: 1em; padding-right: 1em; text-align: center; vertical-align: top\">3</td>\n",
       "    </tr>\n",
       "    <tr>\n",
       "        <td style=\"padding-left: 1em; padding-right: 1em; text-align: center; vertical-align: top\">0.896917164326</td>\n",
       "        <td style=\"padding-left: 1em; padding-right: 1em; text-align: center; vertical-align: top\">4</td>\n",
       "        <td style=\"padding-left: 1em; padding-right: 1em; text-align: center; vertical-align: top\">43</td>\n",
       "        <td style=\"padding-left: 1em; padding-right: 1em; text-align: center; vertical-align: top\">1</td>\n",
       "    </tr>\n",
       "    <tr>\n",
       "        <td style=\"padding-left: 1em; padding-right: 1em; text-align: center; vertical-align: top\">0.894993662834</td>\n",
       "        <td style=\"padding-left: 1em; padding-right: 1em; text-align: center; vertical-align: top\">16</td>\n",
       "        <td style=\"padding-left: 1em; padding-right: 1em; text-align: center; vertical-align: top\">11</td>\n",
       "        <td style=\"padding-left: 1em; padding-right: 1em; text-align: center; vertical-align: top\">2</td>\n",
       "    </tr>\n",
       "    <tr>\n",
       "        <td style=\"padding-left: 1em; padding-right: 1em; text-align: center; vertical-align: top\">0.892705321312</td>\n",
       "        <td style=\"padding-left: 1em; padding-right: 1em; text-align: center; vertical-align: top\">12</td>\n",
       "        <td style=\"padding-left: 1em; padding-right: 1em; text-align: center; vertical-align: top\">23</td>\n",
       "        <td style=\"padding-left: 1em; padding-right: 1em; text-align: center; vertical-align: top\">6</td>\n",
       "    </tr>\n",
       "    <tr>\n",
       "        <td style=\"padding-left: 1em; padding-right: 1em; text-align: center; vertical-align: top\">0.886688888073</td>\n",
       "        <td style=\"padding-left: 1em; padding-right: 1em; text-align: center; vertical-align: top\">12</td>\n",
       "        <td style=\"padding-left: 1em; padding-right: 1em; text-align: center; vertical-align: top\">40</td>\n",
       "        <td style=\"padding-left: 1em; padding-right: 1em; text-align: center; vertical-align: top\">3</td>\n",
       "    </tr>\n",
       "    <tr>\n",
       "        <td style=\"padding-left: 1em; padding-right: 1em; text-align: center; vertical-align: top\">0.883442044258</td>\n",
       "        <td style=\"padding-left: 1em; padding-right: 1em; text-align: center; vertical-align: top\">8</td>\n",
       "        <td style=\"padding-left: 1em; padding-right: 1em; text-align: center; vertical-align: top\">37</td>\n",
       "        <td style=\"padding-left: 1em; padding-right: 1em; text-align: center; vertical-align: top\">2</td>\n",
       "    </tr>\n",
       "    <tr>\n",
       "        <td style=\"padding-left: 1em; padding-right: 1em; text-align: center; vertical-align: top\">0.883040249348</td>\n",
       "        <td style=\"padding-left: 1em; padding-right: 1em; text-align: center; vertical-align: top\">9</td>\n",
       "        <td style=\"padding-left: 1em; padding-right: 1em; text-align: center; vertical-align: top\">15</td>\n",
       "        <td style=\"padding-left: 1em; padding-right: 1em; text-align: center; vertical-align: top\">2</td>\n",
       "    </tr>\n",
       "    <tr>\n",
       "        <td style=\"padding-left: 1em; padding-right: 1em; text-align: center; vertical-align: top\">0.879513561726</td>\n",
       "        <td style=\"padding-left: 1em; padding-right: 1em; text-align: center; vertical-align: top\">16</td>\n",
       "        <td style=\"padding-left: 1em; padding-right: 1em; text-align: center; vertical-align: top\">17</td>\n",
       "        <td style=\"padding-left: 1em; padding-right: 1em; text-align: center; vertical-align: top\">5</td>\n",
       "    </tr>\n",
       "</table>\n",
       "[20671 rows x 4 columns]<br/>Note: Only the head of the SFrame is printed.<br/>You can use print_rows(num_rows=m, num_columns=n) to print more rows and columns.\n",
       "</div>"
      ],
      "text/plain": [
       "Columns:\n",
       "\tearly_readmit_score\tfloat\n",
       "\tnumber_inpatient\tint\n",
       "\tnum_lab_procedures\tint\n",
       "\ttime_in_hospital\tint\n",
       "\n",
       "Rows: 20671\n",
       "\n",
       "Data:\n",
       "+---------------------+------------------+--------------------+------------------+\n",
       "| early_readmit_score | number_inpatient | num_lab_procedures | time_in_hospital |\n",
       "+---------------------+------------------+--------------------+------------------+\n",
       "|    0.913433134556   |        7         |         27         |        2         |\n",
       "|    0.900232315063   |        11        |         39         |        4         |\n",
       "|    0.899768650532   |        12        |         9          |        3         |\n",
       "|    0.896917164326   |        4         |         43         |        1         |\n",
       "|    0.894993662834   |        16        |         11         |        2         |\n",
       "|    0.892705321312   |        12        |         23         |        6         |\n",
       "|    0.886688888073   |        12        |         40         |        3         |\n",
       "|    0.883442044258   |        8         |         37         |        2         |\n",
       "|    0.883040249348   |        9         |         15         |        2         |\n",
       "|    0.879513561726   |        16        |         17         |        5         |\n",
       "+---------------------+------------------+--------------------+------------------+\n",
       "[20671 rows x 4 columns]\n",
       "Note: Only the head of the SFrame is printed.\n",
       "You can use print_rows(num_rows=m, num_columns=n) to print more rows and columns."
      ]
     },
     "execution_count": 241,
     "metadata": {},
     "output_type": "execute_result"
    }
   ],
   "source": [
    "transformed_test['early_readmit_score'] = gbt_model.predict(transformed_test,output_type='probability')\n",
    "gbtList = transformed_test.sort('early_readmit_score', ascending=False)\n",
    "gbtList['early_readmit_score', 'number_inpatient','num_lab_procedures','time_in_hospital']"
   ]
  },
  {
   "cell_type": "markdown",
   "metadata": {
    "collapsed": false
   },
   "source": [
    "```python\n",
    "# define the state path - this is where Turi will store the models, logs, and metadata for this deployment\n",
    "ps_state_path = 's3://turi-neel/predictive_service/patient_readmission_app'\n",
    "\n",
    "\n",
    "# setup your own AWS credentials.\n",
    "# gl.aws.set_credentials(<key>,<secret key>)\n",
    "\n",
    "# create an EC2 config - this is how you define the EC2 configuration for the cluster being deployed\n",
    "ec2 = gl.deploy.Ec2Config(region='us-west-2', instance_type='m3.xlarge')\n",
    "\n",
    "# use the EC2 config to launch a new Predictive Service\n",
    "# num_hosts specifies how many machines the Predictive Service cluster has. \n",
    "#     You can scale up and down later after initial creation.\n",
    "\n",
    "deployment = gl.deploy.predictive_service.create(name = 'neel-patient-readmission-app', \n",
    "                                                    ec2_config = ec2, state_path = ps_state_path, num_hosts = 3)\n",
    "```"
   ]
  },
  {
   "cell_type": "code",
   "execution_count": 242,
   "metadata": {
    "collapsed": false,
    "nbpresent": {
     "id": "04ea4757-4192-4055-920f-0e619fa9ef6d"
    }
   },
   "outputs": [
    {
     "name": "stderr",
     "output_type": "stream",
     "text": [
      "[WARNING] graphlab.deploy.predictive_service: Overwriting existing Predictive Service \"neel-patient-readmission-app\" in local session.\n"
     ]
    }
   ],
   "source": [
    "ps_state_path = 's3://turi-neel/predictive_service/patient_readmission_app'\n",
    "deployment = gl.deploy.predictive_service.load(ps_state_path)"
   ]
  },
  {
   "cell_type": "code",
   "execution_count": 243,
   "metadata": {
    "collapsed": false,
    "nbpresent": {
     "id": "2c969e6e-3613-4233-8dcf-b962974e927f"
    }
   },
   "outputs": [
    {
     "data": {
      "text/plain": [
       "Name                  : neel-patient-readmission-app\n",
       "State Path            : s3://turi-neel/predictive_service/patient_readmission_app\n",
       "Description           : None\n",
       "API Key               : d2d57a46-721a-4e1e-9046-606394aa8df2\n",
       "CORS origin           : \n",
       "Global Cache State    : enabled\n",
       "Load Balancer DNS Name: neel-patient-readmission-app-1711156681.us-west-2.elb.amazonaws.com\n",
       "\n",
       "Deployed endpoints:\n",
       "\n",
       "No Pending changes."
      ]
     },
     "execution_count": 243,
     "metadata": {},
     "output_type": "execute_result"
    }
   ],
   "source": [
    "# see the status of and what's deployed on my_deployment\n",
    "deployment"
   ]
  },
  {
   "cell_type": "code",
   "execution_count": 244,
   "metadata": {
    "collapsed": true,
    "nbpresent": {
     "id": "eeaa270e-719b-48f3-bb23-e6533ca1640e"
    }
   },
   "outputs": [],
   "source": [
    "# inputs and returns of this function map directly to the io of the endpoint for the REST service\n",
    "def get_readmission_risk(json_row):\n",
    "    json_row = {key:[value] for key,value in json_row.items()}\n",
    "    patient_info = fit_tfidf.transform(gl.SFrame(json_row))\n",
    "    patient_info['early_readmit_score'] = gbt_model.predict(patient_info, output_type='probability')\n",
    "    return patient_info\n"
   ]
  },
  {
   "cell_type": "code",
   "execution_count": 245,
   "metadata": {
    "collapsed": false,
    "nbpresent": {
     "id": "b59e001e-6c1a-4114-a9cb-d65883e9301e"
    }
   },
   "outputs": [
    {
     "name": "stderr",
     "output_type": "stream",
     "text": [
      "[INFO] graphlab.deploy._predictive_service._predictive_service: Endpoint 'patient_readmission_risk' is added. Use apply_changes() to deploy all pending changes, or continue with other modification.\n",
      "[INFO] graphlab.deploy._predictive_service._predictive_service: Persisting endpoint changes.\n",
      "[INFO] graphlab.util.file_util: Uploading local path /var/folders/98/myzp9lp55qz2s1_jlb1l91w40000gn/T/predictive_object_HJWvmY to s3 path: s3://turi-neel/predictive_service/patient_readmission_app/predictive_objects/patient_readmission_risk/1\n"
     ]
    },
    {
     "name": "stdout",
     "output_type": "stream",
     "text": [
      "upload: ../../../../var/folders/98/myzp9lp55qz2s1_jlb1l91w40000gn/T/predictive_object_HJWvmY/8e572f22-9237-46ed-89c9-4dd21d4266da/dir_archive.ini to s3://turi-neel/predictive_service/patient_readmission_app/predictive_objects/patient_readmission_risk/1/8e572f22-9237-46ed-89c9-4dd21d4266da/dir_archive.ini\n",
      "upload: ../../../../var/folders/98/myzp9lp55qz2s1_jlb1l91w40000gn/T/predictive_object_HJWvmY/pickle_archive to s3://turi-neel/predictive_service/patient_readmission_app/predictive_objects/patient_readmission_risk/1/pickle_archive\n",
      "upload: ../../../../var/folders/98/myzp9lp55qz2s1_jlb1l91w40000gn/T/predictive_object_HJWvmY/8e572f22-9237-46ed-89c9-4dd21d4266da/m_d340fee66abb221d.frame_idx to s3://turi-neel/predictive_service/patient_readmission_app/predictive_objects/patient_readmission_risk/1/8e572f22-9237-46ed-89c9-4dd21d4266da/m_d340fee66abb221d.frame_idx\n",
      "upload: ../../../../var/folders/98/myzp9lp55qz2s1_jlb1l91w40000gn/T/predictive_object_HJWvmY/bd2ae25e-cf45-4969-b353-0b9ef3216a21/dir_archive.ini to s3://turi-neel/predictive_service/patient_readmission_app/predictive_objects/patient_readmission_risk/1/bd2ae25e-cf45-4969-b353-0b9ef3216a21/dir_archive.ini\n",
      "upload: ../../../../var/folders/98/myzp9lp55qz2s1_jlb1l91w40000gn/T/predictive_object_HJWvmY/8e572f22-9237-46ed-89c9-4dd21d4266da/m_d340fee66abb221d.sidx to s3://turi-neel/predictive_service/patient_readmission_app/predictive_objects/patient_readmission_risk/1/8e572f22-9237-46ed-89c9-4dd21d4266da/m_d340fee66abb221d.sidx\n",
      "upload: ../../../../var/folders/98/myzp9lp55qz2s1_jlb1l91w40000gn/T/predictive_object_HJWvmY/bd2ae25e-cf45-4969-b353-0b9ef3216a21/m_474a152348cdc736.frame_idx to s3://turi-neel/predictive_service/patient_readmission_app/predictive_objects/patient_readmission_risk/1/bd2ae25e-cf45-4969-b353-0b9ef3216a21/m_474a152348cdc736.frame_idx\n",
      "upload: ../../../../var/folders/98/myzp9lp55qz2s1_jlb1l91w40000gn/T/predictive_object_HJWvmY/bd2ae25e-cf45-4969-b353-0b9ef3216a21/m_474a152348cdc736.sidx to s3://turi-neel/predictive_service/patient_readmission_app/predictive_objects/patient_readmission_risk/1/bd2ae25e-cf45-4969-b353-0b9ef3216a21/m_474a152348cdc736.sidx\n",
      "upload: ../../../../var/folders/98/myzp9lp55qz2s1_jlb1l91w40000gn/T/predictive_object_HJWvmY/version to s3://turi-neel/predictive_service/patient_readmission_app/predictive_objects/patient_readmission_risk/1/version\n",
      "upload: ../../../../var/folders/98/myzp9lp55qz2s1_jlb1l91w40000gn/T/predictive_object_HJWvmY/8e572f22-9237-46ed-89c9-4dd21d4266da/m_d340fee66abb221d.0000 to s3://turi-neel/predictive_service/patient_readmission_app/predictive_objects/patient_readmission_risk/1/8e572f22-9237-46ed-89c9-4dd21d4266da/m_d340fee66abb221d.0000\n",
      "upload: ../../../../var/folders/98/myzp9lp55qz2s1_jlb1l91w40000gn/T/predictive_object_HJWvmY/bd2ae25e-cf45-4969-b353-0b9ef3216a21/m_474a152348cdc736.0000 to s3://turi-neel/predictive_service/patient_readmission_app/predictive_objects/patient_readmission_risk/1/bd2ae25e-cf45-4969-b353-0b9ef3216a21/m_474a152348cdc736.0000\n",
      "upload: ../../../../var/folders/98/myzp9lp55qz2s1_jlb1l91w40000gn/T/predictive_object_HJWvmY/8e572f22-9237-46ed-89c9-4dd21d4266da/objects.bin to s3://turi-neel/predictive_service/patient_readmission_app/predictive_objects/patient_readmission_risk/1/8e572f22-9237-46ed-89c9-4dd21d4266da/objects.bin\n",
      "Completed 11 of 12 part(s) with 1 file(s) remaining"
     ]
    },
    {
     "name": "stderr",
     "output_type": "stream",
     "text": [
      "[INFO] graphlab.util.file_util: Successfully uploaded to s3 path s3://turi-neel/predictive_service/patient_readmission_app/predictive_objects/patient_readmission_risk/1\n"
     ]
    },
    {
     "name": "stdout",
     "output_type": "stream",
     "text": [
      "\r",
      "upload: ../../../../var/folders/98/myzp9lp55qz2s1_jlb1l91w40000gn/T/predictive_object_HJWvmY/bd2ae25e-cf45-4969-b353-0b9ef3216a21/objects.bin to s3://turi-neel/predictive_service/patient_readmission_app/predictive_objects/patient_readmission_risk/1/bd2ae25e-cf45-4969-b353-0b9ef3216a21/objects.bin\n"
     ]
    }
   ],
   "source": [
    "deployment.add('patient_readmission_risk', get_readmission_risk)\n",
    "deployment.apply_changes()"
   ]
  },
  {
   "cell_type": "code",
   "execution_count": 247,
   "metadata": {
    "collapsed": false,
    "nbpresent": {
     "id": "1a3d84ef-cc0c-4f90-a4d4-12ec71fee1c3"
    }
   },
   "outputs": [
    {
     "name": "stdout",
     "output_type": "stream",
     "text": [
      "early_readmit_score: 0.290829002857\n",
      "number_inpatient: 0\n",
      "num_lab_procedures: 38\n",
      "time_in_hospital: 2\n"
     ]
    }
   ],
   "source": [
    "# Low Scores: 1500, 6000, 13500\n",
    "# High scores: 7500, 9000, 15000\n",
    "\n",
    "result = deployment.query('patient_readmission_risk', test[6000])\n",
    "\n",
    "for response in ['early_readmit_score', 'number_inpatient','num_lab_procedures','time_in_hospital']:\n",
    "    print response + ': ' + str(result.get('response')[0].get(response))\n"
   ]
  },
  {
   "cell_type": "code",
   "execution_count": null,
   "metadata": {
    "collapsed": false,
    "nbpresent": {
     "id": "304b0d2c-f24d-4c1c-bfd7-f8e7a2ef0322"
    }
   },
   "outputs": [],
   "source": [
    "deployment.terminate_service()"
   ]
  },
  {
   "cell_type": "markdown",
   "metadata": {
    "nbpresent": {
     "id": "b3708903-4301-45bc-ab27-29e9be70a770"
    }
   },
   "source": [
    "## Summary: \n",
    "By using Machine Learning on patient data we can prioritize which patients are at risk for readmission and provide clear insights on why a doctor, provider, or payer should be thinking proactively about the individual.\n",
    "\n",
    "Using Turi's Platform a development team can easily implement a readmission propensity model and deploy it as a REST API for integration into EMR tools and Dashboards\n",
    "\n",
    "Want to find out more? Let's talk: neel@turi.com"
   ]
  },
  {
   "cell_type": "markdown",
   "metadata": {
    "nbpresent": {
     "id": "7ee32900-ec9c-45bb-a6a8-378b0e21d63b"
    }
   },
   "source": [
    "### Source of Data:\n",
    "The data are submitted on behalf of the Center for Clinical and Translational Research, Virginia Commonwealth University, a recipient of NIH CTSA grant UL1 TR00058 and a recipient of the CERNER data. John Clore (jclore '@' vcu.edu), Krzysztof J. Cios (kcios '@' vcu.edu), Jon DeShazo (jpdeshazo '@' vcu.edu), and Beata Strack (strackb '@' vcu.edu). This data is a de-identified abstract of the Health Facts database (Cerner Corporation, Kansas City, MO).\n",
    "\n",
    "https://archive.ics.uci.edu/ml/datasets/Diabetes+130-US+hospitals+for+years+1999-2008\n",
    "\n",
    "\n",
    "#### Citation:\n",
    "Beata Strack, Jonathan P. DeShazo, Chris Gennings, Juan L. Olmo, Sebastian Ventura, Krzysztof J. Cios, and John N. Clore, “Impact of HbA1c Measurement on Hospital Readmission Rates: Analysis of 70,000 Clinical Database Patient Records,” BioMed Research International, vol. 2014, Article ID 781670, 11 pages, 2014. "
   ]
  }
 ],
 "metadata": {
  "anaconda-cloud": {},
  "kernelspec": {
   "display_name": "Python [turi-110]",
   "language": "python",
   "name": "Python [turi-110]"
  },
  "language_info": {
   "codemirror_mode": {
    "name": "ipython",
    "version": 2
   },
   "file_extension": ".py",
   "mimetype": "text/x-python",
   "name": "python",
   "nbconvert_exporter": "python",
   "pygments_lexer": "ipython2",
   "version": "2.7.11"
  },
  "nbpresent": {
   "slides": {
    "08c5c573-ecc6-486c-97e9-dbdab6394641": {
     "id": "08c5c573-ecc6-486c-97e9-dbdab6394641",
     "prev": "9556373b-96ac-41d5-96c5-7d386671251f",
     "regions": {
      "bf546c0b-643d-4eb8-92db-b43f28f62eaf": {
       "attrs": {
        "height": 0.8,
        "width": 0.8,
        "x": 0.1,
        "y": 0.1
       },
       "content": {
        "cell": "04ea4757-4192-4055-920f-0e619fa9ef6d",
        "part": "whole"
       },
       "id": "bf546c0b-643d-4eb8-92db-b43f28f62eaf"
      }
     }
    },
    "09b7614b-97c8-4314-ac68-395ba8ae9840": {
     "id": "09b7614b-97c8-4314-ac68-395ba8ae9840",
     "prev": "09c8df55-bd05-479a-b16b-251a9048b802",
     "regions": {
      "4389926f-d231-46f3-bceb-9e3d7ea58583": {
       "attrs": {
        "height": 0.8,
        "width": 0.8,
        "x": 0.1,
        "y": 0.1
       },
       "content": {
        "cell": "fef306ff-0756-48ea-90f6-212e75fc3444",
        "part": "whole"
       },
       "id": "4389926f-d231-46f3-bceb-9e3d7ea58583"
      }
     }
    },
    "09c8df55-bd05-479a-b16b-251a9048b802": {
     "id": "09c8df55-bd05-479a-b16b-251a9048b802",
     "prev": "45a85c9b-5df1-4243-96db-eae0148e1ac7",
     "regions": {
      "6d5a7071-f9dc-4300-bb12-7bda9024d4c6": {
       "attrs": {
        "height": 0.8,
        "width": 0.8,
        "x": 0.1,
        "y": 0.1
       },
       "content": {
        "cell": "70451dea-3998-4419-8316-59cf82660f8b",
        "part": "whole"
       },
       "id": "6d5a7071-f9dc-4300-bb12-7bda9024d4c6"
      }
     }
    },
    "1be34a61-bfa7-4b63-806e-296a2ebd462b": {
     "id": "1be34a61-bfa7-4b63-806e-296a2ebd462b",
     "prev": "3e8eae18-3a7d-4b50-b2db-34876f2a837a",
     "regions": {
      "e77f03a2-03d0-4e90-9728-0428a8f9882f": {
       "attrs": {
        "height": 0.8,
        "width": 0.8,
        "x": 0.1,
        "y": 0.1
       },
       "content": {
        "cell": "4cead32d-7adf-4463-8614-f7b0040f09c8",
        "part": "whole"
       },
       "id": "e77f03a2-03d0-4e90-9728-0428a8f9882f"
      }
     }
    },
    "2fdc0932-1555-46c5-b4c0-d397a49090fd": {
     "id": "2fdc0932-1555-46c5-b4c0-d397a49090fd",
     "prev": "94a63319-bdee-4684-a6da-1e6e528120b1",
     "regions": {
      "1db357d3-77e0-4170-ae9c-05661fcaddf3": {
       "attrs": {
        "height": 0.8,
        "width": 0.8,
        "x": 0.1,
        "y": 0.1
       },
       "content": {
        "cell": "a0f9d84b-df98-4cd0-9bba-a504acb22c97",
        "part": "whole"
       },
       "id": "1db357d3-77e0-4170-ae9c-05661fcaddf3"
      }
     }
    },
    "3748fedb-cf4f-44f1-a15a-cc4ffd4f3738": {
     "id": "3748fedb-cf4f-44f1-a15a-cc4ffd4f3738",
     "prev": "09b7614b-97c8-4314-ac68-395ba8ae9840",
     "regions": {
      "b5db32b8-2e4f-450e-85b0-b5794d306590": {
       "attrs": {
        "height": 0.8,
        "width": 0.8,
        "x": 0.1,
        "y": 0.1
       },
       "content": {
        "cell": "c3391f7d-8d98-42d5-a0ce-91f5bdb02f9a",
        "part": "whole"
       },
       "id": "b5db32b8-2e4f-450e-85b0-b5794d306590"
      }
     }
    },
    "38d6f38b-204b-41ff-8ac6-96ba18054b38": {
     "id": "38d6f38b-204b-41ff-8ac6-96ba18054b38",
     "prev": "8da1494e-db5e-4ddd-b8a4-9bcae0abd4d3",
     "regions": {
      "df05cdfd-76f0-490d-a70e-d24d003a2012": {
       "attrs": {
        "height": 0.8,
        "width": 0.8,
        "x": 0.1,
        "y": 0.1
       },
       "content": {
        "cell": "f9bb9f89-71e6-455b-8f0a-590c1c01fd49",
        "part": "whole"
       },
       "id": "df05cdfd-76f0-490d-a70e-d24d003a2012"
      }
     }
    },
    "3e8eae18-3a7d-4b50-b2db-34876f2a837a": {
     "id": "3e8eae18-3a7d-4b50-b2db-34876f2a837a",
     "prev": "73b9ba0e-f4af-494b-b605-058a95260066",
     "regions": {
      "84239e91-6616-48ab-8c20-9cc70b8426d7": {
       "attrs": {
        "height": 0.8,
        "width": 0.8,
        "x": 0.1,
        "y": 0.1
       },
       "content": {
        "cell": "2d5b7e64-8555-4bd3-940b-a92349150510",
        "part": "whole"
       },
       "id": "84239e91-6616-48ab-8c20-9cc70b8426d7"
      }
     }
    },
    "40788ea4-b887-45ca-a933-a50add5134ef": {
     "id": "40788ea4-b887-45ca-a933-a50add5134ef",
     "prev": "08c5c573-ecc6-486c-97e9-dbdab6394641",
     "regions": {
      "2a4be8db-d700-4338-93c3-d6fe90cc32da": {
       "attrs": {
        "height": 0.8,
        "width": 0.8,
        "x": 0.1,
        "y": 0.1
       },
       "content": {
        "cell": "2c969e6e-3613-4233-8dcf-b962974e927f",
        "part": "whole"
       },
       "id": "2a4be8db-d700-4338-93c3-d6fe90cc32da"
      }
     }
    },
    "422ebf0c-9966-4fa3-ac1d-c883207f5f85": {
     "id": "422ebf0c-9966-4fa3-ac1d-c883207f5f85",
     "prev": "d600e150-0430-4f8b-81b4-3a23983ea1d4",
     "regions": {
      "a0c7e7b6-aa65-4b61-912f-5d66a10871bc": {
       "attrs": {
        "height": 0.8,
        "width": 0.8,
        "x": 0.1,
        "y": 0.1
       },
       "content": {
        "cell": "fad06627-6d29-4643-ba72-a9f7dc19295d",
        "part": "whole"
       },
       "id": "a0c7e7b6-aa65-4b61-912f-5d66a10871bc"
      }
     }
    },
    "45a85c9b-5df1-4243-96db-eae0148e1ac7": {
     "id": "45a85c9b-5df1-4243-96db-eae0148e1ac7",
     "prev": "dae52d42-0fac-4789-baa7-3878ab8c748c",
     "regions": {
      "c00d767f-f2a5-4bd9-a751-62508a5e840d": {
       "attrs": {
        "height": 0.8,
        "width": 0.8,
        "x": 0.1,
        "y": 0.1
       },
       "content": {
        "cell": "5ff61192-d888-4314-966d-dbf4230e20ed",
        "part": "whole"
       },
       "id": "c00d767f-f2a5-4bd9-a751-62508a5e840d"
      }
     }
    },
    "45af3eb1-0043-47d3-9ae4-b634bbb4a1e4": {
     "id": "45af3eb1-0043-47d3-9ae4-b634bbb4a1e4",
     "prev": "5070bbbc-e823-494d-890d-d48f05f5690c",
     "regions": {
      "d6090f0c-1099-47c1-a34f-e2745d183c95": {
       "attrs": {
        "height": 0.8,
        "width": 0.8,
        "x": 0.1,
        "y": 0.1
       },
       "content": {
        "cell": "379816d2-6242-431e-a295-1325cbd5bd58",
        "part": "whole"
       },
       "id": "d6090f0c-1099-47c1-a34f-e2745d183c95"
      }
     }
    },
    "48255d65-f248-4748-ba30-591b2250df8e": {
     "id": "48255d65-f248-4748-ba30-591b2250df8e",
     "prev": null,
     "regions": {
      "6961ea3e-8342-4dbe-8d43-e31a2fde1f58": {
       "attrs": {
        "height": 0.8,
        "width": 0.8,
        "x": 0.1,
        "y": 0.1
       },
       "content": {
        "cell": "18cfe612-00af-498d-bafc-791552d2a212",
        "part": "whole"
       },
       "id": "6961ea3e-8342-4dbe-8d43-e31a2fde1f58"
      }
     }
    },
    "5070bbbc-e823-494d-890d-d48f05f5690c": {
     "id": "5070bbbc-e823-494d-890d-d48f05f5690c",
     "prev": "7d1e4915-306b-43ec-9519-811b88db59f8",
     "regions": {
      "58d1c54d-5d85-4333-b2a0-6e2231a89f36": {
       "attrs": {
        "height": 0.8,
        "width": 0.8,
        "x": 0.1,
        "y": 0.1
       },
       "content": {
        "cell": "1e8e99d5-e270-41f6-9267-e924b7dcdc1c",
        "part": "whole"
       },
       "id": "58d1c54d-5d85-4333-b2a0-6e2231a89f36"
      }
     }
    },
    "52e9f502-8026-4507-b247-9c79bf9fb9f0": {
     "id": "52e9f502-8026-4507-b247-9c79bf9fb9f0",
     "prev": "ca4ab4b7-aa7e-4682-8a46-aa7da47e2d29",
     "regions": {
      "773fe83a-7dde-4cfe-a96a-9418e381ed6f": {
       "attrs": {
        "height": 0.8,
        "width": 0.8,
        "x": 0.1,
        "y": 0.1
       },
       "content": {
        "cell": "22bc6723-bd7b-4ba2-8277-042b51c21b9c",
        "part": "whole"
       },
       "id": "773fe83a-7dde-4cfe-a96a-9418e381ed6f"
      }
     }
    },
    "54e17eb7-1515-4bd1-803b-f32e8045b972": {
     "id": "54e17eb7-1515-4bd1-803b-f32e8045b972",
     "prev": "2fdc0932-1555-46c5-b4c0-d397a49090fd",
     "regions": {
      "21f67141-7c04-4754-8a67-a41a53ffae2a": {
       "attrs": {
        "height": 0.8,
        "width": 0.8,
        "x": 0.1,
        "y": 0.1
       },
       "content": {
        "cell": "28b241fc-764d-408d-ab8c-1c737580da24",
        "part": "whole"
       },
       "id": "21f67141-7c04-4754-8a67-a41a53ffae2a"
      }
     }
    },
    "5a6ca753-e040-46bd-95cd-9c27e87c1c22": {
     "id": "5a6ca753-e040-46bd-95cd-9c27e87c1c22",
     "prev": "845f3127-4059-4b73-9b20-5082b2cf3d09",
     "regions": {
      "330e8c9b-6311-4edf-9707-e3c259eb3174": {
       "attrs": {
        "height": 0.8,
        "width": 0.8,
        "x": 0.1,
        "y": 0.1
       },
       "content": {
        "cell": "b59e001e-6c1a-4114-a9cb-d65883e9301e",
        "part": "whole"
       },
       "id": "330e8c9b-6311-4edf-9707-e3c259eb3174"
      }
     }
    },
    "73b9ba0e-f4af-494b-b605-058a95260066": {
     "id": "73b9ba0e-f4af-494b-b605-058a95260066",
     "prev": "91edbad7-390f-4438-ab04-cf776ebbc125",
     "regions": {
      "6d4b3c2b-bc45-45de-889a-e30174fd91f7": {
       "attrs": {
        "height": 0.8,
        "width": 0.8,
        "x": 0.1,
        "y": 0.1
       },
       "content": {
        "cell": "d7541139-e6a3-4e0b-8c26-04d1ce15e7fd",
        "part": "whole"
       },
       "id": "6d4b3c2b-bc45-45de-889a-e30174fd91f7"
      }
     }
    },
    "7d1e4915-306b-43ec-9519-811b88db59f8": {
     "id": "7d1e4915-306b-43ec-9519-811b88db59f8",
     "prev": "92959991-0e04-4a06-899a-865fef872733",
     "regions": {
      "72f5bea7-10b6-4a80-8ec1-5023ac5196c3": {
       "attrs": {
        "height": 0.8,
        "width": 0.8,
        "x": 0.1,
        "y": 0.1
       },
       "content": {
        "cell": "9dd29540-eb96-4aab-954b-5a6066450046",
        "part": "whole"
       },
       "id": "72f5bea7-10b6-4a80-8ec1-5023ac5196c3"
      }
     }
    },
    "845f3127-4059-4b73-9b20-5082b2cf3d09": {
     "id": "845f3127-4059-4b73-9b20-5082b2cf3d09",
     "prev": "40788ea4-b887-45ca-a933-a50add5134ef",
     "regions": {
      "bc656133-bd50-4366-b60f-7a8321cb44aa": {
       "attrs": {
        "height": 0.8,
        "width": 0.8,
        "x": 0.1,
        "y": 0.1
       },
       "content": {
        "cell": "eeaa270e-719b-48f3-bb23-e6533ca1640e",
        "part": "whole"
       },
       "id": "bc656133-bd50-4366-b60f-7a8321cb44aa"
      }
     }
    },
    "86b29f74-5c4a-4a09-8e0a-a5927a7726d1": {
     "id": "86b29f74-5c4a-4a09-8e0a-a5927a7726d1",
     "prev": "54e17eb7-1515-4bd1-803b-f32e8045b972",
     "regions": {
      "149d9f4b-c9df-415a-a448-b4fe73d7f73b": {
       "attrs": {
        "height": 0.8,
        "width": 0.8,
        "x": 0.1,
        "y": 0.1
       },
       "content": {
        "cell": "eb552eca-2b8a-4d47-8376-6dbf1e4c30df",
        "part": "whole"
       },
       "id": "149d9f4b-c9df-415a-a448-b4fe73d7f73b"
      }
     }
    },
    "8cd02daf-bdd3-4859-bbf6-9261ac986f86": {
     "id": "8cd02daf-bdd3-4859-bbf6-9261ac986f86",
     "prev": "c7dd747b-9ece-47be-a873-a28434e19910",
     "regions": {
      "4a9b4005-3690-4909-adbc-0d281f51ff95": {
       "attrs": {
        "height": 0.8,
        "width": 0.8,
        "x": 0.1,
        "y": 0.1
       },
       "content": {
        "cell": "e009415e-0820-44e3-8e8d-558505861b7e",
        "part": "whole"
       },
       "id": "4a9b4005-3690-4909-adbc-0d281f51ff95"
      }
     }
    },
    "8da1494e-db5e-4ddd-b8a4-9bcae0abd4d3": {
     "id": "8da1494e-db5e-4ddd-b8a4-9bcae0abd4d3",
     "prev": "422ebf0c-9966-4fa3-ac1d-c883207f5f85",
     "regions": {
      "3d318a0c-0418-4fe0-89db-2636977dfd48": {
       "attrs": {
        "height": 0.8,
        "width": 0.8,
        "x": 0.1,
        "y": 0.1
       },
       "content": {
        "cell": "771abd2d-099c-4f73-bdce-b189db23553d",
        "part": "whole"
       },
       "id": "3d318a0c-0418-4fe0-89db-2636977dfd48"
      }
     }
    },
    "91edbad7-390f-4438-ab04-cf776ebbc125": {
     "id": "91edbad7-390f-4438-ab04-cf776ebbc125",
     "prev": "c8ded23c-a7c1-4aa5-95d7-12581cb34853",
     "regions": {
      "f8fe3c2d-a745-47b2-815b-5d6797f88f37": {
       "attrs": {
        "height": 0.8,
        "width": 0.8,
        "x": 0.1,
        "y": 0.1
       },
       "content": {
        "cell": "933a1855-994f-44bc-ae3b-61cf619e609b",
        "part": "whole"
       },
       "id": "f8fe3c2d-a745-47b2-815b-5d6797f88f37"
      }
     }
    },
    "92959991-0e04-4a06-899a-865fef872733": {
     "id": "92959991-0e04-4a06-899a-865fef872733",
     "prev": "d74a7091-ffeb-4063-8b87-38cadd1a5963",
     "regions": {
      "c14c8af0-fbef-4287-90ee-c405501291f9": {
       "attrs": {
        "height": 0.8,
        "width": 0.8,
        "x": 0.1,
        "y": 0.1
       },
       "content": {
        "cell": "1f6acefb-8a67-46fb-ae62-c46c61554186",
        "part": "whole"
       },
       "id": "c14c8af0-fbef-4287-90ee-c405501291f9"
      }
     }
    },
    "94a63319-bdee-4684-a6da-1e6e528120b1": {
     "id": "94a63319-bdee-4684-a6da-1e6e528120b1",
     "prev": "8cd02daf-bdd3-4859-bbf6-9261ac986f86",
     "regions": {
      "de8edccd-a7ab-4fa5-bf84-1ef49e19a402": {
       "attrs": {
        "height": 0.8,
        "width": 0.8,
        "x": 0.1,
        "y": 0.1
       },
       "content": {
        "cell": "32bb36f0-f1b9-46fc-9c79-ce465fbe2247",
        "part": "whole"
       },
       "id": "de8edccd-a7ab-4fa5-bf84-1ef49e19a402"
      }
     }
    },
    "9556373b-96ac-41d5-96c5-7d386671251f": {
     "id": "9556373b-96ac-41d5-96c5-7d386671251f",
     "prev": "c1ab7572-bd76-4fdf-885c-01688247047f",
     "regions": {
      "a5a293ab-cc1e-4ac6-9248-dff472ae3f12": {
       "attrs": {
        "height": 0.8,
        "width": 0.8,
        "x": 0.1,
        "y": 0.1
       },
       "content": {
        "cell": "36e14c16-de1b-4b5c-89e5-72ecd10e69a4",
        "part": "whole"
       },
       "id": "a5a293ab-cc1e-4ac6-9248-dff472ae3f12"
      }
     }
    },
    "98af6278-114f-4813-a861-fbf7a24e57c3": {
     "id": "98af6278-114f-4813-a861-fbf7a24e57c3",
     "prev": "5a6ca753-e040-46bd-95cd-9c27e87c1c22",
     "regions": {
      "a5ae206a-3865-49fc-887b-d19181ee27f4": {
       "attrs": {
        "height": 0.8,
        "width": 0.8,
        "x": 0.1,
        "y": 0.1
       },
       "content": {
        "cell": "1a3d84ef-cc0c-4f90-a4d4-12ec71fee1c3",
        "part": "whole"
       },
       "id": "a5ae206a-3865-49fc-887b-d19181ee27f4"
      }
     }
    },
    "98dadbb3-4084-4020-85aa-d2463716b73c": {
     "id": "98dadbb3-4084-4020-85aa-d2463716b73c",
     "prev": "ea7cbb3e-8a0f-473e-a795-7b50a9175feb",
     "regions": {
      "d4618aa6-3587-437b-afaf-1bbc4ee72d29": {
       "attrs": {
        "height": 0.8,
        "width": 0.8,
        "x": 0.1,
        "y": 0.1
       },
       "content": {
        "cell": "7ee32900-ec9c-45bb-a6a8-378b0e21d63b",
        "part": "whole"
       },
       "id": "d4618aa6-3587-437b-afaf-1bbc4ee72d29"
      }
     }
    },
    "a10ac9c3-aea1-4f96-aff1-4b1bec00347a": {
     "id": "a10ac9c3-aea1-4f96-aff1-4b1bec00347a",
     "prev": "a136a742-3a98-4307-9f59-96fa268c6550",
     "regions": {
      "0b9c5a24-7949-4942-bbde-4b76bf7db65d": {
       "attrs": {
        "height": 0.8,
        "width": 0.8,
        "x": 0.1,
        "y": 0.1
       },
       "content": {
        "cell": "21910c70-4bbf-4653-9f58-91ee8a5ec975",
        "part": "whole"
       },
       "id": "0b9c5a24-7949-4942-bbde-4b76bf7db65d"
      }
     }
    },
    "a136a742-3a98-4307-9f59-96fa268c6550": {
     "id": "a136a742-3a98-4307-9f59-96fa268c6550",
     "prev": "dab73a8a-ee67-4508-8b48-eb467d219d98",
     "regions": {
      "7fb32a27-02ad-4ad9-9502-b7c340f94f77": {
       "attrs": {
        "height": 0.8,
        "width": 0.8,
        "x": 0.1,
        "y": 0.1
       },
       "content": {
        "cell": "b3e11f2c-7c9f-4519-9aef-070332fe28a1",
        "part": "whole"
       },
       "id": "7fb32a27-02ad-4ad9-9502-b7c340f94f77"
      }
     }
    },
    "b3a253b6-7735-46ed-bb51-28b3e81be14d": {
     "id": "b3a253b6-7735-46ed-bb51-28b3e81be14d",
     "prev": "b6c895b7-e373-423d-8f69-d58cb6f46be1",
     "regions": {
      "f2521925-d582-4e44-a83a-719be69e516f": {
       "attrs": {
        "height": 0.8,
        "width": 0.8,
        "x": 0.1,
        "y": 0.1
       },
       "content": {
        "cell": "cb643134-cb53-4138-9cfe-eb9316fbabe2",
        "part": "whole"
       },
       "id": "f2521925-d582-4e44-a83a-719be69e516f"
      }
     }
    },
    "b6c895b7-e373-423d-8f69-d58cb6f46be1": {
     "id": "b6c895b7-e373-423d-8f69-d58cb6f46be1",
     "prev": "52e9f502-8026-4507-b247-9c79bf9fb9f0",
     "regions": {
      "1d67919d-cfe4-4551-8230-ca6ebf1bc4ea": {
       "attrs": {
        "height": 0.8,
        "width": 0.8,
        "x": 0.1,
        "y": 0.1
       },
       "content": {
        "cell": "1459e7f5-e627-4e67-8782-f2465a3573c2",
        "part": "whole"
       },
       "id": "1d67919d-cfe4-4551-8230-ca6ebf1bc4ea"
      }
     }
    },
    "c1ab7572-bd76-4fdf-885c-01688247047f": {
     "id": "c1ab7572-bd76-4fdf-885c-01688247047f",
     "prev": "86b29f74-5c4a-4a09-8e0a-a5927a7726d1",
     "regions": {
      "6a00b775-f62f-4c79-8b31-9af16a819d2e": {
       "attrs": {
        "height": 0.8,
        "width": 0.8,
        "x": 0.1,
        "y": 0.1
       },
       "content": {
        "cell": "9e0651ba-8de7-4dc5-b53b-802712119c34",
        "part": "whole"
       },
       "id": "6a00b775-f62f-4c79-8b31-9af16a819d2e"
      }
     }
    },
    "c7dd747b-9ece-47be-a873-a28434e19910": {
     "id": "c7dd747b-9ece-47be-a873-a28434e19910",
     "prev": "a10ac9c3-aea1-4f96-aff1-4b1bec00347a",
     "regions": {
      "bf08a45e-ced3-49dd-b98b-9bf8dfde1192": {
       "attrs": {
        "height": 0.8,
        "width": 0.8,
        "x": 0.1,
        "y": 0.1
       },
       "content": {
        "cell": "8785c8bb-5c98-4f06-af77-ff2a58401eef",
        "part": "whole"
       },
       "id": "bf08a45e-ced3-49dd-b98b-9bf8dfde1192"
      }
     }
    },
    "c8ded23c-a7c1-4aa5-95d7-12581cb34853": {
     "id": "c8ded23c-a7c1-4aa5-95d7-12581cb34853",
     "prev": "cf0a4ee5-28c6-4b47-993c-c9955ff963fe",
     "regions": {
      "3743d146-e253-4fa8-9504-4a00becccb46": {
       "attrs": {
        "height": 0.8,
        "width": 0.8,
        "x": 0.1,
        "y": 0.1
       },
       "content": {
        "cell": "986c0a66-c9b0-454c-8197-5eb9908d931f",
        "part": "whole"
       },
       "id": "3743d146-e253-4fa8-9504-4a00becccb46"
      }
     }
    },
    "ca4ab4b7-aa7e-4682-8a46-aa7da47e2d29": {
     "id": "ca4ab4b7-aa7e-4682-8a46-aa7da47e2d29",
     "prev": "48255d65-f248-4748-ba30-591b2250df8e",
     "regions": {
      "db7e9ab7-1860-43d6-9eaf-441681be31d8": {
       "attrs": {
        "height": 0.8,
        "width": 0.8,
        "x": 0.1,
        "y": 0.1
       },
       "content": {
        "cell": "8c87cdbe-1b17-42b8-9a6e-b400232f6be7",
        "part": "whole"
       },
       "id": "db7e9ab7-1860-43d6-9eaf-441681be31d8"
      }
     }
    },
    "cf0a4ee5-28c6-4b47-993c-c9955ff963fe": {
     "id": "cf0a4ee5-28c6-4b47-993c-c9955ff963fe",
     "prev": "38d6f38b-204b-41ff-8ac6-96ba18054b38",
     "regions": {
      "edaf02ce-df82-41fb-a373-c84de1eeada8": {
       "attrs": {
        "height": 0.8,
        "width": 0.8,
        "x": 0.1,
        "y": 0.1
       },
       "content": {
        "cell": "3e8bcacd-a353-4fdc-a543-a1b39c3e1830",
        "part": "whole"
       },
       "id": "edaf02ce-df82-41fb-a373-c84de1eeada8"
      }
     }
    },
    "d600e150-0430-4f8b-81b4-3a23983ea1d4": {
     "id": "d600e150-0430-4f8b-81b4-3a23983ea1d4",
     "prev": "fc2db63b-ac6c-4bdc-9f44-10a04445b469",
     "regions": {
      "5994b8aa-382c-4154-ace4-4f3ca9704eab": {
       "attrs": {
        "height": 0.8,
        "width": 0.8,
        "x": 0.1,
        "y": 0.1
       },
       "content": {
        "cell": "a1a67c80-1dff-48b3-b0b8-00d11a11b541",
        "part": "whole"
       },
       "id": "5994b8aa-382c-4154-ace4-4f3ca9704eab"
      }
     }
    },
    "d74a7091-ffeb-4063-8b87-38cadd1a5963": {
     "id": "d74a7091-ffeb-4063-8b87-38cadd1a5963",
     "prev": "b3a253b6-7735-46ed-bb51-28b3e81be14d",
     "regions": {
      "30cd0fba-5fb7-48e4-b38e-ec44a6e800a7": {
       "attrs": {
        "height": 0.8,
        "width": 0.8,
        "x": 0.1,
        "y": 0.1
       },
       "content": {
        "cell": "8d983868-2814-42c6-bc77-5fe206c56bc5",
        "part": "whole"
       },
       "id": "30cd0fba-5fb7-48e4-b38e-ec44a6e800a7"
      }
     }
    },
    "dab73a8a-ee67-4508-8b48-eb467d219d98": {
     "id": "dab73a8a-ee67-4508-8b48-eb467d219d98",
     "prev": "3748fedb-cf4f-44f1-a15a-cc4ffd4f3738",
     "regions": {
      "711db7a7-bc42-4652-904d-22d23aa713de": {
       "attrs": {
        "height": 0.8,
        "width": 0.8,
        "x": 0.1,
        "y": 0.1
       },
       "content": {
        "cell": "742869d3-e0a6-4d87-856b-e81b549c1290",
        "part": "whole"
       },
       "id": "711db7a7-bc42-4652-904d-22d23aa713de"
      }
     }
    },
    "dae52d42-0fac-4789-baa7-3878ab8c748c": {
     "id": "dae52d42-0fac-4789-baa7-3878ab8c748c",
     "prev": "1be34a61-bfa7-4b63-806e-296a2ebd462b",
     "regions": {
      "7083f5d4-7f27-48d8-89f5-12db14f3863b": {
       "attrs": {
        "height": 0.8,
        "width": 0.8,
        "x": 0.1,
        "y": 0.1
       },
       "content": {
        "cell": "53850111-7f24-40e7-b04e-30ad0aefb0bc",
        "part": "whole"
       },
       "id": "7083f5d4-7f27-48d8-89f5-12db14f3863b"
      }
     }
    },
    "ea7cbb3e-8a0f-473e-a795-7b50a9175feb": {
     "id": "ea7cbb3e-8a0f-473e-a795-7b50a9175feb",
     "prev": "f0d6431e-d3bb-4c1e-81b0-bb0306d232b9",
     "regions": {
      "04c73b7a-d172-43c0-8e22-13f2987df08c": {
       "attrs": {
        "height": 0.8,
        "width": 0.8,
        "x": 0.1,
        "y": 0.1
       },
       "content": {
        "cell": "b3708903-4301-45bc-ab27-29e9be70a770",
        "part": "whole"
       },
       "id": "04c73b7a-d172-43c0-8e22-13f2987df08c"
      }
     }
    },
    "f0d6431e-d3bb-4c1e-81b0-bb0306d232b9": {
     "id": "f0d6431e-d3bb-4c1e-81b0-bb0306d232b9",
     "prev": "98af6278-114f-4813-a861-fbf7a24e57c3",
     "regions": {
      "3ffe4b5c-df7f-4f02-93a0-2ea35dc32324": {
       "attrs": {
        "height": 0.8,
        "width": 0.8,
        "x": 0.1,
        "y": 0.1
       },
       "content": {
        "cell": "304b0d2c-f24d-4c1c-bfd7-f8e7a2ef0322",
        "part": "whole"
       },
       "id": "3ffe4b5c-df7f-4f02-93a0-2ea35dc32324"
      }
     }
    },
    "fc2db63b-ac6c-4bdc-9f44-10a04445b469": {
     "id": "fc2db63b-ac6c-4bdc-9f44-10a04445b469",
     "prev": "45af3eb1-0043-47d3-9ae4-b634bbb4a1e4",
     "regions": {
      "aea9c374-65ae-4189-ab6c-dc815286e483": {
       "attrs": {
        "height": 0.8,
        "width": 0.8,
        "x": 0.1,
        "y": 0.1
       },
       "content": {
        "cell": "4b320f94-b248-4879-b6a3-d720261c871e",
        "part": "whole"
       },
       "id": "aea9c374-65ae-4189-ab6c-dc815286e483"
      }
     }
    }
   },
   "themes": {}
  }
 },
 "nbformat": 4,
 "nbformat_minor": 0
}
